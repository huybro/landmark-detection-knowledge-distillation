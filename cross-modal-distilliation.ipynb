{
 "cells": [
  {
   "cell_type": "code",
   "execution_count": 1,
   "id": "aa796d1e",
   "metadata": {
    "_cell_guid": "b1076dfc-b9ad-4769-8c92-a6c4dae69d19",
    "_uuid": "8f2839f25d086af736a60e9eeb907d3b93b6e0e5",
    "execution": {
     "iopub.execute_input": "2024-11-23T03:25:37.384801Z",
     "iopub.status.busy": "2024-11-23T03:25:37.384469Z",
     "iopub.status.idle": "2024-11-23T03:25:50.774143Z",
     "shell.execute_reply": "2024-11-23T03:25:50.773324Z"
    },
    "papermill": {
     "duration": 13.399293,
     "end_time": "2024-11-23T03:25:50.776082",
     "exception": false,
     "start_time": "2024-11-23T03:25:37.376789",
     "status": "completed"
    },
    "tags": []
   },
   "outputs": [
    {
     "name": "stdout",
     "output_type": "stream",
     "text": [
      "Collecting git+https://github.com/openai/CLIP.git\r\n",
      "  Cloning https://github.com/openai/CLIP.git to /tmp/pip-req-build-ufn2lhnj\r\n",
      "  Running command git clone --filter=blob:none --quiet https://github.com/openai/CLIP.git /tmp/pip-req-build-ufn2lhnj\r\n",
      "  Resolved https://github.com/openai/CLIP.git to commit dcba3cb2e2827b402d2701e7e1c7d9fed8a20ef1\r\n",
      "  Preparing metadata (setup.py) ... \u001b[?25l-\b \bdone\r\n",
      "\u001b[?25hCollecting ftfy (from clip==1.0)\r\n",
      "  Downloading ftfy-6.3.1-py3-none-any.whl.metadata (7.3 kB)\r\n",
      "Requirement already satisfied: packaging in /opt/conda/lib/python3.10/site-packages (from clip==1.0) (21.3)\r\n",
      "Requirement already satisfied: regex in /opt/conda/lib/python3.10/site-packages (from clip==1.0) (2024.5.15)\r\n",
      "Requirement already satisfied: tqdm in /opt/conda/lib/python3.10/site-packages (from clip==1.0) (4.66.4)\r\n",
      "Requirement already satisfied: torch in /opt/conda/lib/python3.10/site-packages (from clip==1.0) (2.4.0)\r\n",
      "Requirement already satisfied: torchvision in /opt/conda/lib/python3.10/site-packages (from clip==1.0) (0.19.0)\r\n",
      "Requirement already satisfied: wcwidth in /opt/conda/lib/python3.10/site-packages (from ftfy->clip==1.0) (0.2.13)\r\n",
      "Requirement already satisfied: pyparsing!=3.0.5,>=2.0.2 in /opt/conda/lib/python3.10/site-packages (from packaging->clip==1.0) (3.1.2)\r\n",
      "Requirement already satisfied: filelock in /opt/conda/lib/python3.10/site-packages (from torch->clip==1.0) (3.15.1)\r\n",
      "Requirement already satisfied: typing-extensions>=4.8.0 in /opt/conda/lib/python3.10/site-packages (from torch->clip==1.0) (4.12.2)\r\n",
      "Requirement already satisfied: sympy in /opt/conda/lib/python3.10/site-packages (from torch->clip==1.0) (1.13.3)\r\n",
      "Requirement already satisfied: networkx in /opt/conda/lib/python3.10/site-packages (from torch->clip==1.0) (3.3)\r\n",
      "Requirement already satisfied: jinja2 in /opt/conda/lib/python3.10/site-packages (from torch->clip==1.0) (3.1.4)\r\n",
      "Requirement already satisfied: fsspec in /opt/conda/lib/python3.10/site-packages (from torch->clip==1.0) (2024.6.1)\r\n",
      "Requirement already satisfied: numpy in /opt/conda/lib/python3.10/site-packages (from torchvision->clip==1.0) (1.26.4)\r\n",
      "Requirement already satisfied: pillow!=8.3.*,>=5.3.0 in /opt/conda/lib/python3.10/site-packages (from torchvision->clip==1.0) (10.3.0)\r\n",
      "Requirement already satisfied: MarkupSafe>=2.0 in /opt/conda/lib/python3.10/site-packages (from jinja2->torch->clip==1.0) (2.1.5)\r\n",
      "Requirement already satisfied: mpmath<1.4,>=1.1.0 in /opt/conda/lib/python3.10/site-packages (from sympy->torch->clip==1.0) (1.3.0)\r\n",
      "Downloading ftfy-6.3.1-py3-none-any.whl (44 kB)\r\n",
      "\u001b[2K   \u001b[90m━━━━━━━━━━━━━━━━━━━━━━━━━━━━━━━━━━━━━━━━\u001b[0m \u001b[32m44.8/44.8 kB\u001b[0m \u001b[31m2.3 MB/s\u001b[0m eta \u001b[36m0:00:00\u001b[0m\r\n",
      "\u001b[?25hBuilding wheels for collected packages: clip\r\n",
      "  Building wheel for clip (setup.py) ... \u001b[?25l-\b \b\\\b \bdone\r\n",
      "\u001b[?25h  Created wheel for clip: filename=clip-1.0-py3-none-any.whl size=1369490 sha256=db7f12a9759362347eae49281129631cd7132c2b4c5d1225e5a7c9cb7e239f03\r\n",
      "  Stored in directory: /tmp/pip-ephem-wheel-cache-2bgkol94/wheels/da/2b/4c/d6691fa9597aac8bb85d2ac13b112deb897d5b50f5ad9a37e4\r\n",
      "Successfully built clip\r\n",
      "Installing collected packages: ftfy, clip\r\n",
      "Successfully installed clip-1.0 ftfy-6.3.1\r\n"
     ]
    }
   ],
   "source": [
    "!pip install git+https://github.com/openai/CLIP.git"
   ]
  },
  {
   "cell_type": "code",
   "execution_count": 2,
   "id": "a7f90a00",
   "metadata": {
    "execution": {
     "iopub.execute_input": "2024-11-23T03:25:50.792002Z",
     "iopub.status.busy": "2024-11-23T03:25:50.791720Z",
     "iopub.status.idle": "2024-11-23T03:26:00.560386Z",
     "shell.execute_reply": "2024-11-23T03:26:00.559375Z"
    },
    "papermill": {
     "duration": 9.778188,
     "end_time": "2024-11-23T03:26:00.562391",
     "exception": false,
     "start_time": "2024-11-23T03:25:50.784203",
     "status": "completed"
    },
    "tags": []
   },
   "outputs": [
    {
     "name": "stdout",
     "output_type": "stream",
     "text": [
      "Requirement already satisfied: albumentations in /opt/conda/lib/python3.10/site-packages (1.4.17)\r\n",
      "Collecting albumentations\r\n",
      "  Downloading albumentations-1.4.21-py3-none-any.whl.metadata (31 kB)\r\n",
      "Requirement already satisfied: numpy>=1.24.4 in /opt/conda/lib/python3.10/site-packages (from albumentations) (1.26.4)\r\n",
      "Requirement already satisfied: scipy>=1.10.0 in /opt/conda/lib/python3.10/site-packages (from albumentations) (1.14.1)\r\n",
      "Requirement already satisfied: PyYAML in /opt/conda/lib/python3.10/site-packages (from albumentations) (6.0.2)\r\n",
      "Requirement already satisfied: pydantic>=2.7.0 in /opt/conda/lib/python3.10/site-packages (from albumentations) (2.9.2)\r\n",
      "Collecting albucore==0.0.20 (from albumentations)\r\n",
      "  Downloading albucore-0.0.20-py3-none-any.whl.metadata (5.3 kB)\r\n",
      "Requirement already satisfied: eval-type-backport in /opt/conda/lib/python3.10/site-packages (from albumentations) (0.2.0)\r\n",
      "Requirement already satisfied: opencv-python-headless>=4.9.0.80 in /opt/conda/lib/python3.10/site-packages (from albumentations) (4.10.0.84)\r\n",
      "Collecting stringzilla>=3.10.4 (from albucore==0.0.20->albumentations)\r\n",
      "  Downloading stringzilla-3.10.10-cp310-cp310-manylinux_2_5_x86_64.manylinux1_x86_64.manylinux_2_28_x86_64.whl.metadata (79 kB)\r\n",
      "\u001b[2K     \u001b[90m━━━━━━━━━━━━━━━━━━━━━━━━━━━━━━━━━━━━━━━━\u001b[0m \u001b[32m79.9/79.9 kB\u001b[0m \u001b[31m3.5 MB/s\u001b[0m eta \u001b[36m0:00:00\u001b[0m\r\n",
      "\u001b[?25hCollecting simsimd>=5.9.2 (from albucore==0.0.20->albumentations)\r\n",
      "  Downloading simsimd-6.1.1-cp310-cp310-manylinux_2_28_x86_64.whl.metadata (58 kB)\r\n",
      "\u001b[2K     \u001b[90m━━━━━━━━━━━━━━━━━━━━━━━━━━━━━━━━━━━━━━━━\u001b[0m \u001b[32m58.4/58.4 kB\u001b[0m \u001b[31m3.8 MB/s\u001b[0m eta \u001b[36m0:00:00\u001b[0m\r\n",
      "\u001b[?25hRequirement already satisfied: annotated-types>=0.6.0 in /opt/conda/lib/python3.10/site-packages (from pydantic>=2.7.0->albumentations) (0.7.0)\r\n",
      "Requirement already satisfied: pydantic-core==2.23.4 in /opt/conda/lib/python3.10/site-packages (from pydantic>=2.7.0->albumentations) (2.23.4)\r\n",
      "Requirement already satisfied: typing-extensions>=4.6.1 in /opt/conda/lib/python3.10/site-packages (from pydantic>=2.7.0->albumentations) (4.12.2)\r\n",
      "Downloading albumentations-1.4.21-py3-none-any.whl (227 kB)\r\n",
      "\u001b[2K   \u001b[90m━━━━━━━━━━━━━━━━━━━━━━━━━━━━━━━━━━━━━━━━\u001b[0m \u001b[32m227.9/227.9 kB\u001b[0m \u001b[31m11.2 MB/s\u001b[0m eta \u001b[36m0:00:00\u001b[0m\r\n",
      "\u001b[?25hDownloading albucore-0.0.20-py3-none-any.whl (12 kB)\r\n",
      "Downloading simsimd-6.1.1-cp310-cp310-manylinux_2_28_x86_64.whl (606 kB)\r\n",
      "\u001b[2K   \u001b[90m━━━━━━━━━━━━━━━━━━━━━━━━━━━━━━━━━━━━━━━━\u001b[0m \u001b[32m606.4/606.4 kB\u001b[0m \u001b[31m29.5 MB/s\u001b[0m eta \u001b[36m0:00:00\u001b[0m\r\n",
      "\u001b[?25hDownloading stringzilla-3.10.10-cp310-cp310-manylinux_2_5_x86_64.manylinux1_x86_64.manylinux_2_28_x86_64.whl (291 kB)\r\n",
      "\u001b[2K   \u001b[90m━━━━━━━━━━━━━━━━━━━━━━━━━━━━━━━━━━━━━━━━\u001b[0m \u001b[32m291.7/291.7 kB\u001b[0m \u001b[31m19.9 MB/s\u001b[0m eta \u001b[36m0:00:00\u001b[0m\r\n",
      "\u001b[?25hInstalling collected packages: stringzilla, simsimd, albucore, albumentations\r\n",
      "  Attempting uninstall: albucore\r\n",
      "    Found existing installation: albucore 0.0.17\r\n",
      "    Uninstalling albucore-0.0.17:\r\n",
      "      Successfully uninstalled albucore-0.0.17\r\n",
      "  Attempting uninstall: albumentations\r\n",
      "    Found existing installation: albumentations 1.4.17\r\n",
      "    Uninstalling albumentations-1.4.17:\r\n",
      "      Successfully uninstalled albumentations-1.4.17\r\n",
      "Successfully installed albucore-0.0.20 albumentations-1.4.21 simsimd-6.1.1 stringzilla-3.10.10\r\n",
      "Note: you may need to restart the kernel to use updated packages.\n"
     ]
    }
   ],
   "source": [
    "pip install -U albumentations"
   ]
  },
  {
   "cell_type": "markdown",
   "id": "941cfc8a",
   "metadata": {
    "papermill": {
     "duration": 0.007126,
     "end_time": "2024-11-23T03:26:00.577569",
     "exception": false,
     "start_time": "2024-11-23T03:26:00.570443",
     "status": "completed"
    },
    "tags": []
   },
   "source": [
    "# Import"
   ]
  },
  {
   "cell_type": "code",
   "execution_count": 3,
   "id": "3359a951",
   "metadata": {
    "execution": {
     "iopub.execute_input": "2024-11-23T03:26:00.593334Z",
     "iopub.status.busy": "2024-11-23T03:26:00.593019Z",
     "iopub.status.idle": "2024-11-23T03:26:10.364576Z",
     "shell.execute_reply": "2024-11-23T03:26:10.363673Z"
    },
    "papermill": {
     "duration": 9.781873,
     "end_time": "2024-11-23T03:26:10.366643",
     "exception": false,
     "start_time": "2024-11-23T03:26:00.584770",
     "status": "completed"
    },
    "tags": []
   },
   "outputs": [],
   "source": [
    "import os\n",
    "\n",
    "import gc\n",
    "\n",
    "import sys\n",
    "\n",
    "from PIL import Image\n",
    "\n",
    "import cv2\n",
    "\n",
    "import math, random\n",
    "\n",
    "import numpy as np\n",
    "\n",
    "import pandas as pd\n",
    "\n",
    "from glob import glob\n",
    "\n",
    "from tqdm import tqdm\n",
    "\n",
    "import matplotlib.pyplot as plt\n",
    "\n",
    "from sklearn.model_selection import KFold, GroupKFold, StratifiedKFold\n",
    "\n",
    "\n",
    "\n",
    "from collections import OrderedDict\n",
    "\n",
    "\n",
    "\n",
    "import torch\n",
    "\n",
    "import torch.nn.functional as F\n",
    "\n",
    "from torch import nn\n",
    "\n",
    "from torch.utils.data import DataLoader, Dataset\n",
    "\n",
    "from torch.optim import AdamW\n",
    "\n",
    "\n",
    "\n",
    "import timm\n",
    "\n",
    "from transformers import get_cosine_schedule_with_warmup\n",
    "\n",
    "\n",
    "\n",
    "import albumentations as A\n",
    "\n",
    "from sklearn.preprocessing import LabelEncoder\n",
    "\n",
    "import clip\n",
    "\n",
    "\n",
    "\n",
    "from torch.cuda.amp import autocast, GradScaler\n",
    "\n",
    "from torch.utils.data import DataLoader\n",
    "\n",
    "import wandb\n",
    "\n",
    "from tqdm import tqdm"
   ]
  },
  {
   "cell_type": "code",
   "execution_count": 4,
   "id": "1b28c773",
   "metadata": {
    "execution": {
     "iopub.execute_input": "2024-11-23T03:26:10.382757Z",
     "iopub.status.busy": "2024-11-23T03:26:10.382327Z",
     "iopub.status.idle": "2024-11-23T03:26:10.389352Z",
     "shell.execute_reply": "2024-11-23T03:26:10.388558Z"
    },
    "papermill": {
     "duration": 0.016725,
     "end_time": "2024-11-23T03:26:10.390974",
     "exception": false,
     "start_time": "2024-11-23T03:26:10.374249",
     "status": "completed"
    },
    "tags": []
   },
   "outputs": [],
   "source": [
    "device = 'cuda:0' if torch.cuda.is_available() else 'cpu'\n",
    "\n",
    "DEBUG = False\n",
    "\n",
    "N_WORKERS = os.cpu_count() \n",
    "\n",
    "USE_AMP = False # can change True if using T4 or newer than Ampere\n",
    "\n",
    "SEED = 42\n",
    "\n",
    "CLIP_MODEL_NAME = \"RN101\"\n",
    "\n",
    "IMG_SIZE = [224, 224]\n",
    "\n",
    "AUG_PROB = 0.2\n",
    "\n",
    "BATCH_SIZE = 64\n",
    "\n",
    "EPOCHS = 5\n",
    "\n",
    "if DEBUG:\n",
    "\n",
    "    EPOCHS = 3\n",
    "\n",
    "GRAD_ACC = 1\n",
    "\n",
    "N_FOLDS = 5\n",
    "\n",
    "MAX_GRAD_NORM = None\n",
    "\n",
    "EARLY_STOPPING_EPOCH = 3\n",
    "\n",
    "OUTPUT_DIR = f'clip_landmark_results'"
   ]
  },
  {
   "cell_type": "code",
   "execution_count": 5,
   "id": "addbbb79",
   "metadata": {
    "execution": {
     "iopub.execute_input": "2024-11-23T03:26:10.406205Z",
     "iopub.status.busy": "2024-11-23T03:26:10.405931Z",
     "iopub.status.idle": "2024-11-23T03:26:10.409858Z",
     "shell.execute_reply": "2024-11-23T03:26:10.409059Z"
    },
    "papermill": {
     "duration": 0.013166,
     "end_time": "2024-11-23T03:26:10.411420",
     "exception": false,
     "start_time": "2024-11-23T03:26:10.398254",
     "status": "completed"
    },
    "tags": []
   },
   "outputs": [],
   "source": [
    "os.makedirs(OUTPUT_DIR, exist_ok=True)"
   ]
  },
  {
   "cell_type": "code",
   "execution_count": 6,
   "id": "a9b7bd82",
   "metadata": {
    "execution": {
     "iopub.execute_input": "2024-11-23T03:26:10.426631Z",
     "iopub.status.busy": "2024-11-23T03:26:10.426370Z",
     "iopub.status.idle": "2024-11-23T03:26:11.596123Z",
     "shell.execute_reply": "2024-11-23T03:26:11.595249Z"
    },
    "papermill": {
     "duration": 1.179625,
     "end_time": "2024-11-23T03:26:11.598171",
     "exception": false,
     "start_time": "2024-11-23T03:26:10.418546",
     "status": "completed"
    },
    "tags": []
   },
   "outputs": [
    {
     "data": {
      "text/html": [
       "<div>\n",
       "<style scoped>\n",
       "    .dataframe tbody tr th:only-of-type {\n",
       "        vertical-align: middle;\n",
       "    }\n",
       "\n",
       "    .dataframe tbody tr th {\n",
       "        vertical-align: top;\n",
       "    }\n",
       "\n",
       "    .dataframe thead th {\n",
       "        text-align: right;\n",
       "    }\n",
       "</style>\n",
       "<table border=\"1\" class=\"dataframe\">\n",
       "  <thead>\n",
       "    <tr style=\"text-align: right;\">\n",
       "      <th></th>\n",
       "      <th>id</th>\n",
       "      <th>landmark_id</th>\n",
       "      <th>category</th>\n",
       "      <th>supercategory</th>\n",
       "      <th>hierarchical_label</th>\n",
       "      <th>natural_or_human_made</th>\n",
       "      <th>cleaned_supercategory</th>\n",
       "      <th>location</th>\n",
       "      <th>country</th>\n",
       "      <th>image_path</th>\n",
       "      <th>landmark_name</th>\n",
       "    </tr>\n",
       "  </thead>\n",
       "  <tbody>\n",
       "    <tr>\n",
       "      <th>0</th>\n",
       "      <td>87a5dfadcaeba144</td>\n",
       "      <td>93036</td>\n",
       "      <td>http://commons.wikimedia.org/wiki/Category:Nav...</td>\n",
       "      <td>naval base</td>\n",
       "      <td>harbor</td>\n",
       "      <td>human-made</td>\n",
       "      <td>naval base</td>\n",
       "      <td>Guantánamo Province , Cuba</td>\n",
       "      <td>Cuba</td>\n",
       "      <td>/kaggle/input/google-landmarks-v2-index-set-p3...</td>\n",
       "      <td>Naval Station Guantanamo Bay</td>\n",
       "    </tr>\n",
       "    <tr>\n",
       "      <th>1</th>\n",
       "      <td>53824bfa2b3e569c</td>\n",
       "      <td>93036</td>\n",
       "      <td>http://commons.wikimedia.org/wiki/Category:Nav...</td>\n",
       "      <td>naval base</td>\n",
       "      <td>harbor</td>\n",
       "      <td>human-made</td>\n",
       "      <td>naval base</td>\n",
       "      <td>Guantánamo Province , Cuba</td>\n",
       "      <td>Cuba</td>\n",
       "      <td>/kaggle/input/google-landmarks-v2-index-set-p2...</td>\n",
       "      <td>Naval Station Guantanamo Bay</td>\n",
       "    </tr>\n",
       "    <tr>\n",
       "      <th>2</th>\n",
       "      <td>080a99cff9666667</td>\n",
       "      <td>93036</td>\n",
       "      <td>http://commons.wikimedia.org/wiki/Category:Nav...</td>\n",
       "      <td>naval base</td>\n",
       "      <td>harbor</td>\n",
       "      <td>human-made</td>\n",
       "      <td>naval base</td>\n",
       "      <td>Guantánamo Province , Cuba</td>\n",
       "      <td>Cuba</td>\n",
       "      <td>/kaggle/input/google-landmarks-v2-index-set-p1...</td>\n",
       "      <td>Naval Station Guantanamo Bay</td>\n",
       "    </tr>\n",
       "    <tr>\n",
       "      <th>3</th>\n",
       "      <td>b86710311289fa90</td>\n",
       "      <td>93036</td>\n",
       "      <td>http://commons.wikimedia.org/wiki/Category:Nav...</td>\n",
       "      <td>naval base</td>\n",
       "      <td>harbor</td>\n",
       "      <td>human-made</td>\n",
       "      <td>naval base</td>\n",
       "      <td>Guantánamo Province , Cuba</td>\n",
       "      <td>Cuba</td>\n",
       "      <td>/kaggle/input/google-landmarks-v2-index-set-p4...</td>\n",
       "      <td>Naval Station Guantanamo Bay</td>\n",
       "    </tr>\n",
       "    <tr>\n",
       "      <th>4</th>\n",
       "      <td>5554c986662c2587</td>\n",
       "      <td>93036</td>\n",
       "      <td>http://commons.wikimedia.org/wiki/Category:Nav...</td>\n",
       "      <td>naval base</td>\n",
       "      <td>harbor</td>\n",
       "      <td>human-made</td>\n",
       "      <td>naval base</td>\n",
       "      <td>Guantánamo Province , Cuba</td>\n",
       "      <td>Cuba</td>\n",
       "      <td>/kaggle/input/google-landmarks-v2-index-set-p2...</td>\n",
       "      <td>Naval Station Guantanamo Bay</td>\n",
       "    </tr>\n",
       "  </tbody>\n",
       "</table>\n",
       "</div>"
      ],
      "text/plain": [
       "                 id  landmark_id  \\\n",
       "0  87a5dfadcaeba144        93036   \n",
       "1  53824bfa2b3e569c        93036   \n",
       "2  080a99cff9666667        93036   \n",
       "3  b86710311289fa90        93036   \n",
       "4  5554c986662c2587        93036   \n",
       "\n",
       "                                            category supercategory  \\\n",
       "0  http://commons.wikimedia.org/wiki/Category:Nav...    naval base   \n",
       "1  http://commons.wikimedia.org/wiki/Category:Nav...    naval base   \n",
       "2  http://commons.wikimedia.org/wiki/Category:Nav...    naval base   \n",
       "3  http://commons.wikimedia.org/wiki/Category:Nav...    naval base   \n",
       "4  http://commons.wikimedia.org/wiki/Category:Nav...    naval base   \n",
       "\n",
       "  hierarchical_label natural_or_human_made cleaned_supercategory  \\\n",
       "0             harbor            human-made            naval base   \n",
       "1             harbor            human-made            naval base   \n",
       "2             harbor            human-made            naval base   \n",
       "3             harbor            human-made            naval base   \n",
       "4             harbor            human-made            naval base   \n",
       "\n",
       "                     location country  \\\n",
       "0  Guantánamo Province , Cuba    Cuba   \n",
       "1  Guantánamo Province , Cuba    Cuba   \n",
       "2  Guantánamo Province , Cuba    Cuba   \n",
       "3  Guantánamo Province , Cuba    Cuba   \n",
       "4  Guantánamo Province , Cuba    Cuba   \n",
       "\n",
       "                                          image_path  \\\n",
       "0  /kaggle/input/google-landmarks-v2-index-set-p3...   \n",
       "1  /kaggle/input/google-landmarks-v2-index-set-p2...   \n",
       "2  /kaggle/input/google-landmarks-v2-index-set-p1...   \n",
       "3  /kaggle/input/google-landmarks-v2-index-set-p4...   \n",
       "4  /kaggle/input/google-landmarks-v2-index-set-p2...   \n",
       "\n",
       "                  landmark_name  \n",
       "0  Naval Station Guantanamo Bay  \n",
       "1  Naval Station Guantanamo Bay  \n",
       "2  Naval Station Guantanamo Bay  \n",
       "3  Naval Station Guantanamo Bay  \n",
       "4  Naval Station Guantanamo Bay  "
      ]
     },
     "execution_count": 6,
     "metadata": {},
     "output_type": "execute_result"
    }
   ],
   "source": [
    "train_df = pd.read_csv(\"/kaggle/input/google-landmarks-v2-index-subset-metadata/cleaned_landmark_index_subset_150k_with_locations_v4.csv\")\n",
    "\n",
    "if DEBUG:\n",
    "\n",
    "    # Reduce to 1000 samples for quick debugging\n",
    "\n",
    "    train_df = train_df.sample(1000, random_state=42).reset_index(drop=True)\n",
    "\n",
    "train_df.head()"
   ]
  },
  {
   "cell_type": "code",
   "execution_count": 7,
   "id": "c66bec3d",
   "metadata": {
    "execution": {
     "iopub.execute_input": "2024-11-23T03:26:11.614920Z",
     "iopub.status.busy": "2024-11-23T03:26:11.614643Z",
     "iopub.status.idle": "2024-11-23T03:26:11.644454Z",
     "shell.execute_reply": "2024-11-23T03:26:11.643835Z"
    },
    "papermill": {
     "duration": 0.039898,
     "end_time": "2024-11-23T03:26:11.646008",
     "exception": false,
     "start_time": "2024-11-23T03:26:11.606110",
     "status": "completed"
    },
    "tags": []
   },
   "outputs": [],
   "source": [
    "N_CLASSES = train_df.landmark_name.nunique()\n",
    "\n",
    "class_names = train_df.landmark_name.unique()"
   ]
  },
  {
   "cell_type": "code",
   "execution_count": 8,
   "id": "4410711a",
   "metadata": {
    "execution": {
     "iopub.execute_input": "2024-11-23T03:26:11.661700Z",
     "iopub.status.busy": "2024-11-23T03:26:11.661439Z",
     "iopub.status.idle": "2024-11-23T03:26:21.730162Z",
     "shell.execute_reply": "2024-11-23T03:26:21.729384Z"
    },
    "papermill": {
     "duration": 10.078985,
     "end_time": "2024-11-23T03:26:21.732383",
     "exception": false,
     "start_time": "2024-11-23T03:26:11.653398",
     "status": "completed"
    },
    "tags": []
   },
   "outputs": [
    {
     "name": "stderr",
     "output_type": "stream",
     "text": [
      "100%|████████████████████████████████████████| 278M/278M [00:02<00:00, 104MiB/s]\n"
     ]
    }
   ],
   "source": [
    "# Load CLIP model\n",
    "\n",
    "embedding_device = device\n",
    "\n",
    "model, _ = clip.load(CLIP_MODEL_NAME, device=embedding_device)\n",
    "\n",
    "\n",
    "\n",
    "# Define class names and tokenize\n",
    "\n",
    "text_prompts = [f\"A photo of {name} or its part\" for name in class_names]\n",
    "\n",
    "text_tokens = clip.tokenize(text_prompts).to(embedding_device)\n",
    "\n",
    "\n",
    "\n",
    "# Compute text embeddings\n",
    "\n",
    "with torch.no_grad():\n",
    "\n",
    "    text_embeddings = model.encode_text(text_tokens)\n",
    "\n",
    "text_embeddings = text_embeddings / text_embeddings.norm(dim=-1, keepdim=True)  # Normalize for cosine similarity\n",
    "\n",
    "text_embeddings = text_embeddings.float()\n",
    "torch.save(text_embeddings,'text_embeddings.pt')"
   ]
  },
  {
   "cell_type": "code",
   "execution_count": 9,
   "id": "913bd2f5",
   "metadata": {
    "execution": {
     "iopub.execute_input": "2024-11-23T03:26:21.751753Z",
     "iopub.status.busy": "2024-11-23T03:26:21.751467Z",
     "iopub.status.idle": "2024-11-23T03:26:21.756527Z",
     "shell.execute_reply": "2024-11-23T03:26:21.755803Z"
    },
    "papermill": {
     "duration": 0.016206,
     "end_time": "2024-11-23T03:26:21.758072",
     "exception": false,
     "start_time": "2024-11-23T03:26:21.741866",
     "status": "completed"
    },
    "tags": []
   },
   "outputs": [
    {
     "data": {
      "text/plain": [
       "'text_embeddings = torch.load(\"/kaggle/input/text_embeddings/pytorch/default/1/text_embeddings.pt\", weights_only=True)'"
      ]
     },
     "execution_count": 9,
     "metadata": {},
     "output_type": "execute_result"
    }
   ],
   "source": [
    "\"\"\"text_embeddings = torch.load(\"/kaggle/input/text_embeddings/pytorch/default/1/text_embeddings.pt\", weights_only=True)\"\"\""
   ]
  },
  {
   "cell_type": "code",
   "execution_count": 10,
   "id": "113409ab",
   "metadata": {
    "execution": {
     "iopub.execute_input": "2024-11-23T03:26:21.777106Z",
     "iopub.status.busy": "2024-11-23T03:26:21.776837Z",
     "iopub.status.idle": "2024-11-23T03:26:21.781617Z",
     "shell.execute_reply": "2024-11-23T03:26:21.781005Z"
    },
    "papermill": {
     "duration": 0.015933,
     "end_time": "2024-11-23T03:26:21.783146",
     "exception": false,
     "start_time": "2024-11-23T03:26:21.767213",
     "status": "completed"
    },
    "tags": []
   },
   "outputs": [],
   "source": [
    "class_name_to_idx = {name: idx for idx, name in enumerate(class_names)}\n",
    "\n",
    "idx_to_class_name = {idx: class_name for class_name, idx in class_name_to_idx.items()}"
   ]
  },
  {
   "cell_type": "code",
   "execution_count": 11,
   "id": "dfc45649",
   "metadata": {
    "execution": {
     "iopub.execute_input": "2024-11-23T03:26:21.801465Z",
     "iopub.status.busy": "2024-11-23T03:26:21.801206Z",
     "iopub.status.idle": "2024-11-23T03:26:21.818818Z",
     "shell.execute_reply": "2024-11-23T03:26:21.817978Z"
    },
    "papermill": {
     "duration": 0.028694,
     "end_time": "2024-11-23T03:26:21.820464",
     "exception": false,
     "start_time": "2024-11-23T03:26:21.791770",
     "status": "completed"
    },
    "tags": []
   },
   "outputs": [
    {
     "name": "stderr",
     "output_type": "stream",
     "text": [
      "/opt/conda/lib/python3.10/site-packages/pydantic/main.py:212: UserWarning: blur_limit and sigma_limit minimum value can not be both equal to 0. blur_limit minimum value changed to 3.\n",
      "  validated_self = self.__pydantic_validator__.validate_python(data, self_instance=self)\n"
     ]
    }
   ],
   "source": [
    "transforms_train = A.Compose([\n",
    "\n",
    "    A.RandomBrightnessContrast(brightness_limit=(-0.2, 0.2), contrast_limit=(-0.2, 0.2), p=AUG_PROB),\n",
    "\n",
    "    A.OneOf([\n",
    "\n",
    "        A.MotionBlur(blur_limit=5),\n",
    "\n",
    "        A.MedianBlur(blur_limit=5),\n",
    "\n",
    "        A.GaussianBlur(blur_limit=5),\n",
    "\n",
    "        A.GaussNoise(var_limit=(5.0, 30.0)),\n",
    "\n",
    "    ], p=AUG_PROB),\n",
    "\n",
    "\n",
    "\n",
    "    A.OneOf([\n",
    "\n",
    "        A.OpticalDistortion(distort_limit=1.0),\n",
    "\n",
    "        A.GridDistortion(num_steps=5, distort_limit=1.),\n",
    "\n",
    "        A.ElasticTransform(alpha=3),\n",
    "\n",
    "    ], p=AUG_PROB),\n",
    "\n",
    "\n",
    "\n",
    "    A.ShiftScaleRotate(shift_limit=0.1, scale_limit=0.1, rotate_limit=15, border_mode=0, p=AUG_PROB),\n",
    "\n",
    "    A.Resize(IMG_SIZE[0], IMG_SIZE[1]),\n",
    "\n",
    "    A.CoarseDropout(max_holes=8, max_height=32, max_width=32, min_holes=1, min_height=8, min_width=8, p=AUG_PROB),    \n",
    "\n",
    "    A.Normalize(mean=[0.48145466, 0.4578275, 0.40821073], \n",
    "\n",
    "                         std=[0.26862954, 0.26130258, 0.27577711])\n",
    "\n",
    "])\n",
    "\n",
    "\n",
    "\n",
    "transforms_val = A.Compose([\n",
    "\n",
    "    A.Resize(IMG_SIZE[0], IMG_SIZE[1]),\n",
    "\n",
    "    A.Normalize(mean=[0.48145466, 0.4578275, 0.40821073], \n",
    "\n",
    "                         std=[0.26862954, 0.26130258, 0.27577711])\n",
    "\n",
    "])"
   ]
  },
  {
   "cell_type": "code",
   "execution_count": 12,
   "id": "caad7421",
   "metadata": {
    "execution": {
     "iopub.execute_input": "2024-11-23T03:26:21.839446Z",
     "iopub.status.busy": "2024-11-23T03:26:21.839168Z",
     "iopub.status.idle": "2024-11-23T03:26:21.845045Z",
     "shell.execute_reply": "2024-11-23T03:26:21.844375Z"
    },
    "papermill": {
     "duration": 0.017416,
     "end_time": "2024-11-23T03:26:21.846613",
     "exception": false,
     "start_time": "2024-11-23T03:26:21.829197",
     "status": "completed"
    },
    "tags": []
   },
   "outputs": [],
   "source": [
    "class GoogleLandmarksDataset(Dataset):\n",
    "\n",
    "    def __init__(self, df, class_name_to_idx, transform=None):\n",
    "\n",
    "        self.df = df\n",
    "\n",
    "        self.class_name_to_idx = class_name_to_idx  # Maps class name to index\n",
    "\n",
    "        self.transform = transform\n",
    "\n",
    "    \n",
    "\n",
    "    def __len__(self):\n",
    "\n",
    "        return len(self.df)\n",
    "\n",
    "\n",
    "\n",
    "    def __getitem__(self, idx):\n",
    "\n",
    "        t = self.df.iloc[idx]\n",
    "\n",
    "        class_name = t['landmark_name']\n",
    "\n",
    "        class_name_idx = self.class_name_to_idx[class_name]\n",
    "\n",
    "        \n",
    "\n",
    "        p = f'{t[\"image_path\"]}'\n",
    "\n",
    "        img = Image.open(p)\n",
    "\n",
    "        img = np.array(img)\n",
    "\n",
    "            \n",
    "\n",
    "        # Apply transformations if provided\n",
    "\n",
    "        if self.transform:\n",
    "\n",
    "            img = self.transform(image=np.array(img))['image']\n",
    "\n",
    "        \n",
    "\n",
    "        # Convert image to tensor if needed\n",
    "\n",
    "        if not isinstance(img, torch.Tensor):\n",
    "\n",
    "            img = torch.tensor(img.transpose(2, 0, 1), dtype=torch.float32)\n",
    "\n",
    "        \n",
    "\n",
    "        return img, class_name_idx\n"
   ]
  },
  {
   "cell_type": "code",
   "execution_count": 13,
   "id": "b7558797",
   "metadata": {
    "execution": {
     "iopub.execute_input": "2024-11-23T03:26:21.864922Z",
     "iopub.status.busy": "2024-11-23T03:26:21.864683Z",
     "iopub.status.idle": "2024-11-23T03:26:21.875204Z",
     "shell.execute_reply": "2024-11-23T03:26:21.874446Z"
    },
    "papermill": {
     "duration": 0.021375,
     "end_time": "2024-11-23T03:26:21.876749",
     "exception": false,
     "start_time": "2024-11-23T03:26:21.855374",
     "status": "completed"
    },
    "tags": []
   },
   "outputs": [],
   "source": [
    "class CrossModalDistillationModel(nn.Module):\n",
    "    def __init__(self, teacher_model, student_model, text_embeddings, projection_dim=512):\n",
    "        super().__init__()\n",
    "        self.teacher = teacher_model\n",
    "        self.student = student_model\n",
    "        self.text_embeddings = text_embeddings\n",
    "        \n",
    "        # Freeze teacher\n",
    "        for param in self.teacher.parameters():\n",
    "            param.requires_grad = False\n",
    "        \n",
    "        # Get student features dimension\n",
    "        in_features = student_model.get_classifier().in_features\n",
    "        num_classes = student_model.get_classifier().out_features\n",
    "        \n",
    "        # Improved projection head with residual connections\n",
    "        self.projection_head = nn.Sequential(\n",
    "            nn.Linear(in_features, 1024),\n",
    "            nn.LayerNorm(1024),  # Layer norm instead of batch norm\n",
    "            nn.ReLU(),\n",
    "            nn.Dropout(0.2),\n",
    "            nn.Linear(1024, 1024),\n",
    "            nn.LayerNorm(1024),\n",
    "            nn.ReLU(),\n",
    "            nn.Dropout(0.1),\n",
    "            nn.Linear(1024, projection_dim)\n",
    "        )\n",
    "        \n",
    "        # Improved classifier with bottleneck\n",
    "        self.classifier = nn.Sequential(\n",
    "            nn.Linear(in_features, 1024),\n",
    "            nn.LayerNorm(1024),\n",
    "            nn.ReLU(),\n",
    "            nn.Dropout(0.1),\n",
    "            nn.Linear(1024, num_classes)\n",
    "        )\n",
    "        \n",
    "        # Temperature parameter with better initialization\n",
    "        self.temperature = nn.Parameter(torch.log(torch.ones([]) / 0.07))\n",
    "        \n",
    "        # Initialize weights properly\n",
    "        self._initialize_weights()\n",
    "    \n",
    "    def _initialize_weights(self):\n",
    "        \"\"\"\n",
    "        Proper weight initialization for better training\n",
    "        \"\"\"\n",
    "        for m in self.modules():\n",
    "            if isinstance(m, nn.Linear):\n",
    "                nn.init.kaiming_normal_(m.weight, mode='fan_out', nonlinearity='relu')\n",
    "                if m.bias is not None:\n",
    "                    nn.init.constant_(m.bias, 0)\n",
    "            elif isinstance(m, nn.LayerNorm):\n",
    "                nn.init.constant_(m.weight, 1)\n",
    "                nn.init.constant_(m.bias, 0)\n",
    "    \n",
    "    def forward(self, images, return_features=True):\n",
    "        batch_size = images.size(0)\n",
    "        \n",
    "        # Teacher forward pass with gradient checkpointing for memory efficiency\n",
    "        with torch.no_grad(), torch.cuda.amp.autocast():\n",
    "            teacher_logits, teacher_features = self.teacher(images)\n",
    "            \n",
    "        # Student forward pass\n",
    "        student_features = self.student.forward_features(images)\n",
    "        \n",
    "        # Global average pooling with better numerical stability\n",
    "        student_features = F.adaptive_avg_pool2d(student_features, (1, 1))\n",
    "        student_features = student_features.view(batch_size, -1)\n",
    "        \n",
    "        # Project student features\n",
    "        student_projected = self.projection_head(student_features)\n",
    "        student_projected = F.normalize(student_projected, dim=-1)\n",
    "        \n",
    "        # Compute classification logits\n",
    "        student_logits = self.classifier(student_features)\n",
    "        \n",
    "        if return_features:\n",
    "            return {\n",
    "                'teacher_logits': teacher_logits,\n",
    "                'student_logits': student_logits,\n",
    "                'teacher_features': teacher_features,\n",
    "                'student_projected': student_projected,\n",
    "                'student_features': student_features,\n",
    "                'temperature': self.temperature.exp()  # Useful for monitoring\n",
    "            }\n",
    "        return student_logits\n",
    "    \n",
    "    def get_last_selfattention(self, x):\n",
    "        \"\"\"\n",
    "        Get attention maps for visualization\n",
    "        \"\"\"\n",
    "        return self.student.get_last_selfattention(x)"
   ]
  },
  {
   "cell_type": "code",
   "execution_count": 14,
   "id": "c49f94be",
   "metadata": {
    "execution": {
     "iopub.execute_input": "2024-11-23T03:26:21.894931Z",
     "iopub.status.busy": "2024-11-23T03:26:21.894692Z",
     "iopub.status.idle": "2024-11-23T03:26:21.900274Z",
     "shell.execute_reply": "2024-11-23T03:26:21.899628Z"
    },
    "papermill": {
     "duration": 0.0164,
     "end_time": "2024-11-23T03:26:21.901812",
     "exception": false,
     "start_time": "2024-11-23T03:26:21.885412",
     "status": "completed"
    },
    "tags": []
   },
   "outputs": [],
   "source": [
    "class GoogleLandmarksModel(nn.Module):\n",
    "    def __init__(self, text_embeddings, model_name=CLIP_MODEL_NAME, device=device):\n",
    "        super(GoogleLandmarksModel, self).__init__()\n",
    "        # Load the CLIP model\n",
    "        self.model, _ = clip.load(model_name, device=device)\n",
    "        \n",
    "        # Store the precomputed text embeddings\n",
    "        self.text_embeddings = text_embeddings\n",
    "        self.text_embeddings.requires_grad = False\n",
    "        \n",
    "        # Freeze the text encoder to save memory and computation\n",
    "        for param in self.model.transformer.parameters():\n",
    "            param.requires_grad = False\n",
    "\n",
    "    def forward(self, images):\n",
    "        # Compute image embeddings\n",
    "        image_embeddings = self.model.encode_image(images)\n",
    "        \n",
    "        # Normalize image embeddings without in-place operation\n",
    "        image_embeddings = image_embeddings / image_embeddings.norm(dim=-1, keepdim=True)\n",
    "        \n",
    "        # Check and match data types for mixed precision\n",
    "        if image_embeddings.dtype != self.text_embeddings.dtype:\n",
    "            text_embeddings = self.text_embeddings.to(image_embeddings.dtype)\n",
    "        else:\n",
    "            text_embeddings = self.text_embeddings\n",
    "        \n",
    "        # Compute cosine similarity with text embeddings\n",
    "        similarity = image_embeddings @ self.text_embeddings.T\n",
    "        return similarity, image_embeddings  # Similarity scores for each class"
   ]
  },
  {
   "cell_type": "code",
   "execution_count": 15,
   "id": "cfde1c0f",
   "metadata": {
    "execution": {
     "iopub.execute_input": "2024-11-23T03:26:21.920013Z",
     "iopub.status.busy": "2024-11-23T03:26:21.919563Z",
     "iopub.status.idle": "2024-11-23T03:26:21.924047Z",
     "shell.execute_reply": "2024-11-23T03:26:21.923296Z"
    },
    "papermill": {
     "duration": 0.015272,
     "end_time": "2024-11-23T03:26:21.925709",
     "exception": false,
     "start_time": "2024-11-23T03:26:21.910437",
     "status": "completed"
    },
    "tags": []
   },
   "outputs": [],
   "source": [
    "class Config:\n",
    "\n",
    "    def __init__(self):\n",
    "\n",
    "        self.alpha = 0.4\n",
    "\n",
    "        self.beta = 0.2\n",
    "\n",
    "        self.gamma = 0.4\n",
    "\n",
    "        self.temperature = 2.0\n",
    "\n",
    "        self.device = device\n",
    "\n",
    "        self.batch_size = BATCH_SIZE\n",
    "\n",
    "        self.n_workers = N_WORKERS\n",
    "\n",
    "        self.max_grad_norm = MAX_GRAD_NORM\n",
    "\n",
    "        self.log_interval = 100\n",
    "\n",
    "        self.use_amp = False\n",
    "\n",
    "        self.use_wandb = False  # Set to True if using wandb\n",
    "\n",
    "        self.warmup_steps = 100\n",
    "\n",
    "        self.gradient_accumulation_steps = 1"
   ]
  },
  {
   "cell_type": "code",
   "execution_count": 16,
   "id": "0af317e5",
   "metadata": {
    "execution": {
     "iopub.execute_input": "2024-11-23T03:26:21.944311Z",
     "iopub.status.busy": "2024-11-23T03:26:21.944042Z",
     "iopub.status.idle": "2024-11-23T03:26:21.955061Z",
     "shell.execute_reply": "2024-11-23T03:26:21.954325Z"
    },
    "papermill": {
     "duration": 0.022108,
     "end_time": "2024-11-23T03:26:21.956597",
     "exception": false,
     "start_time": "2024-11-23T03:26:21.934489",
     "status": "completed"
    },
    "tags": []
   },
   "outputs": [],
   "source": [
    "class EnhancedDistillationLoss(nn.Module):\n",
    "    def __init__(self, config):\n",
    "        super().__init__()\n",
    "        self.alpha = config.alpha  # KD loss weight\n",
    "        self.beta = config.beta    # Feature alignment weight\n",
    "        self.gamma = config.gamma  # CE loss weight\n",
    "        self.temperature = config.temperature\n",
    "        self.contrastive_weight = 0.1\n",
    "        \n",
    "    def contrastive_loss(self, features, labels):\n",
    "        \"\"\"\n",
    "        Improved contrastive loss with better numerical stability\n",
    "        \"\"\"\n",
    "        # Normalize features for better stability\n",
    "        features = F.normalize(features, dim=1)\n",
    "        \n",
    "        # Compute similarity matrix\n",
    "        similarity = torch.matmul(features, features.t())\n",
    "        \n",
    "        # Create label mask for positive pairs\n",
    "        labels = labels.view(-1, 1)\n",
    "        mask = (labels == labels.T).float()\n",
    "        \n",
    "        # Remove diagonal from mask (self-pairs)\n",
    "        mask = mask.fill_diagonal_(0)\n",
    "        \n",
    "        # Temperature-scaled similarities with numerical stability\n",
    "        similarity = similarity / self.temperature\n",
    "        \n",
    "        # Stable version of exp(similarity)\n",
    "        sim_exp = torch.exp(similarity - similarity.max(dim=1, keepdim=True)[0])\n",
    "        \n",
    "        # Compute positive and negative pairs\n",
    "        pos_sim = sim_exp * mask\n",
    "        neg_sim = sim_exp * (1 - mask)\n",
    "        \n",
    "        # Add small epsilon to prevent log(0)\n",
    "        eps = 1e-8\n",
    "        loss = -torch.log(\n",
    "            (pos_sim.sum(1) + eps) / (pos_sim.sum(1) + neg_sim.sum(1) + eps)\n",
    "        ).mean()\n",
    "        \n",
    "        return loss\n",
    "\n",
    "    def feature_alignment_loss(self, student_features, teacher_features):\n",
    "        \"\"\"\n",
    "        Improved feature alignment using cosine similarity\n",
    "        \"\"\"\n",
    "        student_features = F.normalize(student_features, dim=1)\n",
    "        teacher_features = F.normalize(teacher_features, dim=1)\n",
    "        return 1 - (student_features * teacher_features).sum(dim=1).mean()\n",
    "\n",
    "    def forward(self, outputs, labels):\n",
    "        # Convert all inputs to float and ensure contiguous memory\n",
    "        teacher_logits = outputs['teacher_logits'].float().contiguous()\n",
    "        student_logits = outputs['student_logits'].float().contiguous()\n",
    "        teacher_features = outputs['teacher_features'].float().contiguous()\n",
    "        student_projected = outputs['student_projected'].float().contiguous()\n",
    "        \n",
    "        # 1. Knowledge Distillation Loss with stability\n",
    "        soft_targets = F.softmax(teacher_logits / self.temperature, dim=1)\n",
    "        student_log_softmax = F.log_softmax(student_logits / self.temperature, dim=1)\n",
    "        kd_loss = -(soft_targets * student_log_softmax).sum(dim=1).mean() * (self.temperature ** 2)\n",
    "        \n",
    "        # 2. Improved Feature Alignment Loss\n",
    "        feature_loss = self.feature_alignment_loss(student_projected, teacher_features)\n",
    "        \n",
    "        # 3. Cross Entropy Loss with label smoothing\n",
    "        ce_loss = F.cross_entropy(student_logits, labels, label_smoothing=0.1)\n",
    "        \n",
    "        # 4. Improved Contrastive Loss\n",
    "        cont_loss = self.contrastive_loss(student_projected, labels)\n",
    "        \n",
    "        # 5. Teacher Loss (for monitoring only)\n",
    "        teacher_loss = F.cross_entropy(teacher_logits, labels)\n",
    "        \n",
    "        # Weighted sum of losses\n",
    "        total_loss = (\n",
    "            self.alpha * kd_loss +\n",
    "            self.beta * feature_loss +\n",
    "            self.gamma * ce_loss +\n",
    "            self.contrastive_weight * cont_loss\n",
    "        )\n",
    "        \n",
    "        return total_loss, {\n",
    "            'kd_loss': kd_loss.item(),\n",
    "            'feature_loss': feature_loss.item(),\n",
    "            'ce_loss': ce_loss.item(),\n",
    "            'cont_loss': cont_loss.item(),\n",
    "            'teacher_loss': teacher_loss.item(),\n",
    "            'total_loss': total_loss.item()\n",
    "        }\n",
    "\n",
    "    @staticmethod\n",
    "    def update_temperature(self, epoch, max_epochs):\n",
    "        \"\"\"\n",
    "        Temperature annealing\n",
    "        \"\"\"\n",
    "        self.temperature = max(0.07, 1.0 - (epoch / max_epochs) * 0.93)"
   ]
  },
  {
   "cell_type": "code",
   "execution_count": 17,
   "id": "3d08e529",
   "metadata": {
    "execution": {
     "iopub.execute_input": "2024-11-23T03:26:21.975000Z",
     "iopub.status.busy": "2024-11-23T03:26:21.974753Z",
     "iopub.status.idle": "2024-11-23T03:26:21.982891Z",
     "shell.execute_reply": "2024-11-23T03:26:21.982132Z"
    },
    "papermill": {
     "duration": 0.0191,
     "end_time": "2024-11-23T03:26:21.984407",
     "exception": false,
     "start_time": "2024-11-23T03:26:21.965307",
     "status": "completed"
    },
    "tags": []
   },
   "outputs": [],
   "source": [
    "def train_epoch(model, train_loader, criterion, optimizer, config, scheduler=None):\n",
    "\n",
    "    model.train()\n",
    "\n",
    "    total_loss = 0\n",
    "\n",
    "    metrics = defaultdict(float)  # Tracks additional metrics\n",
    "\n",
    "    scaler = GradScaler() if config.use_amp else None\n",
    "\n",
    "    \n",
    "\n",
    "    pbar = tqdm(train_loader, desc='Training', leave =True)\n",
    "\n",
    "    \n",
    "\n",
    "    for batch_idx, (images, labels) in enumerate(pbar):\n",
    "\n",
    "        images, labels = images.to(config.device), labels.to(config.device)\n",
    "\n",
    "        \n",
    "\n",
    "        # Mixed precision training\n",
    "\n",
    "        if config.use_amp:\n",
    "\n",
    "            with autocast():\n",
    "\n",
    "                outputs = model(images, return_features=True)\n",
    "\n",
    "                loss, batch_metrics = criterion(outputs, labels)\n",
    "                print(batch_metrics)\n",
    "\n",
    "            scaler.scale(loss).backward()\n",
    "\n",
    "            \n",
    "\n",
    "            if config.max_grad_norm:\n",
    "\n",
    "                scaler.unscale_(optimizer)\n",
    "\n",
    "                torch.nn.utils.clip_grad_norm_(model.parameters(), config.max_grad_norm)\n",
    "\n",
    "            \n",
    "\n",
    "            scaler.step(optimizer)\n",
    "\n",
    "            scaler.update()\n",
    "\n",
    "        else:\n",
    "\n",
    "            outputs = model(images, return_features=True)\n",
    "            loss, batch_metrics = criterion(outputs, labels)\n",
    "\n",
    "            loss.backward()\n",
    "\n",
    "            \n",
    "\n",
    "            if config.max_grad_norm:\n",
    "\n",
    "                torch.nn.utils.clip_grad_norm_(model.parameters(), config.max_grad_norm)\n",
    "\n",
    "            \n",
    "\n",
    "            optimizer.step()\n",
    "\n",
    "        \n",
    "\n",
    "        optimizer.zero_grad()\n",
    "\n",
    "        if scheduler:\n",
    "\n",
    "            scheduler.step()\n",
    "\n",
    "        \n",
    "\n",
    "        # Update loss and metrics\n",
    "\n",
    "        total_loss += loss.item()\n",
    "\n",
    "        for k, v in batch_metrics.items():\n",
    "\n",
    "            metrics[k] += v\n",
    "\n",
    "        \n",
    "\n",
    "        # Update progress bar with detailed information\n",
    "\n",
    "        pbar.set_postfix({\n",
    "\n",
    "            'loss': f'{loss.item():.4f}',\n",
    "\n",
    "            'avg_loss': f'{total_loss / (batch_idx + 1):.4f}',\n",
    "\n",
    "            'lr': scheduler.get_last_lr()[0] if scheduler else optimizer.param_groups[0]['lr']\n",
    "\n",
    "        })\n",
    "\n",
    "    \n",
    "\n",
    "    # Normalize metrics over all batches\n",
    "\n",
    "    metrics = {k: v / len(train_loader) for k, v in metrics.items()}\n",
    "\n",
    "    return total_loss / len(train_loader), metrics"
   ]
  },
  {
   "cell_type": "code",
   "execution_count": 18,
   "id": "422aa742",
   "metadata": {
    "execution": {
     "iopub.execute_input": "2024-11-23T03:26:22.002638Z",
     "iopub.status.busy": "2024-11-23T03:26:22.002379Z",
     "iopub.status.idle": "2024-11-23T03:26:22.006816Z",
     "shell.execute_reply": "2024-11-23T03:26:22.006018Z"
    },
    "papermill": {
     "duration": 0.015173,
     "end_time": "2024-11-23T03:26:22.008362",
     "exception": false,
     "start_time": "2024-11-23T03:26:21.993189",
     "status": "completed"
    },
    "tags": []
   },
   "outputs": [],
   "source": [
    "def compute_topk_accuracy(outputs, labels, k):\n",
    "\n",
    "    \"\"\"\n",
    "\n",
    "    Computes the top-k accuracy for the given outputs and labels.\n",
    "\n",
    "    \n",
    "\n",
    "    Args:\n",
    "\n",
    "        outputs (torch.Tensor or dict): Model outputs, expected as a tensor.\n",
    "\n",
    "        labels (torch.Tensor): Ground truth labels.\n",
    "\n",
    "        k (int): The 'k' in top-k accuracy.\n",
    "\n",
    "    \n",
    "\n",
    "    Returns:\n",
    "\n",
    "        float: Top-k accuracy as a percentage.\n",
    "\n",
    "    \"\"\"\n",
    "\n",
    "\n",
    "    outputs = outputs['student_logits']  # Update the key to match your dictionary structure\n",
    "\n",
    "    \n",
    "\n",
    "    _, top_k_preds = outputs.topk(k, dim=1)\n",
    "\n",
    "    top_k_correct = top_k_preds.eq(labels.view(-1, 1).expand_as(top_k_preds))\n",
    "\n",
    "    return top_k_correct.any(dim=1).float().mean().item()"
   ]
  },
  {
   "cell_type": "code",
   "execution_count": 19,
   "id": "d60252ef",
   "metadata": {
    "execution": {
     "iopub.execute_input": "2024-11-23T03:26:22.026443Z",
     "iopub.status.busy": "2024-11-23T03:26:22.026202Z",
     "iopub.status.idle": "2024-11-23T03:26:22.046217Z",
     "shell.execute_reply": "2024-11-23T03:26:22.045484Z"
    },
    "papermill": {
     "duration": 0.030865,
     "end_time": "2024-11-23T03:26:22.047798",
     "exception": false,
     "start_time": "2024-11-23T03:26:22.016933",
     "status": "completed"
    },
    "tags": []
   },
   "outputs": [
    {
     "name": "stdout",
     "output_type": "stream",
     "text": [
      "Top-1 Accuracy: 50.00%\n",
      "Top-3 Accuracy: 100.00%\n"
     ]
    }
   ],
   "source": [
    "def test_compute_topk_accuracy():\n",
    "    # Create synthetic outputs (logits)\n",
    "    batch_size = 8\n",
    "    num_classes = 5\n",
    "    outputs = {'student_logits': torch.randn(batch_size, num_classes)}\n",
    "\n",
    "    # Create synthetic labels\n",
    "    labels = torch.randint(0, num_classes, (batch_size,))\n",
    "\n",
    "    # Test the function for k = 1 and k = 3\n",
    "    for k in [1, 3]:\n",
    "        top_k_accuracy = compute_topk_accuracy(outputs, labels, k)\n",
    "        print(f\"Top-{k} Accuracy: {top_k_accuracy * 100:.2f}%\")\n",
    "\n",
    "# Run the test\n",
    "test_compute_topk_accuracy()"
   ]
  },
  {
   "cell_type": "code",
   "execution_count": 20,
   "id": "dd388b39",
   "metadata": {
    "execution": {
     "iopub.execute_input": "2024-11-23T03:26:22.066282Z",
     "iopub.status.busy": "2024-11-23T03:26:22.065994Z",
     "iopub.status.idle": "2024-11-23T03:26:22.072383Z",
     "shell.execute_reply": "2024-11-23T03:26:22.071651Z"
    },
    "papermill": {
     "duration": 0.017414,
     "end_time": "2024-11-23T03:26:22.073877",
     "exception": false,
     "start_time": "2024-11-23T03:26:22.056463",
     "status": "completed"
    },
    "tags": []
   },
   "outputs": [],
   "source": [
    "def validate_epoch(model, val_loader, criterion, config):\n",
    "\n",
    "    model.eval()\n",
    "\n",
    "    total_loss = 0\n",
    "\n",
    "    metrics = defaultdict(float)\n",
    "\n",
    "    \n",
    "\n",
    "    pbar = tqdm(val_loader, desc='Validating')\n",
    "\n",
    "    \n",
    "\n",
    "    with torch.no_grad():  # Disable gradient computation\n",
    "\n",
    "        for batch_idx, (images, labels) in enumerate(pbar):\n",
    "\n",
    "            images, labels = images.to(config.device), labels.to(config.device)\n",
    "\n",
    "            \n",
    "\n",
    "            # Forward pass\n",
    "\n",
    "            outputs = model(images, return_features=True)\n",
    "\n",
    "            loss, batch_metrics = criterion(outputs, labels)\n",
    "\n",
    "            print(batch_metrics)\n",
    "\n",
    "            # Accumulate loss and metrics\n",
    "\n",
    "            total_loss += loss.item()\n",
    "\n",
    "            metrics['top1_acc'] += compute_topk_accuracy(outputs, labels, 1)\n",
    "\n",
    "            metrics['top5_acc'] += compute_topk_accuracy(outputs, labels, 5)\n",
    "\n",
    "            metrics['top10_acc'] += compute_topk_accuracy(outputs, labels, 10)\n",
    "\n",
    "            \n",
    "\n",
    "            # Update progress bar\n",
    "\n",
    "            pbar.set_postfix({\n",
    "\n",
    "                'loss': f'{loss.item():.4f}',\n",
    "\n",
    "                'avg_loss': f'{total_loss / (batch_idx + 1):.4f}'\n",
    "\n",
    "            })\n",
    "\n",
    "    \n",
    "\n",
    "    # Normalize metrics over all batches\n",
    "\n",
    "    metrics = {k: v / len(val_loader) for k, v in metrics.items()}\n",
    "\n",
    "    return total_loss / len(val_loader), metrics"
   ]
  },
  {
   "cell_type": "code",
   "execution_count": 21,
   "id": "ea7d83d4",
   "metadata": {
    "execution": {
     "iopub.execute_input": "2024-11-23T03:26:22.092165Z",
     "iopub.status.busy": "2024-11-23T03:26:22.091905Z",
     "iopub.status.idle": "2024-11-23T03:26:22.095197Z",
     "shell.execute_reply": "2024-11-23T03:26:22.094542Z"
    },
    "papermill": {
     "duration": 0.014153,
     "end_time": "2024-11-23T03:26:22.096762",
     "exception": false,
     "start_time": "2024-11-23T03:26:22.082609",
     "status": "completed"
    },
    "tags": []
   },
   "outputs": [],
   "source": [
    "from collections import defaultdict"
   ]
  },
  {
   "cell_type": "code",
   "execution_count": 22,
   "id": "767fd55e",
   "metadata": {
    "execution": {
     "iopub.execute_input": "2024-11-23T03:26:22.116673Z",
     "iopub.status.busy": "2024-11-23T03:26:22.116417Z",
     "iopub.status.idle": "2024-11-23T03:26:22.120508Z",
     "shell.execute_reply": "2024-11-23T03:26:22.119796Z"
    },
    "papermill": {
     "duration": 0.015331,
     "end_time": "2024-11-23T03:26:22.122038",
     "exception": false,
     "start_time": "2024-11-23T03:26:22.106707",
     "status": "completed"
    },
    "tags": []
   },
   "outputs": [],
   "source": [
    "train_ds = GoogleLandmarksDataset(train_df, class_name_to_idx=class_name_to_idx, transform=transforms_train)\n",
    "train_dl = DataLoader(\n",
    "    train_ds,\n",
    "    batch_size=BATCH_SIZE,\n",
    "    shuffle=True,\n",
    "    pin_memory=True,\n",
    "    drop_last=True,\n",
    "    num_workers=N_WORKERS\n",
    ")"
   ]
  },
  {
   "cell_type": "code",
   "execution_count": 23,
   "id": "5d43fa01",
   "metadata": {
    "execution": {
     "iopub.execute_input": "2024-11-23T03:26:22.140701Z",
     "iopub.status.busy": "2024-11-23T03:26:22.140436Z",
     "iopub.status.idle": "2024-11-23T04:44:20.522458Z",
     "shell.execute_reply": "2024-11-23T04:44:20.521270Z"
    },
    "papermill": {
     "duration": 4678.393784,
     "end_time": "2024-11-23T04:44:20.524549",
     "exception": false,
     "start_time": "2024-11-23T03:26:22.130765",
     "status": "completed"
    },
    "tags": []
   },
   "outputs": [
    {
     "data": {
      "application/vnd.jupyter.widget-view+json": {
       "model_id": "fa5f854536af4655977afddfd6d172ba",
       "version_major": 2,
       "version_minor": 0
      },
      "text/plain": [
       "model.safetensors:   0%|          | 0.00/46.8M [00:00<?, ?B/s]"
      ]
     },
     "metadata": {},
     "output_type": "display_data"
    },
    {
     "name": "stdout",
     "output_type": "stream",
     "text": [
      "##############################\n",
      "Starting Fold 0\n",
      "##############################\n"
     ]
    },
    {
     "name": "stderr",
     "output_type": "stream",
     "text": [
      "Training:   0%|          | 0/1875 [00:00<?, ?it/s]/tmp/ipykernel_23/959980901.py:61: FutureWarning: `torch.cuda.amp.autocast(args...)` is deprecated. Please use `torch.amp.autocast('cuda', args...)` instead.\n",
      "  with torch.no_grad(), torch.cuda.amp.autocast():\n",
      "Training: 100%|██████████| 1875/1875 [15:18<00:00,  2.04it/s, loss=18.5385, avg_loss=18.5726, lr=9.67e-5]\n",
      "Validating:   0%|          | 1/235 [00:03<13:16,  3.40s/it, loss=16.4068, avg_loss=16.4068]"
     ]
    },
    {
     "name": "stdout",
     "output_type": "stream",
     "text": [
      "{'kd_loss': 32.501617431640625, 'feature_loss': 0.36237776279449463, 'ce_loss': 7.9639787673950195, 'cont_loss': 1.480728030204773, 'teacher_loss': 8.092796325683594, 'total_loss': 16.406787872314453}\n"
     ]
    },
    {
     "name": "stderr",
     "output_type": "stream",
     "text": [
      "Validating:   1%|          | 2/235 [00:03<06:31,  1.68s/it, loss=16.5172, avg_loss=16.4620]"
     ]
    },
    {
     "name": "stdout",
     "output_type": "stream",
     "text": [
      "{'kd_loss': 32.502864837646484, 'feature_loss': 0.3759721517562866, 'ce_loss': 8.218573570251465, 'cont_loss': 1.5346176624298096, 'teacher_loss': 8.09501838684082, 'total_loss': 16.517230987548828}\n"
     ]
    },
    {
     "name": "stderr",
     "output_type": "stream",
     "text": [
      "Validating:   1%|▏         | 3/235 [00:04<04:22,  1.13s/it, loss=16.4756, avg_loss=16.4665]"
     ]
    },
    {
     "name": "stdout",
     "output_type": "stream",
     "text": [
      "{'kd_loss': 32.50115966796875, 'feature_loss': 0.34622979164123535, 'ce_loss': 8.133524894714355, 'cont_loss': 1.5250935554504395, 'teacher_loss': 8.099596977233887, 'total_loss': 16.475629806518555}\n"
     ]
    },
    {
     "name": "stderr",
     "output_type": "stream",
     "text": [
      "Validating:   2%|▏         | 4/235 [00:04<03:22,  1.14it/s, loss=16.3948, avg_loss=16.4486]"
     ]
    },
    {
     "name": "stdout",
     "output_type": "stream",
     "text": [
      "{'kd_loss': 32.503807067871094, 'feature_loss': 0.33942508697509766, 'ce_loss': 7.945435523986816, 'cont_loss': 1.4720807075500488, 'teacher_loss': 8.102338790893555, 'total_loss': 16.394790649414062}\n"
     ]
    },
    {
     "name": "stderr",
     "output_type": "stream",
     "text": [
      "Validating:   2%|▏         | 5/235 [00:05<02:49,  1.36it/s, loss=16.3567, avg_loss=16.4302]"
     ]
    },
    {
     "name": "stdout",
     "output_type": "stream",
     "text": [
      "{'kd_loss': 32.50441360473633, 'feature_loss': 0.3104475736618042, 'ce_loss': 7.876025199890137, 'cont_loss': 1.4245645999908447, 'teacher_loss': 8.102546691894531, 'total_loss': 16.356721878051758}\n"
     ]
    },
    {
     "name": "stderr",
     "output_type": "stream",
     "text": [
      "Validating:   3%|▎         | 6/235 [00:05<02:28,  1.54it/s, loss=16.5865, avg_loss=16.4563]"
     ]
    },
    {
     "name": "stdout",
     "output_type": "stream",
     "text": [
      "{'kd_loss': 32.50238800048828, 'feature_loss': 0.4613991975784302, 'ce_loss': 8.356544494628906, 'cont_loss': 1.5061938762664795, 'teacher_loss': 8.100008010864258, 'total_loss': 16.586471557617188}\n"
     ]
    },
    {
     "name": "stderr",
     "output_type": "stream",
     "text": [
      "Validating:   3%|▎         | 7/235 [00:06<02:15,  1.68it/s, loss=16.1882, avg_loss=16.4180]"
     ]
    },
    {
     "name": "stdout",
     "output_type": "stream",
     "text": [
      "{'kd_loss': 32.502159118652344, 'feature_loss': 0.3446618318557739, 'ce_loss': 7.4238810539245605, 'cont_loss': 1.488328456878662, 'teacher_loss': 8.083008766174316, 'total_loss': 16.188180923461914}\n"
     ]
    },
    {
     "name": "stderr",
     "output_type": "stream",
     "text": [
      "Validating:   3%|▎         | 8/235 [00:06<02:07,  1.78it/s, loss=16.3749, avg_loss=16.4126]"
     ]
    },
    {
     "name": "stdout",
     "output_type": "stream",
     "text": [
      "{'kd_loss': 32.501365661621094, 'feature_loss': 0.39013564586639404, 'ce_loss': 7.870559215545654, 'cont_loss': 1.4807795286178589, 'teacher_loss': 8.096219062805176, 'total_loss': 16.374874114990234}\n"
     ]
    },
    {
     "name": "stderr",
     "output_type": "stream",
     "text": [
      "Validating:   4%|▍         | 9/235 [00:07<02:10,  1.73it/s, loss=16.4192, avg_loss=16.4133]"
     ]
    },
    {
     "name": "stdout",
     "output_type": "stream",
     "text": [
      "{'kd_loss': 32.50310516357422, 'feature_loss': 0.26639050245285034, 'ce_loss': 8.03590202331543, 'cont_loss': 1.5031378269195557, 'teacher_loss': 8.092365264892578, 'total_loss': 16.4191951751709}\n"
     ]
    },
    {
     "name": "stderr",
     "output_type": "stream",
     "text": [
      "Validating:   4%|▍         | 10/235 [00:07<02:03,  1.82it/s, loss=16.4330, avg_loss=16.4153]"
     ]
    },
    {
     "name": "stdout",
     "output_type": "stream",
     "text": [
      "{'kd_loss': 32.502288818359375, 'feature_loss': 0.3338507413864136, 'ce_loss': 8.035773277282715, 'cont_loss': 1.509631872177124, 'teacher_loss': 8.099068641662598, 'total_loss': 16.432958602905273}\n"
     ]
    },
    {
     "name": "stderr",
     "output_type": "stream",
     "text": [
      "Validating:   5%|▍         | 11/235 [00:08<01:58,  1.89it/s, loss=16.4905, avg_loss=16.4221]"
     ]
    },
    {
     "name": "stdout",
     "output_type": "stream",
     "text": [
      "{'kd_loss': 32.5023193359375, 'feature_loss': 0.37360286712646484, 'ce_loss': 8.162513732910156, 'cont_loss': 1.4983949661254883, 'teacher_loss': 8.077295303344727, 'total_loss': 16.490493774414062}\n"
     ]
    },
    {
     "name": "stderr",
     "output_type": "stream",
     "text": [
      "Validating:   5%|▌         | 12/235 [00:08<01:54,  1.94it/s, loss=16.3343, avg_loss=16.4148]"
     ]
    },
    {
     "name": "stdout",
     "output_type": "stream",
     "text": [
      "{'kd_loss': 32.50160217285156, 'feature_loss': 0.3136488199234009, 'ce_loss': 7.805074691772461, 'cont_loss': 1.488702654838562, 'teacher_loss': 8.097332954406738, 'total_loss': 16.334270477294922}\n"
     ]
    },
    {
     "name": "stderr",
     "output_type": "stream",
     "text": [
      "Validating:   6%|▌         | 13/235 [00:09<02:17,  1.62it/s, loss=16.5010, avg_loss=16.4214]"
     ]
    },
    {
     "name": "stdout",
     "output_type": "stream",
     "text": [
      "{'kd_loss': 32.50251770019531, 'feature_loss': 0.3511701226234436, 'ce_loss': 8.202316284179688, 'cont_loss': 1.4882102012634277, 'teacher_loss': 8.082440376281738, 'total_loss': 16.500988006591797}\n"
     ]
    },
    {
     "name": "stderr",
     "output_type": "stream",
     "text": [
      "Validating:   6%|▌         | 14/235 [00:10<02:07,  1.73it/s, loss=16.4415, avg_loss=16.4229]"
     ]
    },
    {
     "name": "stdout",
     "output_type": "stream",
     "text": [
      "{'kd_loss': 32.50334167480469, 'feature_loss': 0.40601807832717896, 'ce_loss': 8.010283470153809, 'cont_loss': 1.54874849319458, 'teacher_loss': 8.075740814208984, 'total_loss': 16.4415283203125}\n"
     ]
    },
    {
     "name": "stderr",
     "output_type": "stream",
     "text": [
      "Validating:   6%|▋         | 15/235 [00:10<02:01,  1.82it/s, loss=16.3979, avg_loss=16.4212]"
     ]
    },
    {
     "name": "stdout",
     "output_type": "stream",
     "text": [
      "{'kd_loss': 32.50194549560547, 'feature_loss': 0.3131212592124939, 'ce_loss': 7.973282337188721, 'cont_loss': 1.4520540237426758, 'teacher_loss': 8.095297813415527, 'total_loss': 16.397920608520508}\n"
     ]
    },
    {
     "name": "stderr",
     "output_type": "stream",
     "text": [
      "Validating:   7%|▋         | 16/235 [00:11<01:56,  1.88it/s, loss=16.4733, avg_loss=16.4245]"
     ]
    },
    {
     "name": "stdout",
     "output_type": "stream",
     "text": [
      "{'kd_loss': 32.50251770019531, 'feature_loss': 0.35507631301879883, 'ce_loss': 8.12607192993164, 'cont_loss': 1.5084809064865112, 'teacher_loss': 8.093382835388184, 'total_loss': 16.473299026489258}\n"
     ]
    },
    {
     "name": "stderr",
     "output_type": "stream",
     "text": [
      "Validating:   7%|▋         | 17/235 [00:12<02:22,  1.53it/s, loss=16.4523, avg_loss=16.4261]"
     ]
    },
    {
     "name": "stdout",
     "output_type": "stream",
     "text": [
      "{'kd_loss': 32.50190353393555, 'feature_loss': 0.3886100649833679, 'ce_loss': 8.055259704589844, 'cont_loss': 1.5171400308609009, 'teacher_loss': 8.082387924194336, 'total_loss': 16.452301025390625}\n"
     ]
    },
    {
     "name": "stderr",
     "output_type": "stream",
     "text": [
      "Validating:   8%|▊         | 18/235 [00:12<02:11,  1.65it/s, loss=16.5767, avg_loss=16.4345]"
     ]
    },
    {
     "name": "stdout",
     "output_type": "stream",
     "text": [
      "{'kd_loss': 32.50324249267578, 'feature_loss': 0.32506054639816284, 'ce_loss': 8.399846076965332, 'cont_loss': 1.504320740699768, 'teacher_loss': 8.088234901428223, 'total_loss': 16.576679229736328}\n"
     ]
    },
    {
     "name": "stderr",
     "output_type": "stream",
     "text": [
      "Validating:   8%|▊         | 19/235 [00:13<02:03,  1.75it/s, loss=16.4641, avg_loss=16.4360]"
     ]
    },
    {
     "name": "stdout",
     "output_type": "stream",
     "text": [
      "{'kd_loss': 32.503326416015625, 'feature_loss': 0.3407995104789734, 'ce_loss': 8.116752624511719, 'cont_loss': 1.4793701171875, 'teacher_loss': 8.091707229614258, 'total_loss': 16.464128494262695}\n"
     ]
    },
    {
     "name": "stderr",
     "output_type": "stream",
     "text": [
      "Validating:   9%|▊         | 20/235 [00:13<01:57,  1.83it/s, loss=16.4267, avg_loss=16.4356]"
     ]
    },
    {
     "name": "stdout",
     "output_type": "stream",
     "text": [
      "{'kd_loss': 32.50153732299805, 'feature_loss': 0.3285071849822998, 'ce_loss': 8.027200698852539, 'cont_loss': 1.4951478242874146, 'teacher_loss': 8.101234436035156, 'total_loss': 16.426712036132812}\n"
     ]
    },
    {
     "name": "stderr",
     "output_type": "stream",
     "text": [
      "Validating:   9%|▉         | 21/235 [00:14<02:24,  1.48it/s, loss=16.3666, avg_loss=16.4323]"
     ]
    },
    {
     "name": "stdout",
     "output_type": "stream",
     "text": [
      "{'kd_loss': 32.50208282470703, 'feature_loss': 0.3191264867782593, 'ce_loss': 7.87515926361084, 'cont_loss': 1.519113540649414, 'teacher_loss': 8.10187816619873, 'total_loss': 16.366634368896484}\n"
     ]
    },
    {
     "name": "stderr",
     "output_type": "stream",
     "text": [
      "Validating:   9%|▉         | 22/235 [00:15<02:12,  1.61it/s, loss=16.4436, avg_loss=16.4328]"
     ]
    },
    {
     "name": "stdout",
     "output_type": "stream",
     "text": [
      "{'kd_loss': 32.50272750854492, 'feature_loss': 0.27480781078338623, 'ce_loss': 8.08088493347168, 'cont_loss': 1.5521202087402344, 'teacher_loss': 8.10804271697998, 'total_loss': 16.443618774414062}\n"
     ]
    },
    {
     "name": "stderr",
     "output_type": "stream",
     "text": [
      "Validating:  10%|▉         | 23/235 [00:15<02:03,  1.72it/s, loss=16.6103, avg_loss=16.4405]"
     ]
    },
    {
     "name": "stdout",
     "output_type": "stream",
     "text": [
      "{'kd_loss': 32.50366973876953, 'feature_loss': 0.43177253007888794, 'ce_loss': 8.4241361618042, 'cont_loss': 1.528174877166748, 'teacher_loss': 8.078567504882812, 'total_loss': 16.610292434692383}\n"
     ]
    },
    {
     "name": "stderr",
     "output_type": "stream",
     "text": [
      "Validating:  10%|█         | 24/235 [00:16<01:56,  1.80it/s, loss=16.4660, avg_loss=16.4416]"
     ]
    },
    {
     "name": "stdout",
     "output_type": "stream",
     "text": [
      "{'kd_loss': 32.50275421142578, 'feature_loss': 0.3522000312805176, 'ce_loss': 8.115180969238281, 'cont_loss': 1.4842660427093506, 'teacher_loss': 8.076883316040039, 'total_loss': 16.466039657592773}\n"
     ]
    },
    {
     "name": "stderr",
     "output_type": "stream",
     "text": [
      "Validating:  11%|█         | 25/235 [00:16<02:18,  1.51it/s, loss=16.4797, avg_loss=16.4431]"
     ]
    },
    {
     "name": "stdout",
     "output_type": "stream",
     "text": [
      "{'kd_loss': 32.503662109375, 'feature_loss': 0.3744010925292969, 'ce_loss': 8.136034965515137, 'cont_loss': 1.4896211624145508, 'teacher_loss': 8.079505920410156, 'total_loss': 16.479721069335938}\n"
     ]
    },
    {
     "name": "stderr",
     "output_type": "stream",
     "text": [
      "Validating:  11%|█         | 26/235 [00:17<02:07,  1.64it/s, loss=16.4178, avg_loss=16.4421]"
     ]
    },
    {
     "name": "stdout",
     "output_type": "stream",
     "text": [
      "{'kd_loss': 32.5031623840332, 'feature_loss': 0.4606085419654846, 'ce_loss': 7.931650161743164, 'cont_loss': 1.5179202556610107, 'teacher_loss': 8.073314666748047, 'total_loss': 16.4178409576416}\n"
     ]
    },
    {
     "name": "stderr",
     "output_type": "stream",
     "text": [
      "Validating:  11%|█▏        | 27/235 [00:17<01:59,  1.74it/s, loss=16.2364, avg_loss=16.4345]"
     ]
    },
    {
     "name": "stdout",
     "output_type": "stream",
     "text": [
      "{'kd_loss': 32.502464294433594, 'feature_loss': 0.39309632778167725, 'ce_loss': 7.528761386871338, 'cont_loss': 1.4529082775115967, 'teacher_loss': 8.095122337341309, 'total_loss': 16.236400604248047}\n"
     ]
    },
    {
     "name": "stderr",
     "output_type": "stream",
     "text": [
      "Validating:  12%|█▏        | 28/235 [00:18<01:53,  1.82it/s, loss=16.5325, avg_loss=16.4380]"
     ]
    },
    {
     "name": "stdout",
     "output_type": "stream",
     "text": [
      "{'kd_loss': 32.501678466796875, 'feature_loss': 0.36547720432281494, 'ce_loss': 8.27040958404541, 'cont_loss': 1.5059927701950073, 'teacher_loss': 8.102677345275879, 'total_loss': 16.532529830932617}\n"
     ]
    },
    {
     "name": "stderr",
     "output_type": "stream",
     "text": [
      "Validating:  12%|█▏        | 29/235 [00:19<02:07,  1.62it/s, loss=16.5747, avg_loss=16.4427]"
     ]
    },
    {
     "name": "stdout",
     "output_type": "stream",
     "text": [
      "{'kd_loss': 32.5025749206543, 'feature_loss': 0.33213967084884644, 'ce_loss': 8.392179489135742, 'cont_loss': 1.5032322406768799, 'teacher_loss': 8.098071098327637, 'total_loss': 16.57465362548828}\n"
     ]
    },
    {
     "name": "stderr",
     "output_type": "stream",
     "text": [
      "Validating:  13%|█▎        | 30/235 [00:19<01:58,  1.73it/s, loss=16.4721, avg_loss=16.4437]"
     ]
    },
    {
     "name": "stdout",
     "output_type": "stream",
     "text": [
      "{'kd_loss': 32.50390625, 'feature_loss': 0.37166744470596313, 'ce_loss': 8.13693904876709, 'cont_loss': 1.4146769046783447, 'teacher_loss': 8.090203285217285, 'total_loss': 16.472139358520508}\n"
     ]
    },
    {
     "name": "stderr",
     "output_type": "stream",
     "text": [
      "Validating:  13%|█▎        | 31/235 [00:20<01:52,  1.81it/s, loss=16.3546, avg_loss=16.4408]"
     ]
    },
    {
     "name": "stdout",
     "output_type": "stream",
     "text": [
      "{'kd_loss': 32.50273132324219, 'feature_loss': 0.3766070604324341, 'ce_loss': 7.834660053253174, 'cont_loss': 1.4427895545959473, 'teacher_loss': 8.100812911987305, 'total_loss': 16.354557037353516}\n"
     ]
    },
    {
     "name": "stderr",
     "output_type": "stream",
     "text": [
      "Validating:  14%|█▎        | 32/235 [00:20<01:48,  1.87it/s, loss=16.4124, avg_loss=16.4399]"
     ]
    },
    {
     "name": "stdout",
     "output_type": "stream",
     "text": [
      "{'kd_loss': 32.5022087097168, 'feature_loss': 0.3107706308364868, 'ce_loss': 7.997876167297363, 'cont_loss': 1.5017361640930176, 'teacher_loss': 8.098206520080566, 'total_loss': 16.41236114501953}\n"
     ]
    },
    {
     "name": "stderr",
     "output_type": "stream",
     "text": [
      "Validating:  14%|█▍        | 33/235 [00:21<02:02,  1.65it/s, loss=16.3973, avg_loss=16.4386]"
     ]
    },
    {
     "name": "stdout",
     "output_type": "stream",
     "text": [
      "{'kd_loss': 32.50331497192383, 'feature_loss': 0.331188440322876, 'ce_loss': 7.947660446166992, 'cont_loss': 1.5067298412322998, 'teacher_loss': 8.098764419555664, 'total_loss': 16.397300720214844}\n"
     ]
    },
    {
     "name": "stderr",
     "output_type": "stream",
     "text": [
      "Validating:  14%|█▍        | 34/235 [00:21<01:54,  1.75it/s, loss=16.5420, avg_loss=16.4417]"
     ]
    },
    {
     "name": "stdout",
     "output_type": "stream",
     "text": [
      "{'kd_loss': 32.502235412597656, 'feature_loss': 0.4296448826789856, 'ce_loss': 8.260753631591797, 'cont_loss': 1.5085346698760986, 'teacher_loss': 8.069832801818848, 'total_loss': 16.54197883605957}\n"
     ]
    },
    {
     "name": "stderr",
     "output_type": "stream",
     "text": [
      "Validating:  15%|█▍        | 35/235 [00:22<01:49,  1.82it/s, loss=16.4123, avg_loss=16.4408]"
     ]
    },
    {
     "name": "stdout",
     "output_type": "stream",
     "text": [
      "{'kd_loss': 32.502418518066406, 'feature_loss': 0.4176919460296631, 'ce_loss': 7.954720973968506, 'cont_loss': 1.458715796470642, 'teacher_loss': 8.111038208007812, 'total_loss': 16.41226577758789}\n"
     ]
    },
    {
     "name": "stderr",
     "output_type": "stream",
     "text": [
      "Validating:  15%|█▌        | 36/235 [00:22<01:45,  1.89it/s, loss=16.3528, avg_loss=16.4384]"
     ]
    },
    {
     "name": "stdout",
     "output_type": "stream",
     "text": [
      "{'kd_loss': 32.50225830078125, 'feature_loss': 0.27626174688339233, 'ce_loss': 7.855658531188965, 'cont_loss': 1.544042944908142, 'teacher_loss': 8.105061531066895, 'total_loss': 16.352821350097656}\n"
     ]
    },
    {
     "name": "stderr",
     "output_type": "stream",
     "text": [
      "Validating:  16%|█▌        | 37/235 [00:23<01:58,  1.67it/s, loss=16.4864, avg_loss=16.4397]"
     ]
    },
    {
     "name": "stdout",
     "output_type": "stream",
     "text": [
      "{'kd_loss': 32.50224304199219, 'feature_loss': 0.305881142616272, 'ce_loss': 8.15415096282959, 'cont_loss': 1.627013921737671, 'teacher_loss': 8.095890045166016, 'total_loss': 16.486434936523438}\n"
     ]
    },
    {
     "name": "stderr",
     "output_type": "stream",
     "text": [
      "Validating:  16%|█▌        | 38/235 [00:24<01:57,  1.67it/s, loss=16.4237, avg_loss=16.4393]"
     ]
    },
    {
     "name": "stdout",
     "output_type": "stream",
     "text": [
      "{'kd_loss': 32.50423812866211, 'feature_loss': 0.4087522029876709, 'ce_loss': 7.9227190017700195, 'cont_loss': 1.7115895748138428, 'teacher_loss': 8.09639835357666, 'total_loss': 16.423694610595703}\n"
     ]
    },
    {
     "name": "stderr",
     "output_type": "stream",
     "text": [
      "Validating:  17%|█▋        | 39/235 [00:24<01:51,  1.76it/s, loss=16.4081, avg_loss=16.4385]"
     ]
    },
    {
     "name": "stdout",
     "output_type": "stream",
     "text": [
      "{'kd_loss': 32.50227355957031, 'feature_loss': 0.30899691581726074, 'ce_loss': 7.977734565734863, 'cont_loss': 1.5434255599975586, 'teacher_loss': 8.092306137084961, 'total_loss': 16.408145904541016}\n"
     ]
    },
    {
     "name": "stderr",
     "output_type": "stream",
     "text": [
      "Validating:  17%|█▋        | 40/235 [00:25<01:46,  1.83it/s, loss=16.3868, avg_loss=16.4372]"
     ]
    },
    {
     "name": "stdout",
     "output_type": "stream",
     "text": [
      "{'kd_loss': 32.502044677734375, 'feature_loss': 0.25189924240112305, 'ce_loss': 7.904136657714844, 'cont_loss': 1.739463210105896, 'teacher_loss': 8.101445198059082, 'total_loss': 16.386798858642578}\n"
     ]
    },
    {
     "name": "stderr",
     "output_type": "stream",
     "text": [
      "Validating:  17%|█▋        | 41/235 [00:26<02:03,  1.58it/s, loss=16.4907, avg_loss=16.4385]"
     ]
    },
    {
     "name": "stdout",
     "output_type": "stream",
     "text": [
      "{'kd_loss': 32.50273895263672, 'feature_loss': 0.3451511859893799, 'ce_loss': 8.14778995513916, 'cont_loss': 1.615072250366211, 'teacher_loss': 8.078081130981445, 'total_loss': 16.490747451782227}\n"
     ]
    },
    {
     "name": "stderr",
     "output_type": "stream",
     "text": [
      "Validating:  18%|█▊        | 42/235 [00:26<01:54,  1.69it/s, loss=16.5050, avg_loss=16.4401]"
     ]
    },
    {
     "name": "stdout",
     "output_type": "stream",
     "text": [
      "{'kd_loss': 32.504112243652344, 'feature_loss': 0.3277176022529602, 'ce_loss': 8.196725845336914, 'cont_loss': 1.5910815000534058, 'teacher_loss': 8.101183891296387, 'total_loss': 16.504985809326172}\n"
     ]
    },
    {
     "name": "stderr",
     "output_type": "stream",
     "text": [
      "Validating:  18%|█▊        | 43/235 [00:27<01:47,  1.78it/s, loss=16.3328, avg_loss=16.4376]"
     ]
    },
    {
     "name": "stdout",
     "output_type": "stream",
     "text": [
      "{'kd_loss': 32.50345230102539, 'feature_loss': 0.4290271997451782, 'ce_loss': 7.737694263458252, 'cont_loss': 1.5058480501174927, 'teacher_loss': 8.094644546508789, 'total_loss': 16.332849502563477}\n"
     ]
    },
    {
     "name": "stderr",
     "output_type": "stream",
     "text": [
      "Validating:  19%|█▊        | 44/235 [00:27<01:43,  1.85it/s, loss=16.4934, avg_loss=16.4388]"
     ]
    },
    {
     "name": "stdout",
     "output_type": "stream",
     "text": [
      "{'kd_loss': 32.502628326416016, 'feature_loss': 0.28864508867263794, 'ce_loss': 8.162796974182129, 'cont_loss': 1.6949164867401123, 'teacher_loss': 8.110970497131348, 'total_loss': 16.493391036987305}\n"
     ]
    },
    {
     "name": "stderr",
     "output_type": "stream",
     "text": [
      "Validating:  19%|█▉        | 45/235 [00:28<01:57,  1.61it/s, loss=16.5405, avg_loss=16.4411]"
     ]
    },
    {
     "name": "stdout",
     "output_type": "stream",
     "text": [
      "{'kd_loss': 32.50225067138672, 'feature_loss': 0.3578709363937378, 'ce_loss': 8.26845932006836, 'cont_loss': 1.6060245037078857, 'teacher_loss': 8.107479095458984, 'total_loss': 16.54046058654785}\n"
     ]
    },
    {
     "name": "stderr",
     "output_type": "stream",
     "text": [
      "Validating:  20%|█▉        | 46/235 [00:28<01:52,  1.68it/s, loss=16.4041, avg_loss=16.4403]"
     ]
    },
    {
     "name": "stdout",
     "output_type": "stream",
     "text": [
      "{'kd_loss': 32.50238800048828, 'feature_loss': 0.4084939956665039, 'ce_loss': 7.8953938484191895, 'cont_loss': 1.6333485841751099, 'teacher_loss': 8.078118324279785, 'total_loss': 16.40414810180664}\n"
     ]
    },
    {
     "name": "stderr",
     "output_type": "stream",
     "text": [
      "Validating:  20%|██        | 47/235 [00:29<01:46,  1.77it/s, loss=16.4881, avg_loss=16.4413]"
     ]
    },
    {
     "name": "stdout",
     "output_type": "stream",
     "text": [
      "{'kd_loss': 32.502525329589844, 'feature_loss': 0.29976725578308105, 'ce_loss': 8.128053665161133, 'cont_loss': 1.7592250108718872, 'teacher_loss': 8.11462116241455, 'total_loss': 16.488107681274414}\n"
     ]
    },
    {
     "name": "stderr",
     "output_type": "stream",
     "text": [
      "Validating:  20%|██        | 48/235 [00:29<01:41,  1.84it/s, loss=16.4553, avg_loss=16.4416]"
     ]
    },
    {
     "name": "stdout",
     "output_type": "stream",
     "text": [
      "{'kd_loss': 32.50330352783203, 'feature_loss': 0.42140960693359375, 'ce_loss': 8.026350975036621, 'cont_loss': 1.591260552406311, 'teacher_loss': 8.094658851623535, 'total_loss': 16.455270767211914}\n"
     ]
    },
    {
     "name": "stderr",
     "output_type": "stream",
     "text": [
      "Validating:  21%|██        | 49/235 [00:30<01:56,  1.59it/s, loss=16.5143, avg_loss=16.4431]"
     ]
    },
    {
     "name": "stdout",
     "output_type": "stream",
     "text": [
      "{'kd_loss': 32.50322341918945, 'feature_loss': 0.33801519870758057, 'ce_loss': 8.197697639465332, 'cont_loss': 1.6629294157028198, 'teacher_loss': 8.099665641784668, 'total_loss': 16.514263153076172}\n"
     ]
    },
    {
     "name": "stderr",
     "output_type": "stream",
     "text": [
      "Validating:  21%|██▏       | 50/235 [00:31<01:48,  1.71it/s, loss=16.5186, avg_loss=16.4446]"
     ]
    },
    {
     "name": "stdout",
     "output_type": "stream",
     "text": [
      "{'kd_loss': 32.50311279296875, 'feature_loss': 0.3794834613800049, 'ce_loss': 8.18367862701416, 'cont_loss': 1.6795268058776855, 'teacher_loss': 8.075569152832031, 'total_loss': 16.518566131591797}\n"
     ]
    },
    {
     "name": "stderr",
     "output_type": "stream",
     "text": [
      "Validating:  22%|██▏       | 51/235 [00:31<01:42,  1.80it/s, loss=16.5398, avg_loss=16.4465]"
     ]
    },
    {
     "name": "stdout",
     "output_type": "stream",
     "text": [
      "{'kd_loss': 32.50220489501953, 'feature_loss': 0.37327176332473755, 'ce_loss': 8.225118637084961, 'cont_loss': 1.7417842149734497, 'teacher_loss': 8.110891342163086, 'total_loss': 16.539762496948242}\n"
     ]
    },
    {
     "name": "stderr",
     "output_type": "stream",
     "text": [
      "Validating:  22%|██▏       | 52/235 [00:32<01:38,  1.86it/s, loss=16.4321, avg_loss=16.4462]"
     ]
    },
    {
     "name": "stdout",
     "output_type": "stream",
     "text": [
      "{'kd_loss': 32.503299713134766, 'feature_loss': 0.33052384853363037, 'ce_loss': 7.985074520111084, 'cont_loss': 1.706195592880249, 'teacher_loss': 8.093509674072266, 'total_loss': 16.43207550048828}\n"
     ]
    },
    {
     "name": "stderr",
     "output_type": "stream",
     "text": [
      "Validating:  23%|██▎       | 53/235 [00:33<01:58,  1.54it/s, loss=16.5615, avg_loss=16.4484]"
     ]
    },
    {
     "name": "stdout",
     "output_type": "stream",
     "text": [
      "{'kd_loss': 32.50238037109375, 'feature_loss': 0.37084662914276123, 'ce_loss': 8.273393630981445, 'cont_loss': 1.770490050315857, 'teacher_loss': 8.09595012664795, 'total_loss': 16.5615291595459}\n"
     ]
    },
    {
     "name": "stderr",
     "output_type": "stream",
     "text": [
      "Validating:  23%|██▎       | 54/235 [00:33<01:49,  1.66it/s, loss=16.5058, avg_loss=16.4494]"
     ]
    },
    {
     "name": "stdout",
     "output_type": "stream",
     "text": [
      "{'kd_loss': 32.50422668457031, 'feature_loss': 0.44302642345428467, 'ce_loss': 8.109003067016602, 'cont_loss': 1.7190427780151367, 'teacher_loss': 8.076367378234863, 'total_loss': 16.505800247192383}\n"
     ]
    },
    {
     "name": "stderr",
     "output_type": "stream",
     "text": [
      "Validating:  23%|██▎       | 55/235 [00:34<01:42,  1.76it/s, loss=16.4586, avg_loss=16.4496]"
     ]
    },
    {
     "name": "stdout",
     "output_type": "stream",
     "text": [
      "{'kd_loss': 32.50437545776367, 'feature_loss': 0.44888532161712646, 'ce_loss': 7.98488187789917, 'cont_loss': 1.7307928800582886, 'teacher_loss': 8.078309059143066, 'total_loss': 16.458559036254883}\n"
     ]
    },
    {
     "name": "stderr",
     "output_type": "stream",
     "text": [
      "Validating:  24%|██▍       | 56/235 [00:34<01:37,  1.83it/s, loss=16.6557, avg_loss=16.4533]"
     ]
    },
    {
     "name": "stdout",
     "output_type": "stream",
     "text": [
      "{'kd_loss': 32.50298309326172, 'feature_loss': 0.396883487701416, 'ce_loss': 8.484673500061035, 'cont_loss': 1.813004493713379, 'teacher_loss': 8.089407920837402, 'total_loss': 16.65574073791504}\n"
     ]
    },
    {
     "name": "stderr",
     "output_type": "stream",
     "text": [
      "Validating:  24%|██▍       | 57/235 [00:35<01:52,  1.59it/s, loss=16.6168, avg_loss=16.4561]"
     ]
    },
    {
     "name": "stdout",
     "output_type": "stream",
     "text": [
      "{'kd_loss': 32.50324249267578, 'feature_loss': 0.3768937587738037, 'ce_loss': 8.400262832641602, 'cont_loss': 1.800316333770752, 'teacher_loss': 8.102445602416992, 'total_loss': 16.616811752319336}\n"
     ]
    },
    {
     "name": "stderr",
     "output_type": "stream",
     "text": [
      "Validating:  25%|██▍       | 58/235 [00:35<01:43,  1.71it/s, loss=16.5220, avg_loss=16.4573]"
     ]
    },
    {
     "name": "stdout",
     "output_type": "stream",
     "text": [
      "{'kd_loss': 32.50309371948242, 'feature_loss': 0.3469783663749695, 'ce_loss': 8.171553611755371, 'cont_loss': 1.8278228044509888, 'teacher_loss': 8.100042343139648, 'total_loss': 16.52203941345215}\n"
     ]
    },
    {
     "name": "stderr",
     "output_type": "stream",
     "text": [
      "Validating:  25%|██▌       | 59/235 [00:36<01:37,  1.80it/s, loss=16.4915, avg_loss=16.4579]"
     ]
    },
    {
     "name": "stdout",
     "output_type": "stream",
     "text": [
      "{'kd_loss': 32.503089904785156, 'feature_loss': 0.3209550380706787, 'ce_loss': 8.104338645935059, 'cont_loss': 1.843834638595581, 'teacher_loss': 8.095072746276855, 'total_loss': 16.491546630859375}\n"
     ]
    },
    {
     "name": "stderr",
     "output_type": "stream",
     "text": [
      "Validating:  26%|██▌       | 60/235 [00:36<01:33,  1.86it/s, loss=16.6830, avg_loss=16.4616]"
     ]
    },
    {
     "name": "stdout",
     "output_type": "stream",
     "text": [
      "{'kd_loss': 32.503257751464844, 'feature_loss': 0.40752410888671875, 'ce_loss': 8.54055404663086, 'cont_loss': 1.83958101272583, 'teacher_loss': 8.08887767791748, 'total_loss': 16.6829891204834}\n"
     ]
    },
    {
     "name": "stderr",
     "output_type": "stream",
     "text": [
      "Validating:  26%|██▌       | 61/235 [00:37<01:49,  1.58it/s, loss=16.5402, avg_loss=16.4629]"
     ]
    },
    {
     "name": "stdout",
     "output_type": "stream",
     "text": [
      "{'kd_loss': 32.503719329833984, 'feature_loss': 0.3457658290863037, 'ce_loss': 8.206596374511719, 'cont_loss': 1.8689472675323486, 'teacher_loss': 8.088157653808594, 'total_loss': 16.54017448425293}\n"
     ]
    },
    {
     "name": "stderr",
     "output_type": "stream",
     "text": [
      "Validating:  26%|██▋       | 62/235 [00:38<01:41,  1.70it/s, loss=16.4413, avg_loss=16.4626]"
     ]
    },
    {
     "name": "stdout",
     "output_type": "stream",
     "text": [
      "{'kd_loss': 32.503108978271484, 'feature_loss': 0.2864567041397095, 'ce_loss': 7.989947319030762, 'cont_loss': 1.867527961730957, 'teacher_loss': 8.099153518676758, 'total_loss': 16.441265106201172}\n"
     ]
    },
    {
     "name": "stderr",
     "output_type": "stream",
     "text": [
      "Validating:  27%|██▋       | 63/235 [00:38<01:36,  1.79it/s, loss=16.5703, avg_loss=16.4643]"
     ]
    },
    {
     "name": "stdout",
     "output_type": "stream",
     "text": [
      "{'kd_loss': 32.502716064453125, 'feature_loss': 0.3546328544616699, 'ce_loss': 8.246957778930664, 'cont_loss': 1.9950224161148071, 'teacher_loss': 8.099875450134277, 'total_loss': 16.57029914855957}\n"
     ]
    },
    {
     "name": "stderr",
     "output_type": "stream",
     "text": [
      "Validating:  27%|██▋       | 64/235 [00:39<01:32,  1.85it/s, loss=16.4634, avg_loss=16.4643]"
     ]
    },
    {
     "name": "stdout",
     "output_type": "stream",
     "text": [
      "{'kd_loss': 32.50196075439453, 'feature_loss': 0.3612292408943176, 'ce_loss': 8.008538246154785, 'cont_loss': 1.8695484399795532, 'teacher_loss': 8.095002174377441, 'total_loss': 16.46339988708496}\n"
     ]
    },
    {
     "name": "stderr",
     "output_type": "stream",
     "text": [
      "Validating:  28%|██▊       | 65/235 [00:39<01:41,  1.68it/s, loss=16.5243, avg_loss=16.4652]"
     ]
    },
    {
     "name": "stdout",
     "output_type": "stream",
     "text": [
      "{'kd_loss': 32.50230407714844, 'feature_loss': 0.3288145065307617, 'ce_loss': 8.160384178161621, 'cont_loss': 1.9346401691436768, 'teacher_loss': 8.103327751159668, 'total_loss': 16.524303436279297}\n"
     ]
    },
    {
     "name": "stderr",
     "output_type": "stream",
     "text": [
      "Validating:  28%|██▊       | 66/235 [00:40<01:35,  1.77it/s, loss=16.4557, avg_loss=16.4650]"
     ]
    },
    {
     "name": "stdout",
     "output_type": "stream",
     "text": [
      "{'kd_loss': 32.50341033935547, 'feature_loss': 0.2844545245170593, 'ce_loss': 8.030299186706543, 'cont_loss': 1.852844476699829, 'teacher_loss': 8.104706764221191, 'total_loss': 16.455657958984375}\n"
     ]
    },
    {
     "name": "stderr",
     "output_type": "stream",
     "text": [
      "Validating:  29%|██▊       | 67/235 [00:40<01:30,  1.85it/s, loss=16.4362, avg_loss=16.4646]"
     ]
    },
    {
     "name": "stdout",
     "output_type": "stream",
     "text": [
      "{'kd_loss': 32.50187301635742, 'feature_loss': 0.38360166549682617, 'ce_loss': 7.9254374504089355, 'cont_loss': 1.8859996795654297, 'teacher_loss': 8.08947467803955, 'total_loss': 16.43624496459961}\n"
     ]
    },
    {
     "name": "stderr",
     "output_type": "stream",
     "text": [
      "Validating:  29%|██▉       | 68/235 [00:41<01:27,  1.91it/s, loss=16.5970, avg_loss=16.4665]"
     ]
    },
    {
     "name": "stdout",
     "output_type": "stream",
     "text": [
      "{'kd_loss': 32.502410888671875, 'feature_loss': 0.3503299355506897, 'ce_loss': 8.301843643188477, 'cont_loss': 2.0524888038635254, 'teacher_loss': 8.096928596496582, 'total_loss': 16.597017288208008}\n"
     ]
    },
    {
     "name": "stderr",
     "output_type": "stream",
     "text": [
      "Validating:  29%|██▉       | 69/235 [00:42<01:39,  1.66it/s, loss=16.4704, avg_loss=16.4666]"
     ]
    },
    {
     "name": "stdout",
     "output_type": "stream",
     "text": [
      "{'kd_loss': 32.503456115722656, 'feature_loss': 0.3388819694519043, 'ce_loss': 8.036901473999023, 'cont_loss': 1.864607334136963, 'teacher_loss': 8.082998275756836, 'total_loss': 16.470380783081055}\n"
     ]
    },
    {
     "name": "stderr",
     "output_type": "stream",
     "text": [
      "Validating:  30%|██▉       | 70/235 [00:42<01:33,  1.76it/s, loss=16.4919, avg_loss=16.4670]"
     ]
    },
    {
     "name": "stdout",
     "output_type": "stream",
     "text": [
      "{'kd_loss': 32.50216293334961, 'feature_loss': 0.3443793058395386, 'ce_loss': 8.08218002319336, 'cont_loss': 1.89284348487854, 'teacher_loss': 8.103981018066406, 'total_loss': 16.491897583007812}\n"
     ]
    },
    {
     "name": "stderr",
     "output_type": "stream",
     "text": [
      "Validating:  30%|███       | 71/235 [00:43<01:28,  1.84it/s, loss=16.5069, avg_loss=16.4675]"
     ]
    },
    {
     "name": "stdout",
     "output_type": "stream",
     "text": [
      "{'kd_loss': 32.502357482910156, 'feature_loss': 0.3871375322341919, 'ce_loss': 8.081151962280273, 'cont_loss': 1.9610412120819092, 'teacher_loss': 8.082395553588867, 'total_loss': 16.506935119628906}\n"
     ]
    },
    {
     "name": "stderr",
     "output_type": "stream",
     "text": [
      "Validating:  31%|███       | 72/235 [00:43<01:25,  1.91it/s, loss=16.5644, avg_loss=16.4689]"
     ]
    },
    {
     "name": "stdout",
     "output_type": "stream",
     "text": [
      "{'kd_loss': 32.50360870361328, 'feature_loss': 0.3591090440750122, 'ce_loss': 8.229398727416992, 'cont_loss': 1.9940333366394043, 'teacher_loss': 8.088417053222656, 'total_loss': 16.564428329467773}\n"
     ]
    },
    {
     "name": "stderr",
     "output_type": "stream",
     "text": [
      "Validating:  31%|███       | 73/235 [00:44<01:34,  1.71it/s, loss=16.5546, avg_loss=16.4700]"
     ]
    },
    {
     "name": "stdout",
     "output_type": "stream",
     "text": [
      "{'kd_loss': 32.50204849243164, 'feature_loss': 0.33164477348327637, 'ce_loss': 8.234786987304688, 'cont_loss': 1.9351892471313477, 'teacher_loss': 8.114969253540039, 'total_loss': 16.554582595825195}\n"
     ]
    },
    {
     "name": "stderr",
     "output_type": "stream",
     "text": [
      "Validating:  31%|███▏      | 74/235 [00:44<01:29,  1.80it/s, loss=16.5234, avg_loss=16.4708]"
     ]
    },
    {
     "name": "stdout",
     "output_type": "stream",
     "text": [
      "{'kd_loss': 32.50190734863281, 'feature_loss': 0.31321704387664795, 'ce_loss': 8.14968490600586, 'cont_loss': 2.001577377319336, 'teacher_loss': 8.105144500732422, 'total_loss': 16.5234375}\n"
     ]
    },
    {
     "name": "stderr",
     "output_type": "stream",
     "text": [
      "Validating:  32%|███▏      | 75/235 [00:45<01:25,  1.87it/s, loss=16.4202, avg_loss=16.4701]"
     ]
    },
    {
     "name": "stdout",
     "output_type": "stream",
     "text": [
      "{'kd_loss': 32.502899169921875, 'feature_loss': 0.3263915777206421, 'ce_loss': 7.884057521820068, 'cont_loss': 2.0018539428710938, 'teacher_loss': 8.106790542602539, 'total_loss': 16.420246124267578}\n"
     ]
    },
    {
     "name": "stderr",
     "output_type": "stream",
     "text": [
      "Validating:  32%|███▏      | 76/235 [00:45<01:22,  1.93it/s, loss=16.4973, avg_loss=16.4705]"
     ]
    },
    {
     "name": "stdout",
     "output_type": "stream",
     "text": [
      "{'kd_loss': 32.50166702270508, 'feature_loss': 0.36000508069992065, 'ce_loss': 8.063275337219238, 'cont_loss': 1.9935448169708252, 'teacher_loss': 8.084625244140625, 'total_loss': 16.497331619262695}\n"
     ]
    },
    {
     "name": "stderr",
     "output_type": "stream",
     "text": [
      "Validating:  33%|███▎      | 77/235 [00:46<01:51,  1.42it/s, loss=16.5428, avg_loss=16.4714]"
     ]
    },
    {
     "name": "stdout",
     "output_type": "stream",
     "text": [
      "{'kd_loss': 32.50293731689453, 'feature_loss': 0.349273145198822, 'ce_loss': 8.16393756866455, 'cont_loss': 2.0620925426483154, 'teacher_loss': 8.090646743774414, 'total_loss': 16.542814254760742}\n"
     ]
    },
    {
     "name": "stderr",
     "output_type": "stream",
     "text": [
      "Validating:  33%|███▎      | 78/235 [00:47<01:40,  1.56it/s, loss=16.5654, avg_loss=16.4726]"
     ]
    },
    {
     "name": "stdout",
     "output_type": "stream",
     "text": [
      "{'kd_loss': 32.501808166503906, 'feature_loss': 0.3902932405471802, 'ce_loss': 8.211889266967773, 'cont_loss': 2.0187771320343018, 'teacher_loss': 8.085205078125, 'total_loss': 16.565414428710938}\n"
     ]
    },
    {
     "name": "stderr",
     "output_type": "stream",
     "text": [
      "Validating:  34%|███▎      | 79/235 [00:47<01:32,  1.68it/s, loss=16.5394, avg_loss=16.4734]"
     ]
    },
    {
     "name": "stdout",
     "output_type": "stream",
     "text": [
      "{'kd_loss': 32.50162124633789, 'feature_loss': 0.33369338512420654, 'ce_loss': 8.139615058898926, 'cont_loss': 2.161602020263672, 'teacher_loss': 8.09585189819336, 'total_loss': 16.53939437866211}\n"
     ]
    },
    {
     "name": "stderr",
     "output_type": "stream",
     "text": [
      "Validating:  34%|███▍      | 80/235 [00:48<01:26,  1.78it/s, loss=16.5353, avg_loss=16.4742]"
     ]
    },
    {
     "name": "stdout",
     "output_type": "stream",
     "text": [
      "{'kd_loss': 32.50297546386719, 'feature_loss': 0.3509051203727722, 'ce_loss': 8.13882064819336, 'cont_loss': 2.084465742111206, 'teacher_loss': 8.086822509765625, 'total_loss': 16.53534507751465}\n"
     ]
    },
    {
     "name": "stderr",
     "output_type": "stream",
     "text": [
      "Validating:  34%|███▍      | 81/235 [00:49<01:35,  1.62it/s, loss=16.4659, avg_loss=16.4741]"
     ]
    },
    {
     "name": "stdout",
     "output_type": "stream",
     "text": [
      "{'kd_loss': 32.50262451171875, 'feature_loss': 0.3768467903137207, 'ce_loss': 7.9545369148254395, 'cont_loss': 2.076876163482666, 'teacher_loss': 8.105262756347656, 'total_loss': 16.46592140197754}\n"
     ]
    },
    {
     "name": "stderr",
     "output_type": "stream",
     "text": [
      "Validating:  35%|███▍      | 82/235 [00:49<01:28,  1.73it/s, loss=16.5155, avg_loss=16.4746]"
     ]
    },
    {
     "name": "stdout",
     "output_type": "stream",
     "text": [
      "{'kd_loss': 32.50265884399414, 'feature_loss': 0.3615550994873047, 'ce_loss': 8.0824613571167, 'cont_loss': 2.0917162895202637, 'teacher_loss': 8.099885940551758, 'total_loss': 16.51552963256836}\n"
     ]
    },
    {
     "name": "stderr",
     "output_type": "stream",
     "text": [
      "Validating:  35%|███▌      | 83/235 [00:50<01:23,  1.82it/s, loss=16.6124, avg_loss=16.4763]"
     ]
    },
    {
     "name": "stdout",
     "output_type": "stream",
     "text": [
      "{'kd_loss': 32.50297546386719, 'feature_loss': 0.3556138277053833, 'ce_loss': 8.324753761291504, 'cont_loss': 2.102100372314453, 'teacher_loss': 8.083412170410156, 'total_loss': 16.612424850463867}\n"
     ]
    },
    {
     "name": "stderr",
     "output_type": "stream",
     "text": [
      "Validating:  36%|███▌      | 84/235 [00:50<01:20,  1.88it/s, loss=16.5796, avg_loss=16.4775]"
     ]
    },
    {
     "name": "stdout",
     "output_type": "stream",
     "text": [
      "{'kd_loss': 32.502071380615234, 'feature_loss': 0.33407849073410034, 'ce_loss': 8.256667137145996, 'cont_loss': 2.0928988456726074, 'teacher_loss': 8.113460540771484, 'total_loss': 16.579601287841797}\n"
     ]
    },
    {
     "name": "stderr",
     "output_type": "stream",
     "text": [
      "Validating:  36%|███▌      | 85/235 [00:51<01:32,  1.63it/s, loss=16.5436, avg_loss=16.4783]"
     ]
    },
    {
     "name": "stdout",
     "output_type": "stream",
     "text": [
      "{'kd_loss': 32.50238800048828, 'feature_loss': 0.42004263401031494, 'ce_loss': 8.117177963256836, 'cont_loss': 2.1178088188171387, 'teacher_loss': 8.095014572143555, 'total_loss': 16.543615341186523}\n"
     ]
    },
    {
     "name": "stderr",
     "output_type": "stream",
     "text": [
      "Validating:  37%|███▋      | 86/235 [00:51<01:25,  1.74it/s, loss=16.6067, avg_loss=16.4798]"
     ]
    },
    {
     "name": "stdout",
     "output_type": "stream",
     "text": [
      "{'kd_loss': 32.50373840332031, 'feature_loss': 0.36936020851135254, 'ce_loss': 8.261192321777344, 'cont_loss': 2.2686071395874023, 'teacher_loss': 8.080495834350586, 'total_loss': 16.606704711914062}\n"
     ]
    },
    {
     "name": "stderr",
     "output_type": "stream",
     "text": [
      "Validating:  37%|███▋      | 87/235 [00:52<01:21,  1.82it/s, loss=16.6245, avg_loss=16.4814]"
     ]
    },
    {
     "name": "stdout",
     "output_type": "stream",
     "text": [
      "{'kd_loss': 32.5035514831543, 'feature_loss': 0.4277394413948059, 'ce_loss': 8.312026977539062, 'cont_loss': 2.127606153488159, 'teacher_loss': 8.072990417480469, 'total_loss': 16.624540328979492}\n"
     ]
    },
    {
     "name": "stderr",
     "output_type": "stream",
     "text": [
      "Validating:  37%|███▋      | 88/235 [00:52<01:17,  1.89it/s, loss=16.5183, avg_loss=16.4819]"
     ]
    },
    {
     "name": "stdout",
     "output_type": "stream",
     "text": [
      "{'kd_loss': 32.502288818359375, 'feature_loss': 0.37430834770202637, 'ce_loss': 8.067448616027832, 'cont_loss': 2.15519642829895, 'teacher_loss': 8.096902847290039, 'total_loss': 16.51827621459961}\n"
     ]
    },
    {
     "name": "stderr",
     "output_type": "stream",
     "text": [
      "Validating:  38%|███▊      | 89/235 [00:53<01:29,  1.63it/s, loss=16.5365, avg_loss=16.4825]"
     ]
    },
    {
     "name": "stdout",
     "output_type": "stream",
     "text": [
      "{'kd_loss': 32.50285720825195, 'feature_loss': 0.35162144899368286, 'ce_loss': 8.110386848449707, 'cont_loss': 2.208353042602539, 'teacher_loss': 8.08785343170166, 'total_loss': 16.536457061767578}\n"
     ]
    },
    {
     "name": "stderr",
     "output_type": "stream",
     "text": [
      "Validating:  38%|███▊      | 90/235 [00:54<01:23,  1.74it/s, loss=16.5995, avg_loss=16.4838]"
     ]
    },
    {
     "name": "stdout",
     "output_type": "stream",
     "text": [
      "{'kd_loss': 32.501731872558594, 'feature_loss': 0.367370069026947, 'ce_loss': 8.275997161865234, 'cont_loss': 2.1497554779052734, 'teacher_loss': 8.090456008911133, 'total_loss': 16.59954071044922}\n"
     ]
    },
    {
     "name": "stderr",
     "output_type": "stream",
     "text": [
      "Validating:  39%|███▊      | 91/235 [00:54<01:18,  1.82it/s, loss=16.5778, avg_loss=16.4848]"
     ]
    },
    {
     "name": "stdout",
     "output_type": "stream",
     "text": [
      "{'kd_loss': 32.5026969909668, 'feature_loss': 0.3296334743499756, 'ce_loss': 8.193705558776855, 'cont_loss': 2.3335120677948, 'teacher_loss': 8.094518661499023, 'total_loss': 16.577838897705078}\n"
     ]
    },
    {
     "name": "stderr",
     "output_type": "stream",
     "text": [
      "Validating:  39%|███▉      | 92/235 [00:55<01:15,  1.89it/s, loss=16.5920, avg_loss=16.4860]"
     ]
    },
    {
     "name": "stdout",
     "output_type": "stream",
     "text": [
      "{'kd_loss': 32.5032958984375, 'feature_loss': 0.3061615824699402, 'ce_loss': 8.274275779724121, 'cont_loss': 2.197762966156006, 'teacher_loss': 8.103399276733398, 'total_loss': 16.592037200927734}\n"
     ]
    },
    {
     "name": "stderr",
     "output_type": "stream",
     "text": [
      "Validating:  40%|███▉      | 93/235 [00:55<01:26,  1.64it/s, loss=16.6087, avg_loss=16.4873]"
     ]
    },
    {
     "name": "stdout",
     "output_type": "stream",
     "text": [
      "{'kd_loss': 32.5034065246582, 'feature_loss': 0.3621826171875, 'ce_loss': 8.29596996307373, 'cont_loss': 2.1648988723754883, 'teacher_loss': 8.08327579498291, 'total_loss': 16.60867691040039}\n"
     ]
    },
    {
     "name": "stderr",
     "output_type": "stream",
     "text": [
      "Validating:  40%|████      | 94/235 [00:56<01:20,  1.75it/s, loss=16.5372, avg_loss=16.4878]"
     ]
    },
    {
     "name": "stdout",
     "output_type": "stream",
     "text": [
      "{'kd_loss': 32.503562927246094, 'feature_loss': 0.3318054676055908, 'ce_loss': 8.087122917175293, 'cont_loss': 2.345771312713623, 'teacher_loss': 8.089729309082031, 'total_loss': 16.537214279174805}\n"
     ]
    },
    {
     "name": "stderr",
     "output_type": "stream",
     "text": [
      "Validating:  40%|████      | 95/235 [00:56<01:16,  1.83it/s, loss=16.4662, avg_loss=16.4876]"
     ]
    },
    {
     "name": "stdout",
     "output_type": "stream",
     "text": [
      "{'kd_loss': 32.50310516357422, 'feature_loss': 0.3861270546913147, 'ce_loss': 7.909515857696533, 'cont_loss': 2.2397141456604004, 'teacher_loss': 8.091991424560547, 'total_loss': 16.46624755859375}\n"
     ]
    },
    {
     "name": "stderr",
     "output_type": "stream",
     "text": [
      "Validating:  41%|████      | 96/235 [00:57<01:13,  1.89it/s, loss=16.5974, avg_loss=16.4887]"
     ]
    },
    {
     "name": "stdout",
     "output_type": "stream",
     "text": [
      "{'kd_loss': 32.503822326660156, 'feature_loss': 0.3600907325744629, 'ce_loss': 8.246112823486328, 'cont_loss': 2.2538535594940186, 'teacher_loss': 8.093052864074707, 'total_loss': 16.59737777709961}\n"
     ]
    },
    {
     "name": "stderr",
     "output_type": "stream",
     "text": [
      "Validating:  41%|████▏     | 97/235 [00:58<01:21,  1.69it/s, loss=16.5453, avg_loss=16.4893]"
     ]
    },
    {
     "name": "stdout",
     "output_type": "stream",
     "text": [
      "{'kd_loss': 32.502105712890625, 'feature_loss': 0.3626100420951843, 'ce_loss': 8.119502067565918, 'cont_loss': 2.241358757019043, 'teacher_loss': 8.092496871948242, 'total_loss': 16.54530143737793}\n"
     ]
    },
    {
     "name": "stderr",
     "output_type": "stream",
     "text": [
      "Validating:  42%|████▏     | 98/235 [00:58<01:16,  1.78it/s, loss=16.5754, avg_loss=16.4902]"
     ]
    },
    {
     "name": "stdout",
     "output_type": "stream",
     "text": [
      "{'kd_loss': 32.502132415771484, 'feature_loss': 0.3950214982032776, 'ce_loss': 8.137269020080566, 'cont_loss': 2.4063501358032227, 'teacher_loss': 8.084912300109863, 'total_loss': 16.575401306152344}\n"
     ]
    },
    {
     "name": "stderr",
     "output_type": "stream",
     "text": [
      "Validating:  42%|████▏     | 99/235 [00:59<01:13,  1.86it/s, loss=16.5511, avg_loss=16.4908]"
     ]
    },
    {
     "name": "stdout",
     "output_type": "stream",
     "text": [
      "{'kd_loss': 32.5026741027832, 'feature_loss': 0.3540787100791931, 'ce_loss': 8.119026184082031, 'cont_loss': 2.3161559104919434, 'teacher_loss': 8.088884353637695, 'total_loss': 16.551111221313477}\n"
     ]
    },
    {
     "name": "stderr",
     "output_type": "stream",
     "text": [
      "Validating:  43%|████▎     | 100/235 [00:59<01:10,  1.91it/s, loss=16.4909, avg_loss=16.4908]"
     ]
    },
    {
     "name": "stdout",
     "output_type": "stream",
     "text": [
      "{'kd_loss': 32.50351333618164, 'feature_loss': 0.30779874324798584, 'ce_loss': 7.986842155456543, 'cont_loss': 2.331662178039551, 'teacher_loss': 8.108585357666016, 'total_loss': 16.490867614746094}\n"
     ]
    },
    {
     "name": "stderr",
     "output_type": "stream",
     "text": [
      "Validating:  43%|████▎     | 101/235 [01:00<01:21,  1.65it/s, loss=16.5749, avg_loss=16.4917]"
     ]
    },
    {
     "name": "stdout",
     "output_type": "stream",
     "text": [
      "{'kd_loss': 32.50213623046875, 'feature_loss': 0.3318210244178772, 'ce_loss': 8.186800956726074, 'cont_loss': 2.3295929431915283, 'teacher_loss': 8.101523399353027, 'total_loss': 16.574899673461914}\n"
     ]
    },
    {
     "name": "stderr",
     "output_type": "stream",
     "text": [
      "Validating:  43%|████▎     | 102/235 [01:00<01:15,  1.76it/s, loss=16.5543, avg_loss=16.4923]"
     ]
    },
    {
     "name": "stdout",
     "output_type": "stream",
     "text": [
      "{'kd_loss': 32.502525329589844, 'feature_loss': 0.30395936965942383, 'ce_loss': 8.149057388305664, 'cont_loss': 2.328946113586426, 'teacher_loss': 8.103516578674316, 'total_loss': 16.554319381713867}\n"
     ]
    },
    {
     "name": "stderr",
     "output_type": "stream",
     "text": [
      "Validating:  44%|████▍     | 103/235 [01:01<01:11,  1.84it/s, loss=16.6292, avg_loss=16.4936]"
     ]
    },
    {
     "name": "stdout",
     "output_type": "stream",
     "text": [
      "{'kd_loss': 32.50260543823242, 'feature_loss': 0.32762300968170166, 'ce_loss': 8.281752586364746, 'cont_loss': 2.498953342437744, 'teacher_loss': 8.096431732177734, 'total_loss': 16.62916374206543}\n"
     ]
    },
    {
     "name": "stderr",
     "output_type": "stream",
     "text": [
      "Validating:  44%|████▍     | 104/235 [01:01<01:09,  1.90it/s, loss=16.6339, avg_loss=16.4949]"
     ]
    },
    {
     "name": "stdout",
     "output_type": "stream",
     "text": [
      "{'kd_loss': 32.501487731933594, 'feature_loss': 0.3218913674354553, 'ce_loss': 8.33229923248291, 'cont_loss': 2.360039472579956, 'teacher_loss': 8.09817886352539, 'total_loss': 16.63389778137207}\n"
     ]
    },
    {
     "name": "stderr",
     "output_type": "stream",
     "text": [
      "Validating:  45%|████▍     | 105/235 [01:02<01:13,  1.78it/s, loss=16.5403, avg_loss=16.4954]"
     ]
    },
    {
     "name": "stdout",
     "output_type": "stream",
     "text": [
      "{'kd_loss': 32.502593994140625, 'feature_loss': 0.32723188400268555, 'ce_loss': 8.090141296386719, 'cont_loss': 2.377185106277466, 'teacher_loss': 8.094849586486816, 'total_loss': 16.540260314941406}\n"
     ]
    },
    {
     "name": "stderr",
     "output_type": "stream",
     "text": [
      "Validating:  45%|████▌     | 106/235 [01:02<01:09,  1.86it/s, loss=16.6834, avg_loss=16.4972]"
     ]
    },
    {
     "name": "stdout",
     "output_type": "stream",
     "text": [
      "{'kd_loss': 32.50376510620117, 'feature_loss': 0.39421623945236206, 'ce_loss': 8.373501777648926, 'cont_loss': 2.5367865562438965, 'teacher_loss': 8.092052459716797, 'total_loss': 16.683429718017578}\n"
     ]
    },
    {
     "name": "stderr",
     "output_type": "stream",
     "text": [
      "Validating:  46%|████▌     | 107/235 [01:03<01:06,  1.91it/s, loss=16.4736, avg_loss=16.4969]"
     ]
    },
    {
     "name": "stdout",
     "output_type": "stream",
     "text": [
      "{'kd_loss': 32.50372314453125, 'feature_loss': 0.4142758846282959, 'ce_loss': 7.887690544128418, 'cont_loss': 2.342006206512451, 'teacher_loss': 8.097107887268066, 'total_loss': 16.473623275756836}\n"
     ]
    },
    {
     "name": "stderr",
     "output_type": "stream",
     "text": [
      "Validating:  46%|████▌     | 108/235 [01:03<01:04,  1.96it/s, loss=16.5511, avg_loss=16.4974]"
     ]
    },
    {
     "name": "stdout",
     "output_type": "stream",
     "text": [
      "{'kd_loss': 32.5023193359375, 'feature_loss': 0.38009220361709595, 'ce_loss': 8.102046012878418, 'cont_loss': 2.3332858085632324, 'teacher_loss': 8.091135025024414, 'total_loss': 16.55109214782715}\n"
     ]
    },
    {
     "name": "stderr",
     "output_type": "stream",
     "text": [
      "Validating:  46%|████▋     | 109/235 [01:04<01:13,  1.72it/s, loss=16.5617, avg_loss=16.4980]"
     ]
    },
    {
     "name": "stdout",
     "output_type": "stream",
     "text": [
      "{'kd_loss': 32.502716064453125, 'feature_loss': 0.3278072476387024, 'ce_loss': 8.109506607055664, 'cont_loss': 2.512273073196411, 'teacher_loss': 8.089242935180664, 'total_loss': 16.561676025390625}\n"
     ]
    },
    {
     "name": "stderr",
     "output_type": "stream",
     "text": [
      "Validating:  47%|████▋     | 110/235 [01:05<01:09,  1.81it/s, loss=16.5829, avg_loss=16.4988]"
     ]
    },
    {
     "name": "stdout",
     "output_type": "stream",
     "text": [
      "{'kd_loss': 32.503013610839844, 'feature_loss': 0.3759081959724426, 'ce_loss': 8.158682823181152, 'cont_loss': 2.4299817085266113, 'teacher_loss': 8.087433815002441, 'total_loss': 16.58285903930664}\n"
     ]
    },
    {
     "name": "stderr",
     "output_type": "stream",
     "text": [
      "Validating:  47%|████▋     | 111/235 [01:05<01:06,  1.88it/s, loss=16.5670, avg_loss=16.4994]"
     ]
    },
    {
     "name": "stdout",
     "output_type": "stream",
     "text": [
      "{'kd_loss': 32.50208282470703, 'feature_loss': 0.36082834005355835, 'ce_loss': 8.124857902526855, 'cont_loss': 2.440239429473877, 'teacher_loss': 8.097420692443848, 'total_loss': 16.566967010498047}\n"
     ]
    },
    {
     "name": "stderr",
     "output_type": "stream",
     "text": [
      "Validating:  48%|████▊     | 112/235 [01:06<01:03,  1.93it/s, loss=16.5775, avg_loss=16.5001]"
     ]
    },
    {
     "name": "stdout",
     "output_type": "stream",
     "text": [
      "{'kd_loss': 32.50358200073242, 'feature_loss': 0.4215204119682312, 'ce_loss': 8.124297142028809, 'cont_loss': 2.420039653778076, 'teacher_loss': 8.098183631896973, 'total_loss': 16.57746124267578}\n"
     ]
    },
    {
     "name": "stderr",
     "output_type": "stream",
     "text": [
      "Validating:  48%|████▊     | 113/235 [01:07<01:16,  1.59it/s, loss=16.5076, avg_loss=16.5002]"
     ]
    },
    {
     "name": "stdout",
     "output_type": "stream",
     "text": [
      "{'kd_loss': 32.503665924072266, 'feature_loss': 0.3711869716644287, 'ce_loss': 7.979132652282715, 'cont_loss': 2.402763605117798, 'teacher_loss': 8.09814453125, 'total_loss': 16.507633209228516}\n"
     ]
    },
    {
     "name": "stderr",
     "output_type": "stream",
     "text": [
      "Validating:  49%|████▊     | 114/235 [01:07<01:10,  1.71it/s, loss=16.6088, avg_loss=16.5011]"
     ]
    },
    {
     "name": "stdout",
     "output_type": "stream",
     "text": [
      "{'kd_loss': 32.50345230102539, 'feature_loss': 0.3991098403930664, 'ce_loss': 8.172233581542969, 'cont_loss': 2.5874266624450684, 'teacher_loss': 8.08686637878418, 'total_loss': 16.60883903503418}\n"
     ]
    },
    {
     "name": "stderr",
     "output_type": "stream",
     "text": [
      "Validating:  49%|████▉     | 115/235 [01:07<01:06,  1.80it/s, loss=16.7133, avg_loss=16.5030]"
     ]
    },
    {
     "name": "stdout",
     "output_type": "stream",
     "text": [
      "{'kd_loss': 32.503028869628906, 'feature_loss': 0.37951338291168213, 'ce_loss': 8.481451034545898, 'cont_loss': 2.4360299110412598, 'teacher_loss': 8.094348907470703, 'total_loss': 16.713298797607422}\n"
     ]
    },
    {
     "name": "stderr",
     "output_type": "stream",
     "text": [
      "Validating:  49%|████▉     | 116/235 [01:08<01:03,  1.87it/s, loss=16.5712, avg_loss=16.5036]"
     ]
    },
    {
     "name": "stdout",
     "output_type": "stream",
     "text": [
      "{'kd_loss': 32.50159454345703, 'feature_loss': 0.3087005615234375, 'ce_loss': 8.154187202453613, 'cont_loss': 2.47159743309021, 'teacher_loss': 8.093270301818848, 'total_loss': 16.571212768554688}\n"
     ]
    },
    {
     "name": "stderr",
     "output_type": "stream",
     "text": [
      "Validating:  50%|████▉     | 117/235 [01:09<01:13,  1.61it/s, loss=16.6306, avg_loss=16.5046]"
     ]
    },
    {
     "name": "stdout",
     "output_type": "stream",
     "text": [
      "{'kd_loss': 32.50290298461914, 'feature_loss': 0.3772357702255249, 'ce_loss': 8.256982803344727, 'cont_loss': 2.5123038291931152, 'teacher_loss': 8.080108642578125, 'total_loss': 16.630632400512695}\n"
     ]
    },
    {
     "name": "stderr",
     "output_type": "stream",
     "text": [
      "Validating:  50%|█████     | 118/235 [01:09<01:07,  1.73it/s, loss=16.5844, avg_loss=16.5053]"
     ]
    },
    {
     "name": "stdout",
     "output_type": "stream",
     "text": [
      "{'kd_loss': 32.50194549560547, 'feature_loss': 0.37144869565963745, 'ce_loss': 8.154022216796875, 'cont_loss': 2.477492094039917, 'teacher_loss': 8.085762977600098, 'total_loss': 16.58442497253418}\n"
     ]
    },
    {
     "name": "stderr",
     "output_type": "stream",
     "text": [
      "Validating:  51%|█████     | 119/235 [01:10<01:03,  1.82it/s, loss=16.6195, avg_loss=16.5063]"
     ]
    },
    {
     "name": "stdout",
     "output_type": "stream",
     "text": [
      "{'kd_loss': 32.5025520324707, 'feature_loss': 0.3421964645385742, 'ce_loss': 8.25070571899414, 'cont_loss': 2.4978041648864746, 'teacher_loss': 8.082352638244629, 'total_loss': 16.619524002075195}\n"
     ]
    },
    {
     "name": "stderr",
     "output_type": "stream",
     "text": [
      "Validating:  51%|█████     | 120/235 [01:10<01:01,  1.88it/s, loss=16.6344, avg_loss=16.5073]"
     ]
    },
    {
     "name": "stdout",
     "output_type": "stream",
     "text": [
      "{'kd_loss': 32.50108337402344, 'feature_loss': 0.4162170886993408, 'ce_loss': 8.241673469543457, 'cont_loss': 2.540283441543579, 'teacher_loss': 8.097439765930176, 'total_loss': 16.634374618530273}\n"
     ]
    },
    {
     "name": "stderr",
     "output_type": "stream",
     "text": [
      "Validating:  51%|█████▏    | 121/235 [01:11<01:13,  1.56it/s, loss=16.6172, avg_loss=16.5083]"
     ]
    },
    {
     "name": "stdout",
     "output_type": "stream",
     "text": [
      "{'kd_loss': 32.502967834472656, 'feature_loss': 0.34949761629104614, 'ce_loss': 8.227251052856445, 'cont_loss': 2.551851272583008, 'teacher_loss': 8.099791526794434, 'total_loss': 16.617172241210938}\n"
     ]
    },
    {
     "name": "stderr",
     "output_type": "stream",
     "text": [
      "Validating:  52%|█████▏    | 122/235 [01:12<01:07,  1.68it/s, loss=16.5145, avg_loss=16.5083]"
     ]
    },
    {
     "name": "stdout",
     "output_type": "stream",
     "text": [
      "{'kd_loss': 32.50310516357422, 'feature_loss': 0.361269474029541, 'ce_loss': 7.962401866912842, 'cont_loss': 2.5602524280548096, 'teacher_loss': 8.104787826538086, 'total_loss': 16.514482498168945}\n"
     ]
    },
    {
     "name": "stderr",
     "output_type": "stream",
     "text": [
      "Validating:  52%|█████▏    | 123/235 [01:12<01:02,  1.78it/s, loss=16.6250, avg_loss=16.5093]"
     ]
    },
    {
     "name": "stdout",
     "output_type": "stream",
     "text": [
      "{'kd_loss': 32.50309371948242, 'feature_loss': 0.34612953662872314, 'ce_loss': 8.221197128295898, 'cont_loss': 2.660993814468384, 'teacher_loss': 8.092538833618164, 'total_loss': 16.625043869018555}\n"
     ]
    },
    {
     "name": "stderr",
     "output_type": "stream",
     "text": [
      "Validating:  53%|█████▎    | 124/235 [01:13<00:59,  1.86it/s, loss=16.6489, avg_loss=16.5104]"
     ]
    },
    {
     "name": "stdout",
     "output_type": "stream",
     "text": [
      "{'kd_loss': 32.502197265625, 'feature_loss': 0.3511449098587036, 'ce_loss': 8.318134307861328, 'cont_loss': 2.505436897277832, 'teacher_loss': 8.083133697509766, 'total_loss': 16.64890480041504}\n"
     ]
    },
    {
     "name": "stderr",
     "output_type": "stream",
     "text": [
      "Validating:  53%|█████▎    | 125/235 [01:13<01:08,  1.62it/s, loss=16.6208, avg_loss=16.5113]"
     ]
    },
    {
     "name": "stdout",
     "output_type": "stream",
     "text": [
      "{'kd_loss': 32.502777099609375, 'feature_loss': 0.35641980171203613, 'ce_loss': 8.201050758361816, 'cont_loss': 2.6798489093780518, 'teacher_loss': 8.090967178344727, 'total_loss': 16.620800018310547}\n"
     ]
    },
    {
     "name": "stderr",
     "output_type": "stream",
     "text": [
      "Validating:  54%|█████▎    | 126/235 [01:14<01:02,  1.73it/s, loss=16.5594, avg_loss=16.5116]"
     ]
    },
    {
     "name": "stdout",
     "output_type": "stream",
     "text": [
      "{'kd_loss': 32.502132415771484, 'feature_loss': 0.35326075553894043, 'ce_loss': 8.082489967346191, 'cont_loss': 2.549315929412842, 'teacher_loss': 8.100201606750488, 'total_loss': 16.559432983398438}\n"
     ]
    },
    {
     "name": "stderr",
     "output_type": "stream",
     "text": [
      "Validating:  54%|█████▍    | 127/235 [01:14<00:59,  1.82it/s, loss=16.6125, avg_loss=16.5124]"
     ]
    },
    {
     "name": "stdout",
     "output_type": "stream",
     "text": [
      "{'kd_loss': 32.50335693359375, 'feature_loss': 0.40249478816986084, 'ce_loss': 8.173384666442871, 'cont_loss': 2.6131982803344727, 'teacher_loss': 8.082420349121094, 'total_loss': 16.612516403198242}\n"
     ]
    },
    {
     "name": "stderr",
     "output_type": "stream",
     "text": [
      "Validating:  54%|█████▍    | 128/235 [01:15<00:56,  1.89it/s, loss=16.4316, avg_loss=16.5118]"
     ]
    },
    {
     "name": "stdout",
     "output_type": "stream",
     "text": [
      "{'kd_loss': 32.50303268432617, 'feature_loss': 0.3646776080131531, 'ce_loss': 7.748575210571289, 'cont_loss': 2.5801422595977783, 'teacher_loss': 8.085832595825195, 'total_loss': 16.43159294128418}\n"
     ]
    },
    {
     "name": "stderr",
     "output_type": "stream",
     "text": [
      "Validating:  55%|█████▍    | 129/235 [01:16<01:15,  1.40it/s, loss=16.5653, avg_loss=16.5122]"
     ]
    },
    {
     "name": "stdout",
     "output_type": "stream",
     "text": [
      "{'kd_loss': 32.50296401977539, 'feature_loss': 0.3352193832397461, 'ce_loss': 8.086969375610352, 'cont_loss': 2.622770309448242, 'teacher_loss': 8.096997261047363, 'total_loss': 16.56529426574707}\n"
     ]
    },
    {
     "name": "stderr",
     "output_type": "stream",
     "text": [
      "Validating:  55%|█████▌    | 130/235 [01:16<01:07,  1.55it/s, loss=16.6480, avg_loss=16.5133]"
     ]
    },
    {
     "name": "stdout",
     "output_type": "stream",
     "text": [
      "{'kd_loss': 32.5023193359375, 'feature_loss': 0.3282861113548279, 'ce_loss': 8.262990951538086, 'cont_loss': 2.761932134628296, 'teacher_loss': 8.093382835388184, 'total_loss': 16.64797592163086}\n"
     ]
    },
    {
     "name": "stderr",
     "output_type": "stream",
     "text": [
      "Validating:  56%|█████▌    | 131/235 [01:17<01:01,  1.68it/s, loss=16.6611, avg_loss=16.5144]"
     ]
    },
    {
     "name": "stdout",
     "output_type": "stream",
     "text": [
      "{'kd_loss': 32.50236129760742, 'feature_loss': 0.3717254400253296, 'ce_loss': 8.263885498046875, 'cont_loss': 2.8026769161224365, 'teacher_loss': 8.095638275146484, 'total_loss': 16.66111183166504}\n"
     ]
    },
    {
     "name": "stderr",
     "output_type": "stream",
     "text": [
      "Validating:  56%|█████▌    | 132/235 [01:17<00:57,  1.78it/s, loss=16.5368, avg_loss=16.5146]"
     ]
    },
    {
     "name": "stdout",
     "output_type": "stream",
     "text": [
      "{'kd_loss': 32.501976013183594, 'feature_loss': 0.34415602684020996, 'ce_loss': 8.01407527923584, 'cont_loss': 2.6154582500457764, 'teacher_loss': 8.100946426391602, 'total_loss': 16.53679656982422}\n"
     ]
    },
    {
     "name": "stderr",
     "output_type": "stream",
     "text": [
      "Validating:  57%|█████▋    | 133/235 [01:19<01:12,  1.40it/s, loss=16.6623, avg_loss=16.5157]"
     ]
    },
    {
     "name": "stdout",
     "output_type": "stream",
     "text": [
      "{'kd_loss': 32.50303268432617, 'feature_loss': 0.3667895197868347, 'ce_loss': 8.31305980682373, 'cont_loss': 2.625433921813965, 'teacher_loss': 8.08658504486084, 'total_loss': 16.662338256835938}\n"
     ]
    },
    {
     "name": "stderr",
     "output_type": "stream",
     "text": [
      "Validating:  57%|█████▋    | 134/235 [01:19<01:04,  1.55it/s, loss=16.6158, avg_loss=16.5164]"
     ]
    },
    {
     "name": "stdout",
     "output_type": "stream",
     "text": [
      "{'kd_loss': 32.50244140625, 'feature_loss': 0.35824787616729736, 'ce_loss': 8.163074493408203, 'cont_loss': 2.7792811393737793, 'teacher_loss': 8.094579696655273, 'total_loss': 16.61578369140625}\n"
     ]
    },
    {
     "name": "stderr",
     "output_type": "stream",
     "text": [
      "Validating:  57%|█████▋    | 135/235 [01:19<00:59,  1.68it/s, loss=16.7354, avg_loss=16.5180]"
     ]
    },
    {
     "name": "stdout",
     "output_type": "stream",
     "text": [
      "{'kd_loss': 32.50271224975586, 'feature_loss': 0.38409364223480225, 'ce_loss': 8.40980052947998, 'cont_loss': 2.935718536376953, 'teacher_loss': 8.082764625549316, 'total_loss': 16.735395431518555}\n"
     ]
    },
    {
     "name": "stderr",
     "output_type": "stream",
     "text": [
      "Validating:  58%|█████▊    | 136/235 [01:20<00:55,  1.78it/s, loss=16.6108, avg_loss=16.5187]"
     ]
    },
    {
     "name": "stdout",
     "output_type": "stream",
     "text": [
      "{'kd_loss': 32.50212478637695, 'feature_loss': 0.3400310277938843, 'ce_loss': 8.19410514831543, 'cont_loss': 2.6428165435791016, 'teacher_loss': 8.093860626220703, 'total_loss': 16.610780715942383}\n"
     ]
    },
    {
     "name": "stderr",
     "output_type": "stream",
     "text": [
      "Validating:  58%|█████▊    | 137/235 [01:21<01:04,  1.51it/s, loss=16.6127, avg_loss=16.5194]"
     ]
    },
    {
     "name": "stdout",
     "output_type": "stream",
     "text": [
      "{'kd_loss': 32.50238800048828, 'feature_loss': 0.3881850242614746, 'ce_loss': 8.16385555267334, 'cont_loss': 2.685469627380371, 'teacher_loss': 8.089581489562988, 'total_loss': 16.612682342529297}\n"
     ]
    },
    {
     "name": "stderr",
     "output_type": "stream",
     "text": [
      "Validating:  59%|█████▊    | 138/235 [01:21<00:59,  1.64it/s, loss=16.5607, avg_loss=16.5197]"
     ]
    },
    {
     "name": "stdout",
     "output_type": "stream",
     "text": [
      "{'kd_loss': 32.50183868408203, 'feature_loss': 0.3526129722595215, 'ce_loss': 8.047317504882812, 'cont_loss': 2.705392599105835, 'teacher_loss': 8.092835426330566, 'total_loss': 16.56072235107422}\n"
     ]
    },
    {
     "name": "stderr",
     "output_type": "stream",
     "text": [
      "Validating:  59%|█████▉    | 139/235 [01:22<00:54,  1.75it/s, loss=16.6045, avg_loss=16.5203]"
     ]
    },
    {
     "name": "stdout",
     "output_type": "stream",
     "text": [
      "{'kd_loss': 32.50251770019531, 'feature_loss': 0.4001401662826538, 'ce_loss': 8.092947959899902, 'cont_loss': 2.8628454208374023, 'teacher_loss': 8.081155776977539, 'total_loss': 16.60449981689453}\n"
     ]
    },
    {
     "name": "stderr",
     "output_type": "stream",
     "text": [
      "Validating:  60%|█████▉    | 140/235 [01:22<00:51,  1.83it/s, loss=16.5583, avg_loss=16.5206]"
     ]
    },
    {
     "name": "stdout",
     "output_type": "stream",
     "text": [
      "{'kd_loss': 32.50328063964844, 'feature_loss': 0.36899513006210327, 'ce_loss': 8.038490295410156, 'cont_loss': 2.677433490753174, 'teacher_loss': 8.102415084838867, 'total_loss': 16.558252334594727}\n"
     ]
    },
    {
     "name": "stderr",
     "output_type": "stream",
     "text": [
      "Validating:  60%|██████    | 141/235 [01:23<01:02,  1.50it/s, loss=16.6289, avg_loss=16.5214]"
     ]
    },
    {
     "name": "stdout",
     "output_type": "stream",
     "text": [
      "{'kd_loss': 32.50371551513672, 'feature_loss': 0.38261497020721436, 'ce_loss': 8.205206871032715, 'cont_loss': 2.688183546066284, 'teacher_loss': 8.086971282958984, 'total_loss': 16.628910064697266}\n"
     ]
    },
    {
     "name": "stderr",
     "output_type": "stream",
     "text": [
      "Validating:  60%|██████    | 142/235 [01:24<00:57,  1.63it/s, loss=16.6738, avg_loss=16.5224]"
     ]
    },
    {
     "name": "stdout",
     "output_type": "stream",
     "text": [
      "{'kd_loss': 32.50225067138672, 'feature_loss': 0.3730076551437378, 'ce_loss': 8.272832870483398, 'cont_loss': 2.8916807174682617, 'teacher_loss': 8.09776496887207, 'total_loss': 16.67380142211914}\n"
     ]
    },
    {
     "name": "stderr",
     "output_type": "stream",
     "text": [
      "Validating:  61%|██████    | 143/235 [01:24<00:52,  1.74it/s, loss=16.5849, avg_loss=16.5229]"
     ]
    },
    {
     "name": "stdout",
     "output_type": "stream",
     "text": [
      "{'kd_loss': 32.50303268432617, 'feature_loss': 0.4024965763092041, 'ce_loss': 8.072789192199707, 'cont_loss': 2.7411093711853027, 'teacher_loss': 8.082740783691406, 'total_loss': 16.58493995666504}\n"
     ]
    },
    {
     "name": "stderr",
     "output_type": "stream",
     "text": [
      "Validating:  61%|██████▏   | 144/235 [01:25<00:49,  1.83it/s, loss=16.6375, avg_loss=16.5237]"
     ]
    },
    {
     "name": "stdout",
     "output_type": "stream",
     "text": [
      "{'kd_loss': 32.50271987915039, 'feature_loss': 0.3573577404022217, 'ce_loss': 8.22163200378418, 'cont_loss': 2.7633180618286133, 'teacher_loss': 8.084929466247559, 'total_loss': 16.637542724609375}\n"
     ]
    },
    {
     "name": "stderr",
     "output_type": "stream",
     "text": [
      "Validating:  62%|██████▏   | 145/235 [01:26<00:58,  1.54it/s, loss=16.6478, avg_loss=16.5245]"
     ]
    },
    {
     "name": "stdout",
     "output_type": "stream",
     "text": [
      "{'kd_loss': 32.502620697021484, 'feature_loss': 0.38356339931488037, 'ce_loss': 8.194788932800293, 'cont_loss': 2.9216480255126953, 'teacher_loss': 8.08869743347168, 'total_loss': 16.647842407226562}\n"
     ]
    },
    {
     "name": "stderr",
     "output_type": "stream",
     "text": [
      "Validating:  62%|██████▏   | 146/235 [01:26<00:53,  1.67it/s, loss=16.7104, avg_loss=16.5258]"
     ]
    },
    {
     "name": "stdout",
     "output_type": "stream",
     "text": [
      "{'kd_loss': 32.50265121459961, 'feature_loss': 0.3633396625518799, 'ce_loss': 8.364197731018066, 'cont_loss': 2.9098377227783203, 'teacher_loss': 8.083844184875488, 'total_loss': 16.710390090942383}\n"
     ]
    },
    {
     "name": "stderr",
     "output_type": "stream",
     "text": [
      "Validating:  63%|██████▎   | 147/235 [01:27<00:49,  1.77it/s, loss=16.6290, avg_loss=16.5265]"
     ]
    },
    {
     "name": "stdout",
     "output_type": "stream",
     "text": [
      "{'kd_loss': 32.502891540527344, 'feature_loss': 0.37416958808898926, 'ce_loss': 8.154916763305664, 'cont_loss': 2.9105210304260254, 'teacher_loss': 8.086295127868652, 'total_loss': 16.629009246826172}\n"
     ]
    },
    {
     "name": "stderr",
     "output_type": "stream",
     "text": [
      "Validating:  63%|██████▎   | 148/235 [01:27<00:47,  1.85it/s, loss=16.6696, avg_loss=16.5275]"
     ]
    },
    {
     "name": "stdout",
     "output_type": "stream",
     "text": [
      "{'kd_loss': 32.50213623046875, 'feature_loss': 0.3802288770675659, 'ce_loss': 8.249570846557617, 'cont_loss': 2.9283103942871094, 'teacher_loss': 8.0899076461792, 'total_loss': 16.669559478759766}\n"
     ]
    },
    {
     "name": "stderr",
     "output_type": "stream",
     "text": [
      "Validating:  63%|██████▎   | 149/235 [01:28<00:53,  1.60it/s, loss=16.6061, avg_loss=16.5280]"
     ]
    },
    {
     "name": "stdout",
     "output_type": "stream",
     "text": [
      "{'kd_loss': 32.50188064575195, 'feature_loss': 0.3558093309402466, 'ce_loss': 8.126461029052734, 'cont_loss': 2.8359591960906982, 'teacher_loss': 8.09048843383789, 'total_loss': 16.606094360351562}\n"
     ]
    },
    {
     "name": "stderr",
     "output_type": "stream",
     "text": [
      "Validating:  64%|██████▍   | 150/235 [01:28<00:49,  1.71it/s, loss=16.6227, avg_loss=16.5286]"
     ]
    },
    {
     "name": "stdout",
     "output_type": "stream",
     "text": [
      "{'kd_loss': 32.50254440307617, 'feature_loss': 0.3595636487007141, 'ce_loss': 8.170628547668457, 'cont_loss': 2.815324544906616, 'teacher_loss': 8.096357345581055, 'total_loss': 16.62271499633789}\n"
     ]
    },
    {
     "name": "stderr",
     "output_type": "stream",
     "text": [
      "Validating:  64%|██████▍   | 151/235 [01:29<00:46,  1.80it/s, loss=16.6668, avg_loss=16.5295]"
     ]
    },
    {
     "name": "stdout",
     "output_type": "stream",
     "text": [
      "{'kd_loss': 32.502410888671875, 'feature_loss': 0.3810657262802124, 'ce_loss': 8.223320960998535, 'cont_loss': 3.00254487991333, 'teacher_loss': 8.0870943069458, 'total_loss': 16.666759490966797}\n"
     ]
    },
    {
     "name": "stderr",
     "output_type": "stream",
     "text": [
      "Validating:  65%|██████▍   | 152/235 [01:29<00:44,  1.87it/s, loss=16.6307, avg_loss=16.5302]"
     ]
    },
    {
     "name": "stdout",
     "output_type": "stream",
     "text": [
      "{'kd_loss': 32.50212860107422, 'feature_loss': 0.382174015045166, 'ce_loss': 8.165396690368652, 'cont_loss': 2.8729066848754883, 'teacher_loss': 8.086827278137207, 'total_loss': 16.630735397338867}\n"
     ]
    },
    {
     "name": "stderr",
     "output_type": "stream",
     "text": [
      "Validating:  65%|██████▌   | 153/235 [01:30<00:51,  1.58it/s, loss=16.7078, avg_loss=16.5314]"
     ]
    },
    {
     "name": "stdout",
     "output_type": "stream",
     "text": [
      "{'kd_loss': 32.5025634765625, 'feature_loss': 0.3745877742767334, 'ce_loss': 8.334759712219238, 'cont_loss': 2.9797213077545166, 'teacher_loss': 8.091523170471191, 'total_loss': 16.70781898498535}\n"
     ]
    },
    {
     "name": "stderr",
     "output_type": "stream",
     "text": [
      "Validating:  66%|██████▌   | 154/235 [01:31<00:47,  1.70it/s, loss=16.7328, avg_loss=16.5327]"
     ]
    },
    {
     "name": "stdout",
     "output_type": "stream",
     "text": [
      "{'kd_loss': 32.503074645996094, 'feature_loss': 0.3928530216217041, 'ce_loss': 8.377620697021484, 'cont_loss': 3.0192408561706543, 'teacher_loss': 8.081771850585938, 'total_loss': 16.732772827148438}\n"
     ]
    },
    {
     "name": "stderr",
     "output_type": "stream",
     "text": [
      "Validating:  66%|██████▌   | 155/235 [01:31<00:44,  1.79it/s, loss=16.5988, avg_loss=16.5331]"
     ]
    },
    {
     "name": "stdout",
     "output_type": "stream",
     "text": [
      "{'kd_loss': 32.50215148925781, 'feature_loss': 0.41529691219329834, 'ce_loss': 8.064809799194336, 'cont_loss': 2.8900256156921387, 'teacher_loss': 8.093743324279785, 'total_loss': 16.598848342895508}\n"
     ]
    },
    {
     "name": "stderr",
     "output_type": "stream",
     "text": [
      "Validating:  66%|██████▋   | 156/235 [01:32<00:42,  1.86it/s, loss=16.7004, avg_loss=16.5342]"
     ]
    },
    {
     "name": "stdout",
     "output_type": "stream",
     "text": [
      "{'kd_loss': 32.5018424987793, 'feature_loss': 0.3956758379936218, 'ce_loss': 8.322887420654297, 'cont_loss': 2.9138741493225098, 'teacher_loss': 8.084186553955078, 'total_loss': 16.700414657592773}\n"
     ]
    },
    {
     "name": "stderr",
     "output_type": "stream",
     "text": [
      "Validating:  67%|██████▋   | 157/235 [01:32<00:48,  1.61it/s, loss=16.6949, avg_loss=16.5352]"
     ]
    },
    {
     "name": "stdout",
     "output_type": "stream",
     "text": [
      "{'kd_loss': 32.50281524658203, 'feature_loss': 0.3913279175758362, 'ce_loss': 8.26295280456543, 'cont_loss': 3.102872371673584, 'teacher_loss': 8.086420059204102, 'total_loss': 16.694860458374023}\n"
     ]
    },
    {
     "name": "stderr",
     "output_type": "stream",
     "text": [
      "Validating:  67%|██████▋   | 158/235 [01:33<00:44,  1.73it/s, loss=16.6931, avg_loss=16.5362]"
     ]
    },
    {
     "name": "stdout",
     "output_type": "stream",
     "text": [
      "{'kd_loss': 32.50374221801758, 'feature_loss': 0.39498424530029297, 'ce_loss': 8.303228378295898, 'cont_loss': 2.9130825996398926, 'teacher_loss': 8.085312843322754, 'total_loss': 16.693092346191406}\n"
     ]
    },
    {
     "name": "stderr",
     "output_type": "stream",
     "text": [
      "Validating:  68%|██████▊   | 159/235 [01:33<00:41,  1.81it/s, loss=16.6547, avg_loss=16.5369]"
     ]
    },
    {
     "name": "stdout",
     "output_type": "stream",
     "text": [
      "{'kd_loss': 32.50189971923828, 'feature_loss': 0.37316083908081055, 'ce_loss': 8.188318252563477, 'cont_loss': 3.0395026206970215, 'teacher_loss': 8.093894004821777, 'total_loss': 16.6546688079834}\n"
     ]
    },
    {
     "name": "stderr",
     "output_type": "stream",
     "text": [
      "Validating:  68%|██████▊   | 160/235 [01:34<00:39,  1.88it/s, loss=16.6797, avg_loss=16.5378]"
     ]
    },
    {
     "name": "stdout",
     "output_type": "stream",
     "text": [
      "{'kd_loss': 32.502532958984375, 'feature_loss': 0.38262075185775757, 'ce_loss': 8.272933006286621, 'cont_loss': 2.930142402648926, 'teacher_loss': 8.088582038879395, 'total_loss': 16.679725646972656}\n"
     ]
    },
    {
     "name": "stderr",
     "output_type": "stream",
     "text": [
      "Validating:  69%|██████▊   | 161/235 [01:35<00:46,  1.59it/s, loss=16.6165, avg_loss=16.5383]"
     ]
    },
    {
     "name": "stdout",
     "output_type": "stream",
     "text": [
      "{'kd_loss': 32.50239944458008, 'feature_loss': 0.36945390701293945, 'ce_loss': 8.119589805603027, 'cont_loss': 2.9381370544433594, 'teacher_loss': 8.088092803955078, 'total_loss': 16.616500854492188}\n"
     ]
    },
    {
     "name": "stderr",
     "output_type": "stream",
     "text": [
      "Validating:  69%|██████▉   | 162/235 [01:35<00:42,  1.71it/s, loss=16.6176, avg_loss=16.5388]"
     ]
    },
    {
     "name": "stdout",
     "output_type": "stream",
     "text": [
      "{'kd_loss': 32.502220153808594, 'feature_loss': 0.3805725574493408, 'ce_loss': 8.112493515014648, 'cont_loss': 2.9556093215942383, 'teacher_loss': 8.094253540039062, 'total_loss': 16.61756134033203}\n"
     ]
    },
    {
     "name": "stderr",
     "output_type": "stream",
     "text": [
      "Validating:  69%|██████▉   | 163/235 [01:36<00:39,  1.81it/s, loss=16.6004, avg_loss=16.5392]"
     ]
    },
    {
     "name": "stdout",
     "output_type": "stream",
     "text": [
      "{'kd_loss': 32.502174377441406, 'feature_loss': 0.39343464374542236, 'ce_loss': 8.062918663024902, 'cont_loss': 2.9570508003234863, 'teacher_loss': 8.089018821716309, 'total_loss': 16.60042953491211}\n"
     ]
    },
    {
     "name": "stderr",
     "output_type": "stream",
     "text": [
      "Validating:  70%|██████▉   | 164/235 [01:36<00:37,  1.87it/s, loss=16.6787, avg_loss=16.5400]"
     ]
    },
    {
     "name": "stdout",
     "output_type": "stream",
     "text": [
      "{'kd_loss': 32.50233459472656, 'feature_loss': 0.37151920795440674, 'ce_loss': 8.219038009643555, 'cont_loss': 3.158125400543213, 'teacher_loss': 8.09113597869873, 'total_loss': 16.678665161132812}\n"
     ]
    },
    {
     "name": "stderr",
     "output_type": "stream",
     "text": [
      "Validating:  70%|███████   | 165/235 [01:37<00:45,  1.55it/s, loss=16.7131, avg_loss=16.5411]"
     ]
    },
    {
     "name": "stdout",
     "output_type": "stream",
     "text": [
      "{'kd_loss': 32.50196838378906, 'feature_loss': 0.389215350151062, 'ce_loss': 8.33888053894043, 'cont_loss': 2.9888596534729004, 'teacher_loss': 8.081451416015625, 'total_loss': 16.71306800842285}\n"
     ]
    },
    {
     "name": "stderr",
     "output_type": "stream",
     "text": [
      "Validating:  71%|███████   | 166/235 [01:38<00:41,  1.67it/s, loss=16.6853, avg_loss=16.5420]"
     ]
    },
    {
     "name": "stdout",
     "output_type": "stream",
     "text": [
      "{'kd_loss': 32.50295639038086, 'feature_loss': 0.36819469928741455, 'ce_loss': 8.277667999267578, 'cont_loss': 2.994117021560669, 'teacher_loss': 8.08163833618164, 'total_loss': 16.685300827026367}\n"
     ]
    },
    {
     "name": "stderr",
     "output_type": "stream",
     "text": [
      "Validating:  71%|███████   | 167/235 [01:38<00:38,  1.77it/s, loss=16.6321, avg_loss=16.5425]"
     ]
    },
    {
     "name": "stdout",
     "output_type": "stream",
     "text": [
      "{'kd_loss': 32.502777099609375, 'feature_loss': 0.3716874122619629, 'ce_loss': 8.147993087768555, 'cont_loss': 2.9748048782348633, 'teacher_loss': 8.085392951965332, 'total_loss': 16.632125854492188}\n"
     ]
    },
    {
     "name": "stderr",
     "output_type": "stream",
     "text": [
      "Validating:  71%|███████▏  | 168/235 [01:39<00:36,  1.85it/s, loss=16.6052, avg_loss=16.5429]"
     ]
    },
    {
     "name": "stdout",
     "output_type": "stream",
     "text": [
      "{'kd_loss': 32.50288391113281, 'feature_loss': 0.34801334142684937, 'ce_loss': 8.092820167541504, 'cont_loss': 2.973156452178955, 'teacher_loss': 8.089396476745605, 'total_loss': 16.605199813842773}\n"
     ]
    },
    {
     "name": "stderr",
     "output_type": "stream",
     "text": [
      "Validating:  72%|███████▏  | 169/235 [01:39<00:42,  1.57it/s, loss=16.6998, avg_loss=16.5438]"
     ]
    },
    {
     "name": "stdout",
     "output_type": "stream",
     "text": [
      "{'kd_loss': 32.50237274169922, 'feature_loss': 0.3732726573944092, 'ce_loss': 8.268059730529785, 'cont_loss': 3.1694674491882324, 'teacher_loss': 8.095891952514648, 'total_loss': 16.69977378845215}\n"
     ]
    },
    {
     "name": "stderr",
     "output_type": "stream",
     "text": [
      "Validating:  72%|███████▏  | 170/235 [01:40<00:38,  1.69it/s, loss=16.6093, avg_loss=16.5442]"
     ]
    },
    {
     "name": "stdout",
     "output_type": "stream",
     "text": [
      "{'kd_loss': 32.50274658203125, 'feature_loss': 0.37776297330856323, 'ce_loss': 8.073081970214844, 'cont_loss': 3.03389835357666, 'teacher_loss': 8.096671104431152, 'total_loss': 16.609275817871094}\n"
     ]
    },
    {
     "name": "stderr",
     "output_type": "stream",
     "text": [
      "Validating:  73%|███████▎  | 171/235 [01:40<00:35,  1.79it/s, loss=16.6656, avg_loss=16.5449]"
     ]
    },
    {
     "name": "stdout",
     "output_type": "stream",
     "text": [
      "{'kd_loss': 32.50294876098633, 'feature_loss': 0.3589966297149658, 'ce_loss': 8.228338241577148, 'cont_loss': 3.0123825073242188, 'teacher_loss': 8.08080768585205, 'total_loss': 16.66555404663086}\n"
     ]
    },
    {
     "name": "stderr",
     "output_type": "stream",
     "text": [
      "Validating:  73%|███████▎  | 172/235 [01:41<00:33,  1.86it/s, loss=16.7057, avg_loss=16.5458]"
     ]
    },
    {
     "name": "stdout",
     "output_type": "stream",
     "text": [
      "{'kd_loss': 32.50202941894531, 'feature_loss': 0.36060088872909546, 'ce_loss': 8.310864448547363, 'cont_loss': 3.083932876586914, 'teacher_loss': 8.083274841308594, 'total_loss': 16.705671310424805}\n"
     ]
    },
    {
     "name": "stderr",
     "output_type": "stream",
     "text": [
      "Validating:  74%|███████▎  | 173/235 [01:42<00:39,  1.58it/s, loss=16.6963, avg_loss=16.5467]"
     ]
    },
    {
     "name": "stdout",
     "output_type": "stream",
     "text": [
      "{'kd_loss': 32.50285339355469, 'feature_loss': 0.379219651222229, 'ce_loss': 8.284672737121582, 'cont_loss': 3.0544590950012207, 'teacher_loss': 8.092960357666016, 'total_loss': 16.696300506591797}\n"
     ]
    },
    {
     "name": "stderr",
     "output_type": "stream",
     "text": [
      "Validating:  74%|███████▍  | 174/235 [01:42<00:35,  1.70it/s, loss=16.6493, avg_loss=16.5473]"
     ]
    },
    {
     "name": "stdout",
     "output_type": "stream",
     "text": [
      "{'kd_loss': 32.50226593017578, 'feature_loss': 0.3822396993637085, 'ce_loss': 8.168173789978027, 'cont_loss': 3.0463876724243164, 'teacher_loss': 8.098040580749512, 'total_loss': 16.649261474609375}\n"
     ]
    },
    {
     "name": "stderr",
     "output_type": "stream",
     "text": [
      "Validating:  74%|███████▍  | 175/235 [01:43<00:33,  1.80it/s, loss=16.6772, avg_loss=16.5480]"
     ]
    },
    {
     "name": "stdout",
     "output_type": "stream",
     "text": [
      "{'kd_loss': 32.502593994140625, 'feature_loss': 0.36911797523498535, 'ce_loss': 8.237064361572266, 'cont_loss': 3.074810743331909, 'teacher_loss': 8.089280128479004, 'total_loss': 16.677169799804688}\n"
     ]
    },
    {
     "name": "stderr",
     "output_type": "stream",
     "text": [
      "Validating:  75%|███████▍  | 176/235 [01:43<00:31,  1.87it/s, loss=16.6404, avg_loss=16.5486]"
     ]
    },
    {
     "name": "stdout",
     "output_type": "stream",
     "text": [
      "{'kd_loss': 32.50135803222656, 'feature_loss': 0.3759843111038208, 'ce_loss': 8.094427108764648, 'cont_loss': 3.2685582637786865, 'teacher_loss': 8.09011173248291, 'total_loss': 16.64036750793457}\n"
     ]
    },
    {
     "name": "stderr",
     "output_type": "stream",
     "text": [
      "Validating:  75%|███████▌  | 177/235 [01:44<00:36,  1.58it/s, loss=16.6467, avg_loss=16.5491]"
     ]
    },
    {
     "name": "stdout",
     "output_type": "stream",
     "text": [
      "{'kd_loss': 32.50286102294922, 'feature_loss': 0.39687633514404297, 'ce_loss': 8.13634204864502, 'cont_loss': 3.116204261779785, 'teacher_loss': 8.076678276062012, 'total_loss': 16.646677017211914}\n"
     ]
    },
    {
     "name": "stderr",
     "output_type": "stream",
     "text": [
      "Validating:  76%|███████▌  | 178/235 [01:45<00:33,  1.70it/s, loss=16.6874, avg_loss=16.5499]"
     ]
    },
    {
     "name": "stdout",
     "output_type": "stream",
     "text": [
      "{'kd_loss': 32.50248718261719, 'feature_loss': 0.4040238857269287, 'ce_loss': 8.245113372802734, 'cont_loss': 3.075990676879883, 'teacher_loss': 8.0900297164917, 'total_loss': 16.687442779541016}\n"
     ]
    },
    {
     "name": "stderr",
     "output_type": "stream",
     "text": [
      "Validating:  76%|███████▌  | 179/235 [01:45<00:31,  1.79it/s, loss=16.6328, avg_loss=16.5504]"
     ]
    },
    {
     "name": "stdout",
     "output_type": "stream",
     "text": [
      "{'kd_loss': 32.50299072265625, 'feature_loss': 0.3806762099266052, 'ce_loss': 8.116632461547852, 'cont_loss': 3.087982177734375, 'teacher_loss': 8.087849617004395, 'total_loss': 16.632783889770508}\n"
     ]
    },
    {
     "name": "stderr",
     "output_type": "stream",
     "text": [
      "Validating:  77%|███████▋  | 180/235 [01:46<00:29,  1.87it/s, loss=16.6422, avg_loss=16.5509]"
     ]
    },
    {
     "name": "stdout",
     "output_type": "stream",
     "text": [
      "{'kd_loss': 32.502410888671875, 'feature_loss': 0.38909846544265747, 'ce_loss': 8.059146881103516, 'cont_loss': 3.3972370624542236, 'teacher_loss': 8.0904541015625, 'total_loss': 16.642166137695312}\n"
     ]
    },
    {
     "name": "stderr",
     "output_type": "stream",
     "text": [
      "Validating:  77%|███████▋  | 181/235 [01:46<00:33,  1.61it/s, loss=16.6233, avg_loss=16.5513]"
     ]
    },
    {
     "name": "stdout",
     "output_type": "stream",
     "text": [
      "{'kd_loss': 32.503414154052734, 'feature_loss': 0.3402906656265259, 'ce_loss': 8.107903480529785, 'cont_loss': 3.107553005218506, 'teacher_loss': 8.089540481567383, 'total_loss': 16.623340606689453}\n"
     ]
    },
    {
     "name": "stderr",
     "output_type": "stream",
     "text": [
      "Validating:  77%|███████▋  | 182/235 [01:47<00:30,  1.72it/s, loss=16.6646, avg_loss=16.5519]"
     ]
    },
    {
     "name": "stdout",
     "output_type": "stream",
     "text": [
      "{'kd_loss': 32.502010345458984, 'feature_loss': 0.3671644330024719, 'ce_loss': 8.193123817443848, 'cont_loss': 3.1315248012542725, 'teacher_loss': 8.088582038879395, 'total_loss': 16.66463851928711}\n"
     ]
    },
    {
     "name": "stderr",
     "output_type": "stream",
     "text": [
      "Validating:  78%|███████▊  | 183/235 [01:47<00:28,  1.81it/s, loss=16.7576, avg_loss=16.5530]"
     ]
    },
    {
     "name": "stdout",
     "output_type": "stream",
     "text": [
      "{'kd_loss': 32.5023078918457, 'feature_loss': 0.4027479887008667, 'ce_loss': 8.330667495727539, 'cont_loss': 3.43880033493042, 'teacher_loss': 8.089996337890625, 'total_loss': 16.757619857788086}\n"
     ]
    },
    {
     "name": "stderr",
     "output_type": "stream",
     "text": [
      "Validating:  78%|███████▊  | 184/235 [01:48<00:27,  1.87it/s, loss=16.6135, avg_loss=16.5533]"
     ]
    },
    {
     "name": "stdout",
     "output_type": "stream",
     "text": [
      "{'kd_loss': 32.502952575683594, 'feature_loss': 0.3642602562904358, 'ce_loss': 8.064179420471191, 'cont_loss': 3.137455463409424, 'teacher_loss': 8.092634201049805, 'total_loss': 16.61345100402832}\n"
     ]
    },
    {
     "name": "stderr",
     "output_type": "stream",
     "text": [
      "Validating:  79%|███████▊  | 185/235 [01:49<00:31,  1.57it/s, loss=16.6644, avg_loss=16.5539]"
     ]
    },
    {
     "name": "stdout",
     "output_type": "stream",
     "text": [
      "{'kd_loss': 32.50267028808594, 'feature_loss': 0.40354472398757935, 'ce_loss': 8.156293869018555, 'cont_loss': 3.2015490531921387, 'teacher_loss': 8.089629173278809, 'total_loss': 16.664447784423828}\n"
     ]
    },
    {
     "name": "stderr",
     "output_type": "stream",
     "text": [
      "Validating:  79%|███████▉  | 186/235 [01:49<00:29,  1.69it/s, loss=16.6924, avg_loss=16.5547]"
     ]
    },
    {
     "name": "stdout",
     "output_type": "stream",
     "text": [
      "{'kd_loss': 32.5024299621582, 'feature_loss': 0.3867829442024231, 'ce_loss': 8.23836898803711, 'cont_loss': 3.1873278617858887, 'teacher_loss': 8.086649894714355, 'total_loss': 16.69240951538086}\n"
     ]
    },
    {
     "name": "stderr",
     "output_type": "stream",
     "text": [
      "Validating:  80%|███████▉  | 187/235 [01:50<00:26,  1.78it/s, loss=16.6740, avg_loss=16.5553]"
     ]
    },
    {
     "name": "stdout",
     "output_type": "stream",
     "text": [
      "{'kd_loss': 32.50267028808594, 'feature_loss': 0.37698280811309814, 'ce_loss': 8.19865894317627, 'cont_loss': 3.18082857131958, 'teacher_loss': 8.094682693481445, 'total_loss': 16.67401123046875}\n"
     ]
    },
    {
     "name": "stderr",
     "output_type": "stream",
     "text": [
      "Validating:  80%|████████  | 188/235 [01:50<00:25,  1.85it/s, loss=16.6974, avg_loss=16.5561]"
     ]
    },
    {
     "name": "stdout",
     "output_type": "stream",
     "text": [
      "{'kd_loss': 32.50276184082031, 'feature_loss': 0.381524920463562, 'ce_loss': 8.250308990478516, 'cont_loss': 3.19905424118042, 'teacher_loss': 8.085898399353027, 'total_loss': 16.69744110107422}\n"
     ]
    },
    {
     "name": "stderr",
     "output_type": "stream",
     "text": [
      "Validating:  80%|████████  | 189/235 [01:51<00:31,  1.48it/s, loss=16.7417, avg_loss=16.5571]"
     ]
    },
    {
     "name": "stdout",
     "output_type": "stream",
     "text": [
      "{'kd_loss': 32.50286102294922, 'feature_loss': 0.3507516384124756, 'ce_loss': 8.3408203125, 'cont_loss': 3.3410816192626953, 'teacher_loss': 8.08894157409668, 'total_loss': 16.741731643676758}\n"
     ]
    },
    {
     "name": "stderr",
     "output_type": "stream",
     "text": [
      "Validating:  81%|████████  | 190/235 [01:52<00:27,  1.61it/s, loss=16.6592, avg_loss=16.5576]"
     ]
    },
    {
     "name": "stdout",
     "output_type": "stream",
     "text": [
      "{'kd_loss': 32.50325012207031, 'feature_loss': 0.3556360602378845, 'ce_loss': 8.18199634552002, 'cont_loss': 3.1398606300354004, 'teacher_loss': 8.101217269897461, 'total_loss': 16.659212112426758}\n"
     ]
    },
    {
     "name": "stderr",
     "output_type": "stream",
     "text": [
      "Validating:  81%|████████▏ | 191/235 [01:52<00:25,  1.72it/s, loss=16.7396, avg_loss=16.5586]"
     ]
    },
    {
     "name": "stdout",
     "output_type": "stream",
     "text": [
      "{'kd_loss': 32.502105712890625, 'feature_loss': 0.37157392501831055, 'ce_loss': 8.362268447875977, 'cont_loss': 3.1949429512023926, 'teacher_loss': 8.093690872192383, 'total_loss': 16.739559173583984}\n"
     ]
    },
    {
     "name": "stderr",
     "output_type": "stream",
     "text": [
      "Validating:  82%|████████▏ | 192/235 [01:53<00:23,  1.81it/s, loss=16.7115, avg_loss=16.5593]"
     ]
    },
    {
     "name": "stdout",
     "output_type": "stream",
     "text": [
      "{'kd_loss': 32.5022087097168, 'feature_loss': 0.37443625926971436, 'ce_loss': 8.283865928649902, 'cont_loss': 3.2222399711608887, 'teacher_loss': 8.093616485595703, 'total_loss': 16.7115421295166}\n"
     ]
    },
    {
     "name": "stderr",
     "output_type": "stream",
     "text": [
      "Validating:  82%|████████▏ | 193/235 [01:53<00:26,  1.60it/s, loss=16.6556, avg_loss=16.5598]"
     ]
    },
    {
     "name": "stdout",
     "output_type": "stream",
     "text": [
      "{'kd_loss': 32.50251770019531, 'feature_loss': 0.3785485029220581, 'ce_loss': 8.109539031982422, 'cont_loss': 3.35024356842041, 'teacher_loss': 8.09479808807373, 'total_loss': 16.655555725097656}\n"
     ]
    },
    {
     "name": "stderr",
     "output_type": "stream",
     "text": [
      "Validating:  83%|████████▎ | 194/235 [01:54<00:23,  1.71it/s, loss=16.6456, avg_loss=16.5603]"
     ]
    },
    {
     "name": "stdout",
     "output_type": "stream",
     "text": [
      "{'kd_loss': 32.50188446044922, 'feature_loss': 0.4121840000152588, 'ce_loss': 8.096993446350098, 'cont_loss': 3.2360897064208984, 'teacher_loss': 8.08594799041748, 'total_loss': 16.645597457885742}\n"
     ]
    },
    {
     "name": "stderr",
     "output_type": "stream",
     "text": [
      "Validating:  83%|████████▎ | 195/235 [01:54<00:22,  1.80it/s, loss=16.6832, avg_loss=16.5609]"
     ]
    },
    {
     "name": "stdout",
     "output_type": "stream",
     "text": [
      "{'kd_loss': 32.50267028808594, 'feature_loss': 0.3639867305755615, 'ce_loss': 8.213419914245605, 'cont_loss': 3.2397329807281494, 'teacher_loss': 8.09234619140625, 'total_loss': 16.68320655822754}\n"
     ]
    },
    {
     "name": "stderr",
     "output_type": "stream",
     "text": [
      "Validating:  83%|████████▎ | 196/235 [01:55<00:20,  1.87it/s, loss=16.6789, avg_loss=16.5615]"
     ]
    },
    {
     "name": "stdout",
     "output_type": "stream",
     "text": [
      "{'kd_loss': 32.50264358520508, 'feature_loss': 0.3831567168235779, 'ce_loss': 8.180156707763672, 'cont_loss': 3.29127836227417, 'teacher_loss': 8.090669631958008, 'total_loss': 16.67888069152832}\n"
     ]
    },
    {
     "name": "stderr",
     "output_type": "stream",
     "text": [
      "Validating:  84%|████████▍ | 197/235 [01:56<00:23,  1.65it/s, loss=16.6252, avg_loss=16.5618]"
     ]
    },
    {
     "name": "stdout",
     "output_type": "stream",
     "text": [
      "{'kd_loss': 32.50205612182617, 'feature_loss': 0.38681936264038086, 'ce_loss': 8.060797691345215, 'cont_loss': 3.2267937660217285, 'teacher_loss': 8.090679168701172, 'total_loss': 16.625185012817383}\n"
     ]
    },
    {
     "name": "stderr",
     "output_type": "stream",
     "text": [
      "Validating:  84%|████████▍ | 198/235 [01:56<00:21,  1.75it/s, loss=16.6277, avg_loss=16.5622]"
     ]
    },
    {
     "name": "stdout",
     "output_type": "stream",
     "text": [
      "{'kd_loss': 32.502803802490234, 'feature_loss': 0.36910855770111084, 'ce_loss': 8.070717811584473, 'cont_loss': 3.2443528175354004, 'teacher_loss': 8.086493492126465, 'total_loss': 16.627666473388672}\n"
     ]
    },
    {
     "name": "stderr",
     "output_type": "stream",
     "text": [
      "Validating:  85%|████████▍ | 199/235 [01:57<00:19,  1.83it/s, loss=16.6984, avg_loss=16.5629]"
     ]
    },
    {
     "name": "stdout",
     "output_type": "stream",
     "text": [
      "{'kd_loss': 32.502342224121094, 'feature_loss': 0.38486528396606445, 'ce_loss': 8.22722339630127, 'cont_loss': 3.295766830444336, 'teacher_loss': 8.085391998291016, 'total_loss': 16.698375701904297}\n"
     ]
    },
    {
     "name": "stderr",
     "output_type": "stream",
     "text": [
      "Validating:  85%|████████▌ | 200/235 [01:57<00:18,  1.89it/s, loss=16.7156, avg_loss=16.5636]"
     ]
    },
    {
     "name": "stdout",
     "output_type": "stream",
     "text": [
      "{'kd_loss': 32.50316619873047, 'feature_loss': 0.38620829582214355, 'ce_loss': 8.262675285339355, 'cont_loss': 3.3198704719543457, 'teacher_loss': 8.088409423828125, 'total_loss': 16.715566635131836}\n"
     ]
    },
    {
     "name": "stderr",
     "output_type": "stream",
     "text": [
      "Validating:  86%|████████▌ | 201/235 [01:58<00:20,  1.64it/s, loss=16.6635, avg_loss=16.5641]"
     ]
    },
    {
     "name": "stdout",
     "output_type": "stream",
     "text": [
      "{'kd_loss': 32.50249481201172, 'feature_loss': 0.3852652311325073, 'ce_loss': 8.140501022338867, 'cont_loss': 3.2925734519958496, 'teacher_loss': 8.092665672302246, 'total_loss': 16.663509368896484}\n"
     ]
    },
    {
     "name": "stderr",
     "output_type": "stream",
     "text": [
      "Validating:  86%|████████▌ | 202/235 [01:58<00:18,  1.74it/s, loss=16.6444, avg_loss=16.5645]"
     ]
    },
    {
     "name": "stdout",
     "output_type": "stream",
     "text": [
      "{'kd_loss': 32.5026969909668, 'feature_loss': 0.3861483335494995, 'ce_loss': 8.094278335571289, 'cont_loss': 3.2838640213012695, 'teacher_loss': 8.094354629516602, 'total_loss': 16.644405364990234}\n"
     ]
    },
    {
     "name": "stderr",
     "output_type": "stream",
     "text": [
      "Validating:  86%|████████▋ | 203/235 [01:59<00:17,  1.82it/s, loss=16.7393, avg_loss=16.5654]"
     ]
    },
    {
     "name": "stdout",
     "output_type": "stream",
     "text": [
      "{'kd_loss': 32.502227783203125, 'feature_loss': 0.38110190629959106, 'ce_loss': 8.248186111450195, 'cont_loss': 3.629485607147217, 'teacher_loss': 8.0941801071167, 'total_loss': 16.739336013793945}\n"
     ]
    },
    {
     "name": "stderr",
     "output_type": "stream",
     "text": [
      "Validating:  87%|████████▋ | 204/235 [01:59<00:16,  1.88it/s, loss=16.7250, avg_loss=16.5662]"
     ]
    },
    {
     "name": "stdout",
     "output_type": "stream",
     "text": [
      "{'kd_loss': 32.50218200683594, 'feature_loss': 0.3916161060333252, 'ce_loss': 8.278608322143555, 'cont_loss': 3.3435492515563965, 'teacher_loss': 8.088022232055664, 'total_loss': 16.724994659423828}\n"
     ]
    },
    {
     "name": "stderr",
     "output_type": "stream",
     "text": [
      "Validating:  87%|████████▋ | 205/235 [02:00<00:18,  1.66it/s, loss=16.7724, avg_loss=16.5672]"
     ]
    },
    {
     "name": "stdout",
     "output_type": "stream",
     "text": [
      "{'kd_loss': 32.502342224121094, 'feature_loss': 0.3915138244628906, 'ce_loss': 8.35885238647461, 'cont_loss': 3.49603533744812, 'teacher_loss': 8.09027099609375, 'total_loss': 16.772384643554688}\n"
     ]
    },
    {
     "name": "stderr",
     "output_type": "stream",
     "text": [
      "Validating:  88%|████████▊ | 206/235 [02:01<00:16,  1.76it/s, loss=16.7029, avg_loss=16.5678]"
     ]
    },
    {
     "name": "stdout",
     "output_type": "stream",
     "text": [
      "{'kd_loss': 32.502593994140625, 'feature_loss': 0.3724263906478882, 'ce_loss': 8.232975959777832, 'cont_loss': 3.341646671295166, 'teacher_loss': 8.094442367553711, 'total_loss': 16.702878952026367}\n"
     ]
    },
    {
     "name": "stderr",
     "output_type": "stream",
     "text": [
      "Validating:  88%|████████▊ | 207/235 [02:01<00:15,  1.84it/s, loss=16.7247, avg_loss=16.5686]"
     ]
    },
    {
     "name": "stdout",
     "output_type": "stream",
     "text": [
      "{'kd_loss': 32.503074645996094, 'feature_loss': 0.3996248245239258, 'ce_loss': 8.258363723754883, 'cont_loss': 3.401782512664795, 'teacher_loss': 8.090584754943848, 'total_loss': 16.72467803955078}\n"
     ]
    },
    {
     "name": "stderr",
     "output_type": "stream",
     "text": [
      "Validating:  89%|████████▊ | 208/235 [02:02<00:14,  1.89it/s, loss=16.7341, avg_loss=16.5694]"
     ]
    },
    {
     "name": "stdout",
     "output_type": "stream",
     "text": [
      "{'kd_loss': 32.502708435058594, 'feature_loss': 0.3794516324996948, 'ce_loss': 8.290736198425293, 'cont_loss': 3.4084959030151367, 'teacher_loss': 8.08859920501709, 'total_loss': 16.73411750793457}\n"
     ]
    },
    {
     "name": "stderr",
     "output_type": "stream",
     "text": [
      "Validating:  89%|████████▉ | 209/235 [02:02<00:16,  1.62it/s, loss=16.7487, avg_loss=16.5702]"
     ]
    },
    {
     "name": "stdout",
     "output_type": "stream",
     "text": [
      "{'kd_loss': 32.502967834472656, 'feature_loss': 0.4053516983985901, 'ce_loss': 8.24924087524414, 'cont_loss': 3.6674227714538574, 'teacher_loss': 8.089908599853516, 'total_loss': 16.74869728088379}\n"
     ]
    },
    {
     "name": "stderr",
     "output_type": "stream",
     "text": [
      "Validating:  89%|████████▉ | 210/235 [02:03<00:14,  1.73it/s, loss=16.6731, avg_loss=16.5707]"
     ]
    },
    {
     "name": "stdout",
     "output_type": "stream",
     "text": [
      "{'kd_loss': 32.502132415771484, 'feature_loss': 0.40050965547561646, 'ce_loss': 8.133845329284668, 'cont_loss': 3.385880470275879, 'teacher_loss': 8.09337043762207, 'total_loss': 16.67308235168457}\n"
     ]
    },
    {
     "name": "stderr",
     "output_type": "stream",
     "text": [
      "Validating:  90%|████████▉ | 211/235 [02:03<00:13,  1.81it/s, loss=16.7173, avg_loss=16.5714]"
     ]
    },
    {
     "name": "stdout",
     "output_type": "stream",
     "text": [
      "{'kd_loss': 32.50265884399414, 'feature_loss': 0.3763056993484497, 'ce_loss': 8.21423053741455, 'cont_loss': 3.553196668624878, 'teacher_loss': 8.091065406799316, 'total_loss': 16.717336654663086}\n"
     ]
    },
    {
     "name": "stderr",
     "output_type": "stream",
     "text": [
      "Validating:  90%|█████████ | 212/235 [02:04<00:12,  1.88it/s, loss=16.6777, avg_loss=16.5719]"
     ]
    },
    {
     "name": "stdout",
     "output_type": "stream",
     "text": [
      "{'kd_loss': 32.50230026245117, 'feature_loss': 0.36639440059661865, 'ce_loss': 8.152417182922363, 'cont_loss': 3.4257614612579346, 'teacher_loss': 8.091843605041504, 'total_loss': 16.67774200439453}\n"
     ]
    },
    {
     "name": "stderr",
     "output_type": "stream",
     "text": [
      "Validating:  91%|█████████ | 213/235 [02:05<00:14,  1.56it/s, loss=16.7124, avg_loss=16.5726]"
     ]
    },
    {
     "name": "stdout",
     "output_type": "stream",
     "text": [
      "{'kd_loss': 32.502220153808594, 'feature_loss': 0.377178430557251, 'ce_loss': 8.228006362915039, 'cont_loss': 3.4487900733947754, 'teacher_loss': 8.093549728393555, 'total_loss': 16.712406158447266}\n"
     ]
    },
    {
     "name": "stderr",
     "output_type": "stream",
     "text": [
      "Validating:  91%|█████████ | 214/235 [02:05<00:12,  1.68it/s, loss=16.7467, avg_loss=16.5734]"
     ]
    },
    {
     "name": "stdout",
     "output_type": "stream",
     "text": [
      "{'kd_loss': 32.50230407714844, 'feature_loss': 0.3908717632293701, 'ce_loss': 8.236364364624023, 'cont_loss': 3.7310643196105957, 'teacher_loss': 8.091593742370605, 'total_loss': 16.746747970581055}\n"
     ]
    },
    {
     "name": "stderr",
     "output_type": "stream",
     "text": [
      "Validating:  91%|█████████▏| 215/235 [02:06<00:11,  1.77it/s, loss=16.6983, avg_loss=16.5740]"
     ]
    },
    {
     "name": "stdout",
     "output_type": "stream",
     "text": [
      "{'kd_loss': 32.50257873535156, 'feature_loss': 0.36583220958709717, 'ce_loss': 8.197233200073242, 'cont_loss': 3.4519155025482178, 'teacher_loss': 8.09073543548584, 'total_loss': 16.698284149169922}\n"
     ]
    },
    {
     "name": "stderr",
     "output_type": "stream",
     "text": [
      "Validating:  92%|█████████▏| 216/235 [02:06<00:10,  1.85it/s, loss=16.6818, avg_loss=16.5745]"
     ]
    },
    {
     "name": "stdout",
     "output_type": "stream",
     "text": [
      "{'kd_loss': 32.502376556396484, 'feature_loss': 0.3751784563064575, 'ce_loss': 8.151277542114258, 'cont_loss': 3.453260898590088, 'teacher_loss': 8.094131469726562, 'total_loss': 16.68182373046875}\n"
     ]
    },
    {
     "name": "stderr",
     "output_type": "stream",
     "text": [
      "Validating:  92%|█████████▏| 217/235 [02:07<00:12,  1.45it/s, loss=16.7008, avg_loss=16.5751]"
     ]
    },
    {
     "name": "stdout",
     "output_type": "stream",
     "text": [
      "{'kd_loss': 32.501441955566406, 'feature_loss': 0.4074251055717468, 'ce_loss': 8.17270565032959, 'cont_loss': 3.4965081214904785, 'teacher_loss': 8.087226867675781, 'total_loss': 16.700796127319336}\n"
     ]
    },
    {
     "name": "stderr",
     "output_type": "stream",
     "text": [
      "Validating:  93%|█████████▎| 218/235 [02:08<00:10,  1.59it/s, loss=16.7026, avg_loss=16.5756]"
     ]
    },
    {
     "name": "stdout",
     "output_type": "stream",
     "text": [
      "{'kd_loss': 32.50230407714844, 'feature_loss': 0.3996785879135132, 'ce_loss': 8.18242073059082, 'cont_loss': 3.4881608486175537, 'teacher_loss': 8.084269523620605, 'total_loss': 16.7026424407959}\n"
     ]
    },
    {
     "name": "stderr",
     "output_type": "stream",
     "text": [
      "Validating:  93%|█████████▎| 219/235 [02:08<00:09,  1.70it/s, loss=16.7353, avg_loss=16.5764]"
     ]
    },
    {
     "name": "stdout",
     "output_type": "stream",
     "text": [
      "{'kd_loss': 32.50260925292969, 'feature_loss': 0.40859973430633545, 'ce_loss': 8.26270580291748, 'cont_loss': 3.474213123321533, 'teacher_loss': 8.090953826904297, 'total_loss': 16.73526954650879}\n"
     ]
    },
    {
     "name": "stderr",
     "output_type": "stream",
     "text": [
      "Validating:  94%|█████████▎| 220/235 [02:09<00:08,  1.79it/s, loss=16.6768, avg_loss=16.5768]"
     ]
    },
    {
     "name": "stdout",
     "output_type": "stream",
     "text": [
      "{'kd_loss': 32.502445220947266, 'feature_loss': 0.3862918019294739, 'ce_loss': 8.12221622467041, 'cont_loss': 3.496365547180176, 'teacher_loss': 8.088092803955078, 'total_loss': 16.676759719848633}\n"
     ]
    },
    {
     "name": "stderr",
     "output_type": "stream",
     "text": [
      "Validating:  94%|█████████▍| 221/235 [02:10<00:09,  1.53it/s, loss=16.7209, avg_loss=16.5775]"
     ]
    },
    {
     "name": "stdout",
     "output_type": "stream",
     "text": [
      "{'kd_loss': 32.50199890136719, 'feature_loss': 0.39931952953338623, 'ce_loss': 8.179570198059082, 'cont_loss': 3.6845715045928955, 'teacher_loss': 8.092145919799805, 'total_loss': 16.720949172973633}\n"
     ]
    },
    {
     "name": "stderr",
     "output_type": "stream",
     "text": [
      "Validating:  94%|█████████▍| 222/235 [02:10<00:07,  1.66it/s, loss=16.7156, avg_loss=16.5781]"
     ]
    },
    {
     "name": "stdout",
     "output_type": "stream",
     "text": [
      "{'kd_loss': 32.50249481201172, 'feature_loss': 0.40425699949264526, 'ce_loss': 8.202136993408203, 'cont_loss': 3.5288772583007812, 'teacher_loss': 8.0872163772583, 'total_loss': 16.715593338012695}\n"
     ]
    },
    {
     "name": "stderr",
     "output_type": "stream",
     "text": [
      "Validating:  95%|█████████▍| 223/235 [02:11<00:06,  1.76it/s, loss=16.7171, avg_loss=16.5787]"
     ]
    },
    {
     "name": "stdout",
     "output_type": "stream",
     "text": [
      "{'kd_loss': 32.503013610839844, 'feature_loss': 0.3794972896575928, 'ce_loss': 8.227371215820312, 'cont_loss': 3.4905357360839844, 'teacher_loss': 8.082740783691406, 'total_loss': 16.71710777282715}\n"
     ]
    },
    {
     "name": "stderr",
     "output_type": "stream",
     "text": [
      "Validating:  95%|█████████▌| 224/235 [02:11<00:05,  1.84it/s, loss=16.6902, avg_loss=16.5792]"
     ]
    },
    {
     "name": "stdout",
     "output_type": "stream",
     "text": [
      "{'kd_loss': 32.502872467041016, 'feature_loss': 0.38943636417388916, 'ce_loss': 8.146683692932129, 'cont_loss': 3.52471661567688, 'teacher_loss': 8.079570770263672, 'total_loss': 16.690181732177734}\n"
     ]
    },
    {
     "name": "stderr",
     "output_type": "stream",
     "text": [
      "Validating:  96%|█████████▌| 225/235 [02:12<00:07,  1.42it/s, loss=16.6809, avg_loss=16.5797]"
     ]
    },
    {
     "name": "stdout",
     "output_type": "stream",
     "text": [
      "{'kd_loss': 32.50225067138672, 'feature_loss': 0.4070588946342468, 'ce_loss': 8.105363845825195, 'cont_loss': 3.5644803047180176, 'teacher_loss': 8.078736305236816, 'total_loss': 16.680904388427734}\n"
     ]
    },
    {
     "name": "stderr",
     "output_type": "stream",
     "text": [
      "Validating:  96%|█████████▌| 226/235 [02:13<00:05,  1.56it/s, loss=16.7837, avg_loss=16.5806]"
     ]
    },
    {
     "name": "stdout",
     "output_type": "stream",
     "text": [
      "{'kd_loss': 32.503501892089844, 'feature_loss': 0.3867327570915222, 'ce_loss': 8.33792495727539, 'cont_loss': 3.6980361938476562, 'teacher_loss': 8.082806587219238, 'total_loss': 16.783721923828125}\n"
     ]
    },
    {
     "name": "stderr",
     "output_type": "stream",
     "text": [
      "Validating:  97%|█████████▋| 227/235 [02:13<00:04,  1.68it/s, loss=16.7508, avg_loss=16.5813]"
     ]
    },
    {
     "name": "stdout",
     "output_type": "stream",
     "text": [
      "{'kd_loss': 32.502342224121094, 'feature_loss': 0.4018329381942749, 'ce_loss': 8.278632164001465, 'cont_loss': 3.580763816833496, 'teacher_loss': 8.086759567260742, 'total_loss': 16.75083351135254}\n"
     ]
    },
    {
     "name": "stderr",
     "output_type": "stream",
     "text": [
      "Validating:  97%|█████████▋| 228/235 [02:14<00:03,  1.78it/s, loss=16.6981, avg_loss=16.5818]"
     ]
    },
    {
     "name": "stdout",
     "output_type": "stream",
     "text": [
      "{'kd_loss': 32.502708435058594, 'feature_loss': 0.3716124892234802, 'ce_loss': 8.166674613952637, 'cont_loss': 3.560610771179199, 'teacher_loss': 8.091094017028809, 'total_loss': 16.698137283325195}\n"
     ]
    },
    {
     "name": "stderr",
     "output_type": "stream",
     "text": [
      "Validating:  97%|█████████▋| 229/235 [02:15<00:04,  1.45it/s, loss=16.7111, avg_loss=16.5824]"
     ]
    },
    {
     "name": "stdout",
     "output_type": "stream",
     "text": [
      "{'kd_loss': 32.50270080566406, 'feature_loss': 0.38225364685058594, 'ce_loss': 8.184806823730469, 'cont_loss': 3.596909999847412, 'teacher_loss': 8.089204788208008, 'total_loss': 16.711145401000977}\n"
     ]
    },
    {
     "name": "stderr",
     "output_type": "stream",
     "text": [
      "Validating:  98%|█████████▊| 230/235 [02:15<00:03,  1.59it/s, loss=16.6936, avg_loss=16.5829]"
     ]
    },
    {
     "name": "stdout",
     "output_type": "stream",
     "text": [
      "{'kd_loss': 32.50248718261719, 'feature_loss': 0.39796245098114014, 'ce_loss': 8.114302635192871, 'cont_loss': 3.6729049682617188, 'teacher_loss': 8.088802337646484, 'total_loss': 16.693599700927734}\n"
     ]
    },
    {
     "name": "stderr",
     "output_type": "stream",
     "text": [
      "Validating:  98%|█████████▊| 231/235 [02:16<00:02,  1.71it/s, loss=16.7780, avg_loss=16.5837]"
     ]
    },
    {
     "name": "stdout",
     "output_type": "stream",
     "text": [
      "{'kd_loss': 32.5023193359375, 'feature_loss': 0.3989693522453308, 'ce_loss': 8.332510948181152, 'cont_loss': 3.642226219177246, 'teacher_loss': 8.091632843017578, 'total_loss': 16.777950286865234}\n"
     ]
    },
    {
     "name": "stderr",
     "output_type": "stream",
     "text": [
      "Validating:  99%|█████████▊| 232/235 [02:16<00:01,  1.80it/s, loss=16.7005, avg_loss=16.5842]"
     ]
    },
    {
     "name": "stdout",
     "output_type": "stream",
     "text": [
      "{'kd_loss': 32.50202941894531, 'feature_loss': 0.3810110092163086, 'ce_loss': 8.153414726257324, 'cont_loss': 3.6212780475616455, 'teacher_loss': 8.087728500366211, 'total_loss': 16.70050621032715}\n"
     ]
    },
    {
     "name": "stderr",
     "output_type": "stream",
     "text": [
      "Validating:  99%|█████████▉| 233/235 [02:17<00:01,  1.65it/s, loss=16.6965, avg_loss=16.5847]"
     ]
    },
    {
     "name": "stdout",
     "output_type": "stream",
     "text": [
      "{'kd_loss': 32.50279235839844, 'feature_loss': 0.4156970977783203, 'ce_loss': 8.11105728149414, 'cont_loss': 3.678284168243408, 'teacher_loss': 8.0858793258667, 'total_loss': 16.69650650024414}\n"
     ]
    },
    {
     "name": "stderr",
     "output_type": "stream",
     "text": [
      "Validating: 100%|█████████▉| 234/235 [02:17<00:00,  1.75it/s, loss=16.7261, avg_loss=16.5853]"
     ]
    },
    {
     "name": "stdout",
     "output_type": "stream",
     "text": [
      "{'kd_loss': 32.502132415771484, 'feature_loss': 0.41645050048828125, 'ce_loss': 8.198883056640625, 'cont_loss': 3.624173164367676, 'teacher_loss': 8.090879440307617, 'total_loss': 16.72611427307129}\n",
      "{'kd_loss': 32.50141906738281, 'feature_loss': 0.3808770775794983, 'ce_loss': 8.232620239257812, 'cont_loss': 2.7437844276428223, 'teacher_loss': 8.09228801727295, 'total_loss': 16.644168853759766}\n"
     ]
    },
    {
     "name": "stderr",
     "output_type": "stream",
     "text": [
      "Validating: 100%|██████████| 235/235 [02:18<00:00,  1.70it/s, loss=16.6442, avg_loss=16.5856]\n"
     ]
    },
    {
     "name": "stdout",
     "output_type": "stream",
     "text": [
      "Epoch 1 | Train Loss: 18.5726 | Val Loss: 16.5856 | Top1 Acc: 0.00 | Top5 Acc: 0.00\n"
     ]
    },
    {
     "name": "stderr",
     "output_type": "stream",
     "text": [
      "Training: 100%|██████████| 1875/1875 [13:04<00:00,  2.39it/s, loss=18.5165, avg_loss=18.4929, lr=8.13e-5]\n",
      "Validating:   0%|          | 1/235 [00:02<08:32,  2.19s/it, loss=16.3144, avg_loss=16.3144]"
     ]
    },
    {
     "name": "stdout",
     "output_type": "stream",
     "text": [
      "{'kd_loss': 32.49474334716797, 'feature_loss': 0.3192797899246216, 'ce_loss': 7.760570049285889, 'cont_loss': 1.4838736057281494, 'teacher_loss': 8.093280792236328, 'total_loss': 16.314369201660156}\n"
     ]
    },
    {
     "name": "stderr",
     "output_type": "stream",
     "text": [
      "Validating:   1%|          | 2/235 [00:02<04:35,  1.18s/it, loss=16.4231, avg_loss=16.3687]"
     ]
    },
    {
     "name": "stdout",
     "output_type": "stream",
     "text": [
      "{'kd_loss': 32.495269775390625, 'feature_loss': 0.33535659313201904, 'ce_loss': 8.01102066040039, 'cont_loss': 1.5352742671966553, 'teacher_loss': 8.09543228149414, 'total_loss': 16.423114776611328}\n"
     ]
    },
    {
     "name": "stderr",
     "output_type": "stream",
     "text": [
      "Validating:   1%|▏         | 3/235 [00:03<03:27,  1.12it/s, loss=16.3632, avg_loss=16.3669]"
     ]
    },
    {
     "name": "stdout",
     "output_type": "stream",
     "text": [
      "{'kd_loss': 32.49455642700195, 'feature_loss': 0.31181979179382324, 'ce_loss': 7.877357482910156, 'cont_loss': 1.5207650661468506, 'teacher_loss': 8.100311279296875, 'total_loss': 16.36320686340332}\n"
     ]
    },
    {
     "name": "stderr",
     "output_type": "stream",
     "text": [
      "Validating:   2%|▏         | 4/235 [00:03<02:48,  1.37it/s, loss=16.2346, avg_loss=16.3338]"
     ]
    },
    {
     "name": "stdout",
     "output_type": "stream",
     "text": [
      "{'kd_loss': 32.498714447021484, 'feature_loss': 0.28327029943466187, 'ce_loss': 7.579659461975098, 'cont_loss': 1.4658323526382446, 'teacher_loss': 8.10285758972168, 'total_loss': 16.234586715698242}\n"
     ]
    },
    {
     "name": "stderr",
     "output_type": "stream",
     "text": [
      "Validating:   2%|▏         | 5/235 [00:04<02:27,  1.56it/s, loss=16.2421, avg_loss=16.3155]"
     ]
    },
    {
     "name": "stdout",
     "output_type": "stream",
     "text": [
      "{'kd_loss': 32.49711608886719, 'feature_loss': 0.2701379060745239, 'ce_loss': 7.615211486816406, 'cont_loss': 1.4317280054092407, 'teacher_loss': 8.103348731994629, 'total_loss': 16.24213218688965}\n"
     ]
    },
    {
     "name": "stderr",
     "output_type": "stream",
     "text": [
      "Validating:   3%|▎         | 6/235 [00:04<02:21,  1.61it/s, loss=16.5394, avg_loss=16.3528]"
     ]
    },
    {
     "name": "stdout",
     "output_type": "stream",
     "text": [
      "{'kd_loss': 32.49500274658203, 'feature_loss': 0.41201651096343994, 'ce_loss': 8.271058082580566, 'cont_loss': 1.5055253505706787, 'teacher_loss': 8.100038528442383, 'total_loss': 16.53938102722168}\n"
     ]
    },
    {
     "name": "stderr",
     "output_type": "stream",
     "text": [
      "Validating:   3%|▎         | 7/235 [00:05<02:10,  1.74it/s, loss=16.1774, avg_loss=16.3277]"
     ]
    },
    {
     "name": "stdout",
     "output_type": "stream",
     "text": [
      "{'kd_loss': 32.49577331542969, 'feature_loss': 0.3005380630493164, 'ce_loss': 7.427701473236084, 'cont_loss': 1.4793980121612549, 'teacher_loss': 8.083501815795898, 'total_loss': 16.17743682861328}\n"
     ]
    },
    {
     "name": "stderr",
     "output_type": "stream",
     "text": [
      "Validating:   3%|▎         | 8/235 [00:05<02:03,  1.84it/s, loss=16.2791, avg_loss=16.3217]"
     ]
    },
    {
     "name": "stdout",
     "output_type": "stream",
     "text": [
      "{'kd_loss': 32.4951286315918, 'feature_loss': 0.35357725620269775, 'ce_loss': 7.655533790588379, 'cont_loss': 1.480985403060913, 'teacher_loss': 8.096367835998535, 'total_loss': 16.27907943725586}\n"
     ]
    },
    {
     "name": "stderr",
     "output_type": "stream",
     "text": [
      "Validating:   4%|▍         | 9/235 [00:06<01:58,  1.90it/s, loss=16.3103, avg_loss=16.3204]"
     ]
    },
    {
     "name": "stdout",
     "output_type": "stream",
     "text": [
      "{'kd_loss': 32.49537658691406, 'feature_loss': 0.2266988754272461, 'ce_loss': 7.792986869812012, 'cont_loss': 1.4964017868041992, 'teacher_loss': 8.093772888183594, 'total_loss': 16.310325622558594}\n"
     ]
    },
    {
     "name": "stderr",
     "output_type": "stream",
     "text": [
      "Validating:   4%|▍         | 10/235 [00:06<01:55,  1.95it/s, loss=16.3300, avg_loss=16.3214]"
     ]
    },
    {
     "name": "stdout",
     "output_type": "stream",
     "text": [
      "{'kd_loss': 32.49470520019531, 'feature_loss': 0.2942662835121155, 'ce_loss': 7.805119037628174, 'cont_loss': 1.5118019580841064, 'teacher_loss': 8.100207328796387, 'total_loss': 16.32996368408203}\n"
     ]
    },
    {
     "name": "stderr",
     "output_type": "stream",
     "text": [
      "Validating:   5%|▍         | 11/235 [00:07<01:52,  1.99it/s, loss=16.3940, avg_loss=16.3280]"
     ]
    },
    {
     "name": "stdout",
     "output_type": "stream",
     "text": [
      "{'kd_loss': 32.495323181152344, 'feature_loss': 0.3347044587135315, 'ce_loss': 7.947062969207764, 'cont_loss': 1.5007634162902832, 'teacher_loss': 8.077269554138184, 'total_loss': 16.393972396850586}\n"
     ]
    },
    {
     "name": "stderr",
     "output_type": "stream",
     "text": [
      "Validating:   5%|▌         | 12/235 [00:07<01:50,  2.01it/s, loss=16.2765, avg_loss=16.3237]"
     ]
    },
    {
     "name": "stdout",
     "output_type": "stream",
     "text": [
      "{'kd_loss': 32.49424743652344, 'feature_loss': 0.27845174074172974, 'ce_loss': 7.687435626983643, 'cont_loss': 1.4815906286239624, 'teacher_loss': 8.097933769226074, 'total_loss': 16.27652359008789}\n"
     ]
    },
    {
     "name": "stderr",
     "output_type": "stream",
     "text": [
      "Validating:   6%|▌         | 13/235 [00:08<01:49,  2.03it/s, loss=16.4069, avg_loss=16.3301]"
     ]
    },
    {
     "name": "stdout",
     "output_type": "stream",
     "text": [
      "{'kd_loss': 32.495201110839844, 'feature_loss': 0.31883352994918823, 'ce_loss': 7.993742942810059, 'cont_loss': 1.4754730463027954, 'teacher_loss': 8.082204818725586, 'total_loss': 16.406890869140625}\n"
     ]
    },
    {
     "name": "stderr",
     "output_type": "stream",
     "text": [
      "Validating:   6%|▌         | 14/235 [00:08<01:48,  2.04it/s, loss=16.3953, avg_loss=16.3347]"
     ]
    },
    {
     "name": "stdout",
     "output_type": "stream",
     "text": [
      "{'kd_loss': 32.496212005615234, 'feature_loss': 0.37161511182785034, 'ce_loss': 7.917465686798096, 'cont_loss': 1.555274248123169, 'teacher_loss': 8.076095581054688, 'total_loss': 16.395320892333984}\n"
     ]
    },
    {
     "name": "stderr",
     "output_type": "stream",
     "text": [
      "Validating:   6%|▋         | 15/235 [00:09<01:47,  2.05it/s, loss=16.3263, avg_loss=16.3342]"
     ]
    },
    {
     "name": "stdout",
     "output_type": "stream",
     "text": [
      "{'kd_loss': 32.49435806274414, 'feature_loss': 0.2814205288887024, 'ce_loss': 7.8182783126831055, 'cont_loss': 1.449670672416687, 'teacher_loss': 8.096321105957031, 'total_loss': 16.326305389404297}\n"
     ]
    },
    {
     "name": "stderr",
     "output_type": "stream",
     "text": [
      "Validating:   7%|▋         | 16/235 [00:09<01:46,  2.05it/s, loss=16.4189, avg_loss=16.3395]"
     ]
    },
    {
     "name": "stdout",
     "output_type": "stream",
     "text": [
      "{'kd_loss': 32.49533462524414, 'feature_loss': 0.31727296113967896, 'ce_loss': 8.016968727111816, 'cont_loss': 1.5050573348999023, 'teacher_loss': 8.094080924987793, 'total_loss': 16.418880462646484}\n"
     ]
    },
    {
     "name": "stderr",
     "output_type": "stream",
     "text": [
      "Validating:   7%|▋         | 17/235 [00:10<01:46,  2.05it/s, loss=16.3220, avg_loss=16.3384]"
     ]
    },
    {
     "name": "stdout",
     "output_type": "stream",
     "text": [
      "{'kd_loss': 32.49419403076172, 'feature_loss': 0.3393588066101074, 'ce_loss': 7.765266418457031, 'cont_loss': 1.5033215284347534, 'teacher_loss': 8.083715438842773, 'total_loss': 16.32198715209961}\n"
     ]
    },
    {
     "name": "stderr",
     "output_type": "stream",
     "text": [
      "Validating:   8%|▊         | 18/235 [00:10<01:45,  2.05it/s, loss=16.4903, avg_loss=16.3469]"
     ]
    },
    {
     "name": "stdout",
     "output_type": "stream",
     "text": [
      "{'kd_loss': 32.495201110839844, 'feature_loss': 0.2866865396499634, 'ce_loss': 8.21448040008545, 'cont_loss': 1.4908227920532227, 'teacher_loss': 8.089325904846191, 'total_loss': 16.490291595458984}\n"
     ]
    },
    {
     "name": "stderr",
     "output_type": "stream",
     "text": [
      "Validating:   8%|▊         | 19/235 [00:11<01:44,  2.06it/s, loss=16.4149, avg_loss=16.3505]"
     ]
    },
    {
     "name": "stdout",
     "output_type": "stream",
     "text": [
      "{'kd_loss': 32.49620056152344, 'feature_loss': 0.30066514015197754, 'ce_loss': 8.01893424987793, 'cont_loss': 1.4866960048675537, 'teacher_loss': 8.091934204101562, 'total_loss': 16.414857864379883}\n"
     ]
    },
    {
     "name": "stderr",
     "output_type": "stream",
     "text": [
      "Validating:   9%|▊         | 20/235 [00:11<01:44,  2.06it/s, loss=16.2964, avg_loss=16.3478]"
     ]
    },
    {
     "name": "stdout",
     "output_type": "stream",
     "text": [
      "{'kd_loss': 32.49480056762695, 'feature_loss': 0.2888426184654236, 'ce_loss': 7.728260040283203, 'cont_loss': 1.4938766956329346, 'teacher_loss': 8.102022171020508, 'total_loss': 16.2963809967041}\n"
     ]
    },
    {
     "name": "stderr",
     "output_type": "stream",
     "text": [
      "Validating:   9%|▉         | 21/235 [00:12<01:43,  2.06it/s, loss=16.3139, avg_loss=16.3461]"
     ]
    },
    {
     "name": "stdout",
     "output_type": "stream",
     "text": [
      "{'kd_loss': 32.494781494140625, 'feature_loss': 0.28124022483825684, 'ce_loss': 7.769278049468994, 'cont_loss': 1.5203313827514648, 'teacher_loss': 8.102542877197266, 'total_loss': 16.31390380859375}\n"
     ]
    },
    {
     "name": "stderr",
     "output_type": "stream",
     "text": [
      "Validating:   9%|▉         | 22/235 [00:12<01:43,  2.06it/s, loss=16.3606, avg_loss=16.3468]"
     ]
    },
    {
     "name": "stdout",
     "output_type": "stream",
     "text": [
      "{'kd_loss': 32.49457550048828, 'feature_loss': 0.23795074224472046, 'ce_loss': 7.901463031768799, 'cont_loss': 1.54612398147583, 'teacher_loss': 8.1096830368042, 'total_loss': 16.36061668395996}\n"
     ]
    },
    {
     "name": "stderr",
     "output_type": "stream",
     "text": [
      "Validating:  10%|▉         | 23/235 [00:12<01:42,  2.06it/s, loss=16.4772, avg_loss=16.3525]"
     ]
    },
    {
     "name": "stdout",
     "output_type": "stream",
     "text": [
      "{'kd_loss': 32.49620056152344, 'feature_loss': 0.3847970962524414, 'ce_loss': 8.12508487701416, 'cont_loss': 1.5176032781600952, 'teacher_loss': 8.07869815826416, 'total_loss': 16.47723388671875}\n"
     ]
    },
    {
     "name": "stderr",
     "output_type": "stream",
     "text": [
      "Validating:  10%|█         | 24/235 [00:13<01:42,  2.06it/s, loss=16.3737, avg_loss=16.3534]"
     ]
    },
    {
     "name": "stdout",
     "output_type": "stream",
     "text": [
      "{'kd_loss': 32.495880126953125, 'feature_loss': 0.30738192796707153, 'ce_loss': 7.913238525390625, 'cont_loss': 1.4856481552124023, 'teacher_loss': 8.07675838470459, 'total_loss': 16.373689651489258}\n"
     ]
    },
    {
     "name": "stderr",
     "output_type": "stream",
     "text": [
      "Validating:  11%|█         | 25/235 [00:13<01:41,  2.06it/s, loss=16.4073, avg_loss=16.3555]"
     ]
    },
    {
     "name": "stdout",
     "output_type": "stream",
     "text": [
      "{'kd_loss': 32.496551513671875, 'feature_loss': 0.3363787531852722, 'ce_loss': 7.980590343475342, 'cont_loss': 1.4920380115509033, 'teacher_loss': 8.079339027404785, 'total_loss': 16.407337188720703}\n"
     ]
    },
    {
     "name": "stderr",
     "output_type": "stream",
     "text": [
      "Validating:  11%|█         | 26/235 [00:14<01:41,  2.06it/s, loss=16.2962, avg_loss=16.3532]"
     ]
    },
    {
     "name": "stdout",
     "output_type": "stream",
     "text": [
      "{'kd_loss': 32.49665069580078, 'feature_loss': 0.411828875541687, 'ce_loss': 7.660236835479736, 'cont_loss': 1.5104234218597412, 'teacher_loss': 8.073464393615723, 'total_loss': 16.29616355895996}\n"
     ]
    },
    {
     "name": "stderr",
     "output_type": "stream",
     "text": [
      "Validating:  11%|█▏        | 27/235 [00:14<01:40,  2.06it/s, loss=16.1436, avg_loss=16.3455]"
     ]
    },
    {
     "name": "stdout",
     "output_type": "stream",
     "text": [
      "{'kd_loss': 32.495361328125, 'feature_loss': 0.3540026545524597, 'ce_loss': 7.322929382324219, 'cont_loss': 1.4549111127853394, 'teacher_loss': 8.095504760742188, 'total_loss': 16.14360809326172}\n"
     ]
    },
    {
     "name": "stderr",
     "output_type": "stream",
     "text": [
      "Validating:  12%|█▏        | 28/235 [00:15<01:40,  2.06it/s, loss=16.4511, avg_loss=16.3492]"
     ]
    },
    {
     "name": "stdout",
     "output_type": "stream",
     "text": [
      "{'kd_loss': 32.493896484375, 'feature_loss': 0.3237725496292114, 'ce_loss': 8.097339630126953, 'cont_loss': 1.4983975887298584, 'teacher_loss': 8.104011535644531, 'total_loss': 16.451087951660156}\n"
     ]
    },
    {
     "name": "stderr",
     "output_type": "stream",
     "text": [
      "Validating:  12%|█▏        | 29/235 [00:15<01:39,  2.06it/s, loss=16.5000, avg_loss=16.3544]"
     ]
    },
    {
     "name": "stdout",
     "output_type": "stream",
     "text": [
      "{'kd_loss': 32.495601654052734, 'feature_loss': 0.2954474687576294, 'ce_loss': 8.230839729309082, 'cont_loss': 1.503197193145752, 'teacher_loss': 8.098626136779785, 'total_loss': 16.49998664855957}\n"
     ]
    },
    {
     "name": "stderr",
     "output_type": "stream",
     "text": [
      "Validating:  13%|█▎        | 30/235 [00:16<01:39,  2.06it/s, loss=16.3060, avg_loss=16.3528]"
     ]
    },
    {
     "name": "stdout",
     "output_type": "stream",
     "text": [
      "{'kd_loss': 32.497737884521484, 'feature_loss': 0.321718692779541, 'ce_loss': 7.754264831542969, 'cont_loss': 1.4088997840881348, 'teacher_loss': 8.090774536132812, 'total_loss': 16.306034088134766}\n"
     ]
    },
    {
     "name": "stderr",
     "output_type": "stream",
     "text": [
      "Validating:  13%|█▎        | 31/235 [00:16<01:39,  2.06it/s, loss=16.2676, avg_loss=16.3501]"
     ]
    },
    {
     "name": "stdout",
     "output_type": "stream",
     "text": [
      "{'kd_loss': 32.49560546875, 'feature_loss': 0.33107709884643555, 'ce_loss': 7.646679401397705, 'cont_loss': 1.4449095726013184, 'teacher_loss': 8.100789070129395, 'total_loss': 16.267620086669922}\n"
     ]
    },
    {
     "name": "stderr",
     "output_type": "stream",
     "text": [
      "Validating:  14%|█▎        | 32/235 [00:17<01:38,  2.06it/s, loss=16.3305, avg_loss=16.3495]"
     ]
    },
    {
     "name": "stdout",
     "output_type": "stream",
     "text": [
      "{'kd_loss': 32.494625091552734, 'feature_loss': 0.2701922655105591, 'ce_loss': 7.823660850524902, 'cont_loss': 1.4916999340057373, 'teacher_loss': 8.098689079284668, 'total_loss': 16.330522537231445}\n"
     ]
    },
    {
     "name": "stderr",
     "output_type": "stream",
     "text": [
      "Validating:  14%|█▍        | 33/235 [00:17<01:37,  2.06it/s, loss=16.3314, avg_loss=16.3489]"
     ]
    },
    {
     "name": "stdout",
     "output_type": "stream",
     "text": [
      "{'kd_loss': 32.49565887451172, 'feature_loss': 0.30140262842178345, 'ce_loss': 7.807192802429199, 'cont_loss': 1.500011920928955, 'teacher_loss': 8.099519729614258, 'total_loss': 16.331422805786133}\n"
     ]
    },
    {
     "name": "stderr",
     "output_type": "stream",
     "text": [
      "Validating:  14%|█▍        | 34/235 [00:18<01:37,  2.07it/s, loss=16.4097, avg_loss=16.3507]"
     ]
    },
    {
     "name": "stdout",
     "output_type": "stream",
     "text": [
      "{'kd_loss': 32.49467468261719, 'feature_loss': 0.3882976770401001, 'ce_loss': 7.959340572357178, 'cont_loss': 1.504685640335083, 'teacher_loss': 8.069714546203613, 'total_loss': 16.40973472595215}\n"
     ]
    },
    {
     "name": "stderr",
     "output_type": "stream",
     "text": [
      "Validating:  15%|█▍        | 35/235 [00:18<01:36,  2.06it/s, loss=16.3295, avg_loss=16.3501]"
     ]
    },
    {
     "name": "stdout",
     "output_type": "stream",
     "text": [
      "{'kd_loss': 32.495391845703125, 'feature_loss': 0.37055397033691406, 'ce_loss': 7.779736042022705, 'cont_loss': 1.4530794620513916, 'teacher_loss': 8.110129356384277, 'total_loss': 16.329469680786133}\n"
     ]
    },
    {
     "name": "stderr",
     "output_type": "stream",
     "text": [
      "Validating:  15%|█▌        | 36/235 [00:19<01:36,  2.06it/s, loss=16.2736, avg_loss=16.3480]"
     ]
    },
    {
     "name": "stdout",
     "output_type": "stream",
     "text": [
      "{'kd_loss': 32.49517822265625, 'feature_loss': 0.23852068185806274, 'ce_loss': 7.684362888336182, 'cont_loss': 1.5407507419586182, 'teacher_loss': 8.105368614196777, 'total_loss': 16.273595809936523}\n"
     ]
    },
    {
     "name": "stderr",
     "output_type": "stream",
     "text": [
      "Validating:  16%|█▌        | 37/235 [00:19<01:36,  2.05it/s, loss=16.4035, avg_loss=16.3495]"
     ]
    },
    {
     "name": "stdout",
     "output_type": "stream",
     "text": [
      "{'kd_loss': 32.49444580078125, 'feature_loss': 0.26656317710876465, 'ce_loss': 7.975712299346924, 'cont_loss': 1.6213511228561401, 'teacher_loss': 8.096717834472656, 'total_loss': 16.40351104736328}\n"
     ]
    },
    {
     "name": "stderr",
     "output_type": "stream",
     "text": [
      "Validating:  16%|█▌        | 38/235 [00:20<01:35,  2.05it/s, loss=16.3479, avg_loss=16.3494]"
     ]
    },
    {
     "name": "stdout",
     "output_type": "stream",
     "text": [
      "{'kd_loss': 32.49534606933594, 'feature_loss': 0.3701310157775879, 'ce_loss': 7.761938095092773, 'cont_loss': 1.7100450992584229, 'teacher_loss': 8.096664428710938, 'total_loss': 16.347944259643555}\n"
     ]
    },
    {
     "name": "stderr",
     "output_type": "stream",
     "text": [
      "Validating:  17%|█▋        | 39/235 [00:20<01:35,  2.05it/s, loss=16.3379, avg_loss=16.3491]"
     ]
    },
    {
     "name": "stdout",
     "output_type": "stream",
     "text": [
      "{'kd_loss': 32.49419403076172, 'feature_loss': 0.27164626121520996, 'ce_loss': 7.829924583435059, 'cont_loss': 1.539613962173462, 'teacher_loss': 8.092314720153809, 'total_loss': 16.33793830871582}\n"
     ]
    },
    {
     "name": "stderr",
     "output_type": "stream",
     "text": [
      "Validating:  17%|█▋        | 40/235 [00:21<01:35,  2.05it/s, loss=16.3692, avg_loss=16.3496]"
     ]
    },
    {
     "name": "stdout",
     "output_type": "stream",
     "text": [
      "{'kd_loss': 32.49453353881836, 'feature_loss': 0.21603119373321533, 'ce_loss': 7.885703086853027, 'cont_loss': 1.7391057014465332, 'teacher_loss': 8.102696418762207, 'total_loss': 16.369211196899414}\n"
     ]
    },
    {
     "name": "stderr",
     "output_type": "stream",
     "text": [
      "Validating:  17%|█▋        | 41/235 [00:21<01:34,  2.06it/s, loss=16.4006, avg_loss=16.3509]"
     ]
    },
    {
     "name": "stdout",
     "output_type": "stream",
     "text": [
      "{'kd_loss': 32.495208740234375, 'feature_loss': 0.30011528730392456, 'ce_loss': 7.951587677001953, 'cont_loss': 1.6181849241256714, 'teacher_loss': 8.078615188598633, 'total_loss': 16.40056037902832}\n"
     ]
    },
    {
     "name": "stderr",
     "output_type": "stream",
     "text": [
      "Validating:  18%|█▊        | 42/235 [00:22<01:33,  2.06it/s, loss=16.4560, avg_loss=16.3534]"
     ]
    },
    {
     "name": "stdout",
     "output_type": "stream",
     "text": [
      "{'kd_loss': 32.49662780761719, 'feature_loss': 0.2931014895439148, 'ce_loss': 8.101174354553223, 'cont_loss': 1.5829436779022217, 'teacher_loss': 8.101456642150879, 'total_loss': 16.456035614013672}\n"
     ]
    },
    {
     "name": "stderr",
     "output_type": "stream",
     "text": [
      "Validating:  18%|█▊        | 43/235 [00:22<01:33,  2.06it/s, loss=16.2037, avg_loss=16.3499]"
     ]
    },
    {
     "name": "stdout",
     "output_type": "stream",
     "text": [
      "{'kd_loss': 32.49595260620117, 'feature_loss': 0.3834453225135803, 'ce_loss': 7.4474077224731445, 'cont_loss': 1.4969260692596436, 'teacher_loss': 8.093737602233887, 'total_loss': 16.203725814819336}\n"
     ]
    },
    {
     "name": "stderr",
     "output_type": "stream",
     "text": [
      "Validating:  19%|█▊        | 44/235 [00:23<01:32,  2.06it/s, loss=16.4540, avg_loss=16.3523]"
     ]
    },
    {
     "name": "stdout",
     "output_type": "stream",
     "text": [
      "{'kd_loss': 32.496089935302734, 'feature_loss': 0.25581997632980347, 'ce_loss': 8.087592124938965, 'cont_loss': 1.6936752796173096, 'teacher_loss': 8.111696243286133, 'total_loss': 16.454004287719727}\n"
     ]
    },
    {
     "name": "stderr",
     "output_type": "stream",
     "text": [
      "Validating:  19%|█▉        | 45/235 [00:23<01:32,  2.06it/s, loss=16.4630, avg_loss=16.3547]"
     ]
    },
    {
     "name": "stdout",
     "output_type": "stream",
     "text": [
      "{'kd_loss': 32.494537353515625, 'feature_loss': 0.31025439500808716, 'ce_loss': 8.109763145446777, 'cont_loss': 1.5919498205184937, 'teacher_loss': 8.108818054199219, 'total_loss': 16.462966918945312}\n"
     ]
    },
    {
     "name": "stderr",
     "output_type": "stream",
     "text": [
      "Validating:  20%|█▉        | 46/235 [00:24<01:31,  2.06it/s, loss=16.3708, avg_loss=16.3551]"
     ]
    },
    {
     "name": "stdout",
     "output_type": "stream",
     "text": [
      "{'kd_loss': 32.49528503417969, 'feature_loss': 0.3686485290527344, 'ce_loss': 7.8408026695251465, 'cont_loss': 1.6265676021575928, 'teacher_loss': 8.077507972717285, 'total_loss': 16.370820999145508}\n"
     ]
    },
    {
     "name": "stderr",
     "output_type": "stream",
     "text": [
      "Validating:  20%|██        | 47/235 [00:24<01:31,  2.07it/s, loss=16.4137, avg_loss=16.3563]"
     ]
    },
    {
     "name": "stdout",
     "output_type": "stream",
     "text": [
      "{'kd_loss': 32.49510955810547, 'feature_loss': 0.2599180340766907, 'ce_loss': 7.972668170928955, 'cont_loss': 1.7457726001739502, 'teacher_loss': 8.115533828735352, 'total_loss': 16.413673400878906}\n"
     ]
    },
    {
     "name": "stderr",
     "output_type": "stream",
     "text": [
      "Validating:  20%|██        | 48/235 [00:25<01:30,  2.06it/s, loss=16.3630, avg_loss=16.3565]"
     ]
    },
    {
     "name": "stdout",
     "output_type": "stream",
     "text": [
      "{'kd_loss': 32.49718475341797, 'feature_loss': 0.37036246061325073, 'ce_loss': 7.829667091369629, 'cont_loss': 1.582362413406372, 'teacher_loss': 8.095390319824219, 'total_loss': 16.363048553466797}\n"
     ]
    },
    {
     "name": "stderr",
     "output_type": "stream",
     "text": [
      "Validating:  21%|██        | 49/235 [00:25<01:30,  2.06it/s, loss=16.4301, avg_loss=16.3580]"
     ]
    },
    {
     "name": "stdout",
     "output_type": "stream",
     "text": [
      "{'kd_loss': 32.496028900146484, 'feature_loss': 0.2996480464935303, 'ce_loss': 8.014225006103516, 'cont_loss': 1.6608554124832153, 'teacher_loss': 8.100526809692383, 'total_loss': 16.430118560791016}\n"
     ]
    },
    {
     "name": "stderr",
     "output_type": "stream",
     "text": [
      "Validating:  21%|██▏       | 50/235 [00:26<01:29,  2.06it/s, loss=16.4368, avg_loss=16.3595]"
     ]
    },
    {
     "name": "stdout",
     "output_type": "stream",
     "text": [
      "{'kd_loss': 32.49616241455078, 'feature_loss': 0.33075547218322754, 'ce_loss': 8.012181282043457, 'cont_loss': 1.6727917194366455, 'teacher_loss': 8.075729370117188, 'total_loss': 16.436767578125}\n"
     ]
    },
    {
     "name": "stderr",
     "output_type": "stream",
     "text": [
      "Validating:  22%|██▏       | 51/235 [00:26<01:29,  2.07it/s, loss=16.4701, avg_loss=16.3617]"
     ]
    },
    {
     "name": "stdout",
     "output_type": "stream",
     "text": [
      "{'kd_loss': 32.49458312988281, 'feature_loss': 0.32891398668289185, 'ce_loss': 8.081876754760742, 'cont_loss': 1.7374341487884521, 'teacher_loss': 8.111187934875488, 'total_loss': 16.470109939575195}\n"
     ]
    },
    {
     "name": "stderr",
     "output_type": "stream",
     "text": [
      "Validating:  22%|██▏       | 52/235 [00:27<01:28,  2.06it/s, loss=16.3339, avg_loss=16.3612]"
     ]
    },
    {
     "name": "stdout",
     "output_type": "stream",
     "text": [
      "{'kd_loss': 32.495994567871094, 'feature_loss': 0.2769498825073242, 'ce_loss': 7.777101516723633, 'cont_loss': 1.6927409172058105, 'teacher_loss': 8.094501495361328, 'total_loss': 16.33390235900879}\n"
     ]
    },
    {
     "name": "stderr",
     "output_type": "stream",
     "text": [
      "Validating:  23%|██▎       | 53/235 [00:27<01:28,  2.06it/s, loss=16.4992, avg_loss=16.3638]"
     ]
    },
    {
     "name": "stdout",
     "output_type": "stream",
     "text": [
      "{'kd_loss': 32.49536895751953, 'feature_loss': 0.324063241481781, 'ce_loss': 8.14671516418457, 'cont_loss': 1.7754546403884888, 'teacher_loss': 8.096719741821289, 'total_loss': 16.49919319152832}\n"
     ]
    },
    {
     "name": "stderr",
     "output_type": "stream",
     "text": [
      "Validating:  23%|██▎       | 54/235 [00:28<01:27,  2.06it/s, loss=16.4423, avg_loss=16.3652]"
     ]
    },
    {
     "name": "stdout",
     "output_type": "stream",
     "text": [
      "{'kd_loss': 32.49689483642578, 'feature_loss': 0.3996877074241638, 'ce_loss': 7.9802350997924805, 'cont_loss': 1.7149064540863037, 'teacher_loss': 8.076628684997559, 'total_loss': 16.442279815673828}\n"
     ]
    },
    {
     "name": "stderr",
     "output_type": "stream",
     "text": [
      "Validating:  23%|██▎       | 55/235 [00:28<01:27,  2.06it/s, loss=16.3501, avg_loss=16.3650]"
     ]
    },
    {
     "name": "stdout",
     "output_type": "stream",
     "text": [
      "{'kd_loss': 32.49907302856445, 'feature_loss': 0.37851977348327637, 'ce_loss': 7.7596540451049805, 'cont_loss': 1.7089955806732178, 'teacher_loss': 8.078695297241211, 'total_loss': 16.350093841552734}\n"
     ]
    },
    {
     "name": "stderr",
     "output_type": "stream",
     "text": [
      "Validating:  24%|██▍       | 56/235 [00:28<01:26,  2.06it/s, loss=16.5682, avg_loss=16.3686]"
     ]
    },
    {
     "name": "stdout",
     "output_type": "stream",
     "text": [
      "{'kd_loss': 32.49581527709961, 'feature_loss': 0.3561214208602905, 'ce_loss': 8.293839454650879, 'cont_loss': 1.8111650943756104, 'teacher_loss': 8.089761734008789, 'total_loss': 16.56820297241211}\n"
     ]
    },
    {
     "name": "stderr",
     "output_type": "stream",
     "text": [
      "Validating:  24%|██▍       | 57/235 [00:29<01:29,  1.98it/s, loss=16.5621, avg_loss=16.3720]"
     ]
    },
    {
     "name": "stdout",
     "output_type": "stream",
     "text": [
      "{'kd_loss': 32.49607849121094, 'feature_loss': 0.33348172903060913, 'ce_loss': 8.291434288024902, 'cont_loss': 1.8035120964050293, 'teacher_loss': 8.102604866027832, 'total_loss': 16.56205177307129}\n"
     ]
    },
    {
     "name": "stderr",
     "output_type": "stream",
     "text": [
      "Validating:  25%|██▍       | 58/235 [00:30<01:27,  2.01it/s, loss=16.4751, avg_loss=16.3738]"
     ]
    },
    {
     "name": "stdout",
     "output_type": "stream",
     "text": [
      "{'kd_loss': 32.49574661254883, 'feature_loss': 0.30852043628692627, 'ce_loss': 8.080312728881836, 'cont_loss': 1.8296046257019043, 'teacher_loss': 8.100367546081543, 'total_loss': 16.475088119506836}\n"
     ]
    },
    {
     "name": "stderr",
     "output_type": "stream",
     "text": [
      "Validating:  25%|██▌       | 59/235 [00:30<01:26,  2.03it/s, loss=16.4242, avg_loss=16.3746]"
     ]
    },
    {
     "name": "stdout",
     "output_type": "stream",
     "text": [
      "{'kd_loss': 32.49538040161133, 'feature_loss': 0.2781010866165161, 'ce_loss': 7.966282844543457, 'cont_loss': 1.838848352432251, 'teacher_loss': 8.096117973327637, 'total_loss': 16.424171447753906}\n"
     ]
    },
    {
     "name": "stderr",
     "output_type": "stream",
     "text": [
      "Validating:  26%|██▌       | 60/235 [00:30<01:25,  2.04it/s, loss=16.5872, avg_loss=16.3782]"
     ]
    },
    {
     "name": "stdout",
     "output_type": "stream",
     "text": [
      "{'kd_loss': 32.496726989746094, 'feature_loss': 0.3665674924850464, 'ce_loss': 8.327536582946777, 'cont_loss': 1.8414795398712158, 'teacher_loss': 8.088719367980957, 'total_loss': 16.587167739868164}\n"
     ]
    },
    {
     "name": "stderr",
     "output_type": "stream",
     "text": [
      "Validating:  26%|██▌       | 61/235 [00:31<01:25,  2.04it/s, loss=16.4799, avg_loss=16.3798]"
     ]
    },
    {
     "name": "stdout",
     "output_type": "stream",
     "text": [
      "{'kd_loss': 32.496925354003906, 'feature_loss': 0.30343085527420044, 'ce_loss': 8.084661483764648, 'cont_loss': 1.8655133247375488, 'teacher_loss': 8.088279724121094, 'total_loss': 16.479873657226562}\n"
     ]
    },
    {
     "name": "stderr",
     "output_type": "stream",
     "text": [
      "Validating:  26%|██▋       | 62/235 [00:31<01:24,  2.04it/s, loss=16.3915, avg_loss=16.3800]"
     ]
    },
    {
     "name": "stdout",
     "output_type": "stream",
     "text": [
      "{'kd_loss': 32.49555969238281, 'feature_loss': 0.24717986583709717, 'ce_loss': 7.892708778381348, 'cont_loss': 1.8671072721481323, 'teacher_loss': 8.099615097045898, 'total_loss': 16.39145278930664}\n"
     ]
    },
    {
     "name": "stderr",
     "output_type": "stream",
     "text": [
      "Validating:  27%|██▋       | 63/235 [00:32<01:24,  2.05it/s, loss=16.5356, avg_loss=16.3825]"
     ]
    },
    {
     "name": "stdout",
     "output_type": "stream",
     "text": [
      "{'kd_loss': 32.49443054199219, 'feature_loss': 0.31304407119750977, 'ce_loss': 8.19012451171875, 'cont_loss': 1.9916151762008667, 'teacher_loss': 8.1011323928833, 'total_loss': 16.535593032836914}\n"
     ]
    },
    {
     "name": "stderr",
     "output_type": "stream",
     "text": [
      "Validating:  27%|██▋       | 64/235 [00:32<01:23,  2.05it/s, loss=16.3941, avg_loss=16.3827]"
     ]
    },
    {
     "name": "stdout",
     "output_type": "stream",
     "text": [
      "{'kd_loss': 32.49510955810547, 'feature_loss': 0.32489240169525146, 'ce_loss': 7.862384796142578, 'cont_loss': 1.8607600927352905, 'teacher_loss': 8.095885276794434, 'total_loss': 16.394052505493164}\n"
     ]
    },
    {
     "name": "stderr",
     "output_type": "stream",
     "text": [
      "Validating:  28%|██▊       | 65/235 [00:33<01:23,  2.05it/s, loss=16.4988, avg_loss=16.3845]"
     ]
    },
    {
     "name": "stdout",
     "output_type": "stream",
     "text": [
      "{'kd_loss': 32.49451446533203, 'feature_loss': 0.29233336448669434, 'ce_loss': 8.124847412109375, 'cont_loss': 1.926127552986145, 'teacher_loss': 8.103523254394531, 'total_loss': 16.498825073242188}\n"
     ]
    },
    {
     "name": "stderr",
     "output_type": "stream",
     "text": [
      "Validating:  28%|██▊       | 66/235 [00:33<01:22,  2.05it/s, loss=16.3937, avg_loss=16.3846]"
     ]
    },
    {
     "name": "stdout",
     "output_type": "stream",
     "text": [
      "{'kd_loss': 32.495758056640625, 'feature_loss': 0.2500063180923462, 'ce_loss': 7.903018951416016, 'cont_loss': 1.8422679901123047, 'teacher_loss': 8.105265617370605, 'total_loss': 16.393739700317383}\n"
     ]
    },
    {
     "name": "stderr",
     "output_type": "stream",
     "text": [
      "Validating:  29%|██▊       | 67/235 [00:34<01:21,  2.05it/s, loss=16.3751, avg_loss=16.3845]"
     ]
    },
    {
     "name": "stdout",
     "output_type": "stream",
     "text": [
      "{'kd_loss': 32.494239807128906, 'feature_loss': 0.33600497245788574, 'ce_loss': 7.808478832244873, 'cont_loss': 1.8685121536254883, 'teacher_loss': 8.089266777038574, 'total_loss': 16.375139236450195}\n"
     ]
    },
    {
     "name": "stderr",
     "output_type": "stream",
     "text": [
      "Validating:  29%|██▉       | 68/235 [00:34<01:21,  2.06it/s, loss=16.5084, avg_loss=16.3863]"
     ]
    },
    {
     "name": "stdout",
     "output_type": "stream",
     "text": [
      "{'kd_loss': 32.49440002441406, 'feature_loss': 0.3140825033187866, 'ce_loss': 8.106285095214844, 'cont_loss': 2.053262233734131, 'teacher_loss': 8.09760570526123, 'total_loss': 16.5084171295166}\n"
     ]
    },
    {
     "name": "stderr",
     "output_type": "stream",
     "text": [
      "Validating:  29%|██▉       | 69/235 [00:35<01:20,  2.06it/s, loss=16.3965, avg_loss=16.3864]"
     ]
    },
    {
     "name": "stdout",
     "output_type": "stream",
     "text": [
      "{'kd_loss': 32.49568176269531, 'feature_loss': 0.30486488342285156, 'ce_loss': 7.876216888427734, 'cont_loss': 1.8680570125579834, 'teacher_loss': 8.083210945129395, 'total_loss': 16.39653778076172}\n"
     ]
    },
    {
     "name": "stderr",
     "output_type": "stream",
     "text": [
      "Validating:  30%|██▉       | 70/235 [00:35<01:20,  2.06it/s, loss=16.3984, avg_loss=16.3866]"
     ]
    },
    {
     "name": "stdout",
     "output_type": "stream",
     "text": [
      "{'kd_loss': 32.49537658691406, 'feature_loss': 0.2960245609283447, 'ce_loss': 7.883792877197266, 'cont_loss': 1.8756972551345825, 'teacher_loss': 8.104206085205078, 'total_loss': 16.3984432220459}\n"
     ]
    },
    {
     "name": "stderr",
     "output_type": "stream",
     "text": [
      "Validating:  30%|███       | 71/235 [00:36<01:19,  2.06it/s, loss=16.4647, avg_loss=16.3877]"
     ]
    },
    {
     "name": "stdout",
     "output_type": "stream",
     "text": [
      "{'kd_loss': 32.495216369628906, 'feature_loss': 0.3400299549102783, 'ce_loss': 8.00716495513916, 'cont_loss': 1.9570789337158203, 'teacher_loss': 8.082478523254395, 'total_loss': 16.46466636657715}\n"
     ]
    },
    {
     "name": "stderr",
     "output_type": "stream",
     "text": [
      "Validating:  31%|███       | 72/235 [00:36<01:19,  2.06it/s, loss=16.5156, avg_loss=16.3895]"
     ]
    },
    {
     "name": "stdout",
     "output_type": "stream",
     "text": [
      "{'kd_loss': 32.4965934753418, 'feature_loss': 0.3181649446487427, 'ce_loss': 8.137175559997559, 'cont_loss': 1.9849861860275269, 'teacher_loss': 8.088377952575684, 'total_loss': 16.51563835144043}\n"
     ]
    },
    {
     "name": "stderr",
     "output_type": "stream",
     "text": [
      "Validating:  31%|███       | 73/235 [00:37<01:18,  2.06it/s, loss=16.5032, avg_loss=16.3910]"
     ]
    },
    {
     "name": "stdout",
     "output_type": "stream",
     "text": [
      "{'kd_loss': 32.494712829589844, 'feature_loss': 0.2923959493637085, 'ce_loss': 8.134607315063477, 'cont_loss': 1.9302276372909546, 'teacher_loss': 8.115653038024902, 'total_loss': 16.503231048583984}\n"
     ]
    },
    {
     "name": "stderr",
     "output_type": "stream",
     "text": [
      "Validating:  31%|███▏      | 74/235 [00:37<01:18,  2.06it/s, loss=16.4797, avg_loss=16.3922]"
     ]
    },
    {
     "name": "stdout",
     "output_type": "stream",
     "text": [
      "{'kd_loss': 32.49455261230469, 'feature_loss': 0.2753373384475708, 'ce_loss': 8.067694664001465, 'cont_loss': 1.99739408493042, 'teacher_loss': 8.106032371520996, 'total_loss': 16.479705810546875}\n"
     ]
    },
    {
     "name": "stderr",
     "output_type": "stream",
     "text": [
      "Validating:  32%|███▏      | 75/235 [00:38<01:17,  2.06it/s, loss=16.3881, avg_loss=16.3922]"
     ]
    },
    {
     "name": "stdout",
     "output_type": "stream",
     "text": [
      "{'kd_loss': 32.49558639526367, 'feature_loss': 0.2881697416305542, 'ce_loss': 7.829592704772949, 'cont_loss': 2.0034971237182617, 'teacher_loss': 8.107880592346191, 'total_loss': 16.3880558013916}\n"
     ]
    },
    {
     "name": "stderr",
     "output_type": "stream",
     "text": [
      "Validating:  32%|███▏      | 76/235 [00:38<01:17,  2.06it/s, loss=16.4549, avg_loss=16.3930]"
     ]
    },
    {
     "name": "stdout",
     "output_type": "stream",
     "text": [
      "{'kd_loss': 32.495018005371094, 'feature_loss': 0.3194502592086792, 'ce_loss': 7.983658313751221, 'cont_loss': 1.9957913160324097, 'teacher_loss': 8.084965705871582, 'total_loss': 16.454940795898438}\n"
     ]
    },
    {
     "name": "stderr",
     "output_type": "stream",
     "text": [
      "Validating:  33%|███▎      | 77/235 [00:39<01:16,  2.06it/s, loss=16.4857, avg_loss=16.3942]"
     ]
    },
    {
     "name": "stdout",
     "output_type": "stream",
     "text": [
      "{'kd_loss': 32.495269775390625, 'feature_loss': 0.3039602041244507, 'ce_loss': 8.05284595489502, 'cont_loss': 2.0567100048065186, 'teacher_loss': 8.090581893920898, 'total_loss': 16.48571014404297}\n"
     ]
    },
    {
     "name": "stderr",
     "output_type": "stream",
     "text": [
      "Validating:  33%|███▎      | 78/235 [00:39<01:16,  2.06it/s, loss=16.5003, avg_loss=16.3956]"
     ]
    },
    {
     "name": "stdout",
     "output_type": "stream",
     "text": [
      "{'kd_loss': 32.494056701660156, 'feature_loss': 0.34504687786102295, 'ce_loss': 8.08061695098877, 'cont_loss': 2.013781785964966, 'teacher_loss': 8.086221694946289, 'total_loss': 16.50025749206543}\n"
     ]
    },
    {
     "name": "stderr",
     "output_type": "stream",
     "text": [
      "Validating:  34%|███▎      | 79/235 [00:40<01:15,  2.06it/s, loss=16.4679, avg_loss=16.3965]"
     ]
    },
    {
     "name": "stdout",
     "output_type": "stream",
     "text": [
      "{'kd_loss': 32.49432373046875, 'feature_loss': 0.2928033471107483, 'ce_loss': 7.989403247833252, 'cont_loss': 2.1587531566619873, 'teacher_loss': 8.096383094787598, 'total_loss': 16.467926025390625}\n"
     ]
    },
    {
     "name": "stderr",
     "output_type": "stream",
     "text": [
      "Validating:  34%|███▍      | 80/235 [00:40<01:15,  2.06it/s, loss=16.4972, avg_loss=16.3977]"
     ]
    },
    {
     "name": "stdout",
     "output_type": "stream",
     "text": [
      "{'kd_loss': 32.495018005371094, 'feature_loss': 0.3106602430343628, 'ce_loss': 8.071121215820312, 'cont_loss': 2.0864906311035156, 'teacher_loss': 8.087496757507324, 'total_loss': 16.497236251831055}\n"
     ]
    },
    {
     "name": "stderr",
     "output_type": "stream",
     "text": [
      "Validating:  34%|███▍      | 81/235 [00:41<01:14,  2.06it/s, loss=16.3957, avg_loss=16.3977]"
     ]
    },
    {
     "name": "stdout",
     "output_type": "stream",
     "text": [
      "{'kd_loss': 32.49531555175781, 'feature_loss': 0.3386501669883728, 'ce_loss': 7.805938720703125, 'cont_loss': 2.0750553607940674, 'teacher_loss': 8.106504440307617, 'total_loss': 16.39573860168457}\n"
     ]
    },
    {
     "name": "stderr",
     "output_type": "stream",
     "text": [
      "Validating:  35%|███▍      | 82/235 [00:41<01:14,  2.06it/s, loss=16.4563, avg_loss=16.3984]"
     ]
    },
    {
     "name": "stdout",
     "output_type": "stream",
     "text": [
      "{'kd_loss': 32.494625091552734, 'feature_loss': 0.3167794942855835, 'ce_loss': 7.966640472412109, 'cont_loss': 2.0846400260925293, 'teacher_loss': 8.100616455078125, 'total_loss': 16.45632553100586}\n"
     ]
    },
    {
     "name": "stderr",
     "output_type": "stream",
     "text": [
      "Validating:  35%|███▌      | 83/235 [00:42<01:13,  2.06it/s, loss=16.5355, avg_loss=16.4001]"
     ]
    },
    {
     "name": "stdout",
     "output_type": "stream",
     "text": [
      "{'kd_loss': 32.4963493347168, 'feature_loss': 0.3140789866447449, 'ce_loss': 8.159563064575195, 'cont_loss': 2.1027450561523438, 'teacher_loss': 8.083868980407715, 'total_loss': 16.53545379638672}\n"
     ]
    },
    {
     "name": "stderr",
     "output_type": "stream",
     "text": [
      "Validating:  36%|███▌      | 84/235 [00:42<01:13,  2.06it/s, loss=16.5100, avg_loss=16.4014]"
     ]
    },
    {
     "name": "stdout",
     "output_type": "stream",
     "text": [
      "{'kd_loss': 32.49541473388672, 'feature_loss': 0.29609382152557373, 'ce_loss': 8.111126899719238, 'cont_loss': 2.081434488296509, 'teacher_loss': 8.113910675048828, 'total_loss': 16.509979248046875}\n"
     ]
    },
    {
     "name": "stderr",
     "output_type": "stream",
     "text": [
      "Validating:  36%|███▌      | 85/235 [00:43<01:12,  2.06it/s, loss=16.4918, avg_loss=16.4025]"
     ]
    },
    {
     "name": "stdout",
     "output_type": "stream",
     "text": [
      "{'kd_loss': 32.49562072753906, 'feature_loss': 0.3731711506843567, 'ce_loss': 8.019755363464355, 'cont_loss': 2.1102991104125977, 'teacher_loss': 8.09536361694336, 'total_loss': 16.49181365966797}\n"
     ]
    },
    {
     "name": "stderr",
     "output_type": "stream",
     "text": [
      "Validating:  37%|███▋      | 86/235 [00:43<01:12,  2.06it/s, loss=16.5252, avg_loss=16.4039]"
     ]
    },
    {
     "name": "stdout",
     "output_type": "stream",
     "text": [
      "{'kd_loss': 32.49551010131836, 'feature_loss': 0.33084040880203247, 'ce_loss': 8.084455490112305, 'cont_loss': 2.2700462341308594, 'teacher_loss': 8.080528259277344, 'total_loss': 16.52515983581543}\n"
     ]
    },
    {
     "name": "stderr",
     "output_type": "stream",
     "text": [
      "Validating:  37%|███▋      | 87/235 [00:44<01:11,  2.06it/s, loss=16.5577, avg_loss=16.4056]"
     ]
    },
    {
     "name": "stdout",
     "output_type": "stream",
     "text": [
      "{'kd_loss': 32.49565887451172, 'feature_loss': 0.38607674837112427, 'ce_loss': 8.175468444824219, 'cont_loss': 2.119971990585327, 'teacher_loss': 8.073083877563477, 'total_loss': 16.557662963867188}\n"
     ]
    },
    {
     "name": "stderr",
     "output_type": "stream",
     "text": [
      "Validating:  37%|███▋      | 88/235 [00:44<01:11,  2.06it/s, loss=16.4488, avg_loss=16.4061]"
     ]
    },
    {
     "name": "stdout",
     "output_type": "stream",
     "text": [
      "{'kd_loss': 32.495140075683594, 'feature_loss': 0.3302886486053467, 'ce_loss': 7.926382541656494, 'cont_loss': 2.1415460109710693, 'teacher_loss': 8.097017288208008, 'total_loss': 16.448822021484375}\n"
     ]
    },
    {
     "name": "stderr",
     "output_type": "stream",
     "text": [
      "Validating:  38%|███▊      | 89/235 [00:45<01:10,  2.06it/s, loss=16.5024, avg_loss=16.4072]"
     ]
    },
    {
     "name": "stdout",
     "output_type": "stream",
     "text": [
      "{'kd_loss': 32.4949951171875, 'feature_loss': 0.3142017126083374, 'ce_loss': 8.052560806274414, 'cont_loss': 2.2054460048675537, 'teacher_loss': 8.087838172912598, 'total_loss': 16.50240707397461}\n"
     ]
    },
    {
     "name": "stderr",
     "output_type": "stream",
     "text": [
      "Validating:  38%|███▊      | 90/235 [00:45<01:10,  2.06it/s, loss=16.5375, avg_loss=16.4087]"
     ]
    },
    {
     "name": "stdout",
     "output_type": "stream",
     "text": [
      "{'kd_loss': 32.49394226074219, 'feature_loss': 0.33080220222473145, 'ce_loss': 8.14672565460205, 'cont_loss': 2.1509323120117188, 'teacher_loss': 8.090636253356934, 'total_loss': 16.537521362304688}\n"
     ]
    },
    {
     "name": "stderr",
     "output_type": "stream",
     "text": [
      "Validating:  39%|███▊      | 91/235 [00:46<01:09,  2.06it/s, loss=16.5325, avg_loss=16.4100]"
     ]
    },
    {
     "name": "stdout",
     "output_type": "stream",
     "text": [
      "{'kd_loss': 32.49443817138672, 'feature_loss': 0.2968600392341614, 'ce_loss': 8.107601165771484, 'cont_loss': 2.323136568069458, 'teacher_loss': 8.09511947631836, 'total_loss': 16.532501220703125}\n"
     ]
    },
    {
     "name": "stderr",
     "output_type": "stream",
     "text": [
      "Validating:  39%|███▉      | 92/235 [00:46<01:09,  2.06it/s, loss=16.5751, avg_loss=16.4118]"
     ]
    },
    {
     "name": "stdout",
     "output_type": "stream",
     "text": [
      "{'kd_loss': 32.495399475097656, 'feature_loss': 0.272477388381958, 'ce_loss': 8.256128311157227, 'cont_loss': 2.200237274169922, 'teacher_loss': 8.104042053222656, 'total_loss': 16.575132369995117}\n"
     ]
    },
    {
     "name": "stderr",
     "output_type": "stream",
     "text": [
      "Validating:  40%|███▉      | 93/235 [00:47<01:09,  2.05it/s, loss=16.5355, avg_loss=16.4132]"
     ]
    },
    {
     "name": "stdout",
     "output_type": "stream",
     "text": [
      "{'kd_loss': 32.496192932128906, 'feature_loss': 0.3231932520866394, 'ce_loss': 8.14001178741455, 'cont_loss': 2.1639068126678467, 'teacher_loss': 8.083344459533691, 'total_loss': 16.535511016845703}\n"
     ]
    },
    {
     "name": "stderr",
     "output_type": "stream",
     "text": [
      "Validating:  40%|████      | 94/235 [00:47<01:08,  2.05it/s, loss=16.4695, avg_loss=16.4138]"
     ]
    },
    {
     "name": "stdout",
     "output_type": "stream",
     "text": [
      "{'kd_loss': 32.496124267578125, 'feature_loss': 0.2910645008087158, 'ce_loss': 7.946019172668457, 'cont_loss': 2.3445520401000977, 'teacher_loss': 8.090010643005371, 'total_loss': 16.469526290893555}\n"
     ]
    },
    {
     "name": "stderr",
     "output_type": "stream",
     "text": [
      "Validating:  40%|████      | 95/235 [00:48<01:08,  2.05it/s, loss=16.4243, avg_loss=16.4139]"
     ]
    },
    {
     "name": "stdout",
     "output_type": "stream",
     "text": [
      "{'kd_loss': 32.495609283447266, 'feature_loss': 0.34554094076156616, 'ce_loss': 7.835018157958984, 'cont_loss': 2.2293734550476074, 'teacher_loss': 8.091890335083008, 'total_loss': 16.42429542541504}\n"
     ]
    },
    {
     "name": "stderr",
     "output_type": "stream",
     "text": [
      "Validating:  41%|████      | 96/235 [00:48<01:07,  2.05it/s, loss=16.5258, avg_loss=16.4150]"
     ]
    },
    {
     "name": "stdout",
     "output_type": "stream",
     "text": [
      "{'kd_loss': 32.496978759765625, 'feature_loss': 0.30969178676605225, 'ce_loss': 8.103057861328125, 'cont_loss': 2.2383193969726562, 'teacher_loss': 8.093090057373047, 'total_loss': 16.52578353881836}\n"
     ]
    },
    {
     "name": "stderr",
     "output_type": "stream",
     "text": [
      "Validating:  41%|████▏     | 97/235 [00:48<01:07,  2.05it/s, loss=16.5102, avg_loss=16.4160]"
     ]
    },
    {
     "name": "stdout",
     "output_type": "stream",
     "text": [
      "{'kd_loss': 32.494476318359375, 'feature_loss': 0.3173469305038452, 'ce_loss': 8.06671142578125, 'cont_loss': 2.222292423248291, 'teacher_loss': 8.093116760253906, 'total_loss': 16.510173797607422}\n"
     ]
    },
    {
     "name": "stderr",
     "output_type": "stream",
     "text": [
      "Validating:  42%|████▏     | 98/235 [00:49<01:06,  2.05it/s, loss=16.5655, avg_loss=16.4175]"
     ]
    },
    {
     "name": "stdout",
     "output_type": "stream",
     "text": [
      "{'kd_loss': 32.495094299316406, 'feature_loss': 0.3519272208213806, 'ce_loss': 8.141926765441895, 'cont_loss': 2.4031741619110107, 'teacher_loss': 8.08518123626709, 'total_loss': 16.56551170349121}\n"
     ]
    },
    {
     "name": "stderr",
     "output_type": "stream",
     "text": [
      "Validating:  42%|████▏     | 99/235 [00:49<01:06,  2.06it/s, loss=16.5216, avg_loss=16.4186]"
     ]
    },
    {
     "name": "stdout",
     "output_type": "stream",
     "text": [
      "{'kd_loss': 32.494415283203125, 'feature_loss': 0.31344902515411377, 'ce_loss': 8.073768615722656, 'cont_loss': 2.316281795501709, 'teacher_loss': 8.0889253616333, 'total_loss': 16.521591186523438}\n"
     ]
    },
    {
     "name": "stderr",
     "output_type": "stream",
     "text": [
      "Validating:  43%|████▎     | 100/235 [00:50<01:05,  2.06it/s, loss=16.4589, avg_loss=16.4190]"
     ]
    },
    {
     "name": "stdout",
     "output_type": "stream",
     "text": [
      "{'kd_loss': 32.495361328125, 'feature_loss': 0.2741551995277405, 'ce_loss': 7.9329609870910645, 'cont_loss': 2.3274154663085938, 'teacher_loss': 8.109692573547363, 'total_loss': 16.458904266357422}\n"
     ]
    },
    {
     "name": "stderr",
     "output_type": "stream",
     "text": [
      "Validating:  43%|████▎     | 101/235 [00:50<01:05,  2.06it/s, loss=16.5125, avg_loss=16.4199]"
     ]
    },
    {
     "name": "stdout",
     "output_type": "stream",
     "text": [
      "{'kd_loss': 32.49497985839844, 'feature_loss': 0.2931785583496094, 'ce_loss': 8.058751106262207, 'cont_loss': 2.32338285446167, 'teacher_loss': 8.102357864379883, 'total_loss': 16.512466430664062}\n"
     ]
    },
    {
     "name": "stderr",
     "output_type": "stream",
     "text": [
      "Validating:  43%|████▎     | 102/235 [00:51<01:04,  2.06it/s, loss=16.5382, avg_loss=16.4211]"
     ]
    },
    {
     "name": "stdout",
     "output_type": "stream",
     "text": [
      "{'kd_loss': 32.494911193847656, 'feature_loss': 0.2672601342201233, 'ce_loss': 8.135971069335938, 'cont_loss': 2.3240015506744385, 'teacher_loss': 8.105061531066895, 'total_loss': 16.538206100463867}\n"
     ]
    },
    {
     "name": "stderr",
     "output_type": "stream",
     "text": [
      "Validating:  44%|████▍     | 103/235 [00:51<01:04,  2.06it/s, loss=16.5734, avg_loss=16.4226]"
     ]
    },
    {
     "name": "stdout",
     "output_type": "stream",
     "text": [
      "{'kd_loss': 32.494422912597656, 'feature_loss': 0.2921067476272583, 'ce_loss': 8.168437957763672, 'cont_loss': 2.498274087905884, 'teacher_loss': 8.096959114074707, 'total_loss': 16.573394775390625}\n"
     ]
    },
    {
     "name": "stderr",
     "output_type": "stream",
     "text": [
      "Validating:  44%|████▍     | 104/235 [00:52<01:03,  2.06it/s, loss=16.5946, avg_loss=16.4242]"
     ]
    },
    {
     "name": "stdout",
     "output_type": "stream",
     "text": [
      "{'kd_loss': 32.49404525756836, 'feature_loss': 0.2841675281524658, 'ce_loss': 8.261533737182617, 'cont_loss': 2.3550970554351807, 'teacher_loss': 8.098998069763184, 'total_loss': 16.594575881958008}\n"
     ]
    },
    {
     "name": "stderr",
     "output_type": "stream",
     "text": [
      "Validating:  45%|████▍     | 105/235 [00:52<01:03,  2.06it/s, loss=16.5076, avg_loss=16.4250]"
     ]
    },
    {
     "name": "stdout",
     "output_type": "stream",
     "text": [
      "{'kd_loss': 32.49525451660156, 'feature_loss': 0.29007184505462646, 'ce_loss': 8.036540985107422, 'cont_loss': 2.3681859970092773, 'teacher_loss': 8.09555721282959, 'total_loss': 16.507551193237305}\n"
     ]
    },
    {
     "name": "stderr",
     "output_type": "stream",
     "text": [
      "Validating:  45%|████▌     | 106/235 [00:53<01:02,  2.06it/s, loss=16.6090, avg_loss=16.4267]"
     ]
    },
    {
     "name": "stdout",
     "output_type": "stream",
     "text": [
      "{'kd_loss': 32.496429443359375, 'feature_loss': 0.34910595417022705, 'ce_loss': 8.217927932739258, 'cont_loss': 2.534579277038574, 'teacher_loss': 8.09206771850586, 'total_loss': 16.60902214050293}\n"
     ]
    },
    {
     "name": "stderr",
     "output_type": "stream",
     "text": [
      "Validating:  46%|████▌     | 107/235 [00:53<01:02,  2.05it/s, loss=16.4278, avg_loss=16.4267]"
     ]
    },
    {
     "name": "stdout",
     "output_type": "stream",
     "text": [
      "{'kd_loss': 32.496910095214844, 'feature_loss': 0.37471526861190796, 'ce_loss': 7.801738262176514, 'cont_loss': 2.3342878818511963, 'teacher_loss': 8.09815788269043, 'total_loss': 16.427831649780273}\n"
     ]
    },
    {
     "name": "stderr",
     "output_type": "stream",
     "text": [
      "Validating:  46%|████▌     | 108/235 [00:54<01:01,  2.05it/s, loss=16.5019, avg_loss=16.4274]"
     ]
    },
    {
     "name": "stdout",
     "output_type": "stream",
     "text": [
      "{'kd_loss': 32.49571990966797, 'feature_loss': 0.33941787481307983, 'ce_loss': 8.00514030456543, 'cont_loss': 2.3365490436553955, 'teacher_loss': 8.091413497924805, 'total_loss': 16.501882553100586}\n"
     ]
    },
    {
     "name": "stderr",
     "output_type": "stream",
     "text": [
      "Validating:  46%|████▋     | 109/235 [00:54<01:01,  2.05it/s, loss=16.5334, avg_loss=16.4284]"
     ]
    },
    {
     "name": "stdout",
     "output_type": "stream",
     "text": [
      "{'kd_loss': 32.49541473388672, 'feature_loss': 0.2920445203781128, 'ce_loss': 8.064103126525879, 'cont_loss': 2.51155424118042, 'teacher_loss': 8.089268684387207, 'total_loss': 16.533370971679688}\n"
     ]
    },
    {
     "name": "stderr",
     "output_type": "stream",
     "text": [
      "Validating:  47%|████▋     | 110/235 [00:55<01:00,  2.05it/s, loss=16.5172, avg_loss=16.4292]"
     ]
    },
    {
     "name": "stdout",
     "output_type": "stream",
     "text": [
      "{'kd_loss': 32.495147705078125, 'feature_loss': 0.3377469778060913, 'ce_loss': 8.023895263671875, 'cont_loss': 2.4206173419952393, 'teacher_loss': 8.087685585021973, 'total_loss': 16.517229080200195}\n"
     ]
    },
    {
     "name": "stderr",
     "output_type": "stream",
     "text": [
      "Validating:  47%|████▋     | 111/235 [00:55<01:00,  2.05it/s, loss=16.5271, avg_loss=16.4301]"
     ]
    },
    {
     "name": "stdout",
     "output_type": "stream",
     "text": [
      "{'kd_loss': 32.49447250366211, 'feature_loss': 0.31707334518432617, 'ce_loss': 8.055261611938477, 'cont_loss': 2.437673807144165, 'teacher_loss': 8.09803295135498, 'total_loss': 16.527074813842773}\n"
     ]
    },
    {
     "name": "stderr",
     "output_type": "stream",
     "text": [
      "Validating:  48%|████▊     | 112/235 [00:56<00:59,  2.06it/s, loss=16.5198, avg_loss=16.4309]"
     ]
    },
    {
     "name": "stdout",
     "output_type": "stream",
     "text": [
      "{'kd_loss': 32.49653625488281, 'feature_loss': 0.37948793172836304, 'ce_loss': 8.010190963745117, 'cont_loss': 2.4119157791137695, 'teacher_loss': 8.098211288452148, 'total_loss': 16.519779205322266}\n"
     ]
    },
    {
     "name": "stderr",
     "output_type": "stream",
     "text": [
      "Validating:  48%|████▊     | 113/235 [00:56<00:59,  2.05it/s, loss=16.4944, avg_loss=16.4315]"
     ]
    },
    {
     "name": "stdout",
     "output_type": "stream",
     "text": [
      "{'kd_loss': 32.49639892578125, 'feature_loss': 0.3206195831298828, 'ce_loss': 7.9783711433410645, 'cont_loss': 2.403440475463867, 'teacher_loss': 8.098298072814941, 'total_loss': 16.49437713623047}\n"
     ]
    },
    {
     "name": "stderr",
     "output_type": "stream",
     "text": [
      "Validating:  49%|████▊     | 114/235 [00:57<00:58,  2.05it/s, loss=16.5638, avg_loss=16.4326]"
     ]
    },
    {
     "name": "stdout",
     "output_type": "stream",
     "text": [
      "{'kd_loss': 32.49595642089844, 'feature_loss': 0.35766535997390747, 'ce_loss': 8.088643074035645, 'cont_loss': 2.584268569946289, 'teacher_loss': 8.086791038513184, 'total_loss': 16.563798904418945}\n"
     ]
    },
    {
     "name": "stderr",
     "output_type": "stream",
     "text": [
      "Validating:  49%|████▉     | 115/235 [00:57<00:58,  2.05it/s, loss=16.6884, avg_loss=16.4349]"
     ]
    },
    {
     "name": "stdout",
     "output_type": "stream",
     "text": [
      "{'kd_loss': 32.495635986328125, 'feature_loss': 0.34603190422058105, 'ce_loss': 8.443379402160645, 'cont_loss': 2.435704231262207, 'teacher_loss': 8.094412803649902, 'total_loss': 16.688383102416992}\n"
     ]
    },
    {
     "name": "stderr",
     "output_type": "stream",
     "text": [
      "Validating:  49%|████▉     | 116/235 [00:58<00:58,  2.05it/s, loss=16.5389, avg_loss=16.4357]"
     ]
    },
    {
     "name": "stdout",
     "output_type": "stream",
     "text": [
      "{'kd_loss': 32.49408721923828, 'feature_loss': 0.27402669191360474, 'ce_loss': 8.098017692565918, 'cont_loss': 2.4726827144622803, 'teacher_loss': 8.093935012817383, 'total_loss': 16.538915634155273}\n"
     ]
    },
    {
     "name": "stderr",
     "output_type": "stream",
     "text": [
      "Validating:  50%|████▉     | 117/235 [00:58<00:57,  2.05it/s, loss=16.5616, avg_loss=16.4368]"
     ]
    },
    {
     "name": "stdout",
     "output_type": "stream",
     "text": [
      "{'kd_loss': 32.49626922607422, 'feature_loss': 0.3352561593055725, 'ce_loss': 8.111830711364746, 'cont_loss': 2.512662887573242, 'teacher_loss': 8.080429077148438, 'total_loss': 16.56155776977539}\n"
     ]
    },
    {
     "name": "stderr",
     "output_type": "stream",
     "text": [
      "Validating:  50%|█████     | 118/235 [00:59<00:56,  2.05it/s, loss=16.5621, avg_loss=16.4379]"
     ]
    },
    {
     "name": "stdout",
     "output_type": "stream",
     "text": [
      "{'kd_loss': 32.4940185546875, 'feature_loss': 0.33641505241394043, 'ce_loss': 8.12485122680664, 'cont_loss': 2.473026752471924, 'teacher_loss': 8.086505889892578, 'total_loss': 16.5621337890625}\n"
     ]
    },
    {
     "name": "stderr",
     "output_type": "stream",
     "text": [
      "Validating:  51%|█████     | 119/235 [00:59<00:56,  2.06it/s, loss=16.5689, avg_loss=16.4390]"
     ]
    },
    {
     "name": "stdout",
     "output_type": "stream",
     "text": [
      "{'kd_loss': 32.49553680419922, 'feature_loss': 0.3021237850189209, 'ce_loss': 8.151712417602539, 'cont_loss': 2.495368003845215, 'teacher_loss': 8.082341194152832, 'total_loss': 16.56886100769043}\n"
     ]
    },
    {
     "name": "stderr",
     "output_type": "stream",
     "text": [
      "Validating:  51%|█████     | 120/235 [01:00<00:55,  2.06it/s, loss=16.5854, avg_loss=16.4402]"
     ]
    },
    {
     "name": "stdout",
     "output_type": "stream",
     "text": [
      "{'kd_loss': 32.49391174316406, 'feature_loss': 0.3731222152709961, 'ce_loss': 8.149505615234375, 'cont_loss': 2.5340890884399414, 'teacher_loss': 8.097393035888672, 'total_loss': 16.585399627685547}\n"
     ]
    },
    {
     "name": "stderr",
     "output_type": "stream",
     "text": [
      "Validating:  51%|█████▏    | 121/235 [01:00<00:55,  2.06it/s, loss=16.5865, avg_loss=16.4414]"
     ]
    },
    {
     "name": "stdout",
     "output_type": "stream",
     "text": [
      "{'kd_loss': 32.49502182006836, 'feature_loss': 0.3120652437210083, 'ce_loss': 8.178353309631348, 'cont_loss': 2.5470666885375977, 'teacher_loss': 8.100106239318848, 'total_loss': 16.586471557617188}\n"
     ]
    },
    {
     "name": "stderr",
     "output_type": "stream",
     "text": [
      "Validating:  52%|█████▏    | 122/235 [01:01<00:54,  2.06it/s, loss=16.4895, avg_loss=16.4418]"
     ]
    },
    {
     "name": "stdout",
     "output_type": "stream",
     "text": [
      "{'kd_loss': 32.49560546875, 'feature_loss': 0.31761783361434937, 'ce_loss': 7.928833961486816, 'cont_loss': 2.561546802520752, 'teacher_loss': 8.105359077453613, 'total_loss': 16.48945426940918}\n"
     ]
    },
    {
     "name": "stderr",
     "output_type": "stream",
     "text": [
      "Validating:  52%|█████▏    | 123/235 [01:01<00:54,  2.06it/s, loss=16.5832, avg_loss=16.4430]"
     ]
    },
    {
     "name": "stdout",
     "output_type": "stream",
     "text": [
      "{'kd_loss': 32.49566650390625, 'feature_loss': 0.30679333209991455, 'ce_loss': 8.14294147491455, 'cont_loss': 2.6635489463806152, 'teacher_loss': 8.093511581420898, 'total_loss': 16.583158493041992}\n"
     ]
    },
    {
     "name": "stderr",
     "output_type": "stream",
     "text": [
      "Validating:  53%|█████▎    | 124/235 [01:02<00:53,  2.06it/s, loss=16.6017, avg_loss=16.4442]"
     ]
    },
    {
     "name": "stdout",
     "output_type": "stream",
     "text": [
      "{'kd_loss': 32.49457550048828, 'feature_loss': 0.313518226146698, 'ce_loss': 8.22856616973877, 'cont_loss': 2.497141122817993, 'teacher_loss': 8.083091735839844, 'total_loss': 16.601675033569336}\n"
     ]
    },
    {
     "name": "stderr",
     "output_type": "stream",
     "text": [
      "Validating:  53%|█████▎    | 125/235 [01:02<00:53,  2.06it/s, loss=16.5704, avg_loss=16.4452]"
     ]
    },
    {
     "name": "stdout",
     "output_type": "stream",
     "text": [
      "{'kd_loss': 32.49531555175781, 'feature_loss': 0.31631410121917725, 'ce_loss': 8.105088233947754, 'cont_loss': 2.669292449951172, 'teacher_loss': 8.09097957611084, 'total_loss': 16.570354461669922}\n"
     ]
    },
    {
     "name": "stderr",
     "output_type": "stream",
     "text": [
      "Validating:  54%|█████▎    | 126/235 [01:03<00:53,  2.06it/s, loss=16.5050, avg_loss=16.4457]"
     ]
    },
    {
     "name": "stdout",
     "output_type": "stream",
     "text": [
      "{'kd_loss': 32.49501419067383, 'feature_loss': 0.3075331449508667, 'ce_loss': 7.978112697601318, 'cont_loss': 2.5425033569335938, 'teacher_loss': 8.101189613342285, 'total_loss': 16.505006790161133}\n"
     ]
    },
    {
     "name": "stderr",
     "output_type": "stream",
     "text": [
      "Validating:  54%|█████▍    | 127/235 [01:03<00:52,  2.05it/s, loss=16.5858, avg_loss=16.4468]"
     ]
    },
    {
     "name": "stdout",
     "output_type": "stream",
     "text": [
      "{'kd_loss': 32.496070861816406, 'feature_loss': 0.36221516132354736, 'ce_loss': 8.134354591369629, 'cont_loss': 2.6121163368225098, 'teacher_loss': 8.082371711730957, 'total_loss': 16.585824966430664}\n"
     ]
    },
    {
     "name": "stderr",
     "output_type": "stream",
     "text": [
      "Validating:  54%|█████▍    | 128/235 [01:04<00:52,  2.05it/s, loss=16.4220, avg_loss=16.4466]"
     ]
    },
    {
     "name": "stdout",
     "output_type": "stream",
     "text": [
      "{'kd_loss': 32.495758056640625, 'feature_loss': 0.32017791271209717, 'ce_loss': 7.756224632263184, 'cont_loss': 2.572049856185913, 'teacher_loss': 8.085492134094238, 'total_loss': 16.422033309936523}\n"
     ]
    },
    {
     "name": "stderr",
     "output_type": "stream",
     "text": [
      "Validating:  55%|█████▍    | 129/235 [01:04<00:51,  2.05it/s, loss=16.5414, avg_loss=16.4474]"
     ]
    },
    {
     "name": "stdout",
     "output_type": "stream",
     "text": [
      "{'kd_loss': 32.49504852294922, 'feature_loss': 0.301191508769989, 'ce_loss': 8.052278518676758, 'cont_loss': 2.622195243835449, 'teacher_loss': 8.097474098205566, 'total_loss': 16.54138946533203}\n"
     ]
    },
    {
     "name": "stderr",
     "output_type": "stream",
     "text": [
      "Validating:  55%|█████▌    | 130/235 [01:05<00:51,  2.06it/s, loss=16.6183, avg_loss=16.4487]"
     ]
    },
    {
     "name": "stdout",
     "output_type": "stream",
     "text": [
      "{'kd_loss': 32.49527359008789, 'feature_loss': 0.2921764850616455, 'ce_loss': 8.214886665344238, 'cont_loss': 2.757563352584839, 'teacher_loss': 8.093524932861328, 'total_loss': 16.618257522583008}\n"
     ]
    },
    {
     "name": "stderr",
     "output_type": "stream",
     "text": [
      "Validating:  56%|█████▌    | 131/235 [01:05<00:50,  2.06it/s, loss=16.6298, avg_loss=16.4501]"
     ]
    },
    {
     "name": "stdout",
     "output_type": "stream",
     "text": [
      "{'kd_loss': 32.49528121948242, 'feature_loss': 0.3312641382217407, 'ce_loss': 8.214131355285645, 'cont_loss': 2.7979915142059326, 'teacher_loss': 8.09595012664795, 'total_loss': 16.62981605529785}\n"
     ]
    },
    {
     "name": "stderr",
     "output_type": "stream",
     "text": [
      "Validating:  56%|█████▌    | 132/235 [01:06<00:50,  2.05it/s, loss=16.4939, avg_loss=16.4504]"
     ]
    },
    {
     "name": "stdout",
     "output_type": "stream",
     "text": [
      "{'kd_loss': 32.494422912597656, 'feature_loss': 0.3044133186340332, 'ce_loss': 7.936862468719482, 'cont_loss': 2.6051583290100098, 'teacher_loss': 8.101896286010742, 'total_loss': 16.493911743164062}\n"
     ]
    },
    {
     "name": "stderr",
     "output_type": "stream",
     "text": [
      "Validating:  57%|█████▋    | 133/235 [01:06<00:49,  2.05it/s, loss=16.6201, avg_loss=16.4517]"
     ]
    },
    {
     "name": "stdout",
     "output_type": "stream",
     "text": [
      "{'kd_loss': 32.496185302734375, 'feature_loss': 0.3230193853378296, 'ce_loss': 8.238021850585938, 'cont_loss': 2.618525505065918, 'teacher_loss': 8.086655616760254, 'total_loss': 16.62013816833496}\n"
     ]
    },
    {
     "name": "stderr",
     "output_type": "stream",
     "text": [
      "Validating:  57%|█████▋    | 134/235 [01:06<00:49,  2.05it/s, loss=16.5875, avg_loss=16.4527]"
     ]
    },
    {
     "name": "stdout",
     "output_type": "stream",
     "text": [
      "{'kd_loss': 32.49477005004883, 'feature_loss': 0.31563979387283325, 'ce_loss': 8.122368812561035, 'cont_loss': 2.7753424644470215, 'teacher_loss': 8.095369338989258, 'total_loss': 16.5875186920166}\n"
     ]
    },
    {
     "name": "stderr",
     "output_type": "stream",
     "text": [
      "Validating:  57%|█████▋    | 135/235 [01:07<00:48,  2.05it/s, loss=16.7245, avg_loss=16.4547]"
     ]
    },
    {
     "name": "stdout",
     "output_type": "stream",
     "text": [
      "{'kd_loss': 32.49530029296875, 'feature_loss': 0.3408646583557129, 'ce_loss': 8.412715911865234, 'cont_loss': 2.9312222003936768, 'teacher_loss': 8.083271026611328, 'total_loss': 16.72450065612793}\n"
     ]
    },
    {
     "name": "stderr",
     "output_type": "stream",
     "text": [
      "Validating:  58%|█████▊    | 136/235 [01:07<00:48,  2.05it/s, loss=16.5695, avg_loss=16.4555]"
     ]
    },
    {
     "name": "stdout",
     "output_type": "stream",
     "text": [
      "{'kd_loss': 32.49448776245117, 'feature_loss': 0.29806631803512573, 'ce_loss': 8.121184349060059, 'cont_loss': 2.635687828063965, 'teacher_loss': 8.094367027282715, 'total_loss': 16.56945037841797}\n"
     ]
    },
    {
     "name": "stderr",
     "output_type": "stream",
     "text": [
      "Validating:  58%|█████▊    | 137/235 [01:08<00:47,  2.05it/s, loss=16.5780, avg_loss=16.4564]"
     ]
    },
    {
     "name": "stdout",
     "output_type": "stream",
     "text": [
      "{'kd_loss': 32.49477005004883, 'feature_loss': 0.344352126121521, 'ce_loss': 8.107172966003418, 'cont_loss': 2.6839964389801025, 'teacher_loss': 8.089550018310547, 'total_loss': 16.578048706054688}\n"
     ]
    },
    {
     "name": "stderr",
     "output_type": "stream",
     "text": [
      "Validating:  59%|█████▊    | 138/235 [01:08<00:47,  2.06it/s, loss=16.5213, avg_loss=16.4569]"
     ]
    },
    {
     "name": "stdout",
     "output_type": "stream",
     "text": [
      "{'kd_loss': 32.49452209472656, 'feature_loss': 0.3136317729949951, 'ce_loss': 7.975557327270508, 'cont_loss': 2.7054646015167236, 'teacher_loss': 8.093314170837402, 'total_loss': 16.521305084228516}\n"
     ]
    },
    {
     "name": "stderr",
     "output_type": "stream",
     "text": [
      "Validating:  59%|█████▉    | 139/235 [01:09<00:46,  2.06it/s, loss=16.5642, avg_loss=16.4577]"
     ]
    },
    {
     "name": "stdout",
     "output_type": "stream",
     "text": [
      "{'kd_loss': 32.49520492553711, 'feature_loss': 0.34880268573760986, 'ce_loss': 8.026773452758789, 'cont_loss': 2.856475830078125, 'teacher_loss': 8.081416130065918, 'total_loss': 16.564199447631836}\n"
     ]
    },
    {
     "name": "stderr",
     "output_type": "stream",
     "text": [
      "Validating:  60%|█████▉    | 140/235 [01:09<00:46,  2.06it/s, loss=16.5382, avg_loss=16.4583]"
     ]
    },
    {
     "name": "stdout",
     "output_type": "stream",
     "text": [
      "{'kd_loss': 32.49640655517578, 'feature_loss': 0.3294827938079834, 'ce_loss': 8.015413284301758, 'cont_loss': 2.6761372089385986, 'teacher_loss': 8.10268783569336, 'total_loss': 16.538240432739258}\n"
     ]
    },
    {
     "name": "stderr",
     "output_type": "stream",
     "text": [
      "Validating:  60%|██████    | 141/235 [01:10<00:45,  2.05it/s, loss=16.5888, avg_loss=16.4592]"
     ]
    },
    {
     "name": "stdout",
     "output_type": "stream",
     "text": [
      "{'kd_loss': 32.49663543701172, 'feature_loss': 0.33871597051620483, 'ce_loss': 8.135875701904297, 'cont_loss': 2.6809682846069336, 'teacher_loss': 8.08721923828125, 'total_loss': 16.588844299316406}\n"
     ]
    },
    {
     "name": "stderr",
     "output_type": "stream",
     "text": [
      "Validating:  60%|██████    | 142/235 [01:10<00:45,  2.05it/s, loss=16.6205, avg_loss=16.4603]"
     ]
    },
    {
     "name": "stdout",
     "output_type": "stream",
     "text": [
      "{'kd_loss': 32.494293212890625, 'feature_loss': 0.3337804079055786, 'ce_loss': 8.168511390686035, 'cont_loss': 2.885995864868164, 'teacher_loss': 8.098146438598633, 'total_loss': 16.6204776763916}\n"
     ]
    },
    {
     "name": "stderr",
     "output_type": "stream",
     "text": [
      "Validating:  61%|██████    | 143/235 [01:11<00:44,  2.05it/s, loss=16.5464, avg_loss=16.4609]"
     ]
    },
    {
     "name": "stdout",
     "output_type": "stream",
     "text": [
      "{'kd_loss': 32.496131896972656, 'feature_loss': 0.3623011112213135, 'ce_loss': 8.002625465393066, 'cont_loss': 2.7448205947875977, 'teacher_loss': 8.0828857421875, 'total_loss': 16.546445846557617}\n"
     ]
    },
    {
     "name": "stderr",
     "output_type": "stream",
     "text": [
      "Validating:  61%|██████▏   | 144/235 [01:11<00:44,  2.05it/s, loss=16.6008, avg_loss=16.4619]"
     ]
    },
    {
     "name": "stdout",
     "output_type": "stream",
     "text": [
      "{'kd_loss': 32.49617004394531, 'feature_loss': 0.3175804615020752, 'ce_loss': 8.157154083251953, 'cont_loss': 2.7591116428375244, 'teacher_loss': 8.08488655090332, 'total_loss': 16.600757598876953}\n"
     ]
    },
    {
     "name": "stderr",
     "output_type": "stream",
     "text": [
      "Validating:  62%|██████▏   | 145/235 [01:12<00:43,  2.05it/s, loss=16.6227, avg_loss=16.4630]"
     ]
    },
    {
     "name": "stdout",
     "output_type": "stream",
     "text": [
      "{'kd_loss': 32.49564743041992, 'feature_loss': 0.34177732467651367, 'ce_loss': 8.161571502685547, 'cont_loss': 2.914639949798584, 'teacher_loss': 8.08885383605957, 'total_loss': 16.62270736694336}\n"
     ]
    },
    {
     "name": "stderr",
     "output_type": "stream",
     "text": [
      "Validating:  62%|██████▏   | 146/235 [01:12<00:43,  2.06it/s, loss=16.6689, avg_loss=16.4644]"
     ]
    },
    {
     "name": "stdout",
     "output_type": "stream",
     "text": [
      "{'kd_loss': 32.49591064453125, 'feature_loss': 0.3223961591720581, 'ce_loss': 8.288458824157715, 'cont_loss': 2.9068000316619873, 'teacher_loss': 8.084147453308105, 'total_loss': 16.668907165527344}\n"
     ]
    },
    {
     "name": "stderr",
     "output_type": "stream",
     "text": [
      "Validating:  63%|██████▎   | 147/235 [01:13<00:42,  2.06it/s, loss=16.5552, avg_loss=16.4650]"
     ]
    },
    {
     "name": "stdout",
     "output_type": "stream",
     "text": [
      "{'kd_loss': 32.49549102783203, 'feature_loss': 0.32840847969055176, 'ce_loss': 8.002164840698242, 'cont_loss': 2.904897689819336, 'teacher_loss': 8.086496353149414, 'total_loss': 16.555233001708984}\n"
     ]
    },
    {
     "name": "stderr",
     "output_type": "stream",
     "text": [
      "Validating:  63%|██████▎   | 148/235 [01:13<00:42,  2.06it/s, loss=16.6393, avg_loss=16.4662]"
     ]
    },
    {
     "name": "stdout",
     "output_type": "stream",
     "text": [
      "{'kd_loss': 32.493751525878906, 'feature_loss': 0.33657288551330566, 'ce_loss': 8.20785903930664, 'cont_loss': 2.913583755493164, 'teacher_loss': 8.090084075927734, 'total_loss': 16.63931655883789}\n"
     ]
    },
    {
     "name": "stderr",
     "output_type": "stream",
     "text": [
      "Validating:  63%|██████▎   | 149/235 [01:14<00:41,  2.06it/s, loss=16.5796, avg_loss=16.4670]"
     ]
    },
    {
     "name": "stdout",
     "output_type": "stream",
     "text": [
      "{'kd_loss': 32.494632720947266, 'feature_loss': 0.3227297067642212, 'ce_loss': 8.085729598999023, 'cont_loss': 2.8289318084716797, 'teacher_loss': 8.09061336517334, 'total_loss': 16.57958221435547}\n"
     ]
    },
    {
     "name": "stderr",
     "output_type": "stream",
     "text": [
      "Validating:  64%|██████▍   | 150/235 [01:14<00:41,  2.05it/s, loss=16.5865, avg_loss=16.4678]"
     ]
    },
    {
     "name": "stdout",
     "output_type": "stream",
     "text": [
      "{'kd_loss': 32.49527359008789, 'feature_loss': 0.31951552629470825, 'ce_loss': 8.108869552612305, 'cont_loss': 2.8092238903045654, 'teacher_loss': 8.096572875976562, 'total_loss': 16.586483001708984}\n"
     ]
    },
    {
     "name": "stderr",
     "output_type": "stream",
     "text": [
      "Validating:  64%|██████▍   | 151/235 [01:15<00:40,  2.05it/s, loss=16.6422, avg_loss=16.4689]"
     ]
    },
    {
     "name": "stdout",
     "output_type": "stream",
     "text": [
      "{'kd_loss': 32.49520492553711, 'feature_loss': 0.34101951122283936, 'ce_loss': 8.188664436340332, 'cont_loss': 3.0039923191070557, 'teacher_loss': 8.087515830993652, 'total_loss': 16.64215087890625}\n"
     ]
    },
    {
     "name": "stderr",
     "output_type": "stream",
     "text": [
      "Validating:  65%|██████▍   | 152/235 [01:15<00:40,  2.05it/s, loss=16.6007, avg_loss=16.4698]"
     ]
    },
    {
     "name": "stdout",
     "output_type": "stream",
     "text": [
      "{'kd_loss': 32.494895935058594, 'feature_loss': 0.3429502248764038, 'ce_loss': 8.117249488830566, 'cont_loss': 2.872763156890869, 'teacher_loss': 8.086726188659668, 'total_loss': 16.600725173950195}\n"
     ]
    },
    {
     "name": "stderr",
     "output_type": "stream",
     "text": [
      "Validating:  65%|██████▌   | 153/235 [01:16<00:39,  2.05it/s, loss=16.6636, avg_loss=16.4711]"
     ]
    },
    {
     "name": "stdout",
     "output_type": "stream",
     "text": [
      "{'kd_loss': 32.49556350708008, 'feature_loss': 0.33562594652175903, 'ce_loss': 8.250292778015137, 'cont_loss': 2.9812393188476562, 'teacher_loss': 8.09145450592041, 'total_loss': 16.663591384887695}\n"
     ]
    },
    {
     "name": "stderr",
     "output_type": "stream",
     "text": [
      "Validating:  66%|██████▌   | 154/235 [01:16<00:39,  2.05it/s, loss=16.6909, avg_loss=16.4725]"
     ]
    },
    {
     "name": "stdout",
     "output_type": "stream",
     "text": [
      "{'kd_loss': 32.495643615722656, 'feature_loss': 0.3528211712837219, 'ce_loss': 8.299296379089355, 'cont_loss': 3.023181915283203, 'teacher_loss': 8.08148193359375, 'total_loss': 16.690858840942383}\n"
     ]
    },
    {
     "name": "stderr",
     "output_type": "stream",
     "text": [
      "Validating:  66%|██████▌   | 155/235 [01:17<00:38,  2.05it/s, loss=16.5600, avg_loss=16.4730]"
     ]
    },
    {
     "name": "stdout",
     "output_type": "stream",
     "text": [
      "{'kd_loss': 32.49476623535156, 'feature_loss': 0.37591803073883057, 'ce_loss': 7.994504451751709, 'cont_loss': 2.89088773727417, 'teacher_loss': 8.09377670288086, 'total_loss': 16.559982299804688}\n"
     ]
    },
    {
     "name": "stderr",
     "output_type": "stream",
     "text": [
      "Validating:  66%|██████▋   | 156/235 [01:17<00:38,  2.05it/s, loss=16.6590, avg_loss=16.4742]"
     ]
    },
    {
     "name": "stdout",
     "output_type": "stream",
     "text": [
      "{'kd_loss': 32.49477005004883, 'feature_loss': 0.3518565893173218, 'ce_loss': 8.24994945526123, 'cont_loss': 2.907536029815674, 'teacher_loss': 8.084622383117676, 'total_loss': 16.659013748168945}\n"
     ]
    },
    {
     "name": "stderr",
     "output_type": "stream",
     "text": [
      "Validating:  67%|██████▋   | 157/235 [01:18<00:38,  2.05it/s, loss=16.6673, avg_loss=16.4755]"
     ]
    },
    {
     "name": "stdout",
     "output_type": "stream",
     "text": [
      "{'kd_loss': 32.49481201171875, 'feature_loss': 0.34721827507019043, 'ce_loss': 8.225662231445312, 'cont_loss': 3.0963382720947266, 'teacher_loss': 8.086508750915527, 'total_loss': 16.667266845703125}\n"
     ]
    },
    {
     "name": "stderr",
     "output_type": "stream",
     "text": [
      "Validating:  67%|██████▋   | 158/235 [01:18<00:37,  2.05it/s, loss=16.6636, avg_loss=16.4767]"
     ]
    },
    {
     "name": "stdout",
     "output_type": "stream",
     "text": [
      "{'kd_loss': 32.49597930908203, 'feature_loss': 0.35567039251327515, 'ce_loss': 8.256914138793945, 'cont_loss': 2.913522958755493, 'teacher_loss': 8.085715293884277, 'total_loss': 16.663644790649414}\n"
     ]
    },
    {
     "name": "stderr",
     "output_type": "stream",
     "text": [
      "Validating:  68%|██████▊   | 159/235 [01:19<00:37,  2.05it/s, loss=16.6443, avg_loss=16.4777]"
     ]
    },
    {
     "name": "stdout",
     "output_type": "stream",
     "text": [
      "{'kd_loss': 32.49422073364258, 'feature_loss': 0.3332948684692383, 'ce_loss': 8.190357208251953, 'cont_loss': 3.0376410484313965, 'teacher_loss': 8.094528198242188, 'total_loss': 16.644254684448242}\n"
     ]
    },
    {
     "name": "stderr",
     "output_type": "stream",
     "text": [
      "Validating:  68%|██████▊   | 160/235 [01:19<00:36,  2.05it/s, loss=16.6384, avg_loss=16.4787]"
     ]
    },
    {
     "name": "stdout",
     "output_type": "stream",
     "text": [
      "{'kd_loss': 32.49482727050781, 'feature_loss': 0.3423880934715271, 'ce_loss': 8.199470520019531, 'cont_loss': 2.9222469329833984, 'teacher_loss': 8.089215278625488, 'total_loss': 16.6384220123291}\n"
     ]
    },
    {
     "name": "stderr",
     "output_type": "stream",
     "text": [
      "Validating:  69%|██████▊   | 161/235 [01:20<00:36,  2.05it/s, loss=16.5970, avg_loss=16.4794]"
     ]
    },
    {
     "name": "stdout",
     "output_type": "stream",
     "text": [
      "{'kd_loss': 32.494964599609375, 'feature_loss': 0.3291492462158203, 'ce_loss': 8.099237442016602, 'cont_loss': 2.934659957885742, 'teacher_loss': 8.088237762451172, 'total_loss': 16.59697723388672}\n"
     ]
    },
    {
     "name": "stderr",
     "output_type": "stream",
     "text": [
      "Validating:  69%|██████▉   | 162/235 [01:20<00:35,  2.06it/s, loss=16.5569, avg_loss=16.4799]"
     ]
    },
    {
     "name": "stdout",
     "output_type": "stream",
     "text": [
      "{'kd_loss': 32.494728088378906, 'feature_loss': 0.3402007818222046, 'ce_loss': 7.988159656524658, 'cont_loss': 2.956883430480957, 'teacher_loss': 8.09469223022461, 'total_loss': 16.556884765625}\n"
     ]
    },
    {
     "name": "stderr",
     "output_type": "stream",
     "text": [
      "Validating:  69%|██████▉   | 163/235 [01:21<00:34,  2.06it/s, loss=16.5849, avg_loss=16.4806]"
     ]
    },
    {
     "name": "stdout",
     "output_type": "stream",
     "text": [
      "{'kd_loss': 32.49555969238281, 'feature_loss': 0.348666250705719, 'ce_loss': 8.05346965789795, 'cont_loss': 2.956050157546997, 'teacher_loss': 8.089188575744629, 'total_loss': 16.584949493408203}\n"
     ]
    },
    {
     "name": "stderr",
     "output_type": "stream",
     "text": [
      "Validating:  70%|██████▉   | 164/235 [01:21<00:34,  2.06it/s, loss=16.6462, avg_loss=16.4816]"
     ]
    },
    {
     "name": "stdout",
     "output_type": "stream",
     "text": [
      "{'kd_loss': 32.4948844909668, 'feature_loss': 0.3325960636138916, 'ce_loss': 8.16580581665039, 'cont_loss': 3.154054641723633, 'teacher_loss': 8.09143352508545, 'total_loss': 16.64620018005371}\n"
     ]
    },
    {
     "name": "stderr",
     "output_type": "stream",
     "text": [
      "Validating:  70%|███████   | 165/235 [01:22<00:33,  2.06it/s, loss=16.6683, avg_loss=16.4827]"
     ]
    },
    {
     "name": "stdout",
     "output_type": "stream",
     "text": [
      "{'kd_loss': 32.49433517456055, 'feature_loss': 0.34974849224090576, 'ce_loss': 8.257036209106445, 'cont_loss': 2.97784423828125, 'teacher_loss': 8.081907272338867, 'total_loss': 16.668283462524414}\n"
     ]
    },
    {
     "name": "stderr",
     "output_type": "stream",
     "text": [
      "Validating:  71%|███████   | 166/235 [01:22<00:33,  2.06it/s, loss=16.6686, avg_loss=16.4838]"
     ]
    },
    {
     "name": "stdout",
     "output_type": "stream",
     "text": [
      "{'kd_loss': 32.495880126953125, 'feature_loss': 0.32709020376205444, 'ce_loss': 8.264504432678223, 'cont_loss': 2.9907162189483643, 'teacher_loss': 8.081896781921387, 'total_loss': 16.668643951416016}\n"
     ]
    },
    {
     "name": "stderr",
     "output_type": "stream",
     "text": [
      "Validating:  71%|███████   | 167/235 [01:23<00:32,  2.06it/s, loss=16.6179, avg_loss=16.4846]"
     ]
    },
    {
     "name": "stdout",
     "output_type": "stream",
     "text": [
      "{'kd_loss': 32.49546813964844, 'feature_loss': 0.33626604080200195, 'ce_loss': 8.136025428771973, 'cont_loss': 2.9807395935058594, 'teacher_loss': 8.085684776306152, 'total_loss': 16.6179256439209}\n"
     ]
    },
    {
     "name": "stderr",
     "output_type": "stream",
     "text": [
      "Validating:  71%|███████▏  | 168/235 [01:23<00:32,  2.06it/s, loss=16.5755, avg_loss=16.4852]"
     ]
    },
    {
     "name": "stdout",
     "output_type": "stream",
     "text": [
      "{'kd_loss': 32.49502944946289, 'feature_loss': 0.3107219934463501, 'ce_loss': 8.045148849487305, 'cont_loss': 2.9729971885681152, 'teacher_loss': 8.089309692382812, 'total_loss': 16.575515747070312}\n"
     ]
    },
    {
     "name": "stderr",
     "output_type": "stream",
     "text": [
      "Validating:  72%|███████▏  | 169/235 [01:24<00:32,  2.06it/s, loss=16.6754, avg_loss=16.4863]"
     ]
    },
    {
     "name": "stdout",
     "output_type": "stream",
     "text": [
      "{'kd_loss': 32.49562072753906, 'feature_loss': 0.3360614776611328, 'ce_loss': 8.23279094696045, 'cont_loss': 3.1686902046203613, 'teacher_loss': 8.096006393432617, 'total_loss': 16.675445556640625}\n"
     ]
    },
    {
     "name": "stderr",
     "output_type": "stream",
     "text": [
      "Validating:  72%|███████▏  | 170/235 [01:24<00:31,  2.06it/s, loss=16.5903, avg_loss=16.4869]"
     ]
    },
    {
     "name": "stdout",
     "output_type": "stream",
     "text": [
      "{'kd_loss': 32.49518966674805, 'feature_loss': 0.3367605209350586, 'ce_loss': 8.055006980895996, 'cont_loss': 3.028632879257202, 'teacher_loss': 8.096494674682617, 'total_loss': 16.590295791625977}\n"
     ]
    },
    {
     "name": "stderr",
     "output_type": "stream",
     "text": [
      "Validating:  73%|███████▎  | 171/235 [01:24<00:31,  2.06it/s, loss=16.6336, avg_loss=16.4878]"
     ]
    },
    {
     "name": "stdout",
     "output_type": "stream",
     "text": [
      "{'kd_loss': 32.49561309814453, 'feature_loss': 0.3223097324371338, 'ce_loss': 8.173603057861328, 'cont_loss': 3.0142557621002197, 'teacher_loss': 8.081412315368652, 'total_loss': 16.633573532104492}\n"
     ]
    },
    {
     "name": "stderr",
     "output_type": "stream",
     "text": [
      "Validating:  73%|███████▎  | 172/235 [01:25<00:30,  2.06it/s, loss=16.6803, avg_loss=16.4889]"
     ]
    },
    {
     "name": "stdout",
     "output_type": "stream",
     "text": [
      "{'kd_loss': 32.49443817138672, 'feature_loss': 0.3233349323272705, 'ce_loss': 8.273541450500488, 'cont_loss': 3.0839669704437256, 'teacher_loss': 8.083572387695312, 'total_loss': 16.680255889892578}\n"
     ]
    },
    {
     "name": "stderr",
     "output_type": "stream",
     "text": [
      "Validating:  74%|███████▎  | 173/235 [01:25<00:30,  2.06it/s, loss=16.6675, avg_loss=16.4899]"
     ]
    },
    {
     "name": "stdout",
     "output_type": "stream",
     "text": [
      "{'kd_loss': 32.49463653564453, 'feature_loss': 0.3369377851486206, 'ce_loss': 8.24299430847168, 'cont_loss': 3.0509719848632812, 'teacher_loss': 8.093365669250488, 'total_loss': 16.667537689208984}\n"
     ]
    },
    {
     "name": "stderr",
     "output_type": "stream",
     "text": [
      "Validating:  74%|███████▍  | 174/235 [01:26<00:29,  2.05it/s, loss=16.6125, avg_loss=16.4906]"
     ]
    },
    {
     "name": "stdout",
     "output_type": "stream",
     "text": [
      "{'kd_loss': 32.494693756103516, 'feature_loss': 0.33978646993637085, 'ce_loss': 8.108909606933594, 'cont_loss': 3.0307724475860596, 'teacher_loss': 8.098569869995117, 'total_loss': 16.612476348876953}\n"
     ]
    },
    {
     "name": "stderr",
     "output_type": "stream",
     "text": [
      "Validating:  74%|███████▍  | 175/235 [01:26<00:29,  2.05it/s, loss=16.6433, avg_loss=16.4915]"
     ]
    },
    {
     "name": "stdout",
     "output_type": "stream",
     "text": [
      "{'kd_loss': 32.494667053222656, 'feature_loss': 0.32576650381088257, 'ce_loss': 8.182487487792969, 'cont_loss': 3.073342800140381, 'teacher_loss': 8.089315414428711, 'total_loss': 16.643348693847656}\n"
     ]
    },
    {
     "name": "stderr",
     "output_type": "stream",
     "text": [
      "Validating:  75%|███████▍  | 176/235 [01:27<00:28,  2.06it/s, loss=16.6109, avg_loss=16.4922]"
     ]
    },
    {
     "name": "stdout",
     "output_type": "stream",
     "text": [
      "{'kd_loss': 32.49418640136719, 'feature_loss': 0.33844876289367676, 'ce_loss': 8.047264099121094, 'cont_loss': 3.266402244567871, 'teacher_loss': 8.090137481689453, 'total_loss': 16.610912322998047}\n"
     ]
    },
    {
     "name": "stderr",
     "output_type": "stream",
     "text": [
      "Validating:  75%|███████▌  | 177/235 [01:27<00:28,  2.06it/s, loss=16.6258, avg_loss=16.4929]"
     ]
    },
    {
     "name": "stdout",
     "output_type": "stream",
     "text": [
      "{'kd_loss': 32.4957389831543, 'feature_loss': 0.35312944650650024, 'ce_loss': 8.115394592285156, 'cont_loss': 3.106929063796997, 'teacher_loss': 8.07679271697998, 'total_loss': 16.625774383544922}\n"
     ]
    },
    {
     "name": "stderr",
     "output_type": "stream",
     "text": [
      "Validating:  76%|███████▌  | 178/235 [01:28<00:27,  2.06it/s, loss=16.6448, avg_loss=16.4938]"
     ]
    },
    {
     "name": "stdout",
     "output_type": "stream",
     "text": [
      "{'kd_loss': 32.495697021484375, 'feature_loss': 0.3585638403892517, 'ce_loss': 8.168210983276367, 'cont_loss': 3.0755839347839355, 'teacher_loss': 8.090027809143066, 'total_loss': 16.644834518432617}\n"
     ]
    },
    {
     "name": "stderr",
     "output_type": "stream",
     "text": [
      "Validating:  76%|███████▌  | 179/235 [01:28<00:27,  2.06it/s, loss=16.6133, avg_loss=16.4945]"
     ]
    },
    {
     "name": "stdout",
     "output_type": "stream",
     "text": [
      "{'kd_loss': 32.496002197265625, 'feature_loss': 0.34320563077926636, 'ce_loss': 8.093621253967285, 'cont_loss': 3.087878465652466, 'teacher_loss': 8.088409423828125, 'total_loss': 16.613277435302734}\n"
     ]
    },
    {
     "name": "stderr",
     "output_type": "stream",
     "text": [
      "Validating:  77%|███████▋  | 180/235 [01:29<00:26,  2.06it/s, loss=16.6354, avg_loss=16.4952]"
     ]
    },
    {
     "name": "stdout",
     "output_type": "stream",
     "text": [
      "{'kd_loss': 32.4952392578125, 'feature_loss': 0.34360700845718384, 'ce_loss': 8.072744369506836, 'cont_loss': 3.394960403442383, 'teacher_loss': 8.090446472167969, 'total_loss': 16.635412216186523}\n"
     ]
    },
    {
     "name": "stderr",
     "output_type": "stream",
     "text": [
      "Validating:  77%|███████▋  | 181/235 [01:29<00:26,  2.06it/s, loss=16.6003, avg_loss=16.4958]"
     ]
    },
    {
     "name": "stdout",
     "output_type": "stream",
     "text": [
      "{'kd_loss': 32.495723724365234, 'feature_loss': 0.3043098449707031, 'ce_loss': 8.077219009399414, 'cont_loss': 3.102794647216797, 'teacher_loss': 8.089676856994629, 'total_loss': 16.600318908691406}\n"
     ]
    },
    {
     "name": "stderr",
     "output_type": "stream",
     "text": [
      "Validating:  77%|███████▋  | 182/235 [01:30<00:25,  2.07it/s, loss=16.6344, avg_loss=16.4966]"
     ]
    },
    {
     "name": "stdout",
     "output_type": "stream",
     "text": [
      "{'kd_loss': 32.494224548339844, 'feature_loss': 0.32906776666641235, 'ce_loss': 8.145145416259766, 'cont_loss': 3.1283130645751953, 'teacher_loss': 8.08865737915039, 'total_loss': 16.6343936920166}\n"
     ]
    },
    {
     "name": "stderr",
     "output_type": "stream",
     "text": [
      "Validating:  78%|███████▊  | 183/235 [01:30<00:25,  2.06it/s, loss=16.7290, avg_loss=16.4978]"
     ]
    },
    {
     "name": "stdout",
     "output_type": "stream",
     "text": [
      "{'kd_loss': 32.49473190307617, 'feature_loss': 0.3620827794075012, 'ce_loss': 8.287407875061035, 'cont_loss': 3.4370250701904297, 'teacher_loss': 8.090226173400879, 'total_loss': 16.728975296020508}\n"
     ]
    },
    {
     "name": "stderr",
     "output_type": "stream",
     "text": [
      "Validating:  78%|███████▊  | 184/235 [01:31<00:24,  2.06it/s, loss=16.5929, avg_loss=16.4984]"
     ]
    },
    {
     "name": "stdout",
     "output_type": "stream",
     "text": [
      "{'kd_loss': 32.495849609375, 'feature_loss': 0.32377296686172485, 'ce_loss': 8.040115356445312, 'cont_loss': 3.1372625827789307, 'teacher_loss': 8.093018531799316, 'total_loss': 16.592866897583008}\n"
     ]
    },
    {
     "name": "stderr",
     "output_type": "stream",
     "text": [
      "Validating:  79%|███████▊  | 185/235 [01:31<00:24,  2.06it/s, loss=16.6170, avg_loss=16.4990]"
     ]
    },
    {
     "name": "stdout",
     "output_type": "stream",
     "text": [
      "{'kd_loss': 32.494850158691406, 'feature_loss': 0.3607568144798279, 'ce_loss': 8.06640338897705, 'cont_loss': 3.203444004058838, 'teacher_loss': 8.089786529541016, 'total_loss': 16.61699676513672}\n"
     ]
    },
    {
     "name": "stderr",
     "output_type": "stream",
     "text": [
      "Validating:  79%|███████▉  | 186/235 [01:32<00:23,  2.06it/s, loss=16.6599, avg_loss=16.4999]"
     ]
    },
    {
     "name": "stdout",
     "output_type": "stream",
     "text": [
      "{'kd_loss': 32.49518585205078, 'feature_loss': 0.34181714057922363, 'ce_loss': 8.187479019165039, 'cont_loss': 3.1848576068878174, 'teacher_loss': 8.087102890014648, 'total_loss': 16.659914016723633}\n"
     ]
    },
    {
     "name": "stderr",
     "output_type": "stream",
     "text": [
      "Validating:  80%|███████▉  | 187/235 [01:32<00:23,  2.07it/s, loss=16.6487, avg_loss=16.5007]"
     ]
    },
    {
     "name": "stdout",
     "output_type": "stream",
     "text": [
      "{'kd_loss': 32.495243072509766, 'feature_loss': 0.33481985330581665, 'ce_loss': 8.162943840026855, 'cont_loss': 3.184358596801758, 'teacher_loss': 8.095247268676758, 'total_loss': 16.64867401123047}\n"
     ]
    },
    {
     "name": "stderr",
     "output_type": "stream",
     "text": [
      "Validating:  80%|████████  | 188/235 [01:33<00:22,  2.06it/s, loss=16.6859, avg_loss=16.5017]"
     ]
    },
    {
     "name": "stdout",
     "output_type": "stream",
     "text": [
      "{'kd_loss': 32.494842529296875, 'feature_loss': 0.34060537815093994, 'ce_loss': 8.250141143798828, 'cont_loss': 3.1980977058410645, 'teacher_loss': 8.086122512817383, 'total_loss': 16.685924530029297}\n"
     ]
    },
    {
     "name": "stderr",
     "output_type": "stream",
     "text": [
      "Validating:  80%|████████  | 189/235 [01:33<00:22,  2.06it/s, loss=16.7197, avg_loss=16.5028]"
     ]
    },
    {
     "name": "stdout",
     "output_type": "stream",
     "text": [
      "{'kd_loss': 32.49553680419922, 'feature_loss': 0.31152331829071045, 'ce_loss': 8.312516212463379, 'cont_loss': 3.3415284156799316, 'teacher_loss': 8.089271545410156, 'total_loss': 16.719676971435547}\n"
     ]
    },
    {
     "name": "stderr",
     "output_type": "stream",
     "text": [
      "Validating:  81%|████████  | 190/235 [01:34<00:21,  2.06it/s, loss=16.6275, avg_loss=16.5035]"
     ]
    },
    {
     "name": "stdout",
     "output_type": "stream",
     "text": [
      "{'kd_loss': 32.49571228027344, 'feature_loss': 0.3120619058609009, 'ce_loss': 8.132976531982422, 'cont_loss': 3.1363959312438965, 'teacher_loss': 8.10141658782959, 'total_loss': 16.627527236938477}\n"
     ]
    },
    {
     "name": "stderr",
     "output_type": "stream",
     "text": [
      "Validating:  81%|████████▏ | 191/235 [01:34<00:21,  2.06it/s, loss=16.7008, avg_loss=16.5045]"
     ]
    },
    {
     "name": "stdout",
     "output_type": "stream",
     "text": [
      "{'kd_loss': 32.49485397338867, 'feature_loss': 0.3350778818130493, 'ce_loss': 8.291836738586426, 'cont_loss': 3.19157075881958, 'teacher_loss': 8.093743324279785, 'total_loss': 16.700849533081055}\n"
     ]
    },
    {
     "name": "stderr",
     "output_type": "stream",
     "text": [
      "Validating:  82%|████████▏ | 192/235 [01:35<00:20,  2.06it/s, loss=16.6785, avg_loss=16.5054]"
     ]
    },
    {
     "name": "stdout",
     "output_type": "stream",
     "text": [
      "{'kd_loss': 32.49480438232422, 'feature_loss': 0.33322709798812866, 'ce_loss': 8.230271339416504, 'cont_loss': 3.218311309814453, 'teacher_loss': 8.094161033630371, 'total_loss': 16.67850685119629}\n"
     ]
    },
    {
     "name": "stderr",
     "output_type": "stream",
     "text": [
      "Validating:  82%|████████▏ | 193/235 [01:35<00:20,  2.06it/s, loss=16.6196, avg_loss=16.5060]"
     ]
    },
    {
     "name": "stdout",
     "output_type": "stream",
     "text": [
      "{'kd_loss': 32.49535369873047, 'feature_loss': 0.3343590497970581, 'ce_loss': 8.049989700317383, 'cont_loss': 3.346238613128662, 'teacher_loss': 8.095015525817871, 'total_loss': 16.619632720947266}\n"
     ]
    },
    {
     "name": "stderr",
     "output_type": "stream",
     "text": [
      "Validating:  83%|████████▎ | 194/235 [01:36<00:19,  2.06it/s, loss=16.6148, avg_loss=16.5066]"
     ]
    },
    {
     "name": "stdout",
     "output_type": "stream",
     "text": [
      "{'kd_loss': 32.49483108520508, 'feature_loss': 0.3666837811470032, 'ce_loss': 8.052102088928223, 'cont_loss': 3.226876735687256, 'teacher_loss': 8.086183547973633, 'total_loss': 16.614797592163086}\n"
     ]
    },
    {
     "name": "stderr",
     "output_type": "stream",
     "text": [
      "Validating:  83%|████████▎ | 195/235 [01:36<00:19,  2.07it/s, loss=16.6543, avg_loss=16.5073]"
     ]
    },
    {
     "name": "stdout",
     "output_type": "stream",
     "text": [
      "{'kd_loss': 32.49470901489258, 'feature_loss': 0.3243507146835327, 'ce_loss': 8.170072555541992, 'cont_loss': 3.2354891300201416, 'teacher_loss': 8.092476844787598, 'total_loss': 16.65433120727539}\n"
     ]
    },
    {
     "name": "stderr",
     "output_type": "stream",
     "text": [
      "Validating:  83%|████████▎ | 196/235 [01:37<00:18,  2.07it/s, loss=16.6541, avg_loss=16.5081]"
     ]
    },
    {
     "name": "stdout",
     "output_type": "stream",
     "text": [
      "{'kd_loss': 32.495113372802734, 'feature_loss': 0.33877062797546387, 'ce_loss': 8.149316787719727, 'cont_loss': 3.2860522270202637, 'teacher_loss': 8.090913772583008, 'total_loss': 16.654132843017578}\n"
     ]
    },
    {
     "name": "stderr",
     "output_type": "stream",
     "text": [
      "Validating:  84%|████████▍ | 197/235 [01:37<00:18,  2.07it/s, loss=16.6031, avg_loss=16.5085]"
     ]
    },
    {
     "name": "stdout",
     "output_type": "stream",
     "text": [
      "{'kd_loss': 32.493995666503906, 'feature_loss': 0.34912562370300293, 'ce_loss': 8.031753540039062, 'cont_loss': 3.2301836013793945, 'teacher_loss': 8.090932846069336, 'total_loss': 16.6031436920166}\n"
     ]
    },
    {
     "name": "stderr",
     "output_type": "stream",
     "text": [
      "Validating:  84%|████████▍ | 198/235 [01:38<00:17,  2.06it/s, loss=16.6154, avg_loss=16.5091]"
     ]
    },
    {
     "name": "stdout",
     "output_type": "stream",
     "text": [
      "{'kd_loss': 32.49534606933594, 'feature_loss': 0.3284444808959961, 'ce_loss': 8.067791938781738, 'cont_loss': 3.2440788745880127, 'teacher_loss': 8.086658477783203, 'total_loss': 16.615352630615234}\n"
     ]
    },
    {
     "name": "stderr",
     "output_type": "stream",
     "text": [
      "Validating:  85%|████████▍ | 199/235 [01:38<00:17,  2.06it/s, loss=16.6525, avg_loss=16.5098]"
     ]
    },
    {
     "name": "stdout",
     "output_type": "stream",
     "text": [
      "{'kd_loss': 32.494651794433594, 'feature_loss': 0.33989834785461426, 'ce_loss': 8.142843246459961, 'cont_loss': 3.29481840133667, 'teacher_loss': 8.085932731628418, 'total_loss': 16.6524600982666}\n"
     ]
    },
    {
     "name": "stderr",
     "output_type": "stream",
     "text": [
      "Validating:  85%|████████▌ | 200/235 [01:39<00:16,  2.06it/s, loss=16.6797, avg_loss=16.5107]"
     ]
    },
    {
     "name": "stdout",
     "output_type": "stream",
     "text": [
      "{'kd_loss': 32.495357513427734, 'feature_loss': 0.3483758568763733, 'ce_loss': 8.200273513793945, 'cont_loss': 3.317936897277832, 'teacher_loss': 8.088546752929688, 'total_loss': 16.679719924926758}\n"
     ]
    },
    {
     "name": "stderr",
     "output_type": "stream",
     "text": [
      "Validating:  86%|████████▌ | 201/235 [01:39<00:16,  2.07it/s, loss=16.6458, avg_loss=16.5113]"
     ]
    },
    {
     "name": "stdout",
     "output_type": "stream",
     "text": [
      "{'kd_loss': 32.49519348144531, 'feature_loss': 0.34648197889328003, 'ce_loss': 8.124592781066895, 'cont_loss': 3.285425901412964, 'teacher_loss': 8.092469215393066, 'total_loss': 16.645753860473633}\n"
     ]
    },
    {
     "name": "stderr",
     "output_type": "stream",
     "text": [
      "Validating:  86%|████████▌ | 202/235 [01:40<00:15,  2.06it/s, loss=16.6236, avg_loss=16.5119]"
     ]
    },
    {
     "name": "stdout",
     "output_type": "stream",
     "text": [
      "{'kd_loss': 32.49505615234375, 'feature_loss': 0.34598278999328613, 'ce_loss': 8.070659637451172, 'cont_loss': 3.280914068222046, 'teacher_loss': 8.094564437866211, 'total_loss': 16.623573303222656}\n"
     ]
    },
    {
     "name": "stderr",
     "output_type": "stream",
     "text": [
      "Validating:  86%|████████▋ | 203/235 [01:40<00:15,  2.06it/s, loss=16.7014, avg_loss=16.5128]"
     ]
    },
    {
     "name": "stdout",
     "output_type": "stream",
     "text": [
      "{'kd_loss': 32.49452590942383, 'feature_loss': 0.3409445285797119, 'ce_loss': 8.181706428527832, 'cont_loss': 3.6274938583374023, 'teacher_loss': 8.093999862670898, 'total_loss': 16.701431274414062}\n"
     ]
    },
    {
     "name": "stderr",
     "output_type": "stream",
     "text": [
      "Validating:  87%|████████▋ | 204/235 [01:40<00:15,  2.06it/s, loss=16.6853, avg_loss=16.5137]"
     ]
    },
    {
     "name": "stdout",
     "output_type": "stream",
     "text": [
      "{'kd_loss': 32.49458312988281, 'feature_loss': 0.35038262605667114, 'ce_loss': 8.207406044006348, 'cont_loss': 3.344404935836792, 'teacher_loss': 8.087834358215332, 'total_loss': 16.685312271118164}\n"
     ]
    },
    {
     "name": "stderr",
     "output_type": "stream",
     "text": [
      "Validating:  87%|████████▋ | 205/235 [01:41<00:14,  2.06it/s, loss=16.7450, avg_loss=16.5148]"
     ]
    },
    {
     "name": "stdout",
     "output_type": "stream",
     "text": [
      "{'kd_loss': 32.49523162841797, 'feature_loss': 0.3510010838508606, 'ce_loss': 8.320898056030273, 'cont_loss': 3.4833626747131348, 'teacher_loss': 8.09050464630127, 'total_loss': 16.7449893951416}\n"
     ]
    },
    {
     "name": "stderr",
     "output_type": "stream",
     "text": [
      "Validating:  88%|████████▊ | 206/235 [01:41<00:14,  2.07it/s, loss=16.6789, avg_loss=16.5156]"
     ]
    },
    {
     "name": "stdout",
     "output_type": "stream",
     "text": [
      "{'kd_loss': 32.49566650390625, 'feature_loss': 0.3306434750556946, 'ce_loss': 8.201194763183594, 'cont_loss': 3.3403024673461914, 'teacher_loss': 8.094775199890137, 'total_loss': 16.678903579711914}\n"
     ]
    },
    {
     "name": "stderr",
     "output_type": "stream",
     "text": [
      "Validating:  88%|████████▊ | 207/235 [01:42<00:13,  2.06it/s, loss=16.7022, avg_loss=16.5165]"
     ]
    },
    {
     "name": "stdout",
     "output_type": "stream",
     "text": [
      "{'kd_loss': 32.49565887451172, 'feature_loss': 0.3614587187767029, 'ce_loss': 8.228968620300293, 'cont_loss': 3.4001882076263428, 'teacher_loss': 8.090885162353516, 'total_loss': 16.70216178894043}\n"
     ]
    },
    {
     "name": "stderr",
     "output_type": "stream",
     "text": [
      "Validating:  89%|████████▊ | 208/235 [01:42<00:13,  2.06it/s, loss=16.7123, avg_loss=16.5174]"
     ]
    },
    {
     "name": "stdout",
     "output_type": "stream",
     "text": [
      "{'kd_loss': 32.495277404785156, 'feature_loss': 0.33243441581726074, 'ce_loss': 8.268481254577637, 'cont_loss': 3.402966022491455, 'teacher_loss': 8.08896255493164, 'total_loss': 16.7122859954834}\n"
     ]
    },
    {
     "name": "stderr",
     "output_type": "stream",
     "text": [
      "Validating:  89%|████████▉ | 209/235 [01:43<00:12,  2.06it/s, loss=16.7193, avg_loss=16.5184]"
     ]
    },
    {
     "name": "stdout",
     "output_type": "stream",
     "text": [
      "{'kd_loss': 32.49498748779297, 'feature_loss': 0.3659207820892334, 'ce_loss': 8.203812599182129, 'cont_loss': 3.6658506393432617, 'teacher_loss': 8.089975357055664, 'total_loss': 16.719289779663086}\n"
     ]
    },
    {
     "name": "stderr",
     "output_type": "stream",
     "text": [
      "Validating:  89%|████████▉ | 210/235 [01:43<00:12,  2.07it/s, loss=16.6267, avg_loss=16.5189]"
     ]
    },
    {
     "name": "stdout",
     "output_type": "stream",
     "text": [
      "{'kd_loss': 32.49507141113281, 'feature_loss': 0.3573414087295532, 'ce_loss': 8.047318458557129, 'cont_loss': 3.382338523864746, 'teacher_loss': 8.09351921081543, 'total_loss': 16.626659393310547}\n"
     ]
    },
    {
     "name": "stderr",
     "output_type": "stream",
     "text": [
      "Validating:  90%|████████▉ | 211/235 [01:44<00:11,  2.07it/s, loss=16.6736, avg_loss=16.5196]"
     ]
    },
    {
     "name": "stdout",
     "output_type": "stream",
     "text": [
      "{'kd_loss': 32.49486541748047, 'feature_loss': 0.3326021432876587, 'ce_loss': 8.135778427124023, 'cont_loss': 3.5477659702301025, 'teacher_loss': 8.091394424438477, 'total_loss': 16.673555374145508}\n"
     ]
    },
    {
     "name": "stderr",
     "output_type": "stream",
     "text": [
      "Validating:  90%|█████████ | 212/235 [01:44<00:11,  2.06it/s, loss=16.6435, avg_loss=16.5202]"
     ]
    },
    {
     "name": "stdout",
     "output_type": "stream",
     "text": [
      "{'kd_loss': 32.49446105957031, 'feature_loss': 0.321752667427063, 'ce_loss': 8.097321510314941, 'cont_loss': 3.4242501258850098, 'teacher_loss': 8.091731071472168, 'total_loss': 16.64348793029785}\n"
     ]
    },
    {
     "name": "stderr",
     "output_type": "stream",
     "text": [
      "Validating:  91%|█████████ | 213/235 [01:45<00:10,  2.06it/s, loss=16.6922, avg_loss=16.5210]"
     ]
    },
    {
     "name": "stdout",
     "output_type": "stream",
     "text": [
      "{'kd_loss': 32.4943733215332, 'feature_loss': 0.33617961406707764, 'ce_loss': 8.20655632019043, 'cont_loss': 3.4463157653808594, 'teacher_loss': 8.093572616577148, 'total_loss': 16.69223976135254}\n"
     ]
    },
    {
     "name": "stderr",
     "output_type": "stream",
     "text": [
      "Validating:  91%|█████████ | 214/235 [01:45<00:10,  2.06it/s, loss=16.7348, avg_loss=16.5220]"
     ]
    },
    {
     "name": "stdout",
     "output_type": "stream",
     "text": [
      "{'kd_loss': 32.49481201171875, 'feature_loss': 0.3446844816207886, 'ce_loss': 8.237361907958984, 'cont_loss': 3.7296581268310547, 'teacher_loss': 8.091950416564941, 'total_loss': 16.734771728515625}\n"
     ]
    },
    {
     "name": "stderr",
     "output_type": "stream",
     "text": [
      "Validating:  91%|█████████▏| 215/235 [01:46<00:09,  2.06it/s, loss=16.6758, avg_loss=16.5227]"
     ]
    },
    {
     "name": "stdout",
     "output_type": "stream",
     "text": [
      "{'kd_loss': 32.49485778808594, 'feature_loss': 0.32735884189605713, 'ce_loss': 8.168465614318848, 'cont_loss': 3.449573516845703, 'teacher_loss': 8.091140747070312, 'total_loss': 16.675758361816406}\n"
     ]
    },
    {
     "name": "stderr",
     "output_type": "stream",
     "text": [
      "Validating:  92%|█████████▏| 216/235 [01:46<00:09,  2.06it/s, loss=16.6648, avg_loss=16.5234]"
     ]
    },
    {
     "name": "stdout",
     "output_type": "stream",
     "text": [
      "{'kd_loss': 32.49504089355469, 'feature_loss': 0.33316802978515625, 'ce_loss': 8.138471603393555, 'cont_loss': 3.447801113128662, 'teacher_loss': 8.094437599182129, 'total_loss': 16.664817810058594}\n"
     ]
    },
    {
     "name": "stderr",
     "output_type": "stream",
     "text": [
      "Validating:  92%|█████████▏| 217/235 [01:47<00:08,  2.06it/s, loss=16.6729, avg_loss=16.5241]"
     ]
    },
    {
     "name": "stdout",
     "output_type": "stream",
     "text": [
      "{'kd_loss': 32.494354248046875, 'feature_loss': 0.3629605770111084, 'ce_loss': 8.132752418518066, 'cont_loss': 3.4941678047180176, 'teacher_loss': 8.087672233581543, 'total_loss': 16.6728515625}\n"
     ]
    },
    {
     "name": "stderr",
     "output_type": "stream",
     "text": [
      "Validating:  93%|█████████▎| 218/235 [01:47<00:08,  2.06it/s, loss=16.6732, avg_loss=16.5248]"
     ]
    },
    {
     "name": "stdout",
     "output_type": "stream",
     "text": [
      "{'kd_loss': 32.49436950683594, 'feature_loss': 0.3589984178543091, 'ce_loss': 8.137365341186523, 'cont_loss': 3.4865825176239014, 'teacher_loss': 8.0846529006958, 'total_loss': 16.67315101623535}\n"
     ]
    },
    {
     "name": "stderr",
     "output_type": "stream",
     "text": [
      "Validating:  93%|█████████▎| 219/235 [01:48<00:07,  2.06it/s, loss=16.7027, avg_loss=16.5256]"
     ]
    },
    {
     "name": "stdout",
     "output_type": "stream",
     "text": [
      "{'kd_loss': 32.494598388671875, 'feature_loss': 0.36625754833221436, 'ce_loss': 8.211256980895996, 'cont_loss': 3.471019744873047, 'teacher_loss': 8.091310501098633, 'total_loss': 16.702695846557617}\n"
     ]
    },
    {
     "name": "stderr",
     "output_type": "stream",
     "text": [
      "Validating:  94%|█████████▎| 220/235 [01:48<00:07,  2.06it/s, loss=16.6363, avg_loss=16.5261]"
     ]
    },
    {
     "name": "stdout",
     "output_type": "stream",
     "text": [
      "{'kd_loss': 32.49504852294922, 'feature_loss': 0.34906017780303955, 'ce_loss': 8.047599792480469, 'cont_loss': 3.4938430786132812, 'teacher_loss': 8.088428497314453, 'total_loss': 16.636255264282227}\n"
     ]
    },
    {
     "name": "stderr",
     "output_type": "stream",
     "text": [
      "Validating:  94%|█████████▍| 221/235 [01:49<00:06,  2.06it/s, loss=16.6934, avg_loss=16.5269]"
     ]
    },
    {
     "name": "stdout",
     "output_type": "stream",
     "text": [
      "{'kd_loss': 32.49496841430664, 'feature_loss': 0.35993075370788574, 'ce_loss': 8.138593673706055, 'cont_loss': 3.6802077293395996, 'teacher_loss': 8.091938972473145, 'total_loss': 16.693431854248047}\n"
     ]
    },
    {
     "name": "stderr",
     "output_type": "stream",
     "text": [
      "Validating:  94%|█████████▍| 222/235 [01:49<00:06,  2.06it/s, loss=16.6858, avg_loss=16.5276]"
     ]
    },
    {
     "name": "stdout",
     "output_type": "stream",
     "text": [
      "{'kd_loss': 32.494354248046875, 'feature_loss': 0.3641151189804077, 'ce_loss': 8.157933235168457, 'cont_loss': 3.520846366882324, 'teacher_loss': 8.087082862854004, 'total_loss': 16.685823440551758}\n"
     ]
    },
    {
     "name": "stderr",
     "output_type": "stream",
     "text": [
      "Validating:  95%|█████████▍| 223/235 [01:50<00:05,  2.06it/s, loss=16.7041, avg_loss=16.5284]"
     ]
    },
    {
     "name": "stdout",
     "output_type": "stream",
     "text": [
      "{'kd_loss': 32.49481964111328, 'feature_loss': 0.3367629051208496, 'ce_loss': 8.224380493164062, 'cont_loss': 3.490264892578125, 'teacher_loss': 8.082412719726562, 'total_loss': 16.704057693481445}\n"
     ]
    },
    {
     "name": "stderr",
     "output_type": "stream",
     "text": [
      "Validating:  95%|█████████▌| 224/235 [01:50<00:05,  2.06it/s, loss=16.6717, avg_loss=16.5290]"
     ]
    },
    {
     "name": "stdout",
     "output_type": "stream",
     "text": [
      "{'kd_loss': 32.495765686035156, 'feature_loss': 0.35056281089782715, 'ce_loss': 8.127534866333008, 'cont_loss': 3.5230631828308105, 'teacher_loss': 8.079120635986328, 'total_loss': 16.67173957824707}\n"
     ]
    },
    {
     "name": "stderr",
     "output_type": "stream",
     "text": [
      "Validating:  96%|█████████▌| 225/235 [01:51<00:04,  2.06it/s, loss=16.6599, avg_loss=16.5296]"
     ]
    },
    {
     "name": "stdout",
     "output_type": "stream",
     "text": [
      "{'kd_loss': 32.495033264160156, 'feature_loss': 0.3614710569381714, 'ce_loss': 8.083942413330078, 'cont_loss': 3.5602686405181885, 'teacher_loss': 8.078635215759277, 'total_loss': 16.659912109375}\n"
     ]
    },
    {
     "name": "stderr",
     "output_type": "stream",
     "text": [
      "Validating:  96%|█████████▌| 226/235 [01:51<00:04,  2.07it/s, loss=16.7651, avg_loss=16.5306]"
     ]
    },
    {
     "name": "stdout",
     "output_type": "stream",
     "text": [
      "{'kd_loss': 32.49579620361328, 'feature_loss': 0.34604179859161377, 'ce_loss': 8.319249153137207, 'cont_loss': 3.6987414360046387, 'teacher_loss': 8.082734107971191, 'total_loss': 16.765100479125977}\n"
     ]
    },
    {
     "name": "stderr",
     "output_type": "stream",
     "text": [
      "Validating:  97%|█████████▋| 227/235 [01:52<00:03,  2.06it/s, loss=16.7326, avg_loss=16.5315]"
     ]
    },
    {
     "name": "stdout",
     "output_type": "stream",
     "text": [
      "{'kd_loss': 32.49536895751953, 'feature_loss': 0.3614311218261719, 'ce_loss': 8.260671615600586, 'cont_loss': 3.5786447525024414, 'teacher_loss': 8.086785316467285, 'total_loss': 16.732566833496094}\n"
     ]
    },
    {
     "name": "stderr",
     "output_type": "stream",
     "text": [
      "Validating:  97%|█████████▋| 228/235 [01:52<00:03,  2.06it/s, loss=16.6749, avg_loss=16.5321]"
     ]
    },
    {
     "name": "stdout",
     "output_type": "stream",
     "text": [
      "{'kd_loss': 32.495086669921875, 'feature_loss': 0.333085834980011, 'ce_loss': 8.136494636535645, 'cont_loss': 3.556533098220825, 'teacher_loss': 8.091248512268066, 'total_loss': 16.674903869628906}\n"
     ]
    },
    {
     "name": "stderr",
     "output_type": "stream",
     "text": [
      "Validating:  97%|█████████▋| 229/235 [01:53<00:02,  2.06it/s, loss=16.6694, avg_loss=16.5327]"
     ]
    },
    {
     "name": "stdout",
     "output_type": "stream",
     "text": [
      "{'kd_loss': 32.494815826416016, 'feature_loss': 0.341835618019104, 'ce_loss': 8.109709739685059, 'cont_loss': 3.591977596282959, 'teacher_loss': 8.089302062988281, 'total_loss': 16.669374465942383}\n"
     ]
    },
    {
     "name": "stderr",
     "output_type": "stream",
     "text": [
      "Validating:  98%|█████████▊| 230/235 [01:53<00:02,  2.06it/s, loss=16.6775, avg_loss=16.5334]"
     ]
    },
    {
     "name": "stdout",
     "output_type": "stream",
     "text": [
      "{'kd_loss': 32.494930267333984, 'feature_loss': 0.35539352893829346, 'ce_loss': 8.103229522705078, 'cont_loss': 3.671112060546875, 'teacher_loss': 8.088687896728516, 'total_loss': 16.677453994750977}\n"
     ]
    },
    {
     "name": "stderr",
     "output_type": "stream",
     "text": [
      "Validating:  98%|█████████▊| 231/235 [01:54<00:01,  2.07it/s, loss=16.7333, avg_loss=16.5342]"
     ]
    },
    {
     "name": "stdout",
     "output_type": "stream",
     "text": [
      "{'kd_loss': 32.49494934082031, 'feature_loss': 0.35480809211730957, 'ce_loss': 8.250768661499023, 'cont_loss': 3.640467405319214, 'teacher_loss': 8.091775894165039, 'total_loss': 16.733295440673828}\n"
     ]
    },
    {
     "name": "stderr",
     "output_type": "stream",
     "text": [
      "Validating:  99%|█████████▊| 232/235 [01:54<00:01,  2.07it/s, loss=16.6797, avg_loss=16.5349]"
     ]
    },
    {
     "name": "stdout",
     "output_type": "stream",
     "text": [
      "{'kd_loss': 32.49523162841797, 'feature_loss': 0.33869844675064087, 'ce_loss': 8.128349304199219, 'cont_loss': 3.625511407852173, 'teacher_loss': 8.087757110595703, 'total_loss': 16.67972183227539}\n"
     ]
    },
    {
     "name": "stderr",
     "output_type": "stream",
     "text": [
      "Validating:  99%|█████████▉| 233/235 [01:55<00:00,  2.07it/s, loss=16.6882, avg_loss=16.5355]"
     ]
    },
    {
     "name": "stdout",
     "output_type": "stream",
     "text": [
      "{'kd_loss': 32.49531555175781, 'feature_loss': 0.3750872015953064, 'ce_loss': 8.118041038513184, 'cont_loss': 3.6780576705932617, 'teacher_loss': 8.085742950439453, 'total_loss': 16.68816566467285}\n"
     ]
    },
    {
     "name": "stderr",
     "output_type": "stream",
     "text": [
      "Validating: 100%|██████████| 235/235 [01:55<00:00,  2.51it/s, loss=16.6247, avg_loss=16.5366]"
     ]
    },
    {
     "name": "stdout",
     "output_type": "stream",
     "text": [
      "{'kd_loss': 32.49464416503906, 'feature_loss': 0.3742640018463135, 'ce_loss': 8.182729721069336, 'cont_loss': 3.6183969974517822, 'teacher_loss': 8.090848922729492, 'total_loss': 16.7076416015625}\n",
      "{'kd_loss': 32.493343353271484, 'feature_loss': 0.3351651430130005, 'ce_loss': 8.216254234313965, 'cont_loss': 2.7383530139923096, 'teacher_loss': 8.092279434204102, 'total_loss': 16.62470817565918}\n"
     ]
    },
    {
     "name": "stderr",
     "output_type": "stream",
     "text": [
      "Validating: 100%|██████████| 235/235 [01:55<00:00,  2.03it/s, loss=16.6247, avg_loss=16.5366]\n"
     ]
    },
    {
     "name": "stdout",
     "output_type": "stream",
     "text": [
      "Epoch 2 | Train Loss: 18.4929 | Val Loss: 16.5366 | Top1 Acc: 0.00 | Top5 Acc: 0.01\n"
     ]
    },
    {
     "name": "stderr",
     "output_type": "stream",
     "text": [
      "Training: 100%|██████████| 1875/1875 [12:59<00:00,  2.40it/s, loss=18.4207, avg_loss=18.4535, lr=5.74e-5]\n",
      "Validating:   0%|          | 1/235 [00:02<08:50,  2.27s/it, loss=16.2382, avg_loss=16.2382]"
     ]
    },
    {
     "name": "stdout",
     "output_type": "stream",
     "text": [
      "{'kd_loss': 32.49340057373047, 'feature_loss': 0.3004648685455322, 'ce_loss': 7.58044958114624, 'cont_loss': 1.4855403900146484, 'teacher_loss': 8.093372344970703, 'total_loss': 16.238187789916992}\n"
     ]
    },
    {
     "name": "stderr",
     "output_type": "stream",
     "text": [
      "Validating:   1%|          | 2/235 [00:02<04:43,  1.22s/it, loss=16.3703, avg_loss=16.3043]"
     ]
    },
    {
     "name": "stdout",
     "output_type": "stream",
     "text": [
      "{'kd_loss': 32.493675231933594, 'feature_loss': 0.3134981393814087, 'ce_loss': 7.891260623931885, 'cont_loss': 1.536573886871338, 'teacher_loss': 8.095829963684082, 'total_loss': 16.370330810546875}\n"
     ]
    },
    {
     "name": "stderr",
     "output_type": "stream",
     "text": [
      "Validating:   1%|▏         | 3/235 [00:03<03:24,  1.13it/s, loss=16.3150, avg_loss=16.3078]"
     ]
    },
    {
     "name": "stdout",
     "output_type": "stream",
     "text": [
      "{'kd_loss': 32.4925651550293, 'feature_loss': 0.2971147298812866, 'ce_loss': 7.766650199890137, 'cont_loss': 1.5191068649291992, 'teacher_loss': 8.099981307983398, 'total_loss': 16.315019607543945}\n"
     ]
    },
    {
     "name": "stderr",
     "output_type": "stream",
     "text": [
      "Validating:   2%|▏         | 4/235 [00:03<02:47,  1.38it/s, loss=16.1720, avg_loss=16.2739]"
     ]
    },
    {
     "name": "stdout",
     "output_type": "stream",
     "text": [
      "{'kd_loss': 32.49736785888672, 'feature_loss': 0.2632540464401245, 'ce_loss': 7.435032844543457, 'cont_loss': 1.4634792804718018, 'teacher_loss': 8.102554321289062, 'total_loss': 16.17195701599121}\n"
     ]
    },
    {
     "name": "stderr",
     "output_type": "stream",
     "text": [
      "Validating:   2%|▏         | 5/235 [00:04<02:26,  1.57it/s, loss=16.1704, avg_loss=16.2532]"
     ]
    },
    {
     "name": "stdout",
     "output_type": "stream",
     "text": [
      "{'kd_loss': 32.49542999267578, 'feature_loss': 0.2569810748100281, 'ce_loss': 7.444013595581055, 'cont_loss': 1.4327324628829956, 'teacher_loss': 8.103758811950684, 'total_loss': 16.170446395874023}\n"
     ]
    },
    {
     "name": "stderr",
     "output_type": "stream",
     "text": [
      "Validating:   3%|▎         | 6/235 [00:04<02:14,  1.71it/s, loss=16.4989, avg_loss=16.2941]"
     ]
    },
    {
     "name": "stdout",
     "output_type": "stream",
     "text": [
      "{'kd_loss': 32.49345779418945, 'feature_loss': 0.39563286304473877, 'ce_loss': 8.180059432983398, 'cont_loss': 1.5035473108291626, 'teacher_loss': 8.09996509552002, 'total_loss': 16.49888801574707}\n"
     ]
    },
    {
     "name": "stderr",
     "output_type": "stream",
     "text": [
      "Validating:   3%|▎         | 7/235 [00:05<02:06,  1.81it/s, loss=16.1503, avg_loss=16.2736]"
     ]
    },
    {
     "name": "stdout",
     "output_type": "stream",
     "text": [
      "{'kd_loss': 32.49407196044922, 'feature_loss': 0.28390276432037354, 'ce_loss': 7.371069431304932, 'cont_loss': 1.4750971794128418, 'teacher_loss': 8.08364486694336, 'total_loss': 16.150348663330078}\n"
     ]
    },
    {
     "name": "stderr",
     "output_type": "stream",
     "text": [
      "Validating:   3%|▎         | 8/235 [00:05<02:00,  1.88it/s, loss=16.2395, avg_loss=16.2693]"
     ]
    },
    {
     "name": "stdout",
     "output_type": "stream",
     "text": [
      "{'kd_loss': 32.49411392211914, 'feature_loss': 0.33934295177459717, 'ce_loss': 7.5642008781433105, 'cont_loss': 1.483314037322998, 'teacher_loss': 8.096409797668457, 'total_loss': 16.239524841308594}\n"
     ]
    },
    {
     "name": "stderr",
     "output_type": "stream",
     "text": [
      "Validating:   4%|▍         | 9/235 [00:06<01:56,  1.93it/s, loss=16.2693, avg_loss=16.2693]"
     ]
    },
    {
     "name": "stdout",
     "output_type": "stream",
     "text": [
      "{'kd_loss': 32.49424362182617, 'feature_loss': 0.2124311327934265, 'ce_loss': 7.698101997375488, 'cont_loss': 1.4991285800933838, 'teacher_loss': 8.093709945678711, 'total_loss': 16.269338607788086}\n"
     ]
    },
    {
     "name": "stderr",
     "output_type": "stream",
     "text": [
      "Validating:   4%|▍         | 10/235 [00:06<01:54,  1.97it/s, loss=16.2887, avg_loss=16.2713]"
     ]
    },
    {
     "name": "stdout",
     "output_type": "stream",
     "text": [
      "{'kd_loss': 32.49324035644531, 'feature_loss': 0.2754093408584595, 'ce_loss': 7.71225643157959, 'cont_loss': 1.513906717300415, 'teacher_loss': 8.099858283996582, 'total_loss': 16.288671493530273}\n"
     ]
    },
    {
     "name": "stderr",
     "output_type": "stream",
     "text": [
      "Validating:   5%|▍         | 11/235 [00:07<01:52,  2.00it/s, loss=16.3411, avg_loss=16.2776]"
     ]
    },
    {
     "name": "stdout",
     "output_type": "stream",
     "text": [
      "{'kd_loss': 32.493473052978516, 'feature_loss': 0.3208184838294983, 'ce_loss': 7.8229899406433105, 'cont_loss': 1.503023386001587, 'teacher_loss': 8.077661514282227, 'total_loss': 16.341053009033203}\n"
     ]
    },
    {
     "name": "stderr",
     "output_type": "stream",
     "text": [
      "Validating:   5%|▌         | 12/235 [00:07<01:50,  2.02it/s, loss=16.2458, avg_loss=16.2750]"
     ]
    },
    {
     "name": "stdout",
     "output_type": "stream",
     "text": [
      "{'kd_loss': 32.49250030517578, 'feature_loss': 0.26768630743026733, 'ce_loss': 7.6181745529174805, 'cont_loss': 1.4803835153579712, 'teacher_loss': 8.097929954528809, 'total_loss': 16.245847702026367}\n"
     ]
    },
    {
     "name": "stderr",
     "output_type": "stream",
     "text": [
      "Validating:   6%|▌         | 13/235 [00:08<01:49,  2.03it/s, loss=16.3642, avg_loss=16.2818]"
     ]
    },
    {
     "name": "stdout",
     "output_type": "stream",
     "text": [
      "{'kd_loss': 32.493736267089844, 'feature_loss': 0.3095649480819702, 'ce_loss': 7.894477844238281, 'cont_loss': 1.4702177047729492, 'teacher_loss': 8.08240032196045, 'total_loss': 16.364219665527344}\n"
     ]
    },
    {
     "name": "stderr",
     "output_type": "stream",
     "text": [
      "Validating:   6%|▌         | 14/235 [00:08<01:48,  2.04it/s, loss=16.3598, avg_loss=16.2874]"
     ]
    },
    {
     "name": "stdout",
     "output_type": "stream",
     "text": [
      "{'kd_loss': 32.49452209472656, 'feature_loss': 0.3534966707229614, 'ce_loss': 7.839497089385986, 'cont_loss': 1.5550765991210938, 'teacher_loss': 8.076093673706055, 'total_loss': 16.35981559753418}\n"
     ]
    },
    {
     "name": "stderr",
     "output_type": "stream",
     "text": [
      "Validating:   6%|▋         | 15/235 [00:09<01:47,  2.05it/s, loss=16.2630, avg_loss=16.2858]"
     ]
    },
    {
     "name": "stdout",
     "output_type": "stream",
     "text": [
      "{'kd_loss': 32.49284362792969, 'feature_loss': 0.2712244987487793, 'ce_loss': 7.665279388427734, 'cont_loss': 1.455343246459961, 'teacher_loss': 8.095690727233887, 'total_loss': 16.263029098510742}\n"
     ]
    },
    {
     "name": "stderr",
     "output_type": "stream",
     "text": [
      "Validating:   7%|▋         | 16/235 [00:09<01:46,  2.05it/s, loss=16.3883, avg_loss=16.2922]"
     ]
    },
    {
     "name": "stdout",
     "output_type": "stream",
     "text": [
      "{'kd_loss': 32.493255615234375, 'feature_loss': 0.3028845191001892, 'ce_loss': 7.949835777282715, 'cont_loss': 1.5050387382507324, 'teacher_loss': 8.093873977661133, 'total_loss': 16.388315200805664}\n"
     ]
    },
    {
     "name": "stderr",
     "output_type": "stream",
     "text": [
      "Validating:   7%|▋         | 17/235 [00:10<01:46,  2.05it/s, loss=16.2637, avg_loss=16.2905]"
     ]
    },
    {
     "name": "stdout",
     "output_type": "stream",
     "text": [
      "{'kd_loss': 32.49247741699219, 'feature_loss': 0.32205134630203247, 'ce_loss': 7.630403995513916, 'cont_loss': 1.501840353012085, 'teacher_loss': 8.08315658569336, 'total_loss': 16.263748168945312}\n"
     ]
    },
    {
     "name": "stderr",
     "output_type": "stream",
     "text": [
      "Validating:   8%|▊         | 18/235 [00:10<01:45,  2.06it/s, loss=16.4350, avg_loss=16.2985]"
     ]
    },
    {
     "name": "stdout",
     "output_type": "stream",
     "text": [
      "{'kd_loss': 32.49323272705078, 'feature_loss': 0.2739793658256531, 'ce_loss': 8.085158348083496, 'cont_loss': 1.4884949922561646, 'teacher_loss': 8.089603424072266, 'total_loss': 16.43500328063965}\n"
     ]
    },
    {
     "name": "stderr",
     "output_type": "stream",
     "text": [
      "Validating:   8%|▊         | 19/235 [00:10<01:44,  2.06it/s, loss=16.3920, avg_loss=16.3035]"
     ]
    },
    {
     "name": "stdout",
     "output_type": "stream",
     "text": [
      "{'kd_loss': 32.49485397338867, 'feature_loss': 0.2884538173675537, 'ce_loss': 7.968883514404297, 'cont_loss': 1.4880188703536987, 'teacher_loss': 8.091788291931152, 'total_loss': 16.39198875427246}\n"
     ]
    },
    {
     "name": "stderr",
     "output_type": "stream",
     "text": [
      "Validating:   9%|▊         | 20/235 [00:11<01:44,  2.06it/s, loss=16.2346, avg_loss=16.3000]"
     ]
    },
    {
     "name": "stdout",
     "output_type": "stream",
     "text": [
      "{'kd_loss': 32.493011474609375, 'feature_loss': 0.27581822872161865, 'ce_loss': 7.582052707672119, 'cont_loss': 1.493713140487671, 'teacher_loss': 8.102455139160156, 'total_loss': 16.234561920166016}\n"
     ]
    },
    {
     "name": "stderr",
     "output_type": "stream",
     "text": [
      "Validating:   9%|▉         | 21/235 [00:11<01:43,  2.06it/s, loss=16.2751, avg_loss=16.2988]"
     ]
    },
    {
     "name": "stdout",
     "output_type": "stream",
     "text": [
      "{'kd_loss': 32.492488861083984, 'feature_loss': 0.2679595947265625, 'ce_loss': 7.681644439697266, 'cont_loss': 1.518707275390625, 'teacher_loss': 8.102970123291016, 'total_loss': 16.275115966796875}\n"
     ]
    },
    {
     "name": "stderr",
     "output_type": "stream",
     "text": [
      "Validating:   9%|▉         | 22/235 [00:12<01:43,  2.06it/s, loss=16.3169, avg_loss=16.2996]"
     ]
    },
    {
     "name": "stdout",
     "output_type": "stream",
     "text": [
      "{'kd_loss': 32.492286682128906, 'feature_loss': 0.22246593236923218, 'ce_loss': 7.802759170532227, 'cont_loss': 1.5435009002685547, 'teacher_loss': 8.10962200164795, 'total_loss': 16.316862106323242}\n"
     ]
    },
    {
     "name": "stderr",
     "output_type": "stream",
     "text": [
      "Validating:  10%|▉         | 23/235 [00:12<01:42,  2.06it/s, loss=16.4146, avg_loss=16.3046]"
     ]
    },
    {
     "name": "stdout",
     "output_type": "stream",
     "text": [
      "{'kd_loss': 32.4945068359375, 'feature_loss': 0.3657236695289612, 'ce_loss': 7.980564117431641, 'cont_loss': 1.5137580633163452, 'teacher_loss': 8.078554153442383, 'total_loss': 16.41455078125}\n"
     ]
    },
    {
     "name": "stderr",
     "output_type": "stream",
     "text": [
      "Validating:  10%|█         | 24/235 [00:13<01:42,  2.06it/s, loss=16.3110, avg_loss=16.3049]"
     ]
    },
    {
     "name": "stdout",
     "output_type": "stream",
     "text": [
      "{'kd_loss': 32.49492263793945, 'feature_loss': 0.29169344902038574, 'ce_loss': 7.765223979949951, 'cont_loss': 1.4855380058288574, 'teacher_loss': 8.077134132385254, 'total_loss': 16.31095314025879}\n"
     ]
    },
    {
     "name": "stderr",
     "output_type": "stream",
     "text": [
      "Validating:  11%|█         | 25/235 [00:13<01:42,  2.05it/s, loss=16.3669, avg_loss=16.3074]"
     ]
    },
    {
     "name": "stdout",
     "output_type": "stream",
     "text": [
      "{'kd_loss': 32.494998931884766, 'feature_loss': 0.3169907331466675, 'ce_loss': 7.890729904174805, 'cont_loss': 1.492073655128479, 'teacher_loss': 8.079697608947754, 'total_loss': 16.366897583007812}\n"
     ]
    },
    {
     "name": "stderr",
     "output_type": "stream",
     "text": [
      "Validating:  11%|█         | 26/235 [00:14<01:42,  2.05it/s, loss=16.2327, avg_loss=16.3045]"
     ]
    },
    {
     "name": "stdout",
     "output_type": "stream",
     "text": [
      "{'kd_loss': 32.49527359008789, 'feature_loss': 0.39208507537841797, 'ce_loss': 7.513729095458984, 'cont_loss': 1.506651520729065, 'teacher_loss': 8.073590278625488, 'total_loss': 16.232683181762695}\n"
     ]
    },
    {
     "name": "stderr",
     "output_type": "stream",
     "text": [
      "Validating:  11%|█▏        | 27/235 [00:14<01:41,  2.04it/s, loss=16.1038, avg_loss=16.2971]"
     ]
    },
    {
     "name": "stdout",
     "output_type": "stream",
     "text": [
      "{'kd_loss': 32.49298858642578, 'feature_loss': 0.3395230770111084, 'ce_loss': 7.2318902015686035, 'cont_loss': 1.4596580266952515, 'teacher_loss': 8.094955444335938, 'total_loss': 16.103822708129883}\n"
     ]
    },
    {
     "name": "stderr",
     "output_type": "stream",
     "text": [
      "Validating:  12%|█▏        | 28/235 [00:15<01:41,  2.05it/s, loss=16.3995, avg_loss=16.3007]"
     ]
    },
    {
     "name": "stdout",
     "output_type": "stream",
     "text": [
      "{'kd_loss': 32.492156982421875, 'feature_loss': 0.31020647287368774, 'ce_loss': 7.977273941040039, 'cont_loss': 1.4971516132354736, 'teacher_loss': 8.103806495666504, 'total_loss': 16.3995304107666}\n"
     ]
    },
    {
     "name": "stderr",
     "output_type": "stream",
     "text": [
      "Validating:  12%|█▏        | 29/235 [00:15<01:40,  2.05it/s, loss=16.4420, avg_loss=16.3056]"
     ]
    },
    {
     "name": "stdout",
     "output_type": "stream",
     "text": [
      "{'kd_loss': 32.494285583496094, 'feature_loss': 0.2760445475578308, 'ce_loss': 8.096999168395996, 'cont_loss': 1.5025714635849, 'teacher_loss': 8.099074363708496, 'total_loss': 16.441980361938477}\n"
     ]
    },
    {
     "name": "stderr",
     "output_type": "stream",
     "text": [
      "Validating:  13%|█▎        | 30/235 [00:16<01:39,  2.06it/s, loss=16.1761, avg_loss=16.3013]"
     ]
    },
    {
     "name": "stdout",
     "output_type": "stream",
     "text": [
      "{'kd_loss': 32.49631881713867, 'feature_loss': 0.30062568187713623, 'ce_loss': 7.442751407623291, 'cont_loss': 1.4032883644104004, 'teacher_loss': 8.090584754943848, 'total_loss': 16.176082611083984}\n"
     ]
    },
    {
     "name": "stderr",
     "output_type": "stream",
     "text": [
      "Validating:  13%|█▎        | 31/235 [00:16<01:39,  2.06it/s, loss=16.2286, avg_loss=16.2989]"
     ]
    },
    {
     "name": "stdout",
     "output_type": "stream",
     "text": [
      "{'kd_loss': 32.4937744140625, 'feature_loss': 0.3113536834716797, 'ce_loss': 7.559932708740234, 'cont_loss': 1.4486054182052612, 'teacher_loss': 8.101639747619629, 'total_loss': 16.228614807128906}\n"
     ]
    },
    {
     "name": "stderr",
     "output_type": "stream",
     "text": [
      "Validating:  14%|█▎        | 32/235 [00:17<01:38,  2.06it/s, loss=16.2668, avg_loss=16.2979]"
     ]
    },
    {
     "name": "stdout",
     "output_type": "stream",
     "text": [
      "{'kd_loss': 32.492820739746094, 'feature_loss': 0.25187361240386963, 'ce_loss': 7.674663543701172, 'cont_loss': 1.4939157962799072, 'teacher_loss': 8.099006652832031, 'total_loss': 16.266759872436523}\n"
     ]
    },
    {
     "name": "stderr",
     "output_type": "stream",
     "text": [
      "Validating:  14%|█▍        | 33/235 [00:17<01:38,  2.06it/s, loss=16.2788, avg_loss=16.2974]"
     ]
    },
    {
     "name": "stdout",
     "output_type": "stream",
     "text": [
      "{'kd_loss': 32.493560791015625, 'feature_loss': 0.2884213924407959, 'ce_loss': 7.686048984527588, 'cont_loss': 1.4930200576782227, 'teacher_loss': 8.100406646728516, 'total_loss': 16.27882957458496}\n"
     ]
    },
    {
     "name": "stderr",
     "output_type": "stream",
     "text": [
      "Validating:  14%|█▍        | 34/235 [00:18<01:37,  2.06it/s, loss=16.3419, avg_loss=16.2987]"
     ]
    },
    {
     "name": "stdout",
     "output_type": "stream",
     "text": [
      "{'kd_loss': 32.49297332763672, 'feature_loss': 0.37009739875793457, 'ce_loss': 7.801541328430176, 'cont_loss': 1.5010242462158203, 'teacher_loss': 8.069071769714355, 'total_loss': 16.341928482055664}\n"
     ]
    },
    {
     "name": "stderr",
     "output_type": "stream",
     "text": [
      "Validating:  15%|█▍        | 35/235 [00:18<01:37,  2.05it/s, loss=16.2888, avg_loss=16.2984]"
     ]
    },
    {
     "name": "stdout",
     "output_type": "stream",
     "text": [
      "{'kd_loss': 32.49390411376953, 'feature_loss': 0.3562808036804199, 'ce_loss': 7.685788631439209, 'cont_loss': 1.4570866823196411, 'teacher_loss': 8.111297607421875, 'total_loss': 16.288841247558594}\n"
     ]
    },
    {
     "name": "stderr",
     "output_type": "stream",
     "text": [
      "Validating:  15%|█▌        | 36/235 [00:19<01:37,  2.05it/s, loss=16.2465, avg_loss=16.2970]"
     ]
    },
    {
     "name": "stdout",
     "output_type": "stream",
     "text": [
      "{'kd_loss': 32.49354553222656, 'feature_loss': 0.2270377278327942, 'ce_loss': 7.6231513023376465, 'cont_loss': 1.5442917346954346, 'teacher_loss': 8.105607986450195, 'total_loss': 16.24651527404785}\n"
     ]
    },
    {
     "name": "stderr",
     "output_type": "stream",
     "text": [
      "Validating:  16%|█▌        | 37/235 [00:19<01:36,  2.05it/s, loss=16.3676, avg_loss=16.2989]"
     ]
    },
    {
     "name": "stdout",
     "output_type": "stream",
     "text": [
      "{'kd_loss': 32.492393493652344, 'feature_loss': 0.2504544258117676, 'ce_loss': 7.898483753204346, 'cont_loss': 1.6118086576461792, 'teacher_loss': 8.096694946289062, 'total_loss': 16.36762237548828}\n"
     ]
    },
    {
     "name": "stderr",
     "output_type": "stream",
     "text": [
      "Validating:  16%|█▌        | 38/235 [00:20<01:36,  2.05it/s, loss=16.3006, avg_loss=16.2989]"
     ]
    },
    {
     "name": "stdout",
     "output_type": "stream",
     "text": [
      "{'kd_loss': 32.49313735961914, 'feature_loss': 0.360617458820343, 'ce_loss': 7.650737285614014, 'cont_loss': 1.7095015048980713, 'teacher_loss': 8.09630298614502, 'total_loss': 16.300622940063477}\n"
     ]
    },
    {
     "name": "stderr",
     "output_type": "stream",
     "text": [
      "Validating:  17%|█▋        | 39/235 [00:20<01:35,  2.05it/s, loss=16.2938, avg_loss=16.2988]"
     ]
    },
    {
     "name": "stdout",
     "output_type": "stream",
     "text": [
      "{'kd_loss': 32.491920471191406, 'feature_loss': 0.25615155696868896, 'ce_loss': 7.7300214767456055, 'cont_loss': 1.5375115871429443, 'teacher_loss': 8.092315673828125, 'total_loss': 16.293758392333984}\n"
     ]
    },
    {
     "name": "stderr",
     "output_type": "stream",
     "text": [
      "Validating:  17%|█▋        | 40/235 [00:21<01:35,  2.05it/s, loss=16.3483, avg_loss=16.3000]"
     ]
    },
    {
     "name": "stdout",
     "output_type": "stream",
     "text": [
      "{'kd_loss': 32.49251174926758, 'feature_loss': 0.20374679565429688, 'ce_loss': 7.842547416687012, 'cont_loss': 1.7351621389389038, 'teacher_loss': 8.102561950683594, 'total_loss': 16.34828758239746}\n"
     ]
    },
    {
     "name": "stderr",
     "output_type": "stream",
     "text": [
      "Validating:  17%|█▋        | 41/235 [00:21<01:34,  2.05it/s, loss=16.3428, avg_loss=16.3011]"
     ]
    },
    {
     "name": "stdout",
     "output_type": "stream",
     "text": [
      "{'kd_loss': 32.49293518066406, 'feature_loss': 0.2884402275085449, 'ce_loss': 7.815032005310059, 'cont_loss': 1.6188123226165771, 'teacher_loss': 8.07845687866211, 'total_loss': 16.342754364013672}\n"
     ]
    },
    {
     "name": "stderr",
     "output_type": "stream",
     "text": [
      "Validating:  18%|█▊        | 42/235 [00:22<01:34,  2.04it/s, loss=16.4076, avg_loss=16.3036]"
     ]
    },
    {
     "name": "stdout",
     "output_type": "stream",
     "text": [
      "{'kd_loss': 32.49470520019531, 'feature_loss': 0.2816314101219177, 'ce_loss': 7.9874677658081055, 'cont_loss': 1.5837671756744385, 'teacher_loss': 8.101425170898438, 'total_loss': 16.40757179260254}\n"
     ]
    },
    {
     "name": "stderr",
     "output_type": "stream",
     "text": [
      "Validating:  18%|█▊        | 43/235 [00:22<01:34,  2.04it/s, loss=16.1243, avg_loss=16.2994]"
     ]
    },
    {
     "name": "stdout",
     "output_type": "stream",
     "text": [
      "{'kd_loss': 32.49400329589844, 'feature_loss': 0.370647132396698, 'ce_loss': 7.257870197296143, 'cont_loss': 1.4946357011795044, 'teacher_loss': 8.093766212463379, 'total_loss': 16.12434196472168}\n"
     ]
    },
    {
     "name": "stderr",
     "output_type": "stream",
     "text": [
      "Validating:  19%|█▊        | 44/235 [00:23<01:33,  2.05it/s, loss=16.4215, avg_loss=16.3022]"
     ]
    },
    {
     "name": "stdout",
     "output_type": "stream",
     "text": [
      "{'kd_loss': 32.49397659301758, 'feature_loss': 0.24598270654678345, 'ce_loss': 8.012240409851074, 'cont_loss': 1.6980535984039307, 'teacher_loss': 8.112089157104492, 'total_loss': 16.421489715576172}\n"
     ]
    },
    {
     "name": "stderr",
     "output_type": "stream",
     "text": [
      "Validating:  19%|█▉        | 45/235 [00:23<01:32,  2.05it/s, loss=16.4155, avg_loss=16.3047]"
     ]
    },
    {
     "name": "stdout",
     "output_type": "stream",
     "text": [
      "{'kd_loss': 32.49237823486328, 'feature_loss': 0.2924876809120178, 'ce_loss': 8.002755165100098, 'cont_loss': 1.5893713235855103, 'teacher_loss': 8.109249114990234, 'total_loss': 16.41548728942871}\n"
     ]
    },
    {
     "name": "stderr",
     "output_type": "stream",
     "text": [
      "Validating:  20%|█▉        | 46/235 [00:24<01:32,  2.05it/s, loss=16.3480, avg_loss=16.3057]"
     ]
    },
    {
     "name": "stdout",
     "output_type": "stream",
     "text": [
      "{'kd_loss': 32.49365997314453, 'feature_loss': 0.346904993057251, 'ce_loss': 7.79630708694458, 'cont_loss': 1.625852346420288, 'teacher_loss': 8.07755184173584, 'total_loss': 16.347951889038086}\n"
     ]
    },
    {
     "name": "stderr",
     "output_type": "stream",
     "text": [
      "Validating:  20%|██        | 47/235 [00:24<01:31,  2.05it/s, loss=16.3757, avg_loss=16.3071]"
     ]
    },
    {
     "name": "stdout",
     "output_type": "stream",
     "text": [
      "{'kd_loss': 32.493316650390625, 'feature_loss': 0.24816644191741943, 'ce_loss': 7.884922027587891, 'cont_loss': 1.7480134963989258, 'teacher_loss': 8.115463256835938, 'total_loss': 16.375728607177734}\n"
     ]
    },
    {
     "name": "stderr",
     "output_type": "stream",
     "text": [
      "Validating:  20%|██        | 48/235 [00:25<01:31,  2.05it/s, loss=16.3177, avg_loss=16.3074]"
     ]
    },
    {
     "name": "stdout",
     "output_type": "stream",
     "text": [
      "{'kd_loss': 32.49584197998047, 'feature_loss': 0.3521128296852112, 'ce_loss': 7.726129055023193, 'cont_loss': 1.584652304649353, 'teacher_loss': 8.0947847366333, 'total_loss': 16.31767463684082}\n"
     ]
    },
    {
     "name": "stderr",
     "output_type": "stream",
     "text": [
      "Validating:  21%|██        | 49/235 [00:25<01:30,  2.05it/s, loss=16.3756, avg_loss=16.3088]"
     ]
    },
    {
     "name": "stdout",
     "output_type": "stream",
     "text": [
      "{'kd_loss': 32.494468688964844, 'feature_loss': 0.2838316559791565, 'ce_loss': 7.886186599731445, 'cont_loss': 1.6661081314086914, 'teacher_loss': 8.100053787231445, 'total_loss': 16.375638961791992}\n"
     ]
    },
    {
     "name": "stderr",
     "output_type": "stream",
     "text": [
      "Validating:  21%|██▏       | 50/235 [00:26<01:30,  2.04it/s, loss=16.3832, avg_loss=16.3102]"
     ]
    },
    {
     "name": "stdout",
     "output_type": "stream",
     "text": [
      "{'kd_loss': 32.49388122558594, 'feature_loss': 0.31385886669158936, 'ce_loss': 7.889304161071777, 'cont_loss': 1.671844482421875, 'teacher_loss': 8.075494766235352, 'total_loss': 16.383230209350586}\n"
     ]
    },
    {
     "name": "stderr",
     "output_type": "stream",
     "text": [
      "Validating:  22%|██▏       | 51/235 [00:26<01:29,  2.05it/s, loss=16.4165, avg_loss=16.3123]"
     ]
    },
    {
     "name": "stdout",
     "output_type": "stream",
     "text": [
      "{'kd_loss': 32.49248504638672, 'feature_loss': 0.3104437589645386, 'ce_loss': 7.958967208862305, 'cont_loss': 1.737926959991455, 'teacher_loss': 8.111899375915527, 'total_loss': 16.416461944580078}\n"
     ]
    },
    {
     "name": "stderr",
     "output_type": "stream",
     "text": [
      "Validating:  22%|██▏       | 52/235 [00:27<01:29,  2.05it/s, loss=16.2924, avg_loss=16.3119]"
     ]
    },
    {
     "name": "stdout",
     "output_type": "stream",
     "text": [
      "{'kd_loss': 32.49378204345703, 'feature_loss': 0.2605072259902954, 'ce_loss': 7.6846604347229, 'cont_loss': 1.6896841526031494, 'teacher_loss': 8.094443321228027, 'total_loss': 16.29244613647461}\n"
     ]
    },
    {
     "name": "stderr",
     "output_type": "stream",
     "text": [
      "Validating:  23%|██▎       | 53/235 [00:27<01:28,  2.06it/s, loss=16.4531, avg_loss=16.3146]"
     ]
    },
    {
     "name": "stdout",
     "output_type": "stream",
     "text": [
      "{'kd_loss': 32.49354553222656, 'feature_loss': 0.3077394962310791, 'ce_loss': 8.041425704956055, 'cont_loss': 1.7758090496063232, 'teacher_loss': 8.09640121459961, 'total_loss': 16.4531192779541}\n"
     ]
    },
    {
     "name": "stderr",
     "output_type": "stream",
     "text": [
      "Validating:  23%|██▎       | 54/235 [00:28<01:28,  2.06it/s, loss=16.3961, avg_loss=16.3161]"
     ]
    },
    {
     "name": "stdout",
     "output_type": "stream",
     "text": [
      "{'kd_loss': 32.495201110839844, 'feature_loss': 0.3825037479400635, 'ce_loss': 7.875465393066406, 'cont_loss': 1.7128983736038208, 'teacher_loss': 8.07705307006836, 'total_loss': 16.39605712890625}\n"
     ]
    },
    {
     "name": "stderr",
     "output_type": "stream",
     "text": [
      "Validating:  23%|██▎       | 55/235 [00:28<01:27,  2.05it/s, loss=16.2779, avg_loss=16.3154]"
     ]
    },
    {
     "name": "stdout",
     "output_type": "stream",
     "text": [
      "{'kd_loss': 32.497657775878906, 'feature_loss': 0.3543018102645874, 'ce_loss': 7.596016883850098, 'cont_loss': 1.695899486541748, 'teacher_loss': 8.078930854797363, 'total_loss': 16.27791976928711}\n"
     ]
    },
    {
     "name": "stderr",
     "output_type": "stream",
     "text": [
      "Validating:  24%|██▍       | 56/235 [00:29<01:27,  2.05it/s, loss=16.5260, avg_loss=16.3192]"
     ]
    },
    {
     "name": "stdout",
     "output_type": "stream",
     "text": [
      "{'kd_loss': 32.494049072265625, 'feature_loss': 0.34175729751586914, 'ce_loss': 8.196967124938965, 'cont_loss': 1.8120322227478027, 'teacher_loss': 8.090108871459961, 'total_loss': 16.525962829589844}\n"
     ]
    },
    {
     "name": "stderr",
     "output_type": "stream",
     "text": [
      "Validating:  24%|██▍       | 57/235 [00:29<01:26,  2.05it/s, loss=16.5316, avg_loss=16.3229]"
     ]
    },
    {
     "name": "stdout",
     "output_type": "stream",
     "text": [
      "{'kd_loss': 32.49402618408203, 'feature_loss': 0.3162230849266052, 'ce_loss': 8.225292205810547, 'cont_loss': 1.8057966232299805, 'teacher_loss': 8.103012084960938, 'total_loss': 16.531553268432617}\n"
     ]
    },
    {
     "name": "stderr",
     "output_type": "stream",
     "text": [
      "Validating:  25%|██▍       | 58/235 [00:30<01:26,  2.05it/s, loss=16.4355, avg_loss=16.3249]"
     ]
    },
    {
     "name": "stdout",
     "output_type": "stream",
     "text": [
      "{'kd_loss': 32.49427032470703, 'feature_loss': 0.291706919670105, 'ce_loss': 7.990664005279541, 'cont_loss': 1.8315337896347046, 'teacher_loss': 8.100221633911133, 'total_loss': 16.435468673706055}\n"
     ]
    },
    {
     "name": "stderr",
     "output_type": "stream",
     "text": [
      "Validating:  25%|██▌       | 59/235 [00:30<01:25,  2.05it/s, loss=16.3772, avg_loss=16.3257]"
     ]
    },
    {
     "name": "stdout",
     "output_type": "stream",
     "text": [
      "{'kd_loss': 32.493316650390625, 'feature_loss': 0.2632693648338318, 'ce_loss': 7.858590602874756, 'cont_loss': 1.8381991386413574, 'teacher_loss': 8.096149444580078, 'total_loss': 16.37723731994629}\n"
     ]
    },
    {
     "name": "stderr",
     "output_type": "stream",
     "text": [
      "Validating:  26%|██▌       | 60/235 [00:30<01:25,  2.05it/s, loss=16.5352, avg_loss=16.3292]"
     ]
    },
    {
     "name": "stdout",
     "output_type": "stream",
     "text": [
      "{'kd_loss': 32.49488067626953, 'feature_loss': 0.3480067253112793, 'ce_loss': 8.208911895751953, 'cont_loss': 1.8411649465560913, 'teacher_loss': 8.089009284973145, 'total_loss': 16.535234451293945}\n"
     ]
    },
    {
     "name": "stderr",
     "output_type": "stream",
     "text": [
      "Validating:  26%|██▌       | 61/235 [00:31<01:25,  2.04it/s, loss=16.4459, avg_loss=16.3311]"
     ]
    },
    {
     "name": "stdout",
     "output_type": "stream",
     "text": [
      "{'kd_loss': 32.494651794433594, 'feature_loss': 0.2849147915840149, 'ce_loss': 8.01164722442627, 'cont_loss': 1.864104986190796, 'teacher_loss': 8.088117599487305, 'total_loss': 16.445913314819336}\n"
     ]
    },
    {
     "name": "stderr",
     "output_type": "stream",
     "text": [
      "Validating:  26%|██▋       | 62/235 [00:31<01:24,  2.04it/s, loss=16.3692, avg_loss=16.3318]"
     ]
    },
    {
     "name": "stdout",
     "output_type": "stream",
     "text": [
      "{'kd_loss': 32.49382400512695, 'feature_loss': 0.23623448610305786, 'ce_loss': 7.844573020935059, 'cont_loss': 1.8658393621444702, 'teacher_loss': 8.100046157836914, 'total_loss': 16.369190216064453}\n"
     ]
    },
    {
     "name": "stderr",
     "output_type": "stream",
     "text": [
      "Validating:  27%|██▋       | 63/235 [00:32<01:24,  2.04it/s, loss=16.5184, avg_loss=16.3347]"
     ]
    },
    {
     "name": "stdout",
     "output_type": "stream",
     "text": [
      "{'kd_loss': 32.49241256713867, 'feature_loss': 0.30174195766448975, 'ce_loss': 8.154647827148438, 'cont_loss': 1.9921116828918457, 'teacher_loss': 8.100971221923828, 'total_loss': 16.51838493347168}\n"
     ]
    },
    {
     "name": "stderr",
     "output_type": "stream",
     "text": [
      "Validating:  27%|██▋       | 64/235 [00:32<01:23,  2.04it/s, loss=16.3628, avg_loss=16.3352]"
     ]
    },
    {
     "name": "stdout",
     "output_type": "stream",
     "text": [
      "{'kd_loss': 32.493553161621094, 'feature_loss': 0.3129320740699768, 'ce_loss': 7.791116714477539, 'cont_loss': 1.863281011581421, 'teacher_loss': 8.096264839172363, 'total_loss': 16.362783432006836}\n"
     ]
    },
    {
     "name": "stderr",
     "output_type": "stream",
     "text": [
      "Validating:  28%|██▊       | 65/235 [00:33<01:23,  2.04it/s, loss=16.4846, avg_loss=16.3375]"
     ]
    },
    {
     "name": "stdout",
     "output_type": "stream",
     "text": [
      "{'kd_loss': 32.492431640625, 'feature_loss': 0.2764682173728943, 'ce_loss': 8.099750518798828, 'cont_loss': 1.9246227741241455, 'teacher_loss': 8.103765487670898, 'total_loss': 16.484630584716797}\n"
     ]
    },
    {
     "name": "stderr",
     "output_type": "stream",
     "text": [
      "Validating:  28%|██▊       | 66/235 [00:33<01:22,  2.05it/s, loss=16.3727, avg_loss=16.3380]"
     ]
    },
    {
     "name": "stdout",
     "output_type": "stream",
     "text": [
      "{'kd_loss': 32.49393081665039, 'feature_loss': 0.24073654413223267, 'ce_loss': 7.857205867767334, 'cont_loss': 1.8408364057540894, 'teacher_loss': 8.105430603027344, 'total_loss': 16.3726863861084}\n"
     ]
    },
    {
     "name": "stderr",
     "output_type": "stream",
     "text": [
      "Validating:  29%|██▊       | 67/235 [00:34<01:22,  2.04it/s, loss=16.3188, avg_loss=16.3377]"
     ]
    },
    {
     "name": "stdout",
     "output_type": "stream",
     "text": [
      "{'kd_loss': 32.49219512939453, 'feature_loss': 0.31623345613479614, 'ce_loss': 7.68108606338501, 'cont_loss': 1.8620346784591675, 'teacher_loss': 8.089296340942383, 'total_loss': 16.318763732910156}\n"
     ]
    },
    {
     "name": "stderr",
     "output_type": "stream",
     "text": [
      "Validating:  29%|██▉       | 68/235 [00:34<01:21,  2.04it/s, loss=16.4769, avg_loss=16.3398]"
     ]
    },
    {
     "name": "stdout",
     "output_type": "stream",
     "text": [
      "{'kd_loss': 32.49284362792969, 'feature_loss': 0.29929375648498535, 'ce_loss': 8.03560733795166, 'cont_loss': 2.0562334060668945, 'teacher_loss': 8.097458839416504, 'total_loss': 16.476863861083984}\n"
     ]
    },
    {
     "name": "stderr",
     "output_type": "stream",
     "text": [
      "Validating:  29%|██▉       | 69/235 [00:35<01:21,  2.04it/s, loss=16.3717, avg_loss=16.3402]"
     ]
    },
    {
     "name": "stdout",
     "output_type": "stream",
     "text": [
      "{'kd_loss': 32.493690490722656, 'feature_loss': 0.2920365333557129, 'ce_loss': 7.82205057144165, 'cont_loss': 1.8700412511825562, 'teacher_loss': 8.082550048828125, 'total_loss': 16.371707916259766}\n"
     ]
    },
    {
     "name": "stderr",
     "output_type": "stream",
     "text": [
      "Validating:  30%|██▉       | 70/235 [00:35<01:20,  2.04it/s, loss=16.3519, avg_loss=16.3404]"
     ]
    },
    {
     "name": "stdout",
     "output_type": "stream",
     "text": [
      "{'kd_loss': 32.49401092529297, 'feature_loss': 0.27868330478668213, 'ce_loss': 7.778654098510742, 'cont_loss': 1.8712248802185059, 'teacher_loss': 8.10457992553711, 'total_loss': 16.351924896240234}\n"
     ]
    },
    {
     "name": "stderr",
     "output_type": "stream",
     "text": [
      "Validating:  30%|███       | 71/235 [00:36<01:20,  2.04it/s, loss=16.4154, avg_loss=16.3414]"
     ]
    },
    {
     "name": "stdout",
     "output_type": "stream",
     "text": [
      "{'kd_loss': 32.49333190917969, 'feature_loss': 0.3216128945350647, 'ce_loss': 7.895285606384277, 'cont_loss': 1.956649899482727, 'teacher_loss': 8.082386016845703, 'total_loss': 16.415433883666992}\n"
     ]
    },
    {
     "name": "stderr",
     "output_type": "stream",
     "text": [
      "Validating:  31%|███       | 72/235 [00:36<01:19,  2.05it/s, loss=16.4817, avg_loss=16.3434]"
     ]
    },
    {
     "name": "stdout",
     "output_type": "stream",
     "text": [
      "{'kd_loss': 32.49470138549805, 'feature_loss': 0.3039894700050354, 'ce_loss': 8.06236743927002, 'cont_loss': 1.9809601306915283, 'teacher_loss': 8.08832836151123, 'total_loss': 16.481721878051758}\n"
     ]
    },
    {
     "name": "stderr",
     "output_type": "stream",
     "text": [
      "Validating:  31%|███       | 73/235 [00:37<01:19,  2.05it/s, loss=16.4591, avg_loss=16.3450]"
     ]
    },
    {
     "name": "stdout",
     "output_type": "stream",
     "text": [
      "{'kd_loss': 32.49333572387695, 'feature_loss': 0.27281707525253296, 'ce_loss': 8.036137580871582, 'cont_loss': 1.927711844444275, 'teacher_loss': 8.115530014038086, 'total_loss': 16.459125518798828}\n"
     ]
    },
    {
     "name": "stderr",
     "output_type": "stream",
     "text": [
      "Validating:  31%|███▏      | 74/235 [00:37<01:18,  2.05it/s, loss=16.4536, avg_loss=16.3464]"
     ]
    },
    {
     "name": "stdout",
     "output_type": "stream",
     "text": [
      "{'kd_loss': 32.49265670776367, 'feature_loss': 0.2596157193183899, 'ce_loss': 8.012255668640137, 'cont_loss': 1.9972865581512451, 'teacher_loss': 8.105765342712402, 'total_loss': 16.453615188598633}\n"
     ]
    },
    {
     "name": "stderr",
     "output_type": "stream",
     "text": [
      "Validating:  32%|███▏      | 75/235 [00:38<01:18,  2.05it/s, loss=16.3563, avg_loss=16.3466]"
     ]
    },
    {
     "name": "stdout",
     "output_type": "stream",
     "text": [
      "{'kd_loss': 32.493133544921875, 'feature_loss': 0.27260422706604004, 'ce_loss': 7.760700225830078, 'cont_loss': 2.0020437240600586, 'teacher_loss': 8.107969284057617, 'total_loss': 16.356258392333984}\n"
     ]
    },
    {
     "name": "stderr",
     "output_type": "stream",
     "text": [
      "Validating:  32%|███▏      | 76/235 [00:38<01:17,  2.04it/s, loss=16.4282, avg_loss=16.3476]"
     ]
    },
    {
     "name": "stdout",
     "output_type": "stream",
     "text": [
      "{'kd_loss': 32.493629455566406, 'feature_loss': 0.30040836334228516, 'ce_loss': 7.9273271560668945, 'cont_loss': 1.9973466396331787, 'teacher_loss': 8.084866523742676, 'total_loss': 16.428197860717773}\n"
     ]
    },
    {
     "name": "stderr",
     "output_type": "stream",
     "text": [
      "Validating:  33%|███▎      | 77/235 [00:39<01:17,  2.05it/s, loss=16.4454, avg_loss=16.3489]"
     ]
    },
    {
     "name": "stdout",
     "output_type": "stream",
     "text": [
      "{'kd_loss': 32.49321746826172, 'feature_loss': 0.28991711139678955, 'ce_loss': 7.961239814758301, 'cont_loss': 2.0563268661499023, 'teacher_loss': 8.09076976776123, 'total_loss': 16.445398330688477}\n"
     ]
    },
    {
     "name": "stderr",
     "output_type": "stream",
     "text": [
      "Validating:  33%|███▎      | 78/235 [00:39<01:16,  2.05it/s, loss=16.4663, avg_loss=16.3504]"
     ]
    },
    {
     "name": "stdout",
     "output_type": "stream",
     "text": [
      "{'kd_loss': 32.49219512939453, 'feature_loss': 0.3243480920791626, 'ce_loss': 8.008929252624512, 'cont_loss': 2.010124444961548, 'teacher_loss': 8.085624694824219, 'total_loss': 16.466331481933594}\n"
     ]
    },
    {
     "name": "stderr",
     "output_type": "stream",
     "text": [
      "Validating:  34%|███▎      | 79/235 [00:40<01:15,  2.05it/s, loss=16.4293, avg_loss=16.3514]"
     ]
    },
    {
     "name": "stdout",
     "output_type": "stream",
     "text": [
      "{'kd_loss': 32.49224090576172, 'feature_loss': 0.2799217104911804, 'ce_loss': 7.9008378982543945, 'cont_loss': 2.1610682010650635, 'teacher_loss': 8.096134185791016, 'total_loss': 16.429323196411133}\n"
     ]
    },
    {
     "name": "stderr",
     "output_type": "stream",
     "text": [
      "Validating:  34%|███▍      | 80/235 [00:40<01:15,  2.05it/s, loss=16.4542, avg_loss=16.3527]"
     ]
    },
    {
     "name": "stdout",
     "output_type": "stream",
     "text": [
      "{'kd_loss': 32.4926872253418, 'feature_loss': 0.29198789596557617, 'ce_loss': 7.97489070892334, 'cont_loss': 2.087425470352173, 'teacher_loss': 8.087575912475586, 'total_loss': 16.45417022705078}\n"
     ]
    },
    {
     "name": "stderr",
     "output_type": "stream",
     "text": [
      "Validating:  34%|███▍      | 81/235 [00:41<01:15,  2.05it/s, loss=16.3492, avg_loss=16.3527]"
     ]
    },
    {
     "name": "stdout",
     "output_type": "stream",
     "text": [
      "{'kd_loss': 32.49300003051758, 'feature_loss': 0.32498055696487427, 'ce_loss': 7.698787212371826, 'cont_loss': 2.074742555618286, 'teacher_loss': 8.10607624053955, 'total_loss': 16.349184036254883}\n"
     ]
    },
    {
     "name": "stderr",
     "output_type": "stream",
     "text": [
      "Validating:  35%|███▍      | 82/235 [00:41<01:14,  2.05it/s, loss=16.4230, avg_loss=16.3535]"
     ]
    },
    {
     "name": "stdout",
     "output_type": "stream",
     "text": [
      "{'kd_loss': 32.492271423339844, 'feature_loss': 0.3020023703575134, 'ce_loss': 7.892784118652344, 'cont_loss': 2.0857105255126953, 'teacher_loss': 8.100625991821289, 'total_loss': 16.422992706298828}\n"
     ]
    },
    {
     "name": "stderr",
     "output_type": "stream",
     "text": [
      "Validating:  35%|███▌      | 83/235 [00:42<01:14,  2.05it/s, loss=16.5092, avg_loss=16.3554]"
     ]
    },
    {
     "name": "stdout",
     "output_type": "stream",
     "text": [
      "{'kd_loss': 32.49452209472656, 'feature_loss': 0.29544007778167725, 'ce_loss': 8.104580879211426, 'cont_loss': 2.1043715476989746, 'teacher_loss': 8.083951950073242, 'total_loss': 16.509166717529297}\n"
     ]
    },
    {
     "name": "stderr",
     "output_type": "stream",
     "text": [
      "Validating:  36%|███▌      | 84/235 [00:42<01:13,  2.05it/s, loss=16.4670, avg_loss=16.3567]"
     ]
    },
    {
     "name": "stdout",
     "output_type": "stream",
     "text": [
      "{'kd_loss': 32.493797302246094, 'feature_loss': 0.2790757417678833, 'ce_loss': 8.013895988464355, 'cont_loss': 2.0808804035186768, 'teacher_loss': 8.114569664001465, 'total_loss': 16.46697998046875}\n"
     ]
    },
    {
     "name": "stderr",
     "output_type": "stream",
     "text": [
      "Validating:  36%|███▌      | 85/235 [00:43<01:12,  2.06it/s, loss=16.4521, avg_loss=16.3578]"
     ]
    },
    {
     "name": "stdout",
     "output_type": "stream",
     "text": [
      "{'kd_loss': 32.493202209472656, 'feature_loss': 0.36065542697906494, 'ce_loss': 7.9300761222839355, 'cont_loss': 2.106705665588379, 'teacher_loss': 8.095129013061523, 'total_loss': 16.45211410522461}\n"
     ]
    },
    {
     "name": "stderr",
     "output_type": "stream",
     "text": [
      "Validating:  37%|███▋      | 86/235 [00:43<01:12,  2.06it/s, loss=16.4763, avg_loss=16.3592]"
     ]
    },
    {
     "name": "stdout",
     "output_type": "stream",
     "text": [
      "{'kd_loss': 32.493614196777344, 'feature_loss': 0.3143694996833801, 'ce_loss': 7.973252773284912, 'cont_loss': 2.2666094303131104, 'teacher_loss': 8.080432891845703, 'total_loss': 16.476282119750977}\n"
     ]
    },
    {
     "name": "stderr",
     "output_type": "stream",
     "text": [
      "Validating:  37%|███▋      | 87/235 [00:44<01:11,  2.06it/s, loss=16.5059, avg_loss=16.3609]"
     ]
    },
    {
     "name": "stdout",
     "output_type": "stream",
     "text": [
      "{'kd_loss': 32.493438720703125, 'feature_loss': 0.3736025094985962, 'ce_loss': 8.054673194885254, 'cont_loss': 2.1197872161865234, 'teacher_loss': 8.073150634765625, 'total_loss': 16.505943298339844}\n"
     ]
    },
    {
     "name": "stderr",
     "output_type": "stream",
     "text": [
      "Validating:  37%|███▋      | 88/235 [00:44<01:11,  2.06it/s, loss=16.4068, avg_loss=16.3614]"
     ]
    },
    {
     "name": "stdout",
     "output_type": "stream",
     "text": [
      "{'kd_loss': 32.49342727661133, 'feature_loss': 0.314172625541687, 'ce_loss': 7.831937789916992, 'cont_loss': 2.1385610103607178, 'teacher_loss': 8.097031593322754, 'total_loss': 16.406835556030273}\n"
     ]
    },
    {
     "name": "stderr",
     "output_type": "stream",
     "text": [
      "Validating:  38%|███▊      | 89/235 [00:45<01:10,  2.06it/s, loss=16.4703, avg_loss=16.3627]"
     ]
    },
    {
     "name": "stdout",
     "output_type": "stream",
     "text": [
      "{'kd_loss': 32.49312210083008, 'feature_loss': 0.3004108667373657, 'ce_loss': 7.981586933135986, 'cont_loss': 2.203709602355957, 'teacher_loss': 8.088349342346191, 'total_loss': 16.4703369140625}\n"
     ]
    },
    {
     "name": "stderr",
     "output_type": "stream",
     "text": [
      "Validating:  38%|███▊      | 90/235 [00:45<01:10,  2.06it/s, loss=16.5073, avg_loss=16.3643]"
     ]
    },
    {
     "name": "stdout",
     "output_type": "stream",
     "text": [
      "{'kd_loss': 32.492042541503906, 'feature_loss': 0.3135669231414795, 'ce_loss': 8.081417083740234, 'cont_loss': 2.151733636856079, 'teacher_loss': 8.08998966217041, 'total_loss': 16.507272720336914}\n"
     ]
    },
    {
     "name": "stderr",
     "output_type": "stream",
     "text": [
      "Validating:  39%|███▊      | 91/235 [00:46<01:09,  2.06it/s, loss=16.5145, avg_loss=16.3659]"
     ]
    },
    {
     "name": "stdout",
     "output_type": "stream",
     "text": [
      "{'kd_loss': 32.49262237548828, 'feature_loss': 0.28505128622055054, 'ce_loss': 8.070850372314453, 'cont_loss': 2.3210740089416504, 'teacher_loss': 8.095332145690918, 'total_loss': 16.514507293701172}\n"
     ]
    },
    {
     "name": "stderr",
     "output_type": "stream",
     "text": [
      "Validating:  39%|███▉      | 92/235 [00:46<01:09,  2.06it/s, loss=16.5695, avg_loss=16.3681]"
     ]
    },
    {
     "name": "stdout",
     "output_type": "stream",
     "text": [
      "{'kd_loss': 32.493736267089844, 'feature_loss': 0.2571296691894531, 'ce_loss': 8.251971244812012, 'cont_loss': 2.1975674629211426, 'teacher_loss': 8.104031562805176, 'total_loss': 16.56946563720703}\n"
     ]
    },
    {
     "name": "stderr",
     "output_type": "stream",
     "text": [
      "Validating:  40%|███▉      | 93/235 [00:47<01:08,  2.06it/s, loss=16.5036, avg_loss=16.3696]"
     ]
    },
    {
     "name": "stdout",
     "output_type": "stream",
     "text": [
      "{'kd_loss': 32.49486541748047, 'feature_loss': 0.3071359395980835, 'ce_loss': 8.069252967834473, 'cont_loss': 2.1651127338409424, 'teacher_loss': 8.083087921142578, 'total_loss': 16.503585815429688}\n"
     ]
    },
    {
     "name": "stderr",
     "output_type": "stream",
     "text": [
      "Validating:  40%|████      | 94/235 [00:47<01:08,  2.06it/s, loss=16.4538, avg_loss=16.3705]"
     ]
    },
    {
     "name": "stdout",
     "output_type": "stream",
     "text": [
      "{'kd_loss': 32.494300842285156, 'feature_loss': 0.2758803367614746, 'ce_loss': 7.916051864624023, 'cont_loss': 2.3451881408691406, 'teacher_loss': 8.090240478515625, 'total_loss': 16.453834533691406}\n"
     ]
    },
    {
     "name": "stderr",
     "output_type": "stream",
     "text": [
      "Validating:  40%|████      | 95/235 [00:48<01:07,  2.06it/s, loss=16.3991, avg_loss=16.3708]"
     ]
    },
    {
     "name": "stdout",
     "output_type": "stream",
     "text": [
      "{'kd_loss': 32.493709564208984, 'feature_loss': 0.3331151008605957, 'ce_loss': 7.7795491218566895, 'cont_loss': 2.231548547744751, 'teacher_loss': 8.091673851013184, 'total_loss': 16.399080276489258}\n"
     ]
    },
    {
     "name": "stderr",
     "output_type": "stream",
     "text": [
      "Validating:  41%|████      | 96/235 [00:48<01:07,  2.06it/s, loss=16.4967, avg_loss=16.3721]"
     ]
    },
    {
     "name": "stdout",
     "output_type": "stream",
     "text": [
      "{'kd_loss': 32.49512481689453, 'feature_loss': 0.29213154315948486, 'ce_loss': 8.04113483428955, 'cont_loss': 2.237551689147949, 'teacher_loss': 8.093311309814453, 'total_loss': 16.496685028076172}\n"
     ]
    },
    {
     "name": "stderr",
     "output_type": "stream",
     "text": [
      "Validating:  41%|████▏     | 97/235 [00:49<01:06,  2.07it/s, loss=16.4812, avg_loss=16.3732]"
     ]
    },
    {
     "name": "stdout",
     "output_type": "stream",
     "text": [
      "{'kd_loss': 32.492130279541016, 'feature_loss': 0.3011413812637329, 'ce_loss': 8.004793167114258, 'cont_loss': 2.2217726707458496, 'teacher_loss': 8.092928886413574, 'total_loss': 16.48117446899414}\n"
     ]
    },
    {
     "name": "stderr",
     "output_type": "stream",
     "text": [
      "Validating:  42%|████▏     | 98/235 [00:49<01:06,  2.06it/s, loss=16.5532, avg_loss=16.3751]"
     ]
    },
    {
     "name": "stdout",
     "output_type": "stream",
     "text": [
      "{'kd_loss': 32.4931640625, 'feature_loss': 0.33474409580230713, 'ce_loss': 8.122103691101074, 'cont_loss': 2.401458740234375, 'teacher_loss': 8.085155487060547, 'total_loss': 16.553203582763672}\n"
     ]
    },
    {
     "name": "stderr",
     "output_type": "stream",
     "text": [
      "Validating:  42%|████▏     | 99/235 [00:49<01:05,  2.06it/s, loss=16.4958, avg_loss=16.3763]"
     ]
    },
    {
     "name": "stdout",
     "output_type": "stream",
     "text": [
      "{'kd_loss': 32.49262237548828, 'feature_loss': 0.2995688319206238, 'ce_loss': 8.017973899841309, 'cont_loss': 2.316267251968384, 'teacher_loss': 8.089129447937012, 'total_loss': 16.495779037475586}\n"
     ]
    },
    {
     "name": "stderr",
     "output_type": "stream",
     "text": [
      "Validating:  43%|████▎     | 100/235 [00:50<01:05,  2.06it/s, loss=16.4421, avg_loss=16.3769]"
     ]
    },
    {
     "name": "stdout",
     "output_type": "stream",
     "text": [
      "{'kd_loss': 32.493412017822266, 'feature_loss': 0.2642720937728882, 'ce_loss': 7.8974223136901855, 'cont_loss': 2.329011917114258, 'teacher_loss': 8.109536170959473, 'total_loss': 16.442089080810547}\n"
     ]
    },
    {
     "name": "stderr",
     "output_type": "stream",
     "text": [
      "Validating:  43%|████▎     | 101/235 [00:50<01:04,  2.06it/s, loss=16.4763, avg_loss=16.3779]"
     ]
    },
    {
     "name": "stdout",
     "output_type": "stream",
     "text": [
      "{'kd_loss': 32.49277877807617, 'feature_loss': 0.2796058654785156, 'ce_loss': 7.978222846984863, 'cont_loss': 2.320040225982666, 'teacher_loss': 8.10262393951416, 'total_loss': 16.47632598876953}\n"
     ]
    },
    {
     "name": "stderr",
     "output_type": "stream",
     "text": [
      "Validating:  43%|████▎     | 102/235 [00:51<01:04,  2.06it/s, loss=16.5177, avg_loss=16.3793]"
     ]
    },
    {
     "name": "stdout",
     "output_type": "stream",
     "text": [
      "{'kd_loss': 32.492530822753906, 'feature_loss': 0.2540774345397949, 'ce_loss': 8.094345092773438, 'cont_loss': 2.321568012237549, 'teacher_loss': 8.104909896850586, 'total_loss': 16.517723083496094}\n"
     ]
    },
    {
     "name": "stderr",
     "output_type": "stream",
     "text": [
      "Validating:  44%|████▍     | 103/235 [00:51<01:03,  2.07it/s, loss=16.5447, avg_loss=16.3809]"
     ]
    },
    {
     "name": "stdout",
     "output_type": "stream",
     "text": [
      "{'kd_loss': 32.492774963378906, 'feature_loss': 0.2795480489730835, 'ce_loss': 8.104765892028809, 'cont_loss': 2.498220443725586, 'teacher_loss': 8.09688949584961, 'total_loss': 16.544748306274414}\n"
     ]
    },
    {
     "name": "stderr",
     "output_type": "stream",
     "text": [
      "Validating:  44%|████▍     | 104/235 [00:52<01:03,  2.06it/s, loss=16.5752, avg_loss=16.3828]"
     ]
    },
    {
     "name": "stdout",
     "output_type": "stream",
     "text": [
      "{'kd_loss': 32.492462158203125, 'feature_loss': 0.2705366611480713, 'ce_loss': 8.221274375915527, 'cont_loss': 2.3563923835754395, 'teacher_loss': 8.099183082580566, 'total_loss': 16.57524299621582}\n"
     ]
    },
    {
     "name": "stderr",
     "output_type": "stream",
     "text": [
      "Validating:  45%|████▍     | 105/235 [00:52<01:02,  2.07it/s, loss=16.4900, avg_loss=16.3838]"
     ]
    },
    {
     "name": "stdout",
     "output_type": "stream",
     "text": [
      "{'kd_loss': 32.493438720703125, 'feature_loss': 0.2754976749420166, 'ce_loss': 8.002142906188965, 'cont_loss': 2.366382122039795, 'teacher_loss': 8.095781326293945, 'total_loss': 16.489971160888672}\n"
     ]
    },
    {
     "name": "stderr",
     "output_type": "stream",
     "text": [
      "Validating:  45%|████▌     | 106/235 [00:53<01:02,  2.06it/s, loss=16.5850, avg_loss=16.3857]"
     ]
    },
    {
     "name": "stdout",
     "output_type": "stream",
     "text": [
      "{'kd_loss': 32.494483947753906, 'feature_loss': 0.33212047815322876, 'ce_loss': 8.168779373168945, 'cont_loss': 2.532384157180786, 'teacher_loss': 8.092000961303711, 'total_loss': 16.58496856689453}\n"
     ]
    },
    {
     "name": "stderr",
     "output_type": "stream",
     "text": [
      "Validating:  46%|████▌     | 107/235 [00:53<01:02,  2.06it/s, loss=16.3950, avg_loss=16.3858]"
     ]
    },
    {
     "name": "stdout",
     "output_type": "stream",
     "text": [
      "{'kd_loss': 32.494834899902344, 'feature_loss': 0.3584115505218506, 'ce_loss': 7.729020118713379, 'cont_loss': 2.3372671604156494, 'teacher_loss': 8.098042488098145, 'total_loss': 16.39495086669922}\n"
     ]
    },
    {
     "name": "stderr",
     "output_type": "stream",
     "text": [
      "Validating:  46%|████▌     | 108/235 [00:54<01:01,  2.07it/s, loss=16.4829, avg_loss=16.3867]"
     ]
    },
    {
     "name": "stdout",
     "output_type": "stream",
     "text": [
      "{'kd_loss': 32.49418258666992, 'feature_loss': 0.3269798755645752, 'ce_loss': 7.965424537658691, 'cont_loss': 2.336935520172119, 'teacher_loss': 8.091550827026367, 'total_loss': 16.482933044433594}\n"
     ]
    },
    {
     "name": "stderr",
     "output_type": "stream",
     "text": [
      "Validating:  46%|████▋     | 109/235 [00:54<01:00,  2.07it/s, loss=16.5240, avg_loss=16.3879]"
     ]
    },
    {
     "name": "stdout",
     "output_type": "stream",
     "text": [
      "{'kd_loss': 32.49331283569336, 'feature_loss': 0.2795562744140625, 'ce_loss': 8.049209594726562, 'cont_loss': 2.510772705078125, 'teacher_loss': 8.089496612548828, 'total_loss': 16.523998260498047}\n"
     ]
    },
    {
     "name": "stderr",
     "output_type": "stream",
     "text": [
      "Validating:  47%|████▋     | 110/235 [00:55<01:00,  2.07it/s, loss=16.4949, avg_loss=16.3889]"
     ]
    },
    {
     "name": "stdout",
     "output_type": "stream",
     "text": [
      "{'kd_loss': 32.493221282958984, 'feature_loss': 0.3205195665359497, 'ce_loss': 7.979162216186523, 'cont_loss': 2.4179465770721436, 'teacher_loss': 8.087868690490723, 'total_loss': 16.49485206604004}\n"
     ]
    },
    {
     "name": "stderr",
     "output_type": "stream",
     "text": [
      "Validating:  47%|████▋     | 111/235 [00:55<01:00,  2.06it/s, loss=16.5037, avg_loss=16.3899]"
     ]
    },
    {
     "name": "stdout",
     "output_type": "stream",
     "text": [
      "{'kd_loss': 32.49272155761719, 'feature_loss': 0.30401611328125, 'ce_loss': 8.005667686462402, 'cont_loss': 2.4349875450134277, 'teacher_loss': 8.097646713256836, 'total_loss': 16.5036563873291}\n"
     ]
    },
    {
     "name": "stderr",
     "output_type": "stream",
     "text": [
      "Validating:  48%|████▊     | 112/235 [00:56<00:59,  2.06it/s, loss=16.4976, avg_loss=16.3909]"
     ]
    },
    {
     "name": "stdout",
     "output_type": "stream",
     "text": [
      "{'kd_loss': 32.49437713623047, 'feature_loss': 0.36241090297698975, 'ce_loss': 7.966038227081299, 'cont_loss': 2.409351348876953, 'teacher_loss': 8.098166465759277, 'total_loss': 16.497583389282227}\n"
     ]
    },
    {
     "name": "stderr",
     "output_type": "stream",
     "text": [
      "Validating:  48%|████▊     | 113/235 [00:56<00:59,  2.06it/s, loss=16.4802, avg_loss=16.3917]"
     ]
    },
    {
     "name": "stdout",
     "output_type": "stream",
     "text": [
      "{'kd_loss': 32.49424743652344, 'feature_loss': 0.3016016483306885, 'ce_loss': 7.954195022583008, 'cont_loss': 2.4054183959960938, 'teacher_loss': 8.098586082458496, 'total_loss': 16.48023796081543}\n"
     ]
    },
    {
     "name": "stderr",
     "output_type": "stream",
     "text": [
      "Validating:  49%|████▊     | 114/235 [00:57<00:58,  2.06it/s, loss=16.5407, avg_loss=16.3930]"
     ]
    },
    {
     "name": "stdout",
     "output_type": "stream",
     "text": [
      "{'kd_loss': 32.49371337890625, 'feature_loss': 0.3418269753456116, 'ce_loss': 8.040781021118164, 'cont_loss': 2.5851879119873047, 'teacher_loss': 8.08697509765625, 'total_loss': 16.540679931640625}\n"
     ]
    },
    {
     "name": "stderr",
     "output_type": "stream",
     "text": [
      "Validating:  49%|████▉     | 115/235 [00:57<00:58,  2.06it/s, loss=16.6656, avg_loss=16.3954]"
     ]
    },
    {
     "name": "stdout",
     "output_type": "stream",
     "text": [
      "{'kd_loss': 32.493804931640625, 'feature_loss': 0.33338361978530884, 'ce_loss': 8.393497467041016, 'cont_loss': 2.4396584033966064, 'teacher_loss': 8.094797134399414, 'total_loss': 16.665563583374023}\n"
     ]
    },
    {
     "name": "stderr",
     "output_type": "stream",
     "text": [
      "Validating:  49%|████▉     | 116/235 [00:58<00:57,  2.07it/s, loss=16.5074, avg_loss=16.3963]"
     ]
    },
    {
     "name": "stdout",
     "output_type": "stream",
     "text": [
      "{'kd_loss': 32.492713928222656, 'feature_loss': 0.25791192054748535, 'ce_loss': 8.028848648071289, 'cont_loss': 2.472388982772827, 'teacher_loss': 8.093729972839355, 'total_loss': 16.5074462890625}\n"
     ]
    },
    {
     "name": "stderr",
     "output_type": "stream",
     "text": [
      "Validating:  50%|████▉     | 117/235 [00:58<00:57,  2.06it/s, loss=16.5290, avg_loss=16.3975]"
     ]
    },
    {
     "name": "stdout",
     "output_type": "stream",
     "text": [
      "{'kd_loss': 32.494632720947266, 'feature_loss': 0.32135891914367676, 'ce_loss': 8.038558959960938, 'cont_loss': 2.514240264892578, 'teacher_loss': 8.080233573913574, 'total_loss': 16.528974533081055}\n"
     ]
    },
    {
     "name": "stderr",
     "output_type": "stream",
     "text": [
      "Validating:  50%|█████     | 118/235 [00:59<00:56,  2.06it/s, loss=16.5434, avg_loss=16.3987]"
     ]
    },
    {
     "name": "stdout",
     "output_type": "stream",
     "text": [
      "{'kd_loss': 32.49263381958008, 'feature_loss': 0.32271552085876465, 'ce_loss': 8.085739135742188, 'cont_loss': 2.475020408630371, 'teacher_loss': 8.086138725280762, 'total_loss': 16.543394088745117}\n"
     ]
    },
    {
     "name": "stderr",
     "output_type": "stream",
     "text": [
      "Validating:  51%|█████     | 119/235 [00:59<00:56,  2.06it/s, loss=16.5306, avg_loss=16.3998]"
     ]
    },
    {
     "name": "stdout",
     "output_type": "stream",
     "text": [
      "{'kd_loss': 32.49388885498047, 'feature_loss': 0.284914493560791, 'ce_loss': 8.06619644165039, 'cont_loss': 2.49605393409729, 'teacher_loss': 8.082724571228027, 'total_loss': 16.530622482299805}\n"
     ]
    },
    {
     "name": "stderr",
     "output_type": "stream",
     "text": [
      "Validating:  51%|█████     | 120/235 [01:00<00:55,  2.07it/s, loss=16.5684, avg_loss=16.4012]"
     ]
    },
    {
     "name": "stdout",
     "output_type": "stream",
     "text": [
      "{'kd_loss': 32.4918212890625, 'feature_loss': 0.35893750190734863, 'ce_loss': 8.115885734558105, 'cont_loss': 2.5349669456481934, 'teacher_loss': 8.09699821472168, 'total_loss': 16.56836700439453}\n"
     ]
    },
    {
     "name": "stderr",
     "output_type": "stream",
     "text": [
      "Validating:  51%|█████▏    | 121/235 [01:00<00:55,  2.06it/s, loss=16.5694, avg_loss=16.4026]"
     ]
    },
    {
     "name": "stdout",
     "output_type": "stream",
     "text": [
      "{'kd_loss': 32.49307632446289, 'feature_loss': 0.2964943051338196, 'ce_loss': 8.146449089050293, 'cont_loss': 2.543173313140869, 'teacher_loss': 8.100006103515625, 'total_loss': 16.569427490234375}\n"
     ]
    },
    {
     "name": "stderr",
     "output_type": "stream",
     "text": [
      "Validating:  52%|█████▏    | 122/235 [01:01<00:54,  2.06it/s, loss=16.4731, avg_loss=16.4032]"
     ]
    },
    {
     "name": "stdout",
     "output_type": "stream",
     "text": [
      "{'kd_loss': 32.49354553222656, 'feature_loss': 0.3027336001396179, 'ce_loss': 7.896720886230469, 'cont_loss': 2.564009189605713, 'teacher_loss': 8.105382919311523, 'total_loss': 16.473054885864258}\n"
     ]
    },
    {
     "name": "stderr",
     "output_type": "stream",
     "text": [
      "Validating:  52%|█████▏    | 123/235 [01:01<00:54,  2.06it/s, loss=16.5757, avg_loss=16.4046]"
     ]
    },
    {
     "name": "stdout",
     "output_type": "stream",
     "text": [
      "{'kd_loss': 32.49425506591797, 'feature_loss': 0.29308998584747314, 'ce_loss': 8.133054733276367, 'cont_loss': 2.6620755195617676, 'teacher_loss': 8.093132972717285, 'total_loss': 16.575748443603516}\n"
     ]
    },
    {
     "name": "stderr",
     "output_type": "stream",
     "text": [
      "Validating:  53%|█████▎    | 124/235 [01:02<00:53,  2.06it/s, loss=16.5764, avg_loss=16.4060]"
     ]
    },
    {
     "name": "stdout",
     "output_type": "stream",
     "text": [
      "{'kd_loss': 32.49291229248047, 'feature_loss': 0.2980310916900635, 'ce_loss': 8.175432205200195, 'cont_loss': 2.494197368621826, 'teacher_loss': 8.082914352416992, 'total_loss': 16.576364517211914}\n"
     ]
    },
    {
     "name": "stderr",
     "output_type": "stream",
     "text": [
      "Validating:  53%|█████▎    | 125/235 [01:02<00:53,  2.06it/s, loss=16.5453, avg_loss=16.4071]"
     ]
    },
    {
     "name": "stdout",
     "output_type": "stream",
     "text": [
      "{'kd_loss': 32.49337387084961, 'feature_loss': 0.29680705070495605, 'ce_loss': 8.055150032043457, 'cont_loss': 2.665053367614746, 'teacher_loss': 8.091238975524902, 'total_loss': 16.545276641845703}\n"
     ]
    },
    {
     "name": "stderr",
     "output_type": "stream",
     "text": [
      "Validating:  54%|█████▎    | 126/235 [01:03<00:52,  2.06it/s, loss=16.4821, avg_loss=16.4077]"
     ]
    },
    {
     "name": "stdout",
     "output_type": "stream",
     "text": [
      "{'kd_loss': 32.49359130859375, 'feature_loss': 0.28999650478363037, 'ce_loss': 7.931588172912598, 'cont_loss': 2.540452003479004, 'teacher_loss': 8.101166725158691, 'total_loss': 16.48211669921875}\n"
     ]
    },
    {
     "name": "stderr",
     "output_type": "stream",
     "text": [
      "Validating:  54%|█████▍    | 127/235 [01:03<00:52,  2.07it/s, loss=16.5701, avg_loss=16.4090]"
     ]
    },
    {
     "name": "stdout",
     "output_type": "stream",
     "text": [
      "{'kd_loss': 32.494346618652344, 'feature_loss': 0.3441576361656189, 'ce_loss': 8.106256484985352, 'cont_loss': 2.6106224060058594, 'teacher_loss': 8.082258224487305, 'total_loss': 16.57013511657715}\n"
     ]
    },
    {
     "name": "stderr",
     "output_type": "stream",
     "text": [
      "Validating:  54%|█████▍    | 128/235 [01:04<00:51,  2.06it/s, loss=16.4088, avg_loss=16.4090]"
     ]
    },
    {
     "name": "stdout",
     "output_type": "stream",
     "text": [
      "{'kd_loss': 32.494117736816406, 'feature_loss': 0.30525243282318115, 'ce_loss': 7.7332258224487305, 'cont_loss': 2.567753791809082, 'teacher_loss': 8.085957527160645, 'total_loss': 16.408763885498047}\n"
     ]
    },
    {
     "name": "stderr",
     "output_type": "stream",
     "text": [
      "Validating:  55%|█████▍    | 129/235 [01:04<00:51,  2.07it/s, loss=16.5311, avg_loss=16.4099]"
     ]
    },
    {
     "name": "stdout",
     "output_type": "stream",
     "text": [
      "{'kd_loss': 32.492706298828125, 'feature_loss': 0.28698819875717163, 'ce_loss': 8.035712242126465, 'cont_loss': 2.6230227947235107, 'teacher_loss': 8.097458839416504, 'total_loss': 16.53106689453125}\n"
     ]
    },
    {
     "name": "stderr",
     "output_type": "stream",
     "text": [
      "Validating:  55%|█████▌    | 130/235 [01:04<00:50,  2.07it/s, loss=16.5994, avg_loss=16.4114]"
     ]
    },
    {
     "name": "stdout",
     "output_type": "stream",
     "text": [
      "{'kd_loss': 32.493896484375, 'feature_loss': 0.27682292461395264, 'ce_loss': 8.176616668701172, 'cont_loss': 2.7581558227539062, 'teacher_loss': 8.09330940246582, 'total_loss': 16.59938621520996}\n"
     ]
    },
    {
     "name": "stderr",
     "output_type": "stream",
     "text": [
      "Validating:  56%|█████▌    | 131/235 [01:05<00:50,  2.07it/s, loss=16.6064, avg_loss=16.4128]"
     ]
    },
    {
     "name": "stdout",
     "output_type": "stream",
     "text": [
      "{'kd_loss': 32.49319076538086, 'feature_loss': 0.3184172511100769, 'ce_loss': 8.163997650146484, 'cont_loss': 2.798797607421875, 'teacher_loss': 8.09583568572998, 'total_loss': 16.6064395904541}\n"
     ]
    },
    {
     "name": "stderr",
     "output_type": "stream",
     "text": [
      "Validating:  56%|█████▌    | 132/235 [01:05<00:49,  2.06it/s, loss=16.4783, avg_loss=16.4133]"
     ]
    },
    {
     "name": "stdout",
     "output_type": "stream",
     "text": [
      "{'kd_loss': 32.49253845214844, 'feature_loss': 0.29041457176208496, 'ce_loss': 7.906360149383545, 'cont_loss': 2.606799602508545, 'teacher_loss': 8.102105140686035, 'total_loss': 16.478321075439453}\n"
     ]
    },
    {
     "name": "stderr",
     "output_type": "stream",
     "text": [
      "Validating:  57%|█████▋    | 133/235 [01:06<00:49,  2.07it/s, loss=16.6095, avg_loss=16.4148]"
     ]
    },
    {
     "name": "stdout",
     "output_type": "stream",
     "text": [
      "{'kd_loss': 32.49388885498047, 'feature_loss': 0.3054560422897339, 'ce_loss': 8.222954750061035, 'cont_loss': 2.6164073944091797, 'teacher_loss': 8.086943626403809, 'total_loss': 16.60947036743164}\n"
     ]
    },
    {
     "name": "stderr",
     "output_type": "stream",
     "text": [
      "Validating:  57%|█████▋    | 134/235 [01:06<00:48,  2.07it/s, loss=16.5562, avg_loss=16.4159]"
     ]
    },
    {
     "name": "stdout",
     "output_type": "stream",
     "text": [
      "{'kd_loss': 32.492252349853516, 'feature_loss': 0.2989943027496338, 'ce_loss': 8.055566787719727, 'cont_loss': 2.7724661827087402, 'teacher_loss': 8.095229148864746, 'total_loss': 16.55617332458496}\n"
     ]
    },
    {
     "name": "stderr",
     "output_type": "stream",
     "text": [
      "Validating:  57%|█████▋    | 135/235 [01:07<00:48,  2.07it/s, loss=16.6992, avg_loss=16.4180]"
     ]
    },
    {
     "name": "stdout",
     "output_type": "stream",
     "text": [
      "{'kd_loss': 32.49306106567383, 'feature_loss': 0.32575011253356934, 'ce_loss': 8.359307289123535, 'cont_loss': 2.9309420585632324, 'teacher_loss': 8.082942962646484, 'total_loss': 16.69919204711914}\n"
     ]
    },
    {
     "name": "stderr",
     "output_type": "stream",
     "text": [
      "Validating:  58%|█████▊    | 136/235 [01:07<00:47,  2.07it/s, loss=16.5512, avg_loss=16.4190]"
     ]
    },
    {
     "name": "stdout",
     "output_type": "stream",
     "text": [
      "{'kd_loss': 32.492950439453125, 'feature_loss': 0.2827697992324829, 'ce_loss': 8.084375381469727, 'cont_loss': 2.6374564170837402, 'teacher_loss': 8.094504356384277, 'total_loss': 16.55122947692871}\n"
     ]
    },
    {
     "name": "stderr",
     "output_type": "stream",
     "text": [
      "Validating:  58%|█████▊    | 137/235 [01:08<00:47,  2.07it/s, loss=16.5495, avg_loss=16.4199]"
     ]
    },
    {
     "name": "stdout",
     "output_type": "stream",
     "text": [
      "{'kd_loss': 32.49272537231445, 'feature_loss': 0.3280351161956787, 'ce_loss': 8.046372413635254, 'cont_loss': 2.6825883388519287, 'teacher_loss': 8.089569091796875, 'total_loss': 16.54950523376465}\n"
     ]
    },
    {
     "name": "stderr",
     "output_type": "stream",
     "text": [
      "Validating:  59%|█████▊    | 138/235 [01:08<00:46,  2.07it/s, loss=16.5105, avg_loss=16.4206]"
     ]
    },
    {
     "name": "stdout",
     "output_type": "stream",
     "text": [
      "{'kd_loss': 32.49241638183594, 'feature_loss': 0.29894447326660156, 'ce_loss': 7.957364559173584, 'cont_loss': 2.7082619667053223, 'teacher_loss': 8.093461990356445, 'total_loss': 16.510526657104492}\n"
     ]
    },
    {
     "name": "stderr",
     "output_type": "stream",
     "text": [
      "Validating:  59%|█████▉    | 139/235 [01:09<00:46,  2.07it/s, loss=16.5528, avg_loss=16.4215]"
     ]
    },
    {
     "name": "stdout",
     "output_type": "stream",
     "text": [
      "{'kd_loss': 32.493194580078125, 'feature_loss': 0.33336156606674194, 'ce_loss': 8.008150100708008, 'cont_loss': 2.8555006980895996, 'teacher_loss': 8.081266403198242, 'total_loss': 16.552759170532227}\n"
     ]
    },
    {
     "name": "stderr",
     "output_type": "stream",
     "text": [
      "Validating:  60%|█████▉    | 140/235 [01:09<00:45,  2.07it/s, loss=16.5213, avg_loss=16.4222]"
     ]
    },
    {
     "name": "stdout",
     "output_type": "stream",
     "text": [
      "{'kd_loss': 32.49442672729492, 'feature_loss': 0.3134409785270691, 'ce_loss': 7.982676982879639, 'cont_loss': 2.677346706390381, 'teacher_loss': 8.10226821899414, 'total_loss': 16.521265029907227}\n"
     ]
    },
    {
     "name": "stderr",
     "output_type": "stream",
     "text": [
      "Validating:  60%|██████    | 141/235 [01:10<00:45,  2.07it/s, loss=16.5565, avg_loss=16.4232]"
     ]
    },
    {
     "name": "stdout",
     "output_type": "stream",
     "text": [
      "{'kd_loss': 32.494476318359375, 'feature_loss': 0.3216656446456909, 'ce_loss': 8.066365242004395, 'cont_loss': 2.6785364151000977, 'teacher_loss': 8.087257385253906, 'total_loss': 16.556522369384766}\n"
     ]
    },
    {
     "name": "stderr",
     "output_type": "stream",
     "text": [
      "Validating:  60%|██████    | 142/235 [01:10<00:44,  2.07it/s, loss=16.6098, avg_loss=16.4245]"
     ]
    },
    {
     "name": "stdout",
     "output_type": "stream",
     "text": [
      "{'kd_loss': 32.49177932739258, 'feature_loss': 0.31905829906463623, 'ce_loss': 8.15120792388916, 'cont_loss': 2.8877675533294678, 'teacher_loss': 8.09803295135498, 'total_loss': 16.609783172607422}\n"
     ]
    },
    {
     "name": "stderr",
     "output_type": "stream",
     "text": [
      "Validating:  61%|██████    | 143/235 [01:11<00:44,  2.07it/s, loss=16.5272, avg_loss=16.4252]"
     ]
    },
    {
     "name": "stdout",
     "output_type": "stream",
     "text": [
      "{'kd_loss': 32.494049072265625, 'feature_loss': 0.3461598753929138, 'ce_loss': 7.96489953994751, 'cont_loss': 2.7442798614501953, 'teacher_loss': 8.082902908325195, 'total_loss': 16.527238845825195}\n"
     ]
    },
    {
     "name": "stderr",
     "output_type": "stream",
     "text": [
      "Validating:  61%|██████▏   | 144/235 [01:11<00:44,  2.06it/s, loss=16.5837, avg_loss=16.4263]"
     ]
    },
    {
     "name": "stdout",
     "output_type": "stream",
     "text": [
      "{'kd_loss': 32.49427032470703, 'feature_loss': 0.3023436665534973, 'ce_loss': 8.124228477478027, 'cont_loss': 2.758176803588867, 'teacher_loss': 8.085044860839844, 'total_loss': 16.58368682861328}\n"
     ]
    },
    {
     "name": "stderr",
     "output_type": "stream",
     "text": [
      "Validating:  62%|██████▏   | 145/235 [01:12<00:43,  2.06it/s, loss=16.6062, avg_loss=16.4275]"
     ]
    },
    {
     "name": "stdout",
     "output_type": "stream",
     "text": [
      "{'kd_loss': 32.493431091308594, 'feature_loss': 0.32588624954223633, 'ce_loss': 8.130769729614258, 'cont_loss': 2.9134268760681152, 'teacher_loss': 8.088701248168945, 'total_loss': 16.606199264526367}\n"
     ]
    },
    {
     "name": "stderr",
     "output_type": "stream",
     "text": [
      "Validating:  62%|██████▏   | 146/235 [01:12<00:43,  2.07it/s, loss=16.6526, avg_loss=16.4291]"
     ]
    },
    {
     "name": "stdout",
     "output_type": "stream",
     "text": [
      "{'kd_loss': 32.49403381347656, 'feature_loss': 0.3068944215774536, 'ce_loss': 8.256304740905762, 'cont_loss': 2.911128044128418, 'teacher_loss': 8.083898544311523, 'total_loss': 16.65262794494629}\n"
     ]
    },
    {
     "name": "stderr",
     "output_type": "stream",
     "text": [
      "Validating:  63%|██████▎   | 147/235 [01:13<00:42,  2.07it/s, loss=16.5377, avg_loss=16.4298]"
     ]
    },
    {
     "name": "stdout",
     "output_type": "stream",
     "text": [
      "{'kd_loss': 32.49360656738281, 'feature_loss': 0.311809778213501, 'ce_loss': 7.967979431152344, 'cont_loss': 2.906682014465332, 'teacher_loss': 8.086518287658691, 'total_loss': 16.53766441345215}\n"
     ]
    },
    {
     "name": "stderr",
     "output_type": "stream",
     "text": [
      "Validating:  63%|██████▎   | 148/235 [01:13<00:42,  2.07it/s, loss=16.6343, avg_loss=16.4312]"
     ]
    },
    {
     "name": "stdout",
     "output_type": "stream",
     "text": [
      "{'kd_loss': 32.49195861816406, 'feature_loss': 0.3207956552505493, 'ce_loss': 8.206171035766602, 'cont_loss': 2.9089608192443848, 'teacher_loss': 8.090094566345215, 'total_loss': 16.634305953979492}\n"
     ]
    },
    {
     "name": "stderr",
     "output_type": "stream",
     "text": [
      "Validating:  63%|██████▎   | 149/235 [01:14<00:41,  2.07it/s, loss=16.5795, avg_loss=16.4322]"
     ]
    },
    {
     "name": "stdout",
     "output_type": "stream",
     "text": [
      "{'kd_loss': 32.492454528808594, 'feature_loss': 0.3048090934753418, 'ce_loss': 8.096875190734863, 'cont_loss': 2.8283658027648926, 'teacher_loss': 8.090481758117676, 'total_loss': 16.579530715942383}\n"
     ]
    },
    {
     "name": "stderr",
     "output_type": "stream",
     "text": [
      "Validating:  64%|██████▍   | 150/235 [01:14<00:41,  2.07it/s, loss=16.5716, avg_loss=16.4331]"
     ]
    },
    {
     "name": "stdout",
     "output_type": "stream",
     "text": [
      "{'kd_loss': 32.49296569824219, 'feature_loss': 0.3098001480102539, 'ce_loss': 8.078400611877441, 'cont_loss': 2.810565233230591, 'teacher_loss': 8.096755027770996, 'total_loss': 16.571563720703125}\n"
     ]
    },
    {
     "name": "stderr",
     "output_type": "stream",
     "text": [
      "Validating:  64%|██████▍   | 151/235 [01:15<00:40,  2.07it/s, loss=16.6234, avg_loss=16.4344]"
     ]
    },
    {
     "name": "stdout",
     "output_type": "stream",
     "text": [
      "{'kd_loss': 32.49317932128906, 'feature_loss': 0.3241426944732666, 'ce_loss': 8.15155029296875, 'cont_loss': 3.006957530975342, 'teacher_loss': 8.087198257446289, 'total_loss': 16.623414993286133}\n"
     ]
    },
    {
     "name": "stderr",
     "output_type": "stream",
     "text": [
      "Validating:  65%|██████▍   | 152/235 [01:15<00:40,  2.06it/s, loss=16.5992, avg_loss=16.4355]"
     ]
    },
    {
     "name": "stdout",
     "output_type": "stream",
     "text": [
      "{'kd_loss': 32.49296188354492, 'feature_loss': 0.3238123655319214, 'ce_loss': 8.124103546142578, 'cont_loss': 2.8758726119995117, 'teacher_loss': 8.086732864379883, 'total_loss': 16.59917640686035}\n"
     ]
    },
    {
     "name": "stderr",
     "output_type": "stream",
     "text": [
      "Validating:  65%|██████▌   | 153/235 [01:16<00:39,  2.06it/s, loss=16.6339, avg_loss=16.4368]"
     ]
    },
    {
     "name": "stdout",
     "output_type": "stream",
     "text": [
      "{'kd_loss': 32.49334716796875, 'feature_loss': 0.3191089630126953, 'ce_loss': 8.18669319152832, 'cont_loss': 2.980983018875122, 'teacher_loss': 8.091968536376953, 'total_loss': 16.633935928344727}\n"
     ]
    },
    {
     "name": "stderr",
     "output_type": "stream",
     "text": [
      "Validating:  66%|██████▌   | 154/235 [01:16<00:39,  2.06it/s, loss=16.6766, avg_loss=16.4383]"
     ]
    },
    {
     "name": "stdout",
     "output_type": "stream",
     "text": [
      "{'kd_loss': 32.49355697631836, 'feature_loss': 0.33762168884277344, 'ce_loss': 8.272881507873535, 'cont_loss': 3.0251405239105225, 'teacher_loss': 8.081514358520508, 'total_loss': 16.676612854003906}\n"
     ]
    },
    {
     "name": "stderr",
     "output_type": "stream",
     "text": [
      "Validating:  66%|██████▌   | 155/235 [01:17<00:38,  2.07it/s, loss=16.5277, avg_loss=16.4389]"
     ]
    },
    {
     "name": "stdout",
     "output_type": "stream",
     "text": [
      "{'kd_loss': 32.49256134033203, 'feature_loss': 0.36309123039245605, 'ce_loss': 7.922499179840088, 'cont_loss': 2.890620231628418, 'teacher_loss': 8.093475341796875, 'total_loss': 16.527706146240234}\n"
     ]
    },
    {
     "name": "stderr",
     "output_type": "stream",
     "text": [
      "Validating:  66%|██████▋   | 156/235 [01:17<00:38,  2.07it/s, loss=16.6422, avg_loss=16.4402]"
     ]
    },
    {
     "name": "stdout",
     "output_type": "stream",
     "text": [
      "{'kd_loss': 32.49254608154297, 'feature_loss': 0.3400695323944092, 'ce_loss': 8.215618133544922, 'cont_loss': 2.9093942642211914, 'teacher_loss': 8.084280967712402, 'total_loss': 16.64221954345703}\n"
     ]
    },
    {
     "name": "stderr",
     "output_type": "stream",
     "text": [
      "Validating:  67%|██████▋   | 157/235 [01:18<00:37,  2.06it/s, loss=16.6542, avg_loss=16.4416]"
     ]
    },
    {
     "name": "stdout",
     "output_type": "stream",
     "text": [
      "{'kd_loss': 32.49248123168945, 'feature_loss': 0.33239853382110596, 'ce_loss': 8.203437805175781, 'cont_loss': 3.093292236328125, 'teacher_loss': 8.08641242980957, 'total_loss': 16.654178619384766}\n"
     ]
    },
    {
     "name": "stderr",
     "output_type": "stream",
     "text": [
      "Validating:  67%|██████▋   | 158/235 [01:18<00:37,  2.07it/s, loss=16.6467, avg_loss=16.4429]"
     ]
    },
    {
     "name": "stdout",
     "output_type": "stream",
     "text": [
      "{'kd_loss': 32.49408721923828, 'feature_loss': 0.33861756324768066, 'ce_loss': 8.225082397460938, 'cont_loss': 2.913222074508667, 'teacher_loss': 8.085410118103027, 'total_loss': 16.646713256835938}\n"
     ]
    },
    {
     "name": "stderr",
     "output_type": "stream",
     "text": [
      "Validating:  68%|██████▊   | 159/235 [01:19<00:36,  2.06it/s, loss=16.6373, avg_loss=16.4441]"
     ]
    },
    {
     "name": "stdout",
     "output_type": "stream",
     "text": [
      "{'kd_loss': 32.49263000488281, 'feature_loss': 0.31876468658447266, 'ce_loss': 8.181185722351074, 'cont_loss': 3.0398454666137695, 'teacher_loss': 8.094319343566895, 'total_loss': 16.63726234436035}\n"
     ]
    },
    {
     "name": "stderr",
     "output_type": "stream",
     "text": [
      "Validating:  68%|██████▊   | 160/235 [01:19<00:36,  2.07it/s, loss=16.6093, avg_loss=16.4451]"
     ]
    },
    {
     "name": "stdout",
     "output_type": "stream",
     "text": [
      "{'kd_loss': 32.492881774902344, 'feature_loss': 0.3266981840133667, 'ce_loss': 8.137484550476074, 'cont_loss': 2.918280601501465, 'teacher_loss': 8.088959693908691, 'total_loss': 16.609315872192383}\n"
     ]
    },
    {
     "name": "stderr",
     "output_type": "stream",
     "text": [
      "Validating:  69%|██████▊   | 161/235 [01:20<00:35,  2.06it/s, loss=16.5822, avg_loss=16.4460]"
     ]
    },
    {
     "name": "stdout",
     "output_type": "stream",
     "text": [
      "{'kd_loss': 32.493045806884766, 'feature_loss': 0.3129763603210449, 'ce_loss': 8.071982383728027, 'cont_loss': 2.9361720085144043, 'teacher_loss': 8.08851146697998, 'total_loss': 16.582223892211914}\n"
     ]
    },
    {
     "name": "stderr",
     "output_type": "stream",
     "text": [
      "Validating:  69%|██████▉   | 162/235 [01:20<00:35,  2.06it/s, loss=16.5391, avg_loss=16.4466]"
     ]
    },
    {
     "name": "stdout",
     "output_type": "stream",
     "text": [
      "{'kd_loss': 32.492919921875, 'feature_loss': 0.3260728120803833, 'ce_loss': 7.952422142028809, 'cont_loss': 2.957716941833496, 'teacher_loss': 8.094844818115234, 'total_loss': 16.53912353515625}\n"
     ]
    },
    {
     "name": "stderr",
     "output_type": "stream",
     "text": [
      "Validating:  69%|██████▉   | 163/235 [01:20<00:34,  2.06it/s, loss=16.5721, avg_loss=16.4473]"
     ]
    },
    {
     "name": "stdout",
     "output_type": "stream",
     "text": [
      "{'kd_loss': 32.49375915527344, 'feature_loss': 0.3309561610221863, 'ce_loss': 8.03125, 'cont_loss': 2.9588539600372314, 'teacher_loss': 8.089138984680176, 'total_loss': 16.572080612182617}\n"
     ]
    },
    {
     "name": "stderr",
     "output_type": "stream",
     "text": [
      "Validating:  70%|██████▉   | 164/235 [01:21<00:34,  2.06it/s, loss=16.6357, avg_loss=16.4485]"
     ]
    },
    {
     "name": "stdout",
     "output_type": "stream",
     "text": [
      "{'kd_loss': 32.49284362792969, 'feature_loss': 0.3167096972465515, 'ce_loss': 8.149066925048828, 'cont_loss': 3.15592360496521, 'teacher_loss': 8.091134071350098, 'total_loss': 16.635698318481445}\n"
     ]
    },
    {
     "name": "stderr",
     "output_type": "stream",
     "text": [
      "Validating:  70%|███████   | 165/235 [01:21<00:33,  2.06it/s, loss=16.6389, avg_loss=16.4496]"
     ]
    },
    {
     "name": "stdout",
     "output_type": "stream",
     "text": [
      "{'kd_loss': 32.49211502075195, 'feature_loss': 0.33361053466796875, 'ce_loss': 8.193097114562988, 'cont_loss': 2.980449676513672, 'teacher_loss': 8.081969261169434, 'total_loss': 16.638851165771484}\n"
     ]
    },
    {
     "name": "stderr",
     "output_type": "stream",
     "text": [
      "Validating:  71%|███████   | 166/235 [01:22<00:33,  2.06it/s, loss=16.6470, avg_loss=16.4508]"
     ]
    },
    {
     "name": "stdout",
     "output_type": "stream",
     "text": [
      "{'kd_loss': 32.493988037109375, 'feature_loss': 0.31305795907974243, 'ce_loss': 8.218345642089844, 'cont_loss': 2.9941182136535645, 'teacher_loss': 8.081653594970703, 'total_loss': 16.646957397460938}\n"
     ]
    },
    {
     "name": "stderr",
     "output_type": "stream",
     "text": [
      "Validating:  71%|███████   | 167/235 [01:22<00:32,  2.06it/s, loss=16.6033, avg_loss=16.4517]"
     ]
    },
    {
     "name": "stdout",
     "output_type": "stream",
     "text": [
      "{'kd_loss': 32.493656158447266, 'feature_loss': 0.3221052885055542, 'ce_loss': 8.107693672180176, 'cont_loss': 2.9833927154541016, 'teacher_loss': 8.085365295410156, 'total_loss': 16.603300094604492}\n"
     ]
    },
    {
     "name": "stderr",
     "output_type": "stream",
     "text": [
      "Validating:  71%|███████▏  | 168/235 [01:23<00:32,  2.06it/s, loss=16.5671, avg_loss=16.4524]"
     ]
    },
    {
     "name": "stdout",
     "output_type": "stream",
     "text": [
      "{'kd_loss': 32.493507385253906, 'feature_loss': 0.29961568117141724, 'ce_loss': 8.031437873840332, 'cont_loss': 2.9723026752471924, 'teacher_loss': 8.089275360107422, 'total_loss': 16.56713104248047}\n"
     ]
    },
    {
     "name": "stderr",
     "output_type": "stream",
     "text": [
      "Validating:  72%|███████▏  | 169/235 [01:23<00:32,  2.06it/s, loss=16.6648, avg_loss=16.4537]"
     ]
    },
    {
     "name": "stdout",
     "output_type": "stream",
     "text": [
      "{'kd_loss': 32.493507385253906, 'feature_loss': 0.3239086866378784, 'ce_loss': 8.214258193969727, 'cont_loss': 3.169025421142578, 'teacher_loss': 8.095906257629395, 'total_loss': 16.664791107177734}\n"
     ]
    },
    {
     "name": "stderr",
     "output_type": "stream",
     "text": [
      "Validating:  72%|███████▏  | 170/235 [01:24<00:31,  2.06it/s, loss=16.5742, avg_loss=16.4544]"
     ]
    },
    {
     "name": "stdout",
     "output_type": "stream",
     "text": [
      "{'kd_loss': 32.492767333984375, 'feature_loss': 0.3199616074562073, 'ce_loss': 8.025888442993164, 'cont_loss': 3.0272090435028076, 'teacher_loss': 8.096476554870605, 'total_loss': 16.574176788330078}\n"
     ]
    },
    {
     "name": "stderr",
     "output_type": "stream",
     "text": [
      "Validating:  73%|███████▎  | 171/235 [01:24<00:31,  2.06it/s, loss=16.6210, avg_loss=16.4554]"
     ]
    },
    {
     "name": "stdout",
     "output_type": "stream",
     "text": [
      "{'kd_loss': 32.494110107421875, 'feature_loss': 0.30859529972076416, 'ce_loss': 8.149250984191895, 'cont_loss': 3.019073247909546, 'teacher_loss': 8.08116340637207, 'total_loss': 16.620969772338867}\n"
     ]
    },
    {
     "name": "stderr",
     "output_type": "stream",
     "text": [
      "Validating:  73%|███████▎  | 172/235 [01:25<00:30,  2.06it/s, loss=16.6731, avg_loss=16.4566]"
     ]
    },
    {
     "name": "stdout",
     "output_type": "stream",
     "text": [
      "{'kd_loss': 32.49240493774414, 'feature_loss': 0.3076131343841553, 'ce_loss': 8.265449523925781, 'cont_loss': 3.084580421447754, 'teacher_loss': 8.083467483520508, 'total_loss': 16.67312240600586}\n"
     ]
    },
    {
     "name": "stderr",
     "output_type": "stream",
     "text": [
      "Validating:  74%|███████▎  | 173/235 [01:25<00:30,  2.06it/s, loss=16.6610, avg_loss=16.4578]"
     ]
    },
    {
     "name": "stdout",
     "output_type": "stream",
     "text": [
      "{'kd_loss': 32.492530822753906, 'feature_loss': 0.3219285011291504, 'ce_loss': 8.235509872436523, 'cont_loss': 3.053783416748047, 'teacher_loss': 8.093049049377441, 'total_loss': 16.660980224609375}\n"
     ]
    },
    {
     "name": "stderr",
     "output_type": "stream",
     "text": [
      "Validating:  74%|███████▍  | 174/235 [01:26<00:29,  2.06it/s, loss=16.5936, avg_loss=16.4586]"
     ]
    },
    {
     "name": "stdout",
     "output_type": "stream",
     "text": [
      "{'kd_loss': 32.492332458496094, 'feature_loss': 0.32289445400238037, 'ce_loss': 8.071910858154297, 'cont_loss': 3.032790184020996, 'teacher_loss': 8.098280906677246, 'total_loss': 16.593555450439453}\n"
     ]
    },
    {
     "name": "stderr",
     "output_type": "stream",
     "text": [
      "Validating:  74%|███████▍  | 175/235 [01:26<00:29,  2.06it/s, loss=16.6212, avg_loss=16.4595]"
     ]
    },
    {
     "name": "stdout",
     "output_type": "stream",
     "text": [
      "{'kd_loss': 32.49306869506836, 'feature_loss': 0.3096913695335388, 'ce_loss': 8.13767147064209, 'cont_loss': 3.069922685623169, 'teacher_loss': 8.089442253112793, 'total_loss': 16.621225357055664}\n"
     ]
    },
    {
     "name": "stderr",
     "output_type": "stream",
     "text": [
      "Validating:  75%|███████▍  | 176/235 [01:27<00:28,  2.06it/s, loss=16.5946, avg_loss=16.4603]"
     ]
    },
    {
     "name": "stdout",
     "output_type": "stream",
     "text": [
      "{'kd_loss': 32.49245834350586, 'feature_loss': 0.32263338565826416, 'ce_loss': 8.016146659851074, 'cont_loss': 3.2660341262817383, 'teacher_loss': 8.090048789978027, 'total_loss': 16.594572067260742}\n"
     ]
    },
    {
     "name": "stderr",
     "output_type": "stream",
     "text": [
      "Validating:  75%|███████▌  | 177/235 [01:27<00:28,  2.06it/s, loss=16.6048, avg_loss=16.4611]"
     ]
    },
    {
     "name": "stdout",
     "output_type": "stream",
     "text": [
      "{'kd_loss': 32.49370574951172, 'feature_loss': 0.33306801319122314, 'ce_loss': 8.075814247131348, 'cont_loss': 3.1035661697387695, 'teacher_loss': 8.07645320892334, 'total_loss': 16.604778289794922}\n"
     ]
    },
    {
     "name": "stderr",
     "output_type": "stream",
     "text": [
      "Validating:  76%|███████▌  | 178/235 [01:28<00:27,  2.06it/s, loss=16.6298, avg_loss=16.4620]"
     ]
    },
    {
     "name": "stdout",
     "output_type": "stream",
     "text": [
      "{'kd_loss': 32.493125915527344, 'feature_loss': 0.34446537494659424, 'ce_loss': 8.140054702758789, 'cont_loss': 3.0764122009277344, 'teacher_loss': 8.090289115905762, 'total_loss': 16.62980842590332}\n"
     ]
    },
    {
     "name": "stderr",
     "output_type": "stream",
     "text": [
      "Validating:  76%|███████▌  | 179/235 [01:28<00:27,  2.06it/s, loss=16.5905, avg_loss=16.4628]"
     ]
    },
    {
     "name": "stdout",
     "output_type": "stream",
     "text": [
      "{'kd_loss': 32.49385070800781, 'feature_loss': 0.32732152938842773, 'ce_loss': 8.046539306640625, 'cont_loss': 3.088999032974243, 'teacher_loss': 8.088068008422852, 'total_loss': 16.59052085876465}\n"
     ]
    },
    {
     "name": "stderr",
     "output_type": "stream",
     "text": [
      "Validating:  77%|███████▋  | 180/235 [01:29<00:26,  2.06it/s, loss=16.6189, avg_loss=16.4636]"
     ]
    },
    {
     "name": "stdout",
     "output_type": "stream",
     "text": [
      "{'kd_loss': 32.493473052978516, 'feature_loss': 0.32626962661743164, 'ce_loss': 8.041976928710938, 'cont_loss': 3.394685983657837, 'teacher_loss': 8.090667724609375, 'total_loss': 16.6189022064209}\n"
     ]
    },
    {
     "name": "stderr",
     "output_type": "stream",
     "text": [
      "Validating:  77%|███████▋  | 181/235 [01:29<00:26,  2.06it/s, loss=16.5963, avg_loss=16.4644]"
     ]
    },
    {
     "name": "stdout",
     "output_type": "stream",
     "text": [
      "{'kd_loss': 32.49323272705078, 'feature_loss': 0.2888922691345215, 'ce_loss': 8.077795028686523, 'cont_loss': 3.1015119552612305, 'teacher_loss': 8.090163230895996, 'total_loss': 16.596342086791992}\n"
     ]
    },
    {
     "name": "stderr",
     "output_type": "stream",
     "text": [
      "Validating:  77%|███████▋  | 182/235 [01:30<00:25,  2.06it/s, loss=16.6178, avg_loss=16.4652]"
     ]
    },
    {
     "name": "stdout",
     "output_type": "stream",
     "text": [
      "{'kd_loss': 32.49237060546875, 'feature_loss': 0.31173527240753174, 'ce_loss': 8.114516258239746, 'cont_loss': 3.1272647380828857, 'teacher_loss': 8.0886869430542, 'total_loss': 16.617828369140625}\n"
     ]
    },
    {
     "name": "stderr",
     "output_type": "stream",
     "text": [
      "Validating:  78%|███████▊  | 183/235 [01:30<00:25,  2.07it/s, loss=16.7263, avg_loss=16.4666]"
     ]
    },
    {
     "name": "stdout",
     "output_type": "stream",
     "text": [
      "{'kd_loss': 32.49258041381836, 'feature_loss': 0.3487052917480469, 'ce_loss': 8.289382934570312, 'cont_loss': 3.438182830810547, 'teacher_loss': 8.090072631835938, 'total_loss': 16.72634506225586}\n"
     ]
    },
    {
     "name": "stderr",
     "output_type": "stream",
     "text": [
      "Validating:  78%|███████▊  | 184/235 [01:31<00:24,  2.08it/s, loss=16.5846, avg_loss=16.4673]"
     ]
    },
    {
     "name": "stdout",
     "output_type": "stream",
     "text": [
      "{'kd_loss': 32.49399948120117, 'feature_loss': 0.3041043281555176, 'ce_loss': 8.030733108520508, 'cont_loss': 3.1387383937835693, 'teacher_loss': 8.092782020568848, 'total_loss': 16.58458709716797}\n"
     ]
    },
    {
     "name": "stderr",
     "output_type": "stream",
     "text": [
      "Validating:  79%|███████▊  | 185/235 [01:31<00:24,  2.08it/s, loss=16.6091, avg_loss=16.4680]"
     ]
    },
    {
     "name": "stdout",
     "output_type": "stream",
     "text": [
      "{'kd_loss': 32.49285888671875, 'feature_loss': 0.3390505313873291, 'ce_loss': 8.059674263000488, 'cont_loss': 3.202869415283203, 'teacher_loss': 8.089750289916992, 'total_loss': 16.609111785888672}\n"
     ]
    },
    {
     "name": "stderr",
     "output_type": "stream",
     "text": [
      "Validating:  79%|███████▉  | 186/235 [01:32<00:23,  2.07it/s, loss=16.6442, avg_loss=16.4690]"
     ]
    },
    {
     "name": "stdout",
     "output_type": "stream",
     "text": [
      "{'kd_loss': 32.493446350097656, 'feature_loss': 0.326021671295166, 'ce_loss': 8.158075332641602, 'cont_loss': 3.183722734451294, 'teacher_loss': 8.086811065673828, 'total_loss': 16.64418601989746}\n"
     ]
    },
    {
     "name": "stderr",
     "output_type": "stream",
     "text": [
      "Validating:  80%|███████▉  | 187/235 [01:32<00:23,  2.07it/s, loss=16.6324, avg_loss=16.4699]"
     ]
    },
    {
     "name": "stdout",
     "output_type": "stream",
     "text": [
      "{'kd_loss': 32.49348068237305, 'feature_loss': 0.3178882598876953, 'ce_loss': 8.13239574432373, 'cont_loss': 3.1845569610595703, 'teacher_loss': 8.094783782958984, 'total_loss': 16.63238525390625}\n"
     ]
    },
    {
     "name": "stderr",
     "output_type": "stream",
     "text": [
      "Validating:  80%|████████  | 188/235 [01:33<00:22,  2.07it/s, loss=16.6680, avg_loss=16.4709]"
     ]
    },
    {
     "name": "stdout",
     "output_type": "stream",
     "text": [
      "{'kd_loss': 32.493011474609375, 'feature_loss': 0.3280220627784729, 'ce_loss': 8.21271800994873, 'cont_loss': 3.2011821269989014, 'teacher_loss': 8.085906982421875, 'total_loss': 16.668014526367188}\n"
     ]
    },
    {
     "name": "stderr",
     "output_type": "stream",
     "text": [
      "Validating:  80%|████████  | 189/235 [01:33<00:22,  2.07it/s, loss=16.6971, avg_loss=16.4721]"
     ]
    },
    {
     "name": "stdout",
     "output_type": "stream",
     "text": [
      "{'kd_loss': 32.493804931640625, 'feature_loss': 0.29627448320388794, 'ce_loss': 8.266279220581055, 'cont_loss': 3.3379979133605957, 'teacher_loss': 8.08918571472168, 'total_loss': 16.69708824157715}\n"
     ]
    },
    {
     "name": "stderr",
     "output_type": "stream",
     "text": [
      "Validating:  81%|████████  | 190/235 [01:34<00:21,  2.06it/s, loss=16.6036, avg_loss=16.4728]"
     ]
    },
    {
     "name": "stdout",
     "output_type": "stream",
     "text": [
      "{'kd_loss': 32.49382019042969, 'feature_loss': 0.29796504974365234, 'ce_loss': 8.08129596710205, 'cont_loss': 3.139594316482544, 'teacher_loss': 8.10131549835205, 'total_loss': 16.603599548339844}\n"
     ]
    },
    {
     "name": "stderr",
     "output_type": "stream",
     "text": [
      "Validating:  81%|████████▏ | 191/235 [01:34<00:21,  2.07it/s, loss=16.6726, avg_loss=16.4739]"
     ]
    },
    {
     "name": "stdout",
     "output_type": "stream",
     "text": [
      "{'kd_loss': 32.492897033691406, 'feature_loss': 0.322853684425354, 'ce_loss': 8.23054313659668, 'cont_loss': 3.1863718032836914, 'teacher_loss': 8.094021797180176, 'total_loss': 16.672584533691406}\n"
     ]
    },
    {
     "name": "stderr",
     "output_type": "stream",
     "text": [
      "Validating:  82%|████████▏ | 192/235 [01:35<00:20,  2.08it/s, loss=16.6610, avg_loss=16.4748]"
     ]
    },
    {
     "name": "stdout",
     "output_type": "stream",
     "text": [
      "{'kd_loss': 32.49296569824219, 'feature_loss': 0.31744658946990967, 'ce_loss': 8.195381164550781, 'cont_loss': 3.2214646339416504, 'teacher_loss': 8.093816757202148, 'total_loss': 16.66097640991211}\n"
     ]
    },
    {
     "name": "stderr",
     "output_type": "stream",
     "text": [
      "Validating:  82%|████████▏ | 193/235 [01:35<00:20,  2.07it/s, loss=16.5986, avg_loss=16.4755]"
     ]
    },
    {
     "name": "stdout",
     "output_type": "stream",
     "text": [
      "{'kd_loss': 32.49333953857422, 'feature_loss': 0.31903499364852905, 'ce_loss': 8.006896018981934, 'cont_loss': 3.346653461456299, 'teacher_loss': 8.09477710723877, 'total_loss': 16.59856605529785}\n"
     ]
    },
    {
     "name": "stderr",
     "output_type": "stream",
     "text": [
      "Validating:  83%|████████▎ | 194/235 [01:35<00:19,  2.08it/s, loss=16.5983, avg_loss=16.4761]"
     ]
    },
    {
     "name": "stdout",
     "output_type": "stream",
     "text": [
      "{'kd_loss': 32.492713928222656, 'feature_loss': 0.3504379391670227, 'ce_loss': 8.021683692932129, 'cont_loss': 3.224652051925659, 'teacher_loss': 8.085962295532227, 'total_loss': 16.598312377929688}\n"
     ]
    },
    {
     "name": "stderr",
     "output_type": "stream",
     "text": [
      "Validating:  83%|████████▎ | 195/235 [01:36<00:19,  2.07it/s, loss=16.6477, avg_loss=16.4770]"
     ]
    },
    {
     "name": "stdout",
     "output_type": "stream",
     "text": [
      "{'kd_loss': 32.49250030517578, 'feature_loss': 0.3095976710319519, 'ce_loss': 8.163346290588379, 'cont_loss': 3.234758138656616, 'teacher_loss': 8.091663360595703, 'total_loss': 16.647733688354492}\n"
     ]
    },
    {
     "name": "stderr",
     "output_type": "stream",
     "text": [
      "Validating:  83%|████████▎ | 196/235 [01:36<00:18,  2.07it/s, loss=16.6428, avg_loss=16.4778]"
     ]
    },
    {
     "name": "stdout",
     "output_type": "stream",
     "text": [
      "{'kd_loss': 32.49291229248047, 'feature_loss': 0.3224753141403198, 'ce_loss': 8.132421493530273, 'cont_loss': 3.281817674636841, 'teacher_loss': 8.09086799621582, 'total_loss': 16.642810821533203}\n"
     ]
    },
    {
     "name": "stderr",
     "output_type": "stream",
     "text": [
      "Validating:  84%|████████▍ | 197/235 [01:37<00:18,  2.08it/s, loss=16.5945, avg_loss=16.4784]"
     ]
    },
    {
     "name": "stdout",
     "output_type": "stream",
     "text": [
      "{'kd_loss': 32.4918212890625, 'feature_loss': 0.33448827266693115, 'ce_loss': 8.01920223236084, 'cont_loss': 3.2320761680603027, 'teacher_loss': 8.090855598449707, 'total_loss': 16.594514846801758}\n"
     ]
    },
    {
     "name": "stderr",
     "output_type": "stream",
     "text": [
      "Validating:  84%|████████▍ | 198/235 [01:37<00:17,  2.08it/s, loss=16.6078, avg_loss=16.4791]"
     ]
    },
    {
     "name": "stdout",
     "output_type": "stream",
     "text": [
      "{'kd_loss': 32.49325942993164, 'feature_loss': 0.31297600269317627, 'ce_loss': 8.059070587158203, 'cont_loss': 3.242868423461914, 'teacher_loss': 8.086297988891602, 'total_loss': 16.60781478881836}\n"
     ]
    },
    {
     "name": "stderr",
     "output_type": "stream",
     "text": [
      "Validating:  85%|████████▍ | 199/235 [01:38<00:17,  2.08it/s, loss=16.6318, avg_loss=16.4798]"
     ]
    },
    {
     "name": "stdout",
     "output_type": "stream",
     "text": [
      "{'kd_loss': 32.492374420166016, 'feature_loss': 0.32545602321624756, 'ce_loss': 8.09986400604248, 'cont_loss': 3.2982430458068848, 'teacher_loss': 8.085648536682129, 'total_loss': 16.631811141967773}\n"
     ]
    },
    {
     "name": "stderr",
     "output_type": "stream",
     "text": [
      "Validating:  85%|████████▌ | 200/235 [01:38<00:16,  2.08it/s, loss=16.6691, avg_loss=16.4808]"
     ]
    },
    {
     "name": "stdout",
     "output_type": "stream",
     "text": [
      "{'kd_loss': 32.49349594116211, 'feature_loss': 0.3317915201187134, 'ce_loss': 8.183813095092773, 'cont_loss': 3.318552017211914, 'teacher_loss': 8.08815860748291, 'total_loss': 16.669137954711914}\n"
     ]
    },
    {
     "name": "stderr",
     "output_type": "stream",
     "text": [
      "Validating:  86%|████████▌ | 201/235 [01:39<00:16,  2.07it/s, loss=16.6362, avg_loss=16.4816]"
     ]
    },
    {
     "name": "stdout",
     "output_type": "stream",
     "text": [
      "{'kd_loss': 32.4927864074707, 'feature_loss': 0.32750582695007324, 'ce_loss': 8.111966133117676, 'cont_loss': 3.287982940673828, 'teacher_loss': 8.092692375183105, 'total_loss': 16.636201858520508}\n"
     ]
    },
    {
     "name": "stderr",
     "output_type": "stream",
     "text": [
      "Validating:  86%|████████▌ | 202/235 [01:39<00:15,  2.07it/s, loss=16.6179, avg_loss=16.4822]"
     ]
    },
    {
     "name": "stdout",
     "output_type": "stream",
     "text": [
      "{'kd_loss': 32.49302291870117, 'feature_loss': 0.32869547605514526, 'ce_loss': 8.066888809204102, 'cont_loss': 3.2818050384521484, 'teacher_loss': 8.094393730163574, 'total_loss': 16.617883682250977}\n"
     ]
    },
    {
     "name": "stderr",
     "output_type": "stream",
     "text": [
      "Validating:  86%|████████▋ | 203/235 [01:40<00:15,  2.07it/s, loss=16.6931, avg_loss=16.4833]"
     ]
    },
    {
     "name": "stdout",
     "output_type": "stream",
     "text": [
      "{'kd_loss': 32.492225646972656, 'feature_loss': 0.325419545173645, 'ce_loss': 8.171271324157715, 'cont_loss': 3.6259984970092773, 'teacher_loss': 8.094128608703613, 'total_loss': 16.693082809448242}\n"
     ]
    },
    {
     "name": "stderr",
     "output_type": "stream",
     "text": [
      "Validating:  87%|████████▋ | 204/235 [01:40<00:14,  2.07it/s, loss=16.6595, avg_loss=16.4841]"
     ]
    },
    {
     "name": "stdout",
     "output_type": "stream",
     "text": [
      "{'kd_loss': 32.492515563964844, 'feature_loss': 0.333848237991333, 'ce_loss': 8.153458595275879, 'cont_loss': 3.3438963890075684, 'teacher_loss': 8.08798885345459, 'total_loss': 16.659547805786133}\n"
     ]
    },
    {
     "name": "stderr",
     "output_type": "stream",
     "text": [
      "Validating:  87%|████████▋ | 205/235 [01:41<00:14,  2.07it/s, loss=16.7417, avg_loss=16.4854]"
     ]
    },
    {
     "name": "stdout",
     "output_type": "stream",
     "text": [
      "{'kd_loss': 32.49293518066406, 'feature_loss': 0.3318263292312622, 'ce_loss': 8.325764656066895, 'cont_loss': 3.478579044342041, 'teacher_loss': 8.090280532836914, 'total_loss': 16.741703033447266}\n"
     ]
    },
    {
     "name": "stderr",
     "output_type": "stream",
     "text": [
      "Validating:  88%|████████▊ | 206/235 [01:41<00:13,  2.07it/s, loss=16.6625, avg_loss=16.4863]"
     ]
    },
    {
     "name": "stdout",
     "output_type": "stream",
     "text": [
      "{'kd_loss': 32.493621826171875, 'feature_loss': 0.3163944482803345, 'ce_loss': 8.170019149780273, 'cont_loss': 3.337824821472168, 'teacher_loss': 8.094594955444336, 'total_loss': 16.662517547607422}\n"
     ]
    },
    {
     "name": "stderr",
     "output_type": "stream",
     "text": [
      "Validating:  88%|████████▊ | 207/235 [01:42<00:13,  2.07it/s, loss=16.6878, avg_loss=16.4872]"
     ]
    },
    {
     "name": "stdout",
     "output_type": "stream",
     "text": [
      "{'kd_loss': 32.49359130859375, 'feature_loss': 0.3450453281402588, 'ce_loss': 8.203681945800781, 'cont_loss': 3.3985986709594727, 'teacher_loss': 8.090385437011719, 'total_loss': 16.687776565551758}\n"
     ]
    },
    {
     "name": "stderr",
     "output_type": "stream",
     "text": [
      "Validating:  89%|████████▊ | 208/235 [01:42<00:13,  2.08it/s, loss=16.6945, avg_loss=16.4882]"
     ]
    },
    {
     "name": "stdout",
     "output_type": "stream",
     "text": [
      "{'kd_loss': 32.4929313659668, 'feature_loss': 0.3195328712463379, 'ce_loss': 8.23279094696045, 'cont_loss': 3.4030776023864746, 'teacher_loss': 8.089073181152344, 'total_loss': 16.694501876831055}\n"
     ]
    },
    {
     "name": "stderr",
     "output_type": "stream",
     "text": [
      "Validating:  89%|████████▉ | 209/235 [01:43<00:12,  2.08it/s, loss=16.7013, avg_loss=16.4892]"
     ]
    },
    {
     "name": "stdout",
     "output_type": "stream",
     "text": [
      "{'kd_loss': 32.492713928222656, 'feature_loss': 0.3495519161224365, 'ce_loss': 8.169610023498535, 'cont_loss': 3.664681911468506, 'teacher_loss': 8.090190887451172, 'total_loss': 16.70130729675293}\n"
     ]
    },
    {
     "name": "stderr",
     "output_type": "stream",
     "text": [
      "Validating:  89%|████████▉ | 210/235 [01:43<00:12,  2.08it/s, loss=16.6097, avg_loss=16.4898]"
     ]
    },
    {
     "name": "stdout",
     "output_type": "stream",
     "text": [
      "{'kd_loss': 32.49333190917969, 'feature_loss': 0.33958590030670166, 'ce_loss': 8.016003608703613, 'cont_loss': 3.3806755542755127, 'teacher_loss': 8.093172073364258, 'total_loss': 16.609718322753906}\n"
     ]
    },
    {
     "name": "stderr",
     "output_type": "stream",
     "text": [
      "Validating:  90%|████████▉ | 211/235 [01:44<00:11,  2.07it/s, loss=16.6544, avg_loss=16.4906]"
     ]
    },
    {
     "name": "stdout",
     "output_type": "stream",
     "text": [
      "{'kd_loss': 32.49310302734375, 'feature_loss': 0.31720590591430664, 'ce_loss': 8.097294807434082, 'cont_loss': 3.5480785369873047, 'teacher_loss': 8.090958595275879, 'total_loss': 16.654407501220703}\n"
     ]
    },
    {
     "name": "stderr",
     "output_type": "stream",
     "text": [
      "Validating:  90%|█████████ | 212/235 [01:44<00:11,  2.07it/s, loss=16.6286, avg_loss=16.4912]"
     ]
    },
    {
     "name": "stdout",
     "output_type": "stream",
     "text": [
      "{'kd_loss': 32.49260330200195, 'feature_loss': 0.30915677547454834, 'ce_loss': 8.06778335571289, 'cont_loss': 3.4265542030334473, 'teacher_loss': 8.091713905334473, 'total_loss': 16.62864112854004}\n"
     ]
    },
    {
     "name": "stderr",
     "output_type": "stream",
     "text": [
      "Validating:  91%|█████████ | 213/235 [01:45<00:10,  2.07it/s, loss=16.6907, avg_loss=16.4922]"
     ]
    },
    {
     "name": "stdout",
     "output_type": "stream",
     "text": [
      "{'kd_loss': 32.49259948730469, 'feature_loss': 0.3214857578277588, 'ce_loss': 8.211588859558105, 'cont_loss': 3.447510242462158, 'teacher_loss': 8.093276977539062, 'total_loss': 16.690723419189453}\n"
     ]
    },
    {
     "name": "stderr",
     "output_type": "stream",
     "text": [
      "Validating:  91%|█████████ | 214/235 [01:45<00:10,  2.07it/s, loss=16.7284, avg_loss=16.4933]"
     ]
    },
    {
     "name": "stdout",
     "output_type": "stream",
     "text": [
      "{'kd_loss': 32.49275207519531, 'feature_loss': 0.3266217112541199, 'ce_loss': 8.232397079467773, 'cont_loss': 3.73001766204834, 'teacher_loss': 8.09203815460205, 'total_loss': 16.72838592529297}\n"
     ]
    },
    {
     "name": "stderr",
     "output_type": "stream",
     "text": [
      "Validating:  91%|█████████▏| 215/235 [01:46<00:09,  2.07it/s, loss=16.6623, avg_loss=16.4941]"
     ]
    },
    {
     "name": "stdout",
     "output_type": "stream",
     "text": [
      "{'kd_loss': 32.49240493774414, 'feature_loss': 0.31245213747024536, 'ce_loss': 8.144314765930176, 'cont_loss': 3.450819253921509, 'teacher_loss': 8.09105110168457, 'total_loss': 16.662260055541992}\n"
     ]
    },
    {
     "name": "stderr",
     "output_type": "stream",
     "text": [
      "Validating:  92%|█████████▏| 216/235 [01:46<00:09,  2.08it/s, loss=16.6507, avg_loss=16.4948]"
     ]
    },
    {
     "name": "stdout",
     "output_type": "stream",
     "text": [
      "{'kd_loss': 32.49335479736328, 'feature_loss': 0.31572961807250977, 'ce_loss': 8.11259651184082, 'cont_loss': 3.451561450958252, 'teacher_loss': 8.094541549682617, 'total_loss': 16.65068244934082}\n"
     ]
    },
    {
     "name": "stderr",
     "output_type": "stream",
     "text": [
      "Validating:  92%|█████████▏| 217/235 [01:47<00:08,  2.08it/s, loss=16.6599, avg_loss=16.4956]"
     ]
    },
    {
     "name": "stdout",
     "output_type": "stream",
     "text": [
      "{'kd_loss': 32.492828369140625, 'feature_loss': 0.3466761112213135, 'ce_loss': 8.10960578918457, 'cont_loss': 3.49556827545166, 'teacher_loss': 8.087313652038574, 'total_loss': 16.65986442565918}\n"
     ]
    },
    {
     "name": "stderr",
     "output_type": "stream",
     "text": [
      "Validating:  93%|█████████▎| 218/235 [01:47<00:08,  2.08it/s, loss=16.6684, avg_loss=16.4964]"
     ]
    },
    {
     "name": "stdout",
     "output_type": "stream",
     "text": [
      "{'kd_loss': 32.492164611816406, 'feature_loss': 0.3431432247161865, 'ce_loss': 8.136022567749023, 'cont_loss': 3.4851558208465576, 'teacher_loss': 8.084559440612793, 'total_loss': 16.668420791625977}\n"
     ]
    },
    {
     "name": "stderr",
     "output_type": "stream",
     "text": [
      "Validating:  93%|█████████▎| 219/235 [01:48<00:07,  2.08it/s, loss=16.6909, avg_loss=16.4972]"
     ]
    },
    {
     "name": "stdout",
     "output_type": "stream",
     "text": [
      "{'kd_loss': 32.4922981262207, 'feature_loss': 0.35389411449432373, 'ce_loss': 8.189713478088379, 'cont_loss': 3.4730420112609863, 'teacher_loss': 8.091192245483398, 'total_loss': 16.690887451171875}\n"
     ]
    },
    {
     "name": "stderr",
     "output_type": "stream",
     "text": [
      "Validating:  94%|█████████▎| 220/235 [01:48<00:07,  2.07it/s, loss=16.6288, avg_loss=16.4978]"
     ]
    },
    {
     "name": "stdout",
     "output_type": "stream",
     "text": [
      "{'kd_loss': 32.492740631103516, 'feature_loss': 0.33642780780792236, 'ce_loss': 8.037704467773438, 'cont_loss': 3.4936962127685547, 'teacher_loss': 8.088287353515625, 'total_loss': 16.62883186340332}\n"
     ]
    },
    {
     "name": "stderr",
     "output_type": "stream",
     "text": [
      "Validating:  94%|█████████▍| 221/235 [01:48<00:06,  2.07it/s, loss=16.6779, avg_loss=16.4987]"
     ]
    },
    {
     "name": "stdout",
     "output_type": "stream",
     "text": [
      "{'kd_loss': 32.4932861328125, 'feature_loss': 0.34240835905075073, 'ce_loss': 8.110431671142578, 'cont_loss': 3.6792569160461426, 'teacher_loss': 8.091873168945312, 'total_loss': 16.677894592285156}\n"
     ]
    },
    {
     "name": "stderr",
     "output_type": "stream",
     "text": [
      "Validating:  94%|█████████▍| 222/235 [01:49<00:06,  2.07it/s, loss=16.6652, avg_loss=16.4994]"
     ]
    },
    {
     "name": "stdout",
     "output_type": "stream",
     "text": [
      "{'kd_loss': 32.49217987060547, 'feature_loss': 0.34515702724456787, 'ce_loss': 8.117565155029297, 'cont_loss': 3.522468090057373, 'teacher_loss': 8.086944580078125, 'total_loss': 16.665176391601562}\n"
     ]
    },
    {
     "name": "stderr",
     "output_type": "stream",
     "text": [
      "Validating:  95%|█████████▍| 223/235 [01:49<00:05,  2.08it/s, loss=16.6790, avg_loss=16.5002]"
     ]
    },
    {
     "name": "stdout",
     "output_type": "stream",
     "text": [
      "{'kd_loss': 32.49285888671875, 'feature_loss': 0.32135629653930664, 'ce_loss': 8.17148208618164, 'cont_loss': 3.4896397590637207, 'teacher_loss': 8.082059860229492, 'total_loss': 16.678972244262695}\n"
     ]
    },
    {
     "name": "stderr",
     "output_type": "stream",
     "text": [
      "Validating:  95%|█████████▌| 224/235 [01:50<00:05,  2.08it/s, loss=16.6502, avg_loss=16.5009]"
     ]
    },
    {
     "name": "stdout",
     "output_type": "stream",
     "text": [
      "{'kd_loss': 32.493690490722656, 'feature_loss': 0.33587783575057983, 'ce_loss': 8.082931518554688, 'cont_loss': 3.5239720344543457, 'teacher_loss': 8.0792818069458, 'total_loss': 16.650222778320312}\n"
     ]
    },
    {
     "name": "stderr",
     "output_type": "stream",
     "text": [
      "Validating:  96%|█████████▌| 225/235 [01:50<00:04,  2.08it/s, loss=16.6491, avg_loss=16.5015]"
     ]
    },
    {
     "name": "stdout",
     "output_type": "stream",
     "text": [
      "{'kd_loss': 32.49300003051758, 'feature_loss': 0.3433295488357544, 'ce_loss': 8.068988800048828, 'cont_loss': 3.5559263229370117, 'teacher_loss': 8.078705787658691, 'total_loss': 16.6490535736084}\n"
     ]
    },
    {
     "name": "stderr",
     "output_type": "stream",
     "text": [
      "Validating:  96%|█████████▌| 226/235 [01:51<00:04,  2.08it/s, loss=16.7499, avg_loss=16.5026]"
     ]
    },
    {
     "name": "stdout",
     "output_type": "stream",
     "text": [
      "{'kd_loss': 32.493751525878906, 'feature_loss': 0.3333524465560913, 'ce_loss': 8.289898872375488, 'cont_loss': 3.697239398956299, 'teacher_loss': 8.082770347595215, 'total_loss': 16.749855041503906}\n"
     ]
    },
    {
     "name": "stderr",
     "output_type": "stream",
     "text": [
      "Validating:  97%|█████████▋| 227/235 [01:51<00:03,  2.08it/s, loss=16.7179, avg_loss=16.5036]"
     ]
    },
    {
     "name": "stdout",
     "output_type": "stream",
     "text": [
      "{'kd_loss': 32.49298858642578, 'feature_loss': 0.3437724709510803, 'ce_loss': 8.23554801940918, 'cont_loss': 3.5772104263305664, 'teacher_loss': 8.086698532104492, 'total_loss': 16.7178897857666}\n"
     ]
    },
    {
     "name": "stderr",
     "output_type": "stream",
     "text": [
      "Validating:  97%|█████████▋| 228/235 [01:52<00:03,  2.08it/s, loss=16.6565, avg_loss=16.5043]"
     ]
    },
    {
     "name": "stdout",
     "output_type": "stream",
     "text": [
      "{'kd_loss': 32.493011474609375, 'feature_loss': 0.31424981355667114, 'ce_loss': 8.102398872375488, 'cont_loss': 3.5544657707214355, 'teacher_loss': 8.091536521911621, 'total_loss': 16.65645980834961}\n"
     ]
    },
    {
     "name": "stderr",
     "output_type": "stream",
     "text": [
      "Validating:  97%|█████████▋| 229/235 [01:52<00:02,  2.08it/s, loss=16.6574, avg_loss=16.5049]"
     ]
    },
    {
     "name": "stdout",
     "output_type": "stream",
     "text": [
      "{'kd_loss': 32.492393493652344, 'feature_loss': 0.3283308744430542, 'ce_loss': 8.089115142822266, 'cont_loss': 3.5914692878723145, 'teacher_loss': 8.089160919189453, 'total_loss': 16.65741539001465}\n"
     ]
    },
    {
     "name": "stderr",
     "output_type": "stream",
     "text": [
      "Validating:  98%|█████████▊| 230/235 [01:53<00:02,  2.08it/s, loss=16.6680, avg_loss=16.5056]"
     ]
    },
    {
     "name": "stdout",
     "output_type": "stream",
     "text": [
      "{'kd_loss': 32.492919921875, 'feature_loss': 0.3396291732788086, 'ce_loss': 8.089163780212402, 'cont_loss': 3.672891139984131, 'teacher_loss': 8.088749885559082, 'total_loss': 16.668048858642578}\n"
     ]
    },
    {
     "name": "stderr",
     "output_type": "stream",
     "text": [
      "Validating:  98%|█████████▊| 231/235 [01:53<00:01,  2.08it/s, loss=16.7134, avg_loss=16.5065]"
     ]
    },
    {
     "name": "stdout",
     "output_type": "stream",
     "text": [
      "{'kd_loss': 32.492408752441406, 'feature_loss': 0.33848750591278076, 'ce_loss': 8.212089538574219, 'cont_loss': 3.638827323913574, 'teacher_loss': 8.092201232910156, 'total_loss': 16.71337890625}\n"
     ]
    },
    {
     "name": "stderr",
     "output_type": "stream",
     "text": [
      "Validating:  99%|█████████▊| 232/235 [01:54<00:01,  2.08it/s, loss=16.6619, avg_loss=16.5072]"
     ]
    },
    {
     "name": "stdout",
     "output_type": "stream",
     "text": [
      "{'kd_loss': 32.49355697631836, 'feature_loss': 0.3213096857070923, 'ce_loss': 8.093966484069824, 'cont_loss': 3.626354217529297, 'teacher_loss': 8.088004112243652, 'total_loss': 16.661907196044922}\n"
     ]
    },
    {
     "name": "stderr",
     "output_type": "stream",
     "text": [
      "Validating:  99%|█████████▉| 233/235 [01:54<00:00,  2.08it/s, loss=16.6791, avg_loss=16.5079]"
     ]
    },
    {
     "name": "stdout",
     "output_type": "stream",
     "text": [
      "{'kd_loss': 32.4931640625, 'feature_loss': 0.35700929164886475, 'ce_loss': 8.107695579528809, 'cont_loss': 3.6737632751464844, 'teacher_loss': 8.085963249206543, 'total_loss': 16.679121017456055}\n"
     ]
    },
    {
     "name": "stderr",
     "output_type": "stream",
     "text": [
      "Validating: 100%|██████████| 235/235 [01:55<00:00,  2.52it/s, loss=16.6190, avg_loss=16.5093]"
     ]
    },
    {
     "name": "stdout",
     "output_type": "stream",
     "text": [
      "{'kd_loss': 32.49259948730469, 'feature_loss': 0.3543877601623535, 'ce_loss': 8.185866355895996, 'cont_loss': 3.6230850219726562, 'teacher_loss': 8.09093189239502, 'total_loss': 16.704572677612305}\n",
      "{'kd_loss': 32.49113464355469, 'feature_loss': 0.32034099102020264, 'ce_loss': 8.211251258850098, 'cont_loss': 2.740274667739868, 'teacher_loss': 8.09221076965332, 'total_loss': 16.619049072265625}\n"
     ]
    },
    {
     "name": "stderr",
     "output_type": "stream",
     "text": [
      "Validating: 100%|██████████| 235/235 [01:55<00:00,  2.03it/s, loss=16.6190, avg_loss=16.5093]\n"
     ]
    },
    {
     "name": "stdout",
     "output_type": "stream",
     "text": [
      "Epoch 3 | Train Loss: 18.4535 | Val Loss: 16.5093 | Top1 Acc: 0.01 | Top5 Acc: 0.02\n"
     ]
    },
    {
     "name": "stderr",
     "output_type": "stream",
     "text": [
      "Training: 100%|██████████| 1875/1875 [13:02<00:00,  2.40it/s, loss=18.4061, avg_loss=18.4270, lr=3.14e-5]\n",
      "Validating:   0%|          | 1/235 [00:02<09:35,  2.46s/it, loss=16.2192, avg_loss=16.2192]"
     ]
    },
    {
     "name": "stdout",
     "output_type": "stream",
     "text": [
      "{'kd_loss': 32.493751525878906, 'feature_loss': 0.2937014102935791, 'ce_loss': 7.536036968231201, 'cont_loss': 1.4859106540679932, 'teacher_loss': 8.092952728271484, 'total_loss': 16.219247817993164}\n"
     ]
    },
    {
     "name": "stderr",
     "output_type": "stream",
     "text": [
      "Validating:   1%|          | 2/235 [00:02<05:01,  1.29s/it, loss=16.3493, avg_loss=16.2843]"
     ]
    },
    {
     "name": "stdout",
     "output_type": "stream",
     "text": [
      "{'kd_loss': 32.493125915527344, 'feature_loss': 0.30168116092681885, 'ce_loss': 7.845189094543457, 'cont_loss': 1.5364892482757568, 'teacher_loss': 8.095252990722656, 'total_loss': 16.34930992126465}\n"
     ]
    },
    {
     "name": "stderr",
     "output_type": "stream",
     "text": [
      "Validating:   1%|▏         | 3/235 [00:03<03:33,  1.08it/s, loss=16.3094, avg_loss=16.2927]"
     ]
    },
    {
     "name": "stdout",
     "output_type": "stream",
     "text": [
      "{'kd_loss': 32.4921760559082, 'feature_loss': 0.29050713777542114, 'ce_loss': 7.755887031555176, 'cont_loss': 1.5210449695587158, 'teacher_loss': 8.099869728088379, 'total_loss': 16.309432983398438}\n"
     ]
    },
    {
     "name": "stderr",
     "output_type": "stream",
     "text": [
      "Validating:   2%|▏         | 4/235 [00:03<02:52,  1.34it/s, loss=16.1527, avg_loss=16.2577]"
     ]
    },
    {
     "name": "stdout",
     "output_type": "stream",
     "text": [
      "{'kd_loss': 32.497474670410156, 'feature_loss': 0.25517475605010986, 'ce_loss': 7.39050817489624, 'cont_loss': 1.4648786783218384, 'teacher_loss': 8.102435111999512, 'total_loss': 16.1527156829834}\n"
     ]
    },
    {
     "name": "stderr",
     "output_type": "stream",
     "text": [
      "Validating:   2%|▏         | 5/235 [00:04<02:29,  1.54it/s, loss=16.1503, avg_loss=16.2362]"
     ]
    },
    {
     "name": "stdout",
     "output_type": "stream",
     "text": [
      "{'kd_loss': 32.49502944946289, 'feature_loss': 0.25395047664642334, 'ce_loss': 7.3953166007995605, 'cont_loss': 1.4340288639068604, 'teacher_loss': 8.103348731994629, 'total_loss': 16.15032958984375}\n"
     ]
    },
    {
     "name": "stderr",
     "output_type": "stream",
     "text": [
      "Validating:   3%|▎         | 6/235 [00:04<02:16,  1.68it/s, loss=16.4749, avg_loss=16.2760]"
     ]
    },
    {
     "name": "stdout",
     "output_type": "stream",
     "text": [
      "{'kd_loss': 32.49260711669922, 'feature_loss': 0.37947654724121094, 'ce_loss': 8.128996849060059, 'cont_loss': 1.503805160522461, 'teacher_loss': 8.099871635437012, 'total_loss': 16.474918365478516}\n"
     ]
    },
    {
     "name": "stderr",
     "output_type": "stream",
     "text": [
      "Validating:   3%|▎         | 7/235 [00:05<02:06,  1.80it/s, loss=16.1302, avg_loss=16.2552]"
     ]
    },
    {
     "name": "stdout",
     "output_type": "stream",
     "text": [
      "{'kd_loss': 32.493560791015625, 'feature_loss': 0.27652084827423096, 'ce_loss': 7.324659824371338, 'cont_loss': 1.4757349491119385, 'teacher_loss': 8.083077430725098, 'total_loss': 16.13016700744629}\n"
     ]
    },
    {
     "name": "stderr",
     "output_type": "stream",
     "text": [
      "Validating:   3%|▎         | 8/235 [00:05<02:00,  1.88it/s, loss=16.2156, avg_loss=16.2502]"
     ]
    },
    {
     "name": "stdout",
     "output_type": "stream",
     "text": [
      "{'kd_loss': 32.493743896484375, 'feature_loss': 0.3313130736351013, 'ce_loss': 7.508327007293701, 'cont_loss': 1.4847252368927002, 'teacher_loss': 8.096233367919922, 'total_loss': 16.21556282043457}\n"
     ]
    },
    {
     "name": "stderr",
     "output_type": "stream",
     "text": [
      "Validating:   4%|▍         | 9/235 [00:06<01:56,  1.94it/s, loss=16.2548, avg_loss=16.2507]"
     ]
    },
    {
     "name": "stdout",
     "output_type": "stream",
     "text": [
      "{'kd_loss': 32.493690490722656, 'feature_loss': 0.20781254768371582, 'ce_loss': 7.664432525634766, 'cont_loss': 1.5002059936523438, 'teacher_loss': 8.093391418457031, 'total_loss': 16.254833221435547}\n"
     ]
    },
    {
     "name": "stderr",
     "output_type": "stream",
     "text": [
      "Validating:   4%|▍         | 10/235 [00:06<01:53,  1.98it/s, loss=16.2871, avg_loss=16.2544]"
     ]
    },
    {
     "name": "stdout",
     "output_type": "stream",
     "text": [
      "{'kd_loss': 32.49280548095703, 'feature_loss': 0.2695956230163574, 'ce_loss': 7.711314678192139, 'cont_loss': 1.5150070190429688, 'teacher_loss': 8.09973430633545, 'total_loss': 16.287067413330078}\n"
     ]
    },
    {
     "name": "stderr",
     "output_type": "stream",
     "text": [
      "Validating:   5%|▍         | 11/235 [00:07<01:51,  2.01it/s, loss=16.3253, avg_loss=16.2608]"
     ]
    },
    {
     "name": "stdout",
     "output_type": "stream",
     "text": [
      "{'kd_loss': 32.49320602416992, 'feature_loss': 0.3122671842575073, 'ce_loss': 7.78774356842041, 'cont_loss': 1.504728078842163, 'teacher_loss': 8.077680587768555, 'total_loss': 16.325305938720703}\n"
     ]
    },
    {
     "name": "stderr",
     "output_type": "stream",
     "text": [
      "Validating:   5%|▌         | 12/235 [00:07<01:50,  2.03it/s, loss=16.2278, avg_loss=16.2581]"
     ]
    },
    {
     "name": "stdout",
     "output_type": "stream",
     "text": [
      "{'kd_loss': 32.492130279541016, 'feature_loss': 0.2619638442993164, 'ce_loss': 7.576045989990234, 'cont_loss': 1.4809744358062744, 'teacher_loss': 8.098153114318848, 'total_loss': 16.227760314941406}\n"
     ]
    },
    {
     "name": "stderr",
     "output_type": "stream",
     "text": [
      "Validating:   6%|▌         | 13/235 [00:08<01:49,  2.04it/s, loss=16.3385, avg_loss=16.2642]"
     ]
    },
    {
     "name": "stdout",
     "output_type": "stream",
     "text": [
      "{'kd_loss': 32.49394607543945, 'feature_loss': 0.30015361309051514, 'ce_loss': 7.834292888641357, 'cont_loss': 1.4716145992279053, 'teacher_loss': 8.082304000854492, 'total_loss': 16.33848762512207}\n"
     ]
    },
    {
     "name": "stderr",
     "output_type": "stream",
     "text": [
      "Validating:   6%|▌         | 14/235 [00:08<01:47,  2.05it/s, loss=16.3513, avg_loss=16.2705]"
     ]
    },
    {
     "name": "stdout",
     "output_type": "stream",
     "text": [
      "{'kd_loss': 32.493980407714844, 'feature_loss': 0.3471066951751709, 'ce_loss': 7.821829319000244, 'cont_loss': 1.5551447868347168, 'teacher_loss': 8.076078414916992, 'total_loss': 16.351259231567383}\n"
     ]
    },
    {
     "name": "stderr",
     "output_type": "stream",
     "text": [
      "Validating:   6%|▋         | 15/235 [00:09<01:46,  2.06it/s, loss=16.2505, avg_loss=16.2691]"
     ]
    },
    {
     "name": "stdout",
     "output_type": "stream",
     "text": [
      "{'kd_loss': 32.49214172363281, 'feature_loss': 0.2664985656738281, 'ce_loss': 7.637011528015137, 'cont_loss': 1.4558590650558472, 'teacher_loss': 8.09572696685791, 'total_loss': 16.250547409057617}\n"
     ]
    },
    {
     "name": "stderr",
     "output_type": "stream",
     "text": [
      "Validating:   7%|▋         | 16/235 [00:09<01:46,  2.06it/s, loss=16.3757, avg_loss=16.2758]"
     ]
    },
    {
     "name": "stdout",
     "output_type": "stream",
     "text": [
      "{'kd_loss': 32.493133544921875, 'feature_loss': 0.29839807748794556, 'ce_loss': 7.920533180236816, 'cont_loss': 1.5054482221603394, 'teacher_loss': 8.094047546386719, 'total_loss': 16.37569236755371}\n"
     ]
    },
    {
     "name": "stderr",
     "output_type": "stream",
     "text": [
      "Validating:   7%|▋         | 17/235 [00:10<01:45,  2.06it/s, loss=16.2232, avg_loss=16.2727]"
     ]
    },
    {
     "name": "stdout",
     "output_type": "stream",
     "text": [
      "{'kd_loss': 32.492340087890625, 'feature_loss': 0.3136001229286194, 'ce_loss': 7.534440994262695, 'cont_loss': 1.4979941844940186, 'teacher_loss': 8.083300590515137, 'total_loss': 16.22323226928711}\n"
     ]
    },
    {
     "name": "stderr",
     "output_type": "stream",
     "text": [
      "Validating:   8%|▊         | 18/235 [00:10<01:45,  2.07it/s, loss=16.4169, avg_loss=16.2807]"
     ]
    },
    {
     "name": "stdout",
     "output_type": "stream",
     "text": [
      "{'kd_loss': 32.492645263671875, 'feature_loss': 0.2654139995574951, 'ce_loss': 8.044317245483398, 'cont_loss': 1.4905242919921875, 'teacher_loss': 8.088582992553711, 'total_loss': 16.416919708251953}\n"
     ]
    },
    {
     "name": "stderr",
     "output_type": "stream",
     "text": [
      "Validating:   8%|▊         | 19/235 [00:11<01:44,  2.07it/s, loss=16.3739, avg_loss=16.2856]"
     ]
    },
    {
     "name": "stdout",
     "output_type": "stream",
     "text": [
      "{'kd_loss': 32.494102478027344, 'feature_loss': 0.28070175647735596, 'ce_loss': 7.928048610687256, 'cont_loss': 1.488858699798584, 'teacher_loss': 8.091907501220703, 'total_loss': 16.373886108398438}\n"
     ]
    },
    {
     "name": "stderr",
     "output_type": "stream",
     "text": [
      "Validating:   9%|▊         | 20/235 [00:11<01:44,  2.07it/s, loss=16.1963, avg_loss=16.2811]"
     ]
    },
    {
     "name": "stdout",
     "output_type": "stream",
     "text": [
      "{'kd_loss': 32.49301528930664, 'feature_loss': 0.2691177725791931, 'ce_loss': 7.49025821685791, 'cont_loss': 1.4912084341049194, 'teacher_loss': 8.101917266845703, 'total_loss': 16.19625473022461}\n"
     ]
    },
    {
     "name": "stderr",
     "output_type": "stream",
     "text": [
      "Validating:   9%|▉         | 21/235 [00:12<01:43,  2.06it/s, loss=16.2513, avg_loss=16.2797]"
     ]
    },
    {
     "name": "stdout",
     "output_type": "stream",
     "text": [
      "{'kd_loss': 32.49250030517578, 'feature_loss': 0.26193296909332275, 'ce_loss': 7.625768184661865, 'cont_loss': 1.5156152248382568, 'teacher_loss': 8.102839469909668, 'total_loss': 16.25125503540039}\n"
     ]
    },
    {
     "name": "stderr",
     "output_type": "stream",
     "text": [
      "Validating:   9%|▉         | 22/235 [00:12<01:43,  2.06it/s, loss=16.2941, avg_loss=16.2804]"
     ]
    },
    {
     "name": "stdout",
     "output_type": "stream",
     "text": [
      "{'kd_loss': 32.49171447753906, 'feature_loss': 0.2177412509918213, 'ce_loss': 7.748779296875, 'cont_loss': 1.5435947179794312, 'teacher_loss': 8.108870506286621, 'total_loss': 16.294105529785156}\n"
     ]
    },
    {
     "name": "stderr",
     "output_type": "stream",
     "text": [
      "Validating:  10%|▉         | 23/235 [00:13<01:42,  2.07it/s, loss=16.3752, avg_loss=16.2845]"
     ]
    },
    {
     "name": "stdout",
     "output_type": "stream",
     "text": [
      "{'kd_loss': 32.493896484375, 'feature_loss': 0.34992992877960205, 'ce_loss': 7.890885829925537, 'cont_loss': 1.512679100036621, 'teacher_loss': 8.078463554382324, 'total_loss': 16.375167846679688}\n"
     ]
    },
    {
     "name": "stderr",
     "output_type": "stream",
     "text": [
      "Validating:  10%|█         | 24/235 [00:13<01:42,  2.06it/s, loss=16.2792, avg_loss=16.2843]"
     ]
    },
    {
     "name": "stdout",
     "output_type": "stream",
     "text": [
      "{'kd_loss': 32.49479675292969, 'feature_loss': 0.282267689704895, 'ce_loss': 7.690676689147949, 'cont_loss': 1.4852843284606934, 'teacher_loss': 8.077380180358887, 'total_loss': 16.279172897338867}\n"
     ]
    },
    {
     "name": "stderr",
     "output_type": "stream",
     "text": [
      "Validating:  11%|█         | 25/235 [00:14<01:41,  2.06it/s, loss=16.3521, avg_loss=16.2870]"
     ]
    },
    {
     "name": "stdout",
     "output_type": "stream",
     "text": [
      "{'kd_loss': 32.494659423828125, 'feature_loss': 0.3061758875846863, 'ce_loss': 7.859144687652588, 'cont_loss': 1.4937103986740112, 'teacher_loss': 8.079717636108398, 'total_loss': 16.352127075195312}\n"
     ]
    },
    {
     "name": "stderr",
     "output_type": "stream",
     "text": [
      "Validating:  11%|█         | 26/235 [00:14<01:41,  2.06it/s, loss=16.2073, avg_loss=16.2839]"
     ]
    },
    {
     "name": "stdout",
     "output_type": "stream",
     "text": [
      "{'kd_loss': 32.49504089355469, 'feature_loss': 0.3860021233558655, 'ce_loss': 7.453775405883789, 'cont_loss': 1.5055909156799316, 'teacher_loss': 8.073326110839844, 'total_loss': 16.207286834716797}\n"
     ]
    },
    {
     "name": "stderr",
     "output_type": "stream",
     "text": [
      "Validating:  11%|█▏        | 27/235 [00:15<01:40,  2.07it/s, loss=16.0759, avg_loss=16.2762]"
     ]
    },
    {
     "name": "stdout",
     "output_type": "stream",
     "text": [
      "{'kd_loss': 32.49275207519531, 'feature_loss': 0.32891589403152466, 'ce_loss': 7.168285369873047, 'cont_loss': 1.4574521780014038, 'teacher_loss': 8.095134735107422, 'total_loss': 16.075942993164062}\n"
     ]
    },
    {
     "name": "stderr",
     "output_type": "stream",
     "text": [
      "Validating:  12%|█▏        | 28/235 [00:15<01:40,  2.06it/s, loss=16.3872, avg_loss=16.2802]"
     ]
    },
    {
     "name": "stdout",
     "output_type": "stream",
     "text": [
      "{'kd_loss': 32.49189758300781, 'feature_loss': 0.30303823947906494, 'ce_loss': 7.951074600219727, 'cont_loss': 1.494492769241333, 'teacher_loss': 8.10349178314209, 'total_loss': 16.387245178222656}\n"
     ]
    },
    {
     "name": "stderr",
     "output_type": "stream",
     "text": [
      "Validating:  12%|█▏        | 29/235 [00:15<01:39,  2.06it/s, loss=16.4176, avg_loss=16.2849]"
     ]
    },
    {
     "name": "stdout",
     "output_type": "stream",
     "text": [
      "{'kd_loss': 32.493865966796875, 'feature_loss': 0.271023154258728, 'ce_loss': 8.038900375366211, 'cont_loss': 1.5026168823242188, 'teacher_loss': 8.099176406860352, 'total_loss': 16.417572021484375}\n"
     ]
    },
    {
     "name": "stderr",
     "output_type": "stream",
     "text": [
      "Validating:  13%|█▎        | 30/235 [00:16<01:39,  2.06it/s, loss=16.1011, avg_loss=16.2788]"
     ]
    },
    {
     "name": "stdout",
     "output_type": "stream",
     "text": [
      "{'kd_loss': 32.49643325805664, 'feature_loss': 0.28751707077026367, 'ce_loss': 7.262850761413574, 'cont_loss': 1.3986172676086426, 'teacher_loss': 8.091172218322754, 'total_loss': 16.1010799407959}\n"
     ]
    },
    {
     "name": "stderr",
     "output_type": "stream",
     "text": [
      "Validating:  13%|█▎        | 31/235 [00:16<01:38,  2.06it/s, loss=16.2195, avg_loss=16.2769]"
     ]
    },
    {
     "name": "stdout",
     "output_type": "stream",
     "text": [
      "{'kd_loss': 32.493202209472656, 'feature_loss': 0.30169928073883057, 'ce_loss': 7.542557239532471, 'cont_loss': 1.4487535953521729, 'teacher_loss': 8.100967407226562, 'total_loss': 16.219518661499023}\n"
     ]
    },
    {
     "name": "stderr",
     "output_type": "stream",
     "text": [
      "Validating:  14%|█▎        | 32/235 [00:17<01:38,  2.06it/s, loss=16.2403, avg_loss=16.2757]"
     ]
    },
    {
     "name": "stdout",
     "output_type": "stream",
     "text": [
      "{'kd_loss': 32.49233627319336, 'feature_loss': 0.2452818751335144, 'ce_loss': 7.6123456954956055, 'cont_loss': 1.4933652877807617, 'teacher_loss': 8.09880256652832, 'total_loss': 16.240264892578125}\n"
     ]
    },
    {
     "name": "stderr",
     "output_type": "stream",
     "text": [
      "Validating:  14%|█▍        | 33/235 [00:17<01:38,  2.06it/s, loss=16.2577, avg_loss=16.2752]"
     ]
    },
    {
     "name": "stdout",
     "output_type": "stream",
     "text": [
      "{'kd_loss': 32.49325180053711, 'feature_loss': 0.2820478081703186, 'ce_loss': 7.637698650360107, 'cont_loss': 1.4892544746398926, 'teacher_loss': 8.100022315979004, 'total_loss': 16.25771713256836}\n"
     ]
    },
    {
     "name": "stderr",
     "output_type": "stream",
     "text": [
      "Validating:  14%|█▍        | 34/235 [00:18<01:37,  2.06it/s, loss=16.3128, avg_loss=16.2763]"
     ]
    },
    {
     "name": "stdout",
     "output_type": "stream",
     "text": [
      "{'kd_loss': 32.49262237548828, 'feature_loss': 0.35846561193466187, 'ce_loss': 7.734925270080566, 'cont_loss': 1.501328945159912, 'teacher_loss': 8.069586753845215, 'total_loss': 16.31284523010254}\n"
     ]
    },
    {
     "name": "stderr",
     "output_type": "stream",
     "text": [
      "Validating:  15%|█▍        | 35/235 [00:18<01:37,  2.06it/s, loss=16.2652, avg_loss=16.2760]"
     ]
    },
    {
     "name": "stdout",
     "output_type": "stream",
     "text": [
      "{'kd_loss': 32.493648529052734, 'feature_loss': 0.3471473455429077, 'ce_loss': 7.6320695877075195, 'cont_loss': 1.45527982711792, 'teacher_loss': 8.110922813415527, 'total_loss': 16.26524543762207}\n"
     ]
    },
    {
     "name": "stderr",
     "output_type": "stream",
     "text": [
      "Validating:  15%|█▌        | 36/235 [00:19<01:36,  2.06it/s, loss=16.2270, avg_loss=16.2746]"
     ]
    },
    {
     "name": "stdout",
     "output_type": "stream",
     "text": [
      "{'kd_loss': 32.4931640625, 'feature_loss': 0.22000151872634888, 'ce_loss': 7.578967094421387, 'cont_loss': 1.5414040088653564, 'teacher_loss': 8.105749130249023, 'total_loss': 16.226993560791016}\n"
     ]
    },
    {
     "name": "stderr",
     "output_type": "stream",
     "text": [
      "Validating:  16%|█▌        | 37/235 [00:19<01:36,  2.06it/s, loss=16.3498, avg_loss=16.2767]"
     ]
    },
    {
     "name": "stdout",
     "output_type": "stream",
     "text": [
      "{'kd_loss': 32.49166488647461, 'feature_loss': 0.24740684032440186, 'ce_loss': 7.855778694152832, 'cont_loss': 1.6136764287948608, 'teacher_loss': 8.096260070800781, 'total_loss': 16.34982681274414}\n"
     ]
    },
    {
     "name": "stderr",
     "output_type": "stream",
     "text": [
      "Validating:  16%|█▌        | 38/235 [00:20<01:35,  2.06it/s, loss=16.2822, avg_loss=16.2768]"
     ]
    },
    {
     "name": "stdout",
     "output_type": "stream",
     "text": [
      "{'kd_loss': 32.49235153198242, 'feature_loss': 0.3474001884460449, 'ce_loss': 7.612372875213623, 'cont_loss': 1.7085014581680298, 'teacher_loss': 8.096363067626953, 'total_loss': 16.2822208404541}\n"
     ]
    },
    {
     "name": "stderr",
     "output_type": "stream",
     "text": [
      "Validating:  17%|█▋        | 39/235 [00:20<01:35,  2.06it/s, loss=16.2743, avg_loss=16.2767]"
     ]
    },
    {
     "name": "stdout",
     "output_type": "stream",
     "text": [
      "{'kd_loss': 32.49173355102539, 'feature_loss': 0.2512854337692261, 'ce_loss': 7.684587001800537, 'cont_loss': 1.534820556640625, 'teacher_loss': 8.092698097229004, 'total_loss': 16.274267196655273}\n"
     ]
    },
    {
     "name": "stderr",
     "output_type": "stream",
     "text": [
      "Validating:  17%|█▋        | 40/235 [00:21<01:34,  2.06it/s, loss=16.3341, avg_loss=16.2782]"
     ]
    },
    {
     "name": "stdout",
     "output_type": "stream",
     "text": [
      "{'kd_loss': 32.49174118041992, 'feature_loss': 0.20037436485290527, 'ce_loss': 7.809490203857422, 'cont_loss': 1.735120177268982, 'teacher_loss': 8.102328300476074, 'total_loss': 16.33407974243164}\n"
     ]
    },
    {
     "name": "stderr",
     "output_type": "stream",
     "text": [
      "Validating:  17%|█▋        | 41/235 [00:21<01:34,  2.06it/s, loss=16.3289, avg_loss=16.2794]"
     ]
    },
    {
     "name": "stdout",
     "output_type": "stream",
     "text": [
      "{'kd_loss': 32.492332458496094, 'feature_loss': 0.2777329683303833, 'ce_loss': 7.786787509918213, 'cont_loss': 1.6170177459716797, 'teacher_loss': 8.078096389770508, 'total_loss': 16.328895568847656}\n"
     ]
    },
    {
     "name": "stderr",
     "output_type": "stream",
     "text": [
      "Validating:  18%|█▊        | 42/235 [00:22<01:33,  2.06it/s, loss=16.3883, avg_loss=16.2820]"
     ]
    },
    {
     "name": "stdout",
     "output_type": "stream",
     "text": [
      "{'kd_loss': 32.49420166015625, 'feature_loss': 0.27404260635375977, 'ce_loss': 7.943673133850098, 'cont_loss': 1.5830471515655518, 'teacher_loss': 8.101604461669922, 'total_loss': 16.388261795043945}\n"
     ]
    },
    {
     "name": "stderr",
     "output_type": "stream",
     "text": [
      "Validating:  18%|█▊        | 43/235 [00:22<01:33,  2.06it/s, loss=16.0885, avg_loss=16.2775]"
     ]
    },
    {
     "name": "stdout",
     "output_type": "stream",
     "text": [
      "{'kd_loss': 32.494056701660156, 'feature_loss': 0.35643523931503296, 'ce_loss': 7.1758012771606445, 'cont_loss': 1.4927879571914673, 'teacher_loss': 8.093932151794434, 'total_loss': 16.08850860595703}\n"
     ]
    },
    {
     "name": "stderr",
     "output_type": "stream",
     "text": [
      "Validating:  19%|█▊        | 44/235 [00:23<01:32,  2.06it/s, loss=16.4098, avg_loss=16.2805]"
     ]
    },
    {
     "name": "stdout",
     "output_type": "stream",
     "text": [
      "{'kd_loss': 32.493343353271484, 'feature_loss': 0.24202406406402588, 'ce_loss': 7.985012531280518, 'cont_loss': 1.700051188468933, 'teacher_loss': 8.111559867858887, 'total_loss': 16.409751892089844}\n"
     ]
    },
    {
     "name": "stderr",
     "output_type": "stream",
     "text": [
      "Validating:  19%|█▉        | 45/235 [00:23<01:32,  2.07it/s, loss=16.3932, avg_loss=16.2830]"
     ]
    },
    {
     "name": "stdout",
     "output_type": "stream",
     "text": [
      "{'kd_loss': 32.49207305908203, 'feature_loss': 0.2856926918029785, 'ce_loss': 7.950900077819824, 'cont_loss': 1.5891690254211426, 'teacher_loss': 8.108036994934082, 'total_loss': 16.39324378967285}\n"
     ]
    },
    {
     "name": "stderr",
     "output_type": "stream",
     "text": [
      "Validating:  20%|█▉        | 46/235 [00:24<01:31,  2.06it/s, loss=16.3308, avg_loss=16.2841]"
     ]
    },
    {
     "name": "stdout",
     "output_type": "stream",
     "text": [
      "{'kd_loss': 32.49299621582031, 'feature_loss': 0.335166871547699, 'ce_loss': 7.760273456573486, 'cont_loss': 1.6243247985839844, 'teacher_loss': 8.078130722045898, 'total_loss': 16.330774307250977}\n"
     ]
    },
    {
     "name": "stderr",
     "output_type": "stream",
     "text": [
      "Validating:  20%|██        | 47/235 [00:24<01:31,  2.06it/s, loss=16.3585, avg_loss=16.2856]"
     ]
    },
    {
     "name": "stdout",
     "output_type": "stream",
     "text": [
      "{'kd_loss': 32.492801666259766, 'feature_loss': 0.24138158559799194, 'ce_loss': 7.845867156982422, 'cont_loss': 1.7471132278442383, 'teacher_loss': 8.114617347717285, 'total_loss': 16.358455657958984}\n"
     ]
    },
    {
     "name": "stderr",
     "output_type": "stream",
     "text": [
      "Validating:  20%|██        | 48/235 [00:25<01:30,  2.06it/s, loss=16.2828, avg_loss=16.2856]"
     ]
    },
    {
     "name": "stdout",
     "output_type": "stream",
     "text": [
      "{'kd_loss': 32.496002197265625, 'feature_loss': 0.33899950981140137, 'ce_loss': 7.6457648277282715, 'cont_loss': 1.5833680629730225, 'teacher_loss': 8.095250129699707, 'total_loss': 16.2828426361084}\n"
     ]
    },
    {
     "name": "stderr",
     "output_type": "stream",
     "text": [
      "Validating:  21%|██        | 49/235 [00:25<01:29,  2.07it/s, loss=16.3579, avg_loss=16.2871]"
     ]
    },
    {
     "name": "stdout",
     "output_type": "stream",
     "text": [
      "{'kd_loss': 32.49384689331055, 'feature_loss': 0.27958452701568604, 'ce_loss': 7.844280242919922, 'cont_loss': 1.6672627925872803, 'teacher_loss': 8.099794387817383, 'total_loss': 16.357894897460938}\n"
     ]
    },
    {
     "name": "stderr",
     "output_type": "stream",
     "text": [
      "Validating:  21%|██▏       | 50/235 [00:26<01:29,  2.06it/s, loss=16.3491, avg_loss=16.2883]"
     ]
    },
    {
     "name": "stdout",
     "output_type": "stream",
     "text": [
      "{'kd_loss': 32.49310302734375, 'feature_loss': 0.30079758167266846, 'ce_loss': 7.811363220214844, 'cont_loss': 1.671525478363037, 'teacher_loss': 8.075209617614746, 'total_loss': 16.349098205566406}\n"
     ]
    },
    {
     "name": "stderr",
     "output_type": "stream",
     "text": [
      "Validating:  22%|██▏       | 51/235 [00:26<01:29,  2.07it/s, loss=16.3992, avg_loss=16.2905]"
     ]
    },
    {
     "name": "stdout",
     "output_type": "stream",
     "text": [
      "{'kd_loss': 32.49205780029297, 'feature_loss': 0.3029667139053345, 'ce_loss': 7.920424938201904, 'cont_loss': 1.7364579439163208, 'teacher_loss': 8.110777854919434, 'total_loss': 16.39923095703125}\n"
     ]
    },
    {
     "name": "stderr",
     "output_type": "stream",
     "text": [
      "Validating:  22%|██▏       | 52/235 [00:27<01:28,  2.06it/s, loss=16.2623, avg_loss=16.2899]"
     ]
    },
    {
     "name": "stdout",
     "output_type": "stream",
     "text": [
      "{'kd_loss': 32.493812561035156, 'feature_loss': 0.25168150663375854, 'ce_loss': 7.614302158355713, 'cont_loss': 1.6873574256896973, 'teacher_loss': 8.094162940979004, 'total_loss': 16.262317657470703}\n"
     ]
    },
    {
     "name": "stderr",
     "output_type": "stream",
     "text": [
      "Validating:  23%|██▎       | 53/235 [00:27<01:28,  2.07it/s, loss=16.4370, avg_loss=16.2927]"
     ]
    },
    {
     "name": "stdout",
     "output_type": "stream",
     "text": [
      "{'kd_loss': 32.49305725097656, 'feature_loss': 0.30264508724212646, 'ce_loss': 8.003596305847168, 'cont_loss': 1.7776904106140137, 'teacher_loss': 8.096526145935059, 'total_loss': 16.43695831298828}\n"
     ]
    },
    {
     "name": "stderr",
     "output_type": "stream",
     "text": [
      "Validating:  23%|██▎       | 54/235 [00:28<01:27,  2.06it/s, loss=16.3605, avg_loss=16.2940]"
     ]
    },
    {
     "name": "stdout",
     "output_type": "stream",
     "text": [
      "{'kd_loss': 32.494781494140625, 'feature_loss': 0.36922210454940796, 'ce_loss': 7.793219566345215, 'cont_loss': 1.7142592668533325, 'teacher_loss': 8.076523780822754, 'total_loss': 16.360471725463867}\n"
     ]
    },
    {
     "name": "stderr",
     "output_type": "stream",
     "text": [
      "Validating:  23%|██▎       | 55/235 [00:28<01:27,  2.06it/s, loss=16.2454, avg_loss=16.2931]"
     ]
    },
    {
     "name": "stdout",
     "output_type": "stream",
     "text": [
      "{'kd_loss': 32.497718811035156, 'feature_loss': 0.33831822872161865, 'ce_loss': 7.523622512817383, 'cont_loss': 1.6923621892929077, 'teacher_loss': 8.07835578918457, 'total_loss': 16.24543571472168}\n"
     ]
    },
    {
     "name": "stderr",
     "output_type": "stream",
     "text": [
      "Validating:  24%|██▍       | 56/235 [00:29<01:26,  2.07it/s, loss=16.5008, avg_loss=16.2968]"
     ]
    },
    {
     "name": "stdout",
     "output_type": "stream",
     "text": [
      "{'kd_loss': 32.49370574951172, 'feature_loss': 0.3330281972885132, 'ce_loss': 8.138429641723633, 'cont_loss': 1.8134701251983643, 'teacher_loss': 8.090283393859863, 'total_loss': 16.50080680847168}\n"
     ]
    },
    {
     "name": "stderr",
     "output_type": "stream",
     "text": [
      "Validating:  24%|██▍       | 57/235 [00:29<01:26,  2.06it/s, loss=16.5124, avg_loss=16.3006]"
     ]
    },
    {
     "name": "stdout",
     "output_type": "stream",
     "text": [
      "{'kd_loss': 32.493621826171875, 'feature_loss': 0.30546116828918457, 'ce_loss': 8.183585166931152, 'cont_loss': 1.803870439529419, 'teacher_loss': 8.102540969848633, 'total_loss': 16.51236343383789}\n"
     ]
    },
    {
     "name": "stderr",
     "output_type": "stream",
     "text": [
      "Validating:  25%|██▍       | 58/235 [00:30<01:25,  2.06it/s, loss=16.4066, avg_loss=16.3024]"
     ]
    },
    {
     "name": "stdout",
     "output_type": "stream",
     "text": [
      "{'kd_loss': 32.49409484863281, 'feature_loss': 0.28661787509918213, 'ce_loss': 7.921383857727051, 'cont_loss': 1.8305306434631348, 'teacher_loss': 8.099928855895996, 'total_loss': 16.40656852722168}\n"
     ]
    },
    {
     "name": "stderr",
     "output_type": "stream",
     "text": [
      "Validating:  25%|██▌       | 59/235 [00:30<01:25,  2.06it/s, loss=16.3622, avg_loss=16.3034]"
     ]
    },
    {
     "name": "stdout",
     "output_type": "stream",
     "text": [
      "{'kd_loss': 32.493202209472656, 'feature_loss': 0.2573419213294983, 'ce_loss': 7.824339389801025, 'cont_loss': 1.8367544412612915, 'teacher_loss': 8.095588684082031, 'total_loss': 16.36216163635254}\n"
     ]
    },
    {
     "name": "stderr",
     "output_type": "stream",
     "text": [
      "Validating:  26%|██▌       | 60/235 [00:31<01:24,  2.06it/s, loss=16.5099, avg_loss=16.3068]"
     ]
    },
    {
     "name": "stdout",
     "output_type": "stream",
     "text": [
      "{'kd_loss': 32.494468688964844, 'feature_loss': 0.33589643239974976, 'ce_loss': 8.151891708374023, 'cont_loss': 1.8414098024368286, 'teacher_loss': 8.088459968566895, 'total_loss': 16.509864807128906}\n"
     ]
    },
    {
     "name": "stderr",
     "output_type": "stream",
     "text": [
      "Validating:  26%|██▌       | 61/235 [00:31<01:24,  2.06it/s, loss=16.4379, avg_loss=16.3090]"
     ]
    },
    {
     "name": "stdout",
     "output_type": "stream",
     "text": [
      "{'kd_loss': 32.49427795410156, 'feature_loss': 0.27655768394470215, 'ce_loss': 7.9959492683410645, 'cont_loss': 1.8647372722625732, 'teacher_loss': 8.087957382202148, 'total_loss': 16.437875747680664}\n"
     ]
    },
    {
     "name": "stderr",
     "output_type": "stream",
     "text": [
      "Validating:  26%|██▋       | 62/235 [00:31<01:23,  2.06it/s, loss=16.3526, avg_loss=16.3097]"
     ]
    },
    {
     "name": "stdout",
     "output_type": "stream",
     "text": [
      "{'kd_loss': 32.49306869506836, 'feature_loss': 0.23265671730041504, 'ce_loss': 7.805434703826904, 'cont_loss': 1.8670918941497803, 'teacher_loss': 8.099935531616211, 'total_loss': 16.352642059326172}\n"
     ]
    },
    {
     "name": "stderr",
     "output_type": "stream",
     "text": [
      "Validating:  27%|██▋       | 63/235 [00:32<01:23,  2.06it/s, loss=16.4959, avg_loss=16.3127]"
     ]
    },
    {
     "name": "stdout",
     "output_type": "stream",
     "text": [
      "{'kd_loss': 32.49181365966797, 'feature_loss': 0.29277509450912476, 'ce_loss': 8.103927612304688, 'cont_loss': 1.9901235103607178, 'teacher_loss': 8.100892066955566, 'total_loss': 16.495864868164062}\n"
     ]
    },
    {
     "name": "stderr",
     "output_type": "stream",
     "text": [
      "Validating:  27%|██▋       | 64/235 [00:32<01:22,  2.06it/s, loss=16.3507, avg_loss=16.3132]"
     ]
    },
    {
     "name": "stdout",
     "output_type": "stream",
     "text": [
      "{'kd_loss': 32.49308776855469, 'feature_loss': 0.3055194616317749, 'ce_loss': 7.765352249145508, 'cont_loss': 1.8624415397644043, 'teacher_loss': 8.095332145690918, 'total_loss': 16.350725173950195}\n"
     ]
    },
    {
     "name": "stderr",
     "output_type": "stream",
     "text": [
      "Validating:  28%|██▊       | 65/235 [00:33<01:22,  2.06it/s, loss=16.4697, avg_loss=16.3157]"
     ]
    },
    {
     "name": "stdout",
     "output_type": "stream",
     "text": [
      "{'kd_loss': 32.491844177246094, 'feature_loss': 0.2725287675857544, 'ce_loss': 8.065084457397461, 'cont_loss': 1.9237666130065918, 'teacher_loss': 8.103659629821777, 'total_loss': 16.469654083251953}\n"
     ]
    },
    {
     "name": "stderr",
     "output_type": "stream",
     "text": [
      "Validating:  28%|██▊       | 66/235 [00:33<01:22,  2.06it/s, loss=16.3594, avg_loss=16.3163]"
     ]
    },
    {
     "name": "stdout",
     "output_type": "stream",
     "text": [
      "{'kd_loss': 32.4932975769043, 'feature_loss': 0.23605561256408691, 'ce_loss': 7.827701568603516, 'cont_loss': 1.8375545740127563, 'teacher_loss': 8.104835510253906, 'total_loss': 16.359365463256836}\n"
     ]
    },
    {
     "name": "stderr",
     "output_type": "stream",
     "text": [
      "Validating:  29%|██▊       | 67/235 [00:34<01:21,  2.06it/s, loss=16.2927, avg_loss=16.3160]"
     ]
    },
    {
     "name": "stdout",
     "output_type": "stream",
     "text": [
      "{'kd_loss': 32.492042541503906, 'feature_loss': 0.3083634376525879, 'ce_loss': 7.6204328536987305, 'cont_loss': 1.8602254390716553, 'teacher_loss': 8.089170455932617, 'total_loss': 16.292686462402344}\n"
     ]
    },
    {
     "name": "stderr",
     "output_type": "stream",
     "text": [
      "Validating:  29%|██▉       | 68/235 [00:34<01:21,  2.05it/s, loss=16.4635, avg_loss=16.3181]"
     ]
    },
    {
     "name": "stdout",
     "output_type": "stream",
     "text": [
      "{'kd_loss': 32.49234390258789, 'feature_loss': 0.2932474613189697, 'ce_loss': 8.005236625671387, 'cont_loss': 2.05783748626709, 'teacher_loss': 8.097172737121582, 'total_loss': 16.463464736938477}\n"
     ]
    },
    {
     "name": "stderr",
     "output_type": "stream",
     "text": [
      "Validating:  29%|██▉       | 69/235 [00:35<01:20,  2.05it/s, loss=16.3673, avg_loss=16.3188]"
     ]
    },
    {
     "name": "stdout",
     "output_type": "stream",
     "text": [
      "{'kd_loss': 32.493255615234375, 'feature_loss': 0.2848682403564453, 'ce_loss': 7.815304756164551, 'cont_loss': 1.8694909811019897, 'teacher_loss': 8.083024978637695, 'total_loss': 16.367345809936523}\n"
     ]
    },
    {
     "name": "stderr",
     "output_type": "stream",
     "text": [
      "Validating:  30%|██▉       | 70/235 [00:35<01:20,  2.05it/s, loss=16.3259, avg_loss=16.3189]"
     ]
    },
    {
     "name": "stdout",
     "output_type": "stream",
     "text": [
      "{'kd_loss': 32.494136810302734, 'feature_loss': 0.2700984477996826, 'ce_loss': 7.718494892120361, 'cont_loss': 1.8685741424560547, 'teacher_loss': 8.104626655578613, 'total_loss': 16.325929641723633}\n"
     ]
    },
    {
     "name": "stderr",
     "output_type": "stream",
     "text": [
      "Validating:  30%|███       | 71/235 [00:36<01:19,  2.05it/s, loss=16.4039, avg_loss=16.3201]"
     ]
    },
    {
     "name": "stdout",
     "output_type": "stream",
     "text": [
      "{'kd_loss': 32.49292755126953, 'feature_loss': 0.3114648461341858, 'ce_loss': 7.871915817260742, 'cont_loss': 1.9566402435302734, 'teacher_loss': 8.082619667053223, 'total_loss': 16.403894424438477}\n"
     ]
    },
    {
     "name": "stderr",
     "output_type": "stream",
     "text": [
      "Validating:  31%|███       | 72/235 [00:36<01:19,  2.06it/s, loss=16.4633, avg_loss=16.3221]"
     ]
    },
    {
     "name": "stdout",
     "output_type": "stream",
     "text": [
      "{'kd_loss': 32.49408721923828, 'feature_loss': 0.294097900390625, 'ce_loss': 8.022090911865234, 'cont_loss': 1.9800951480865479, 'teacher_loss': 8.08834457397461, 'total_loss': 16.463300704956055}\n"
     ]
    },
    {
     "name": "stderr",
     "output_type": "stream",
     "text": [
      "Validating:  31%|███       | 73/235 [00:37<01:18,  2.06it/s, loss=16.4439, avg_loss=16.3238]"
     ]
    },
    {
     "name": "stdout",
     "output_type": "stream",
     "text": [
      "{'kd_loss': 32.49298095703125, 'feature_loss': 0.26249784231185913, 'ce_loss': 8.003122329711914, 'cont_loss': 1.9297356605529785, 'teacher_loss': 8.115496635437012, 'total_loss': 16.44391441345215}\n"
     ]
    },
    {
     "name": "stderr",
     "output_type": "stream",
     "text": [
      "Validating:  31%|███▏      | 74/235 [00:37<01:18,  2.06it/s, loss=16.4319, avg_loss=16.3253]"
     ]
    },
    {
     "name": "stdout",
     "output_type": "stream",
     "text": [
      "{'kd_loss': 32.492271423339844, 'feature_loss': 0.2508988380432129, 'ce_loss': 7.962888717651367, 'cont_loss': 1.996664047241211, 'teacher_loss': 8.1055269241333, 'total_loss': 16.43191146850586}\n"
     ]
    },
    {
     "name": "stderr",
     "output_type": "stream",
     "text": [
      "Validating:  32%|███▏      | 75/235 [00:38<01:17,  2.06it/s, loss=16.3475, avg_loss=16.3256]"
     ]
    },
    {
     "name": "stdout",
     "output_type": "stream",
     "text": [
      "{'kd_loss': 32.49261474609375, 'feature_loss': 0.26850318908691406, 'ce_loss': 7.741377830505371, 'cont_loss': 2.0017495155334473, 'teacher_loss': 8.10744857788086, 'total_loss': 16.34747314453125}\n"
     ]
    },
    {
     "name": "stderr",
     "output_type": "stream",
     "text": [
      "Validating:  32%|███▏      | 76/235 [00:38<01:17,  2.06it/s, loss=16.4228, avg_loss=16.3268]"
     ]
    },
    {
     "name": "stdout",
     "output_type": "stream",
     "text": [
      "{'kd_loss': 32.49348831176758, 'feature_loss': 0.2910968065261841, 'ce_loss': 7.919152736663818, 'cont_loss': 1.9948970079421997, 'teacher_loss': 8.084792137145996, 'total_loss': 16.422765731811523}\n"
     ]
    },
    {
     "name": "stderr",
     "output_type": "stream",
     "text": [
      "Validating:  33%|███▎      | 77/235 [00:39<01:16,  2.06it/s, loss=16.4219, avg_loss=16.3281]"
     ]
    },
    {
     "name": "stdout",
     "output_type": "stream",
     "text": [
      "{'kd_loss': 32.492801666259766, 'feature_loss': 0.27978670597076416, 'ce_loss': 7.908124923706055, 'cont_loss': 2.0561790466308594, 'teacher_loss': 8.090642929077148, 'total_loss': 16.421945571899414}\n"
     ]
    },
    {
     "name": "stderr",
     "output_type": "stream",
     "text": [
      "Validating:  33%|███▎      | 78/235 [00:39<01:16,  2.06it/s, loss=16.4469, avg_loss=16.3296]"
     ]
    },
    {
     "name": "stdout",
     "output_type": "stream",
     "text": [
      "{'kd_loss': 32.49209213256836, 'feature_loss': 0.31540870666503906, 'ce_loss': 7.965950965881348, 'cont_loss': 2.0065011978149414, 'teacher_loss': 8.085430145263672, 'total_loss': 16.446949005126953}\n"
     ]
    },
    {
     "name": "stderr",
     "output_type": "stream",
     "text": [
      "Validating:  34%|███▎      | 79/235 [00:40<01:15,  2.06it/s, loss=16.4213, avg_loss=16.3308]"
     ]
    },
    {
     "name": "stdout",
     "output_type": "stream",
     "text": [
      "{'kd_loss': 32.49170684814453, 'feature_loss': 0.2744699716567993, 'ce_loss': 7.884139060974121, 'cont_loss': 2.1610300540924072, 'teacher_loss': 8.095523834228516, 'total_loss': 16.421335220336914}\n"
     ]
    },
    {
     "name": "stderr",
     "output_type": "stream",
     "text": [
      "Validating:  34%|███▍      | 80/235 [00:40<01:15,  2.06it/s, loss=16.4328, avg_loss=16.3320]"
     ]
    },
    {
     "name": "stdout",
     "output_type": "stream",
     "text": [
      "{'kd_loss': 32.49237823486328, 'feature_loss': 0.2889567017555237, 'ce_loss': 7.922976493835449, 'cont_loss': 2.088801145553589, 'teacher_loss': 8.0869140625, 'total_loss': 16.43281364440918}\n"
     ]
    },
    {
     "name": "stderr",
     "output_type": "stream",
     "text": [
      "Validating:  34%|███▍      | 81/235 [00:41<01:14,  2.06it/s, loss=16.3105, avg_loss=16.3318]"
     ]
    },
    {
     "name": "stdout",
     "output_type": "stream",
     "text": [
      "{'kd_loss': 32.493045806884766, 'feature_loss': 0.3151344060897827, 'ce_loss': 7.607696533203125, 'cont_loss': 2.0717549324035645, 'teacher_loss': 8.106243133544922, 'total_loss': 16.31049919128418}\n"
     ]
    },
    {
     "name": "stderr",
     "output_type": "stream",
     "text": [
      "Validating:  35%|███▍      | 82/235 [00:41<01:14,  2.06it/s, loss=16.4134, avg_loss=16.3328]"
     ]
    },
    {
     "name": "stdout",
     "output_type": "stream",
     "text": [
      "{'kd_loss': 32.491676330566406, 'feature_loss': 0.29302704334259033, 'ce_loss': 7.874660968780518, 'cont_loss': 2.0822665691375732, 'teacher_loss': 8.100454330444336, 'total_loss': 16.413368225097656}\n"
     ]
    },
    {
     "name": "stderr",
     "output_type": "stream",
     "text": [
      "Validating:  35%|███▌      | 83/235 [00:42<01:14,  2.05it/s, loss=16.5000, avg_loss=16.3348]"
     ]
    },
    {
     "name": "stdout",
     "output_type": "stream",
     "text": [
      "{'kd_loss': 32.49400329589844, 'feature_loss': 0.28683269023895264, 'ce_loss': 8.086677551269531, 'cont_loss': 2.1039175987243652, 'teacher_loss': 8.083498001098633, 'total_loss': 16.500030517578125}\n"
     ]
    },
    {
     "name": "stderr",
     "output_type": "stream",
     "text": [
      "Validating:  36%|███▌      | 84/235 [00:42<01:13,  2.05it/s, loss=16.4454, avg_loss=16.3361]"
     ]
    },
    {
     "name": "stdout",
     "output_type": "stream",
     "text": [
      "{'kd_loss': 32.493316650390625, 'feature_loss': 0.27097010612487793, 'ce_loss': 7.964784622192383, 'cont_loss': 2.0801403522491455, 'teacher_loss': 8.113911628723145, 'total_loss': 16.44544792175293}\n"
     ]
    },
    {
     "name": "stderr",
     "output_type": "stream",
     "text": [
      "Validating:  36%|███▌      | 85/235 [00:43<01:13,  2.05it/s, loss=16.4350, avg_loss=16.3373]"
     ]
    },
    {
     "name": "stdout",
     "output_type": "stream",
     "text": [
      "{'kd_loss': 32.49300003051758, 'feature_loss': 0.34628909826278687, 'ce_loss': 7.894542694091797, 'cont_loss': 2.1072750091552734, 'teacher_loss': 8.094803810119629, 'total_loss': 16.43500328063965}\n"
     ]
    },
    {
     "name": "stderr",
     "output_type": "stream",
     "text": [
      "Validating:  37%|███▋      | 86/235 [00:43<01:12,  2.05it/s, loss=16.4524, avg_loss=16.3386]"
     ]
    },
    {
     "name": "stdout",
     "output_type": "stream",
     "text": [
      "{'kd_loss': 32.49327087402344, 'feature_loss': 0.30715644359588623, 'ce_loss': 7.917513847351074, 'cont_loss': 2.266620635986328, 'teacher_loss': 8.08090877532959, 'total_loss': 16.452407836914062}\n"
     ]
    },
    {
     "name": "stderr",
     "output_type": "stream",
     "text": [
      "Validating:  37%|███▋      | 87/235 [00:44<01:12,  2.05it/s, loss=16.4826, avg_loss=16.3403]"
     ]
    },
    {
     "name": "stdout",
     "output_type": "stream",
     "text": [
      "{'kd_loss': 32.492919921875, 'feature_loss': 0.36306923627853394, 'ce_loss': 8.0020751953125, 'cont_loss': 2.119429349899292, 'teacher_loss': 8.07328987121582, 'total_loss': 16.482555389404297}\n"
     ]
    },
    {
     "name": "stderr",
     "output_type": "stream",
     "text": [
      "Validating:  37%|███▋      | 88/235 [00:44<01:11,  2.06it/s, loss=16.3855, avg_loss=16.3408]"
     ]
    },
    {
     "name": "stdout",
     "output_type": "stream",
     "text": [
      "{'kd_loss': 32.49340057373047, 'feature_loss': 0.30766797065734863, 'ce_loss': 7.781798362731934, 'cont_loss': 2.1386427879333496, 'teacher_loss': 8.096657752990723, 'total_loss': 16.38547706604004}\n"
     ]
    },
    {
     "name": "stderr",
     "output_type": "stream",
     "text": [
      "Validating:  38%|███▊      | 89/235 [00:45<01:11,  2.05it/s, loss=16.4543, avg_loss=16.3420]"
     ]
    },
    {
     "name": "stdout",
     "output_type": "stream",
     "text": [
      "{'kd_loss': 32.492645263671875, 'feature_loss': 0.2907508611679077, 'ce_loss': 7.9472503662109375, 'cont_loss': 2.2023062705993652, 'teacher_loss': 8.087947845458984, 'total_loss': 16.45433807373047}\n"
     ]
    },
    {
     "name": "stderr",
     "output_type": "stream",
     "text": [
      "Validating:  38%|███▊      | 90/235 [00:45<01:10,  2.05it/s, loss=16.4934, avg_loss=16.3437]"
     ]
    },
    {
     "name": "stdout",
     "output_type": "stream",
     "text": [
      "{'kd_loss': 32.491615295410156, 'feature_loss': 0.30579280853271484, 'ce_loss': 8.051583290100098, 'cont_loss': 2.1501245498657227, 'teacher_loss': 8.090288162231445, 'total_loss': 16.49344825744629}\n"
     ]
    },
    {
     "name": "stderr",
     "output_type": "stream",
     "text": [
      "Validating:  39%|███▊      | 91/235 [00:46<01:10,  2.05it/s, loss=16.5012, avg_loss=16.3455]"
     ]
    },
    {
     "name": "stdout",
     "output_type": "stream",
     "text": [
      "{'kd_loss': 32.49200439453125, 'feature_loss': 0.27998292446136475, 'ce_loss': 8.04098892211914, 'cont_loss': 2.320301055908203, 'teacher_loss': 8.094927787780762, 'total_loss': 16.5012264251709}\n"
     ]
    },
    {
     "name": "stderr",
     "output_type": "stream",
     "text": [
      "Validating:  39%|███▉      | 92/235 [00:46<01:09,  2.05it/s, loss=16.5639, avg_loss=16.3478]"
     ]
    },
    {
     "name": "stdout",
     "output_type": "stream",
     "text": [
      "{'kd_loss': 32.493473052978516, 'feature_loss': 0.2549359202384949, 'ce_loss': 8.23917007446289, 'cont_loss': 2.198213577270508, 'teacher_loss': 8.103947639465332, 'total_loss': 16.563867568969727}\n"
     ]
    },
    {
     "name": "stderr",
     "output_type": "stream",
     "text": [
      "Validating:  40%|███▉      | 93/235 [00:47<01:09,  2.05it/s, loss=16.4865, avg_loss=16.3493]"
     ]
    },
    {
     "name": "stdout",
     "output_type": "stream",
     "text": [
      "{'kd_loss': 32.49419021606445, 'feature_loss': 0.29613667726516724, 'ce_loss': 8.032526969909668, 'cont_loss': 2.166316509246826, 'teacher_loss': 8.083080291748047, 'total_loss': 16.486543655395508}\n"
     ]
    },
    {
     "name": "stderr",
     "output_type": "stream",
     "text": [
      "Validating:  40%|████      | 94/235 [00:47<01:08,  2.05it/s, loss=16.4447, avg_loss=16.3503]"
     ]
    },
    {
     "name": "stdout",
     "output_type": "stream",
     "text": [
      "{'kd_loss': 32.493900299072266, 'feature_loss': 0.2683253288269043, 'ce_loss': 7.897110939025879, 'cont_loss': 2.3461294174194336, 'teacher_loss': 8.09032154083252, 'total_loss': 16.444683074951172}\n"
     ]
    },
    {
     "name": "stderr",
     "output_type": "stream",
     "text": [
      "Validating:  40%|████      | 95/235 [00:48<01:08,  2.05it/s, loss=16.3810, avg_loss=16.3507]"
     ]
    },
    {
     "name": "stdout",
     "output_type": "stream",
     "text": [
      "{'kd_loss': 32.49306106567383, 'feature_loss': 0.32313185930252075, 'ce_loss': 7.74078893661499, 'cont_loss': 2.22881817817688, 'teacher_loss': 8.091988563537598, 'total_loss': 16.38104820251465}\n"
     ]
    },
    {
     "name": "stderr",
     "output_type": "stream",
     "text": [
      "Validating:  41%|████      | 96/235 [00:48<01:07,  2.05it/s, loss=16.4903, avg_loss=16.3521]"
     ]
    },
    {
     "name": "stdout",
     "output_type": "stream",
     "text": [
      "{'kd_loss': 32.49512481689453, 'feature_loss': 0.2830246686935425, 'ce_loss': 8.030335426330566, 'cont_loss': 2.2351248264312744, 'teacher_loss': 8.093450546264648, 'total_loss': 16.49030113220215}\n"
     ]
    },
    {
     "name": "stderr",
     "output_type": "stream",
     "text": [
      "Validating:  41%|████▏     | 97/235 [00:49<01:07,  2.04it/s, loss=16.4632, avg_loss=16.3533]"
     ]
    },
    {
     "name": "stdout",
     "output_type": "stream",
     "text": [
      "{'kd_loss': 32.49165344238281, 'feature_loss': 0.2916160225868225, 'ce_loss': 7.965206623077393, 'cont_loss': 2.2214696407318115, 'teacher_loss': 8.09271240234375, 'total_loss': 16.463212966918945}\n"
     ]
    },
    {
     "name": "stderr",
     "output_type": "stream",
     "text": [
      "Validating:  42%|████▏     | 98/235 [00:49<01:06,  2.05it/s, loss=16.5387, avg_loss=16.3552]"
     ]
    },
    {
     "name": "stdout",
     "output_type": "stream",
     "text": [
      "{'kd_loss': 32.49287796020508, 'feature_loss': 0.3280724287033081, 'ce_loss': 8.089004516601562, 'cont_loss': 2.402989625930786, 'teacher_loss': 8.084928512573242, 'total_loss': 16.538667678833008}\n"
     ]
    },
    {
     "name": "stderr",
     "output_type": "stream",
     "text": [
      "Validating:  42%|████▏     | 99/235 [00:49<01:06,  2.05it/s, loss=16.4863, avg_loss=16.3565]"
     ]
    },
    {
     "name": "stdout",
     "output_type": "stream",
     "text": [
      "{'kd_loss': 32.49187469482422, 'feature_loss': 0.29451894760131836, 'ce_loss': 7.997535705566406, 'cont_loss': 2.316436767578125, 'teacher_loss': 8.089092254638672, 'total_loss': 16.486310958862305}\n"
     ]
    },
    {
     "name": "stderr",
     "output_type": "stream",
     "text": [
      "Validating:  43%|████▎     | 100/235 [00:50<01:05,  2.05it/s, loss=16.4422, avg_loss=16.3573]"
     ]
    },
    {
     "name": "stdout",
     "output_type": "stream",
     "text": [
      "{'kd_loss': 32.492820739746094, 'feature_loss': 0.2596859931945801, 'ce_loss': 7.901188850402832, 'cont_loss': 2.3264219760894775, 'teacher_loss': 8.109529495239258, 'total_loss': 16.442184448242188}\n"
     ]
    },
    {
     "name": "stderr",
     "output_type": "stream",
     "text": [
      "Validating:  43%|████▎     | 101/235 [00:50<01:05,  2.05it/s, loss=16.4594, avg_loss=16.3583]"
     ]
    },
    {
     "name": "stdout",
     "output_type": "stream",
     "text": [
      "{'kd_loss': 32.492149353027344, 'feature_loss': 0.27539992332458496, 'ce_loss': 7.939024448394775, 'cont_loss': 2.318176746368408, 'teacher_loss': 8.102082252502441, 'total_loss': 16.459367752075195}\n"
     ]
    },
    {
     "name": "stderr",
     "output_type": "stream",
     "text": [
      "Validating:  43%|████▎     | 102/235 [00:51<01:05,  2.04it/s, loss=16.5058, avg_loss=16.3598]"
     ]
    },
    {
     "name": "stdout",
     "output_type": "stream",
     "text": [
      "{'kd_loss': 32.4919548034668, 'feature_loss': 0.24966847896575928, 'ce_loss': 8.06722354888916, 'cont_loss': 2.3220062255859375, 'teacher_loss': 8.104488372802734, 'total_loss': 16.50580596923828}\n"
     ]
    },
    {
     "name": "stderr",
     "output_type": "stream",
     "text": [
      "Validating:  44%|████▍     | 103/235 [00:51<01:04,  2.05it/s, loss=16.5328, avg_loss=16.3615]"
     ]
    },
    {
     "name": "stdout",
     "output_type": "stream",
     "text": [
      "{'kd_loss': 32.49226379394531, 'feature_loss': 0.2749732732772827, 'ce_loss': 8.077733039855957, 'cont_loss': 2.4979591369628906, 'teacher_loss': 8.096457481384277, 'total_loss': 16.53278923034668}\n"
     ]
    },
    {
     "name": "stderr",
     "output_type": "stream",
     "text": [
      "Validating:  44%|████▍     | 104/235 [00:52<01:03,  2.05it/s, loss=16.5673, avg_loss=16.3634]"
     ]
    },
    {
     "name": "stdout",
     "output_type": "stream",
     "text": [
      "{'kd_loss': 32.49195098876953, 'feature_loss': 0.26386553049087524, 'ce_loss': 8.205212593078613, 'cont_loss': 2.3569767475128174, 'teacher_loss': 8.099063873291016, 'total_loss': 16.56733512878418}\n"
     ]
    },
    {
     "name": "stderr",
     "output_type": "stream",
     "text": [
      "Validating:  45%|████▍     | 105/235 [00:52<01:03,  2.05it/s, loss=16.4798, avg_loss=16.3646]"
     ]
    },
    {
     "name": "stdout",
     "output_type": "stream",
     "text": [
      "{'kd_loss': 32.492889404296875, 'feature_loss': 0.26727086305618286, 'ce_loss': 7.981915473937988, 'cont_loss': 2.363891124725342, 'teacher_loss': 8.09523868560791, 'total_loss': 16.479766845703125}\n"
     ]
    },
    {
     "name": "stderr",
     "output_type": "stream",
     "text": [
      "Validating:  45%|████▌     | 106/235 [00:53<01:02,  2.05it/s, loss=16.5719, avg_loss=16.3665]"
     ]
    },
    {
     "name": "stdout",
     "output_type": "stream",
     "text": [
      "{'kd_loss': 32.49407958984375, 'feature_loss': 0.32487356662750244, 'ce_loss': 8.139887809753418, 'cont_loss': 2.533163547515869, 'teacher_loss': 8.092042922973633, 'total_loss': 16.57187843322754}\n"
     ]
    },
    {
     "name": "stderr",
     "output_type": "stream",
     "text": [
      "Validating:  46%|████▌     | 107/235 [00:53<01:02,  2.04it/s, loss=16.3700, avg_loss=16.3665]"
     ]
    },
    {
     "name": "stdout",
     "output_type": "stream",
     "text": [
      "{'kd_loss': 32.49457550048828, 'feature_loss': 0.34772515296936035, 'ce_loss': 7.672774791717529, 'cont_loss': 2.3348140716552734, 'teacher_loss': 8.097872734069824, 'total_loss': 16.36996841430664}\n"
     ]
    },
    {
     "name": "stderr",
     "output_type": "stream",
     "text": [
      "Validating:  46%|████▌     | 108/235 [00:54<01:02,  2.04it/s, loss=16.4722, avg_loss=16.3675]"
     ]
    },
    {
     "name": "stdout",
     "output_type": "stream",
     "text": [
      "{'kd_loss': 32.49397277832031, 'feature_loss': 0.3167526125907898, 'ce_loss': 7.944143772125244, 'cont_loss': 2.3356781005859375, 'teacher_loss': 8.091839790344238, 'total_loss': 16.472166061401367}\n"
     ]
    },
    {
     "name": "stderr",
     "output_type": "stream",
     "text": [
      "Validating:  46%|████▋     | 109/235 [00:54<01:01,  2.04it/s, loss=16.5221, avg_loss=16.3689]"
     ]
    },
    {
     "name": "stdout",
     "output_type": "stream",
     "text": [
      "{'kd_loss': 32.493003845214844, 'feature_loss': 0.2733120918273926, 'ce_loss': 8.047677040100098, 'cont_loss': 2.5120110511779785, 'teacher_loss': 8.089162826538086, 'total_loss': 16.522136688232422}\n"
     ]
    },
    {
     "name": "stderr",
     "output_type": "stream",
     "text": [
      "Validating:  47%|████▋     | 110/235 [00:55<01:01,  2.04it/s, loss=16.4875, avg_loss=16.3700]"
     ]
    },
    {
     "name": "stdout",
     "output_type": "stream",
     "text": [
      "{'kd_loss': 32.4925651550293, 'feature_loss': 0.3133958578109741, 'ce_loss': 7.964747428894043, 'cont_loss': 2.4186530113220215, 'teacher_loss': 8.087928771972656, 'total_loss': 16.487470626831055}\n"
     ]
    },
    {
     "name": "stderr",
     "output_type": "stream",
     "text": [
      "Validating:  47%|████▋     | 111/235 [00:55<01:00,  2.04it/s, loss=16.4936, avg_loss=16.3711]"
     ]
    },
    {
     "name": "stdout",
     "output_type": "stream",
     "text": [
      "{'kd_loss': 32.492164611816406, 'feature_loss': 0.2937740087509155, 'ce_loss': 7.985958099365234, 'cont_loss': 2.435778856277466, 'teacher_loss': 8.097956657409668, 'total_loss': 16.493581771850586}\n"
     ]
    },
    {
     "name": "stderr",
     "output_type": "stream",
     "text": [
      "Validating:  48%|████▊     | 112/235 [00:56<01:00,  2.04it/s, loss=16.4808, avg_loss=16.3721]"
     ]
    },
    {
     "name": "stdout",
     "output_type": "stream",
     "text": [
      "{'kd_loss': 32.494117736816406, 'feature_loss': 0.35359740257263184, 'ce_loss': 7.9287261962890625, 'cont_loss': 2.409383535385132, 'teacher_loss': 8.098051071166992, 'total_loss': 16.48079490661621}\n"
     ]
    },
    {
     "name": "stderr",
     "output_type": "stream",
     "text": [
      "Validating:  48%|████▊     | 113/235 [00:56<00:59,  2.04it/s, loss=16.4721, avg_loss=16.3730]"
     ]
    },
    {
     "name": "stdout",
     "output_type": "stream",
     "text": [
      "{'kd_loss': 32.493263244628906, 'feature_loss': 0.294105589389801, 'ce_loss': 7.938446044921875, 'cont_loss': 2.4058659076690674, 'teacher_loss': 8.098546028137207, 'total_loss': 16.472091674804688}\n"
     ]
    },
    {
     "name": "stderr",
     "output_type": "stream",
     "text": [
      "Validating:  49%|████▊     | 114/235 [00:57<00:59,  2.04it/s, loss=16.5286, avg_loss=16.3744]"
     ]
    },
    {
     "name": "stdout",
     "output_type": "stream",
     "text": [
      "{'kd_loss': 32.493186950683594, 'feature_loss': 0.3321523666381836, 'ce_loss': 8.016218185424805, 'cont_loss': 2.583873748779297, 'teacher_loss': 8.086519241333008, 'total_loss': 16.528579711914062}\n"
     ]
    },
    {
     "name": "stderr",
     "output_type": "stream",
     "text": [
      "Validating:  49%|████▉     | 115/235 [00:57<00:58,  2.04it/s, loss=16.6599, avg_loss=16.3768]"
     ]
    },
    {
     "name": "stdout",
     "output_type": "stream",
     "text": [
      "{'kd_loss': 32.4932861328125, 'feature_loss': 0.3246581554412842, 'ce_loss': 8.383859634399414, 'cont_loss': 2.4411211013793945, 'teacher_loss': 8.09472370147705, 'total_loss': 16.659902572631836}\n"
     ]
    },
    {
     "name": "stderr",
     "output_type": "stream",
     "text": [
      "Validating:  49%|████▉     | 116/235 [00:58<00:58,  2.04it/s, loss=16.4930, avg_loss=16.3778]"
     ]
    },
    {
     "name": "stdout",
     "output_type": "stream",
     "text": [
      "{'kd_loss': 32.49211883544922, 'feature_loss': 0.25098371505737305, 'ce_loss': 7.997661113739014, 'cont_loss': 2.4690568447113037, 'teacher_loss': 8.093687057495117, 'total_loss': 16.49301528930664}\n"
     ]
    },
    {
     "name": "stderr",
     "output_type": "stream",
     "text": [
      "Validating:  50%|████▉     | 117/235 [00:58<00:57,  2.05it/s, loss=16.5209, avg_loss=16.3791]"
     ]
    },
    {
     "name": "stdout",
     "output_type": "stream",
     "text": [
      "{'kd_loss': 32.49410629272461, 'feature_loss': 0.3128594160079956, 'ce_loss': 8.023161888122559, 'cont_loss': 2.5141568183898926, 'teacher_loss': 8.0801362991333, 'total_loss': 16.520893096923828}\n"
     ]
    },
    {
     "name": "stderr",
     "output_type": "stream",
     "text": [
      "Validating:  50%|█████     | 118/235 [00:59<00:57,  2.05it/s, loss=16.5352, avg_loss=16.3804]"
     ]
    },
    {
     "name": "stdout",
     "output_type": "stream",
     "text": [
      "{'kd_loss': 32.49232864379883, 'feature_loss': 0.3139183521270752, 'ce_loss': 8.070528030395508, 'cont_loss': 2.473209857940674, 'teacher_loss': 8.086188316345215, 'total_loss': 16.535245895385742}\n"
     ]
    },
    {
     "name": "stderr",
     "output_type": "stream",
     "text": [
      "Validating:  51%|█████     | 119/235 [00:59<00:56,  2.04it/s, loss=16.5109, avg_loss=16.3815]"
     ]
    },
    {
     "name": "stdout",
     "output_type": "stream",
     "text": [
      "{'kd_loss': 32.493316650390625, 'feature_loss': 0.27579265832901, 'ce_loss': 8.021953582763672, 'cont_loss': 2.496246337890625, 'teacher_loss': 8.082653999328613, 'total_loss': 16.51089096069336}\n"
     ]
    },
    {
     "name": "stderr",
     "output_type": "stream",
     "text": [
      "Validating:  51%|█████     | 120/235 [01:00<00:56,  2.04it/s, loss=16.5504, avg_loss=16.3829]"
     ]
    },
    {
     "name": "stdout",
     "output_type": "stream",
     "text": [
      "{'kd_loss': 32.49124526977539, 'feature_loss': 0.34972941875457764, 'ce_loss': 8.076459884643555, 'cont_loss': 2.5335617065429688, 'teacher_loss': 8.097643852233887, 'total_loss': 16.550384521484375}\n"
     ]
    },
    {
     "name": "stderr",
     "output_type": "stream",
     "text": [
      "Validating:  51%|█████▏    | 121/235 [01:00<00:55,  2.04it/s, loss=16.5595, avg_loss=16.3844]"
     ]
    },
    {
     "name": "stdout",
     "output_type": "stream",
     "text": [
      "{'kd_loss': 32.492347717285156, 'feature_loss': 0.2919566035270691, 'ce_loss': 8.124143600463867, 'cont_loss': 2.545180320739746, 'teacher_loss': 8.099889755249023, 'total_loss': 16.559507369995117}\n"
     ]
    },
    {
     "name": "stderr",
     "output_type": "stream",
     "text": [
      "Validating:  52%|█████▏    | 122/235 [01:01<00:55,  2.05it/s, loss=16.4604, avg_loss=16.3850]"
     ]
    },
    {
     "name": "stdout",
     "output_type": "stream",
     "text": [
      "{'kd_loss': 32.49322509765625, 'feature_loss': 0.29643821716308594, 'ce_loss': 7.868758201599121, 'cont_loss': 2.5627670288085938, 'teacher_loss': 8.105137825012207, 'total_loss': 16.460359573364258}\n"
     ]
    },
    {
     "name": "stderr",
     "output_type": "stream",
     "text": [
      "Validating:  52%|█████▏    | 123/235 [01:01<00:54,  2.05it/s, loss=16.5604, avg_loss=16.3864]"
     ]
    },
    {
     "name": "stdout",
     "output_type": "stream",
     "text": [
      "{'kd_loss': 32.49366760253906, 'feature_loss': 0.2843207120895386, 'ce_loss': 8.099603652954102, 'cont_loss': 2.6627159118652344, 'teacher_loss': 8.092960357666016, 'total_loss': 16.560443878173828}\n"
     ]
    },
    {
     "name": "stderr",
     "output_type": "stream",
     "text": [
      "Validating:  53%|█████▎    | 124/235 [01:02<00:54,  2.05it/s, loss=16.5660, avg_loss=16.3879]"
     ]
    },
    {
     "name": "stdout",
     "output_type": "stream",
     "text": [
      "{'kd_loss': 32.492881774902344, 'feature_loss': 0.28905385732650757, 'ce_loss': 8.15456485748291, 'cont_loss': 2.4925456047058105, 'teacher_loss': 8.082690238952637, 'total_loss': 16.566043853759766}\n"
     ]
    },
    {
     "name": "stderr",
     "output_type": "stream",
     "text": [
      "Validating:  53%|█████▎    | 125/235 [01:02<00:53,  2.05it/s, loss=16.5408, avg_loss=16.3891]"
     ]
    },
    {
     "name": "stdout",
     "output_type": "stream",
     "text": [
      "{'kd_loss': 32.493099212646484, 'feature_loss': 0.2891417145729065, 'ce_loss': 8.047887802124023, 'cont_loss': 2.66542911529541, 'teacher_loss': 8.091315269470215, 'total_loss': 16.5407657623291}\n"
     ]
    },
    {
     "name": "stderr",
     "output_type": "stream",
     "text": [
      "Validating:  54%|█████▎    | 126/235 [01:03<00:53,  2.04it/s, loss=16.4719, avg_loss=16.3897]"
     ]
    },
    {
     "name": "stdout",
     "output_type": "stream",
     "text": [
      "{'kd_loss': 32.49317169189453, 'feature_loss': 0.28159868717193604, 'ce_loss': 7.911313056945801, 'cont_loss': 2.537522554397583, 'teacher_loss': 8.100909233093262, 'total_loss': 16.471866607666016}\n"
     ]
    },
    {
     "name": "stderr",
     "output_type": "stream",
     "text": [
      "Validating:  54%|█████▍    | 127/235 [01:03<00:52,  2.05it/s, loss=16.5604, avg_loss=16.3911]"
     ]
    },
    {
     "name": "stdout",
     "output_type": "stream",
     "text": [
      "{'kd_loss': 32.493927001953125, 'feature_loss': 0.33273887634277344, 'ce_loss': 8.08719253540039, 'cont_loss': 2.6138458251953125, 'teacher_loss': 8.082253456115723, 'total_loss': 16.560380935668945}\n"
     ]
    },
    {
     "name": "stderr",
     "output_type": "stream",
     "text": [
      "Validating:  54%|█████▍    | 128/235 [01:04<00:52,  2.05it/s, loss=16.4007, avg_loss=16.3912]"
     ]
    },
    {
     "name": "stdout",
     "output_type": "stream",
     "text": [
      "{'kd_loss': 32.49378967285156, 'feature_loss': 0.29474687576293945, 'ce_loss': 7.719033241271973, 'cont_loss': 2.566478729248047, 'teacher_loss': 8.085543632507324, 'total_loss': 16.400726318359375}\n"
     ]
    },
    {
     "name": "stderr",
     "output_type": "stream",
     "text": [
      "Validating:  55%|█████▍    | 129/235 [01:04<00:51,  2.05it/s, loss=16.5219, avg_loss=16.3922]"
     ]
    },
    {
     "name": "stdout",
     "output_type": "stream",
     "text": [
      "{'kd_loss': 32.49217987060547, 'feature_loss': 0.2817126512527466, 'ce_loss': 8.015617370605469, 'cont_loss': 2.6239495277404785, 'teacher_loss': 8.09752368927002, 'total_loss': 16.5218563079834}\n"
     ]
    },
    {
     "name": "stderr",
     "output_type": "stream",
     "text": [
      "Validating:  55%|█████▌    | 130/235 [01:05<00:51,  2.05it/s, loss=16.5928, avg_loss=16.3937]"
     ]
    },
    {
     "name": "stdout",
     "output_type": "stream",
     "text": [
      "{'kd_loss': 32.49345779418945, 'feature_loss': 0.27081823348999023, 'ce_loss': 8.16335678100586, 'cont_loss': 2.7590255737304688, 'teacher_loss': 8.093986511230469, 'total_loss': 16.592792510986328}\n"
     ]
    },
    {
     "name": "stderr",
     "output_type": "stream",
     "text": [
      "Validating:  56%|█████▌    | 131/235 [01:05<00:50,  2.05it/s, loss=16.6000, avg_loss=16.3953]"
     ]
    },
    {
     "name": "stdout",
     "output_type": "stream",
     "text": [
      "{'kd_loss': 32.492733001708984, 'feature_loss': 0.31173086166381836, 'ce_loss': 8.151008605957031, 'cont_loss': 2.801361083984375, 'teacher_loss': 8.095683097839355, 'total_loss': 16.599979400634766}\n"
     ]
    },
    {
     "name": "stderr",
     "output_type": "stream",
     "text": [
      "Validating:  56%|█████▌    | 132/235 [01:06<00:50,  2.05it/s, loss=16.4712, avg_loss=16.3959]"
     ]
    },
    {
     "name": "stdout",
     "output_type": "stream",
     "text": [
      "{'kd_loss': 32.49199676513672, 'feature_loss': 0.28248441219329834, 'ce_loss': 7.893453121185303, 'cont_loss': 2.605189800262451, 'teacher_loss': 8.101875305175781, 'total_loss': 16.471195220947266}\n"
     ]
    },
    {
     "name": "stderr",
     "output_type": "stream",
     "text": [
      "Validating:  57%|█████▋    | 133/235 [01:06<00:49,  2.05it/s, loss=16.5962, avg_loss=16.3974]"
     ]
    },
    {
     "name": "stdout",
     "output_type": "stream",
     "text": [
      "{'kd_loss': 32.49348449707031, 'feature_loss': 0.29705679416656494, 'ce_loss': 8.194398880004883, 'cont_loss': 2.616352081298828, 'teacher_loss': 8.086943626403809, 'total_loss': 16.59619903564453}\n"
     ]
    },
    {
     "name": "stderr",
     "output_type": "stream",
     "text": [
      "Validating:  57%|█████▋    | 134/235 [01:07<00:49,  2.05it/s, loss=16.5507, avg_loss=16.3985]"
     ]
    },
    {
     "name": "stdout",
     "output_type": "stream",
     "text": [
      "{'kd_loss': 32.491607666015625, 'feature_loss': 0.293759286403656, 'ce_loss': 8.045023918151855, 'cont_loss': 2.7729949951171875, 'teacher_loss': 8.095211029052734, 'total_loss': 16.550704956054688}\n"
     ]
    },
    {
     "name": "stderr",
     "output_type": "stream",
     "text": [
      "Validating:  57%|█████▋    | 135/235 [01:07<00:48,  2.05it/s, loss=16.6819, avg_loss=16.4006]"
     ]
    },
    {
     "name": "stdout",
     "output_type": "stream",
     "text": [
      "{'kd_loss': 32.493133544921875, 'feature_loss': 0.31837010383605957, 'ce_loss': 8.320183753967285, 'cont_loss': 2.929102897644043, 'teacher_loss': 8.083233833312988, 'total_loss': 16.681909561157227}\n"
     ]
    },
    {
     "name": "stderr",
     "output_type": "stream",
     "text": [
      "Validating:  58%|█████▊    | 136/235 [01:08<00:48,  2.06it/s, loss=16.5428, avg_loss=16.4017]"
     ]
    },
    {
     "name": "stdout",
     "output_type": "stream",
     "text": [
      "{'kd_loss': 32.49211883544922, 'feature_loss': 0.2759917974472046, 'ce_loss': 8.06787395477295, 'cont_loss': 2.6358866691589355, 'teacher_loss': 8.094141960144043, 'total_loss': 16.542783737182617}\n"
     ]
    },
    {
     "name": "stderr",
     "output_type": "stream",
     "text": [
      "Validating:  58%|█████▊    | 137/235 [01:08<00:47,  2.06it/s, loss=16.5380, avg_loss=16.4026]"
     ]
    },
    {
     "name": "stdout",
     "output_type": "stream",
     "text": [
      "{'kd_loss': 32.49224090576172, 'feature_loss': 0.3210099935531616, 'ce_loss': 8.021154403686523, 'cont_loss': 2.6839287281036377, 'teacher_loss': 8.089262008666992, 'total_loss': 16.537954330444336}\n"
     ]
    },
    {
     "name": "stderr",
     "output_type": "stream",
     "text": [
      "Validating:  59%|█████▊    | 138/235 [01:09<00:47,  2.06it/s, loss=16.5051, avg_loss=16.4034]"
     ]
    },
    {
     "name": "stdout",
     "output_type": "stream",
     "text": [
      "{'kd_loss': 32.49213409423828, 'feature_loss': 0.2901444435119629, 'ce_loss': 7.948519229888916, 'cont_loss': 2.70760178565979, 'teacher_loss': 8.093263626098633, 'total_loss': 16.505050659179688}\n"
     ]
    },
    {
     "name": "stderr",
     "output_type": "stream",
     "text": [
      "Validating:  59%|█████▉    | 139/235 [01:09<00:46,  2.06it/s, loss=16.5518, avg_loss=16.4045]"
     ]
    },
    {
     "name": "stdout",
     "output_type": "stream",
     "text": [
      "{'kd_loss': 32.492740631103516, 'feature_loss': 0.32220935821533203, 'ce_loss': 8.011948585510254, 'cont_loss': 2.855172634124756, 'teacher_loss': 8.080930709838867, 'total_loss': 16.551834106445312}\n"
     ]
    },
    {
     "name": "stderr",
     "output_type": "stream",
     "text": [
      "Validating:  60%|█████▉    | 140/235 [01:10<00:46,  2.06it/s, loss=16.5100, avg_loss=16.4052]"
     ]
    },
    {
     "name": "stdout",
     "output_type": "stream",
     "text": [
      "{'kd_loss': 32.49396514892578, 'feature_loss': 0.305639386177063, 'ce_loss': 7.958968639373779, 'cont_loss': 2.6770806312561035, 'teacher_loss': 8.102371215820312, 'total_loss': 16.510009765625}\n"
     ]
    },
    {
     "name": "stderr",
     "output_type": "stream",
     "text": [
      "Validating:  60%|██████    | 141/235 [01:10<00:45,  2.06it/s, loss=16.5466, avg_loss=16.4062]"
     ]
    },
    {
     "name": "stdout",
     "output_type": "stream",
     "text": [
      "{'kd_loss': 32.49439239501953, 'feature_loss': 0.3114510774612427, 'ce_loss': 8.046402931213379, 'cont_loss': 2.6798267364501953, 'teacher_loss': 8.087218284606934, 'total_loss': 16.54659080505371}\n"
     ]
    },
    {
     "name": "stderr",
     "output_type": "stream",
     "text": [
      "Validating:  60%|██████    | 142/235 [01:10<00:45,  2.06it/s, loss=16.6026, avg_loss=16.4076]"
     ]
    },
    {
     "name": "stdout",
     "output_type": "stream",
     "text": [
      "{'kd_loss': 32.49105453491211, 'feature_loss': 0.3111013174057007, 'ce_loss': 8.137877464294434, 'cont_loss': 2.8879973888397217, 'teacher_loss': 8.098233222961426, 'total_loss': 16.60259246826172}\n"
     ]
    },
    {
     "name": "stderr",
     "output_type": "stream",
     "text": [
      "Validating:  61%|██████    | 143/235 [01:11<00:44,  2.06it/s, loss=16.5178, avg_loss=16.4084]"
     ]
    },
    {
     "name": "stdout",
     "output_type": "stream",
     "text": [
      "{'kd_loss': 32.49364471435547, 'feature_loss': 0.3397526144981384, 'ce_loss': 7.944100379943848, 'cont_loss': 2.747338056564331, 'teacher_loss': 8.082558631896973, 'total_loss': 16.517784118652344}\n"
     ]
    },
    {
     "name": "stderr",
     "output_type": "stream",
     "text": [
      "Validating:  61%|██████▏   | 144/235 [01:11<00:44,  2.06it/s, loss=16.5775, avg_loss=16.4095]"
     ]
    },
    {
     "name": "stdout",
     "output_type": "stream",
     "text": [
      "{'kd_loss': 32.49399185180664, 'feature_loss': 0.29115140438079834, 'ce_loss': 8.114871978759766, 'cont_loss': 2.7571334838867188, 'teacher_loss': 8.085189819335938, 'total_loss': 16.577489852905273}\n"
     ]
    },
    {
     "name": "stderr",
     "output_type": "stream",
     "text": [
      "Validating:  62%|██████▏   | 145/235 [01:12<00:43,  2.06it/s, loss=16.5946, avg_loss=16.4108]"
     ]
    },
    {
     "name": "stdout",
     "output_type": "stream",
     "text": [
      "{'kd_loss': 32.49299240112305, 'feature_loss': 0.3128020167350769, 'ce_loss': 8.10899543762207, 'cont_loss': 2.9128475189208984, 'teacher_loss': 8.088605880737305, 'total_loss': 16.594640731811523}\n"
     ]
    },
    {
     "name": "stderr",
     "output_type": "stream",
     "text": [
      "Validating:  62%|██████▏   | 146/235 [01:12<00:43,  2.06it/s, loss=16.6388, avg_loss=16.4124]"
     ]
    },
    {
     "name": "stdout",
     "output_type": "stream",
     "text": [
      "{'kd_loss': 32.493404388427734, 'feature_loss': 0.2962608337402344, 'ce_loss': 8.228052139282227, 'cont_loss': 2.910038948059082, 'teacher_loss': 8.083922386169434, 'total_loss': 16.638839721679688}\n"
     ]
    },
    {
     "name": "stderr",
     "output_type": "stream",
     "text": [
      "Validating:  63%|██████▎   | 147/235 [01:13<00:42,  2.06it/s, loss=16.5330, avg_loss=16.4132]"
     ]
    },
    {
     "name": "stdout",
     "output_type": "stream",
     "text": [
      "{'kd_loss': 32.49292755126953, 'feature_loss': 0.30300962924957275, 'ce_loss': 7.961302280426025, 'cont_loss': 2.90689754486084, 'teacher_loss': 8.086355209350586, 'total_loss': 16.532983779907227}\n"
     ]
    },
    {
     "name": "stderr",
     "output_type": "stream",
     "text": [
      "Validating:  63%|██████▎   | 148/235 [01:13<00:42,  2.06it/s, loss=16.6176, avg_loss=16.4146]"
     ]
    },
    {
     "name": "stdout",
     "output_type": "stream",
     "text": [
      "{'kd_loss': 32.49159240722656, 'feature_loss': 0.31208354234695435, 'ce_loss': 8.169679641723633, 'cont_loss': 2.907015085220337, 'teacher_loss': 8.089856147766113, 'total_loss': 16.61762809753418}\n"
     ]
    },
    {
     "name": "stderr",
     "output_type": "stream",
     "text": [
      "Validating:  63%|██████▎   | 149/235 [01:14<00:41,  2.06it/s, loss=16.5783, avg_loss=16.4157]"
     ]
    },
    {
     "name": "stdout",
     "output_type": "stream",
     "text": [
      "{'kd_loss': 32.49187088012695, 'feature_loss': 0.2997056245803833, 'ce_loss': 8.097603797912598, 'cont_loss': 2.8260016441345215, 'teacher_loss': 8.090507507324219, 'total_loss': 16.578332901000977}\n"
     ]
    },
    {
     "name": "stderr",
     "output_type": "stream",
     "text": [
      "Validating:  64%|██████▍   | 150/235 [01:14<00:41,  2.06it/s, loss=16.5600, avg_loss=16.4166]"
     ]
    },
    {
     "name": "stdout",
     "output_type": "stream",
     "text": [
      "{'kd_loss': 32.49211883544922, 'feature_loss': 0.3012741804122925, 'ce_loss': 8.055618286132812, 'cont_loss': 2.8069334030151367, 'teacher_loss': 8.09637451171875, 'total_loss': 16.560043334960938}\n"
     ]
    },
    {
     "name": "stderr",
     "output_type": "stream",
     "text": [
      "Validating:  64%|██████▍   | 151/235 [01:15<00:40,  2.06it/s, loss=16.6191, avg_loss=16.4180]"
     ]
    },
    {
     "name": "stdout",
     "output_type": "stream",
     "text": [
      "{'kd_loss': 32.49282455444336, 'feature_loss': 0.316659152507782, 'ce_loss': 8.144177436828613, 'cont_loss': 3.0092945098876953, 'teacher_loss': 8.08729076385498, 'total_loss': 16.619062423706055}\n"
     ]
    },
    {
     "name": "stderr",
     "output_type": "stream",
     "text": [
      "Validating:  65%|██████▍   | 152/235 [01:15<00:40,  2.06it/s, loss=16.5929, avg_loss=16.4191]"
     ]
    },
    {
     "name": "stdout",
     "output_type": "stream",
     "text": [
      "{'kd_loss': 32.49249267578125, 'feature_loss': 0.31705552339553833, 'ce_loss': 8.11190128326416, 'cont_loss': 2.8768491744995117, 'teacher_loss': 8.086700439453125, 'total_loss': 16.592853546142578}\n"
     ]
    },
    {
     "name": "stderr",
     "output_type": "stream",
     "text": [
      "Validating:  65%|██████▌   | 153/235 [01:16<00:39,  2.06it/s, loss=16.6295, avg_loss=16.4205]"
     ]
    },
    {
     "name": "stdout",
     "output_type": "stream",
     "text": [
      "{'kd_loss': 32.49278259277344, 'feature_loss': 0.3118768334388733, 'ce_loss': 8.179794311523438, 'cont_loss': 2.980851411819458, 'teacher_loss': 8.091632843017578, 'total_loss': 16.62948989868164}\n"
     ]
    },
    {
     "name": "stderr",
     "output_type": "stream",
     "text": [
      "Validating:  66%|██████▌   | 154/235 [01:16<00:39,  2.06it/s, loss=16.6687, avg_loss=16.4221]"
     ]
    },
    {
     "name": "stdout",
     "output_type": "stream",
     "text": [
      "{'kd_loss': 32.492759704589844, 'feature_loss': 0.3276095390319824, 'ce_loss': 8.258399963378906, 'cont_loss': 3.027588367462158, 'teacher_loss': 8.081236839294434, 'total_loss': 16.668745040893555}\n"
     ]
    },
    {
     "name": "stderr",
     "output_type": "stream",
     "text": [
      "Validating:  66%|██████▌   | 155/235 [01:17<00:38,  2.06it/s, loss=16.5152, avg_loss=16.4227]"
     ]
    },
    {
     "name": "stdout",
     "output_type": "stream",
     "text": [
      "{'kd_loss': 32.492332458496094, 'feature_loss': 0.35315167903900146, 'ce_loss': 7.89605188369751, 'cont_loss': 2.892326593399048, 'teacher_loss': 8.093795776367188, 'total_loss': 16.515216827392578}\n"
     ]
    },
    {
     "name": "stderr",
     "output_type": "stream",
     "text": [
      "Validating:  66%|██████▋   | 156/235 [01:17<00:38,  2.06it/s, loss=16.6216, avg_loss=16.4240]"
     ]
    },
    {
     "name": "stdout",
     "output_type": "stream",
     "text": [
      "{'kd_loss': 32.492103576660156, 'feature_loss': 0.33071672916412354, 'ce_loss': 8.169573783874512, 'cont_loss': 2.9083497524261475, 'teacher_loss': 8.084485054016113, 'total_loss': 16.62164878845215}\n"
     ]
    },
    {
     "name": "stderr",
     "output_type": "stream",
     "text": [
      "Validating:  67%|██████▋   | 157/235 [01:18<00:37,  2.06it/s, loss=16.6428, avg_loss=16.4254]"
     ]
    },
    {
     "name": "stdout",
     "output_type": "stream",
     "text": [
      "{'kd_loss': 32.491851806640625, 'feature_loss': 0.32187074422836304, 'ce_loss': 8.180709838867188, 'cont_loss': 3.0944461822509766, 'teacher_loss': 8.08666706085205, 'total_loss': 16.64284324645996}\n"
     ]
    },
    {
     "name": "stderr",
     "output_type": "stream",
     "text": [
      "Validating:  67%|██████▋   | 158/235 [01:18<00:37,  2.06it/s, loss=16.6356, avg_loss=16.4267]"
     ]
    },
    {
     "name": "stdout",
     "output_type": "stream",
     "text": [
      "{'kd_loss': 32.49346923828125, 'feature_loss': 0.32986998558044434, 'ce_loss': 8.202524185180664, 'cont_loss': 2.9126839637756348, 'teacher_loss': 8.085469245910645, 'total_loss': 16.63564109802246}\n"
     ]
    },
    {
     "name": "stderr",
     "output_type": "stream",
     "text": [
      "Validating:  68%|██████▊   | 159/235 [01:19<00:36,  2.06it/s, loss=16.6341, avg_loss=16.4280]"
     ]
    },
    {
     "name": "stdout",
     "output_type": "stream",
     "text": [
      "{'kd_loss': 32.49239730834961, 'feature_loss': 0.30880212783813477, 'ce_loss': 8.17878532409668, 'cont_loss': 3.0389456748962402, 'teacher_loss': 8.094422340393066, 'total_loss': 16.63412857055664}\n"
     ]
    },
    {
     "name": "stderr",
     "output_type": "stream",
     "text": [
      "Validating:  68%|██████▊   | 160/235 [01:19<00:36,  2.06it/s, loss=16.6038, avg_loss=16.4291]"
     ]
    },
    {
     "name": "stdout",
     "output_type": "stream",
     "text": [
      "{'kd_loss': 32.492652893066406, 'feature_loss': 0.3175877332687378, 'ce_loss': 8.12865924835205, 'cont_loss': 2.917602062225342, 'teacher_loss': 8.088726043701172, 'total_loss': 16.603801727294922}\n"
     ]
    },
    {
     "name": "stderr",
     "output_type": "stream",
     "text": [
      "Validating:  69%|██████▊   | 161/235 [01:20<00:35,  2.06it/s, loss=16.5697, avg_loss=16.4300]"
     ]
    },
    {
     "name": "stdout",
     "output_type": "stream",
     "text": [
      "{'kd_loss': 32.492794036865234, 'feature_loss': 0.3035252094268799, 'ce_loss': 8.046246528625488, 'cont_loss': 2.93389892578125, 'teacher_loss': 8.088528633117676, 'total_loss': 16.569711685180664}\n"
     ]
    },
    {
     "name": "stderr",
     "output_type": "stream",
     "text": [
      "Validating:  69%|██████▉   | 162/235 [01:20<00:35,  2.06it/s, loss=16.5331, avg_loss=16.4306]"
     ]
    },
    {
     "name": "stdout",
     "output_type": "stream",
     "text": [
      "{'kd_loss': 32.49247741699219, 'feature_loss': 0.31798505783081055, 'ce_loss': 7.941531658172607, 'cont_loss': 2.9585318565368652, 'teacher_loss': 8.094623565673828, 'total_loss': 16.533052444458008}\n"
     ]
    },
    {
     "name": "stderr",
     "output_type": "stream",
     "text": [
      "Validating:  69%|██████▉   | 163/235 [01:21<00:34,  2.06it/s, loss=16.5593, avg_loss=16.4314]"
     ]
    },
    {
     "name": "stdout",
     "output_type": "stream",
     "text": [
      "{'kd_loss': 32.493072509765625, 'feature_loss': 0.32042396068573, 'ce_loss': 8.00562572479248, 'cont_loss': 2.95772647857666, 'teacher_loss': 8.08893871307373, 'total_loss': 16.559337615966797}\n"
     ]
    },
    {
     "name": "stderr",
     "output_type": "stream",
     "text": [
      "Validating:  70%|██████▉   | 164/235 [01:21<00:34,  2.06it/s, loss=16.6224, avg_loss=16.4326]"
     ]
    },
    {
     "name": "stdout",
     "output_type": "stream",
     "text": [
      "{'kd_loss': 32.49258804321289, 'feature_loss': 0.30903565883636475, 'ce_loss': 8.120780944824219, 'cont_loss': 3.152322769165039, 'teacher_loss': 8.090893745422363, 'total_loss': 16.622386932373047}\n"
     ]
    },
    {
     "name": "stderr",
     "output_type": "stream",
     "text": [
      "Validating:  70%|███████   | 165/235 [01:22<00:33,  2.06it/s, loss=16.6232, avg_loss=16.4337]"
     ]
    },
    {
     "name": "stdout",
     "output_type": "stream",
     "text": [
      "{'kd_loss': 32.49193572998047, 'feature_loss': 0.3261202573776245, 'ce_loss': 8.157309532165527, 'cont_loss': 2.982311248779297, 'teacher_loss': 8.081608772277832, 'total_loss': 16.623153686523438}\n"
     ]
    },
    {
     "name": "stderr",
     "output_type": "stream",
     "text": [
      "Validating:  71%|███████   | 166/235 [01:22<00:33,  2.06it/s, loss=16.6244, avg_loss=16.4349]"
     ]
    },
    {
     "name": "stdout",
     "output_type": "stream",
     "text": [
      "{'kd_loss': 32.49351501464844, 'feature_loss': 0.30516088008880615, 'ce_loss': 8.165844917297363, 'cont_loss': 2.996407985687256, 'teacher_loss': 8.081671714782715, 'total_loss': 16.62441635131836}\n"
     ]
    },
    {
     "name": "stderr",
     "output_type": "stream",
     "text": [
      "Validating:  71%|███████   | 167/235 [01:23<00:32,  2.06it/s, loss=16.5978, avg_loss=16.4359]"
     ]
    },
    {
     "name": "stdout",
     "output_type": "stream",
     "text": [
      "{'kd_loss': 32.49311828613281, 'feature_loss': 0.3131657838821411, 'ce_loss': 8.098518371582031, 'cont_loss': 2.9854984283447266, 'teacher_loss': 8.085601806640625, 'total_loss': 16.597837448120117}\n"
     ]
    },
    {
     "name": "stderr",
     "output_type": "stream",
     "text": [
      "Validating:  71%|███████▏  | 168/235 [01:23<00:32,  2.06it/s, loss=16.5477, avg_loss=16.4365]"
     ]
    },
    {
     "name": "stdout",
     "output_type": "stream",
     "text": [
      "{'kd_loss': 32.492958068847656, 'feature_loss': 0.2895824909210205, 'ce_loss': 7.987805366516113, 'cont_loss': 2.9748682975769043, 'teacher_loss': 8.089155197143555, 'total_loss': 16.547710418701172}\n"
     ]
    },
    {
     "name": "stderr",
     "output_type": "stream",
     "text": [
      "Validating:  72%|███████▏  | 169/235 [01:24<00:31,  2.06it/s, loss=16.6510, avg_loss=16.4378]"
     ]
    },
    {
     "name": "stdout",
     "output_type": "stream",
     "text": [
      "{'kd_loss': 32.49287414550781, 'feature_loss': 0.31388068199157715, 'ce_loss': 8.18552303314209, 'cont_loss': 3.168626308441162, 'teacher_loss': 8.096000671386719, 'total_loss': 16.650997161865234}\n"
     ]
    },
    {
     "name": "stderr",
     "output_type": "stream",
     "text": [
      "Validating:  72%|███████▏  | 170/235 [01:24<00:31,  2.07it/s, loss=16.5684, avg_loss=16.4386]"
     ]
    },
    {
     "name": "stdout",
     "output_type": "stream",
     "text": [
      "{'kd_loss': 32.49226379394531, 'feature_loss': 0.3132067918777466, 'ce_loss': 8.015702247619629, 'cont_loss': 3.0253818035125732, 'teacher_loss': 8.096602439880371, 'total_loss': 16.5683650970459}\n"
     ]
    },
    {
     "name": "stderr",
     "output_type": "stream",
     "text": [
      "Validating:  73%|███████▎  | 171/235 [01:25<00:31,  2.06it/s, loss=16.6095, avg_loss=16.4396]"
     ]
    },
    {
     "name": "stdout",
     "output_type": "stream",
     "text": [
      "{'kd_loss': 32.4935302734375, 'feature_loss': 0.3011060953140259, 'ce_loss': 8.125353813171387, 'cont_loss': 3.0175161361694336, 'teacher_loss': 8.08105754852295, 'total_loss': 16.609527587890625}\n"
     ]
    },
    {
     "name": "stderr",
     "output_type": "stream",
     "text": [
      "Validating:  73%|███████▎  | 172/235 [01:25<00:30,  2.07it/s, loss=16.6666, avg_loss=16.4409]"
     ]
    },
    {
     "name": "stdout",
     "output_type": "stream",
     "text": [
      "{'kd_loss': 32.49193572998047, 'feature_loss': 0.302099347114563, 'ce_loss': 8.252666473388672, 'cont_loss': 3.083199977874756, 'teacher_loss': 8.083704948425293, 'total_loss': 16.666580200195312}\n"
     ]
    },
    {
     "name": "stderr",
     "output_type": "stream",
     "text": [
      "Validating:  74%|███████▎  | 173/235 [01:26<00:30,  2.06it/s, loss=16.6537, avg_loss=16.4421]"
     ]
    },
    {
     "name": "stdout",
     "output_type": "stream",
     "text": [
      "{'kd_loss': 32.49216842651367, 'feature_loss': 0.3139519691467285, 'ce_loss': 8.221473693847656, 'cont_loss': 3.0544118881225586, 'teacher_loss': 8.092761993408203, 'total_loss': 16.653688430786133}\n"
     ]
    },
    {
     "name": "stderr",
     "output_type": "stream",
     "text": [
      "Validating:  74%|███████▍  | 174/235 [01:26<00:29,  2.06it/s, loss=16.5784, avg_loss=16.4429]"
     ]
    },
    {
     "name": "stdout",
     "output_type": "stream",
     "text": [
      "{'kd_loss': 32.49170684814453, 'feature_loss': 0.3142092227935791, 'ce_loss': 8.039441108703613, 'cont_loss': 3.03104305267334, 'teacher_loss': 8.098387718200684, 'total_loss': 16.578405380249023}\n"
     ]
    },
    {
     "name": "stderr",
     "output_type": "stream",
     "text": [
      "Validating:  74%|███████▍  | 175/235 [01:26<00:29,  2.06it/s, loss=16.6132, avg_loss=16.4439]"
     ]
    },
    {
     "name": "stdout",
     "output_type": "stream",
     "text": [
      "{'kd_loss': 32.492462158203125, 'feature_loss': 0.30145740509033203, 'ce_loss': 8.122209548950195, 'cont_loss': 3.070298671722412, 'teacher_loss': 8.089226722717285, 'total_loss': 16.613189697265625}\n"
     ]
    },
    {
     "name": "stderr",
     "output_type": "stream",
     "text": [
      "Validating:  75%|███████▍  | 176/235 [01:27<00:28,  2.06it/s, loss=16.5898, avg_loss=16.4447]"
     ]
    },
    {
     "name": "stdout",
     "output_type": "stream",
     "text": [
      "{'kd_loss': 32.49205017089844, 'feature_loss': 0.31396645307540894, 'ce_loss': 8.0088472366333, 'cont_loss': 3.2663424015045166, 'teacher_loss': 8.090126037597656, 'total_loss': 16.589786529541016}\n"
     ]
    },
    {
     "name": "stderr",
     "output_type": "stream",
     "text": [
      "Validating:  75%|███████▌  | 177/235 [01:27<00:28,  2.07it/s, loss=16.5986, avg_loss=16.4456]"
     ]
    },
    {
     "name": "stdout",
     "output_type": "stream",
     "text": [
      "{'kd_loss': 32.493125915527344, 'feature_loss': 0.32480108737945557, 'ce_loss': 8.064703941345215, 'cont_loss': 3.104922294616699, 'teacher_loss': 8.076658248901367, 'total_loss': 16.59858512878418}\n"
     ]
    },
    {
     "name": "stderr",
     "output_type": "stream",
     "text": [
      "Validating:  76%|███████▌  | 178/235 [01:28<00:27,  2.06it/s, loss=16.6182, avg_loss=16.4465]"
     ]
    },
    {
     "name": "stdout",
     "output_type": "stream",
     "text": [
      "{'kd_loss': 32.492706298828125, 'feature_loss': 0.3346596956253052, 'ce_loss': 8.116828918457031, 'cont_loss': 3.07462215423584, 'teacher_loss': 8.090163230895996, 'total_loss': 16.618207931518555}\n"
     ]
    },
    {
     "name": "stderr",
     "output_type": "stream",
     "text": [
      "Validating:  76%|███████▌  | 179/235 [01:28<00:27,  2.06it/s, loss=16.5808, avg_loss=16.4473]"
     ]
    },
    {
     "name": "stdout",
     "output_type": "stream",
     "text": [
      "{'kd_loss': 32.493404388427734, 'feature_loss': 0.31721246242523193, 'ce_loss': 8.02807903289795, 'cont_loss': 3.087954044342041, 'teacher_loss': 8.088004112243652, 'total_loss': 16.58083152770996}\n"
     ]
    },
    {
     "name": "stderr",
     "output_type": "stream",
     "text": [
      "Validating:  77%|███████▋  | 180/235 [01:29<00:26,  2.06it/s, loss=16.6099, avg_loss=16.4482]"
     ]
    },
    {
     "name": "stdout",
     "output_type": "stream",
     "text": [
      "{'kd_loss': 32.493106842041016, 'feature_loss': 0.3175773620605469, 'ce_loss': 8.024527549743652, 'cont_loss': 3.393453598022461, 'teacher_loss': 8.090544700622559, 'total_loss': 16.609914779663086}\n"
     ]
    },
    {
     "name": "stderr",
     "output_type": "stream",
     "text": [
      "Validating:  77%|███████▋  | 181/235 [01:29<00:26,  2.06it/s, loss=16.5981, avg_loss=16.4490]"
     ]
    },
    {
     "name": "stdout",
     "output_type": "stream",
     "text": [
      "{'kd_loss': 32.49272155761719, 'feature_loss': 0.28185808658599854, 'ce_loss': 8.086230278015137, 'cont_loss': 3.101348638534546, 'teacher_loss': 8.089699745178223, 'total_loss': 16.598087310791016}\n"
     ]
    },
    {
     "name": "stderr",
     "output_type": "stream",
     "text": [
      "Validating:  77%|███████▋  | 182/235 [01:30<00:25,  2.06it/s, loss=16.6118, avg_loss=16.4499]"
     ]
    },
    {
     "name": "stdout",
     "output_type": "stream",
     "text": [
      "{'kd_loss': 32.49180603027344, 'feature_loss': 0.30382633209228516, 'ce_loss': 8.103889465332031, 'cont_loss': 3.1272284984588623, 'teacher_loss': 8.088637351989746, 'total_loss': 16.611766815185547}\n"
     ]
    },
    {
     "name": "stderr",
     "output_type": "stream",
     "text": [
      "Validating:  78%|███████▊  | 183/235 [01:30<00:25,  2.07it/s, loss=16.7189, avg_loss=16.4514]"
     ]
    },
    {
     "name": "stdout",
     "output_type": "stream",
     "text": [
      "{'kd_loss': 32.49214553833008, 'feature_loss': 0.34002649784088135, 'ce_loss': 8.27497673034668, 'cont_loss': 3.44045090675354, 'teacher_loss': 8.090033531188965, 'total_loss': 16.718900680541992}\n"
     ]
    },
    {
     "name": "stderr",
     "output_type": "stream",
     "text": [
      "Validating:  78%|███████▊  | 184/235 [01:31<00:24,  2.06it/s, loss=16.5764, avg_loss=16.4521]"
     ]
    },
    {
     "name": "stdout",
     "output_type": "stream",
     "text": [
      "{'kd_loss': 32.4932975769043, 'feature_loss': 0.2948880195617676, 'ce_loss': 8.015434265136719, 'cont_loss': 3.138917922973633, 'teacher_loss': 8.092705726623535, 'total_loss': 16.57636260986328}\n"
     ]
    },
    {
     "name": "stderr",
     "output_type": "stream",
     "text": [
      "Validating:  79%|███████▊  | 185/235 [01:31<00:24,  2.06it/s, loss=16.6057, avg_loss=16.4529]"
     ]
    },
    {
     "name": "stdout",
     "output_type": "stream",
     "text": [
      "{'kd_loss': 32.49208450317383, 'feature_loss': 0.3316260576248169, 'ce_loss': 8.056055068969727, 'cont_loss': 3.2010226249694824, 'teacher_loss': 8.089695930480957, 'total_loss': 16.605684280395508}\n"
     ]
    },
    {
     "name": "stderr",
     "output_type": "stream",
     "text": [
      "Validating:  79%|███████▉  | 186/235 [01:32<00:23,  2.06it/s, loss=16.6306, avg_loss=16.4539]"
     ]
    },
    {
     "name": "stdout",
     "output_type": "stream",
     "text": [
      "{'kd_loss': 32.493003845214844, 'feature_loss': 0.31387078762054443, 'ce_loss': 8.13122844696045, 'cont_loss': 3.1813509464263916, 'teacher_loss': 8.087040901184082, 'total_loss': 16.63060188293457}\n"
     ]
    },
    {
     "name": "stderr",
     "output_type": "stream",
     "text": [
      "Validating:  80%|███████▉  | 187/235 [01:32<00:23,  2.06it/s, loss=16.6236, avg_loss=16.4548]"
     ]
    },
    {
     "name": "stdout",
     "output_type": "stream",
     "text": [
      "{'kd_loss': 32.49327850341797, 'feature_loss': 0.3123580813407898, 'ce_loss': 8.113581657409668, 'cont_loss': 3.183427333831787, 'teacher_loss': 8.094926834106445, 'total_loss': 16.623558044433594}\n"
     ]
    },
    {
     "name": "stderr",
     "output_type": "stream",
     "text": [
      "Validating:  80%|████████  | 188/235 [01:33<00:22,  2.07it/s, loss=16.6581, avg_loss=16.4558]"
     ]
    },
    {
     "name": "stdout",
     "output_type": "stream",
     "text": [
      "{'kd_loss': 32.49256896972656, 'feature_loss': 0.32037198543548584, 'ce_loss': 8.19236946105957, 'cont_loss': 3.201016902923584, 'teacher_loss': 8.086326599121094, 'total_loss': 16.65814971923828}\n"
     ]
    },
    {
     "name": "stderr",
     "output_type": "stream",
     "text": [
      "Validating:  80%|████████  | 189/235 [01:33<00:22,  2.06it/s, loss=16.6945, avg_loss=16.4571]"
     ]
    },
    {
     "name": "stdout",
     "output_type": "stream",
     "text": [
      "{'kd_loss': 32.49317932128906, 'feature_loss': 0.28965437412261963, 'ce_loss': 8.26327896118164, 'cont_loss': 3.3396735191345215, 'teacher_loss': 8.089098930358887, 'total_loss': 16.694480895996094}\n"
     ]
    },
    {
     "name": "stderr",
     "output_type": "stream",
     "text": [
      "Validating:  81%|████████  | 190/235 [01:34<00:21,  2.06it/s, loss=16.5977, avg_loss=16.4578]"
     ]
    },
    {
     "name": "stdout",
     "output_type": "stream",
     "text": [
      "{'kd_loss': 32.49317169189453, 'feature_loss': 0.28723180294036865, 'ce_loss': 8.072504043579102, 'cont_loss': 3.140326738357544, 'teacher_loss': 8.101093292236328, 'total_loss': 16.597749710083008}\n"
     ]
    },
    {
     "name": "stderr",
     "output_type": "stream",
     "text": [
      "Validating:  81%|████████▏ | 191/235 [01:34<00:21,  2.07it/s, loss=16.6612, avg_loss=16.4589]"
     ]
    },
    {
     "name": "stdout",
     "output_type": "stream",
     "text": [
      "{'kd_loss': 32.49228286743164, 'feature_loss': 0.3148667812347412, 'ce_loss': 8.20661449432373, 'cont_loss': 3.187101364135742, 'teacher_loss': 8.093827247619629, 'total_loss': 16.66124153137207}\n"
     ]
    },
    {
     "name": "stderr",
     "output_type": "stream",
     "text": [
      "Validating:  82%|████████▏ | 192/235 [01:35<00:20,  2.07it/s, loss=16.6511, avg_loss=16.4599]"
     ]
    },
    {
     "name": "stdout",
     "output_type": "stream",
     "text": [
      "{'kd_loss': 32.492347717285156, 'feature_loss': 0.3094980716705322, 'ce_loss': 8.175130844116211, 'cont_loss': 3.221696376800537, 'teacher_loss': 8.093978881835938, 'total_loss': 16.65106201171875}\n"
     ]
    },
    {
     "name": "stderr",
     "output_type": "stream",
     "text": [
      "Validating:  82%|████████▏ | 193/235 [01:35<00:20,  2.07it/s, loss=16.5938, avg_loss=16.4606]"
     ]
    },
    {
     "name": "stdout",
     "output_type": "stream",
     "text": [
      "{'kd_loss': 32.49282455444336, 'feature_loss': 0.3085401654243469, 'ce_loss': 8.00090217590332, 'cont_loss': 3.3457679748535156, 'teacher_loss': 8.094792366027832, 'total_loss': 16.59377670288086}\n"
     ]
    },
    {
     "name": "stderr",
     "output_type": "stream",
     "text": [
      "Validating:  83%|████████▎ | 194/235 [01:36<00:19,  2.07it/s, loss=16.5934, avg_loss=16.4613]"
     ]
    },
    {
     "name": "stdout",
     "output_type": "stream",
     "text": [
      "{'kd_loss': 32.49215316772461, 'feature_loss': 0.34254157543182373, 'ce_loss': 8.014205932617188, 'cont_loss': 3.223569393157959, 'teacher_loss': 8.085886001586914, 'total_loss': 16.593408584594727}\n"
     ]
    },
    {
     "name": "stderr",
     "output_type": "stream",
     "text": [
      "Validating:  83%|████████▎ | 195/235 [01:36<00:19,  2.07it/s, loss=16.6460, avg_loss=16.4622]"
     ]
    },
    {
     "name": "stdout",
     "output_type": "stream",
     "text": [
      "{'kd_loss': 32.49186325073242, 'feature_loss': 0.3008323907852173, 'ce_loss': 8.164996147155762, 'cont_loss': 3.2313263416290283, 'teacher_loss': 8.092469215393066, 'total_loss': 16.64604377746582}\n"
     ]
    },
    {
     "name": "stderr",
     "output_type": "stream",
     "text": [
      "Validating:  83%|████████▎ | 196/235 [01:37<00:18,  2.06it/s, loss=16.6324, avg_loss=16.4631]"
     ]
    },
    {
     "name": "stdout",
     "output_type": "stream",
     "text": [
      "{'kd_loss': 32.49241638183594, 'feature_loss': 0.3166227340698242, 'ce_loss': 8.109906196594238, 'cont_loss': 3.2817225456237793, 'teacher_loss': 8.091217994689941, 'total_loss': 16.632427215576172}\n"
     ]
    },
    {
     "name": "stderr",
     "output_type": "stream",
     "text": [
      "Validating:  84%|████████▍ | 197/235 [01:37<00:18,  2.06it/s, loss=16.5895, avg_loss=16.4637]"
     ]
    },
    {
     "name": "stdout",
     "output_type": "stream",
     "text": [
      "{'kd_loss': 32.49167251586914, 'feature_loss': 0.32669317722320557, 'ce_loss': 8.010902404785156, 'cont_loss': 3.2308759689331055, 'teacher_loss': 8.090702056884766, 'total_loss': 16.58945655822754}\n"
     ]
    },
    {
     "name": "stderr",
     "output_type": "stream",
     "text": [
      "Validating:  84%|████████▍ | 198/235 [01:38<00:17,  2.06it/s, loss=16.5973, avg_loss=16.4644]"
     ]
    },
    {
     "name": "stdout",
     "output_type": "stream",
     "text": [
      "{'kd_loss': 32.49272918701172, 'feature_loss': 0.30469411611557007, 'ce_loss': 8.037358283996582, 'cont_loss': 3.243635654449463, 'teacher_loss': 8.086334228515625, 'total_loss': 16.59733772277832}\n"
     ]
    },
    {
     "name": "stderr",
     "output_type": "stream",
     "text": [
      "Validating:  85%|████████▍ | 199/235 [01:38<00:17,  2.07it/s, loss=16.6255, avg_loss=16.4652]"
     ]
    },
    {
     "name": "stdout",
     "output_type": "stream",
     "text": [
      "{'kd_loss': 32.491790771484375, 'feature_loss': 0.31749939918518066, 'ce_loss': 8.088738441467285, 'cont_loss': 3.2980237007141113, 'teacher_loss': 8.085686683654785, 'total_loss': 16.625513076782227}\n"
     ]
    },
    {
     "name": "stderr",
     "output_type": "stream",
     "text": [
      "Validating:  85%|████████▌ | 200/235 [01:39<00:16,  2.07it/s, loss=16.6633, avg_loss=16.4662]"
     ]
    },
    {
     "name": "stdout",
     "output_type": "stream",
     "text": [
      "{'kd_loss': 32.49299240112305, 'feature_loss': 0.32324713468551636, 'ce_loss': 8.173789978027344, 'cont_loss': 3.3195652961730957, 'teacher_loss': 8.088543891906738, 'total_loss': 16.663320541381836}\n"
     ]
    },
    {
     "name": "stderr",
     "output_type": "stream",
     "text": [
      "Validating:  86%|████████▌ | 201/235 [01:39<00:16,  2.07it/s, loss=16.6315, avg_loss=16.4670]"
     ]
    },
    {
     "name": "stdout",
     "output_type": "stream",
     "text": [
      "{'kd_loss': 32.49245834350586, 'feature_loss': 0.32231605052948, 'ce_loss': 8.103147506713867, 'cont_loss': 3.2880806922912598, 'teacher_loss': 8.092486381530762, 'total_loss': 16.631513595581055}\n"
     ]
    },
    {
     "name": "stderr",
     "output_type": "stream",
     "text": [
      "Validating:  86%|████████▌ | 202/235 [01:40<00:15,  2.07it/s, loss=16.6066, avg_loss=16.4677]"
     ]
    },
    {
     "name": "stdout",
     "output_type": "stream",
     "text": [
      "{'kd_loss': 32.492591857910156, 'feature_loss': 0.32204920053482056, 'ce_loss': 8.04262924194336, 'cont_loss': 3.281477451324463, 'teacher_loss': 8.094191551208496, 'total_loss': 16.606647491455078}\n"
     ]
    },
    {
     "name": "stderr",
     "output_type": "stream",
     "text": [
      "Validating:  86%|████████▋ | 203/235 [01:40<00:15,  2.06it/s, loss=16.6703, avg_loss=16.4687]"
     ]
    },
    {
     "name": "stdout",
     "output_type": "stream",
     "text": [
      "{'kd_loss': 32.49175262451172, 'feature_loss': 0.31534552574157715, 'ce_loss': 8.120271682739258, 'cont_loss': 3.624505043029785, 'teacher_loss': 8.09397029876709, 'total_loss': 16.67032814025879}\n"
     ]
    },
    {
     "name": "stderr",
     "output_type": "stream",
     "text": [
      "Validating:  87%|████████▋ | 204/235 [01:41<00:15,  2.06it/s, loss=16.6456, avg_loss=16.4696]"
     ]
    },
    {
     "name": "stdout",
     "output_type": "stream",
     "text": [
      "{'kd_loss': 32.491947174072266, 'feature_loss': 0.32429540157318115, 'ce_loss': 8.123800277709961, 'cont_loss': 3.3445141315460205, 'teacher_loss': 8.087850570678711, 'total_loss': 16.645610809326172}\n"
     ]
    },
    {
     "name": "stderr",
     "output_type": "stream",
     "text": [
      "Validating:  87%|████████▋ | 205/235 [01:41<00:14,  2.07it/s, loss=16.7366, avg_loss=16.4709]"
     ]
    },
    {
     "name": "stdout",
     "output_type": "stream",
     "text": [
      "{'kd_loss': 32.49240493774414, 'feature_loss': 0.32611262798309326, 'ce_loss': 8.316134452819824, 'cont_loss': 3.47988224029541, 'teacher_loss': 8.090299606323242, 'total_loss': 16.73662757873535}\n"
     ]
    },
    {
     "name": "stderr",
     "output_type": "stream",
     "text": [
      "Validating:  88%|████████▊ | 206/235 [01:41<00:14,  2.06it/s, loss=16.6530, avg_loss=16.4718]"
     ]
    },
    {
     "name": "stdout",
     "output_type": "stream",
     "text": [
      "{'kd_loss': 32.493499755859375, 'feature_loss': 0.3081061840057373, 'ce_loss': 8.15012264251709, 'cont_loss': 3.339597225189209, 'teacher_loss': 8.094609260559082, 'total_loss': 16.653030395507812}\n"
     ]
    },
    {
     "name": "stderr",
     "output_type": "stream",
     "text": [
      "Validating:  88%|████████▊ | 207/235 [01:42<00:13,  2.07it/s, loss=16.6793, avg_loss=16.4728]"
     ]
    },
    {
     "name": "stdout",
     "output_type": "stream",
     "text": [
      "{'kd_loss': 32.49287414550781, 'feature_loss': 0.33628231287002563, 'ce_loss': 8.18715763092041, 'cont_loss': 3.400444269180298, 'teacher_loss': 8.090662956237793, 'total_loss': 16.67931365966797}\n"
     ]
    },
    {
     "name": "stderr",
     "output_type": "stream",
     "text": [
      "Validating:  89%|████████▊ | 208/235 [01:42<00:13,  2.06it/s, loss=16.6817, avg_loss=16.4738]"
     ]
    },
    {
     "name": "stdout",
     "output_type": "stream",
     "text": [
      "{'kd_loss': 32.49250793457031, 'feature_loss': 0.31029510498046875, 'ce_loss': 8.206437110900879, 'cont_loss': 3.400949239730835, 'teacher_loss': 8.089048385620117, 'total_loss': 16.681734085083008}\n"
     ]
    },
    {
     "name": "stderr",
     "output_type": "stream",
     "text": [
      "Validating:  89%|████████▉ | 209/235 [01:43<00:12,  2.06it/s, loss=16.6988, avg_loss=16.4749]"
     ]
    },
    {
     "name": "stdout",
     "output_type": "stream",
     "text": [
      "{'kd_loss': 32.49223709106445, 'feature_loss': 0.34106868505477905, 'ce_loss': 8.1685152053833, 'cont_loss': 3.6633172035217285, 'teacher_loss': 8.090047836303711, 'total_loss': 16.69884490966797}\n"
     ]
    },
    {
     "name": "stderr",
     "output_type": "stream",
     "text": [
      "Validating:  89%|████████▉ | 210/235 [01:43<00:12,  2.06it/s, loss=16.5974, avg_loss=16.4755]"
     ]
    },
    {
     "name": "stdout",
     "output_type": "stream",
     "text": [
      "{'kd_loss': 32.49290466308594, 'feature_loss': 0.32876354455947876, 'ce_loss': 7.992238998413086, 'cont_loss': 3.3761179447174072, 'teacher_loss': 8.093461036682129, 'total_loss': 16.597423553466797}\n"
     ]
    },
    {
     "name": "stderr",
     "output_type": "stream",
     "text": [
      "Validating:  90%|████████▉ | 211/235 [01:44<00:11,  2.06it/s, loss=16.6476, avg_loss=16.4763]"
     ]
    },
    {
     "name": "stdout",
     "output_type": "stream",
     "text": [
      "{'kd_loss': 32.49268341064453, 'feature_loss': 0.30832862854003906, 'ce_loss': 8.085607528686523, 'cont_loss': 3.5458788871765137, 'teacher_loss': 8.091156005859375, 'total_loss': 16.64756965637207}\n"
     ]
    },
    {
     "name": "stderr",
     "output_type": "stream",
     "text": [
      "Validating:  90%|█████████ | 212/235 [01:44<00:11,  2.06it/s, loss=16.6223, avg_loss=16.4770]"
     ]
    },
    {
     "name": "stdout",
     "output_type": "stream",
     "text": [
      "{'kd_loss': 32.491981506347656, 'feature_loss': 0.3023415207862854, 'ce_loss': 8.056021690368652, 'cont_loss': 3.426760196685791, 'teacher_loss': 8.091893196105957, 'total_loss': 16.622346878051758}\n"
     ]
    },
    {
     "name": "stderr",
     "output_type": "stream",
     "text": [
      "Validating:  91%|█████████ | 213/235 [01:45<00:10,  2.06it/s, loss=16.6848, avg_loss=16.4779]"
     ]
    },
    {
     "name": "stdout",
     "output_type": "stream",
     "text": [
      "{'kd_loss': 32.49253463745117, 'feature_loss': 0.31331467628479004, 'ce_loss': 8.200887680053711, 'cont_loss': 3.4476723670959473, 'teacher_loss': 8.093572616577148, 'total_loss': 16.684799194335938}\n"
     ]
    },
    {
     "name": "stderr",
     "output_type": "stream",
     "text": [
      "Validating:  91%|█████████ | 214/235 [01:45<00:10,  2.06it/s, loss=16.7258, avg_loss=16.4791]"
     ]
    },
    {
     "name": "stdout",
     "output_type": "stream",
     "text": [
      "{'kd_loss': 32.4923095703125, 'feature_loss': 0.3196360468864441, 'ce_loss': 8.230353355407715, 'cont_loss': 3.72853946685791, 'teacher_loss': 8.091793060302734, 'total_loss': 16.725847244262695}\n"
     ]
    },
    {
     "name": "stderr",
     "output_type": "stream",
     "text": [
      "Validating:  91%|█████████▏| 215/235 [01:46<00:09,  2.06it/s, loss=16.6516, avg_loss=16.4799]"
     ]
    },
    {
     "name": "stdout",
     "output_type": "stream",
     "text": [
      "{'kd_loss': 32.491722106933594, 'feature_loss': 0.30379658937454224, 'ce_loss': 8.123395919799805, 'cont_loss': 3.447969436645508, 'teacher_loss': 8.091004371643066, 'total_loss': 16.65160369873047}\n"
     ]
    },
    {
     "name": "stderr",
     "output_type": "stream",
     "text": [
      "Validating:  92%|█████████▏| 216/235 [01:46<00:09,  2.06it/s, loss=16.6407, avg_loss=16.4806]"
     ]
    },
    {
     "name": "stdout",
     "output_type": "stream",
     "text": [
      "{'kd_loss': 32.492942810058594, 'feature_loss': 0.3072868585586548, 'ce_loss': 8.092555046081543, 'cont_loss': 3.4506847858428955, 'teacher_loss': 8.093870162963867, 'total_loss': 16.640724182128906}\n"
     ]
    },
    {
     "name": "stderr",
     "output_type": "stream",
     "text": [
      "Validating:  92%|█████████▏| 217/235 [01:47<00:08,  2.06it/s, loss=16.6528, avg_loss=16.4814]"
     ]
    },
    {
     "name": "stdout",
     "output_type": "stream",
     "text": [
      "{'kd_loss': 32.492431640625, 'feature_loss': 0.3360931873321533, 'ce_loss': 8.098403930664062, 'cont_loss': 3.492297887802124, 'teacher_loss': 8.087423324584961, 'total_loss': 16.652782440185547}\n"
     ]
    },
    {
     "name": "stderr",
     "output_type": "stream",
     "text": [
      "Validating:  93%|█████████▎| 218/235 [01:47<00:08,  2.07it/s, loss=16.6675, avg_loss=16.4823]"
     ]
    },
    {
     "name": "stdout",
     "output_type": "stream",
     "text": [
      "{'kd_loss': 32.49156951904297, 'feature_loss': 0.33141428232192993, 'ce_loss': 8.140464782714844, 'cont_loss': 3.483780860900879, 'teacher_loss': 8.084497451782227, 'total_loss': 16.6674747467041}\n"
     ]
    },
    {
     "name": "stderr",
     "output_type": "stream",
     "text": [
      "Validating:  93%|█████████▎| 219/235 [01:48<00:07,  2.07it/s, loss=16.6788, avg_loss=16.4832]"
     ]
    },
    {
     "name": "stdout",
     "output_type": "stream",
     "text": [
      "{'kd_loss': 32.491668701171875, 'feature_loss': 0.34712398052215576, 'ce_loss': 8.163509368896484, 'cont_loss': 3.473355293273926, 'teacher_loss': 8.091118812561035, 'total_loss': 16.6788330078125}\n"
     ]
    },
    {
     "name": "stderr",
     "output_type": "stream",
     "text": [
      "Validating:  94%|█████████▎| 220/235 [01:48<00:07,  2.06it/s, loss=16.6240, avg_loss=16.4838]"
     ]
    },
    {
     "name": "stdout",
     "output_type": "stream",
     "text": [
      "{'kd_loss': 32.492244720458984, 'feature_loss': 0.3270609378814697, 'ce_loss': 8.030790328979492, 'cont_loss': 3.493293285369873, 'teacher_loss': 8.088448524475098, 'total_loss': 16.62395477294922}\n"
     ]
    },
    {
     "name": "stderr",
     "output_type": "stream",
     "text": [
      "Validating:  94%|█████████▍| 221/235 [01:49<00:06,  2.06it/s, loss=16.6786, avg_loss=16.4847]"
     ]
    },
    {
     "name": "stdout",
     "output_type": "stream",
     "text": [
      "{'kd_loss': 32.492530822753906, 'feature_loss': 0.3323359489440918, 'ce_loss': 8.117172241210938, 'cont_loss': 3.6827280521392822, 'teacher_loss': 8.092016220092773, 'total_loss': 16.678621292114258}\n"
     ]
    },
    {
     "name": "stderr",
     "output_type": "stream",
     "text": [
      "Validating:  94%|█████████▍| 222/235 [01:49<00:06,  2.06it/s, loss=16.6612, avg_loss=16.4855]"
     ]
    },
    {
     "name": "stdout",
     "output_type": "stream",
     "text": [
      "{'kd_loss': 32.49177551269531, 'feature_loss': 0.3368634581565857, 'ce_loss': 8.111916542053223, 'cont_loss': 3.523026943206787, 'teacher_loss': 8.086983680725098, 'total_loss': 16.661151885986328}\n"
     ]
    },
    {
     "name": "stderr",
     "output_type": "stream",
     "text": [
      "Validating:  95%|█████████▍| 223/235 [01:50<00:05,  2.06it/s, loss=16.6688, avg_loss=16.4863]"
     ]
    },
    {
     "name": "stdout",
     "output_type": "stream",
     "text": [
      "{'kd_loss': 32.492408752441406, 'feature_loss': 0.3139115571975708, 'ce_loss': 8.149663925170898, 'cont_loss': 3.49221134185791, 'teacher_loss': 8.082437515258789, 'total_loss': 16.66883087158203}\n"
     ]
    },
    {
     "name": "stderr",
     "output_type": "stream",
     "text": [
      "Validating:  95%|█████████▌| 224/235 [01:50<00:05,  2.07it/s, loss=16.6438, avg_loss=16.4870]"
     ]
    },
    {
     "name": "stdout",
     "output_type": "stream",
     "text": [
      "{'kd_loss': 32.4932975769043, 'feature_loss': 0.32813823223114014, 'ce_loss': 8.071409225463867, 'cont_loss': 3.5230159759521484, 'teacher_loss': 8.079538345336914, 'total_loss': 16.643814086914062}\n"
     ]
    },
    {
     "name": "stderr",
     "output_type": "stream",
     "text": [
      "Validating:  96%|█████████▌| 225/235 [01:51<00:04,  2.06it/s, loss=16.6467, avg_loss=16.4877]"
     ]
    },
    {
     "name": "stdout",
     "output_type": "stream",
     "text": [
      "{'kd_loss': 32.4927864074707, 'feature_loss': 0.334058940410614, 'ce_loss': 8.067756652832031, 'cont_loss': 3.5571722984313965, 'teacher_loss': 8.078577041625977, 'total_loss': 16.646745681762695}\n"
     ]
    },
    {
     "name": "stderr",
     "output_type": "stream",
     "text": [
      "Validating:  96%|█████████▌| 226/235 [01:51<00:04,  2.07it/s, loss=16.7338, avg_loss=16.4888]"
     ]
    },
    {
     "name": "stdout",
     "output_type": "stream",
     "text": [
      "{'kd_loss': 32.49303436279297, 'feature_loss': 0.3259845972061157, 'ce_loss': 8.252941131591797, 'cont_loss': 3.701752185821533, 'teacher_loss': 8.082643508911133, 'total_loss': 16.733762741088867}\n"
     ]
    },
    {
     "name": "stderr",
     "output_type": "stream",
     "text": [
      "Validating:  97%|█████████▋| 227/235 [01:52<00:03,  2.06it/s, loss=16.7084, avg_loss=16.4898]"
     ]
    },
    {
     "name": "stdout",
     "output_type": "stream",
     "text": [
      "{'kd_loss': 32.49220275878906, 'feature_loss': 0.33686715364456177, 'ce_loss': 8.2164888381958, 'cont_loss': 3.5756566524505615, 'teacher_loss': 8.086885452270508, 'total_loss': 16.708415985107422}\n"
     ]
    },
    {
     "name": "stderr",
     "output_type": "stream",
     "text": [
      "Validating:  97%|█████████▋| 228/235 [01:52<00:03,  2.06it/s, loss=16.6581, avg_loss=16.4905]"
     ]
    },
    {
     "name": "stdout",
     "output_type": "stream",
     "text": [
      "{'kd_loss': 32.492393493652344, 'feature_loss': 0.3053188920021057, 'ce_loss': 8.112003326416016, 'cont_loss': 3.552777051925659, 'teacher_loss': 8.091362953186035, 'total_loss': 16.658100128173828}\n"
     ]
    },
    {
     "name": "stderr",
     "output_type": "stream",
     "text": [
      "Validating:  97%|█████████▋| 229/235 [01:53<00:02,  2.06it/s, loss=16.6503, avg_loss=16.4912]"
     ]
    },
    {
     "name": "stdout",
     "output_type": "stream",
     "text": [
      "{'kd_loss': 32.491966247558594, 'feature_loss': 0.32160401344299316, 'ce_loss': 8.075372695922852, 'cont_loss': 3.5902366638183594, 'teacher_loss': 8.089006423950195, 'total_loss': 16.650279998779297}\n"
     ]
    },
    {
     "name": "stderr",
     "output_type": "stream",
     "text": [
      "Validating:  98%|█████████▊| 230/235 [01:53<00:02,  2.07it/s, loss=16.6658, avg_loss=16.4920]"
     ]
    },
    {
     "name": "stdout",
     "output_type": "stream",
     "text": [
      "{'kd_loss': 32.49261474609375, 'feature_loss': 0.3335658311843872, 'ce_loss': 8.087132453918457, 'cont_loss': 3.672196865081787, 'teacher_loss': 8.088674545288086, 'total_loss': 16.66583251953125}\n"
     ]
    },
    {
     "name": "stderr",
     "output_type": "stream",
     "text": [
      "Validating:  98%|█████████▊| 231/235 [01:54<00:01,  2.06it/s, loss=16.6962, avg_loss=16.4929]"
     ]
    },
    {
     "name": "stdout",
     "output_type": "stream",
     "text": [
      "{'kd_loss': 32.49200439453125, 'feature_loss': 0.3294605016708374, 'ce_loss': 8.173303604125977, 'cont_loss': 3.641392707824707, 'teacher_loss': 8.091835975646973, 'total_loss': 16.696155548095703}\n"
     ]
    },
    {
     "name": "stderr",
     "output_type": "stream",
     "text": [
      "Validating:  99%|█████████▊| 232/235 [01:54<00:01,  2.06it/s, loss=16.6659, avg_loss=16.4936]"
     ]
    },
    {
     "name": "stdout",
     "output_type": "stream",
     "text": [
      "{'kd_loss': 32.49320983886719, 'feature_loss': 0.31361472606658936, 'ce_loss': 8.108171463012695, 'cont_loss': 3.6262636184692383, 'teacher_loss': 8.088068962097168, 'total_loss': 16.665903091430664}\n"
     ]
    },
    {
     "name": "stderr",
     "output_type": "stream",
     "text": [
      "Validating:  99%|█████████▉| 233/235 [01:55<00:00,  2.06it/s, loss=16.6718, avg_loss=16.4944]"
     ]
    },
    {
     "name": "stdout",
     "output_type": "stream",
     "text": [
      "{'kd_loss': 32.49263381958008, 'feature_loss': 0.34924793243408203, 'ce_loss': 8.093558311462402, 'cont_loss': 3.6747584342956543, 'teacher_loss': 8.085968971252441, 'total_loss': 16.671802520751953}\n"
     ]
    },
    {
     "name": "stderr",
     "output_type": "stream",
     "text": [
      "Validating: 100%|██████████| 235/235 [01:55<00:00,  2.51it/s, loss=16.6186, avg_loss=16.4958]"
     ]
    },
    {
     "name": "stdout",
     "output_type": "stream",
     "text": [
      "{'kd_loss': 32.49211120605469, 'feature_loss': 0.3447303771972656, 'ce_loss': 8.181106567382812, 'cont_loss': 3.6239259243011475, 'teacher_loss': 8.090975761413574, 'total_loss': 16.700624465942383}\n",
      "{'kd_loss': 32.49082565307617, 'feature_loss': 0.31509262323379517, 'ce_loss': 8.213476181030273, 'cont_loss': 2.7381224632263184, 'teacher_loss': 8.091904640197754, 'total_loss': 16.61855125427246}\n"
     ]
    },
    {
     "name": "stderr",
     "output_type": "stream",
     "text": [
      "Validating: 100%|██████████| 235/235 [01:55<00:00,  2.03it/s, loss=16.6186, avg_loss=16.4958]\n"
     ]
    },
    {
     "name": "stdout",
     "output_type": "stream",
     "text": [
      "Epoch 4 | Train Loss: 18.4270 | Val Loss: 16.4958 | Top1 Acc: 0.01 | Top5 Acc: 0.02\n"
     ]
    },
    {
     "name": "stderr",
     "output_type": "stream",
     "text": [
      "Training: 100%|██████████| 1875/1875 [13:09<00:00,  2.38it/s, loss=18.3409, avg_loss=18.4135, lr=1.05e-5]\n",
      "Validating:   0%|          | 1/235 [00:01<07:34,  1.94s/it, loss=16.1967, avg_loss=16.1967]"
     ]
    },
    {
     "name": "stdout",
     "output_type": "stream",
     "text": [
      "{'kd_loss': 32.49401092529297, 'feature_loss': 0.29100215435028076, 'ce_loss': 7.480931282043457, 'cont_loss': 1.484910488128662, 'teacher_loss': 8.09345817565918, 'total_loss': 16.19666862487793}\n"
     ]
    },
    {
     "name": "stderr",
     "output_type": "stream",
     "text": [
      "Validating:   1%|          | 2/235 [00:02<04:11,  1.08s/it, loss=16.3437, avg_loss=16.2702]"
     ]
    },
    {
     "name": "stdout",
     "output_type": "stream",
     "text": [
      "{'kd_loss': 32.49348449707031, 'feature_loss': 0.3014272451400757, 'ce_loss': 7.830801010131836, 'cont_loss': 1.537310004234314, 'teacher_loss': 8.095251083374023, 'total_loss': 16.34372901916504}\n"
     ]
    },
    {
     "name": "stderr",
     "output_type": "stream",
     "text": [
      "Validating:   1%|▏         | 3/235 [00:02<03:06,  1.24it/s, loss=16.3047, avg_loss=16.2817]"
     ]
    },
    {
     "name": "stdout",
     "output_type": "stream",
     "text": [
      "{'kd_loss': 32.49229431152344, 'feature_loss': 0.2902355194091797, 'ce_loss': 7.74403190612793, 'cont_loss': 1.521244764328003, 'teacher_loss': 8.100048065185547, 'total_loss': 16.304702758789062}\n"
     ]
    },
    {
     "name": "stderr",
     "output_type": "stream",
     "text": [
      "Validating:   2%|▏         | 4/235 [00:03<02:35,  1.48it/s, loss=16.1344, avg_loss=16.2449]"
     ]
    },
    {
     "name": "stdout",
     "output_type": "stream",
     "text": [
      "{'kd_loss': 32.49761199951172, 'feature_loss': 0.2541375756263733, 'ce_loss': 7.344875335693359, 'cont_loss': 1.4661610126495361, 'teacher_loss': 8.102001190185547, 'total_loss': 16.13443946838379}\n"
     ]
    },
    {
     "name": "stderr",
     "output_type": "stream",
     "text": [
      "Validating:   2%|▏         | 5/235 [00:03<02:18,  1.66it/s, loss=16.1380, avg_loss=16.2235]"
     ]
    },
    {
     "name": "stdout",
     "output_type": "stream",
     "text": [
      "{'kd_loss': 32.49513244628906, 'feature_loss': 0.25202685594558716, 'ce_loss': 7.364572048187256, 'cont_loss': 1.437013864517212, 'teacher_loss': 8.10227108001709, 'total_loss': 16.137989044189453}\n"
     ]
    },
    {
     "name": "stderr",
     "output_type": "stream",
     "text": [
      "Validating:   3%|▎         | 6/235 [00:04<02:08,  1.78it/s, loss=16.4669, avg_loss=16.2641]"
     ]
    },
    {
     "name": "stdout",
     "output_type": "stream",
     "text": [
      "{'kd_loss': 32.49298095703125, 'feature_loss': 0.37546050548553467, 'ce_loss': 8.110450744628906, 'cont_loss': 1.5045706033706665, 'teacher_loss': 8.099851608276367, 'total_loss': 16.466922760009766}\n"
     ]
    },
    {
     "name": "stderr",
     "output_type": "stream",
     "text": [
      "Validating:   3%|▎         | 7/235 [00:04<02:01,  1.88it/s, loss=16.1226, avg_loss=16.2439]"
     ]
    },
    {
     "name": "stdout",
     "output_type": "stream",
     "text": [
      "{'kd_loss': 32.49365997314453, 'feature_loss': 0.2772923707962036, 'ce_loss': 7.304891109466553, 'cont_loss': 1.4772874116897583, 'teacher_loss': 8.083301544189453, 'total_loss': 16.12260627746582}\n"
     ]
    },
    {
     "name": "stderr",
     "output_type": "stream",
     "text": [
      "Validating:   3%|▎         | 8/235 [00:05<01:57,  1.94it/s, loss=16.2042, avg_loss=16.2389]"
     ]
    },
    {
     "name": "stdout",
     "output_type": "stream",
     "text": [
      "{'kd_loss': 32.49383544921875, 'feature_loss': 0.3287022113800049, 'ce_loss': 7.4806599617004395, 'cont_loss': 1.486499547958374, 'teacher_loss': 8.096159934997559, 'total_loss': 16.20418930053711}\n"
     ]
    },
    {
     "name": "stderr",
     "output_type": "stream",
     "text": [
      "Validating:   4%|▍         | 9/235 [00:05<01:53,  1.99it/s, loss=16.2528, avg_loss=16.2404]"
     ]
    },
    {
     "name": "stdout",
     "output_type": "stream",
     "text": [
      "{'kd_loss': 32.493751525878906, 'feature_loss': 0.20982396602630615, 'ce_loss': 7.65805196762085, 'cont_loss': 1.5006637573242188, 'teacher_loss': 8.09341049194336, 'total_loss': 16.25275230407715}\n"
     ]
    },
    {
     "name": "stderr",
     "output_type": "stream",
     "text": [
      "Validating:   4%|▍         | 10/235 [00:06<01:51,  2.02it/s, loss=16.2814, avg_loss=16.2445]"
     ]
    },
    {
     "name": "stdout",
     "output_type": "stream",
     "text": [
      "{'kd_loss': 32.49287033081055, 'feature_loss': 0.26909101009368896, 'ce_loss': 7.696789741516113, 'cont_loss': 1.5166946649551392, 'teacher_loss': 8.099812507629395, 'total_loss': 16.28135108947754}\n"
     ]
    },
    {
     "name": "stderr",
     "output_type": "stream",
     "text": [
      "Validating:   5%|▍         | 11/235 [00:06<01:49,  2.04it/s, loss=16.3155, avg_loss=16.2510]"
     ]
    },
    {
     "name": "stdout",
     "output_type": "stream",
     "text": [
      "{'kd_loss': 32.493247985839844, 'feature_loss': 0.3106297254562378, 'ce_loss': 7.764002323150635, 'cont_loss': 1.504677414894104, 'teacher_loss': 8.077223777770996, 'total_loss': 16.315492630004883}\n"
     ]
    },
    {
     "name": "stderr",
     "output_type": "stream",
     "text": [
      "Validating:   5%|▌         | 12/235 [00:07<01:49,  2.04it/s, loss=16.2187, avg_loss=16.2483]"
     ]
    },
    {
     "name": "stdout",
     "output_type": "stream",
     "text": [
      "{'kd_loss': 32.49188232421875, 'feature_loss': 0.2631211280822754, 'ce_loss': 7.552641868591309, 'cont_loss': 1.4823346138000488, 'teacher_loss': 8.098047256469727, 'total_loss': 16.21866798400879}\n"
     ]
    },
    {
     "name": "stderr",
     "output_type": "stream",
     "text": [
      "Validating:   6%|▌         | 13/235 [00:07<01:47,  2.06it/s, loss=16.3279, avg_loss=16.2544]"
     ]
    },
    {
     "name": "stdout",
     "output_type": "stream",
     "text": [
      "{'kd_loss': 32.493831634521484, 'feature_loss': 0.29663658142089844, 'ce_loss': 7.809774875640869, 'cont_loss': 1.4715436697006226, 'teacher_loss': 8.082253456115723, 'total_loss': 16.327924728393555}\n"
     ]
    },
    {
     "name": "stderr",
     "output_type": "stream",
     "text": [
      "Validating:   6%|▌         | 14/235 [00:08<01:46,  2.07it/s, loss=16.3478, avg_loss=16.2611]"
     ]
    },
    {
     "name": "stdout",
     "output_type": "stream",
     "text": [
      "{'kd_loss': 32.494178771972656, 'feature_loss': 0.3435225486755371, 'ce_loss': 7.814932346343994, 'cont_loss': 1.554639458656311, 'teacher_loss': 8.075489044189453, 'total_loss': 16.347814559936523}\n"
     ]
    },
    {
     "name": "stderr",
     "output_type": "stream",
     "text": [
      "Validating:   6%|▋         | 15/235 [00:08<01:45,  2.08it/s, loss=16.2393, avg_loss=16.2596]"
     ]
    },
    {
     "name": "stdout",
     "output_type": "stream",
     "text": [
      "{'kd_loss': 32.4923095703125, 'feature_loss': 0.2666327953338623, 'ce_loss': 7.608383655548096, 'cont_loss': 1.4566597938537598, 'teacher_loss': 8.095987319946289, 'total_loss': 16.23927116394043}\n"
     ]
    },
    {
     "name": "stderr",
     "output_type": "stream",
     "text": [
      "Validating:   7%|▋         | 16/235 [00:09<01:45,  2.08it/s, loss=16.3678, avg_loss=16.2664]"
     ]
    },
    {
     "name": "stdout",
     "output_type": "stream",
     "text": [
      "{'kd_loss': 32.49320602416992, 'feature_loss': 0.2957843542098999, 'ce_loss': 7.902170658111572, 'cont_loss': 1.5047509670257568, 'teacher_loss': 8.09370231628418, 'total_loss': 16.367782592773438}\n"
     ]
    },
    {
     "name": "stderr",
     "output_type": "stream",
     "text": [
      "Validating:   7%|▋         | 17/235 [00:09<01:44,  2.08it/s, loss=16.2059, avg_loss=16.2628]"
     ]
    },
    {
     "name": "stdout",
     "output_type": "stream",
     "text": [
      "{'kd_loss': 32.49230194091797, 'feature_loss': 0.3110564947128296, 'ce_loss': 7.492429733276367, 'cont_loss': 1.4978545904159546, 'teacher_loss': 8.083215713500977, 'total_loss': 16.205888748168945}\n"
     ]
    },
    {
     "name": "stderr",
     "output_type": "stream",
     "text": [
      "Validating:   8%|▊         | 18/235 [00:10<01:44,  2.08it/s, loss=16.4036, avg_loss=16.2707]"
     ]
    },
    {
     "name": "stdout",
     "output_type": "stream",
     "text": [
      "{'kd_loss': 32.49279022216797, 'feature_loss': 0.26628577709198, 'ce_loss': 8.010514259338379, 'cont_loss': 1.4904131889343262, 'teacher_loss': 8.089252471923828, 'total_loss': 16.403621673583984}\n"
     ]
    },
    {
     "name": "stderr",
     "output_type": "stream",
     "text": [
      "Validating:   8%|▊         | 19/235 [00:10<01:43,  2.09it/s, loss=16.3729, avg_loss=16.2760]"
     ]
    },
    {
     "name": "stdout",
     "output_type": "stream",
     "text": [
      "{'kd_loss': 32.494293212890625, 'feature_loss': 0.27933692932128906, 'ce_loss': 7.925252437591553, 'cont_loss': 1.4917041063308716, 'teacher_loss': 8.091300964355469, 'total_loss': 16.37285614013672}\n"
     ]
    },
    {
     "name": "stderr",
     "output_type": "stream",
     "text": [
      "Validating:   9%|▊         | 20/235 [00:11<01:43,  2.08it/s, loss=16.1868, avg_loss=16.2716]"
     ]
    },
    {
     "name": "stdout",
     "output_type": "stream",
     "text": [
      "{'kd_loss': 32.4928092956543, 'feature_loss': 0.26570308208465576, 'ce_loss': 7.468138694763184, 'cont_loss': 1.492903232574463, 'teacher_loss': 8.102356910705566, 'total_loss': 16.186809539794922}\n"
     ]
    },
    {
     "name": "stderr",
     "output_type": "stream",
     "text": [
      "Validating:   9%|▉         | 21/235 [00:11<01:42,  2.08it/s, loss=16.2414, avg_loss=16.2701]"
     ]
    },
    {
     "name": "stdout",
     "output_type": "stream",
     "text": [
      "{'kd_loss': 32.49212646484375, 'feature_loss': 0.261440634727478, 'ce_loss': 7.601344585418701, 'cont_loss': 1.5175144672393799, 'teacher_loss': 8.102736473083496, 'total_loss': 16.241426467895508}\n"
     ]
    },
    {
     "name": "stderr",
     "output_type": "stream",
     "text": [
      "Validating:   9%|▉         | 22/235 [00:11<01:42,  2.08it/s, loss=16.2932, avg_loss=16.2712]"
     ]
    },
    {
     "name": "stdout",
     "output_type": "stream",
     "text": [
      "{'kd_loss': 32.491485595703125, 'feature_loss': 0.2176705002784729, 'ce_loss': 7.746991157531738, 'cont_loss': 1.542952537536621, 'teacher_loss': 8.108684539794922, 'total_loss': 16.29322052001953}\n"
     ]
    },
    {
     "name": "stderr",
     "output_type": "stream",
     "text": [
      "Validating:  10%|▉         | 23/235 [00:12<01:41,  2.08it/s, loss=16.3684, avg_loss=16.2754]"
     ]
    },
    {
     "name": "stdout",
     "output_type": "stream",
     "text": [
      "{'kd_loss': 32.494140625, 'feature_loss': 0.34883302450180054, 'ce_loss': 7.874588966369629, 'cont_loss': 1.51107656955719, 'teacher_loss': 8.078229904174805, 'total_loss': 16.368366241455078}\n"
     ]
    },
    {
     "name": "stderr",
     "output_type": "stream",
     "text": [
      "Validating:  10%|█         | 24/235 [00:12<01:41,  2.08it/s, loss=16.2669, avg_loss=16.2751]"
     ]
    },
    {
     "name": "stdout",
     "output_type": "stream",
     "text": [
      "{'kd_loss': 32.49497604370117, 'feature_loss': 0.2822529077529907, 'ce_loss': 7.6590399742126465, 'cont_loss': 1.4879686832427979, 'teacher_loss': 8.076631546020508, 'total_loss': 16.26685333251953}\n"
     ]
    },
    {
     "name": "stderr",
     "output_type": "stream",
     "text": [
      "Validating:  11%|█         | 25/235 [00:13<01:40,  2.08it/s, loss=16.3408, avg_loss=16.2777]"
     ]
    },
    {
     "name": "stdout",
     "output_type": "stream",
     "text": [
      "{'kd_loss': 32.494869232177734, 'feature_loss': 0.30420583486557007, 'ce_loss': 7.83126163482666, 'cont_loss': 1.4947147369384766, 'teacher_loss': 8.079620361328125, 'total_loss': 16.34076499938965}\n"
     ]
    },
    {
     "name": "stderr",
     "output_type": "stream",
     "text": [
      "Validating:  11%|█         | 26/235 [00:13<01:40,  2.08it/s, loss=16.1894, avg_loss=16.2743]"
     ]
    },
    {
     "name": "stdout",
     "output_type": "stream",
     "text": [
      "{'kd_loss': 32.49528884887695, 'feature_loss': 0.37800371646881104, 'ce_loss': 7.413345813751221, 'cont_loss': 1.5029895305633545, 'teacher_loss': 8.073464393615723, 'total_loss': 16.189353942871094}\n"
     ]
    },
    {
     "name": "stderr",
     "output_type": "stream",
     "text": [
      "Validating:  11%|█▏        | 27/235 [00:14<01:40,  2.07it/s, loss=16.0674, avg_loss=16.2666]"
     ]
    },
    {
     "name": "stdout",
     "output_type": "stream",
     "text": [
      "{'kd_loss': 32.49295425415039, 'feature_loss': 0.3272579312324524, 'ce_loss': 7.147179126739502, 'cont_loss': 1.458884835243225, 'teacher_loss': 8.09504222869873, 'total_loss': 16.067394256591797}\n"
     ]
    },
    {
     "name": "stderr",
     "output_type": "stream",
     "text": [
      "Validating:  12%|█▏        | 28/235 [00:14<01:39,  2.07it/s, loss=16.3742, avg_loss=16.2705]"
     ]
    },
    {
     "name": "stdout",
     "output_type": "stream",
     "text": [
      "{'kd_loss': 32.49181365966797, 'feature_loss': 0.29917746782302856, 'ce_loss': 7.920306205749512, 'cont_loss': 1.4949345588684082, 'teacher_loss': 8.103814125061035, 'total_loss': 16.374177932739258}\n"
     ]
    },
    {
     "name": "stderr",
     "output_type": "stream",
     "text": [
      "Validating:  12%|█▏        | 29/235 [00:15<01:39,  2.07it/s, loss=16.4059, avg_loss=16.2751]"
     ]
    },
    {
     "name": "stdout",
     "output_type": "stream",
     "text": [
      "{'kd_loss': 32.49406433105469, 'feature_loss': 0.26926714181900024, 'ce_loss': 8.010233879089355, 'cont_loss': 1.503204345703125, 'teacher_loss': 8.098630905151367, 'total_loss': 16.405893325805664}\n"
     ]
    },
    {
     "name": "stderr",
     "output_type": "stream",
     "text": [
      "Validating:  13%|█▎        | 30/235 [00:15<01:39,  2.07it/s, loss=16.0781, avg_loss=16.2686]"
     ]
    },
    {
     "name": "stdout",
     "output_type": "stream",
     "text": [
      "{'kd_loss': 32.49632263183594, 'feature_loss': 0.2818864583969116, 'ce_loss': 7.207961559295654, 'cont_loss': 1.3999313116073608, 'teacher_loss': 8.09099006652832, 'total_loss': 16.07808494567871}\n"
     ]
    },
    {
     "name": "stderr",
     "output_type": "stream",
     "text": [
      "Validating:  13%|█▎        | 31/235 [00:16<01:38,  2.07it/s, loss=16.2087, avg_loss=16.2666]"
     ]
    },
    {
     "name": "stdout",
     "output_type": "stream",
     "text": [
      "{'kd_loss': 32.4932861328125, 'feature_loss': 0.30052006244659424, 'ce_loss': 7.51620626449585, 'cont_loss': 1.4483448266983032, 'teacher_loss': 8.10059928894043, 'total_loss': 16.208736419677734}\n"
     ]
    },
    {
     "name": "stderr",
     "output_type": "stream",
     "text": [
      "Validating:  14%|█▎        | 32/235 [00:16<01:38,  2.07it/s, loss=16.2344, avg_loss=16.2656]"
     ]
    },
    {
     "name": "stdout",
     "output_type": "stream",
     "text": [
      "{'kd_loss': 32.49217987060547, 'feature_loss': 0.24166369438171387, 'ce_loss': 7.599808692932129, 'cont_loss': 1.4929810762405396, 'teacher_loss': 8.098932266235352, 'total_loss': 16.234426498413086}\n"
     ]
    },
    {
     "name": "stderr",
     "output_type": "stream",
     "text": [
      "Validating:  14%|█▍        | 33/235 [00:17<01:37,  2.07it/s, loss=16.2478, avg_loss=16.2651]"
     ]
    },
    {
     "name": "stdout",
     "output_type": "stream",
     "text": [
      "{'kd_loss': 32.49292755126953, 'feature_loss': 0.2830822467803955, 'ce_loss': 7.612383842468262, 'cont_loss': 1.4903006553649902, 'teacher_loss': 8.100091934204102, 'total_loss': 16.247772216796875}\n"
     ]
    },
    {
     "name": "stderr",
     "output_type": "stream",
     "text": [
      "Validating:  14%|█▍        | 34/235 [00:17<01:37,  2.06it/s, loss=16.3020, avg_loss=16.2662]"
     ]
    },
    {
     "name": "stdout",
     "output_type": "stream",
     "text": [
      "{'kd_loss': 32.4930419921875, 'feature_loss': 0.35460299253463745, 'ce_loss': 7.709500312805176, 'cont_loss': 1.5004875659942627, 'teacher_loss': 8.069673538208008, 'total_loss': 16.301986694335938}\n"
     ]
    },
    {
     "name": "stderr",
     "output_type": "stream",
     "text": [
      "Validating:  15%|█▍        | 35/235 [00:18<01:36,  2.06it/s, loss=16.2510, avg_loss=16.2657]"
     ]
    },
    {
     "name": "stdout",
     "output_type": "stream",
     "text": [
      "{'kd_loss': 32.49369812011719, 'feature_loss': 0.3422108292579651, 'ce_loss': 7.598528861999512, 'cont_loss': 1.4564688205718994, 'teacher_loss': 8.110811233520508, 'total_loss': 16.250980377197266}\n"
     ]
    },
    {
     "name": "stderr",
     "output_type": "stream",
     "text": [
      "Validating:  15%|█▌        | 36/235 [00:18<01:36,  2.06it/s, loss=16.2166, avg_loss=16.2644]"
     ]
    },
    {
     "name": "stdout",
     "output_type": "stream",
     "text": [
      "{'kd_loss': 32.49314498901367, 'feature_loss': 0.2210516333580017, 'ce_loss': 7.552475452423096, 'cont_loss': 1.541046380996704, 'teacher_loss': 8.105371475219727, 'total_loss': 16.216562271118164}\n"
     ]
    },
    {
     "name": "stderr",
     "output_type": "stream",
     "text": [
      "Validating:  16%|█▌        | 37/235 [00:19<01:35,  2.06it/s, loss=16.3474, avg_loss=16.2666]"
     ]
    },
    {
     "name": "stdout",
     "output_type": "stream",
     "text": [
      "{'kd_loss': 32.49162292480469, 'feature_loss': 0.24516218900680542, 'ce_loss': 7.851266384124756, 'cont_loss': 1.612553358078003, 'teacher_loss': 8.09624195098877, 'total_loss': 16.347442626953125}\n"
     ]
    },
    {
     "name": "stderr",
     "output_type": "stream",
     "text": [
      "Validating:  16%|█▌        | 38/235 [00:19<01:35,  2.06it/s, loss=16.2685, avg_loss=16.2667]"
     ]
    },
    {
     "name": "stdout",
     "output_type": "stream",
     "text": [
      "{'kd_loss': 32.492225646972656, 'feature_loss': 0.3440040349960327, 'ce_loss': 7.580061912536621, 'cont_loss': 1.7083196640014648, 'teacher_loss': 8.095898628234863, 'total_loss': 16.26854705810547}\n"
     ]
    },
    {
     "name": "stderr",
     "output_type": "stream",
     "text": [
      "Validating:  17%|█▋        | 39/235 [00:20<01:34,  2.06it/s, loss=16.2642, avg_loss=16.2666]"
     ]
    },
    {
     "name": "stdout",
     "output_type": "stream",
     "text": [
      "{'kd_loss': 32.49163818359375, 'feature_loss': 0.24819880723953247, 'ce_loss': 7.660806655883789, 'cont_loss': 1.535860300064087, 'teacher_loss': 8.092703819274902, 'total_loss': 16.264204025268555}\n"
     ]
    },
    {
     "name": "stderr",
     "output_type": "stream",
     "text": [
      "Validating:  17%|█▋        | 40/235 [00:20<01:34,  2.06it/s, loss=16.3304, avg_loss=16.2682]"
     ]
    },
    {
     "name": "stdout",
     "output_type": "stream",
     "text": [
      "{'kd_loss': 32.491519927978516, 'feature_loss': 0.20115041732788086, 'ce_loss': 7.8006134033203125, 'cont_loss': 1.7329614162445068, 'teacher_loss': 8.10262680053711, 'total_loss': 16.330379486083984}\n"
     ]
    },
    {
     "name": "stderr",
     "output_type": "stream",
     "text": [
      "Validating:  17%|█▋        | 41/235 [00:21<01:33,  2.07it/s, loss=16.3191, avg_loss=16.2694]"
     ]
    },
    {
     "name": "stdout",
     "output_type": "stream",
     "text": [
      "{'kd_loss': 32.492374420166016, 'feature_loss': 0.2766110897064209, 'ce_loss': 7.7620368003845215, 'cont_loss': 1.6197454929351807, 'teacher_loss': 8.078123092651367, 'total_loss': 16.319061279296875}\n"
     ]
    },
    {
     "name": "stderr",
     "output_type": "stream",
     "text": [
      "Validating:  18%|█▊        | 42/235 [00:21<01:33,  2.06it/s, loss=16.3633, avg_loss=16.2717]"
     ]
    },
    {
     "name": "stdout",
     "output_type": "stream",
     "text": [
      "{'kd_loss': 32.49433898925781, 'feature_loss': 0.27256107330322266, 'ce_loss': 7.88194465637207, 'cont_loss': 1.5825002193450928, 'teacher_loss': 8.101186752319336, 'total_loss': 16.363277435302734}\n"
     ]
    },
    {
     "name": "stderr",
     "output_type": "stream",
     "text": [
      "Validating:  18%|█▊        | 43/235 [00:22<01:33,  2.06it/s, loss=16.0739, avg_loss=16.2671]"
     ]
    },
    {
     "name": "stdout",
     "output_type": "stream",
     "text": [
      "{'kd_loss': 32.49418258666992, 'feature_loss': 0.3514608144760132, 'ce_loss': 7.141829013824463, 'cont_loss': 1.4920670986175537, 'teacher_loss': 8.09463882446289, 'total_loss': 16.073904037475586}\n"
     ]
    },
    {
     "name": "stderr",
     "output_type": "stream",
     "text": [
      "Validating:  19%|█▊        | 44/235 [00:22<01:32,  2.06it/s, loss=16.4021, avg_loss=16.2701]"
     ]
    },
    {
     "name": "stdout",
     "output_type": "stream",
     "text": [
      "{'kd_loss': 32.49321746826172, 'feature_loss': 0.2412339448928833, 'ce_loss': 7.966099739074707, 'cont_loss': 1.701115369796753, 'teacher_loss': 8.11207389831543, 'total_loss': 16.402084350585938}\n"
     ]
    },
    {
     "name": "stderr",
     "output_type": "stream",
     "text": [
      "Validating:  19%|█▉        | 45/235 [00:23<01:32,  2.05it/s, loss=16.3838, avg_loss=16.2727]"
     ]
    },
    {
     "name": "stdout",
     "output_type": "stream",
     "text": [
      "{'kd_loss': 32.491973876953125, 'feature_loss': 0.2842552661895752, 'ce_loss': 7.928246974945068, 'cont_loss': 1.5886427164077759, 'teacher_loss': 8.108509063720703, 'total_loss': 16.383804321289062}\n"
     ]
    },
    {
     "name": "stderr",
     "output_type": "stream",
     "text": [
      "Validating:  20%|█▉        | 46/235 [00:23<01:31,  2.06it/s, loss=16.3251, avg_loss=16.2738]"
     ]
    },
    {
     "name": "stdout",
     "output_type": "stream",
     "text": [
      "{'kd_loss': 32.493080139160156, 'feature_loss': 0.33150017261505127, 'ce_loss': 7.747929096221924, 'cont_loss': 1.6238141059875488, 'teacher_loss': 8.077925682067871, 'total_loss': 16.32508659362793}\n"
     ]
    },
    {
     "name": "stderr",
     "output_type": "stream",
     "text": [
      "Validating:  20%|██        | 47/235 [00:24<01:31,  2.06it/s, loss=16.3524, avg_loss=16.2755]"
     ]
    },
    {
     "name": "stdout",
     "output_type": "stream",
     "text": [
      "{'kd_loss': 32.49277114868164, 'feature_loss': 0.24063074588775635, 'ce_loss': 7.83096170425415, 'cont_loss': 1.7477688789367676, 'teacher_loss': 8.114978790283203, 'total_loss': 16.35239601135254}\n"
     ]
    },
    {
     "name": "stderr",
     "output_type": "stream",
     "text": [
      "Validating:  20%|██        | 48/235 [00:24<01:30,  2.06it/s, loss=16.2573, avg_loss=16.2751]"
     ]
    },
    {
     "name": "stdout",
     "output_type": "stream",
     "text": [
      "{'kd_loss': 32.49673080444336, 'feature_loss': 0.3343837261199951, 'ce_loss': 7.583142280578613, 'cont_loss': 1.5843372344970703, 'teacher_loss': 8.094866752624512, 'total_loss': 16.257259368896484}\n"
     ]
    },
    {
     "name": "stderr",
     "output_type": "stream",
     "text": [
      "Validating:  21%|██        | 49/235 [00:25<01:30,  2.06it/s, loss=16.3440, avg_loss=16.2765]"
     ]
    },
    {
     "name": "stdout",
     "output_type": "stream",
     "text": [
      "{'kd_loss': 32.494171142578125, 'feature_loss': 0.27728134393692017, 'ce_loss': 7.810012340545654, 'cont_loss': 1.6685242652893066, 'teacher_loss': 8.100021362304688, 'total_loss': 16.343982696533203}\n"
     ]
    },
    {
     "name": "stderr",
     "output_type": "stream",
     "text": [
      "Validating:  21%|██▏       | 50/235 [00:25<01:29,  2.06it/s, loss=16.3329, avg_loss=16.2776]"
     ]
    },
    {
     "name": "stdout",
     "output_type": "stream",
     "text": [
      "{'kd_loss': 32.49336624145508, 'feature_loss': 0.29815828800201416, 'ce_loss': 7.7726263999938965, 'cont_loss': 1.6689538955688477, 'teacher_loss': 8.075075149536133, 'total_loss': 16.332923889160156}\n"
     ]
    },
    {
     "name": "stderr",
     "output_type": "stream",
     "text": [
      "Validating:  22%|██▏       | 51/235 [00:26<01:29,  2.06it/s, loss=16.3842, avg_loss=16.2797]"
     ]
    },
    {
     "name": "stdout",
     "output_type": "stream",
     "text": [
      "{'kd_loss': 32.49204635620117, 'feature_loss': 0.2997598648071289, 'ce_loss': 7.884917259216309, 'cont_loss': 1.734947919845581, 'teacher_loss': 8.11132526397705, 'total_loss': 16.384231567382812}\n"
     ]
    },
    {
     "name": "stderr",
     "output_type": "stream",
     "text": [
      "Validating:  22%|██▏       | 52/235 [00:26<01:28,  2.06it/s, loss=16.2500, avg_loss=16.2792]"
     ]
    },
    {
     "name": "stdout",
     "output_type": "stream",
     "text": [
      "{'kd_loss': 32.49375915527344, 'feature_loss': 0.2507503032684326, 'ce_loss': 7.584018707275391, 'cont_loss': 1.6875725984573364, 'teacher_loss': 8.094355583190918, 'total_loss': 16.250017166137695}\n"
     ]
    },
    {
     "name": "stderr",
     "output_type": "stream",
     "text": [
      "Validating:  23%|██▎       | 53/235 [00:27<01:28,  2.06it/s, loss=16.4271, avg_loss=16.2819]"
     ]
    },
    {
     "name": "stdout",
     "output_type": "stream",
     "text": [
      "{'kd_loss': 32.49331283569336, 'feature_loss': 0.300091028213501, 'ce_loss': 7.98021125793457, 'cont_loss': 1.7765438556671143, 'teacher_loss': 8.096349716186523, 'total_loss': 16.427082061767578}\n"
     ]
    },
    {
     "name": "stderr",
     "output_type": "stream",
     "text": [
      "Validating:  23%|██▎       | 54/235 [00:27<01:27,  2.06it/s, loss=16.3466, avg_loss=16.2831]"
     ]
    },
    {
     "name": "stdout",
     "output_type": "stream",
     "text": [
      "{'kd_loss': 32.49488067626953, 'feature_loss': 0.3656056523323059, 'ce_loss': 7.760989189147949, 'cont_loss': 1.7117393016815186, 'teacher_loss': 8.076961517333984, 'total_loss': 16.346641540527344}\n"
     ]
    },
    {
     "name": "stderr",
     "output_type": "stream",
     "text": [
      "Validating:  23%|██▎       | 55/235 [00:27<01:27,  2.06it/s, loss=16.2359, avg_loss=16.2823]"
     ]
    },
    {
     "name": "stdout",
     "output_type": "stream",
     "text": [
      "{'kd_loss': 32.49797439575195, 'feature_loss': 0.33470916748046875, 'ce_loss': 7.502047538757324, 'cont_loss': 1.6896804571151733, 'teacher_loss': 8.078251838684082, 'total_loss': 16.235919952392578}\n"
     ]
    },
    {
     "name": "stderr",
     "output_type": "stream",
     "text": [
      "Validating:  24%|██▍       | 56/235 [00:28<01:26,  2.06it/s, loss=16.4864, avg_loss=16.2859]"
     ]
    },
    {
     "name": "stdout",
     "output_type": "stream",
     "text": [
      "{'kd_loss': 32.493934631347656, 'feature_loss': 0.3291260600090027, 'ce_loss': 8.103772163391113, 'cont_loss': 1.8153159618377686, 'teacher_loss': 8.089470863342285, 'total_loss': 16.486440658569336}\n"
     ]
    },
    {
     "name": "stderr",
     "output_type": "stream",
     "text": [
      "Validating:  24%|██▍       | 57/235 [00:28<01:26,  2.06it/s, loss=16.5028, avg_loss=16.2897]"
     ]
    },
    {
     "name": "stdout",
     "output_type": "stream",
     "text": [
      "{'kd_loss': 32.49363708496094, 'feature_loss': 0.3024056553840637, 'ce_loss': 8.160724639892578, 'cont_loss': 1.805827260017395, 'teacher_loss': 8.102432250976562, 'total_loss': 16.5028076171875}\n"
     ]
    },
    {
     "name": "stderr",
     "output_type": "stream",
     "text": [
      "Validating:  25%|██▍       | 58/235 [00:29<01:25,  2.06it/s, loss=16.4020, avg_loss=16.2917]"
     ]
    },
    {
     "name": "stdout",
     "output_type": "stream",
     "text": [
      "{'kd_loss': 32.494014739990234, 'feature_loss': 0.2856835126876831, 'ce_loss': 7.9094696044921875, 'cont_loss': 1.8343532085418701, 'teacher_loss': 8.10007095336914, 'total_loss': 16.401966094970703}\n"
     ]
    },
    {
     "name": "stderr",
     "output_type": "stream",
     "text": [
      "Validating:  25%|██▌       | 59/235 [00:29<01:25,  2.06it/s, loss=16.3608, avg_loss=16.2928]"
     ]
    },
    {
     "name": "stdout",
     "output_type": "stream",
     "text": [
      "{'kd_loss': 32.49319076538086, 'feature_loss': 0.2572888135910034, 'ce_loss': 7.820406436920166, 'cont_loss': 1.8388614654541016, 'teacher_loss': 8.095453262329102, 'total_loss': 16.360782623291016}\n"
     ]
    },
    {
     "name": "stderr",
     "output_type": "stream",
     "text": [
      "Validating:  26%|██▌       | 60/235 [00:30<01:24,  2.06it/s, loss=16.5038, avg_loss=16.2964]"
     ]
    },
    {
     "name": "stdout",
     "output_type": "stream",
     "text": [
      "{'kd_loss': 32.494754791259766, 'feature_loss': 0.33435630798339844, 'ce_loss': 8.137282371520996, 'cont_loss': 1.8412449359893799, 'teacher_loss': 8.088661193847656, 'total_loss': 16.50381088256836}\n"
     ]
    },
    {
     "name": "stderr",
     "output_type": "stream",
     "text": [
      "Validating:  26%|██▌       | 61/235 [00:30<01:24,  2.06it/s, loss=16.4354, avg_loss=16.2986]"
     ]
    },
    {
     "name": "stdout",
     "output_type": "stream",
     "text": [
      "{'kd_loss': 32.494232177734375, 'feature_loss': 0.2757612466812134, 'ce_loss': 7.990128517150879, 'cont_loss': 1.8651374578475952, 'teacher_loss': 8.088032722473145, 'total_loss': 16.435409545898438}\n"
     ]
    },
    {
     "name": "stderr",
     "output_type": "stream",
     "text": [
      "Validating:  26%|██▋       | 62/235 [00:31<01:23,  2.06it/s, loss=16.3454, avg_loss=16.2994]"
     ]
    },
    {
     "name": "stdout",
     "output_type": "stream",
     "text": [
      "{'kd_loss': 32.493072509765625, 'feature_loss': 0.2320011854171753, 'ce_loss': 7.7876176834106445, 'cont_loss': 1.866776704788208, 'teacher_loss': 8.099967956542969, 'total_loss': 16.345354080200195}\n"
     ]
    },
    {
     "name": "stderr",
     "output_type": "stream",
     "text": [
      "Validating:  27%|██▋       | 63/235 [00:31<01:23,  2.06it/s, loss=16.4865, avg_loss=16.3024]"
     ]
    },
    {
     "name": "stdout",
     "output_type": "stream",
     "text": [
      "{'kd_loss': 32.49186706542969, 'feature_loss': 0.2926792502403259, 'ce_loss': 8.080666542053223, 'cont_loss': 1.9893585443496704, 'teacher_loss': 8.10076904296875, 'total_loss': 16.486486434936523}\n"
     ]
    },
    {
     "name": "stderr",
     "output_type": "stream",
     "text": [
      "Validating:  27%|██▋       | 64/235 [00:32<01:23,  2.06it/s, loss=16.3447, avg_loss=16.3030]"
     ]
    },
    {
     "name": "stdout",
     "output_type": "stream",
     "text": [
      "{'kd_loss': 32.49314880371094, 'feature_loss': 0.3041074275970459, 'ce_loss': 7.750862121582031, 'cont_loss': 1.8630647659301758, 'teacher_loss': 8.096033096313477, 'total_loss': 16.3447322845459}\n"
     ]
    },
    {
     "name": "stderr",
     "output_type": "stream",
     "text": [
      "Validating:  28%|██▊       | 65/235 [00:32<01:22,  2.05it/s, loss=16.4678, avg_loss=16.3056]"
     ]
    },
    {
     "name": "stdout",
     "output_type": "stream",
     "text": [
      "{'kd_loss': 32.49164581298828, 'feature_loss': 0.26950329542160034, 'ce_loss': 8.062132835388184, 'cont_loss': 1.9238909482955933, 'teacher_loss': 8.103256225585938, 'total_loss': 16.46780014038086}\n"
     ]
    },
    {
     "name": "stderr",
     "output_type": "stream",
     "text": [
      "Validating:  28%|██▊       | 66/235 [00:33<01:22,  2.05it/s, loss=16.3559, avg_loss=16.3063]"
     ]
    },
    {
     "name": "stdout",
     "output_type": "stream",
     "text": [
      "{'kd_loss': 32.49306869506836, 'feature_loss': 0.23491108417510986, 'ce_loss': 7.81973934173584, 'cont_loss': 1.838374376296997, 'teacher_loss': 8.105049133300781, 'total_loss': 16.35594367980957}\n"
     ]
    },
    {
     "name": "stderr",
     "output_type": "stream",
     "text": [
      "Validating:  29%|██▊       | 67/235 [00:33<01:22,  2.05it/s, loss=16.2773, avg_loss=16.3059]"
     ]
    },
    {
     "name": "stdout",
     "output_type": "stream",
     "text": [
      "{'kd_loss': 32.49211120605469, 'feature_loss': 0.30495768785476685, 'ce_loss': 7.584120750427246, 'cont_loss': 1.8579180240631104, 'teacher_loss': 8.089387893676758, 'total_loss': 16.27727508544922}\n"
     ]
    },
    {
     "name": "stderr",
     "output_type": "stream",
     "text": [
      "Validating:  29%|██▉       | 68/235 [00:34<01:21,  2.05it/s, loss=16.4643, avg_loss=16.3082]"
     ]
    },
    {
     "name": "stdout",
     "output_type": "stream",
     "text": [
      "{'kd_loss': 32.492366790771484, 'feature_loss': 0.29154205322265625, 'ce_loss': 8.007772445678711, 'cont_loss': 2.059800148010254, 'teacher_loss': 8.097330093383789, 'total_loss': 16.464345932006836}\n"
     ]
    },
    {
     "name": "stderr",
     "output_type": "stream",
     "text": [
      "Validating:  29%|██▉       | 69/235 [00:34<01:20,  2.05it/s, loss=16.3620, avg_loss=16.3090]"
     ]
    },
    {
     "name": "stdout",
     "output_type": "stream",
     "text": [
      "{'kd_loss': 32.4931640625, 'feature_loss': 0.282764196395874, 'ce_loss': 7.802326202392578, 'cont_loss': 1.8720647096633911, 'teacher_loss': 8.083170890808105, 'total_loss': 16.361955642700195}\n"
     ]
    },
    {
     "name": "stderr",
     "output_type": "stream",
     "text": [
      "Validating:  30%|██▉       | 70/235 [00:35<01:20,  2.05it/s, loss=16.3196, avg_loss=16.3091]"
     ]
    },
    {
     "name": "stdout",
     "output_type": "stream",
     "text": [
      "{'kd_loss': 32.494144439697266, 'feature_loss': 0.2678142786026001, 'ce_loss': 7.703250408172607, 'cont_loss': 1.870332956314087, 'teacher_loss': 8.10413646697998, 'total_loss': 16.31955337524414}\n"
     ]
    },
    {
     "name": "stderr",
     "output_type": "stream",
     "text": [
      "Validating:  30%|███       | 71/235 [00:35<01:20,  2.05it/s, loss=16.3955, avg_loss=16.3104]"
     ]
    },
    {
     "name": "stdout",
     "output_type": "stream",
     "text": [
      "{'kd_loss': 32.49308776855469, 'feature_loss': 0.3085900545120239, 'ce_loss': 7.852264404296875, 'cont_loss': 1.9559056758880615, 'teacher_loss': 8.082094192504883, 'total_loss': 16.395450592041016}\n"
     ]
    },
    {
     "name": "stderr",
     "output_type": "stream",
     "text": [
      "Validating:  31%|███       | 72/235 [00:36<01:19,  2.05it/s, loss=16.4542, avg_loss=16.3124]"
     ]
    },
    {
     "name": "stdout",
     "output_type": "stream",
     "text": [
      "{'kd_loss': 32.49422073364258, 'feature_loss': 0.2941805124282837, 'ce_loss': 7.999115943908691, 'cont_loss': 1.9806150197982788, 'teacher_loss': 8.088236808776855, 'total_loss': 16.45423126220703}\n"
     ]
    },
    {
     "name": "stderr",
     "output_type": "stream",
     "text": [
      "Validating:  31%|███       | 73/235 [00:36<01:19,  2.04it/s, loss=16.4383, avg_loss=16.3141]"
     ]
    },
    {
     "name": "stdout",
     "output_type": "stream",
     "text": [
      "{'kd_loss': 32.49304962158203, 'feature_loss': 0.25984084606170654, 'ce_loss': 7.990643501281738, 'cont_loss': 1.9289970397949219, 'teacher_loss': 8.115316390991211, 'total_loss': 16.438344955444336}\n"
     ]
    },
    {
     "name": "stderr",
     "output_type": "stream",
     "text": [
      "Validating:  31%|███▏      | 74/235 [00:37<01:18,  2.04it/s, loss=16.4250, avg_loss=16.3156]"
     ]
    },
    {
     "name": "stdout",
     "output_type": "stream",
     "text": [
      "{'kd_loss': 32.49232482910156, 'feature_loss': 0.2510520815849304, 'ce_loss': 7.945511817932129, 'cont_loss': 1.9964728355407715, 'teacher_loss': 8.105354309082031, 'total_loss': 16.42499351501465}\n"
     ]
    },
    {
     "name": "stderr",
     "output_type": "stream",
     "text": [
      "Validating:  32%|███▏      | 75/235 [00:37<01:18,  2.04it/s, loss=16.3412, avg_loss=16.3159]"
     ]
    },
    {
     "name": "stdout",
     "output_type": "stream",
     "text": [
      "{'kd_loss': 32.49250411987305, 'feature_loss': 0.2667843699455261, 'ce_loss': 7.726433277130127, 'cont_loss': 2.002232313156128, 'teacher_loss': 8.107280731201172, 'total_loss': 16.341156005859375}\n"
     ]
    },
    {
     "name": "stderr",
     "output_type": "stream",
     "text": [
      "Validating:  32%|███▏      | 76/235 [00:38<01:17,  2.04it/s, loss=16.4154, avg_loss=16.3172]"
     ]
    },
    {
     "name": "stdout",
     "output_type": "stream",
     "text": [
      "{'kd_loss': 32.4935302734375, 'feature_loss': 0.28842926025390625, 'ce_loss': 7.902017593383789, 'cont_loss': 1.9953078031539917, 'teacher_loss': 8.08492374420166, 'total_loss': 16.415437698364258}\n"
     ]
    },
    {
     "name": "stderr",
     "output_type": "stream",
     "text": [
      "Validating:  33%|███▎      | 77/235 [00:38<01:17,  2.05it/s, loss=16.4104, avg_loss=16.3184]"
     ]
    },
    {
     "name": "stdout",
     "output_type": "stream",
     "text": [
      "{'kd_loss': 32.49263000488281, 'feature_loss': 0.2792700529098511, 'ce_loss': 7.8796610832214355, 'cont_loss': 2.0561747550964355, 'teacher_loss': 8.09050464630127, 'total_loss': 16.410388946533203}\n"
     ]
    },
    {
     "name": "stderr",
     "output_type": "stream",
     "text": [
      "Validating:  33%|███▎      | 78/235 [00:39<01:16,  2.05it/s, loss=16.4396, avg_loss=16.3200]"
     ]
    },
    {
     "name": "stdout",
     "output_type": "stream",
     "text": [
      "{'kd_loss': 32.49203872680664, 'feature_loss': 0.3132592439651489, 'ce_loss': 7.9489006996154785, 'cont_loss': 2.0057766437530518, 'teacher_loss': 8.08573055267334, 'total_loss': 16.439603805541992}\n"
     ]
    },
    {
     "name": "stderr",
     "output_type": "stream",
     "text": [
      "Validating:  34%|███▎      | 79/235 [00:39<01:16,  2.04it/s, loss=16.4084, avg_loss=16.3211]"
     ]
    },
    {
     "name": "stdout",
     "output_type": "stream",
     "text": [
      "{'kd_loss': 32.49155807495117, 'feature_loss': 0.2729518413543701, 'ce_loss': 7.852034568786621, 'cont_loss': 2.1635656356811523, 'teacher_loss': 8.096144676208496, 'total_loss': 16.408384323120117}\n"
     ]
    },
    {
     "name": "stderr",
     "output_type": "stream",
     "text": [
      "Validating:  34%|███▍      | 80/235 [00:40<01:15,  2.04it/s, loss=16.4182, avg_loss=16.3223]"
     ]
    },
    {
     "name": "stdout",
     "output_type": "stream",
     "text": [
      "{'kd_loss': 32.49235916137695, 'feature_loss': 0.28584718704223633, 'ce_loss': 7.887713432312012, 'cont_loss': 2.0896403789520264, 'teacher_loss': 8.087072372436523, 'total_loss': 16.418161392211914}\n"
     ]
    },
    {
     "name": "stderr",
     "output_type": "stream",
     "text": [
      "Validating:  34%|███▍      | 81/235 [00:40<01:15,  2.04it/s, loss=16.3022, avg_loss=16.3221]"
     ]
    },
    {
     "name": "stdout",
     "output_type": "stream",
     "text": [
      "{'kd_loss': 32.49283981323242, 'feature_loss': 0.31440269947052, 'ce_loss': 7.587278366088867, 'cont_loss': 2.072314739227295, 'teacher_loss': 8.106271743774414, 'total_loss': 16.302160263061523}\n"
     ]
    },
    {
     "name": "stderr",
     "output_type": "stream",
     "text": [
      "Validating:  35%|███▍      | 82/235 [00:41<01:15,  2.04it/s, loss=16.4026, avg_loss=16.3231]"
     ]
    },
    {
     "name": "stdout",
     "output_type": "stream",
     "text": [
      "{'kd_loss': 32.491737365722656, 'feature_loss': 0.29267948865890503, 'ce_loss': 7.84699010848999, 'cont_loss': 2.085878372192383, 'teacher_loss': 8.10052490234375, 'total_loss': 16.40261459350586}\n"
     ]
    },
    {
     "name": "stderr",
     "output_type": "stream",
     "text": [
      "Validating:  35%|███▌      | 83/235 [00:41<01:14,  2.04it/s, loss=16.4938, avg_loss=16.3251]"
     ]
    },
    {
     "name": "stdout",
     "output_type": "stream",
     "text": [
      "{'kd_loss': 32.494049072265625, 'feature_loss': 0.2833906412124634, 'ce_loss': 8.072349548339844, 'cont_loss': 2.1056571006774902, 'teacher_loss': 8.0835599899292, 'total_loss': 16.493803024291992}\n"
     ]
    },
    {
     "name": "stderr",
     "output_type": "stream",
     "text": [
      "Validating:  36%|███▌      | 84/235 [00:42<01:14,  2.04it/s, loss=16.4388, avg_loss=16.3265]"
     ]
    },
    {
     "name": "stdout",
     "output_type": "stream",
     "text": [
      "{'kd_loss': 32.493492126464844, 'feature_loss': 0.2684953212738037, 'ce_loss': 7.949257850646973, 'cont_loss': 2.0803122520446777, 'teacher_loss': 8.114105224609375, 'total_loss': 16.438831329345703}\n"
     ]
    },
    {
     "name": "stderr",
     "output_type": "stream",
     "text": [
      "Validating:  36%|███▌      | 85/235 [00:42<01:13,  2.04it/s, loss=16.4301, avg_loss=16.3277]"
     ]
    },
    {
     "name": "stdout",
     "output_type": "stream",
     "text": [
      "{'kd_loss': 32.49296569824219, 'feature_loss': 0.3462216854095459, 'ce_loss': 7.882458686828613, 'cont_loss': 2.1064023971557617, 'teacher_loss': 8.095163345336914, 'total_loss': 16.4300537109375}\n"
     ]
    },
    {
     "name": "stderr",
     "output_type": "stream",
     "text": [
      "Validating:  37%|███▋      | 86/235 [00:43<01:13,  2.04it/s, loss=16.4452, avg_loss=16.3291]"
     ]
    },
    {
     "name": "stdout",
     "output_type": "stream",
     "text": [
      "{'kd_loss': 32.493221282958984, 'feature_loss': 0.3045821189880371, 'ce_loss': 7.901163578033447, 'cont_loss': 2.265123128890991, 'teacher_loss': 8.080132484436035, 'total_loss': 16.44518280029297}\n"
     ]
    },
    {
     "name": "stderr",
     "output_type": "stream",
     "text": [
      "Validating:  37%|███▋      | 87/235 [00:43<01:12,  2.04it/s, loss=16.4694, avg_loss=16.3307]"
     ]
    },
    {
     "name": "stdout",
     "output_type": "stream",
     "text": [
      "{'kd_loss': 32.49315643310547, 'feature_loss': 0.3597312569618225, 'ce_loss': 7.971275806427002, 'cont_loss': 2.116969108581543, 'teacher_loss': 8.073227882385254, 'total_loss': 16.46941566467285}\n"
     ]
    },
    {
     "name": "stderr",
     "output_type": "stream",
     "text": [
      "Validating:  37%|███▋      | 88/235 [00:44<01:12,  2.04it/s, loss=16.3822, avg_loss=16.3313]"
     ]
    },
    {
     "name": "stdout",
     "output_type": "stream",
     "text": [
      "{'kd_loss': 32.493438720703125, 'feature_loss': 0.3046504259109497, 'ce_loss': 7.774721622467041, 'cont_loss': 2.139965534210205, 'teacher_loss': 8.097101211547852, 'total_loss': 16.382190704345703}\n"
     ]
    },
    {
     "name": "stderr",
     "output_type": "stream",
     "text": [
      "Validating:  38%|███▊      | 89/235 [00:44<01:11,  2.04it/s, loss=16.4533, avg_loss=16.3326]"
     ]
    },
    {
     "name": "stdout",
     "output_type": "stream",
     "text": [
      "{'kd_loss': 32.492618560791016, 'feature_loss': 0.2894173860549927, 'ce_loss': 7.945135116577148, 'cont_loss': 2.2030887603759766, 'teacher_loss': 8.088241577148438, 'total_loss': 16.453292846679688}\n"
     ]
    },
    {
     "name": "stderr",
     "output_type": "stream",
     "text": [
      "Validating:  38%|███▊      | 90/235 [00:45<01:11,  2.04it/s, loss=16.4895, avg_loss=16.3344]"
     ]
    },
    {
     "name": "stdout",
     "output_type": "stream",
     "text": [
      "{'kd_loss': 32.49163055419922, 'feature_loss': 0.3048698902130127, 'ce_loss': 8.041722297668457, 'cont_loss': 2.151531934738159, 'teacher_loss': 8.089982986450195, 'total_loss': 16.48946762084961}\n"
     ]
    },
    {
     "name": "stderr",
     "output_type": "stream",
     "text": [
      "Validating:  39%|███▊      | 91/235 [00:45<01:10,  2.04it/s, loss=16.4943, avg_loss=16.3361]"
     ]
    },
    {
     "name": "stdout",
     "output_type": "stream",
     "text": [
      "{'kd_loss': 32.49186706542969, 'feature_loss': 0.27809298038482666, 'ce_loss': 8.024547576904297, 'cont_loss': 2.321260929107666, 'teacher_loss': 8.094826698303223, 'total_loss': 16.49431037902832}\n"
     ]
    },
    {
     "name": "stderr",
     "output_type": "stream",
     "text": [
      "Validating:  39%|███▉      | 92/235 [00:46<01:10,  2.04it/s, loss=16.5599, avg_loss=16.3386]"
     ]
    },
    {
     "name": "stdout",
     "output_type": "stream",
     "text": [
      "{'kd_loss': 32.493499755859375, 'feature_loss': 0.2527472972869873, 'ce_loss': 8.230289459228516, 'cont_loss': 2.1983799934387207, 'teacher_loss': 8.103639602661133, 'total_loss': 16.55990219116211}\n"
     ]
    },
    {
     "name": "stderr",
     "output_type": "stream",
     "text": [
      "Validating:  40%|███▉      | 93/235 [00:46<01:09,  2.04it/s, loss=16.4792, avg_loss=16.3401]"
     ]
    },
    {
     "name": "stdout",
     "output_type": "stream",
     "text": [
      "{'kd_loss': 32.494537353515625, 'feature_loss': 0.2942536473274231, 'ce_loss': 8.01463508605957, 'cont_loss': 2.1665499210357666, 'teacher_loss': 8.082990646362305, 'total_loss': 16.479175567626953}\n"
     ]
    },
    {
     "name": "stderr",
     "output_type": "stream",
     "text": [
      "Validating:  40%|████      | 94/235 [00:47<01:09,  2.04it/s, loss=16.4370, avg_loss=16.3411]"
     ]
    },
    {
     "name": "stdout",
     "output_type": "stream",
     "text": [
      "{'kd_loss': 32.493900299072266, 'feature_loss': 0.26631414890289307, 'ce_loss': 7.878739833831787, 'cont_loss': 2.346467971801758, 'teacher_loss': 8.089831352233887, 'total_loss': 16.436965942382812}\n"
     ]
    },
    {
     "name": "stderr",
     "output_type": "stream",
     "text": [
      "Validating:  40%|████      | 95/235 [00:47<01:08,  2.03it/s, loss=16.3765, avg_loss=16.3415]"
     ]
    },
    {
     "name": "stdout",
     "output_type": "stream",
     "text": [
      "{'kd_loss': 32.49324035644531, 'feature_loss': 0.3210625648498535, 'ce_loss': 7.729896545410156, 'cont_loss': 2.230717897415161, 'teacher_loss': 8.092305183410645, 'total_loss': 16.37653923034668}\n"
     ]
    },
    {
     "name": "stderr",
     "output_type": "stream",
     "text": [
      "Validating:  41%|████      | 96/235 [00:48<01:08,  2.04it/s, loss=16.4817, avg_loss=16.3429]"
     ]
    },
    {
     "name": "stdout",
     "output_type": "stream",
     "text": [
      "{'kd_loss': 32.495277404785156, 'feature_loss': 0.27917927503585815, 'ce_loss': 8.010058403015137, 'cont_loss': 2.237231731414795, 'teacher_loss': 8.093021392822266, 'total_loss': 16.481691360473633}\n"
     ]
    },
    {
     "name": "stderr",
     "output_type": "stream",
     "text": [
      "Validating:  41%|████▏     | 97/235 [00:48<01:07,  2.03it/s, loss=16.4638, avg_loss=16.3442]"
     ]
    },
    {
     "name": "stdout",
     "output_type": "stream",
     "text": [
      "{'kd_loss': 32.491764068603516, 'feature_loss': 0.28960323333740234, 'ce_loss': 7.9674601554870605, 'cont_loss': 2.221935749053955, 'teacher_loss': 8.092456817626953, 'total_loss': 16.463804244995117}\n"
     ]
    },
    {
     "name": "stderr",
     "output_type": "stream",
     "text": [
      "Validating:  42%|████▏     | 98/235 [00:49<01:07,  2.04it/s, loss=16.5314, avg_loss=16.3461]"
     ]
    },
    {
     "name": "stdout",
     "output_type": "stream",
     "text": [
      "{'kd_loss': 32.4928092956543, 'feature_loss': 0.32330214977264404, 'ce_loss': 8.073850631713867, 'cont_loss': 2.401201009750366, 'teacher_loss': 8.085273742675781, 'total_loss': 16.531444549560547}\n"
     ]
    },
    {
     "name": "stderr",
     "output_type": "stream",
     "text": [
      "Validating:  42%|████▏     | 99/235 [00:49<01:06,  2.04it/s, loss=16.4836, avg_loss=16.3475]"
     ]
    },
    {
     "name": "stdout",
     "output_type": "stream",
     "text": [
      "{'kd_loss': 32.49186325073242, 'feature_loss': 0.29172468185424805, 'ce_loss': 7.992123603820801, 'cont_loss': 2.3170039653778076, 'teacher_loss': 8.088923454284668, 'total_loss': 16.483640670776367}\n"
     ]
    },
    {
     "name": "stderr",
     "output_type": "stream",
     "text": [
      "Validating:  43%|████▎     | 100/235 [00:50<01:06,  2.04it/s, loss=16.4355, avg_loss=16.3484]"
     ]
    },
    {
     "name": "stdout",
     "output_type": "stream",
     "text": [
      "{'kd_loss': 32.49263000488281, 'feature_loss': 0.26070791482925415, 'ce_loss': 7.8836164474487305, 'cont_loss': 2.3287672996520996, 'teacher_loss': 8.10949420928955, 'total_loss': 16.435516357421875}\n"
     ]
    },
    {
     "name": "stderr",
     "output_type": "stream",
     "text": [
      "Validating:  43%|████▎     | 101/235 [00:50<01:05,  2.03it/s, loss=16.4574, avg_loss=16.3494]"
     ]
    },
    {
     "name": "stdout",
     "output_type": "stream",
     "text": [
      "{'kd_loss': 32.49192810058594, 'feature_loss': 0.273384690284729, 'ce_loss': 7.934760570526123, 'cont_loss': 2.320545196533203, 'teacher_loss': 8.102113723754883, 'total_loss': 16.457406997680664}\n"
     ]
    },
    {
     "name": "stderr",
     "output_type": "stream",
     "text": [
      "Validating:  43%|████▎     | 102/235 [00:50<01:05,  2.04it/s, loss=16.4970, avg_loss=16.3509]"
     ]
    },
    {
     "name": "stdout",
     "output_type": "stream",
     "text": [
      "{'kd_loss': 32.492218017578125, 'feature_loss': 0.247717022895813, 'ce_loss': 8.045791625976562, 'cont_loss': 2.322845697402954, 'teacher_loss': 8.104702949523926, 'total_loss': 16.497032165527344}\n"
     ]
    },
    {
     "name": "stderr",
     "output_type": "stream",
     "text": [
      "Validating:  44%|████▍     | 103/235 [00:51<01:04,  2.04it/s, loss=16.5280, avg_loss=16.3526]"
     ]
    },
    {
     "name": "stdout",
     "output_type": "stream",
     "text": [
      "{'kd_loss': 32.49228286743164, 'feature_loss': 0.27072393894195557, 'ce_loss': 8.06791877746582, 'cont_loss': 2.4980955123901367, 'teacher_loss': 8.097073554992676, 'total_loss': 16.528034210205078}\n"
     ]
    },
    {
     "name": "stderr",
     "output_type": "stream",
     "text": [
      "Validating:  44%|████▍     | 104/235 [00:51<01:04,  2.04it/s, loss=16.5638, avg_loss=16.3546]"
     ]
    },
    {
     "name": "stdout",
     "output_type": "stream",
     "text": [
      "{'kd_loss': 32.49201202392578, 'feature_loss': 0.2657283544540405, 'ce_loss': 8.195313453674316, 'cont_loss': 2.357173442840576, 'teacher_loss': 8.099075317382812, 'total_loss': 16.563793182373047}\n"
     ]
    },
    {
     "name": "stderr",
     "output_type": "stream",
     "text": [
      "Validating:  45%|████▍     | 105/235 [00:52<01:03,  2.04it/s, loss=16.4745, avg_loss=16.3558]"
     ]
    },
    {
     "name": "stdout",
     "output_type": "stream",
     "text": [
      "{'kd_loss': 32.492828369140625, 'feature_loss': 0.26699817180633545, 'ce_loss': 7.968806743621826, 'cont_loss': 2.364068031311035, 'teacher_loss': 8.095463752746582, 'total_loss': 16.47446060180664}\n"
     ]
    },
    {
     "name": "stderr",
     "output_type": "stream",
     "text": [
      "Validating:  45%|████▌     | 106/235 [00:52<01:03,  2.05it/s, loss=16.5659, avg_loss=16.3578]"
     ]
    },
    {
     "name": "stdout",
     "output_type": "stream",
     "text": [
      "{'kd_loss': 32.49409103393555, 'feature_loss': 0.32247668504714966, 'ce_loss': 8.125779151916504, 'cont_loss': 2.534505844116211, 'teacher_loss': 8.091815948486328, 'total_loss': 16.565893173217773}\n"
     ]
    },
    {
     "name": "stderr",
     "output_type": "stream",
     "text": [
      "Validating:  46%|████▌     | 107/235 [00:53<01:02,  2.05it/s, loss=16.3621, avg_loss=16.3578]"
     ]
    },
    {
     "name": "stdout",
     "output_type": "stream",
     "text": [
      "{'kd_loss': 32.494651794433594, 'feature_loss': 0.34332287311553955, 'ce_loss': 7.654739856719971, 'cont_loss': 2.3372013568878174, 'teacher_loss': 8.097491264343262, 'total_loss': 16.36214256286621}\n"
     ]
    },
    {
     "name": "stderr",
     "output_type": "stream",
     "text": [
      "Validating:  46%|████▌     | 108/235 [00:53<01:01,  2.06it/s, loss=16.4683, avg_loss=16.3588]"
     ]
    },
    {
     "name": "stdout",
     "output_type": "stream",
     "text": [
      "{'kd_loss': 32.493980407714844, 'feature_loss': 0.3127824068069458, 'ce_loss': 7.936009407043457, 'cont_loss': 2.3373031616210938, 'teacher_loss': 8.091537475585938, 'total_loss': 16.46828269958496}\n"
     ]
    },
    {
     "name": "stderr",
     "output_type": "stream",
     "text": [
      "Validating:  46%|████▋     | 109/235 [00:54<01:01,  2.05it/s, loss=16.5130, avg_loss=16.3602]"
     ]
    },
    {
     "name": "stdout",
     "output_type": "stream",
     "text": [
      "{'kd_loss': 32.493099212646484, 'feature_loss': 0.27088046073913574, 'ce_loss': 8.02618408203125, 'cont_loss': 2.5114994049072266, 'teacher_loss': 8.089484214782715, 'total_loss': 16.51304054260254}\n"
     ]
    },
    {
     "name": "stderr",
     "output_type": "stream",
     "text": [
      "Validating:  47%|████▋     | 110/235 [00:54<01:00,  2.05it/s, loss=16.4855, avg_loss=16.3614]"
     ]
    },
    {
     "name": "stdout",
     "output_type": "stream",
     "text": [
      "{'kd_loss': 32.4926643371582, 'feature_loss': 0.31308019161224365, 'ce_loss': 7.960287094116211, 'cont_loss': 2.4171743392944336, 'teacher_loss': 8.087353706359863, 'total_loss': 16.485515594482422}\n"
     ]
    },
    {
     "name": "stderr",
     "output_type": "stream",
     "text": [
      "Validating:  47%|████▋     | 111/235 [00:55<01:00,  2.05it/s, loss=16.4952, avg_loss=16.3626]"
     ]
    },
    {
     "name": "stdout",
     "output_type": "stream",
     "text": [
      "{'kd_loss': 32.49237060546875, 'feature_loss': 0.29130852222442627, 'ce_loss': 7.991168975830078, 'cont_loss': 2.434861183166504, 'teacher_loss': 8.097579002380371, 'total_loss': 16.49516487121582}\n"
     ]
    },
    {
     "name": "stderr",
     "output_type": "stream",
     "text": [
      "Validating:  48%|████▊     | 112/235 [00:55<01:00,  2.05it/s, loss=16.4785, avg_loss=16.3636]"
     ]
    },
    {
     "name": "stdout",
     "output_type": "stream",
     "text": [
      "{'kd_loss': 32.49403381347656, 'feature_loss': 0.348166286945343, 'ce_loss': 7.925772666931152, 'cont_loss': 2.409287691116333, 'teacher_loss': 8.098172187805176, 'total_loss': 16.478485107421875}\n"
     ]
    },
    {
     "name": "stderr",
     "output_type": "stream",
     "text": [
      "Validating:  48%|████▊     | 113/235 [00:56<00:59,  2.05it/s, loss=16.4665, avg_loss=16.3645]"
     ]
    },
    {
     "name": "stdout",
     "output_type": "stream",
     "text": [
      "{'kd_loss': 32.49353790283203, 'feature_loss': 0.29199814796447754, 'ce_loss': 7.925189971923828, 'cont_loss': 2.40590763092041, 'teacher_loss': 8.098628997802734, 'total_loss': 16.466482162475586}\n"
     ]
    },
    {
     "name": "stderr",
     "output_type": "stream",
     "text": [
      "Validating:  49%|████▊     | 114/235 [00:56<00:58,  2.06it/s, loss=16.5233, avg_loss=16.3659]"
     ]
    },
    {
     "name": "stdout",
     "output_type": "stream",
     "text": [
      "{'kd_loss': 32.493221282958984, 'feature_loss': 0.33021366596221924, 'ce_loss': 8.003469467163086, 'cont_loss': 2.58597993850708, 'teacher_loss': 8.086763381958008, 'total_loss': 16.523317337036133}\n"
     ]
    },
    {
     "name": "stderr",
     "output_type": "stream",
     "text": [
      "Validating:  49%|████▉     | 115/235 [00:57<00:58,  2.06it/s, loss=16.6591, avg_loss=16.3685]"
     ]
    },
    {
     "name": "stdout",
     "output_type": "stream",
     "text": [
      "{'kd_loss': 32.49317932128906, 'feature_loss': 0.32233744859695435, 'ce_loss': 8.382793426513672, 'cont_loss': 2.442197322845459, 'teacher_loss': 8.09472370147705, 'total_loss': 16.659074783325195}\n"
     ]
    },
    {
     "name": "stderr",
     "output_type": "stream",
     "text": [
      "Validating:  49%|████▉     | 116/235 [00:57<00:57,  2.06it/s, loss=16.4884, avg_loss=16.3695]"
     ]
    },
    {
     "name": "stdout",
     "output_type": "stream",
     "text": [
      "{'kd_loss': 32.4923210144043, 'feature_loss': 0.24893808364868164, 'ce_loss': 7.986917972564697, 'cont_loss': 2.4694337844848633, 'teacher_loss': 8.093596458435059, 'total_loss': 16.488426208496094}\n"
     ]
    },
    {
     "name": "stderr",
     "output_type": "stream",
     "text": [
      "Validating:  50%|████▉     | 117/235 [00:58<00:57,  2.06it/s, loss=16.5108, avg_loss=16.3707]"
     ]
    },
    {
     "name": "stdout",
     "output_type": "stream",
     "text": [
      "{'kd_loss': 32.49427795410156, 'feature_loss': 0.3081013560295105, 'ce_loss': 7.999968528747559, 'cont_loss': 2.5147452354431152, 'teacher_loss': 8.079987525939941, 'total_loss': 16.510793685913086}\n"
     ]
    },
    {
     "name": "stderr",
     "output_type": "stream",
     "text": [
      "Validating:  50%|█████     | 118/235 [00:58<00:56,  2.06it/s, loss=16.5322, avg_loss=16.3721]"
     ]
    },
    {
     "name": "stdout",
     "output_type": "stream",
     "text": [
      "{'kd_loss': 32.492271423339844, 'feature_loss': 0.31084132194519043, 'ce_loss': 8.063861846923828, 'cont_loss': 2.476022481918335, 'teacher_loss': 8.085830688476562, 'total_loss': 16.532224655151367}\n"
     ]
    },
    {
     "name": "stderr",
     "output_type": "stream",
     "text": [
      "Validating:  51%|█████     | 119/235 [00:59<00:56,  2.06it/s, loss=16.5075, avg_loss=16.3732]"
     ]
    },
    {
     "name": "stdout",
     "output_type": "stream",
     "text": [
      "{'kd_loss': 32.49334716796875, 'feature_loss': 0.27450263500213623, 'ce_loss': 8.01358413696289, 'cont_loss': 2.498134136199951, 'teacher_loss': 8.082406997680664, 'total_loss': 16.50748634338379}\n"
     ]
    },
    {
     "name": "stderr",
     "output_type": "stream",
     "text": [
      "Validating:  51%|█████     | 120/235 [00:59<00:55,  2.06it/s, loss=16.5503, avg_loss=16.3747]"
     ]
    },
    {
     "name": "stdout",
     "output_type": "stream",
     "text": [
      "{'kd_loss': 32.491214752197266, 'feature_loss': 0.34720635414123535, 'ce_loss': 8.077563285827637, 'cont_loss': 2.5335440635681152, 'teacher_loss': 8.097108840942383, 'total_loss': 16.55030632019043}\n"
     ]
    },
    {
     "name": "stderr",
     "output_type": "stream",
     "text": [
      "Validating:  51%|█████▏    | 121/235 [01:00<00:55,  2.06it/s, loss=16.5529, avg_loss=16.3762]"
     ]
    },
    {
     "name": "stdout",
     "output_type": "stream",
     "text": [
      "{'kd_loss': 32.492279052734375, 'feature_loss': 0.2898317575454712, 'ce_loss': 8.10860538482666, 'cont_loss': 2.545480728149414, 'teacher_loss': 8.099649429321289, 'total_loss': 16.552867889404297}\n"
     ]
    },
    {
     "name": "stderr",
     "output_type": "stream",
     "text": [
      "Validating:  52%|█████▏    | 122/235 [01:00<00:54,  2.06it/s, loss=16.4573, avg_loss=16.3768]"
     ]
    },
    {
     "name": "stdout",
     "output_type": "stream",
     "text": [
      "{'kd_loss': 32.493133544921875, 'feature_loss': 0.29668354988098145, 'ce_loss': 7.860529899597168, 'cont_loss': 2.565171003341675, 'teacher_loss': 8.105480194091797, 'total_loss': 16.457319259643555}\n"
     ]
    },
    {
     "name": "stderr",
     "output_type": "stream",
     "text": [
      "Validating:  52%|█████▏    | 123/235 [01:01<00:54,  2.06it/s, loss=16.5571, avg_loss=16.3783]"
     ]
    },
    {
     "name": "stdout",
     "output_type": "stream",
     "text": [
      "{'kd_loss': 32.493900299072266, 'feature_loss': 0.2837727665901184, 'ce_loss': 8.091151237487793, 'cont_loss': 2.6635141372680664, 'teacher_loss': 8.093208312988281, 'total_loss': 16.557126998901367}\n"
     ]
    },
    {
     "name": "stderr",
     "output_type": "stream",
     "text": [
      "Validating:  53%|█████▎    | 124/235 [01:01<00:53,  2.06it/s, loss=16.5561, avg_loss=16.3797]"
     ]
    },
    {
     "name": "stdout",
     "output_type": "stream",
     "text": [
      "{'kd_loss': 32.4930419921875, 'feature_loss': 0.2872326374053955, 'ce_loss': 8.13066291809082, 'cont_loss': 2.492128372192383, 'teacher_loss': 8.082679748535156, 'total_loss': 16.556140899658203}\n"
     ]
    },
    {
     "name": "stderr",
     "output_type": "stream",
     "text": [
      "Validating:  53%|█████▎    | 125/235 [01:02<00:53,  2.06it/s, loss=16.5342, avg_loss=16.3810]"
     ]
    },
    {
     "name": "stdout",
     "output_type": "stream",
     "text": [
      "{'kd_loss': 32.49302291870117, 'feature_loss': 0.28657639026641846, 'ce_loss': 8.033427238464355, 'cont_loss': 2.663248062133789, 'teacher_loss': 8.09115219116211, 'total_loss': 16.53421974182129}\n"
     ]
    },
    {
     "name": "stderr",
     "output_type": "stream",
     "text": [
      "Validating:  54%|█████▎    | 126/235 [01:02<00:52,  2.06it/s, loss=16.4700, avg_loss=16.3817]"
     ]
    },
    {
     "name": "stdout",
     "output_type": "stream",
     "text": [
      "{'kd_loss': 32.493186950683594, 'feature_loss': 0.2794594168663025, 'ce_loss': 7.907458305358887, 'cont_loss': 2.5380706787109375, 'teacher_loss': 8.101126670837402, 'total_loss': 16.46995735168457}\n"
     ]
    },
    {
     "name": "stderr",
     "output_type": "stream",
     "text": [
      "Validating:  54%|█████▍    | 127/235 [01:03<00:52,  2.06it/s, loss=16.5557, avg_loss=16.3830]"
     ]
    },
    {
     "name": "stdout",
     "output_type": "stream",
     "text": [
      "{'kd_loss': 32.494144439697266, 'feature_loss': 0.3313795328140259, 'ce_loss': 8.076257705688477, 'cont_loss': 2.6123557090759277, 'teacher_loss': 8.082207679748535, 'total_loss': 16.555673599243164}\n"
     ]
    },
    {
     "name": "stderr",
     "output_type": "stream",
     "text": [
      "Validating:  54%|█████▍    | 128/235 [01:03<00:52,  2.06it/s, loss=16.3947, avg_loss=16.3831]"
     ]
    },
    {
     "name": "stdout",
     "output_type": "stream",
     "text": [
      "{'kd_loss': 32.493682861328125, 'feature_loss': 0.2924133539199829, 'ce_loss': 7.704875946044922, 'cont_loss': 2.567544460296631, 'teacher_loss': 8.085814476013184, 'total_loss': 16.39466094970703}\n"
     ]
    },
    {
     "name": "stderr",
     "output_type": "stream",
     "text": [
      "Validating:  55%|█████▍    | 129/235 [01:04<00:51,  2.06it/s, loss=16.5232, avg_loss=16.3842]"
     ]
    },
    {
     "name": "stdout",
     "output_type": "stream",
     "text": [
      "{'kd_loss': 32.492149353027344, 'feature_loss': 0.2796669006347656, 'ce_loss': 8.019659996032715, 'cont_loss': 2.624971389770508, 'teacher_loss': 8.09768009185791, 'total_loss': 16.52315330505371}\n"
     ]
    },
    {
     "name": "stderr",
     "output_type": "stream",
     "text": [
      "Validating:  55%|█████▌    | 130/235 [01:04<00:50,  2.06it/s, loss=16.5920, avg_loss=16.3858]"
     ]
    },
    {
     "name": "stdout",
     "output_type": "stream",
     "text": [
      "{'kd_loss': 32.493446350097656, 'feature_loss': 0.2696279287338257, 'ce_loss': 8.162138938903809, 'cont_loss': 2.7585909366607666, 'teacher_loss': 8.093586921691895, 'total_loss': 16.59202003479004}\n"
     ]
    },
    {
     "name": "stderr",
     "output_type": "stream",
     "text": [
      "Validating:  56%|█████▌    | 131/235 [01:05<00:50,  2.06it/s, loss=16.5953, avg_loss=16.3874]"
     ]
    },
    {
     "name": "stdout",
     "output_type": "stream",
     "text": [
      "{'kd_loss': 32.49272155761719, 'feature_loss': 0.30901873111724854, 'ce_loss': 8.14108943939209, 'cont_loss': 2.799537181854248, 'teacher_loss': 8.095544815063477, 'total_loss': 16.59528160095215}\n"
     ]
    },
    {
     "name": "stderr",
     "output_type": "stream",
     "text": [
      "Validating:  56%|█████▌    | 132/235 [01:05<00:50,  2.06it/s, loss=16.4674, avg_loss=16.3880]"
     ]
    },
    {
     "name": "stdout",
     "output_type": "stream",
     "text": [
      "{'kd_loss': 32.49190139770508, 'feature_loss': 0.279701828956604, 'ce_loss': 7.885387897491455, 'cont_loss': 2.6053218841552734, 'teacher_loss': 8.102052688598633, 'total_loss': 16.467388153076172}\n"
     ]
    },
    {
     "name": "stderr",
     "output_type": "stream",
     "text": [
      "Validating:  57%|█████▋    | 133/235 [01:06<00:49,  2.07it/s, loss=16.5973, avg_loss=16.3896]"
     ]
    },
    {
     "name": "stdout",
     "output_type": "stream",
     "text": [
      "{'kd_loss': 32.49357604980469, 'feature_loss': 0.29349780082702637, 'ce_loss': 8.199056625366211, 'cont_loss': 2.615917444229126, 'teacher_loss': 8.086686134338379, 'total_loss': 16.59734344482422}\n"
     ]
    },
    {
     "name": "stderr",
     "output_type": "stream",
     "text": [
      "Validating:  57%|█████▋    | 134/235 [01:06<00:48,  2.06it/s, loss=16.5400, avg_loss=16.3907]"
     ]
    },
    {
     "name": "stdout",
     "output_type": "stream",
     "text": [
      "{'kd_loss': 32.49156188964844, 'feature_loss': 0.2904024124145508, 'ce_loss': 8.01992130279541, 'cont_loss': 2.773336410522461, 'teacher_loss': 8.09512996673584, 'total_loss': 16.540008544921875}\n"
     ]
    },
    {
     "name": "stderr",
     "output_type": "stream",
     "text": [
      "Validating:  57%|█████▋    | 135/235 [01:07<00:48,  2.06it/s, loss=16.6745, avg_loss=16.3928]"
     ]
    },
    {
     "name": "stdout",
     "output_type": "stream",
     "text": [
      "{'kd_loss': 32.49321746826172, 'feature_loss': 0.3152961730957031, 'ce_loss': 8.302974700927734, 'cont_loss': 2.9300193786621094, 'teacher_loss': 8.082792282104492, 'total_loss': 16.674535751342773}\n"
     ]
    },
    {
     "name": "stderr",
     "output_type": "stream",
     "text": [
      "Validating:  58%|█████▊    | 136/235 [01:07<00:47,  2.07it/s, loss=16.5343, avg_loss=16.3939]"
     ]
    },
    {
     "name": "stdout",
     "output_type": "stream",
     "text": [
      "{'kd_loss': 32.49211120605469, 'feature_loss': 0.2747257947921753, 'ce_loss': 8.046621322631836, 'cont_loss': 2.638410806655884, 'teacher_loss': 8.0940580368042, 'total_loss': 16.534278869628906}\n"
     ]
    },
    {
     "name": "stderr",
     "output_type": "stream",
     "text": [
      "Validating:  58%|█████▊    | 137/235 [01:07<00:47,  2.06it/s, loss=16.5396, avg_loss=16.3949]"
     ]
    },
    {
     "name": "stdout",
     "output_type": "stream",
     "text": [
      "{'kd_loss': 32.492469787597656, 'feature_loss': 0.3177902102470398, 'ce_loss': 8.026912689208984, 'cont_loss': 2.682997941970825, 'teacher_loss': 8.089646339416504, 'total_loss': 16.539609909057617}\n"
     ]
    },
    {
     "name": "stderr",
     "output_type": "stream",
     "text": [
      "Validating:  59%|█████▊    | 138/235 [01:08<00:47,  2.06it/s, loss=16.5010, avg_loss=16.3957]"
     ]
    },
    {
     "name": "stdout",
     "output_type": "stream",
     "text": [
      "{'kd_loss': 32.492095947265625, 'feature_loss': 0.28949761390686035, 'ce_loss': 7.938600540161133, 'cont_loss': 2.708123207092285, 'teacher_loss': 8.09313678741455, 'total_loss': 16.500991821289062}\n"
     ]
    },
    {
     "name": "stderr",
     "output_type": "stream",
     "text": [
      "Validating:  59%|█████▉    | 139/235 [01:08<00:46,  2.06it/s, loss=16.5476, avg_loss=16.3968]"
     ]
    },
    {
     "name": "stdout",
     "output_type": "stream",
     "text": [
      "{'kd_loss': 32.49278259277344, 'feature_loss': 0.32032251358032227, 'ce_loss': 8.002667427062988, 'cont_loss': 2.853741407394409, 'teacher_loss': 8.08089542388916, 'total_loss': 16.547618865966797}\n"
     ]
    },
    {
     "name": "stderr",
     "output_type": "stream",
     "text": [
      "Validating:  60%|█████▉    | 140/235 [01:09<00:46,  2.07it/s, loss=16.5044, avg_loss=16.3976]"
     ]
    },
    {
     "name": "stdout",
     "output_type": "stream",
     "text": [
      "{'kd_loss': 32.494075775146484, 'feature_loss': 0.3029918670654297, 'ce_loss': 7.9462690353393555, 'cont_loss': 2.6766576766967773, 'teacher_loss': 8.102241516113281, 'total_loss': 16.50440216064453}\n"
     ]
    },
    {
     "name": "stderr",
     "output_type": "stream",
     "text": [
      "Validating:  60%|██████    | 141/235 [01:09<00:45,  2.07it/s, loss=16.5413, avg_loss=16.3986]"
     ]
    },
    {
     "name": "stdout",
     "output_type": "stream",
     "text": [
      "{'kd_loss': 32.494224548339844, 'feature_loss': 0.3103574514389038, 'ce_loss': 8.033760070800781, 'cont_loss': 2.680086612701416, 'teacher_loss': 8.087080955505371, 'total_loss': 16.541275024414062}\n"
     ]
    },
    {
     "name": "stderr",
     "output_type": "stream",
     "text": [
      "Validating:  60%|██████    | 142/235 [01:10<00:45,  2.06it/s, loss=16.5995, avg_loss=16.4000]"
     ]
    },
    {
     "name": "stdout",
     "output_type": "stream",
     "text": [
      "{'kd_loss': 32.490882873535156, 'feature_loss': 0.3105955123901367, 'ce_loss': 8.130353927612305, 'cont_loss': 2.888930320739746, 'teacher_loss': 8.098116874694824, 'total_loss': 16.599506378173828}\n"
     ]
    },
    {
     "name": "stderr",
     "output_type": "stream",
     "text": [
      "Validating:  61%|██████    | 143/235 [01:10<00:44,  2.06it/s, loss=16.5130, avg_loss=16.4008]"
     ]
    },
    {
     "name": "stdout",
     "output_type": "stream",
     "text": [
      "{'kd_loss': 32.49375915527344, 'feature_loss': 0.33656930923461914, 'ce_loss': 7.9342241287231445, 'cont_loss': 2.7453107833862305, 'teacher_loss': 8.083041191101074, 'total_loss': 16.513038635253906}\n"
     ]
    },
    {
     "name": "stderr",
     "output_type": "stream",
     "text": [
      "Validating:  61%|██████▏   | 144/235 [01:11<00:44,  2.06it/s, loss=16.5737, avg_loss=16.4020]"
     ]
    },
    {
     "name": "stdout",
     "output_type": "stream",
     "text": [
      "{'kd_loss': 32.49428176879883, 'feature_loss': 0.290014386177063, 'ce_loss': 8.105728149414062, 'cont_loss': 2.756988048553467, 'teacher_loss': 8.084759712219238, 'total_loss': 16.573705673217773}\n"
     ]
    },
    {
     "name": "stderr",
     "output_type": "stream",
     "text": [
      "Validating:  62%|██████▏   | 145/235 [01:11<00:43,  2.06it/s, loss=16.5934, avg_loss=16.4033]"
     ]
    },
    {
     "name": "stdout",
     "output_type": "stream",
     "text": [
      "{'kd_loss': 32.492977142333984, 'feature_loss': 0.3111393451690674, 'ce_loss': 8.106840133666992, 'cont_loss': 2.91245698928833, 'teacher_loss': 8.088651657104492, 'total_loss': 16.593402862548828}\n"
     ]
    },
    {
     "name": "stderr",
     "output_type": "stream",
     "text": [
      "Validating:  62%|██████▏   | 146/235 [01:12<00:43,  2.06it/s, loss=16.6359, avg_loss=16.4049]"
     ]
    },
    {
     "name": "stdout",
     "output_type": "stream",
     "text": [
      "{'kd_loss': 32.49329376220703, 'feature_loss': 0.2952682375907898, 'ce_loss': 8.2210693359375, 'cont_loss': 2.9113950729370117, 'teacher_loss': 8.084017753601074, 'total_loss': 16.63593864440918}\n"
     ]
    },
    {
     "name": "stderr",
     "output_type": "stream",
     "text": [
      "Validating:  63%|██████▎   | 147/235 [01:12<00:42,  2.06it/s, loss=16.5307, avg_loss=16.4058]"
     ]
    },
    {
     "name": "stdout",
     "output_type": "stream",
     "text": [
      "{'kd_loss': 32.49310302734375, 'feature_loss': 0.29960381984710693, 'ce_loss': 7.956689834594727, 'cont_loss': 2.9087300300598145, 'teacher_loss': 8.086441040039062, 'total_loss': 16.530710220336914}\n"
     ]
    },
    {
     "name": "stderr",
     "output_type": "stream",
     "text": [
      "Validating:  63%|██████▎   | 148/235 [01:13<00:42,  2.06it/s, loss=16.6090, avg_loss=16.4071]"
     ]
    },
    {
     "name": "stdout",
     "output_type": "stream",
     "text": [
      "{'kd_loss': 32.49154281616211, 'feature_loss': 0.30863022804260254, 'ce_loss': 8.149624824523926, 'cont_loss': 2.907773971557617, 'teacher_loss': 8.08970832824707, 'total_loss': 16.608970642089844}\n"
     ]
    },
    {
     "name": "stderr",
     "output_type": "stream",
     "text": [
      "Validating:  63%|██████▎   | 149/235 [01:13<00:41,  2.06it/s, loss=16.5746, avg_loss=16.4083]"
     ]
    },
    {
     "name": "stdout",
     "output_type": "stream",
     "text": [
      "{'kd_loss': 32.49198913574219, 'feature_loss': 0.29457569122314453, 'ce_loss': 8.090864181518555, 'cont_loss': 2.8255372047424316, 'teacher_loss': 8.090435028076172, 'total_loss': 16.57461166381836}\n"
     ]
    },
    {
     "name": "stderr",
     "output_type": "stream",
     "text": [
      "Validating:  64%|██████▍   | 150/235 [01:14<00:41,  2.06it/s, loss=16.5584, avg_loss=16.4093]"
     ]
    },
    {
     "name": "stdout",
     "output_type": "stream",
     "text": [
      "{'kd_loss': 32.491981506347656, 'feature_loss': 0.30116087198257446, 'ce_loss': 8.051186561584473, 'cont_loss': 2.8093619346618652, 'teacher_loss': 8.096393585205078, 'total_loss': 16.558435440063477}\n"
     ]
    },
    {
     "name": "stderr",
     "output_type": "stream",
     "text": [
      "Validating:  64%|██████▍   | 151/235 [01:14<00:40,  2.06it/s, loss=16.6160, avg_loss=16.4106]"
     ]
    },
    {
     "name": "stdout",
     "output_type": "stream",
     "text": [
      "{'kd_loss': 32.492794036865234, 'feature_loss': 0.3143671154975891, 'ce_loss': 8.138161659240723, 'cont_loss': 3.007819890975952, 'teacher_loss': 8.08707046508789, 'total_loss': 16.616037368774414}\n"
     ]
    },
    {
     "name": "stderr",
     "output_type": "stream",
     "text": [
      "Validating:  65%|██████▍   | 152/235 [01:15<00:40,  2.06it/s, loss=16.5910, avg_loss=16.4118]"
     ]
    },
    {
     "name": "stdout",
     "output_type": "stream",
     "text": [
      "{'kd_loss': 32.49239730834961, 'feature_loss': 0.3133171796798706, 'ce_loss': 8.10940170288086, 'cont_loss': 2.876296043395996, 'teacher_loss': 8.086601257324219, 'total_loss': 16.591012954711914}\n"
     ]
    },
    {
     "name": "stderr",
     "output_type": "stream",
     "text": [
      "Validating:  65%|██████▌   | 153/235 [01:15<00:39,  2.06it/s, loss=16.6265, avg_loss=16.4132]"
     ]
    },
    {
     "name": "stdout",
     "output_type": "stream",
     "text": [
      "{'kd_loss': 32.49275207519531, 'feature_loss': 0.3081916570663452, 'ce_loss': 8.174508094787598, 'cont_loss': 2.9796676635742188, 'teacher_loss': 8.091564178466797, 'total_loss': 16.626508712768555}\n"
     ]
    },
    {
     "name": "stderr",
     "output_type": "stream",
     "text": [
      "Validating:  66%|██████▌   | 154/235 [01:16<00:39,  2.06it/s, loss=16.6625, avg_loss=16.4148]"
     ]
    },
    {
     "name": "stdout",
     "output_type": "stream",
     "text": [
      "{'kd_loss': 32.49279022216797, 'feature_loss': 0.3261779546737671, 'ce_loss': 8.243413925170898, 'cont_loss': 3.0283286571502686, 'teacher_loss': 8.081542015075684, 'total_loss': 16.66254997253418}\n"
     ]
    },
    {
     "name": "stderr",
     "output_type": "stream",
     "text": [
      "Validating:  66%|██████▌   | 155/235 [01:16<00:38,  2.06it/s, loss=16.5030, avg_loss=16.4154]"
     ]
    },
    {
     "name": "stdout",
     "output_type": "stream",
     "text": [
      "{'kd_loss': 32.49232482910156, 'feature_loss': 0.35119152069091797, 'ce_loss': 7.866171836853027, 'cont_loss': 2.893533229827881, 'teacher_loss': 8.093825340270996, 'total_loss': 16.502988815307617}\n"
     ]
    },
    {
     "name": "stderr",
     "output_type": "stream",
     "text": [
      "Validating:  66%|██████▋   | 156/235 [01:17<00:38,  2.06it/s, loss=16.6175, avg_loss=16.4167]"
     ]
    },
    {
     "name": "stdout",
     "output_type": "stream",
     "text": [
      "{'kd_loss': 32.492156982421875, 'feature_loss': 0.3290320634841919, 'ce_loss': 8.159640312194824, 'cont_loss': 2.9092397689819336, 'teacher_loss': 8.084275245666504, 'total_loss': 16.617450714111328}\n"
     ]
    },
    {
     "name": "stderr",
     "output_type": "stream",
     "text": [
      "Validating:  67%|██████▋   | 157/235 [01:17<00:37,  2.06it/s, loss=16.6374, avg_loss=16.4181]"
     ]
    },
    {
     "name": "stdout",
     "output_type": "stream",
     "text": [
      "{'kd_loss': 32.4917106628418, 'feature_loss': 0.3198190927505493, 'ce_loss': 8.168281555175781, 'cont_loss': 3.094229221343994, 'teacher_loss': 8.086446762084961, 'total_loss': 16.63738441467285}\n"
     ]
    },
    {
     "name": "stderr",
     "output_type": "stream",
     "text": [
      "Validating:  67%|██████▋   | 158/235 [01:18<00:37,  2.07it/s, loss=16.6352, avg_loss=16.4195]"
     ]
    },
    {
     "name": "stdout",
     "output_type": "stream",
     "text": [
      "{'kd_loss': 32.49342346191406, 'feature_loss': 0.32581162452697754, 'ce_loss': 8.20379638671875, 'cont_loss': 2.9117989540100098, 'teacher_loss': 8.084906578063965, 'total_loss': 16.635231018066406}\n"
     ]
    },
    {
     "name": "stderr",
     "output_type": "stream",
     "text": [
      "Validating:  68%|██████▊   | 159/235 [01:18<00:36,  2.07it/s, loss=16.6338, avg_loss=16.4208]"
     ]
    },
    {
     "name": "stdout",
     "output_type": "stream",
     "text": [
      "{'kd_loss': 32.49244689941406, 'feature_loss': 0.30728232860565186, 'ce_loss': 8.178719520568848, 'cont_loss': 3.0382962226867676, 'teacher_loss': 8.09420394897461, 'total_loss': 16.633752822875977}\n"
     ]
    },
    {
     "name": "stderr",
     "output_type": "stream",
     "text": [
      "Validating:  68%|██████▊   | 160/235 [01:19<00:36,  2.07it/s, loss=16.5960, avg_loss=16.4219]"
     ]
    },
    {
     "name": "stdout",
     "output_type": "stream",
     "text": [
      "{'kd_loss': 32.49283218383789, 'feature_loss': 0.3157743811607361, 'ce_loss': 8.110085487365723, 'cont_loss': 2.916731595993042, 'teacher_loss': 8.088789939880371, 'total_loss': 16.595996856689453}\n"
     ]
    },
    {
     "name": "stderr",
     "output_type": "stream",
     "text": [
      "Validating:  69%|██████▊   | 161/235 [01:19<00:35,  2.07it/s, loss=16.5622, avg_loss=16.4228]"
     ]
    },
    {
     "name": "stdout",
     "output_type": "stream",
     "text": [
      "{'kd_loss': 32.49283218383789, 'feature_loss': 0.30120015144348145, 'ce_loss': 8.028303146362305, 'cont_loss': 2.9346251487731934, 'teacher_loss': 8.08813762664795, 'total_loss': 16.562156677246094}\n"
     ]
    },
    {
     "name": "stderr",
     "output_type": "stream",
     "text": [
      "Validating:  69%|██████▉   | 162/235 [01:20<00:35,  2.06it/s, loss=16.5264, avg_loss=16.4234]"
     ]
    },
    {
     "name": "stdout",
     "output_type": "stream",
     "text": [
      "{'kd_loss': 32.492618560791016, 'feature_loss': 0.31688714027404785, 'ce_loss': 7.925158500671387, 'cont_loss': 2.9592225551605225, 'teacher_loss': 8.094545364379883, 'total_loss': 16.526409149169922}\n"
     ]
    },
    {
     "name": "stderr",
     "output_type": "stream",
     "text": [
      "Validating:  69%|██████▉   | 163/235 [01:20<00:34,  2.06it/s, loss=16.5586, avg_loss=16.4243]"
     ]
    },
    {
     "name": "stdout",
     "output_type": "stream",
     "text": [
      "{'kd_loss': 32.49343490600586, 'feature_loss': 0.3174954652786255, 'ce_loss': 8.00511360168457, 'cont_loss': 2.9564390182495117, 'teacher_loss': 8.088943481445312, 'total_loss': 16.558565139770508}\n"
     ]
    },
    {
     "name": "stderr",
     "output_type": "stream",
     "text": [
      "Validating:  70%|██████▉   | 164/235 [01:21<00:34,  2.06it/s, loss=16.6229, avg_loss=16.4255]"
     ]
    },
    {
     "name": "stdout",
     "output_type": "stream",
     "text": [
      "{'kd_loss': 32.49263000488281, 'feature_loss': 0.30696141719818115, 'ce_loss': 8.12258529663086, 'cont_loss': 3.154071569442749, 'teacher_loss': 8.090737342834473, 'total_loss': 16.62288475036621}\n"
     ]
    },
    {
     "name": "stderr",
     "output_type": "stream",
     "text": [
      "Validating:  70%|███████   | 165/235 [01:21<00:33,  2.07it/s, loss=16.6185, avg_loss=16.4266]"
     ]
    },
    {
     "name": "stdout",
     "output_type": "stream",
     "text": [
      "{'kd_loss': 32.49178695678711, 'feature_loss': 0.32235121726989746, 'ce_loss': 8.147848129272461, 'cont_loss': 2.9818429946899414, 'teacher_loss': 8.081757545471191, 'total_loss': 16.618507385253906}\n"
     ]
    },
    {
     "name": "stderr",
     "output_type": "stream",
     "text": [
      "Validating:  71%|███████   | 166/235 [01:22<00:33,  2.07it/s, loss=16.6257, avg_loss=16.4278]"
     ]
    },
    {
     "name": "stdout",
     "output_type": "stream",
     "text": [
      "{'kd_loss': 32.49366760253906, 'feature_loss': 0.30121880769729614, 'ce_loss': 8.170577049255371, 'cont_loss': 2.9974303245544434, 'teacher_loss': 8.08141040802002, 'total_loss': 16.62568473815918}\n"
     ]
    },
    {
     "name": "stderr",
     "output_type": "stream",
     "text": [
      "Validating:  71%|███████   | 167/235 [01:22<00:32,  2.07it/s, loss=16.5965, avg_loss=16.4288]"
     ]
    },
    {
     "name": "stdout",
     "output_type": "stream",
     "text": [
      "{'kd_loss': 32.49323654174805, 'feature_loss': 0.31023865938186646, 'ce_loss': 8.096635818481445, 'cont_loss': 2.985517978668213, 'teacher_loss': 8.085810661315918, 'total_loss': 16.596548080444336}\n"
     ]
    },
    {
     "name": "stderr",
     "output_type": "stream",
     "text": [
      "Validating:  71%|███████▏  | 168/235 [01:22<00:32,  2.08it/s, loss=16.5427, avg_loss=16.4295]"
     ]
    },
    {
     "name": "stdout",
     "output_type": "stream",
     "text": [
      "{'kd_loss': 32.49324035644531, 'feature_loss': 0.28696179389953613, 'ce_loss': 7.976607322692871, 'cont_loss': 2.973994255065918, 'teacher_loss': 8.089442253112793, 'total_loss': 16.5427303314209}\n"
     ]
    },
    {
     "name": "stderr",
     "output_type": "stream",
     "text": [
      "Validating:  72%|███████▏  | 169/235 [01:23<00:31,  2.08it/s, loss=16.6479, avg_loss=16.4308]"
     ]
    },
    {
     "name": "stdout",
     "output_type": "stream",
     "text": [
      "{'kd_loss': 32.492977142333984, 'feature_loss': 0.31331658363342285, 'ce_loss': 8.177376747131348, 'cont_loss': 3.170607805252075, 'teacher_loss': 8.095871925354004, 'total_loss': 16.647865295410156}\n"
     ]
    },
    {
     "name": "stderr",
     "output_type": "stream",
     "text": [
      "Validating:  72%|███████▏  | 170/235 [01:23<00:31,  2.07it/s, loss=16.5643, avg_loss=16.4316]"
     ]
    },
    {
     "name": "stdout",
     "output_type": "stream",
     "text": [
      "{'kd_loss': 32.49223709106445, 'feature_loss': 0.3103388547897339, 'ce_loss': 8.0067138671875, 'cont_loss': 3.0263278484344482, 'teacher_loss': 8.096745491027832, 'total_loss': 16.564281463623047}\n"
     ]
    },
    {
     "name": "stderr",
     "output_type": "stream",
     "text": [
      "Validating:  73%|███████▎  | 171/235 [01:24<00:30,  2.07it/s, loss=16.6054, avg_loss=16.4326]"
     ]
    },
    {
     "name": "stdout",
     "output_type": "stream",
     "text": [
      "{'kd_loss': 32.493717193603516, 'feature_loss': 0.29915255308151245, 'ce_loss': 8.11534595489502, 'cont_loss': 3.019266366958618, 'teacher_loss': 8.080951690673828, 'total_loss': 16.605382919311523}\n"
     ]
    },
    {
     "name": "stderr",
     "output_type": "stream",
     "text": [
      "Validating:  73%|███████▎  | 172/235 [01:24<00:30,  2.07it/s, loss=16.6670, avg_loss=16.4340]"
     ]
    },
    {
     "name": "stdout",
     "output_type": "stream",
     "text": [
      "{'kd_loss': 32.491722106933594, 'feature_loss': 0.29937320947647095, 'ce_loss': 8.255134582519531, 'cont_loss': 3.0843122005462646, 'teacher_loss': 8.083516120910645, 'total_loss': 16.667049407958984}\n"
     ]
    },
    {
     "name": "stderr",
     "output_type": "stream",
     "text": [
      "Validating:  74%|███████▎  | 173/235 [01:25<00:29,  2.07it/s, loss=16.6498, avg_loss=16.4352]"
     ]
    },
    {
     "name": "stdout",
     "output_type": "stream",
     "text": [
      "{'kd_loss': 32.492340087890625, 'feature_loss': 0.3103504776954651, 'ce_loss': 8.213388442993164, 'cont_loss': 3.054443597793579, 'teacher_loss': 8.092963218688965, 'total_loss': 16.649805068969727}\n"
     ]
    },
    {
     "name": "stderr",
     "output_type": "stream",
     "text": [
      "Validating:  74%|███████▍  | 174/235 [01:25<00:29,  2.08it/s, loss=16.5767, avg_loss=16.4360]"
     ]
    },
    {
     "name": "stdout",
     "output_type": "stream",
     "text": [
      "{'kd_loss': 32.49164581298828, 'feature_loss': 0.3104853630065918, 'ce_loss': 8.037652969360352, 'cont_loss': 3.0290825366973877, 'teacher_loss': 8.098719596862793, 'total_loss': 16.576725006103516}\n"
     ]
    },
    {
     "name": "stderr",
     "output_type": "stream",
     "text": [
      "Validating:  74%|███████▍  | 175/235 [01:26<00:28,  2.08it/s, loss=16.6062, avg_loss=16.4370]"
     ]
    },
    {
     "name": "stdout",
     "output_type": "stream",
     "text": [
      "{'kd_loss': 32.49263381958008, 'feature_loss': 0.29825252294540405, 'ce_loss': 8.106257438659668, 'cont_loss': 3.0696959495544434, 'teacher_loss': 8.089310646057129, 'total_loss': 16.606176376342773}\n"
     ]
    },
    {
     "name": "stderr",
     "output_type": "stream",
     "text": [
      "Validating:  75%|███████▍  | 176/235 [01:26<00:28,  2.08it/s, loss=16.5919, avg_loss=16.4379]"
     ]
    },
    {
     "name": "stdout",
     "output_type": "stream",
     "text": [
      "{'kd_loss': 32.49211120605469, 'feature_loss': 0.31319671869277954, 'ce_loss': 8.014404296875, 'cont_loss': 3.2663416862487793, 'teacher_loss': 8.090164184570312, 'total_loss': 16.59187889099121}\n"
     ]
    },
    {
     "name": "stderr",
     "output_type": "stream",
     "text": [
      "Validating:  75%|███████▌  | 177/235 [01:27<00:27,  2.08it/s, loss=16.5957, avg_loss=16.4388]"
     ]
    },
    {
     "name": "stdout",
     "output_type": "stream",
     "text": [
      "{'kd_loss': 32.49339294433594, 'feature_loss': 0.31943535804748535, 'ce_loss': 8.06032943725586, 'cont_loss': 3.1036593914031982, 'teacher_loss': 8.076394081115723, 'total_loss': 16.595741271972656}\n"
     ]
    },
    {
     "name": "stderr",
     "output_type": "stream",
     "text": [
      "Validating:  76%|███████▌  | 178/235 [01:27<00:27,  2.08it/s, loss=16.6165, avg_loss=16.4398]"
     ]
    },
    {
     "name": "stdout",
     "output_type": "stream",
     "text": [
      "{'kd_loss': 32.49275588989258, 'feature_loss': 0.3315446972846985, 'ce_loss': 8.11410903930664, 'cont_loss': 3.074005603790283, 'teacher_loss': 8.09066104888916, 'total_loss': 16.616455078125}\n"
     ]
    },
    {
     "name": "stderr",
     "output_type": "stream",
     "text": [
      "Validating:  76%|███████▌  | 179/235 [01:28<00:26,  2.09it/s, loss=16.5791, avg_loss=16.4406]"
     ]
    },
    {
     "name": "stdout",
     "output_type": "stream",
     "text": [
      "{'kd_loss': 32.49342346191406, 'feature_loss': 0.31442832946777344, 'ce_loss': 8.024677276611328, 'cont_loss': 3.0899832248687744, 'teacher_loss': 8.088177680969238, 'total_loss': 16.579124450683594}\n"
     ]
    },
    {
     "name": "stderr",
     "output_type": "stream",
     "text": [
      "Validating:  77%|███████▋  | 180/235 [01:28<00:26,  2.09it/s, loss=16.6066, avg_loss=16.4415]"
     ]
    },
    {
     "name": "stdout",
     "output_type": "stream",
     "text": [
      "{'kd_loss': 32.49311828613281, 'feature_loss': 0.3142765760421753, 'ce_loss': 8.017966270446777, 'cont_loss': 3.3935508728027344, 'teacher_loss': 8.090664863586426, 'total_loss': 16.606645584106445}\n"
     ]
    },
    {
     "name": "stderr",
     "output_type": "stream",
     "text": [
      "Validating:  77%|███████▋  | 181/235 [01:29<00:25,  2.08it/s, loss=16.5955, avg_loss=16.4423]"
     ]
    },
    {
     "name": "stdout",
     "output_type": "stream",
     "text": [
      "{'kd_loss': 32.492431640625, 'feature_loss': 0.2798836827278137, 'ce_loss': 8.081364631652832, 'cont_loss': 3.100234031677246, 'teacher_loss': 8.089624404907227, 'total_loss': 16.59552001953125}\n"
     ]
    },
    {
     "name": "stderr",
     "output_type": "stream",
     "text": [
      "Validating:  77%|███████▋  | 182/235 [01:29<00:25,  2.08it/s, loss=16.6098, avg_loss=16.4433]"
     ]
    },
    {
     "name": "stdout",
     "output_type": "stream",
     "text": [
      "{'kd_loss': 32.492088317871094, 'feature_loss': 0.30042898654937744, 'ce_loss': 8.100749015808105, 'cont_loss': 3.1260833740234375, 'teacher_loss': 8.088920593261719, 'total_loss': 16.609830856323242}\n"
     ]
    },
    {
     "name": "stderr",
     "output_type": "stream",
     "text": [
      "Validating:  78%|███████▊  | 183/235 [01:30<00:24,  2.09it/s, loss=16.7166, avg_loss=16.4448]"
     ]
    },
    {
     "name": "stdout",
     "output_type": "stream",
     "text": [
      "{'kd_loss': 32.49219512939453, 'feature_loss': 0.33800792694091797, 'ce_loss': 8.270560264587402, 'cont_loss': 3.4392194747924805, 'teacher_loss': 8.090001106262207, 'total_loss': 16.716625213623047}\n"
     ]
    },
    {
     "name": "stderr",
     "output_type": "stream",
     "text": [
      "Validating:  78%|███████▊  | 184/235 [01:30<00:24,  2.08it/s, loss=16.5719, avg_loss=16.4454]"
     ]
    },
    {
     "name": "stdout",
     "output_type": "stream",
     "text": [
      "{'kd_loss': 32.49348449707031, 'feature_loss': 0.29169929027557373, 'ce_loss': 8.005396842956543, 'cont_loss': 3.1404876708984375, 'teacher_loss': 8.092741966247559, 'total_loss': 16.571941375732422}\n"
     ]
    },
    {
     "name": "stderr",
     "output_type": "stream",
     "text": [
      "Validating:  79%|███████▊  | 185/235 [01:31<00:24,  2.08it/s, loss=16.6023, avg_loss=16.4463]"
     ]
    },
    {
     "name": "stdout",
     "output_type": "stream",
     "text": [
      "{'kd_loss': 32.49223327636719, 'feature_loss': 0.32811182737350464, 'ce_loss': 8.049179077148438, 'cont_loss': 3.2013351917266846, 'teacher_loss': 8.08962345123291, 'total_loss': 16.60232162475586}\n"
     ]
    },
    {
     "name": "stderr",
     "output_type": "stream",
     "text": [
      "Validating:  79%|███████▉  | 186/235 [01:31<00:23,  2.08it/s, loss=16.6228, avg_loss=16.4472]"
     ]
    },
    {
     "name": "stdout",
     "output_type": "stream",
     "text": [
      "{'kd_loss': 32.493133544921875, 'feature_loss': 0.31157004833221436, 'ce_loss': 8.112800598144531, 'cont_loss': 3.181119441986084, 'teacher_loss': 8.086771965026855, 'total_loss': 16.622798919677734}\n"
     ]
    },
    {
     "name": "stderr",
     "output_type": "stream",
     "text": [
      "Validating:  80%|███████▉  | 187/235 [01:32<00:23,  2.08it/s, loss=16.6168, avg_loss=16.4481]"
     ]
    },
    {
     "name": "stdout",
     "output_type": "stream",
     "text": [
      "{'kd_loss': 32.49327850341797, 'feature_loss': 0.3101879358291626, 'ce_loss': 8.097591400146484, 'cont_loss': 3.1839823722839355, 'teacher_loss': 8.095030784606934, 'total_loss': 16.616783142089844}\n"
     ]
    },
    {
     "name": "stderr",
     "output_type": "stream",
     "text": [
      "Validating:  80%|████████  | 188/235 [01:32<00:22,  2.09it/s, loss=16.6514, avg_loss=16.4492]"
     ]
    },
    {
     "name": "stdout",
     "output_type": "stream",
     "text": [
      "{'kd_loss': 32.49260711669922, 'feature_loss': 0.3177218437194824, 'ce_loss': 8.176881790161133, 'cont_loss': 3.200798273086548, 'teacher_loss': 8.085854530334473, 'total_loss': 16.651418685913086}\n"
     ]
    },
    {
     "name": "stderr",
     "output_type": "stream",
     "text": [
      "Validating:  80%|████████  | 189/235 [01:33<00:22,  2.09it/s, loss=16.6868, avg_loss=16.4505]"
     ]
    },
    {
     "name": "stdout",
     "output_type": "stream",
     "text": [
      "{'kd_loss': 32.49334716796875, 'feature_loss': 0.28777480125427246, 'ce_loss': 8.244708061218262, 'cont_loss': 3.3400983810424805, 'teacher_loss': 8.089018821716309, 'total_loss': 16.686786651611328}\n"
     ]
    },
    {
     "name": "stderr",
     "output_type": "stream",
     "text": [
      "Validating:  81%|████████  | 190/235 [01:33<00:21,  2.09it/s, loss=16.5955, avg_loss=16.4512]"
     ]
    },
    {
     "name": "stdout",
     "output_type": "stream",
     "text": [
      "{'kd_loss': 32.49340057373047, 'feature_loss': 0.2845495939254761, 'ce_loss': 8.067960739135742, 'cont_loss': 3.140777111053467, 'teacher_loss': 8.10136890411377, 'total_loss': 16.595531463623047}\n"
     ]
    },
    {
     "name": "stderr",
     "output_type": "stream",
     "text": [
      "Validating:  81%|████████▏ | 191/235 [01:34<00:21,  2.08it/s, loss=16.6555, avg_loss=16.4523]"
     ]
    },
    {
     "name": "stdout",
     "output_type": "stream",
     "text": [
      "{'kd_loss': 32.49237060546875, 'feature_loss': 0.3124805688858032, 'ce_loss': 8.193652153015137, 'cont_loss': 3.185472249984741, 'teacher_loss': 8.093816757202148, 'total_loss': 16.65545082092285}\n"
     ]
    },
    {
     "name": "stderr",
     "output_type": "stream",
     "text": [
      "Validating:  82%|████████▏ | 192/235 [01:34<00:20,  2.08it/s, loss=16.6503, avg_loss=16.4533]"
     ]
    },
    {
     "name": "stdout",
     "output_type": "stream",
     "text": [
      "{'kd_loss': 32.49244689941406, 'feature_loss': 0.3073214888572693, 'ce_loss': 8.174077987670898, 'cont_loss': 3.222531795501709, 'teacher_loss': 8.093534469604492, 'total_loss': 16.650325775146484}\n"
     ]
    },
    {
     "name": "stderr",
     "output_type": "stream",
     "text": [
      "Validating:  82%|████████▏ | 193/235 [01:34<00:20,  2.08it/s, loss=16.5919, avg_loss=16.4541]"
     ]
    },
    {
     "name": "stdout",
     "output_type": "stream",
     "text": [
      "{'kd_loss': 32.49296569824219, 'feature_loss': 0.3063250780105591, 'ce_loss': 7.997244358062744, 'cont_loss': 3.345719337463379, 'teacher_loss': 8.094964981079102, 'total_loss': 16.591920852661133}\n"
     ]
    },
    {
     "name": "stderr",
     "output_type": "stream",
     "text": [
      "Validating:  83%|████████▎ | 194/235 [01:35<00:19,  2.08it/s, loss=16.5869, avg_loss=16.4548]"
     ]
    },
    {
     "name": "stdout",
     "output_type": "stream",
     "text": [
      "{'kd_loss': 32.492103576660156, 'feature_loss': 0.340312123298645, 'ce_loss': 7.999332904815674, 'cont_loss': 3.222867250442505, 'teacher_loss': 8.08602237701416, 'total_loss': 16.586923599243164}\n"
     ]
    },
    {
     "name": "stderr",
     "output_type": "stream",
     "text": [
      "Validating:  83%|████████▎ | 195/235 [01:35<00:19,  2.08it/s, loss=16.6457, avg_loss=16.4557]"
     ]
    },
    {
     "name": "stdout",
     "output_type": "stream",
     "text": [
      "{'kd_loss': 32.49170684814453, 'feature_loss': 0.2986173629760742, 'ce_loss': 8.165112495422363, 'cont_loss': 3.2322893142700195, 'teacher_loss': 8.092154502868652, 'total_loss': 16.645681381225586}\n"
     ]
    },
    {
     "name": "stderr",
     "output_type": "stream",
     "text": [
      "Validating:  83%|████████▎ | 196/235 [01:36<00:18,  2.08it/s, loss=16.6226, avg_loss=16.4566]"
     ]
    },
    {
     "name": "stdout",
     "output_type": "stream",
     "text": [
      "{'kd_loss': 32.492515563964844, 'feature_loss': 0.3120690584182739, 'ce_loss': 8.087725639343262, 'cont_loss': 3.2805824279785156, 'teacher_loss': 8.090987205505371, 'total_loss': 16.622568130493164}\n"
     ]
    },
    {
     "name": "stderr",
     "output_type": "stream",
     "text": [
      "Validating:  84%|████████▍ | 197/235 [01:36<00:18,  2.08it/s, loss=16.5875, avg_loss=16.4572]"
     ]
    },
    {
     "name": "stdout",
     "output_type": "stream",
     "text": [
      "{'kd_loss': 32.49171829223633, 'feature_loss': 0.3241405487060547, 'ce_loss': 8.007126808166504, 'cont_loss': 3.2315924167633057, 'teacher_loss': 8.090673446655273, 'total_loss': 16.587526321411133}\n"
     ]
    },
    {
     "name": "stderr",
     "output_type": "stream",
     "text": [
      "Validating:  84%|████████▍ | 198/235 [01:37<00:17,  2.08it/s, loss=16.5924, avg_loss=16.4579]"
     ]
    },
    {
     "name": "stdout",
     "output_type": "stream",
     "text": [
      "{'kd_loss': 32.49272918701172, 'feature_loss': 0.3011068105697632, 'ce_loss': 8.02692699432373, 'cont_loss': 3.2432305812835693, 'teacher_loss': 8.086212158203125, 'total_loss': 16.592409133911133}\n"
     ]
    },
    {
     "name": "stderr",
     "output_type": "stream",
     "text": [
      "Validating:  85%|████████▍ | 199/235 [01:37<00:17,  2.09it/s, loss=16.6224, avg_loss=16.4588]"
     ]
    },
    {
     "name": "stdout",
     "output_type": "stream",
     "text": [
      "{'kd_loss': 32.49193572998047, 'feature_loss': 0.3141239881515503, 'ce_loss': 8.082267761230469, 'cont_loss': 3.298821449279785, 'teacher_loss': 8.085653305053711, 'total_loss': 16.62238883972168}\n"
     ]
    },
    {
     "name": "stderr",
     "output_type": "stream",
     "text": [
      "Validating:  85%|████████▌ | 200/235 [01:38<00:16,  2.09it/s, loss=16.6589, avg_loss=16.4598]"
     ]
    },
    {
     "name": "stdout",
     "output_type": "stream",
     "text": [
      "{'kd_loss': 32.4931755065918, 'feature_loss': 0.317795991897583, 'ce_loss': 8.165772438049316, 'cont_loss': 3.317984104156494, 'teacher_loss': 8.088712692260742, 'total_loss': 16.658937454223633}\n"
     ]
    },
    {
     "name": "stderr",
     "output_type": "stream",
     "text": [
      "Validating:  86%|████████▌ | 201/235 [01:38<00:16,  2.09it/s, loss=16.6296, avg_loss=16.4606]"
     ]
    },
    {
     "name": "stdout",
     "output_type": "stream",
     "text": [
      "{'kd_loss': 32.492549896240234, 'feature_loss': 0.3176928758621216, 'ce_loss': 8.100553512573242, 'cont_loss': 3.2878220081329346, 'teacher_loss': 8.092592239379883, 'total_loss': 16.629562377929688}\n"
     ]
    },
    {
     "name": "stderr",
     "output_type": "stream",
     "text": [
      "Validating:  86%|████████▌ | 202/235 [01:39<00:15,  2.09it/s, loss=16.6009, avg_loss=16.4613]"
     ]
    },
    {
     "name": "stdout",
     "output_type": "stream",
     "text": [
      "{'kd_loss': 32.492610931396484, 'feature_loss': 0.3188375234603882, 'ce_loss': 8.029662132263184, 'cont_loss': 3.282294273376465, 'teacher_loss': 8.094403266906738, 'total_loss': 16.600906372070312}\n"
     ]
    },
    {
     "name": "stderr",
     "output_type": "stream",
     "text": [
      "Validating:  86%|████████▋ | 203/235 [01:39<00:15,  2.09it/s, loss=16.6702, avg_loss=16.4623]"
     ]
    },
    {
     "name": "stdout",
     "output_type": "stream",
     "text": [
      "{'kd_loss': 32.491783142089844, 'feature_loss': 0.31357842683792114, 'ce_loss': 8.120979309082031, 'cont_loss': 3.623663902282715, 'teacher_loss': 8.093767166137695, 'total_loss': 16.67018699645996}\n"
     ]
    },
    {
     "name": "stderr",
     "output_type": "stream",
     "text": [
      "Validating:  87%|████████▋ | 204/235 [01:40<00:14,  2.08it/s, loss=16.6412, avg_loss=16.4632]"
     ]
    },
    {
     "name": "stdout",
     "output_type": "stream",
     "text": [
      "{'kd_loss': 32.4920654296875, 'feature_loss': 0.3196134567260742, 'ce_loss': 8.115501403808594, 'cont_loss': 3.342512845993042, 'teacher_loss': 8.087906837463379, 'total_loss': 16.64120101928711}\n"
     ]
    },
    {
     "name": "stderr",
     "output_type": "stream",
     "text": [
      "Validating:  87%|████████▋ | 205/235 [01:40<00:14,  2.09it/s, loss=16.7367, avg_loss=16.4645]"
     ]
    },
    {
     "name": "stdout",
     "output_type": "stream",
     "text": [
      "{'kd_loss': 32.492286682128906, 'feature_loss': 0.3204994201660156, 'ce_loss': 8.319559097290039, 'cont_loss': 3.478919506072998, 'teacher_loss': 8.090202331542969, 'total_loss': 16.736732482910156}\n"
     ]
    },
    {
     "name": "stderr",
     "output_type": "stream",
     "text": [
      "Validating:  88%|████████▊ | 206/235 [01:41<00:13,  2.09it/s, loss=16.6498, avg_loss=16.4654]"
     ]
    },
    {
     "name": "stdout",
     "output_type": "stream",
     "text": [
      "{'kd_loss': 32.49358367919922, 'feature_loss': 0.30489683151245117, 'ce_loss': 8.14402961730957, 'cont_loss': 3.3380305767059326, 'teacher_loss': 8.094512939453125, 'total_loss': 16.64982795715332}\n"
     ]
    },
    {
     "name": "stderr",
     "output_type": "stream",
     "text": [
      "Validating:  88%|████████▊ | 207/235 [01:41<00:13,  2.09it/s, loss=16.6788, avg_loss=16.4665]"
     ]
    },
    {
     "name": "stdout",
     "output_type": "stream",
     "text": [
      "{'kd_loss': 32.4928092956543, 'feature_loss': 0.33171045780181885, 'ce_loss': 8.188176155090332, 'cont_loss': 3.4001553058624268, 'teacher_loss': 8.090508460998535, 'total_loss': 16.678752899169922}\n"
     ]
    },
    {
     "name": "stderr",
     "output_type": "stream",
     "text": [
      "Validating:  89%|████████▊ | 208/235 [01:42<00:12,  2.08it/s, loss=16.6756, avg_loss=16.4675]"
     ]
    },
    {
     "name": "stdout",
     "output_type": "stream",
     "text": [
      "{'kd_loss': 32.492523193359375, 'feature_loss': 0.30758190155029297, 'ce_loss': 8.192473411560059, 'cont_loss': 3.4007349014282227, 'teacher_loss': 8.088924407958984, 'total_loss': 16.675588607788086}\n"
     ]
    },
    {
     "name": "stderr",
     "output_type": "stream",
     "text": [
      "Validating:  89%|████████▉ | 209/235 [01:42<00:12,  2.08it/s, loss=16.6916, avg_loss=16.4685]"
     ]
    },
    {
     "name": "stdout",
     "output_type": "stream",
     "text": [
      "{'kd_loss': 32.492279052734375, 'feature_loss': 0.3376139998435974, 'ce_loss': 8.152174949645996, 'cont_loss': 3.6628756523132324, 'teacher_loss': 8.090238571166992, 'total_loss': 16.691593170166016}\n"
     ]
    },
    {
     "name": "stderr",
     "output_type": "stream",
     "text": [
      "Validating:  89%|████████▉ | 210/235 [01:43<00:11,  2.09it/s, loss=16.5930, avg_loss=16.4691]"
     ]
    },
    {
     "name": "stdout",
     "output_type": "stream",
     "text": [
      "{'kd_loss': 32.49317169189453, 'feature_loss': 0.3248756527900696, 'ce_loss': 7.982760906219482, 'cont_loss': 3.3766140937805176, 'teacher_loss': 8.093362808227539, 'total_loss': 16.59300994873047}\n"
     ]
    },
    {
     "name": "stderr",
     "output_type": "stream",
     "text": [
      "Validating:  90%|████████▉ | 211/235 [01:43<00:11,  2.08it/s, loss=16.6451, avg_loss=16.4700]"
     ]
    },
    {
     "name": "stdout",
     "output_type": "stream",
     "text": [
      "{'kd_loss': 32.49285125732422, 'feature_loss': 0.30609166622161865, 'ce_loss': 8.080552101135254, 'cont_loss': 3.5448062419891357, 'teacher_loss': 8.090929985046387, 'total_loss': 16.645061492919922}\n"
     ]
    },
    {
     "name": "stderr",
     "output_type": "stream",
     "text": [
      "Validating:  90%|█████████ | 212/235 [01:44<00:11,  2.09it/s, loss=16.6219, avg_loss=16.4707]"
     ]
    },
    {
     "name": "stdout",
     "output_type": "stream",
     "text": [
      "{'kd_loss': 32.49199676513672, 'feature_loss': 0.29948556423187256, 'ce_loss': 8.056318283081055, 'cont_loss': 3.4266107082366943, 'teacher_loss': 8.091714859008789, 'total_loss': 16.621883392333984}\n"
     ]
    },
    {
     "name": "stderr",
     "output_type": "stream",
     "text": [
      "Validating:  91%|█████████ | 213/235 [01:44<00:10,  2.09it/s, loss=16.6810, avg_loss=16.4717]"
     ]
    },
    {
     "name": "stdout",
     "output_type": "stream",
     "text": [
      "{'kd_loss': 32.49252700805664, 'feature_loss': 0.3107284903526306, 'ce_loss': 8.192902565002441, 'cont_loss': 3.447129249572754, 'teacher_loss': 8.093179702758789, 'total_loss': 16.6810302734375}\n"
     ]
    },
    {
     "name": "stderr",
     "output_type": "stream",
     "text": [
      "Validating:  91%|█████████ | 214/235 [01:45<00:10,  2.09it/s, loss=16.7273, avg_loss=16.4729]"
     ]
    },
    {
     "name": "stdout",
     "output_type": "stream",
     "text": [
      "{'kd_loss': 32.492130279541016, 'feature_loss': 0.31655216217041016, 'ce_loss': 8.235511779785156, 'cont_loss': 3.7291746139526367, 'teacher_loss': 8.091702461242676, 'total_loss': 16.727283477783203}\n"
     ]
    },
    {
     "name": "stderr",
     "output_type": "stream",
     "text": [
      "Validating:  91%|█████████▏| 215/235 [01:45<00:09,  2.09it/s, loss=16.6486, avg_loss=16.4737]"
     ]
    },
    {
     "name": "stdout",
     "output_type": "stream",
     "text": [
      "{'kd_loss': 32.49164581298828, 'feature_loss': 0.302528977394104, 'ce_loss': 8.116443634033203, 'cont_loss': 3.4482274055480957, 'teacher_loss': 8.090532302856445, 'total_loss': 16.648563385009766}\n"
     ]
    },
    {
     "name": "stderr",
     "output_type": "stream",
     "text": [
      "Validating:  92%|█████████▏| 216/235 [01:46<00:09,  2.09it/s, loss=16.6399, avg_loss=16.4745]"
     ]
    },
    {
     "name": "stdout",
     "output_type": "stream",
     "text": [
      "{'kd_loss': 32.492889404296875, 'feature_loss': 0.30404430627822876, 'ce_loss': 8.091984748840332, 'cont_loss': 3.4518322944641113, 'teacher_loss': 8.094295501708984, 'total_loss': 16.639942169189453}\n"
     ]
    },
    {
     "name": "stderr",
     "output_type": "stream",
     "text": [
      "Validating:  92%|█████████▏| 217/235 [01:46<00:08,  2.09it/s, loss=16.6505, avg_loss=16.4753]"
     ]
    },
    {
     "name": "stdout",
     "output_type": "stream",
     "text": [
      "{'kd_loss': 32.4924430847168, 'feature_loss': 0.33369481563568115, 'ce_loss': 8.093730926513672, 'cont_loss': 3.4929723739624023, 'teacher_loss': 8.087373733520508, 'total_loss': 16.65050506591797}\n"
     ]
    },
    {
     "name": "stderr",
     "output_type": "stream",
     "text": [
      "Validating:  93%|█████████▎| 218/235 [01:46<00:08,  2.08it/s, loss=16.6659, avg_loss=16.4761]"
     ]
    },
    {
     "name": "stdout",
     "output_type": "stream",
     "text": [
      "{'kd_loss': 32.49142074584961, 'feature_loss': 0.3296666145324707, 'ce_loss': 8.137299537658691, 'cont_loss': 3.4844155311584473, 'teacher_loss': 8.084677696228027, 'total_loss': 16.665863037109375}\n"
     ]
    },
    {
     "name": "stderr",
     "output_type": "stream",
     "text": [
      "Validating:  93%|█████████▎| 219/235 [01:47<00:07,  2.08it/s, loss=16.6780, avg_loss=16.4771]"
     ]
    },
    {
     "name": "stdout",
     "output_type": "stream",
     "text": [
      "{'kd_loss': 32.491676330566406, 'feature_loss': 0.34351396560668945, 'ce_loss': 8.162964820861816, 'cont_loss': 3.474802017211914, 'teacher_loss': 8.09133529663086, 'total_loss': 16.67803955078125}\n"
     ]
    },
    {
     "name": "stderr",
     "output_type": "stream",
     "text": [
      "Validating:  94%|█████████▎| 220/235 [01:47<00:07,  2.09it/s, loss=16.6208, avg_loss=16.4777]"
     ]
    },
    {
     "name": "stdout",
     "output_type": "stream",
     "text": [
      "{'kd_loss': 32.49220275878906, 'feature_loss': 0.3252131938934326, 'ce_loss': 8.024192810058594, 'cont_loss': 3.4919791221618652, 'teacher_loss': 8.08834171295166, 'total_loss': 16.620798110961914}\n"
     ]
    },
    {
     "name": "stderr",
     "output_type": "stream",
     "text": [
      "Validating:  94%|█████████▍| 221/235 [01:48<00:06,  2.09it/s, loss=16.6745, avg_loss=16.4786]"
     ]
    },
    {
     "name": "stdout",
     "output_type": "stream",
     "text": [
      "{'kd_loss': 32.49260330200195, 'feature_loss': 0.32937610149383545, 'ce_loss': 8.108305931091309, 'cont_loss': 3.682851791381836, 'teacher_loss': 8.092081069946289, 'total_loss': 16.67452621459961}\n"
     ]
    },
    {
     "name": "stderr",
     "output_type": "stream",
     "text": [
      "Validating:  94%|█████████▍| 222/235 [01:48<00:06,  2.09it/s, loss=16.6599, avg_loss=16.4794]"
     ]
    },
    {
     "name": "stdout",
     "output_type": "stream",
     "text": [
      "{'kd_loss': 32.49195098876953, 'feature_loss': 0.33387601375579834, 'ce_loss': 8.110252380371094, 'cont_loss': 3.522542715072632, 'teacher_loss': 8.086723327636719, 'total_loss': 16.659912109375}\n"
     ]
    },
    {
     "name": "stderr",
     "output_type": "stream",
     "text": [
      "Validating:  95%|█████████▍| 223/235 [01:49<00:05,  2.09it/s, loss=16.6646, avg_loss=16.4803]"
     ]
    },
    {
     "name": "stdout",
     "output_type": "stream",
     "text": [
      "{'kd_loss': 32.49264144897461, 'feature_loss': 0.312171995639801, 'ce_loss': 8.139994621276855, 'cont_loss': 3.4909825325012207, 'teacher_loss': 8.082624435424805, 'total_loss': 16.664587020874023}\n"
     ]
    },
    {
     "name": "stderr",
     "output_type": "stream",
     "text": [
      "Validating:  95%|█████████▌| 224/235 [01:49<00:05,  2.09it/s, loss=16.6421, avg_loss=16.4810]"
     ]
    },
    {
     "name": "stdout",
     "output_type": "stream",
     "text": [
      "{'kd_loss': 32.4933967590332, 'feature_loss': 0.3239092230796814, 'ce_loss': 8.06932544708252, 'cont_loss': 3.522164821624756, 'teacher_loss': 8.079222679138184, 'total_loss': 16.642087936401367}\n"
     ]
    },
    {
     "name": "stderr",
     "output_type": "stream",
     "text": [
      "Validating:  96%|█████████▌| 225/235 [01:50<00:04,  2.09it/s, loss=16.6488, avg_loss=16.4817]"
     ]
    },
    {
     "name": "stdout",
     "output_type": "stream",
     "text": [
      "{'kd_loss': 32.492897033691406, 'feature_loss': 0.3308967351913452, 'ce_loss': 8.074652671813965, 'cont_loss': 3.5562665462493896, 'teacher_loss': 8.07853889465332, 'total_loss': 16.648826599121094}\n"
     ]
    },
    {
     "name": "stderr",
     "output_type": "stream",
     "text": [
      "Validating:  96%|█████████▌| 226/235 [01:50<00:04,  2.09it/s, loss=16.7317, avg_loss=16.4828]"
     ]
    },
    {
     "name": "stdout",
     "output_type": "stream",
     "text": [
      "{'kd_loss': 32.49315643310547, 'feature_loss': 0.3234015107154846, 'ce_loss': 8.249460220336914, 'cont_loss': 3.699582576751709, 'teacher_loss': 8.082633018493652, 'total_loss': 16.731685638427734}\n"
     ]
    },
    {
     "name": "stderr",
     "output_type": "stream",
     "text": [
      "Validating:  97%|█████████▋| 227/235 [01:51<00:03,  2.09it/s, loss=16.7024, avg_loss=16.4838]"
     ]
    },
    {
     "name": "stdout",
     "output_type": "stream",
     "text": [
      "{'kd_loss': 32.492286682128906, 'feature_loss': 0.33308541774749756, 'ce_loss': 8.203526496887207, 'cont_loss': 3.57488751411438, 'teacher_loss': 8.08675479888916, 'total_loss': 16.702430725097656}\n"
     ]
    },
    {
     "name": "stderr",
     "output_type": "stream",
     "text": [
      "Validating:  97%|█████████▋| 228/235 [01:51<00:03,  2.09it/s, loss=16.6529, avg_loss=16.4845]"
     ]
    },
    {
     "name": "stdout",
     "output_type": "stream",
     "text": [
      "{'kd_loss': 32.492496490478516, 'feature_loss': 0.30338990688323975, 'ce_loss': 8.099630355834961, 'cont_loss': 3.5534675121307373, 'teacher_loss': 8.091533660888672, 'total_loss': 16.652875900268555}\n"
     ]
    },
    {
     "name": "stderr",
     "output_type": "stream",
     "text": [
      "Validating:  97%|█████████▋| 229/235 [01:52<00:02,  2.10it/s, loss=16.6517, avg_loss=16.4853]"
     ]
    },
    {
     "name": "stdout",
     "output_type": "stream",
     "text": [
      "{'kd_loss': 32.49201202392578, 'feature_loss': 0.3180408477783203, 'ce_loss': 8.08035945892334, 'cont_loss': 3.591128349304199, 'teacher_loss': 8.089293479919434, 'total_loss': 16.651670455932617}\n"
     ]
    },
    {
     "name": "stderr",
     "output_type": "stream",
     "text": [
      "Validating:  98%|█████████▊| 230/235 [01:52<00:02,  2.09it/s, loss=16.6630, avg_loss=16.4860]"
     ]
    },
    {
     "name": "stdout",
     "output_type": "stream",
     "text": [
      "{'kd_loss': 32.492530822753906, 'feature_loss': 0.33059823513031006, 'ce_loss': 8.081537246704102, 'cont_loss': 3.6727447509765625, 'teacher_loss': 8.088517189025879, 'total_loss': 16.663021087646484}\n"
     ]
    },
    {
     "name": "stderr",
     "output_type": "stream",
     "text": [
      "Validating:  98%|█████████▊| 231/235 [01:53<00:01,  2.08it/s, loss=16.6946, avg_loss=16.4869]"
     ]
    },
    {
     "name": "stdout",
     "output_type": "stream",
     "text": [
      "{'kd_loss': 32.4920654296875, 'feature_loss': 0.32710301876068115, 'ce_loss': 8.170919418334961, 'cont_loss': 3.6402392387390137, 'teacher_loss': 8.09187126159668, 'total_loss': 16.694637298583984}\n"
     ]
    },
    {
     "name": "stderr",
     "output_type": "stream",
     "text": [
      "Validating:  99%|█████████▊| 232/235 [01:53<00:01,  2.09it/s, loss=16.6586, avg_loss=16.4877]"
     ]
    },
    {
     "name": "stdout",
     "output_type": "stream",
     "text": [
      "{'kd_loss': 32.493385314941406, 'feature_loss': 0.3103947639465332, 'ce_loss': 8.091424942016602, 'cont_loss': 3.62611985206604, 'teacher_loss': 8.087723731994629, 'total_loss': 16.658615112304688}\n"
     ]
    },
    {
     "name": "stderr",
     "output_type": "stream",
     "text": [
      "Validating:  99%|█████████▉| 233/235 [01:54<00:00,  2.09it/s, loss=16.6702, avg_loss=16.4885]"
     ]
    },
    {
     "name": "stdout",
     "output_type": "stream",
     "text": [
      "{'kd_loss': 32.492645263671875, 'feature_loss': 0.3446529507637024, 'ce_loss': 8.091963768005371, 'cont_loss': 3.6743338108062744, 'teacher_loss': 8.085699081420898, 'total_loss': 16.670207977294922}\n"
     ]
    },
    {
     "name": "stderr",
     "output_type": "stream",
     "text": [
      "Validating: 100%|██████████| 235/235 [01:54<00:00,  2.54it/s, loss=16.6146, avg_loss=16.4899]"
     ]
    },
    {
     "name": "stdout",
     "output_type": "stream",
     "text": [
      "{'kd_loss': 32.492271423339844, 'feature_loss': 0.34058451652526855, 'ce_loss': 8.171154975891113, 'cont_loss': 3.6244945526123047, 'teacher_loss': 8.090487480163574, 'total_loss': 16.695938110351562}\n",
      "{'kd_loss': 32.49082565307617, 'feature_loss': 0.3086143732070923, 'ce_loss': 8.206682205200195, 'cont_loss': 2.7383971214294434, 'teacher_loss': 8.091797828674316, 'total_loss': 16.614564895629883}\n"
     ]
    },
    {
     "name": "stderr",
     "output_type": "stream",
     "text": [
      "Validating: 100%|██████████| 235/235 [01:54<00:00,  2.05it/s, loss=16.6146, avg_loss=16.4899]\n"
     ]
    },
    {
     "name": "stdout",
     "output_type": "stream",
     "text": [
      "Epoch 5 | Train Loss: 18.4135 | Val Loss: 16.4899 | Top1 Acc: 0.01 | Top5 Acc: 0.03\n",
      "Summary of Fold Metrics:\n",
      "{'fold': 0, 'train_loss': 18.413487242635092, 'val_loss': 16.48988614183791, 'top1_acc': 0.012533244680851064, 'top5_acc': 0.026961436170212766, 'top10_acc': 0.03733377659574468}\n"
     ]
    }
   ],
   "source": [
    "teacher_model = GoogleLandmarksModel(text_embeddings=text_embeddings, model_name=\"RN101\", device=device)\n",
    "teacher_model = teacher_model.float()\n",
    "\n",
    "checkpoint = torch.load('/kaggle/input/k/thangchu/training-clip-baseline-on-landmarks-index-set/clip_landmark_results/best_val_top1_accuracy_model_fold-0.pth', weights_only = False)\n",
    "teacher_model.load_state_dict(checkpoint['model_state_dict'])\n",
    "teacher_model.to(device)\n",
    "student_model = timm.create_model(\"resnet18\", pretrained=True, num_classes=N_CLASSES)\n",
    "student_model = student_model.float()\n",
    "\n",
    "\n",
    "# Initialize the improved distillation model\n",
    "\n",
    "distillation_model = CrossModalDistillationModel(\n",
    "\n",
    "    teacher_model=teacher_model,\n",
    "\n",
    "    student_model=student_model,\n",
    "\n",
    "    text_embeddings=text_embeddings.to(device),\n",
    "\n",
    "    projection_dim=512  # Same dimension as CLIP's feature space\n",
    "\n",
    ")\n",
    "\n",
    "distillation_model.to(device)\n",
    "\n",
    "\n",
    "\n",
    "# Optimizer with weight decay\n",
    "\n",
    "optimizer = AdamW([\n",
    "\n",
    "    {'params': distillation_model.student.parameters(), 'lr': 1e-4},\n",
    "\n",
    "    {'params': distillation_model.projection_head.parameters(), 'lr': 1e-4}\n",
    "\n",
    "], weight_decay=0.01)\n",
    "\n",
    "\n",
    "\n",
    "# Scheduler with warmup\n",
    "\n",
    "num_training_steps = len(train_dl) * EPOCHS\n",
    "\n",
    "num_warmup_steps = min(1000, num_training_steps // 20)  # 10% of training steps or 1000, whichever is smaller\n",
    "\n",
    "scheduler = get_cosine_schedule_with_warmup(\n",
    "\n",
    "    optimizer, \n",
    "\n",
    "    num_warmup_steps=num_warmup_steps,\n",
    "\n",
    "    num_training_steps=num_training_steps\n",
    "\n",
    ")\n",
    "\n",
    "\n",
    "\n",
    "# Training loop with validation\n",
    "\n",
    "patience = EARLY_STOPPING_EPOCH\n",
    "\n",
    "patience_counter = 0\n",
    "\n",
    "\n",
    "\n",
    "scaler = GradScaler() if USE_AMP else None\n",
    "\n",
    "\n",
    "\n",
    "sfk = StratifiedKFold(n_splits=5, shuffle=True, random_state=42)\n",
    "\n",
    "training_folds = [0] \n",
    "\n",
    "fold_metrics = []\n",
    "\n",
    "for fold, (trn_idx, val_idx) in enumerate(sfk.split(train_df, train_df.landmark_id.tolist())):\n",
    "    if fold not in training_folds:\n",
    "        continue\n",
    "\n",
    "    print(f\"{'#'*30}\\nStarting Fold {fold}\\n{'#'*30}\")\n",
    "\n",
    "    # Prepare datasets and dataloaders\n",
    "    df_train = train_df.iloc[trn_idx]\n",
    "    df_valid = train_df.iloc[val_idx]\n",
    "\n",
    "    train_ds = GoogleLandmarksDataset(df_train, class_name_to_idx=class_name_to_idx, transform=transforms_train)\n",
    "    valid_ds = GoogleLandmarksDataset(df_valid, class_name_to_idx=class_name_to_idx, transform=transforms_val)\n",
    "\n",
    "    train_dl = DataLoader(train_ds, batch_size=BATCH_SIZE, shuffle=True, num_workers=N_WORKERS, drop_last=True, pin_memory=True)\n",
    "    valid_dl = DataLoader(valid_ds, batch_size=BATCH_SIZE*2, shuffle=False, num_workers=N_WORKERS, drop_last=False, pin_memory=True)\n",
    "\n",
    "    best_val_loss = float('inf')\n",
    "    patience_counter = 0\n",
    "\n",
    "    for epoch in range(EPOCHS):\n",
    "        train_loss, train_metrics = train_epoch(\n",
    "            model=distillation_model,\n",
    "            train_loader=train_dl,\n",
    "            criterion=EnhancedDistillationLoss(Config()),\n",
    "            optimizer=optimizer,\n",
    "            config=Config(),\n",
    "            scheduler=scheduler\n",
    "        )\n",
    "\n",
    "        val_loss, val_metrics = validate_epoch(\n",
    "            model=distillation_model,\n",
    "            val_loader=valid_dl,\n",
    "            criterion=EnhancedDistillationLoss(Config()),\n",
    "            config=Config()\n",
    "        )\n",
    "\n",
    "        print(f\"Epoch {epoch+1} | Train Loss: {train_loss:.4f} | Val Loss: {val_loss:.4f} | \"\n",
    "              f\"Top1 Acc: {val_metrics['top1_acc']:.2f} | Top5 Acc: {val_metrics['top5_acc']:.2f}\")\n",
    "\n",
    "        if val_loss < best_val_loss:\n",
    "            best_val_loss = val_loss\n",
    "            patience_counter = 0\n",
    "            torch.save({\n",
    "                'fold': fold,\n",
    "                'epoch': epoch,\n",
    "                'model_state_dict': distillation_model.state_dict(),\n",
    "                'optimizer_state_dict': optimizer.state_dict(),\n",
    "                'val_loss': val_loss,\n",
    "            }, f'{OUTPUT_DIR}/best_model_fold{fold}.pth')\n",
    "        else:\n",
    "            patience_counter += 1\n",
    "            if patience_counter >= patience:\n",
    "                print(f\"Early stopping triggered at epoch {epoch+1}\")\n",
    "                break\n",
    "\n",
    "    fold_metrics.append({\n",
    "        'fold': fold,\n",
    "        'train_loss': train_loss,\n",
    "        'val_loss': val_loss,\n",
    "        'top1_acc': val_metrics['top1_acc'],\n",
    "        'top5_acc': val_metrics['top5_acc'],\n",
    "        'top10_acc': val_metrics['top10_acc'],\n",
    "    })\n",
    "\n",
    "# Print overall metrics\n",
    "print(\"Summary of Fold Metrics:\")\n",
    "for metric in fold_metrics:\n",
    "    print(metric)"
   ]
  }
 ],
 "metadata": {
  "kaggle": {
   "accelerator": "nvidiaTeslaT4",
   "dataSources": [
    {
     "datasetId": 5883095,
     "sourceId": 9635661,
     "sourceType": "datasetVersion"
    },
    {
     "datasetId": 5883097,
     "sourceId": 9635664,
     "sourceType": "datasetVersion"
    },
    {
     "datasetId": 5883577,
     "sourceId": 9636294,
     "sourceType": "datasetVersion"
    },
    {
     "datasetId": 5883578,
     "sourceId": 9636295,
     "sourceType": "datasetVersion"
    },
    {
     "datasetId": 5883713,
     "sourceId": 9636477,
     "sourceType": "datasetVersion"
    },
    {
     "datasetId": 5882766,
     "sourceId": 9720780,
     "sourceType": "datasetVersion"
    },
    {
     "datasetId": 5935937,
     "sourceId": 9828230,
     "sourceType": "datasetVersion"
    },
    {
     "datasetId": 6123513,
     "sourceId": 9956472,
     "sourceType": "datasetVersion"
    },
    {
     "sourceId": 204129443,
     "sourceType": "kernelVersion"
    },
    {
     "sourceId": 205653461,
     "sourceType": "kernelVersion"
    },
    {
     "sourceId": 207864204,
     "sourceType": "kernelVersion"
    }
   ],
   "dockerImageVersionId": 30787,
   "isGpuEnabled": true,
   "isInternetEnabled": true,
   "language": "python",
   "sourceType": "notebook"
  },
  "kernelspec": {
   "display_name": "Python 3",
   "language": "python",
   "name": "python3"
  },
  "language_info": {
   "codemirror_mode": {
    "name": "ipython",
    "version": 3
   },
   "file_extension": ".py",
   "mimetype": "text/x-python",
   "name": "python",
   "nbconvert_exporter": "python",
   "pygments_lexer": "ipython3",
   "version": "3.10.14"
  },
  "papermill": {
   "default_parameters": {},
   "duration": 4730.447715,
   "end_time": "2024-11-23T04:44:25.187484",
   "environment_variables": {},
   "exception": null,
   "input_path": "__notebook__.ipynb",
   "output_path": "__notebook__.ipynb",
   "parameters": {},
   "start_time": "2024-11-23T03:25:34.739769",
   "version": "2.6.0"
  },
  "widgets": {
   "application/vnd.jupyter.widget-state+json": {
    "state": {
     "0a1dac3cc76e492d996cf7b781cdca78": {
      "model_module": "@jupyter-widgets/controls",
      "model_module_version": "1.5.0",
      "model_name": "DescriptionStyleModel",
      "state": {
       "_model_module": "@jupyter-widgets/controls",
       "_model_module_version": "1.5.0",
       "_model_name": "DescriptionStyleModel",
       "_view_count": null,
       "_view_module": "@jupyter-widgets/base",
       "_view_module_version": "1.2.0",
       "_view_name": "StyleView",
       "description_width": ""
      }
     },
     "18d340a7689440548b85fc4cfeeaa6c6": {
      "model_module": "@jupyter-widgets/controls",
      "model_module_version": "1.5.0",
      "model_name": "ProgressStyleModel",
      "state": {
       "_model_module": "@jupyter-widgets/controls",
       "_model_module_version": "1.5.0",
       "_model_name": "ProgressStyleModel",
       "_view_count": null,
       "_view_module": "@jupyter-widgets/base",
       "_view_module_version": "1.2.0",
       "_view_name": "StyleView",
       "bar_color": null,
       "description_width": ""
      }
     },
     "4e25bda6fd9a4a1ebc6dd00620b837ee": {
      "model_module": "@jupyter-widgets/controls",
      "model_module_version": "1.5.0",
      "model_name": "DescriptionStyleModel",
      "state": {
       "_model_module": "@jupyter-widgets/controls",
       "_model_module_version": "1.5.0",
       "_model_name": "DescriptionStyleModel",
       "_view_count": null,
       "_view_module": "@jupyter-widgets/base",
       "_view_module_version": "1.2.0",
       "_view_name": "StyleView",
       "description_width": ""
      }
     },
     "5d643458bc024895a8b2a2445d6c0b65": {
      "model_module": "@jupyter-widgets/controls",
      "model_module_version": "1.5.0",
      "model_name": "HTMLModel",
      "state": {
       "_dom_classes": [],
       "_model_module": "@jupyter-widgets/controls",
       "_model_module_version": "1.5.0",
       "_model_name": "HTMLModel",
       "_view_count": null,
       "_view_module": "@jupyter-widgets/controls",
       "_view_module_version": "1.5.0",
       "_view_name": "HTMLView",
       "description": "",
       "description_tooltip": null,
       "layout": "IPY_MODEL_e96b77e34a5c46ca918efe8582e14cac",
       "placeholder": "​",
       "style": "IPY_MODEL_4e25bda6fd9a4a1ebc6dd00620b837ee",
       "value": "model.safetensors: 100%"
      }
     },
     "70f31206dca64000b6b4d716db1d78f4": {
      "model_module": "@jupyter-widgets/base",
      "model_module_version": "1.2.0",
      "model_name": "LayoutModel",
      "state": {
       "_model_module": "@jupyter-widgets/base",
       "_model_module_version": "1.2.0",
       "_model_name": "LayoutModel",
       "_view_count": null,
       "_view_module": "@jupyter-widgets/base",
       "_view_module_version": "1.2.0",
       "_view_name": "LayoutView",
       "align_content": null,
       "align_items": null,
       "align_self": null,
       "border": null,
       "bottom": null,
       "display": null,
       "flex": null,
       "flex_flow": null,
       "grid_area": null,
       "grid_auto_columns": null,
       "grid_auto_flow": null,
       "grid_auto_rows": null,
       "grid_column": null,
       "grid_gap": null,
       "grid_row": null,
       "grid_template_areas": null,
       "grid_template_columns": null,
       "grid_template_rows": null,
       "height": null,
       "justify_content": null,
       "justify_items": null,
       "left": null,
       "margin": null,
       "max_height": null,
       "max_width": null,
       "min_height": null,
       "min_width": null,
       "object_fit": null,
       "object_position": null,
       "order": null,
       "overflow": null,
       "overflow_x": null,
       "overflow_y": null,
       "padding": null,
       "right": null,
       "top": null,
       "visibility": null,
       "width": null
      }
     },
     "8136bc1d39364648bfd7f5e556a56df1": {
      "model_module": "@jupyter-widgets/base",
      "model_module_version": "1.2.0",
      "model_name": "LayoutModel",
      "state": {
       "_model_module": "@jupyter-widgets/base",
       "_model_module_version": "1.2.0",
       "_model_name": "LayoutModel",
       "_view_count": null,
       "_view_module": "@jupyter-widgets/base",
       "_view_module_version": "1.2.0",
       "_view_name": "LayoutView",
       "align_content": null,
       "align_items": null,
       "align_self": null,
       "border": null,
       "bottom": null,
       "display": null,
       "flex": null,
       "flex_flow": null,
       "grid_area": null,
       "grid_auto_columns": null,
       "grid_auto_flow": null,
       "grid_auto_rows": null,
       "grid_column": null,
       "grid_gap": null,
       "grid_row": null,
       "grid_template_areas": null,
       "grid_template_columns": null,
       "grid_template_rows": null,
       "height": null,
       "justify_content": null,
       "justify_items": null,
       "left": null,
       "margin": null,
       "max_height": null,
       "max_width": null,
       "min_height": null,
       "min_width": null,
       "object_fit": null,
       "object_position": null,
       "order": null,
       "overflow": null,
       "overflow_x": null,
       "overflow_y": null,
       "padding": null,
       "right": null,
       "top": null,
       "visibility": null,
       "width": null
      }
     },
     "a628e491e7b040be94af55dfb944d9d1": {
      "model_module": "@jupyter-widgets/controls",
      "model_module_version": "1.5.0",
      "model_name": "HTMLModel",
      "state": {
       "_dom_classes": [],
       "_model_module": "@jupyter-widgets/controls",
       "_model_module_version": "1.5.0",
       "_model_name": "HTMLModel",
       "_view_count": null,
       "_view_module": "@jupyter-widgets/controls",
       "_view_module_version": "1.5.0",
       "_view_name": "HTMLView",
       "description": "",
       "description_tooltip": null,
       "layout": "IPY_MODEL_ba94e949515b4f71973957f84e0c1ffc",
       "placeholder": "​",
       "style": "IPY_MODEL_0a1dac3cc76e492d996cf7b781cdca78",
       "value": " 46.8M/46.8M [00:00&lt;00:00, 139MB/s]"
      }
     },
     "ba94e949515b4f71973957f84e0c1ffc": {
      "model_module": "@jupyter-widgets/base",
      "model_module_version": "1.2.0",
      "model_name": "LayoutModel",
      "state": {
       "_model_module": "@jupyter-widgets/base",
       "_model_module_version": "1.2.0",
       "_model_name": "LayoutModel",
       "_view_count": null,
       "_view_module": "@jupyter-widgets/base",
       "_view_module_version": "1.2.0",
       "_view_name": "LayoutView",
       "align_content": null,
       "align_items": null,
       "align_self": null,
       "border": null,
       "bottom": null,
       "display": null,
       "flex": null,
       "flex_flow": null,
       "grid_area": null,
       "grid_auto_columns": null,
       "grid_auto_flow": null,
       "grid_auto_rows": null,
       "grid_column": null,
       "grid_gap": null,
       "grid_row": null,
       "grid_template_areas": null,
       "grid_template_columns": null,
       "grid_template_rows": null,
       "height": null,
       "justify_content": null,
       "justify_items": null,
       "left": null,
       "margin": null,
       "max_height": null,
       "max_width": null,
       "min_height": null,
       "min_width": null,
       "object_fit": null,
       "object_position": null,
       "order": null,
       "overflow": null,
       "overflow_x": null,
       "overflow_y": null,
       "padding": null,
       "right": null,
       "top": null,
       "visibility": null,
       "width": null
      }
     },
     "c35bf5f5d09d47d59bdcf8cdbf402cb8": {
      "model_module": "@jupyter-widgets/controls",
      "model_module_version": "1.5.0",
      "model_name": "FloatProgressModel",
      "state": {
       "_dom_classes": [],
       "_model_module": "@jupyter-widgets/controls",
       "_model_module_version": "1.5.0",
       "_model_name": "FloatProgressModel",
       "_view_count": null,
       "_view_module": "@jupyter-widgets/controls",
       "_view_module_version": "1.5.0",
       "_view_name": "ProgressView",
       "bar_style": "success",
       "description": "",
       "description_tooltip": null,
       "layout": "IPY_MODEL_8136bc1d39364648bfd7f5e556a56df1",
       "max": 46807446.0,
       "min": 0.0,
       "orientation": "horizontal",
       "style": "IPY_MODEL_18d340a7689440548b85fc4cfeeaa6c6",
       "value": 46807446.0
      }
     },
     "e96b77e34a5c46ca918efe8582e14cac": {
      "model_module": "@jupyter-widgets/base",
      "model_module_version": "1.2.0",
      "model_name": "LayoutModel",
      "state": {
       "_model_module": "@jupyter-widgets/base",
       "_model_module_version": "1.2.0",
       "_model_name": "LayoutModel",
       "_view_count": null,
       "_view_module": "@jupyter-widgets/base",
       "_view_module_version": "1.2.0",
       "_view_name": "LayoutView",
       "align_content": null,
       "align_items": null,
       "align_self": null,
       "border": null,
       "bottom": null,
       "display": null,
       "flex": null,
       "flex_flow": null,
       "grid_area": null,
       "grid_auto_columns": null,
       "grid_auto_flow": null,
       "grid_auto_rows": null,
       "grid_column": null,
       "grid_gap": null,
       "grid_row": null,
       "grid_template_areas": null,
       "grid_template_columns": null,
       "grid_template_rows": null,
       "height": null,
       "justify_content": null,
       "justify_items": null,
       "left": null,
       "margin": null,
       "max_height": null,
       "max_width": null,
       "min_height": null,
       "min_width": null,
       "object_fit": null,
       "object_position": null,
       "order": null,
       "overflow": null,
       "overflow_x": null,
       "overflow_y": null,
       "padding": null,
       "right": null,
       "top": null,
       "visibility": null,
       "width": null
      }
     },
     "fa5f854536af4655977afddfd6d172ba": {
      "model_module": "@jupyter-widgets/controls",
      "model_module_version": "1.5.0",
      "model_name": "HBoxModel",
      "state": {
       "_dom_classes": [],
       "_model_module": "@jupyter-widgets/controls",
       "_model_module_version": "1.5.0",
       "_model_name": "HBoxModel",
       "_view_count": null,
       "_view_module": "@jupyter-widgets/controls",
       "_view_module_version": "1.5.0",
       "_view_name": "HBoxView",
       "box_style": "",
       "children": [
        "IPY_MODEL_5d643458bc024895a8b2a2445d6c0b65",
        "IPY_MODEL_c35bf5f5d09d47d59bdcf8cdbf402cb8",
        "IPY_MODEL_a628e491e7b040be94af55dfb944d9d1"
       ],
       "layout": "IPY_MODEL_70f31206dca64000b6b4d716db1d78f4"
      }
     }
    },
    "version_major": 2,
    "version_minor": 0
   }
  }
 },
 "nbformat": 4,
 "nbformat_minor": 5
}
