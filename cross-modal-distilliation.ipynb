{
 "cells": [
  {
   "cell_type": "code",
   "execution_count": 1,
   "id": "4df489d1",
   "metadata": {
    "_cell_guid": "b1076dfc-b9ad-4769-8c92-a6c4dae69d19",
    "_uuid": "8f2839f25d086af736a60e9eeb907d3b93b6e0e5",
    "execution": {
     "iopub.execute_input": "2024-11-23T20:22:37.590559Z",
     "iopub.status.busy": "2024-11-23T20:22:37.589824Z",
     "iopub.status.idle": "2024-11-23T20:22:50.466167Z",
     "shell.execute_reply": "2024-11-23T20:22:50.465287Z"
    },
    "papermill": {
     "duration": 12.887183,
     "end_time": "2024-11-23T20:22:50.468424",
     "exception": false,
     "start_time": "2024-11-23T20:22:37.581241",
     "status": "completed"
    },
    "tags": []
   },
   "outputs": [
    {
     "name": "stdout",
     "output_type": "stream",
     "text": [
      "Collecting git+https://github.com/openai/CLIP.git\r\n",
      "  Cloning https://github.com/openai/CLIP.git to /tmp/pip-req-build-xujspj4m\r\n",
      "  Running command git clone --filter=blob:none --quiet https://github.com/openai/CLIP.git /tmp/pip-req-build-xujspj4m\r\n",
      "  Resolved https://github.com/openai/CLIP.git to commit dcba3cb2e2827b402d2701e7e1c7d9fed8a20ef1\r\n",
      "  Preparing metadata (setup.py) ... \u001b[?25l-\b \bdone\r\n",
      "\u001b[?25hCollecting ftfy (from clip==1.0)\r\n",
      "  Downloading ftfy-6.3.1-py3-none-any.whl.metadata (7.3 kB)\r\n",
      "Requirement already satisfied: packaging in /opt/conda/lib/python3.10/site-packages (from clip==1.0) (21.3)\r\n",
      "Requirement already satisfied: regex in /opt/conda/lib/python3.10/site-packages (from clip==1.0) (2024.5.15)\r\n",
      "Requirement already satisfied: tqdm in /opt/conda/lib/python3.10/site-packages (from clip==1.0) (4.66.4)\r\n",
      "Requirement already satisfied: torch in /opt/conda/lib/python3.10/site-packages (from clip==1.0) (2.4.0)\r\n",
      "Requirement already satisfied: torchvision in /opt/conda/lib/python3.10/site-packages (from clip==1.0) (0.19.0)\r\n",
      "Requirement already satisfied: wcwidth in /opt/conda/lib/python3.10/site-packages (from ftfy->clip==1.0) (0.2.13)\r\n",
      "Requirement already satisfied: pyparsing!=3.0.5,>=2.0.2 in /opt/conda/lib/python3.10/site-packages (from packaging->clip==1.0) (3.1.2)\r\n",
      "Requirement already satisfied: filelock in /opt/conda/lib/python3.10/site-packages (from torch->clip==1.0) (3.15.1)\r\n",
      "Requirement already satisfied: typing-extensions>=4.8.0 in /opt/conda/lib/python3.10/site-packages (from torch->clip==1.0) (4.12.2)\r\n",
      "Requirement already satisfied: sympy in /opt/conda/lib/python3.10/site-packages (from torch->clip==1.0) (1.13.3)\r\n",
      "Requirement already satisfied: networkx in /opt/conda/lib/python3.10/site-packages (from torch->clip==1.0) (3.3)\r\n",
      "Requirement already satisfied: jinja2 in /opt/conda/lib/python3.10/site-packages (from torch->clip==1.0) (3.1.4)\r\n",
      "Requirement already satisfied: fsspec in /opt/conda/lib/python3.10/site-packages (from torch->clip==1.0) (2024.6.1)\r\n",
      "Requirement already satisfied: numpy in /opt/conda/lib/python3.10/site-packages (from torchvision->clip==1.0) (1.26.4)\r\n",
      "Requirement already satisfied: pillow!=8.3.*,>=5.3.0 in /opt/conda/lib/python3.10/site-packages (from torchvision->clip==1.0) (10.3.0)\r\n",
      "Requirement already satisfied: MarkupSafe>=2.0 in /opt/conda/lib/python3.10/site-packages (from jinja2->torch->clip==1.0) (2.1.5)\r\n",
      "Requirement already satisfied: mpmath<1.4,>=1.1.0 in /opt/conda/lib/python3.10/site-packages (from sympy->torch->clip==1.0) (1.3.0)\r\n",
      "Downloading ftfy-6.3.1-py3-none-any.whl (44 kB)\r\n",
      "\u001b[2K   \u001b[90m━━━━━━━━━━━━━━━━━━━━━━━━━━━━━━━━━━━━━━━━\u001b[0m \u001b[32m44.8/44.8 kB\u001b[0m \u001b[31m2.1 MB/s\u001b[0m eta \u001b[36m0:00:00\u001b[0m\r\n",
      "\u001b[?25hBuilding wheels for collected packages: clip\r\n",
      "  Building wheel for clip (setup.py) ... \u001b[?25l-\b \b\\\b \bdone\r\n",
      "\u001b[?25h  Created wheel for clip: filename=clip-1.0-py3-none-any.whl size=1369490 sha256=07249178bfa94b37664b4e83d1e2a0de9df503a17ed605a45d4f45be1b9363e8\r\n",
      "  Stored in directory: /tmp/pip-ephem-wheel-cache-8qallekj/wheels/da/2b/4c/d6691fa9597aac8bb85d2ac13b112deb897d5b50f5ad9a37e4\r\n",
      "Successfully built clip\r\n",
      "Installing collected packages: ftfy, clip\r\n",
      "Successfully installed clip-1.0 ftfy-6.3.1\r\n"
     ]
    }
   ],
   "source": [
    "!pip install git+https://github.com/openai/CLIP.git"
   ]
  },
  {
   "cell_type": "code",
   "execution_count": 2,
   "id": "d671640e",
   "metadata": {
    "execution": {
     "iopub.execute_input": "2024-11-23T20:22:50.485103Z",
     "iopub.status.busy": "2024-11-23T20:22:50.484817Z",
     "iopub.status.idle": "2024-11-23T20:23:00.356018Z",
     "shell.execute_reply": "2024-11-23T20:23:00.354871Z"
    },
    "papermill": {
     "duration": 9.881092,
     "end_time": "2024-11-23T20:23:00.357917",
     "exception": false,
     "start_time": "2024-11-23T20:22:50.476825",
     "status": "completed"
    },
    "tags": []
   },
   "outputs": [
    {
     "name": "stdout",
     "output_type": "stream",
     "text": [
      "Requirement already satisfied: albumentations in /opt/conda/lib/python3.10/site-packages (1.4.17)\r\n",
      "Collecting albumentations\r\n",
      "  Downloading albumentations-1.4.21-py3-none-any.whl.metadata (31 kB)\r\n",
      "Requirement already satisfied: numpy>=1.24.4 in /opt/conda/lib/python3.10/site-packages (from albumentations) (1.26.4)\r\n",
      "Requirement already satisfied: scipy>=1.10.0 in /opt/conda/lib/python3.10/site-packages (from albumentations) (1.14.1)\r\n",
      "Requirement already satisfied: PyYAML in /opt/conda/lib/python3.10/site-packages (from albumentations) (6.0.2)\r\n",
      "Requirement already satisfied: pydantic>=2.7.0 in /opt/conda/lib/python3.10/site-packages (from albumentations) (2.9.2)\r\n",
      "Collecting albucore==0.0.20 (from albumentations)\r\n",
      "  Downloading albucore-0.0.20-py3-none-any.whl.metadata (5.3 kB)\r\n",
      "Requirement already satisfied: eval-type-backport in /opt/conda/lib/python3.10/site-packages (from albumentations) (0.2.0)\r\n",
      "Requirement already satisfied: opencv-python-headless>=4.9.0.80 in /opt/conda/lib/python3.10/site-packages (from albumentations) (4.10.0.84)\r\n",
      "Collecting stringzilla>=3.10.4 (from albucore==0.0.20->albumentations)\r\n",
      "  Downloading stringzilla-3.10.10-cp310-cp310-manylinux_2_5_x86_64.manylinux1_x86_64.manylinux_2_28_x86_64.whl.metadata (79 kB)\r\n",
      "\u001b[2K     \u001b[90m━━━━━━━━━━━━━━━━━━━━━━━━━━━━━━━━━━━━━━━━\u001b[0m \u001b[32m79.9/79.9 kB\u001b[0m \u001b[31m3.3 MB/s\u001b[0m eta \u001b[36m0:00:00\u001b[0m\r\n",
      "\u001b[?25hCollecting simsimd>=5.9.2 (from albucore==0.0.20->albumentations)\r\n",
      "  Downloading simsimd-6.1.1-cp310-cp310-manylinux_2_28_x86_64.whl.metadata (58 kB)\r\n",
      "\u001b[2K     \u001b[90m━━━━━━━━━━━━━━━━━━━━━━━━━━━━━━━━━━━━━━━━\u001b[0m \u001b[32m58.4/58.4 kB\u001b[0m \u001b[31m4.3 MB/s\u001b[0m eta \u001b[36m0:00:00\u001b[0m\r\n",
      "\u001b[?25hRequirement already satisfied: annotated-types>=0.6.0 in /opt/conda/lib/python3.10/site-packages (from pydantic>=2.7.0->albumentations) (0.7.0)\r\n",
      "Requirement already satisfied: pydantic-core==2.23.4 in /opt/conda/lib/python3.10/site-packages (from pydantic>=2.7.0->albumentations) (2.23.4)\r\n",
      "Requirement already satisfied: typing-extensions>=4.6.1 in /opt/conda/lib/python3.10/site-packages (from pydantic>=2.7.0->albumentations) (4.12.2)\r\n",
      "Downloading albumentations-1.4.21-py3-none-any.whl (227 kB)\r\n",
      "\u001b[2K   \u001b[90m━━━━━━━━━━━━━━━━━━━━━━━━━━━━━━━━━━━━━━━━\u001b[0m \u001b[32m227.9/227.9 kB\u001b[0m \u001b[31m10.6 MB/s\u001b[0m eta \u001b[36m0:00:00\u001b[0m\r\n",
      "\u001b[?25hDownloading albucore-0.0.20-py3-none-any.whl (12 kB)\r\n",
      "Downloading simsimd-6.1.1-cp310-cp310-manylinux_2_28_x86_64.whl (606 kB)\r\n",
      "\u001b[2K   \u001b[90m━━━━━━━━━━━━━━━━━━━━━━━━━━━━━━━━━━━━━━━━\u001b[0m \u001b[32m606.4/606.4 kB\u001b[0m \u001b[31m24.2 MB/s\u001b[0m eta \u001b[36m0:00:00\u001b[0m\r\n",
      "\u001b[?25hDownloading stringzilla-3.10.10-cp310-cp310-manylinux_2_5_x86_64.manylinux1_x86_64.manylinux_2_28_x86_64.whl (291 kB)\r\n",
      "\u001b[2K   \u001b[90m━━━━━━━━━━━━━━━━━━━━━━━━━━━━━━━━━━━━━━━━\u001b[0m \u001b[32m291.7/291.7 kB\u001b[0m \u001b[31m23.2 MB/s\u001b[0m eta \u001b[36m0:00:00\u001b[0m\r\n",
      "\u001b[?25hInstalling collected packages: stringzilla, simsimd, albucore, albumentations\r\n",
      "  Attempting uninstall: albucore\r\n",
      "    Found existing installation: albucore 0.0.17\r\n",
      "    Uninstalling albucore-0.0.17:\r\n",
      "      Successfully uninstalled albucore-0.0.17\r\n",
      "  Attempting uninstall: albumentations\r\n",
      "    Found existing installation: albumentations 1.4.17\r\n",
      "    Uninstalling albumentations-1.4.17:\r\n",
      "      Successfully uninstalled albumentations-1.4.17\r\n",
      "Successfully installed albucore-0.0.20 albumentations-1.4.21 simsimd-6.1.1 stringzilla-3.10.10\r\n",
      "Note: you may need to restart the kernel to use updated packages.\n"
     ]
    }
   ],
   "source": [
    "pip install -U albumentations"
   ]
  },
  {
   "cell_type": "markdown",
   "id": "c6b22a77",
   "metadata": {
    "papermill": {
     "duration": 0.007506,
     "end_time": "2024-11-23T20:23:00.373288",
     "exception": false,
     "start_time": "2024-11-23T20:23:00.365782",
     "status": "completed"
    },
    "tags": []
   },
   "source": [
    "# Import"
   ]
  },
  {
   "cell_type": "code",
   "execution_count": 3,
   "id": "8341770a",
   "metadata": {
    "execution": {
     "iopub.execute_input": "2024-11-23T20:23:00.390023Z",
     "iopub.status.busy": "2024-11-23T20:23:00.389759Z",
     "iopub.status.idle": "2024-11-23T20:23:08.780697Z",
     "shell.execute_reply": "2024-11-23T20:23:08.779914Z"
    },
    "papermill": {
     "duration": 8.401659,
     "end_time": "2024-11-23T20:23:08.782626",
     "exception": false,
     "start_time": "2024-11-23T20:23:00.380967",
     "status": "completed"
    },
    "tags": []
   },
   "outputs": [],
   "source": [
    "import os\n",
    "\n",
    "import gc\n",
    "\n",
    "import sys\n",
    "\n",
    "from PIL import Image\n",
    "\n",
    "import cv2\n",
    "\n",
    "import math, random\n",
    "\n",
    "import numpy as np\n",
    "\n",
    "import pandas as pd\n",
    "\n",
    "from glob import glob\n",
    "\n",
    "from tqdm import tqdm\n",
    "\n",
    "import matplotlib.pyplot as plt\n",
    "\n",
    "from sklearn.model_selection import KFold, GroupKFold, StratifiedKFold\n",
    "\n",
    "\n",
    "\n",
    "from collections import OrderedDict\n",
    "\n",
    "\n",
    "\n",
    "import torch\n",
    "\n",
    "import torch.nn.functional as F\n",
    "\n",
    "from torch import nn\n",
    "\n",
    "from torch.utils.data import DataLoader, Dataset\n",
    "\n",
    "from torch.optim import AdamW\n",
    "\n",
    "\n",
    "\n",
    "import timm\n",
    "\n",
    "from transformers import get_cosine_schedule_with_warmup\n",
    "\n",
    "\n",
    "\n",
    "import albumentations as A\n",
    "\n",
    "from sklearn.preprocessing import LabelEncoder\n",
    "\n",
    "import clip\n",
    "\n",
    "\n",
    "\n",
    "from torch.cuda.amp import autocast, GradScaler\n",
    "\n",
    "from torch.utils.data import DataLoader\n",
    "\n",
    "import wandb\n",
    "\n",
    "from tqdm import tqdm"
   ]
  },
  {
   "cell_type": "code",
   "execution_count": 4,
   "id": "09ce250f",
   "metadata": {
    "execution": {
     "iopub.execute_input": "2024-11-23T20:23:08.799433Z",
     "iopub.status.busy": "2024-11-23T20:23:08.798982Z",
     "iopub.status.idle": "2024-11-23T20:23:08.805959Z",
     "shell.execute_reply": "2024-11-23T20:23:08.805247Z"
    },
    "papermill": {
     "duration": 0.016879,
     "end_time": "2024-11-23T20:23:08.807514",
     "exception": false,
     "start_time": "2024-11-23T20:23:08.790635",
     "status": "completed"
    },
    "tags": []
   },
   "outputs": [],
   "source": [
    "device = 'cuda:0' if torch.cuda.is_available() else 'cpu'\n",
    "\n",
    "DEBUG = False\n",
    "\n",
    "N_WORKERS = os.cpu_count() \n",
    "\n",
    "USE_AMP = False # can change True if using T4 or newer than Ampere\n",
    "\n",
    "SEED = 42\n",
    "\n",
    "CLIP_MODEL_NAME = \"RN101\"\n",
    "\n",
    "IMG_SIZE = [224, 224]\n",
    "\n",
    "AUG_PROB = 0.2\n",
    "\n",
    "BATCH_SIZE = 64\n",
    "\n",
    "EPOCHS = 5\n",
    "\n",
    "if DEBUG:\n",
    "\n",
    "    EPOCHS = 3\n",
    "\n",
    "GRAD_ACC = 1\n",
    "\n",
    "N_FOLDS = 5\n",
    "\n",
    "MAX_GRAD_NORM = None\n",
    "\n",
    "EARLY_STOPPING_EPOCH = 3\n",
    "\n",
    "OUTPUT_DIR = f'clip_landmark_results'"
   ]
  },
  {
   "cell_type": "code",
   "execution_count": 5,
   "id": "4a4c9865",
   "metadata": {
    "execution": {
     "iopub.execute_input": "2024-11-23T20:23:08.823950Z",
     "iopub.status.busy": "2024-11-23T20:23:08.823706Z",
     "iopub.status.idle": "2024-11-23T20:23:08.827259Z",
     "shell.execute_reply": "2024-11-23T20:23:08.826581Z"
    },
    "papermill": {
     "duration": 0.013344,
     "end_time": "2024-11-23T20:23:08.828810",
     "exception": false,
     "start_time": "2024-11-23T20:23:08.815466",
     "status": "completed"
    },
    "tags": []
   },
   "outputs": [],
   "source": [
    "os.makedirs(OUTPUT_DIR, exist_ok=True)"
   ]
  },
  {
   "cell_type": "code",
   "execution_count": 6,
   "id": "97ff9838",
   "metadata": {
    "execution": {
     "iopub.execute_input": "2024-11-23T20:23:08.844637Z",
     "iopub.status.busy": "2024-11-23T20:23:08.844390Z",
     "iopub.status.idle": "2024-11-23T20:23:09.846684Z",
     "shell.execute_reply": "2024-11-23T20:23:09.845725Z"
    },
    "papermill": {
     "duration": 1.012878,
     "end_time": "2024-11-23T20:23:09.849103",
     "exception": false,
     "start_time": "2024-11-23T20:23:08.836225",
     "status": "completed"
    },
    "tags": []
   },
   "outputs": [
    {
     "data": {
      "text/html": [
       "<div>\n",
       "<style scoped>\n",
       "    .dataframe tbody tr th:only-of-type {\n",
       "        vertical-align: middle;\n",
       "    }\n",
       "\n",
       "    .dataframe tbody tr th {\n",
       "        vertical-align: top;\n",
       "    }\n",
       "\n",
       "    .dataframe thead th {\n",
       "        text-align: right;\n",
       "    }\n",
       "</style>\n",
       "<table border=\"1\" class=\"dataframe\">\n",
       "  <thead>\n",
       "    <tr style=\"text-align: right;\">\n",
       "      <th></th>\n",
       "      <th>id</th>\n",
       "      <th>landmark_id</th>\n",
       "      <th>category</th>\n",
       "      <th>supercategory</th>\n",
       "      <th>hierarchical_label</th>\n",
       "      <th>natural_or_human_made</th>\n",
       "      <th>cleaned_supercategory</th>\n",
       "      <th>location</th>\n",
       "      <th>country</th>\n",
       "      <th>image_path</th>\n",
       "      <th>landmark_name</th>\n",
       "    </tr>\n",
       "  </thead>\n",
       "  <tbody>\n",
       "    <tr>\n",
       "      <th>0</th>\n",
       "      <td>87a5dfadcaeba144</td>\n",
       "      <td>93036</td>\n",
       "      <td>http://commons.wikimedia.org/wiki/Category:Nav...</td>\n",
       "      <td>naval base</td>\n",
       "      <td>harbor</td>\n",
       "      <td>human-made</td>\n",
       "      <td>naval base</td>\n",
       "      <td>Guantánamo Province , Cuba</td>\n",
       "      <td>Cuba</td>\n",
       "      <td>/kaggle/input/google-landmarks-v2-index-set-p3...</td>\n",
       "      <td>Naval Station Guantanamo Bay</td>\n",
       "    </tr>\n",
       "    <tr>\n",
       "      <th>1</th>\n",
       "      <td>53824bfa2b3e569c</td>\n",
       "      <td>93036</td>\n",
       "      <td>http://commons.wikimedia.org/wiki/Category:Nav...</td>\n",
       "      <td>naval base</td>\n",
       "      <td>harbor</td>\n",
       "      <td>human-made</td>\n",
       "      <td>naval base</td>\n",
       "      <td>Guantánamo Province , Cuba</td>\n",
       "      <td>Cuba</td>\n",
       "      <td>/kaggle/input/google-landmarks-v2-index-set-p2...</td>\n",
       "      <td>Naval Station Guantanamo Bay</td>\n",
       "    </tr>\n",
       "    <tr>\n",
       "      <th>2</th>\n",
       "      <td>080a99cff9666667</td>\n",
       "      <td>93036</td>\n",
       "      <td>http://commons.wikimedia.org/wiki/Category:Nav...</td>\n",
       "      <td>naval base</td>\n",
       "      <td>harbor</td>\n",
       "      <td>human-made</td>\n",
       "      <td>naval base</td>\n",
       "      <td>Guantánamo Province , Cuba</td>\n",
       "      <td>Cuba</td>\n",
       "      <td>/kaggle/input/google-landmarks-v2-index-set-p1...</td>\n",
       "      <td>Naval Station Guantanamo Bay</td>\n",
       "    </tr>\n",
       "    <tr>\n",
       "      <th>3</th>\n",
       "      <td>b86710311289fa90</td>\n",
       "      <td>93036</td>\n",
       "      <td>http://commons.wikimedia.org/wiki/Category:Nav...</td>\n",
       "      <td>naval base</td>\n",
       "      <td>harbor</td>\n",
       "      <td>human-made</td>\n",
       "      <td>naval base</td>\n",
       "      <td>Guantánamo Province , Cuba</td>\n",
       "      <td>Cuba</td>\n",
       "      <td>/kaggle/input/google-landmarks-v2-index-set-p4...</td>\n",
       "      <td>Naval Station Guantanamo Bay</td>\n",
       "    </tr>\n",
       "    <tr>\n",
       "      <th>4</th>\n",
       "      <td>5554c986662c2587</td>\n",
       "      <td>93036</td>\n",
       "      <td>http://commons.wikimedia.org/wiki/Category:Nav...</td>\n",
       "      <td>naval base</td>\n",
       "      <td>harbor</td>\n",
       "      <td>human-made</td>\n",
       "      <td>naval base</td>\n",
       "      <td>Guantánamo Province , Cuba</td>\n",
       "      <td>Cuba</td>\n",
       "      <td>/kaggle/input/google-landmarks-v2-index-set-p2...</td>\n",
       "      <td>Naval Station Guantanamo Bay</td>\n",
       "    </tr>\n",
       "  </tbody>\n",
       "</table>\n",
       "</div>"
      ],
      "text/plain": [
       "                 id  landmark_id  \\\n",
       "0  87a5dfadcaeba144        93036   \n",
       "1  53824bfa2b3e569c        93036   \n",
       "2  080a99cff9666667        93036   \n",
       "3  b86710311289fa90        93036   \n",
       "4  5554c986662c2587        93036   \n",
       "\n",
       "                                            category supercategory  \\\n",
       "0  http://commons.wikimedia.org/wiki/Category:Nav...    naval base   \n",
       "1  http://commons.wikimedia.org/wiki/Category:Nav...    naval base   \n",
       "2  http://commons.wikimedia.org/wiki/Category:Nav...    naval base   \n",
       "3  http://commons.wikimedia.org/wiki/Category:Nav...    naval base   \n",
       "4  http://commons.wikimedia.org/wiki/Category:Nav...    naval base   \n",
       "\n",
       "  hierarchical_label natural_or_human_made cleaned_supercategory  \\\n",
       "0             harbor            human-made            naval base   \n",
       "1             harbor            human-made            naval base   \n",
       "2             harbor            human-made            naval base   \n",
       "3             harbor            human-made            naval base   \n",
       "4             harbor            human-made            naval base   \n",
       "\n",
       "                     location country  \\\n",
       "0  Guantánamo Province , Cuba    Cuba   \n",
       "1  Guantánamo Province , Cuba    Cuba   \n",
       "2  Guantánamo Province , Cuba    Cuba   \n",
       "3  Guantánamo Province , Cuba    Cuba   \n",
       "4  Guantánamo Province , Cuba    Cuba   \n",
       "\n",
       "                                          image_path  \\\n",
       "0  /kaggle/input/google-landmarks-v2-index-set-p3...   \n",
       "1  /kaggle/input/google-landmarks-v2-index-set-p2...   \n",
       "2  /kaggle/input/google-landmarks-v2-index-set-p1...   \n",
       "3  /kaggle/input/google-landmarks-v2-index-set-p4...   \n",
       "4  /kaggle/input/google-landmarks-v2-index-set-p2...   \n",
       "\n",
       "                  landmark_name  \n",
       "0  Naval Station Guantanamo Bay  \n",
       "1  Naval Station Guantanamo Bay  \n",
       "2  Naval Station Guantanamo Bay  \n",
       "3  Naval Station Guantanamo Bay  \n",
       "4  Naval Station Guantanamo Bay  "
      ]
     },
     "execution_count": 6,
     "metadata": {},
     "output_type": "execute_result"
    }
   ],
   "source": [
    "train_df = pd.read_csv(\"/kaggle/input/google-landmarks-v2-index-subset-metadata/cleaned_landmark_index_subset_150k_with_locations_v4.csv\")\n",
    "\n",
    "if DEBUG:\n",
    "\n",
    "    # Reduce to 1000 samples for quick debugging\n",
    "\n",
    "    train_df = train_df.sample(1000, random_state=42).reset_index(drop=True)\n",
    "\n",
    "train_df.head()"
   ]
  },
  {
   "cell_type": "code",
   "execution_count": 7,
   "id": "190df26d",
   "metadata": {
    "execution": {
     "iopub.execute_input": "2024-11-23T20:23:09.866677Z",
     "iopub.status.busy": "2024-11-23T20:23:09.866409Z",
     "iopub.status.idle": "2024-11-23T20:23:09.891356Z",
     "shell.execute_reply": "2024-11-23T20:23:09.890782Z"
    },
    "papermill": {
     "duration": 0.035137,
     "end_time": "2024-11-23T20:23:09.893001",
     "exception": false,
     "start_time": "2024-11-23T20:23:09.857864",
     "status": "completed"
    },
    "tags": []
   },
   "outputs": [],
   "source": [
    "N_CLASSES = train_df.landmark_name.nunique()\n",
    "\n",
    "class_names = train_df.landmark_name.unique()"
   ]
  },
  {
   "cell_type": "code",
   "execution_count": 8,
   "id": "83fafb0f",
   "metadata": {
    "execution": {
     "iopub.execute_input": "2024-11-23T20:23:09.909282Z",
     "iopub.status.busy": "2024-11-23T20:23:09.909025Z",
     "iopub.status.idle": "2024-11-23T20:23:20.540912Z",
     "shell.execute_reply": "2024-11-23T20:23:20.539941Z"
    },
    "papermill": {
     "duration": 10.642257,
     "end_time": "2024-11-23T20:23:20.542924",
     "exception": false,
     "start_time": "2024-11-23T20:23:09.900667",
     "status": "completed"
    },
    "tags": []
   },
   "outputs": [
    {
     "name": "stderr",
     "output_type": "stream",
     "text": [
      "100%|███████████████████████████████████████| 278M/278M [00:03<00:00, 87.5MiB/s]\n"
     ]
    }
   ],
   "source": [
    "# Load CLIP model\n",
    "\n",
    "embedding_device = device\n",
    "\n",
    "model, _ = clip.load(CLIP_MODEL_NAME, device=embedding_device)\n",
    "\n",
    "\n",
    "\n",
    "# Define class names and tokenize\n",
    "\n",
    "text_prompts = [f\"A photo of {name} or its part\" for name in class_names]\n",
    "\n",
    "text_tokens = clip.tokenize(text_prompts).to(embedding_device)\n",
    "\n",
    "\n",
    "\n",
    "# Compute text embeddings\n",
    "\n",
    "with torch.no_grad():\n",
    "\n",
    "    text_embeddings = model.encode_text(text_tokens)\n",
    "\n",
    "text_embeddings = text_embeddings / text_embeddings.norm(dim=-1, keepdim=True)  # Normalize for cosine similarity\n",
    "\n",
    "text_embeddings = text_embeddings.float()\n",
    "torch.save(text_embeddings,'text_embeddings.pt')"
   ]
  },
  {
   "cell_type": "code",
   "execution_count": 9,
   "id": "f69002c5",
   "metadata": {
    "execution": {
     "iopub.execute_input": "2024-11-23T20:23:20.564212Z",
     "iopub.status.busy": "2024-11-23T20:23:20.563469Z",
     "iopub.status.idle": "2024-11-23T20:23:20.568858Z",
     "shell.execute_reply": "2024-11-23T20:23:20.568012Z"
    },
    "papermill": {
     "duration": 0.01757,
     "end_time": "2024-11-23T20:23:20.570496",
     "exception": false,
     "start_time": "2024-11-23T20:23:20.552926",
     "status": "completed"
    },
    "tags": []
   },
   "outputs": [
    {
     "data": {
      "text/plain": [
       "'text_embeddings = torch.load(\"/kaggle/input/text_embeddings/pytorch/default/1/text_embeddings.pt\", weights_only=True)'"
      ]
     },
     "execution_count": 9,
     "metadata": {},
     "output_type": "execute_result"
    }
   ],
   "source": [
    "\"\"\"text_embeddings = torch.load(\"/kaggle/input/text_embeddings/pytorch/default/1/text_embeddings.pt\", weights_only=True)\"\"\""
   ]
  },
  {
   "cell_type": "code",
   "execution_count": 10,
   "id": "5606a010",
   "metadata": {
    "execution": {
     "iopub.execute_input": "2024-11-23T20:23:20.590510Z",
     "iopub.status.busy": "2024-11-23T20:23:20.589960Z",
     "iopub.status.idle": "2024-11-23T20:23:20.594860Z",
     "shell.execute_reply": "2024-11-23T20:23:20.594065Z"
    },
    "papermill": {
     "duration": 0.016617,
     "end_time": "2024-11-23T20:23:20.596575",
     "exception": false,
     "start_time": "2024-11-23T20:23:20.579958",
     "status": "completed"
    },
    "tags": []
   },
   "outputs": [],
   "source": [
    "class_name_to_idx = {name: idx for idx, name in enumerate(class_names)}\n",
    "\n",
    "idx_to_class_name = {idx: class_name for class_name, idx in class_name_to_idx.items()}"
   ]
  },
  {
   "cell_type": "code",
   "execution_count": 11,
   "id": "f9028e90",
   "metadata": {
    "execution": {
     "iopub.execute_input": "2024-11-23T20:23:20.616807Z",
     "iopub.status.busy": "2024-11-23T20:23:20.616399Z",
     "iopub.status.idle": "2024-11-23T20:23:20.634262Z",
     "shell.execute_reply": "2024-11-23T20:23:20.633504Z"
    },
    "papermill": {
     "duration": 0.029976,
     "end_time": "2024-11-23T20:23:20.635925",
     "exception": false,
     "start_time": "2024-11-23T20:23:20.605949",
     "status": "completed"
    },
    "tags": []
   },
   "outputs": [
    {
     "name": "stderr",
     "output_type": "stream",
     "text": [
      "/opt/conda/lib/python3.10/site-packages/pydantic/main.py:212: UserWarning: blur_limit and sigma_limit minimum value can not be both equal to 0. blur_limit minimum value changed to 3.\n",
      "  validated_self = self.__pydantic_validator__.validate_python(data, self_instance=self)\n"
     ]
    }
   ],
   "source": [
    "transforms_train = A.Compose([\n",
    "\n",
    "    A.RandomBrightnessContrast(brightness_limit=(-0.2, 0.2), contrast_limit=(-0.2, 0.2), p=AUG_PROB),\n",
    "\n",
    "    A.OneOf([\n",
    "\n",
    "        A.MotionBlur(blur_limit=5),\n",
    "\n",
    "        A.MedianBlur(blur_limit=5),\n",
    "\n",
    "        A.GaussianBlur(blur_limit=5),\n",
    "\n",
    "        A.GaussNoise(var_limit=(5.0, 30.0)),\n",
    "\n",
    "    ], p=AUG_PROB),\n",
    "\n",
    "\n",
    "\n",
    "    A.OneOf([\n",
    "\n",
    "        A.OpticalDistortion(distort_limit=1.0),\n",
    "\n",
    "        A.GridDistortion(num_steps=5, distort_limit=1.),\n",
    "\n",
    "        A.ElasticTransform(alpha=3),\n",
    "\n",
    "    ], p=AUG_PROB),\n",
    "\n",
    "\n",
    "\n",
    "    A.ShiftScaleRotate(shift_limit=0.1, scale_limit=0.1, rotate_limit=15, border_mode=0, p=AUG_PROB),\n",
    "\n",
    "    A.Resize(IMG_SIZE[0], IMG_SIZE[1]),\n",
    "\n",
    "    A.CoarseDropout(max_holes=8, max_height=32, max_width=32, min_holes=1, min_height=8, min_width=8, p=AUG_PROB),    \n",
    "\n",
    "    A.Normalize(mean=[0.48145466, 0.4578275, 0.40821073], \n",
    "\n",
    "                         std=[0.26862954, 0.26130258, 0.27577711])\n",
    "\n",
    "])\n",
    "\n",
    "\n",
    "\n",
    "transforms_val = A.Compose([\n",
    "\n",
    "    A.Resize(IMG_SIZE[0], IMG_SIZE[1]),\n",
    "\n",
    "    A.Normalize(mean=[0.48145466, 0.4578275, 0.40821073], \n",
    "\n",
    "                         std=[0.26862954, 0.26130258, 0.27577711])\n",
    "\n",
    "])"
   ]
  },
  {
   "cell_type": "code",
   "execution_count": 12,
   "id": "f36ffa60",
   "metadata": {
    "execution": {
     "iopub.execute_input": "2024-11-23T20:23:20.655173Z",
     "iopub.status.busy": "2024-11-23T20:23:20.654956Z",
     "iopub.status.idle": "2024-11-23T20:23:20.660786Z",
     "shell.execute_reply": "2024-11-23T20:23:20.659989Z"
    },
    "papermill": {
     "duration": 0.017136,
     "end_time": "2024-11-23T20:23:20.662307",
     "exception": false,
     "start_time": "2024-11-23T20:23:20.645171",
     "status": "completed"
    },
    "tags": []
   },
   "outputs": [],
   "source": [
    "class GoogleLandmarksDataset(Dataset):\n",
    "\n",
    "    def __init__(self, df, class_name_to_idx, transform=None):\n",
    "\n",
    "        self.df = df\n",
    "\n",
    "        self.class_name_to_idx = class_name_to_idx  # Maps class name to index\n",
    "\n",
    "        self.transform = transform\n",
    "\n",
    "    \n",
    "\n",
    "    def __len__(self):\n",
    "\n",
    "        return len(self.df)\n",
    "\n",
    "\n",
    "\n",
    "    def __getitem__(self, idx):\n",
    "\n",
    "        t = self.df.iloc[idx]\n",
    "\n",
    "        class_name = t['landmark_name']\n",
    "\n",
    "        class_name_idx = self.class_name_to_idx[class_name]\n",
    "\n",
    "        \n",
    "\n",
    "        p = f'{t[\"image_path\"]}'\n",
    "\n",
    "        img = Image.open(p)\n",
    "\n",
    "        img = np.array(img)\n",
    "\n",
    "            \n",
    "\n",
    "        # Apply transformations if provided\n",
    "\n",
    "        if self.transform:\n",
    "\n",
    "            img = self.transform(image=np.array(img))['image']\n",
    "\n",
    "        \n",
    "\n",
    "        # Convert image to tensor if needed\n",
    "\n",
    "        if not isinstance(img, torch.Tensor):\n",
    "\n",
    "            img = torch.tensor(img.transpose(2, 0, 1), dtype=torch.float32)\n",
    "\n",
    "        \n",
    "\n",
    "        return img, class_name_idx\n"
   ]
  },
  {
   "cell_type": "code",
   "execution_count": 13,
   "id": "2412b188",
   "metadata": {
    "execution": {
     "iopub.execute_input": "2024-11-23T20:23:20.682245Z",
     "iopub.status.busy": "2024-11-23T20:23:20.681996Z",
     "iopub.status.idle": "2024-11-23T20:23:20.692491Z",
     "shell.execute_reply": "2024-11-23T20:23:20.691695Z"
    },
    "papermill": {
     "duration": 0.02234,
     "end_time": "2024-11-23T20:23:20.694013",
     "exception": false,
     "start_time": "2024-11-23T20:23:20.671673",
     "status": "completed"
    },
    "tags": []
   },
   "outputs": [],
   "source": [
    "class CrossModalDistillationModel(nn.Module):\n",
    "    def __init__(self, teacher_model, student_model, text_embeddings, projection_dim=512):\n",
    "        super().__init__()\n",
    "        self.teacher = teacher_model\n",
    "        self.student = student_model\n",
    "        self.text_embeddings = text_embeddings\n",
    "        \n",
    "        # Freeze teacher\n",
    "        for param in self.teacher.parameters():\n",
    "            param.requires_grad = False\n",
    "        \n",
    "        # Get student features dimension\n",
    "        in_features = student_model.get_classifier().in_features\n",
    "        num_classes = student_model.get_classifier().out_features\n",
    "        \n",
    "        # Improved projection head with residual connections\n",
    "        self.projection_head = nn.Sequential(\n",
    "            nn.Linear(in_features, 1024),\n",
    "            nn.LayerNorm(1024),  # Layer norm instead of batch norm\n",
    "            nn.ReLU(),\n",
    "            nn.Dropout(0.2),\n",
    "            nn.Linear(1024, 1024),\n",
    "            nn.LayerNorm(1024),\n",
    "            nn.ReLU(),\n",
    "            nn.Dropout(0.1),\n",
    "            nn.Linear(1024, projection_dim)\n",
    "        )\n",
    "        \n",
    "        # Improved classifier with bottleneck\n",
    "        self.classifier = nn.Sequential(\n",
    "            nn.Linear(in_features, 1024),\n",
    "            nn.LayerNorm(1024),\n",
    "            nn.ReLU(),\n",
    "            nn.Dropout(0.1),\n",
    "            nn.Linear(1024, num_classes)\n",
    "        )\n",
    "        \n",
    "        # Temperature parameter with better initialization\n",
    "        self.temperature = nn.Parameter(torch.log(torch.ones([]) / 0.07))\n",
    "        \n",
    "        # Initialize weights properly\n",
    "        self._initialize_weights()\n",
    "    \n",
    "    def _initialize_weights(self):\n",
    "        \"\"\"\n",
    "        Proper weight initialization for better training\n",
    "        \"\"\"\n",
    "        for m in self.modules():\n",
    "            if isinstance(m, nn.Linear):\n",
    "                nn.init.kaiming_normal_(m.weight, mode='fan_out', nonlinearity='relu')\n",
    "                if m.bias is not None:\n",
    "                    nn.init.constant_(m.bias, 0)\n",
    "            elif isinstance(m, nn.LayerNorm):\n",
    "                nn.init.constant_(m.weight, 1)\n",
    "                nn.init.constant_(m.bias, 0)\n",
    "    \n",
    "    def forward(self, images, return_features=True):\n",
    "        batch_size = images.size(0)\n",
    "        \n",
    "        # Teacher forward pass with gradient checkpointing for memory efficiency\n",
    "        with torch.no_grad(), torch.cuda.amp.autocast():\n",
    "            teacher_logits, teacher_features = self.teacher(images)\n",
    "            \n",
    "        # Student forward pass\n",
    "        student_features = self.student.forward_features(images)\n",
    "        \n",
    "        # Global average pooling with better numerical stability\n",
    "        student_features = F.adaptive_avg_pool2d(student_features, (1, 1))\n",
    "        student_features = student_features.view(batch_size, -1)\n",
    "        \n",
    "        # Project student features\n",
    "        student_projected = self.projection_head(student_features)\n",
    "        student_projected = F.normalize(student_projected, dim=-1)\n",
    "        \n",
    "        # Compute classification logits\n",
    "        student_logits = self.classifier(student_features)\n",
    "        \n",
    "        if return_features:\n",
    "            return {\n",
    "                'teacher_logits': teacher_logits,\n",
    "                'student_logits': student_logits,\n",
    "                'teacher_features': teacher_features,\n",
    "                'student_projected': student_projected,\n",
    "                'student_features': student_features,\n",
    "                'temperature': self.temperature.exp()  # Useful for monitoring\n",
    "            }\n",
    "        return student_logits\n",
    "    \n",
    "    def get_last_selfattention(self, x):\n",
    "        \"\"\"\n",
    "        Get attention maps for visualization\n",
    "        \"\"\"\n",
    "        return self.student.get_last_selfattention(x)"
   ]
  },
  {
   "cell_type": "code",
   "execution_count": 14,
   "id": "ac34b5a7",
   "metadata": {
    "execution": {
     "iopub.execute_input": "2024-11-23T20:23:20.713631Z",
     "iopub.status.busy": "2024-11-23T20:23:20.712937Z",
     "iopub.status.idle": "2024-11-23T20:23:20.718816Z",
     "shell.execute_reply": "2024-11-23T20:23:20.718024Z"
    },
    "papermill": {
     "duration": 0.017206,
     "end_time": "2024-11-23T20:23:20.720298",
     "exception": false,
     "start_time": "2024-11-23T20:23:20.703092",
     "status": "completed"
    },
    "tags": []
   },
   "outputs": [],
   "source": [
    "class GoogleLandmarksModel(nn.Module):\n",
    "    def __init__(self, text_embeddings, model_name=CLIP_MODEL_NAME, device=device):\n",
    "        super(GoogleLandmarksModel, self).__init__()\n",
    "        # Load the CLIP model\n",
    "        self.model, _ = clip.load(model_name, device=device)\n",
    "        \n",
    "        # Store the precomputed text embeddings\n",
    "        self.text_embeddings = text_embeddings\n",
    "        self.text_embeddings.requires_grad = False\n",
    "        \n",
    "        # Freeze the text encoder to save memory and computation\n",
    "        for param in self.model.transformer.parameters():\n",
    "            param.requires_grad = False\n",
    "\n",
    "    def forward(self, images):\n",
    "        # Compute image embeddings\n",
    "        image_embeddings = self.model.encode_image(images)\n",
    "        \n",
    "        # Normalize image embeddings without in-place operation\n",
    "        image_embeddings = image_embeddings / image_embeddings.norm(dim=-1, keepdim=True)\n",
    "        \n",
    "        # Check and match data types for mixed precision\n",
    "        if image_embeddings.dtype != self.text_embeddings.dtype:\n",
    "            text_embeddings = self.text_embeddings.to(image_embeddings.dtype)\n",
    "        else:\n",
    "            text_embeddings = self.text_embeddings\n",
    "        \n",
    "        # Compute cosine similarity with text embeddings\n",
    "        similarity = image_embeddings @ self.text_embeddings.T\n",
    "        return similarity, image_embeddings  # Similarity scores for each class"
   ]
  },
  {
   "cell_type": "code",
   "execution_count": 15,
   "id": "5471a711",
   "metadata": {
    "execution": {
     "iopub.execute_input": "2024-11-23T20:23:20.739973Z",
     "iopub.status.busy": "2024-11-23T20:23:20.739738Z",
     "iopub.status.idle": "2024-11-23T20:23:20.744150Z",
     "shell.execute_reply": "2024-11-23T20:23:20.743390Z"
    },
    "papermill": {
     "duration": 0.015814,
     "end_time": "2024-11-23T20:23:20.745698",
     "exception": false,
     "start_time": "2024-11-23T20:23:20.729884",
     "status": "completed"
    },
    "tags": []
   },
   "outputs": [],
   "source": [
    "class Config:\n",
    "\n",
    "    def __init__(self):\n",
    "\n",
    "        self.alpha = 0.4\n",
    "\n",
    "        self.beta = 0.2\n",
    "\n",
    "        self.gamma = 0.4\n",
    "\n",
    "        self.temperature = 2.0\n",
    "\n",
    "        self.device = device\n",
    "\n",
    "        self.batch_size = BATCH_SIZE\n",
    "\n",
    "        self.n_workers = N_WORKERS\n",
    "\n",
    "        self.max_grad_norm = MAX_GRAD_NORM\n",
    "\n",
    "        self.log_interval = 100\n",
    "\n",
    "        self.use_amp = False\n",
    "\n",
    "        self.use_wandb = False  # Set to True if using wandb\n",
    "\n",
    "        self.warmup_steps = 100\n",
    "\n",
    "        self.gradient_accumulation_steps = 1"
   ]
  },
  {
   "cell_type": "code",
   "execution_count": 16,
   "id": "8333b09b",
   "metadata": {
    "execution": {
     "iopub.execute_input": "2024-11-23T20:23:20.764904Z",
     "iopub.status.busy": "2024-11-23T20:23:20.764670Z",
     "iopub.status.idle": "2024-11-23T20:23:20.771701Z",
     "shell.execute_reply": "2024-11-23T20:23:20.770915Z"
    },
    "papermill": {
     "duration": 0.018365,
     "end_time": "2024-11-23T20:23:20.773171",
     "exception": false,
     "start_time": "2024-11-23T20:23:20.754806",
     "status": "completed"
    },
    "tags": []
   },
   "outputs": [],
   "source": [
    "class NKDLoss:\n",
    "    def __init__(self, alpha=1.0, lambda_temp=2.0):\n",
    "        \"\"\"\n",
    "        Initializes NKD Loss.\n",
    "        Args:\n",
    "            alpha: Hyperparameter for scaling Ldistributed.\n",
    "            lambda_temp: Temperature for knowledge distillation.\n",
    "        \"\"\"\n",
    "        self.alpha = alpha\n",
    "        self.lambda_temp = lambda_temp\n",
    "\n",
    "    def __call__(self, student_logits, teacher_logits, targets):\n",
    "        \"\"\"\n",
    "        Compute NKD Loss.\n",
    "        Args:\n",
    "            student_logits: Logits from the student model. Shape: (batch_size, num_classes)\n",
    "            teacher_logits: Logits from the teacher model. Shape: (batch_size, num_classes)\n",
    "            targets: Ground-truth labels. Shape: (batch_size,)\n",
    "        Returns:\n",
    "            Total NKD loss (scalar).\n",
    "        \"\"\"\n",
    "        # Apply temperature scaling\n",
    "        student_probs = F.softmax(student_logits / self.lambda_temp, dim=-1)\n",
    "        teacher_probs = F.softmax(teacher_logits / self.lambda_temp, dim=-1)\n",
    "        \n",
    "        # Ground-truth one-hot labels\n",
    "        target_probs = F.one_hot(targets, num_classes=student_logits.size(1)).float()\n",
    "        \n",
    "        # Extract probabilities for the target class\n",
    "        student_target_probs = student_probs.gather(1, targets.view(-1, 1)).squeeze(1)\n",
    "        teacher_target_probs = teacher_probs.gather(1, targets.view(-1, 1)).squeeze(1)\n",
    "        \n",
    "        # Compute Lori: Original loss\n",
    "        lori = -torch.log(student_target_probs + 1e-8).mean()\n",
    "        \n",
    "        # Compute Lsoft: Soft loss\n",
    "        lsoft = -(teacher_target_probs * torch.log(student_target_probs + 1e-8)).mean()\n",
    "        \n",
    "        # Compute Ldistributed: Distributed loss\n",
    "        # Exclude target class for teacher and student\n",
    "        non_target_teacher_probs = teacher_probs * (1 - target_probs)\n",
    "        non_target_student_probs = student_probs * (1 - target_probs)\n",
    "        \n",
    "        # Normalize non-target probabilities\n",
    "        normalized_teacher_probs = non_target_teacher_probs / (1 - teacher_target_probs.unsqueeze(1) + 1e-8)\n",
    "        normalized_student_probs = non_target_student_probs / (1 - student_target_probs.unsqueeze(1) + 1e-8)\n",
    "        \n",
    "        # Distributed loss\n",
    "        ldistributed = -(normalized_teacher_probs * torch.log(normalized_student_probs + 1e-8)).sum(dim=1).mean()\n",
    "        ldistributed *= self.alpha * (self.lambda_temp ** 2)\n",
    "        \n",
    "        # Total loss\n",
    "        lnkd = lori + lsoft + ldistributed\n",
    "        return lnkd"
   ]
  },
  {
   "cell_type": "code",
   "execution_count": 17,
   "id": "2ca9f56e",
   "metadata": {
    "execution": {
     "iopub.execute_input": "2024-11-23T20:23:20.792666Z",
     "iopub.status.busy": "2024-11-23T20:23:20.792412Z",
     "iopub.status.idle": "2024-11-23T20:23:20.803762Z",
     "shell.execute_reply": "2024-11-23T20:23:20.803188Z"
    },
    "papermill": {
     "duration": 0.022862,
     "end_time": "2024-11-23T20:23:20.805236",
     "exception": false,
     "start_time": "2024-11-23T20:23:20.782374",
     "status": "completed"
    },
    "tags": []
   },
   "outputs": [],
   "source": [
    "class EnhancedDistillationLoss(nn.Module):\n",
    "    def __init__(self, config):\n",
    "        super().__init__()\n",
    "        self.alpha = config.alpha  # KD loss weight\n",
    "        self.beta = config.beta    # Feature alignment weight\n",
    "        self.gamma = config.gamma  # CE loss weight\n",
    "        self.temperature = config.temperature\n",
    "        self.contrastive_weight = 0.1\n",
    "        \n",
    "    def contrastive_loss(self, features, labels):\n",
    "        \"\"\"\n",
    "        Improved contrastive loss with better numerical stability\n",
    "        \"\"\"\n",
    "        # Normalize features for better stability\n",
    "        features = F.normalize(features, dim=1)\n",
    "        \n",
    "        # Compute similarity matrix\n",
    "        similarity = torch.matmul(features, features.t())\n",
    "        \n",
    "        # Create label mask for positive pairs\n",
    "        labels = labels.view(-1, 1)\n",
    "        mask = (labels == labels.T).float()\n",
    "        \n",
    "        # Remove diagonal from mask (self-pairs)\n",
    "        mask = mask.fill_diagonal_(0)\n",
    "        \n",
    "        # Temperature-scaled similarities with numerical stability\n",
    "        similarity = similarity / self.temperature\n",
    "        \n",
    "        # Stable version of exp(similarity)\n",
    "        sim_exp = torch.exp(similarity - similarity.max(dim=1, keepdim=True)[0])\n",
    "        \n",
    "        # Compute positive and negative pairs\n",
    "        pos_sim = sim_exp * mask\n",
    "        neg_sim = sim_exp * (1 - mask)\n",
    "        \n",
    "        # Add small epsilon to prevent log(0)\n",
    "        eps = 1e-8\n",
    "        loss = -torch.log(\n",
    "            (pos_sim.sum(1) + eps) / (pos_sim.sum(1) + neg_sim.sum(1) + eps)\n",
    "        ).mean()\n",
    "        \n",
    "        return loss\n",
    "\n",
    "    def feature_alignment_loss(self, student_features, teacher_features):\n",
    "        \"\"\"\n",
    "        Improved feature alignment using cosine similarity\n",
    "        \"\"\"\n",
    "        student_features = F.normalize(student_features, dim=1)\n",
    "        teacher_features = F.normalize(teacher_features, dim=1)\n",
    "        return 1 - (student_features * teacher_features).sum(dim=1).mean()\n",
    "\n",
    "    def forward(self, outputs, labels):\n",
    "        # Convert all inputs to float and ensure contiguous memory\n",
    "        teacher_logits = outputs['teacher_logits'].float().contiguous()\n",
    "        student_logits = outputs['student_logits'].float().contiguous()\n",
    "        teacher_features = outputs['teacher_features'].float().contiguous()\n",
    "        student_projected = outputs['student_projected'].float().contiguous()\n",
    "        \n",
    "        # 1. Knowledge Distillation Loss with stability\n",
    "        nkd_loss_fn = NKDLoss(alpha=self.alpha, lambda_temp=1.0)\n",
    "        kd_loss = nkd_loss_fn(student_logits, teacher_logits, labels)\n",
    "\n",
    "        # 2. Improved Feature Alignment Loss\n",
    "        feature_loss = self.feature_alignment_loss(student_projected, teacher_features)\n",
    "        \n",
    "        # 3. Cross Entropy Loss with label smoothing\n",
    "        ce_loss = F.cross_entropy(student_logits, labels, label_smoothing=0.1)\n",
    "        \n",
    "        # 4. Improved Contrastive Loss\n",
    "        cont_loss = self.contrastive_loss(student_projected, labels)\n",
    "        \n",
    "        # 5. Teacher Loss (for monitoring only)\n",
    "        teacher_loss = F.cross_entropy(teacher_logits, labels)\n",
    "        \n",
    "        # Weighted sum of losses\n",
    "        total_loss = (\n",
    "            self.alpha * kd_loss +\n",
    "            self.beta * feature_loss +\n",
    "            self.gamma * ce_loss +\n",
    "            self.contrastive_weight * cont_loss\n",
    "        )\n",
    "        \n",
    "        return total_loss, {\n",
    "            'kd_loss': kd_loss.item(),\n",
    "            'feature_loss': feature_loss.item(),\n",
    "            'ce_loss': ce_loss.item(),\n",
    "            'cont_loss': cont_loss.item(),\n",
    "            'teacher_loss': teacher_loss.item(),\n",
    "            'total_loss': total_loss.item()\n",
    "        }\n",
    "\n",
    "    @staticmethod\n",
    "    def update_temperature(self, epoch, max_epochs):\n",
    "        \"\"\"\n",
    "        Temperature annealing\n",
    "        \"\"\"\n",
    "        self.temperature = max(0.07, 1.0 - (epoch / max_epochs) * 0.93)"
   ]
  },
  {
   "cell_type": "code",
   "execution_count": 18,
   "id": "dcbef6f4",
   "metadata": {
    "execution": {
     "iopub.execute_input": "2024-11-23T20:23:20.824813Z",
     "iopub.status.busy": "2024-11-23T20:23:20.824572Z",
     "iopub.status.idle": "2024-11-23T20:23:20.832743Z",
     "shell.execute_reply": "2024-11-23T20:23:20.832022Z"
    },
    "papermill": {
     "duration": 0.019828,
     "end_time": "2024-11-23T20:23:20.834334",
     "exception": false,
     "start_time": "2024-11-23T20:23:20.814506",
     "status": "completed"
    },
    "tags": []
   },
   "outputs": [],
   "source": [
    "def train_epoch(model, train_loader, criterion, optimizer, config, scheduler=None):\n",
    "\n",
    "    model.train()\n",
    "\n",
    "    total_loss = 0\n",
    "\n",
    "    metrics = defaultdict(float)  # Tracks additional metrics\n",
    "\n",
    "    scaler = GradScaler() if config.use_amp else None\n",
    "\n",
    "    \n",
    "\n",
    "    pbar = tqdm(train_loader, desc='Training', leave =True)\n",
    "\n",
    "    \n",
    "\n",
    "    for batch_idx, (images, labels) in enumerate(pbar):\n",
    "\n",
    "        images, labels = images.to(config.device), labels.to(config.device)\n",
    "\n",
    "        \n",
    "\n",
    "        # Mixed precision training\n",
    "\n",
    "        if config.use_amp:\n",
    "\n",
    "            with autocast():\n",
    "\n",
    "                outputs = model(images, return_features=True)\n",
    "\n",
    "                loss, batch_metrics = criterion(outputs, labels)\n",
    "                print(batch_metrics)\n",
    "\n",
    "            scaler.scale(loss).backward()\n",
    "\n",
    "            \n",
    "\n",
    "            if config.max_grad_norm:\n",
    "\n",
    "                scaler.unscale_(optimizer)\n",
    "\n",
    "                torch.nn.utils.clip_grad_norm_(model.parameters(), config.max_grad_norm)\n",
    "\n",
    "            \n",
    "\n",
    "            scaler.step(optimizer)\n",
    "\n",
    "            scaler.update()\n",
    "\n",
    "        else:\n",
    "\n",
    "            outputs = model(images, return_features=True)\n",
    "            loss, batch_metrics = criterion(outputs, labels)\n",
    "\n",
    "            loss.backward()\n",
    "\n",
    "            \n",
    "\n",
    "            if config.max_grad_norm:\n",
    "\n",
    "                torch.nn.utils.clip_grad_norm_(model.parameters(), config.max_grad_norm)\n",
    "\n",
    "            \n",
    "\n",
    "            optimizer.step()\n",
    "\n",
    "        \n",
    "\n",
    "        optimizer.zero_grad()\n",
    "\n",
    "        if scheduler:\n",
    "\n",
    "            scheduler.step()\n",
    "\n",
    "        \n",
    "\n",
    "        # Update loss and metrics\n",
    "\n",
    "        total_loss += loss.item()\n",
    "\n",
    "        for k, v in batch_metrics.items():\n",
    "\n",
    "            metrics[k] += v\n",
    "\n",
    "        \n",
    "\n",
    "        # Update progress bar with detailed information\n",
    "\n",
    "        pbar.set_postfix({\n",
    "\n",
    "            'loss': f'{loss.item():.4f}',\n",
    "\n",
    "            'avg_loss': f'{total_loss / (batch_idx + 1):.4f}',\n",
    "\n",
    "            'lr': scheduler.get_last_lr()[0] if scheduler else optimizer.param_groups[0]['lr']\n",
    "\n",
    "        })\n",
    "\n",
    "    \n",
    "\n",
    "    # Normalize metrics over all batches\n",
    "\n",
    "    metrics = {k: v / len(train_loader) for k, v in metrics.items()}\n",
    "\n",
    "    return total_loss / len(train_loader), metrics"
   ]
  },
  {
   "cell_type": "code",
   "execution_count": 19,
   "id": "b371337d",
   "metadata": {
    "execution": {
     "iopub.execute_input": "2024-11-23T20:23:20.853937Z",
     "iopub.status.busy": "2024-11-23T20:23:20.853689Z",
     "iopub.status.idle": "2024-11-23T20:23:20.858014Z",
     "shell.execute_reply": "2024-11-23T20:23:20.857309Z"
    },
    "papermill": {
     "duration": 0.015873,
     "end_time": "2024-11-23T20:23:20.859605",
     "exception": false,
     "start_time": "2024-11-23T20:23:20.843732",
     "status": "completed"
    },
    "tags": []
   },
   "outputs": [],
   "source": [
    "def compute_topk_accuracy(outputs, labels, k):\n",
    "\n",
    "    \"\"\"\n",
    "\n",
    "    Computes the top-k accuracy for the given outputs and labels.\n",
    "\n",
    "    \n",
    "\n",
    "    Args:\n",
    "\n",
    "        outputs (torch.Tensor or dict): Model outputs, expected as a tensor.\n",
    "\n",
    "        labels (torch.Tensor): Ground truth labels.\n",
    "\n",
    "        k (int): The 'k' in top-k accuracy.\n",
    "\n",
    "    \n",
    "\n",
    "    Returns:\n",
    "\n",
    "        float: Top-k accuracy as a percentage.\n",
    "\n",
    "    \"\"\"\n",
    "\n",
    "\n",
    "    outputs = outputs['student_logits']  # Update the key to match your dictionary structure\n",
    "\n",
    "    \n",
    "\n",
    "    _, top_k_preds = outputs.topk(k, dim=1)\n",
    "\n",
    "    top_k_correct = top_k_preds.eq(labels.view(-1, 1).expand_as(top_k_preds))\n",
    "\n",
    "    return top_k_correct.any(dim=1).float().mean().item()"
   ]
  },
  {
   "cell_type": "code",
   "execution_count": 20,
   "id": "b9176c4e",
   "metadata": {
    "execution": {
     "iopub.execute_input": "2024-11-23T20:23:20.879060Z",
     "iopub.status.busy": "2024-11-23T20:23:20.878825Z",
     "iopub.status.idle": "2024-11-23T20:23:20.895087Z",
     "shell.execute_reply": "2024-11-23T20:23:20.894286Z"
    },
    "papermill": {
     "duration": 0.027766,
     "end_time": "2024-11-23T20:23:20.896590",
     "exception": false,
     "start_time": "2024-11-23T20:23:20.868824",
     "status": "completed"
    },
    "tags": []
   },
   "outputs": [
    {
     "name": "stdout",
     "output_type": "stream",
     "text": [
      "Top-1 Accuracy: 37.50%\n",
      "Top-3 Accuracy: 100.00%\n"
     ]
    }
   ],
   "source": [
    "def test_compute_topk_accuracy():\n",
    "    # Create synthetic outputs (logits)\n",
    "    batch_size = 8\n",
    "    num_classes = 5\n",
    "    outputs = {'student_logits': torch.randn(batch_size, num_classes)}\n",
    "\n",
    "    # Create synthetic labels\n",
    "    labels = torch.randint(0, num_classes, (batch_size,))\n",
    "\n",
    "    # Test the function for k = 1 and k = 3\n",
    "    for k in [1, 3]:\n",
    "        top_k_accuracy = compute_topk_accuracy(outputs, labels, k)\n",
    "        print(f\"Top-{k} Accuracy: {top_k_accuracy * 100:.2f}%\")\n",
    "\n",
    "# Run the test\n",
    "test_compute_topk_accuracy()"
   ]
  },
  {
   "cell_type": "code",
   "execution_count": 21,
   "id": "88f32b5f",
   "metadata": {
    "execution": {
     "iopub.execute_input": "2024-11-23T20:23:20.915876Z",
     "iopub.status.busy": "2024-11-23T20:23:20.915632Z",
     "iopub.status.idle": "2024-11-23T20:23:20.921621Z",
     "shell.execute_reply": "2024-11-23T20:23:20.920896Z"
    },
    "papermill": {
     "duration": 0.01732,
     "end_time": "2024-11-23T20:23:20.923164",
     "exception": false,
     "start_time": "2024-11-23T20:23:20.905844",
     "status": "completed"
    },
    "tags": []
   },
   "outputs": [],
   "source": [
    "def validate_epoch(model, val_loader, criterion, config):\n",
    "\n",
    "    model.eval()\n",
    "\n",
    "    total_loss = 0\n",
    "\n",
    "    metrics = defaultdict(float)\n",
    "\n",
    "    \n",
    "\n",
    "    pbar = tqdm(val_loader, desc='Validating')\n",
    "\n",
    "    \n",
    "\n",
    "    with torch.no_grad():  # Disable gradient computation\n",
    "\n",
    "        for batch_idx, (images, labels) in enumerate(pbar):\n",
    "\n",
    "            images, labels = images.to(config.device), labels.to(config.device)\n",
    "\n",
    "            \n",
    "\n",
    "            # Forward pass\n",
    "\n",
    "            outputs = model(images, return_features=True)\n",
    "\n",
    "            loss, batch_metrics = criterion(outputs, labels)\n",
    "\n",
    "            print(batch_metrics)\n",
    "\n",
    "            # Accumulate loss and metrics\n",
    "\n",
    "            total_loss += loss.item()\n",
    "\n",
    "            metrics['top1_acc'] += compute_topk_accuracy(outputs, labels, 1)\n",
    "\n",
    "            metrics['top5_acc'] += compute_topk_accuracy(outputs, labels, 5)\n",
    "\n",
    "            metrics['top10_acc'] += compute_topk_accuracy(outputs, labels, 10)\n",
    "\n",
    "            \n",
    "\n",
    "            # Update progress bar\n",
    "\n",
    "            pbar.set_postfix({\n",
    "\n",
    "                'loss': f'{loss.item():.4f}',\n",
    "\n",
    "                'avg_loss': f'{total_loss / (batch_idx + 1):.4f}'\n",
    "\n",
    "            })\n",
    "\n",
    "    \n",
    "\n",
    "    # Normalize metrics over all batches\n",
    "\n",
    "    metrics = {k: v / len(val_loader) for k, v in metrics.items()}\n",
    "\n",
    "    return total_loss / len(val_loader), metrics"
   ]
  },
  {
   "cell_type": "code",
   "execution_count": 22,
   "id": "c06b9faf",
   "metadata": {
    "execution": {
     "iopub.execute_input": "2024-11-23T20:23:20.942539Z",
     "iopub.status.busy": "2024-11-23T20:23:20.942109Z",
     "iopub.status.idle": "2024-11-23T20:23:20.945578Z",
     "shell.execute_reply": "2024-11-23T20:23:20.944803Z"
    },
    "papermill": {
     "duration": 0.01482,
     "end_time": "2024-11-23T20:23:20.947113",
     "exception": false,
     "start_time": "2024-11-23T20:23:20.932293",
     "status": "completed"
    },
    "tags": []
   },
   "outputs": [],
   "source": [
    "from collections import defaultdict"
   ]
  },
  {
   "cell_type": "code",
   "execution_count": 23,
   "id": "48e8308e",
   "metadata": {
    "execution": {
     "iopub.execute_input": "2024-11-23T20:23:20.966712Z",
     "iopub.status.busy": "2024-11-23T20:23:20.966467Z",
     "iopub.status.idle": "2024-11-23T20:23:20.970592Z",
     "shell.execute_reply": "2024-11-23T20:23:20.969793Z"
    },
    "papermill": {
     "duration": 0.015857,
     "end_time": "2024-11-23T20:23:20.972127",
     "exception": false,
     "start_time": "2024-11-23T20:23:20.956270",
     "status": "completed"
    },
    "tags": []
   },
   "outputs": [],
   "source": [
    "train_ds = GoogleLandmarksDataset(train_df, class_name_to_idx=class_name_to_idx, transform=transforms_train)\n",
    "train_dl = DataLoader(\n",
    "    train_ds,\n",
    "    batch_size=BATCH_SIZE,\n",
    "    shuffle=True,\n",
    "    pin_memory=True,\n",
    "    drop_last=True,\n",
    "    num_workers=N_WORKERS\n",
    ")"
   ]
  },
  {
   "cell_type": "code",
   "execution_count": 24,
   "id": "01b59e1a",
   "metadata": {
    "execution": {
     "iopub.execute_input": "2024-11-23T20:23:20.991648Z",
     "iopub.status.busy": "2024-11-23T20:23:20.991204Z",
     "iopub.status.idle": "2024-11-23T21:38:44.636955Z",
     "shell.execute_reply": "2024-11-23T21:38:44.635629Z"
    },
    "papermill": {
     "duration": 4523.657643,
     "end_time": "2024-11-23T21:38:44.638978",
     "exception": false,
     "start_time": "2024-11-23T20:23:20.981335",
     "status": "completed"
    },
    "tags": []
   },
   "outputs": [
    {
     "data": {
      "application/vnd.jupyter.widget-view+json": {
       "model_id": "006f6d22ae0941ae90daf70635136e6b",
       "version_major": 2,
       "version_minor": 0
      },
      "text/plain": [
       "model.safetensors:   0%|          | 0.00/46.8M [00:00<?, ?B/s]"
      ]
     },
     "metadata": {},
     "output_type": "display_data"
    },
    {
     "name": "stdout",
     "output_type": "stream",
     "text": [
      "##############################\n",
      "Starting Fold 0\n",
      "##############################\n"
     ]
    },
    {
     "name": "stderr",
     "output_type": "stream",
     "text": [
      "Training:   0%|          | 0/1875 [00:00<?, ?it/s]/tmp/ipykernel_23/959980901.py:61: FutureWarning: `torch.cuda.amp.autocast(args...)` is deprecated. Please use `torch.amp.autocast('cuda', args...)` instead.\n",
      "  with torch.no_grad(), torch.cuda.amp.autocast():\n",
      "Training: 100%|██████████| 1875/1875 [14:01<00:00,  2.23it/s, loss=10.1295, avg_loss=10.1718, lr=9.67e-5]\n",
      "Validating:   0%|          | 1/235 [00:03<12:09,  3.12s/it, loss=7.7987, avg_loss=7.7987]"
     ]
    },
    {
     "name": "stdout",
     "output_type": "stream",
     "text": [
      "{'kd_loss': 11.09844970703125, 'feature_loss': 0.3658405542373657, 'ce_loss': 7.84498929977417, 'cont_loss': 1.4811149835586548, 'teacher_loss': 8.102189064025879, 'total_loss': 7.7986555099487305}\n"
     ]
    },
    {
     "name": "stderr",
     "output_type": "stream",
     "text": [
      "Validating:   1%|          | 2/235 [00:03<06:02,  1.56s/it, loss=7.9744, avg_loss=7.8865]"
     ]
    },
    {
     "name": "stdout",
     "output_type": "stream",
     "text": [
      "{'kd_loss': 11.322278022766113, 'feature_loss': 0.3692880868911743, 'ce_loss': 8.046208381652832, 'cont_loss': 1.5312018394470215, 'teacher_loss': 8.099241256713867, 'total_loss': 7.974372386932373}\n"
     ]
    },
    {
     "name": "stderr",
     "output_type": "stream",
     "text": [
      "Validating:   1%|▏         | 3/235 [00:04<04:14,  1.10s/it, loss=8.2141, avg_loss=7.9957]"
     ]
    },
    {
     "name": "stdout",
     "output_type": "stream",
     "text": [
      "{'kd_loss': 11.645234107971191, 'feature_loss': 0.3425496816635132, 'ce_loss': 8.336858749389648, 'cont_loss': 1.5275393724441528, 'teacher_loss': 8.090653419494629, 'total_loss': 8.214101791381836}\n"
     ]
    },
    {
     "name": "stderr",
     "output_type": "stream",
     "text": [
      "Validating:   2%|▏         | 4/235 [00:04<03:16,  1.18it/s, loss=7.7736, avg_loss=7.9402]"
     ]
    },
    {
     "name": "stdout",
     "output_type": "stream",
     "text": [
      "{'kd_loss': 11.072961807250977, 'feature_loss': 0.33894574642181396, 'ce_loss': 7.822055816650391, 'cont_loss': 1.4782160520553589, 'teacher_loss': 8.085445404052734, 'total_loss': 7.773617744445801}\n"
     ]
    },
    {
     "name": "stderr",
     "output_type": "stream",
     "text": [
      "Validating:   2%|▏         | 5/235 [00:05<02:44,  1.40it/s, loss=7.5713, avg_loss=7.8664]"
     ]
    },
    {
     "name": "stdout",
     "output_type": "stream",
     "text": [
      "{'kd_loss': 10.822576522827148, 'feature_loss': 0.3021841049194336, 'ce_loss': 7.5965189933776855, 'cont_loss': 1.4323064088821411, 'teacher_loss': 8.089706420898438, 'total_loss': 7.571305274963379}\n"
     ]
    },
    {
     "name": "stderr",
     "output_type": "stream",
     "text": [
      "Validating:   3%|▎         | 6/235 [00:05<02:24,  1.59it/s, loss=8.2263, avg_loss=7.9264]"
     ]
    },
    {
     "name": "stdout",
     "output_type": "stream",
     "text": [
      "{'kd_loss': 11.63575267791748, 'feature_loss': 0.44829559326171875, 'ce_loss': 8.328639030456543, 'cont_loss': 1.5085594654083252, 'teacher_loss': 8.087250709533691, 'total_loss': 8.226272583007812}\n"
     ]
    },
    {
     "name": "stderr",
     "output_type": "stream",
     "text": [
      "Validating:   3%|▎         | 7/235 [00:06<02:11,  1.73it/s, loss=8.0815, avg_loss=7.9485]"
     ]
    },
    {
     "name": "stdout",
     "output_type": "stream",
     "text": [
      "{'kd_loss': 11.474675178527832, 'feature_loss': 0.34783345460891724, 'ce_loss': 8.183728218078613, 'cont_loss': 1.4852802753448486, 'teacher_loss': 8.108460426330566, 'total_loss': 8.081456184387207}\n"
     ]
    },
    {
     "name": "stderr",
     "output_type": "stream",
     "text": [
      "Validating:   3%|▎         | 8/235 [00:06<02:03,  1.84it/s, loss=8.0604, avg_loss=7.9625]"
     ]
    },
    {
     "name": "stdout",
     "output_type": "stream",
     "text": [
      "{'kd_loss': 11.434727668762207, 'feature_loss': 0.3856768012046814, 'ce_loss': 8.147370338439941, 'cont_loss': 1.504441261291504, 'teacher_loss': 8.093416213989258, 'total_loss': 8.060419082641602}\n"
     ]
    },
    {
     "name": "stderr",
     "output_type": "stream",
     "text": [
      "Validating:   4%|▍         | 9/235 [00:06<01:57,  1.92it/s, loss=7.9096, avg_loss=7.9566]"
     ]
    },
    {
     "name": "stdout",
     "output_type": "stream",
     "text": [
      "{'kd_loss': 11.270081520080566, 'feature_loss': 0.2533707618713379, 'ce_loss': 7.999088287353516, 'cont_loss': 1.512143611907959, 'teacher_loss': 8.089569091796875, 'total_loss': 7.9095563888549805}\n"
     ]
    },
    {
     "name": "stderr",
     "output_type": "stream",
     "text": [
      "Validating:   4%|▍         | 10/235 [00:07<01:54,  1.97it/s, loss=7.8861, avg_loss=7.9496]"
     ]
    },
    {
     "name": "stdout",
     "output_type": "stream",
     "text": [
      "{'kd_loss': 11.219785690307617, 'feature_loss': 0.3246886730194092, 'ce_loss': 7.954198837280273, 'cont_loss': 1.515627145767212, 'teacher_loss': 8.090734481811523, 'total_loss': 7.886094093322754}\n"
     ]
    },
    {
     "name": "stderr",
     "output_type": "stream",
     "text": [
      "Validating:   5%|▍         | 11/235 [00:07<01:51,  2.00it/s, loss=7.9347, avg_loss=7.9482]"
     ]
    },
    {
     "name": "stdout",
     "output_type": "stream",
     "text": [
      "{'kd_loss': 11.274853706359863, 'feature_loss': 0.3656580448150635, 'ce_loss': 8.00377082824707, 'cont_loss': 1.5009318590164185, 'teacher_loss': 8.09035873413086, 'total_loss': 7.934674263000488}\n"
     ]
    },
    {
     "name": "stderr",
     "output_type": "stream",
     "text": [
      "Validating:   5%|▌         | 12/235 [00:08<01:49,  2.04it/s, loss=8.0220, avg_loss=7.9544]"
     ]
    },
    {
     "name": "stdout",
     "output_type": "stream",
     "text": [
      "{'kd_loss': 11.400117874145508, 'feature_loss': 0.3264883756637573, 'ce_loss': 8.116351127624512, 'cont_loss': 1.5012232065200806, 'teacher_loss': 8.087282180786133, 'total_loss': 8.022007942199707}\n"
     ]
    },
    {
     "name": "stderr",
     "output_type": "stream",
     "text": [
      "Validating:   6%|▌         | 13/235 [00:08<01:47,  2.06it/s, loss=7.9638, avg_loss=7.9551]"
     ]
    },
    {
     "name": "stdout",
     "output_type": "stream",
     "text": [
      "{'kd_loss': 11.31489086151123, 'feature_loss': 0.3630969524383545, 'ce_loss': 8.039870262145996, 'cont_loss': 1.4925353527069092, 'teacher_loss': 8.094036102294922, 'total_loss': 7.963777542114258}\n"
     ]
    },
    {
     "name": "stderr",
     "output_type": "stream",
     "text": [
      "Validating:   6%|▌         | 14/235 [00:09<01:46,  2.07it/s, loss=8.0863, avg_loss=7.9645]"
     ]
    },
    {
     "name": "stdout",
     "output_type": "stream",
     "text": [
      "{'kd_loss': 11.45439624786377, 'feature_loss': 0.4182255268096924, 'ce_loss': 8.165094375610352, 'cont_loss': 1.5483070611953735, 'teacher_loss': 8.082977294921875, 'total_loss': 8.086272239685059}\n"
     ]
    },
    {
     "name": "stderr",
     "output_type": "stream",
     "text": [
      "Validating:   6%|▋         | 15/235 [00:09<01:45,  2.08it/s, loss=7.9093, avg_loss=7.9608]"
     ]
    },
    {
     "name": "stdout",
     "output_type": "stream",
     "text": [
      "{'kd_loss': 11.266153335571289, 'feature_loss': 0.29471421241760254, 'ce_loss': 7.995668411254883, 'cont_loss': 1.4567234516143799, 'teacher_loss': 8.093829154968262, 'total_loss': 7.90934419631958}\n"
     ]
    },
    {
     "name": "stderr",
     "output_type": "stream",
     "text": [
      "Validating:   7%|▋         | 16/235 [00:10<01:44,  2.09it/s, loss=8.1394, avg_loss=7.9720]"
     ]
    },
    {
     "name": "stdout",
     "output_type": "stream",
     "text": [
      "{'kd_loss': 11.543252944946289, 'feature_loss': 0.36203718185424805, 'ce_loss': 8.245357513427734, 'cont_loss': 1.515907883644104, 'teacher_loss': 8.083147048950195, 'total_loss': 8.139442443847656}\n"
     ]
    },
    {
     "name": "stderr",
     "output_type": "stream",
     "text": [
      "Validating:   7%|▋         | 17/235 [00:10<01:43,  2.10it/s, loss=8.0609, avg_loss=7.9772]"
     ]
    },
    {
     "name": "stdout",
     "output_type": "stream",
     "text": [
      "{'kd_loss': 11.437491416931152, 'feature_loss': 0.36940711736679077, 'ce_loss': 8.15023422241211, 'cont_loss': 1.5190315246582031, 'teacher_loss': 8.103376388549805, 'total_loss': 8.060874938964844}\n"
     ]
    },
    {
     "name": "stderr",
     "output_type": "stream",
     "text": [
      "Validating:   8%|▊         | 18/235 [00:11<01:43,  2.10it/s, loss=7.8101, avg_loss=7.9679]"
     ]
    },
    {
     "name": "stdout",
     "output_type": "stream",
     "text": [
      "{'kd_loss': 11.123887062072754, 'feature_loss': 0.3123213052749634, 'ce_loss': 7.867530822753906, 'cont_loss': 1.511054277420044, 'teacher_loss': 8.085916519165039, 'total_loss': 7.8101372718811035}\n"
     ]
    },
    {
     "name": "stderr",
     "output_type": "stream",
     "text": [
      "Validating:   8%|▊         | 19/235 [00:11<01:42,  2.11it/s, loss=7.8640, avg_loss=7.9624]"
     ]
    },
    {
     "name": "stdout",
     "output_type": "stream",
     "text": [
      "{'kd_loss': 11.190007209777832, 'feature_loss': 0.3325437307357788, 'ce_loss': 7.927331924438477, 'cont_loss': 1.5055465698242188, 'teacher_loss': 8.101788520812988, 'total_loss': 7.863999366760254}\n"
     ]
    },
    {
     "name": "stderr",
     "output_type": "stream",
     "text": [
      "Validating:   9%|▊         | 20/235 [00:12<01:42,  2.10it/s, loss=7.8879, avg_loss=7.9587]"
     ]
    },
    {
     "name": "stdout",
     "output_type": "stream",
     "text": [
      "{'kd_loss': 11.227011680603027, 'feature_loss': 0.316458523273468, 'ce_loss': 7.960381031036377, 'cont_loss': 1.4964252710342407, 'teacher_loss': 8.098259925842285, 'total_loss': 7.8878912925720215}\n"
     ]
    },
    {
     "name": "stderr",
     "output_type": "stream",
     "text": [
      "Validating:   9%|▉         | 21/235 [00:12<01:41,  2.10it/s, loss=8.0351, avg_loss=7.9623]"
     ]
    },
    {
     "name": "stdout",
     "output_type": "stream",
     "text": [
      "{'kd_loss': 11.416116714477539, 'feature_loss': 0.31374800205230713, 'ce_loss': 8.1307373046875, 'cont_loss': 1.5357818603515625, 'teacher_loss': 8.103094100952148, 'total_loss': 8.035069465637207}\n"
     ]
    },
    {
     "name": "stderr",
     "output_type": "stream",
     "text": [
      "Validating:   9%|▉         | 22/235 [00:13<01:41,  2.10it/s, loss=8.0990, avg_loss=7.9686]"
     ]
    },
    {
     "name": "stdout",
     "output_type": "stream",
     "text": [
      "{'kd_loss': 11.513410568237305, 'feature_loss': 0.25444579124450684, 'ce_loss': 8.218475341796875, 'cont_loss': 1.5533912181854248, 'teacher_loss': 8.094780921936035, 'total_loss': 8.098982810974121}\n"
     ]
    },
    {
     "name": "stderr",
     "output_type": "stream",
     "text": [
      "Validating:  10%|▉         | 23/235 [00:13<01:41,  2.09it/s, loss=7.9146, avg_loss=7.9662]"
     ]
    },
    {
     "name": "stdout",
     "output_type": "stream",
     "text": [
      "{'kd_loss': 11.223726272583008, 'feature_loss': 0.44472378492355347, 'ce_loss': 7.957354545593262, 'cont_loss': 1.5320055484771729, 'teacher_loss': 8.071922302246094, 'total_loss': 7.914577960968018}\n"
     ]
    },
    {
     "name": "stderr",
     "output_type": "stream",
     "text": [
      "Validating:  10%|█         | 24/235 [00:14<01:40,  2.10it/s, loss=8.2077, avg_loss=7.9763]"
     ]
    },
    {
     "name": "stdout",
     "output_type": "stream",
     "text": [
      "{'kd_loss': 11.638032913208008, 'feature_loss': 0.3570030927658081, 'ce_loss': 8.330680847167969, 'cont_loss': 1.4879647493362427, 'teacher_loss': 8.079045295715332, 'total_loss': 8.207682609558105}\n"
     ]
    },
    {
     "name": "stderr",
     "output_type": "stream",
     "text": [
      "Validating:  11%|█         | 25/235 [00:14<01:40,  2.09it/s, loss=7.9813, avg_loss=7.9765]"
     ]
    },
    {
     "name": "stdout",
     "output_type": "stream",
     "text": [
      "{'kd_loss': 11.332443237304688, 'feature_loss': 0.38059043884277344, 'ce_loss': 8.055421829223633, 'cont_loss': 1.5008220672607422, 'teacher_loss': 8.098544120788574, 'total_loss': 7.981346607208252}\n"
     ]
    },
    {
     "name": "stderr",
     "output_type": "stream",
     "text": [
      "Validating:  11%|█         | 26/235 [00:15<01:39,  2.10it/s, loss=8.1625, avg_loss=7.9836]"
     ]
    },
    {
     "name": "stdout",
     "output_type": "stream",
     "text": [
      "{'kd_loss': 11.548284530639648, 'feature_loss': 0.4553287625312805, 'ce_loss': 8.249991416931152, 'cont_loss': 1.5212174654006958, 'teacher_loss': 8.101129531860352, 'total_loss': 8.162497520446777}\n"
     ]
    },
    {
     "name": "stderr",
     "output_type": "stream",
     "text": [
      "Validating:  11%|█▏        | 27/235 [00:15<01:39,  2.10it/s, loss=8.0072, avg_loss=7.9845]"
     ]
    },
    {
     "name": "stdout",
     "output_type": "stream",
     "text": [
      "{'kd_loss': 11.369084358215332, 'feature_loss': 0.3898118734359741, 'ce_loss': 8.088598251342773, 'cont_loss': 1.461668610572815, 'teacher_loss': 8.084051132202148, 'total_loss': 8.0072021484375}\n"
     ]
    },
    {
     "name": "stderr",
     "output_type": "stream",
     "text": [
      "Validating:  12%|█▏        | 28/235 [00:16<01:39,  2.09it/s, loss=7.7980, avg_loss=7.9778]"
     ]
    },
    {
     "name": "stdout",
     "output_type": "stream",
     "text": [
      "{'kd_loss': 11.097969055175781, 'feature_loss': 0.34781187772750854, 'ce_loss': 7.844390392303467, 'cont_loss': 1.5144526958465576, 'teacher_loss': 8.089550971984863, 'total_loss': 7.797951698303223}\n"
     ]
    },
    {
     "name": "stderr",
     "output_type": "stream",
     "text": [
      "Validating:  12%|█▏        | 29/235 [00:16<01:38,  2.08it/s, loss=8.2556, avg_loss=7.9874]"
     ]
    },
    {
     "name": "stdout",
     "output_type": "stream",
     "text": [
      "{'kd_loss': 11.705254554748535, 'feature_loss': 0.33226609230041504, 'ce_loss': 8.390828132629395, 'cont_loss': 1.5073137283325195, 'teacher_loss': 8.085216522216797, 'total_loss': 8.25561809539795}\n"
     ]
    },
    {
     "name": "stderr",
     "output_type": "stream",
     "text": [
      "Validating:  13%|█▎        | 30/235 [00:16<01:38,  2.09it/s, loss=7.8671, avg_loss=7.9834]"
     ]
    },
    {
     "name": "stdout",
     "output_type": "stream",
     "text": [
      "{'kd_loss': 11.194830894470215, 'feature_loss': 0.3704150915145874, 'ce_loss': 7.931364059448242, 'cont_loss': 1.4254467487335205, 'teacher_loss': 8.086128234863281, 'total_loss': 7.867105484008789}\n"
     ]
    },
    {
     "name": "stderr",
     "output_type": "stream",
     "text": [
      "Validating:  13%|█▎        | 31/235 [00:17<01:37,  2.09it/s, loss=8.0945, avg_loss=7.9870]"
     ]
    },
    {
     "name": "stdout",
     "output_type": "stream",
     "text": [
      "{'kd_loss': 11.494183540344238, 'feature_loss': 0.35644418001174927, 'ce_loss': 8.201083183288574, 'cont_loss': 1.450728178024292, 'teacher_loss': 8.096851348876953, 'total_loss': 8.09446907043457}\n"
     ]
    },
    {
     "name": "stderr",
     "output_type": "stream",
     "text": [
      "Validating:  14%|█▎        | 32/235 [00:17<01:37,  2.09it/s, loss=7.7618, avg_loss=7.9800]"
     ]
    },
    {
     "name": "stdout",
     "output_type": "stream",
     "text": [
      "{'kd_loss': 11.063286781311035, 'feature_loss': 0.30166471004486084, 'ce_loss': 7.813316822052002, 'cont_loss': 1.5086687803268433, 'teacher_loss': 8.100447654724121, 'total_loss': 7.761841297149658}\n"
     ]
    },
    {
     "name": "stderr",
     "output_type": "stream",
     "text": [
      "Validating:  14%|█▍        | 33/235 [00:18<01:36,  2.09it/s, loss=8.0583, avg_loss=7.9823]"
     ]
    },
    {
     "name": "stdout",
     "output_type": "stream",
     "text": [
      "{'kd_loss': 11.444304466247559, 'feature_loss': 0.3323354125022888, 'ce_loss': 8.156030654907227, 'cont_loss': 1.5165162086486816, 'teacher_loss': 8.06509780883789, 'total_loss': 8.058253288269043}\n"
     ]
    },
    {
     "name": "stderr",
     "output_type": "stream",
     "text": [
      "Validating:  14%|█▍        | 34/235 [00:18<01:36,  2.09it/s, loss=7.9677, avg_loss=7.9819]"
     ]
    },
    {
     "name": "stdout",
     "output_type": "stream",
     "text": [
      "{'kd_loss': 11.304529190063477, 'feature_loss': 0.4175049066543579, 'ce_loss': 8.03057861328125, 'cont_loss': 1.5016884803771973, 'teacher_loss': 8.092427253723145, 'total_loss': 7.967712879180908}\n"
     ]
    },
    {
     "name": "stderr",
     "output_type": "stream",
     "text": [
      "Validating:  15%|█▍        | 35/235 [00:19<01:35,  2.09it/s, loss=7.7725, avg_loss=7.9759]"
     ]
    },
    {
     "name": "stdout",
     "output_type": "stream",
     "text": [
      "{'kd_loss': 11.056364059448242, 'feature_loss': 0.40746283531188965, 'ce_loss': 7.807004928588867, 'cont_loss': 1.4562382698059082, 'teacher_loss': 8.075460433959961, 'total_loss': 7.772464275360107}\n"
     ]
    },
    {
     "name": "stderr",
     "output_type": "stream",
     "text": [
      "Validating:  15%|█▌        | 36/235 [00:19<01:35,  2.08it/s, loss=7.8158, avg_loss=7.9715]"
     ]
    },
    {
     "name": "stdout",
     "output_type": "stream",
     "text": [
      "{'kd_loss': 11.141590118408203, 'feature_loss': 0.2592307925224304, 'ce_loss': 7.883627891540527, 'cont_loss': 1.5391368865966797, 'teacher_loss': 8.080991744995117, 'total_loss': 7.8158464431762695}\n"
     ]
    },
    {
     "name": "stderr",
     "output_type": "stream",
     "text": [
      "Validating:  16%|█▌        | 37/235 [00:20<01:34,  2.09it/s, loss=7.9662, avg_loss=7.9713]"
     ]
    },
    {
     "name": "stdout",
     "output_type": "stream",
     "text": [
      "{'kd_loss': 11.317853927612305, 'feature_loss': 0.29587507247924805, 'ce_loss': 8.042132377624512, 'cont_loss': 1.630652904510498, 'teacher_loss': 8.093043327331543, 'total_loss': 7.9662346839904785}\n"
     ]
    },
    {
     "name": "stderr",
     "output_type": "stream",
     "text": [
      "Validating:  16%|█▌        | 38/235 [00:20<01:34,  2.09it/s, loss=7.9596, avg_loss=7.9710]"
     ]
    },
    {
     "name": "stdout",
     "output_type": "stream",
     "text": [
      "{'kd_loss': 11.270666122436523, 'feature_loss': 0.3991508483886719, 'ce_loss': 8.000091552734375, 'cont_loss': 1.715160846710205, 'teacher_loss': 8.087359428405762, 'total_loss': 7.959649562835693}\n"
     ]
    },
    {
     "name": "stderr",
     "output_type": "stream",
     "text": [
      "Validating:  17%|█▋        | 39/235 [00:21<01:33,  2.09it/s, loss=8.0249, avg_loss=7.9724]"
     ]
    },
    {
     "name": "stdout",
     "output_type": "stream",
     "text": [
      "{'kd_loss': 11.40683650970459, 'feature_loss': 0.2957807779312134, 'ce_loss': 8.122822761535645, 'cont_loss': 1.5391895771026611, 'teacher_loss': 8.093774795532227, 'total_loss': 8.024938583374023}\n"
     ]
    },
    {
     "name": "stderr",
     "output_type": "stream",
     "text": [
      "Validating:  17%|█▋        | 40/235 [00:21<01:33,  2.08it/s, loss=7.9927, avg_loss=7.9729]"
     ]
    },
    {
     "name": "stdout",
     "output_type": "stream",
     "text": [
      "{'kd_loss': 11.354918479919434, 'feature_loss': 0.230476975440979, 'ce_loss': 8.075695037841797, 'cont_loss': 1.7437738180160522, 'teacher_loss': 8.100089073181152, 'total_loss': 7.99271821975708}\n"
     ]
    },
    {
     "name": "stderr",
     "output_type": "stream",
     "text": [
      "Validating:  17%|█▋        | 41/235 [00:22<01:37,  2.00it/s, loss=7.7725, avg_loss=7.9680]"
     ]
    },
    {
     "name": "stdout",
     "output_type": "stream",
     "text": [
      "{'kd_loss': 11.05744457244873, 'feature_loss': 0.31911271810531616, 'ce_loss': 7.807640075683594, 'cont_loss': 1.62593674659729, 'teacher_loss': 8.08698558807373, 'total_loss': 7.7724504470825195}\n"
     ]
    },
    {
     "name": "stderr",
     "output_type": "stream",
     "text": [
      "Validating:  18%|█▊        | 42/235 [00:22<01:35,  2.02it/s, loss=7.6334, avg_loss=7.9601]"
     ]
    },
    {
     "name": "stdout",
     "output_type": "stream",
     "text": [
      "{'kd_loss': 10.8799409866333, 'feature_loss': 0.31511253118515015, 'ce_loss': 7.648586273193359, 'cont_loss': 1.5893446207046509, 'teacher_loss': 8.086433410644531, 'total_loss': 7.633368492126465}\n"
     ]
    },
    {
     "name": "stderr",
     "output_type": "stream",
     "text": [
      "Validating:  18%|█▊        | 43/235 [00:23<01:34,  2.04it/s, loss=8.0311, avg_loss=7.9617]"
     ]
    },
    {
     "name": "stdout",
     "output_type": "stream",
     "text": [
      "{'kd_loss': 11.383047103881836, 'feature_loss': 0.4315853714942932, 'ce_loss': 8.101347923278809, 'cont_loss': 1.510434627532959, 'teacher_loss': 8.08193588256836, 'total_loss': 8.031119346618652}\n"
     ]
    },
    {
     "name": "stderr",
     "output_type": "stream",
     "text": [
      "Validating:  19%|█▊        | 44/235 [00:23<01:32,  2.06it/s, loss=8.3252, avg_loss=7.9700]"
     ]
    },
    {
     "name": "stdout",
     "output_type": "stream",
     "text": [
      "{'kd_loss': 11.783961296081543, 'feature_loss': 0.278316855430603, 'ce_loss': 8.461651802062988, 'cont_loss': 1.7130335569381714, 'teacher_loss': 8.080791473388672, 'total_loss': 8.325212478637695}\n"
     ]
    },
    {
     "name": "stderr",
     "output_type": "stream",
     "text": [
      "Validating:  19%|█▉        | 45/235 [00:24<01:38,  1.93it/s, loss=8.0297, avg_loss=7.9713]"
     ]
    },
    {
     "name": "stdout",
     "output_type": "stream",
     "text": [
      "{'kd_loss': 11.390432357788086, 'feature_loss': 0.34718620777130127, 'ce_loss': 8.107751846313477, 'cont_loss': 1.6098644733428955, 'teacher_loss': 8.10098648071289, 'total_loss': 8.02969741821289}\n"
     ]
    },
    {
     "name": "stderr",
     "output_type": "stream",
     "text": [
      "Validating:  20%|█▉        | 46/235 [00:24<01:39,  1.90it/s, loss=8.2204, avg_loss=7.9767]"
     ]
    },
    {
     "name": "stdout",
     "output_type": "stream",
     "text": [
      "{'kd_loss': 11.623735427856445, 'feature_loss': 0.4030574560165405, 'ce_loss': 8.317718505859375, 'cont_loss': 1.6318548917770386, 'teacher_loss': 8.106599807739258, 'total_loss': 8.220378875732422}\n"
     ]
    },
    {
     "name": "stderr",
     "output_type": "stream",
     "text": [
      "Validating:  20%|██        | 47/235 [00:25<01:36,  1.96it/s, loss=8.0381, avg_loss=7.9780]"
     ]
    },
    {
     "name": "stdout",
     "output_type": "stream",
     "text": [
      "{'kd_loss': 11.394037246704102, 'feature_loss': 0.29598748683929443, 'ce_loss': 8.110930442810059, 'cont_loss': 1.7694677114486694, 'teacher_loss': 8.09829330444336, 'total_loss': 8.038130760192871}\n"
     ]
    },
    {
     "name": "stderr",
     "output_type": "stream",
     "text": [
      "Validating:  20%|██        | 48/235 [00:25<01:33,  2.00it/s, loss=7.9358, avg_loss=7.9771]"
     ]
    },
    {
     "name": "stdout",
     "output_type": "stream",
     "text": [
      "{'kd_loss': 11.246583938598633, 'feature_loss': 0.42545610666275024, 'ce_loss': 7.978107452392578, 'cont_loss': 1.608259677886963, 'teacher_loss': 8.096685409545898, 'total_loss': 7.935793876647949}\n"
     ]
    },
    {
     "name": "stderr",
     "output_type": "stream",
     "text": [
      "Validating:  21%|██        | 49/235 [00:26<01:34,  1.96it/s, loss=7.8531, avg_loss=7.9746]"
     ]
    },
    {
     "name": "stdout",
     "output_type": "stream",
     "text": [
      "{'kd_loss': 11.152609825134277, 'feature_loss': 0.33684003353118896, 'ce_loss': 7.89356803894043, 'cont_loss': 1.6727524995803833, 'teacher_loss': 8.096968650817871, 'total_loss': 7.853114604949951}\n"
     ]
    },
    {
     "name": "stderr",
     "output_type": "stream",
     "text": [
      "Validating:  21%|██▏       | 50/235 [00:26<01:32,  2.00it/s, loss=8.0169, avg_loss=7.9755]"
     ]
    },
    {
     "name": "stdout",
     "output_type": "stream",
     "text": [
      "{'kd_loss': 11.358865737915039, 'feature_loss': 0.3713732957839966, 'ce_loss': 8.079191207885742, 'cont_loss': 1.6742228269577026, 'teacher_loss': 8.077556610107422, 'total_loss': 8.016919136047363}\n"
     ]
    },
    {
     "name": "stderr",
     "output_type": "stream",
     "text": [
      "Validating:  22%|██▏       | 51/235 [00:27<01:30,  2.03it/s, loss=7.7300, avg_loss=7.9706]"
     ]
    },
    {
     "name": "stdout",
     "output_type": "stream",
     "text": [
      "{'kd_loss': 10.974872589111328, 'feature_loss': 0.3556199073791504, 'ce_loss': 7.7339653968811035, 'cont_loss': 1.753138542175293, 'teacher_loss': 8.079242706298828, 'total_loss': 7.729973793029785}\n"
     ]
    },
    {
     "name": "stderr",
     "output_type": "stream",
     "text": [
      "Validating:  22%|██▏       | 52/235 [00:27<01:29,  2.04it/s, loss=8.0893, avg_loss=7.9729]"
     ]
    },
    {
     "name": "stdout",
     "output_type": "stream",
     "text": [
      "{'kd_loss': 11.463157653808594, 'feature_loss': 0.3211921453475952, 'ce_loss': 8.173187255859375, 'cont_loss': 1.7050626277923584, 'teacher_loss': 8.094745635986328, 'total_loss': 8.089282989501953}\n"
     ]
    },
    {
     "name": "stderr",
     "output_type": "stream",
     "text": [
      "Validating:  23%|██▎       | 53/235 [00:28<01:35,  1.91it/s, loss=7.9528, avg_loss=7.9725]"
     ]
    },
    {
     "name": "stdout",
     "output_type": "stream",
     "text": [
      "{'kd_loss': 11.26194953918457, 'feature_loss': 0.3639145493507385, 'ce_loss': 7.992001533508301, 'cont_loss': 1.7846689224243164, 'teacher_loss': 8.096513748168945, 'total_loss': 7.9528303146362305}\n"
     ]
    },
    {
     "name": "stderr",
     "output_type": "stream",
     "text": [
      "Validating:  23%|██▎       | 54/235 [00:28<01:32,  1.96it/s, loss=8.1426, avg_loss=7.9757]"
     ]
    },
    {
     "name": "stdout",
     "output_type": "stream",
     "text": [
      "{'kd_loss': 11.495625495910645, 'feature_loss': 0.4553430676460266, 'ce_loss': 8.202336311340332, 'cont_loss': 1.7229605913162231, 'teacher_loss': 8.087079048156738, 'total_loss': 8.142550468444824}\n"
     ]
    },
    {
     "name": "stderr",
     "output_type": "stream",
     "text": [
      "Validating:  23%|██▎       | 55/235 [00:29<01:29,  2.01it/s, loss=7.8576, avg_loss=7.9735]"
     ]
    },
    {
     "name": "stdout",
     "output_type": "stream",
     "text": [
      "{'kd_loss': 11.125467300415039, 'feature_loss': 0.4328513741493225, 'ce_loss': 7.869315147399902, 'cont_loss': 1.7310137748718262, 'teacher_loss': 8.09872055053711, 'total_loss': 7.8575849533081055}\n"
     ]
    },
    {
     "name": "stderr",
     "output_type": "stream",
     "text": [
      "Validating:  24%|██▍       | 56/235 [00:29<01:27,  2.04it/s, loss=8.2002, avg_loss=7.9776]"
     ]
    },
    {
     "name": "stdout",
     "output_type": "stream",
     "text": [
      "{'kd_loss': 11.575709342956543, 'feature_loss': 0.39037585258483887, 'ce_loss': 8.274365425109863, 'cont_loss': 1.8213409185409546, 'teacher_loss': 8.094937324523926, 'total_loss': 8.200238227844238}\n"
     ]
    },
    {
     "name": "stderr",
     "output_type": "stream",
     "text": [
      "Validating:  24%|██▍       | 57/235 [00:30<01:30,  1.97it/s, loss=7.9073, avg_loss=7.9764]"
     ]
    },
    {
     "name": "stdout",
     "output_type": "stream",
     "text": [
      "{'kd_loss': 11.20079517364502, 'feature_loss': 0.35713571310043335, 'ce_loss': 7.937207221984863, 'cont_loss': 1.8066740036010742, 'teacher_loss': 8.09701919555664, 'total_loss': 7.9072957038879395}\n"
     ]
    },
    {
     "name": "stderr",
     "output_type": "stream",
     "text": [
      "Validating:  25%|██▍       | 58/235 [00:30<01:28,  2.01it/s, loss=7.9266, avg_loss=7.9755]"
     ]
    },
    {
     "name": "stdout",
     "output_type": "stream",
     "text": [
      "{'kd_loss': 11.231744766235352, 'feature_loss': 0.3221270442008972, 'ce_loss': 7.964849472045898, 'cont_loss': 1.8351413011550903, 'teacher_loss': 8.097892761230469, 'total_loss': 7.926577568054199}\n"
     ]
    },
    {
     "name": "stderr",
     "output_type": "stream",
     "text": [
      "Validating:  25%|██▌       | 59/235 [00:31<01:26,  2.04it/s, loss=8.1186, avg_loss=7.9779]"
     ]
    },
    {
     "name": "stdout",
     "output_type": "stream",
     "text": [
      "{'kd_loss': 11.483348846435547, 'feature_loss': 0.319923996925354, 'ce_loss': 8.191335678100586, 'cont_loss': 1.8478538990020752, 'teacher_loss': 8.08510971069336, 'total_loss': 8.118644714355469}\n"
     ]
    },
    {
     "name": "stderr",
     "output_type": "stream",
     "text": [
      "Validating:  26%|██▌       | 60/235 [00:31<01:25,  2.05it/s, loss=8.3502, avg_loss=7.9841]"
     ]
    },
    {
     "name": "stdout",
     "output_type": "stream",
     "text": [
      "{'kd_loss': 11.771636962890625, 'feature_loss': 0.38455629348754883, 'ce_loss': 8.45075511932373, 'cont_loss': 1.843469500541687, 'teacher_loss': 8.07002067565918, 'total_loss': 8.350215911865234}\n"
     ]
    },
    {
     "name": "stderr",
     "output_type": "stream",
     "text": [
      "Validating:  26%|██▌       | 61/235 [00:32<01:35,  1.83it/s, loss=7.7827, avg_loss=7.9808]"
     ]
    },
    {
     "name": "stdout",
     "output_type": "stream",
     "text": [
      "{'kd_loss': 11.034170150756836, 'feature_loss': 0.3329659700393677, 'ce_loss': 7.787050724029541, 'cont_loss': 1.8760123252868652, 'teacher_loss': 8.078548431396484, 'total_loss': 7.782682418823242}\n"
     ]
    },
    {
     "name": "stderr",
     "output_type": "stream",
     "text": [
      "Validating:  26%|██▋       | 62/235 [00:32<01:30,  1.90it/s, loss=7.9686, avg_loss=7.9806]"
     ]
    },
    {
     "name": "stdout",
     "output_type": "stream",
     "text": [
      "{'kd_loss': 11.292352676391602, 'feature_loss': 0.2811132073402405, 'ce_loss': 8.019169807434082, 'cont_loss': 1.8777689933776855, 'teacher_loss': 8.091405868530273, 'total_loss': 7.968608379364014}\n"
     ]
    },
    {
     "name": "stderr",
     "output_type": "stream",
     "text": [
      "Validating:  27%|██▋       | 63/235 [00:33<01:27,  1.96it/s, loss=8.1703, avg_loss=7.9836]"
     ]
    },
    {
     "name": "stdout",
     "output_type": "stream",
     "text": [
      "{'kd_loss': 11.525860786437988, 'feature_loss': 0.3372125029563904, 'ce_loss': 8.22987174987793, 'cont_loss': 2.005427837371826, 'teacher_loss': 8.086854934692383, 'total_loss': 8.170278549194336}\n"
     ]
    },
    {
     "name": "stderr",
     "output_type": "stream",
     "text": [
      "Validating:  27%|██▋       | 64/235 [00:33<01:25,  2.00it/s, loss=8.1963, avg_loss=7.9870]"
     ]
    },
    {
     "name": "stdout",
     "output_type": "stream",
     "text": [
      "{'kd_loss': 11.567550659179688, 'feature_loss': 0.3699961304664612, 'ce_loss': 8.267205238342285, 'cont_loss': 1.8835151195526123, 'teacher_loss': 8.079035758972168, 'total_loss': 8.196253776550293}\n"
     ]
    },
    {
     "name": "stderr",
     "output_type": "stream",
     "text": [
      "Validating:  28%|██▊       | 65/235 [00:34<01:23,  2.04it/s, loss=8.1418, avg_loss=7.9893]"
     ]
    },
    {
     "name": "stdout",
     "output_type": "stream",
     "text": [
      "{'kd_loss': 11.501097679138184, 'feature_loss': 0.322335422039032, 'ce_loss': 8.207176208496094, 'cont_loss': 1.9406194686889648, 'teacher_loss': 8.078044891357422, 'total_loss': 8.141839027404785}\n"
     ]
    },
    {
     "name": "stderr",
     "output_type": "stream",
     "text": [
      "Validating:  28%|██▊       | 66/235 [00:34<01:22,  2.06it/s, loss=7.9895, avg_loss=7.9893]"
     ]
    },
    {
     "name": "stdout",
     "output_type": "stream",
     "text": [
      "{'kd_loss': 11.321510314941406, 'feature_loss': 0.27877211570739746, 'ce_loss': 8.04560661315918, 'cont_loss': 1.8692407608032227, 'teacher_loss': 8.082681655883789, 'total_loss': 7.989524841308594}\n"
     ]
    },
    {
     "name": "stderr",
     "output_type": "stream",
     "text": [
      "Validating:  29%|██▊       | 67/235 [00:35<01:21,  2.07it/s, loss=8.1876, avg_loss=7.9923]"
     ]
    },
    {
     "name": "stdout",
     "output_type": "stream",
     "text": [
      "{'kd_loss': 11.55746078491211, 'feature_loss': 0.36531609296798706, 'ce_loss': 8.25765323638916, 'cont_loss': 1.884645938873291, 'teacher_loss': 8.094228744506836, 'total_loss': 8.187573432922363}\n"
     ]
    },
    {
     "name": "stderr",
     "output_type": "stream",
     "text": [
      "Validating:  29%|██▉       | 68/235 [00:35<01:20,  2.08it/s, loss=8.3527, avg_loss=7.9976]"
     ]
    },
    {
     "name": "stdout",
     "output_type": "stream",
     "text": [
      "{'kd_loss': 11.757623672485352, 'feature_loss': 0.33688002824783325, 'ce_loss': 8.4379243850708, 'cont_loss': 2.0707478523254395, 'teacher_loss': 8.081191062927246, 'total_loss': 8.352670669555664}\n"
     ]
    },
    {
     "name": "stderr",
     "output_type": "stream",
     "text": [
      "Validating:  29%|██▉       | 69/235 [00:36<01:19,  2.09it/s, loss=8.0873, avg_loss=7.9989]"
     ]
    },
    {
     "name": "stdout",
     "output_type": "stream",
     "text": [
      "{'kd_loss': 11.435730934143066, 'feature_loss': 0.3323081135749817, 'ce_loss': 8.148539543151855, 'cont_loss': 1.870835781097412, 'teacher_loss': 8.091708183288574, 'total_loss': 8.08725357055664}\n"
     ]
    },
    {
     "name": "stderr",
     "output_type": "stream",
     "text": [
      "Validating:  30%|██▉       | 70/235 [00:36<01:18,  2.09it/s, loss=8.0798, avg_loss=8.0001]"
     ]
    },
    {
     "name": "stdout",
     "output_type": "stream",
     "text": [
      "{'kd_loss': 11.416975021362305, 'feature_loss': 0.3497331142425537, 'ce_loss': 8.132019996643066, 'cont_loss': 1.9027727842330933, 'teacher_loss': 8.095973014831543, 'total_loss': 8.079822540283203}\n"
     ]
    },
    {
     "name": "stderr",
     "output_type": "stream",
     "text": [
      "Validating:  30%|███       | 71/235 [00:37<01:18,  2.10it/s, loss=7.9493, avg_loss=7.9993]"
     ]
    },
    {
     "name": "stdout",
     "output_type": "stream",
     "text": [
      "{'kd_loss': 11.232869148254395, 'feature_loss': 0.3661693334579468, 'ce_loss': 7.96599817276001, 'cont_loss': 1.9651589393615723, 'teacher_loss': 8.093236923217773, 'total_loss': 7.949296951293945}\n"
     ]
    },
    {
     "name": "stderr",
     "output_type": "stream",
     "text": [
      "Validating:  31%|███       | 72/235 [00:37<01:17,  2.10it/s, loss=7.8994, avg_loss=7.9980]"
     ]
    },
    {
     "name": "stdout",
     "output_type": "stream",
     "text": [
      "{'kd_loss': 11.164460182189941, 'feature_loss': 0.36301958560943604, 'ce_loss': 7.9044084548950195, 'cont_loss': 1.992737054824829, 'teacher_loss': 8.081451416015625, 'total_loss': 7.899425029754639}\n"
     ]
    },
    {
     "name": "stderr",
     "output_type": "stream",
     "text": [
      "Validating:  31%|███       | 73/235 [00:38<01:22,  1.96it/s, loss=7.9594, avg_loss=7.9974]"
     ]
    },
    {
     "name": "stdout",
     "output_type": "stream",
     "text": [
      "{'kd_loss': 11.260215759277344, 'feature_loss': 0.3286193609237671, 'ce_loss': 7.990365028381348, 'cont_loss': 1.9344241619110107, 'teacher_loss': 8.08211898803711, 'total_loss': 7.9593987464904785}\n"
     ]
    },
    {
     "name": "stderr",
     "output_type": "stream",
     "text": [
      "Validating:  31%|███▏      | 74/235 [00:38<01:20,  1.99it/s, loss=8.1156, avg_loss=7.9990]"
     ]
    },
    {
     "name": "stdout",
     "output_type": "stream",
     "text": [
      "{'kd_loss': 11.45850658416748, 'feature_loss': 0.31405627727508545, 'ce_loss': 8.168975830078125, 'cont_loss': 2.0179877281188965, 'teacher_loss': 8.085495948791504, 'total_loss': 8.115602493286133}\n"
     ]
    },
    {
     "name": "stderr",
     "output_type": "stream",
     "text": [
      "Validating:  32%|███▏      | 75/235 [00:39<01:18,  2.03it/s, loss=7.9621, avg_loss=7.9985]"
     ]
    },
    {
     "name": "stdout",
     "output_type": "stream",
     "text": [
      "{'kd_loss': 11.256427764892578, 'feature_loss': 0.3167306184768677, 'ce_loss': 7.987351894378662, 'cont_loss': 2.012552261352539, 'teacher_loss': 8.081239700317383, 'total_loss': 7.962112903594971}\n"
     ]
    },
    {
     "name": "stderr",
     "output_type": "stream",
     "text": [
      "Validating:  32%|███▏      | 76/235 [00:39<01:17,  2.05it/s, loss=7.9662, avg_loss=7.9981]"
     ]
    },
    {
     "name": "stdout",
     "output_type": "stream",
     "text": [
      "{'kd_loss': 11.250381469726562, 'feature_loss': 0.3686598539352417, 'ce_loss': 7.981623649597168, 'cont_loss': 1.9963059425354004, 'teacher_loss': 8.090859413146973, 'total_loss': 7.966164588928223}\n"
     ]
    },
    {
     "name": "stderr",
     "output_type": "stream",
     "text": [
      "Validating:  33%|███▎      | 77/235 [00:40<01:22,  1.91it/s, loss=8.1844, avg_loss=8.0005]"
     ]
    },
    {
     "name": "stdout",
     "output_type": "stream",
     "text": [
      "{'kd_loss': 11.535835266113281, 'feature_loss': 0.338853657245636, 'ce_loss': 8.238521575927734, 'cont_loss': 2.0691940784454346, 'teacher_loss': 8.08222770690918, 'total_loss': 8.184432983398438}\n"
     ]
    },
    {
     "name": "stderr",
     "output_type": "stream",
     "text": [
      "Validating:  33%|███▎      | 78/235 [00:40<01:19,  1.97it/s, loss=7.9161, avg_loss=7.9994]"
     ]
    },
    {
     "name": "stdout",
     "output_type": "stream",
     "text": [
      "{'kd_loss': 11.176886558532715, 'feature_loss': 0.3837459087371826, 'ce_loss': 7.915750503540039, 'cont_loss': 2.02285099029541, 'teacher_loss': 8.094303131103516, 'total_loss': 7.9160895347595215}\n"
     ]
    },
    {
     "name": "stderr",
     "output_type": "stream",
     "text": [
      "Validating:  34%|███▎      | 79/235 [00:41<01:17,  2.01it/s, loss=8.0882, avg_loss=8.0006]"
     ]
    },
    {
     "name": "stdout",
     "output_type": "stream",
     "text": [
      "{'kd_loss': 11.40112590789795, 'feature_loss': 0.32185453176498413, 'ce_loss': 8.11721134185791, 'cont_loss': 2.1647486686706543, 'teacher_loss': 8.087882995605469, 'total_loss': 8.088180541992188}\n"
     ]
    },
    {
     "name": "stderr",
     "output_type": "stream",
     "text": [
      "Validating:  34%|███▍      | 80/235 [00:41<01:16,  2.04it/s, loss=8.0523, avg_loss=8.0012]"
     ]
    },
    {
     "name": "stdout",
     "output_type": "stream",
     "text": [
      "{'kd_loss': 11.3580322265625, 'feature_loss': 0.3399404287338257, 'ce_loss': 8.078542709350586, 'cont_loss': 2.0972342491149902, 'teacher_loss': 8.083599090576172, 'total_loss': 8.05234146118164}\n"
     ]
    },
    {
     "name": "stderr",
     "output_type": "stream",
     "text": [
      "Validating:  34%|███▍      | 81/235 [00:42<01:31,  1.68it/s, loss=8.0496, avg_loss=8.0018]"
     ]
    },
    {
     "name": "stdout",
     "output_type": "stream",
     "text": [
      "{'kd_loss': 11.347827911376953, 'feature_loss': 0.3691452741622925, 'ce_loss': 8.069822311401367, 'cont_loss': 2.086636543273926, 'teacher_loss': 8.085858345031738, 'total_loss': 8.049552917480469}\n"
     ]
    },
    {
     "name": "stderr",
     "output_type": "stream",
     "text": [
      "Validating:  35%|███▍      | 82/235 [00:43<01:25,  1.79it/s, loss=8.1189, avg_loss=8.0032]"
     ]
    },
    {
     "name": "stdout",
     "output_type": "stream",
     "text": [
      "{'kd_loss': 11.445337295532227, 'feature_loss': 0.34062421321868896, 'ce_loss': 8.15697193145752, 'cont_loss': 2.099003791809082, 'teacher_loss': 8.090032577514648, 'total_loss': 8.118948936462402}\n"
     ]
    },
    {
     "name": "stderr",
     "output_type": "stream",
     "text": [
      "Validating:  35%|███▌      | 83/235 [00:43<01:20,  1.88it/s, loss=8.0225, avg_loss=8.0035]"
     ]
    },
    {
     "name": "stdout",
     "output_type": "stream",
     "text": [
      "{'kd_loss': 11.315450668334961, 'feature_loss': 0.3471517562866211, 'ce_loss': 8.040053367614746, 'cont_loss': 2.1082887649536133, 'teacher_loss': 8.092000007629395, 'total_loss': 8.0224609375}\n"
     ]
    },
    {
     "name": "stderr",
     "output_type": "stream",
     "text": [
      "Validating:  36%|███▌      | 84/235 [00:44<01:17,  1.95it/s, loss=8.1263, avg_loss=8.0049]"
     ]
    },
    {
     "name": "stdout",
     "output_type": "stream",
     "text": [
      "{'kd_loss': 11.457085609436035, 'feature_loss': 0.3301679491996765, 'ce_loss': 8.167922019958496, 'cont_loss': 2.102405071258545, 'teacher_loss': 8.096444129943848, 'total_loss': 8.126276969909668}\n"
     ]
    },
    {
     "name": "stderr",
     "output_type": "stream",
     "text": [
      "Validating:  36%|███▌      | 85/235 [00:44<01:19,  1.88it/s, loss=8.1633, avg_loss=8.0068]"
     ]
    },
    {
     "name": "stdout",
     "output_type": "stream",
     "text": [
      "{'kd_loss': 11.478955268859863, 'feature_loss': 0.4182417392730713, 'ce_loss': 8.187472343444824, 'cont_loss': 2.130934238433838, 'teacher_loss': 8.08603572845459, 'total_loss': 8.163312911987305}\n"
     ]
    },
    {
     "name": "stderr",
     "output_type": "stream",
     "text": [
      "Validating:  37%|███▋      | 86/235 [00:45<01:16,  1.94it/s, loss=8.0851, avg_loss=8.0077]"
     ]
    },
    {
     "name": "stdout",
     "output_type": "stream",
     "text": [
      "{'kd_loss': 11.373598098754883, 'feature_loss': 0.3623548746109009, 'ce_loss': 8.092268943786621, 'cont_loss': 2.263267755508423, 'teacher_loss': 8.08546257019043, 'total_loss': 8.085144996643066}\n"
     ]
    },
    {
     "name": "stderr",
     "output_type": "stream",
     "text": [
      "Validating:  37%|███▋      | 87/235 [00:45<01:14,  1.99it/s, loss=8.3038, avg_loss=8.0111]"
     ]
    },
    {
     "name": "stdout",
     "output_type": "stream",
     "text": [
      "{'kd_loss': 11.660953521728516, 'feature_loss': 0.43160462379455566, 'ce_loss': 8.35128116607666, 'cont_loss': 2.1259937286376953, 'teacher_loss': 8.084543228149414, 'total_loss': 8.303814888000488}\n"
     ]
    },
    {
     "name": "stderr",
     "output_type": "stream",
     "text": [
      "Validating:  37%|███▋      | 88/235 [00:45<01:12,  2.02it/s, loss=8.1409, avg_loss=8.0126]"
     ]
    },
    {
     "name": "stdout",
     "output_type": "stream",
     "text": [
      "{'kd_loss': 11.458540916442871, 'feature_loss': 0.36685818433761597, 'ce_loss': 8.168996810913086, 'cont_loss': 2.1649646759033203, 'teacher_loss': 8.092018127441406, 'total_loss': 8.140883445739746}\n"
     ]
    },
    {
     "name": "stderr",
     "output_type": "stream",
     "text": [
      "Validating:  38%|███▊      | 89/235 [00:46<01:15,  1.95it/s, loss=8.0872, avg_loss=8.0134]"
     ]
    },
    {
     "name": "stdout",
     "output_type": "stream",
     "text": [
      "{'kd_loss': 11.386495590209961, 'feature_loss': 0.3491443395614624, 'ce_loss': 8.104207992553711, 'cont_loss': 2.2111451625823975, 'teacher_loss': 8.089585304260254, 'total_loss': 8.087224960327148}\n"
     ]
    },
    {
     "name": "stderr",
     "output_type": "stream",
     "text": [
      "Validating:  38%|███▊      | 90/235 [00:47<01:12,  2.00it/s, loss=8.2505, avg_loss=8.0161]"
     ]
    },
    {
     "name": "stdout",
     "output_type": "stream",
     "text": [
      "{'kd_loss': 11.604576110839844, 'feature_loss': 0.36357998847961426, 'ce_loss': 8.300354957580566, 'cont_loss': 2.157686471939087, 'teacher_loss': 8.09157943725586, 'total_loss': 8.250456809997559}\n"
     ]
    },
    {
     "name": "stderr",
     "output_type": "stream",
     "text": [
      "Validating:  39%|███▊      | 91/235 [00:47<01:10,  2.03it/s, loss=8.2520, avg_loss=8.0187]"
     ]
    },
    {
     "name": "stdout",
     "output_type": "stream",
     "text": [
      "{'kd_loss': 11.5947265625, 'feature_loss': 0.31805098056793213, 'ce_loss': 8.29142951965332, 'cont_loss': 2.3395471572875977, 'teacher_loss': 8.075960159301758, 'total_loss': 8.25202751159668}\n"
     ]
    },
    {
     "name": "stderr",
     "output_type": "stream",
     "text": [
      "Validating:  39%|███▉      | 92/235 [00:47<01:09,  2.06it/s, loss=8.1988, avg_loss=8.0206]"
     ]
    },
    {
     "name": "stdout",
     "output_type": "stream",
     "text": [
      "{'kd_loss': 11.547486305236816, 'feature_loss': 0.298425555229187, 'ce_loss': 8.2487211227417, 'cont_loss': 2.206605911254883, 'teacher_loss': 8.080758094787598, 'total_loss': 8.19882869720459}\n"
     ]
    },
    {
     "name": "stderr",
     "output_type": "stream",
     "text": [
      "Validating:  40%|███▉      | 93/235 [00:48<01:12,  1.97it/s, loss=8.1689, avg_loss=8.0222]"
     ]
    },
    {
     "name": "stdout",
     "output_type": "stream",
     "text": [
      "{'kd_loss': 11.500540733337402, 'feature_loss': 0.34589123725891113, 'ce_loss': 8.206550598144531, 'cont_loss': 2.168429374694824, 'teacher_loss': 8.083334922790527, 'total_loss': 8.16885757446289}\n"
     ]
    },
    {
     "name": "stderr",
     "output_type": "stream",
     "text": [
      "Validating:  40%|████      | 94/235 [00:49<01:10,  2.01it/s, loss=8.1014, avg_loss=8.0230]"
     ]
    },
    {
     "name": "stdout",
     "output_type": "stream",
     "text": [
      "{'kd_loss': 11.396028518676758, 'feature_loss': 0.31563854217529297, 'ce_loss': 8.112794876098633, 'cont_loss': 2.347381591796875, 'teacher_loss': 8.087091445922852, 'total_loss': 8.101395606994629}\n"
     ]
    },
    {
     "name": "stderr",
     "output_type": "stream",
     "text": [
      "Validating:  40%|████      | 95/235 [00:49<01:08,  2.04it/s, loss=8.0819, avg_loss=8.0237]"
     ]
    },
    {
     "name": "stdout",
     "output_type": "stream",
     "text": [
      "{'kd_loss': 11.3673677444458, 'feature_loss': 0.3787553310394287, 'ce_loss': 8.086795806884766, 'cont_loss': 2.24460506439209, 'teacher_loss': 8.079672813415527, 'total_loss': 8.081876754760742}\n"
     ]
    },
    {
     "name": "stderr",
     "output_type": "stream",
     "text": [
      "Validating:  41%|████      | 96/235 [00:49<01:07,  2.07it/s, loss=8.2363, avg_loss=8.0259]"
     ]
    },
    {
     "name": "stdout",
     "output_type": "stream",
     "text": [
      "{'kd_loss': 11.575551986694336, 'feature_loss': 0.35488301515579224, 'ce_loss': 8.274151802062988, 'cont_loss': 2.254417896270752, 'teacher_loss': 8.077611923217773, 'total_loss': 8.236300468444824}\n"
     ]
    },
    {
     "name": "stderr",
     "output_type": "stream",
     "text": [
      "Validating:  41%|████▏     | 97/235 [00:50<01:06,  2.08it/s, loss=8.2756, avg_loss=8.0285]"
     ]
    },
    {
     "name": "stdout",
     "output_type": "stream",
     "text": [
      "{'kd_loss': 11.628721237182617, 'feature_loss': 0.35236090421676636, 'ce_loss': 8.322310447692871, 'cont_loss': 2.2472939491271973, 'teacher_loss': 8.076264381408691, 'total_loss': 8.275614738464355}\n"
     ]
    },
    {
     "name": "stderr",
     "output_type": "stream",
     "text": [
      "Validating:  42%|████▏     | 98/235 [00:50<01:05,  2.09it/s, loss=8.2567, avg_loss=8.0308]"
     ]
    },
    {
     "name": "stdout",
     "output_type": "stream",
     "text": [
      "{'kd_loss': 11.571556091308594, 'feature_loss': 0.3919166922569275, 'ce_loss': 8.270547866821289, 'cont_loss': 2.414447784423828, 'teacher_loss': 8.097936630249023, 'total_loss': 8.256669998168945}\n"
     ]
    },
    {
     "name": "stderr",
     "output_type": "stream",
     "text": [
      "Validating:  42%|████▏     | 99/235 [00:51<01:04,  2.10it/s, loss=8.2182, avg_loss=8.0327]"
     ]
    },
    {
     "name": "stdout",
     "output_type": "stream",
     "text": [
      "{'kd_loss': 11.545720100402832, 'feature_loss': 0.339807391166687, 'ce_loss': 8.247293472290039, 'cont_loss': 2.33018159866333, 'teacher_loss': 8.083539009094238, 'total_loss': 8.218185424804688}\n"
     ]
    },
    {
     "name": "stderr",
     "output_type": "stream",
     "text": [
      "Validating:  43%|████▎     | 100/235 [00:51<01:04,  2.11it/s, loss=8.1511, avg_loss=8.0339]"
     ]
    },
    {
     "name": "stdout",
     "output_type": "stream",
     "text": [
      "{'kd_loss': 11.469900131225586, 'feature_loss': 0.28888046741485596, 'ce_loss': 8.179244995117188, 'cont_loss': 2.3364460468292236, 'teacher_loss': 8.082517623901367, 'total_loss': 8.151079177856445}\n"
     ]
    },
    {
     "name": "stderr",
     "output_type": "stream",
     "text": [
      "Validating:  43%|████▎     | 101/235 [00:52<01:04,  2.09it/s, loss=8.2282, avg_loss=8.0358]"
     ]
    },
    {
     "name": "stdout",
     "output_type": "stream",
     "text": [
      "{'kd_loss': 11.562747955322266, 'feature_loss': 0.31915903091430664, 'ce_loss': 8.262927055358887, 'cont_loss': 2.3405909538269043, 'teacher_loss': 8.08881664276123, 'total_loss': 8.228160858154297}\n"
     ]
    },
    {
     "name": "stderr",
     "output_type": "stream",
     "text": [
      "Validating:  43%|████▎     | 102/235 [00:52<01:03,  2.10it/s, loss=8.2347, avg_loss=8.0377]"
     ]
    },
    {
     "name": "stdout",
     "output_type": "stream",
     "text": [
      "{'kd_loss': 11.574831008911133, 'feature_loss': 0.3066611886024475, 'ce_loss': 8.273774147033691, 'cont_loss': 2.3387863636016846, 'teacher_loss': 8.092124938964844, 'total_loss': 8.23465347290039}\n"
     ]
    },
    {
     "name": "stderr",
     "output_type": "stream",
     "text": [
      "Validating:  44%|████▍     | 103/235 [00:53<01:02,  2.10it/s, loss=8.0800, avg_loss=8.0381]"
     ]
    },
    {
     "name": "stdout",
     "output_type": "stream",
     "text": [
      "{'kd_loss': 11.34575366973877, 'feature_loss': 0.31683099269866943, 'ce_loss': 8.067344665527344, 'cont_loss': 2.513777256011963, 'teacher_loss': 8.09107780456543, 'total_loss': 8.079983711242676}\n"
     ]
    },
    {
     "name": "stderr",
     "output_type": "stream",
     "text": [
      "Validating:  44%|████▍     | 104/235 [00:53<01:02,  2.11it/s, loss=8.0821, avg_loss=8.0386]"
     ]
    },
    {
     "name": "stdout",
     "output_type": "stream",
     "text": [
      "{'kd_loss': 11.373620986938477, 'feature_loss': 0.29698848724365234, 'ce_loss': 8.092205047607422, 'cont_loss': 2.363809823989868, 'teacher_loss': 8.090973854064941, 'total_loss': 8.082108497619629}\n"
     ]
    },
    {
     "name": "stderr",
     "output_type": "stream",
     "text": [
      "Validating:  45%|████▍     | 105/235 [00:54<01:01,  2.10it/s, loss=8.1648, avg_loss=8.0398]"
     ]
    },
    {
     "name": "stdout",
     "output_type": "stream",
     "text": [
      "{'kd_loss': 11.474956512451172, 'feature_loss': 0.3115130662918091, 'ce_loss': 8.184038162231445, 'cont_loss': 2.389413833618164, 'teacher_loss': 8.090940475463867, 'total_loss': 8.164841651916504}\n"
     ]
    },
    {
     "name": "stderr",
     "output_type": "stream",
     "text": [
      "Validating:  45%|████▌     | 106/235 [00:54<01:01,  2.11it/s, loss=8.2353, avg_loss=8.0416]"
     ]
    },
    {
     "name": "stdout",
     "output_type": "stream",
     "text": [
      "{'kd_loss': 11.529657363891602, 'feature_loss': 0.3848194479942322, 'ce_loss': 8.23294448852539, 'cont_loss': 2.5332107543945312, 'teacher_loss': 8.08279800415039, 'total_loss': 8.235325813293457}\n"
     ]
    },
    {
     "name": "stderr",
     "output_type": "stream",
     "text": [
      "Validating:  46%|████▌     | 107/235 [00:55<01:00,  2.11it/s, loss=8.0679, avg_loss=8.0419]"
     ]
    },
    {
     "name": "stdout",
     "output_type": "stream",
     "text": [
      "{'kd_loss': 11.324111938476562, 'feature_loss': 0.42558014392852783, 'ce_loss': 8.04808235168457, 'cont_loss': 2.3392128944396973, 'teacher_loss': 8.086735725402832, 'total_loss': 8.067914962768555}\n"
     ]
    },
    {
     "name": "stderr",
     "output_type": "stream",
     "text": [
      "Validating:  46%|████▌     | 108/235 [00:55<01:00,  2.11it/s, loss=8.1077, avg_loss=8.0425]"
     ]
    },
    {
     "name": "stdout",
     "output_type": "stream",
     "text": [
      "{'kd_loss': 11.388455390930176, 'feature_loss': 0.3770241141319275, 'ce_loss': 8.105985641479492, 'cont_loss': 2.345487594604492, 'teacher_loss': 8.073748588562012, 'total_loss': 8.1077299118042}\n"
     ]
    },
    {
     "name": "stderr",
     "output_type": "stream",
     "text": [
      "Validating:  46%|████▋     | 109/235 [00:56<00:59,  2.11it/s, loss=8.1256, avg_loss=8.0432]"
     ]
    },
    {
     "name": "stdout",
     "output_type": "stream",
     "text": [
      "{'kd_loss': 11.401627540588379, 'feature_loss': 0.328977108001709, 'ce_loss': 8.117562294006348, 'cont_loss': 2.5216870307922363, 'teacher_loss': 8.093913078308105, 'total_loss': 8.125640869140625}\n"
     ]
    },
    {
     "name": "stderr",
     "output_type": "stream",
     "text": [
      "Validating:  47%|████▋     | 110/235 [00:56<00:59,  2.10it/s, loss=8.2420, avg_loss=8.0450]"
     ]
    },
    {
     "name": "stdout",
     "output_type": "stream",
     "text": [
      "{'kd_loss': 11.55195426940918, 'feature_loss': 0.3806573748588562, 'ce_loss': 8.253096580505371, 'cont_loss': 2.4383156299591064, 'teacher_loss': 8.085820198059082, 'total_loss': 8.241983413696289}\n"
     ]
    },
    {
     "name": "stderr",
     "output_type": "stream",
     "text": [
      "Validating:  47%|████▋     | 111/235 [00:57<00:58,  2.11it/s, loss=8.1265, avg_loss=8.0458]"
     ]
    },
    {
     "name": "stdout",
     "output_type": "stream",
     "text": [
      "{'kd_loss': 11.408699989318848, 'feature_loss': 0.34408921003341675, 'ce_loss': 8.12395191192627, 'cont_loss': 2.4466652870178223, 'teacher_loss': 8.089677810668945, 'total_loss': 8.126544952392578}\n"
     ]
    },
    {
     "name": "stderr",
     "output_type": "stream",
     "text": [
      "Validating:  48%|████▊     | 112/235 [00:57<00:58,  2.11it/s, loss=8.0905, avg_loss=8.0462]"
     ]
    },
    {
     "name": "stdout",
     "output_type": "stream",
     "text": [
      "{'kd_loss': 11.348773002624512, 'feature_loss': 0.3994230031967163, 'ce_loss': 8.07036018371582, 'cont_loss': 2.4295835494995117, 'teacher_loss': 8.089860916137695, 'total_loss': 8.090496063232422}\n"
     ]
    },
    {
     "name": "stderr",
     "output_type": "stream",
     "text": [
      "Validating:  48%|████▊     | 113/235 [00:58<01:00,  2.02it/s, loss=8.3441, avg_loss=8.0488]"
     ]
    },
    {
     "name": "stdout",
     "output_type": "stream",
     "text": [
      "{'kd_loss': 11.69551944732666, 'feature_loss': 0.35515832901000977, 'ce_loss': 8.382142066955566, 'cont_loss': 2.4195492267608643, 'teacher_loss': 8.086701393127441, 'total_loss': 8.344051361083984}\n"
     ]
    },
    {
     "name": "stderr",
     "output_type": "stream",
     "text": [
      "Validating:  49%|████▊     | 114/235 [00:58<01:00,  2.01it/s, loss=8.2326, avg_loss=8.0504]"
     ]
    },
    {
     "name": "stdout",
     "output_type": "stream",
     "text": [
      "{'kd_loss': 11.519052505493164, 'feature_loss': 0.3848438262939453, 'ce_loss': 8.223333358764648, 'cont_loss': 2.586801052093506, 'teacher_loss': 8.085564613342285, 'total_loss': 8.232603073120117}\n"
     ]
    },
    {
     "name": "stderr",
     "output_type": "stream",
     "text": [
      "Validating:  49%|████▉     | 115/235 [00:59<00:58,  2.04it/s, loss=8.1266, avg_loss=8.0511]"
     ]
    },
    {
     "name": "stdout",
     "output_type": "stream",
     "text": [
      "{'kd_loss': 11.404255867004395, 'feature_loss': 0.36258625984191895, 'ce_loss': 8.120155334472656, 'cont_loss': 2.4428205490112305, 'teacher_loss': 8.082199096679688, 'total_loss': 8.126564025878906}\n"
     ]
    },
    {
     "name": "stderr",
     "output_type": "stream",
     "text": [
      "Validating:  49%|████▉     | 116/235 [00:59<00:57,  2.07it/s, loss=8.1304, avg_loss=8.0518]"
     ]
    },
    {
     "name": "stdout",
     "output_type": "stream",
     "text": [
      "{'kd_loss': 11.41970443725586, 'feature_loss': 0.3046882152557373, 'ce_loss': 8.134112358093262, 'cont_loss': 2.479365825653076, 'teacher_loss': 8.076644897460938, 'total_loss': 8.130400657653809}\n"
     ]
    },
    {
     "name": "stderr",
     "output_type": "stream",
     "text": [
      "Validating:  50%|████▉     | 117/235 [01:00<00:58,  2.00it/s, loss=8.1393, avg_loss=8.0525]"
     ]
    },
    {
     "name": "stdout",
     "output_type": "stream",
     "text": [
      "{'kd_loss': 11.40337085723877, 'feature_loss': 0.3893166780471802, 'ce_loss': 8.119362831115723, 'cont_loss': 2.5235114097595215, 'teacher_loss': 8.088323593139648, 'total_loss': 8.139307975769043}\n"
     ]
    },
    {
     "name": "stderr",
     "output_type": "stream",
     "text": [
      "Validating:  50%|█████     | 118/235 [01:00<00:58,  2.01it/s, loss=8.0792, avg_loss=8.0527]"
     ]
    },
    {
     "name": "stdout",
     "output_type": "stream",
     "text": [
      "{'kd_loss': 11.336140632629395, 'feature_loss': 0.3597400188446045, 'ce_loss': 8.0587797164917, 'cont_loss': 2.4930317401885986, 'teacher_loss': 8.091958999633789, 'total_loss': 8.079218864440918}\n"
     ]
    },
    {
     "name": "stderr",
     "output_type": "stream",
     "text": [
      "Validating:  51%|█████     | 119/235 [01:01<00:56,  2.04it/s, loss=8.2857, avg_loss=8.0547]"
     ]
    },
    {
     "name": "stdout",
     "output_type": "stream",
     "text": [
      "{'kd_loss': 11.614887237548828, 'feature_loss': 0.3246561884880066, 'ce_loss': 8.309502601623535, 'cont_loss': 2.510457992553711, 'teacher_loss': 8.07625961303711, 'total_loss': 8.285733222961426}\n"
     ]
    },
    {
     "name": "stderr",
     "output_type": "stream",
     "text": [
      "Validating:  51%|█████     | 120/235 [01:01<00:55,  2.06it/s, loss=8.0500, avg_loss=8.0547]"
     ]
    },
    {
     "name": "stdout",
     "output_type": "stream",
     "text": [
      "{'kd_loss': 11.281333923339844, 'feature_loss': 0.3967604637145996, 'ce_loss': 8.009894371032715, 'cont_loss': 2.5417630672454834, 'teacher_loss': 8.082456588745117, 'total_loss': 8.050019264221191}\n"
     ]
    },
    {
     "name": "stderr",
     "output_type": "stream",
     "text": [
      "Validating:  51%|█████▏    | 121/235 [01:02<00:55,  2.04it/s, loss=8.2934, avg_loss=8.0566]"
     ]
    },
    {
     "name": "stdout",
     "output_type": "stream",
     "text": [
      "{'kd_loss': 11.61428165435791, 'feature_loss': 0.34081268310546875, 'ce_loss': 8.309188842773438, 'cont_loss': 2.5581870079040527, 'teacher_loss': 8.079106330871582, 'total_loss': 8.29336929321289}\n"
     ]
    },
    {
     "name": "stderr",
     "output_type": "stream",
     "text": [
      "Validating:  52%|█████▏    | 122/235 [01:02<00:57,  1.98it/s, loss=8.1558, avg_loss=8.0574]"
     ]
    },
    {
     "name": "stdout",
     "output_type": "stream",
     "text": [
      "{'kd_loss': 11.432690620422363, 'feature_loss': 0.33694523572921753, 'ce_loss': 8.145527839660645, 'cont_loss': 2.5712509155273438, 'teacher_loss': 8.08059310913086, 'total_loss': 8.155801773071289}\n"
     ]
    },
    {
     "name": "stderr",
     "output_type": "stream",
     "text": [
      "Validating:  52%|█████▏    | 123/235 [01:03<00:55,  2.02it/s, loss=8.2110, avg_loss=8.0587]"
     ]
    },
    {
     "name": "stdout",
     "output_type": "stream",
     "text": [
      "{'kd_loss': 11.493759155273438, 'feature_loss': 0.3342322111129761, 'ce_loss': 8.200257301330566, 'cont_loss': 2.6649832725524902, 'teacher_loss': 8.098039627075195, 'total_loss': 8.210951805114746}\n"
     ]
    },
    {
     "name": "stderr",
     "output_type": "stream",
     "text": [
      "Validating:  53%|█████▎    | 124/235 [01:03<00:54,  2.05it/s, loss=8.1058, avg_loss=8.0591]"
     ]
    },
    {
     "name": "stdout",
     "output_type": "stream",
     "text": [
      "{'kd_loss': 11.36978816986084, 'feature_loss': 0.35617661476135254, 'ce_loss': 8.089153289794922, 'cont_loss': 2.5101327896118164, 'teacher_loss': 8.077974319458008, 'total_loss': 8.105825424194336}\n"
     ]
    },
    {
     "name": "stderr",
     "output_type": "stream",
     "text": [
      "Validating:  53%|█████▎    | 125/235 [01:03<00:53,  2.05it/s, loss=8.0490, avg_loss=8.0590]"
     ]
    },
    {
     "name": "stdout",
     "output_type": "stream",
     "text": [
      "{'kd_loss': 11.27277946472168, 'feature_loss': 0.3511810302734375, 'ce_loss': 8.00210189819336, 'cont_loss': 2.6880886554718018, 'teacher_loss': 8.091917991638184, 'total_loss': 8.04899787902832}\n"
     ]
    },
    {
     "name": "stderr",
     "output_type": "stream",
     "text": [
      "Validating:  54%|█████▎    | 126/235 [01:04<00:52,  2.06it/s, loss=8.0865, avg_loss=8.0592]"
     ]
    },
    {
     "name": "stdout",
     "output_type": "stream",
     "text": [
      "{'kd_loss': 11.342473983764648, 'feature_loss': 0.3422737717628479, 'ce_loss': 8.0645112991333, 'cont_loss': 2.5529308319091797, 'teacher_loss': 8.074947357177734, 'total_loss': 8.086542129516602}\n"
     ]
    },
    {
     "name": "stderr",
     "output_type": "stream",
     "text": [
      "Validating:  54%|█████▍    | 127/235 [01:04<00:51,  2.08it/s, loss=8.3453, avg_loss=8.0615]"
     ]
    },
    {
     "name": "stdout",
     "output_type": "stream",
     "text": [
      "{'kd_loss': 11.660356521606445, 'feature_loss': 0.3956429958343506, 'ce_loss': 8.350664138793945, 'cont_loss': 2.6174111366271973, 'teacher_loss': 8.092016220092773, 'total_loss': 8.345277786254883}\n"
     ]
    },
    {
     "name": "stderr",
     "output_type": "stream",
     "text": [
      "Validating:  54%|█████▍    | 128/235 [01:05<00:51,  2.09it/s, loss=8.1634, avg_loss=8.0623]"
     ]
    },
    {
     "name": "stdout",
     "output_type": "stream",
     "text": [
      "{'kd_loss': 11.436120986938477, 'feature_loss': 0.35326671600341797, 'ce_loss': 8.148736000061035, 'cont_loss': 2.588522434234619, 'teacher_loss': 8.081327438354492, 'total_loss': 8.163448333740234}\n"
     ]
    },
    {
     "name": "stderr",
     "output_type": "stream",
     "text": [
      "Validating:  55%|█████▍    | 129/235 [01:05<00:51,  2.07it/s, loss=8.3003, avg_loss=8.0641]"
     ]
    },
    {
     "name": "stdout",
     "output_type": "stream",
     "text": [
      "{'kd_loss': 11.617927551269531, 'feature_loss': 0.3267000913619995, 'ce_loss': 8.312417030334473, 'cont_loss': 2.62838077545166, 'teacher_loss': 8.08961296081543, 'total_loss': 8.300315856933594}\n"
     ]
    },
    {
     "name": "stderr",
     "output_type": "stream",
     "text": [
      "Validating:  55%|█████▌    | 130/235 [01:06<00:51,  2.04it/s, loss=8.2071, avg_loss=8.0652]"
     ]
    },
    {
     "name": "stdout",
     "output_type": "stream",
     "text": [
      "{'kd_loss': 11.476527214050293, 'feature_loss': 0.3242582678794861, 'ce_loss': 8.184966087341309, 'cont_loss': 2.776350975036621, 'teacher_loss': 8.078039169311523, 'total_loss': 8.207084655761719}\n"
     ]
    },
    {
     "name": "stderr",
     "output_type": "stream",
     "text": [
      "Validating:  56%|█████▌    | 131/235 [01:06<00:50,  2.06it/s, loss=8.1730, avg_loss=8.0660]"
     ]
    },
    {
     "name": "stdout",
     "output_type": "stream",
     "text": [
      "{'kd_loss': 11.418306350708008, 'feature_loss': 0.3597375154495239, 'ce_loss': 8.132608413696289, 'cont_loss': 2.8072850704193115, 'teacher_loss': 8.080801010131836, 'total_loss': 8.173042297363281}\n"
     ]
    },
    {
     "name": "stderr",
     "output_type": "stream",
     "text": [
      "Validating:  56%|█████▌    | 132/235 [01:07<00:49,  2.08it/s, loss=8.1628, avg_loss=8.0668]"
     ]
    },
    {
     "name": "stdout",
     "output_type": "stream",
     "text": [
      "{'kd_loss': 11.43644905090332, 'feature_loss': 0.3291889429092407, 'ce_loss': 8.149185180664062, 'cont_loss': 2.627457857131958, 'teacher_loss': 8.090188026428223, 'total_loss': 8.162837028503418}\n"
     ]
    },
    {
     "name": "stderr",
     "output_type": "stream",
     "text": [
      "Validating:  57%|█████▋    | 133/235 [01:07<00:51,  1.98it/s, loss=8.0716, avg_loss=8.0668]"
     ]
    },
    {
     "name": "stdout",
     "output_type": "stream",
     "text": [
      "{'kd_loss': 11.304842948913574, 'feature_loss': 0.36419153213500977, 'ce_loss': 8.030769348144531, 'cont_loss': 2.6455135345458984, 'teacher_loss': 8.0778226852417, 'total_loss': 8.071634292602539}\n"
     ]
    },
    {
     "name": "stderr",
     "output_type": "stream",
     "text": [
      "Validating:  57%|█████▋    | 134/235 [01:08<00:50,  2.02it/s, loss=8.2566, avg_loss=8.0682]"
     ]
    },
    {
     "name": "stdout",
     "output_type": "stream",
     "text": [
      "{'kd_loss': 11.532352447509766, 'feature_loss': 0.3522074222564697, 'ce_loss': 8.235614776611328, 'cont_loss': 2.7897002696990967, 'teacher_loss': 8.094347953796387, 'total_loss': 8.256598472595215}\n"
     ]
    },
    {
     "name": "stderr",
     "output_type": "stream",
     "text": [
      "Validating:  57%|█████▋    | 135/235 [01:08<00:48,  2.04it/s, loss=8.1447, avg_loss=8.0688]"
     ]
    },
    {
     "name": "stdout",
     "output_type": "stream",
     "text": [
      "{'kd_loss': 11.357321739196777, 'feature_loss': 0.38169461488723755, 'ce_loss': 8.078083038330078, 'cont_loss': 2.94187068939209, 'teacher_loss': 8.082209587097168, 'total_loss': 8.14468765258789}\n"
     ]
    },
    {
     "name": "stderr",
     "output_type": "stream",
     "text": [
      "Validating:  58%|█████▊    | 136/235 [01:09<00:48,  2.06it/s, loss=8.2438, avg_loss=8.0701]"
     ]
    },
    {
     "name": "stdout",
     "output_type": "stream",
     "text": [
      "{'kd_loss': 11.541812896728516, 'feature_loss': 0.32490718364715576, 'ce_loss': 8.243742942810059, 'cont_loss': 2.646059036254883, 'teacher_loss': 8.08588981628418, 'total_loss': 8.243809700012207}\n"
     ]
    },
    {
     "name": "stderr",
     "output_type": "stream",
     "text": [
      "Validating:  58%|█████▊    | 137/235 [01:09<00:48,  2.03it/s, loss=8.1623, avg_loss=8.0707]"
     ]
    },
    {
     "name": "stdout",
     "output_type": "stream",
     "text": [
      "{'kd_loss': 11.417572021484375, 'feature_loss': 0.36945319175720215, 'ce_loss': 8.132142066955566, 'cont_loss': 2.685415267944336, 'teacher_loss': 8.092485427856445, 'total_loss': 8.162318229675293}\n"
     ]
    },
    {
     "name": "stderr",
     "output_type": "stream",
     "text": [
      "Validating:  59%|█████▊    | 138/235 [01:10<00:47,  2.05it/s, loss=8.2299, avg_loss=8.0719]"
     ]
    },
    {
     "name": "stdout",
     "output_type": "stream",
     "text": [
      "{'kd_loss': 11.509078979492188, 'feature_loss': 0.3453803062438965, 'ce_loss': 8.21456527709961, 'cont_loss': 2.713892936706543, 'teacher_loss': 8.08855152130127, 'total_loss': 8.229923248291016}\n"
     ]
    },
    {
     "name": "stderr",
     "output_type": "stream",
     "text": [
      "Validating:  59%|█████▉    | 139/235 [01:10<00:46,  2.07it/s, loss=8.2637, avg_loss=8.0733]"
     ]
    },
    {
     "name": "stdout",
     "output_type": "stream",
     "text": [
      "{'kd_loss': 11.521895408630371, 'feature_loss': 0.38792234659194946, 'ce_loss': 8.226186752319336, 'cont_loss': 2.8692262172698975, 'teacher_loss': 8.090529441833496, 'total_loss': 8.263739585876465}\n"
     ]
    },
    {
     "name": "stderr",
     "output_type": "stream",
     "text": [
      "Validating:  60%|█████▉    | 140/235 [01:11<00:45,  2.08it/s, loss=8.1289, avg_loss=8.0737]"
     ]
    },
    {
     "name": "stdout",
     "output_type": "stream",
     "text": [
      "{'kd_loss': 11.375993728637695, 'feature_loss': 0.3652260899543762, 'ce_loss': 8.094579696655273, 'cont_loss': 2.6763808727264404, 'teacher_loss': 8.08346176147461, 'total_loss': 8.128912925720215}\n"
     ]
    },
    {
     "name": "stderr",
     "output_type": "stream",
     "text": [
      "Validating:  60%|██████    | 141/235 [01:11<00:48,  1.94it/s, loss=8.2346, avg_loss=8.0748]"
     ]
    },
    {
     "name": "stdout",
     "output_type": "stream",
     "text": [
      "{'kd_loss': 11.512264251708984, 'feature_loss': 0.3687629699707031, 'ce_loss': 8.217428207397461, 'cont_loss': 2.6895437240600586, 'teacher_loss': 8.085341453552246, 'total_loss': 8.234583854675293}\n"
     ]
    },
    {
     "name": "stderr",
     "output_type": "stream",
     "text": [
      "Validating:  60%|██████    | 142/235 [01:12<00:46,  1.98it/s, loss=8.0670, avg_loss=8.0748]"
     ]
    },
    {
     "name": "stdout",
     "output_type": "stream",
     "text": [
      "{'kd_loss': 11.265090942382812, 'feature_loss': 0.3646818995475769, 'ce_loss': 7.995110988616943, 'cont_loss': 2.899894952774048, 'teacher_loss': 8.085323333740234, 'total_loss': 8.067007064819336}\n"
     ]
    },
    {
     "name": "stderr",
     "output_type": "stream",
     "text": [
      "Validating:  61%|██████    | 143/235 [01:12<00:45,  2.03it/s, loss=8.2478, avg_loss=8.0760]"
     ]
    },
    {
     "name": "stdout",
     "output_type": "stream",
     "text": [
      "{'kd_loss': 11.516079902648926, 'feature_loss': 0.3922778367996216, 'ce_loss': 8.220738410949707, 'cont_loss': 2.746534585952759, 'teacher_loss': 8.087858200073242, 'total_loss': 8.247836112976074}\n"
     ]
    },
    {
     "name": "stderr",
     "output_type": "stream",
     "text": [
      "Validating:  61%|██████▏   | 144/235 [01:13<00:44,  2.06it/s, loss=8.2457, avg_loss=8.0772]"
     ]
    },
    {
     "name": "stdout",
     "output_type": "stream",
     "text": [
      "{'kd_loss': 11.51943302154541, 'feature_loss': 0.35862040519714355, 'ce_loss': 8.223894119262695, 'cont_loss': 2.7666032314300537, 'teacher_loss': 8.087747573852539, 'total_loss': 8.245715141296387}\n"
     ]
    },
    {
     "name": "stderr",
     "output_type": "stream",
     "text": [
      "Validating:  62%|██████▏   | 145/235 [01:14<00:54,  1.64it/s, loss=8.2944, avg_loss=8.0786]"
     ]
    },
    {
     "name": "stdout",
     "output_type": "stream",
     "text": [
      "{'kd_loss': 11.559980392456055, 'feature_loss': 0.3709186911582947, 'ce_loss': 8.260137557983398, 'cont_loss': 2.921253204345703, 'teacher_loss': 8.079044342041016, 'total_loss': 8.294357299804688}\n"
     ]
    },
    {
     "name": "stderr",
     "output_type": "stream",
     "text": [
      "Validating:  62%|██████▏   | 146/235 [01:14<00:50,  1.76it/s, loss=8.3745, avg_loss=8.0807]"
     ]
    },
    {
     "name": "stdout",
     "output_type": "stream",
     "text": [
      "{'kd_loss': 11.669843673706055, 'feature_loss': 0.3531961441040039, 'ce_loss': 8.359036445617676, 'cont_loss': 2.923574924468994, 'teacher_loss': 8.078437805175781, 'total_loss': 8.37454891204834}\n"
     ]
    },
    {
     "name": "stderr",
     "output_type": "stream",
     "text": [
      "Validating:  63%|██████▎   | 147/235 [01:15<00:47,  1.85it/s, loss=8.2475, avg_loss=8.0818]"
     ]
    },
    {
     "name": "stdout",
     "output_type": "stream",
     "text": [
      "{'kd_loss': 11.503386497497559, 'feature_loss': 0.3544924259185791, 'ce_loss': 8.20927619934082, 'cont_loss': 2.9155404567718506, 'teacher_loss': 8.080009460449219, 'total_loss': 8.247517585754395}\n"
     ]
    },
    {
     "name": "stderr",
     "output_type": "stream",
     "text": [
      "Validating:  63%|██████▎   | 148/235 [01:15<00:45,  1.93it/s, loss=8.2362, avg_loss=8.0829]"
     ]
    },
    {
     "name": "stdout",
     "output_type": "stream",
     "text": [
      "{'kd_loss': 11.480999946594238, 'feature_loss': 0.3766062259674072, 'ce_loss': 8.189393997192383, 'cont_loss': 2.9274773597717285, 'teacher_loss': 8.0952787399292, 'total_loss': 8.236226081848145}\n"
     ]
    },
    {
     "name": "stderr",
     "output_type": "stream",
     "text": [
      "Validating:  63%|██████▎   | 149/235 [01:16<00:44,  1.95it/s, loss=8.1632, avg_loss=8.0834]"
     ]
    },
    {
     "name": "stdout",
     "output_type": "stream",
     "text": [
      "{'kd_loss': 11.404550552368164, 'feature_loss': 0.3463972806930542, 'ce_loss': 8.120633125305176, 'cont_loss': 2.838282346725464, 'teacher_loss': 8.089103698730469, 'total_loss': 8.16318130493164}\n"
     ]
    },
    {
     "name": "stderr",
     "output_type": "stream",
     "text": [
      "Validating:  64%|██████▍   | 150/235 [01:16<00:42,  2.00it/s, loss=8.1881, avg_loss=8.0841]"
     ]
    },
    {
     "name": "stdout",
     "output_type": "stream",
     "text": [
      "{'kd_loss': 11.439526557922363, 'feature_loss': 0.3486900329589844, 'ce_loss': 8.151663780212402, 'cont_loss': 2.8187761306762695, 'teacher_loss': 8.089824676513672, 'total_loss': 8.188092231750488}\n"
     ]
    },
    {
     "name": "stderr",
     "output_type": "stream",
     "text": [
      "Validating:  64%|██████▍   | 151/235 [01:17<00:41,  2.04it/s, loss=8.2628, avg_loss=8.0853]"
     ]
    },
    {
     "name": "stdout",
     "output_type": "stream",
     "text": [
      "{'kd_loss': 11.501750946044922, 'feature_loss': 0.384812593460083, 'ce_loss': 8.207989692687988, 'cont_loss': 3.018968105316162, 'teacher_loss': 8.080207824707031, 'total_loss': 8.262755393981934}\n"
     ]
    },
    {
     "name": "stderr",
     "output_type": "stream",
     "text": [
      "Validating:  65%|██████▍   | 152/235 [01:17<00:40,  2.06it/s, loss=8.1706, avg_loss=8.0858]"
     ]
    },
    {
     "name": "stdout",
     "output_type": "stream",
     "text": [
      "{'kd_loss': 11.4041748046875, 'feature_loss': 0.37094932794570923, 'ce_loss': 8.120119094848633, 'cont_loss': 2.8670434951782227, 'teacher_loss': 8.08139705657959, 'total_loss': 8.170611381530762}\n"
     ]
    },
    {
     "name": "stderr",
     "output_type": "stream",
     "text": [
      "Validating:  65%|██████▌   | 153/235 [01:18<00:41,  1.96it/s, loss=8.3543, avg_loss=8.0876]"
     ]
    },
    {
     "name": "stdout",
     "output_type": "stream",
     "text": [
      "{'kd_loss': 11.626710891723633, 'feature_loss': 0.3794996738433838, 'ce_loss': 8.320281982421875, 'cont_loss': 2.9957690238952637, 'teacher_loss': 8.08621597290039, 'total_loss': 8.354273796081543}\n"
     ]
    },
    {
     "name": "stderr",
     "output_type": "stream",
     "text": [
      "Validating:  66%|██████▌   | 154/235 [01:18<00:40,  2.01it/s, loss=8.2901, avg_loss=8.0889]"
     ]
    },
    {
     "name": "stdout",
     "output_type": "stream",
     "text": [
      "{'kd_loss': 11.538358688354492, 'feature_loss': 0.3822992444038391, 'ce_loss': 8.240965843200684, 'cont_loss': 3.018977642059326, 'teacher_loss': 8.096467018127441, 'total_loss': 8.290087699890137}\n"
     ]
    },
    {
     "name": "stderr",
     "output_type": "stream",
     "text": [
      "Validating:  66%|██████▌   | 155/235 [01:19<00:39,  2.04it/s, loss=8.1054, avg_loss=8.0890]"
     ]
    },
    {
     "name": "stdout",
     "output_type": "stream",
     "text": [
      "{'kd_loss': 11.306148529052734, 'feature_loss': 0.39975231885910034, 'ce_loss': 8.032118797302246, 'cont_loss': 2.901906728744507, 'teacher_loss': 8.082778930664062, 'total_loss': 8.105447769165039}\n"
     ]
    },
    {
     "name": "stderr",
     "output_type": "stream",
     "text": [
      "Validating:  66%|██████▋   | 156/235 [01:19<00:38,  2.06it/s, loss=8.2680, avg_loss=8.0902]"
     ]
    },
    {
     "name": "stdout",
     "output_type": "stream",
     "text": [
      "{'kd_loss': 11.521881103515625, 'feature_loss': 0.3870524764060974, 'ce_loss': 8.226015090942383, 'cont_loss': 2.91408634185791, 'teacher_loss': 8.079524040222168, 'total_loss': 8.267977714538574}\n"
     ]
    },
    {
     "name": "stderr",
     "output_type": "stream",
     "text": [
      "Validating:  67%|██████▋   | 157/235 [01:20<00:40,  1.92it/s, loss=8.2119, avg_loss=8.0909]"
     ]
    },
    {
     "name": "stdout",
     "output_type": "stream",
     "text": [
      "{'kd_loss': 11.424163818359375, 'feature_loss': 0.3818795680999756, 'ce_loss': 8.138221740722656, 'cont_loss': 3.1060075759887695, 'teacher_loss': 8.094674110412598, 'total_loss': 8.211931228637695}\n"
     ]
    },
    {
     "name": "stderr",
     "output_type": "stream",
     "text": [
      "Validating:  67%|██████▋   | 158/235 [01:20<00:38,  1.98it/s, loss=8.2067, avg_loss=8.0917]"
     ]
    },
    {
     "name": "stdout",
     "output_type": "stream",
     "text": [
      "{'kd_loss': 11.442033767700195, 'feature_loss': 0.3801971673965454, 'ce_loss': 8.15425968170166, 'cont_loss': 2.921928882598877, 'teacher_loss': 8.081175804138184, 'total_loss': 8.20674991607666}\n"
     ]
    },
    {
     "name": "stderr",
     "output_type": "stream",
     "text": [
      "Validating:  68%|██████▊   | 159/235 [01:21<00:37,  2.03it/s, loss=8.1859, avg_loss=8.0923]"
     ]
    },
    {
     "name": "stdout",
     "output_type": "stream",
     "text": [
      "{'kd_loss': 11.401442527770996, 'feature_loss': 0.36861324310302734, 'ce_loss': 8.117891311645508, 'cont_loss': 3.0446925163269043, 'teacher_loss': 8.084174156188965, 'total_loss': 8.185925483703613}\n"
     ]
    },
    {
     "name": "stderr",
     "output_type": "stream",
     "text": [
      "Validating:  68%|██████▊   | 160/235 [01:21<00:36,  2.05it/s, loss=8.2474, avg_loss=8.0932]"
     ]
    },
    {
     "name": "stdout",
     "output_type": "stream",
     "text": [
      "{'kd_loss': 11.492267608642578, 'feature_loss': 0.382426381111145, 'ce_loss': 8.199369430541992, 'cont_loss': 2.942685604095459, 'teacher_loss': 8.089303016662598, 'total_loss': 8.247408866882324}\n"
     ]
    },
    {
     "name": "stderr",
     "output_type": "stream",
     "text": [
      "Validating:  69%|██████▊   | 161/235 [01:22<00:38,  1.92it/s, loss=8.2775, avg_loss=8.0944]"
     ]
    },
    {
     "name": "stdout",
     "output_type": "stream",
     "text": [
      "{'kd_loss': 11.53908634185791, 'feature_loss': 0.3550853729248047, 'ce_loss': 8.241606712341309, 'cont_loss': 2.9417009353637695, 'teacher_loss': 8.076787948608398, 'total_loss': 8.277464866638184}\n"
     ]
    },
    {
     "name": "stderr",
     "output_type": "stream",
     "text": [
      "Validating:  69%|██████▉   | 162/235 [01:22<00:36,  1.98it/s, loss=8.2302, avg_loss=8.0952]"
     ]
    },
    {
     "name": "stdout",
     "output_type": "stream",
     "text": [
      "{'kd_loss': 11.468502044677734, 'feature_loss': 0.3725384473800659, 'ce_loss': 8.178129196166992, 'cont_loss': 2.970513343811035, 'teacher_loss': 8.086254119873047, 'total_loss': 8.23021125793457}\n"
     ]
    },
    {
     "name": "stderr",
     "output_type": "stream",
     "text": [
      "Validating:  69%|██████▉   | 163/235 [01:23<00:35,  2.02it/s, loss=8.1546, avg_loss=8.0956]"
     ]
    },
    {
     "name": "stdout",
     "output_type": "stream",
     "text": [
      "{'kd_loss': 11.366683959960938, 'feature_loss': 0.3847382664680481, 'ce_loss': 8.086167335510254, 'cont_loss': 2.965604305267334, 'teacher_loss': 8.088118553161621, 'total_loss': 8.154648780822754}\n"
     ]
    },
    {
     "name": "stderr",
     "output_type": "stream",
     "text": [
      "Validating:  70%|██████▉   | 164/235 [01:23<00:34,  2.05it/s, loss=8.1836, avg_loss=8.0961]"
     ]
    },
    {
     "name": "stdout",
     "output_type": "stream",
     "text": [
      "{'kd_loss': 11.383801460266113, 'feature_loss': 0.3686267137527466, 'ce_loss': 8.10180377960205, 'cont_loss': 3.1568002700805664, 'teacher_loss': 8.080592155456543, 'total_loss': 8.183647155761719}\n"
     ]
    },
    {
     "name": "stderr",
     "output_type": "stream",
     "text": [
      "Validating:  70%|███████   | 165/235 [01:24<00:36,  1.92it/s, loss=8.0873, avg_loss=8.0961]"
     ]
    },
    {
     "name": "stdout",
     "output_type": "stream",
     "text": [
      "{'kd_loss': 11.278353691101074, 'feature_loss': 0.37106120586395264, 'ce_loss': 8.00694465637207, 'cont_loss': 2.989238739013672, 'teacher_loss': 8.090559005737305, 'total_loss': 8.087255477905273}\n"
     ]
    },
    {
     "name": "stderr",
     "output_type": "stream",
     "text": [
      "Validating:  71%|███████   | 166/235 [01:24<00:34,  1.98it/s, loss=8.1770, avg_loss=8.0965]"
     ]
    },
    {
     "name": "stdout",
     "output_type": "stream",
     "text": [
      "{'kd_loss': 11.398481369018555, 'feature_loss': 0.3596550226211548, 'ce_loss': 8.114828109741211, 'cont_loss': 2.997408866882324, 'teacher_loss': 8.085569381713867, 'total_loss': 8.176995277404785}\n"
     ]
    },
    {
     "name": "stderr",
     "output_type": "stream",
     "text": [
      "Validating:  71%|███████   | 167/235 [01:25<00:33,  2.02it/s, loss=8.1392, avg_loss=8.0968]"
     ]
    },
    {
     "name": "stdout",
     "output_type": "stream",
     "text": [
      "{'kd_loss': 11.346628189086914, 'feature_loss': 0.37259405851364136, 'ce_loss': 8.068115234375, 'cont_loss': 2.9878616333007812, 'teacher_loss': 8.08279800415039, 'total_loss': 8.139202117919922}\n"
     ]
    },
    {
     "name": "stderr",
     "output_type": "stream",
     "text": [
      "Validating:  71%|███████▏  | 168/235 [01:25<00:32,  2.04it/s, loss=8.2877, avg_loss=8.0979]"
     ]
    },
    {
     "name": "stdout",
     "output_type": "stream",
     "text": [
      "{'kd_loss': 11.549595832824707, 'feature_loss': 0.343475341796875, 'ce_loss': 8.251012802124023, 'cont_loss': 2.987277030944824, 'teacher_loss': 8.085683822631836, 'total_loss': 8.287666320800781}\n"
     ]
    },
    {
     "name": "stderr",
     "output_type": "stream",
     "text": [
      "Validating:  72%|███████▏  | 169/235 [01:26<00:36,  1.82it/s, loss=8.1260, avg_loss=8.0981]"
     ]
    },
    {
     "name": "stdout",
     "output_type": "stream",
     "text": [
      "{'kd_loss': 11.310750961303711, 'feature_loss': 0.3484399914741516, 'ce_loss': 8.036035537719727, 'cont_loss': 3.1760950088500977, 'teacher_loss': 8.086137771606445, 'total_loss': 8.126012802124023}\n"
     ]
    },
    {
     "name": "stderr",
     "output_type": "stream",
     "text": [
      "Validating:  72%|███████▏  | 170/235 [01:26<00:34,  1.90it/s, loss=8.1868, avg_loss=8.0986]"
     ]
    },
    {
     "name": "stdout",
     "output_type": "stream",
     "text": [
      "{'kd_loss': 11.402099609375, 'feature_loss': 0.3710048198699951, 'ce_loss': 8.118598937988281, 'cont_loss': 3.042788505554199, 'teacher_loss': 8.077808380126953, 'total_loss': 8.186759948730469}\n"
     ]
    },
    {
     "name": "stderr",
     "output_type": "stream",
     "text": [
      "Validating:  73%|███████▎  | 171/235 [01:27<00:32,  1.96it/s, loss=8.2427, avg_loss=8.0995]"
     ]
    },
    {
     "name": "stdout",
     "output_type": "stream",
     "text": [
      "{'kd_loss': 11.481395721435547, 'feature_loss': 0.3582545518875122, 'ce_loss': 8.189399719238281, 'cont_loss': 3.0275707244873047, 'teacher_loss': 8.102967262268066, 'total_loss': 8.24272632598877}\n"
     ]
    },
    {
     "name": "stderr",
     "output_type": "stream",
     "text": [
      "Validating:  73%|███████▎  | 172/235 [01:27<00:31,  2.01it/s, loss=8.3270, avg_loss=8.1008]"
     ]
    },
    {
     "name": "stdout",
     "output_type": "stream",
     "text": [
      "{'kd_loss': 11.581391334533691, 'feature_loss': 0.36274826526641846, 'ce_loss': 8.279728889465332, 'cont_loss': 3.100353956222534, 'teacher_loss': 8.088844299316406, 'total_loss': 8.327033996582031}\n"
     ]
    },
    {
     "name": "stderr",
     "output_type": "stream",
     "text": [
      "Validating:  74%|███████▎  | 173/235 [01:28<00:33,  1.88it/s, loss=8.0556, avg_loss=8.1005]"
     ]
    },
    {
     "name": "stdout",
     "output_type": "stream",
     "text": [
      "{'kd_loss': 11.228261947631836, 'feature_loss': 0.36749058961868286, 'ce_loss': 7.961758613586426, 'cont_loss': 3.0606799125671387, 'teacher_loss': 8.085206985473633, 'total_loss': 8.055575370788574}\n"
     ]
    },
    {
     "name": "stderr",
     "output_type": "stream",
     "text": [
      "Validating:  74%|███████▍  | 174/235 [01:28<00:31,  1.95it/s, loss=8.2560, avg_loss=8.1014]"
     ]
    },
    {
     "name": "stdout",
     "output_type": "stream",
     "text": [
      "{'kd_loss': 11.494711875915527, 'feature_loss': 0.3622075915336609, 'ce_loss': 8.201645851135254, 'cont_loss': 3.049966812133789, 'teacher_loss': 8.088164329528809, 'total_loss': 8.2559814453125}\n"
     ]
    },
    {
     "name": "stderr",
     "output_type": "stream",
     "text": [
      "Validating:  74%|███████▍  | 175/235 [01:29<00:29,  2.00it/s, loss=8.2587, avg_loss=8.1023]"
     ]
    },
    {
     "name": "stdout",
     "output_type": "stream",
     "text": [
      "{'kd_loss': 11.4944486618042, 'feature_loss': 0.3629807233810425, 'ce_loss': 8.20140552520752, 'cont_loss': 3.077162981033325, 'teacher_loss': 8.081613540649414, 'total_loss': 8.258654594421387}\n"
     ]
    },
    {
     "name": "stderr",
     "output_type": "stream",
     "text": [
      "Validating:  75%|███████▍  | 176/235 [01:29<00:29,  2.03it/s, loss=8.2334, avg_loss=8.1031]"
     ]
    },
    {
     "name": "stdout",
     "output_type": "stream",
     "text": [
      "{'kd_loss': 11.43536376953125, 'feature_loss': 0.36577528715133667, 'ce_loss': 8.14807415008545, 'cont_loss': 3.2690634727478027, 'teacher_loss': 8.084596633911133, 'total_loss': 8.233436584472656}\n"
     ]
    },
    {
     "name": "stderr",
     "output_type": "stream",
     "text": [
      "Validating:  75%|███████▌  | 177/235 [01:30<00:31,  1.81it/s, loss=8.2988, avg_loss=8.1042]"
     ]
    },
    {
     "name": "stdout",
     "output_type": "stream",
     "text": [
      "{'kd_loss': 11.534775733947754, 'feature_loss': 0.3889576196670532, 'ce_loss': 8.23743724822998, 'cont_loss': 3.1208629608154297, 'teacher_loss': 8.081648826599121, 'total_loss': 8.298763275146484}\n"
     ]
    },
    {
     "name": "stderr",
     "output_type": "stream",
     "text": [
      "Validating:  76%|███████▌  | 178/235 [01:30<00:29,  1.90it/s, loss=8.2297, avg_loss=8.1049]"
     ]
    },
    {
     "name": "stdout",
     "output_type": "stream",
     "text": [
      "{'kd_loss': 11.447509765625, 'feature_loss': 0.393096923828125, 'ce_loss': 8.159167289733887, 'cont_loss': 3.083833694458008, 'teacher_loss': 8.077463150024414, 'total_loss': 8.229673385620117}\n"
     ]
    },
    {
     "name": "stderr",
     "output_type": "stream",
     "text": [
      "Validating:  76%|███████▌  | 179/235 [01:31<00:28,  1.97it/s, loss=8.2424, avg_loss=8.1056]"
     ]
    },
    {
     "name": "stdout",
     "output_type": "stream",
     "text": [
      "{'kd_loss': 11.469171524047852, 'feature_loss': 0.36770308017730713, 'ce_loss': 8.178505897521973, 'cont_loss': 3.0983009338378906, 'teacher_loss': 8.091392517089844, 'total_loss': 8.24244213104248}\n"
     ]
    },
    {
     "name": "stderr",
     "output_type": "stream",
     "text": [
      "Validating:  77%|███████▋  | 180/235 [01:31<00:27,  2.00it/s, loss=8.1376, avg_loss=8.1058]"
     ]
    },
    {
     "name": "stdout",
     "output_type": "stream",
     "text": [
      "{'kd_loss': 11.286458969116211, 'feature_loss': 0.37834322452545166, 'ce_loss': 8.014128684997559, 'cont_loss': 3.417267084121704, 'teacher_loss': 8.083810806274414, 'total_loss': 8.137630462646484}\n"
     ]
    },
    {
     "name": "stderr",
     "output_type": "stream",
     "text": [
      "Validating:  77%|███████▋  | 181/235 [01:32<00:29,  1.82it/s, loss=8.0851, avg_loss=8.1057]"
     ]
    },
    {
     "name": "stdout",
     "output_type": "stream",
     "text": [
      "{'kd_loss': 11.268800735473633, 'feature_loss': 0.33608394861221313, 'ce_loss': 7.998213291168213, 'cont_loss': 3.1110458374023438, 'teacher_loss': 8.085224151611328, 'total_loss': 8.085126876831055}\n"
     ]
    },
    {
     "name": "stderr",
     "output_type": "stream",
     "text": [
      "Validating:  77%|███████▋  | 182/235 [01:32<00:27,  1.91it/s, loss=8.3711, avg_loss=8.1072]"
     ]
    },
    {
     "name": "stdout",
     "output_type": "stream",
     "text": [
      "{'kd_loss': 11.633264541625977, 'feature_loss': 0.36557257175445557, 'ce_loss': 8.326239585876465, 'cont_loss': 3.1417691707611084, 'teacher_loss': 8.088353157043457, 'total_loss': 8.371092796325684}\n"
     ]
    },
    {
     "name": "stderr",
     "output_type": "stream",
     "text": [
      "Validating:  78%|███████▊  | 183/235 [01:33<00:26,  1.96it/s, loss=8.1889, avg_loss=8.1076]"
     ]
    },
    {
     "name": "stdout",
     "output_type": "stream",
     "text": [
      "{'kd_loss': 11.344429969787598, 'feature_loss': 0.4006991386413574, 'ce_loss': 8.066390037536621, 'cont_loss': 3.4447851181030273, 'teacher_loss': 8.08140754699707, 'total_loss': 8.188946723937988}\n"
     ]
    },
    {
     "name": "stderr",
     "output_type": "stream",
     "text": [
      "Validating:  78%|███████▊  | 184/235 [01:33<00:25,  2.01it/s, loss=8.4094, avg_loss=8.1093]"
     ]
    },
    {
     "name": "stdout",
     "output_type": "stream",
     "text": [
      "{'kd_loss': 11.683938026428223, 'feature_loss': 0.3620023727416992, 'ce_loss': 8.371733665466309, 'cont_loss': 3.1474609375, 'teacher_loss': 8.082706451416016, 'total_loss': 8.409415245056152}\n"
     ]
    },
    {
     "name": "stderr",
     "output_type": "stream",
     "text": [
      "Validating:  79%|███████▊  | 185/235 [01:34<00:28,  1.78it/s, loss=8.3750, avg_loss=8.1107]"
     ]
    },
    {
     "name": "stdout",
     "output_type": "stream",
     "text": [
      "{'kd_loss': 11.619675636291504, 'feature_loss': 0.40105974674224854, 'ce_loss': 8.314007759094238, 'cont_loss': 3.2133073806762695, 'teacher_loss': 8.09217357635498, 'total_loss': 8.375017166137695}\n"
     ]
    },
    {
     "name": "stderr",
     "output_type": "stream",
     "text": [
      "Validating:  79%|███████▉  | 186/235 [01:35<00:26,  1.88it/s, loss=8.2496, avg_loss=8.1114]"
     ]
    },
    {
     "name": "stdout",
     "output_type": "stream",
     "text": [
      "{'kd_loss': 11.462554931640625, 'feature_loss': 0.3818588852882385, 'ce_loss': 8.172709465026855, 'cont_loss': 3.1909079551696777, 'teacher_loss': 8.07381534576416, 'total_loss': 8.249567985534668}\n"
     ]
    },
    {
     "name": "stderr",
     "output_type": "stream",
     "text": [
      "Validating:  80%|███████▉  | 187/235 [01:35<00:24,  1.95it/s, loss=8.1894, avg_loss=8.1119]"
     ]
    },
    {
     "name": "stdout",
     "output_type": "stream",
     "text": [
      "{'kd_loss': 11.388443946838379, 'feature_loss': 0.3643285632133484, 'ce_loss': 8.105804443359375, 'cont_loss': 3.188187599182129, 'teacher_loss': 8.079710960388184, 'total_loss': 8.189383506774902}\n"
     ]
    },
    {
     "name": "stderr",
     "output_type": "stream",
     "text": [
      "Validating:  80%|████████  | 188/235 [01:35<00:23,  2.00it/s, loss=8.2123, avg_loss=8.1124]"
     ]
    },
    {
     "name": "stdout",
     "output_type": "stream",
     "text": [
      "{'kd_loss': 11.41427230834961, 'feature_loss': 0.36926543712615967, 'ce_loss': 8.129186630249023, 'cont_loss': 3.2108864784240723, 'teacher_loss': 8.086825370788574, 'total_loss': 8.212325096130371}\n"
     ]
    },
    {
     "name": "stderr",
     "output_type": "stream",
     "text": [
      "Validating:  80%|████████  | 189/235 [01:36<00:23,  1.98it/s, loss=8.3188, avg_loss=8.1135]"
     ]
    },
    {
     "name": "stdout",
     "output_type": "stream",
     "text": [
      "{'kd_loss': 11.54398250579834, 'feature_loss': 0.33422160148620605, 'ce_loss': 8.245841979980469, 'cont_loss': 3.3604111671447754, 'teacher_loss': 8.087940216064453, 'total_loss': 8.318816184997559}\n"
     ]
    },
    {
     "name": "stderr",
     "output_type": "stream",
     "text": [
      "Validating:  81%|████████  | 190/235 [01:36<00:22,  2.01it/s, loss=8.2019, avg_loss=8.1139]"
     ]
    },
    {
     "name": "stdout",
     "output_type": "stream",
     "text": [
      "{'kd_loss': 11.415435791015625, 'feature_loss': 0.3465004563331604, 'ce_loss': 8.130279541015625, 'cont_loss': 3.143082618713379, 'teacher_loss': 8.078564643859863, 'total_loss': 8.201894760131836}\n"
     ]
    },
    {
     "name": "stderr",
     "output_type": "stream",
     "text": [
      "Validating:  81%|████████▏ | 191/235 [01:37<00:21,  2.05it/s, loss=8.4146, avg_loss=8.1155]"
     ]
    },
    {
     "name": "stdout",
     "output_type": "stream",
     "text": [
      "{'kd_loss': 11.68439769744873, 'feature_loss': 0.3604046106338501, 'ce_loss': 8.372314453125, 'cont_loss': 3.1983461380004883, 'teacher_loss': 8.088310241699219, 'total_loss': 8.414600372314453}\n"
     ]
    },
    {
     "name": "stderr",
     "output_type": "stream",
     "text": [
      "Validating:  82%|████████▏ | 192/235 [01:37<00:20,  2.07it/s, loss=8.3330, avg_loss=8.1167]"
     ]
    },
    {
     "name": "stdout",
     "output_type": "stream",
     "text": [
      "{'kd_loss': 11.5733642578125, 'feature_loss': 0.35918891429901123, 'ce_loss': 8.272505760192871, 'cont_loss': 3.2283825874328613, 'teacher_loss': 8.091665267944336, 'total_loss': 8.333024024963379}\n"
     ]
    },
    {
     "name": "stderr",
     "output_type": "stream",
     "text": [
      "Validating:  82%|████████▏ | 193/235 [01:38<00:21,  1.95it/s, loss=8.3322, avg_loss=8.1178]"
     ]
    },
    {
     "name": "stdout",
     "output_type": "stream",
     "text": [
      "{'kd_loss': 11.552210807800293, 'feature_loss': 0.3676644563674927, 'ce_loss': 8.253328323364258, 'cont_loss': 3.364792823791504, 'teacher_loss': 8.083915710449219, 'total_loss': 8.33222770690918}\n"
     ]
    },
    {
     "name": "stderr",
     "output_type": "stream",
     "text": [
      "Validating:  83%|████████▎ | 194/235 [01:38<00:20,  2.00it/s, loss=8.3462, avg_loss=8.1190]"
     ]
    },
    {
     "name": "stdout",
     "output_type": "stream",
     "text": [
      "{'kd_loss': 11.577371597290039, 'feature_loss': 0.40043938159942627, 'ce_loss': 8.27577018737793, 'cont_loss': 3.2487082481384277, 'teacher_loss': 8.082662582397461, 'total_loss': 8.34621524810791}\n"
     ]
    },
    {
     "name": "stderr",
     "output_type": "stream",
     "text": [
      "Validating:  83%|████████▎ | 195/235 [01:39<00:19,  2.04it/s, loss=8.2879, avg_loss=8.1198]"
     ]
    },
    {
     "name": "stdout",
     "output_type": "stream",
     "text": [
      "{'kd_loss': 11.514508247375488, 'feature_loss': 0.3493698835372925, 'ce_loss': 8.219301223754883, 'cont_loss': 3.24472975730896, 'teacher_loss': 8.085229873657227, 'total_loss': 8.287871360778809}\n"
     ]
    },
    {
     "name": "stderr",
     "output_type": "stream",
     "text": [
      "Validating:  83%|████████▎ | 196/235 [01:39<00:18,  2.06it/s, loss=8.2698, avg_loss=8.1206]"
     ]
    },
    {
     "name": "stdout",
     "output_type": "stream",
     "text": [
      "{'kd_loss': 11.479060173034668, 'feature_loss': 0.3716666102409363, 'ce_loss': 8.187665939331055, 'cont_loss': 3.288172721862793, 'teacher_loss': 8.092639923095703, 'total_loss': 8.269841194152832}\n"
     ]
    },
    {
     "name": "stderr",
     "output_type": "stream",
     "text": [
      "Validating:  84%|████████▍ | 197/235 [01:40<00:20,  1.82it/s, loss=8.1060, avg_loss=8.1205]"
     ]
    },
    {
     "name": "stdout",
     "output_type": "stream",
     "text": [
      "{'kd_loss': 11.267683029174805, 'feature_loss': 0.37915897369384766, 'ce_loss': 7.997432708740234, 'cont_loss': 3.241363048553467, 'teacher_loss': 8.093770027160645, 'total_loss': 8.1060152053833}\n"
     ]
    },
    {
     "name": "stderr",
     "output_type": "stream",
     "text": [
      "Validating:  84%|████████▍ | 198/235 [01:41<00:19,  1.91it/s, loss=8.1908, avg_loss=8.1209]"
     ]
    },
    {
     "name": "stdout",
     "output_type": "stream",
     "text": [
      "{'kd_loss': 11.381928443908691, 'feature_loss': 0.363675594329834, 'ce_loss': 8.100130081176758, 'cont_loss': 3.2521486282348633, 'teacher_loss': 8.078409194946289, 'total_loss': 8.190773010253906}\n"
     ]
    },
    {
     "name": "stderr",
     "output_type": "stream",
     "text": [
      "Validating:  85%|████████▍ | 199/235 [01:41<00:18,  1.97it/s, loss=8.1987, avg_loss=8.1213]"
     ]
    },
    {
     "name": "stdout",
     "output_type": "stream",
     "text": [
      "{'kd_loss': 11.384381294250488, 'feature_loss': 0.36825990676879883, 'ce_loss': 8.102479934692383, 'cont_loss': 3.3034474849700928, 'teacher_loss': 8.089750289916992, 'total_loss': 8.19874095916748}\n"
     ]
    },
    {
     "name": "stderr",
     "output_type": "stream",
     "text": [
      "Validating:  85%|████████▌ | 200/235 [01:41<00:17,  2.02it/s, loss=8.2720, avg_loss=8.1220]"
     ]
    },
    {
     "name": "stdout",
     "output_type": "stream",
     "text": [
      "{'kd_loss': 11.475259780883789, 'feature_loss': 0.37635737657546997, 'ce_loss': 8.18406867980957, 'cont_loss': 3.3300046920776367, 'teacher_loss': 8.083932876586914, 'total_loss': 8.272003173828125}\n"
     ]
    },
    {
     "name": "stderr",
     "output_type": "stream",
     "text": [
      "Validating:  86%|████████▌ | 201/235 [01:42<00:18,  1.83it/s, loss=8.3531, avg_loss=8.1232]"
     ]
    },
    {
     "name": "stdout",
     "output_type": "stream",
     "text": [
      "{'kd_loss': 11.58645248413086, 'feature_loss': 0.37561672925949097, 'ce_loss': 8.284320831298828, 'cont_loss': 3.2964529991149902, 'teacher_loss': 8.084907531738281, 'total_loss': 8.35307788848877}\n"
     ]
    },
    {
     "name": "stderr",
     "output_type": "stream",
     "text": [
      "Validating:  86%|████████▌ | 202/235 [01:43<00:17,  1.91it/s, loss=8.2971, avg_loss=8.1240]"
     ]
    },
    {
     "name": "stdout",
     "output_type": "stream",
     "text": [
      "{'kd_loss': 11.51366138458252, 'feature_loss': 0.3738939166069031, 'ce_loss': 8.218523025512695, 'cont_loss': 3.2943358421325684, 'teacher_loss': 8.082990646362305, 'total_loss': 8.297085762023926}\n"
     ]
    },
    {
     "name": "stderr",
     "output_type": "stream",
     "text": [
      "Validating:  86%|████████▋ | 203/235 [01:43<00:16,  1.97it/s, loss=8.4369, avg_loss=8.1256]"
     ]
    },
    {
     "name": "stdout",
     "output_type": "stream",
     "text": [
      "{'kd_loss': 11.654948234558105, 'feature_loss': 0.36563754081726074, 'ce_loss': 8.345904350280762, 'cont_loss': 3.634303569793701, 'teacher_loss': 8.085567474365234, 'total_loss': 8.436898231506348}\n"
     ]
    },
    {
     "name": "stderr",
     "output_type": "stream",
     "text": [
      "Validating:  87%|████████▋ | 204/235 [01:44<00:15,  2.01it/s, loss=8.3797, avg_loss=8.1268]"
     ]
    },
    {
     "name": "stdout",
     "output_type": "stream",
     "text": [
      "{'kd_loss': 11.609650611877441, 'feature_loss': 0.39321160316467285, 'ce_loss': 8.305011749267578, 'cont_loss': 3.3523707389831543, 'teacher_loss': 8.09131908416748, 'total_loss': 8.379745483398438}\n"
     ]
    },
    {
     "name": "stderr",
     "output_type": "stream",
     "text": [
      "Validating:  87%|████████▋ | 205/235 [01:44<00:16,  1.79it/s, loss=8.3040, avg_loss=8.1277]"
     ]
    },
    {
     "name": "stdout",
     "output_type": "stream",
     "text": [
      "{'kd_loss': 11.494528770446777, 'feature_loss': 0.378475546836853, 'ce_loss': 8.20149040222168, 'cont_loss': 3.499331474304199, 'teacher_loss': 8.086861610412598, 'total_loss': 8.304036140441895}\n"
     ]
    },
    {
     "name": "stderr",
     "output_type": "stream",
     "text": [
      "Validating:  88%|████████▊ | 206/235 [01:45<00:15,  1.88it/s, loss=8.2453, avg_loss=8.1282]"
     ]
    },
    {
     "name": "stdout",
     "output_type": "stream",
     "text": [
      "{'kd_loss': 11.441061973571777, 'feature_loss': 0.3648369312286377, 'ce_loss': 8.153284072875977, 'cont_loss': 3.345980405807495, 'teacher_loss': 8.084661483764648, 'total_loss': 8.245304107666016}\n"
     ]
    },
    {
     "name": "stderr",
     "output_type": "stream",
     "text": [
      "Validating:  88%|████████▊ | 207/235 [01:45<00:14,  1.95it/s, loss=8.2564, avg_loss=8.1289]"
     ]
    },
    {
     "name": "stdout",
     "output_type": "stream",
     "text": [
      "{'kd_loss': 11.43971061706543, 'feature_loss': 0.39454126358032227, 'ce_loss': 8.152300834655762, 'cont_loss': 3.4072442054748535, 'teacher_loss': 8.082919120788574, 'total_loss': 8.256437301635742}\n"
     ]
    },
    {
     "name": "stderr",
     "output_type": "stream",
     "text": [
      "Validating:  89%|████████▊ | 208/235 [01:46<00:13,  2.00it/s, loss=8.3619, avg_loss=8.1300]"
     ]
    },
    {
     "name": "stdout",
     "output_type": "stream",
     "text": [
      "{'kd_loss': 11.580595970153809, 'feature_loss': 0.37719857692718506, 'ce_loss': 8.278695106506348, 'cont_loss': 3.427426815032959, 'teacher_loss': 8.08434009552002, 'total_loss': 8.361899375915527}\n"
     ]
    },
    {
     "name": "stderr",
     "output_type": "stream",
     "text": [
      "Validating:  89%|████████▉ | 209/235 [01:46<00:15,  1.68it/s, loss=8.4009, avg_loss=8.1313]"
     ]
    },
    {
     "name": "stdout",
     "output_type": "stream",
     "text": [
      "{'kd_loss': 11.595590591430664, 'feature_loss': 0.3926037549972534, 'ce_loss': 8.292308807373047, 'cont_loss': 3.6720728874206543, 'teacher_loss': 8.08254337310791, 'total_loss': 8.400888442993164}\n"
     ]
    },
    {
     "name": "stderr",
     "output_type": "stream",
     "text": [
      "Validating:  89%|████████▉ | 210/235 [01:47<00:13,  1.79it/s, loss=8.4351, avg_loss=8.1327]"
     ]
    },
    {
     "name": "stdout",
     "output_type": "stream",
     "text": [
      "{'kd_loss': 11.681375503540039, 'feature_loss': 0.38125598430633545, 'ce_loss': 8.369423866271973, 'cont_loss': 3.3850324153900146, 'teacher_loss': 8.08846664428711, 'total_loss': 8.435073852539062}\n"
     ]
    },
    {
     "name": "stderr",
     "output_type": "stream",
     "text": [
      "Validating:  90%|████████▉ | 211/235 [01:47<00:12,  1.88it/s, loss=8.2918, avg_loss=8.1335]"
     ]
    },
    {
     "name": "stdout",
     "output_type": "stream",
     "text": [
      "{'kd_loss': 11.473301887512207, 'feature_loss': 0.36916714906692505, 'ce_loss': 8.182516098022461, 'cont_loss': 3.556729316711426, 'teacher_loss': 8.089752197265625, 'total_loss': 8.291833877563477}\n"
     ]
    },
    {
     "name": "stderr",
     "output_type": "stream",
     "text": [
      "Validating:  90%|█████████ | 212/235 [01:48<00:11,  1.95it/s, loss=8.2697, avg_loss=8.1341]"
     ]
    },
    {
     "name": "stdout",
     "output_type": "stream",
     "text": [
      "{'kd_loss': 11.461821556091309, 'feature_loss': 0.366127073764801, 'ce_loss': 8.172025680541992, 'cont_loss': 3.4291887283325195, 'teacher_loss': 8.089055061340332, 'total_loss': 8.269683837890625}\n"
     ]
    },
    {
     "name": "stderr",
     "output_type": "stream",
     "text": [
      "Validating:  91%|█████████ | 213/235 [01:48<00:11,  1.89it/s, loss=8.3094, avg_loss=8.1349]"
     ]
    },
    {
     "name": "stdout",
     "output_type": "stream",
     "text": [
      "{'kd_loss': 11.51136302947998, 'feature_loss': 0.3679875135421753, 'ce_loss': 8.216727256774902, 'cont_loss': 3.4459290504455566, 'teacher_loss': 8.090487480163574, 'total_loss': 8.309426307678223}\n"
     ]
    },
    {
     "name": "stderr",
     "output_type": "stream",
     "text": [
      "Validating:  91%|█████████ | 214/235 [01:49<00:10,  1.95it/s, loss=8.3870, avg_loss=8.1361]"
     ]
    },
    {
     "name": "stdout",
     "output_type": "stream",
     "text": [
      "{'kd_loss': 11.574676513671875, 'feature_loss': 0.3697923421859741, 'ce_loss': 8.273528099060059, 'cont_loss': 3.737292528152466, 'teacher_loss': 8.090075492858887, 'total_loss': 8.386970520019531}\n"
     ]
    },
    {
     "name": "stderr",
     "output_type": "stream",
     "text": [
      "Validating:  91%|█████████▏| 215/235 [01:49<00:10,  2.00it/s, loss=8.3807, avg_loss=8.1373]"
     ]
    },
    {
     "name": "stdout",
     "output_type": "stream",
     "text": [
      "{'kd_loss': 11.607685089111328, 'feature_loss': 0.35341310501098633, 'ce_loss': 8.30333137512207, 'cont_loss': 3.455927848815918, 'teacher_loss': 8.091148376464844, 'total_loss': 8.380681991577148}\n"
     ]
    },
    {
     "name": "stderr",
     "output_type": "stream",
     "text": [
      "Validating:  92%|█████████▏| 216/235 [01:50<00:09,  2.04it/s, loss=8.3231, avg_loss=8.1381]"
     ]
    },
    {
     "name": "stdout",
     "output_type": "stream",
     "text": [
      "{'kd_loss': 11.526449203491211, 'feature_loss': 0.37239277362823486, 'ce_loss': 8.230306625366211, 'cont_loss': 3.458773374557495, 'teacher_loss': 8.079954147338867, 'total_loss': 8.32305908203125}\n"
     ]
    },
    {
     "name": "stderr",
     "output_type": "stream",
     "text": [
      "Validating:  92%|█████████▏| 217/235 [01:51<00:09,  1.82it/s, loss=8.3669, avg_loss=8.1392]"
     ]
    },
    {
     "name": "stdout",
     "output_type": "stream",
     "text": [
      "{'kd_loss': 11.572685241699219, 'feature_loss': 0.3958238363265991, 'ce_loss': 8.271656036376953, 'cont_loss': 3.499586343765259, 'teacher_loss': 8.090777397155762, 'total_loss': 8.366859436035156}\n"
     ]
    },
    {
     "name": "stderr",
     "output_type": "stream",
     "text": [
      "Validating:  93%|█████████▎| 218/235 [01:51<00:08,  1.91it/s, loss=8.3082, avg_loss=8.1399]"
     ]
    },
    {
     "name": "stdout",
     "output_type": "stream",
     "text": [
      "{'kd_loss': 11.498302459716797, 'feature_loss': 0.3908052444458008, 'ce_loss': 8.204834938049316, 'cont_loss': 3.4876842498779297, 'teacher_loss': 8.08999252319336, 'total_loss': 8.308184623718262}\n"
     ]
    },
    {
     "name": "stderr",
     "output_type": "stream",
     "text": [
      "Validating:  93%|█████████▎| 219/235 [01:51<00:08,  1.97it/s, loss=8.2893, avg_loss=8.1406]"
     ]
    },
    {
     "name": "stdout",
     "output_type": "stream",
     "text": [
      "{'kd_loss': 11.47139835357666, 'feature_loss': 0.3993368148803711, 'ce_loss': 8.180685997009277, 'cont_loss': 3.4863929748535156, 'teacher_loss': 8.087478637695312, 'total_loss': 8.28934097290039}\n"
     ]
    },
    {
     "name": "stderr",
     "output_type": "stream",
     "text": [
      "Validating:  94%|█████████▎| 220/235 [01:52<00:07,  2.02it/s, loss=8.2576, avg_loss=8.1412]"
     ]
    },
    {
     "name": "stdout",
     "output_type": "stream",
     "text": [
      "{'kd_loss': 11.431682586669922, 'feature_loss': 0.380690336227417, 'ce_loss': 8.145001411437988, 'cont_loss': 3.5075230598449707, 'teacher_loss': 8.086822509765625, 'total_loss': 8.257563591003418}\n"
     ]
    },
    {
     "name": "stderr",
     "output_type": "stream",
     "text": [
      "Validating:  94%|█████████▍| 221/235 [01:53<00:07,  1.88it/s, loss=8.2893, avg_loss=8.1418]"
     ]
    },
    {
     "name": "stdout",
     "output_type": "stream",
     "text": [
      "{'kd_loss': 11.44505786895752, 'feature_loss': 0.3942646384239197, 'ce_loss': 8.156856536865234, 'cont_loss': 3.697028636932373, 'teacher_loss': 8.0838623046875, 'total_loss': 8.289322853088379}\n"
     ]
    },
    {
     "name": "stderr",
     "output_type": "stream",
     "text": [
      "Validating:  94%|█████████▍| 222/235 [01:53<00:06,  1.95it/s, loss=8.3976, avg_loss=8.1430]"
     ]
    },
    {
     "name": "stdout",
     "output_type": "stream",
     "text": [
      "{'kd_loss': 11.607644081115723, 'feature_loss': 0.3974500894546509, 'ce_loss': 8.303439140319824, 'cont_loss': 3.536656141281128, 'teacher_loss': 8.090211868286133, 'total_loss': 8.397588729858398}\n"
     ]
    },
    {
     "name": "stderr",
     "output_type": "stream",
     "text": [
      "Validating:  95%|█████████▍| 223/235 [01:53<00:05,  2.01it/s, loss=8.2952, avg_loss=8.1437]"
     ]
    },
    {
     "name": "stdout",
     "output_type": "stream",
     "text": [
      "{'kd_loss': 11.486915588378906, 'feature_loss': 0.36961352825164795, 'ce_loss': 8.194357872009277, 'cont_loss': 3.48781156539917, 'teacher_loss': 8.085740089416504, 'total_loss': 8.29521369934082}\n"
     ]
    },
    {
     "name": "stderr",
     "output_type": "stream",
     "text": [
      "Validating:  95%|█████████▌| 224/235 [01:54<00:05,  2.04it/s, loss=8.2893, avg_loss=8.1443]"
     ]
    },
    {
     "name": "stdout",
     "output_type": "stream",
     "text": [
      "{'kd_loss': 11.47092342376709, 'feature_loss': 0.38126814365386963, 'ce_loss': 8.180318832397461, 'cont_loss': 3.525991916656494, 'teacher_loss': 8.08818244934082, 'total_loss': 8.289349555969238}\n"
     ]
    },
    {
     "name": "stderr",
     "output_type": "stream",
     "text": [
      "Validating:  96%|█████████▌| 225/235 [01:55<00:05,  1.85it/s, loss=8.3384, avg_loss=8.1452]"
     ]
    },
    {
     "name": "stdout",
     "output_type": "stream",
     "text": [
      "{'kd_loss': 11.523503303527832, 'feature_loss': 0.3994942903518677, 'ce_loss': 8.227567672729492, 'cont_loss': 3.5807645320892334, 'teacher_loss': 8.091938972473145, 'total_loss': 8.338403701782227}\n"
     ]
    },
    {
     "name": "stderr",
     "output_type": "stream",
     "text": [
      "Validating:  96%|█████████▌| 226/235 [01:55<00:04,  1.93it/s, loss=8.3145, avg_loss=8.1459]"
     ]
    },
    {
     "name": "stdout",
     "output_type": "stream",
     "text": [
      "{'kd_loss': 11.479804039001465, 'feature_loss': 0.3848298192024231, 'ce_loss': 8.188142776489258, 'cont_loss': 3.7038722038269043, 'teacher_loss': 8.079383850097656, 'total_loss': 8.314532279968262}\n"
     ]
    },
    {
     "name": "stderr",
     "output_type": "stream",
     "text": [
      "Validating:  97%|█████████▋| 227/235 [01:56<00:04,  1.99it/s, loss=8.3076, avg_loss=8.1466]"
     ]
    },
    {
     "name": "stdout",
     "output_type": "stream",
     "text": [
      "{'kd_loss': 11.484932899475098, 'feature_loss': 0.39364326000213623, 'ce_loss': 8.192853927612305, 'cont_loss': 3.577941417694092, 'teacher_loss': 8.088043212890625, 'total_loss': 8.307637214660645}\n"
     ]
    },
    {
     "name": "stderr",
     "output_type": "stream",
     "text": [
      "Validating:  97%|█████████▋| 228/235 [01:56<00:03,  2.02it/s, loss=8.3061, avg_loss=8.1473]"
     ]
    },
    {
     "name": "stdout",
     "output_type": "stream",
     "text": [
      "{'kd_loss': 11.494009017944336, 'feature_loss': 0.35784912109375, 'ce_loss': 8.20095157623291, 'cont_loss': 3.565493583679199, 'teacher_loss': 8.096343994140625, 'total_loss': 8.306103706359863}\n"
     ]
    },
    {
     "name": "stderr",
     "output_type": "stream",
     "text": [
      "Validating:  97%|█████████▋| 229/235 [01:57<00:02,  2.03it/s, loss=8.3818, avg_loss=8.1484]"
     ]
    },
    {
     "name": "stdout",
     "output_type": "stream",
     "text": [
      "{'kd_loss': 11.58528995513916, 'feature_loss': 0.3701653480529785, 'ce_loss': 8.283047676086426, 'cont_loss': 3.6046504974365234, 'teacher_loss': 8.084848403930664, 'total_loss': 8.38183307647705}\n"
     ]
    },
    {
     "name": "stderr",
     "output_type": "stream",
     "text": [
      "Validating:  98%|█████████▊| 230/235 [01:57<00:02,  2.06it/s, loss=8.3121, avg_loss=8.1491]"
     ]
    },
    {
     "name": "stdout",
     "output_type": "stream",
     "text": [
      "{'kd_loss': 11.480649948120117, 'feature_loss': 0.3839625120162964, 'ce_loss': 8.189115524291992, 'cont_loss': 3.674250841140747, 'teacher_loss': 8.088504791259766, 'total_loss': 8.312124252319336}\n"
     ]
    },
    {
     "name": "stderr",
     "output_type": "stream",
     "text": [
      "Validating:  98%|█████████▊| 231/235 [01:57<00:01,  2.07it/s, loss=8.3898, avg_loss=8.1501]"
     ]
    },
    {
     "name": "stdout",
     "output_type": "stream",
     "text": [
      "{'kd_loss': 11.589805603027344, 'feature_loss': 0.3715454339981079, 'ce_loss': 8.287089347839355, 'cont_loss': 3.6476407051086426, 'teacher_loss': 8.086864471435547, 'total_loss': 8.38983154296875}\n"
     ]
    },
    {
     "name": "stderr",
     "output_type": "stream",
     "text": [
      "Validating:  99%|█████████▊| 232/235 [01:58<00:01,  2.09it/s, loss=8.1894, avg_loss=8.1503]"
     ]
    },
    {
     "name": "stdout",
     "output_type": "stream",
     "text": [
      "{'kd_loss': 11.325849533081055, 'feature_loss': 0.37817978858947754, 'ce_loss': 8.049736022949219, 'cont_loss': 3.6357712745666504, 'teacher_loss': 8.084210395812988, 'total_loss': 8.189447402954102}\n"
     ]
    },
    {
     "name": "stderr",
     "output_type": "stream",
     "text": [
      "Validating:  99%|█████████▉| 233/235 [01:58<00:00,  2.10it/s, loss=8.3951, avg_loss=8.1513]"
     ]
    },
    {
     "name": "stdout",
     "output_type": "stream",
     "text": [
      "{'kd_loss': 11.58178997039795, 'feature_loss': 0.41258811950683594, 'ce_loss': 8.28003215789795, 'cont_loss': 3.679004192352295, 'teacher_loss': 8.087655067443848, 'total_loss': 8.395147323608398}\n"
     ]
    },
    {
     "name": "stderr",
     "output_type": "stream",
     "text": [
      "Validating: 100%|██████████| 235/235 [01:59<00:00,  2.57it/s, loss=8.3845, avg_loss=8.1528]"
     ]
    },
    {
     "name": "stdout",
     "output_type": "stream",
     "text": [
      "{'kd_loss': 11.424893379211426, 'feature_loss': 0.3968037962913513, 'ce_loss': 8.13894271850586, 'cont_loss': 3.636493682861328, 'teacher_loss': 8.090980529785156, 'total_loss': 8.268545150756836}\n",
      "{'kd_loss': 11.700127601623535, 'feature_loss': 0.374534547328949, 'ce_loss': 8.38663387298584, 'cont_loss': 2.748591184616089, 'teacher_loss': 8.090386390686035, 'total_loss': 8.38447093963623}\n"
     ]
    },
    {
     "name": "stderr",
     "output_type": "stream",
     "text": [
      "Validating: 100%|██████████| 235/235 [01:59<00:00,  1.96it/s, loss=8.3845, avg_loss=8.1528]\n"
     ]
    },
    {
     "name": "stdout",
     "output_type": "stream",
     "text": [
      "Epoch 1 | Train Loss: 10.1718 | Val Loss: 8.1528 | Top1 Acc: 0.00 | Top5 Acc: 0.00\n"
     ]
    },
    {
     "name": "stderr",
     "output_type": "stream",
     "text": [
      "Training: 100%|██████████| 1875/1875 [12:46<00:00,  2.44it/s, loss=10.0051, avg_loss=10.0439, lr=8.13e-5]\n",
      "Validating:   0%|          | 1/235 [00:02<08:05,  2.08s/it, loss=7.6207, avg_loss=7.6207]"
     ]
    },
    {
     "name": "stdout",
     "output_type": "stream",
     "text": [
      "{'kd_loss': 10.874540328979492, 'feature_loss': 0.32590413093566895, 'ce_loss': 7.64388370513916, 'cont_loss': 1.4818835258483887, 'teacher_loss': 8.10243034362793, 'total_loss': 7.620738983154297}\n"
     ]
    },
    {
     "name": "stderr",
     "output_type": "stream",
     "text": [
      "Validating:   1%|          | 2/235 [00:02<04:22,  1.13s/it, loss=7.8695, avg_loss=7.7451]"
     ]
    },
    {
     "name": "stdout",
     "output_type": "stream",
     "text": [
      "{'kd_loss': 11.19745922088623, 'feature_loss': 0.3178642988204956, 'ce_loss': 7.934537887573242, 'cont_loss': 1.5314972400665283, 'teacher_loss': 8.099167823791504, 'total_loss': 7.869521617889404}\n"
     ]
    },
    {
     "name": "stderr",
     "output_type": "stream",
     "text": [
      "Validating:   1%|▏         | 3/235 [00:03<03:11,  1.21it/s, loss=8.1367, avg_loss=7.8757]"
     ]
    },
    {
     "name": "stdout",
     "output_type": "stream",
     "text": [
      "{'kd_loss': 11.553008079528809, 'feature_loss': 0.30651116371154785, 'ce_loss': 8.25485897064209, 'cont_loss': 1.52289879322052, 'teacher_loss': 8.090350151062012, 'total_loss': 8.136739730834961}\n"
     ]
    },
    {
     "name": "stderr",
     "output_type": "stream",
     "text": [
      "Validating:   2%|▏         | 4/235 [00:03<02:38,  1.46it/s, loss=7.5355, avg_loss=7.7906]"
     ]
    },
    {
     "name": "stdout",
     "output_type": "stream",
     "text": [
      "{'kd_loss': 10.773818969726562, 'feature_loss': 0.2879161834716797, 'ce_loss': 7.553349018096924, 'cont_loss': 1.470808506011963, 'teacher_loss': 8.085441589355469, 'total_loss': 7.535531520843506}\n"
     ]
    },
    {
     "name": "stderr",
     "output_type": "stream",
     "text": [
      "Validating:   2%|▏         | 5/235 [00:03<02:19,  1.64it/s, loss=7.2993, avg_loss=7.6924]"
     ]
    },
    {
     "name": "stdout",
     "output_type": "stream",
     "text": [
      "{'kd_loss': 10.473877906799316, 'feature_loss': 0.26229429244995117, 'ce_loss': 7.283301830291748, 'cont_loss': 1.4400557279586792, 'teacher_loss': 8.090141296386719, 'total_loss': 7.2993364334106445}\n"
     ]
    },
    {
     "name": "stderr",
     "output_type": "stream",
     "text": [
      "Validating:   3%|▎         | 6/235 [00:04<02:08,  1.79it/s, loss=8.0303, avg_loss=7.7487]"
     ]
    },
    {
     "name": "stdout",
     "output_type": "stream",
     "text": [
      "{'kd_loss': 11.389159202575684, 'feature_loss': 0.4045674800872803, 'ce_loss': 8.107259750366211, 'cont_loss': 1.5081461668014526, 'teacher_loss': 8.086771965026855, 'total_loss': 8.030296325683594}\n"
     ]
    },
    {
     "name": "stderr",
     "output_type": "stream",
     "text": [
      "Validating:   3%|▎         | 7/235 [00:04<02:01,  1.88it/s, loss=7.8895, avg_loss=7.7688]"
     ]
    },
    {
     "name": "stdout",
     "output_type": "stream",
     "text": [
      "{'kd_loss': 11.230629920959473, 'feature_loss': 0.3124229907989502, 'ce_loss': 7.96467399597168, 'cont_loss': 1.4886505603790283, 'teacher_loss': 8.108455657958984, 'total_loss': 7.889471530914307}\n"
     ]
    },
    {
     "name": "stderr",
     "output_type": "stream",
     "text": [
      "Validating:   3%|▎         | 8/235 [00:05<01:56,  1.95it/s, loss=7.8714, avg_loss=7.7816]"
     ]
    },
    {
     "name": "stdout",
     "output_type": "stream",
     "text": [
      "{'kd_loss': 11.194267272949219, 'feature_loss': 0.3569212555885315, 'ce_loss': 7.931840896606445, 'cont_loss': 1.4960322380065918, 'teacher_loss': 8.093807220458984, 'total_loss': 7.87143087387085}\n"
     ]
    },
    {
     "name": "stderr",
     "output_type": "stream",
     "text": [
      "Validating:   4%|▍         | 9/235 [00:05<01:55,  1.96it/s, loss=7.7571, avg_loss=7.7789]"
     ]
    },
    {
     "name": "stdout",
     "output_type": "stream",
     "text": [
      "{'kd_loss': 11.077821731567383, 'feature_loss': 0.22304582595825195, 'ce_loss': 7.826812744140625, 'cont_loss': 1.5063260793685913, 'teacher_loss': 8.089910507202148, 'total_loss': 7.757095813751221}\n"
     ]
    },
    {
     "name": "stderr",
     "output_type": "stream",
     "text": [
      "Validating:   4%|▍         | 10/235 [00:06<01:51,  2.02it/s, loss=7.7471, avg_loss=7.7757]"
     ]
    },
    {
     "name": "stdout",
     "output_type": "stream",
     "text": [
      "{'kd_loss': 11.04596996307373, 'feature_loss': 0.28882402181625366, 'ce_loss': 7.798511981964111, 'cont_loss': 1.5150970220565796, 'teacher_loss': 8.090678215026855, 'total_loss': 7.747067451477051}\n"
     ]
    },
    {
     "name": "stderr",
     "output_type": "stream",
     "text": [
      "Validating:   5%|▍         | 11/235 [00:06<01:49,  2.05it/s, loss=7.8288, avg_loss=7.7806]"
     ]
    },
    {
     "name": "stdout",
     "output_type": "stream",
     "text": [
      "{'kd_loss': 11.144002914428711, 'feature_loss': 0.3316805362701416, 'ce_loss': 7.886745452880859, 'cont_loss': 1.5018527507781982, 'teacher_loss': 8.089969635009766, 'total_loss': 7.828820705413818}\n"
     ]
    },
    {
     "name": "stderr",
     "output_type": "stream",
     "text": [
      "Validating:   5%|▌         | 12/235 [00:07<01:47,  2.07it/s, loss=7.8419, avg_loss=7.7857]"
     ]
    },
    {
     "name": "stdout",
     "output_type": "stream",
     "text": [
      "{'kd_loss': 11.17276382446289, 'feature_loss': 0.2944744825363159, 'ce_loss': 7.912748336791992, 'cont_loss': 1.488167643547058, 'teacher_loss': 8.08745288848877, 'total_loss': 7.841916561126709}\n"
     ]
    },
    {
     "name": "stderr",
     "output_type": "stream",
     "text": [
      "Validating:   6%|▌         | 13/235 [00:07<01:46,  2.08it/s, loss=7.8413, avg_loss=7.7899]"
     ]
    },
    {
     "name": "stdout",
     "output_type": "stream",
     "text": [
      "{'kd_loss': 11.161566734313965, 'feature_loss': 0.33569347858428955, 'ce_loss': 7.902791500091553, 'cont_loss': 1.4843454360961914, 'teacher_loss': 8.093695640563965, 'total_loss': 7.8413166999816895}\n"
     ]
    },
    {
     "name": "stderr",
     "output_type": "stream",
     "text": [
      "Validating:   6%|▌         | 14/235 [00:08<01:47,  2.05it/s, loss=7.9895, avg_loss=7.8042]"
     ]
    },
    {
     "name": "stdout",
     "output_type": "stream",
     "text": [
      "{'kd_loss': 11.338265419006348, 'feature_loss': 0.3753235936164856, 'ce_loss': 8.061341285705566, 'cont_loss': 1.5460669994354248, 'teacher_loss': 8.082669258117676, 'total_loss': 7.989514350891113}\n"
     ]
    },
    {
     "name": "stderr",
     "output_type": "stream",
     "text": [
      "Validating:   6%|▋         | 15/235 [00:08<01:45,  2.08it/s, loss=7.7517, avg_loss=7.8007]"
     ]
    },
    {
     "name": "stdout",
     "output_type": "stream",
     "text": [
      "{'kd_loss': 11.065011978149414, 'feature_loss': 0.27142125368118286, 'ce_loss': 7.815414905548096, 'cont_loss': 1.4528613090515137, 'teacher_loss': 8.093975067138672, 'total_loss': 7.7517409324646}\n"
     ]
    },
    {
     "name": "stderr",
     "output_type": "stream",
     "text": [
      "Validating:   7%|▋         | 16/235 [00:09<01:44,  2.09it/s, loss=8.0206, avg_loss=7.8144]"
     ]
    },
    {
     "name": "stdout",
     "output_type": "stream",
     "text": [
      "{'kd_loss': 11.39628791809082, 'feature_loss': 0.3274730443954468, 'ce_loss': 8.11400032043457, 'cont_loss': 1.5101773738861084, 'teacher_loss': 8.0827054977417, 'total_loss': 8.020627975463867}\n"
     ]
    },
    {
     "name": "stderr",
     "output_type": "stream",
     "text": [
      "Validating:   7%|▋         | 17/235 [00:09<01:43,  2.10it/s, loss=7.8530, avg_loss=7.8167]"
     ]
    },
    {
     "name": "stdout",
     "output_type": "stream",
     "text": [
      "{'kd_loss': 11.1735200881958, 'feature_loss': 0.3342943787574768, 'ce_loss': 7.913605690002441, 'cont_loss': 1.5131089687347412, 'teacher_loss': 8.103670120239258, 'total_loss': 7.853019714355469}\n"
     ]
    },
    {
     "name": "stderr",
     "output_type": "stream",
     "text": [
      "Validating:   8%|▊         | 18/235 [00:10<01:43,  2.11it/s, loss=7.6443, avg_loss=7.8071]"
     ]
    },
    {
     "name": "stdout",
     "output_type": "stream",
     "text": [
      "{'kd_loss': 10.912515640258789, 'feature_loss': 0.2895258665084839, 'ce_loss': 7.678325176239014, 'cont_loss': 1.500722885131836, 'teacher_loss': 8.085522651672363, 'total_loss': 7.644313812255859}\n"
     ]
    },
    {
     "name": "stderr",
     "output_type": "stream",
     "text": [
      "Validating:   8%|▊         | 19/235 [00:10<01:42,  2.10it/s, loss=7.7871, avg_loss=7.8061]"
     ]
    },
    {
     "name": "stdout",
     "output_type": "stream",
     "text": [
      "{'kd_loss': 11.097216606140137, 'feature_loss': 0.29998254776000977, 'ce_loss': 7.844362735748291, 'cont_loss': 1.5049197673797607, 'teacher_loss': 8.101630210876465, 'total_loss': 7.787120342254639}\n"
     ]
    },
    {
     "name": "stderr",
     "output_type": "stream",
     "text": [
      "Validating:   9%|▊         | 20/235 [00:11<01:41,  2.11it/s, loss=7.6737, avg_loss=7.7995]"
     ]
    },
    {
     "name": "stdout",
     "output_type": "stream",
     "text": [
      "{'kd_loss': 10.952508926391602, 'feature_loss': 0.2858266830444336, 'ce_loss': 7.7142720222473145, 'cont_loss': 1.4978065490722656, 'teacher_loss': 8.098848342895508, 'total_loss': 7.673658847808838}\n"
     ]
    },
    {
     "name": "stderr",
     "output_type": "stream",
     "text": [
      "Validating:   9%|▉         | 21/235 [00:11<01:41,  2.11it/s, loss=7.8991, avg_loss=7.8042]"
     ]
    },
    {
     "name": "stdout",
     "output_type": "stream",
     "text": [
      "{'kd_loss': 11.244364738464355, 'feature_loss': 0.2877480387687683, 'ce_loss': 7.9771575927734375, 'cont_loss': 1.5297884941101074, 'teacher_loss': 8.103565216064453, 'total_loss': 7.899137496948242}\n"
     ]
    },
    {
     "name": "stderr",
     "output_type": "stream",
     "text": [
      "Validating:   9%|▉         | 22/235 [00:12<01:40,  2.11it/s, loss=7.9444, avg_loss=7.8106]"
     ]
    },
    {
     "name": "stdout",
     "output_type": "stream",
     "text": [
      "{'kd_loss': 11.318641662597656, 'feature_loss': 0.22394776344299316, 'ce_loss': 8.044018745422363, 'cont_loss': 1.5457394123077393, 'teacher_loss': 8.095663070678711, 'total_loss': 7.944427967071533}\n"
     ]
    },
    {
     "name": "stderr",
     "output_type": "stream",
     "text": [
      "Validating:  10%|▉         | 23/235 [00:12<01:40,  2.11it/s, loss=7.7727, avg_loss=7.8089]"
     ]
    },
    {
     "name": "stdout",
     "output_type": "stream",
     "text": [
      "{'kd_loss': 11.045147895812988, 'feature_loss': 0.41210663318634033, 'ce_loss': 7.79730749130249, 'cont_loss': 1.532757043838501, 'teacher_loss': 8.070757865905762, 'total_loss': 7.772679328918457}\n"
     ]
    },
    {
     "name": "stderr",
     "output_type": "stream",
     "text": [
      "Validating:  10%|█         | 24/235 [00:12<01:39,  2.11it/s, loss=7.9874, avg_loss=7.8164]"
     ]
    },
    {
     "name": "stdout",
     "output_type": "stream",
     "text": [
      "{'kd_loss': 11.358749389648438, 'feature_loss': 0.3154202699661255, 'ce_loss': 8.080031394958496, 'cont_loss': 1.487595796585083, 'teacher_loss': 8.078460693359375, 'total_loss': 7.987355709075928}\n"
     ]
    },
    {
     "name": "stderr",
     "output_type": "stream",
     "text": [
      "Validating:  11%|█         | 25/235 [00:13<01:39,  2.11it/s, loss=7.8479, avg_loss=7.8176]"
     ]
    },
    {
     "name": "stdout",
     "output_type": "stream",
     "text": [
      "{'kd_loss': 11.166003227233887, 'feature_loss': 0.3457629680633545, 'ce_loss': 7.906332969665527, 'cont_loss': 1.4985606670379639, 'teacher_loss': 8.098165512084961, 'total_loss': 7.847943305969238}\n"
     ]
    },
    {
     "name": "stderr",
     "output_type": "stream",
     "text": [
      "Validating:  11%|█         | 26/235 [00:13<01:38,  2.11it/s, loss=8.0283, avg_loss=7.8257]"
     ]
    },
    {
     "name": "stdout",
     "output_type": "stream",
     "text": [
      "{'kd_loss': 11.384689331054688, 'feature_loss': 0.4094642996788025, 'ce_loss': 8.103254318237305, 'cont_loss': 1.5127296447753906, 'teacher_loss': 8.100767135620117, 'total_loss': 8.028343200683594}\n"
     ]
    },
    {
     "name": "stderr",
     "output_type": "stream",
     "text": [
      "Validating:  11%|█▏        | 27/235 [00:14<01:38,  2.10it/s, loss=7.8313, avg_loss=7.8259]"
     ]
    },
    {
     "name": "stdout",
     "output_type": "stream",
     "text": [
      "{'kd_loss': 11.145593643188477, 'feature_loss': 0.357511043548584, 'ce_loss': 7.888404369354248, 'cont_loss': 1.462408185005188, 'teacher_loss': 8.084470748901367, 'total_loss': 7.8313422203063965}\n"
     ]
    },
    {
     "name": "stderr",
     "output_type": "stream",
     "text": [
      "Validating:  12%|█▏        | 28/235 [00:14<01:38,  2.10it/s, loss=7.6801, avg_loss=7.8207]"
     ]
    },
    {
     "name": "stdout",
     "output_type": "stream",
     "text": [
      "{'kd_loss': 10.952523231506348, 'feature_loss': 0.3165988326072693, 'ce_loss': 7.714425086975098, 'cont_loss': 1.5000723600387573, 'teacher_loss': 8.08988094329834, 'total_loss': 7.6801066398620605}\n"
     ]
    },
    {
     "name": "stderr",
     "output_type": "stream",
     "text": [
      "Validating:  12%|█▏        | 29/235 [00:15<01:37,  2.11it/s, loss=7.9496, avg_loss=7.8252]"
     ]
    },
    {
     "name": "stdout",
     "output_type": "stream",
     "text": [
      "{'kd_loss': 11.313206672668457, 'feature_loss': 0.2937382459640503, 'ce_loss': 8.03869915008545, 'cont_loss': 1.5009713172912598, 'teacher_loss': 8.085442543029785, 'total_loss': 7.949606895446777}\n"
     ]
    },
    {
     "name": "stderr",
     "output_type": "stream",
     "text": [
      "Validating:  13%|█▎        | 30/235 [00:15<01:37,  2.11it/s, loss=7.5174, avg_loss=7.8149]"
     ]
    },
    {
     "name": "stdout",
     "output_type": "stream",
     "text": [
      "{'kd_loss': 10.745763778686523, 'feature_loss': 0.33283817768096924, 'ce_loss': 7.528090953826904, 'cont_loss': 1.4130213260650635, 'teacher_loss': 8.086379051208496, 'total_loss': 7.517411231994629}\n"
     ]
    },
    {
     "name": "stderr",
     "output_type": "stream",
     "text": [
      "Validating:  13%|█▎        | 31/235 [00:16<01:36,  2.10it/s, loss=8.0056, avg_loss=7.8211]"
     ]
    },
    {
     "name": "stdout",
     "output_type": "stream",
     "text": [
      "{'kd_loss': 11.386360168457031, 'feature_loss': 0.3200709819793701, 'ce_loss': 8.104840278625488, 'cont_loss': 1.4511065483093262, 'teacher_loss': 8.097044944763184, 'total_loss': 8.00560474395752}\n"
     ]
    },
    {
     "name": "stderr",
     "output_type": "stream",
     "text": [
      "Validating:  14%|█▎        | 32/235 [00:16<01:36,  2.11it/s, loss=7.6279, avg_loss=7.8150]"
     ]
    },
    {
     "name": "stdout",
     "output_type": "stream",
     "text": [
      "{'kd_loss': 10.898658752441406, 'feature_loss': 0.2609357237815857, 'ce_loss': 7.6661529541015625, 'cont_loss': 1.4975144863128662, 'teacher_loss': 8.100540161132812, 'total_loss': 7.627863883972168}\n"
     ]
    },
    {
     "name": "stderr",
     "output_type": "stream",
     "text": [
      "Validating:  14%|█▍        | 33/235 [00:17<01:35,  2.11it/s, loss=7.9922, avg_loss=7.8204]"
     ]
    },
    {
     "name": "stdout",
     "output_type": "stream",
     "text": [
      "{'kd_loss': 11.366127967834473, 'feature_loss': 0.3026374578475952, 'ce_loss': 8.086758613586426, 'cont_loss': 1.5050737857818604, 'teacher_loss': 8.06531810760498, 'total_loss': 7.992189407348633}\n"
     ]
    },
    {
     "name": "stderr",
     "output_type": "stream",
     "text": [
      "Validating:  14%|█▍        | 34/235 [00:17<01:35,  2.11it/s, loss=7.7742, avg_loss=7.8190]"
     ]
    },
    {
     "name": "stdout",
     "output_type": "stream",
     "text": [
      "{'kd_loss': 11.056934356689453, 'feature_loss': 0.38913094997406006, 'ce_loss': 7.808503150939941, 'cont_loss': 1.502382755279541, 'teacher_loss': 8.092469215393066, 'total_loss': 7.774239540100098}\n"
     ]
    },
    {
     "name": "stderr",
     "output_type": "stream",
     "text": [
      "Validating:  15%|█▍        | 35/235 [00:18<01:34,  2.11it/s, loss=7.6324, avg_loss=7.8137]"
     ]
    },
    {
     "name": "stdout",
     "output_type": "stream",
     "text": [
      "{'kd_loss': 10.88039493560791, 'feature_loss': 0.3780395984649658, 'ce_loss': 7.64924955368042, 'cont_loss': 1.448856234550476, 'teacher_loss': 8.075817108154297, 'total_loss': 7.632351398468018}\n"
     ]
    },
    {
     "name": "stderr",
     "output_type": "stream",
     "text": [
      "Validating:  15%|█▌        | 36/235 [00:18<01:34,  2.11it/s, loss=7.7185, avg_loss=7.8111]"
     ]
    },
    {
     "name": "stdout",
     "output_type": "stream",
     "text": [
      "{'kd_loss': 11.02181339263916, 'feature_loss': 0.22899967432022095, 'ce_loss': 7.776523113250732, 'cont_loss': 1.5333876609802246, 'teacher_loss': 8.081236839294434, 'total_loss': 7.718472957611084}\n"
     ]
    },
    {
     "name": "stderr",
     "output_type": "stream",
     "text": [
      "Validating:  16%|█▌        | 37/235 [00:19<01:34,  2.11it/s, loss=7.9038, avg_loss=7.8136]"
     ]
    },
    {
     "name": "stdout",
     "output_type": "stream",
     "text": [
      "{'kd_loss': 11.244071960449219, 'feature_loss': 0.2647136449813843, 'ce_loss': 7.9767327308654785, 'cont_loss': 1.6250221729278564, 'teacher_loss': 8.093743324279785, 'total_loss': 7.903766632080078}\n"
     ]
    },
    {
     "name": "stderr",
     "output_type": "stream",
     "text": [
      "Validating:  16%|█▌        | 38/235 [00:19<01:33,  2.11it/s, loss=7.7686, avg_loss=7.8124]"
     ]
    },
    {
     "name": "stdout",
     "output_type": "stream",
     "text": [
      "{'kd_loss': 11.027246475219727, 'feature_loss': 0.36996734142303467, 'ce_loss': 7.7817840576171875, 'cont_loss': 1.709452509880066, 'teacher_loss': 8.087018966674805, 'total_loss': 7.768550872802734}\n"
     ]
    },
    {
     "name": "stderr",
     "output_type": "stream",
     "text": [
      "Validating:  17%|█▋        | 39/235 [00:20<01:33,  2.11it/s, loss=7.8933, avg_loss=7.8145]"
     ]
    },
    {
     "name": "stdout",
     "output_type": "stream",
     "text": [
      "{'kd_loss': 11.242136001586914, 'feature_loss': 0.26530206203460693, 'ce_loss': 7.9755024909973145, 'cont_loss': 1.531876802444458, 'teacher_loss': 8.09455680847168, 'total_loss': 7.893303871154785}\n"
     ]
    },
    {
     "name": "stderr",
     "output_type": "stream",
     "text": [
      "Validating:  17%|█▋        | 40/235 [00:20<01:32,  2.11it/s, loss=7.9130, avg_loss=7.8169]"
     ]
    },
    {
     "name": "stdout",
     "output_type": "stream",
     "text": [
      "{'kd_loss': 11.258363723754883, 'feature_loss': 0.20009839534759521, 'ce_loss': 7.989748954772949, 'cont_loss': 1.7372649908065796, 'teacher_loss': 8.10051155090332, 'total_loss': 7.912991046905518}\n"
     ]
    },
    {
     "name": "stderr",
     "output_type": "stream",
     "text": [
      "Validating:  17%|█▋        | 41/235 [00:21<01:32,  2.10it/s, loss=7.6209, avg_loss=7.8121]"
     ]
    },
    {
     "name": "stdout",
     "output_type": "stream",
     "text": [
      "{'kd_loss': 10.865809440612793, 'feature_loss': 0.2918463349342346, 'ce_loss': 7.636140823364258, 'cont_loss': 1.617370843887329, 'teacher_loss': 8.087151527404785, 'total_loss': 7.620886325836182}\n"
     ]
    },
    {
     "name": "stderr",
     "output_type": "stream",
     "text": [
      "Validating:  18%|█▊        | 42/235 [00:21<01:32,  2.09it/s, loss=7.5192, avg_loss=7.8052]"
     ]
    },
    {
     "name": "stdout",
     "output_type": "stream",
     "text": [
      "{'kd_loss': 10.735246658325195, 'feature_loss': 0.2929755449295044, 'ce_loss': 7.519023895263672, 'cont_loss': 1.5887644290924072, 'teacher_loss': 8.086166381835938, 'total_loss': 7.5191802978515625}\n"
     ]
    },
    {
     "name": "stderr",
     "output_type": "stream",
     "text": [
      "Validating:  18%|█▊        | 43/235 [00:21<01:31,  2.10it/s, loss=7.8553, avg_loss=7.8063]"
     ]
    },
    {
     "name": "stdout",
     "output_type": "stream",
     "text": [
      "{'kd_loss': 11.165671348571777, 'feature_loss': 0.38160914182662964, 'ce_loss': 7.906474590301514, 'cont_loss': 1.5007522106170654, 'teacher_loss': 8.082529067993164, 'total_loss': 7.855255603790283}\n"
     ]
    },
    {
     "name": "stderr",
     "output_type": "stream",
     "text": [
      "Validating:  19%|█▊        | 44/235 [00:22<01:31,  2.09it/s, loss=8.2401, avg_loss=7.8162]"
     ]
    },
    {
     "name": "stdout",
     "output_type": "stream",
     "text": [
      "{'kd_loss': 11.67822265625, 'feature_loss': 0.25626134872436523, 'ce_loss': 8.367433547973633, 'cont_loss': 1.7056546211242676, 'teacher_loss': 8.081389427185059, 'total_loss': 8.240080833435059}\n"
     ]
    },
    {
     "name": "stderr",
     "output_type": "stream",
     "text": [
      "Validating:  19%|█▉        | 45/235 [00:22<01:30,  2.10it/s, loss=7.9581, avg_loss=7.8193]"
     ]
    },
    {
     "name": "stdout",
     "output_type": "stream",
     "text": [
      "{'kd_loss': 11.307014465332031, 'feature_loss': 0.3086701035499573, 'ce_loss': 8.033312797546387, 'cont_loss': 1.602383017539978, 'teacher_loss': 8.101266860961914, 'total_loss': 7.958103179931641}\n"
     ]
    },
    {
     "name": "stderr",
     "output_type": "stream",
     "text": [
      "Validating:  20%|█▉        | 46/235 [00:23<01:29,  2.10it/s, loss=8.1442, avg_loss=7.8264]"
     ]
    },
    {
     "name": "stdout",
     "output_type": "stream",
     "text": [
      "{'kd_loss': 11.533305168151855, 'feature_loss': 0.3636171221733093, 'ce_loss': 8.237091064453125, 'cont_loss': 1.6328468322753906, 'teacher_loss': 8.106324195861816, 'total_loss': 8.144166946411133}\n"
     ]
    },
    {
     "name": "stderr",
     "output_type": "stream",
     "text": [
      "Validating:  20%|██        | 47/235 [00:23<01:29,  2.10it/s, loss=7.8619, avg_loss=7.8272]"
     ]
    },
    {
     "name": "stdout",
     "output_type": "stream",
     "text": [
      "{'kd_loss': 11.173044204711914, 'feature_loss': 0.2620422840118408, 'ce_loss': 7.9130401611328125, 'cont_loss': 1.751071810722351, 'teacher_loss': 8.098600387573242, 'total_loss': 7.861949920654297}\n"
     ]
    },
    {
     "name": "stderr",
     "output_type": "stream",
     "text": [
      "Validating:  20%|██        | 48/235 [00:24<01:28,  2.10it/s, loss=7.7222, avg_loss=7.8250]"
     ]
    },
    {
     "name": "stdout",
     "output_type": "stream",
     "text": [
      "{'kd_loss': 10.976082801818848, 'feature_loss': 0.38445186614990234, 'ce_loss': 7.735186576843262, 'cont_loss': 1.6075770854949951, 'teacher_loss': 8.097029685974121, 'total_loss': 7.722156047821045}\n"
     ]
    },
    {
     "name": "stderr",
     "output_type": "stream",
     "text": [
      "Validating:  21%|██        | 49/235 [00:24<01:28,  2.10it/s, loss=7.6789, avg_loss=7.8220]"
     ]
    },
    {
     "name": "stdout",
     "output_type": "stream",
     "text": [
      "{'kd_loss': 10.930970191955566, 'feature_loss': 0.306679368019104, 'ce_loss': 7.694724082946777, 'cont_loss': 1.67279052734375, 'teacher_loss': 8.097484588623047, 'total_loss': 7.678893089294434}\n"
     ]
    },
    {
     "name": "stderr",
     "output_type": "stream",
     "text": [
      "Validating:  21%|██▏       | 50/235 [00:25<01:28,  2.09it/s, loss=7.7720, avg_loss=7.8210]"
     ]
    },
    {
     "name": "stdout",
     "output_type": "stream",
     "text": [
      "{'kd_loss': 11.04794979095459, 'feature_loss': 0.33235228061676025, 'ce_loss': 7.79993200302124, 'cont_loss': 1.6635751724243164, 'teacher_loss': 8.077376365661621, 'total_loss': 7.7719807624816895}\n"
     ]
    },
    {
     "name": "stderr",
     "output_type": "stream",
     "text": [
      "Validating:  22%|██▏       | 51/235 [00:25<01:27,  2.10it/s, loss=7.5651, avg_loss=7.8160]"
     ]
    },
    {
     "name": "stdout",
     "output_type": "stream",
     "text": [
      "{'kd_loss': 10.768399238586426, 'feature_loss': 0.3172970414161682, 'ce_loss': 7.549181938171387, 'cont_loss': 1.746236801147461, 'teacher_loss': 8.07917308807373, 'total_loss': 7.565115451812744}\n"
     ]
    },
    {
     "name": "stderr",
     "output_type": "stream",
     "text": [
      "Validating:  22%|██▏       | 52/235 [00:26<01:27,  2.09it/s, loss=7.8999, avg_loss=7.8176]"
     ]
    },
    {
     "name": "stdout",
     "output_type": "stream",
     "text": [
      "{'kd_loss': 11.223518371582031, 'feature_loss': 0.28688502311706543, 'ce_loss': 7.958439826965332, 'cont_loss': 1.6971652507781982, 'teacher_loss': 8.095603942871094, 'total_loss': 7.899877071380615}\n"
     ]
    },
    {
     "name": "stderr",
     "output_type": "stream",
     "text": [
      "Validating:  23%|██▎       | 53/235 [00:26<01:26,  2.10it/s, loss=7.8468, avg_loss=7.8181]"
     ]
    },
    {
     "name": "stdout",
     "output_type": "stream",
     "text": [
      "{'kd_loss': 11.132346153259277, 'feature_loss': 0.32457560300827026, 'ce_loss': 7.876078128814697, 'cont_loss': 1.7850942611694336, 'teacher_loss': 8.096562385559082, 'total_loss': 7.846794605255127}\n"
     ]
    },
    {
     "name": "stderr",
     "output_type": "stream",
     "text": [
      "Validating:  23%|██▎       | 54/235 [00:27<01:26,  2.10it/s, loss=7.9653, avg_loss=7.8209]"
     ]
    },
    {
     "name": "stdout",
     "output_type": "stream",
     "text": [
      "{'kd_loss': 11.272843360900879, 'feature_loss': 0.4140141010284424, 'ce_loss': 8.00238037109375, 'cont_loss': 1.7240675687789917, 'teacher_loss': 8.087342262268066, 'total_loss': 7.965299129486084}\n"
     ]
    },
    {
     "name": "stderr",
     "output_type": "stream",
     "text": [
      "Validating:  23%|██▎       | 55/235 [00:27<01:25,  2.10it/s, loss=7.6811, avg_loss=7.8183]"
     ]
    },
    {
     "name": "stdout",
     "output_type": "stream",
     "text": [
      "{'kd_loss': 10.912252426147461, 'feature_loss': 0.3689190745353699, 'ce_loss': 7.677938938140869, 'cont_loss': 1.712772011756897, 'teacher_loss': 8.09851360321045, 'total_loss': 7.681137561798096}\n"
     ]
    },
    {
     "name": "stderr",
     "output_type": "stream",
     "text": [
      "Validating:  24%|██▍       | 56/235 [00:28<01:25,  2.10it/s, loss=8.0816, avg_loss=7.8230]"
     ]
    },
    {
     "name": "stdout",
     "output_type": "stream",
     "text": [
      "{'kd_loss': 11.430399894714355, 'feature_loss': 0.35232013463974, 'ce_loss': 8.14422607421875, 'cont_loss': 1.8132309913635254, 'teacher_loss': 8.09475326538086, 'total_loss': 8.08163833618164}\n"
     ]
    },
    {
     "name": "stderr",
     "output_type": "stream",
     "text": [
      "Validating:  24%|██▍       | 57/235 [00:28<01:24,  2.10it/s, loss=7.7683, avg_loss=7.8221]"
     ]
    },
    {
     "name": "stdout",
     "output_type": "stream",
     "text": [
      "{'kd_loss': 11.028471946716309, 'feature_loss': 0.3185054659843445, 'ce_loss': 7.782878875732422, 'cont_loss': 1.800771951675415, 'teacher_loss': 8.097333908081055, 'total_loss': 7.7683186531066895}\n"
     ]
    },
    {
     "name": "stderr",
     "output_type": "stream",
     "text": [
      "Validating:  25%|██▍       | 58/235 [00:29<01:24,  2.10it/s, loss=7.8326, avg_loss=7.8222]"
     ]
    },
    {
     "name": "stdout",
     "output_type": "stream",
     "text": [
      "{'kd_loss': 11.115220069885254, 'feature_loss': 0.293300986289978, 'ce_loss': 7.860803604125977, 'cont_loss': 1.8349993228912354, 'teacher_loss': 8.097564697265625, 'total_loss': 7.832569599151611}\n"
     ]
    },
    {
     "name": "stderr",
     "output_type": "stream",
     "text": [
      "Validating:  25%|██▌       | 59/235 [00:29<01:23,  2.10it/s, loss=8.0376, avg_loss=7.8259]"
     ]
    },
    {
     "name": "stdout",
     "output_type": "stream",
     "text": [
      "{'kd_loss': 11.38636589050293, 'feature_loss': 0.287983775138855, 'ce_loss': 8.104842185974121, 'cont_loss': 1.834850788116455, 'teacher_loss': 8.085244178771973, 'total_loss': 8.037565231323242}\n"
     ]
    },
    {
     "name": "stderr",
     "output_type": "stream",
     "text": [
      "Validating:  26%|██▌       | 60/235 [00:30<01:23,  2.10it/s, loss=8.2207, avg_loss=7.8325]"
     ]
    },
    {
     "name": "stdout",
     "output_type": "stream",
     "text": [
      "{'kd_loss': 11.608558654785156, 'feature_loss': 0.35672128200531006, 'ce_loss': 8.30466365814209, 'cont_loss': 1.8410496711730957, 'teacher_loss': 8.069191932678223, 'total_loss': 8.220738410949707}\n"
     ]
    },
    {
     "name": "stderr",
     "output_type": "stream",
     "text": [
      "Validating:  26%|██▌       | 61/235 [00:30<01:22,  2.10it/s, loss=7.7233, avg_loss=7.8307]"
     ]
    },
    {
     "name": "stdout",
     "output_type": "stream",
     "text": [
      "{'kd_loss': 10.966005325317383, 'feature_loss': 0.2974264621734619, 'ce_loss': 7.726462364196777, 'cont_loss': 1.8686836957931519, 'teacher_loss': 8.078261375427246, 'total_loss': 7.7233405113220215}\n"
     ]
    },
    {
     "name": "stderr",
     "output_type": "stream",
     "text": [
      "Validating:  26%|██▋       | 62/235 [00:31<01:22,  2.09it/s, loss=7.9038, avg_loss=7.8319]"
     ]
    },
    {
     "name": "stdout",
     "output_type": "stream",
     "text": [
      "{'kd_loss': 11.214509010314941, 'feature_loss': 0.2523730397224426, 'ce_loss': 7.950047969818115, 'cont_loss': 1.8745484352111816, 'teacher_loss': 8.09214973449707, 'total_loss': 7.903751850128174}\n"
     ]
    },
    {
     "name": "stderr",
     "output_type": "stream",
     "text": [
      "Validating:  27%|██▋       | 63/235 [00:31<01:22,  2.09it/s, loss=8.0874, avg_loss=7.8359]"
     ]
    },
    {
     "name": "stdout",
     "output_type": "stream",
     "text": [
      "{'kd_loss': 11.427204132080078, 'feature_loss': 0.29987990856170654, 'ce_loss': 8.141983032226562, 'cont_loss': 1.9978461265563965, 'teacher_loss': 8.087003707885742, 'total_loss': 8.087435722351074}\n"
     ]
    },
    {
     "name": "stderr",
     "output_type": "stream",
     "text": [
      "Validating:  27%|██▋       | 64/235 [00:32<01:21,  2.09it/s, loss=8.0956, avg_loss=7.8400]"
     ]
    },
    {
     "name": "stdout",
     "output_type": "stream",
     "text": [
      "{'kd_loss': 11.444353103637695, 'feature_loss': 0.33788561820983887, 'ce_loss': 8.157089233398438, 'cont_loss': 1.8744666576385498, 'teacher_loss': 8.079463958740234, 'total_loss': 8.095600128173828}\n"
     ]
    },
    {
     "name": "stderr",
     "output_type": "stream",
     "text": [
      "Validating:  28%|██▊       | 65/235 [00:32<01:21,  2.09it/s, loss=8.0482, avg_loss=7.8432]"
     ]
    },
    {
     "name": "stdout",
     "output_type": "stream",
     "text": [
      "{'kd_loss': 11.383984565734863, 'feature_loss': 0.30032122135162354, 'ce_loss': 8.102757453918457, 'cont_loss': 1.9340039491653442, 'teacher_loss': 8.078234672546387, 'total_loss': 8.048161506652832}\n"
     ]
    },
    {
     "name": "stderr",
     "output_type": "stream",
     "text": [
      "Validating:  28%|██▊       | 66/235 [00:32<01:20,  2.09it/s, loss=7.8875, avg_loss=7.8439]"
     ]
    },
    {
     "name": "stdout",
     "output_type": "stream",
     "text": [
      "{'kd_loss': 11.195215225219727, 'feature_loss': 0.25240111351013184, 'ce_loss': 7.932987213134766, 'cont_loss': 1.8569564819335938, 'teacher_loss': 8.083230018615723, 'total_loss': 7.887456893920898}\n"
     ]
    },
    {
     "name": "stderr",
     "output_type": "stream",
     "text": [
      "Validating:  29%|██▊       | 67/235 [00:33<01:20,  2.09it/s, loss=8.0068, avg_loss=7.8463]"
     ]
    },
    {
     "name": "stdout",
     "output_type": "stream",
     "text": [
      "{'kd_loss': 11.332015037536621, 'feature_loss': 0.3239167332649231, 'ce_loss': 8.055520057678223, 'cont_loss': 1.8697463274002075, 'teacher_loss': 8.094136238098145, 'total_loss': 8.0067720413208}\n"
     ]
    },
    {
     "name": "stderr",
     "output_type": "stream",
     "text": [
      "Validating:  29%|██▉       | 68/235 [00:33<01:19,  2.09it/s, loss=8.2156, avg_loss=7.8517]"
     ]
    },
    {
     "name": "stdout",
     "output_type": "stream",
     "text": [
      "{'kd_loss': 11.584281921386719, 'feature_loss': 0.30883896350860596, 'ce_loss': 8.282758712768555, 'cont_loss': 2.0706493854522705, 'teacher_loss': 8.081399917602539, 'total_loss': 8.215648651123047}\n"
     ]
    },
    {
     "name": "stderr",
     "output_type": "stream",
     "text": [
      "Validating:  29%|██▉       | 69/235 [00:34<01:19,  2.09it/s, loss=8.0299, avg_loss=7.8543]"
     ]
    },
    {
     "name": "stdout",
     "output_type": "stream",
     "text": [
      "{'kd_loss': 11.366979598999023, 'feature_loss': 0.30624687671661377, 'ce_loss': 8.08759880065918, 'cont_loss': 1.8685061931610107, 'teacher_loss': 8.091294288635254, 'total_loss': 8.02993106842041}\n"
     ]
    },
    {
     "name": "stderr",
     "output_type": "stream",
     "text": [
      "Validating:  30%|██▉       | 70/235 [00:34<01:18,  2.09it/s, loss=7.9187, avg_loss=7.8552]"
     ]
    },
    {
     "name": "stdout",
     "output_type": "stream",
     "text": [
      "{'kd_loss': 11.220110893249512, 'feature_loss': 0.301785409450531, 'ce_loss': 7.955639839172363, 'cont_loss': 1.8808298110961914, 'teacher_loss': 8.095909118652344, 'total_loss': 7.918740749359131}\n"
     ]
    },
    {
     "name": "stderr",
     "output_type": "stream",
     "text": [
      "Validating:  30%|███       | 71/235 [00:35<01:18,  2.09it/s, loss=7.8676, avg_loss=7.8554]"
     ]
    },
    {
     "name": "stdout",
     "output_type": "stream",
     "text": [
      "{'kd_loss': 11.134284973144531, 'feature_loss': 0.32956087589263916, 'ce_loss': 7.87800407409668, 'cont_loss': 1.9673893451690674, 'teacher_loss': 8.093376159667969, 'total_loss': 7.8675665855407715}\n"
     ]
    },
    {
     "name": "stderr",
     "output_type": "stream",
     "text": [
      "Validating:  31%|███       | 72/235 [00:35<01:17,  2.09it/s, loss=7.8067, avg_loss=7.8547]"
     ]
    },
    {
     "name": "stdout",
     "output_type": "stream",
     "text": [
      "{'kd_loss': 11.052864074707031, 'feature_loss': 0.3257254362106323, 'ce_loss': 7.804800987243652, 'cont_loss': 1.9850088357925415, 'teacher_loss': 8.081488609313965, 'total_loss': 7.806712627410889}\n"
     ]
    },
    {
     "name": "stderr",
     "output_type": "stream",
     "text": [
      "Validating:  31%|███       | 73/235 [00:36<01:17,  2.10it/s, loss=7.7808, avg_loss=7.8537]"
     ]
    },
    {
     "name": "stdout",
     "output_type": "stream",
     "text": [
      "{'kd_loss': 11.034137725830078, 'feature_loss': 0.294816792011261, 'ce_loss': 7.787676811218262, 'cont_loss': 1.9316065311431885, 'teacher_loss': 8.082049369812012, 'total_loss': 7.780849933624268}\n"
     ]
    },
    {
     "name": "stderr",
     "output_type": "stream",
     "text": [
      "Validating:  31%|███▏      | 74/235 [00:36<01:16,  2.10it/s, loss=7.9971, avg_loss=7.8556]"
     ]
    },
    {
     "name": "stdout",
     "output_type": "stream",
     "text": [
      "{'kd_loss': 11.314292907714844, 'feature_loss': 0.27550309896469116, 'ce_loss': 8.039983749389648, 'cont_loss': 2.0024542808532715, 'teacher_loss': 8.085954666137695, 'total_loss': 7.997056484222412}\n"
     ]
    },
    {
     "name": "stderr",
     "output_type": "stream",
     "text": [
      "Validating:  32%|███▏      | 75/235 [00:37<01:16,  2.09it/s, loss=7.8335, avg_loss=7.8553]"
     ]
    },
    {
     "name": "stdout",
     "output_type": "stream",
     "text": [
      "{'kd_loss': 11.09520149230957, 'feature_loss': 0.28561413288116455, 'ce_loss': 7.84301233291626, 'cont_loss': 2.010617971420288, 'teacher_loss': 8.081570625305176, 'total_loss': 7.833469867706299}\n"
     ]
    },
    {
     "name": "stderr",
     "output_type": "stream",
     "text": [
      "Validating:  32%|███▏      | 76/235 [00:37<01:15,  2.10it/s, loss=7.8883, avg_loss=7.8558]"
     ]
    },
    {
     "name": "stdout",
     "output_type": "stream",
     "text": [
      "{'kd_loss': 11.15731430053711, 'feature_loss': 0.3294031023979187, 'ce_loss': 7.89880895614624, 'cont_loss': 1.9992009401321411, 'teacher_loss': 8.090950012207031, 'total_loss': 7.888250827789307}\n"
     ]
    },
    {
     "name": "stderr",
     "output_type": "stream",
     "text": [
      "Validating:  33%|███▎      | 77/235 [00:38<01:15,  2.10it/s, loss=8.0410, avg_loss=7.8582]"
     ]
    },
    {
     "name": "stdout",
     "output_type": "stream",
     "text": [
      "{'kd_loss': 11.355778694152832, 'feature_loss': 0.3060516119003296, 'ce_loss': 8.077362060546875, 'cont_loss': 2.0656862258911133, 'teacher_loss': 8.082255363464355, 'total_loss': 8.041035652160645}\n"
     ]
    },
    {
     "name": "stderr",
     "output_type": "stream",
     "text": [
      "Validating:  33%|███▎      | 78/235 [00:38<01:14,  2.10it/s, loss=7.8568, avg_loss=7.8582]"
     ]
    },
    {
     "name": "stdout",
     "output_type": "stream",
     "text": [
      "{'kd_loss': 11.108399391174316, 'feature_loss': 0.34933650493621826, 'ce_loss': 7.854969024658203, 'cont_loss': 2.0156021118164062, 'teacher_loss': 8.094636917114258, 'total_loss': 7.85677433013916}\n"
     ]
    },
    {
     "name": "stderr",
     "output_type": "stream",
     "text": [
      "Validating:  34%|███▎      | 79/235 [00:39<01:14,  2.10it/s, loss=8.0449, avg_loss=7.8605]"
     ]
    },
    {
     "name": "stdout",
     "output_type": "stream",
     "text": [
      "{'kd_loss': 11.351235389709473, 'feature_loss': 0.2912929058074951, 'ce_loss': 8.073205947875977, 'cont_loss': 2.1690030097961426, 'teacher_loss': 8.08816909790039, 'total_loss': 8.04493522644043}\n"
     ]
    },
    {
     "name": "stderr",
     "output_type": "stream",
     "text": [
      "Validating:  34%|███▍      | 80/235 [00:39<01:13,  2.10it/s, loss=7.9332, avg_loss=7.8614]"
     ]
    },
    {
     "name": "stdout",
     "output_type": "stream",
     "text": [
      "{'kd_loss': 11.208831787109375, 'feature_loss': 0.31168437004089355, 'ce_loss': 7.944985866546631, 'cont_loss': 2.0935561656951904, 'teacher_loss': 8.084115982055664, 'total_loss': 7.933220386505127}\n"
     ]
    },
    {
     "name": "stderr",
     "output_type": "stream",
     "text": [
      "Validating:  34%|███▍      | 81/235 [00:40<01:13,  2.10it/s, loss=7.8350, avg_loss=7.8611]"
     ]
    },
    {
     "name": "stdout",
     "output_type": "stream",
     "text": [
      "{'kd_loss': 11.074516296386719, 'feature_loss': 0.33932948112487793, 'ce_loss': 7.82473611831665, 'cont_loss': 2.074525833129883, 'teacher_loss': 8.085893630981445, 'total_loss': 7.835020065307617}\n"
     ]
    },
    {
     "name": "stderr",
     "output_type": "stream",
     "text": [
      "Validating:  35%|███▍      | 82/235 [00:40<01:12,  2.10it/s, loss=7.9800, avg_loss=7.8626]"
     ]
    },
    {
     "name": "stdout",
     "output_type": "stream",
     "text": [
      "{'kd_loss': 11.269758224487305, 'feature_loss': 0.3127322196960449, 'ce_loss': 7.999823570251465, 'cont_loss': 2.09582781791687, 'teacher_loss': 8.090620040893555, 'total_loss': 7.97996187210083}\n"
     ]
    },
    {
     "name": "stderr",
     "output_type": "stream",
     "text": [
      "Validating:  35%|███▌      | 83/235 [00:41<01:12,  2.11it/s, loss=7.9089, avg_loss=7.8631]"
     ]
    },
    {
     "name": "stdout",
     "output_type": "stream",
     "text": [
      "{'kd_loss': 11.176067352294922, 'feature_loss': 0.30851948261260986, 'ce_loss': 7.915436267852783, 'cont_loss': 2.106241226196289, 'teacher_loss': 8.09235668182373, 'total_loss': 7.908929347991943}\n"
     ]
    },
    {
     "name": "stderr",
     "output_type": "stream",
     "text": [
      "Validating:  36%|███▌      | 84/235 [00:41<01:11,  2.10it/s, loss=7.9651, avg_loss=7.8643]"
     ]
    },
    {
     "name": "stdout",
     "output_type": "stream",
     "text": [
      "{'kd_loss': 11.255767822265625, 'feature_loss': 0.2933858036994934, 'ce_loss': 7.9877400398254395, 'cont_loss': 2.0897445678710938, 'teacher_loss': 8.097163200378418, 'total_loss': 7.965054988861084}\n"
     ]
    },
    {
     "name": "stderr",
     "output_type": "stream",
     "text": [
      "Validating:  36%|███▌      | 85/235 [00:42<01:11,  2.10it/s, loss=7.9998, avg_loss=7.8659]"
     ]
    },
    {
     "name": "stdout",
     "output_type": "stream",
     "text": [
      "{'kd_loss': 11.275067329406738, 'feature_loss': 0.38154423236846924, 'ce_loss': 8.004742622375488, 'cont_loss': 2.115628719329834, 'teacher_loss': 8.086420059204102, 'total_loss': 7.999795913696289}\n"
     ]
    },
    {
     "name": "stderr",
     "output_type": "stream",
     "text": [
      "Validating:  37%|███▋      | 86/235 [00:42<01:10,  2.10it/s, loss=8.0183, avg_loss=7.8677]"
     ]
    },
    {
     "name": "stdout",
     "output_type": "stream",
     "text": [
      "{'kd_loss': 11.294121742248535, 'feature_loss': 0.326069712638855, 'ce_loss': 8.021501541137695, 'cont_loss': 2.268126964569092, 'teacher_loss': 8.085271835327148, 'total_loss': 8.01827621459961}\n"
     ]
    },
    {
     "name": "stderr",
     "output_type": "stream",
     "text": [
      "Validating:  37%|███▋      | 87/235 [00:42<01:10,  2.11it/s, loss=8.1900, avg_loss=7.8714]"
     ]
    },
    {
     "name": "stdout",
     "output_type": "stream",
     "text": [
      "{'kd_loss': 11.518588066101074, 'feature_loss': 0.4025135040283203, 'ce_loss': 8.22389030456543, 'cont_loss': 2.125476360321045, 'teacher_loss': 8.084487915039062, 'total_loss': 8.190041542053223}\n"
     ]
    },
    {
     "name": "stderr",
     "output_type": "stream",
     "text": [
      "Validating:  37%|███▋      | 88/235 [00:43<01:09,  2.11it/s, loss=8.0801, avg_loss=7.8738]"
     ]
    },
    {
     "name": "stdout",
     "output_type": "stream",
     "text": [
      "{'kd_loss': 11.389686584472656, 'feature_loss': 0.3277741074562073, 'ce_loss': 8.10793685913086, 'cont_loss': 2.1551971435546875, 'teacher_loss': 8.092443466186523, 'total_loss': 8.080123901367188}\n"
     ]
    },
    {
     "name": "stderr",
     "output_type": "stream",
     "text": [
      "Validating:  38%|███▊      | 89/235 [00:43<01:09,  2.11it/s, loss=8.0380, avg_loss=7.8756]"
     ]
    },
    {
     "name": "stdout",
     "output_type": "stream",
     "text": [
      "{'kd_loss': 11.332291603088379, 'feature_loss': 0.31418484449386597, 'ce_loss': 8.056208610534668, 'cont_loss': 2.197741985321045, 'teacher_loss': 8.089738845825195, 'total_loss': 8.03801155090332}\n"
     ]
    },
    {
     "name": "stderr",
     "output_type": "stream",
     "text": [
      "Validating:  38%|███▊      | 90/235 [00:44<01:08,  2.10it/s, loss=8.1784, avg_loss=7.8790]"
     ]
    },
    {
     "name": "stdout",
     "output_type": "stream",
     "text": [
      "{'kd_loss': 11.516866683959961, 'feature_loss': 0.3350169062614441, 'ce_loss': 8.222289085388184, 'cont_loss': 2.157589912414551, 'teacher_loss': 8.091418266296387, 'total_loss': 8.178424835205078}\n"
     ]
    },
    {
     "name": "stderr",
     "output_type": "stream",
     "text": [
      "Validating:  39%|███▊      | 91/235 [00:44<01:08,  2.11it/s, loss=8.1626, avg_loss=7.8821]"
     ]
    },
    {
     "name": "stdout",
     "output_type": "stream",
     "text": [
      "{'kd_loss': 11.483433723449707, 'feature_loss': 0.29441404342651367, 'ce_loss': 8.1923189163208, 'cont_loss': 2.3342113494873047, 'teacher_loss': 8.07653522491455, 'total_loss': 8.162605285644531}\n"
     ]
    },
    {
     "name": "stderr",
     "output_type": "stream",
     "text": [
      "Validating:  39%|███▉      | 92/235 [00:45<01:07,  2.12it/s, loss=8.1060, avg_loss=7.8845]"
     ]
    },
    {
     "name": "stdout",
     "output_type": "stream",
     "text": [
      "{'kd_loss': 11.432882308959961, 'feature_loss': 0.2697027921676636, 'ce_loss': 8.1462984085083, 'cont_loss': 2.2034971714019775, 'teacher_loss': 8.080588340759277, 'total_loss': 8.105962753295898}\n"
     ]
    },
    {
     "name": "stderr",
     "output_type": "stream",
     "text": [
      "Validating:  40%|███▉      | 93/235 [00:45<01:07,  2.11it/s, loss=8.0741, avg_loss=7.8866]"
     ]
    },
    {
     "name": "stdout",
     "output_type": "stream",
     "text": [
      "{'kd_loss': 11.384692192077637, 'feature_loss': 0.3116724491119385, 'ce_loss': 8.102691650390625, 'cont_loss': 2.1684911251068115, 'teacher_loss': 8.0828857421875, 'total_loss': 8.074137687683105}\n"
     ]
    },
    {
     "name": "stderr",
     "output_type": "stream",
     "text": [
      "Validating:  40%|████      | 94/235 [00:46<01:06,  2.12it/s, loss=8.0116, avg_loss=7.8879]"
     ]
    },
    {
     "name": "stdout",
     "output_type": "stream",
     "text": [
      "{'kd_loss': 11.285883903503418, 'feature_loss': 0.28475791215896606, 'ce_loss': 8.014374732971191, 'cont_loss': 2.3451616764068604, 'teacher_loss': 8.087089538574219, 'total_loss': 8.011571884155273}\n"
     ]
    },
    {
     "name": "stderr",
     "output_type": "stream",
     "text": [
      "Validating:  40%|████      | 95/235 [00:46<01:06,  2.11it/s, loss=7.9620, avg_loss=7.8887]"
     ]
    },
    {
     "name": "stdout",
     "output_type": "stream",
     "text": [
      "{'kd_loss': 11.217677116394043, 'feature_loss': 0.35031330585479736, 'ce_loss': 7.9530792236328125, 'cont_loss': 2.2362537384033203, 'teacher_loss': 8.079659461975098, 'total_loss': 7.9619903564453125}\n"
     ]
    },
    {
     "name": "stderr",
     "output_type": "stream",
     "text": [
      "Validating:  41%|████      | 96/235 [00:47<01:05,  2.11it/s, loss=8.0626, avg_loss=7.8905]"
     ]
    },
    {
     "name": "stdout",
     "output_type": "stream",
     "text": [
      "{'kd_loss': 11.360525131225586, 'feature_loss': 0.3117673993110657, 'ce_loss': 8.081189155578613, 'cont_loss': 2.2351410388946533, 'teacher_loss': 8.077157020568848, 'total_loss': 8.062553405761719}\n"
     ]
    },
    {
     "name": "stderr",
     "output_type": "stream",
     "text": [
      "Validating:  41%|████▏     | 97/235 [00:47<01:05,  2.12it/s, loss=8.1243, avg_loss=7.8929]"
     ]
    },
    {
     "name": "stdout",
     "output_type": "stream",
     "text": [
      "{'kd_loss': 11.439529418945312, 'feature_loss': 0.3160780668258667, 'ce_loss': 8.152802467346191, 'cont_loss': 2.2411000728607178, 'teacher_loss': 8.076602935791016, 'total_loss': 8.124258041381836}\n"
     ]
    },
    {
     "name": "stderr",
     "output_type": "stream",
     "text": [
      "Validating:  42%|████▏     | 98/235 [00:48<01:04,  2.11it/s, loss=8.1364, avg_loss=7.8954]"
     ]
    },
    {
     "name": "stdout",
     "output_type": "stream",
     "text": [
      "{'kd_loss': 11.424333572387695, 'feature_loss': 0.3501262664794922, 'ce_loss': 8.138422012329102, 'cont_loss': 2.4129953384399414, 'teacher_loss': 8.097023963928223, 'total_loss': 8.136427879333496}\n"
     ]
    },
    {
     "name": "stderr",
     "output_type": "stream",
     "text": [
      "Validating:  42%|████▏     | 99/235 [00:48<01:04,  2.12it/s, loss=8.1075, avg_loss=7.8975]"
     ]
    },
    {
     "name": "stdout",
     "output_type": "stream",
     "text": [
      "{'kd_loss': 11.408193588256836, 'feature_loss': 0.3104013204574585, 'ce_loss': 8.124146461486816, 'cont_loss': 2.324629783630371, 'teacher_loss': 8.08364200592041, 'total_loss': 8.1074800491333}\n"
     ]
    },
    {
     "name": "stderr",
     "output_type": "stream",
     "text": [
      "Validating:  43%|████▎     | 100/235 [00:49<01:04,  2.11it/s, loss=8.1120, avg_loss=7.8997]"
     ]
    },
    {
     "name": "stdout",
     "output_type": "stream",
     "text": [
      "{'kd_loss': 11.425590515136719, 'feature_loss': 0.2629862427711487, 'ce_loss': 8.140185356140137, 'cont_loss': 2.3314030170440674, 'teacher_loss': 8.083269119262695, 'total_loss': 8.11204719543457}\n"
     ]
    },
    {
     "name": "stderr",
     "output_type": "stream",
     "text": [
      "Validating:  43%|████▎     | 101/235 [00:49<01:03,  2.11it/s, loss=8.1536, avg_loss=7.9022]"
     ]
    },
    {
     "name": "stdout",
     "output_type": "stream",
     "text": [
      "{'kd_loss': 11.47404956817627, 'feature_loss': 0.28882551193237305, 'ce_loss': 8.1840181350708, 'cont_loss': 2.326524257659912, 'teacher_loss': 8.089460372924805, 'total_loss': 8.153644561767578}\n"
     ]
    },
    {
     "name": "stderr",
     "output_type": "stream",
     "text": [
      "Validating:  43%|████▎     | 102/235 [00:50<01:03,  2.11it/s, loss=8.1603, avg_loss=7.9047]"
     ]
    },
    {
     "name": "stdout",
     "output_type": "stream",
     "text": [
      "{'kd_loss': 11.485014915466309, 'feature_loss': 0.2775670289993286, 'ce_loss': 8.19369888305664, 'cont_loss': 2.3325259685516357, 'teacher_loss': 8.092296600341797, 'total_loss': 8.16025161743164}\n"
     ]
    },
    {
     "name": "stderr",
     "output_type": "stream",
     "text": [
      "Validating:  44%|████▍     | 103/235 [00:50<01:02,  2.12it/s, loss=7.9990, avg_loss=7.9056]"
     ]
    },
    {
     "name": "stdout",
     "output_type": "stream",
     "text": [
      "{'kd_loss': 11.247027397155762, 'feature_loss': 0.28649431467056274, 'ce_loss': 7.979479789733887, 'cont_loss': 2.5113754272460938, 'teacher_loss': 8.091193199157715, 'total_loss': 7.999039649963379}\n"
     ]
    },
    {
     "name": "stderr",
     "output_type": "stream",
     "text": [
      "Validating:  44%|████▍     | 104/235 [00:51<01:02,  2.11it/s, loss=8.0569, avg_loss=7.9071]"
     ]
    },
    {
     "name": "stdout",
     "output_type": "stream",
     "text": [
      "{'kd_loss': 11.347526550292969, 'feature_loss': 0.272580087184906, 'ce_loss': 8.069607734680176, 'cont_loss': 2.3552446365356445, 'teacher_loss': 8.091360092163086, 'total_loss': 8.056893348693848}\n"
     ]
    },
    {
     "name": "stderr",
     "output_type": "stream",
     "text": [
      "Validating:  45%|████▍     | 105/235 [00:51<01:01,  2.11it/s, loss=8.0741, avg_loss=7.9087]"
     ]
    },
    {
     "name": "stdout",
     "output_type": "stream",
     "text": [
      "{'kd_loss': 11.364265441894531, 'feature_loss': 0.2833455801010132, 'ce_loss': 8.085376739501953, 'cont_loss': 2.3757612705230713, 'teacher_loss': 8.091378211975098, 'total_loss': 8.074102401733398}\n"
     ]
    },
    {
     "name": "stderr",
     "output_type": "stream",
     "text": [
      "Validating:  45%|████▌     | 106/235 [00:51<01:01,  2.11it/s, loss=8.1674, avg_loss=7.9111]"
     ]
    },
    {
     "name": "stdout",
     "output_type": "stream",
     "text": [
      "{'kd_loss': 11.449862480163574, 'feature_loss': 0.3463643789291382, 'ce_loss': 8.161606788635254, 'cont_loss': 2.5357608795166016, 'teacher_loss': 8.08265209197998, 'total_loss': 8.167436599731445}\n"
     ]
    },
    {
     "name": "stderr",
     "output_type": "stream",
     "text": [
      "Validating:  46%|████▌     | 107/235 [00:52<01:00,  2.11it/s, loss=7.9339, avg_loss=7.9113]"
     ]
    },
    {
     "name": "stdout",
     "output_type": "stream",
     "text": [
      "{'kd_loss': 11.160018920898438, 'feature_loss': 0.3808732032775879, 'ce_loss': 7.900852680206299, 'cont_loss': 2.334071159362793, 'teacher_loss': 8.086828231811523, 'total_loss': 7.933930397033691}\n"
     ]
    },
    {
     "name": "stderr",
     "output_type": "stream",
     "text": [
      "Validating:  46%|████▌     | 108/235 [00:52<00:59,  2.12it/s, loss=8.0294, avg_loss=7.9124]"
     ]
    },
    {
     "name": "stdout",
     "output_type": "stream",
     "text": [
      "{'kd_loss': 11.294692993164062, 'feature_loss': 0.33803272247314453, 'ce_loss': 8.022255897521973, 'cont_loss': 2.3496499061584473, 'teacher_loss': 8.07398509979248, 'total_loss': 8.029351234436035}\n"
     ]
    },
    {
     "name": "stderr",
     "output_type": "stream",
     "text": [
      "Validating:  46%|████▋     | 109/235 [00:53<00:59,  2.11it/s, loss=8.0612, avg_loss=7.9138]"
     ]
    },
    {
     "name": "stdout",
     "output_type": "stream",
     "text": [
      "{'kd_loss': 11.324460983276367, 'feature_loss': 0.297559916973114, 'ce_loss': 8.048940658569336, 'cont_loss': 2.52341365814209, 'teacher_loss': 8.09394359588623, 'total_loss': 8.061214447021484}\n"
     ]
    },
    {
     "name": "stderr",
     "output_type": "stream",
     "text": [
      "Validating:  47%|████▋     | 110/235 [00:53<00:59,  2.12it/s, loss=8.1671, avg_loss=7.9161]"
     ]
    },
    {
     "name": "stdout",
     "output_type": "stream",
     "text": [
      "{'kd_loss': 11.462165832519531, 'feature_loss': 0.3470144271850586, 'ce_loss': 8.173083305358887, 'cont_loss': 2.435734748840332, 'teacher_loss': 8.085981369018555, 'total_loss': 8.167076110839844}\n"
     ]
    },
    {
     "name": "stderr",
     "output_type": "stream",
     "text": [
      "Validating:  47%|████▋     | 111/235 [00:54<00:58,  2.12it/s, loss=8.0632, avg_loss=7.9174]"
     ]
    },
    {
     "name": "stdout",
     "output_type": "stream",
     "text": [
      "{'kd_loss': 11.334860801696777, 'feature_loss': 0.30918240547180176, 'ce_loss': 8.058394432067871, 'cont_loss': 2.4410386085510254, 'teacher_loss': 8.089756965637207, 'total_loss': 8.06324291229248}\n"
     ]
    },
    {
     "name": "stderr",
     "output_type": "stream",
     "text": [
      "Validating:  48%|████▊     | 112/235 [00:54<00:58,  2.12it/s, loss=8.0403, avg_loss=7.9185]"
     ]
    },
    {
     "name": "stdout",
     "output_type": "stream",
     "text": [
      "{'kd_loss': 11.293722152709961, 'feature_loss': 0.361686646938324, 'ce_loss': 8.021565437316895, 'cont_loss': 2.418774366378784, 'teacher_loss': 8.08985710144043, 'total_loss': 8.040329933166504}\n"
     ]
    },
    {
     "name": "stderr",
     "output_type": "stream",
     "text": [
      "Validating:  48%|████▊     | 113/235 [00:55<00:57,  2.12it/s, loss=8.2215, avg_loss=7.9212]"
     ]
    },
    {
     "name": "stdout",
     "output_type": "stream",
     "text": [
      "{'kd_loss': 11.544783592224121, 'feature_loss': 0.31628257036209106, 'ce_loss': 8.247027397155762, 'cont_loss': 2.41557240486145, 'teacher_loss': 8.086991310119629, 'total_loss': 8.221538543701172}\n"
     ]
    },
    {
     "name": "stderr",
     "output_type": "stream",
     "text": [
      "Validating:  49%|████▊     | 114/235 [00:55<00:57,  2.11it/s, loss=8.1615, avg_loss=7.9233]"
     ]
    },
    {
     "name": "stdout",
     "output_type": "stream",
     "text": [
      "{'kd_loss': 11.435422897338867, 'feature_loss': 0.34663093090057373, 'ce_loss': 8.148640632629395, 'cont_loss': 2.585815191268921, 'teacher_loss': 8.085508346557617, 'total_loss': 8.16153335571289}\n"
     ]
    },
    {
     "name": "stderr",
     "output_type": "stream",
     "text": [
      "Validating:  49%|████▉     | 115/235 [00:56<00:56,  2.11it/s, loss=8.0390, avg_loss=7.9243]"
     ]
    },
    {
     "name": "stdout",
     "output_type": "stream",
     "text": [
      "{'kd_loss': 11.297765731811523, 'feature_loss': 0.3297107219696045, 'ce_loss': 8.025237083435059, 'cont_loss': 2.439042568206787, 'teacher_loss': 8.08231258392334, 'total_loss': 8.039048194885254}\n"
     ]
    },
    {
     "name": "stderr",
     "output_type": "stream",
     "text": [
      "Validating:  49%|████▉     | 116/235 [00:56<00:56,  2.12it/s, loss=8.1167, avg_loss=7.9260]"
     ]
    },
    {
     "name": "stdout",
     "output_type": "stream",
     "text": [
      "{'kd_loss': 11.410980224609375, 'feature_loss': 0.2699317932128906, 'ce_loss': 8.126945495605469, 'cont_loss': 2.4751880168914795, 'teacher_loss': 8.076894760131836, 'total_loss': 8.11667537689209}\n"
     ]
    },
    {
     "name": "stderr",
     "output_type": "stream",
     "text": [
      "Validating:  50%|████▉     | 117/235 [00:57<00:55,  2.12it/s, loss=8.0672, avg_loss=7.9272]"
     ]
    },
    {
     "name": "stdout",
     "output_type": "stream",
     "text": [
      "{'kd_loss': 11.317390441894531, 'feature_loss': 0.35286515951156616, 'ce_loss': 8.042648315429688, 'cont_loss': 2.526261329650879, 'teacher_loss': 8.088149070739746, 'total_loss': 8.067214965820312}\n"
     ]
    },
    {
     "name": "stderr",
     "output_type": "stream",
     "text": [
      "Validating:  50%|█████     | 118/235 [00:57<00:55,  2.12it/s, loss=7.9588, avg_loss=7.9275]"
     ]
    },
    {
     "name": "stdout",
     "output_type": "stream",
     "text": [
      "{'kd_loss': 11.18674087524414, 'feature_loss': 0.328246533870697, 'ce_loss': 7.925132751464844, 'cont_loss': 2.4838457107543945, 'teacher_loss': 8.091667175292969, 'total_loss': 7.958784103393555}\n"
     ]
    },
    {
     "name": "stderr",
     "output_type": "stream",
     "text": [
      "Validating:  51%|█████     | 119/235 [00:58<00:54,  2.11it/s, loss=8.1967, avg_loss=7.9297]"
     ]
    },
    {
     "name": "stdout",
     "output_type": "stream",
     "text": [
      "{'kd_loss': 11.505125999450684, 'feature_loss': 0.2943478226661682, 'ce_loss': 8.211485862731934, 'cont_loss': 2.5118308067321777, 'teacher_loss': 8.076322555541992, 'total_loss': 8.196697235107422}\n"
     ]
    },
    {
     "name": "stderr",
     "output_type": "stream",
     "text": [
      "Validating:  51%|█████     | 120/235 [00:58<00:54,  2.12it/s, loss=7.9645, avg_loss=7.9300]"
     ]
    },
    {
     "name": "stdout",
     "output_type": "stream",
     "text": [
      "{'kd_loss': 11.176689147949219, 'feature_loss': 0.3661872148513794, 'ce_loss': 7.916593551635742, 'cont_loss': 2.5390758514404297, 'teacher_loss': 8.082688331604004, 'total_loss': 7.964458465576172}\n"
     ]
    },
    {
     "name": "stderr",
     "output_type": "stream",
     "text": [
      "Validating:  51%|█████▏    | 121/235 [00:59<00:53,  2.12it/s, loss=8.2444, avg_loss=7.9326]"
     ]
    },
    {
     "name": "stdout",
     "output_type": "stream",
     "text": [
      "{'kd_loss': 11.558355331420898, 'feature_loss': 0.30612391233444214, 'ce_loss': 8.259778022766113, 'cont_loss': 2.5590920448303223, 'teacher_loss': 8.079268455505371, 'total_loss': 8.24438762664795}\n"
     ]
    },
    {
     "name": "stderr",
     "output_type": "stream",
     "text": [
      "Validating:  52%|█████▏    | 122/235 [00:59<00:53,  2.12it/s, loss=8.0749, avg_loss=7.9338]"
     ]
    },
    {
     "name": "stdout",
     "output_type": "stream",
     "text": [
      "{'kd_loss': 11.333351135253906, 'feature_loss': 0.3087760806083679, 'ce_loss': 8.056924819946289, 'cont_loss': 2.570159912109375, 'teacher_loss': 8.080747604370117, 'total_loss': 8.074881553649902}\n"
     ]
    },
    {
     "name": "stderr",
     "output_type": "stream",
     "text": [
      "Validating:  52%|█████▏    | 123/235 [00:59<00:52,  2.12it/s, loss=8.1619, avg_loss=7.9356]"
     ]
    },
    {
     "name": "stdout",
     "output_type": "stream",
     "text": [
      "{'kd_loss': 11.436600685119629, 'feature_loss': 0.30472737550735474, 'ce_loss': 8.149521827697754, 'cont_loss': 2.6649160385131836, 'teacher_loss': 8.098241806030273, 'total_loss': 8.161886215209961}\n"
     ]
    },
    {
     "name": "stderr",
     "output_type": "stream",
     "text": [
      "Validating:  53%|█████▎    | 124/235 [01:00<00:52,  2.13it/s, loss=8.0691, avg_loss=7.9367]"
     ]
    },
    {
     "name": "stdout",
     "output_type": "stream",
     "text": [
      "{'kd_loss': 11.331331253051758, 'feature_loss': 0.32574546337127686, 'ce_loss': 8.055462837219238, 'cont_loss': 2.4922139644622803, 'teacher_loss': 8.077787399291992, 'total_loss': 8.06908893585205}\n"
     ]
    },
    {
     "name": "stderr",
     "output_type": "stream",
     "text": [
      "Validating:  53%|█████▎    | 125/235 [01:00<00:51,  2.12it/s, loss=7.9466, avg_loss=7.9368]"
     ]
    },
    {
     "name": "stdout",
     "output_type": "stream",
     "text": [
      "{'kd_loss': 11.149785041809082, 'feature_loss': 0.31056857109069824, 'ce_loss': 7.892086982727051, 'cont_loss': 2.6771397590637207, 'teacher_loss': 8.092371940612793, 'total_loss': 7.9465765953063965}\n"
     ]
    },
    {
     "name": "stderr",
     "output_type": "stream",
     "text": [
      "Validating:  54%|█████▎    | 126/235 [01:01<00:51,  2.12it/s, loss=8.0141, avg_loss=7.9374]"
     ]
    },
    {
     "name": "stdout",
     "output_type": "stream",
     "text": [
      "{'kd_loss': 11.257168769836426, 'feature_loss': 0.3052116632461548, 'ce_loss': 7.988502025604248, 'cont_loss': 2.548006057739258, 'teacher_loss': 8.075431823730469, 'total_loss': 8.014111518859863}\n"
     ]
    },
    {
     "name": "stderr",
     "output_type": "stream",
     "text": [
      "Validating:  54%|█████▍    | 127/235 [01:01<00:50,  2.12it/s, loss=8.3008, avg_loss=7.9403]"
     ]
    },
    {
     "name": "stdout",
     "output_type": "stream",
     "text": [
      "{'kd_loss': 11.61191177368164, 'feature_loss': 0.35777509212493896, 'ce_loss': 8.307845115661621, 'cont_loss': 2.6131229400634766, 'teacher_loss': 8.091605186462402, 'total_loss': 8.30077075958252}\n"
     ]
    },
    {
     "name": "stderr",
     "output_type": "stream",
     "text": [
      "Validating:  54%|█████▍    | 128/235 [01:02<00:50,  2.12it/s, loss=8.0405, avg_loss=7.9410]"
     ]
    },
    {
     "name": "stdout",
     "output_type": "stream",
     "text": [
      "{'kd_loss': 11.285619735717773, 'feature_loss': 0.3168703317642212, 'ce_loss': 8.01399040222168, 'cont_loss': 2.572930335998535, 'teacher_loss': 8.081765174865723, 'total_loss': 8.040511131286621}\n"
     ]
    },
    {
     "name": "stderr",
     "output_type": "stream",
     "text": [
      "Validating:  55%|█████▍    | 129/235 [01:02<00:49,  2.12it/s, loss=8.2440, avg_loss=7.9434]"
     ]
    },
    {
     "name": "stdout",
     "output_type": "stream",
     "text": [
      "{'kd_loss': 11.554009437561035, 'feature_loss': 0.28880369663238525, 'ce_loss': 8.255640029907227, 'cont_loss': 2.62335467338562, 'teacher_loss': 8.089499473571777, 'total_loss': 8.243956565856934}\n"
     ]
    },
    {
     "name": "stderr",
     "output_type": "stream",
     "text": [
      "Validating:  55%|█████▌    | 130/235 [01:03<00:49,  2.12it/s, loss=8.1933, avg_loss=7.9453]"
     ]
    },
    {
     "name": "stdout",
     "output_type": "stream",
     "text": [
      "{'kd_loss': 11.466949462890625, 'feature_loss': 0.2915310859680176, 'ce_loss': 8.177124977111816, 'cont_loss': 2.7738115787506104, 'teacher_loss': 8.078207969665527, 'total_loss': 8.193317413330078}\n"
     ]
    },
    {
     "name": "stderr",
     "output_type": "stream",
     "text": [
      "Validating:  56%|█████▌    | 131/235 [01:03<00:48,  2.12it/s, loss=8.1467, avg_loss=7.9468]"
     ]
    },
    {
     "name": "stdout",
     "output_type": "stream",
     "text": [
      "{'kd_loss': 11.391688346862793, 'feature_loss': 0.3269754648208618, 'ce_loss': 8.109329223632812, 'cont_loss': 2.809109687805176, 'teacher_loss': 8.080801010131836, 'total_loss': 8.146713256835938}\n"
     ]
    },
    {
     "name": "stderr",
     "output_type": "stream",
     "text": [
      "Validating:  56%|█████▌    | 132/235 [01:04<00:48,  2.12it/s, loss=8.0825, avg_loss=7.9479]"
     ]
    },
    {
     "name": "stdout",
     "output_type": "stream",
     "text": [
      "{'kd_loss': 11.339067459106445, 'feature_loss': 0.29864126443862915, 'ce_loss': 8.062335968017578, 'cont_loss': 2.6225619316101074, 'teacher_loss': 8.090336799621582, 'total_loss': 8.08254623413086}\n"
     ]
    },
    {
     "name": "stderr",
     "output_type": "stream",
     "text": [
      "Validating:  57%|█████▋    | 133/235 [01:04<00:48,  2.12it/s, loss=8.0462, avg_loss=7.9486]"
     ]
    },
    {
     "name": "stdout",
     "output_type": "stream",
     "text": [
      "{'kd_loss': 11.283084869384766, 'feature_loss': 0.32642340660095215, 'ce_loss': 8.011770248413086, 'cont_loss': 2.6292624473571777, 'teacher_loss': 8.078348159790039, 'total_loss': 8.04615306854248}\n"
     ]
    },
    {
     "name": "stderr",
     "output_type": "stream",
     "text": [
      "Validating:  57%|█████▋    | 134/235 [01:05<00:47,  2.12it/s, loss=8.2011, avg_loss=7.9505]"
     ]
    },
    {
     "name": "stdout",
     "output_type": "stream",
     "text": [
      "{'kd_loss': 11.466316223144531, 'feature_loss': 0.3246731758117676, 'ce_loss': 8.17718505859375, 'cont_loss': 2.7875001430511475, 'teacher_loss': 8.094857215881348, 'total_loss': 8.201085090637207}\n"
     ]
    },
    {
     "name": "stderr",
     "output_type": "stream",
     "text": [
      "Validating:  57%|█████▋    | 135/235 [01:05<00:47,  2.12it/s, loss=8.1110, avg_loss=7.9517]"
     ]
    },
    {
     "name": "stdout",
     "output_type": "stream",
     "text": [
      "{'kd_loss': 11.323440551757812, 'feature_loss': 0.34442466497421265, 'ce_loss': 8.048197746276855, 'cont_loss': 2.934309959411621, 'teacher_loss': 8.081969261169434, 'total_loss': 8.110971450805664}\n"
     ]
    },
    {
     "name": "stderr",
     "output_type": "stream",
     "text": [
      "Validating:  58%|█████▊    | 136/235 [01:06<00:46,  2.13it/s, loss=8.1909, avg_loss=7.9534]"
     ]
    },
    {
     "name": "stdout",
     "output_type": "stream",
     "text": [
      "{'kd_loss': 11.480457305908203, 'feature_loss': 0.2940292954444885, 'ce_loss': 8.189376831054688, 'cont_loss': 2.6416096687316895, 'teacher_loss': 8.0863676071167, 'total_loss': 8.190900802612305}\n"
     ]
    },
    {
     "name": "stderr",
     "output_type": "stream",
     "text": [
      "Validating:  58%|█████▊    | 137/235 [01:06<00:46,  2.12it/s, loss=8.1300, avg_loss=7.9547]"
     ]
    },
    {
     "name": "stdout",
     "output_type": "stream",
     "text": [
      "{'kd_loss': 11.382528305053711, 'feature_loss': 0.3380289077758789, 'ce_loss': 8.101250648498535, 'cont_loss': 2.6890480518341064, 'teacher_loss': 8.092720985412598, 'total_loss': 8.130022048950195}\n"
     ]
    },
    {
     "name": "stderr",
     "output_type": "stream",
     "text": [
      "Validating:  59%|█████▊    | 138/235 [01:07<00:45,  2.13it/s, loss=8.1425, avg_loss=7.9561]"
     ]
    },
    {
     "name": "stdout",
     "output_type": "stream",
     "text": [
      "{'kd_loss': 11.402589797973633, 'feature_loss': 0.31223607063293457, 'ce_loss': 8.119471549987793, 'cont_loss': 2.71219539642334, 'teacher_loss': 8.088987350463867, 'total_loss': 8.142491340637207}\n"
     ]
    },
    {
     "name": "stderr",
     "output_type": "stream",
     "text": [
      "Validating:  59%|█████▉    | 139/235 [01:07<00:45,  2.13it/s, loss=8.2265, avg_loss=7.9580]"
     ]
    },
    {
     "name": "stdout",
     "output_type": "stream",
     "text": [
      "{'kd_loss': 11.483126640319824, 'feature_loss': 0.34992337226867676, 'ce_loss': 8.191903114318848, 'cont_loss': 2.86484432220459, 'teacher_loss': 8.090188980102539, 'total_loss': 8.226481437683105}\n"
     ]
    },
    {
     "name": "stderr",
     "output_type": "stream",
     "text": [
      "Validating:  60%|█████▉    | 140/235 [01:07<00:44,  2.13it/s, loss=8.1077, avg_loss=7.9591]"
     ]
    },
    {
     "name": "stdout",
     "output_type": "stream",
     "text": [
      "{'kd_loss': 11.356144905090332, 'feature_loss': 0.3290438652038574, 'ce_loss': 8.077357292175293, 'cont_loss': 2.6853256225585938, 'teacher_loss': 8.083118438720703, 'total_loss': 8.107742309570312}\n"
     ]
    },
    {
     "name": "stderr",
     "output_type": "stream",
     "text": [
      "Validating:  60%|██████    | 141/235 [01:08<00:44,  2.13it/s, loss=8.1624, avg_loss=7.9606]"
     ]
    },
    {
     "name": "stdout",
     "output_type": "stream",
     "text": [
      "{'kd_loss': 11.428115844726562, 'feature_loss': 0.3310720920562744, 'ce_loss': 8.142230987548828, 'cont_loss': 2.6808922290802, 'teacher_loss': 8.085212707519531, 'total_loss': 8.162443161010742}\n"
     ]
    },
    {
     "name": "stderr",
     "output_type": "stream",
     "text": [
      "Validating:  60%|██████    | 142/235 [01:08<00:43,  2.13it/s, loss=8.0032, avg_loss=7.9609]"
     ]
    },
    {
     "name": "stdout",
     "output_type": "stream",
     "text": [
      "{'kd_loss': 11.189713478088379, 'feature_loss': 0.33326900005340576, 'ce_loss': 7.928065776824951, 'cont_loss': 2.8940773010253906, 'teacher_loss': 8.085587501525879, 'total_loss': 8.003172874450684}\n"
     ]
    },
    {
     "name": "stderr",
     "output_type": "stream",
     "text": [
      "Validating:  61%|██████    | 143/235 [01:09<00:43,  2.13it/s, loss=8.1945, avg_loss=7.9625]"
     ]
    },
    {
     "name": "stdout",
     "output_type": "stream",
     "text": [
      "{'kd_loss': 11.457220077514648, 'feature_loss': 0.35003483295440674, 'ce_loss': 8.168292999267578, 'cont_loss': 2.7424516677856445, 'teacher_loss': 8.087663650512695, 'total_loss': 8.194457054138184}\n"
     ]
    },
    {
     "name": "stderr",
     "output_type": "stream",
     "text": [
      "Validating:  61%|██████▏   | 144/235 [01:09<00:42,  2.14it/s, loss=8.1488, avg_loss=7.9638]"
     ]
    },
    {
     "name": "stdout",
     "output_type": "stream",
     "text": [
      "{'kd_loss': 11.401374816894531, 'feature_loss': 0.32415950298309326, 'ce_loss': 8.118453025817871, 'cont_loss': 2.760448932647705, 'teacher_loss': 8.087794303894043, 'total_loss': 8.148808479309082}\n"
     ]
    },
    {
     "name": "stderr",
     "output_type": "stream",
     "text": [
      "Validating:  62%|██████▏   | 145/235 [01:10<00:42,  2.13it/s, loss=8.2066, avg_loss=7.9655]"
     ]
    },
    {
     "name": "stdout",
     "output_type": "stream",
     "text": [
      "{'kd_loss': 11.453817367553711, 'feature_loss': 0.3371583819389343, 'ce_loss': 8.165362358093262, 'cont_loss': 2.915457248687744, 'teacher_loss': 8.079505920410156, 'total_loss': 8.206649780273438}\n"
     ]
    },
    {
     "name": "stderr",
     "output_type": "stream",
     "text": [
      "Validating:  62%|██████▏   | 146/235 [01:10<00:41,  2.13it/s, loss=8.3005, avg_loss=7.9677]"
     ]
    },
    {
     "name": "stdout",
     "output_type": "stream",
     "text": [
      "{'kd_loss': 11.579855918884277, 'feature_loss': 0.32393914461135864, 'ce_loss': 8.279033660888672, 'cont_loss': 2.9211251735687256, 'teacher_loss': 8.07890796661377, 'total_loss': 8.300456047058105}\n"
     ]
    },
    {
     "name": "stderr",
     "output_type": "stream",
     "text": [
      "Validating:  63%|██████▎   | 147/235 [01:11<00:41,  2.13it/s, loss=8.1890, avg_loss=7.9693]"
     ]
    },
    {
     "name": "stdout",
     "output_type": "stream",
     "text": [
      "{'kd_loss': 11.434981346130371, 'feature_loss': 0.32153213024139404, 'ce_loss': 8.148401260375977, 'cont_loss': 2.913626194000244, 'teacher_loss': 8.079854011535645, 'total_loss': 8.189022064208984}\n"
     ]
    },
    {
     "name": "stderr",
     "output_type": "stream",
     "text": [
      "Validating:  63%|██████▎   | 148/235 [01:11<00:40,  2.13it/s, loss=8.1847, avg_loss=7.9707]"
     ]
    },
    {
     "name": "stdout",
     "output_type": "stream",
     "text": [
      "{'kd_loss': 11.42220687866211, 'feature_loss': 0.3459357023239136, 'ce_loss': 8.137492179870605, 'cont_loss': 2.9160242080688477, 'teacher_loss': 8.095433235168457, 'total_loss': 8.184669494628906}\n"
     ]
    },
    {
     "name": "stderr",
     "output_type": "stream",
     "text": [
      "Validating:  63%|██████▎   | 149/235 [01:12<00:40,  2.13it/s, loss=8.1357, avg_loss=7.9718]"
     ]
    },
    {
     "name": "stdout",
     "output_type": "stream",
     "text": [
      "{'kd_loss': 11.376761436462402, 'feature_loss': 0.3147714138031006, 'ce_loss': 8.096229553222656, 'cont_loss': 2.835078716278076, 'teacher_loss': 8.089091300964355, 'total_loss': 8.135659217834473}\n"
     ]
    },
    {
     "name": "stderr",
     "output_type": "stream",
     "text": [
      "Validating:  64%|██████▍   | 150/235 [01:12<00:39,  2.13it/s, loss=8.1439, avg_loss=7.9730]"
     ]
    },
    {
     "name": "stdout",
     "output_type": "stream",
     "text": [
      "{'kd_loss': 11.391988754272461, 'feature_loss': 0.31147921085357666, 'ce_loss': 8.109781265258789, 'cont_loss': 2.8094191551208496, 'teacher_loss': 8.089826583862305, 'total_loss': 8.143945693969727}\n"
     ]
    },
    {
     "name": "stderr",
     "output_type": "stream",
     "text": [
      "Validating:  64%|██████▍   | 151/235 [01:13<00:39,  2.13it/s, loss=8.1805, avg_loss=7.9743]"
     ]
    },
    {
     "name": "stdout",
     "output_type": "stream",
     "text": [
      "{'kd_loss': 11.402006149291992, 'feature_loss': 0.35082781314849854, 'ce_loss': 8.118931770324707, 'cont_loss': 3.0197741985321045, 'teacher_loss': 8.08031940460205, 'total_loss': 8.18051815032959}\n"
     ]
    },
    {
     "name": "stderr",
     "output_type": "stream",
     "text": [
      "Validating:  65%|██████▍   | 152/235 [01:13<00:38,  2.13it/s, loss=8.1113, avg_loss=7.9752]"
     ]
    },
    {
     "name": "stdout",
     "output_type": "stream",
     "text": [
      "{'kd_loss': 11.334573745727539, 'feature_loss': 0.33985644578933716, 'ce_loss': 8.058148384094238, 'cont_loss': 2.862008571624756, 'teacher_loss': 8.08182144165039, 'total_loss': 8.111261367797852}\n"
     ]
    },
    {
     "name": "stderr",
     "output_type": "stream",
     "text": [
      "Validating:  65%|██████▌   | 153/235 [01:14<00:38,  2.13it/s, loss=8.2947, avg_loss=7.9773]"
     ]
    },
    {
     "name": "stdout",
     "output_type": "stream",
     "text": [
      "{'kd_loss': 11.558448791503906, 'feature_loss': 0.34172940254211426, 'ce_loss': 8.259598731994629, 'cont_loss': 2.9912033081054688, 'teacher_loss': 8.086297035217285, 'total_loss': 8.294685363769531}\n"
     ]
    },
    {
     "name": "stderr",
     "output_type": "stream",
     "text": [
      "Validating:  66%|██████▌   | 154/235 [01:14<00:38,  2.12it/s, loss=8.2425, avg_loss=7.9790]"
     ]
    },
    {
     "name": "stdout",
     "output_type": "stream",
     "text": [
      "{'kd_loss': 11.483287811279297, 'feature_loss': 0.34767770767211914, 'ce_loss': 8.19211483001709, 'cont_loss': 3.0281691551208496, 'teacher_loss': 8.095892906188965, 'total_loss': 8.242513656616211}\n"
     ]
    },
    {
     "name": "stderr",
     "output_type": "stream",
     "text": [
      "Validating:  66%|██████▌   | 155/235 [01:15<00:37,  2.12it/s, loss=8.0464, avg_loss=7.9795]"
     ]
    },
    {
     "name": "stdout",
     "output_type": "stream",
     "text": [
      "{'kd_loss': 11.23764419555664, 'feature_loss': 0.3662019968032837, 'ce_loss': 7.971294403076172, 'cont_loss': 2.8957600593566895, 'teacher_loss': 8.082354545593262, 'total_loss': 8.046391487121582}\n"
     ]
    },
    {
     "name": "stderr",
     "output_type": "stream",
     "text": [
      "Validating:  66%|██████▋   | 156/235 [01:15<00:37,  2.12it/s, loss=8.2172, avg_loss=7.9810]"
     ]
    },
    {
     "name": "stdout",
     "output_type": "stream",
     "text": [
      "{'kd_loss': 11.466612815856934, 'feature_loss': 0.34521812200546265, 'ce_loss': 8.177152633666992, 'cont_loss': 2.9063587188720703, 'teacher_loss': 8.079585075378418, 'total_loss': 8.217185974121094}\n"
     ]
    },
    {
     "name": "stderr",
     "output_type": "stream",
     "text": [
      "Validating:  67%|██████▋   | 157/235 [01:15<00:36,  2.12it/s, loss=8.1609, avg_loss=7.9822]"
     ]
    },
    {
     "name": "stdout",
     "output_type": "stream",
     "text": [
      "{'kd_loss': 11.366645812988281, 'feature_loss': 0.34825074672698975, 'ce_loss': 8.08726978302002, 'cont_loss': 3.0968058109283447, 'teacher_loss': 8.094844818115234, 'total_loss': 8.160897254943848}\n"
     ]
    },
    {
     "name": "stderr",
     "output_type": "stream",
     "text": [
      "Validating:  67%|██████▋   | 158/235 [01:16<00:36,  2.13it/s, loss=8.1509, avg_loss=7.9832]"
     ]
    },
    {
     "name": "stdout",
     "output_type": "stream",
     "text": [
      "{'kd_loss': 11.375771522521973, 'feature_loss': 0.3491630554199219, 'ce_loss': 8.095402717590332, 'cont_loss': 2.9260878562927246, 'teacher_loss': 8.081093788146973, 'total_loss': 8.150911331176758}\n"
     ]
    },
    {
     "name": "stderr",
     "output_type": "stream",
     "text": [
      "Validating:  68%|██████▊   | 159/235 [01:16<00:35,  2.12it/s, loss=8.1131, avg_loss=7.9840]"
     ]
    },
    {
     "name": "stdout",
     "output_type": "stream",
     "text": [
      "{'kd_loss': 11.315275192260742, 'feature_loss': 0.3339241147041321, 'ce_loss': 8.041114807128906, 'cont_loss': 3.0372023582458496, 'teacher_loss': 8.084452629089355, 'total_loss': 8.11306095123291}\n"
     ]
    },
    {
     "name": "stderr",
     "output_type": "stream",
     "text": [
      "Validating:  68%|██████▊   | 160/235 [01:17<00:35,  2.12it/s, loss=8.1942, avg_loss=7.9854]"
     ]
    },
    {
     "name": "stdout",
     "output_type": "stream",
     "text": [
      "{'kd_loss': 11.434252738952637, 'feature_loss': 0.342132568359375, 'ce_loss': 8.147974014282227, 'cont_loss': 2.928823709487915, 'teacher_loss': 8.08945369720459, 'total_loss': 8.194199562072754}\n"
     ]
    },
    {
     "name": "stderr",
     "output_type": "stream",
     "text": [
      "Validating:  69%|██████▊   | 161/235 [01:17<00:34,  2.13it/s, loss=8.2323, avg_loss=7.9869]"
     ]
    },
    {
     "name": "stdout",
     "output_type": "stream",
     "text": [
      "{'kd_loss': 11.48831558227539, 'feature_loss': 0.32127082347869873, 'ce_loss': 8.196691513061523, 'cont_loss': 2.9406187534332275, 'teacher_loss': 8.077045440673828, 'total_loss': 8.232318878173828}\n"
     ]
    },
    {
     "name": "stderr",
     "output_type": "stream",
     "text": [
      "Validating:  69%|██████▉   | 162/235 [01:18<00:34,  2.13it/s, loss=8.1570, avg_loss=7.9879]"
     ]
    },
    {
     "name": "stdout",
     "output_type": "stream",
     "text": [
      "{'kd_loss': 11.380470275878906, 'feature_loss': 0.34112441539764404, 'ce_loss': 8.099602699279785, 'cont_loss': 2.967539072036743, 'teacher_loss': 8.086158752441406, 'total_loss': 8.157008171081543}\n"
     ]
    },
    {
     "name": "stderr",
     "output_type": "stream",
     "text": [
      "Validating:  69%|██████▉   | 163/235 [01:18<00:33,  2.14it/s, loss=8.0845, avg_loss=7.9885]"
     ]
    },
    {
     "name": "stdout",
     "output_type": "stream",
     "text": [
      "{'kd_loss': 11.285110473632812, 'feature_loss': 0.34472179412841797, 'ce_loss': 8.013437271118164, 'cont_loss': 2.961756706237793, 'teacher_loss': 8.08768367767334, 'total_loss': 8.084539413452148}\n"
     ]
    },
    {
     "name": "stderr",
     "output_type": "stream",
     "text": [
      "Validating:  70%|██████▉   | 164/235 [01:19<00:33,  2.13it/s, loss=8.1458, avg_loss=7.9895]"
     ]
    },
    {
     "name": "stdout",
     "output_type": "stream",
     "text": [
      "{'kd_loss': 11.341787338256836, 'feature_loss': 0.33759206533432007, 'ce_loss': 8.064765930175781, 'cont_loss': 3.156222343444824, 'teacher_loss': 8.08045768737793, 'total_loss': 8.145761489868164}\n"
     ]
    },
    {
     "name": "stderr",
     "output_type": "stream",
     "text": [
      "Validating:  70%|███████   | 165/235 [01:19<00:32,  2.13it/s, loss=8.0397, avg_loss=7.9898]"
     ]
    },
    {
     "name": "stdout",
     "output_type": "stream",
     "text": [
      "{'kd_loss': 11.224377632141113, 'feature_loss': 0.3366549611091614, 'ce_loss': 7.959168910980225, 'cont_loss': 2.989307403564453, 'teacher_loss': 8.090339660644531, 'total_loss': 8.039680480957031}\n"
     ]
    },
    {
     "name": "stderr",
     "output_type": "stream",
     "text": [
      "Validating:  71%|███████   | 166/235 [01:20<00:32,  2.13it/s, loss=8.1301, avg_loss=7.9906]"
     ]
    },
    {
     "name": "stdout",
     "output_type": "stream",
     "text": [
      "{'kd_loss': 11.34410285949707, 'feature_loss': 0.32926785945892334, 'ce_loss': 8.066600799560547, 'cont_loss': 3.000040054321289, 'teacher_loss': 8.085387229919434, 'total_loss': 8.130139350891113}\n"
     ]
    },
    {
     "name": "stderr",
     "output_type": "stream",
     "text": [
      "Validating:  71%|███████   | 167/235 [01:20<00:31,  2.14it/s, loss=8.1391, avg_loss=7.9915]"
     ]
    },
    {
     "name": "stdout",
     "output_type": "stream",
     "text": [
      "{'kd_loss': 11.353595733642578, 'feature_loss': 0.3438671827316284, 'ce_loss': 8.075028419494629, 'cont_loss': 2.988978385925293, 'teacher_loss': 8.082513809204102, 'total_loss': 8.139121055603027}\n"
     ]
    },
    {
     "name": "stderr",
     "output_type": "stream",
     "text": [
      "Validating:  71%|███████▏  | 168/235 [01:21<00:31,  2.13it/s, loss=8.2043, avg_loss=7.9928]"
     ]
    },
    {
     "name": "stdout",
     "output_type": "stream",
     "text": [
      "{'kd_loss': 11.44777774810791, 'feature_loss': 0.3136974573135376, 'ce_loss': 8.159956932067871, 'cont_loss': 2.9848499298095703, 'teacher_loss': 8.08583927154541, 'total_loss': 8.204318046569824}\n"
     ]
    },
    {
     "name": "stderr",
     "output_type": "stream",
     "text": [
      "Validating:  72%|███████▏  | 169/235 [01:21<00:30,  2.13it/s, loss=8.1163, avg_loss=7.9935]"
     ]
    },
    {
     "name": "stdout",
     "output_type": "stream",
     "text": [
      "{'kd_loss': 11.305939674377441, 'feature_loss': 0.31920844316482544, 'ce_loss': 8.032381057739258, 'cont_loss': 3.170997142791748, 'teacher_loss': 8.086560249328613, 'total_loss': 8.116270065307617}\n"
     ]
    },
    {
     "name": "stderr",
     "output_type": "stream",
     "text": [
      "Validating:  72%|███████▏  | 170/235 [01:22<00:30,  2.14it/s, loss=8.1635, avg_loss=7.9945]"
     ]
    },
    {
     "name": "stdout",
     "output_type": "stream",
     "text": [
      "{'kd_loss': 11.380865097045898, 'feature_loss': 0.3365424871444702, 'ce_loss': 8.100445747375488, 'cont_loss': 3.0363502502441406, 'teacher_loss': 8.077902793884277, 'total_loss': 8.163467407226562}\n"
     ]
    },
    {
     "name": "stderr",
     "output_type": "stream",
     "text": [
      "Validating:  73%|███████▎  | 171/235 [01:22<00:29,  2.14it/s, loss=8.2140, avg_loss=7.9958]"
     ]
    },
    {
     "name": "stdout",
     "output_type": "stream",
     "text": [
      "{'kd_loss': 11.453863143920898, 'feature_loss': 0.3200995922088623, 'ce_loss': 8.165237426757812, 'cont_loss': 3.0232772827148438, 'teacher_loss': 8.102816581726074, 'total_loss': 8.213988304138184}\n"
     ]
    },
    {
     "name": "stderr",
     "output_type": "stream",
     "text": [
      "Validating:  73%|███████▎  | 172/235 [01:23<00:29,  2.14it/s, loss=8.3002, avg_loss=7.9976]"
     ]
    },
    {
     "name": "stdout",
     "output_type": "stream",
     "text": [
      "{'kd_loss': 11.556060791015625, 'feature_loss': 0.32520580291748047, 'ce_loss': 8.257711410522461, 'cont_loss': 3.0963292121887207, 'teacher_loss': 8.08902359008789, 'total_loss': 8.300183296203613}\n"
     ]
    },
    {
     "name": "stderr",
     "output_type": "stream",
     "text": [
      "Validating:  74%|███████▎  | 173/235 [01:23<00:28,  2.14it/s, loss=8.0241, avg_loss=7.9977]"
     ]
    },
    {
     "name": "stdout",
     "output_type": "stream",
     "text": [
      "{'kd_loss': 11.195305824279785, 'feature_loss': 0.33614665269851685, 'ce_loss': 7.932738304138184, 'cont_loss': 3.0567197799682617, 'teacher_loss': 8.085269927978516, 'total_loss': 8.024118423461914}\n"
     ]
    },
    {
     "name": "stderr",
     "output_type": "stream",
     "text": [
      "Validating:  74%|███████▍  | 174/235 [01:23<00:28,  2.14it/s, loss=8.2127, avg_loss=7.9990]"
     ]
    },
    {
     "name": "stdout",
     "output_type": "stream",
     "text": [
      "{'kd_loss': 11.448630332946777, 'feature_loss': 0.32538795471191406, 'ce_loss': 8.161110877990723, 'cont_loss': 3.0371971130371094, 'teacher_loss': 8.08875560760498, 'total_loss': 8.21269416809082}\n"
     ]
    },
    {
     "name": "stderr",
     "output_type": "stream",
     "text": [
      "Validating:  74%|███████▍  | 175/235 [01:24<00:28,  2.13it/s, loss=8.2074, avg_loss=8.0002]"
     ]
    },
    {
     "name": "stdout",
     "output_type": "stream",
     "text": [
      "{'kd_loss': 11.436891555786133, 'feature_loss': 0.3279814124107361, 'ce_loss': 8.1502046585083, 'cont_loss': 3.069298267364502, 'teacher_loss': 8.081561088562012, 'total_loss': 8.207364082336426}\n"
     ]
    },
    {
     "name": "stderr",
     "output_type": "stream",
     "text": [
      "Validating:  75%|███████▍  | 176/235 [01:24<00:27,  2.13it/s, loss=8.2399, avg_loss=8.0015]"
     ]
    },
    {
     "name": "stdout",
     "output_type": "stream",
     "text": [
      "{'kd_loss': 11.452484130859375, 'feature_loss': 0.33184707164764404, 'ce_loss': 8.164304733276367, 'cont_loss': 3.268381118774414, 'teacher_loss': 8.084425926208496, 'total_loss': 8.239923477172852}\n"
     ]
    },
    {
     "name": "stderr",
     "output_type": "stream",
     "text": [
      "Validating:  75%|███████▌  | 177/235 [01:25<00:27,  2.13it/s, loss=8.1998, avg_loss=8.0026]"
     ]
    },
    {
     "name": "stdout",
     "output_type": "stream",
     "text": [
      "{'kd_loss': 11.415657997131348, 'feature_loss': 0.35026007890701294, 'ce_loss': 8.13094425201416, 'cont_loss': 3.1109323501586914, 'teacher_loss': 8.081390380859375, 'total_loss': 8.199786186218262}\n"
     ]
    },
    {
     "name": "stderr",
     "output_type": "stream",
     "text": [
      "Validating:  76%|███████▌  | 178/235 [01:25<00:26,  2.13it/s, loss=8.1916, avg_loss=8.0037]"
     ]
    },
    {
     "name": "stdout",
     "output_type": "stream",
     "text": [
      "{'kd_loss': 11.406553268432617, 'feature_loss': 0.3602702021598816, 'ce_loss': 8.123030662536621, 'cont_loss': 3.0774946212768555, 'teacher_loss': 8.07712173461914, 'total_loss': 8.19163703918457}\n"
     ]
    },
    {
     "name": "stderr",
     "output_type": "stream",
     "text": [
      "Validating:  76%|███████▌  | 179/235 [01:26<00:26,  2.13it/s, loss=8.2218, avg_loss=8.0049]"
     ]
    },
    {
     "name": "stdout",
     "output_type": "stream",
     "text": [
      "{'kd_loss': 11.451314926147461, 'feature_loss': 0.3334864377975464, 'ce_loss': 8.1632719039917, 'cont_loss': 3.0926055908203125, 'teacher_loss': 8.091544151306152, 'total_loss': 8.221792221069336}\n"
     ]
    },
    {
     "name": "stderr",
     "output_type": "stream",
     "text": [
      "Validating:  77%|███████▋  | 180/235 [01:26<00:25,  2.13it/s, loss=8.0639, avg_loss=8.0052]"
     ]
    },
    {
     "name": "stdout",
     "output_type": "stream",
     "text": [
      "{'kd_loss': 11.201310157775879, 'feature_loss': 0.33376026153564453, 'ce_loss': 7.938319206237793, 'cont_loss': 3.4128684997558594, 'teacher_loss': 8.083951950073242, 'total_loss': 8.06389045715332}\n"
     ]
    },
    {
     "name": "stderr",
     "output_type": "stream",
     "text": [
      "Validating:  77%|███████▋  | 181/235 [01:27<00:25,  2.13it/s, loss=8.0175, avg_loss=8.0053]"
     ]
    },
    {
     "name": "stdout",
     "output_type": "stream",
     "text": [
      "{'kd_loss': 11.188305854797363, 'feature_loss': 0.3090376853942871, 'ce_loss': 7.926619529724121, 'cont_loss': 3.097092628479004, 'teacher_loss': 8.085347175598145, 'total_loss': 8.017487525939941}\n"
     ]
    },
    {
     "name": "stderr",
     "output_type": "stream",
     "text": [
      "Validating:  77%|███████▋  | 182/235 [01:27<00:24,  2.13it/s, loss=8.2860, avg_loss=8.0069]"
     ]
    },
    {
     "name": "stdout",
     "output_type": "stream",
     "text": [
      "{'kd_loss': 11.53109073638916, 'feature_loss': 0.3291429281234741, 'ce_loss': 8.235034942626953, 'cont_loss': 3.136958360671997, 'teacher_loss': 8.088528633117676, 'total_loss': 8.285974502563477}\n"
     ]
    },
    {
     "name": "stderr",
     "output_type": "stream",
     "text": [
      "Validating:  78%|███████▊  | 183/235 [01:28<00:24,  2.13it/s, loss=8.1214, avg_loss=8.0075]"
     ]
    },
    {
     "name": "stdout",
     "output_type": "stream",
     "text": [
      "{'kd_loss': 11.26419734954834, 'feature_loss': 0.3678242564201355, 'ce_loss': 7.994748592376709, 'cont_loss': 3.44227933883667, 'teacher_loss': 8.081403732299805, 'total_loss': 8.121371269226074}\n"
     ]
    },
    {
     "name": "stderr",
     "output_type": "stream",
     "text": [
      "Validating:  78%|███████▊  | 184/235 [01:28<00:23,  2.13it/s, loss=8.3529, avg_loss=8.0094]"
     ]
    },
    {
     "name": "stdout",
     "output_type": "stream",
     "text": [
      "{'kd_loss': 11.619965553283691, 'feature_loss': 0.3236037492752075, 'ce_loss': 8.314986228942871, 'cont_loss': 3.1417720317840576, 'teacher_loss': 8.082451820373535, 'total_loss': 8.352879524230957}\n"
     ]
    },
    {
     "name": "stderr",
     "output_type": "stream",
     "text": [
      "Validating:  79%|███████▊  | 185/235 [01:29<00:23,  2.13it/s, loss=8.3176, avg_loss=8.0110]"
     ]
    },
    {
     "name": "stdout",
     "output_type": "stream",
     "text": [
      "{'kd_loss': 11.553018569946289, 'feature_loss': 0.3642480969429016, 'ce_loss': 8.254753112792969, 'cont_loss': 3.216586112976074, 'teacher_loss': 8.092143058776855, 'total_loss': 8.317617416381836}\n"
     ]
    },
    {
     "name": "stderr",
     "output_type": "stream",
     "text": [
      "Validating:  79%|███████▉  | 186/235 [01:29<00:22,  2.14it/s, loss=8.2364, avg_loss=8.0122]"
     ]
    },
    {
     "name": "stdout",
     "output_type": "stream",
     "text": [
      "{'kd_loss': 11.45500659942627, 'feature_loss': 0.34515702724456787, 'ce_loss': 8.166736602783203, 'cont_loss': 3.186598300933838, 'teacher_loss': 8.073813438415527, 'total_loss': 8.236388206481934}\n"
     ]
    },
    {
     "name": "stderr",
     "output_type": "stream",
     "text": [
      "Validating:  80%|███████▉  | 187/235 [01:30<00:22,  2.13it/s, loss=8.1587, avg_loss=8.0130]"
     ]
    },
    {
     "name": "stdout",
     "output_type": "stream",
     "text": [
      "{'kd_loss': 11.356411933898926, 'feature_loss': 0.33118951320648193, 'ce_loss': 8.077792167663574, 'cont_loss': 3.187988758087158, 'teacher_loss': 8.08004379272461, 'total_loss': 8.158719062805176}\n"
     ]
    },
    {
     "name": "stderr",
     "output_type": "stream",
     "text": [
      "Validating:  80%|████████  | 188/235 [01:30<00:22,  2.13it/s, loss=8.1963, avg_loss=8.0140]"
     ]
    },
    {
     "name": "stdout",
     "output_type": "stream",
     "text": [
      "{'kd_loss': 11.401952743530273, 'feature_loss': 0.334499716758728, 'ce_loss': 8.118870735168457, 'cont_loss': 3.2111763954162598, 'teacher_loss': 8.086691856384277, 'total_loss': 8.196346282958984}\n"
     ]
    },
    {
     "name": "stderr",
     "output_type": "stream",
     "text": [
      "Validating:  80%|████████  | 189/235 [01:30<00:21,  2.13it/s, loss=8.2671, avg_loss=8.0153]"
     ]
    },
    {
     "name": "stdout",
     "output_type": "stream",
     "text": [
      "{'kd_loss': 11.48443603515625, 'feature_loss': 0.3032699227333069, 'ce_loss': 8.193037033081055, 'cont_loss': 3.3544392585754395, 'teacher_loss': 8.087749481201172, 'total_loss': 8.26708698272705}\n"
     ]
    },
    {
     "name": "stderr",
     "output_type": "stream",
     "text": [
      "Validating:  81%|████████  | 190/235 [01:31<00:21,  2.13it/s, loss=8.1303, avg_loss=8.0159]"
     ]
    },
    {
     "name": "stdout",
     "output_type": "stream",
     "text": [
      "{'kd_loss': 11.330284118652344, 'feature_loss': 0.31208252906799316, 'ce_loss': 8.054197311401367, 'cont_loss': 3.1409897804260254, 'teacher_loss': 8.07824993133545, 'total_loss': 8.130308151245117}\n"
     ]
    },
    {
     "name": "stderr",
     "output_type": "stream",
     "text": [
      "Validating:  81%|████████▏ | 191/235 [01:31<00:20,  2.13it/s, loss=8.3503, avg_loss=8.0177]"
     ]
    },
    {
     "name": "stdout",
     "output_type": "stream",
     "text": [
      "{'kd_loss': 11.607300758361816, 'feature_loss': 0.33074265718460083, 'ce_loss': 8.303912162780762, 'cont_loss': 3.1968884468078613, 'teacher_loss': 8.08842945098877, 'total_loss': 8.350322723388672}\n"
     ]
    },
    {
     "name": "stderr",
     "output_type": "stream",
     "text": [
      "Validating:  82%|████████▏ | 192/235 [01:32<00:20,  2.13it/s, loss=8.2989, avg_loss=8.0192]"
     ]
    },
    {
     "name": "stdout",
     "output_type": "stream",
     "text": [
      "{'kd_loss': 11.538708686828613, 'feature_loss': 0.32261407375335693, 'ce_loss': 8.242029190063477, 'cont_loss': 3.220710039138794, 'teacher_loss': 8.091602325439453, 'total_loss': 8.29888916015625}\n"
     ]
    },
    {
     "name": "stderr",
     "output_type": "stream",
     "text": [
      "Validating:  82%|████████▏ | 193/235 [01:32<00:19,  2.13it/s, loss=8.3486, avg_loss=8.0209]"
     ]
    },
    {
     "name": "stdout",
     "output_type": "stream",
     "text": [
      "{'kd_loss': 11.582512855529785, 'feature_loss': 0.33540070056915283, 'ce_loss': 8.281403541564941, 'cont_loss': 3.3599512577056885, 'teacher_loss': 8.08439826965332, 'total_loss': 8.348641395568848}\n"
     ]
    },
    {
     "name": "stderr",
     "output_type": "stream",
     "text": [
      "Validating:  83%|████████▎ | 194/235 [01:33<00:19,  2.14it/s, loss=8.2817, avg_loss=8.0222]"
     ]
    },
    {
     "name": "stdout",
     "output_type": "stream",
     "text": [
      "{'kd_loss': 11.502584457397461, 'feature_loss': 0.3640895485877991, 'ce_loss': 8.209205627441406, 'cont_loss': 3.241428852081299, 'teacher_loss': 8.082818031311035, 'total_loss': 8.281676292419434}\n"
     ]
    },
    {
     "name": "stderr",
     "output_type": "stream",
     "text": [
      "Validating:  83%|████████▎ | 195/235 [01:33<00:18,  2.13it/s, loss=8.2331, avg_loss=8.0233]"
     ]
    },
    {
     "name": "stdout",
     "output_type": "stream",
     "text": [
      "{'kd_loss': 11.450740814208984, 'feature_loss': 0.31902337074279785, 'ce_loss': 8.162705421447754, 'cont_loss': 3.239577293395996, 'teacher_loss': 8.085192680358887, 'total_loss': 8.23314094543457}\n"
     ]
    },
    {
     "name": "stderr",
     "output_type": "stream",
     "text": [
      "Validating:  83%|████████▎ | 196/235 [01:34<00:18,  2.13it/s, loss=8.2014, avg_loss=8.0242]"
     ]
    },
    {
     "name": "stdout",
     "output_type": "stream",
     "text": [
      "{'kd_loss': 11.39725112915039, 'feature_loss': 0.34019678831100464, 'ce_loss': 8.114903450012207, 'cont_loss': 3.2853403091430664, 'teacher_loss': 8.092517852783203, 'total_loss': 8.201435089111328}\n"
     ]
    },
    {
     "name": "stderr",
     "output_type": "stream",
     "text": [
      "Validating:  84%|████████▍ | 197/235 [01:34<00:17,  2.14it/s, loss=8.0612, avg_loss=8.0244]"
     ]
    },
    {
     "name": "stdout",
     "output_type": "stream",
     "text": [
      "{'kd_loss': 11.2174654006958, 'feature_loss': 0.34510308504104614, 'ce_loss': 7.952954292297363, 'cont_loss': 3.240370750427246, 'teacher_loss': 8.093802452087402, 'total_loss': 8.061225891113281}\n"
     ]
    },
    {
     "name": "stderr",
     "output_type": "stream",
     "text": [
      "Validating:  84%|████████▍ | 198/235 [01:35<00:17,  2.14it/s, loss=8.1530, avg_loss=8.0250]"
     ]
    },
    {
     "name": "stdout",
     "output_type": "stream",
     "text": [
      "{'kd_loss': 11.340071678161621, 'feature_loss': 0.33126401901245117, 'ce_loss': 8.06323528289795, 'cont_loss': 3.254037857055664, 'teacher_loss': 8.078420639038086, 'total_loss': 8.152979850769043}\n"
     ]
    },
    {
     "name": "stderr",
     "output_type": "stream",
     "text": [
      "Validating:  85%|████████▍ | 199/235 [01:35<00:16,  2.14it/s, loss=8.2046, avg_loss=8.0259]"
     ]
    },
    {
     "name": "stdout",
     "output_type": "stream",
     "text": [
      "{'kd_loss': 11.39982795715332, 'feature_loss': 0.33588433265686035, 'ce_loss': 8.116979598999023, 'cont_loss': 3.3075006008148193, 'teacher_loss': 8.089899063110352, 'total_loss': 8.204649925231934}\n"
     ]
    },
    {
     "name": "stderr",
     "output_type": "stream",
     "text": [
      "Validating:  85%|████████▌ | 200/235 [01:36<00:16,  2.13it/s, loss=8.2680, avg_loss=8.0271]"
     ]
    },
    {
     "name": "stdout",
     "output_type": "stream",
     "text": [
      "{'kd_loss': 11.479543685913086, 'feature_loss': 0.3403722047805786, 'ce_loss': 8.188724517822266, 'cont_loss': 3.326341152191162, 'teacher_loss': 8.083550453186035, 'total_loss': 8.26801586151123}\n"
     ]
    },
    {
     "name": "stderr",
     "output_type": "stream",
     "text": [
      "Validating:  86%|████████▌ | 201/235 [01:36<00:15,  2.13it/s, loss=8.3128, avg_loss=8.0286]"
     ]
    },
    {
     "name": "stdout",
     "output_type": "stream",
     "text": [
      "{'kd_loss': 11.541114807128906, 'feature_loss': 0.34396892786026, 'ce_loss': 8.244155883789062, 'cont_loss': 3.299454689025879, 'teacher_loss': 8.085041046142578, 'total_loss': 8.312848091125488}\n"
     ]
    },
    {
     "name": "stderr",
     "output_type": "stream",
     "text": [
      "Validating:  86%|████████▌ | 202/235 [01:37<00:15,  2.14it/s, loss=8.2817, avg_loss=8.0298]"
     ]
    },
    {
     "name": "stdout",
     "output_type": "stream",
     "text": [
      "{'kd_loss': 11.50320053100586, 'feature_loss': 0.33815574645996094, 'ce_loss': 8.21005630493164, 'cont_loss': 3.2881155014038086, 'teacher_loss': 8.083342552185059, 'total_loss': 8.281745910644531}\n"
     ]
    },
    {
     "name": "stderr",
     "output_type": "stream",
     "text": [
      "Validating:  86%|████████▋ | 203/235 [01:37<00:14,  2.14it/s, loss=8.3652, avg_loss=8.0315]"
     ]
    },
    {
     "name": "stdout",
     "output_type": "stream",
     "text": [
      "{'kd_loss': 11.569913864135742, 'feature_loss': 0.3300563097000122, 'ce_loss': 8.270186424255371, 'cont_loss': 3.631165027618408, 'teacher_loss': 8.085748672485352, 'total_loss': 8.365167617797852}\n"
     ]
    },
    {
     "name": "stderr",
     "output_type": "stream",
     "text": [
      "Validating:  87%|████████▋ | 204/235 [01:38<00:14,  2.14it/s, loss=8.3377, avg_loss=8.0330]"
     ]
    },
    {
     "name": "stdout",
     "output_type": "stream",
     "text": [
      "{'kd_loss': 11.564213752746582, 'feature_loss': 0.35553932189941406, 'ce_loss': 8.264976501464844, 'cont_loss': 3.3490405082702637, 'teacher_loss': 8.091253280639648, 'total_loss': 8.337688446044922}\n"
     ]
    },
    {
     "name": "stderr",
     "output_type": "stream",
     "text": [
      "Validating:  87%|████████▋ | 205/235 [01:38<00:14,  2.13it/s, loss=8.2819, avg_loss=8.0342]"
     ]
    },
    {
     "name": "stdout",
     "output_type": "stream",
     "text": [
      "{'kd_loss': 11.475881576538086, 'feature_loss': 0.3439558744430542, 'ce_loss': 8.185473442077637, 'cont_loss': 3.4860758781433105, 'teacher_loss': 8.086981773376465, 'total_loss': 8.281941413879395}\n"
     ]
    },
    {
     "name": "stderr",
     "output_type": "stream",
     "text": [
      "Validating:  88%|████████▊ | 206/235 [01:38<00:13,  2.13it/s, loss=8.1836, avg_loss=8.0349]"
     ]
    },
    {
     "name": "stdout",
     "output_type": "stream",
     "text": [
      "{'kd_loss': 11.369117736816406, 'feature_loss': 0.3298046588897705, 'ce_loss': 8.08934211730957, 'cont_loss': 3.342925786972046, 'teacher_loss': 8.084709167480469, 'total_loss': 8.183637619018555}\n"
     ]
    },
    {
     "name": "stderr",
     "output_type": "stream",
     "text": [
      "Validating:  88%|████████▊ | 207/235 [01:39<00:13,  2.13it/s, loss=8.2318, avg_loss=8.0359]"
     ]
    },
    {
     "name": "stdout",
     "output_type": "stream",
     "text": [
      "{'kd_loss': 11.417194366455078, 'feature_loss': 0.3578410744667053, 'ce_loss': 8.132906913757324, 'cont_loss': 3.402411937713623, 'teacher_loss': 8.083288192749023, 'total_loss': 8.231849670410156}\n"
     ]
    },
    {
     "name": "stderr",
     "output_type": "stream",
     "text": [
      "Validating:  89%|████████▊ | 208/235 [01:39<00:12,  2.13it/s, loss=8.3457, avg_loss=8.0374]"
     ]
    },
    {
     "name": "stdout",
     "output_type": "stream",
     "text": [
      "{'kd_loss': 11.571146965026855, 'feature_loss': 0.33413422107696533, 'ce_loss': 8.271058082580566, 'cont_loss': 3.4203813076019287, 'teacher_loss': 8.084610939025879, 'total_loss': 8.345746994018555}\n"
     ]
    },
    {
     "name": "stderr",
     "output_type": "stream",
     "text": [
      "Validating:  89%|████████▉ | 209/235 [01:40<00:12,  2.13it/s, loss=8.3476, avg_loss=8.0388]"
     ]
    },
    {
     "name": "stdout",
     "output_type": "stream",
     "text": [
      "{'kd_loss': 11.534191131591797, 'feature_loss': 0.3613854646682739, 'ce_loss': 8.237702369689941, 'cont_loss': 3.6653199195861816, 'teacher_loss': 8.0826997756958, 'total_loss': 8.347566604614258}\n"
     ]
    },
    {
     "name": "stderr",
     "output_type": "stream",
     "text": [
      "Validating:  89%|████████▉ | 210/235 [01:40<00:11,  2.13it/s, loss=8.3881, avg_loss=8.0405]"
     ]
    },
    {
     "name": "stdout",
     "output_type": "stream",
     "text": [
      "{'kd_loss': 11.630254745483398, 'feature_loss': 0.34217917919158936, 'ce_loss': 8.324372291564941, 'cont_loss': 3.3776490688323975, 'teacher_loss': 8.088113784790039, 'total_loss': 8.38805103302002}\n"
     ]
    },
    {
     "name": "stderr",
     "output_type": "stream",
     "text": [
      "Validating:  90%|████████▉ | 211/235 [01:41<00:11,  2.13it/s, loss=8.2688, avg_loss=8.0416]"
     ]
    },
    {
     "name": "stdout",
     "output_type": "stream",
     "text": [
      "{'kd_loss': 11.45402717590332, 'feature_loss': 0.3276379108428955, 'ce_loss': 8.165882110595703, 'cont_loss': 3.5529208183288574, 'teacher_loss': 8.08984088897705, 'total_loss': 8.268783569335938}\n"
     ]
    },
    {
     "name": "stderr",
     "output_type": "stream",
     "text": [
      "Validating:  90%|█████████ | 212/235 [01:41<00:10,  2.13it/s, loss=8.2235, avg_loss=8.0424]"
     ]
    },
    {
     "name": "stdout",
     "output_type": "stream",
     "text": [
      "{'kd_loss': 11.408409118652344, 'feature_loss': 0.3349456191062927, 'ce_loss': 8.124858856201172, 'cont_loss': 3.4320693016052246, 'teacher_loss': 8.088790893554688, 'total_loss': 8.223503112792969}\n"
     ]
    },
    {
     "name": "stderr",
     "output_type": "stream",
     "text": [
      "Validating:  91%|█████████ | 213/235 [01:42<00:10,  2.13it/s, loss=8.2653, avg_loss=8.0435]"
     ]
    },
    {
     "name": "stdout",
     "output_type": "stream",
     "text": [
      "{'kd_loss': 11.463833808898926, 'feature_loss': 0.32976216077804565, 'ce_loss': 8.17457389831543, 'cont_loss': 3.4400131702423096, 'teacher_loss': 8.090475082397461, 'total_loss': 8.2653169631958}\n"
     ]
    },
    {
     "name": "stderr",
     "output_type": "stream",
     "text": [
      "Validating:  91%|█████████ | 214/235 [01:42<00:09,  2.13it/s, loss=8.3406, avg_loss=8.0449]"
     ]
    },
    {
     "name": "stdout",
     "output_type": "stream",
     "text": [
      "{'kd_loss': 11.522930145263672, 'feature_loss': 0.33296966552734375, 'ce_loss': 8.227778434753418, 'cont_loss': 3.7373805046081543, 'teacher_loss': 8.089807510375977, 'total_loss': 8.340616226196289}\n"
     ]
    },
    {
     "name": "stderr",
     "output_type": "stream",
     "text": [
      "Validating:  91%|█████████▏| 215/235 [01:43<00:09,  2.14it/s, loss=8.3051, avg_loss=8.0461]"
     ]
    },
    {
     "name": "stdout",
     "output_type": "stream",
     "text": [
      "{'kd_loss': 11.517072677612305, 'feature_loss': 0.31994378566741943, 'ce_loss': 8.22270679473877, 'cont_loss': 3.4524526596069336, 'teacher_loss': 8.090948104858398, 'total_loss': 8.305146217346191}\n"
     ]
    },
    {
     "name": "stderr",
     "output_type": "stream",
     "text": [
      "Validating:  92%|█████████▏| 216/235 [01:43<00:08,  2.14it/s, loss=8.2962, avg_loss=8.0472]"
     ]
    },
    {
     "name": "stdout",
     "output_type": "stream",
     "text": [
      "{'kd_loss': 11.502683639526367, 'feature_loss': 0.3321197032928467, 'ce_loss': 8.209535598754883, 'cont_loss': 3.4491264820098877, 'teacher_loss': 8.07957649230957, 'total_loss': 8.296224594116211}\n"
     ]
    },
    {
     "name": "stderr",
     "output_type": "stream",
     "text": [
      "Validating:  92%|█████████▏| 217/235 [01:44<00:08,  2.14it/s, loss=8.3186, avg_loss=8.0485]"
     ]
    },
    {
     "name": "stdout",
     "output_type": "stream",
     "text": [
      "{'kd_loss': 11.519327163696289, 'feature_loss': 0.35671424865722656, 'ce_loss': 8.224407196044922, 'cont_loss': 3.4980740547180176, 'teacher_loss': 8.090615272521973, 'total_loss': 8.318644523620605}\n"
     ]
    },
    {
     "name": "stderr",
     "output_type": "stream",
     "text": [
      "Validating:  93%|█████████▎| 218/235 [01:44<00:07,  2.14it/s, loss=8.2716, avg_loss=8.0495]"
     ]
    },
    {
     "name": "stdout",
     "output_type": "stream",
     "text": [
      "{'kd_loss': 11.459270477294922, 'feature_loss': 0.35545021295547485, 'ce_loss': 8.170554161071777, 'cont_loss': 3.4862442016601562, 'teacher_loss': 8.0899658203125, 'total_loss': 8.271644592285156}\n"
     ]
    },
    {
     "name": "stderr",
     "output_type": "stream",
     "text": [
      "Validating:  93%|█████████▎| 219/235 [01:45<00:07,  2.14it/s, loss=8.2438, avg_loss=8.0504]"
     ]
    },
    {
     "name": "stdout",
     "output_type": "stream",
     "text": [
      "{'kd_loss': 11.420738220214844, 'feature_loss': 0.36363089084625244, 'ce_loss': 8.135910034179688, 'cont_loss': 3.4842095375061035, 'teacher_loss': 8.087682723999023, 'total_loss': 8.243806838989258}\n"
     ]
    },
    {
     "name": "stderr",
     "output_type": "stream",
     "text": [
      "Validating:  94%|█████████▎| 220/235 [01:45<00:07,  2.14it/s, loss=8.2183, avg_loss=8.0512]"
     ]
    },
    {
     "name": "stdout",
     "output_type": "stream",
     "text": [
      "{'kd_loss': 11.389344215393066, 'feature_loss': 0.34623849391937256, 'ce_loss': 8.107697486877441, 'cont_loss': 3.5026092529296875, 'teacher_loss': 8.086853981018066, 'total_loss': 8.2183256149292}\n"
     ]
    },
    {
     "name": "stderr",
     "output_type": "stream",
     "text": [
      "Validating:  94%|█████████▍| 221/235 [01:45<00:06,  2.14it/s, loss=8.2792, avg_loss=8.0522]"
     ]
    },
    {
     "name": "stdout",
     "output_type": "stream",
     "text": [
      "{'kd_loss': 11.440886497497559, 'feature_loss': 0.36105096340179443, 'ce_loss': 8.153909683227539, 'cont_loss': 3.690978527069092, 'teacher_loss': 8.084171295166016, 'total_loss': 8.279226303100586}\n"
     ]
    },
    {
     "name": "stderr",
     "output_type": "stream",
     "text": [
      "Validating:  94%|█████████▍| 222/235 [01:46<00:06,  2.14it/s, loss=8.3256, avg_loss=8.0534]"
     ]
    },
    {
     "name": "stdout",
     "output_type": "stream",
     "text": [
      "{'kd_loss': 11.521581649780273, 'feature_loss': 0.3633180856704712, 'ce_loss': 8.226618766784668, 'cont_loss': 3.5368144512176514, 'teacher_loss': 8.08995246887207, 'total_loss': 8.3256254196167}\n"
     ]
    },
    {
     "name": "stderr",
     "output_type": "stream",
     "text": [
      "Validating:  95%|█████████▍| 223/235 [01:46<00:05,  2.14it/s, loss=8.2087, avg_loss=8.0541]"
     ]
    },
    {
     "name": "stdout",
     "output_type": "stream",
     "text": [
      "{'kd_loss': 11.380786895751953, 'feature_loss': 0.33916807174682617, 'ce_loss': 8.099581718444824, 'cont_loss': 3.487374782562256, 'teacher_loss': 8.085684776306152, 'total_loss': 8.208718299865723}\n"
     ]
    },
    {
     "name": "stderr",
     "output_type": "stream",
     "text": [
      "Validating:  95%|█████████▌| 224/235 [01:47<00:05,  2.14it/s, loss=8.2658, avg_loss=8.0551]"
     ]
    },
    {
     "name": "stdout",
     "output_type": "stream",
     "text": [
      "{'kd_loss': 11.447837829589844, 'feature_loss': 0.3520350456237793, 'ce_loss': 8.160138130187988, 'cont_loss': 3.5220956802368164, 'teacher_loss': 8.088165283203125, 'total_loss': 8.265807151794434}\n"
     ]
    },
    {
     "name": "stderr",
     "output_type": "stream",
     "text": [
      "Validating:  96%|█████████▌| 225/235 [01:47<00:04,  2.14it/s, loss=8.3240, avg_loss=8.0563]"
     ]
    },
    {
     "name": "stdout",
     "output_type": "stream",
     "text": [
      "{'kd_loss': 11.516654014587402, 'feature_loss': 0.3587331771850586, 'ce_loss': 8.222225189208984, 'cont_loss': 3.567476987838745, 'teacher_loss': 8.091741561889648, 'total_loss': 8.32404613494873}\n"
     ]
    },
    {
     "name": "stderr",
     "output_type": "stream",
     "text": [
      "Validating:  96%|█████████▌| 226/235 [01:48<00:04,  2.13it/s, loss=8.2615, avg_loss=8.0572]"
     ]
    },
    {
     "name": "stdout",
     "output_type": "stream",
     "text": [
      "{'kd_loss': 11.41897964477539, 'feature_loss': 0.3520148992538452, 'ce_loss': 8.13394546508789, 'cont_loss': 3.6996092796325684, 'teacher_loss': 8.079238891601562, 'total_loss': 8.261534690856934}\n"
     ]
    },
    {
     "name": "stderr",
     "output_type": "stream",
     "text": [
      "Validating:  97%|█████████▋| 227/235 [01:48<00:03,  2.13it/s, loss=8.2607, avg_loss=8.0581]"
     ]
    },
    {
     "name": "stdout",
     "output_type": "stream",
     "text": [
      "{'kd_loss': 11.43179702758789, 'feature_loss': 0.3580229878425598, 'ce_loss': 8.145772933959961, 'cont_loss': 3.5811665058135986, 'teacher_loss': 8.087947845458984, 'total_loss': 8.260749816894531}\n"
     ]
    },
    {
     "name": "stderr",
     "output_type": "stream",
     "text": [
      "Validating:  97%|█████████▋| 228/235 [01:49<00:03,  2.13it/s, loss=8.2903, avg_loss=8.0591]"
     ]
    },
    {
     "name": "stdout",
     "output_type": "stream",
     "text": [
      "{'kd_loss': 11.482094764709473, 'feature_loss': 0.32572364807128906, 'ce_loss': 8.191040992736816, 'cont_loss': 3.558716297149658, 'teacher_loss': 8.096399307250977, 'total_loss': 8.29026985168457}\n"
     ]
    },
    {
     "name": "stderr",
     "output_type": "stream",
     "text": [
      "Validating:  97%|█████████▋| 229/235 [01:49<00:02,  2.14it/s, loss=8.3354, avg_loss=8.0603]"
     ]
    },
    {
     "name": "stdout",
     "output_type": "stream",
     "text": [
      "{'kd_loss': 11.532787322998047, 'feature_loss': 0.338591992855072, 'ce_loss': 8.236612319946289, 'cont_loss': 3.5997090339660645, 'teacher_loss': 8.08496379852295, 'total_loss': 8.33544921875}\n"
     ]
    },
    {
     "name": "stderr",
     "output_type": "stream",
     "text": [
      "Validating:  98%|█████████▊| 230/235 [01:50<00:02,  2.14it/s, loss=8.2686, avg_loss=8.0612]"
     ]
    },
    {
     "name": "stdout",
     "output_type": "stream",
     "text": [
      "{'kd_loss': 11.431943893432617, 'feature_loss': 0.35027599334716797, 'ce_loss': 8.14609146118164, 'cont_loss': 3.6734819412231445, 'teacher_loss': 8.088729858398438, 'total_loss': 8.268617630004883}\n"
     ]
    },
    {
     "name": "stderr",
     "output_type": "stream",
     "text": [
      "Validating:  98%|█████████▊| 231/235 [01:50<00:01,  2.14it/s, loss=8.3540, avg_loss=8.0625]"
     ]
    },
    {
     "name": "stdout",
     "output_type": "stream",
     "text": [
      "{'kd_loss': 11.551375389099121, 'feature_loss': 0.33926820755004883, 'ce_loss': 8.253144264221191, 'cont_loss': 3.6435494422912598, 'teacher_loss': 8.086893081665039, 'total_loss': 8.354016304016113}\n"
     ]
    },
    {
     "name": "stderr",
     "output_type": "stream",
     "text": [
      "Validating:  99%|█████████▊| 232/235 [01:51<00:01,  2.14it/s, loss=8.1727, avg_loss=8.0629]"
     ]
    },
    {
     "name": "stdout",
     "output_type": "stream",
     "text": [
      "{'kd_loss': 11.313838005065918, 'feature_loss': 0.3396263122558594, 'ce_loss': 8.039567947387695, 'cont_loss': 3.6345443725585938, 'teacher_loss': 8.08440113067627, 'total_loss': 8.17274284362793}\n"
     ]
    },
    {
     "name": "stderr",
     "output_type": "stream",
     "text": [
      "Validating:  99%|█████████▉| 233/235 [01:51<00:00,  2.13it/s, loss=8.3566, avg_loss=8.0642]"
     ]
    },
    {
     "name": "stdout",
     "output_type": "stream",
     "text": [
      "{'kd_loss': 11.538834571838379, 'feature_loss': 0.3787444829940796, 'ce_loss': 8.241962432861328, 'cont_loss': 3.6856377124786377, 'teacher_loss': 8.08785343170166, 'total_loss': 8.3566312789917}\n"
     ]
    },
    {
     "name": "stderr",
     "output_type": "stream",
     "text": [
      "Validating: 100%|██████████| 235/235 [01:52<00:00,  2.60it/s, loss=8.3267, avg_loss=8.0661]"
     ]
    },
    {
     "name": "stdout",
     "output_type": "stream",
     "text": [
      "{'kd_loss': 11.390830993652344, 'feature_loss': 0.35764002799987793, 'ce_loss': 8.108914375305176, 'cont_loss': 3.6338558197021484, 'teacher_loss': 8.090503692626953, 'total_loss': 8.234811782836914}\n",
      "{'kd_loss': 11.633703231811523, 'feature_loss': 0.34032195806503296, 'ce_loss': 8.327927589416504, 'cont_loss': 2.7397375106811523, 'teacher_loss': 8.090700149536133, 'total_loss': 8.326690673828125}\n"
     ]
    },
    {
     "name": "stderr",
     "output_type": "stream",
     "text": [
      "Validating: 100%|██████████| 235/235 [01:52<00:00,  2.09it/s, loss=8.3267, avg_loss=8.0661]\n"
     ]
    },
    {
     "name": "stdout",
     "output_type": "stream",
     "text": [
      "Epoch 2 | Train Loss: 10.0439 | Val Loss: 8.0661 | Top1 Acc: 0.00 | Top5 Acc: 0.01\n"
     ]
    },
    {
     "name": "stderr",
     "output_type": "stream",
     "text": [
      "Training: 100%|██████████| 1875/1875 [12:51<00:00,  2.43it/s, loss=9.9861, avg_loss=9.9651, lr=5.74e-5]\n",
      "Validating:   0%|          | 1/235 [00:01<07:41,  1.97s/it, loss=7.4963, avg_loss=7.4963]"
     ]
    },
    {
     "name": "stdout",
     "output_type": "stream",
     "text": [
      "{'kd_loss': 10.71448802947998, 'feature_loss': 0.3160741925239563, 'ce_loss': 7.499770641326904, 'cont_loss': 1.4741511344909668, 'teacher_loss': 8.102994918823242, 'total_loss': 7.496333122253418}\n"
     ]
    },
    {
     "name": "stderr",
     "output_type": "stream",
     "text": [
      "Validating:   1%|          | 2/235 [00:02<04:14,  1.09s/it, loss=7.7869, avg_loss=7.6416]"
     ]
    },
    {
     "name": "stdout",
     "output_type": "stream",
     "text": [
      "{'kd_loss': 11.094695091247559, 'feature_loss': 0.2980199456214905, 'ce_loss': 7.841969966888428, 'cont_loss': 1.5259519815444946, 'teacher_loss': 8.10030746459961, 'total_loss': 7.786865711212158}\n"
     ]
    },
    {
     "name": "stderr",
     "output_type": "stream",
     "text": [
      "Validating:   1%|▏         | 3/235 [00:02<03:06,  1.24it/s, loss=8.0759, avg_loss=7.7864]"
     ]
    },
    {
     "name": "stdout",
     "output_type": "stream",
     "text": [
      "{'kd_loss': 11.475460052490234, 'feature_loss': 0.30151504278182983, 'ce_loss': 8.185266494750977, 'cont_loss': 1.513367772102356, 'teacher_loss': 8.091755867004395, 'total_loss': 8.07593059539795}\n"
     ]
    },
    {
     "name": "stderr",
     "output_type": "stream",
     "text": [
      "Validating:   2%|▏         | 4/235 [00:03<02:35,  1.49it/s, loss=7.4574, avg_loss=7.7041]"
     ]
    },
    {
     "name": "stdout",
     "output_type": "stream",
     "text": [
      "{'kd_loss': 10.675537109375, 'feature_loss': 0.2736707925796509, 'ce_loss': 7.4647932052612305, 'cont_loss': 1.465564489364624, 'teacher_loss': 8.086523056030273, 'total_loss': 7.457422733306885}\n"
     ]
    },
    {
     "name": "stderr",
     "output_type": "stream",
     "text": [
      "Validating:   2%|▏         | 5/235 [00:03<02:17,  1.67it/s, loss=7.1582, avg_loss=7.5950]"
     ]
    },
    {
     "name": "stdout",
     "output_type": "stream",
     "text": [
      "{'kd_loss': 10.289130210876465, 'feature_loss': 0.2581213712692261, 'ce_loss': 7.117085933685303, 'cont_loss': 1.441359281539917, 'teacher_loss': 8.0902099609375, 'total_loss': 7.1582465171813965}\n"
     ]
    },
    {
     "name": "stderr",
     "output_type": "stream",
     "text": [
      "Validating:   3%|▎         | 6/235 [00:04<02:07,  1.80it/s, loss=7.9021, avg_loss=7.6462]"
     ]
    },
    {
     "name": "stdout",
     "output_type": "stream",
     "text": [
      "{'kd_loss': 11.224717140197754, 'feature_loss': 0.3877122402191162, 'ce_loss': 7.959470272064209, 'cont_loss': 1.5090306997299194, 'teacher_loss': 8.087251663208008, 'total_loss': 7.902120113372803}\n"
     ]
    },
    {
     "name": "stderr",
     "output_type": "stream",
     "text": [
      "Validating:   3%|▎         | 7/235 [00:04<02:00,  1.89it/s, loss=7.7747, avg_loss=7.6645]"
     ]
    },
    {
     "name": "stdout",
     "output_type": "stream",
     "text": [
      "{'kd_loss': 11.083974838256836, 'feature_loss': 0.2985897660255432, 'ce_loss': 7.8328351974487305, 'cont_loss': 1.48292875289917, 'teacher_loss': 8.109657287597656, 'total_loss': 7.774734973907471}\n"
     ]
    },
    {
     "name": "stderr",
     "output_type": "stream",
     "text": [
      "Validating:   3%|▎         | 8/235 [00:05<01:55,  1.96it/s, loss=7.7608, avg_loss=7.6766]"
     ]
    },
    {
     "name": "stdout",
     "output_type": "stream",
     "text": [
      "{'kd_loss': 11.052339553833008, 'feature_loss': 0.3458351492881775, 'ce_loss': 7.804460048675537, 'cont_loss': 1.48909330368042, 'teacher_loss': 8.093973159790039, 'total_loss': 7.760796546936035}\n"
     ]
    },
    {
     "name": "stderr",
     "output_type": "stream",
     "text": [
      "Validating:   4%|▍         | 9/235 [00:05<01:52,  2.00it/s, loss=7.6855, avg_loss=7.6776]"
     ]
    },
    {
     "name": "stdout",
     "output_type": "stream",
     "text": [
      "{'kd_loss': 10.984980583190918, 'feature_loss': 0.21797984838485718, 'ce_loss': 7.743411540985107, 'cont_loss': 1.5056750774383545, 'teacher_loss': 8.090864181518555, 'total_loss': 7.685520648956299}\n"
     ]
    },
    {
     "name": "stderr",
     "output_type": "stream",
     "text": [
      "Validating:   4%|▍         | 10/235 [00:06<01:50,  2.04it/s, loss=7.6757, avg_loss=7.6774]"
     ]
    },
    {
     "name": "stdout",
     "output_type": "stream",
     "text": [
      "{'kd_loss': 10.954933166503906, 'feature_loss': 0.28232598304748535, 'ce_loss': 7.71679162979126, 'cont_loss': 1.5058231353759766, 'teacher_loss': 8.09157943725586, 'total_loss': 7.675737380981445}\n"
     ]
    },
    {
     "name": "stderr",
     "output_type": "stream",
     "text": [
      "Validating:   5%|▍         | 11/235 [00:06<01:48,  2.06it/s, loss=7.7585, avg_loss=7.6847]"
     ]
    },
    {
     "name": "stdout",
     "output_type": "stream",
     "text": [
      "{'kd_loss': 11.056276321411133, 'feature_loss': 0.3149583339691162, 'ce_loss': 7.80787467956543, 'cont_loss': 1.4986517429351807, 'teacher_loss': 8.090628623962402, 'total_loss': 7.758517265319824}\n"
     ]
    },
    {
     "name": "stderr",
     "output_type": "stream",
     "text": [
      "Validating:   5%|▌         | 12/235 [00:07<01:47,  2.07it/s, loss=7.7879, avg_loss=7.6933]"
     ]
    },
    {
     "name": "stdout",
     "output_type": "stream",
     "text": [
      "{'kd_loss': 11.104928016662598, 'feature_loss': 0.28581905364990234, 'ce_loss': 7.852015495300293, 'cont_loss': 1.479353904724121, 'teacher_loss': 8.088380813598633, 'total_loss': 7.787876605987549}\n"
     ]
    },
    {
     "name": "stderr",
     "output_type": "stream",
     "text": [
      "Validating:   6%|▌         | 13/235 [00:07<01:46,  2.08it/s, loss=7.7399, avg_loss=7.6969]"
     ]
    },
    {
     "name": "stdout",
     "output_type": "stream",
     "text": [
      "{'kd_loss': 11.032064437866211, 'feature_loss': 0.32148516178131104, 'ce_loss': 7.786392688751221, 'cont_loss': 1.4818183183670044, 'teacher_loss': 8.093907356262207, 'total_loss': 7.739862442016602}\n"
     ]
    },
    {
     "name": "stderr",
     "output_type": "stream",
     "text": [
      "Validating:   6%|▌         | 14/235 [00:08<01:45,  2.10it/s, loss=7.9523, avg_loss=7.7152]"
     ]
    },
    {
     "name": "stdout",
     "output_type": "stream",
     "text": [
      "{'kd_loss': 11.292980194091797, 'feature_loss': 0.3602336645126343, 'ce_loss': 8.020696640014648, 'cont_loss': 1.5481531620025635, 'teacher_loss': 8.083335876464844, 'total_loss': 7.952332973480225}\n"
     ]
    },
    {
     "name": "stderr",
     "output_type": "stream",
     "text": [
      "Validating:   6%|▋         | 15/235 [00:08<01:44,  2.11it/s, loss=7.6933, avg_loss=7.7137]"
     ]
    },
    {
     "name": "stdout",
     "output_type": "stream",
     "text": [
      "{'kd_loss': 10.98894214630127, 'feature_loss': 0.266249418258667, 'ce_loss': 7.747084617614746, 'cont_loss': 1.4567248821258545, 'teacher_loss': 8.094749450683594, 'total_loss': 7.693333148956299}\n"
     ]
    },
    {
     "name": "stderr",
     "output_type": "stream",
     "text": [
      "Validating:   7%|▋         | 16/235 [00:09<01:43,  2.11it/s, loss=7.9340, avg_loss=7.7275]"
     ]
    },
    {
     "name": "stdout",
     "output_type": "stream",
     "text": [
      "{'kd_loss': 11.285847663879395, 'feature_loss': 0.3156808614730835, 'ce_loss': 8.014814376831055, 'cont_loss': 1.505971908569336, 'teacher_loss': 8.083837509155273, 'total_loss': 7.933997631072998}\n"
     ]
    },
    {
     "name": "stderr",
     "output_type": "stream",
     "text": [
      "Validating:   7%|▋         | 17/235 [00:09<01:43,  2.11it/s, loss=7.7243, avg_loss=7.7273]"
     ]
    },
    {
     "name": "stdout",
     "output_type": "stream",
     "text": [
      "{'kd_loss': 11.009815216064453, 'feature_loss': 0.31690144538879395, 'ce_loss': 7.766558647155762, 'cont_loss': 1.5034433603286743, 'teacher_loss': 8.103569984436035, 'total_loss': 7.724274158477783}\n"
     ]
    },
    {
     "name": "stderr",
     "output_type": "stream",
     "text": [
      "Validating:   8%|▊         | 18/235 [00:09<01:42,  2.12it/s, loss=7.5924, avg_loss=7.7198]"
     ]
    },
    {
     "name": "stdout",
     "output_type": "stream",
     "text": [
      "{'kd_loss': 10.847211837768555, 'feature_loss': 0.2785652279853821, 'ce_loss': 7.619838714599609, 'cont_loss': 1.4986176490783691, 'teacher_loss': 8.086182594299316, 'total_loss': 7.592395305633545}\n"
     ]
    },
    {
     "name": "stderr",
     "output_type": "stream",
     "text": [
      "Validating:   8%|▊         | 19/235 [00:10<01:42,  2.11it/s, loss=7.7311, avg_loss=7.7204]"
     ]
    },
    {
     "name": "stdout",
     "output_type": "stream",
     "text": [
      "{'kd_loss': 11.026844024658203, 'feature_loss': 0.2875620126724243, 'ce_loss': 7.781045436859131, 'cont_loss': 1.5042946338653564, 'teacher_loss': 8.102087020874023, 'total_loss': 7.731097221374512}\n"
     ]
    },
    {
     "name": "stderr",
     "output_type": "stream",
     "text": [
      "Validating:   9%|▊         | 20/235 [00:10<01:41,  2.12it/s, loss=7.5592, avg_loss=7.7123]"
     ]
    },
    {
     "name": "stdout",
     "output_type": "stream",
     "text": [
      "{'kd_loss': 10.80389404296875, 'feature_loss': 0.27674615383148193, 'ce_loss': 7.580721855163574, 'cont_loss': 1.4996795654296875, 'teacher_loss': 8.099185943603516, 'total_loss': 7.559164047241211}\n"
     ]
    },
    {
     "name": "stderr",
     "output_type": "stream",
     "text": [
      "Validating:   9%|▉         | 21/235 [00:11<01:41,  2.11it/s, loss=7.8073, avg_loss=7.7168]"
     ]
    },
    {
     "name": "stdout",
     "output_type": "stream",
     "text": [
      "{'kd_loss': 11.124897003173828, 'feature_loss': 0.28239738941192627, 'ce_loss': 7.869917869567871, 'cont_loss': 1.528710961341858, 'teacher_loss': 8.104249000549316, 'total_loss': 7.807276725769043}\n"
     ]
    },
    {
     "name": "stderr",
     "output_type": "stream",
     "text": [
      "Validating:   9%|▉         | 22/235 [00:11<01:40,  2.12it/s, loss=7.8852, avg_loss=7.7245]"
     ]
    },
    {
     "name": "stdout",
     "output_type": "stream",
     "text": [
      "{'kd_loss': 11.242698669433594, 'feature_loss': 0.2180182933807373, 'ce_loss': 7.976039409637451, 'cont_loss': 1.5410704612731934, 'teacher_loss': 8.096253395080566, 'total_loss': 7.8852057456970215}\n"
     ]
    },
    {
     "name": "stderr",
     "output_type": "stream",
     "text": [
      "Validating:  10%|▉         | 23/235 [00:12<01:39,  2.12it/s, loss=7.6508, avg_loss=7.7213]"
     ]
    },
    {
     "name": "stdout",
     "output_type": "stream",
     "text": [
      "{'kd_loss': 10.892033576965332, 'feature_loss': 0.3877594470977783, 'ce_loss': 7.659665584564209, 'cont_loss': 1.525818109512329, 'teacher_loss': 8.072205543518066, 'total_loss': 7.650813579559326}\n"
     ]
    },
    {
     "name": "stderr",
     "output_type": "stream",
     "text": [
      "Validating:  10%|█         | 24/235 [00:12<01:39,  2.12it/s, loss=7.9001, avg_loss=7.7287]"
     ]
    },
    {
     "name": "stdout",
     "output_type": "stream",
     "text": [
      "{'kd_loss': 11.246633529663086, 'feature_loss': 0.30511271953582764, 'ce_loss': 7.979167938232422, 'cont_loss': 1.4878144264221191, 'teacher_loss': 8.079050064086914, 'total_loss': 7.900125026702881}\n"
     ]
    },
    {
     "name": "stderr",
     "output_type": "stream",
     "text": [
      "Validating:  11%|█         | 25/235 [00:13<01:39,  2.12it/s, loss=7.7653, avg_loss=7.7302]"
     ]
    },
    {
     "name": "stdout",
     "output_type": "stream",
     "text": [
      "{'kd_loss': 11.060005187988281, 'feature_loss': 0.33446311950683594, 'ce_loss': 7.811101913452148, 'cont_loss': 1.4991493225097656, 'teacher_loss': 8.098600387573242, 'total_loss': 7.765250205993652}\n"
     ]
    },
    {
     "name": "stderr",
     "output_type": "stream",
     "text": [
      "Validating:  11%|█         | 26/235 [00:13<01:38,  2.12it/s, loss=7.9409, avg_loss=7.7383]"
     ]
    },
    {
     "name": "stdout",
     "output_type": "stream",
     "text": [
      "{'kd_loss': 11.273530006408691, 'feature_loss': 0.39510512351989746, 'ce_loss': 8.003168106079102, 'cont_loss': 1.5119788646697998, 'teacher_loss': 8.101234436035156, 'total_loss': 7.940898418426514}\n"
     ]
    },
    {
     "name": "stderr",
     "output_type": "stream",
     "text": [
      "Validating:  11%|█▏        | 27/235 [00:14<01:38,  2.11it/s, loss=7.7356, avg_loss=7.7382]"
     ]
    },
    {
     "name": "stdout",
     "output_type": "stream",
     "text": [
      "{'kd_loss': 11.022804260253906, 'feature_loss': 0.344897985458374, 'ce_loss': 7.778001308441162, 'cont_loss': 1.462782859802246, 'teacher_loss': 8.084046363830566, 'total_loss': 7.7355804443359375}\n"
     ]
    },
    {
     "name": "stderr",
     "output_type": "stream",
     "text": [
      "Validating:  12%|█▏        | 28/235 [00:14<01:37,  2.11it/s, loss=7.6154, avg_loss=7.7338]"
     ]
    },
    {
     "name": "stdout",
     "output_type": "stream",
     "text": [
      "{'kd_loss': 10.871415138244629, 'feature_loss': 0.303875207901001, 'ce_loss': 7.641640663146973, 'cont_loss': 1.4945166110992432, 'teacher_loss': 8.090910911560059, 'total_loss': 7.615448951721191}\n"
     ]
    },
    {
     "name": "stderr",
     "output_type": "stream",
     "text": [
      "Validating:  12%|█▏        | 29/235 [00:15<01:37,  2.11it/s, loss=7.8335, avg_loss=7.7373]"
     ]
    },
    {
     "name": "stdout",
     "output_type": "stream",
     "text": [
      "{'kd_loss': 11.164180755615234, 'feature_loss': 0.2817521095275879, 'ce_loss': 7.904542446136475, 'cont_loss': 1.4964323043823242, 'teacher_loss': 8.087225914001465, 'total_loss': 7.8334832191467285}\n"
     ]
    },
    {
     "name": "stderr",
     "output_type": "stream",
     "text": [
      "Validating:  13%|█▎        | 30/235 [00:15<01:36,  2.12it/s, loss=7.2929, avg_loss=7.7225]"
     ]
    },
    {
     "name": "stdout",
     "output_type": "stream",
     "text": [
      "{'kd_loss': 10.455333709716797, 'feature_loss': 0.31605619192123413, 'ce_loss': 7.266654014587402, 'cont_loss': 1.4086189270019531, 'teacher_loss': 8.087016105651855, 'total_loss': 7.2928690910339355}\n"
     ]
    },
    {
     "name": "stderr",
     "output_type": "stream",
     "text": [
      "Validating:  13%|█▎        | 31/235 [00:16<01:36,  2.11it/s, loss=7.9384, avg_loss=7.7294]"
     ]
    },
    {
     "name": "stdout",
     "output_type": "stream",
     "text": [
      "{'kd_loss': 11.302569389343262, 'feature_loss': 0.3037419319152832, 'ce_loss': 8.029520988464355, 'cont_loss': 1.4478750228881836, 'teacher_loss': 8.096944808959961, 'total_loss': 7.9383721351623535}\n"
     ]
    },
    {
     "name": "stderr",
     "output_type": "stream",
     "text": [
      "Validating:  14%|█▎        | 32/235 [00:16<01:35,  2.12it/s, loss=7.5618, avg_loss=7.7242]"
     ]
    },
    {
     "name": "stdout",
     "output_type": "stream",
     "text": [
      "{'kd_loss': 10.815356254577637, 'feature_loss': 0.24835538864135742, 'ce_loss': 7.5915303230285645, 'cont_loss': 1.493669033050537, 'teacher_loss': 8.101499557495117, 'total_loss': 7.561792850494385}\n"
     ]
    },
    {
     "name": "stderr",
     "output_type": "stream",
     "text": [
      "Validating:  14%|█▍        | 33/235 [00:17<01:35,  2.11it/s, loss=7.9159, avg_loss=7.7300]"
     ]
    },
    {
     "name": "stdout",
     "output_type": "stream",
     "text": [
      "{'kd_loss': 11.268692016601562, 'feature_loss': 0.29234278202056885, 'ce_loss': 7.999464511871338, 'cont_loss': 1.5015348196029663, 'teacher_loss': 8.066165924072266, 'total_loss': 7.915884494781494}\n"
     ]
    },
    {
     "name": "stderr",
     "output_type": "stream",
     "text": [
      "Validating:  14%|█▍        | 34/235 [00:17<01:35,  2.12it/s, loss=7.6512, avg_loss=7.7277]"
     ]
    },
    {
     "name": "stdout",
     "output_type": "stream",
     "text": [
      "{'kd_loss': 10.899395942687988, 'feature_loss': 0.37171095609664917, 'ce_loss': 7.666889667510986, 'cont_loss': 1.503110408782959, 'teacher_loss': 8.09205436706543, 'total_loss': 7.651167392730713}\n"
     ]
    },
    {
     "name": "stderr",
     "output_type": "stream",
     "text": [
      "Validating:  15%|█▍        | 35/235 [00:18<01:34,  2.12it/s, loss=7.5577, avg_loss=7.7228]"
     ]
    },
    {
     "name": "stdout",
     "output_type": "stream",
     "text": [
      "{'kd_loss': 10.788286209106445, 'feature_loss': 0.35628771781921387, 'ce_loss': 7.566451072692871, 'cont_loss': 1.445237159729004, 'teacher_loss': 8.076168060302734, 'total_loss': 7.557676315307617}\n"
     ]
    },
    {
     "name": "stderr",
     "output_type": "stream",
     "text": [
      "Validating:  15%|█▌        | 36/235 [00:18<01:33,  2.12it/s, loss=7.6444, avg_loss=7.7206]"
     ]
    },
    {
     "name": "stdout",
     "output_type": "stream",
     "text": [
      "{'kd_loss': 10.926558494567871, 'feature_loss': 0.2231939435005188, 'ce_loss': 7.690962791442871, 'cont_loss': 1.5276494026184082, 'teacher_loss': 8.082099914550781, 'total_loss': 7.644412517547607}\n"
     ]
    },
    {
     "name": "stderr",
     "output_type": "stream",
     "text": [
      "Validating:  16%|█▌        | 37/235 [00:18<01:33,  2.12it/s, loss=7.8215, avg_loss=7.7234]"
     ]
    },
    {
     "name": "stdout",
     "output_type": "stream",
     "text": [
      "{'kd_loss': 11.140442848205566, 'feature_loss': 0.25484204292297363, 'ce_loss': 7.883843421936035, 'cont_loss': 1.6085929870605469, 'teacher_loss': 8.093978881835938, 'total_loss': 7.821542739868164}\n"
     ]
    },
    {
     "name": "stderr",
     "output_type": "stream",
     "text": [
      "Validating:  16%|█▌        | 38/235 [00:19<01:33,  2.11it/s, loss=7.6687, avg_loss=7.7219]"
     ]
    },
    {
     "name": "stdout",
     "output_type": "stream",
     "text": [
      "{'kd_loss': 10.900253295898438, 'feature_loss': 0.35242581367492676, 'ce_loss': 7.667585849761963, 'cont_loss': 1.710298776626587, 'teacher_loss': 8.087594985961914, 'total_loss': 7.6686506271362305}\n"
     ]
    },
    {
     "name": "stderr",
     "output_type": "stream",
     "text": [
      "Validating:  17%|█▋        | 39/235 [00:19<01:32,  2.12it/s, loss=7.8471, avg_loss=7.7251]"
     ]
    },
    {
     "name": "stdout",
     "output_type": "stream",
     "text": [
      "{'kd_loss': 11.18301773071289, 'feature_loss': 0.261150598526001, 'ce_loss': 7.922346591949463, 'cont_loss': 1.5275132656097412, 'teacher_loss': 8.095091819763184, 'total_loss': 7.847127437591553}\n"
     ]
    },
    {
     "name": "stderr",
     "output_type": "stream",
     "text": [
      "Validating:  17%|█▋        | 40/235 [00:20<01:32,  2.11it/s, loss=7.8866, avg_loss=7.7292]"
     ]
    },
    {
     "name": "stdout",
     "output_type": "stream",
     "text": [
      "{'kd_loss': 11.22392749786377, 'feature_loss': 0.20043253898620605, 'ce_loss': 7.959118843078613, 'cont_loss': 1.7329208850860596, 'teacher_loss': 8.101907730102539, 'total_loss': 7.886597156524658}\n"
     ]
    },
    {
     "name": "stderr",
     "output_type": "stream",
     "text": [
      "Validating:  17%|█▋        | 41/235 [00:20<01:31,  2.11it/s, loss=7.5265, avg_loss=7.7242]"
     ]
    },
    {
     "name": "stdout",
     "output_type": "stream",
     "text": [
      "{'kd_loss': 10.745858192443848, 'feature_loss': 0.27431613206863403, 'ce_loss': 7.528487682342529, 'cont_loss': 1.6185230016708374, 'teacher_loss': 8.087641716003418, 'total_loss': 7.526454448699951}\n"
     ]
    },
    {
     "name": "stderr",
     "output_type": "stream",
     "text": [
      "Validating:  18%|█▊        | 42/235 [00:21<01:31,  2.11it/s, loss=7.4368, avg_loss=7.7174]"
     ]
    },
    {
     "name": "stdout",
     "output_type": "stream",
     "text": [
      "{'kd_loss': 10.62938117980957, 'feature_loss': 0.28369516134262085, 'ce_loss': 7.423990726470947, 'cont_loss': 1.5873403549194336, 'teacher_loss': 8.087348937988281, 'total_loss': 7.436821460723877}\n"
     ]
    },
    {
     "name": "stderr",
     "output_type": "stream",
     "text": [
      "Validating:  18%|█▊        | 43/235 [00:21<01:30,  2.11it/s, loss=7.7385, avg_loss=7.7179]"
     ]
    },
    {
     "name": "stdout",
     "output_type": "stream",
     "text": [
      "{'kd_loss': 11.0172119140625, 'feature_loss': 0.3631148338317871, 'ce_loss': 7.773089408874512, 'cont_loss': 1.497673749923706, 'teacher_loss': 8.081727981567383, 'total_loss': 7.738510608673096}\n"
     ]
    },
    {
     "name": "stderr",
     "output_type": "stream",
     "text": [
      "Validating:  19%|█▊        | 44/235 [00:22<01:30,  2.11it/s, loss=8.1796, avg_loss=7.7284]"
     ]
    },
    {
     "name": "stdout",
     "output_type": "stream",
     "text": [
      "{'kd_loss': 11.60008430480957, 'feature_loss': 0.24985045194625854, 'ce_loss': 8.297276496887207, 'cont_loss': 1.7063992023468018, 'teacher_loss': 8.082084655761719, 'total_loss': 8.17955493927002}\n"
     ]
    },
    {
     "name": "stderr",
     "output_type": "stream",
     "text": [
      "Validating:  19%|█▉        | 45/235 [00:22<01:30,  2.11it/s, loss=7.8739, avg_loss=7.7316]"
     ]
    },
    {
     "name": "stdout",
     "output_type": "stream",
     "text": [
      "{'kd_loss': 11.199263572692871, 'feature_loss': 0.2980082631111145, 'ce_loss': 7.93654727935791, 'cont_loss': 1.5997734069824219, 'teacher_loss': 8.10142707824707, 'total_loss': 7.873903751373291}\n"
     ]
    },
    {
     "name": "stderr",
     "output_type": "stream",
     "text": [
      "Validating:  20%|█▉        | 46/235 [00:23<01:29,  2.10it/s, loss=8.0580, avg_loss=7.7387]"
     ]
    },
    {
     "name": "stdout",
     "output_type": "stream",
     "text": [
      "{'kd_loss': 11.424506187438965, 'feature_loss': 0.34979236125946045, 'ce_loss': 8.139274597167969, 'cont_loss': 1.6252257823944092, 'teacher_loss': 8.106719970703125, 'total_loss': 8.05799388885498}\n"
     ]
    },
    {
     "name": "stderr",
     "output_type": "stream",
     "text": [
      "Validating:  20%|██        | 47/235 [00:23<01:29,  2.11it/s, loss=7.7544, avg_loss=7.7390]"
     ]
    },
    {
     "name": "stdout",
     "output_type": "stream",
     "text": [
      "{'kd_loss': 11.033804893493652, 'feature_loss': 0.2546534538269043, 'ce_loss': 7.787911891937256, 'cont_loss': 1.747708797454834, 'teacher_loss': 8.099403381347656, 'total_loss': 7.754388332366943}\n"
     ]
    },
    {
     "name": "stderr",
     "output_type": "stream",
     "text": [
      "Validating:  20%|██        | 48/235 [00:24<01:28,  2.11it/s, loss=7.5646, avg_loss=7.7354]"
     ]
    },
    {
     "name": "stdout",
     "output_type": "stream",
     "text": [
      "{'kd_loss': 10.773473739624023, 'feature_loss': 0.3662755489349365, 'ce_loss': 7.552767276763916, 'cont_loss': 1.6082980632781982, 'teacher_loss': 8.097013473510742, 'total_loss': 7.564581394195557}\n"
     ]
    },
    {
     "name": "stderr",
     "output_type": "stream",
     "text": [
      "Validating:  21%|██        | 49/235 [00:24<01:28,  2.11it/s, loss=7.5942, avg_loss=7.7325]"
     ]
    },
    {
     "name": "stdout",
     "output_type": "stream",
     "text": [
      "{'kd_loss': 10.822015762329102, 'feature_loss': 0.2978072762489319, 'ce_loss': 7.59655237197876, 'cont_loss': 1.671877384185791, 'teacher_loss': 8.097867012023926, 'total_loss': 7.594176292419434}\n"
     ]
    },
    {
     "name": "stderr",
     "output_type": "stream",
     "text": [
      "Validating:  21%|██▏       | 50/235 [00:25<01:27,  2.11it/s, loss=7.6185, avg_loss=7.7302]"
     ]
    },
    {
     "name": "stdout",
     "output_type": "stream",
     "text": [
      "{'kd_loss': 10.851200103759766, 'feature_loss': 0.31305837631225586, 'ce_loss': 7.622939109802246, 'cont_loss': 1.6619553565979004, 'teacher_loss': 8.077604293823242, 'total_loss': 7.618463039398193}\n"
     ]
    },
    {
     "name": "stderr",
     "output_type": "stream",
     "text": [
      "Validating:  22%|██▏       | 51/235 [00:25<01:27,  2.11it/s, loss=7.4724, avg_loss=7.7252]"
     ]
    },
    {
     "name": "stdout",
     "output_type": "stream",
     "text": [
      "{'kd_loss': 10.6507568359375, 'feature_loss': 0.3039281368255615, 'ce_loss': 7.443508148193359, 'cont_loss': 1.739443302154541, 'teacher_loss': 8.080124855041504, 'total_loss': 7.472436904907227}\n"
     ]
    },
    {
     "name": "stderr",
     "output_type": "stream",
     "text": [
      "Validating:  22%|██▏       | 52/235 [00:26<01:26,  2.12it/s, loss=7.8062, avg_loss=7.7267]"
     ]
    },
    {
     "name": "stdout",
     "output_type": "stream",
     "text": [
      "{'kd_loss': 11.103659629821777, 'feature_loss': 0.2761663794517517, 'ce_loss': 7.8508148193359375, 'cont_loss': 1.692003607749939, 'teacher_loss': 8.096580505371094, 'total_loss': 7.8062238693237305}\n"
     ]
    },
    {
     "name": "stderr",
     "output_type": "stream",
     "text": [
      "Validating:  23%|██▎       | 53/235 [00:26<01:26,  2.11it/s, loss=7.7620, avg_loss=7.7274]"
     ]
    },
    {
     "name": "stdout",
     "output_type": "stream",
     "text": [
      "{'kd_loss': 11.024215698242188, 'feature_loss': 0.31120479106903076, 'ce_loss': 7.778645038604736, 'cont_loss': 1.7858946323394775, 'teacher_loss': 8.09701156616211, 'total_loss': 7.761974811553955}\n"
     ]
    },
    {
     "name": "stderr",
     "output_type": "stream",
     "text": [
      "Validating:  23%|██▎       | 54/235 [00:27<01:25,  2.12it/s, loss=7.8671, avg_loss=7.7300]"
     ]
    },
    {
     "name": "stdout",
     "output_type": "stream",
     "text": [
      "{'kd_loss': 11.1484375, 'feature_loss': 0.39904099702835083, 'ce_loss': 7.89042854309082, 'cont_loss': 1.7175920009613037, 'teacher_loss': 8.086821556091309, 'total_loss': 7.8671135902404785}\n"
     ]
    },
    {
     "name": "stderr",
     "output_type": "stream",
     "text": [
      "Validating:  23%|██▎       | 55/235 [00:27<01:25,  2.12it/s, loss=7.5109, avg_loss=7.7260]"
     ]
    },
    {
     "name": "stdout",
     "output_type": "stream",
     "text": [
      "{'kd_loss': 10.69533920288086, 'feature_loss': 0.34600967168807983, 'ce_loss': 7.482705593109131, 'cont_loss': 1.7046631574630737, 'teacher_loss': 8.098591804504395, 'total_loss': 7.510886192321777}\n"
     ]
    },
    {
     "name": "stderr",
     "output_type": "stream",
     "text": [
      "Validating:  24%|██▍       | 56/235 [00:27<01:24,  2.11it/s, loss=8.0052, avg_loss=7.7310]"
     ]
    },
    {
     "name": "stdout",
     "output_type": "stream",
     "text": [
      "{'kd_loss': 11.332515716552734, 'feature_loss': 0.341583251953125, 'ce_loss': 8.05620288848877, 'cont_loss': 1.8136218786239624, 'teacher_loss': 8.09554672241211, 'total_loss': 8.005166053771973}\n"
     ]
    },
    {
     "name": "stderr",
     "output_type": "stream",
     "text": [
      "Validating:  24%|██▍       | 57/235 [00:28<01:24,  2.11it/s, loss=7.7074, avg_loss=7.7306]"
     ]
    },
    {
     "name": "stdout",
     "output_type": "stream",
     "text": [
      "{'kd_loss': 10.951095581054688, 'feature_loss': 0.30666154623031616, 'ce_loss': 7.7132415771484375, 'cont_loss': 1.803148865699768, 'teacher_loss': 8.09752082824707, 'total_loss': 7.7073822021484375}\n"
     ]
    },
    {
     "name": "stderr",
     "output_type": "stream",
     "text": [
      "Validating:  25%|██▍       | 58/235 [00:28<01:23,  2.11it/s, loss=7.7696, avg_loss=7.7312]"
     ]
    },
    {
     "name": "stdout",
     "output_type": "stream",
     "text": [
      "{'kd_loss': 11.03460693359375, 'feature_loss': 0.2845032811164856, 'ce_loss': 7.788268089294434, 'cont_loss': 1.8350603580474854, 'teacher_loss': 8.098487854003906, 'total_loss': 7.769556522369385}\n"
     ]
    },
    {
     "name": "stderr",
     "output_type": "stream",
     "text": [
      "Validating:  25%|██▌       | 59/235 [00:29<01:23,  2.11it/s, loss=7.9816, avg_loss=7.7355]"
     ]
    },
    {
     "name": "stdout",
     "output_type": "stream",
     "text": [
      "{'kd_loss': 11.314301490783691, 'feature_loss': 0.28236401081085205, 'ce_loss': 8.040163040161133, 'cont_loss': 1.8335905075073242, 'teacher_loss': 8.0855712890625, 'total_loss': 7.9816179275512695}\n"
     ]
    },
    {
     "name": "stderr",
     "output_type": "stream",
     "text": [
      "Validating:  26%|██▌       | 60/235 [00:29<01:22,  2.11it/s, loss=8.1388, avg_loss=7.7422]"
     ]
    },
    {
     "name": "stdout",
     "output_type": "stream",
     "text": [
      "{'kd_loss': 11.504958152770996, 'feature_loss': 0.34209805727005005, 'ce_loss': 8.211431503295898, 'cont_loss': 1.8378400802612305, 'teacher_loss': 8.069568634033203, 'total_loss': 8.13875961303711}\n"
     ]
    },
    {
     "name": "stderr",
     "output_type": "stream",
     "text": [
      "Validating:  26%|██▌       | 61/235 [00:30<01:22,  2.11it/s, loss=7.6690, avg_loss=7.7410]"
     ]
    },
    {
     "name": "stdout",
     "output_type": "stream",
     "text": [
      "{'kd_loss': 10.897531509399414, 'feature_loss': 0.28651291131973267, 'ce_loss': 7.6649603843688965, 'cont_loss': 1.8665237426757812, 'teacher_loss': 8.078986167907715, 'total_loss': 7.668951511383057}\n"
     ]
    },
    {
     "name": "stderr",
     "output_type": "stream",
     "text": [
      "Validating:  26%|██▋       | 62/235 [00:30<01:21,  2.12it/s, loss=7.8700, avg_loss=7.7431]"
     ]
    },
    {
     "name": "stdout",
     "output_type": "stream",
     "text": [
      "{'kd_loss': 11.172816276550293, 'feature_loss': 0.24219506978988647, 'ce_loss': 7.912663459777832, 'cont_loss': 1.8735920190811157, 'teacher_loss': 8.09200382232666, 'total_loss': 7.869990825653076}\n"
     ]
    },
    {
     "name": "stderr",
     "output_type": "stream",
     "text": [
      "Validating:  27%|██▋       | 63/235 [00:31<01:21,  2.11it/s, loss=8.0421, avg_loss=7.7478]"
     ]
    },
    {
     "name": "stdout",
     "output_type": "stream",
     "text": [
      "{'kd_loss': 11.368368148803711, 'feature_loss': 0.2963377833366394, 'ce_loss': 8.089284896850586, 'cont_loss': 1.9972108602523804, 'teacher_loss': 8.087090492248535, 'total_loss': 8.0420503616333}\n"
     ]
    },
    {
     "name": "stderr",
     "output_type": "stream",
     "text": [
      "Validating:  27%|██▋       | 64/235 [00:31<01:20,  2.12it/s, loss=8.0127, avg_loss=7.7520]"
     ]
    },
    {
     "name": "stdout",
     "output_type": "stream",
     "text": [
      "{'kd_loss': 11.339279174804688, 'feature_loss': 0.3246121406555176, 'ce_loss': 8.062765121459961, 'cont_loss': 1.869339942932129, 'teacher_loss': 8.079778671264648, 'total_loss': 8.012674331665039}\n"
     ]
    },
    {
     "name": "stderr",
     "output_type": "stream",
     "text": [
      "Validating:  28%|██▊       | 65/235 [00:32<01:20,  2.12it/s, loss=7.9955, avg_loss=7.7557]"
     ]
    },
    {
     "name": "stdout",
     "output_type": "stream",
     "text": [
      "{'kd_loss': 11.31679916381836, 'feature_loss': 0.2928886413574219, 'ce_loss': 8.042557716369629, 'cont_loss': 1.9315428733825684, 'teacher_loss': 8.079107284545898, 'total_loss': 7.995474815368652}\n"
     ]
    },
    {
     "name": "stderr",
     "output_type": "stream",
     "text": [
      "Validating:  28%|██▊       | 66/235 [00:32<01:20,  2.11it/s, loss=7.8525, avg_loss=7.7572]"
     ]
    },
    {
     "name": "stdout",
     "output_type": "stream",
     "text": [
      "{'kd_loss': 11.15235424041748, 'feature_loss': 0.24346446990966797, 'ce_loss': 7.894570827484131, 'cont_loss': 1.8498862981796265, 'teacher_loss': 8.083585739135742, 'total_loss': 7.852451324462891}\n"
     ]
    },
    {
     "name": "stderr",
     "output_type": "stream",
     "text": [
      "Validating:  29%|██▊       | 67/235 [00:33<01:19,  2.11it/s, loss=7.9076, avg_loss=7.7594]"
     ]
    },
    {
     "name": "stdout",
     "output_type": "stream",
     "text": [
      "{'kd_loss': 11.206925392150879, 'feature_loss': 0.306665301322937, 'ce_loss': 7.942988872528076, 'cont_loss': 1.8632962703704834, 'teacher_loss': 8.094482421875, 'total_loss': 7.907629013061523}\n"
     ]
    },
    {
     "name": "stderr",
     "output_type": "stream",
     "text": [
      "Validating:  29%|██▉       | 68/235 [00:33<01:19,  2.11it/s, loss=8.1586, avg_loss=7.7653]"
     ]
    },
    {
     "name": "stdout",
     "output_type": "stream",
     "text": [
      "{'kd_loss': 11.511539459228516, 'feature_loss': 0.29979032278060913, 'ce_loss': 8.217351913452148, 'cont_loss': 2.0712990760803223, 'teacher_loss': 8.081695556640625, 'total_loss': 8.15864372253418}\n"
     ]
    },
    {
     "name": "stderr",
     "output_type": "stream",
     "text": [
      "Validating:  29%|██▉       | 69/235 [00:34<01:18,  2.12it/s, loss=8.0226, avg_loss=7.7690]"
     ]
    },
    {
     "name": "stdout",
     "output_type": "stream",
     "text": [
      "{'kd_loss': 11.36001968383789, 'feature_loss': 0.2952498197555542, 'ce_loss': 8.081510543823242, 'cont_loss': 1.869543194770813, 'teacher_loss': 8.092090606689453, 'total_loss': 8.022616386413574}\n"
     ]
    },
    {
     "name": "stderr",
     "output_type": "stream",
     "text": [
      "Validating:  30%|██▉       | 70/235 [00:34<01:18,  2.11it/s, loss=7.8450, avg_loss=7.7701]"
     ]
    },
    {
     "name": "stdout",
     "output_type": "stream",
     "text": [
      "{'kd_loss': 11.12816047668457, 'feature_loss': 0.28431159257888794, 'ce_loss': 7.872884750366211, 'cont_loss': 1.8769123554229736, 'teacher_loss': 8.096095085144043, 'total_loss': 7.844972133636475}\n"
     ]
    },
    {
     "name": "stderr",
     "output_type": "stream",
     "text": [
      "Validating:  30%|███       | 71/235 [00:35<01:17,  2.12it/s, loss=7.8303, avg_loss=7.7710]"
     ]
    },
    {
     "name": "stdout",
     "output_type": "stream",
     "text": [
      "{'kd_loss': 11.090009689331055, 'feature_loss': 0.3122726082801819, 'ce_loss': 7.838353157043457, 'cont_loss': 1.9645886421203613, 'teacher_loss': 8.093711853027344, 'total_loss': 7.830259323120117}\n"
     ]
    },
    {
     "name": "stderr",
     "output_type": "stream",
     "text": [
      "Validating:  31%|███       | 72/235 [00:35<01:16,  2.12it/s, loss=7.7494, avg_loss=7.7707]"
     ]
    },
    {
     "name": "stdout",
     "output_type": "stream",
     "text": [
      "{'kd_loss': 10.980852127075195, 'feature_loss': 0.31432628631591797, 'ce_loss': 7.7401299476623535, 'cont_loss': 1.9810457229614258, 'teacher_loss': 8.08137035369873, 'total_loss': 7.749362468719482}\n"
     ]
    },
    {
     "name": "stderr",
     "output_type": "stream",
     "text": [
      "Validating:  31%|███       | 73/235 [00:36<01:16,  2.12it/s, loss=7.6985, avg_loss=7.7697]"
     ]
    },
    {
     "name": "stdout",
     "output_type": "stream",
     "text": [
      "{'kd_loss': 10.928977966308594, 'feature_loss': 0.2831786870956421, 'ce_loss': 7.693098068237305, 'cont_loss': 1.9303969144821167, 'teacher_loss': 8.082468032836914, 'total_loss': 7.6985063552856445}\n"
     ]
    },
    {
     "name": "stderr",
     "output_type": "stream",
     "text": [
      "Validating:  31%|███▏      | 74/235 [00:36<01:15,  2.12it/s, loss=7.9385, avg_loss=7.7720]"
     ]
    },
    {
     "name": "stdout",
     "output_type": "stream",
     "text": [
      "{'kd_loss': 11.239541053771973, 'feature_loss': 0.2670978903770447, 'ce_loss': 7.972827911376953, 'cont_loss': 2.001248359680176, 'teacher_loss': 8.086579322814941, 'total_loss': 7.938492298126221}\n"
     ]
    },
    {
     "name": "stderr",
     "output_type": "stream",
     "text": [
      "Validating:  32%|███▏      | 75/235 [00:36<01:15,  2.11it/s, loss=7.7995, avg_loss=7.7723]"
     ]
    },
    {
     "name": "stdout",
     "output_type": "stream",
     "text": [
      "{'kd_loss': 11.05341625213623, 'feature_loss': 0.2758195400238037, 'ce_loss': 7.805516242980957, 'cont_loss': 2.0074386596679688, 'teacher_loss': 8.082136154174805, 'total_loss': 7.799480438232422}\n"
     ]
    },
    {
     "name": "stderr",
     "output_type": "stream",
     "text": [
      "Validating:  32%|███▏      | 76/235 [00:37<01:15,  2.12it/s, loss=7.8479, avg_loss=7.7733]"
     ]
    },
    {
     "name": "stdout",
     "output_type": "stream",
     "text": [
      "{'kd_loss': 11.108695983886719, 'feature_loss': 0.31230634450912476, 'ce_loss': 7.855108261108398, 'cont_loss': 1.9993760585784912, 'teacher_loss': 8.09145736694336, 'total_loss': 7.847921371459961}\n"
     ]
    },
    {
     "name": "stderr",
     "output_type": "stream",
     "text": [
      "Validating:  33%|███▎      | 77/235 [00:37<01:14,  2.12it/s, loss=7.9841, avg_loss=7.7761]"
     ]
    },
    {
     "name": "stdout",
     "output_type": "stream",
     "text": [
      "{'kd_loss': 11.284433364868164, 'feature_loss': 0.2937582731246948, 'ce_loss': 8.013350486755371, 'cont_loss': 2.062033176422119, 'teacher_loss': 8.081547737121582, 'total_loss': 7.984068870544434}\n"
     ]
    },
    {
     "name": "stderr",
     "output_type": "stream",
     "text": [
      "Validating:  33%|███▎      | 78/235 [00:38<01:14,  2.11it/s, loss=7.8066, avg_loss=7.7764]"
     ]
    },
    {
     "name": "stdout",
     "output_type": "stream",
     "text": [
      "{'kd_loss': 11.04689884185791, 'feature_loss': 0.33495503664016724, 'ce_loss': 7.799676895141602, 'cont_loss': 2.0099291801452637, 'teacher_loss': 8.094980239868164, 'total_loss': 7.806614398956299}\n"
     ]
    },
    {
     "name": "stderr",
     "output_type": "stream",
     "text": [
      "Validating:  34%|███▎      | 79/235 [00:38<01:14,  2.11it/s, loss=7.9976, avg_loss=7.7792]"
     ]
    },
    {
     "name": "stdout",
     "output_type": "stream",
     "text": [
      "{'kd_loss': 11.293017387390137, 'feature_loss': 0.2775365114212036, 'ce_loss': 8.020936012268066, 'cont_loss': 2.164665460586548, 'teacher_loss': 8.088944435119629, 'total_loss': 7.997555255889893}\n"
     ]
    },
    {
     "name": "stderr",
     "output_type": "stream",
     "text": [
      "Validating:  34%|███▍      | 80/235 [00:39<01:13,  2.10it/s, loss=7.8937, avg_loss=7.7807]"
     ]
    },
    {
     "name": "stdout",
     "output_type": "stream",
     "text": [
      "{'kd_loss': 11.159676551818848, 'feature_loss': 0.3000364303588867, 'ce_loss': 7.901055335998535, 'cont_loss': 2.0939228534698486, 'teacher_loss': 8.083574295043945, 'total_loss': 7.893691539764404}\n"
     ]
    },
    {
     "name": "stderr",
     "output_type": "stream",
     "text": [
      "Validating:  34%|███▍      | 81/235 [00:39<01:13,  2.10it/s, loss=7.7386, avg_loss=7.7802]"
     ]
    },
    {
     "name": "stdout",
     "output_type": "stream",
     "text": [
      "{'kd_loss': 10.951509475708008, 'feature_loss': 0.32353633642196655, 'ce_loss': 7.714224815368652, 'cont_loss': 2.0756654739379883, 'teacher_loss': 8.086771965026855, 'total_loss': 7.73856782913208}\n"
     ]
    },
    {
     "name": "stderr",
     "output_type": "stream",
     "text": [
      "Validating:  35%|███▍      | 82/235 [00:40<01:12,  2.10it/s, loss=7.9125, avg_loss=7.7818]"
     ]
    },
    {
     "name": "stdout",
     "output_type": "stream",
     "text": [
      "{'kd_loss': 11.183309555053711, 'feature_loss': 0.30391061305999756, 'ce_loss': 7.922415256500244, 'cont_loss': 2.0945568084716797, 'teacher_loss': 8.090815544128418, 'total_loss': 7.912527084350586}\n"
     ]
    },
    {
     "name": "stderr",
     "output_type": "stream",
     "text": [
      "Validating:  35%|███▌      | 83/235 [00:40<01:12,  2.10it/s, loss=7.8867, avg_loss=7.7830]"
     ]
    },
    {
     "name": "stdout",
     "output_type": "stream",
     "text": [
      "{'kd_loss': 11.150802612304688, 'feature_loss': 0.2950100302696228, 'ce_loss': 7.892739295959473, 'cont_loss': 2.1031980514526367, 'teacher_loss': 8.09246826171875, 'total_loss': 7.886738300323486}\n"
     ]
    },
    {
     "name": "stderr",
     "output_type": "stream",
     "text": [
      "Validating:  36%|███▌      | 84/235 [00:41<01:11,  2.10it/s, loss=7.8624, avg_loss=7.7840]"
     ]
    },
    {
     "name": "stdout",
     "output_type": "stream",
     "text": [
      "{'kd_loss': 11.125007629394531, 'feature_loss': 0.2791093587875366, 'ce_loss': 7.8701629638671875, 'cont_loss': 2.084763765335083, 'teacher_loss': 8.097318649291992, 'total_loss': 7.862367153167725}\n"
     ]
    },
    {
     "name": "stderr",
     "output_type": "stream",
     "text": [
      "Validating:  36%|███▌      | 85/235 [00:41<01:11,  2.10it/s, loss=7.9192, avg_loss=7.7856]"
     ]
    },
    {
     "name": "stdout",
     "output_type": "stream",
     "text": [
      "{'kd_loss': 11.173136711120605, 'feature_loss': 0.36601245403289795, 'ce_loss': 7.913106918334961, 'cont_loss': 2.114565849304199, 'teacher_loss': 8.086015701293945, 'total_loss': 7.9191575050354}\n"
     ]
    },
    {
     "name": "stderr",
     "output_type": "stream",
     "text": [
      "Validating:  37%|███▋      | 86/235 [00:42<01:10,  2.11it/s, loss=7.9617, avg_loss=7.7876]"
     ]
    },
    {
     "name": "stdout",
     "output_type": "stream",
     "text": [
      "{'kd_loss': 11.22317886352539, 'feature_loss': 0.31441766023635864, 'ce_loss': 7.957746982574463, 'cont_loss': 2.2640933990478516, 'teacher_loss': 8.085307121276855, 'total_loss': 7.961663246154785}\n"
     ]
    },
    {
     "name": "stderr",
     "output_type": "stream",
     "text": [
      "Validating:  37%|███▋      | 87/235 [00:42<01:10,  2.10it/s, loss=8.0995, avg_loss=7.7912]"
     ]
    },
    {
     "name": "stdout",
     "output_type": "stream",
     "text": [
      "{'kd_loss': 11.403670310974121, 'feature_loss': 0.3854823708534241, 'ce_loss': 8.12056827545166, 'cont_loss': 2.127261161804199, 'teacher_loss': 8.08403491973877, 'total_loss': 8.099517822265625}\n"
     ]
    },
    {
     "name": "stderr",
     "output_type": "stream",
     "text": [
      "Validating:  37%|███▋      | 88/235 [00:43<01:09,  2.11it/s, loss=8.0072, avg_loss=7.7937]"
     ]
    },
    {
     "name": "stdout",
     "output_type": "stream",
     "text": [
      "{'kd_loss': 11.297672271728516, 'feature_loss': 0.3138222098350525, 'ce_loss': 8.025254249572754, 'cont_loss': 2.152761936187744, 'teacher_loss': 8.092879295349121, 'total_loss': 8.007211685180664}\n"
     ]
    },
    {
     "name": "stderr",
     "output_type": "stream",
     "text": [
      "Validating:  38%|███▊      | 89/235 [00:43<01:09,  2.11it/s, loss=8.0102, avg_loss=7.7961]"
     ]
    },
    {
     "name": "stdout",
     "output_type": "stream",
     "text": [
      "{'kd_loss': 11.29952621459961, 'feature_loss': 0.30039405822753906, 'ce_loss': 8.026780128479004, 'cont_loss': 2.1954948902130127, 'teacher_loss': 8.089781761169434, 'total_loss': 8.010150909423828}\n"
     ]
    },
    {
     "name": "stderr",
     "output_type": "stream",
     "text": [
      "Validating:  38%|███▊      | 90/235 [00:44<01:08,  2.11it/s, loss=8.1550, avg_loss=7.8001]"
     ]
    },
    {
     "name": "stdout",
     "output_type": "stream",
     "text": [
      "{'kd_loss': 11.489535331726074, 'feature_loss': 0.32179731130599976, 'ce_loss': 8.19791316986084, 'cont_loss': 2.1570916175842285, 'teacher_loss': 8.09154224395752, 'total_loss': 8.155048370361328}\n"
     ]
    },
    {
     "name": "stderr",
     "output_type": "stream",
     "text": [
      "Validating:  39%|███▊      | 91/235 [00:44<01:08,  2.10it/s, loss=8.1172, avg_loss=7.8036]"
     ]
    },
    {
     "name": "stdout",
     "output_type": "stream",
     "text": [
      "{'kd_loss': 11.42717170715332, 'feature_loss': 0.2830079197883606, 'ce_loss': 8.142003059387207, 'cont_loss': 2.3288590908050537, 'teacher_loss': 8.076876640319824, 'total_loss': 8.117157936096191}\n"
     ]
    },
    {
     "name": "stderr",
     "output_type": "stream",
     "text": [
      "Validating:  39%|███▉      | 92/235 [00:45<01:07,  2.11it/s, loss=8.0473, avg_loss=7.8062]"
     ]
    },
    {
     "name": "stdout",
     "output_type": "stream",
     "text": [
      "{'kd_loss': 11.358274459838867, 'feature_loss': 0.26119232177734375, 'ce_loss': 8.079217910766602, 'cont_loss': 2.2009596824645996, 'teacher_loss': 8.08188247680664, 'total_loss': 8.047330856323242}\n"
     ]
    },
    {
     "name": "stderr",
     "output_type": "stream",
     "text": [
      "Validating:  40%|███▉      | 93/235 [00:45<01:07,  2.11it/s, loss=8.0107, avg_loss=7.8084]"
     ]
    },
    {
     "name": "stdout",
     "output_type": "stream",
     "text": [
      "{'kd_loss': 11.30390453338623, 'feature_loss': 0.3004111051559448, 'ce_loss': 8.029894828796387, 'cont_loss': 2.1706714630126953, 'teacher_loss': 8.083044052124023, 'total_loss': 8.010669708251953}\n"
     ]
    },
    {
     "name": "stderr",
     "output_type": "stream",
     "text": [
      "Validating:  40%|████      | 94/235 [00:45<01:06,  2.11it/s, loss=7.9732, avg_loss=7.8102]"
     ]
    },
    {
     "name": "stdout",
     "output_type": "stream",
     "text": [
      "{'kd_loss': 11.237689971923828, 'feature_loss': 0.274138867855072, 'ce_loss': 7.971020221710205, 'cont_loss': 2.3487753868103027, 'teacher_loss': 8.087631225585938, 'total_loss': 7.973189353942871}\n"
     ]
    },
    {
     "name": "stderr",
     "output_type": "stream",
     "text": [
      "Validating:  40%|████      | 95/235 [00:46<01:06,  2.11it/s, loss=7.8838, avg_loss=7.8109]"
     ]
    },
    {
     "name": "stdout",
     "output_type": "stream",
     "text": [
      "{'kd_loss': 11.118156433105469, 'feature_loss': 0.33753007650375366, 'ce_loss': 7.863574981689453, 'cont_loss': 2.2363905906677246, 'teacher_loss': 8.080314636230469, 'total_loss': 7.883837699890137}\n"
     ]
    },
    {
     "name": "stderr",
     "output_type": "stream",
     "text": [
      "Validating:  41%|████      | 96/235 [00:46<01:05,  2.11it/s, loss=7.9572, avg_loss=7.8125]"
     ]
    },
    {
     "name": "stdout",
     "output_type": "stream",
     "text": [
      "{'kd_loss': 11.225906372070312, 'feature_loss': 0.29663658142089844, 'ce_loss': 7.960024356842041, 'cont_loss': 2.2351222038269043, 'teacher_loss': 8.077749252319336, 'total_loss': 7.957211971282959}\n"
     ]
    },
    {
     "name": "stderr",
     "output_type": "stream",
     "text": [
      "Validating:  41%|████▏     | 97/235 [00:47<01:05,  2.11it/s, loss=8.0787, avg_loss=7.8152]"
     ]
    },
    {
     "name": "stdout",
     "output_type": "stream",
     "text": [
      "{'kd_loss': 11.383766174316406, 'feature_loss': 0.3008795976638794, 'ce_loss': 8.102893829345703, 'cont_loss': 2.238787889480591, 'teacher_loss': 8.07740306854248, 'total_loss': 8.078718185424805}\n"
     ]
    },
    {
     "name": "stderr",
     "output_type": "stream",
     "text": [
      "Validating:  42%|████▏     | 98/235 [00:47<01:04,  2.11it/s, loss=8.0619, avg_loss=7.8177]"
     ]
    },
    {
     "name": "stdout",
     "output_type": "stream",
     "text": [
      "{'kd_loss': 11.330429077148438, 'feature_loss': 0.33531439304351807, 'ce_loss': 8.053932189941406, 'cont_loss': 2.4104437828063965, 'teacher_loss': 8.09732723236084, 'total_loss': 8.061851501464844}\n"
     ]
    },
    {
     "name": "stderr",
     "output_type": "stream",
     "text": [
      "Validating:  42%|████▏     | 99/235 [00:48<01:04,  2.11it/s, loss=8.0413, avg_loss=7.8200]"
     ]
    },
    {
     "name": "stdout",
     "output_type": "stream",
     "text": [
      "{'kd_loss': 11.323745727539062, 'feature_loss': 0.29921019077301025, 'ce_loss': 8.048304557800293, 'cont_loss': 2.3260602951049805, 'teacher_loss': 8.083882331848145, 'total_loss': 8.041268348693848}\n"
     ]
    },
    {
     "name": "stderr",
     "output_type": "stream",
     "text": [
      "Validating:  43%|████▎     | 100/235 [00:48<01:04,  2.11it/s, loss=8.0957, avg_loss=7.8227]"
     ]
    },
    {
     "name": "stdout",
     "output_type": "stream",
     "text": [
      "{'kd_loss': 11.405261993408203, 'feature_loss': 0.2592151165008545, 'ce_loss': 8.122057914733887, 'cont_loss': 2.3295106887817383, 'teacher_loss': 8.083555221557617, 'total_loss': 8.095722198486328}\n"
     ]
    },
    {
     "name": "stderr",
     "output_type": "stream",
     "text": [
      "Validating:  43%|████▎     | 101/235 [00:49<01:03,  2.11it/s, loss=8.1072, avg_loss=7.8256]"
     ]
    },
    {
     "name": "stdout",
     "output_type": "stream",
     "text": [
      "{'kd_loss': 11.41372013092041, 'feature_loss': 0.2848910689353943, 'ce_loss': 8.129934310913086, 'cont_loss': 2.3280348777770996, 'teacher_loss': 8.089632987976074, 'total_loss': 8.107243537902832}\n"
     ]
    },
    {
     "name": "stderr",
     "output_type": "stream",
     "text": [
      "Validating:  43%|████▎     | 102/235 [00:49<01:03,  2.11it/s, loss=8.1214, avg_loss=7.8285]"
     ]
    },
    {
     "name": "stdout",
     "output_type": "stream",
     "text": [
      "{'kd_loss': 11.43647289276123, 'feature_loss': 0.26844656467437744, 'ce_loss': 8.150195121765137, 'cont_loss': 2.3305881023406982, 'teacher_loss': 8.093032836914062, 'total_loss': 8.121416091918945}\n"
     ]
    },
    {
     "name": "stderr",
     "output_type": "stream",
     "text": [
      "Validating:  44%|████▍     | 103/235 [00:50<01:02,  2.11it/s, loss=7.9639, avg_loss=7.8298]"
     ]
    },
    {
     "name": "stdout",
     "output_type": "stream",
     "text": [
      "{'kd_loss': 11.203962326049805, 'feature_loss': 0.275840163230896, 'ce_loss': 7.9408721923828125, 'cont_loss': 2.507620334625244, 'teacher_loss': 8.091609001159668, 'total_loss': 7.963864326477051}\n"
     ]
    },
    {
     "name": "stderr",
     "output_type": "stream",
     "text": [
      "Validating:  44%|████▍     | 104/235 [00:50<01:02,  2.11it/s, loss=8.0262, avg_loss=7.8317]"
     ]
    },
    {
     "name": "stdout",
     "output_type": "stream",
     "text": [
      "{'kd_loss': 11.30957317352295, 'feature_loss': 0.2645289897918701, 'ce_loss': 8.035615921020508, 'cont_loss': 2.3523316383361816, 'teacher_loss': 8.092133522033691, 'total_loss': 8.026215553283691}\n"
     ]
    },
    {
     "name": "stderr",
     "output_type": "stream",
     "text": [
      "Validating:  45%|████▍     | 105/235 [00:51<01:01,  2.10it/s, loss=8.0234, avg_loss=7.8335]"
     ]
    },
    {
     "name": "stdout",
     "output_type": "stream",
     "text": [
      "{'kd_loss': 11.299439430236816, 'feature_loss': 0.27678942680358887, 'ce_loss': 8.027209281921387, 'cont_loss': 2.3735599517822266, 'teacher_loss': 8.091394424438477, 'total_loss': 8.0233736038208}\n"
     ]
    },
    {
     "name": "stderr",
     "output_type": "stream",
     "text": [
      "Validating:  45%|████▌     | 106/235 [00:51<01:01,  2.10it/s, loss=8.1241, avg_loss=7.8362]"
     ]
    },
    {
     "name": "stdout",
     "output_type": "stream",
     "text": [
      "{'kd_loss': 11.396577835083008, 'feature_loss': 0.332112193107605, 'ce_loss': 8.113618850708008, 'cont_loss': 2.5357728004455566, 'teacher_loss': 8.082527160644531, 'total_loss': 8.124078750610352}\n"
     ]
    },
    {
     "name": "stderr",
     "output_type": "stream",
     "text": [
      "Validating:  46%|████▌     | 107/235 [00:52<01:00,  2.10it/s, loss=7.8806, avg_loss=7.8366]"
     ]
    },
    {
     "name": "stdout",
     "output_type": "stream",
     "text": [
      "{'kd_loss': 11.094881057739258, 'feature_loss': 0.3622540235519409, 'ce_loss': 7.842133522033691, 'cont_loss': 2.3332643508911133, 'teacher_loss': 8.087227821350098, 'total_loss': 7.8805832862854}\n"
     ]
    },
    {
     "name": "stderr",
     "output_type": "stream",
     "text": [
      "Validating:  46%|████▌     | 108/235 [00:52<01:00,  2.10it/s, loss=7.9494, avg_loss=7.8377]"
     ]
    },
    {
     "name": "stdout",
     "output_type": "stream",
     "text": [
      "{'kd_loss': 11.193488121032715, 'feature_loss': 0.32458341121673584, 'ce_loss': 7.931300640106201, 'cont_loss': 2.3461503982543945, 'teacher_loss': 8.07419490814209, 'total_loss': 7.949447154998779}\n"
     ]
    },
    {
     "name": "stderr",
     "output_type": "stream",
     "text": [
      "Validating:  46%|████▋     | 109/235 [00:53<00:59,  2.10it/s, loss=8.0531, avg_loss=7.8397]"
     ]
    },
    {
     "name": "stdout",
     "output_type": "stream",
     "text": [
      "{'kd_loss': 11.317462921142578, 'feature_loss': 0.2859452962875366, 'ce_loss': 8.042638778686523, 'cont_loss': 2.519134044647217, 'teacher_loss': 8.09432601928711, 'total_loss': 8.053142547607422}\n"
     ]
    },
    {
     "name": "stderr",
     "output_type": "stream",
     "text": [
      "Validating:  47%|████▋     | 110/235 [00:53<00:59,  2.10it/s, loss=8.1056, avg_loss=7.8421]"
     ]
    },
    {
     "name": "stdout",
     "output_type": "stream",
     "text": [
      "{'kd_loss': 11.38603401184082, 'feature_loss': 0.3305017948150635, 'ce_loss': 8.104793548583984, 'cont_loss': 2.4315037727355957, 'teacher_loss': 8.086297988891602, 'total_loss': 8.105582237243652}\n"
     ]
    },
    {
     "name": "stderr",
     "output_type": "stream",
     "text": [
      "Validating:  47%|████▋     | 111/235 [00:54<00:59,  2.10it/s, loss=8.0429, avg_loss=7.8439]"
     ]
    },
    {
     "name": "stdout",
     "output_type": "stream",
     "text": [
      "{'kd_loss': 11.311704635620117, 'feature_loss': 0.29644960165023804, 'ce_loss': 8.03770923614502, 'cont_loss': 2.4387168884277344, 'teacher_loss': 8.090667724609375, 'total_loss': 8.042927742004395}\n"
     ]
    },
    {
     "name": "stderr",
     "output_type": "stream",
     "text": [
      "Validating:  48%|████▊     | 112/235 [00:54<00:58,  2.10it/s, loss=7.9653, avg_loss=7.8450]"
     ]
    },
    {
     "name": "stdout",
     "output_type": "stream",
     "text": [
      "{'kd_loss': 11.198707580566406, 'feature_loss': 0.3496520519256592, 'ce_loss': 7.9361796379089355, 'cont_loss': 2.4141132831573486, 'teacher_loss': 8.09024715423584, 'total_loss': 7.965296745300293}\n"
     ]
    },
    {
     "name": "stderr",
     "output_type": "stream",
     "text": [
      "Validating:  48%|████▊     | 113/235 [00:55<00:58,  2.10it/s, loss=8.1755, avg_loss=7.8479]"
     ]
    },
    {
     "name": "stdout",
     "output_type": "stream",
     "text": [
      "{'kd_loss': 11.487812042236328, 'feature_loss': 0.3018221855163574, 'ce_loss': 8.19583797454834, 'cont_loss': 2.417188882827759, 'teacher_loss': 8.087010383605957, 'total_loss': 8.175543785095215}\n"
     ]
    },
    {
     "name": "stderr",
     "output_type": "stream",
     "text": [
      "Validating:  49%|████▊     | 114/235 [00:55<00:57,  2.11it/s, loss=8.1075, avg_loss=7.8502]"
     ]
    },
    {
     "name": "stdout",
     "output_type": "stream",
     "text": [
      "{'kd_loss': 11.368616104125977, 'feature_loss': 0.33025044202804565, 'ce_loss': 8.088619232177734, 'cont_loss': 2.5854201316833496, 'teacher_loss': 8.08623218536377, 'total_loss': 8.107486724853516}\n"
     ]
    },
    {
     "name": "stderr",
     "output_type": "stream",
     "text": [
      "Validating:  49%|████▉     | 115/235 [00:55<00:56,  2.11it/s, loss=7.9976, avg_loss=7.8515]"
     ]
    },
    {
     "name": "stdout",
     "output_type": "stream",
     "text": [
      "{'kd_loss': 11.245108604431152, 'feature_loss': 0.3227425813674927, 'ce_loss': 7.977883338928223, 'cont_loss': 2.4388017654418945, 'teacher_loss': 8.08287239074707, 'total_loss': 7.997625350952148}\n"
     ]
    },
    {
     "name": "stderr",
     "output_type": "stream",
     "text": [
      "Validating:  49%|████▉     | 116/235 [00:56<00:56,  2.11it/s, loss=8.0820, avg_loss=7.8534]"
     ]
    },
    {
     "name": "stdout",
     "output_type": "stream",
     "text": [
      "{'kd_loss': 11.368631362915039, 'feature_loss': 0.25787508487701416, 'ce_loss': 8.0888090133667, 'cont_loss': 2.4740121364593506, 'teacher_loss': 8.077325820922852, 'total_loss': 8.081952095031738}\n"
     ]
    },
    {
     "name": "stderr",
     "output_type": "stream",
     "text": [
      "Validating:  50%|████▉     | 117/235 [00:56<00:55,  2.11it/s, loss=8.0285, avg_loss=7.8549]"
     ]
    },
    {
     "name": "stdout",
     "output_type": "stream",
     "text": [
      "{'kd_loss': 11.269652366638184, 'feature_loss': 0.3406120538711548, 'ce_loss': 7.999557971954346, 'cont_loss': 2.527296781539917, 'teacher_loss': 8.087937355041504, 'total_loss': 8.028535842895508}\n"
     ]
    },
    {
     "name": "stderr",
     "output_type": "stream",
     "text": [
      "Validating:  50%|█████     | 118/235 [00:57<00:55,  2.11it/s, loss=7.9106, avg_loss=7.8554]"
     ]
    },
    {
     "name": "stdout",
     "output_type": "stream",
     "text": [
      "{'kd_loss': 11.126169204711914, 'feature_loss': 0.318261981010437, 'ce_loss': 7.870762825012207, 'cont_loss': 2.4820804595947266, 'teacher_loss': 8.091507911682129, 'total_loss': 7.910633087158203}\n"
     ]
    },
    {
     "name": "stderr",
     "output_type": "stream",
     "text": [
      "Validating:  51%|█████     | 119/235 [00:57<00:54,  2.11it/s, loss=8.1188, avg_loss=7.8576]"
     ]
    },
    {
     "name": "stdout",
     "output_type": "stream",
     "text": [
      "{'kd_loss': 11.404634475708008, 'feature_loss': 0.2850583791732788, 'ce_loss': 8.121251106262207, 'cont_loss': 2.514765977859497, 'teacher_loss': 8.07681655883789, 'total_loss': 8.118842124938965}\n"
     ]
    },
    {
     "name": "stderr",
     "output_type": "stream",
     "text": [
      "Validating:  51%|█████     | 120/235 [00:58<00:54,  2.11it/s, loss=7.9124, avg_loss=7.8581]"
     ]
    },
    {
     "name": "stdout",
     "output_type": "stream",
     "text": [
      "{'kd_loss': 11.111391067504883, 'feature_loss': 0.3550076484680176, 'ce_loss': 7.8579254150390625, 'cont_loss': 2.5364136695861816, 'teacher_loss': 8.082813262939453, 'total_loss': 7.912369728088379}\n"
     ]
    },
    {
     "name": "stderr",
     "output_type": "stream",
     "text": [
      "Validating:  51%|█████▏    | 121/235 [00:58<00:53,  2.11it/s, loss=8.2152, avg_loss=7.8610]"
     ]
    },
    {
     "name": "stdout",
     "output_type": "stream",
     "text": [
      "{'kd_loss': 11.52192497253418, 'feature_loss': 0.2977313995361328, 'ce_loss': 8.227227210998535, 'cont_loss': 2.559624671936035, 'teacher_loss': 8.079652786254883, 'total_loss': 8.215169906616211}\n"
     ]
    },
    {
     "name": "stderr",
     "output_type": "stream",
     "text": [
      "Validating:  52%|█████▏    | 122/235 [00:59<00:53,  2.11it/s, loss=7.9973, avg_loss=7.8622]"
     ]
    },
    {
     "name": "stdout",
     "output_type": "stream",
     "text": [
      "{'kd_loss': 11.233613967895508, 'feature_loss': 0.29936569929122925, 'ce_loss': 7.967461109161377, 'cont_loss': 2.569988965988159, 'teacher_loss': 8.081318855285645, 'total_loss': 7.997302532196045}\n"
     ]
    },
    {
     "name": "stderr",
     "output_type": "stream",
     "text": [
      "Validating:  52%|█████▏    | 123/235 [00:59<00:53,  2.11it/s, loss=8.1214, avg_loss=7.8643]"
     ]
    },
    {
     "name": "stdout",
     "output_type": "stream",
     "text": [
      "{'kd_loss': 11.386302947998047, 'feature_loss': 0.29289698600769043, 'ce_loss': 8.104390144348145, 'cont_loss': 2.665724039077759, 'teacher_loss': 8.098794937133789, 'total_loss': 8.121428489685059}\n"
     ]
    },
    {
     "name": "stderr",
     "output_type": "stream",
     "text": [
      "Validating:  53%|█████▎    | 124/235 [01:00<00:52,  2.11it/s, loss=8.0429, avg_loss=7.8657]"
     ]
    },
    {
     "name": "stdout",
     "output_type": "stream",
     "text": [
      "{'kd_loss': 11.300310134887695, 'feature_loss': 0.31306809186935425, 'ce_loss': 8.027691841125488, 'cont_loss': 2.4908368587493896, 'teacher_loss': 8.078761100769043, 'total_loss': 8.042898178100586}\n"
     ]
    },
    {
     "name": "stderr",
     "output_type": "stream",
     "text": [
      "Validating:  53%|█████▎    | 125/235 [01:00<00:52,  2.11it/s, loss=7.8938, avg_loss=7.8659]"
     ]
    },
    {
     "name": "stdout",
     "output_type": "stream",
     "text": [
      "{'kd_loss': 11.08520793914795, 'feature_loss': 0.29584288597106934, 'ce_loss': 7.834033012390137, 'cont_loss': 2.669572114944458, 'teacher_loss': 8.091777801513672, 'total_loss': 7.89382266998291}\n"
     ]
    },
    {
     "name": "stderr",
     "output_type": "stream",
     "text": [
      "Validating:  54%|█████▎    | 126/235 [01:01<00:51,  2.10it/s, loss=7.9928, avg_loss=7.8669]"
     ]
    },
    {
     "name": "stdout",
     "output_type": "stream",
     "text": [
      "{'kd_loss': 11.23080062866211, 'feature_loss': 0.2968273162841797, 'ce_loss': 7.964900016784668, 'cont_loss': 2.551880359649658, 'teacher_loss': 8.076247215270996, 'total_loss': 7.992834091186523}\n"
     ]
    },
    {
     "name": "stderr",
     "output_type": "stream",
     "text": [
      "Validating:  54%|█████▍    | 127/235 [01:01<00:51,  2.11it/s, loss=8.2349, avg_loss=7.8698]"
     ]
    },
    {
     "name": "stdout",
     "output_type": "stream",
     "text": [
      "{'kd_loss': 11.528032302856445, 'feature_loss': 0.3464163541793823, 'ce_loss': 8.232475280761719, 'cont_loss': 2.6136536598205566, 'teacher_loss': 8.092118263244629, 'total_loss': 8.234851837158203}\n"
     ]
    },
    {
     "name": "stderr",
     "output_type": "stream",
     "text": [
      "Validating:  54%|█████▍    | 128/235 [01:02<00:50,  2.10it/s, loss=7.9388, avg_loss=7.8704]"
     ]
    },
    {
     "name": "stdout",
     "output_type": "stream",
     "text": [
      "{'kd_loss': 11.15429401397705, 'feature_loss': 0.3083775043487549, 'ce_loss': 7.8958048820495605, 'cont_loss': 2.570676803588867, 'teacher_loss': 8.081772804260254, 'total_loss': 7.938782691955566}\n"
     ]
    },
    {
     "name": "stderr",
     "output_type": "stream",
     "text": [
      "Validating:  55%|█████▍    | 129/235 [01:02<00:50,  2.11it/s, loss=8.2239, avg_loss=7.8731]"
     ]
    },
    {
     "name": "stdout",
     "output_type": "stream",
     "text": [
      "{'kd_loss': 11.52955436706543, 'feature_loss': 0.27989721298217773, 'ce_loss': 8.233725547790527, 'cont_loss': 2.6264429092407227, 'teacher_loss': 8.089993476867676, 'total_loss': 8.223936080932617}\n"
     ]
    },
    {
     "name": "stderr",
     "output_type": "stream",
     "text": [
      "Validating:  55%|█████▌    | 130/235 [01:03<00:49,  2.11it/s, loss=8.1835, avg_loss=7.8755]"
     ]
    },
    {
     "name": "stdout",
     "output_type": "stream",
     "text": [
      "{'kd_loss': 11.457972526550293, 'feature_loss': 0.277504563331604, 'ce_loss': 8.169242858886719, 'cont_loss': 2.7708897590637207, 'teacher_loss': 8.07858657836914, 'total_loss': 8.183476448059082}\n"
     ]
    },
    {
     "name": "stderr",
     "output_type": "stream",
     "text": [
      "Validating:  56%|█████▌    | 131/235 [01:03<00:49,  2.11it/s, loss=8.1239, avg_loss=7.8774]"
     ]
    },
    {
     "name": "stdout",
     "output_type": "stream",
     "text": [
      "{'kd_loss': 11.364815711975098, 'feature_loss': 0.31405866146087646, 'ce_loss': 8.08527660369873, 'cont_loss': 2.81095814704895, 'teacher_loss': 8.08099365234375, 'total_loss': 8.123944282531738}\n"
     ]
    },
    {
     "name": "stderr",
     "output_type": "stream",
     "text": [
      "Validating:  56%|█████▌    | 132/235 [01:04<00:48,  2.11it/s, loss=8.0628, avg_loss=7.8788]"
     ]
    },
    {
     "name": "stdout",
     "output_type": "stream",
     "text": [
      "{'kd_loss': 11.315162658691406, 'feature_loss': 0.2926909327507019, 'ce_loss': 8.04094409942627, 'cont_loss': 2.6185379028320312, 'teacher_loss': 8.091328620910645, 'total_loss': 8.062834739685059}\n"
     ]
    },
    {
     "name": "stderr",
     "output_type": "stream",
     "text": [
      "Validating:  57%|█████▋    | 133/235 [01:04<00:48,  2.11it/s, loss=8.0195, avg_loss=7.8799]"
     ]
    },
    {
     "name": "stdout",
     "output_type": "stream",
     "text": [
      "{'kd_loss': 11.25246810913086, 'feature_loss': 0.3111429214477539, 'ce_loss': 7.984374046325684, 'cont_loss': 2.625417709350586, 'teacher_loss': 8.078376770019531, 'total_loss': 8.01950740814209}\n"
     ]
    },
    {
     "name": "stderr",
     "output_type": "stream",
     "text": [
      "Validating:  57%|█████▋    | 134/235 [01:04<00:48,  2.10it/s, loss=8.1804, avg_loss=7.8821]"
     ]
    },
    {
     "name": "stdout",
     "output_type": "stream",
     "text": [
      "{'kd_loss': 11.442190170288086, 'feature_loss': 0.3134632706642151, 'ce_loss': 8.155779838562012, 'cont_loss': 2.7855453491210938, 'teacher_loss': 8.094547271728516, 'total_loss': 8.180435180664062}\n"
     ]
    },
    {
     "name": "stderr",
     "output_type": "stream",
     "text": [
      "Validating:  57%|█████▋    | 135/235 [01:05<00:47,  2.11it/s, loss=8.0544, avg_loss=7.8834]"
     ]
    },
    {
     "name": "stdout",
     "output_type": "stream",
     "text": [
      "{'kd_loss': 11.252869606018066, 'feature_loss': 0.3315296173095703, 'ce_loss': 7.984725475311279, 'cont_loss': 2.9304776191711426, 'teacher_loss': 8.08204460144043, 'total_loss': 8.054391860961914}\n"
     ]
    },
    {
     "name": "stderr",
     "output_type": "stream",
     "text": [
      "Validating:  58%|█████▊    | 136/235 [01:05<00:46,  2.11it/s, loss=8.1465, avg_loss=7.8853]"
     ]
    },
    {
     "name": "stdout",
     "output_type": "stream",
     "text": [
      "{'kd_loss': 11.425135612487793, 'feature_loss': 0.2803812026977539, 'ce_loss': 8.139805793762207, 'cont_loss': 2.6444458961486816, 'teacher_loss': 8.0866117477417, 'total_loss': 8.14649772644043}\n"
     ]
    },
    {
     "name": "stderr",
     "output_type": "stream",
     "text": [
      "Validating:  58%|█████▊    | 137/235 [01:06<00:46,  2.11it/s, loss=8.0688, avg_loss=7.8867]"
     ]
    },
    {
     "name": "stdout",
     "output_type": "stream",
     "text": [
      "{'kd_loss': 11.30408763885498, 'feature_loss': 0.32922112941741943, 'ce_loss': 8.030685424804688, 'cont_loss': 2.690887451171875, 'teacher_loss': 8.093058586120605, 'total_loss': 8.068841934204102}\n"
     ]
    },
    {
     "name": "stderr",
     "output_type": "stream",
     "text": [
      "Validating:  59%|█████▊    | 138/235 [01:06<00:46,  2.11it/s, loss=8.0896, avg_loss=7.8881]"
     ]
    },
    {
     "name": "stdout",
     "output_type": "stream",
     "text": [
      "{'kd_loss': 11.335639953613281, 'feature_loss': 0.30253565311431885, 'ce_loss': 8.059272766113281, 'cont_loss': 2.711557388305664, 'teacher_loss': 8.089557647705078, 'total_loss': 8.089628219604492}\n"
     ]
    },
    {
     "name": "stderr",
     "output_type": "stream",
     "text": [
      "Validating:  59%|█████▉    | 139/235 [01:07<00:45,  2.11it/s, loss=8.2016, avg_loss=7.8904]"
     ]
    },
    {
     "name": "stdout",
     "output_type": "stream",
     "text": [
      "{'kd_loss': 11.455315589904785, 'feature_loss': 0.33211803436279297, 'ce_loss': 8.166998863220215, 'cont_loss': 2.8622539043426514, 'teacher_loss': 8.09072208404541, 'total_loss': 8.201574325561523}\n"
     ]
    },
    {
     "name": "stderr",
     "output_type": "stream",
     "text": [
      "Validating:  60%|█████▉    | 140/235 [01:07<00:45,  2.11it/s, loss=8.0934, avg_loss=7.8918]"
     ]
    },
    {
     "name": "stdout",
     "output_type": "stream",
     "text": [
      "{'kd_loss': 11.339680671691895, 'feature_loss': 0.32084447145462036, 'ce_loss': 8.062479019165039, 'cont_loss': 2.6836585998535156, 'teacher_loss': 8.083284378051758, 'total_loss': 8.093399047851562}\n"
     ]
    },
    {
     "name": "stderr",
     "output_type": "stream",
     "text": [
      "Validating:  60%|██████    | 141/235 [01:08<00:44,  2.11it/s, loss=8.0906, avg_loss=7.8932]"
     ]
    },
    {
     "name": "stdout",
     "output_type": "stream",
     "text": [
      "{'kd_loss': 11.337180137634277, 'feature_loss': 0.3186544179916382, 'ce_loss': 8.060437202453613, 'cont_loss': 2.6780314445495605, 'teacher_loss': 8.085512161254883, 'total_loss': 8.090580940246582}\n"
     ]
    },
    {
     "name": "stderr",
     "output_type": "stream",
     "text": [
      "Validating:  60%|██████    | 142/235 [01:08<00:44,  2.11it/s, loss=7.9873, avg_loss=7.8939]"
     ]
    },
    {
     "name": "stdout",
     "output_type": "stream",
     "text": [
      "{'kd_loss': 11.172103881835938, 'feature_loss': 0.3208928108215332, 'ce_loss': 7.912364482879639, 'cont_loss': 2.8931941986083984, 'teacher_loss': 8.086146354675293, 'total_loss': 7.987285137176514}\n"
     ]
    },
    {
     "name": "stderr",
     "output_type": "stream",
     "text": [
      "Validating:  61%|██████    | 143/235 [01:09<00:43,  2.11it/s, loss=8.1518, avg_loss=7.8957]"
     ]
    },
    {
     "name": "stdout",
     "output_type": "stream",
     "text": [
      "{'kd_loss': 11.405008316040039, 'feature_loss': 0.335690975189209, 'ce_loss': 8.121291160583496, 'cont_loss': 2.7418699264526367, 'teacher_loss': 8.087747573852539, 'total_loss': 8.15184497833252}\n"
     ]
    },
    {
     "name": "stderr",
     "output_type": "stream",
     "text": [
      "Validating:  61%|██████▏   | 144/235 [01:09<00:43,  2.10it/s, loss=8.1318, avg_loss=7.8973]"
     ]
    },
    {
     "name": "stdout",
     "output_type": "stream",
     "text": [
      "{'kd_loss': 11.382681846618652, 'feature_loss': 0.3095250725746155, 'ce_loss': 8.101600646972656, 'cont_loss': 2.7614874839782715, 'teacher_loss': 8.087747573852539, 'total_loss': 8.131767272949219}\n"
     ]
    },
    {
     "name": "stderr",
     "output_type": "stream",
     "text": [
      "Validating:  62%|██████▏   | 145/235 [01:10<00:42,  2.11it/s, loss=8.1305, avg_loss=7.8989]"
     ]
    },
    {
     "name": "stdout",
     "output_type": "stream",
     "text": [
      "{'kd_loss': 11.357647895812988, 'feature_loss': 0.32337403297424316, 'ce_loss': 8.078851699829102, 'cont_loss': 2.912297248840332, 'teacher_loss': 8.079094886779785, 'total_loss': 8.130504608154297}\n"
     ]
    },
    {
     "name": "stderr",
     "output_type": "stream",
     "text": [
      "Validating:  62%|██████▏   | 146/235 [01:10<00:42,  2.11it/s, loss=8.2405, avg_loss=7.9013]"
     ]
    },
    {
     "name": "stdout",
     "output_type": "stream",
     "text": [
      "{'kd_loss': 11.504583358764648, 'feature_loss': 0.31216496229171753, 'ce_loss': 8.211483001708984, 'cont_loss': 2.9159750938415527, 'teacher_loss': 8.079452514648438, 'total_loss': 8.240456581115723}\n"
     ]
    },
    {
     "name": "stderr",
     "output_type": "stream",
     "text": [
      "Validating:  63%|██████▎   | 147/235 [01:11<00:41,  2.12it/s, loss=8.1410, avg_loss=7.9029]"
     ]
    },
    {
     "name": "stdout",
     "output_type": "stream",
     "text": [
      "{'kd_loss': 11.375600814819336, 'feature_loss': 0.30578410625457764, 'ce_loss': 8.095067024230957, 'cont_loss': 2.915365695953369, 'teacher_loss': 8.080082893371582, 'total_loss': 8.140960693359375}\n"
     ]
    },
    {
     "name": "stderr",
     "output_type": "stream",
     "text": [
      "Validating:  63%|██████▎   | 148/235 [01:11<00:41,  2.11it/s, loss=8.1581, avg_loss=7.9046]"
     ]
    },
    {
     "name": "stdout",
     "output_type": "stream",
     "text": [
      "{'kd_loss': 11.39242172241211, 'feature_loss': 0.3281904458999634, 'ce_loss': 8.110838890075684, 'cont_loss': 2.911694049835205, 'teacher_loss': 8.095355987548828, 'total_loss': 8.158111572265625}\n"
     ]
    },
    {
     "name": "stderr",
     "output_type": "stream",
     "text": [
      "Validating:  63%|██████▎   | 149/235 [01:12<00:40,  2.11it/s, loss=8.0846, avg_loss=7.9059]"
     ]
    },
    {
     "name": "stdout",
     "output_type": "stream",
     "text": [
      "{'kd_loss': 11.31434440612793, 'feature_loss': 0.2984910011291504, 'ce_loss': 8.040121078491211, 'cont_loss': 2.830824375152588, 'teacher_loss': 8.089747428894043, 'total_loss': 8.084566116333008}\n"
     ]
    },
    {
     "name": "stderr",
     "output_type": "stream",
     "text": [
      "Validating:  64%|██████▍   | 150/235 [01:12<00:40,  2.10it/s, loss=8.1251, avg_loss=7.9073]"
     ]
    },
    {
     "name": "stdout",
     "output_type": "stream",
     "text": [
      "{'kd_loss': 11.370123863220215, 'feature_loss': 0.30151331424713135, 'ce_loss': 8.090190887451172, 'cont_loss': 2.806778907775879, 'teacher_loss': 8.090189933776855, 'total_loss': 8.125106811523438}\n"
     ]
    },
    {
     "name": "stderr",
     "output_type": "stream",
     "text": [
      "Validating:  64%|██████▍   | 151/235 [01:13<00:39,  2.11it/s, loss=8.1536, avg_loss=7.9089]"
     ]
    },
    {
     "name": "stdout",
     "output_type": "stream",
     "text": [
      "{'kd_loss': 11.370438575744629, 'feature_loss': 0.3376169800758362, 'ce_loss': 8.090490341186523, 'cont_loss': 3.017220973968506, 'teacher_loss': 8.080190658569336, 'total_loss': 8.153617858886719}\n"
     ]
    },
    {
     "name": "stderr",
     "output_type": "stream",
     "text": [
      "Validating:  65%|██████▍   | 152/235 [01:13<00:39,  2.10it/s, loss=8.1056, avg_loss=7.9102]"
     ]
    },
    {
     "name": "stdout",
     "output_type": "stream",
     "text": [
      "{'kd_loss': 11.331066131591797, 'feature_loss': 0.32460111379623413, 'ce_loss': 8.055001258850098, 'cont_loss': 2.86270809173584, 'teacher_loss': 8.082001686096191, 'total_loss': 8.105618476867676}\n"
     ]
    },
    {
     "name": "stderr",
     "output_type": "stream",
     "text": [
      "Validating:  65%|██████▌   | 153/235 [01:13<00:39,  2.10it/s, loss=8.2732, avg_loss=7.9126]"
     ]
    },
    {
     "name": "stdout",
     "output_type": "stream",
     "text": [
      "{'kd_loss': 11.533709526062012, 'feature_loss': 0.3290287256240845, 'ce_loss': 8.237532615661621, 'cont_loss': 2.988708734512329, 'teacher_loss': 8.086930274963379, 'total_loss': 8.273174285888672}\n"
     ]
    },
    {
     "name": "stderr",
     "output_type": "stream",
     "text": [
      "Validating:  66%|██████▌   | 154/235 [01:14<00:38,  2.11it/s, loss=8.2189, avg_loss=7.9146]"
     ]
    },
    {
     "name": "stdout",
     "output_type": "stream",
     "text": [
      "{'kd_loss': 11.456506729125977, 'feature_loss': 0.33169007301330566, 'ce_loss': 8.168072700500488, 'cont_loss': 3.0273585319519043, 'teacher_loss': 8.096341133117676, 'total_loss': 8.21890640258789}\n"
     ]
    },
    {
     "name": "stderr",
     "output_type": "stream",
     "text": [
      "Validating:  66%|██████▌   | 155/235 [01:14<00:37,  2.11it/s, loss=7.9981, avg_loss=7.9151]"
     ]
    },
    {
     "name": "stdout",
     "output_type": "stream",
     "text": [
      "{'kd_loss': 11.176746368408203, 'feature_loss': 0.3544235825538635, 'ce_loss': 7.916538238525391, 'cont_loss': 2.8993654251098633, 'teacher_loss': 8.08245849609375, 'total_loss': 7.998135089874268}\n"
     ]
    },
    {
     "name": "stderr",
     "output_type": "stream",
     "text": [
      "Validating:  66%|██████▋   | 156/235 [01:15<00:37,  2.11it/s, loss=8.1728, avg_loss=7.9168]"
     ]
    },
    {
     "name": "stdout",
     "output_type": "stream",
     "text": [
      "{'kd_loss': 11.412080764770508, 'feature_loss': 0.3306140899658203, 'ce_loss': 8.128191947937012, 'cont_loss': 2.9057958126068115, 'teacher_loss': 8.07995891571045, 'total_loss': 8.172811508178711}\n"
     ]
    },
    {
     "name": "stderr",
     "output_type": "stream",
     "text": [
      "Validating:  67%|██████▋   | 157/235 [01:15<00:37,  2.11it/s, loss=8.1086, avg_loss=7.9180]"
     ]
    },
    {
     "name": "stdout",
     "output_type": "stream",
     "text": [
      "{'kd_loss': 11.302141189575195, 'feature_loss': 0.3318525552749634, 'ce_loss': 8.029430389404297, 'cont_loss': 3.096066474914551, 'teacher_loss': 8.094651222229004, 'total_loss': 8.10860538482666}\n"
     ]
    },
    {
     "name": "stderr",
     "output_type": "stream",
     "text": [
      "Validating:  67%|██████▋   | 158/235 [01:16<00:36,  2.11it/s, loss=8.1379, avg_loss=7.9194]"
     ]
    },
    {
     "name": "stdout",
     "output_type": "stream",
     "text": [
      "{'kd_loss': 11.362472534179688, 'feature_loss': 0.3355989456176758, 'ce_loss': 8.083354949951172, 'cont_loss': 2.924300193786621, 'teacher_loss': 8.081000328063965, 'total_loss': 8.137880325317383}\n"
     ]
    },
    {
     "name": "stderr",
     "output_type": "stream",
     "text": [
      "Validating:  68%|██████▊   | 159/235 [01:16<00:36,  2.11it/s, loss=8.0367, avg_loss=7.9201]"
     ]
    },
    {
     "name": "stdout",
     "output_type": "stream",
     "text": [
      "{'kd_loss': 11.216736793518066, 'feature_loss': 0.3241724371910095, 'ce_loss': 7.952455043792725, 'cont_loss': 3.04175066947937, 'teacher_loss': 8.084731101989746, 'total_loss': 8.036686897277832}\n"
     ]
    },
    {
     "name": "stderr",
     "output_type": "stream",
     "text": [
      "Validating:  68%|██████▊   | 160/235 [01:17<00:35,  2.11it/s, loss=8.1805, avg_loss=7.9218]"
     ]
    },
    {
     "name": "stdout",
     "output_type": "stream",
     "text": [
      "{'kd_loss': 11.420506477355957, 'feature_loss': 0.32812702655792236, 'ce_loss': 8.135651588439941, 'cont_loss': 2.9236879348754883, 'teacher_loss': 8.089879989624023, 'total_loss': 8.18045711517334}\n"
     ]
    },
    {
     "name": "stderr",
     "output_type": "stream",
     "text": [
      "Validating:  69%|██████▊   | 161/235 [01:17<00:35,  2.11it/s, loss=8.1881, avg_loss=7.9234]"
     ]
    },
    {
     "name": "stdout",
     "output_type": "stream",
     "text": [
      "{'kd_loss': 11.433902740478516, 'feature_loss': 0.3067430257797241, 'ce_loss': 8.147780418395996, 'cont_loss': 2.9403038024902344, 'teacher_loss': 8.077765464782715, 'total_loss': 8.1880521774292}\n"
     ]
    },
    {
     "name": "stderr",
     "output_type": "stream",
     "text": [
      "Validating:  69%|██████▉   | 162/235 [01:18<00:34,  2.11it/s, loss=8.1314, avg_loss=7.9247]"
     ]
    },
    {
     "name": "stdout",
     "output_type": "stream",
     "text": [
      "{'kd_loss': 11.35073184967041, 'feature_loss': 0.32776033878326416, 'ce_loss': 8.072999000549316, 'cont_loss': 2.9639854431152344, 'teacher_loss': 8.086758613586426, 'total_loss': 8.13144302368164}\n"
     ]
    },
    {
     "name": "stderr",
     "output_type": "stream",
     "text": [
      "Validating:  69%|██████▉   | 163/235 [01:18<00:34,  2.10it/s, loss=8.0624, avg_loss=7.9256]"
     ]
    },
    {
     "name": "stdout",
     "output_type": "stream",
     "text": [
      "{'kd_loss': 11.260927200317383, 'feature_loss': 0.3284221887588501, 'ce_loss': 7.991581439971924, 'cont_loss': 2.957071542739868, 'teacher_loss': 8.087956428527832, 'total_loss': 8.062395095825195}\n"
     ]
    },
    {
     "name": "stderr",
     "output_type": "stream",
     "text": [
      "Validating:  70%|██████▉   | 164/235 [01:19<00:33,  2.11it/s, loss=8.1148, avg_loss=7.9267]"
     ]
    },
    {
     "name": "stdout",
     "output_type": "stream",
     "text": [
      "{'kd_loss': 11.305492401123047, 'feature_loss': 0.32252275943756104, 'ce_loss': 8.032139778137207, 'cont_loss': 3.1520707607269287, 'teacher_loss': 8.080626487731934, 'total_loss': 8.114765167236328}\n"
     ]
    },
    {
     "name": "stderr",
     "output_type": "stream",
     "text": [
      "Validating:  70%|███████   | 165/235 [01:19<00:33,  2.11it/s, loss=7.9996, avg_loss=7.9271]"
     ]
    },
    {
     "name": "stdout",
     "output_type": "stream",
     "text": [
      "{'kd_loss': 11.174738883972168, 'feature_loss': 0.32664310932159424, 'ce_loss': 7.914651393890381, 'cont_loss': 2.9851865768432617, 'teacher_loss': 8.091028213500977, 'total_loss': 7.999603748321533}\n"
     ]
    },
    {
     "name": "stderr",
     "output_type": "stream",
     "text": [
      "Validating:  71%|███████   | 166/235 [01:20<00:32,  2.11it/s, loss=8.1185, avg_loss=7.9283]"
     ]
    },
    {
     "name": "stdout",
     "output_type": "stream",
     "text": [
      "{'kd_loss': 11.332074165344238, 'feature_loss': 0.3173452615737915, 'ce_loss': 8.05588436126709, 'cont_loss': 2.9985404014587402, 'teacher_loss': 8.085838317871094, 'total_loss': 8.11850643157959}\n"
     ]
    },
    {
     "name": "stderr",
     "output_type": "stream",
     "text": [
      "Validating:  71%|███████   | 167/235 [01:20<00:32,  2.12it/s, loss=8.1155, avg_loss=7.9294]"
     ]
    },
    {
     "name": "stdout",
     "output_type": "stream",
     "text": [
      "{'kd_loss': 11.326289176940918, 'feature_loss': 0.3296619653701782, 'ce_loss': 8.050491333007812, 'cont_loss': 2.9887094497680664, 'teacher_loss': 8.08266830444336, 'total_loss': 8.11551570892334}\n"
     ]
    },
    {
     "name": "stderr",
     "output_type": "stream",
     "text": [
      "Validating:  71%|███████▏  | 168/235 [01:21<00:31,  2.11it/s, loss=8.1495, avg_loss=7.9307]"
     ]
    },
    {
     "name": "stdout",
     "output_type": "stream",
     "text": [
      "{'kd_loss': 11.378277778625488, 'feature_loss': 0.301441490650177, 'ce_loss': 8.09755802154541, 'cont_loss': 2.9882736206054688, 'teacher_loss': 8.086136817932129, 'total_loss': 8.149450302124023}\n"
     ]
    },
    {
     "name": "stderr",
     "output_type": "stream",
     "text": [
      "Validating:  72%|███████▏  | 169/235 [01:21<00:31,  2.12it/s, loss=8.0952, avg_loss=7.9317]"
     ]
    },
    {
     "name": "stdout",
     "output_type": "stream",
     "text": [
      "{'kd_loss': 11.280435562133789, 'feature_loss': 0.31044793128967285, 'ce_loss': 8.00953483581543, 'cont_loss': 3.1714048385620117, 'teacher_loss': 8.086408615112305, 'total_loss': 8.09521770477295}\n"
     ]
    },
    {
     "name": "stderr",
     "output_type": "stream",
     "text": [
      "Validating:  72%|███████▏  | 170/235 [01:22<00:30,  2.11it/s, loss=8.1423, avg_loss=7.9329]"
     ]
    },
    {
     "name": "stdout",
     "output_type": "stream",
     "text": [
      "{'kd_loss': 11.3561429977417, 'feature_loss': 0.3264012336730957, 'ce_loss': 8.07840347290039, 'cont_loss': 3.0324296951293945, 'teacher_loss': 8.077864646911621, 'total_loss': 8.142341613769531}\n"
     ]
    },
    {
     "name": "stderr",
     "output_type": "stream",
     "text": [
      "Validating:  73%|███████▎  | 171/235 [01:22<00:30,  2.11it/s, loss=8.1822, avg_loss=7.9344]"
     ]
    },
    {
     "name": "stdout",
     "output_type": "stream",
     "text": [
      "{'kd_loss': 11.415390014648438, 'feature_loss': 0.30842405557632446, 'ce_loss': 8.130663871765137, 'cont_loss': 3.021397352218628, 'teacher_loss': 8.103055000305176, 'total_loss': 8.182245254516602}\n"
     ]
    },
    {
     "name": "stderr",
     "output_type": "stream",
     "text": [
      "Validating:  73%|███████▎  | 172/235 [01:22<00:29,  2.11it/s, loss=8.2807, avg_loss=7.9364]"
     ]
    },
    {
     "name": "stdout",
     "output_type": "stream",
     "text": [
      "{'kd_loss': 11.534212112426758, 'feature_loss': 0.31159645318984985, 'ce_loss': 8.238296508789062, 'cont_loss': 3.094205856323242, 'teacher_loss': 8.08920955657959, 'total_loss': 8.280743598937988}\n"
     ]
    },
    {
     "name": "stderr",
     "output_type": "stream",
     "text": [
      "Validating:  74%|███████▎  | 173/235 [01:23<00:29,  2.11it/s, loss=8.0207, avg_loss=7.9369]"
     ]
    },
    {
     "name": "stdout",
     "output_type": "stream",
     "text": [
      "{'kd_loss': 11.194962501525879, 'feature_loss': 0.32090985774993896, 'ce_loss': 7.9324798583984375, 'cont_loss': 3.0550858974456787, 'teacher_loss': 8.085596084594727, 'total_loss': 8.02066707611084}\n"
     ]
    },
    {
     "name": "stderr",
     "output_type": "stream",
     "text": [
      "Validating:  74%|███████▍  | 174/235 [01:23<00:28,  2.12it/s, loss=8.1750, avg_loss=7.9383]"
     ]
    },
    {
     "name": "stdout",
     "output_type": "stream",
     "text": [
      "{'kd_loss': 11.40414047241211, 'feature_loss': 0.3084326982498169, 'ce_loss': 8.12121295928955, 'cont_loss': 3.0315637588500977, 'teacher_loss': 8.08899974822998, 'total_loss': 8.174983978271484}\n"
     ]
    },
    {
     "name": "stderr",
     "output_type": "stream",
     "text": [
      "Validating:  74%|███████▍  | 175/235 [01:24<00:28,  2.11it/s, loss=8.1749, avg_loss=7.9396]"
     ]
    },
    {
     "name": "stdout",
     "output_type": "stream",
     "text": [
      "{'kd_loss': 11.398041725158691, 'feature_loss': 0.3135960102081299, 'ce_loss': 8.115371704101562, 'cont_loss': 3.0676984786987305, 'teacher_loss': 8.081411361694336, 'total_loss': 8.174854278564453}\n"
     ]
    },
    {
     "name": "stderr",
     "output_type": "stream",
     "text": [
      "Validating:  75%|███████▍  | 176/235 [01:24<00:27,  2.12it/s, loss=8.2138, avg_loss=7.9412]"
     ]
    },
    {
     "name": "stdout",
     "output_type": "stream",
     "text": [
      "{'kd_loss': 11.421915054321289, 'feature_loss': 0.3186306357383728, 'ce_loss': 8.136937141418457, 'cont_loss': 3.2649126052856445, 'teacher_loss': 8.084792137145996, 'total_loss': 8.21375846862793}\n"
     ]
    },
    {
     "name": "stderr",
     "output_type": "stream",
     "text": [
      "Validating:  75%|███████▌  | 177/235 [01:25<00:27,  2.11it/s, loss=8.1674, avg_loss=7.9425]"
     ]
    },
    {
     "name": "stdout",
     "output_type": "stream",
     "text": [
      "{'kd_loss': 11.37758731842041, 'feature_loss': 0.33346110582351685, 'ce_loss': 8.096725463867188, 'cont_loss': 3.1095190048217773, 'teacher_loss': 8.081433296203613, 'total_loss': 8.167369842529297}\n"
     ]
    },
    {
     "name": "stderr",
     "output_type": "stream",
     "text": [
      "Validating:  76%|███████▌  | 178/235 [01:25<00:26,  2.11it/s, loss=8.1725, avg_loss=7.9437]"
     ]
    },
    {
     "name": "stdout",
     "output_type": "stream",
     "text": [
      "{'kd_loss': 11.385669708251953, 'feature_loss': 0.34566134214401245, 'ce_loss': 8.104228973388672, 'cont_loss': 3.073665142059326, 'teacher_loss': 8.07739543914795, 'total_loss': 8.17245864868164}\n"
     ]
    },
    {
     "name": "stderr",
     "output_type": "stream",
     "text": [
      "Validating:  76%|███████▌  | 179/235 [01:26<00:26,  2.11it/s, loss=8.2082, avg_loss=7.9452]"
     ]
    },
    {
     "name": "stdout",
     "output_type": "stream",
     "text": [
      "{'kd_loss': 11.435823440551758, 'feature_loss': 0.32269287109375, 'ce_loss': 8.149445533752441, 'cont_loss': 3.095402240753174, 'teacher_loss': 8.091972351074219, 'total_loss': 8.208186149597168}\n"
     ]
    },
    {
     "name": "stderr",
     "output_type": "stream",
     "text": [
      "Validating:  77%|███████▋  | 180/235 [01:26<00:26,  2.11it/s, loss=8.0335, avg_loss=7.9457]"
     ]
    },
    {
     "name": "stdout",
     "output_type": "stream",
     "text": [
      "{'kd_loss': 11.16471004486084, 'feature_loss': 0.3201441764831543, 'ce_loss': 7.905414581298828, 'cont_loss': 3.413727045059204, 'teacher_loss': 8.084236145019531, 'total_loss': 8.033451080322266}\n"
     ]
    },
    {
     "name": "stderr",
     "output_type": "stream",
     "text": [
      "Validating:  77%|███████▋  | 181/235 [01:27<00:25,  2.11it/s, loss=7.9822, avg_loss=7.9459]"
     ]
    },
    {
     "name": "stdout",
     "output_type": "stream",
     "text": [
      "{'kd_loss': 11.144885063171387, 'feature_loss': 0.298575758934021, 'ce_loss': 7.887650966644287, 'cont_loss': 3.0944204330444336, 'teacher_loss': 8.08541202545166, 'total_loss': 7.982171535491943}\n"
     ]
    },
    {
     "name": "stderr",
     "output_type": "stream",
     "text": [
      "Validating:  77%|███████▋  | 182/235 [01:27<00:25,  2.11it/s, loss=8.2565, avg_loss=7.9476]"
     ]
    },
    {
     "name": "stdout",
     "output_type": "stream",
     "text": [
      "{'kd_loss': 11.496167182922363, 'feature_loss': 0.3142479658126831, 'ce_loss': 8.203649520874023, 'cont_loss': 3.136878490447998, 'teacher_loss': 8.088827133178711, 'total_loss': 8.256464004516602}\n"
     ]
    },
    {
     "name": "stderr",
     "output_type": "stream",
     "text": [
      "Validating:  78%|███████▊  | 183/235 [01:28<00:24,  2.10it/s, loss=8.0907, avg_loss=7.9484]"
     ]
    },
    {
     "name": "stdout",
     "output_type": "stream",
     "text": [
      "{'kd_loss': 11.22697639465332, 'feature_loss': 0.3557109832763672, 'ce_loss': 7.96148681640625, 'cont_loss': 3.441312789916992, 'teacher_loss': 8.0809965133667, 'total_loss': 8.090659141540527}\n"
     ]
    },
    {
     "name": "stderr",
     "output_type": "stream",
     "text": [
      "Validating:  78%|███████▊  | 184/235 [01:28<00:24,  2.11it/s, loss=8.3229, avg_loss=7.9504]"
     ]
    },
    {
     "name": "stdout",
     "output_type": "stream",
     "text": [
      "{'kd_loss': 11.58375358581543, 'feature_loss': 0.3101651072502136, 'ce_loss': 8.282519340515137, 'cont_loss': 3.143230438232422, 'teacher_loss': 8.083088874816895, 'total_loss': 8.322866439819336}\n"
     ]
    },
    {
     "name": "stderr",
     "output_type": "stream",
     "text": [
      "Validating:  79%|███████▊  | 185/235 [01:29<00:23,  2.10it/s, loss=8.2812, avg_loss=7.9522]"
     ]
    },
    {
     "name": "stdout",
     "output_type": "stream",
     "text": [
      "{'kd_loss': 11.508399963378906, 'feature_loss': 0.35175132751464844, 'ce_loss': 8.214743614196777, 'cont_loss': 3.21545147895813, 'teacher_loss': 8.092617988586426, 'total_loss': 8.281153678894043}\n"
     ]
    },
    {
     "name": "stderr",
     "output_type": "stream",
     "text": [
      "Validating:  79%|███████▉  | 186/235 [01:29<00:23,  2.11it/s, loss=8.2216, avg_loss=7.9537]"
     ]
    },
    {
     "name": "stdout",
     "output_type": "stream",
     "text": [
      "{'kd_loss': 11.440237045288086, 'feature_loss': 0.3291165828704834, 'ce_loss': 8.153560638427734, 'cont_loss': 3.182197093963623, 'teacher_loss': 8.074377059936523, 'total_loss': 8.221562385559082}\n"
     ]
    },
    {
     "name": "stderr",
     "output_type": "stream",
     "text": [
      "Validating:  80%|███████▉  | 187/235 [01:30<00:22,  2.11it/s, loss=8.1356, avg_loss=7.9546]"
     ]
    },
    {
     "name": "stdout",
     "output_type": "stream",
     "text": [
      "{'kd_loss': 11.329432487487793, 'feature_loss': 0.3200007677078247, 'ce_loss': 8.053481101989746, 'cont_loss': 3.1846656799316406, 'teacher_loss': 8.07999038696289, 'total_loss': 8.135631561279297}\n"
     ]
    },
    {
     "name": "stderr",
     "output_type": "stream",
     "text": [
      "Validating:  80%|████████  | 188/235 [01:30<00:22,  2.12it/s, loss=8.1691, avg_loss=7.9558]"
     ]
    },
    {
     "name": "stdout",
     "output_type": "stream",
     "text": [
      "{'kd_loss': 11.369261741638184, 'feature_loss': 0.3211939334869385, 'ce_loss': 8.089618682861328, 'cont_loss': 3.2130112648010254, 'teacher_loss': 8.086856842041016, 'total_loss': 8.169092178344727}\n"
     ]
    },
    {
     "name": "stderr",
     "output_type": "stream",
     "text": [
      "Validating:  80%|████████  | 189/235 [01:31<00:21,  2.11it/s, loss=8.2392, avg_loss=7.9573]"
     ]
    },
    {
     "name": "stdout",
     "output_type": "stream",
     "text": [
      "{'kd_loss': 11.44965934753418, 'feature_loss': 0.29294097423553467, 'ce_loss': 8.161835670471191, 'cont_loss': 3.3598291873931885, 'teacher_loss': 8.08858585357666, 'total_loss': 8.239169120788574}\n"
     ]
    },
    {
     "name": "stderr",
     "output_type": "stream",
     "text": [
      "Validating:  81%|████████  | 190/235 [01:31<00:21,  2.11it/s, loss=8.0834, avg_loss=7.9580]"
     ]
    },
    {
     "name": "stdout",
     "output_type": "stream",
     "text": [
      "{'kd_loss': 11.272287368774414, 'feature_loss': 0.29855310916900635, 'ce_loss': 8.00199031829834, 'cont_loss': 3.140078544616699, 'teacher_loss': 8.078643798828125, 'total_loss': 8.083429336547852}\n"
     ]
    },
    {
     "name": "stderr",
     "output_type": "stream",
     "text": [
      "Validating:  81%|████████▏ | 191/235 [01:31<00:20,  2.10it/s, loss=8.3319, avg_loss=7.9599]"
     ]
    },
    {
     "name": "stdout",
     "output_type": "stream",
     "text": [
      "{'kd_loss': 11.586694717407227, 'feature_loss': 0.31838667392730713, 'ce_loss': 8.28523063659668, 'cont_loss': 3.1941864490509033, 'teacher_loss': 8.08857536315918, 'total_loss': 8.331866264343262}\n"
     ]
    },
    {
     "name": "stderr",
     "output_type": "stream",
     "text": [
      "Validating:  82%|████████▏ | 192/235 [01:32<00:20,  2.11it/s, loss=8.2768, avg_loss=7.9616]"
     ]
    },
    {
     "name": "stdout",
     "output_type": "stream",
     "text": [
      "{'kd_loss': 11.510804176330566, 'feature_loss': 0.31454068422317505, 'ce_loss': 8.217062950134277, 'cont_loss': 3.227426528930664, 'teacher_loss': 8.09225845336914, 'total_loss': 8.276798248291016}\n"
     ]
    },
    {
     "name": "stderr",
     "output_type": "stream",
     "text": [
      "Validating:  82%|████████▏ | 193/235 [01:32<00:19,  2.10it/s, loss=8.3347, avg_loss=7.9635]"
     ]
    },
    {
     "name": "stdout",
     "output_type": "stream",
     "text": [
      "{'kd_loss': 11.56770133972168, 'feature_loss': 0.32321399450302124, 'ce_loss': 8.268148422241211, 'cont_loss': 3.3570175170898438, 'teacher_loss': 8.084490776062012, 'total_loss': 8.334684371948242}\n"
     ]
    },
    {
     "name": "stderr",
     "output_type": "stream",
     "text": [
      "Validating:  83%|████████▎ | 194/235 [01:33<00:19,  2.11it/s, loss=8.2222, avg_loss=7.9648]"
     ]
    },
    {
     "name": "stdout",
     "output_type": "stream",
     "text": [
      "{'kd_loss': 11.428407669067383, 'feature_loss': 0.3511573076248169, 'ce_loss': 8.142600059509277, 'cont_loss': 3.235926628112793, 'teacher_loss': 8.082752227783203, 'total_loss': 8.222227096557617}\n"
     ]
    },
    {
     "name": "stderr",
     "output_type": "stream",
     "text": [
      "Validating:  83%|████████▎ | 195/235 [01:33<00:19,  2.10it/s, loss=8.2156, avg_loss=7.9661]"
     ]
    },
    {
     "name": "stdout",
     "output_type": "stream",
     "text": [
      "{'kd_loss': 11.431246757507324, 'feature_loss': 0.3059368133544922, 'ce_loss': 8.14527702331543, 'cont_loss': 3.2378993034362793, 'teacher_loss': 8.085453987121582, 'total_loss': 8.21558666229248}\n"
     ]
    },
    {
     "name": "stderr",
     "output_type": "stream",
     "text": [
      "Validating:  83%|████████▎ | 196/235 [01:34<00:18,  2.11it/s, loss=8.1493, avg_loss=7.9670]"
     ]
    },
    {
     "name": "stdout",
     "output_type": "stream",
     "text": [
      "{'kd_loss': 11.332595825195312, 'feature_loss': 0.32545769214630127, 'ce_loss': 8.056721687316895, 'cont_loss': 3.2845513820648193, 'teacher_loss': 8.092996597290039, 'total_loss': 8.149273872375488}\n"
     ]
    },
    {
     "name": "stderr",
     "output_type": "stream",
     "text": [
      "Validating:  84%|████████▍ | 197/235 [01:34<00:18,  2.11it/s, loss=8.0329, avg_loss=7.9674]"
     ]
    },
    {
     "name": "stdout",
     "output_type": "stream",
     "text": [
      "{'kd_loss': 11.18406867980957, 'feature_loss': 0.3322814702987671, 'ce_loss': 7.9230217933654785, 'cont_loss': 3.236243724822998, 'teacher_loss': 8.094158172607422, 'total_loss': 8.032917022705078}\n"
     ]
    },
    {
     "name": "stderr",
     "output_type": "stream",
     "text": [
      "Validating:  84%|████████▍ | 198/235 [01:35<00:17,  2.11it/s, loss=8.1434, avg_loss=7.9683]"
     ]
    },
    {
     "name": "stdout",
     "output_type": "stream",
     "text": [
      "{'kd_loss': 11.331871032714844, 'feature_loss': 0.31634873151779175, 'ce_loss': 8.055843353271484, 'cont_loss': 3.2505292892456055, 'teacher_loss': 8.07899284362793, 'total_loss': 8.14340877532959}\n"
     ]
    },
    {
     "name": "stderr",
     "output_type": "stream",
     "text": [
      "Validating:  85%|████████▍ | 199/235 [01:35<00:17,  2.11it/s, loss=8.1851, avg_loss=7.9694]"
     ]
    },
    {
     "name": "stdout",
     "output_type": "stream",
     "text": [
      "{'kd_loss': 11.377427101135254, 'feature_loss': 0.32358747720718384, 'ce_loss': 8.0968599319458, 'cont_loss': 3.3065574169158936, 'teacher_loss': 8.090124130249023, 'total_loss': 8.185088157653809}\n"
     ]
    },
    {
     "name": "stderr",
     "output_type": "stream",
     "text": [
      "Validating:  85%|████████▌ | 200/235 [01:36<00:16,  2.10it/s, loss=8.2366, avg_loss=7.9707]"
     ]
    },
    {
     "name": "stdout",
     "output_type": "stream",
     "text": [
      "{'kd_loss': 11.441722869873047, 'feature_loss': 0.32726728916168213, 'ce_loss': 8.154781341552734, 'cont_loss': 3.3253121376037598, 'teacher_loss': 8.083612442016602, 'total_loss': 8.236586570739746}\n"
     ]
    },
    {
     "name": "stderr",
     "output_type": "stream",
     "text": [
      "Validating:  86%|████████▌ | 201/235 [01:36<00:16,  2.10it/s, loss=8.3066, avg_loss=7.9724]"
     ]
    },
    {
     "name": "stdout",
     "output_type": "stream",
     "text": [
      "{'kd_loss': 11.536370277404785, 'feature_loss': 0.3301302194595337, 'ce_loss': 8.239925384521484, 'cont_loss': 3.300779342651367, 'teacher_loss': 8.08566665649414, 'total_loss': 8.306622505187988}\n"
     ]
    },
    {
     "name": "stderr",
     "output_type": "stream",
     "text": [
      "Validating:  86%|████████▌ | 202/235 [01:37<00:15,  2.11it/s, loss=8.2585, avg_loss=7.9738]"
     ]
    },
    {
     "name": "stdout",
     "output_type": "stream",
     "text": [
      "{'kd_loss': 11.476272583007812, 'feature_loss': 0.32602834701538086, 'ce_loss': 8.1858491897583, 'cont_loss': 3.2846646308898926, 'teacher_loss': 8.083573341369629, 'total_loss': 8.25852108001709}\n"
     ]
    },
    {
     "name": "stderr",
     "output_type": "stream",
     "text": [
      "Validating:  86%|████████▋ | 203/235 [01:37<00:15,  2.10it/s, loss=8.3664, avg_loss=7.9757]"
     ]
    },
    {
     "name": "stdout",
     "output_type": "stream",
     "text": [
      "{'kd_loss': 11.57474422454834, 'feature_loss': 0.3183540105819702, 'ce_loss': 8.274616241455078, 'cont_loss': 3.6299190521240234, 'teacher_loss': 8.08542251586914, 'total_loss': 8.36640739440918}\n"
     ]
    },
    {
     "name": "stderr",
     "output_type": "stream",
     "text": [
      "Validating:  87%|████████▋ | 204/235 [01:38<00:14,  2.11it/s, loss=8.2968, avg_loss=7.9773]"
     ]
    },
    {
     "name": "stdout",
     "output_type": "stream",
     "text": [
      "{'kd_loss': 11.514747619628906, 'feature_loss': 0.3397188186645508, 'ce_loss': 8.22040843963623, 'cont_loss': 3.347963571548462, 'teacher_loss': 8.091830253601074, 'total_loss': 8.296802520751953}\n"
     ]
    },
    {
     "name": "stderr",
     "output_type": "stream",
     "text": [
      "Validating:  87%|████████▋ | 205/235 [01:38<00:14,  2.10it/s, loss=8.2526, avg_loss=7.9786]"
     ]
    },
    {
     "name": "stdout",
     "output_type": "stream",
     "text": [
      "{'kd_loss': 11.440892219543457, 'feature_loss': 0.33176201581954956, 'ce_loss': 8.154154777526855, 'cont_loss': 3.481818914413452, 'teacher_loss': 8.0868501663208, 'total_loss': 8.25255298614502}\n"
     ]
    },
    {
     "name": "stderr",
     "output_type": "stream",
     "text": [
      "Validating:  88%|████████▊ | 206/235 [01:39<00:13,  2.11it/s, loss=8.1421, avg_loss=7.9794]"
     ]
    },
    {
     "name": "stdout",
     "output_type": "stream",
     "text": [
      "{'kd_loss': 11.316265106201172, 'feature_loss': 0.32125651836395264, 'ce_loss': 8.041903495788574, 'cont_loss': 3.3453712463378906, 'teacher_loss': 8.085381507873535, 'total_loss': 8.142056465148926}\n"
     ]
    },
    {
     "name": "stderr",
     "output_type": "stream",
     "text": [
      "Validating:  88%|████████▊ | 207/235 [01:39<00:13,  2.11it/s, loss=8.2180, avg_loss=7.9806]"
     ]
    },
    {
     "name": "stdout",
     "output_type": "stream",
     "text": [
      "{'kd_loss': 11.402688026428223, 'feature_loss': 0.3430781960487366, 'ce_loss': 8.119956016540527, 'cont_loss': 3.403043746948242, 'teacher_loss': 8.083271980285645, 'total_loss': 8.217977523803711}\n"
     ]
    },
    {
     "name": "stderr",
     "output_type": "stream",
     "text": [
      "Validating:  89%|████████▊ | 208/235 [01:40<00:12,  2.11it/s, loss=8.3402, avg_loss=7.9823]"
     ]
    },
    {
     "name": "stdout",
     "output_type": "stream",
     "text": [
      "{'kd_loss': 11.567424774169922, 'feature_loss': 0.3221709132194519, 'ce_loss': 8.267790794372559, 'cont_loss': 3.416489601135254, 'teacher_loss': 8.085083961486816, 'total_loss': 8.340168952941895}\n"
     ]
    },
    {
     "name": "stderr",
     "output_type": "stream",
     "text": [
      "Validating:  89%|████████▉ | 209/235 [01:40<00:12,  2.11it/s, loss=8.3143, avg_loss=7.9839]"
     ]
    },
    {
     "name": "stdout",
     "output_type": "stream",
     "text": [
      "{'kd_loss': 11.494154930114746, 'feature_loss': 0.34875982999801636, 'ce_loss': 8.20163345336914, 'cont_loss': 3.661911964416504, 'teacher_loss': 8.082619667053223, 'total_loss': 8.314258575439453}\n"
     ]
    },
    {
     "name": "stderr",
     "output_type": "stream",
     "text": [
      "Validating:  89%|████████▉ | 210/235 [01:41<00:11,  2.11it/s, loss=8.3677, avg_loss=7.9857]"
     ]
    },
    {
     "name": "stdout",
     "output_type": "stream",
     "text": [
      "{'kd_loss': 11.60760498046875, 'feature_loss': 0.32875245809555054, 'ce_loss': 8.304081916809082, 'cont_loss': 3.3725335597991943, 'teacher_loss': 8.088712692260742, 'total_loss': 8.367679595947266}\n"
     ]
    },
    {
     "name": "stderr",
     "output_type": "stream",
     "text": [
      "Validating:  90%|████████▉ | 211/235 [01:41<00:11,  2.10it/s, loss=8.2394, avg_loss=7.9869]"
     ]
    },
    {
     "name": "stdout",
     "output_type": "stream",
     "text": [
      "{'kd_loss': 11.419937133789062, 'feature_loss': 0.31194400787353516, 'ce_loss': 8.135175704956055, 'cont_loss': 3.5501294136047363, 'teacher_loss': 8.089985847473145, 'total_loss': 8.239447593688965}\n"
     ]
    },
    {
     "name": "stderr",
     "output_type": "stream",
     "text": [
      "Validating:  90%|█████████ | 212/235 [01:41<00:10,  2.11it/s, loss=8.1931, avg_loss=7.9879]"
     ]
    },
    {
     "name": "stdout",
     "output_type": "stream",
     "text": [
      "{'kd_loss': 11.372376441955566, 'feature_loss': 0.3206976652145386, 'ce_loss': 8.092472076416016, 'cont_loss': 3.4306468963623047, 'teacher_loss': 8.089250564575195, 'total_loss': 8.193142890930176}\n"
     ]
    },
    {
     "name": "stderr",
     "output_type": "stream",
     "text": [
      "Validating:  91%|█████████ | 213/235 [01:42<00:10,  2.11it/s, loss=8.2483, avg_loss=7.9891]"
     ]
    },
    {
     "name": "stdout",
     "output_type": "stream",
     "text": [
      "{'kd_loss': 11.445322036743164, 'feature_loss': 0.3145740032196045, 'ce_loss': 8.157894134521484, 'cont_loss': 3.4410300254821777, 'teacher_loss': 8.090617179870605, 'total_loss': 8.24830436706543}\n"
     ]
    },
    {
     "name": "stderr",
     "output_type": "stream",
     "text": [
      "Validating:  91%|█████████ | 214/235 [01:42<00:09,  2.11it/s, loss=8.3141, avg_loss=7.9906]"
     ]
    },
    {
     "name": "stdout",
     "output_type": "stream",
     "text": [
      "{'kd_loss': 11.492081642150879, 'feature_loss': 0.318758487701416, 'ce_loss': 8.200126647949219, 'cont_loss': 3.734316825866699, 'teacher_loss': 8.090104103088379, 'total_loss': 8.314066886901855}\n"
     ]
    },
    {
     "name": "stderr",
     "output_type": "stream",
     "text": [
      "Validating:  91%|█████████▏| 215/235 [01:43<00:09,  2.10it/s, loss=8.2759, avg_loss=7.9920]"
     ]
    },
    {
     "name": "stdout",
     "output_type": "stream",
     "text": [
      "{'kd_loss': 11.481271743774414, 'feature_loss': 0.3085510730743408, 'ce_loss': 8.190666198730469, 'cont_loss': 3.4541540145874023, 'teacher_loss': 8.090912818908691, 'total_loss': 8.275900840759277}\n"
     ]
    },
    {
     "name": "stderr",
     "output_type": "stream",
     "text": [
      "Validating:  92%|█████████▏| 216/235 [01:43<00:09,  2.10it/s, loss=8.2727, avg_loss=7.9933]"
     ]
    },
    {
     "name": "stdout",
     "output_type": "stream",
     "text": [
      "{'kd_loss': 11.475388526916504, 'feature_loss': 0.317779541015625, 'ce_loss': 8.184935569763184, 'cont_loss': 3.4502124786376953, 'teacher_loss': 8.080179214477539, 'total_loss': 8.272706985473633}\n"
     ]
    },
    {
     "name": "stderr",
     "output_type": "stream",
     "text": [
      "Validating:  92%|█████████▏| 217/235 [01:44<00:08,  2.10it/s, loss=8.2683, avg_loss=7.9945]"
     ]
    },
    {
     "name": "stdout",
     "output_type": "stream",
     "text": [
      "{'kd_loss': 11.457611083984375, 'feature_loss': 0.33915579319000244, 'ce_loss': 8.169055938720703, 'cont_loss': 3.497675895690918, 'teacher_loss': 8.09068489074707, 'total_loss': 8.268265724182129}\n"
     ]
    },
    {
     "name": "stderr",
     "output_type": "stream",
     "text": [
      "Validating:  93%|█████████▎| 218/235 [01:44<00:08,  2.10it/s, loss=8.2541, avg_loss=7.9957]"
     ]
    },
    {
     "name": "stdout",
     "output_type": "stream",
     "text": [
      "{'kd_loss': 11.439972877502441, 'feature_loss': 0.3411540985107422, 'ce_loss': 8.153294563293457, 'cont_loss': 3.4855880737304688, 'teacher_loss': 8.090071678161621, 'total_loss': 8.254096031188965}\n"
     ]
    },
    {
     "name": "stderr",
     "output_type": "stream",
     "text": [
      "Validating:  93%|█████████▎| 219/235 [01:45<00:07,  2.10it/s, loss=8.1892, avg_loss=7.9966]"
     ]
    },
    {
     "name": "stdout",
     "output_type": "stream",
     "text": [
      "{'kd_loss': 11.353967666625977, 'feature_loss': 0.3468303680419922, 'ce_loss': 8.075918197631836, 'cont_loss': 3.479135036468506, 'teacher_loss': 8.087759971618652, 'total_loss': 8.189234733581543}\n"
     ]
    },
    {
     "name": "stderr",
     "output_type": "stream",
     "text": [
      "Validating:  94%|█████████▎| 220/235 [01:45<00:07,  2.10it/s, loss=8.2204, avg_loss=7.9976]"
     ]
    },
    {
     "name": "stdout",
     "output_type": "stream",
     "text": [
      "{'kd_loss': 11.395812034606934, 'feature_loss': 0.3335064649581909, 'ce_loss': 8.113665580749512, 'cont_loss': 3.4989285469055176, 'teacher_loss': 8.087289810180664, 'total_loss': 8.220385551452637}\n"
     ]
    },
    {
     "name": "stderr",
     "output_type": "stream",
     "text": [
      "Validating:  94%|█████████▍| 221/235 [01:46<00:06,  2.11it/s, loss=8.2644, avg_loss=7.9988]"
     ]
    },
    {
     "name": "stdout",
     "output_type": "stream",
     "text": [
      "{'kd_loss': 11.425029754638672, 'feature_loss': 0.3465999364852905, 'ce_loss': 8.139782905578613, 'cont_loss': 3.691281795501709, 'teacher_loss': 8.084436416625977, 'total_loss': 8.264373779296875}\n"
     ]
    },
    {
     "name": "stderr",
     "output_type": "stream",
     "text": [
      "Validating:  94%|█████████▍| 222/235 [01:46<00:06,  2.11it/s, loss=8.2887, avg_loss=8.0001]"
     ]
    },
    {
     "name": "stdout",
     "output_type": "stream",
     "text": [
      "{'kd_loss': 11.476629257202148, 'feature_loss': 0.3464968204498291, 'ce_loss': 8.186280250549316, 'cont_loss': 3.5419561862945557, 'teacher_loss': 8.09009838104248, 'total_loss': 8.28865909576416}\n"
     ]
    },
    {
     "name": "stderr",
     "output_type": "stream",
     "text": [
      "Validating:  95%|█████████▍| 223/235 [01:47<00:05,  2.11it/s, loss=8.1520, avg_loss=8.0008]"
     ]
    },
    {
     "name": "stdout",
     "output_type": "stream",
     "text": [
      "{'kd_loss': 11.310150146484375, 'feature_loss': 0.32430803775787354, 'ce_loss': 8.036011695861816, 'cont_loss': 3.4863181114196777, 'teacher_loss': 8.085715293884277, 'total_loss': 8.151958465576172}\n"
     ]
    },
    {
     "name": "stderr",
     "output_type": "stream",
     "text": [
      "Validating:  95%|█████████▌| 224/235 [01:47<00:05,  2.11it/s, loss=8.2472, avg_loss=8.0019]"
     ]
    },
    {
     "name": "stdout",
     "output_type": "stream",
     "text": [
      "{'kd_loss': 11.426538467407227, 'feature_loss': 0.3379915952682495, 'ce_loss': 8.141042709350586, 'cont_loss': 3.5256030559539795, 'teacher_loss': 8.088149070739746, 'total_loss': 8.247190475463867}\n"
     ]
    },
    {
     "name": "stderr",
     "output_type": "stream",
     "text": [
      "Validating:  96%|█████████▌| 225/235 [01:48<00:04,  2.11it/s, loss=8.2936, avg_loss=8.0032]"
     ]
    },
    {
     "name": "stdout",
     "output_type": "stream",
     "text": [
      "{'kd_loss': 11.480762481689453, 'feature_loss': 0.34441280364990234, 'ce_loss': 8.189974784851074, 'cont_loss': 3.564361572265625, 'teacher_loss': 8.091615676879883, 'total_loss': 8.29361343383789}\n"
     ]
    },
    {
     "name": "stderr",
     "output_type": "stream",
     "text": [
      "Validating:  96%|█████████▌| 226/235 [01:48<00:04,  2.10it/s, loss=8.2368, avg_loss=8.0043]"
     ]
    },
    {
     "name": "stdout",
     "output_type": "stream",
     "text": [
      "{'kd_loss': 11.390605926513672, 'feature_loss': 0.33850592374801636, 'ce_loss': 8.108419418334961, 'cont_loss': 3.6947083473205566, 'teacher_loss': 8.079334259033203, 'total_loss': 8.23678207397461}\n"
     ]
    },
    {
     "name": "stderr",
     "output_type": "stream",
     "text": [
      "Validating:  97%|█████████▋| 227/235 [01:49<00:03,  2.11it/s, loss=8.2342, avg_loss=8.0053]"
     ]
    },
    {
     "name": "stdout",
     "output_type": "stream",
     "text": [
      "{'kd_loss': 11.400070190429688, 'feature_loss': 0.34573864936828613, 'ce_loss': 8.11728572845459, 'cont_loss': 3.581023693084717, 'teacher_loss': 8.08836841583252, 'total_loss': 8.234192848205566}\n"
     ]
    },
    {
     "name": "stderr",
     "output_type": "stream",
     "text": [
      "Validating:  97%|█████████▋| 228/235 [01:49<00:03,  2.10it/s, loss=8.2729, avg_loss=8.0064]"
     ]
    },
    {
     "name": "stdout",
     "output_type": "stream",
     "text": [
      "{'kd_loss': 11.463286399841309, 'feature_loss': 0.3114055395126343, 'ce_loss': 8.174202919006348, 'cont_loss': 3.556286334991455, 'teacher_loss': 8.096345901489258, 'total_loss': 8.272906303405762}\n"
     ]
    },
    {
     "name": "stderr",
     "output_type": "stream",
     "text": [
      "Validating:  97%|█████████▋| 229/235 [01:50<00:02,  2.11it/s, loss=8.3077, avg_loss=8.0078]"
     ]
    },
    {
     "name": "stdout",
     "output_type": "stream",
     "text": [
      "{'kd_loss': 11.500060081481934, 'feature_loss': 0.3259640336036682, 'ce_loss': 8.207176208496094, 'cont_loss': 3.5958454608917236, 'teacher_loss': 8.085371017456055, 'total_loss': 8.307672500610352}\n"
     ]
    },
    {
     "name": "stderr",
     "output_type": "stream",
     "text": [
      "Validating:  98%|█████████▊| 230/235 [01:50<00:02,  2.10it/s, loss=8.2447, avg_loss=8.0088]"
     ]
    },
    {
     "name": "stdout",
     "output_type": "stream",
     "text": [
      "{'kd_loss': 11.40398120880127, 'feature_loss': 0.3378709554672241, 'ce_loss': 8.12087631225586, 'cont_loss': 3.6720924377441406, 'teacher_loss': 8.088228225708008, 'total_loss': 8.244726181030273}\n"
     ]
    },
    {
     "name": "stderr",
     "output_type": "stream",
     "text": [
      "Validating:  98%|█████████▊| 231/235 [01:50<00:01,  2.11it/s, loss=8.3206, avg_loss=8.0101]"
     ]
    },
    {
     "name": "stdout",
     "output_type": "stream",
     "text": [
      "{'kd_loss': 11.51067066192627, 'feature_loss': 0.32660555839538574, 'ce_loss': 8.216656684875488, 'cont_loss': 3.643756151199341, 'teacher_loss': 8.086886405944824, 'total_loss': 8.32062816619873}\n"
     ]
    },
    {
     "name": "stderr",
     "output_type": "stream",
     "text": [
      "Validating:  99%|█████████▊| 232/235 [01:51<00:01,  2.10it/s, loss=8.1575, avg_loss=8.0108]"
     ]
    },
    {
     "name": "stdout",
     "output_type": "stream",
     "text": [
      "{'kd_loss': 11.297969818115234, 'feature_loss': 0.3233318328857422, 'ce_loss': 8.025284767150879, 'cont_loss': 3.63566255569458, 'teacher_loss': 8.084107398986816, 'total_loss': 8.1575345993042}\n"
     ]
    },
    {
     "name": "stderr",
     "output_type": "stream",
     "text": [
      "Validating:  99%|█████████▉| 233/235 [01:51<00:00,  2.11it/s, loss=8.3276, avg_loss=8.0121]"
     ]
    },
    {
     "name": "stdout",
     "output_type": "stream",
     "text": [
      "{'kd_loss': 11.504288673400879, 'feature_loss': 0.36545586585998535, 'ce_loss': 8.210967063903809, 'cont_loss': 3.6845293045043945, 'teacher_loss': 8.087966918945312, 'total_loss': 8.327646255493164}\n"
     ]
    },
    {
     "name": "stderr",
     "output_type": "stream",
     "text": [
      "Validating: 100%|██████████| 235/235 [01:52<00:00,  2.57it/s, loss=8.2846, avg_loss=8.0141]"
     ]
    },
    {
     "name": "stdout",
     "output_type": "stream",
     "text": [
      "{'kd_loss': 11.353445053100586, 'feature_loss': 0.34189772605895996, 'ce_loss': 8.075336456298828, 'cont_loss': 3.634528398513794, 'teacher_loss': 8.090736389160156, 'total_loss': 8.20334529876709}\n",
      "{'kd_loss': 11.582466125488281, 'feature_loss': 0.3259623646736145, 'ce_loss': 8.282047271728516, 'cont_loss': 2.7361090183258057, 'teacher_loss': 8.090865135192871, 'total_loss': 8.284608840942383}\n"
     ]
    },
    {
     "name": "stderr",
     "output_type": "stream",
     "text": [
      "Validating: 100%|██████████| 235/235 [01:52<00:00,  2.09it/s, loss=8.2846, avg_loss=8.0141]\n"
     ]
    },
    {
     "name": "stdout",
     "output_type": "stream",
     "text": [
      "Epoch 3 | Train Loss: 9.9651 | Val Loss: 8.0141 | Top1 Acc: 0.01 | Top5 Acc: 0.02\n"
     ]
    },
    {
     "name": "stderr",
     "output_type": "stream",
     "text": [
      "Training: 100%|██████████| 1875/1875 [13:00<00:00,  2.40it/s, loss=9.9012, avg_loss=9.9150, lr=3.14e-5]\n",
      "Validating:   0%|          | 1/235 [00:02<07:50,  2.01s/it, loss=7.4512, avg_loss=7.4512]"
     ]
    },
    {
     "name": "stdout",
     "output_type": "stream",
     "text": [
      "{'kd_loss': 10.657630920410156, 'feature_loss': 0.30552154779434204, 'ce_loss': 7.448536396026611, 'cont_loss': 1.4765872955322266, 'teacher_loss': 8.101913452148438, 'total_loss': 7.451230525970459}\n"
     ]
    },
    {
     "name": "stderr",
     "output_type": "stream",
     "text": [
      "Validating:   1%|          | 2/235 [00:02<04:16,  1.10s/it, loss=7.7703, avg_loss=7.6108]"
     ]
    },
    {
     "name": "stdout",
     "output_type": "stream",
     "text": [
      "{'kd_loss': 11.074289321899414, 'feature_loss': 0.29174089431762695, 'ce_loss': 7.82359504699707, 'cont_loss': 1.5281174182891846, 'teacher_loss': 8.09958553314209, 'total_loss': 7.770313739776611}\n"
     ]
    },
    {
     "name": "stderr",
     "output_type": "stream",
     "text": [
      "Validating:   1%|▏         | 3/235 [00:02<03:08,  1.23it/s, loss=8.0350, avg_loss=7.7522]"
     ]
    },
    {
     "name": "stdout",
     "output_type": "stream",
     "text": [
      "{'kd_loss': 11.424253463745117, 'feature_loss': 0.2890697717666626, 'ce_loss': 8.139244079589844, 'cont_loss': 1.5180459022521973, 'teacher_loss': 8.091268539428711, 'total_loss': 8.035017967224121}\n"
     ]
    },
    {
     "name": "stderr",
     "output_type": "stream",
     "text": [
      "Validating:   2%|▏         | 4/235 [00:03<02:36,  1.48it/s, loss=7.4358, avg_loss=7.6731]"
     ]
    },
    {
     "name": "stdout",
     "output_type": "stream",
     "text": [
      "{'kd_loss': 10.650182723999023, 'feature_loss': 0.26109492778778076, 'ce_loss': 7.442002296447754, 'cont_loss': 1.467038869857788, 'teacher_loss': 8.0858793258667, 'total_loss': 7.435796737670898}\n"
     ]
    },
    {
     "name": "stderr",
     "output_type": "stream",
     "text": [
      "Validating:   2%|▏         | 5/235 [00:03<02:18,  1.66it/s, loss=7.1080, avg_loss=7.5601]"
     ]
    },
    {
     "name": "stdout",
     "output_type": "stream",
     "text": [
      "{'kd_loss': 10.224283218383789, 'feature_loss': 0.25161731243133545, 'ce_loss': 7.058654308319092, 'cont_loss': 1.4450198411941528, 'teacher_loss': 8.090337753295898, 'total_loss': 7.108001232147217}\n"
     ]
    },
    {
     "name": "stderr",
     "output_type": "stream",
     "text": [
      "Validating:   3%|▎         | 6/235 [00:04<02:07,  1.79it/s, loss=7.8496, avg_loss=7.6083]"
     ]
    },
    {
     "name": "stdout",
     "output_type": "stream",
     "text": [
      "{'kd_loss': 11.156871795654297, 'feature_loss': 0.38340044021606445, 'ce_loss': 7.898293495178223, 'cont_loss': 1.5088164806365967, 'teacher_loss': 8.08759593963623, 'total_loss': 7.849628448486328}\n"
     ]
    },
    {
     "name": "stderr",
     "output_type": "stream",
     "text": [
      "Validating:   3%|▎         | 7/235 [00:04<02:00,  1.89it/s, loss=7.7393, avg_loss=7.6270]"
     ]
    },
    {
     "name": "stdout",
     "output_type": "stream",
     "text": [
      "{'kd_loss': 11.03775405883789, 'feature_loss': 0.2941054105758667, 'ce_loss': 7.791220188140869, 'cont_loss': 1.4888029098510742, 'teacher_loss': 8.108675956726074, 'total_loss': 7.739291667938232}\n"
     ]
    },
    {
     "name": "stderr",
     "output_type": "stream",
     "text": [
      "Validating:   3%|▎         | 8/235 [00:05<01:56,  1.95it/s, loss=7.6924, avg_loss=7.6352]"
     ]
    },
    {
     "name": "stdout",
     "output_type": "stream",
     "text": [
      "{'kd_loss': 10.964734077453613, 'feature_loss': 0.33680570125579834, 'ce_loss': 7.725711345672607, 'cont_loss': 1.4887135028839111, 'teacher_loss': 8.094043731689453, 'total_loss': 7.692411422729492}\n"
     ]
    },
    {
     "name": "stderr",
     "output_type": "stream",
     "text": [
      "Validating:   4%|▍         | 9/235 [00:05<01:52,  2.00it/s, loss=7.6746, avg_loss=7.6396]"
     ]
    },
    {
     "name": "stdout",
     "output_type": "stream",
     "text": [
      "{'kd_loss': 10.972527503967285, 'feature_loss': 0.21056240797042847, 'ce_loss': 7.732152938842773, 'cont_loss': 1.5061454772949219, 'teacher_loss': 8.090972900390625, 'total_loss': 7.6745991706848145}\n"
     ]
    },
    {
     "name": "stderr",
     "output_type": "stream",
     "text": [
      "Validating:   4%|▍         | 10/235 [00:06<01:50,  2.03it/s, loss=7.6363, avg_loss=7.6393]"
     ]
    },
    {
     "name": "stdout",
     "output_type": "stream",
     "text": [
      "{'kd_loss': 10.904728889465332, 'feature_loss': 0.27338463068008423, 'ce_loss': 7.671682357788086, 'cont_loss': 1.5109926462173462, 'teacher_loss': 8.09151554107666, 'total_loss': 7.636341094970703}\n"
     ]
    },
    {
     "name": "stderr",
     "output_type": "stream",
     "text": [
      "Validating:   5%|▍         | 11/235 [00:06<01:48,  2.06it/s, loss=7.7303, avg_loss=7.6475]"
     ]
    },
    {
     "name": "stdout",
     "output_type": "stream",
     "text": [
      "{'kd_loss': 11.02110481262207, 'feature_loss': 0.3070898652076721, 'ce_loss': 7.776210308074951, 'cont_loss': 1.5000054836273193, 'teacher_loss': 8.090885162353516, 'total_loss': 7.730344772338867}\n"
     ]
    },
    {
     "name": "stderr",
     "output_type": "stream",
     "text": [
      "Validating:   5%|▌         | 12/235 [00:07<01:47,  2.08it/s, loss=7.7364, avg_loss=7.6550]"
     ]
    },
    {
     "name": "stdout",
     "output_type": "stream",
     "text": [
      "{'kd_loss': 11.038548469543457, 'feature_loss': 0.27965015172958374, 'ce_loss': 7.792355537414551, 'cont_loss': 1.4815739393234253, 'teacher_loss': 8.088220596313477, 'total_loss': 7.736449718475342}\n"
     ]
    },
    {
     "name": "stderr",
     "output_type": "stream",
     "text": [
      "Validating:   6%|▌         | 13/235 [00:07<01:46,  2.09it/s, loss=7.6752, avg_loss=7.6565]"
     ]
    },
    {
     "name": "stdout",
     "output_type": "stream",
     "text": [
      "{'kd_loss': 10.948960304260254, 'feature_loss': 0.31369078159332275, 'ce_loss': 7.711629867553711, 'cont_loss': 1.4820985794067383, 'teacher_loss': 8.094364166259766, 'total_loss': 7.67518424987793}\n"
     ]
    },
    {
     "name": "stderr",
     "output_type": "stream",
     "text": [
      "Validating:   6%|▌         | 14/235 [00:08<01:45,  2.10it/s, loss=7.9133, avg_loss=7.6748]"
     ]
    },
    {
     "name": "stdout",
     "output_type": "stream",
     "text": [
      "{'kd_loss': 11.242912292480469, 'feature_loss': 0.35485267639160156, 'ce_loss': 7.975605010986328, 'cont_loss': 1.5487256050109863, 'teacher_loss': 8.082722663879395, 'total_loss': 7.91325044631958}\n"
     ]
    },
    {
     "name": "stderr",
     "output_type": "stream",
     "text": [
      "Validating:   6%|▋         | 15/235 [00:08<01:44,  2.11it/s, loss=7.6457, avg_loss=7.6729]"
     ]
    },
    {
     "name": "stdout",
     "output_type": "stream",
     "text": [
      "{'kd_loss': 10.928983688354492, 'feature_loss': 0.2569437026977539, 'ce_loss': 7.693150520324707, 'cont_loss': 1.4541281461715698, 'teacher_loss': 8.09494400024414, 'total_loss': 7.645655155181885}\n"
     ]
    },
    {
     "name": "stderr",
     "output_type": "stream",
     "text": [
      "Validating:   7%|▋         | 16/235 [00:09<01:43,  2.11it/s, loss=7.9001, avg_loss=7.6871]"
     ]
    },
    {
     "name": "stdout",
     "output_type": "stream",
     "text": [
      "{'kd_loss': 11.243024826049805, 'feature_loss': 0.3093419671058655, 'ce_loss': 7.976365089416504, 'cont_loss': 1.5051703453063965, 'teacher_loss': 8.082989692687988, 'total_loss': 7.90014123916626}\n"
     ]
    },
    {
     "name": "stderr",
     "output_type": "stream",
     "text": [
      "Validating:   7%|▋         | 17/235 [00:09<01:43,  2.12it/s, loss=7.6669, avg_loss=7.6859]"
     ]
    },
    {
     "name": "stdout",
     "output_type": "stream",
     "text": [
      "{'kd_loss': 10.935539245605469, 'feature_loss': 0.3108779191970825, 'ce_loss': 7.699726104736328, 'cont_loss': 1.5060458183288574, 'teacher_loss': 8.103193283081055, 'total_loss': 7.666886806488037}\n"
     ]
    },
    {
     "name": "stderr",
     "output_type": "stream",
     "text": [
      "Validating:   8%|▊         | 18/235 [00:10<01:42,  2.12it/s, loss=7.5529, avg_loss=7.6785]"
     ]
    },
    {
     "name": "stdout",
     "output_type": "stream",
     "text": [
      "{'kd_loss': 10.798490524291992, 'feature_loss': 0.2678074240684509, 'ce_loss': 7.576071739196777, 'cont_loss': 1.4951536655426025, 'teacher_loss': 8.086246490478516, 'total_loss': 7.5529022216796875}\n"
     ]
    },
    {
     "name": "stderr",
     "output_type": "stream",
     "text": [
      "Validating:   8%|▊         | 19/235 [00:10<01:41,  2.12it/s, loss=7.7015, avg_loss=7.6797]"
     ]
    },
    {
     "name": "stdout",
     "output_type": "stream",
     "text": [
      "{'kd_loss': 10.990236282348633, 'feature_loss': 0.2793564796447754, 'ce_loss': 7.747959136962891, 'cont_loss': 1.5033249855041504, 'teacher_loss': 8.101973533630371, 'total_loss': 7.701482772827148}\n"
     ]
    },
    {
     "name": "stderr",
     "output_type": "stream",
     "text": [
      "Validating:   9%|▊         | 20/235 [00:10<01:41,  2.12it/s, loss=7.5079, avg_loss=7.6711]"
     ]
    },
    {
     "name": "stdout",
     "output_type": "stream",
     "text": [
      "{'kd_loss': 10.739274978637695, 'feature_loss': 0.26702654361724854, 'ce_loss': 7.5226287841796875, 'cont_loss': 1.4975711107254028, 'teacher_loss': 8.099211692810059, 'total_loss': 7.507923603057861}\n"
     ]
    },
    {
     "name": "stderr",
     "output_type": "stream",
     "text": [
      "Validating:   9%|▉         | 21/235 [00:11<01:41,  2.11it/s, loss=7.7718, avg_loss=7.6759]"
     ]
    },
    {
     "name": "stdout",
     "output_type": "stream",
     "text": [
      "{'kd_loss': 11.081743240356445, 'feature_loss': 0.27107661962509155, 'ce_loss': 7.831068992614746, 'cont_loss': 1.5250768661499023, 'teacher_loss': 8.103877067565918, 'total_loss': 7.771848201751709}\n"
     ]
    },
    {
     "name": "stderr",
     "output_type": "stream",
     "text": [
      "Validating:   9%|▉         | 22/235 [00:11<01:40,  2.11it/s, loss=7.8563, avg_loss=7.6841]"
     ]
    },
    {
     "name": "stdout",
     "output_type": "stream",
     "text": [
      "{'kd_loss': 11.207199096679688, 'feature_loss': 0.20802628993988037, 'ce_loss': 7.944114685058594, 'cont_loss': 1.5412266254425049, 'teacher_loss': 8.095902442932129, 'total_loss': 7.8562541007995605}\n"
     ]
    },
    {
     "name": "stderr",
     "output_type": "stream",
     "text": [
      "Validating:  10%|▉         | 23/235 [00:12<01:40,  2.12it/s, loss=7.5967, avg_loss=7.6803]"
     ]
    },
    {
     "name": "stdout",
     "output_type": "stream",
     "text": [
      "{'kd_loss': 10.82426643371582, 'feature_loss': 0.37521088123321533, 'ce_loss': 7.5987043380737305, 'cont_loss': 1.5245001316070557, 'teacher_loss': 8.071427345275879, 'total_loss': 7.596681118011475}\n"
     ]
    },
    {
     "name": "stderr",
     "output_type": "stream",
     "text": [
      "Validating:  10%|█         | 24/235 [00:12<01:39,  2.11it/s, loss=7.8452, avg_loss=7.6872]"
     ]
    },
    {
     "name": "stdout",
     "output_type": "stream",
     "text": [
      "{'kd_loss': 11.17683219909668, 'feature_loss': 0.2972448468208313, 'ce_loss': 7.916241645812988, 'cont_loss': 1.4856531620025635, 'teacher_loss': 8.078838348388672, 'total_loss': 7.845244407653809}\n"
     ]
    },
    {
     "name": "stderr",
     "output_type": "stream",
     "text": [
      "Validating:  11%|█         | 25/235 [00:13<01:39,  2.11it/s, loss=7.6985, avg_loss=7.6877]"
     ]
    },
    {
     "name": "stdout",
     "output_type": "stream",
     "text": [
      "{'kd_loss': 10.974393844604492, 'feature_loss': 0.32633674144744873, 'ce_loss': 7.734154224395752, 'cont_loss': 1.4985780715942383, 'teacher_loss': 8.098477363586426, 'total_loss': 7.698544979095459}\n"
     ]
    },
    {
     "name": "stderr",
     "output_type": "stream",
     "text": [
      "Validating:  11%|█         | 26/235 [00:13<01:38,  2.12it/s, loss=7.8736, avg_loss=7.6948]"
     ]
    },
    {
     "name": "stdout",
     "output_type": "stream",
     "text": [
      "{'kd_loss': 11.18833065032959, 'feature_loss': 0.3833991289138794, 'ce_loss': 7.9264726638793945, 'cont_loss': 1.510362148284912, 'teacher_loss': 8.100807189941406, 'total_loss': 7.8736371994018555}\n"
     ]
    },
    {
     "name": "stderr",
     "output_type": "stream",
     "text": [
      "Validating:  11%|█▏        | 27/235 [00:14<01:38,  2.11it/s, loss=7.6725, avg_loss=7.6940]"
     ]
    },
    {
     "name": "stdout",
     "output_type": "stream",
     "text": [
      "{'kd_loss': 10.942222595214844, 'feature_loss': 0.33532339334487915, 'ce_loss': 7.705536365509033, 'cont_loss': 1.4634181261062622, 'teacher_loss': 8.085021018981934, 'total_loss': 7.672510623931885}\n"
     ]
    },
    {
     "name": "stderr",
     "output_type": "stream",
     "text": [
      "Validating:  12%|█▏        | 28/235 [00:14<01:37,  2.12it/s, loss=7.5809, avg_loss=7.6899]"
     ]
    },
    {
     "name": "stdout",
     "output_type": "stream",
     "text": [
      "{'kd_loss': 10.828824043273926, 'feature_loss': 0.29301661252975464, 'ce_loss': 7.603373050689697, 'cont_loss': 1.4942626953125, 'teacher_loss': 8.090191841125488, 'total_loss': 7.58090877532959}\n"
     ]
    },
    {
     "name": "stderr",
     "output_type": "stream",
     "text": [
      "Validating:  12%|█▏        | 29/235 [00:15<01:37,  2.11it/s, loss=7.7700, avg_loss=7.6927]"
     ]
    },
    {
     "name": "stdout",
     "output_type": "stream",
     "text": [
      "{'kd_loss': 11.08240032196045, 'feature_loss': 0.27477651834487915, 'ce_loss': 7.830901145935059, 'cont_loss': 1.4971281290054321, 'teacher_loss': 8.086179733276367, 'total_loss': 7.769989013671875}\n"
     ]
    },
    {
     "name": "stderr",
     "output_type": "stream",
     "text": [
      "Validating:  13%|█▎        | 30/235 [00:15<01:36,  2.11it/s, loss=7.1656, avg_loss=7.6751]"
     ]
    },
    {
     "name": "stdout",
     "output_type": "stream",
     "text": [
      "{'kd_loss': 10.291177749633789, 'feature_loss': 0.30573368072509766, 'ce_loss': 7.118887901306152, 'cont_loss': 1.4040327072143555, 'teacher_loss': 8.086967468261719, 'total_loss': 7.165576457977295}\n"
     ]
    },
    {
     "name": "stderr",
     "output_type": "stream",
     "text": [
      "Validating:  13%|█▎        | 31/235 [00:16<01:36,  2.11it/s, loss=7.8626, avg_loss=7.6812]"
     ]
    },
    {
     "name": "stdout",
     "output_type": "stream",
     "text": [
      "{'kd_loss': 11.205141067504883, 'feature_loss': 0.29456669092178345, 'ce_loss': 7.941854953765869, 'cont_loss': 1.448873519897461, 'teacher_loss': 8.096757888793945, 'total_loss': 7.8625993728637695}\n"
     ]
    },
    {
     "name": "stderr",
     "output_type": "stream",
     "text": [
      "Validating:  14%|█▎        | 32/235 [00:16<01:36,  2.11it/s, loss=7.4955, avg_loss=7.6754]"
     ]
    },
    {
     "name": "stdout",
     "output_type": "stream",
     "text": [
      "{'kd_loss': 10.730552673339844, 'feature_loss': 0.2397962212562561, 'ce_loss': 7.515254974365234, 'cont_loss': 1.4922683238983154, 'teacher_loss': 8.100686073303223, 'total_loss': 7.495509147644043}\n"
     ]
    },
    {
     "name": "stderr",
     "output_type": "stream",
     "text": [
      "Validating:  14%|█▍        | 33/235 [00:17<01:35,  2.12it/s, loss=7.8702, avg_loss=7.6813]"
     ]
    },
    {
     "name": "stdout",
     "output_type": "stream",
     "text": [
      "{'kd_loss': 11.209622383117676, 'feature_loss': 0.2857847809791565, 'ce_loss': 7.946422100067139, 'cont_loss': 1.5061813592910767, 'teacher_loss': 8.06525993347168, 'total_loss': 7.870193004608154}\n"
     ]
    },
    {
     "name": "stderr",
     "output_type": "stream",
     "text": [
      "Validating:  14%|█▍        | 34/235 [00:17<01:35,  2.11it/s, loss=7.5913, avg_loss=7.6786]"
     ]
    },
    {
     "name": "stdout",
     "output_type": "stream",
     "text": [
      "{'kd_loss': 10.82361125946045, 'feature_loss': 0.3598870038986206, 'ce_loss': 7.598623275756836, 'cont_loss': 1.504677176475525, 'teacher_loss': 8.092735290527344, 'total_loss': 7.591339111328125}\n"
     ]
    },
    {
     "name": "stderr",
     "output_type": "stream",
     "text": [
      "Validating:  15%|█▍        | 35/235 [00:18<01:34,  2.11it/s, loss=7.5185, avg_loss=7.6741]"
     ]
    },
    {
     "name": "stdout",
     "output_type": "stream",
     "text": [
      "{'kd_loss': 10.739233016967773, 'feature_loss': 0.34644192457199097, 'ce_loss': 7.522359848022461, 'cont_loss': 1.4455571174621582, 'teacher_loss': 8.076075553894043, 'total_loss': 7.518481254577637}\n"
     ]
    },
    {
     "name": "stderr",
     "output_type": "stream",
     "text": [
      "Validating:  15%|█▌        | 36/235 [00:18<01:34,  2.11it/s, loss=7.5984, avg_loss=7.6720]"
     ]
    },
    {
     "name": "stdout",
     "output_type": "stream",
     "text": [
      "{'kd_loss': 10.868697166442871, 'feature_loss': 0.21393227577209473, 'ce_loss': 7.638864517211914, 'cont_loss': 1.5256835222244263, 'teacher_loss': 8.082094192504883, 'total_loss': 7.598379611968994}\n"
     ]
    },
    {
     "name": "stderr",
     "output_type": "stream",
     "text": [
      "Validating:  16%|█▌        | 37/235 [00:19<01:33,  2.11it/s, loss=7.8114, avg_loss=7.6757]"
     ]
    },
    {
     "name": "stdout",
     "output_type": "stream",
     "text": [
      "{'kd_loss': 11.12977409362793, 'feature_loss': 0.24334287643432617, 'ce_loss': 7.874311447143555, 'cont_loss': 1.6106898784637451, 'teacher_loss': 8.094429969787598, 'total_loss': 7.811371803283691}\n"
     ]
    },
    {
     "name": "stderr",
     "output_type": "stream",
     "text": [
      "Validating:  16%|█▌        | 38/235 [00:19<01:33,  2.11it/s, loss=7.6172, avg_loss=7.6742]"
     ]
    },
    {
     "name": "stdout",
     "output_type": "stream",
     "text": [
      "{'kd_loss': 10.835196495056152, 'feature_loss': 0.3436218500137329, 'ce_loss': 7.609044075012207, 'cont_loss': 1.7080193758010864, 'teacher_loss': 8.086621284484863, 'total_loss': 7.617222785949707}\n"
     ]
    },
    {
     "name": "stderr",
     "output_type": "stream",
     "text": [
      "Validating:  17%|█▋        | 39/235 [00:19<01:32,  2.11it/s, loss=7.8226, avg_loss=7.6780]"
     ]
    },
    {
     "name": "stdout",
     "output_type": "stream",
     "text": [
      "{'kd_loss': 11.152323722839355, 'feature_loss': 0.2531237006187439, 'ce_loss': 7.8946852684021, 'cont_loss': 1.5313875675201416, 'teacher_loss': 8.094921112060547, 'total_loss': 7.822566986083984}\n"
     ]
    },
    {
     "name": "stderr",
     "output_type": "stream",
     "text": [
      "Validating:  17%|█▋        | 40/235 [00:20<01:32,  2.11it/s, loss=7.8504, avg_loss=7.6823]"
     ]
    },
    {
     "name": "stdout",
     "output_type": "stream",
     "text": [
      "{'kd_loss': 11.179256439208984, 'feature_loss': 0.18803942203521729, 'ce_loss': 7.9189653396606445, 'cont_loss': 1.7346365451812744, 'teacher_loss': 8.101325988769531, 'total_loss': 7.850359916687012}\n"
     ]
    },
    {
     "name": "stderr",
     "output_type": "stream",
     "text": [
      "Validating:  17%|█▋        | 41/235 [00:20<01:32,  2.11it/s, loss=7.4942, avg_loss=7.6777]"
     ]
    },
    {
     "name": "stdout",
     "output_type": "stream",
     "text": [
      "{'kd_loss': 10.704900741577148, 'feature_loss': 0.26863932609558105, 'ce_loss': 7.491726398468018, 'cont_loss': 1.6182860136032104, 'teacher_loss': 8.087200164794922, 'total_loss': 7.494207859039307}\n"
     ]
    },
    {
     "name": "stderr",
     "output_type": "stream",
     "text": [
      "Validating:  18%|█▊        | 42/235 [00:21<01:31,  2.11it/s, loss=7.3894, avg_loss=7.6708]"
     ]
    },
    {
     "name": "stdout",
     "output_type": "stream",
     "text": [
      "{'kd_loss': 10.569354057312012, 'feature_loss': 0.27574580907821655, 'ce_loss': 7.3699822425842285, 'cont_loss': 1.5853759050369263, 'teacher_loss': 8.08630084991455, 'total_loss': 7.389420986175537}\n"
     ]
    },
    {
     "name": "stderr",
     "output_type": "stream",
     "text": [
      "Validating:  18%|█▊        | 43/235 [00:21<01:30,  2.11it/s, loss=7.6681, avg_loss=7.6708]"
     ]
    },
    {
     "name": "stdout",
     "output_type": "stream",
     "text": [
      "{'kd_loss': 10.927044868469238, 'feature_loss': 0.35531800985336304, 'ce_loss': 7.6918625831604, 'cont_loss': 1.4947571754455566, 'teacher_loss': 8.082770347595215, 'total_loss': 7.668102264404297}\n"
     ]
    },
    {
     "name": "stderr",
     "output_type": "stream",
     "text": [
      "Validating:  19%|█▊        | 44/235 [00:22<01:30,  2.11it/s, loss=8.1460, avg_loss=7.6816]"
     ]
    },
    {
     "name": "stdout",
     "output_type": "stream",
     "text": [
      "{'kd_loss': 11.557931900024414, 'feature_loss': 0.24200457334518433, 'ce_loss': 8.259355545043945, 'cont_loss': 1.7068794965744019, 'teacher_loss': 8.081990242004395, 'total_loss': 8.146003723144531}\n"
     ]
    },
    {
     "name": "stderr",
     "output_type": "stream",
     "text": [
      "Validating:  19%|█▉        | 45/235 [00:22<01:29,  2.12it/s, loss=7.8059, avg_loss=7.6843]"
     ]
    },
    {
     "name": "stdout",
     "output_type": "stream",
     "text": [
      "{'kd_loss': 11.112860679626465, 'feature_loss': 0.28799235820770264, 'ce_loss': 7.858736038208008, 'cont_loss': 1.5965616703033447, 'teacher_loss': 8.101508140563965, 'total_loss': 7.805893421173096}\n"
     ]
    },
    {
     "name": "stderr",
     "output_type": "stream",
     "text": [
      "Validating:  20%|█▉        | 46/235 [00:23<01:29,  2.11it/s, loss=8.0272, avg_loss=7.6918]"
     ]
    },
    {
     "name": "stdout",
     "output_type": "stream",
     "text": [
      "{'kd_loss': 11.385902404785156, 'feature_loss': 0.3425368666648865, 'ce_loss': 8.104520797729492, 'cont_loss': 1.625173807144165, 'teacher_loss': 8.106317520141602, 'total_loss': 8.027194023132324}\n"
     ]
    },
    {
     "name": "stderr",
     "output_type": "stream",
     "text": [
      "Validating:  20%|██        | 47/235 [00:23<01:29,  2.11it/s, loss=7.6769, avg_loss=7.6915]"
     ]
    },
    {
     "name": "stdout",
     "output_type": "stream",
     "text": [
      "{'kd_loss': 10.935258865356445, 'feature_loss': 0.24120879173278809, 'ce_loss': 7.699244976043701, 'cont_loss': 1.7483806610107422, 'teacher_loss': 8.099357604980469, 'total_loss': 7.676881313323975}\n"
     ]
    },
    {
     "name": "stderr",
     "output_type": "stream",
     "text": [
      "Validating:  20%|██        | 48/235 [00:24<01:28,  2.11it/s, loss=7.4788, avg_loss=7.6871]"
     ]
    },
    {
     "name": "stdout",
     "output_type": "stream",
     "text": [
      "{'kd_loss': 10.664838790893555, 'feature_loss': 0.35145795345306396, 'ce_loss': 7.454915523529053, 'cont_loss': 1.6063711643218994, 'teacher_loss': 8.0966215133667, 'total_loss': 7.478830337524414}\n"
     ]
    },
    {
     "name": "stderr",
     "output_type": "stream",
     "text": [
      "Validating:  21%|██        | 49/235 [00:24<01:28,  2.11it/s, loss=7.5736, avg_loss=7.6847]"
     ]
    },
    {
     "name": "stdout",
     "output_type": "stream",
     "text": [
      "{'kd_loss': 10.797582626342773, 'feature_loss': 0.28778934478759766, 'ce_loss': 7.574448585510254, 'cont_loss': 1.6726244688034058, 'teacher_loss': 8.09742259979248, 'total_loss': 7.573633193969727}\n"
     ]
    },
    {
     "name": "stderr",
     "output_type": "stream",
     "text": [
      "Validating:  21%|██▏       | 50/235 [00:25<01:27,  2.11it/s, loss=7.5437, avg_loss=7.6819]"
     ]
    },
    {
     "name": "stdout",
     "output_type": "stream",
     "text": [
      "{'kd_loss': 10.756070137023926, 'feature_loss': 0.3022979497909546, 'ce_loss': 7.537325382232666, 'cont_loss': 1.658372402191162, 'teacher_loss': 8.076807022094727, 'total_loss': 7.5436553955078125}\n"
     ]
    },
    {
     "name": "stderr",
     "output_type": "stream",
     "text": [
      "Validating:  22%|██▏       | 51/235 [00:25<01:27,  2.11it/s, loss=7.4359, avg_loss=7.6771]"
     ]
    },
    {
     "name": "stdout",
     "output_type": "stream",
     "text": [
      "{'kd_loss': 10.605727195739746, 'feature_loss': 0.2931870222091675, 'ce_loss': 7.403014183044434, 'cont_loss': 1.7376322746276855, 'teacher_loss': 8.080177307128906, 'total_loss': 7.4358978271484375}\n"
     ]
    },
    {
     "name": "stderr",
     "output_type": "stream",
     "text": [
      "Validating:  22%|██▏       | 52/235 [00:26<01:27,  2.10it/s, loss=7.7650, avg_loss=7.6788]"
     ]
    },
    {
     "name": "stdout",
     "output_type": "stream",
     "text": [
      "{'kd_loss': 11.054316520690918, 'feature_loss': 0.2603110074996948, 'ce_loss': 7.806372165679932, 'cont_loss': 1.687086582183838, 'teacher_loss': 8.096566200256348, 'total_loss': 7.765046119689941}\n"
     ]
    },
    {
     "name": "stderr",
     "output_type": "stream",
     "text": [
      "Validating:  23%|██▎       | 53/235 [00:26<01:26,  2.11it/s, loss=7.7445, avg_loss=7.6800]"
     ]
    },
    {
     "name": "stdout",
     "output_type": "stream",
     "text": [
      "{'kd_loss': 11.003667831420898, 'feature_loss': 0.3024594783782959, 'ce_loss': 7.760178565979004, 'cont_loss': 1.784574270248413, 'teacher_loss': 8.096360206604004, 'total_loss': 7.744487762451172}\n"
     ]
    },
    {
     "name": "stderr",
     "output_type": "stream",
     "text": [
      "Validating:  23%|██▎       | 54/235 [00:27<01:25,  2.11it/s, loss=7.8162, avg_loss=7.6825]"
     ]
    },
    {
     "name": "stdout",
     "output_type": "stream",
     "text": [
      "{'kd_loss': 11.083927154541016, 'feature_loss': 0.3893001079559326, 'ce_loss': 7.832248210906982, 'cont_loss': 1.7185921669006348, 'teacher_loss': 8.086715698242188, 'total_loss': 7.816189289093018}\n"
     ]
    },
    {
     "name": "stderr",
     "output_type": "stream",
     "text": [
      "Validating:  23%|██▎       | 55/235 [00:27<01:25,  2.11it/s, loss=7.3947, avg_loss=7.6773]"
     ]
    },
    {
     "name": "stdout",
     "output_type": "stream",
     "text": [
      "{'kd_loss': 10.54797649383545, 'feature_loss': 0.32803428173065186, 'ce_loss': 7.349902153015137, 'cont_loss': 1.6990560293197632, 'teacher_loss': 8.098128318786621, 'total_loss': 7.394664287567139}\n"
     ]
    },
    {
     "name": "stderr",
     "output_type": "stream",
     "text": [
      "Validating:  24%|██▍       | 56/235 [00:28<01:24,  2.11it/s, loss=7.9635, avg_loss=7.6824]"
     ]
    },
    {
     "name": "stdout",
     "output_type": "stream",
     "text": [
      "{'kd_loss': 11.280144691467285, 'feature_loss': 0.3339194059371948, 'ce_loss': 8.009047508239746, 'cont_loss': 1.8103222846984863, 'teacher_loss': 8.094681739807129, 'total_loss': 7.9634928703308105}\n"
     ]
    },
    {
     "name": "stderr",
     "output_type": "stream",
     "text": [
      "Validating:  24%|██▍       | 57/235 [00:28<01:24,  2.11it/s, loss=7.6556, avg_loss=7.6820]"
     ]
    },
    {
     "name": "stdout",
     "output_type": "stream",
     "text": [
      "{'kd_loss': 10.886796951293945, 'feature_loss': 0.29406625032424927, 'ce_loss': 7.655346870422363, 'cont_loss': 1.7996532917022705, 'teacher_loss': 8.097332000732422, 'total_loss': 7.655636310577393}\n"
     ]
    },
    {
     "name": "stderr",
     "output_type": "stream",
     "text": [
      "Validating:  25%|██▍       | 58/235 [00:28<01:24,  2.11it/s, loss=7.7297, avg_loss=7.6828]"
     ]
    },
    {
     "name": "stdout",
     "output_type": "stream",
     "text": [
      "{'kd_loss': 10.983552932739258, 'feature_loss': 0.2790185809135437, 'ce_loss': 7.742320537567139, 'cont_loss': 1.8352171182632446, 'teacher_loss': 8.098104476928711, 'total_loss': 7.729674816131592}\n"
     ]
    },
    {
     "name": "stderr",
     "output_type": "stream",
     "text": [
      "Validating:  25%|██▌       | 59/235 [00:29<01:23,  2.11it/s, loss=7.9652, avg_loss=7.6876]"
     ]
    },
    {
     "name": "stdout",
     "output_type": "stream",
     "text": [
      "{'kd_loss': 11.295231819152832, 'feature_loss': 0.2745611071586609, 'ce_loss': 8.022978782653809, 'cont_loss': 1.830461859703064, 'teacher_loss': 8.085620880126953, 'total_loss': 7.965242385864258}\n"
     ]
    },
    {
     "name": "stderr",
     "output_type": "stream",
     "text": [
      "Validating:  26%|██▌       | 60/235 [00:29<01:23,  2.11it/s, loss=8.1058, avg_loss=7.6945]"
     ]
    },
    {
     "name": "stdout",
     "output_type": "stream",
     "text": [
      "{'kd_loss': 11.463375091552734, 'feature_loss': 0.3346449136734009, 'ce_loss': 8.1739501953125, 'cont_loss': 1.8399062156677246, 'teacher_loss': 8.069732666015625, 'total_loss': 8.105849266052246}\n"
     ]
    },
    {
     "name": "stderr",
     "output_type": "stream",
     "text": [
      "Validating:  26%|██▌       | 61/235 [00:30<01:22,  2.11it/s, loss=7.6527, avg_loss=7.6938]"
     ]
    },
    {
     "name": "stdout",
     "output_type": "stream",
     "text": [
      "{'kd_loss': 10.877899169921875, 'feature_loss': 0.2799464464187622, 'ce_loss': 7.647346496582031, 'cont_loss': 1.86616849899292, 'teacher_loss': 8.078882217407227, 'total_loss': 7.652704238891602}\n"
     ]
    },
    {
     "name": "stderr",
     "output_type": "stream",
     "text": [
      "Validating:  26%|██▋       | 62/235 [00:30<01:22,  2.10it/s, loss=7.8481, avg_loss=7.6963]"
     ]
    },
    {
     "name": "stdout",
     "output_type": "stream",
     "text": [
      "{'kd_loss': 11.146659851074219, 'feature_loss': 0.231550395488739, 'ce_loss': 7.889233589172363, 'cont_loss': 1.874497652053833, 'teacher_loss': 8.092558860778809, 'total_loss': 7.848117351531982}\n"
     ]
    },
    {
     "name": "stderr",
     "output_type": "stream",
     "text": [
      "Validating:  27%|██▋       | 63/235 [00:31<01:21,  2.11it/s, loss=8.0144, avg_loss=7.7014]"
     ]
    },
    {
     "name": "stdout",
     "output_type": "stream",
     "text": [
      "{'kd_loss': 11.334227561950684, 'feature_loss': 0.2887834906578064, 'ce_loss': 8.05849552154541, 'cont_loss': 1.9952809810638428, 'teacher_loss': 8.087017059326172, 'total_loss': 8.014373779296875}\n"
     ]
    },
    {
     "name": "stderr",
     "output_type": "stream",
     "text": [
      "Validating:  27%|██▋       | 64/235 [00:31<01:21,  2.11it/s, loss=7.9447, avg_loss=7.7052]"
     ]
    },
    {
     "name": "stdout",
     "output_type": "stream",
     "text": [
      "{'kd_loss': 11.252262115478516, 'feature_loss': 0.31723010540008545, 'ce_loss': 7.984438896179199, 'cont_loss': 1.8652796745300293, 'teacher_loss': 8.079812049865723, 'total_loss': 7.94465446472168}\n"
     ]
    },
    {
     "name": "stderr",
     "output_type": "stream",
     "text": [
      "Validating:  28%|██▊       | 65/235 [00:32<01:20,  2.11it/s, loss=7.9736, avg_loss=7.7093]"
     ]
    },
    {
     "name": "stdout",
     "output_type": "stream",
     "text": [
      "{'kd_loss': 11.29038143157959, 'feature_loss': 0.2842041254043579, 'ce_loss': 8.018805503845215, 'cont_loss': 1.9307599067687988, 'teacher_loss': 8.078360557556152, 'total_loss': 7.9735918045043945}\n"
     ]
    },
    {
     "name": "stderr",
     "output_type": "stream",
     "text": [
      "Validating:  28%|██▊       | 66/235 [00:32<01:20,  2.10it/s, loss=7.8289, avg_loss=7.7111]"
     ]
    },
    {
     "name": "stdout",
     "output_type": "stream",
     "text": [
      "{'kd_loss': 11.123334884643555, 'feature_loss': 0.23608094453811646, 'ce_loss': 7.868498802185059, 'cont_loss': 1.849287986755371, 'teacher_loss': 8.083507537841797, 'total_loss': 7.828879356384277}\n"
     ]
    },
    {
     "name": "stderr",
     "output_type": "stream",
     "text": [
      "Validating:  29%|██▊       | 67/235 [00:33<01:19,  2.11it/s, loss=7.8550, avg_loss=7.7133]"
     ]
    },
    {
     "name": "stdout",
     "output_type": "stream",
     "text": [
      "{'kd_loss': 11.141620635986328, 'feature_loss': 0.2949709892272949, 'ce_loss': 7.884237289428711, 'cont_loss': 1.8563936948776245, 'teacher_loss': 8.0939302444458, 'total_loss': 7.854976654052734}\n"
     ]
    },
    {
     "name": "stderr",
     "output_type": "stream",
     "text": [
      "Validating:  29%|██▉       | 68/235 [00:33<01:19,  2.10it/s, loss=8.1300, avg_loss=7.7194]"
     ]
    },
    {
     "name": "stdout",
     "output_type": "stream",
     "text": [
      "{'kd_loss': 11.475859642028809, 'feature_loss': 0.29364311695098877, 'ce_loss': 8.18516731262207, 'cont_loss': 2.0690715312957764, 'teacher_loss': 8.081527709960938, 'total_loss': 8.130046844482422}\n"
     ]
    },
    {
     "name": "stderr",
     "output_type": "stream",
     "text": [
      "Validating:  29%|██▉       | 69/235 [00:34<01:19,  2.10it/s, loss=7.9969, avg_loss=7.7234]"
     ]
    },
    {
     "name": "stdout",
     "output_type": "stream",
     "text": [
      "{'kd_loss': 11.32795238494873, 'feature_loss': 0.2880464196205139, 'ce_loss': 8.052702903747559, 'cont_loss': 1.8698304891586304, 'teacher_loss': 8.091423988342285, 'total_loss': 7.996854305267334}\n"
     ]
    },
    {
     "name": "stderr",
     "output_type": "stream",
     "text": [
      "Validating:  30%|██▉       | 70/235 [00:34<01:18,  2.11it/s, loss=7.8013, avg_loss=7.7245]"
     ]
    },
    {
     "name": "stdout",
     "output_type": "stream",
     "text": [
      "{'kd_loss': 11.07341480255127, 'feature_loss': 0.2766627073287964, 'ce_loss': 7.823552131652832, 'cont_loss': 1.8720409870147705, 'teacher_loss': 8.096050262451172, 'total_loss': 7.801323413848877}\n"
     ]
    },
    {
     "name": "stderr",
     "output_type": "stream",
     "text": [
      "Validating:  30%|███       | 71/235 [00:35<01:18,  2.10it/s, loss=7.7828, avg_loss=7.7254]"
     ]
    },
    {
     "name": "stdout",
     "output_type": "stream",
     "text": [
      "{'kd_loss': 11.030069351196289, 'feature_loss': 0.3028137683868408, 'ce_loss': 7.784380912780762, 'cont_loss': 1.9642807245254517, 'teacher_loss': 8.093352317810059, 'total_loss': 7.782771110534668}\n"
     ]
    },
    {
     "name": "stderr",
     "output_type": "stream",
     "text": [
      "Validating:  31%|███       | 72/235 [00:35<01:17,  2.11it/s, loss=7.7235, avg_loss=7.7253]"
     ]
    },
    {
     "name": "stdout",
     "output_type": "stream",
     "text": [
      "{'kd_loss': 10.949321746826172, 'feature_loss': 0.30600082874298096, 'ce_loss': 7.711716651916504, 'cont_loss': 1.9786697626113892, 'teacher_loss': 8.081450462341309, 'total_loss': 7.723482608795166}\n"
     ]
    },
    {
     "name": "stderr",
     "output_type": "stream",
     "text": [
      "Validating:  31%|███       | 73/235 [00:36<01:17,  2.10it/s, loss=7.6740, avg_loss=7.7246]"
     ]
    },
    {
     "name": "stdout",
     "output_type": "stream",
     "text": [
      "{'kd_loss': 10.898781776428223, 'feature_loss': 0.2744255065917969, 'ce_loss': 7.665897369384766, 'cont_loss': 1.93204927444458, 'teacher_loss': 8.082971572875977, 'total_loss': 7.673961639404297}\n"
     ]
    },
    {
     "name": "stderr",
     "output_type": "stream",
     "text": [
      "Validating:  31%|███▏      | 74/235 [00:36<01:16,  2.10it/s, loss=7.9291, avg_loss=7.7274]"
     ]
    },
    {
     "name": "stdout",
     "output_type": "stream",
     "text": [
      "{'kd_loss': 11.230324745178223, 'feature_loss': 0.2564074993133545, 'ce_loss': 7.964503288269043, 'cont_loss': 1.999039888381958, 'teacher_loss': 8.086008071899414, 'total_loss': 7.929116725921631}\n"
     ]
    },
    {
     "name": "stderr",
     "output_type": "stream",
     "text": [
      "Validating:  32%|███▏      | 75/235 [00:37<01:16,  2.10it/s, loss=7.7817, avg_loss=7.7281]"
     ]
    },
    {
     "name": "stdout",
     "output_type": "stream",
     "text": [
      "{'kd_loss': 11.032424926757812, 'feature_loss': 0.268105149269104, 'ce_loss': 7.786652565002441, 'cont_loss': 2.0042991638183594, 'teacher_loss': 8.081727981567383, 'total_loss': 7.781682014465332}\n"
     ]
    },
    {
     "name": "stderr",
     "output_type": "stream",
     "text": [
      "Validating:  32%|███▏      | 76/235 [00:37<01:15,  2.10it/s, loss=7.8168, avg_loss=7.7293]"
     ]
    },
    {
     "name": "stdout",
     "output_type": "stream",
     "text": [
      "{'kd_loss': 11.070106506347656, 'feature_loss': 0.30424898862838745, 'ce_loss': 7.820308208465576, 'cont_loss': 1.9975470304489136, 'teacher_loss': 8.091291427612305, 'total_loss': 7.816770553588867}\n"
     ]
    },
    {
     "name": "stderr",
     "output_type": "stream",
     "text": [
      "Validating:  33%|███▎      | 77/235 [00:37<01:15,  2.10it/s, loss=7.9348, avg_loss=7.7319]"
     ]
    },
    {
     "name": "stdout",
     "output_type": "stream",
     "text": [
      "{'kd_loss': 11.220877647399902, 'feature_loss': 0.2889859676361084, 'ce_loss': 7.956130504608154, 'cont_loss': 2.0616822242736816, 'teacher_loss': 8.082419395446777, 'total_loss': 7.9347686767578125}\n"
     ]
    },
    {
     "name": "stderr",
     "output_type": "stream",
     "text": [
      "Validating:  33%|███▎      | 78/235 [00:38<01:14,  2.10it/s, loss=7.7599, avg_loss=7.7323]"
     ]
    },
    {
     "name": "stdout",
     "output_type": "stream",
     "text": [
      "{'kd_loss': 10.988238334655762, 'feature_loss': 0.3254830837249756, 'ce_loss': 7.7468671798706055, 'cont_loss': 2.0072009563446045, 'teacher_loss': 8.094183921813965, 'total_loss': 7.759859561920166}\n"
     ]
    },
    {
     "name": "stderr",
     "output_type": "stream",
     "text": [
      "Validating:  34%|███▎      | 79/235 [00:38<01:14,  2.10it/s, loss=7.9815, avg_loss=7.7355]"
     ]
    },
    {
     "name": "stdout",
     "output_type": "stream",
     "text": [
      "{'kd_loss': 11.272848129272461, 'feature_loss': 0.27246683835983276, 'ce_loss': 8.002859115600586, 'cont_loss': 2.167044162750244, 'teacher_loss': 8.088519096374512, 'total_loss': 7.981481075286865}\n"
     ]
    },
    {
     "name": "stderr",
     "output_type": "stream",
     "text": [
      "Validating:  34%|███▍      | 80/235 [00:39<01:13,  2.10it/s, loss=7.8553, avg_loss=7.7370]"
     ]
    },
    {
     "name": "stdout",
     "output_type": "stream",
     "text": [
      "{'kd_loss': 11.110989570617676, 'feature_loss': 0.29302895069122314, 'ce_loss': 7.85723352432251, 'cont_loss': 2.093909502029419, 'teacher_loss': 8.083855628967285, 'total_loss': 7.855286121368408}\n"
     ]
    },
    {
     "name": "stderr",
     "output_type": "stream",
     "text": [
      "Validating:  34%|███▍      | 81/235 [00:39<01:13,  2.10it/s, loss=7.7022, avg_loss=7.7365]"
     ]
    },
    {
     "name": "stdout",
     "output_type": "stream",
     "text": [
      "{'kd_loss': 10.905892372131348, 'feature_loss': 0.31653690338134766, 'ce_loss': 7.673137664794922, 'cont_loss': 2.0725228786468506, 'teacher_loss': 8.086974143981934, 'total_loss': 7.70217227935791}\n"
     ]
    },
    {
     "name": "stderr",
     "output_type": "stream",
     "text": [
      "Validating:  35%|███▍      | 82/235 [00:40<01:12,  2.10it/s, loss=7.8760, avg_loss=7.7382]"
     ]
    },
    {
     "name": "stdout",
     "output_type": "stream",
     "text": [
      "{'kd_loss': 11.137728691101074, 'feature_loss': 0.295501172542572, 'ce_loss': 7.881442546844482, 'cont_loss': 2.0925393104553223, 'teacher_loss': 8.091136932373047, 'total_loss': 7.876022815704346}\n"
     ]
    },
    {
     "name": "stderr",
     "output_type": "stream",
     "text": [
      "Validating:  35%|███▌      | 83/235 [00:40<01:12,  2.10it/s, loss=7.8625, avg_loss=7.7397]"
     ]
    },
    {
     "name": "stdout",
     "output_type": "stream",
     "text": [
      "{'kd_loss': 11.121681213378906, 'feature_loss': 0.28563177585601807, 'ce_loss': 7.86646842956543, 'cont_loss': 2.1013617515563965, 'teacher_loss': 8.092124938964844, 'total_loss': 7.862523078918457}\n"
     ]
    },
    {
     "name": "stderr",
     "output_type": "stream",
     "text": [
      "Validating:  36%|███▌      | 84/235 [00:41<01:11,  2.10it/s, loss=7.8335, avg_loss=7.7408]"
     ]
    },
    {
     "name": "stdout",
     "output_type": "stream",
     "text": [
      "{'kd_loss': 11.089744567871094, 'feature_loss': 0.26993244886398315, 'ce_loss': 7.838356971740723, 'cont_loss': 2.082805633544922, 'teacher_loss': 8.097683906555176, 'total_loss': 7.833507537841797}\n"
     ]
    },
    {
     "name": "stderr",
     "output_type": "stream",
     "text": [
      "Validating:  36%|███▌      | 85/235 [00:41<01:11,  2.09it/s, loss=7.8725, avg_loss=7.7424]"
     ]
    },
    {
     "name": "stdout",
     "output_type": "stream",
     "text": [
      "{'kd_loss': 11.114761352539062, 'feature_loss': 0.35649800300598145, 'ce_loss': 7.860606670379639, 'cont_loss': 2.110861301422119, 'teacher_loss': 8.08639144897461, 'total_loss': 7.872533321380615}\n"
     ]
    },
    {
     "name": "stderr",
     "output_type": "stream",
     "text": [
      "Validating:  37%|███▋      | 86/235 [00:42<01:11,  2.09it/s, loss=7.9489, avg_loss=7.7448]"
     ]
    },
    {
     "name": "stdout",
     "output_type": "stream",
     "text": [
      "{'kd_loss': 11.208881378173828, 'feature_loss': 0.3049778342247009, 'ce_loss': 7.944765567779541, 'cont_loss': 2.264910936355591, 'teacher_loss': 8.085392951965332, 'total_loss': 7.948945045471191}\n"
     ]
    },
    {
     "name": "stderr",
     "output_type": "stream",
     "text": [
      "Validating:  37%|███▋      | 87/235 [00:42<01:10,  2.09it/s, loss=8.0516, avg_loss=7.7483]"
     ]
    },
    {
     "name": "stdout",
     "output_type": "stream",
     "text": [
      "{'kd_loss': 11.343781471252441, 'feature_loss': 0.3755061626434326, 'ce_loss': 8.066604614257812, 'cont_loss': 2.1233410835266113, 'teacher_loss': 8.08460807800293, 'total_loss': 8.051589965820312}\n"
     ]
    },
    {
     "name": "stderr",
     "output_type": "stream",
     "text": [
      "Validating:  37%|███▋      | 88/235 [00:43<01:10,  2.09it/s, loss=7.9661, avg_loss=7.7508]"
     ]
    },
    {
     "name": "stdout",
     "output_type": "stream",
     "text": [
      "{'kd_loss': 11.24561882019043, 'feature_loss': 0.30643075704574585, 'ce_loss': 7.9784417152404785, 'cont_loss': 2.1522254943847656, 'teacher_loss': 8.092999458312988, 'total_loss': 7.966132640838623}\n"
     ]
    },
    {
     "name": "stderr",
     "output_type": "stream",
     "text": [
      "Validating:  38%|███▊      | 89/235 [00:43<01:09,  2.10it/s, loss=8.0107, avg_loss=7.7537]"
     ]
    },
    {
     "name": "stdout",
     "output_type": "stream",
     "text": [
      "{'kd_loss': 11.302620887756348, 'feature_loss': 0.29241955280303955, 'ce_loss': 8.029484748840332, 'cont_loss': 2.1934654712677, 'teacher_loss': 8.089869499206543, 'total_loss': 8.010673522949219}\n"
     ]
    },
    {
     "name": "stderr",
     "output_type": "stream",
     "text": [
      "Validating:  38%|███▊      | 90/235 [00:44<01:09,  2.09it/s, loss=8.1402, avg_loss=7.7580]"
     ]
    },
    {
     "name": "stdout",
     "output_type": "stream",
     "text": [
      "{'kd_loss': 11.471681594848633, 'feature_loss': 0.31410300731658936, 'ce_loss': 8.18186092376709, 'cont_loss': 2.1596429347991943, 'teacher_loss': 8.09175968170166, 'total_loss': 8.140201568603516}\n"
     ]
    },
    {
     "name": "stderr",
     "output_type": "stream",
     "text": [
      "Validating:  39%|███▊      | 91/235 [00:44<01:08,  2.10it/s, loss=8.0757, avg_loss=7.7615]"
     ]
    },
    {
     "name": "stdout",
     "output_type": "stream",
     "text": [
      "{'kd_loss': 11.373924255371094, 'feature_loss': 0.2778592109680176, 'ce_loss': 8.094146728515625, 'cont_loss': 2.329026699066162, 'teacher_loss': 8.076704978942871, 'total_loss': 8.075702667236328}\n"
     ]
    },
    {
     "name": "stderr",
     "output_type": "stream",
     "text": [
      "Validating:  39%|███▉      | 92/235 [00:45<01:08,  2.09it/s, loss=8.0471, avg_loss=7.7646]"
     ]
    },
    {
     "name": "stdout",
     "output_type": "stream",
     "text": [
      "{'kd_loss': 11.359457015991211, 'feature_loss': 0.25542187690734863, 'ce_loss': 8.080300331115723, 'cont_loss': 2.2007837295532227, 'teacher_loss': 8.081435203552246, 'total_loss': 8.047065734863281}\n"
     ]
    },
    {
     "name": "stderr",
     "output_type": "stream",
     "text": [
      "Validating:  40%|███▉      | 93/235 [00:45<01:07,  2.09it/s, loss=7.9706, avg_loss=7.7668]"
     ]
    },
    {
     "name": "stdout",
     "output_type": "stream",
     "text": [
      "{'kd_loss': 11.253181457519531, 'feature_loss': 0.2942911386489868, 'ce_loss': 7.984251976013184, 'cont_loss': 2.16791033744812, 'teacher_loss': 8.08273983001709, 'total_loss': 7.970623016357422}\n"
     ]
    },
    {
     "name": "stderr",
     "output_type": "stream",
     "text": [
      "Validating:  40%|████      | 94/235 [00:46<01:07,  2.09it/s, loss=7.9378, avg_loss=7.7686]"
     ]
    },
    {
     "name": "stdout",
     "output_type": "stream",
     "text": [
      "{'kd_loss': 11.193839073181152, 'feature_loss': 0.2651209235191345, 'ce_loss': 7.931517601013184, 'cont_loss': 2.34665584564209, 'teacher_loss': 8.08714485168457, 'total_loss': 7.937832355499268}\n"
     ]
    },
    {
     "name": "stderr",
     "output_type": "stream",
     "text": [
      "Validating:  40%|████      | 95/235 [00:46<01:06,  2.09it/s, loss=7.8571, avg_loss=7.7696]"
     ]
    },
    {
     "name": "stdout",
     "output_type": "stream",
     "text": [
      "{'kd_loss': 11.084710121154785, 'feature_loss': 0.3320932388305664, 'ce_loss': 7.833419322967529, 'cont_loss': 2.234039306640625, 'teacher_loss': 8.079618453979492, 'total_loss': 7.857074737548828}\n"
     ]
    },
    {
     "name": "stderr",
     "output_type": "stream",
     "text": [
      "Validating:  41%|████      | 96/235 [00:47<01:06,  2.09it/s, loss=7.9122, avg_loss=7.7711]"
     ]
    },
    {
     "name": "stdout",
     "output_type": "stream",
     "text": [
      "{'kd_loss': 11.169147491455078, 'feature_loss': 0.28779441118240356, 'ce_loss': 7.908923149108887, 'cont_loss': 2.233743667602539, 'teacher_loss': 8.077776908874512, 'total_loss': 7.912161827087402}\n"
     ]
    },
    {
     "name": "stderr",
     "output_type": "stream",
     "text": [
      "Validating:  41%|████▏     | 97/235 [00:47<01:05,  2.09it/s, loss=8.0310, avg_loss=7.7737]"
     ]
    },
    {
     "name": "stdout",
     "output_type": "stream",
     "text": [
      "{'kd_loss': 11.324468612670898, 'feature_loss': 0.2906785011291504, 'ce_loss': 8.049548149108887, 'cont_loss': 2.2328643798828125, 'teacher_loss': 8.076784133911133, 'total_loss': 8.031028747558594}\n"
     ]
    },
    {
     "name": "stderr",
     "output_type": "stream",
     "text": [
      "Validating:  42%|████▏     | 98/235 [00:48<01:05,  2.09it/s, loss=8.0308, avg_loss=7.7764]"
     ]
    },
    {
     "name": "stdout",
     "output_type": "stream",
     "text": [
      "{'kd_loss': 11.291677474975586, 'feature_loss': 0.32805269956588745, 'ce_loss': 8.01904010772705, 'cont_loss': 2.4091906547546387, 'teacher_loss': 8.097373008728027, 'total_loss': 8.030817031860352}\n"
     ]
    },
    {
     "name": "stderr",
     "output_type": "stream",
     "text": [
      "Validating:  42%|████▏     | 99/235 [00:48<01:05,  2.09it/s, loss=8.0215, avg_loss=7.7788]"
     ]
    },
    {
     "name": "stdout",
     "output_type": "stream",
     "text": [
      "{'kd_loss': 11.299847602844238, 'feature_loss': 0.29218006134033203, 'ce_loss': 8.026756286621094, 'cont_loss': 2.3243963718414307, 'teacher_loss': 8.08393383026123, 'total_loss': 8.021517753601074}\n"
     ]
    },
    {
     "name": "stderr",
     "output_type": "stream",
     "text": [
      "Validating:  43%|████▎     | 100/235 [00:48<01:04,  2.09it/s, loss=8.0878, avg_loss=7.7819]"
     ]
    },
    {
     "name": "stdout",
     "output_type": "stream",
     "text": [
      "{'kd_loss': 11.397878646850586, 'feature_loss': 0.24947762489318848, 'ce_loss': 8.115423202514648, 'cont_loss': 2.326005697250366, 'teacher_loss': 8.08328628540039, 'total_loss': 8.08781623840332}\n"
     ]
    },
    {
     "name": "stderr",
     "output_type": "stream",
     "text": [
      "Validating:  43%|████▎     | 101/235 [00:49<01:03,  2.10it/s, loss=8.0802, avg_loss=7.7849]"
     ]
    },
    {
     "name": "stdout",
     "output_type": "stream",
     "text": [
      "{'kd_loss': 11.380879402160645, 'feature_loss': 0.27496206760406494, 'ce_loss': 8.100383758544922, 'cont_loss': 2.3265576362609863, 'teacher_loss': 8.089200973510742, 'total_loss': 8.080153465270996}\n"
     ]
    },
    {
     "name": "stderr",
     "output_type": "stream",
     "text": [
      "Validating:  43%|████▎     | 102/235 [00:49<01:03,  2.10it/s, loss=8.1016, avg_loss=7.7880]"
     ]
    },
    {
     "name": "stdout",
     "output_type": "stream",
     "text": [
      "{'kd_loss': 11.412626266479492, 'feature_loss': 0.25958478450775146, 'ce_loss': 8.128686904907227, 'cont_loss': 2.3310890197753906, 'teacher_loss': 8.092321395874023, 'total_loss': 8.101551055908203}\n"
     ]
    },
    {
     "name": "stderr",
     "output_type": "stream",
     "text": [
      "Validating:  44%|████▍     | 103/235 [00:50<01:02,  2.10it/s, loss=7.9620, avg_loss=7.7897]"
     ]
    },
    {
     "name": "stdout",
     "output_type": "stream",
     "text": [
      "{'kd_loss': 11.20355224609375, 'feature_loss': 0.2683899402618408, 'ce_loss': 7.940501689910889, 'cont_loss': 2.507045030593872, 'teacher_loss': 8.091692924499512, 'total_loss': 7.9620041847229}\n"
     ]
    },
    {
     "name": "stderr",
     "output_type": "stream",
     "text": [
      "Validating:  44%|████▍     | 104/235 [00:50<01:02,  2.09it/s, loss=8.0239, avg_loss=7.7919]"
     ]
    },
    {
     "name": "stdout",
     "output_type": "stream",
     "text": [
      "{'kd_loss': 11.308389663696289, 'feature_loss': 0.25758540630340576, 'ce_loss': 8.034598350524902, 'cont_loss': 2.351710557937622, 'teacher_loss': 8.091803550720215, 'total_loss': 8.023883819580078}\n"
     ]
    },
    {
     "name": "stderr",
     "output_type": "stream",
     "text": [
      "Validating:  45%|████▍     | 105/235 [00:51<01:02,  2.09it/s, loss=7.9963, avg_loss=7.7939]"
     ]
    },
    {
     "name": "stdout",
     "output_type": "stream",
     "text": [
      "{'kd_loss': 11.267511367797852, 'feature_loss': 0.26446014642715454, 'ce_loss': 7.99842643737793, 'cont_loss': 2.3706302642822266, 'teacher_loss': 8.091507911682129, 'total_loss': 7.996330738067627}\n"
     ]
    },
    {
     "name": "stderr",
     "output_type": "stream",
     "text": [
      "Validating:  45%|████▌     | 106/235 [00:51<01:01,  2.09it/s, loss=8.0967, avg_loss=7.7967]"
     ]
    },
    {
     "name": "stdout",
     "output_type": "stream",
     "text": [
      "{'kd_loss': 11.362325668334961, 'feature_loss': 0.3240733742713928, 'ce_loss': 8.082785606384277, 'cont_loss': 2.5388524532318115, 'teacher_loss': 8.082772254943848, 'total_loss': 8.096744537353516}\n"
     ]
    },
    {
     "name": "stderr",
     "output_type": "stream",
     "text": [
      "Validating:  46%|████▌     | 107/235 [00:52<01:01,  2.09it/s, loss=7.8261, avg_loss=7.7970]"
     ]
    },
    {
     "name": "stdout",
     "output_type": "stream",
     "text": [
      "{'kd_loss': 11.026266098022461, 'feature_loss': 0.35127145051956177, 'ce_loss': 7.780292987823486, 'cont_loss': 2.332062005996704, 'teacher_loss': 8.086505889892578, 'total_loss': 7.826084613800049}\n"
     ]
    },
    {
     "name": "stderr",
     "output_type": "stream",
     "text": [
      "Validating:  46%|████▌     | 108/235 [00:52<01:00,  2.09it/s, loss=7.9265, avg_loss=7.7982]"
     ]
    },
    {
     "name": "stdout",
     "output_type": "stream",
     "text": [
      "{'kd_loss': 11.165007591247559, 'feature_loss': 0.3183138966560364, 'ce_loss': 7.905610084533691, 'cont_loss': 2.345707893371582, 'teacher_loss': 8.07387924194336, 'total_loss': 7.926480770111084}\n"
     ]
    },
    {
     "name": "stderr",
     "output_type": "stream",
     "text": [
      "Validating:  46%|████▋     | 109/235 [00:53<01:00,  2.09it/s, loss=8.0374, avg_loss=7.8004]"
     ]
    },
    {
     "name": "stdout",
     "output_type": "stream",
     "text": [
      "{'kd_loss': 11.297342300415039, 'feature_loss': 0.28238189220428467, 'ce_loss': 8.024542808532715, 'cont_loss': 2.521529197692871, 'teacher_loss': 8.094155311584473, 'total_loss': 8.037384033203125}\n"
     ]
    },
    {
     "name": "stderr",
     "output_type": "stream",
     "text": [
      "Validating:  47%|████▋     | 110/235 [00:53<00:59,  2.09it/s, loss=8.0858, avg_loss=7.8030]"
     ]
    },
    {
     "name": "stdout",
     "output_type": "stream",
     "text": [
      "{'kd_loss': 11.361952781677246, 'feature_loss': 0.3241478204727173, 'ce_loss': 8.083023071289062, 'cont_loss': 2.4296863079071045, 'teacher_loss': 8.085968017578125, 'total_loss': 8.08578872680664}\n"
     ]
    },
    {
     "name": "stderr",
     "output_type": "stream",
     "text": [
      "Validating:  47%|████▋     | 111/235 [00:54<00:59,  2.09it/s, loss=8.0149, avg_loss=7.8049]"
     ]
    },
    {
     "name": "stdout",
     "output_type": "stream",
     "text": [
      "{'kd_loss': 11.276762008666992, 'feature_loss': 0.290119469165802, 'ce_loss': 8.006207466125488, 'cont_loss': 2.4371695518493652, 'teacher_loss': 8.090173721313477, 'total_loss': 8.014928817749023}\n"
     ]
    },
    {
     "name": "stderr",
     "output_type": "stream",
     "text": [
      "Validating:  48%|████▊     | 112/235 [00:54<00:58,  2.09it/s, loss=7.9465, avg_loss=7.8062]"
     ]
    },
    {
     "name": "stdout",
     "output_type": "stream",
     "text": [
      "{'kd_loss': 11.176498413085938, 'feature_loss': 0.34128254652023315, 'ce_loss': 7.916113376617432, 'cont_loss': 2.4124746322631836, 'teacher_loss': 8.089859962463379, 'total_loss': 7.946548938751221}\n"
     ]
    },
    {
     "name": "stderr",
     "output_type": "stream",
     "text": [
      "Validating:  48%|████▊     | 113/235 [00:55<00:58,  2.09it/s, loss=8.1373, avg_loss=7.8091]"
     ]
    },
    {
     "name": "stdout",
     "output_type": "stream",
     "text": [
      "{'kd_loss': 11.440095901489258, 'feature_loss': 0.2949411869049072, 'ce_loss': 8.152766227722168, 'cont_loss': 2.411975383758545, 'teacher_loss': 8.08743667602539, 'total_loss': 8.137330055236816}\n"
     ]
    },
    {
     "name": "stderr",
     "output_type": "stream",
     "text": [
      "Validating:  49%|████▊     | 114/235 [00:55<00:57,  2.09it/s, loss=8.0940, avg_loss=7.8116]"
     ]
    },
    {
     "name": "stdout",
     "output_type": "stream",
     "text": [
      "{'kd_loss': 11.353589057922363, 'feature_loss': 0.32232797145843506, 'ce_loss': 8.075018882751465, 'cont_loss': 2.5809521675109863, 'teacher_loss': 8.085731506347656, 'total_loss': 8.094003677368164}\n"
     ]
    },
    {
     "name": "stderr",
     "output_type": "stream",
     "text": [
      "Validating:  49%|████▉     | 115/235 [00:56<00:57,  2.10it/s, loss=8.0091, avg_loss=7.8133]"
     ]
    },
    {
     "name": "stdout",
     "output_type": "stream",
     "text": [
      "{'kd_loss': 11.262563705444336, 'feature_loss': 0.3149458169937134, 'ce_loss': 7.993494510650635, 'cont_loss': 2.4373176097869873, 'teacher_loss': 8.082450866699219, 'total_loss': 8.009143829345703}\n"
     ]
    },
    {
     "name": "stderr",
     "output_type": "stream",
     "text": [
      "Validating:  49%|████▉     | 116/235 [00:56<00:56,  2.10it/s, loss=8.0622, avg_loss=7.8155]"
     ]
    },
    {
     "name": "stdout",
     "output_type": "stream",
     "text": [
      "{'kd_loss': 11.345064163208008, 'feature_loss': 0.25126469135284424, 'ce_loss': 8.067631721496582, 'cont_loss': 2.4683351516723633, 'teacher_loss': 8.077309608459473, 'total_loss': 8.062165260314941}\n"
     ]
    },
    {
     "name": "stderr",
     "output_type": "stream",
     "text": [
      "Validating:  50%|████▉     | 117/235 [00:57<00:56,  2.10it/s, loss=8.0008, avg_loss=7.8170]"
     ]
    },
    {
     "name": "stdout",
     "output_type": "stream",
     "text": [
      "{'kd_loss': 11.236138343811035, 'feature_loss': 0.3314478397369385, 'ce_loss': 7.9694366455078125, 'cont_loss': 2.522991180419922, 'teacher_loss': 8.08807373046875, 'total_loss': 8.000818252563477}\n"
     ]
    },
    {
     "name": "stderr",
     "output_type": "stream",
     "text": [
      "Validating:  50%|█████     | 118/235 [00:57<00:55,  2.10it/s, loss=7.8900, avg_loss=7.8177]"
     ]
    },
    {
     "name": "stdout",
     "output_type": "stream",
     "text": [
      "{'kd_loss': 11.101537704467773, 'feature_loss': 0.3091241121292114, 'ce_loss': 7.848663330078125, 'cont_loss': 2.4812912940979004, 'teacher_loss': 8.091586112976074, 'total_loss': 7.8900346755981445}\n"
     ]
    },
    {
     "name": "stderr",
     "output_type": "stream",
     "text": [
      "Validating:  51%|█████     | 119/235 [00:58<00:55,  2.11it/s, loss=8.0601, avg_loss=7.8197]"
     ]
    },
    {
     "name": "stdout",
     "output_type": "stream",
     "text": [
      "{'kd_loss': 11.329809188842773, 'feature_loss': 0.2763078212738037, 'ce_loss': 8.05395793914795, 'cont_loss': 2.5132603645324707, 'teacher_loss': 8.076671600341797, 'total_loss': 8.060093879699707}\n"
     ]
    },
    {
     "name": "stderr",
     "output_type": "stream",
     "text": [
      "Validating:  51%|█████     | 120/235 [00:58<00:54,  2.11it/s, loss=7.8729, avg_loss=7.8201]"
     ]
    },
    {
     "name": "stdout",
     "output_type": "stream",
     "text": [
      "{'kd_loss': 11.062862396240234, 'feature_loss': 0.3430219292640686, 'ce_loss': 7.8142194747924805, 'cont_loss': 2.5346572399139404, 'teacher_loss': 8.08236026763916, 'total_loss': 7.872902870178223}\n"
     ]
    },
    {
     "name": "stderr",
     "output_type": "stream",
     "text": [
      "Validating:  51%|█████▏    | 121/235 [00:58<00:54,  2.10it/s, loss=8.1978, avg_loss=7.8233]"
     ]
    },
    {
     "name": "stdout",
     "output_type": "stream",
     "text": [
      "{'kd_loss': 11.50192928314209, 'feature_loss': 0.28782546520233154, 'ce_loss': 8.209281921386719, 'cont_loss': 2.557455539703369, 'teacher_loss': 8.07937240600586, 'total_loss': 8.197795867919922}\n"
     ]
    },
    {
     "name": "stderr",
     "output_type": "stream",
     "text": [
      "Validating:  52%|█████▏    | 122/235 [00:59<00:53,  2.10it/s, loss=7.9937, avg_loss=7.8247]"
     ]
    },
    {
     "name": "stdout",
     "output_type": "stream",
     "text": [
      "{'kd_loss': 11.231109619140625, 'feature_loss': 0.29161542654037476, 'ce_loss': 7.965157508850098, 'cont_loss': 2.569028377532959, 'teacher_loss': 8.080923080444336, 'total_loss': 7.993732452392578}\n"
     ]
    },
    {
     "name": "stderr",
     "output_type": "stream",
     "text": [
      "Validating:  52%|█████▏    | 123/235 [00:59<00:53,  2.10it/s, loss=8.0979, avg_loss=7.8269]"
     ]
    },
    {
     "name": "stdout",
     "output_type": "stream",
     "text": [
      "{'kd_loss': 11.35708236694336, 'feature_loss': 0.2863273620605469, 'ce_loss': 8.078096389770508, 'cont_loss': 2.665144443511963, 'teacher_loss': 8.09823226928711, 'total_loss': 8.097851753234863}\n"
     ]
    },
    {
     "name": "stderr",
     "output_type": "stream",
     "text": [
      "Validating:  53%|█████▎    | 124/235 [01:00<00:52,  2.10it/s, loss=8.0038, avg_loss=7.8283]"
     ]
    },
    {
     "name": "stdout",
     "output_type": "stream",
     "text": [
      "{'kd_loss': 11.251739501953125, 'feature_loss': 0.3035082221031189, 'ce_loss': 7.983924388885498, 'cont_loss': 2.4879679679870605, 'teacher_loss': 8.078140258789062, 'total_loss': 8.003764152526855}\n"
     ]
    },
    {
     "name": "stderr",
     "output_type": "stream",
     "text": [
      "Validating:  53%|█████▎    | 125/235 [01:00<00:52,  2.10it/s, loss=7.8611, avg_loss=7.8286]"
     ]
    },
    {
     "name": "stdout",
     "output_type": "stream",
     "text": [
      "{'kd_loss': 11.044776916503906, 'feature_loss': 0.28756630420684814, 'ce_loss': 7.797602653503418, 'cont_loss': 2.666217565536499, 'teacher_loss': 8.092181205749512, 'total_loss': 7.861086845397949}\n"
     ]
    },
    {
     "name": "stderr",
     "output_type": "stream",
     "text": [
      "Validating:  54%|█████▎    | 126/235 [01:01<00:51,  2.11it/s, loss=7.9708, avg_loss=7.8297]"
     ]
    },
    {
     "name": "stdout",
     "output_type": "stream",
     "text": [
      "{'kd_loss': 11.205168724060059, 'feature_loss': 0.2855583429336548, 'ce_loss': 7.941795349121094, 'cont_loss': 2.548647403717041, 'teacher_loss': 8.075815200805664, 'total_loss': 7.970762252807617}\n"
     ]
    },
    {
     "name": "stderr",
     "output_type": "stream",
     "text": [
      "Validating:  54%|█████▍    | 127/235 [01:01<00:51,  2.10it/s, loss=8.2073, avg_loss=7.8327]"
     ]
    },
    {
     "name": "stdout",
     "output_type": "stream",
     "text": [
      "{'kd_loss': 11.49461555480957, 'feature_loss': 0.337452232837677, 'ce_loss': 8.20241641998291, 'cont_loss': 2.610428810119629, 'teacher_loss': 8.091822624206543, 'total_loss': 8.207345962524414}\n"
     ]
    },
    {
     "name": "stderr",
     "output_type": "stream",
     "text": [
      "Validating:  54%|█████▍    | 128/235 [01:02<00:50,  2.10it/s, loss=7.9099, avg_loss=7.8333]"
     ]
    },
    {
     "name": "stdout",
     "output_type": "stream",
     "text": [
      "{'kd_loss': 11.120319366455078, 'feature_loss': 0.29562878608703613, 'ce_loss': 7.865251541137695, 'cont_loss': 2.565547466278076, 'teacher_loss': 8.081791877746582, 'total_loss': 7.909909248352051}\n"
     ]
    },
    {
     "name": "stderr",
     "output_type": "stream",
     "text": [
      "Validating:  55%|█████▍    | 129/235 [01:02<00:50,  2.10it/s, loss=8.2012, avg_loss=7.8361]"
     ]
    },
    {
     "name": "stdout",
     "output_type": "stream",
     "text": [
      "{'kd_loss': 11.501922607421875, 'feature_loss': 0.2727050185203552, 'ce_loss': 8.208799362182617, 'cont_loss': 2.623483657836914, 'teacher_loss': 8.089418411254883, 'total_loss': 8.201178550720215}\n"
     ]
    },
    {
     "name": "stderr",
     "output_type": "stream",
     "text": [
      "Validating:  55%|█████▌    | 130/235 [01:03<00:50,  2.10it/s, loss=8.1649, avg_loss=7.8387]"
     ]
    },
    {
     "name": "stdout",
     "output_type": "stream",
     "text": [
      "{'kd_loss': 11.435449600219727, 'feature_loss': 0.2696497440338135, 'ce_loss': 8.148909568786621, 'cont_loss': 2.7718307971954346, 'teacher_loss': 8.078630447387695, 'total_loss': 8.164856910705566}\n"
     ]
    },
    {
     "name": "stderr",
     "output_type": "stream",
     "text": [
      "Validating:  56%|█████▌    | 131/235 [01:03<00:49,  2.11it/s, loss=8.1070, avg_loss=7.8407]"
     ]
    },
    {
     "name": "stdout",
     "output_type": "stream",
     "text": [
      "{'kd_loss': 11.344608306884766, 'feature_loss': 0.3076685667037964, 'ce_loss': 8.067055702209473, 'cont_loss': 2.8079962730407715, 'teacher_loss': 8.081043243408203, 'total_loss': 8.106999397277832}\n"
     ]
    },
    {
     "name": "stderr",
     "output_type": "stream",
     "text": [
      "Validating:  56%|█████▌    | 132/235 [01:04<00:48,  2.10it/s, loss=8.0620, avg_loss=7.8424]"
     ]
    },
    {
     "name": "stdout",
     "output_type": "stream",
     "text": [
      "{'kd_loss': 11.315655708312988, 'feature_loss': 0.28716719150543213, 'ce_loss': 8.041440963745117, 'cont_loss': 2.616861343383789, 'teacher_loss': 8.09101676940918, 'total_loss': 8.061958312988281}\n"
     ]
    },
    {
     "name": "stderr",
     "output_type": "stream",
     "text": [
      "Validating:  57%|█████▋    | 133/235 [01:04<00:48,  2.11it/s, loss=7.9917, avg_loss=7.8435]"
     ]
    },
    {
     "name": "stdout",
     "output_type": "stream",
     "text": [
      "{'kd_loss': 11.218498229980469, 'feature_loss': 0.30182743072509766, 'ce_loss': 7.953741550445557, 'cont_loss': 2.624483823776245, 'teacher_loss': 8.077823638916016, 'total_loss': 7.991710186004639}\n"
     ]
    },
    {
     "name": "stderr",
     "output_type": "stream",
     "text": [
      "Validating:  57%|█████▋    | 134/235 [01:05<00:48,  2.10it/s, loss=8.1685, avg_loss=7.8459]"
     ]
    },
    {
     "name": "stdout",
     "output_type": "stream",
     "text": [
      "{'kd_loss': 11.428685188293457, 'feature_loss': 0.30511975288391113, 'ce_loss': 8.143692016601562, 'cont_loss': 2.785078525543213, 'teacher_loss': 8.094572067260742, 'total_loss': 8.168482780456543}\n"
     ]
    },
    {
     "name": "stderr",
     "output_type": "stream",
     "text": [
      "Validating:  57%|█████▋    | 135/235 [01:05<00:47,  2.10it/s, loss=8.0499, avg_loss=7.8474]"
     ]
    },
    {
     "name": "stdout",
     "output_type": "stream",
     "text": [
      "{'kd_loss': 11.249295234680176, 'feature_loss': 0.32332825660705566, 'ce_loss': 7.981371879577637, 'cont_loss': 2.9299228191375732, 'teacher_loss': 8.082230567932129, 'total_loss': 8.049924850463867}\n"
     ]
    },
    {
     "name": "stderr",
     "output_type": "stream",
     "text": [
      "Validating:  58%|█████▊    | 136/235 [01:06<00:47,  2.10it/s, loss=8.1185, avg_loss=7.8494]"
     ]
    },
    {
     "name": "stdout",
     "output_type": "stream",
     "text": [
      "{'kd_loss': 11.390694618225098, 'feature_loss': 0.273346483707428, 'ce_loss': 8.10878849029541, 'cont_loss': 2.640547275543213, 'teacher_loss': 8.08658504486084, 'total_loss': 8.11851692199707}\n"
     ]
    },
    {
     "name": "stderr",
     "output_type": "stream",
     "text": [
      "Validating:  58%|█████▊    | 137/235 [01:06<00:46,  2.10it/s, loss=8.0364, avg_loss=7.8508]"
     ]
    },
    {
     "name": "stdout",
     "output_type": "stream",
     "text": [
      "{'kd_loss': 11.264778137207031, 'feature_loss': 0.31812775135040283, 'ce_loss': 7.995239734649658, 'cont_loss': 2.6877188682556152, 'teacher_loss': 8.092784881591797, 'total_loss': 8.036404609680176}\n"
     ]
    },
    {
     "name": "stderr",
     "output_type": "stream",
     "text": [
      "Validating:  59%|█████▊    | 138/235 [01:07<00:46,  2.10it/s, loss=8.0711, avg_loss=7.8524]"
     ]
    },
    {
     "name": "stdout",
     "output_type": "stream",
     "text": [
      "{'kd_loss': 11.313227653503418, 'feature_loss': 0.29535794258117676, 'ce_loss': 8.039083480834961, 'cont_loss': 2.711203098297119, 'teacher_loss': 8.088630676269531, 'total_loss': 8.07111644744873}\n"
     ]
    },
    {
     "name": "stderr",
     "output_type": "stream",
     "text": [
      "Validating:  59%|█████▉    | 139/235 [01:07<00:45,  2.10it/s, loss=8.1725, avg_loss=7.8547]"
     ]
    },
    {
     "name": "stdout",
     "output_type": "stream",
     "text": [
      "{'kd_loss': 11.419620513916016, 'feature_loss': 0.32395458221435547, 'ce_loss': 8.13486099243164, 'cont_loss': 2.8592374324798584, 'teacher_loss': 8.090032577514648, 'total_loss': 8.172507286071777}\n"
     ]
    },
    {
     "name": "stderr",
     "output_type": "stream",
     "text": [
      "Validating:  60%|█████▉    | 140/235 [01:08<00:45,  2.10it/s, loss=8.0886, avg_loss=7.8564]"
     ]
    },
    {
     "name": "stdout",
     "output_type": "stream",
     "text": [
      "{'kd_loss': 11.335698127746582, 'feature_loss': 0.3124518394470215, 'ce_loss': 8.058889389038086, 'cont_loss': 2.682370662689209, 'teacher_loss': 8.083318710327148, 'total_loss': 8.088562965393066}\n"
     ]
    },
    {
     "name": "stderr",
     "output_type": "stream",
     "text": [
      "Validating:  60%|██████    | 141/235 [01:08<00:44,  2.10it/s, loss=8.0800, avg_loss=7.8580]"
     ]
    },
    {
     "name": "stdout",
     "output_type": "stream",
     "text": [
      "{'kd_loss': 11.325560569763184, 'feature_loss': 0.3108377456665039, 'ce_loss': 8.049936294555664, 'cont_loss': 2.6766109466552734, 'teacher_loss': 8.085128784179688, 'total_loss': 8.08002758026123}\n"
     ]
    },
    {
     "name": "stderr",
     "output_type": "stream",
     "text": [
      "Validating:  60%|██████    | 142/235 [01:08<00:44,  2.10it/s, loss=7.9601, avg_loss=7.8587]"
     ]
    },
    {
     "name": "stdout",
     "output_type": "stream",
     "text": [
      "{'kd_loss': 11.138689041137695, 'feature_loss': 0.3128698468208313, 'ce_loss': 7.882248878479004, 'cont_loss': 2.891484260559082, 'teacher_loss': 8.085484504699707, 'total_loss': 7.960097312927246}\n"
     ]
    },
    {
     "name": "stderr",
     "output_type": "stream",
     "text": [
      "Validating:  61%|██████    | 143/235 [01:09<00:43,  2.10it/s, loss=8.1474, avg_loss=7.8607]"
     ]
    },
    {
     "name": "stdout",
     "output_type": "stream",
     "text": [
      "{'kd_loss': 11.40081787109375, 'feature_loss': 0.33000463247299194, 'ce_loss': 8.117527961730957, 'cont_loss': 2.74092173576355, 'teacher_loss': 8.087786674499512, 'total_loss': 8.147431373596191}\n"
     ]
    },
    {
     "name": "stderr",
     "output_type": "stream",
     "text": [
      "Validating:  61%|██████▏   | 144/235 [01:09<00:43,  2.10it/s, loss=8.1081, avg_loss=7.8624]"
     ]
    },
    {
     "name": "stdout",
     "output_type": "stream",
     "text": [
      "{'kd_loss': 11.353946685791016, 'feature_loss': 0.30155128240585327, 'ce_loss': 8.075718879699707, 'cont_loss': 2.759676933288574, 'teacher_loss': 8.08799934387207, 'total_loss': 8.108144760131836}\n"
     ]
    },
    {
     "name": "stderr",
     "output_type": "stream",
     "text": [
      "Validating:  62%|██████▏   | 145/235 [01:10<00:42,  2.10it/s, loss=8.1184, avg_loss=7.8642]"
     ]
    },
    {
     "name": "stdout",
     "output_type": "stream",
     "text": [
      "{'kd_loss': 11.343878746032715, 'feature_loss': 0.31442809104919434, 'ce_loss': 8.066462516784668, 'cont_loss': 2.9134645462036133, 'teacher_loss': 8.079023361206055, 'total_loss': 8.118369102478027}\n"
     ]
    },
    {
     "name": "stderr",
     "output_type": "stream",
     "text": [
      "Validating:  62%|██████▏   | 146/235 [01:10<00:42,  2.10it/s, loss=8.2159, avg_loss=7.8666]"
     ]
    },
    {
     "name": "stdout",
     "output_type": "stream",
     "text": [
      "{'kd_loss': 11.473715782165527, 'feature_loss': 0.3053726553916931, 'ce_loss': 8.183658599853516, 'cont_loss': 2.9190359115600586, 'teacher_loss': 8.079301834106445, 'total_loss': 8.215928077697754}\n"
     ]
    },
    {
     "name": "stderr",
     "output_type": "stream",
     "text": [
      "Validating:  63%|██████▎   | 147/235 [01:11<00:41,  2.10it/s, loss=8.1110, avg_loss=7.8682]"
     ]
    },
    {
     "name": "stdout",
     "output_type": "stream",
     "text": [
      "{'kd_loss': 11.338813781738281, 'feature_loss': 0.2975461483001709, 'ce_loss': 8.061891555786133, 'cont_loss': 2.912127733230591, 'teacher_loss': 8.07998275756836, 'total_loss': 8.111004829406738}\n"
     ]
    },
    {
     "name": "stderr",
     "output_type": "stream",
     "text": [
      "Validating:  63%|██████▎   | 148/235 [01:11<00:41,  2.11it/s, loss=8.1289, avg_loss=7.8700]"
     ]
    },
    {
     "name": "stdout",
     "output_type": "stream",
     "text": [
      "{'kd_loss': 11.356721878051758, 'feature_loss': 0.31939709186553955, 'ce_loss': 8.078621864318848, 'cont_loss': 2.9093122482299805, 'teacher_loss': 8.095490455627441, 'total_loss': 8.128948211669922}\n"
     ]
    },
    {
     "name": "stderr",
     "output_type": "stream",
     "text": [
      "Validating:  63%|██████▎   | 149/235 [01:12<00:40,  2.10it/s, loss=8.0683, avg_loss=7.8713]"
     ]
    },
    {
     "name": "stdout",
     "output_type": "stream",
     "text": [
      "{'kd_loss': 11.295259475708008, 'feature_loss': 0.29159456491470337, 'ce_loss': 8.022875785827637, 'cont_loss': 2.8274426460266113, 'teacher_loss': 8.089168548583984, 'total_loss': 8.068317413330078}\n"
     ]
    },
    {
     "name": "stderr",
     "output_type": "stream",
     "text": [
      "Validating:  64%|██████▍   | 150/235 [01:12<00:40,  2.10it/s, loss=8.0982, avg_loss=7.8729]"
     ]
    },
    {
     "name": "stdout",
     "output_type": "stream",
     "text": [
      "{'kd_loss': 11.33740520477295, 'feature_loss': 0.2938086986541748, 'ce_loss': 8.060816764831543, 'cont_loss': 2.8015732765197754, 'teacher_loss': 8.089883804321289, 'total_loss': 8.098207473754883}\n"
     ]
    },
    {
     "name": "stderr",
     "output_type": "stream",
     "text": [
      "Validating:  64%|██████▍   | 151/235 [01:13<00:40,  2.10it/s, loss=8.1303, avg_loss=7.8746]"
     ]
    },
    {
     "name": "stdout",
     "output_type": "stream",
     "text": [
      "{'kd_loss': 11.34144115447998, 'feature_loss': 0.33181899785995483, 'ce_loss': 8.064327239990234, 'cont_loss': 3.0165305137634277, 'teacher_loss': 8.080340385437012, 'total_loss': 8.130324363708496}\n"
     ]
    },
    {
     "name": "stderr",
     "output_type": "stream",
     "text": [
      "Validating:  65%|██████▍   | 152/235 [01:13<00:39,  2.10it/s, loss=8.0890, avg_loss=7.8760]"
     ]
    },
    {
     "name": "stdout",
     "output_type": "stream",
     "text": [
      "{'kd_loss': 11.311077117919922, 'feature_loss': 0.318484365940094, 'ce_loss': 8.036946296691895, 'cont_loss': 2.8612184524536133, 'teacher_loss': 8.081829071044922, 'total_loss': 8.089027404785156}\n"
     ]
    },
    {
     "name": "stderr",
     "output_type": "stream",
     "text": [
      "Validating:  65%|██████▌   | 153/235 [01:14<00:39,  2.10it/s, loss=8.2471, avg_loss=7.8784]"
     ]
    },
    {
     "name": "stdout",
     "output_type": "stream",
     "text": [
      "{'kd_loss': 11.501862525939941, 'feature_loss': 0.31995952129364014, 'ce_loss': 8.208867073059082, 'cont_loss': 2.988499164581299, 'teacher_loss': 8.086251258850098, 'total_loss': 8.2471342086792}\n"
     ]
    },
    {
     "name": "stderr",
     "output_type": "stream",
     "text": [
      "Validating:  66%|██████▌   | 154/235 [01:14<00:38,  2.10it/s, loss=8.2108, avg_loss=7.8806]"
     ]
    },
    {
     "name": "stdout",
     "output_type": "stream",
     "text": [
      "{'kd_loss': 11.446991920471191, 'feature_loss': 0.3278311491012573, 'ce_loss': 8.15949535369873, 'cont_loss': 3.026493787765503, 'teacher_loss': 8.096037864685059, 'total_loss': 8.210810661315918}\n"
     ]
    },
    {
     "name": "stderr",
     "output_type": "stream",
     "text": [
      "Validating:  66%|██████▌   | 155/235 [01:15<00:37,  2.11it/s, loss=7.9733, avg_loss=7.8812]"
     ]
    },
    {
     "name": "stdout",
     "output_type": "stream",
     "text": [
      "{'kd_loss': 11.14615249633789, 'feature_loss': 0.34752386808395386, 'ce_loss': 7.888925552368164, 'cont_loss': 2.8980250358581543, 'teacher_loss': 8.082557678222656, 'total_loss': 7.973339080810547}\n"
     ]
    },
    {
     "name": "stderr",
     "output_type": "stream",
     "text": [
      "Validating:  66%|██████▋   | 156/235 [01:15<00:37,  2.10it/s, loss=8.1707, avg_loss=7.8830]"
     ]
    },
    {
     "name": "stdout",
     "output_type": "stream",
     "text": [
      "{'kd_loss': 11.411352157592773, 'feature_loss': 0.3230268955230713, 'ce_loss': 8.127477645874023, 'cont_loss': 2.9055984020233154, 'teacher_loss': 8.07931137084961, 'total_loss': 8.170697212219238}\n"
     ]
    },
    {
     "name": "stderr",
     "output_type": "stream",
     "text": [
      "Validating:  67%|██████▋   | 157/235 [01:16<00:37,  2.11it/s, loss=8.1043, avg_loss=7.8844]"
     ]
    },
    {
     "name": "stdout",
     "output_type": "stream",
     "text": [
      "{'kd_loss': 11.298645973205566, 'feature_loss': 0.32515233755111694, 'ce_loss': 8.026294708251953, 'cont_loss': 3.0926122665405273, 'teacher_loss': 8.09459114074707, 'total_loss': 8.104268074035645}\n"
     ]
    },
    {
     "name": "stderr",
     "output_type": "stream",
     "text": [
      "Validating:  67%|██████▋   | 158/235 [01:16<00:36,  2.11it/s, loss=8.1117, avg_loss=7.8859]"
     ]
    },
    {
     "name": "stdout",
     "output_type": "stream",
     "text": [
      "{'kd_loss': 11.33028793334961, 'feature_loss': 0.3275970220565796, 'ce_loss': 8.054365158081055, 'cont_loss': 2.922764539718628, 'teacher_loss': 8.080997467041016, 'total_loss': 8.11165714263916}\n"
     ]
    },
    {
     "name": "stderr",
     "output_type": "stream",
     "text": [
      "Validating:  68%|██████▊   | 159/235 [01:17<00:36,  2.11it/s, loss=8.0220, avg_loss=7.8867]"
     ]
    },
    {
     "name": "stdout",
     "output_type": "stream",
     "text": [
      "{'kd_loss': 11.200310707092285, 'feature_loss': 0.3164059519767761, 'ce_loss': 7.9375762939453125, 'cont_loss': 3.0358588695526123, 'teacher_loss': 8.084327697753906, 'total_loss': 8.022022247314453}\n"
     ]
    },
    {
     "name": "stderr",
     "output_type": "stream",
     "text": [
      "Validating:  68%|██████▊   | 160/235 [01:17<00:35,  2.10it/s, loss=8.1498, avg_loss=7.8884]"
     ]
    },
    {
     "name": "stdout",
     "output_type": "stream",
     "text": [
      "{'kd_loss': 11.382668495178223, 'feature_loss': 0.3206479549407959, 'ce_loss': 8.101531028747559, 'cont_loss': 2.9202518463134766, 'teacher_loss': 8.089594841003418, 'total_loss': 8.149834632873535}\n"
     ]
    },
    {
     "name": "stderr",
     "output_type": "stream",
     "text": [
      "Validating:  69%|██████▊   | 161/235 [01:18<00:35,  2.11it/s, loss=8.1736, avg_loss=7.8901]"
     ]
    },
    {
     "name": "stdout",
     "output_type": "stream",
     "text": [
      "{'kd_loss': 11.417421340942383, 'feature_loss': 0.2986266016960144, 'ce_loss': 8.132939338684082, 'cont_loss': 2.9377031326293945, 'teacher_loss': 8.077404975891113, 'total_loss': 8.173639297485352}\n"
     ]
    },
    {
     "name": "stderr",
     "output_type": "stream",
     "text": [
      "Validating:  69%|██████▉   | 162/235 [01:18<00:34,  2.10it/s, loss=8.1225, avg_loss=7.8916]"
     ]
    },
    {
     "name": "stdout",
     "output_type": "stream",
     "text": [
      "{'kd_loss': 11.341297149658203, 'feature_loss': 0.3195449709892273, 'ce_loss': 8.064416885375977, 'cont_loss': 2.9634571075439453, 'teacher_loss': 8.085855484008789, 'total_loss': 8.122540473937988}\n"
     ]
    },
    {
     "name": "stderr",
     "output_type": "stream",
     "text": [
      "Validating:  69%|██████▉   | 163/235 [01:18<00:34,  2.11it/s, loss=8.0659, avg_loss=7.8926]"
     ]
    },
    {
     "name": "stdout",
     "output_type": "stream",
     "text": [
      "{'kd_loss': 11.267868995666504, 'feature_loss': 0.31964439153671265, 'ce_loss': 7.9977874755859375, 'cont_loss': 2.956860303878784, 'teacher_loss': 8.088221549987793, 'total_loss': 8.065877914428711}\n"
     ]
    },
    {
     "name": "stderr",
     "output_type": "stream",
     "text": [
      "Validating:  70%|██████▉   | 164/235 [01:19<00:33,  2.10it/s, loss=8.0873, avg_loss=7.8938]"
     ]
    },
    {
     "name": "stdout",
     "output_type": "stream",
     "text": [
      "{'kd_loss': 11.270747184753418, 'feature_loss': 0.3186572790145874, 'ce_loss': 8.000800132751465, 'cont_loss': 3.14910888671875, 'teacher_loss': 8.080513000488281, 'total_loss': 8.087261199951172}\n"
     ]
    },
    {
     "name": "stderr",
     "output_type": "stream",
     "text": [
      "Validating:  70%|███████   | 165/235 [01:19<00:33,  2.10it/s, loss=8.0067, avg_loss=7.8945]"
     ]
    },
    {
     "name": "stdout",
     "output_type": "stream",
     "text": [
      "{'kd_loss': 11.1863431930542, 'feature_loss': 0.31777721643447876, 'ce_loss': 7.925053119659424, 'cont_loss': 2.985504150390625, 'teacher_loss': 8.090408325195312, 'total_loss': 8.006664276123047}\n"
     ]
    },
    {
     "name": "stderr",
     "output_type": "stream",
     "text": [
      "Validating:  71%|███████   | 166/235 [01:20<00:32,  2.10it/s, loss=8.1021, avg_loss=7.8958]"
     ]
    },
    {
     "name": "stdout",
     "output_type": "stream",
     "text": [
      "{'kd_loss': 11.312923431396484, 'feature_loss': 0.3075779676437378, 'ce_loss': 8.038594245910645, 'cont_loss': 2.999868869781494, 'teacher_loss': 8.08548641204834, 'total_loss': 8.102109909057617}\n"
     ]
    },
    {
     "name": "stderr",
     "output_type": "stream",
     "text": [
      "Validating:  71%|███████   | 167/235 [01:20<00:32,  2.11it/s, loss=8.0920, avg_loss=7.8969]"
     ]
    },
    {
     "name": "stdout",
     "output_type": "stream",
     "text": [
      "{'kd_loss': 11.298051834106445, 'feature_loss': 0.32126080989837646, 'ce_loss': 8.025063514709473, 'cont_loss': 2.984549045562744, 'teacher_loss': 8.082749366760254, 'total_loss': 8.091954231262207}\n"
     ]
    },
    {
     "name": "stderr",
     "output_type": "stream",
     "text": [
      "Validating:  71%|███████▏  | 168/235 [01:21<00:31,  2.11it/s, loss=8.1087, avg_loss=7.8982]"
     ]
    },
    {
     "name": "stdout",
     "output_type": "stream",
     "text": [
      "{'kd_loss': 11.326790809631348, 'feature_loss': 0.29461050033569336, 'ce_loss': 8.051203727722168, 'cont_loss': 2.985795736312866, 'teacher_loss': 8.0859375, 'total_loss': 8.108699798583984}\n"
     ]
    },
    {
     "name": "stderr",
     "output_type": "stream",
     "text": [
      "Validating:  72%|███████▏  | 169/235 [01:21<00:31,  2.11it/s, loss=8.0824, avg_loss=7.8993]"
     ]
    },
    {
     "name": "stdout",
     "output_type": "stream",
     "text": [
      "{'kd_loss': 11.265661239624023, 'feature_loss': 0.30389904975891113, 'ce_loss': 7.996140956878662, 'cont_loss': 3.168687105178833, 'teacher_loss': 8.086479187011719, 'total_loss': 8.082369804382324}\n"
     ]
    },
    {
     "name": "stderr",
     "output_type": "stream",
     "text": [
      "Validating:  72%|███████▏  | 170/235 [01:22<00:30,  2.10it/s, loss=8.1319, avg_loss=7.9006]"
     ]
    },
    {
     "name": "stdout",
     "output_type": "stream",
     "text": [
      "{'kd_loss': 11.345035552978516, 'feature_loss': 0.31726789474487305, 'ce_loss': 8.068394660949707, 'cont_loss': 3.0303874015808105, 'teacher_loss': 8.078200340270996, 'total_loss': 8.131864547729492}\n"
     ]
    },
    {
     "name": "stderr",
     "output_type": "stream",
     "text": [
      "Validating:  73%|███████▎  | 171/235 [01:22<00:30,  2.11it/s, loss=8.1664, avg_loss=7.9022]"
     ]
    },
    {
     "name": "stdout",
     "output_type": "stream",
     "text": [
      "{'kd_loss': 11.396120071411133, 'feature_loss': 0.3032815456390381, 'ce_loss': 8.113216400146484, 'cont_loss': 3.019639492034912, 'teacher_loss': 8.102977752685547, 'total_loss': 8.16635513305664}\n"
     ]
    },
    {
     "name": "stderr",
     "output_type": "stream",
     "text": [
      "Validating:  73%|███████▎  | 172/235 [01:23<00:29,  2.11it/s, loss=8.2739, avg_loss=7.9044]"
     ]
    },
    {
     "name": "stdout",
     "output_type": "stream",
     "text": [
      "{'kd_loss': 11.527350425720215, 'feature_loss': 0.3043992519378662, 'ce_loss': 8.232035636901855, 'cont_loss': 3.09303617477417, 'teacher_loss': 8.089064598083496, 'total_loss': 8.273938179016113}\n"
     ]
    },
    {
     "name": "stderr",
     "output_type": "stream",
     "text": [
      "Validating:  74%|███████▎  | 173/235 [01:23<00:29,  2.11it/s, loss=7.9997, avg_loss=7.9049]"
     ]
    },
    {
     "name": "stdout",
     "output_type": "stream",
     "text": [
      "{'kd_loss': 11.16883659362793, 'feature_loss': 0.31608712673187256, 'ce_loss': 7.90893030166626, 'cont_loss': 3.0541868209838867, 'teacher_loss': 8.08511734008789, 'total_loss': 7.9997429847717285}\n"
     ]
    },
    {
     "name": "stderr",
     "output_type": "stream",
     "text": [
      "Validating:  74%|███████▍  | 174/235 [01:24<00:28,  2.11it/s, loss=8.1477, avg_loss=7.9063]"
     ]
    },
    {
     "name": "stdout",
     "output_type": "stream",
     "text": [
      "{'kd_loss': 11.370121955871582, 'feature_loss': 0.30226683616638184, 'ce_loss': 8.090635299682617, 'cont_loss': 3.0292346477508545, 'teacher_loss': 8.088412284851074, 'total_loss': 8.147680282592773}\n"
     ]
    },
    {
     "name": "stderr",
     "output_type": "stream",
     "text": [
      "Validating:  74%|███████▍  | 175/235 [01:24<00:28,  2.11it/s, loss=8.1320, avg_loss=7.9076]"
     ]
    },
    {
     "name": "stdout",
     "output_type": "stream",
     "text": [
      "{'kd_loss': 11.3444242477417, 'feature_loss': 0.30464625358581543, 'ce_loss': 8.06712532043457, 'cont_loss': 3.064152240753174, 'teacher_loss': 8.08152961730957, 'total_loss': 8.131964683532715}\n"
     ]
    },
    {
     "name": "stderr",
     "output_type": "stream",
     "text": [
      "Validating:  75%|███████▍  | 176/235 [01:25<00:27,  2.11it/s, loss=8.1866, avg_loss=7.9092]"
     ]
    },
    {
     "name": "stdout",
     "output_type": "stream",
     "text": [
      "{'kd_loss': 11.388257026672363, 'feature_loss': 0.3119022846221924, 'ce_loss': 8.106585502624512, 'cont_loss': 3.262920618057251, 'teacher_loss': 8.084654808044434, 'total_loss': 8.186610221862793}\n"
     ]
    },
    {
     "name": "stderr",
     "output_type": "stream",
     "text": [
      "Validating:  75%|███████▌  | 177/235 [01:25<00:27,  2.11it/s, loss=8.1377, avg_loss=7.9105]"
     ]
    },
    {
     "name": "stdout",
     "output_type": "stream",
     "text": [
      "{'kd_loss': 11.340597152709961, 'feature_loss': 0.3275566101074219, 'ce_loss': 8.06343936920166, 'cont_loss': 3.1057353019714355, 'teacher_loss': 8.081336975097656, 'total_loss': 8.137700080871582}\n"
     ]
    },
    {
     "name": "stderr",
     "output_type": "stream",
     "text": [
      "Validating:  76%|███████▌  | 178/235 [01:26<00:27,  2.11it/s, loss=8.1427, avg_loss=7.9118]"
     ]
    },
    {
     "name": "stdout",
     "output_type": "stream",
     "text": [
      "{'kd_loss': 11.348654747009277, 'feature_loss': 0.33781278133392334, 'ce_loss': 8.070822715759277, 'cont_loss': 3.072996139526367, 'teacher_loss': 8.077371597290039, 'total_loss': 8.142653465270996}\n"
     ]
    },
    {
     "name": "stderr",
     "output_type": "stream",
     "text": [
      "Validating:  76%|███████▌  | 179/235 [01:26<00:26,  2.10it/s, loss=8.2064, avg_loss=7.9134]"
     ]
    },
    {
     "name": "stdout",
     "output_type": "stream",
     "text": [
      "{'kd_loss': 11.435511589050293, 'feature_loss': 0.3151665925979614, 'ce_loss': 8.149107933044434, 'cont_loss': 3.094841480255127, 'teacher_loss': 8.091599464416504, 'total_loss': 8.206365585327148}\n"
     ]
    },
    {
     "name": "stderr",
     "output_type": "stream",
     "text": [
      "Validating:  77%|███████▋  | 180/235 [01:27<00:26,  2.11it/s, loss=8.0131, avg_loss=7.9140]"
     ]
    },
    {
     "name": "stdout",
     "output_type": "stream",
     "text": [
      "{'kd_loss': 11.139930725097656, 'feature_loss': 0.3130621314048767, 'ce_loss': 7.883011817932129, 'cont_loss': 3.4132752418518066, 'teacher_loss': 8.083735466003418, 'total_loss': 8.013116836547852}\n"
     ]
    },
    {
     "name": "stderr",
     "output_type": "stream",
     "text": [
      "Validating:  77%|███████▋  | 181/235 [01:27<00:25,  2.10it/s, loss=7.9563, avg_loss=7.9142]"
     ]
    },
    {
     "name": "stdout",
     "output_type": "stream",
     "text": [
      "{'kd_loss': 11.112749099731445, 'feature_loss': 0.29147255420684814, 'ce_loss': 7.8587846755981445, 'cont_loss': 3.093832492828369, 'teacher_loss': 8.085030555725098, 'total_loss': 7.956291198730469}\n"
     ]
    },
    {
     "name": "stderr",
     "output_type": "stream",
     "text": [
      "Validating:  77%|███████▋  | 182/235 [01:27<00:25,  2.11it/s, loss=8.2369, avg_loss=7.9160]"
     ]
    },
    {
     "name": "stdout",
     "output_type": "stream",
     "text": [
      "{'kd_loss': 11.472538948059082, 'feature_loss': 0.30785560607910156, 'ce_loss': 8.182352066040039, 'cont_loss': 3.1338000297546387, 'teacher_loss': 8.088438034057617, 'total_loss': 8.236907958984375}\n"
     ]
    },
    {
     "name": "stderr",
     "output_type": "stream",
     "text": [
      "Validating:  78%|███████▊  | 183/235 [01:28<00:24,  2.11it/s, loss=8.0848, avg_loss=7.9169]"
     ]
    },
    {
     "name": "stdout",
     "output_type": "stream",
     "text": [
      "{'kd_loss': 11.2213134765625, 'feature_loss': 0.34940385818481445, 'ce_loss': 7.95634126663208, 'cont_loss': 3.438413381576538, 'teacher_loss': 8.081483840942383, 'total_loss': 8.084784507751465}\n"
     ]
    },
    {
     "name": "stderr",
     "output_type": "stream",
     "text": [
      "Validating:  78%|███████▊  | 184/235 [01:28<00:24,  2.11it/s, loss=8.2942, avg_loss=7.9190]"
     ]
    },
    {
     "name": "stdout",
     "output_type": "stream",
     "text": [
      "{'kd_loss': 11.548221588134766, 'feature_loss': 0.3030271530151367, 'ce_loss': 8.250524520874023, 'cont_loss': 3.1408791542053223, 'teacher_loss': 8.08261775970459, 'total_loss': 8.29419231414795}\n"
     ]
    },
    {
     "name": "stderr",
     "output_type": "stream",
     "text": [
      "Validating:  79%|███████▊  | 185/235 [01:29<00:23,  2.11it/s, loss=8.2429, avg_loss=7.9207]"
     ]
    },
    {
     "name": "stdout",
     "output_type": "stream",
     "text": [
      "{'kd_loss': 11.460306167602539, 'feature_loss': 0.34425783157348633, 'ce_loss': 8.171416282653809, 'cont_loss': 3.2139225006103516, 'teacher_loss': 8.092083930969238, 'total_loss': 8.24293327331543}\n"
     ]
    },
    {
     "name": "stderr",
     "output_type": "stream",
     "text": [
      "Validating:  79%|███████▉  | 186/235 [01:29<00:23,  2.11it/s, loss=8.2247, avg_loss=7.9223]"
     ]
    },
    {
     "name": "stdout",
     "output_type": "stream",
     "text": [
      "{'kd_loss': 11.445865631103516, 'feature_loss': 0.3239496946334839, 'ce_loss': 8.158616065979004, 'cont_loss': 3.1811435222625732, 'teacher_loss': 8.074175834655762, 'total_loss': 8.22469711303711}\n"
     ]
    },
    {
     "name": "stderr",
     "output_type": "stream",
     "text": [
      "Validating:  80%|███████▉  | 187/235 [01:30<00:22,  2.11it/s, loss=8.1287, avg_loss=7.9234]"
     ]
    },
    {
     "name": "stdout",
     "output_type": "stream",
     "text": [
      "{'kd_loss': 11.32226848602295, 'feature_loss': 0.3126223087310791, 'ce_loss': 8.047094345092773, 'cont_loss': 3.1839237213134766, 'teacher_loss': 8.079934120178223, 'total_loss': 8.128662109375}\n"
     ]
    },
    {
     "name": "stderr",
     "output_type": "stream",
     "text": [
      "Validating:  80%|████████  | 188/235 [01:30<00:22,  2.11it/s, loss=8.1585, avg_loss=7.9247]"
     ]
    },
    {
     "name": "stdout",
     "output_type": "stream",
     "text": [
      "{'kd_loss': 11.358572006225586, 'feature_loss': 0.3116210103034973, 'ce_loss': 8.079967498779297, 'cont_loss': 3.2075281143188477, 'teacher_loss': 8.086772918701172, 'total_loss': 8.158493041992188}\n"
     ]
    },
    {
     "name": "stderr",
     "output_type": "stream",
     "text": [
      "Validating:  80%|████████  | 189/235 [01:31<00:21,  2.11it/s, loss=8.2323, avg_loss=7.9263]"
     ]
    },
    {
     "name": "stdout",
     "output_type": "stream",
     "text": [
      "{'kd_loss': 11.44306755065918, 'feature_loss': 0.28492987155914307, 'ce_loss': 8.15587329864502, 'cont_loss': 3.357407569885254, 'teacher_loss': 8.088262557983398, 'total_loss': 8.232303619384766}\n"
     ]
    },
    {
     "name": "stderr",
     "output_type": "stream",
     "text": [
      "Validating:  81%|████████  | 190/235 [01:31<00:21,  2.11it/s, loss=8.0606, avg_loss=7.9270]"
     ]
    },
    {
     "name": "stdout",
     "output_type": "stream",
     "text": [
      "{'kd_loss': 11.244379997253418, 'feature_loss': 0.29238611459732056, 'ce_loss': 7.976806163787842, 'cont_loss': 3.136390209197998, 'teacher_loss': 8.07846450805664, 'total_loss': 8.060590744018555}\n"
     ]
    },
    {
     "name": "stderr",
     "output_type": "stream",
     "text": [
      "Validating:  81%|████████▏ | 191/235 [01:32<00:20,  2.11it/s, loss=8.3207, avg_loss=7.9291]"
     ]
    },
    {
     "name": "stdout",
     "output_type": "stream",
     "text": [
      "{'kd_loss': 11.5741548538208, 'feature_loss': 0.3121689558029175, 'ce_loss': 8.273820877075195, 'cont_loss': 3.1911425590515137, 'teacher_loss': 8.088475227355957, 'total_loss': 8.320738792419434}\n"
     ]
    },
    {
     "name": "stderr",
     "output_type": "stream",
     "text": [
      "Validating:  82%|████████▏ | 192/235 [01:32<00:20,  2.11it/s, loss=8.2846, avg_loss=7.9309]"
     ]
    },
    {
     "name": "stdout",
     "output_type": "stream",
     "text": [
      "{'kd_loss': 11.52415657043457, 'feature_loss': 0.30420470237731934, 'ce_loss': 8.229040145874023, 'cont_loss': 3.224670171737671, 'teacher_loss': 8.091691017150879, 'total_loss': 8.284586906433105}\n"
     ]
    },
    {
     "name": "stderr",
     "output_type": "stream",
     "text": [
      "Validating:  82%|████████▏ | 193/235 [01:33<00:19,  2.11it/s, loss=8.3329, avg_loss=7.9330]"
     ]
    },
    {
     "name": "stdout",
     "output_type": "stream",
     "text": [
      "{'kd_loss': 11.567728042602539, 'feature_loss': 0.3145701289176941, 'ce_loss': 8.268132209777832, 'cont_loss': 3.356797695159912, 'teacher_loss': 8.084177017211914, 'total_loss': 8.332938194274902}\n"
     ]
    },
    {
     "name": "stderr",
     "output_type": "stream",
     "text": [
      "Validating:  83%|████████▎ | 194/235 [01:33<00:19,  2.12it/s, loss=8.1989, avg_loss=7.9344]"
     ]
    },
    {
     "name": "stdout",
     "output_type": "stream",
     "text": [
      "{'kd_loss': 11.39864730834961, 'feature_loss': 0.34656715393066406, 'ce_loss': 8.115827560424805, 'cont_loss': 3.238447666168213, 'teacher_loss': 8.082832336425781, 'total_loss': 8.198948860168457}\n"
     ]
    },
    {
     "name": "stderr",
     "output_type": "stream",
     "text": [
      "Validating:  83%|████████▎ | 195/235 [01:34<00:18,  2.12it/s, loss=8.1815, avg_loss=7.9357]"
     ]
    },
    {
     "name": "stdout",
     "output_type": "stream",
     "text": [
      "{'kd_loss': 11.388961791992188, 'feature_loss': 0.2974399924278259, 'ce_loss': 8.10727310180664, 'cont_loss': 3.235072135925293, 'teacher_loss': 8.084833145141602, 'total_loss': 8.181488990783691}\n"
     ]
    },
    {
     "name": "stderr",
     "output_type": "stream",
     "text": [
      "Validating:  83%|████████▎ | 196/235 [01:34<00:18,  2.11it/s, loss=8.1420, avg_loss=7.9367]"
     ]
    },
    {
     "name": "stdout",
     "output_type": "stream",
     "text": [
      "{'kd_loss': 11.326416015625, 'feature_loss': 0.3144257068634033, 'ce_loss': 8.051128387451172, 'cont_loss': 3.281254529953003, 'teacher_loss': 8.0928373336792, 'total_loss': 8.14202880859375}\n"
     ]
    },
    {
     "name": "stderr",
     "output_type": "stream",
     "text": [
      "Validating:  84%|████████▍ | 197/235 [01:35<00:17,  2.12it/s, loss=8.0215, avg_loss=7.9371]"
     ]
    },
    {
     "name": "stdout",
     "output_type": "stream",
     "text": [
      "{'kd_loss': 11.171634674072266, 'feature_loss': 0.3250318765640259, 'ce_loss': 7.911794185638428, 'cont_loss': 3.2309257984161377, 'teacher_loss': 8.093777656555176, 'total_loss': 8.02147102355957}\n"
     ]
    },
    {
     "name": "stderr",
     "output_type": "stream",
     "text": [
      "Validating:  84%|████████▍ | 198/235 [01:35<00:17,  2.12it/s, loss=8.1310, avg_loss=7.9381]"
     ]
    },
    {
     "name": "stdout",
     "output_type": "stream",
     "text": [
      "{'kd_loss': 11.317283630371094, 'feature_loss': 0.3102465867996216, 'ce_loss': 8.04269790649414, 'cont_loss': 3.2493650913238525, 'teacher_loss': 8.078607559204102, 'total_loss': 8.13097858428955}\n"
     ]
    },
    {
     "name": "stderr",
     "output_type": "stream",
     "text": [
      "Validating:  85%|████████▍ | 199/235 [01:36<00:17,  2.11it/s, loss=8.1683, avg_loss=7.9393]"
     ]
    },
    {
     "name": "stdout",
     "output_type": "stream",
     "text": [
      "{'kd_loss': 11.357255935668945, 'feature_loss': 0.31613773107528687, 'ce_loss': 8.078700065612793, 'cont_loss': 3.306555986404419, 'teacher_loss': 8.089520454406738, 'total_loss': 8.168266296386719}\n"
     ]
    },
    {
     "name": "stderr",
     "output_type": "stream",
     "text": [
      "Validating:  85%|████████▌ | 200/235 [01:36<00:16,  2.11it/s, loss=8.2342, avg_loss=7.9408]"
     ]
    },
    {
     "name": "stdout",
     "output_type": "stream",
     "text": [
      "{'kd_loss': 11.441230773925781, 'feature_loss': 0.31822437047958374, 'ce_loss': 8.154321670532227, 'cont_loss': 3.3237125873565674, 'teacher_loss': 8.083413124084473, 'total_loss': 8.234237670898438}\n"
     ]
    },
    {
     "name": "stderr",
     "output_type": "stream",
     "text": [
      "Validating:  86%|████████▌ | 201/235 [01:36<00:16,  2.11it/s, loss=8.3076, avg_loss=7.9426]"
     ]
    },
    {
     "name": "stdout",
     "output_type": "stream",
     "text": [
      "{'kd_loss': 11.53962516784668, 'feature_loss': 0.32339584827423096, 'ce_loss': 8.24276351928711, 'cont_loss': 3.2995212078094482, 'teacher_loss': 8.085047721862793, 'total_loss': 8.307586669921875}\n"
     ]
    },
    {
     "name": "stderr",
     "output_type": "stream",
     "text": [
      "Validating:  86%|████████▌ | 202/235 [01:37<00:15,  2.12it/s, loss=8.2398, avg_loss=7.9441]"
     ]
    },
    {
     "name": "stdout",
     "output_type": "stream",
     "text": [
      "{'kd_loss': 11.452835083007812, 'feature_loss': 0.3207474946975708, 'ce_loss': 8.164779663085938, 'cont_loss': 3.285679817199707, 'teacher_loss': 8.083398818969727, 'total_loss': 8.239763259887695}\n"
     ]
    },
    {
     "name": "stderr",
     "output_type": "stream",
     "text": [
      "Validating:  86%|████████▋ | 203/235 [01:37<00:15,  2.12it/s, loss=8.3658, avg_loss=7.9461]"
     ]
    },
    {
     "name": "stdout",
     "output_type": "stream",
     "text": [
      "{'kd_loss': 11.576690673828125, 'feature_loss': 0.3089480996131897, 'ce_loss': 8.276345252990723, 'cont_loss': 3.627868175506592, 'teacher_loss': 8.085677146911621, 'total_loss': 8.365791320800781}\n"
     ]
    },
    {
     "name": "stderr",
     "output_type": "stream",
     "text": [
      "Validating:  87%|████████▋ | 204/235 [01:38<00:14,  2.12it/s, loss=8.2847, avg_loss=7.9478]"
     ]
    },
    {
     "name": "stdout",
     "output_type": "stream",
     "text": [
      "{'kd_loss': 11.50169849395752, 'feature_loss': 0.3301871418952942, 'ce_loss': 8.208588600158691, 'cont_loss': 3.345592498779297, 'teacher_loss': 8.091358184814453, 'total_loss': 8.284711837768555}\n"
     ]
    },
    {
     "name": "stderr",
     "output_type": "stream",
     "text": [
      "Validating:  87%|████████▋ | 205/235 [01:38<00:14,  2.11it/s, loss=8.2288, avg_loss=7.9492]"
     ]
    },
    {
     "name": "stdout",
     "output_type": "stream",
     "text": [
      "{'kd_loss': 11.412435531616211, 'feature_loss': 0.3230862021446228, 'ce_loss': 8.128617286682129, 'cont_loss': 3.4776370525360107, 'teacher_loss': 8.08696174621582, 'total_loss': 8.228802680969238}\n"
     ]
    },
    {
     "name": "stderr",
     "output_type": "stream",
     "text": [
      "Validating:  88%|████████▊ | 206/235 [01:39<00:13,  2.11it/s, loss=8.1374, avg_loss=7.9501]"
     ]
    },
    {
     "name": "stdout",
     "output_type": "stream",
     "text": [
      "{'kd_loss': 11.312187194824219, 'feature_loss': 0.3134106397628784, 'ce_loss': 8.038196563720703, 'cont_loss': 3.346123218536377, 'teacher_loss': 8.084859848022461, 'total_loss': 8.13744831085205}\n"
     ]
    },
    {
     "name": "stderr",
     "output_type": "stream",
     "text": [
      "Validating:  88%|████████▊ | 207/235 [01:39<00:13,  2.11it/s, loss=8.2060, avg_loss=7.9513]"
     ]
    },
    {
     "name": "stdout",
     "output_type": "stream",
     "text": [
      "{'kd_loss': 11.388177871704102, 'feature_loss': 0.33850038051605225, 'ce_loss': 8.106894493103027, 'cont_loss': 3.4024126529693604, 'teacher_loss': 8.083089828491211, 'total_loss': 8.20596981048584}\n"
     ]
    },
    {
     "name": "stderr",
     "output_type": "stream",
     "text": [
      "Validating:  89%|████████▊ | 208/235 [01:40<00:12,  2.11it/s, loss=8.3347, avg_loss=7.9532]"
     ]
    },
    {
     "name": "stdout",
     "output_type": "stream",
     "text": [
      "{'kd_loss': 11.56187915802002, 'feature_loss': 0.3159773349761963, 'ce_loss': 8.262792587280273, 'cont_loss': 3.416508197784424, 'teacher_loss': 8.084381103515625, 'total_loss': 8.334714889526367}\n"
     ]
    },
    {
     "name": "stderr",
     "output_type": "stream",
     "text": [
      "Validating:  89%|████████▉ | 209/235 [01:40<00:12,  2.11it/s, loss=8.3031, avg_loss=7.9548]"
     ]
    },
    {
     "name": "stdout",
     "output_type": "stream",
     "text": [
      "{'kd_loss': 11.481191635131836, 'feature_loss': 0.34270358085632324, 'ce_loss': 8.189976692199707, 'cont_loss': 3.661067485809326, 'teacher_loss': 8.082832336425781, 'total_loss': 8.303114891052246}\n"
     ]
    },
    {
     "name": "stderr",
     "output_type": "stream",
     "text": [
      "Validating:  89%|████████▉ | 210/235 [01:41<00:11,  2.11it/s, loss=8.3722, avg_loss=7.9568]"
     ]
    },
    {
     "name": "stdout",
     "output_type": "stream",
     "text": [
      "{'kd_loss': 11.616121292114258, 'feature_loss': 0.3202836513519287, 'ce_loss': 8.31174373626709, 'cont_loss': 3.369584560394287, 'teacher_loss': 8.088197708129883, 'total_loss': 8.372161865234375}\n"
     ]
    },
    {
     "name": "stderr",
     "output_type": "stream",
     "text": [
      "Validating:  90%|████████▉ | 211/235 [01:41<00:11,  2.11it/s, loss=8.2330, avg_loss=7.9581]"
     ]
    },
    {
     "name": "stdout",
     "output_type": "stream",
     "text": [
      "{'kd_loss': 11.412750244140625, 'feature_loss': 0.30654245615005493, 'ce_loss': 8.1287202835083, 'cont_loss': 3.551337242126465, 'teacher_loss': 8.089993476867676, 'total_loss': 8.233030319213867}\n"
     ]
    },
    {
     "name": "stderr",
     "output_type": "stream",
     "text": [
      "Validating:  90%|█████████ | 212/235 [01:42<00:10,  2.11it/s, loss=8.1890, avg_loss=7.9592]"
     ]
    },
    {
     "name": "stdout",
     "output_type": "stream",
     "text": [
      "{'kd_loss': 11.369914054870605, 'feature_loss': 0.31072497367858887, 'ce_loss': 8.090155601501465, 'cont_loss': 3.428771734237671, 'teacher_loss': 8.088850021362305, 'total_loss': 8.18904972076416}\n"
     ]
    },
    {
     "name": "stderr",
     "output_type": "stream",
     "text": [
      "Validating:  91%|█████████ | 213/235 [01:42<00:10,  2.12it/s, loss=8.2498, avg_loss=7.9606]"
     ]
    },
    {
     "name": "stdout",
     "output_type": "stream",
     "text": [
      "{'kd_loss': 11.449882507324219, 'feature_loss': 0.3068253993988037, 'ce_loss': 8.161979675292969, 'cont_loss': 3.437316417694092, 'teacher_loss': 8.090353012084961, 'total_loss': 8.249841690063477}\n"
     ]
    },
    {
     "name": "stderr",
     "output_type": "stream",
     "text": [
      "Validating:  91%|█████████ | 214/235 [01:43<00:09,  2.11it/s, loss=8.2970, avg_loss=7.9622]"
     ]
    },
    {
     "name": "stdout",
     "output_type": "stream",
     "text": [
      "{'kd_loss': 11.471112251281738, 'feature_loss': 0.31272411346435547, 'ce_loss': 8.181239128112793, 'cont_loss': 3.734741449356079, 'teacher_loss': 8.08987808227539, 'total_loss': 8.29695987701416}\n"
     ]
    },
    {
     "name": "stderr",
     "output_type": "stream",
     "text": [
      "Validating:  91%|█████████▏| 215/235 [01:43<00:09,  2.11it/s, loss=8.2658, avg_loss=7.9636]"
     ]
    },
    {
     "name": "stdout",
     "output_type": "stream",
     "text": [
      "{'kd_loss': 11.469917297363281, 'feature_loss': 0.30178600549697876, 'ce_loss': 8.180412292480469, 'cont_loss': 3.4526188373565674, 'teacher_loss': 8.090808868408203, 'total_loss': 8.265750885009766}\n"
     ]
    },
    {
     "name": "stderr",
     "output_type": "stream",
     "text": [
      "Validating:  92%|█████████▏| 216/235 [01:44<00:09,  2.11it/s, loss=8.2610, avg_loss=7.9649]"
     ]
    },
    {
     "name": "stdout",
     "output_type": "stream",
     "text": [
      "{'kd_loss': 11.461477279663086, 'feature_loss': 0.31247830390930176, 'ce_loss': 8.17241096496582, 'cont_loss': 3.4497859477996826, 'teacher_loss': 8.079895973205566, 'total_loss': 8.261029243469238}\n"
     ]
    },
    {
     "name": "stderr",
     "output_type": "stream",
     "text": [
      "Validating:  92%|█████████▏| 217/235 [01:44<00:08,  2.12it/s, loss=8.2658, avg_loss=7.9663]"
     ]
    },
    {
     "name": "stdout",
     "output_type": "stream",
     "text": [
      "{'kd_loss': 11.455793380737305, 'feature_loss': 0.3343971371650696, 'ce_loss': 8.167325019836426, 'cont_loss': 3.496424674987793, 'teacher_loss': 8.090420722961426, 'total_loss': 8.265769004821777}\n"
     ]
    },
    {
     "name": "stderr",
     "output_type": "stream",
     "text": [
      "Validating:  93%|█████████▎| 218/235 [01:45<00:08,  2.12it/s, loss=8.2532, avg_loss=7.9676]"
     ]
    },
    {
     "name": "stdout",
     "output_type": "stream",
     "text": [
      "{'kd_loss': 11.440603256225586, 'feature_loss': 0.3350633382797241, 'ce_loss': 8.153790473937988, 'cont_loss': 3.484419584274292, 'teacher_loss': 8.090160369873047, 'total_loss': 8.253212928771973}\n"
     ]
    },
    {
     "name": "stderr",
     "output_type": "stream",
     "text": [
      "Validating:  93%|█████████▎| 219/235 [01:45<00:07,  2.12it/s, loss=8.1832, avg_loss=7.9686]"
     ]
    },
    {
     "name": "stdout",
     "output_type": "stream",
     "text": [
      "{'kd_loss': 11.348136901855469, 'feature_loss': 0.34040015935897827, 'ce_loss': 8.070671081542969, 'cont_loss': 3.4755311012268066, 'teacher_loss': 8.0877046585083, 'total_loss': 8.18315601348877}\n"
     ]
    },
    {
     "name": "stderr",
     "output_type": "stream",
     "text": [
      "Validating:  94%|█████████▎| 220/235 [01:45<00:07,  2.12it/s, loss=8.2121, avg_loss=7.9697]"
     ]
    },
    {
     "name": "stdout",
     "output_type": "stream",
     "text": [
      "{'kd_loss': 11.387303352355957, 'feature_loss': 0.32610785961151123, 'ce_loss': 8.105972290039062, 'cont_loss': 3.4961347579956055, 'teacher_loss': 8.086837768554688, 'total_loss': 8.212145805358887}\n"
     ]
    },
    {
     "name": "stderr",
     "output_type": "stream",
     "text": [
      "Validating:  94%|█████████▍| 221/235 [01:46<00:06,  2.12it/s, loss=8.2589, avg_loss=7.9710]"
     ]
    },
    {
     "name": "stdout",
     "output_type": "stream",
     "text": [
      "{'kd_loss': 11.420205116271973, 'feature_loss': 0.3386183977127075, 'ce_loss': 8.135418891906738, 'cont_loss': 3.6893301010131836, 'teacher_loss': 8.084035873413086, 'total_loss': 8.258906364440918}\n"
     ]
    },
    {
     "name": "stderr",
     "output_type": "stream",
     "text": [
      "Validating:  94%|█████████▍| 222/235 [01:46<00:06,  2.12it/s, loss=8.2703, avg_loss=7.9724]"
     ]
    },
    {
     "name": "stdout",
     "output_type": "stream",
     "text": [
      "{'kd_loss': 11.45475959777832, 'feature_loss': 0.3395698070526123, 'ce_loss': 8.16655445098877, 'cont_loss': 3.5382320880889893, 'teacher_loss': 8.089792251586914, 'total_loss': 8.270263671875}\n"
     ]
    },
    {
     "name": "stderr",
     "output_type": "stream",
     "text": [
      "Validating:  95%|█████████▍| 223/235 [01:47<00:05,  2.12it/s, loss=8.1383, avg_loss=7.9731]"
     ]
    },
    {
     "name": "stdout",
     "output_type": "stream",
     "text": [
      "{'kd_loss': 11.293777465820312, 'feature_loss': 0.3186863660812378, 'ce_loss': 8.02120304107666, 'cont_loss': 3.48616623878479, 'teacher_loss': 8.085855484008789, 'total_loss': 8.138346672058105}\n"
     ]
    },
    {
     "name": "stderr",
     "output_type": "stream",
     "text": [
      "Validating:  95%|█████████▌| 224/235 [01:47<00:05,  2.12it/s, loss=8.2336, avg_loss=7.9743]"
     ]
    },
    {
     "name": "stdout",
     "output_type": "stream",
     "text": [
      "{'kd_loss': 11.410274505615234, 'feature_loss': 0.3323628902435303, 'ce_loss': 8.126321792602539, 'cont_loss': 3.5251052379608154, 'teacher_loss': 8.08851146697998, 'total_loss': 8.233621597290039}\n"
     ]
    },
    {
     "name": "stderr",
     "output_type": "stream",
     "text": [
      "Validating:  96%|█████████▌| 225/235 [01:48<00:04,  2.12it/s, loss=8.2879, avg_loss=7.9757]"
     ]
    },
    {
     "name": "stdout",
     "output_type": "stream",
     "text": [
      "{'kd_loss': 11.475438117980957, 'feature_loss': 0.3364180326461792, 'ce_loss': 8.185152053833008, 'cont_loss': 3.5635392665863037, 'teacher_loss': 8.091896057128906, 'total_loss': 8.287873268127441}\n"
     ]
    },
    {
     "name": "stderr",
     "output_type": "stream",
     "text": [
      "Validating:  96%|█████████▌| 226/235 [01:48<00:04,  2.11it/s, loss=8.2263, avg_loss=7.9768]"
     ]
    },
    {
     "name": "stdout",
     "output_type": "stream",
     "text": [
      "{'kd_loss': 11.378616333007812, 'feature_loss': 0.332400918006897, 'ce_loss': 8.097628593444824, 'cont_loss': 3.69362211227417, 'teacher_loss': 8.079401016235352, 'total_loss': 8.226340293884277}\n"
     ]
    },
    {
     "name": "stderr",
     "output_type": "stream",
     "text": [
      "Validating:  97%|█████████▋| 227/235 [01:49<00:03,  2.11it/s, loss=8.2426, avg_loss=7.9780]"
     ]
    },
    {
     "name": "stdout",
     "output_type": "stream",
     "text": [
      "{'kd_loss': 11.413274765014648, 'feature_loss': 0.3390148878097534, 'ce_loss': 8.129049301147461, 'cont_loss': 3.579077959060669, 'teacher_loss': 8.087849617004395, 'total_loss': 8.242640495300293}\n"
     ]
    },
    {
     "name": "stderr",
     "output_type": "stream",
     "text": [
      "Validating:  97%|█████████▋| 228/235 [01:49<00:03,  2.11it/s, loss=8.2682, avg_loss=7.9792]"
     ]
    },
    {
     "name": "stdout",
     "output_type": "stream",
     "text": [
      "{'kd_loss': 11.458795547485352, 'feature_loss': 0.3060205578804016, 'ce_loss': 8.170154571533203, 'cont_loss': 3.5538787841796875, 'teacher_loss': 8.096588134765625, 'total_loss': 8.268172264099121}\n"
     ]
    },
    {
     "name": "stderr",
     "output_type": "stream",
     "text": [
      "Validating:  97%|█████████▋| 229/235 [01:50<00:02,  2.11it/s, loss=8.2940, avg_loss=7.9806]"
     ]
    },
    {
     "name": "stdout",
     "output_type": "stream",
     "text": [
      "{'kd_loss': 11.48398494720459, 'feature_loss': 0.3186527490615845, 'ce_loss': 8.192695617675781, 'cont_loss': 3.5962464809417725, 'teacher_loss': 8.085022926330566, 'total_loss': 8.294028282165527}\n"
     ]
    },
    {
     "name": "stderr",
     "output_type": "stream",
     "text": [
      "Validating:  98%|█████████▊| 230/235 [01:50<00:02,  2.11it/s, loss=8.2562, avg_loss=7.9818]"
     ]
    },
    {
     "name": "stdout",
     "output_type": "stream",
     "text": [
      "{'kd_loss': 11.421123504638672, 'feature_loss': 0.33120298385620117, 'ce_loss': 8.136246681213379, 'cont_loss': 3.6702651977539062, 'teacher_loss': 8.088457107543945, 'total_loss': 8.25621509552002}\n"
     ]
    },
    {
     "name": "stderr",
     "output_type": "stream",
     "text": [
      "Validating:  98%|█████████▊| 231/235 [01:51<00:01,  2.11it/s, loss=8.2999, avg_loss=7.9832]"
     ]
    },
    {
     "name": "stdout",
     "output_type": "stream",
     "text": [
      "{'kd_loss': 11.485185623168945, 'feature_loss': 0.32187217473983765, 'ce_loss': 8.193719863891602, 'cont_loss': 3.6393423080444336, 'teacher_loss': 8.087182998657227, 'total_loss': 8.299871444702148}\n"
     ]
    },
    {
     "name": "stderr",
     "output_type": "stream",
     "text": [
      "Validating:  99%|█████████▊| 232/235 [01:51<00:01,  2.11it/s, loss=8.1434, avg_loss=7.9839]"
     ]
    },
    {
     "name": "stdout",
     "output_type": "stream",
     "text": [
      "{'kd_loss': 11.282805442810059, 'feature_loss': 0.3128706216812134, 'ce_loss': 8.011659622192383, 'cont_loss': 3.6302828788757324, 'teacher_loss': 8.084192276000977, 'total_loss': 8.143388748168945}\n"
     ]
    },
    {
     "name": "stderr",
     "output_type": "stream",
     "text": [
      "Validating:  99%|█████████▉| 233/235 [01:52<00:00,  2.11it/s, loss=8.3228, avg_loss=7.9853]"
     ]
    },
    {
     "name": "stdout",
     "output_type": "stream",
     "text": [
      "{'kd_loss': 11.500333786010742, 'feature_loss': 0.35627061128616333, 'ce_loss': 8.20736312866211, 'cont_loss': 3.685122013092041, 'teacher_loss': 8.087661743164062, 'total_loss': 8.322845458984375}\n"
     ]
    },
    {
     "name": "stderr",
     "output_type": "stream",
     "text": [
      "Validating: 100%|██████████| 235/235 [01:52<00:00,  2.58it/s, loss=8.2673, avg_loss=7.9875]"
     ]
    },
    {
     "name": "stdout",
     "output_type": "stream",
     "text": [
      "{'kd_loss': 11.363929748535156, 'feature_loss': 0.33669179677963257, 'ce_loss': 8.084622383117676, 'cont_loss': 3.633535146713257, 'teacher_loss': 8.090617179870605, 'total_loss': 8.210112571716309}\n",
      "{'kd_loss': 11.560616493225098, 'feature_loss': 0.32207030057907104, 'ce_loss': 8.262383460998535, 'cont_loss': 2.7370505332946777, 'teacher_loss': 8.090287208557129, 'total_loss': 8.267319679260254}\n"
     ]
    },
    {
     "name": "stderr",
     "output_type": "stream",
     "text": [
      "Validating: 100%|██████████| 235/235 [01:52<00:00,  2.08it/s, loss=8.2673, avg_loss=7.9875]\n"
     ]
    },
    {
     "name": "stdout",
     "output_type": "stream",
     "text": [
      "Epoch 4 | Train Loss: 9.9150 | Val Loss: 7.9875 | Top1 Acc: 0.01 | Top5 Acc: 0.02\n"
     ]
    },
    {
     "name": "stderr",
     "output_type": "stream",
     "text": [
      "Training: 100%|██████████| 1875/1875 [12:53<00:00,  2.42it/s, loss=9.9328, avg_loss=9.8875, lr=1.05e-5]\n",
      "Validating:   0%|          | 1/235 [00:02<07:54,  2.03s/it, loss=7.4218, avg_loss=7.4218]"
     ]
    },
    {
     "name": "stdout",
     "output_type": "stream",
     "text": [
      "{'kd_loss': 10.619041442871094, 'feature_loss': 0.30694276094436646, 'ce_loss': 7.413698196411133, 'cont_loss': 1.4731535911560059, 'teacher_loss': 8.102314949035645, 'total_loss': 7.421800136566162}\n"
     ]
    },
    {
     "name": "stderr",
     "output_type": "stream",
     "text": [
      "Validating:   1%|          | 2/235 [00:02<04:18,  1.11s/it, loss=7.7401, avg_loss=7.5809]"
     ]
    },
    {
     "name": "stdout",
     "output_type": "stream",
     "text": [
      "{'kd_loss': 11.036063194274902, 'feature_loss': 0.2879596948623657, 'ce_loss': 7.789072513580322, 'cont_loss': 1.5243818759918213, 'teacher_loss': 8.100687980651855, 'total_loss': 7.740084648132324}\n"
     ]
    },
    {
     "name": "stderr",
     "output_type": "stream",
     "text": [
      "Validating:   1%|▏         | 3/235 [00:02<03:09,  1.22it/s, loss=8.0137, avg_loss=7.7252]"
     ]
    },
    {
     "name": "stdout",
     "output_type": "stream",
     "text": [
      "{'kd_loss': 11.396404266357422, 'feature_loss': 0.2898876667022705, 'ce_loss': 8.114091873168945, 'cont_loss': 1.5150930881500244, 'teacher_loss': 8.09097671508789, 'total_loss': 8.01368522644043}\n"
     ]
    },
    {
     "name": "stderr",
     "output_type": "stream",
     "text": [
      "Validating:   2%|▏         | 4/235 [00:03<02:37,  1.47it/s, loss=7.4244, avg_loss=7.6500]"
     ]
    },
    {
     "name": "stdout",
     "output_type": "stream",
     "text": [
      "{'kd_loss': 10.636954307556152, 'feature_loss': 0.25824248790740967, 'ce_loss': 7.42997932434082, 'cont_loss': 1.4599742889404297, 'teacher_loss': 8.086109161376953, 'total_loss': 7.42441987991333}\n"
     ]
    },
    {
     "name": "stderr",
     "output_type": "stream",
     "text": [
      "Validating:   2%|▏         | 5/235 [00:03<02:19,  1.65it/s, loss=7.0876, avg_loss=7.5375]"
     ]
    },
    {
     "name": "stdout",
     "output_type": "stream",
     "text": [
      "{'kd_loss': 10.198810577392578, 'feature_loss': 0.2478548288345337, 'ce_loss': 7.0356011390686035, 'cont_loss': 1.4423646926879883, 'teacher_loss': 8.090272903442383, 'total_loss': 7.0875725746154785}\n"
     ]
    },
    {
     "name": "stderr",
     "output_type": "stream",
     "text": [
      "Validating:   3%|▎         | 6/235 [00:04<02:07,  1.79it/s, loss=7.8243, avg_loss=7.5853]"
     ]
    },
    {
     "name": "stdout",
     "output_type": "stream",
     "text": [
      "{'kd_loss': 11.126063346862793, 'feature_loss': 0.3749145269393921, 'ce_loss': 7.870497226715088, 'cont_loss': 1.5073084831237793, 'teacher_loss': 8.086918830871582, 'total_loss': 7.824338912963867}\n"
     ]
    },
    {
     "name": "stderr",
     "output_type": "stream",
     "text": [
      "Validating:   3%|▎         | 7/235 [00:04<02:01,  1.88it/s, loss=7.7054, avg_loss=7.6025]"
     ]
    },
    {
     "name": "stdout",
     "output_type": "stream",
     "text": [
      "{'kd_loss': 10.994733810424805, 'feature_loss': 0.28996849060058594, 'ce_loss': 7.7523956298828125, 'cont_loss': 1.4856727123260498, 'teacher_loss': 8.109010696411133, 'total_loss': 7.705412864685059}\n"
     ]
    },
    {
     "name": "stderr",
     "output_type": "stream",
     "text": [
      "Validating:   3%|▎         | 8/235 [00:05<01:56,  1.95it/s, loss=7.6597, avg_loss=7.6096]"
     ]
    },
    {
     "name": "stdout",
     "output_type": "stream",
     "text": [
      "{'kd_loss': 10.92282772064209, 'feature_loss': 0.33397436141967773, 'ce_loss': 7.687821388244629, 'cont_loss': 1.486180305480957, 'teacher_loss': 8.094013214111328, 'total_loss': 7.659672737121582}\n"
     ]
    },
    {
     "name": "stderr",
     "output_type": "stream",
     "text": [
      "Validating:   4%|▍         | 9/235 [00:05<01:52,  2.01it/s, loss=7.6528, avg_loss=7.6144]"
     ]
    },
    {
     "name": "stdout",
     "output_type": "stream",
     "text": [
      "{'kd_loss': 10.945032119750977, 'feature_loss': 0.20751136541366577, 'ce_loss': 7.70726203918457, 'cont_loss': 1.503950595855713, 'teacher_loss': 8.090094566345215, 'total_loss': 7.652815341949463}\n"
     ]
    },
    {
     "name": "stderr",
     "output_type": "stream",
     "text": [
      "Validating:   4%|▍         | 10/235 [00:06<01:50,  2.04it/s, loss=7.6150, avg_loss=7.6145]"
     ]
    },
    {
     "name": "stdout",
     "output_type": "stream",
     "text": [
      "{'kd_loss': 10.878061294555664, 'feature_loss': 0.270047664642334, 'ce_loss': 7.6475372314453125, 'cont_loss': 1.5075721740722656, 'teacher_loss': 8.090837478637695, 'total_loss': 7.615005970001221}\n"
     ]
    },
    {
     "name": "stderr",
     "output_type": "stream",
     "text": [
      "Validating:   5%|▍         | 11/235 [00:06<01:48,  2.06it/s, loss=7.7308, avg_loss=7.6251]"
     ]
    },
    {
     "name": "stdout",
     "output_type": "stream",
     "text": [
      "{'kd_loss': 11.021815299987793, 'feature_loss': 0.30641448497772217, 'ce_loss': 7.776789665222168, 'cont_loss': 1.5002951622009277, 'teacher_loss': 8.090780258178711, 'total_loss': 7.730754852294922}\n"
     ]
    },
    {
     "name": "stderr",
     "output_type": "stream",
     "text": [
      "Validating:   5%|▌         | 12/235 [00:07<01:47,  2.07it/s, loss=7.7119, avg_loss=7.6323]"
     ]
    },
    {
     "name": "stdout",
     "output_type": "stream",
     "text": [
      "{'kd_loss': 11.007369995117188, 'feature_loss': 0.27661705017089844, 'ce_loss': 7.764153957366943, 'cont_loss': 1.4791942834854126, 'teacher_loss': 8.087751388549805, 'total_loss': 7.71185302734375}\n"
     ]
    },
    {
     "name": "stderr",
     "output_type": "stream",
     "text": [
      "Validating:   6%|▌         | 13/235 [00:07<01:46,  2.08it/s, loss=7.6354, avg_loss=7.6325]"
     ]
    },
    {
     "name": "stdout",
     "output_type": "stream",
     "text": [
      "{'kd_loss': 10.897547721862793, 'feature_loss': 0.3115307688713074, 'ce_loss': 7.6652703285217285, 'cont_loss': 1.480064868927002, 'teacher_loss': 8.093827247619629, 'total_loss': 7.635439872741699}\n"
     ]
    },
    {
     "name": "stderr",
     "output_type": "stream",
     "text": [
      "Validating:   6%|▌         | 14/235 [00:08<01:45,  2.09it/s, loss=7.9134, avg_loss=7.6526]"
     ]
    },
    {
     "name": "stdout",
     "output_type": "stream",
     "text": [
      "{'kd_loss': 11.243738174438477, 'feature_loss': 0.3530288338661194, 'ce_loss': 7.976340293884277, 'cont_loss': 1.5477639436721802, 'teacher_loss': 8.083447456359863, 'total_loss': 7.913414001464844}\n"
     ]
    },
    {
     "name": "stderr",
     "output_type": "stream",
     "text": [
      "Validating:   6%|▋         | 15/235 [00:08<01:44,  2.10it/s, loss=7.6246, avg_loss=7.6507]"
     ]
    },
    {
     "name": "stdout",
     "output_type": "stream",
     "text": [
      "{'kd_loss': 10.901848793029785, 'feature_loss': 0.2561922073364258, 'ce_loss': 7.6686201095581055, 'cont_loss': 1.4517767429351807, 'teacher_loss': 8.094426155090332, 'total_loss': 7.624604225158691}\n"
     ]
    },
    {
     "name": "stderr",
     "output_type": "stream",
     "text": [
      "Validating:   7%|▋         | 16/235 [00:09<01:44,  2.10it/s, loss=7.8799, avg_loss=7.6650]"
     ]
    },
    {
     "name": "stdout",
     "output_type": "stream",
     "text": [
      "{'kd_loss': 11.217092514038086, 'feature_loss': 0.3075374364852905, 'ce_loss': 7.953027248382568, 'cont_loss': 1.503427267074585, 'teacher_loss': 8.084047317504883, 'total_loss': 7.879898548126221}\n"
     ]
    },
    {
     "name": "stderr",
     "output_type": "stream",
     "text": [
      "Validating:   7%|▋         | 17/235 [00:09<01:43,  2.10it/s, loss=7.6390, avg_loss=7.6635]"
     ]
    },
    {
     "name": "stdout",
     "output_type": "stream",
     "text": [
      "{'kd_loss': 10.90063762664795, 'feature_loss': 0.3057531714439392, 'ce_loss': 7.668255805969238, 'cont_loss': 1.5026135444641113, 'teacher_loss': 8.103939056396484, 'total_loss': 7.638969898223877}\n"
     ]
    },
    {
     "name": "stderr",
     "output_type": "stream",
     "text": [
      "Validating:   8%|▊         | 18/235 [00:10<01:43,  2.11it/s, loss=7.5279, avg_loss=7.6560]"
     ]
    },
    {
     "name": "stdout",
     "output_type": "stream",
     "text": [
      "{'kd_loss': 10.766105651855469, 'feature_loss': 0.2661958932876587, 'ce_loss': 7.54688024520874, 'cont_loss': 1.4949816465377808, 'teacher_loss': 8.086092948913574, 'total_loss': 7.5279316902160645}\n"
     ]
    },
    {
     "name": "stderr",
     "output_type": "stream",
     "text": [
      "Validating:   8%|▊         | 19/235 [00:10<01:42,  2.11it/s, loss=7.6814, avg_loss=7.6573]"
     ]
    },
    {
     "name": "stdout",
     "output_type": "stream",
     "text": [
      "{'kd_loss': 10.96472454071045, 'feature_loss': 0.27697479724884033, 'ce_loss': 7.724926948547363, 'cont_loss': 1.5011063814163208, 'teacher_loss': 8.101932525634766, 'total_loss': 7.681366443634033}\n"
     ]
    },
    {
     "name": "stderr",
     "output_type": "stream",
     "text": [
      "Validating:   9%|▊         | 20/235 [00:11<01:41,  2.11it/s, loss=7.4987, avg_loss=7.6494]"
     ]
    },
    {
     "name": "stdout",
     "output_type": "stream",
     "text": [
      "{'kd_loss': 10.728250503540039, 'feature_loss': 0.2635783553123474, 'ce_loss': 7.5126190185546875, 'cont_loss': 1.4966163635253906, 'teacher_loss': 8.097916603088379, 'total_loss': 7.498725414276123}\n"
     ]
    },
    {
     "name": "stderr",
     "output_type": "stream",
     "text": [
      "Validating:   9%|▉         | 21/235 [00:11<01:41,  2.11it/s, loss=7.7490, avg_loss=7.6541]"
     ]
    },
    {
     "name": "stdout",
     "output_type": "stream",
     "text": [
      "{'kd_loss': 11.05248737335205, 'feature_loss': 0.2687661647796631, 'ce_loss': 7.804675579071045, 'cont_loss': 1.524003267288208, 'teacher_loss': 8.103164672851562, 'total_loss': 7.749019145965576}\n"
     ]
    },
    {
     "name": "stderr",
     "output_type": "stream",
     "text": [
      "Validating:   9%|▉         | 22/235 [00:11<01:40,  2.11it/s, loss=7.8468, avg_loss=7.6629]"
     ]
    },
    {
     "name": "stdout",
     "output_type": "stream",
     "text": [
      "{'kd_loss': 11.19588851928711, 'feature_loss': 0.20470905303955078, 'ce_loss': 7.9338226318359375, 'cont_loss': 1.5393328666687012, 'teacher_loss': 8.095355987548828, 'total_loss': 7.846759796142578}\n"
     ]
    },
    {
     "name": "stderr",
     "output_type": "stream",
     "text": [
      "Validating:  10%|▉         | 23/235 [00:12<01:40,  2.11it/s, loss=7.5882, avg_loss=7.6596]"
     ]
    },
    {
     "name": "stdout",
     "output_type": "stream",
     "text": [
      "{'kd_loss': 10.815484046936035, 'feature_loss': 0.3675823211669922, 'ce_loss': 7.590749263763428, 'cont_loss': 1.5218067169189453, 'teacher_loss': 8.072267532348633, 'total_loss': 7.58819055557251}\n"
     ]
    },
    {
     "name": "stderr",
     "output_type": "stream",
     "text": [
      "Validating:  10%|█         | 24/235 [00:12<01:39,  2.11it/s, loss=7.8298, avg_loss=7.6667]"
     ]
    },
    {
     "name": "stdout",
     "output_type": "stream",
     "text": [
      "{'kd_loss': 11.157746315002441, 'feature_loss': 0.2938946485519409, 'ce_loss': 7.8990278244018555, 'cont_loss': 1.4829933643341064, 'teacher_loss': 8.078630447387695, 'total_loss': 7.829787731170654}\n"
     ]
    },
    {
     "name": "stderr",
     "output_type": "stream",
     "text": [
      "Validating:  11%|█         | 25/235 [00:13<01:39,  2.12it/s, loss=7.6710, avg_loss=7.6669]"
     ]
    },
    {
     "name": "stdout",
     "output_type": "stream",
     "text": [
      "{'kd_loss': 10.939180374145508, 'feature_loss': 0.32259172201156616, 'ce_loss': 7.702366352081299, 'cont_loss': 1.4989173412322998, 'teacher_loss': 8.098346710205078, 'total_loss': 7.671029090881348}\n"
     ]
    },
    {
     "name": "stderr",
     "output_type": "stream",
     "text": [
      "Validating:  11%|█         | 26/235 [00:13<01:38,  2.11it/s, loss=7.8511, avg_loss=7.6740]"
     ]
    },
    {
     "name": "stdout",
     "output_type": "stream",
     "text": [
      "{'kd_loss': 11.15939712524414, 'feature_loss': 0.3824247121810913, 'ce_loss': 7.900365829467773, 'cont_loss': 1.5072681903839111, 'teacher_loss': 8.100335121154785, 'total_loss': 7.8511176109313965}\n"
     ]
    },
    {
     "name": "stderr",
     "output_type": "stream",
     "text": [
      "Validating:  11%|█▏        | 27/235 [00:14<01:38,  2.11it/s, loss=7.6578, avg_loss=7.6734]"
     ]
    },
    {
     "name": "stdout",
     "output_type": "stream",
     "text": [
      "{'kd_loss': 10.924365043640137, 'feature_loss': 0.33133792877197266, 'ce_loss': 7.689368724822998, 'cont_loss': 1.4603486061096191, 'teacher_loss': 8.084147453308105, 'total_loss': 7.6577959060668945}\n"
     ]
    },
    {
     "name": "stderr",
     "output_type": "stream",
     "text": [
      "Validating:  12%|█▏        | 28/235 [00:14<01:38,  2.10it/s, loss=7.5646, avg_loss=7.6695]"
     ]
    },
    {
     "name": "stdout",
     "output_type": "stream",
     "text": [
      "{'kd_loss': 10.807811737060547, 'feature_loss': 0.29189419746398926, 'ce_loss': 7.584335803985596, 'cont_loss': 1.4937961101531982, 'teacher_loss': 8.090364456176758, 'total_loss': 7.56461763381958}\n"
     ]
    },
    {
     "name": "stderr",
     "output_type": "stream",
     "text": [
      "Validating:  12%|█▏        | 29/235 [00:15<01:37,  2.11it/s, loss=7.7332, avg_loss=7.6717]"
     ]
    },
    {
     "name": "stdout",
     "output_type": "stream",
     "text": [
      "{'kd_loss': 11.034952163696289, 'feature_loss': 0.27303409576416016, 'ce_loss': 7.788047790527344, 'cont_loss': 1.4935911893844604, 'teacher_loss': 8.086206436157227, 'total_loss': 7.733166217803955}\n"
     ]
    },
    {
     "name": "stderr",
     "output_type": "stream",
     "text": [
      "Validating:  13%|█▎        | 30/235 [00:15<01:37,  2.10it/s, loss=7.1107, avg_loss=7.6530]"
     ]
    },
    {
     "name": "stdout",
     "output_type": "stream",
     "text": [
      "{'kd_loss': 10.22055435180664, 'feature_loss': 0.30060386657714844, 'ce_loss': 7.055267333984375, 'cont_loss': 1.4020531177520752, 'teacher_loss': 8.086463928222656, 'total_loss': 7.110654830932617}\n"
     ]
    },
    {
     "name": "stderr",
     "output_type": "stream",
     "text": [
      "Validating:  13%|█▎        | 31/235 [00:16<01:36,  2.11it/s, loss=7.8408, avg_loss=7.6591]"
     ]
    },
    {
     "name": "stdout",
     "output_type": "stream",
     "text": [
      "{'kd_loss': 11.177774429321289, 'feature_loss': 0.29089683294296265, 'ce_loss': 7.917165279388428, 'cont_loss': 1.4464367628097534, 'teacher_loss': 8.096972465515137, 'total_loss': 7.840799331665039}\n"
     ]
    },
    {
     "name": "stderr",
     "output_type": "stream",
     "text": [
      "Validating:  14%|█▎        | 32/235 [00:16<01:36,  2.10it/s, loss=7.4806, avg_loss=7.6535]"
     ]
    },
    {
     "name": "stdout",
     "output_type": "stream",
     "text": [
      "{'kd_loss': 10.712509155273438, 'feature_loss': 0.23597806692123413, 'ce_loss': 7.498910903930664, 'cont_loss': 1.4887170791625977, 'teacher_loss': 8.101008415222168, 'total_loss': 7.480635166168213}\n"
     ]
    },
    {
     "name": "stderr",
     "output_type": "stream",
     "text": [
      "Validating:  14%|█▍        | 33/235 [00:17<01:35,  2.11it/s, loss=7.8579, avg_loss=7.6597]"
     ]
    },
    {
     "name": "stdout",
     "output_type": "stream",
     "text": [
      "{'kd_loss': 11.195028305053711, 'feature_loss': 0.28146374225616455, 'ce_loss': 7.933224678039551, 'cont_loss': 1.5031030178070068, 'teacher_loss': 8.065587043762207, 'total_loss': 7.857904434204102}\n"
     ]
    },
    {
     "name": "stderr",
     "output_type": "stream",
     "text": [
      "Validating:  14%|█▍        | 34/235 [00:17<01:35,  2.10it/s, loss=7.5637, avg_loss=7.6569]"
     ]
    },
    {
     "name": "stdout",
     "output_type": "stream",
     "text": [
      "{'kd_loss': 10.78792667388916, 'feature_loss': 0.35904204845428467, 'ce_loss': 7.566439151763916, 'cont_loss': 1.5018317699432373, 'teacher_loss': 8.092671394348145, 'total_loss': 7.5637383460998535}\n"
     ]
    },
    {
     "name": "stderr",
     "output_type": "stream",
     "text": [
      "Validating:  15%|█▍        | 35/235 [00:18<01:34,  2.11it/s, loss=7.4841, avg_loss=7.6519]"
     ]
    },
    {
     "name": "stdout",
     "output_type": "stream",
     "text": [
      "{'kd_loss': 10.694512367248535, 'feature_loss': 0.3454488515853882, 'ce_loss': 7.482043266296387, 'cont_loss': 1.4436440467834473, 'teacher_loss': 8.075820922851562, 'total_loss': 7.484076499938965}\n"
     ]
    },
    {
     "name": "stderr",
     "output_type": "stream",
     "text": [
      "Validating:  15%|█▌        | 36/235 [00:18<01:34,  2.10it/s, loss=7.5761, avg_loss=7.6498]"
     ]
    },
    {
     "name": "stdout",
     "output_type": "stream",
     "text": [
      "{'kd_loss': 10.84086799621582, 'feature_loss': 0.20981556177139282, 'ce_loss': 7.613667964935303, 'cont_loss': 1.5228573083877563, 'teacher_loss': 8.081287384033203, 'total_loss': 7.57606315612793}\n"
     ]
    },
    {
     "name": "stderr",
     "output_type": "stream",
     "text": [
      "Validating:  16%|█▌        | 37/235 [00:19<01:34,  2.11it/s, loss=7.7805, avg_loss=7.6533]"
     ]
    },
    {
     "name": "stdout",
     "output_type": "stream",
     "text": [
      "{'kd_loss': 11.091407775878906, 'feature_loss': 0.2379688024520874, 'ce_loss': 7.839635372161865, 'cont_loss': 1.6046481132507324, 'teacher_loss': 8.093547821044922, 'total_loss': 7.780475616455078}\n"
     ]
    },
    {
     "name": "stderr",
     "output_type": "stream",
     "text": [
      "Validating:  16%|█▌        | 38/235 [00:19<01:33,  2.11it/s, loss=7.6047, avg_loss=7.6521]"
     ]
    },
    {
     "name": "stdout",
     "output_type": "stream",
     "text": [
      "{'kd_loss': 10.81983757019043, 'feature_loss': 0.33956754207611084, 'ce_loss': 7.595160961151123, 'cont_loss': 1.7080570459365845, 'teacher_loss': 8.087539672851562, 'total_loss': 7.604719161987305}\n"
     ]
    },
    {
     "name": "stderr",
     "output_type": "stream",
     "text": [
      "Validating:  17%|█▋        | 39/235 [00:20<01:32,  2.11it/s, loss=7.8079, avg_loss=7.6561]"
     ]
    },
    {
     "name": "stdout",
     "output_type": "stream",
     "text": [
      "{'kd_loss': 11.134382247924805, 'feature_loss': 0.24921095371246338, 'ce_loss': 7.878377437591553, 'cont_loss': 1.529222011566162, 'teacher_loss': 8.094025611877441, 'total_loss': 7.807868480682373}\n"
     ]
    },
    {
     "name": "stderr",
     "output_type": "stream",
     "text": [
      "Validating:  17%|█▋        | 40/235 [00:20<01:32,  2.10it/s, loss=7.8311, avg_loss=7.6604]"
     ]
    },
    {
     "name": "stdout",
     "output_type": "stream",
     "text": [
      "{'kd_loss': 11.15450668334961, 'feature_loss': 0.18688899278640747, 'ce_loss': 7.8965067863464355, 'cont_loss': 1.7328004837036133, 'teacher_loss': 8.100491523742676, 'total_loss': 7.831063747406006}\n"
     ]
    },
    {
     "name": "stderr",
     "output_type": "stream",
     "text": [
      "Validating:  17%|█▋        | 41/235 [00:20<01:32,  2.10it/s, loss=7.4831, avg_loss=7.6561]"
     ]
    },
    {
     "name": "stdout",
     "output_type": "stream",
     "text": [
      "{'kd_loss': 10.690559387207031, 'feature_loss': 0.2665550112724304, 'ce_loss': 7.478813648223877, 'cont_loss': 1.6205599308013916, 'teacher_loss': 8.087258338928223, 'total_loss': 7.483116149902344}\n"
     ]
    },
    {
     "name": "stderr",
     "output_type": "stream",
     "text": [
      "Validating:  18%|█▊        | 42/235 [00:21<01:31,  2.10it/s, loss=7.3810, avg_loss=7.6496]"
     ]
    },
    {
     "name": "stdout",
     "output_type": "stream",
     "text": [
      "{'kd_loss': 10.559648513793945, 'feature_loss': 0.27182888984680176, 'ce_loss': 7.361140251159668, 'cont_loss': 1.5828042030334473, 'teacher_loss': 8.086973190307617, 'total_loss': 7.3809614181518555}\n"
     ]
    },
    {
     "name": "stderr",
     "output_type": "stream",
     "text": [
      "Validating:  18%|█▊        | 43/235 [00:21<01:31,  2.10it/s, loss=7.6252, avg_loss=7.6490]"
     ]
    },
    {
     "name": "stdout",
     "output_type": "stream",
     "text": [
      "{'kd_loss': 10.87177848815918, 'feature_loss': 0.35187315940856934, 'ce_loss': 7.642030715942383, 'cont_loss': 1.4931919574737549, 'teacher_loss': 8.082313537597656, 'total_loss': 7.625217437744141}\n"
     ]
    },
    {
     "name": "stderr",
     "output_type": "stream",
     "text": [
      "Validating:  19%|█▊        | 44/235 [00:22<01:30,  2.10it/s, loss=8.1121, avg_loss=7.6595]"
     ]
    },
    {
     "name": "stdout",
     "output_type": "stream",
     "text": [
      "{'kd_loss': 11.513907432556152, 'feature_loss': 0.23932331800460815, 'ce_loss': 8.219593048095703, 'cont_loss': 1.7083003520965576, 'teacher_loss': 8.081294059753418, 'total_loss': 8.11209487915039}\n"
     ]
    },
    {
     "name": "stderr",
     "output_type": "stream",
     "text": [
      "Validating:  19%|█▉        | 45/235 [00:22<01:30,  2.10it/s, loss=7.7918, avg_loss=7.6625]"
     ]
    },
    {
     "name": "stdout",
     "output_type": "stream",
     "text": [
      "{'kd_loss': 11.09571647644043, 'feature_loss': 0.2837182879447937, 'ce_loss': 7.8432207107543945, 'cont_loss': 1.5945196151733398, 'teacher_loss': 8.101225852966309, 'total_loss': 7.7917704582214355}\n"
     ]
    },
    {
     "name": "stderr",
     "output_type": "stream",
     "text": [
      "Validating:  20%|█▉        | 46/235 [00:23<01:29,  2.10it/s, loss=8.0044, avg_loss=7.6699]"
     ]
    },
    {
     "name": "stdout",
     "output_type": "stream",
     "text": [
      "{'kd_loss': 11.357050895690918, 'feature_loss': 0.3402221202850342, 'ce_loss': 8.078463554382324, 'cont_loss': 1.6210925579071045, 'teacher_loss': 8.10716438293457, 'total_loss': 8.004359245300293}\n"
     ]
    },
    {
     "name": "stderr",
     "output_type": "stream",
     "text": [
      "Validating:  20%|██        | 47/235 [00:23<01:29,  2.10it/s, loss=7.6493, avg_loss=7.6694]"
     ]
    },
    {
     "name": "stdout",
     "output_type": "stream",
     "text": [
      "{'kd_loss': 10.899750709533691, 'feature_loss': 0.23867422342300415, 'ce_loss': 7.667148590087891, 'cont_loss': 1.7479968070983887, 'teacher_loss': 8.098755836486816, 'total_loss': 7.649294853210449}\n"
     ]
    },
    {
     "name": "stderr",
     "output_type": "stream",
     "text": [
      "Validating:  20%|██        | 48/235 [00:24<01:29,  2.10it/s, loss=7.4292, avg_loss=7.6644]"
     ]
    },
    {
     "name": "stdout",
     "output_type": "stream",
     "text": [
      "{'kd_loss': 10.601370811462402, 'feature_loss': 0.3457375764846802, 'ce_loss': 7.3977179527282715, 'cont_loss': 1.6044509410858154, 'teacher_loss': 8.096199035644531, 'total_loss': 7.429228782653809}\n"
     ]
    },
    {
     "name": "stderr",
     "output_type": "stream",
     "text": [
      "Validating:  21%|██        | 49/235 [00:24<01:28,  2.10it/s, loss=7.5629, avg_loss=7.6624]"
     ]
    },
    {
     "name": "stdout",
     "output_type": "stream",
     "text": [
      "{'kd_loss': 10.784158706665039, 'feature_loss': 0.28674960136413574, 'ce_loss': 7.562283039093018, 'cont_loss': 1.6697969436645508, 'teacher_loss': 8.098061561584473, 'total_loss': 7.562906742095947}\n"
     ]
    },
    {
     "name": "stderr",
     "output_type": "stream",
     "text": [
      "Validating:  21%|██▏       | 50/235 [00:25<01:28,  2.10it/s, loss=7.5054, avg_loss=7.6592]"
     ]
    },
    {
     "name": "stdout",
     "output_type": "stream",
     "text": [
      "{'kd_loss': 10.707554817199707, 'feature_loss': 0.29703330993652344, 'ce_loss': 7.493548393249512, 'cont_loss': 1.6553696393966675, 'teacher_loss': 8.077347755432129, 'total_loss': 7.505384922027588}\n"
     ]
    },
    {
     "name": "stderr",
     "output_type": "stream",
     "text": [
      "Validating:  22%|██▏       | 51/235 [00:25<01:27,  2.10it/s, loss=7.4014, avg_loss=7.6542]"
     ]
    },
    {
     "name": "stdout",
     "output_type": "stream",
     "text": [
      "{'kd_loss': 10.561686515808105, 'feature_loss': 0.28968703746795654, 'ce_loss': 7.363308906555176, 'cont_loss': 1.7351181507110596, 'teacher_loss': 8.079153060913086, 'total_loss': 7.401447772979736}\n"
     ]
    },
    {
     "name": "stderr",
     "output_type": "stream",
     "text": [
      "Validating:  22%|██▏       | 52/235 [00:26<01:27,  2.10it/s, loss=7.7350, avg_loss=7.6557]"
     ]
    },
    {
     "name": "stdout",
     "output_type": "stream",
     "text": [
      "{'kd_loss': 11.01563549041748, 'feature_loss': 0.257568359375, 'ce_loss': 7.771455764770508, 'cont_loss': 1.686203956604004, 'teacher_loss': 8.095491409301758, 'total_loss': 7.734970569610596}\n"
     ]
    },
    {
     "name": "stderr",
     "output_type": "stream",
     "text": [
      "Validating:  23%|██▎       | 53/235 [00:26<01:26,  2.09it/s, loss=7.7339, avg_loss=7.6572]"
     ]
    },
    {
     "name": "stdout",
     "output_type": "stream",
     "text": [
      "{'kd_loss': 10.9906644821167, 'feature_loss': 0.2999846935272217, 'ce_loss': 7.748393535614014, 'cont_loss': 1.782448410987854, 'teacher_loss': 8.096564292907715, 'total_loss': 7.733865261077881}\n"
     ]
    },
    {
     "name": "stderr",
     "output_type": "stream",
     "text": [
      "Validating:  23%|██▎       | 54/235 [00:27<01:26,  2.10it/s, loss=7.7890, avg_loss=7.6596]"
     ]
    },
    {
     "name": "stdout",
     "output_type": "stream",
     "text": [
      "{'kd_loss': 11.049558639526367, 'feature_loss': 0.3856270909309387, 'ce_loss': 7.80124044418335, 'cont_loss': 1.7156537771224976, 'teacher_loss': 8.086956977844238, 'total_loss': 7.789011001586914}\n"
     ]
    },
    {
     "name": "stderr",
     "output_type": "stream",
     "text": [
      "Validating:  23%|██▎       | 55/235 [00:27<01:25,  2.10it/s, loss=7.3614, avg_loss=7.6542]"
     ]
    },
    {
     "name": "stdout",
     "output_type": "stream",
     "text": [
      "{'kd_loss': 10.50512981414795, 'feature_loss': 0.32591599225997925, 'ce_loss': 7.31131649017334, 'cont_loss': 1.6966321468353271, 'teacher_loss': 8.09875774383545, 'total_loss': 7.361425399780273}\n"
     ]
    },
    {
     "name": "stderr",
     "output_type": "stream",
     "text": [
      "Validating:  24%|██▍       | 56/235 [00:28<01:25,  2.10it/s, loss=7.9408, avg_loss=7.6593]"
     ]
    },
    {
     "name": "stdout",
     "output_type": "stream",
     "text": [
      "{'kd_loss': 11.250533103942871, 'feature_loss': 0.33258306980133057, 'ce_loss': 7.982289791107178, 'cont_loss': 1.811326026916504, 'teacher_loss': 8.09496784210205, 'total_loss': 7.9407782554626465}\n"
     ]
    },
    {
     "name": "stderr",
     "output_type": "stream",
     "text": [
      "Validating:  24%|██▍       | 57/235 [00:28<01:24,  2.10it/s, loss=7.6385, avg_loss=7.6590]"
     ]
    },
    {
     "name": "stdout",
     "output_type": "stream",
     "text": [
      "{'kd_loss': 10.86458969116211, 'feature_loss': 0.2932906150817871, 'ce_loss': 7.635176658630371, 'cont_loss': 1.799761176109314, 'teacher_loss': 8.097026824951172, 'total_loss': 7.638540744781494}\n"
     ]
    },
    {
     "name": "stderr",
     "output_type": "stream",
     "text": [
      "Validating:  25%|██▍       | 58/235 [00:29<01:24,  2.10it/s, loss=7.7094, avg_loss=7.6598]"
     ]
    },
    {
     "name": "stdout",
     "output_type": "stream",
     "text": [
      "{'kd_loss': 10.958309173583984, 'feature_loss': 0.2748865485191345, 'ce_loss': 7.719435214996338, 'cont_loss': 1.8335437774658203, 'teacher_loss': 8.097489356994629, 'total_loss': 7.709429740905762}\n"
     ]
    },
    {
     "name": "stderr",
     "output_type": "stream",
     "text": [
      "Validating:  25%|██▌       | 59/235 [00:29<01:23,  2.11it/s, loss=7.9486, avg_loss=7.6647]"
     ]
    },
    {
     "name": "stdout",
     "output_type": "stream",
     "text": [
      "{'kd_loss': 11.27407455444336, 'feature_loss': 0.2721107006072998, 'ce_loss': 8.003865242004395, 'cont_loss': 1.8303452730178833, 'teacher_loss': 8.085453987121582, 'total_loss': 7.94863224029541}\n"
     ]
    },
    {
     "name": "stderr",
     "output_type": "stream",
     "text": [
      "Validating:  26%|██▌       | 60/235 [00:30<01:23,  2.10it/s, loss=8.0833, avg_loss=7.6717]"
     ]
    },
    {
     "name": "stdout",
     "output_type": "stream",
     "text": [
      "{'kd_loss': 11.434611320495605, 'feature_loss': 0.3325648307800293, 'ce_loss': 8.147968292236328, 'cont_loss': 1.837478756904602, 'teacher_loss': 8.070199966430664, 'total_loss': 8.083292961120605}\n"
     ]
    },
    {
     "name": "stderr",
     "output_type": "stream",
     "text": [
      "Validating:  26%|██▌       | 61/235 [00:30<01:22,  2.10it/s, loss=7.6371, avg_loss=7.6711]"
     ]
    },
    {
     "name": "stdout",
     "output_type": "stream",
     "text": [
      "{'kd_loss': 10.858813285827637, 'feature_loss': 0.2760165333747864, 'ce_loss': 7.630071640014648, 'cont_loss': 1.8636325597763062, 'teacher_loss': 8.07871150970459, 'total_loss': 7.637120723724365}\n"
     ]
    },
    {
     "name": "stderr",
     "output_type": "stream",
     "text": [
      "Validating:  26%|██▋       | 62/235 [00:30<01:22,  2.10it/s, loss=7.8370, avg_loss=7.6738]"
     ]
    },
    {
     "name": "stdout",
     "output_type": "stream",
     "text": [
      "{'kd_loss': 11.13305950164795, 'feature_loss': 0.22908902168273926, 'ce_loss': 7.876880645751953, 'cont_loss': 1.8722233772277832, 'teacher_loss': 8.09185791015625, 'total_loss': 7.8370161056518555}\n"
     ]
    },
    {
     "name": "stderr",
     "output_type": "stream",
     "text": [
      "Validating:  27%|██▋       | 63/235 [00:31<01:21,  2.10it/s, loss=7.9995, avg_loss=7.6790]"
     ]
    },
    {
     "name": "stdout",
     "output_type": "stream",
     "text": [
      "{'kd_loss': 11.316384315490723, 'feature_loss': 0.28443050384521484, 'ce_loss': 8.042401313781738, 'cont_loss': 1.9907538890838623, 'teacher_loss': 8.086393356323242, 'total_loss': 7.999475955963135}\n"
     ]
    },
    {
     "name": "stderr",
     "output_type": "stream",
     "text": [
      "Validating:  27%|██▋       | 64/235 [00:31<01:21,  2.10it/s, loss=7.9363, avg_loss=7.6830]"
     ]
    },
    {
     "name": "stdout",
     "output_type": "stream",
     "text": [
      "{'kd_loss': 11.241640090942383, 'feature_loss': 0.3167582154273987, 'ce_loss': 7.97477912902832, 'cont_loss': 1.8633983135223389, 'teacher_loss': 8.080032348632812, 'total_loss': 7.936258792877197}\n"
     ]
    },
    {
     "name": "stderr",
     "output_type": "stream",
     "text": [
      "Validating:  28%|██▊       | 65/235 [00:32<01:21,  2.10it/s, loss=7.9605, avg_loss=7.6873]"
     ]
    },
    {
     "name": "stdout",
     "output_type": "stream",
     "text": [
      "{'kd_loss': 11.273290634155273, 'feature_loss': 0.2835313081741333, 'ce_loss': 8.003317832946777, 'cont_loss': 1.9318914413452148, 'teacher_loss': 8.078134536743164, 'total_loss': 7.9605393409729}\n"
     ]
    },
    {
     "name": "stderr",
     "output_type": "stream",
     "text": [
      "Validating:  28%|██▊       | 66/235 [00:32<01:20,  2.10it/s, loss=7.8283, avg_loss=7.6894]"
     ]
    },
    {
     "name": "stdout",
     "output_type": "stream",
     "text": [
      "{'kd_loss': 11.123115539550781, 'feature_loss': 0.23455440998077393, 'ce_loss': 7.868203639984131, 'cont_loss': 1.8490056991577148, 'teacher_loss': 8.08305835723877, 'total_loss': 7.828339099884033}\n"
     ]
    },
    {
     "name": "stderr",
     "output_type": "stream",
     "text": [
      "Validating:  29%|██▊       | 67/235 [00:33<01:19,  2.10it/s, loss=7.8422, avg_loss=7.6917]"
     ]
    },
    {
     "name": "stdout",
     "output_type": "stream",
     "text": [
      "{'kd_loss': 11.125621795654297, 'feature_loss': 0.29287755489349365, 'ce_loss': 7.8697428703308105, 'cont_loss': 1.854851484298706, 'teacher_loss': 8.094280242919922, 'total_loss': 7.842206954956055}\n"
     ]
    },
    {
     "name": "stderr",
     "output_type": "stream",
     "text": [
      "Validating:  29%|██▉       | 68/235 [00:33<01:19,  2.10it/s, loss=8.1202, avg_loss=7.6980]"
     ]
    },
    {
     "name": "stdout",
     "output_type": "stream",
     "text": [
      "{'kd_loss': 11.464061737060547, 'feature_loss': 0.2902420163154602, 'ce_loss': 8.174466133117676, 'cont_loss': 2.067448377609253, 'teacher_loss': 8.081554412841797, 'total_loss': 8.12020492553711}\n"
     ]
    },
    {
     "name": "stderr",
     "output_type": "stream",
     "text": [
      "Validating:  29%|██▉       | 69/235 [00:34<01:19,  2.10it/s, loss=7.9887, avg_loss=7.7022]"
     ]
    },
    {
     "name": "stdout",
     "output_type": "stream",
     "text": [
      "{'kd_loss': 11.317920684814453, 'feature_loss': 0.28524547815322876, 'ce_loss': 8.043612480163574, 'cont_loss': 1.8707009553909302, 'teacher_loss': 8.092119216918945, 'total_loss': 7.98873233795166}\n"
     ]
    },
    {
     "name": "stderr",
     "output_type": "stream",
     "text": [
      "Validating:  30%|██▉       | 70/235 [00:34<01:18,  2.10it/s, loss=7.7670, avg_loss=7.7031]"
     ]
    },
    {
     "name": "stdout",
     "output_type": "stream",
     "text": [
      "{'kd_loss': 11.029284477233887, 'feature_loss': 0.2748810052871704, 'ce_loss': 7.783638000488281, 'cont_loss': 1.8690015077590942, 'teacher_loss': 8.095789909362793, 'total_loss': 7.767045497894287}\n"
     ]
    },
    {
     "name": "stderr",
     "output_type": "stream",
     "text": [
      "Validating:  30%|███       | 71/235 [00:35<01:18,  2.10it/s, loss=7.7571, avg_loss=7.7039]"
     ]
    },
    {
     "name": "stdout",
     "output_type": "stream",
     "text": [
      "{'kd_loss': 10.997590065002441, 'feature_loss': 0.3001464605331421, 'ce_loss': 7.755074501037598, 'cont_loss': 1.9600677490234375, 'teacher_loss': 8.092885971069336, 'total_loss': 7.757102012634277}\n"
     ]
    },
    {
     "name": "stderr",
     "output_type": "stream",
     "text": [
      "Validating:  31%|███       | 72/235 [00:35<01:17,  2.10it/s, loss=7.7084, avg_loss=7.7040]"
     ]
    },
    {
     "name": "stdout",
     "output_type": "stream",
     "text": [
      "{'kd_loss': 10.930307388305664, 'feature_loss': 0.30339181423187256, 'ce_loss': 7.694526672363281, 'cont_loss': 1.9780895709991455, 'teacher_loss': 8.081427574157715, 'total_loss': 7.708421230316162}\n"
     ]
    },
    {
     "name": "stderr",
     "output_type": "stream",
     "text": [
      "Validating:  31%|███       | 73/235 [00:36<01:17,  2.09it/s, loss=7.6648, avg_loss=7.7034]"
     ]
    },
    {
     "name": "stdout",
     "output_type": "stream",
     "text": [
      "{'kd_loss': 10.88810920715332, 'feature_loss': 0.2714694142341614, 'ce_loss': 7.656236171722412, 'cont_loss': 1.9278507232666016, 'teacher_loss': 8.082088470458984, 'total_loss': 7.664817810058594}\n"
     ]
    },
    {
     "name": "stderr",
     "output_type": "stream",
     "text": [
      "Validating:  31%|███▏      | 74/235 [00:36<01:16,  2.09it/s, loss=7.9037, avg_loss=7.7061]"
     ]
    },
    {
     "name": "stdout",
     "output_type": "stream",
     "text": [
      "{'kd_loss': 11.197898864746094, 'feature_loss': 0.25354647636413574, 'ce_loss': 7.93524169921875, 'cont_loss': 1.997331976890564, 'teacher_loss': 8.085824012756348, 'total_loss': 7.9036993980407715}\n"
     ]
    },
    {
     "name": "stderr",
     "output_type": "stream",
     "text": [
      "Validating:  32%|███▏      | 75/235 [00:37<01:16,  2.10it/s, loss=7.7749, avg_loss=7.7071]"
     ]
    },
    {
     "name": "stdout",
     "output_type": "stream",
     "text": [
      "{'kd_loss': 11.024484634399414, 'feature_loss': 0.26482439041137695, 'ce_loss': 7.779407978057861, 'cont_loss': 2.0036730766296387, 'teacher_loss': 8.081503868103027, 'total_loss': 7.7748894691467285}\n"
     ]
    },
    {
     "name": "stderr",
     "output_type": "stream",
     "text": [
      "Validating:  32%|███▏      | 76/235 [00:37<01:15,  2.09it/s, loss=7.8072, avg_loss=7.7084]"
     ]
    },
    {
     "name": "stdout",
     "output_type": "stream",
     "text": [
      "{'kd_loss': 11.058283805847168, 'feature_loss': 0.30207085609436035, 'ce_loss': 7.809615135192871, 'cont_loss': 1.9962615966796875, 'teacher_loss': 8.09138298034668, 'total_loss': 7.807199954986572}\n"
     ]
    },
    {
     "name": "stderr",
     "output_type": "stream",
     "text": [
      "Validating:  33%|███▎      | 77/235 [00:38<01:15,  2.09it/s, loss=7.9200, avg_loss=7.7111]"
     ]
    },
    {
     "name": "stdout",
     "output_type": "stream",
     "text": [
      "{'kd_loss': 11.202388763427734, 'feature_loss': 0.28597140312194824, 'ce_loss': 7.939512729644775, 'cont_loss': 2.0606846809387207, 'teacher_loss': 8.082220077514648, 'total_loss': 7.920023441314697}\n"
     ]
    },
    {
     "name": "stderr",
     "output_type": "stream",
     "text": [
      "Validating:  33%|███▎      | 78/235 [00:38<01:14,  2.10it/s, loss=7.7656, avg_loss=7.7118]"
     ]
    },
    {
     "name": "stdout",
     "output_type": "stream",
     "text": [
      "{'kd_loss': 10.996417999267578, 'feature_loss': 0.3236234188079834, 'ce_loss': 7.754165172576904, 'cont_loss': 2.0062270164489746, 'teacher_loss': 8.09472370147705, 'total_loss': 7.765581130981445}\n"
     ]
    },
    {
     "name": "stderr",
     "output_type": "stream",
     "text": [
      "Validating:  34%|███▎      | 79/235 [00:39<01:14,  2.09it/s, loss=7.9703, avg_loss=7.7151]"
     ]
    },
    {
     "name": "stdout",
     "output_type": "stream",
     "text": [
      "{'kd_loss': 11.259049415588379, 'feature_loss': 0.2704736590385437, 'ce_loss': 7.990374565124512, 'cont_loss': 2.164156198501587, 'teacher_loss': 8.088193893432617, 'total_loss': 7.970279693603516}\n"
     ]
    },
    {
     "name": "stderr",
     "output_type": "stream",
     "text": [
      "Validating:  34%|███▍      | 80/235 [00:39<01:13,  2.10it/s, loss=7.8461, avg_loss=7.7167]"
     ]
    },
    {
     "name": "stdout",
     "output_type": "stream",
     "text": [
      "{'kd_loss': 11.100029945373535, 'feature_loss': 0.28867918252944946, 'ce_loss': 7.847344875335693, 'cont_loss': 2.0943212509155273, 'teacher_loss': 8.083549499511719, 'total_loss': 7.846117973327637}\n"
     ]
    },
    {
     "name": "stderr",
     "output_type": "stream",
     "text": [
      "Validating:  34%|███▍      | 81/235 [00:40<01:13,  2.10it/s, loss=7.6833, avg_loss=7.7163]"
     ]
    },
    {
     "name": "stdout",
     "output_type": "stream",
     "text": [
      "{'kd_loss': 10.881776809692383, 'feature_loss': 0.3138751983642578, 'ce_loss': 7.6514105796813965, 'cont_loss': 2.0722556114196777, 'teacher_loss': 8.086416244506836, 'total_loss': 7.683276176452637}\n"
     ]
    },
    {
     "name": "stderr",
     "output_type": "stream",
     "text": [
      "Validating:  35%|███▍      | 82/235 [00:40<01:13,  2.09it/s, loss=7.8636, avg_loss=7.7181]"
     ]
    },
    {
     "name": "stdout",
     "output_type": "stream",
     "text": [
      "{'kd_loss': 11.122835159301758, 'feature_loss': 0.29118871688842773, 'ce_loss': 7.867938995361328, 'cont_loss': 2.090486526489258, 'teacher_loss': 8.090271949768066, 'total_loss': 7.863596439361572}\n"
     ]
    },
    {
     "name": "stderr",
     "output_type": "stream",
     "text": [
      "Validating:  35%|███▌      | 83/235 [00:40<01:12,  2.10it/s, loss=7.8336, avg_loss=7.7195]"
     ]
    },
    {
     "name": "stdout",
     "output_type": "stream",
     "text": [
      "{'kd_loss': 11.085002899169922, 'feature_loss': 0.2812191843986511, 'ce_loss': 7.833373069763184, 'cont_loss': 2.1003713607788086, 'teacher_loss': 8.092278480529785, 'total_loss': 7.83363151550293}\n"
     ]
    },
    {
     "name": "stderr",
     "output_type": "stream",
     "text": [
      "Validating:  36%|███▌      | 84/235 [00:41<01:12,  2.10it/s, loss=7.8139, avg_loss=7.7206]"
     ]
    },
    {
     "name": "stdout",
     "output_type": "stream",
     "text": [
      "{'kd_loss': 11.064608573913574, 'feature_loss': 0.26776087284088135, 'ce_loss': 7.815634727478027, 'cont_loss': 2.0824508666992188, 'teacher_loss': 8.097299575805664, 'total_loss': 7.813895225524902}\n"
     ]
    },
    {
     "name": "stderr",
     "output_type": "stream",
     "text": [
      "Validating:  36%|███▌      | 85/235 [00:41<01:11,  2.10it/s, loss=7.8510, avg_loss=7.7222]"
     ]
    },
    {
     "name": "stdout",
     "output_type": "stream",
     "text": [
      "{'kd_loss': 11.087750434875488, 'feature_loss': 0.3517770767211914, 'ce_loss': 7.836275577545166, 'cont_loss': 2.109975814819336, 'teacher_loss': 8.086130142211914, 'total_loss': 7.850963592529297}\n"
     ]
    },
    {
     "name": "stderr",
     "output_type": "stream",
     "text": [
      "Validating:  37%|███▋      | 86/235 [00:42<01:10,  2.10it/s, loss=7.9340, avg_loss=7.7246]"
     ]
    },
    {
     "name": "stdout",
     "output_type": "stream",
     "text": [
      "{'kd_loss': 11.190093040466309, 'feature_loss': 0.30274516344070435, 'ce_loss': 7.927802562713623, 'cont_loss': 2.262718677520752, 'teacher_loss': 8.085267066955566, 'total_loss': 7.9339799880981445}\n"
     ]
    },
    {
     "name": "stderr",
     "output_type": "stream",
     "text": [
      "Validating:  37%|███▋      | 87/235 [00:42<01:10,  2.09it/s, loss=8.0229, avg_loss=7.7280]"
     ]
    },
    {
     "name": "stdout",
     "output_type": "stream",
     "text": [
      "{'kd_loss': 11.306325912475586, 'feature_loss': 0.3736768364906311, 'ce_loss': 8.032824516296387, 'cont_loss': 2.125448226928711, 'teacher_loss': 8.084071159362793, 'total_loss': 8.022939682006836}\n"
     ]
    },
    {
     "name": "stderr",
     "output_type": "stream",
     "text": [
      "Validating:  37%|███▋      | 88/235 [00:43<01:10,  2.10it/s, loss=7.9468, avg_loss=7.7305]"
     ]
    },
    {
     "name": "stdout",
     "output_type": "stream",
     "text": [
      "{'kd_loss': 11.221593856811523, 'feature_loss': 0.3024519085884094, 'ce_loss': 7.956686496734619, 'cont_loss': 2.1500778198242188, 'teacher_loss': 8.092545509338379, 'total_loss': 7.946810722351074}\n"
     ]
    },
    {
     "name": "stderr",
     "output_type": "stream",
     "text": [
      "Validating:  38%|███▊      | 89/235 [00:43<01:09,  2.10it/s, loss=7.9942, avg_loss=7.7335]"
     ]
    },
    {
     "name": "stdout",
     "output_type": "stream",
     "text": [
      "{'kd_loss': 11.281292915344238, 'feature_loss': 0.2907649874687195, 'ce_loss': 8.010235786437988, 'cont_loss': 2.194193124771118, 'teacher_loss': 8.08985710144043, 'total_loss': 7.994184494018555}\n"
     ]
    },
    {
     "name": "stderr",
     "output_type": "stream",
     "text": [
      "Validating:  38%|███▊      | 90/235 [00:44<01:08,  2.11it/s, loss=8.1332, avg_loss=7.7379]"
     ]
    },
    {
     "name": "stdout",
     "output_type": "stream",
     "text": [
      "{'kd_loss': 11.463502883911133, 'feature_loss': 0.3115190267562866, 'ce_loss': 8.174434661865234, 'cont_loss': 2.1576199531555176, 'teacher_loss': 8.091458320617676, 'total_loss': 8.133240699768066}\n"
     ]
    },
    {
     "name": "stderr",
     "output_type": "stream",
     "text": [
      "Validating:  39%|███▊      | 91/235 [00:44<01:08,  2.10it/s, loss=8.0652, avg_loss=7.7415]"
     ]
    },
    {
     "name": "stdout",
     "output_type": "stream",
     "text": [
      "{'kd_loss': 11.36128044128418, 'feature_loss': 0.274844765663147, 'ce_loss': 8.082666397094727, 'cont_loss': 2.326228618621826, 'teacher_loss': 8.076628684997559, 'total_loss': 8.065170288085938}\n"
     ]
    },
    {
     "name": "stderr",
     "output_type": "stream",
     "text": [
      "Validating:  39%|███▉      | 92/235 [00:45<01:08,  2.10it/s, loss=8.0257, avg_loss=7.7446]"
     ]
    },
    {
     "name": "stdout",
     "output_type": "stream",
     "text": [
      "{'kd_loss': 11.33249282836914, 'feature_loss': 0.2522793412208557, 'ce_loss': 8.055902481079102, 'cont_loss': 2.19863224029541, 'teacher_loss': 8.08105182647705, 'total_loss': 8.025677680969238}\n"
     ]
    },
    {
     "name": "stderr",
     "output_type": "stream",
     "text": [
      "Validating:  40%|███▉      | 93/235 [00:45<01:07,  2.10it/s, loss=7.9544, avg_loss=7.7469]"
     ]
    },
    {
     "name": "stdout",
     "output_type": "stream",
     "text": [
      "{'kd_loss': 11.232365608215332, 'feature_loss': 0.2930038571357727, 'ce_loss': 7.965439796447754, 'cont_loss': 2.1668195724487305, 'teacher_loss': 8.083176612854004, 'total_loss': 7.954405307769775}\n"
     ]
    },
    {
     "name": "stderr",
     "output_type": "stream",
     "text": [
      "Validating:  40%|████      | 94/235 [00:46<01:07,  2.10it/s, loss=7.9376, avg_loss=7.7489]"
     ]
    },
    {
     "name": "stdout",
     "output_type": "stream",
     "text": [
      "{'kd_loss': 11.194111824035645, 'feature_loss': 0.26369374990463257, 'ce_loss': 7.931595325469971, 'cont_loss': 2.3460211753845215, 'teacher_loss': 8.087337493896484, 'total_loss': 7.937623977661133}\n"
     ]
    },
    {
     "name": "stderr",
     "output_type": "stream",
     "text": [
      "Validating:  40%|████      | 95/235 [00:46<01:06,  2.10it/s, loss=7.8318, avg_loss=7.7498]"
     ]
    },
    {
     "name": "stdout",
     "output_type": "stream",
     "text": [
      "{'kd_loss': 11.052345275878906, 'feature_loss': 0.32864028215408325, 'ce_loss': 7.804257392883301, 'cont_loss': 2.2346906661987305, 'teacher_loss': 8.0795316696167, 'total_loss': 7.831838130950928}\n"
     ]
    },
    {
     "name": "stderr",
     "output_type": "stream",
     "text": [
      "Validating:  41%|████      | 96/235 [00:47<01:06,  2.10it/s, loss=7.8859, avg_loss=7.7512]"
     ]
    },
    {
     "name": "stdout",
     "output_type": "stream",
     "text": [
      "{'kd_loss': 11.135805130004883, 'feature_loss': 0.28396302461624146, 'ce_loss': 7.878813743591309, 'cont_loss': 2.23250150680542, 'teacher_loss': 8.07763671875, 'total_loss': 7.885890960693359}\n"
     ]
    },
    {
     "name": "stderr",
     "output_type": "stream",
     "text": [
      "Validating:  41%|████▏     | 97/235 [00:47<01:05,  2.10it/s, loss=8.0383, avg_loss=7.7542]"
     ]
    },
    {
     "name": "stdout",
     "output_type": "stream",
     "text": [
      "{'kd_loss': 11.334558486938477, 'feature_loss': 0.28867650032043457, 'ce_loss': 8.058600425720215, 'cont_loss': 2.232795238494873, 'teacher_loss': 8.076869010925293, 'total_loss': 8.038278579711914}\n"
     ]
    },
    {
     "name": "stderr",
     "output_type": "stream",
     "text": [
      "Validating:  42%|████▏     | 98/235 [00:48<01:05,  2.10it/s, loss=8.0121, avg_loss=7.7568]"
     ]
    },
    {
     "name": "stdout",
     "output_type": "stream",
     "text": [
      "{'kd_loss': 11.2686767578125, 'feature_loss': 0.32382136583328247, 'ce_loss': 7.998251914978027, 'cont_loss': 2.405452251434326, 'teacher_loss': 8.097554206848145, 'total_loss': 8.012081146240234}\n"
     ]
    },
    {
     "name": "stderr",
     "output_type": "stream",
     "text": [
      "Validating:  42%|████▏     | 99/235 [00:48<01:04,  2.10it/s, loss=8.0110, avg_loss=7.7594]"
     ]
    },
    {
     "name": "stdout",
     "output_type": "stream",
     "text": [
      "{'kd_loss': 11.287153244018555, 'feature_loss': 0.2887321710586548, 'ce_loss': 8.015329360961914, 'cont_loss': 2.3227877616882324, 'teacher_loss': 8.08405876159668, 'total_loss': 8.011018753051758}\n"
     ]
    },
    {
     "name": "stderr",
     "output_type": "stream",
     "text": [
      "Validating:  43%|████▎     | 100/235 [00:49<01:04,  2.10it/s, loss=8.0803, avg_loss=7.7626]"
     ]
    },
    {
     "name": "stdout",
     "output_type": "stream",
     "text": [
      "{'kd_loss': 11.389126777648926, 'feature_loss': 0.2462306022644043, 'ce_loss': 8.107417106628418, 'cont_loss': 2.323962688446045, 'teacher_loss': 8.082619667053223, 'total_loss': 8.080260276794434}\n"
     ]
    },
    {
     "name": "stderr",
     "output_type": "stream",
     "text": [
      "Validating:  43%|████▎     | 101/235 [00:49<01:03,  2.10it/s, loss=8.0759, avg_loss=7.7657]"
     ]
    },
    {
     "name": "stdout",
     "output_type": "stream",
     "text": [
      "{'kd_loss': 11.375797271728516, 'feature_loss': 0.27328622341156006, 'ce_loss': 8.095724105834961, 'cont_loss': 2.326768398284912, 'teacher_loss': 8.088655471801758, 'total_loss': 8.075942993164062}\n"
     ]
    },
    {
     "name": "stderr",
     "output_type": "stream",
     "text": [
      "Validating:  43%|████▎     | 102/235 [00:50<01:03,  2.10it/s, loss=8.0934, avg_loss=7.7689]"
     ]
    },
    {
     "name": "stdout",
     "output_type": "stream",
     "text": [
      "{'kd_loss': 11.403270721435547, 'feature_loss': 0.2561028003692627, 'ce_loss': 8.120197296142578, 'cont_loss': 2.3276472091674805, 'teacher_loss': 8.092193603515625, 'total_loss': 8.093372344970703}\n"
     ]
    },
    {
     "name": "stderr",
     "output_type": "stream",
     "text": [
      "Validating:  44%|████▍     | 103/235 [00:50<01:02,  2.10it/s, loss=7.9483, avg_loss=7.7706]"
     ]
    },
    {
     "name": "stdout",
     "output_type": "stream",
     "text": [
      "{'kd_loss': 11.186052322387695, 'feature_loss': 0.26736027002334595, 'ce_loss': 7.924721717834473, 'cont_loss': 2.505598783493042, 'teacher_loss': 8.091049194335938, 'total_loss': 7.948341369628906}\n"
     ]
    },
    {
     "name": "stderr",
     "output_type": "stream",
     "text": [
      "Validating:  44%|████▍     | 104/235 [00:50<01:02,  2.10it/s, loss=8.0146, avg_loss=7.7730]"
     ]
    },
    {
     "name": "stdout",
     "output_type": "stream",
     "text": [
      "{'kd_loss': 11.297600746154785, 'feature_loss': 0.25325703620910645, 'ce_loss': 8.024752616882324, 'cont_loss': 2.3501503467559814, 'teacher_loss': 8.091574668884277, 'total_loss': 8.014608383178711}\n"
     ]
    },
    {
     "name": "stderr",
     "output_type": "stream",
     "text": [
      "Validating:  45%|████▍     | 105/235 [00:51<01:01,  2.10it/s, loss=7.9759, avg_loss=7.7749]"
     ]
    },
    {
     "name": "stdout",
     "output_type": "stream",
     "text": [
      "{'kd_loss': 11.241082191467285, 'feature_loss': 0.2633439302444458, 'ce_loss': 7.974569797515869, 'cont_loss': 2.370199203491211, 'teacher_loss': 8.091080665588379, 'total_loss': 7.975949287414551}\n"
     ]
    },
    {
     "name": "stderr",
     "output_type": "stream",
     "text": [
      "Validating:  45%|████▌     | 106/235 [00:51<01:01,  2.10it/s, loss=8.0839, avg_loss=7.7778]"
     ]
    },
    {
     "name": "stdout",
     "output_type": "stream",
     "text": [
      "{'kd_loss': 11.346206665039062, 'feature_loss': 0.3225889205932617, 'ce_loss': 8.068180084228516, 'cont_loss': 2.536064863204956, 'teacher_loss': 8.082535743713379, 'total_loss': 8.083879470825195}\n"
     ]
    },
    {
     "name": "stderr",
     "output_type": "stream",
     "text": [
      "Validating:  46%|████▌     | 107/235 [00:52<01:01,  2.10it/s, loss=7.8013, avg_loss=7.7780]"
     ]
    },
    {
     "name": "stdout",
     "output_type": "stream",
     "text": [
      "{'kd_loss': 10.996036529541016, 'feature_loss': 0.3441629409790039, 'ce_loss': 7.752971649169922, 'cont_loss': 2.328328847885132, 'teacher_loss': 8.087098121643066, 'total_loss': 7.801268577575684}\n"
     ]
    },
    {
     "name": "stderr",
     "output_type": "stream",
     "text": [
      "Validating:  46%|████▌     | 108/235 [00:52<01:00,  2.10it/s, loss=7.9105, avg_loss=7.7793]"
     ]
    },
    {
     "name": "stdout",
     "output_type": "stream",
     "text": [
      "{'kd_loss': 11.146411895751953, 'feature_loss': 0.31230074167251587, 'ce_loss': 7.888812065124512, 'cont_loss': 2.3396496772766113, 'teacher_loss': 8.07397747039795, 'total_loss': 7.910514831542969}\n"
     ]
    },
    {
     "name": "stderr",
     "output_type": "stream",
     "text": [
      "Validating:  46%|████▋     | 109/235 [00:53<01:00,  2.10it/s, loss=8.0306, avg_loss=7.7816]"
     ]
    },
    {
     "name": "stdout",
     "output_type": "stream",
     "text": [
      "{'kd_loss': 11.289831161499023, 'feature_loss': 0.2788674831390381, 'ce_loss': 8.017759323120117, 'cont_loss': 2.5178961753845215, 'teacher_loss': 8.094091415405273, 'total_loss': 8.030599594116211}\n"
     ]
    },
    {
     "name": "stderr",
     "output_type": "stream",
     "text": [
      "Validating:  47%|████▋     | 110/235 [00:53<00:59,  2.10it/s, loss=8.0847, avg_loss=7.7843]"
     ]
    },
    {
     "name": "stdout",
     "output_type": "stream",
     "text": [
      "{'kd_loss': 11.36110782623291, 'feature_loss': 0.3219306468963623, 'ce_loss': 8.08220386505127, 'cont_loss': 2.430006980895996, 'teacher_loss': 8.08590030670166, 'total_loss': 8.084712028503418}\n"
     ]
    },
    {
     "name": "stderr",
     "output_type": "stream",
     "text": [
      "Validating:  47%|████▋     | 111/235 [00:54<00:58,  2.11it/s, loss=7.9967, avg_loss=7.7862]"
     ]
    },
    {
     "name": "stdout",
     "output_type": "stream",
     "text": [
      "{'kd_loss': 11.253808975219727, 'feature_loss': 0.28744375705718994, 'ce_loss': 7.985437870025635, 'cont_loss': 2.4346234798431396, 'teacher_loss': 8.089523315429688, 'total_loss': 7.996650218963623}\n"
     ]
    },
    {
     "name": "stderr",
     "output_type": "stream",
     "text": [
      "Validating:  48%|████▊     | 112/235 [00:54<00:58,  2.11it/s, loss=7.9318, avg_loss=7.7875]"
     ]
    },
    {
     "name": "stdout",
     "output_type": "stream",
     "text": [
      "{'kd_loss': 11.15766716003418, 'feature_loss': 0.33940523862838745, 'ce_loss': 7.899081707000732, 'cont_loss': 2.4117531776428223, 'teacher_loss': 8.089799880981445, 'total_loss': 7.931756019592285}\n"
     ]
    },
    {
     "name": "stderr",
     "output_type": "stream",
     "text": [
      "Validating:  48%|████▊     | 113/235 [00:55<00:57,  2.11it/s, loss=8.1358, avg_loss=7.7906]"
     ]
    },
    {
     "name": "stdout",
     "output_type": "stream",
     "text": [
      "{'kd_loss': 11.438863754272461, 'feature_loss': 0.29332083463668823, 'ce_loss': 8.151557922363281, 'cont_loss': 2.4101109504699707, 'teacher_loss': 8.087100982666016, 'total_loss': 8.135844230651855}\n"
     ]
    },
    {
     "name": "stderr",
     "output_type": "stream",
     "text": [
      "Validating:  49%|████▊     | 114/235 [00:55<00:57,  2.11it/s, loss=8.0807, avg_loss=7.7932]"
     ]
    },
    {
     "name": "stdout",
     "output_type": "stream",
     "text": [
      "{'kd_loss': 11.337080001831055, 'feature_loss': 0.31895118951797485, 'ce_loss': 8.060137748718262, 'cont_loss': 2.5804877281188965, 'teacher_loss': 8.086071014404297, 'total_loss': 8.080726623535156}\n"
     ]
    },
    {
     "name": "stderr",
     "output_type": "stream",
     "text": [
      "Validating:  49%|████▉     | 115/235 [00:56<00:56,  2.11it/s, loss=7.9864, avg_loss=7.7948]"
     ]
    },
    {
     "name": "stdout",
     "output_type": "stream",
     "text": [
      "{'kd_loss': 11.233746528625488, 'feature_loss': 0.31217366456985474, 'ce_loss': 7.9674530029296875, 'cont_loss': 2.4348771572113037, 'teacher_loss': 8.082588195800781, 'total_loss': 7.98640251159668}\n"
     ]
    },
    {
     "name": "stderr",
     "output_type": "stream",
     "text": [
      "Validating:  49%|████▉     | 116/235 [00:56<00:56,  2.11it/s, loss=8.0552, avg_loss=7.7971]"
     ]
    },
    {
     "name": "stdout",
     "output_type": "stream",
     "text": [
      "{'kd_loss': 11.337116241455078, 'feature_loss': 0.24702811241149902, 'ce_loss': 8.06042194366455, 'cont_loss': 2.4678759574890137, 'teacher_loss': 8.077078819274902, 'total_loss': 8.055209159851074}\n"
     ]
    },
    {
     "name": "stderr",
     "output_type": "stream",
     "text": [
      "Validating:  50%|████▉     | 117/235 [00:57<00:56,  2.10it/s, loss=7.9881, avg_loss=7.7987]"
     ]
    },
    {
     "name": "stdout",
     "output_type": "stream",
     "text": [
      "{'kd_loss': 11.219926834106445, 'feature_loss': 0.329032301902771, 'ce_loss': 7.954756259918213, 'cont_loss': 2.524467945098877, 'teacher_loss': 8.08809757232666, 'total_loss': 7.988126277923584}\n"
     ]
    },
    {
     "name": "stderr",
     "output_type": "stream",
     "text": [
      "Validating:  50%|█████     | 118/235 [00:57<00:55,  2.10it/s, loss=7.8769, avg_loss=7.7994]"
     ]
    },
    {
     "name": "stdout",
     "output_type": "stream",
     "text": [
      "{'kd_loss': 11.084722518920898, 'feature_loss': 0.30714619159698486, 'ce_loss': 7.833441257476807, 'cont_loss': 2.482393741607666, 'teacher_loss': 8.09126091003418, 'total_loss': 7.876934051513672}\n"
     ]
    },
    {
     "name": "stderr",
     "output_type": "stream",
     "text": [
      "Validating:  51%|█████     | 119/235 [00:58<00:55,  2.10it/s, loss=8.0428, avg_loss=7.8014]"
     ]
    },
    {
     "name": "stdout",
     "output_type": "stream",
     "text": [
      "{'kd_loss': 11.308221817016602, 'feature_loss': 0.27290672063827515, 'ce_loss': 8.034392356872559, 'cont_loss': 2.5114314556121826, 'teacher_loss': 8.076318740844727, 'total_loss': 8.042770385742188}\n"
     ]
    },
    {
     "name": "stderr",
     "output_type": "stream",
     "text": [
      "Validating:  51%|█████     | 120/235 [00:58<00:54,  2.10it/s, loss=7.8581, avg_loss=7.8019]"
     ]
    },
    {
     "name": "stdout",
     "output_type": "stream",
     "text": [
      "{'kd_loss': 11.044018745422363, 'feature_loss': 0.34149622917175293, 'ce_loss': 7.797224998474121, 'cont_loss': 2.5333251953125, 'teacher_loss': 8.082632064819336, 'total_loss': 7.858129978179932}\n"
     ]
    },
    {
     "name": "stderr",
     "output_type": "stream",
     "text": [
      "Validating:  51%|█████▏    | 121/235 [00:59<00:54,  2.10it/s, loss=8.1800, avg_loss=7.8050]"
     ]
    },
    {
     "name": "stdout",
     "output_type": "stream",
     "text": [
      "{'kd_loss': 11.478910446166992, 'feature_loss': 0.28757548332214355, 'ce_loss': 8.188478469848633, 'cont_loss': 2.555072546005249, 'teacher_loss': 8.079292297363281, 'total_loss': 8.179978370666504}\n"
     ]
    },
    {
     "name": "stderr",
     "output_type": "stream",
     "text": [
      "Validating:  52%|█████▏    | 122/235 [00:59<00:53,  2.10it/s, loss=7.9873, avg_loss=7.8065]"
     ]
    },
    {
     "name": "stdout",
     "output_type": "stream",
     "text": [
      "{'kd_loss': 11.224102020263672, 'feature_loss': 0.2867661714553833, 'ce_loss': 7.958781719207764, 'cont_loss': 2.568070411682129, 'teacher_loss': 8.080521583557129, 'total_loss': 7.987313270568848}\n"
     ]
    },
    {
     "name": "stderr",
     "output_type": "stream",
     "text": [
      "Validating:  52%|█████▏    | 123/235 [01:00<00:53,  2.10it/s, loss=8.0958, avg_loss=7.8089]"
     ]
    },
    {
     "name": "stdout",
     "output_type": "stream",
     "text": [
      "{'kd_loss': 11.355030059814453, 'feature_loss': 0.2844429016113281, 'ce_loss': 8.076191902160645, 'cont_loss': 2.6644790172576904, 'teacher_loss': 8.098217964172363, 'total_loss': 8.0958251953125}\n"
     ]
    },
    {
     "name": "stderr",
     "output_type": "stream",
     "text": [
      "Validating:  53%|█████▎    | 124/235 [01:00<00:52,  2.10it/s, loss=7.9958, avg_loss=7.8104]"
     ]
    },
    {
     "name": "stdout",
     "output_type": "stream",
     "text": [
      "{'kd_loss': 11.242256164550781, 'feature_loss': 0.2999706268310547, 'ce_loss': 7.975351810455322, 'cont_loss': 2.4874346256256104, 'teacher_loss': 8.07785701751709, 'total_loss': 7.995780944824219}\n"
     ]
    },
    {
     "name": "stderr",
     "output_type": "stream",
     "text": [
      "Validating:  53%|█████▎    | 125/235 [01:00<00:52,  2.10it/s, loss=7.8658, avg_loss=7.8108]"
     ]
    },
    {
     "name": "stdout",
     "output_type": "stream",
     "text": [
      "{'kd_loss': 11.051488876342773, 'feature_loss': 0.28651630878448486, 'ce_loss': 7.803584098815918, 'cont_loss': 2.6647708415985107, 'teacher_loss': 8.091902732849121, 'total_loss': 7.865809917449951}\n"
     ]
    },
    {
     "name": "stderr",
     "output_type": "stream",
     "text": [
      "Validating:  54%|█████▎    | 126/235 [01:01<00:51,  2.10it/s, loss=7.9601, avg_loss=7.8120]"
     ]
    },
    {
     "name": "stdout",
     "output_type": "stream",
     "text": [
      "{'kd_loss': 11.192815780639648, 'feature_loss': 0.28200072050094604, 'ce_loss': 7.93054723739624, 'cont_loss': 2.543067455291748, 'teacher_loss': 8.075775146484375, 'total_loss': 7.960052490234375}\n"
     ]
    },
    {
     "name": "stderr",
     "output_type": "stream",
     "text": [
      "Validating:  54%|█████▍    | 127/235 [01:01<00:51,  2.10it/s, loss=8.1880, avg_loss=7.8150]"
     ]
    },
    {
     "name": "stdout",
     "output_type": "stream",
     "text": [
      "{'kd_loss': 11.470373153686523, 'feature_loss': 0.3339197039604187, 'ce_loss': 8.180574417114258, 'cont_loss': 2.6084940433502197, 'teacher_loss': 8.092146873474121, 'total_loss': 8.18801212310791}\n"
     ]
    },
    {
     "name": "stderr",
     "output_type": "stream",
     "text": [
      "Validating:  54%|█████▍    | 128/235 [01:02<00:50,  2.10it/s, loss=7.8968, avg_loss=7.8156]"
     ]
    },
    {
     "name": "stdout",
     "output_type": "stream",
     "text": [
      "{'kd_loss': 11.103277206420898, 'feature_loss': 0.2950027585029602, 'ce_loss': 7.849852085113525, 'cont_loss': 2.56510066986084, 'teacher_loss': 8.08154582977295, 'total_loss': 7.896762371063232}\n"
     ]
    },
    {
     "name": "stderr",
     "output_type": "stream",
     "text": [
      "Validating:  55%|█████▍    | 129/235 [01:02<00:50,  2.10it/s, loss=8.1912, avg_loss=7.8185]"
     ]
    },
    {
     "name": "stdout",
     "output_type": "stream",
     "text": [
      "{'kd_loss': 11.48939323425293, 'feature_loss': 0.27064424753189087, 'ce_loss': 8.197470664978027, 'cont_loss': 2.623258113861084, 'teacher_loss': 8.089503288269043, 'total_loss': 8.191200256347656}\n"
     ]
    },
    {
     "name": "stderr",
     "output_type": "stream",
     "text": [
      "Validating:  55%|█████▌    | 130/235 [01:03<00:49,  2.10it/s, loss=8.1545, avg_loss=7.8211]"
     ]
    },
    {
     "name": "stdout",
     "output_type": "stream",
     "text": [
      "{'kd_loss': 11.422679901123047, 'feature_loss': 0.26724815368652344, 'ce_loss': 8.13735580444336, 'cont_loss': 2.770573616027832, 'teacher_loss': 8.07843017578125, 'total_loss': 8.154521942138672}\n"
     ]
    },
    {
     "name": "stderr",
     "output_type": "stream",
     "text": [
      "Validating:  56%|█████▌    | 131/235 [01:03<00:49,  2.10it/s, loss=8.0962, avg_loss=7.8232]"
     ]
    },
    {
     "name": "stdout",
     "output_type": "stream",
     "text": [
      "{'kd_loss': 11.331178665161133, 'feature_loss': 0.30496740341186523, 'ce_loss': 8.05492877960205, 'cont_loss': 2.8081226348876953, 'teacher_loss': 8.080900192260742, 'total_loss': 8.096248626708984}\n"
     ]
    },
    {
     "name": "stderr",
     "output_type": "stream",
     "text": [
      "Validating:  56%|█████▌    | 132/235 [01:04<00:48,  2.10it/s, loss=8.0556, avg_loss=7.8250]"
     ]
    },
    {
     "name": "stdout",
     "output_type": "stream",
     "text": [
      "{'kd_loss': 11.308159828186035, 'feature_loss': 0.28503578901290894, 'ce_loss': 8.034567832946777, 'cont_loss': 2.615382671356201, 'teacher_loss': 8.090529441833496, 'total_loss': 8.055636405944824}\n"
     ]
    },
    {
     "name": "stderr",
     "output_type": "stream",
     "text": [
      "Validating:  57%|█████▋    | 133/235 [01:04<00:48,  2.10it/s, loss=7.9899, avg_loss=7.8262]"
     ]
    },
    {
     "name": "stdout",
     "output_type": "stream",
     "text": [
      "{'kd_loss': 11.216794967651367, 'feature_loss': 0.29988646507263184, 'ce_loss': 7.952165603637695, 'cont_loss': 2.623061180114746, 'teacher_loss': 8.078450202941895, 'total_loss': 7.9898681640625}\n"
     ]
    },
    {
     "name": "stderr",
     "output_type": "stream",
     "text": [
      "Validating:  57%|█████▋    | 134/235 [01:05<00:48,  2.10it/s, loss=8.1635, avg_loss=7.8287]"
     ]
    },
    {
     "name": "stdout",
     "output_type": "stream",
     "text": [
      "{'kd_loss': 11.423375129699707, 'feature_loss': 0.3007636070251465, 'ce_loss': 8.138824462890625, 'cont_loss': 2.7846267223358154, 'teacher_loss': 8.094399452209473, 'total_loss': 8.163495063781738}\n"
     ]
    },
    {
     "name": "stderr",
     "output_type": "stream",
     "text": [
      "Validating:  57%|█████▋    | 135/235 [01:05<00:47,  2.10it/s, loss=8.0383, avg_loss=7.8303]"
     ]
    },
    {
     "name": "stdout",
     "output_type": "stream",
     "text": [
      "{'kd_loss': 11.235053062438965, 'feature_loss': 0.32009899616241455, 'ce_loss': 7.968499183654785, 'cont_loss': 2.9285850524902344, 'teacher_loss': 8.082010269165039, 'total_loss': 8.038298606872559}\n"
     ]
    },
    {
     "name": "stderr",
     "output_type": "stream",
     "text": [
      "Validating:  58%|█████▊    | 136/235 [01:06<00:47,  2.10it/s, loss=8.1083, avg_loss=7.8323]"
     ]
    },
    {
     "name": "stdout",
     "output_type": "stream",
     "text": [
      "{'kd_loss': 11.378056526184082, 'feature_loss': 0.2696402072906494, 'ce_loss': 8.097347259521484, 'cont_loss': 2.641793727874756, 'teacher_loss': 8.086212158203125, 'total_loss': 8.108268737792969}\n"
     ]
    },
    {
     "name": "stderr",
     "output_type": "stream",
     "text": [
      "Validating:  58%|█████▊    | 137/235 [01:06<00:46,  2.10it/s, loss=8.0183, avg_loss=7.8337]"
     ]
    },
    {
     "name": "stdout",
     "output_type": "stream",
     "text": [
      "{'kd_loss': 11.241544723510742, 'feature_loss': 0.31645452976226807, 'ce_loss': 7.974350452423096, 'cont_loss': 2.686183452606201, 'teacher_loss': 8.092519760131836, 'total_loss': 8.018267631530762}\n"
     ]
    },
    {
     "name": "stderr",
     "output_type": "stream",
     "text": [
      "Validating:  59%|█████▊    | 138/235 [01:07<00:46,  2.10it/s, loss=8.0530, avg_loss=7.8353]"
     ]
    },
    {
     "name": "stdout",
     "output_type": "stream",
     "text": [
      "{'kd_loss': 11.291157722473145, 'feature_loss': 0.29056864976882935, 'ce_loss': 8.01916217803955, 'cont_loss': 2.7076005935668945, 'teacher_loss': 8.088468551635742, 'total_loss': 8.053001403808594}\n"
     ]
    },
    {
     "name": "stderr",
     "output_type": "stream",
     "text": [
      "Validating:  59%|█████▉    | 139/235 [01:07<00:45,  2.10it/s, loss=8.1656, avg_loss=7.8376]"
     ]
    },
    {
     "name": "stdout",
     "output_type": "stream",
     "text": [
      "{'kd_loss': 11.4114351272583, 'feature_loss': 0.32189106941223145, 'ce_loss': 8.127445220947266, 'cont_loss': 2.8570332527160645, 'teacher_loss': 8.090256690979004, 'total_loss': 8.165634155273438}\n"
     ]
    },
    {
     "name": "stderr",
     "output_type": "stream",
     "text": [
      "Validating:  60%|█████▉    | 140/235 [01:08<00:45,  2.10it/s, loss=8.0839, avg_loss=7.8394]"
     ]
    },
    {
     "name": "stdout",
     "output_type": "stream",
     "text": [
      "{'kd_loss': 11.33059024810791, 'feature_loss': 0.3096061944961548, 'ce_loss': 8.054189682006836, 'cont_loss': 2.6808667182922363, 'teacher_loss': 8.083296775817871, 'total_loss': 8.083919525146484}\n"
     ]
    },
    {
     "name": "stderr",
     "output_type": "stream",
     "text": [
      "Validating:  60%|██████    | 141/235 [01:08<00:44,  2.11it/s, loss=8.0690, avg_loss=7.8410]"
     ]
    },
    {
     "name": "stdout",
     "output_type": "stream",
     "text": [
      "{'kd_loss': 11.311962127685547, 'feature_loss': 0.3079308867454529, 'ce_loss': 8.037616729736328, 'cont_loss': 2.676231861114502, 'teacher_loss': 8.085323333740234, 'total_loss': 8.06904125213623}\n"
     ]
    },
    {
     "name": "stderr",
     "output_type": "stream",
     "text": [
      "Validating:  60%|██████    | 142/235 [01:09<00:44,  2.11it/s, loss=7.9527, avg_loss=7.8418]"
     ]
    },
    {
     "name": "stdout",
     "output_type": "stream",
     "text": [
      "{'kd_loss': 11.129378318786621, 'feature_loss': 0.3115053176879883, 'ce_loss': 7.873821258544922, 'cont_loss': 2.891172409057617, 'teacher_loss': 8.08578109741211, 'total_loss': 7.952698230743408}\n"
     ]
    },
    {
     "name": "stderr",
     "output_type": "stream",
     "text": [
      "Validating:  61%|██████    | 143/235 [01:09<00:43,  2.11it/s, loss=8.1315, avg_loss=7.8438]"
     ]
    },
    {
     "name": "stdout",
     "output_type": "stream",
     "text": [
      "{'kd_loss': 11.380964279174805, 'feature_loss': 0.3263700604438782, 'ce_loss': 8.099588394165039, 'cont_loss': 2.7395591735839844, 'teacher_loss': 8.08807373046875, 'total_loss': 8.131451606750488}\n"
     ]
    },
    {
     "name": "stderr",
     "output_type": "stream",
     "text": [
      "Validating:  61%|██████▏   | 144/235 [01:10<00:43,  2.10it/s, loss=8.0964, avg_loss=7.8456]"
     ]
    },
    {
     "name": "stdout",
     "output_type": "stream",
     "text": [
      "{'kd_loss': 11.338842391967773, 'feature_loss': 0.3009248971939087, 'ce_loss': 8.062067031860352, 'cont_loss': 2.758911371231079, 'teacher_loss': 8.087793350219727, 'total_loss': 8.096440315246582}\n"
     ]
    },
    {
     "name": "stderr",
     "output_type": "stream",
     "text": [
      "Validating:  62%|██████▏   | 145/235 [01:10<00:42,  2.11it/s, loss=8.0954, avg_loss=7.8473]"
     ]
    },
    {
     "name": "stdout",
     "output_type": "stream",
     "text": [
      "{'kd_loss': 11.314698219299316, 'feature_loss': 0.31196510791778564, 'ce_loss': 8.040109634399414, 'cont_loss': 2.910830020904541, 'teacher_loss': 8.078862190246582, 'total_loss': 8.095399856567383}\n"
     ]
    },
    {
     "name": "stderr",
     "output_type": "stream",
     "text": [
      "Validating:  62%|██████▏   | 146/235 [01:10<00:42,  2.11it/s, loss=8.2031, avg_loss=7.8498]"
     ]
    },
    {
     "name": "stdout",
     "output_type": "stream",
     "text": [
      "{'kd_loss': 11.45824909210205, 'feature_loss': 0.3015621304512024, 'ce_loss': 8.169685363769531, 'cont_loss': 2.9164950847625732, 'teacher_loss': 8.078882217407227, 'total_loss': 8.20313549041748}\n"
     ]
    },
    {
     "name": "stderr",
     "output_type": "stream",
     "text": [
      "Validating:  63%|██████▎   | 147/235 [01:11<00:41,  2.11it/s, loss=8.0987, avg_loss=7.8515]"
     ]
    },
    {
     "name": "stdout",
     "output_type": "stream",
     "text": [
      "{'kd_loss': 11.322998046875, 'feature_loss': 0.2967379689216614, 'ce_loss': 8.047552108764648, 'cont_loss': 2.9115257263183594, 'teacher_loss': 8.07992935180664, 'total_loss': 8.09872055053711}\n"
     ]
    },
    {
     "name": "stderr",
     "output_type": "stream",
     "text": [
      "Validating:  63%|██████▎   | 148/235 [01:11<00:41,  2.11it/s, loss=8.1164, avg_loss=7.8532]"
     ]
    },
    {
     "name": "stdout",
     "output_type": "stream",
     "text": [
      "{'kd_loss': 11.341636657714844, 'feature_loss': 0.315288782119751, 'ce_loss': 8.065023422241211, 'cont_loss': 2.906862258911133, 'teacher_loss': 8.09526252746582, 'total_loss': 8.116408348083496}\n"
     ]
    },
    {
     "name": "stderr",
     "output_type": "stream",
     "text": [
      "Validating:  63%|██████▎   | 149/235 [01:12<00:40,  2.11it/s, loss=8.0652, avg_loss=7.8547]"
     ]
    },
    {
     "name": "stdout",
     "output_type": "stream",
     "text": [
      "{'kd_loss': 11.292387008666992, 'feature_loss': 0.2882307767868042, 'ce_loss': 8.020182609558105, 'cont_loss': 2.825551986694336, 'teacher_loss': 8.08876895904541, 'total_loss': 8.065229415893555}\n"
     ]
    },
    {
     "name": "stderr",
     "output_type": "stream",
     "text": [
      "Validating:  64%|██████▍   | 150/235 [01:12<00:40,  2.11it/s, loss=8.0951, avg_loss=7.8563]"
     ]
    },
    {
     "name": "stdout",
     "output_type": "stream",
     "text": [
      "{'kd_loss': 11.334053039550781, 'feature_loss': 0.29248547554016113, 'ce_loss': 8.057718276977539, 'cont_loss': 2.7993478775024414, 'teacher_loss': 8.089985847473145, 'total_loss': 8.09514045715332}\n"
     ]
    },
    {
     "name": "stderr",
     "output_type": "stream",
     "text": [
      "Validating:  64%|██████▍   | 151/235 [01:13<00:39,  2.11it/s, loss=8.1133, avg_loss=7.8580]"
     ]
    },
    {
     "name": "stdout",
     "output_type": "stream",
     "text": [
      "{'kd_loss': 11.319787979125977, 'feature_loss': 0.3295704126358032, 'ce_loss': 8.04477310180664, 'cont_loss': 3.0153870582580566, 'teacher_loss': 8.07980728149414, 'total_loss': 8.113277435302734}\n"
     ]
    },
    {
     "name": "stderr",
     "output_type": "stream",
     "text": [
      "Validating:  65%|██████▍   | 152/235 [01:13<00:39,  2.11it/s, loss=8.0835, avg_loss=7.8595]"
     ]
    },
    {
     "name": "stdout",
     "output_type": "stream",
     "text": [
      "{'kd_loss': 11.304587364196777, 'feature_loss': 0.31695640087127686, 'ce_loss': 8.031033515930176, 'cont_loss': 2.8590939044952393, 'teacher_loss': 8.081565856933594, 'total_loss': 8.083549499511719}\n"
     ]
    },
    {
     "name": "stderr",
     "output_type": "stream",
     "text": [
      "Validating:  65%|██████▌   | 153/235 [01:14<00:38,  2.10it/s, loss=8.2374, avg_loss=7.8619]"
     ]
    },
    {
     "name": "stdout",
     "output_type": "stream",
     "text": [
      "{'kd_loss': 11.489751815795898, 'feature_loss': 0.31896865367889404, 'ce_loss': 8.197936058044434, 'cont_loss': 2.984968662261963, 'teacher_loss': 8.086523056030273, 'total_loss': 8.237366676330566}\n"
     ]
    },
    {
     "name": "stderr",
     "output_type": "stream",
     "text": [
      "Validating:  66%|██████▌   | 154/235 [01:14<00:38,  2.11it/s, loss=8.2023, avg_loss=7.8641]"
     ]
    },
    {
     "name": "stdout",
     "output_type": "stream",
     "text": [
      "{'kd_loss': 11.436701774597168, 'feature_loss': 0.32457393407821655, 'ce_loss': 8.150186538696289, 'cont_loss': 3.0259556770324707, 'teacher_loss': 8.096306800842285, 'total_loss': 8.202265739440918}\n"
     ]
    },
    {
     "name": "stderr",
     "output_type": "stream",
     "text": [
      "Validating:  66%|██████▌   | 155/235 [01:15<00:37,  2.11it/s, loss=7.9606, avg_loss=7.8648]"
     ]
    },
    {
     "name": "stdout",
     "output_type": "stream",
     "text": [
      "{'kd_loss': 11.13010311126709, 'feature_loss': 0.3447912931442261, 'ce_loss': 7.874464988708496, 'cont_loss': 2.8978095054626465, 'teacher_loss': 8.082680702209473, 'total_loss': 7.960566520690918}\n"
     ]
    },
    {
     "name": "stderr",
     "output_type": "stream",
     "text": [
      "Validating:  66%|██████▋   | 156/235 [01:15<00:37,  2.11it/s, loss=8.1660, avg_loss=7.8667]"
     ]
    },
    {
     "name": "stdout",
     "output_type": "stream",
     "text": [
      "{'kd_loss': 11.405986785888672, 'feature_loss': 0.32066869735717773, 'ce_loss': 8.122591018676758, 'cont_loss': 2.904329776763916, 'teacher_loss': 8.079487800598145, 'total_loss': 8.165997505187988}\n"
     ]
    },
    {
     "name": "stderr",
     "output_type": "stream",
     "text": [
      "Validating:  67%|██████▋   | 157/235 [01:16<00:36,  2.12it/s, loss=8.0982, avg_loss=7.8682]"
     ]
    },
    {
     "name": "stdout",
     "output_type": "stream",
     "text": [
      "{'kd_loss': 11.291093826293945, 'feature_loss': 0.32408541440963745, 'ce_loss': 8.019464492797852, 'cont_loss': 3.0918750762939453, 'teacher_loss': 8.094935417175293, 'total_loss': 8.098228454589844}\n"
     ]
    },
    {
     "name": "stderr",
     "output_type": "stream",
     "text": [
      "Validating:  67%|██████▋   | 158/235 [01:16<00:36,  2.11it/s, loss=8.1132, avg_loss=7.8697]"
     ]
    },
    {
     "name": "stdout",
     "output_type": "stream",
     "text": [
      "{'kd_loss': 11.332725524902344, 'feature_loss': 0.3268446922302246, 'ce_loss': 8.0565185546875, 'cont_loss': 2.921536922454834, 'teacher_loss': 8.08102035522461, 'total_loss': 8.11322021484375}\n"
     ]
    },
    {
     "name": "stderr",
     "output_type": "stream",
     "text": [
      "Validating:  68%|██████▊   | 159/235 [01:17<00:35,  2.11it/s, loss=7.9982, avg_loss=7.8705]"
     ]
    },
    {
     "name": "stdout",
     "output_type": "stream",
     "text": [
      "{'kd_loss': 11.169652938842773, 'feature_loss': 0.3138778805732727, 'ce_loss': 7.909899711608887, 'cont_loss': 3.0360915660858154, 'teacher_loss': 8.084574699401855, 'total_loss': 7.99820613861084}\n"
     ]
    },
    {
     "name": "stderr",
     "output_type": "stream",
     "text": [
      "Validating:  68%|██████▊   | 160/235 [01:17<00:35,  2.11it/s, loss=8.1461, avg_loss=7.8722]"
     ]
    },
    {
     "name": "stdout",
     "output_type": "stream",
     "text": [
      "{'kd_loss': 11.378530502319336, 'feature_loss': 0.3189016580581665, 'ce_loss': 8.097799301147461, 'cont_loss': 2.9179697036743164, 'teacher_loss': 8.08975601196289, 'total_loss': 8.146108627319336}\n"
     ]
    },
    {
     "name": "stderr",
     "output_type": "stream",
     "text": [
      "Validating:  69%|██████▊   | 161/235 [01:18<00:35,  2.11it/s, loss=8.1614, avg_loss=7.8740]"
     ]
    },
    {
     "name": "stdout",
     "output_type": "stream",
     "text": [
      "{'kd_loss': 11.402071952819824, 'feature_loss': 0.2965378761291504, 'ce_loss': 8.11904525756836, 'cont_loss': 2.9368700981140137, 'teacher_loss': 8.0772066116333, 'total_loss': 8.161441802978516}\n"
     ]
    },
    {
     "name": "stderr",
     "output_type": "stream",
     "text": [
      "Validating:  69%|██████▉   | 162/235 [01:18<00:34,  2.11it/s, loss=8.1051, avg_loss=7.8755]"
     ]
    },
    {
     "name": "stdout",
     "output_type": "stream",
     "text": [
      "{'kd_loss': 11.319191932678223, 'feature_loss': 0.3173922300338745, 'ce_loss': 8.04446792602539, 'cont_loss': 2.96115779876709, 'teacher_loss': 8.086348533630371, 'total_loss': 8.105058670043945}\n"
     ]
    },
    {
     "name": "stderr",
     "output_type": "stream",
     "text": [
      "Validating:  69%|██████▉   | 163/235 [01:19<00:34,  2.11it/s, loss=8.0651, avg_loss=7.8766]"
     ]
    },
    {
     "name": "stdout",
     "output_type": "stream",
     "text": [
      "{'kd_loss': 11.267552375793457, 'feature_loss': 0.31792759895324707, 'ce_loss': 7.997450351715088, 'cont_loss': 2.9547994136810303, 'teacher_loss': 8.088050842285156, 'total_loss': 8.06506633758545}\n"
     ]
    },
    {
     "name": "stderr",
     "output_type": "stream",
     "text": [
      "Validating:  70%|██████▉   | 164/235 [01:19<00:33,  2.11it/s, loss=8.0876, avg_loss=7.8779]"
     ]
    },
    {
     "name": "stdout",
     "output_type": "stream",
     "text": [
      "{'kd_loss': 11.272120475769043, 'feature_loss': 0.31537890434265137, 'ce_loss': 8.001983642578125, 'cont_loss': 3.149076461791992, 'teacher_loss': 8.08080768585205, 'total_loss': 8.087625503540039}\n"
     ]
    },
    {
     "name": "stderr",
     "output_type": "stream",
     "text": [
      "Validating:  70%|███████   | 165/235 [01:19<00:33,  2.11it/s, loss=8.0054, avg_loss=7.8787]"
     ]
    },
    {
     "name": "stdout",
     "output_type": "stream",
     "text": [
      "{'kd_loss': 11.185230255126953, 'feature_loss': 0.316272497177124, 'ce_loss': 7.92399263381958, 'cont_loss': 2.9849586486816406, 'teacher_loss': 8.090657234191895, 'total_loss': 8.005439758300781}\n"
     ]
    },
    {
     "name": "stderr",
     "output_type": "stream",
     "text": [
      "Validating:  71%|███████   | 166/235 [01:20<00:32,  2.11it/s, loss=8.0971, avg_loss=7.8800]"
     ]
    },
    {
     "name": "stdout",
     "output_type": "stream",
     "text": [
      "{'kd_loss': 11.306806564331055, 'feature_loss': 0.30712461471557617, 'ce_loss': 8.03300666809082, 'cont_loss': 2.997035503387451, 'teacher_loss': 8.085348129272461, 'total_loss': 8.097053527832031}\n"
     ]
    },
    {
     "name": "stderr",
     "output_type": "stream",
     "text": [
      "Validating:  71%|███████   | 167/235 [01:20<00:32,  2.11it/s, loss=8.0786, avg_loss=7.8812]"
     ]
    },
    {
     "name": "stdout",
     "output_type": "stream",
     "text": [
      "{'kd_loss': 11.280680656433105, 'feature_loss': 0.319801390171051, 'ce_loss': 8.009393692016602, 'cont_loss': 2.985642433166504, 'teacher_loss': 8.08241081237793, 'total_loss': 8.078554153442383}\n"
     ]
    },
    {
     "name": "stderr",
     "output_type": "stream",
     "text": [
      "Validating:  71%|███████▏  | 168/235 [01:21<00:31,  2.11it/s, loss=8.1056, avg_loss=7.8825]"
     ]
    },
    {
     "name": "stdout",
     "output_type": "stream",
     "text": [
      "{'kd_loss': 11.323105812072754, 'feature_loss': 0.2928978204727173, 'ce_loss': 8.04790210723877, 'cont_loss': 2.9864158630371094, 'teacher_loss': 8.085838317871094, 'total_loss': 8.105624198913574}\n"
     ]
    },
    {
     "name": "stderr",
     "output_type": "stream",
     "text": [
      "Validating:  72%|███████▏  | 169/235 [01:21<00:31,  2.11it/s, loss=8.0741, avg_loss=7.8837]"
     ]
    },
    {
     "name": "stdout",
     "output_type": "stream",
     "text": [
      "{'kd_loss': 11.255731582641602, 'feature_loss': 0.3017857074737549, 'ce_loss': 7.9872236251831055, 'cont_loss': 3.165912628173828, 'teacher_loss': 8.086614608764648, 'total_loss': 8.07413101196289}\n"
     ]
    },
    {
     "name": "stderr",
     "output_type": "stream",
     "text": [
      "Validating:  72%|███████▏  | 170/235 [01:22<00:30,  2.11it/s, loss=8.1186, avg_loss=7.8850]"
     ]
    },
    {
     "name": "stdout",
     "output_type": "stream",
     "text": [
      "{'kd_loss': 11.328055381774902, 'feature_loss': 0.3152049779891968, 'ce_loss': 8.05306339263916, 'cont_loss': 3.030653953552246, 'teacher_loss': 8.077775955200195, 'total_loss': 8.11855411529541}\n"
     ]
    },
    {
     "name": "stderr",
     "output_type": "stream",
     "text": [
      "Validating:  73%|███████▎  | 171/235 [01:22<00:30,  2.11it/s, loss=8.1625, avg_loss=7.8867]"
     ]
    },
    {
     "name": "stdout",
     "output_type": "stream",
     "text": [
      "{'kd_loss': 11.391773223876953, 'feature_loss': 0.3011360168457031, 'ce_loss': 8.109259605407715, 'cont_loss': 3.018186092376709, 'teacher_loss': 8.102774620056152, 'total_loss': 8.162459373474121}\n"
     ]
    },
    {
     "name": "stderr",
     "output_type": "stream",
     "text": [
      "Validating:  73%|███████▎  | 172/235 [01:23<00:29,  2.11it/s, loss=8.2677, avg_loss=7.8889]"
     ]
    },
    {
     "name": "stdout",
     "output_type": "stream",
     "text": [
      "{'kd_loss': 11.51969051361084, 'feature_loss': 0.30208975076675415, 'ce_loss': 8.225129127502441, 'cont_loss': 3.093871593475342, 'teacher_loss': 8.0888090133667, 'total_loss': 8.267733573913574}\n"
     ]
    },
    {
     "name": "stderr",
     "output_type": "stream",
     "text": [
      "Validating:  74%|███████▎  | 173/235 [01:23<00:29,  2.11it/s, loss=7.9915, avg_loss=7.8895]"
     ]
    },
    {
     "name": "stdout",
     "output_type": "stream",
     "text": [
      "{'kd_loss': 11.159080505371094, 'feature_loss': 0.312552809715271, 'ce_loss': 7.900084972381592, 'cont_loss': 3.052769660949707, 'teacher_loss': 8.085156440734863, 'total_loss': 7.991453170776367}\n"
     ]
    },
    {
     "name": "stderr",
     "output_type": "stream",
     "text": [
      "Validating:  74%|███████▍  | 174/235 [01:24<00:28,  2.11it/s, loss=8.1427, avg_loss=7.8909]"
     ]
    },
    {
     "name": "stdout",
     "output_type": "stream",
     "text": [
      "{'kd_loss': 11.365789413452148, 'feature_loss': 0.2961186170578003, 'ce_loss': 8.086663246154785, 'cont_loss': 3.024893283843994, 'teacher_loss': 8.08875846862793, 'total_loss': 8.142694473266602}\n"
     ]
    },
    {
     "name": "stderr",
     "output_type": "stream",
     "text": [
      "Validating:  74%|███████▍  | 175/235 [01:24<00:28,  2.12it/s, loss=8.1286, avg_loss=7.8923]"
     ]
    },
    {
     "name": "stdout",
     "output_type": "stream",
     "text": [
      "{'kd_loss': 11.340322494506836, 'feature_loss': 0.30397510528564453, 'ce_loss': 8.063376426696777, 'cont_loss': 3.0633530616760254, 'teacher_loss': 8.081527709960938, 'total_loss': 8.128609657287598}\n"
     ]
    },
    {
     "name": "stderr",
     "output_type": "stream",
     "text": [
      "Validating:  75%|███████▍  | 176/235 [01:25<00:27,  2.11it/s, loss=8.1848, avg_loss=7.8940]"
     ]
    },
    {
     "name": "stdout",
     "output_type": "stream",
     "text": [
      "{'kd_loss': 11.386178016662598, 'feature_loss': 0.31157493591308594, 'ce_loss': 8.10468864440918, 'cont_loss': 3.261866569519043, 'teacher_loss': 8.085128784179688, 'total_loss': 8.18484878540039}\n"
     ]
    },
    {
     "name": "stderr",
     "output_type": "stream",
     "text": [
      "Validating:  75%|███████▌  | 177/235 [01:25<00:27,  2.11it/s, loss=8.1393, avg_loss=7.8953]"
     ]
    },
    {
     "name": "stdout",
     "output_type": "stream",
     "text": [
      "{'kd_loss': 11.343759536743164, 'feature_loss': 0.3242347240447998, 'ce_loss': 8.066189765930176, 'cont_loss': 3.1049747467041016, 'teacher_loss': 8.081258773803711, 'total_loss': 8.139324188232422}\n"
     ]
    },
    {
     "name": "stderr",
     "output_type": "stream",
     "text": [
      "Validating:  76%|███████▌  | 178/235 [01:26<00:27,  2.11it/s, loss=8.1340, avg_loss=7.8967]"
     ]
    },
    {
     "name": "stdout",
     "output_type": "stream",
     "text": [
      "{'kd_loss': 11.338151931762695, 'feature_loss': 0.33490967750549316, 'ce_loss': 8.061294555664062, 'cont_loss': 3.072685718536377, 'teacher_loss': 8.077491760253906, 'total_loss': 8.134028434753418}\n"
     ]
    },
    {
     "name": "stderr",
     "output_type": "stream",
     "text": [
      "Validating:  76%|███████▌  | 179/235 [01:26<00:26,  2.11it/s, loss=8.1984, avg_loss=7.8984]"
     ]
    },
    {
     "name": "stdout",
     "output_type": "stream",
     "text": [
      "{'kd_loss': 11.426142692565918, 'feature_loss': 0.3121514320373535, 'ce_loss': 8.140625953674316, 'cont_loss': 3.092841625213623, 'teacher_loss': 8.09187126159668, 'total_loss': 8.198421478271484}\n"
     ]
    },
    {
     "name": "stderr",
     "output_type": "stream",
     "text": [
      "Validating:  77%|███████▋  | 180/235 [01:27<00:26,  2.11it/s, loss=8.0167, avg_loss=7.8990]"
     ]
    },
    {
     "name": "stdout",
     "output_type": "stream",
     "text": [
      "{'kd_loss': 11.14561653137207, 'feature_loss': 0.31130868196487427, 'ce_loss': 7.888062953948975, 'cont_loss': 3.4100589752197266, 'teacher_loss': 8.084007263183594, 'total_loss': 8.016739845275879}\n"
     ]
    },
    {
     "name": "stderr",
     "output_type": "stream",
     "text": [
      "Validating:  77%|███████▋  | 181/235 [01:27<00:25,  2.11it/s, loss=7.9512, avg_loss=7.8993]"
     ]
    },
    {
     "name": "stdout",
     "output_type": "stream",
     "text": [
      "{'kd_loss': 11.106258392333984, 'feature_loss': 0.2900540232658386, 'ce_loss': 7.852867603302002, 'cont_loss': 3.0949811935424805, 'teacher_loss': 8.085443496704102, 'total_loss': 7.951159477233887}\n"
     ]
    },
    {
     "name": "stderr",
     "output_type": "stream",
     "text": [
      "Validating:  77%|███████▋  | 182/235 [01:28<00:25,  2.11it/s, loss=8.2155, avg_loss=7.9010]"
     ]
    },
    {
     "name": "stdout",
     "output_type": "stream",
     "text": [
      "{'kd_loss': 11.445297241210938, 'feature_loss': 0.30495506525039673, 'ce_loss': 8.157816886901855, 'cont_loss': 3.132355213165283, 'teacher_loss': 8.088529586791992, 'total_loss': 8.215472221374512}\n"
     ]
    },
    {
     "name": "stderr",
     "output_type": "stream",
     "text": [
      "Validating:  78%|███████▊  | 183/235 [01:28<00:24,  2.11it/s, loss=8.0830, avg_loss=7.9020]"
     ]
    },
    {
     "name": "stdout",
     "output_type": "stream",
     "text": [
      "{'kd_loss': 11.21972370147705, 'feature_loss': 0.34701430797576904, 'ce_loss': 7.954869270324707, 'cont_loss': 3.437927007675171, 'teacher_loss': 8.081522941589355, 'total_loss': 8.083032608032227}\n"
     ]
    },
    {
     "name": "stderr",
     "output_type": "stream",
     "text": [
      "Validating:  78%|███████▊  | 184/235 [01:28<00:24,  2.11it/s, loss=8.2893, avg_loss=7.9041]"
     ]
    },
    {
     "name": "stdout",
     "output_type": "stream",
     "text": [
      "{'kd_loss': 11.543130874633789, 'feature_loss': 0.2982689142227173, 'ce_loss': 8.245841979980469, 'cont_loss': 3.1401119232177734, 'teacher_loss': 8.082646369934082, 'total_loss': 8.289254188537598}\n"
     ]
    },
    {
     "name": "stderr",
     "output_type": "stream",
     "text": [
      "Validating:  79%|███████▊  | 185/235 [01:29<00:23,  2.11it/s, loss=8.2369, avg_loss=7.9059]"
     ]
    },
    {
     "name": "stdout",
     "output_type": "stream",
     "text": [
      "{'kd_loss': 11.452587127685547, 'feature_loss': 0.34330224990844727, 'ce_loss': 8.164458274841309, 'cont_loss': 3.214364528656006, 'teacher_loss': 8.09235954284668, 'total_loss': 8.236915588378906}\n"
     ]
    },
    {
     "name": "stderr",
     "output_type": "stream",
     "text": [
      "Validating:  79%|███████▉  | 186/235 [01:29<00:23,  2.11it/s, loss=8.2155, avg_loss=7.9076]"
     ]
    },
    {
     "name": "stdout",
     "output_type": "stream",
     "text": [
      "{'kd_loss': 11.434955596923828, 'feature_loss': 0.32047754526138306, 'ce_loss': 8.148702621459961, 'cont_loss': 3.179631233215332, 'teacher_loss': 8.074515342712402, 'total_loss': 8.215522766113281}\n"
     ]
    },
    {
     "name": "stderr",
     "output_type": "stream",
     "text": [
      "Validating:  80%|███████▉  | 187/235 [01:30<00:22,  2.12it/s, loss=8.1305, avg_loss=7.9088]"
     ]
    },
    {
     "name": "stdout",
     "output_type": "stream",
     "text": [
      "{'kd_loss': 11.32533073425293, 'feature_loss': 0.3111532926559448, 'ce_loss': 8.049751281738281, 'cont_loss': 3.182551145553589, 'teacher_loss': 8.080243110656738, 'total_loss': 8.130518913269043}\n"
     ]
    },
    {
     "name": "stderr",
     "output_type": "stream",
     "text": [
      "Validating:  80%|████████  | 188/235 [01:30<00:22,  2.12it/s, loss=8.1543, avg_loss=7.9101]"
     ]
    },
    {
     "name": "stdout",
     "output_type": "stream",
     "text": [
      "{'kd_loss': 11.353233337402344, 'feature_loss': 0.310807466506958, 'ce_loss': 8.075103759765625, 'cont_loss': 3.2081828117370605, 'teacher_loss': 8.08712387084961, 'total_loss': 8.154314994812012}\n"
     ]
    },
    {
     "name": "stderr",
     "output_type": "stream",
     "text": [
      "Validating:  80%|████████  | 189/235 [01:31<00:21,  2.12it/s, loss=8.2181, avg_loss=7.9117]"
     ]
    },
    {
     "name": "stdout",
     "output_type": "stream",
     "text": [
      "{'kd_loss': 11.424964904785156, 'feature_loss': 0.2830291986465454, 'ce_loss': 8.139487266540527, 'cont_loss': 3.356905221939087, 'teacher_loss': 8.08800983428955, 'total_loss': 8.218077659606934}\n"
     ]
    },
    {
     "name": "stderr",
     "output_type": "stream",
     "text": [
      "Validating:  81%|████████  | 190/235 [01:31<00:21,  2.11it/s, loss=8.0499, avg_loss=7.9125]"
     ]
    },
    {
     "name": "stdout",
     "output_type": "stream",
     "text": [
      "{'kd_loss': 11.231348037719727, 'feature_loss': 0.2893890142440796, 'ce_loss': 7.964986324310303, 'cont_loss': 3.134486675262451, 'teacher_loss': 8.078485488891602, 'total_loss': 8.049860954284668}\n"
     ]
    },
    {
     "name": "stderr",
     "output_type": "stream",
     "text": [
      "Validating:  81%|████████▏ | 191/235 [01:32<00:20,  2.12it/s, loss=8.3158, avg_loss=7.9146]"
     ]
    },
    {
     "name": "stdout",
     "output_type": "stream",
     "text": [
      "{'kd_loss': 11.568889617919922, 'feature_loss': 0.3082777261734009, 'ce_loss': 8.269030570983887, 'cont_loss': 3.189819097518921, 'teacher_loss': 8.088358879089355, 'total_loss': 8.315805435180664}\n"
     ]
    },
    {
     "name": "stderr",
     "output_type": "stream",
     "text": [
      "Validating:  82%|████████▏ | 192/235 [01:32<00:20,  2.11it/s, loss=8.2757, avg_loss=7.9165]"
     ]
    },
    {
     "name": "stdout",
     "output_type": "stream",
     "text": [
      "{'kd_loss': 11.51269245147705, 'feature_loss': 0.3037639856338501, 'ce_loss': 8.2186918258667, 'cont_loss': 3.2235517501831055, 'teacher_loss': 8.09162712097168, 'total_loss': 8.275662422180176}\n"
     ]
    },
    {
     "name": "stderr",
     "output_type": "stream",
     "text": [
      "Validating:  82%|████████▏ | 193/235 [01:33<00:19,  2.12it/s, loss=8.3320, avg_loss=7.9186]"
     ]
    },
    {
     "name": "stdout",
     "output_type": "stream",
     "text": [
      "{'kd_loss': 11.567217826843262, 'feature_loss': 0.3121962547302246, 'ce_loss': 8.267616271972656, 'cont_loss': 3.3557815551757812, 'teacher_loss': 8.084259033203125, 'total_loss': 8.331951141357422}\n"
     ]
    },
    {
     "name": "stderr",
     "output_type": "stream",
     "text": [
      "Validating:  83%|████████▎ | 194/235 [01:33<00:19,  2.11it/s, loss=8.1909, avg_loss=7.9200]"
     ]
    },
    {
     "name": "stdout",
     "output_type": "stream",
     "text": [
      "{'kd_loss': 11.388919830322266, 'feature_loss': 0.3449282646179199, 'ce_loss': 8.107025146484375, 'cont_loss': 3.235264301300049, 'teacher_loss': 8.082737922668457, 'total_loss': 8.190890312194824}\n"
     ]
    },
    {
     "name": "stderr",
     "output_type": "stream",
     "text": [
      "Validating:  83%|████████▎ | 195/235 [01:34<00:18,  2.12it/s, loss=8.1729, avg_loss=7.9213]"
     ]
    },
    {
     "name": "stdout",
     "output_type": "stream",
     "text": [
      "{'kd_loss': 11.37846851348877, 'feature_loss': 0.2942478060722351, 'ce_loss': 8.097770690917969, 'cont_loss': 3.2357778549194336, 'teacher_loss': 8.085297584533691, 'total_loss': 8.17292308807373}\n"
     ]
    },
    {
     "name": "stderr",
     "output_type": "stream",
     "text": [
      "Validating:  83%|████████▎ | 196/235 [01:34<00:18,  2.12it/s, loss=8.1352, avg_loss=7.9224]"
     ]
    },
    {
     "name": "stdout",
     "output_type": "stream",
     "text": [
      "{'kd_loss': 11.318188667297363, 'feature_loss': 0.31216585636138916, 'ce_loss': 8.043614387512207, 'cont_loss': 3.280477523803711, 'teacher_loss': 8.092867851257324, 'total_loss': 8.135202407836914}\n"
     ]
    },
    {
     "name": "stderr",
     "output_type": "stream",
     "text": [
      "Validating:  84%|████████▍ | 197/235 [01:35<00:17,  2.12it/s, loss=8.0214, avg_loss=7.9229]"
     ]
    },
    {
     "name": "stdout",
     "output_type": "stream",
     "text": [
      "{'kd_loss': 11.172971725463867, 'feature_loss': 0.3198673725128174, 'ce_loss': 7.912995338439941, 'cont_loss': 3.230553150177002, 'teacher_loss': 8.093602180480957, 'total_loss': 8.021415710449219}\n"
     ]
    },
    {
     "name": "stderr",
     "output_type": "stream",
     "text": [
      "Validating:  84%|████████▍ | 198/235 [01:35<00:17,  2.12it/s, loss=8.1297, avg_loss=7.9239]"
     ]
    },
    {
     "name": "stdout",
     "output_type": "stream",
     "text": [
      "{'kd_loss': 11.316852569580078, 'feature_loss': 0.3072358965873718, 'ce_loss': 8.042231559753418, 'cont_loss': 3.246321201324463, 'teacher_loss': 8.078606605529785, 'total_loss': 8.12971305847168}\n"
     ]
    },
    {
     "name": "stderr",
     "output_type": "stream",
     "text": [
      "Validating:  85%|████████▍ | 199/235 [01:36<00:17,  2.12it/s, loss=8.1605, avg_loss=7.9251]"
     ]
    },
    {
     "name": "stdout",
     "output_type": "stream",
     "text": [
      "{'kd_loss': 11.347663879394531, 'feature_loss': 0.3139287233352661, 'ce_loss': 8.070061683654785, 'cont_loss': 3.3061585426330566, 'teacher_loss': 8.089726448059082, 'total_loss': 8.160491943359375}\n"
     ]
    },
    {
     "name": "stderr",
     "output_type": "stream",
     "text": [
      "Validating:  85%|████████▌ | 200/235 [01:36<00:16,  2.11it/s, loss=8.2322, avg_loss=7.9267]"
     ]
    },
    {
     "name": "stdout",
     "output_type": "stream",
     "text": [
      "{'kd_loss': 11.439163208007812, 'feature_loss': 0.3164466619491577, 'ce_loss': 8.15241813659668, 'cont_loss': 3.323164939880371, 'teacher_loss': 8.083414077758789, 'total_loss': 8.23223876953125}\n"
     ]
    },
    {
     "name": "stderr",
     "output_type": "stream",
     "text": [
      "Validating:  86%|████████▌ | 201/235 [01:36<00:16,  2.11it/s, loss=8.2947, avg_loss=7.9285]"
     ]
    },
    {
     "name": "stdout",
     "output_type": "stream",
     "text": [
      "{'kd_loss': 11.523134231567383, 'feature_loss': 0.32243770360946655, 'ce_loss': 8.227848052978516, 'cont_loss': 3.298222303390503, 'teacher_loss': 8.085129737854004, 'total_loss': 8.294703483581543}\n"
     ]
    },
    {
     "name": "stderr",
     "output_type": "stream",
     "text": [
      "Validating:  86%|████████▌ | 202/235 [01:37<00:15,  2.12it/s, loss=8.2378, avg_loss=7.9300]"
     ]
    },
    {
     "name": "stdout",
     "output_type": "stream",
     "text": [
      "{'kd_loss': 11.451045989990234, 'feature_loss': 0.3183845281600952, 'ce_loss': 8.163116455078125, 'cont_loss': 3.2845935821533203, 'teacher_loss': 8.083236694335938, 'total_loss': 8.237801551818848}\n"
     ]
    },
    {
     "name": "stderr",
     "output_type": "stream",
     "text": [
      "Validating:  86%|████████▋ | 203/235 [01:37<00:15,  2.12it/s, loss=8.3534, avg_loss=7.9321]"
     ]
    },
    {
     "name": "stdout",
     "output_type": "stream",
     "text": [
      "{'kd_loss': 11.560791015625, 'feature_loss': 0.3088396191596985, 'ce_loss': 8.261940956115723, 'cont_loss': 3.6255733966827393, 'teacher_loss': 8.085517883300781, 'total_loss': 8.353418350219727}\n"
     ]
    },
    {
     "name": "stderr",
     "output_type": "stream",
     "text": [
      "Validating:  87%|████████▋ | 204/235 [01:38<00:14,  2.12it/s, loss=8.2681, avg_loss=7.9338]"
     ]
    },
    {
     "name": "stdout",
     "output_type": "stream",
     "text": [
      "{'kd_loss': 11.48047924041748, 'feature_loss': 0.3283243179321289, 'ce_loss': 8.18941879272461, 'cont_loss': 3.344982385635376, 'teacher_loss': 8.09145450592041, 'total_loss': 8.268122673034668}\n"
     ]
    },
    {
     "name": "stderr",
     "output_type": "stream",
     "text": [
      "Validating:  87%|████████▋ | 205/235 [01:38<00:14,  2.12it/s, loss=8.2295, avg_loss=7.9352]"
     ]
    },
    {
     "name": "stdout",
     "output_type": "stream",
     "text": [
      "{'kd_loss': 11.414295196533203, 'feature_loss': 0.3200284242630005, 'ce_loss': 8.130261421203613, 'cont_loss': 3.476226329803467, 'teacher_loss': 8.086943626403809, 'total_loss': 8.229451179504395}\n"
     ]
    },
    {
     "name": "stderr",
     "output_type": "stream",
     "text": [
      "Validating:  88%|████████▊ | 206/235 [01:39<00:13,  2.12it/s, loss=8.1328, avg_loss=7.9362]"
     ]
    },
    {
     "name": "stdout",
     "output_type": "stream",
     "text": [
      "{'kd_loss': 11.306735038757324, 'feature_loss': 0.3121306896209717, 'ce_loss': 8.03325366973877, 'cont_loss': 3.3439931869506836, 'teacher_loss': 8.085169792175293, 'total_loss': 8.132821083068848}\n"
     ]
    },
    {
     "name": "stderr",
     "output_type": "stream",
     "text": [
      "Validating:  88%|████████▊ | 207/235 [01:39<00:13,  2.12it/s, loss=8.2073, avg_loss=7.9375]"
     ]
    },
    {
     "name": "stdout",
     "output_type": "stream",
     "text": [
      "{'kd_loss': 11.391170501708984, 'feature_loss': 0.3349558711051941, 'ce_loss': 8.109521865844727, 'cont_loss': 3.400620460510254, 'teacher_loss': 8.083231925964355, 'total_loss': 8.207330703735352}\n"
     ]
    },
    {
     "name": "stderr",
     "output_type": "stream",
     "text": [
      "Validating:  89%|████████▊ | 208/235 [01:40<00:12,  2.12it/s, loss=8.3237, avg_loss=7.9393]"
     ]
    },
    {
     "name": "stdout",
     "output_type": "stream",
     "text": [
      "{'kd_loss': 11.548192977905273, 'feature_loss': 0.3138844966888428, 'ce_loss': 8.250455856323242, 'cont_loss': 3.4147732257843018, 'teacher_loss': 8.084688186645508, 'total_loss': 8.323714256286621}\n"
     ]
    },
    {
     "name": "stderr",
     "output_type": "stream",
     "text": [
      "Validating:  89%|████████▉ | 209/235 [01:40<00:12,  2.12it/s, loss=8.3035, avg_loss=7.9411]"
     ]
    },
    {
     "name": "stdout",
     "output_type": "stream",
     "text": [
      "{'kd_loss': 11.482208251953125, 'feature_loss': 0.34032416343688965, 'ce_loss': 8.190839767456055, 'cont_loss': 3.6620359420776367, 'teacher_loss': 8.082901000976562, 'total_loss': 8.303487777709961}\n"
     ]
    },
    {
     "name": "stderr",
     "output_type": "stream",
     "text": [
      "Validating:  89%|████████▉ | 210/235 [01:41<00:11,  2.12it/s, loss=8.3543, avg_loss=7.9430]"
     ]
    },
    {
     "name": "stdout",
     "output_type": "stream",
     "text": [
      "{'kd_loss': 11.593576431274414, 'feature_loss': 0.317508339881897, 'ce_loss': 8.291409492492676, 'cont_loss': 3.3677115440368652, 'teacher_loss': 8.08847713470459, 'total_loss': 8.354267120361328}\n"
     ]
    },
    {
     "name": "stderr",
     "output_type": "stream",
     "text": [
      "Validating:  90%|████████▉ | 211/235 [01:41<00:11,  2.12it/s, loss=8.2196, avg_loss=7.9444]"
     ]
    },
    {
     "name": "stdout",
     "output_type": "stream",
     "text": [
      "{'kd_loss': 11.396039009094238, 'feature_loss': 0.3042646646499634, 'ce_loss': 8.113588333129883, 'cont_loss': 3.5491886138916016, 'teacher_loss': 8.090127944946289, 'total_loss': 8.219622611999512}\n"
     ]
    },
    {
     "name": "stderr",
     "output_type": "stream",
     "text": [
      "Validating:  90%|█████████ | 212/235 [01:42<00:10,  2.12it/s, loss=8.1870, avg_loss=7.9455]"
     ]
    },
    {
     "name": "stdout",
     "output_type": "stream",
     "text": [
      "{'kd_loss': 11.367724418640137, 'feature_loss': 0.3094886541366577, 'ce_loss': 8.088096618652344, 'cont_loss': 3.428058624267578, 'teacher_loss': 8.089147567749023, 'total_loss': 8.187032699584961}\n"
     ]
    },
    {
     "name": "stderr",
     "output_type": "stream",
     "text": [
      "Validating:  91%|█████████ | 213/235 [01:42<00:10,  2.12it/s, loss=8.2287, avg_loss=7.9468]"
     ]
    },
    {
     "name": "stdout",
     "output_type": "stream",
     "text": [
      "{'kd_loss': 11.422449111938477, 'feature_loss': 0.30526167154312134, 'ce_loss': 8.13727855682373, 'cont_loss': 3.4377081394195557, 'teacher_loss': 8.090896606445312, 'total_loss': 8.228713989257812}\n"
     ]
    },
    {
     "name": "stderr",
     "output_type": "stream",
     "text": [
      "Validating:  91%|█████████ | 214/235 [01:43<00:09,  2.11it/s, loss=8.2930, avg_loss=7.9484]"
     ]
    },
    {
     "name": "stdout",
     "output_type": "stream",
     "text": [
      "{'kd_loss': 11.466775894165039, 'feature_loss': 0.3108978271484375, 'ce_loss': 8.177251815795898, 'cont_loss': 3.7323098182678223, 'teacher_loss': 8.09029769897461, 'total_loss': 8.293022155761719}\n"
     ]
    },
    {
     "name": "stderr",
     "output_type": "stream",
     "text": [
      "Validating:  91%|█████████▏| 215/235 [01:43<00:09,  2.11it/s, loss=8.2658, avg_loss=7.9499]"
     ]
    },
    {
     "name": "stdout",
     "output_type": "stream",
     "text": [
      "{'kd_loss': 11.470442771911621, 'feature_loss': 0.3006244897842407, 'ce_loss': 8.180790901184082, 'cont_loss': 3.4515762329101562, 'teacher_loss': 8.09074592590332, 'total_loss': 8.265775680541992}\n"
     ]
    },
    {
     "name": "stderr",
     "output_type": "stream",
     "text": [
      "Validating:  92%|█████████▏| 216/235 [01:44<00:08,  2.12it/s, loss=8.2479, avg_loss=7.9513]"
     ]
    },
    {
     "name": "stdout",
     "output_type": "stream",
     "text": [
      "{'kd_loss': 11.445149421691895, 'feature_loss': 0.30910593271255493, 'ce_loss': 8.157682418823242, 'cont_loss': 3.4496688842773438, 'teacher_loss': 8.07988452911377, 'total_loss': 8.247920989990234}\n"
     ]
    },
    {
     "name": "stderr",
     "output_type": "stream",
     "text": [
      "Validating:  92%|█████████▏| 217/235 [01:44<00:08,  2.11it/s, loss=8.2476, avg_loss=7.9527]"
     ]
    },
    {
     "name": "stdout",
     "output_type": "stream",
     "text": [
      "{'kd_loss': 11.43290901184082, 'feature_loss': 0.3314272165298462, 'ce_loss': 8.146747589111328, 'cont_loss': 3.494847297668457, 'teacher_loss': 8.090646743774414, 'total_loss': 8.24763298034668}\n"
     ]
    },
    {
     "name": "stderr",
     "output_type": "stream",
     "text": [
      "Validating:  93%|█████████▎| 218/235 [01:45<00:08,  2.11it/s, loss=8.2471, avg_loss=7.9540]"
     ]
    },
    {
     "name": "stdout",
     "output_type": "stream",
     "text": [
      "{'kd_loss': 11.432968139648438, 'feature_loss': 0.3332439661026001, 'ce_loss': 8.14690113067627, 'cont_loss': 3.485093116760254, 'teacher_loss': 8.089801788330078, 'total_loss': 8.247106552124023}\n"
     ]
    },
    {
     "name": "stderr",
     "output_type": "stream",
     "text": [
      "Validating:  93%|█████████▎| 219/235 [01:45<00:07,  2.11it/s, loss=8.1720, avg_loss=7.9550]"
     ]
    },
    {
     "name": "stdout",
     "output_type": "stream",
     "text": [
      "{'kd_loss': 11.333868980407715, 'feature_loss': 0.339586079120636, 'ce_loss': 8.057717323303223, 'cont_loss': 3.474365472793579, 'teacher_loss': 8.087535858154297, 'total_loss': 8.171989440917969}\n"
     ]
    },
    {
     "name": "stderr",
     "output_type": "stream",
     "text": [
      "Validating:  94%|█████████▎| 220/235 [01:45<00:07,  2.12it/s, loss=8.2119, avg_loss=7.9562]"
     ]
    },
    {
     "name": "stdout",
     "output_type": "stream",
     "text": [
      "{'kd_loss': 11.387502670288086, 'feature_loss': 0.3238949775695801, 'ce_loss': 8.106101989746094, 'cont_loss': 3.497239351272583, 'teacher_loss': 8.08696174621582, 'total_loss': 8.211944580078125}\n"
     ]
    },
    {
     "name": "stderr",
     "output_type": "stream",
     "text": [
      "Validating:  94%|█████████▍| 221/235 [01:46<00:06,  2.11it/s, loss=8.2651, avg_loss=7.9576]"
     ]
    },
    {
     "name": "stdout",
     "output_type": "stream",
     "text": [
      "{'kd_loss': 11.428866386413574, 'feature_loss': 0.33629781007766724, 'ce_loss': 8.143149375915527, 'cont_loss': 3.6903223991394043, 'teacher_loss': 8.084432601928711, 'total_loss': 8.265098571777344}\n"
     ]
    },
    {
     "name": "stderr",
     "output_type": "stream",
     "text": [
      "Validating:  94%|█████████▍| 222/235 [01:46<00:06,  2.12it/s, loss=8.2521, avg_loss=7.9589]"
     ]
    },
    {
     "name": "stdout",
     "output_type": "stream",
     "text": [
      "{'kd_loss': 11.431525230407715, 'feature_loss': 0.33751368522644043, 'ce_loss': 8.145601272583008, 'cont_loss': 3.537700653076172, 'teacher_loss': 8.090109825134277, 'total_loss': 8.252123832702637}\n"
     ]
    },
    {
     "name": "stderr",
     "output_type": "stream",
     "text": [
      "Validating:  95%|█████████▍| 223/235 [01:47<00:05,  2.12it/s, loss=8.1275, avg_loss=7.9597]"
     ]
    },
    {
     "name": "stdout",
     "output_type": "stream",
     "text": [
      "{'kd_loss': 11.280266761779785, 'feature_loss': 0.3158586025238037, 'ce_loss': 8.008997917175293, 'cont_loss': 3.486543655395508, 'teacher_loss': 8.08531379699707, 'total_loss': 8.127532958984375}\n"
     ]
    },
    {
     "name": "stderr",
     "output_type": "stream",
     "text": [
      "Validating:  95%|█████████▌| 224/235 [01:47<00:05,  2.12it/s, loss=8.2371, avg_loss=7.9609]"
     ]
    },
    {
     "name": "stdout",
     "output_type": "stream",
     "text": [
      "{'kd_loss': 11.415532112121582, 'feature_loss': 0.3299422264099121, 'ce_loss': 8.131035804748535, 'cont_loss': 3.524834156036377, 'teacher_loss': 8.088467597961426, 'total_loss': 8.237099647521973}\n"
     ]
    },
    {
     "name": "stderr",
     "output_type": "stream",
     "text": [
      "Validating:  96%|█████████▌| 225/235 [01:48<00:04,  2.11it/s, loss=8.2867, avg_loss=7.9623]"
     ]
    },
    {
     "name": "stdout",
     "output_type": "stream",
     "text": [
      "{'kd_loss': 11.474166870117188, 'feature_loss': 0.33552777767181396, 'ce_loss': 8.183953285217285, 'cont_loss': 3.563668727874756, 'teacher_loss': 8.091620445251465, 'total_loss': 8.286721229553223}\n"
     ]
    },
    {
     "name": "stderr",
     "output_type": "stream",
     "text": [
      "Validating:  96%|█████████▌| 226/235 [01:48<00:04,  2.12it/s, loss=8.2208, avg_loss=7.9635]"
     ]
    },
    {
     "name": "stdout",
     "output_type": "stream",
     "text": [
      "{'kd_loss': 11.371944427490234, 'feature_loss': 0.3305422067642212, 'ce_loss': 8.09155559539795, 'cont_loss': 3.6931800842285156, 'teacher_loss': 8.079655647277832, 'total_loss': 8.220827102661133}\n"
     ]
    },
    {
     "name": "stderr",
     "output_type": "stream",
     "text": [
      "Validating:  97%|█████████▋| 227/235 [01:49<00:03,  2.12it/s, loss=8.2282, avg_loss=7.9647]"
     ]
    },
    {
     "name": "stdout",
     "output_type": "stream",
     "text": [
      "{'kd_loss': 11.395462989807129, 'feature_loss': 0.33589911460876465, 'ce_loss': 8.112957954406738, 'cont_loss': 3.5765464305877686, 'teacher_loss': 8.088224411010742, 'total_loss': 8.228202819824219}\n"
     ]
    },
    {
     "name": "stderr",
     "output_type": "stream",
     "text": [
      "Validating:  97%|█████████▋| 228/235 [01:49<00:03,  2.11it/s, loss=8.2693, avg_loss=7.9660]"
     ]
    },
    {
     "name": "stdout",
     "output_type": "stream",
     "text": [
      "{'kd_loss': 11.461146354675293, 'feature_loss': 0.3046942949295044, 'ce_loss': 8.172181129455566, 'cont_loss': 3.5505945682525635, 'teacher_loss': 8.095893859863281, 'total_loss': 8.269330024719238}\n"
     ]
    },
    {
     "name": "stderr",
     "output_type": "stream",
     "text": [
      "Validating:  97%|█████████▋| 229/235 [01:50<00:02,  2.11it/s, loss=8.2930, avg_loss=7.9674]"
     ]
    },
    {
     "name": "stdout",
     "output_type": "stream",
     "text": [
      "{'kd_loss': 11.48355484008789, 'feature_loss': 0.3171588182449341, 'ce_loss': 8.192255020141602, 'cont_loss': 3.5927319526672363, 'teacher_loss': 8.085050582885742, 'total_loss': 8.293028831481934}\n"
     ]
    },
    {
     "name": "stderr",
     "output_type": "stream",
     "text": [
      "Validating:  98%|█████████▊| 230/235 [01:50<00:02,  2.12it/s, loss=8.2398, avg_loss=7.9686]"
     ]
    },
    {
     "name": "stdout",
     "output_type": "stream",
     "text": [
      "{'kd_loss': 11.40036392211914, 'feature_loss': 0.3279220461845398, 'ce_loss': 8.117494583129883, 'cont_loss': 3.6711714267730713, 'teacher_loss': 8.088367462158203, 'total_loss': 8.239845275878906}\n"
     ]
    },
    {
     "name": "stderr",
     "output_type": "stream",
     "text": [
      "Validating:  98%|█████████▊| 231/235 [01:51<00:01,  2.11it/s, loss=8.2876, avg_loss=7.9700]"
     ]
    },
    {
     "name": "stdout",
     "output_type": "stream",
     "text": [
      "{'kd_loss': 11.46955680847168, 'feature_loss': 0.32016992568969727, 'ce_loss': 8.17955207824707, 'cont_loss': 3.6389615535736084, 'teacher_loss': 8.087085723876953, 'total_loss': 8.28757381439209}\n"
     ]
    },
    {
     "name": "stderr",
     "output_type": "stream",
     "text": [
      "Validating:  99%|█████████▊| 232/235 [01:51<00:01,  2.12it/s, loss=8.1391, avg_loss=7.9707]"
     ]
    },
    {
     "name": "stdout",
     "output_type": "stream",
     "text": [
      "{'kd_loss': 11.277946472167969, 'feature_loss': 0.31131511926651, 'ce_loss': 8.007250785827637, 'cont_loss': 3.6273410320281982, 'teacher_loss': 8.084612846374512, 'total_loss': 8.139076232910156}\n"
     ]
    },
    {
     "name": "stderr",
     "output_type": "stream",
     "text": [
      "Validating:  99%|█████████▉| 233/235 [01:52<00:00,  2.11it/s, loss=8.3057, avg_loss=7.9722]"
     ]
    },
    {
     "name": "stdout",
     "output_type": "stream",
     "text": [
      "{'kd_loss': 11.478148460388184, 'feature_loss': 0.3560259938240051, 'ce_loss': 8.187369346618652, 'cont_loss': 3.6831705570220947, 'teacher_loss': 8.08794116973877, 'total_loss': 8.305728912353516}\n"
     ]
    },
    {
     "name": "stderr",
     "output_type": "stream",
     "text": [
      "Validating: 100%|██████████| 235/235 [01:52<00:00,  2.58it/s, loss=8.2455, avg_loss=7.9743]"
     ]
    },
    {
     "name": "stdout",
     "output_type": "stream",
     "text": [
      "{'kd_loss': 11.35490608215332, 'feature_loss': 0.333990216255188, 'ce_loss': 8.076460838317871, 'cont_loss': 3.632916212081909, 'teacher_loss': 8.090615272521973, 'total_loss': 8.20263671875}\n",
      "{'kd_loss': 11.532685279846191, 'feature_loss': 0.3210676908493042, 'ce_loss': 8.237214088439941, 'cont_loss': 2.7333877086639404, 'teacher_loss': 8.090879440307617, 'total_loss': 8.245512008666992}\n"
     ]
    },
    {
     "name": "stderr",
     "output_type": "stream",
     "text": [
      "Validating: 100%|██████████| 235/235 [01:52<00:00,  2.08it/s, loss=8.2455, avg_loss=7.9743]\n"
     ]
    },
    {
     "name": "stdout",
     "output_type": "stream",
     "text": [
      "Epoch 5 | Train Loss: 9.8875 | Val Loss: 7.9743 | Top1 Acc: 0.01 | Top5 Acc: 0.03\n",
      "Summary of Fold Metrics:\n",
      "{'fold': 0, 'train_loss': 9.887464676411946, 'val_loss': 7.974299585058334, 'top1_acc': 0.01233377659574468, 'top5_acc': 0.026396276595744683, 'top10_acc': 0.03686835106382979}\n"
     ]
    }
   ],
   "source": [
    "teacher_model = GoogleLandmarksModel(text_embeddings=text_embeddings, model_name=\"RN101\", device=device)\n",
    "teacher_model = teacher_model.float()\n",
    "\n",
    "checkpoint = torch.load('/kaggle/input/k/thangchu/training-clip-baseline-on-landmarks-index-set/clip_landmark_results/best_val_loss_model_fold-0.pth', weights_only = False)\n",
    "teacher_model.load_state_dict(checkpoint['model_state_dict'])\n",
    "teacher_model.to(device)\n",
    "student_model = timm.create_model(\"resnet18\", pretrained=True, num_classes=N_CLASSES)\n",
    "student_model = student_model.float()\n",
    "\n",
    "\n",
    "# Initialize the improved distillation model\n",
    "\n",
    "distillation_model = CrossModalDistillationModel(\n",
    "\n",
    "    teacher_model=teacher_model,\n",
    "\n",
    "    student_model=student_model,\n",
    "\n",
    "    text_embeddings=text_embeddings.to(device),\n",
    "\n",
    "    projection_dim=512  # Same dimension as CLIP's feature space\n",
    "\n",
    ")\n",
    "\n",
    "distillation_model.to(device)\n",
    "\n",
    "\n",
    "\n",
    "# Optimizer with weight decay\n",
    "\n",
    "optimizer = AdamW([\n",
    "\n",
    "    {'params': distillation_model.student.parameters(), 'lr': 1e-4},\n",
    "\n",
    "    {'params': distillation_model.projection_head.parameters(), 'lr': 1e-4}\n",
    "\n",
    "], weight_decay=0.01)\n",
    "\n",
    "\n",
    "\n",
    "# Scheduler with warmup\n",
    "\n",
    "num_training_steps = len(train_dl) * EPOCHS\n",
    "\n",
    "num_warmup_steps = min(1000, num_training_steps // 20)  # 10% of training steps or 1000, whichever is smaller\n",
    "\n",
    "scheduler = get_cosine_schedule_with_warmup(\n",
    "\n",
    "    optimizer, \n",
    "\n",
    "    num_warmup_steps=num_warmup_steps,\n",
    "\n",
    "    num_training_steps=num_training_steps\n",
    "\n",
    ")\n",
    "\n",
    "\n",
    "\n",
    "# Training loop with validation\n",
    "\n",
    "patience = EARLY_STOPPING_EPOCH\n",
    "\n",
    "patience_counter = 0\n",
    "\n",
    "\n",
    "\n",
    "scaler = GradScaler() if USE_AMP else None\n",
    "\n",
    "\n",
    "\n",
    "sfk = StratifiedKFold(n_splits=5, shuffle=True, random_state=42)\n",
    "\n",
    "training_folds = [0] \n",
    "\n",
    "fold_metrics = []\n",
    "\n",
    "for fold, (trn_idx, val_idx) in enumerate(sfk.split(train_df, train_df.landmark_id.tolist())):\n",
    "    if fold not in training_folds:\n",
    "        continue\n",
    "\n",
    "    print(f\"{'#'*30}\\nStarting Fold {fold}\\n{'#'*30}\")\n",
    "\n",
    "    # Prepare datasets and dataloaders\n",
    "    df_train = train_df.iloc[trn_idx]\n",
    "    df_valid = train_df.iloc[val_idx]\n",
    "\n",
    "    train_ds = GoogleLandmarksDataset(df_train, class_name_to_idx=class_name_to_idx, transform=transforms_train)\n",
    "    valid_ds = GoogleLandmarksDataset(df_valid, class_name_to_idx=class_name_to_idx, transform=transforms_val)\n",
    "\n",
    "    train_dl = DataLoader(train_ds, batch_size=BATCH_SIZE, shuffle=True, num_workers=N_WORKERS, drop_last=True, pin_memory=True)\n",
    "    valid_dl = DataLoader(valid_ds, batch_size=BATCH_SIZE*2, shuffle=False, num_workers=N_WORKERS, drop_last=False, pin_memory=True)\n",
    "\n",
    "    best_val_loss = float('inf')\n",
    "    patience_counter = 0\n",
    "\n",
    "    for epoch in range(EPOCHS):\n",
    "        train_loss, train_metrics = train_epoch(\n",
    "            model=distillation_model,\n",
    "            train_loader=train_dl,\n",
    "            criterion=EnhancedDistillationLoss(Config()),\n",
    "            optimizer=optimizer,\n",
    "            config=Config(),\n",
    "            scheduler=scheduler\n",
    "        )\n",
    "\n",
    "        val_loss, val_metrics = validate_epoch(\n",
    "            model=distillation_model,\n",
    "            val_loader=valid_dl,\n",
    "            criterion=EnhancedDistillationLoss(Config()),\n",
    "            config=Config()\n",
    "        )\n",
    "\n",
    "        print(f\"Epoch {epoch+1} | Train Loss: {train_loss:.4f} | Val Loss: {val_loss:.4f} | \"\n",
    "              f\"Top1 Acc: {val_metrics['top1_acc']:.2f} | Top5 Acc: {val_metrics['top5_acc']:.2f}\")\n",
    "\n",
    "        if val_loss < best_val_loss:\n",
    "            best_val_loss = val_loss\n",
    "            patience_counter = 0\n",
    "            torch.save({\n",
    "                'fold': fold,\n",
    "                'epoch': epoch,\n",
    "                'model_state_dict': distillation_model.state_dict(),\n",
    "                'optimizer_state_dict': optimizer.state_dict(),\n",
    "                'val_loss': val_loss,\n",
    "            }, f'{OUTPUT_DIR}/best_model_fold{fold}.pth')\n",
    "        else:\n",
    "            patience_counter += 1\n",
    "            if patience_counter >= patience:\n",
    "                print(f\"Early stopping triggered at epoch {epoch+1}\")\n",
    "                break\n",
    "    \n",
    "    fold_metrics.append({\n",
    "        'fold': fold,\n",
    "        'train_loss': train_loss,\n",
    "        'val_loss': val_loss,\n",
    "        'top1_acc': val_metrics['top1_acc'],\n",
    "        'top5_acc': val_metrics['top5_acc'],\n",
    "        'top10_acc': val_metrics['top10_acc'],\n",
    "    })\n",
    "\n",
    "# Print overall metrics\n",
    "print(\"Summary of Fold Metrics:\")\n",
    "for metric in fold_metrics:\n",
    "    print(metric)"
   ]
  }
 ],
 "metadata": {
  "kaggle": {
   "accelerator": "nvidiaTeslaT4",
   "dataSources": [
    {
     "datasetId": 5883095,
     "sourceId": 9635661,
     "sourceType": "datasetVersion"
    },
    {
     "datasetId": 5883097,
     "sourceId": 9635664,
     "sourceType": "datasetVersion"
    },
    {
     "datasetId": 5883577,
     "sourceId": 9636294,
     "sourceType": "datasetVersion"
    },
    {
     "datasetId": 5883578,
     "sourceId": 9636295,
     "sourceType": "datasetVersion"
    },
    {
     "datasetId": 5883713,
     "sourceId": 9636477,
     "sourceType": "datasetVersion"
    },
    {
     "datasetId": 5882766,
     "sourceId": 9720780,
     "sourceType": "datasetVersion"
    },
    {
     "datasetId": 5935937,
     "sourceId": 9828230,
     "sourceType": "datasetVersion"
    },
    {
     "datasetId": 6123513,
     "sourceId": 9956472,
     "sourceType": "datasetVersion"
    },
    {
     "sourceId": 204129443,
     "sourceType": "kernelVersion"
    },
    {
     "sourceId": 205653461,
     "sourceType": "kernelVersion"
    },
    {
     "sourceId": 207864204,
     "sourceType": "kernelVersion"
    }
   ],
   "dockerImageVersionId": 30787,
   "isGpuEnabled": true,
   "isInternetEnabled": true,
   "language": "python",
   "sourceType": "notebook"
  },
  "kernelspec": {
   "display_name": "Python 3",
   "language": "python",
   "name": "python3"
  },
  "language_info": {
   "codemirror_mode": {
    "name": "ipython",
    "version": 3
   },
   "file_extension": ".py",
   "mimetype": "text/x-python",
   "name": "python",
   "nbconvert_exporter": "python",
   "pygments_lexer": "ipython3",
   "version": "3.10.14"
  },
  "papermill": {
   "default_parameters": {},
   "duration": 4573.185795,
   "end_time": "2024-11-23T21:38:48.459332",
   "environment_variables": {},
   "exception": null,
   "input_path": "__notebook__.ipynb",
   "output_path": "__notebook__.ipynb",
   "parameters": {},
   "start_time": "2024-11-23T20:22:35.273537",
   "version": "2.6.0"
  },
  "widgets": {
   "application/vnd.jupyter.widget-state+json": {
    "state": {
     "006f6d22ae0941ae90daf70635136e6b": {
      "model_module": "@jupyter-widgets/controls",
      "model_module_version": "1.5.0",
      "model_name": "HBoxModel",
      "state": {
       "_dom_classes": [],
       "_model_module": "@jupyter-widgets/controls",
       "_model_module_version": "1.5.0",
       "_model_name": "HBoxModel",
       "_view_count": null,
       "_view_module": "@jupyter-widgets/controls",
       "_view_module_version": "1.5.0",
       "_view_name": "HBoxView",
       "box_style": "",
       "children": [
        "IPY_MODEL_7656dc25c782407b9bd722b1fdca6b7a",
        "IPY_MODEL_19a351a440b44579a65ac478064989fa",
        "IPY_MODEL_57de7b772f2f417693e0a0546ecb0bdd"
       ],
       "layout": "IPY_MODEL_5ee1f470ba424bf9ae703690843b29ff"
      }
     },
     "19a351a440b44579a65ac478064989fa": {
      "model_module": "@jupyter-widgets/controls",
      "model_module_version": "1.5.0",
      "model_name": "FloatProgressModel",
      "state": {
       "_dom_classes": [],
       "_model_module": "@jupyter-widgets/controls",
       "_model_module_version": "1.5.0",
       "_model_name": "FloatProgressModel",
       "_view_count": null,
       "_view_module": "@jupyter-widgets/controls",
       "_view_module_version": "1.5.0",
       "_view_name": "ProgressView",
       "bar_style": "success",
       "description": "",
       "description_tooltip": null,
       "layout": "IPY_MODEL_ce5483dceab64132b12326a4f9c0d5fb",
       "max": 46807446.0,
       "min": 0.0,
       "orientation": "horizontal",
       "style": "IPY_MODEL_48c5f8380b47469899310ae7a0ffe134",
       "value": 46807446.0
      }
     },
     "48c5f8380b47469899310ae7a0ffe134": {
      "model_module": "@jupyter-widgets/controls",
      "model_module_version": "1.5.0",
      "model_name": "ProgressStyleModel",
      "state": {
       "_model_module": "@jupyter-widgets/controls",
       "_model_module_version": "1.5.0",
       "_model_name": "ProgressStyleModel",
       "_view_count": null,
       "_view_module": "@jupyter-widgets/base",
       "_view_module_version": "1.2.0",
       "_view_name": "StyleView",
       "bar_color": null,
       "description_width": ""
      }
     },
     "52700e2cb60a446a81a0d27f480015d8": {
      "model_module": "@jupyter-widgets/controls",
      "model_module_version": "1.5.0",
      "model_name": "DescriptionStyleModel",
      "state": {
       "_model_module": "@jupyter-widgets/controls",
       "_model_module_version": "1.5.0",
       "_model_name": "DescriptionStyleModel",
       "_view_count": null,
       "_view_module": "@jupyter-widgets/base",
       "_view_module_version": "1.2.0",
       "_view_name": "StyleView",
       "description_width": ""
      }
     },
     "57de7b772f2f417693e0a0546ecb0bdd": {
      "model_module": "@jupyter-widgets/controls",
      "model_module_version": "1.5.0",
      "model_name": "HTMLModel",
      "state": {
       "_dom_classes": [],
       "_model_module": "@jupyter-widgets/controls",
       "_model_module_version": "1.5.0",
       "_model_name": "HTMLModel",
       "_view_count": null,
       "_view_module": "@jupyter-widgets/controls",
       "_view_module_version": "1.5.0",
       "_view_name": "HTMLView",
       "description": "",
       "description_tooltip": null,
       "layout": "IPY_MODEL_e458f4a275da4505a4eb9e937a9b3c14",
       "placeholder": "​",
       "style": "IPY_MODEL_52700e2cb60a446a81a0d27f480015d8",
       "value": " 46.8M/46.8M [00:00&lt;00:00, 183MB/s]"
      }
     },
     "5ee1f470ba424bf9ae703690843b29ff": {
      "model_module": "@jupyter-widgets/base",
      "model_module_version": "1.2.0",
      "model_name": "LayoutModel",
      "state": {
       "_model_module": "@jupyter-widgets/base",
       "_model_module_version": "1.2.0",
       "_model_name": "LayoutModel",
       "_view_count": null,
       "_view_module": "@jupyter-widgets/base",
       "_view_module_version": "1.2.0",
       "_view_name": "LayoutView",
       "align_content": null,
       "align_items": null,
       "align_self": null,
       "border": null,
       "bottom": null,
       "display": null,
       "flex": null,
       "flex_flow": null,
       "grid_area": null,
       "grid_auto_columns": null,
       "grid_auto_flow": null,
       "grid_auto_rows": null,
       "grid_column": null,
       "grid_gap": null,
       "grid_row": null,
       "grid_template_areas": null,
       "grid_template_columns": null,
       "grid_template_rows": null,
       "height": null,
       "justify_content": null,
       "justify_items": null,
       "left": null,
       "margin": null,
       "max_height": null,
       "max_width": null,
       "min_height": null,
       "min_width": null,
       "object_fit": null,
       "object_position": null,
       "order": null,
       "overflow": null,
       "overflow_x": null,
       "overflow_y": null,
       "padding": null,
       "right": null,
       "top": null,
       "visibility": null,
       "width": null
      }
     },
     "7656dc25c782407b9bd722b1fdca6b7a": {
      "model_module": "@jupyter-widgets/controls",
      "model_module_version": "1.5.0",
      "model_name": "HTMLModel",
      "state": {
       "_dom_classes": [],
       "_model_module": "@jupyter-widgets/controls",
       "_model_module_version": "1.5.0",
       "_model_name": "HTMLModel",
       "_view_count": null,
       "_view_module": "@jupyter-widgets/controls",
       "_view_module_version": "1.5.0",
       "_view_name": "HTMLView",
       "description": "",
       "description_tooltip": null,
       "layout": "IPY_MODEL_dd999d83122a4b4a856170ecaa5a997e",
       "placeholder": "​",
       "style": "IPY_MODEL_91cfb971c7e549289baecd7287d47d53",
       "value": "model.safetensors: 100%"
      }
     },
     "91cfb971c7e549289baecd7287d47d53": {
      "model_module": "@jupyter-widgets/controls",
      "model_module_version": "1.5.0",
      "model_name": "DescriptionStyleModel",
      "state": {
       "_model_module": "@jupyter-widgets/controls",
       "_model_module_version": "1.5.0",
       "_model_name": "DescriptionStyleModel",
       "_view_count": null,
       "_view_module": "@jupyter-widgets/base",
       "_view_module_version": "1.2.0",
       "_view_name": "StyleView",
       "description_width": ""
      }
     },
     "ce5483dceab64132b12326a4f9c0d5fb": {
      "model_module": "@jupyter-widgets/base",
      "model_module_version": "1.2.0",
      "model_name": "LayoutModel",
      "state": {
       "_model_module": "@jupyter-widgets/base",
       "_model_module_version": "1.2.0",
       "_model_name": "LayoutModel",
       "_view_count": null,
       "_view_module": "@jupyter-widgets/base",
       "_view_module_version": "1.2.0",
       "_view_name": "LayoutView",
       "align_content": null,
       "align_items": null,
       "align_self": null,
       "border": null,
       "bottom": null,
       "display": null,
       "flex": null,
       "flex_flow": null,
       "grid_area": null,
       "grid_auto_columns": null,
       "grid_auto_flow": null,
       "grid_auto_rows": null,
       "grid_column": null,
       "grid_gap": null,
       "grid_row": null,
       "grid_template_areas": null,
       "grid_template_columns": null,
       "grid_template_rows": null,
       "height": null,
       "justify_content": null,
       "justify_items": null,
       "left": null,
       "margin": null,
       "max_height": null,
       "max_width": null,
       "min_height": null,
       "min_width": null,
       "object_fit": null,
       "object_position": null,
       "order": null,
       "overflow": null,
       "overflow_x": null,
       "overflow_y": null,
       "padding": null,
       "right": null,
       "top": null,
       "visibility": null,
       "width": null
      }
     },
     "dd999d83122a4b4a856170ecaa5a997e": {
      "model_module": "@jupyter-widgets/base",
      "model_module_version": "1.2.0",
      "model_name": "LayoutModel",
      "state": {
       "_model_module": "@jupyter-widgets/base",
       "_model_module_version": "1.2.0",
       "_model_name": "LayoutModel",
       "_view_count": null,
       "_view_module": "@jupyter-widgets/base",
       "_view_module_version": "1.2.0",
       "_view_name": "LayoutView",
       "align_content": null,
       "align_items": null,
       "align_self": null,
       "border": null,
       "bottom": null,
       "display": null,
       "flex": null,
       "flex_flow": null,
       "grid_area": null,
       "grid_auto_columns": null,
       "grid_auto_flow": null,
       "grid_auto_rows": null,
       "grid_column": null,
       "grid_gap": null,
       "grid_row": null,
       "grid_template_areas": null,
       "grid_template_columns": null,
       "grid_template_rows": null,
       "height": null,
       "justify_content": null,
       "justify_items": null,
       "left": null,
       "margin": null,
       "max_height": null,
       "max_width": null,
       "min_height": null,
       "min_width": null,
       "object_fit": null,
       "object_position": null,
       "order": null,
       "overflow": null,
       "overflow_x": null,
       "overflow_y": null,
       "padding": null,
       "right": null,
       "top": null,
       "visibility": null,
       "width": null
      }
     },
     "e458f4a275da4505a4eb9e937a9b3c14": {
      "model_module": "@jupyter-widgets/base",
      "model_module_version": "1.2.0",
      "model_name": "LayoutModel",
      "state": {
       "_model_module": "@jupyter-widgets/base",
       "_model_module_version": "1.2.0",
       "_model_name": "LayoutModel",
       "_view_count": null,
       "_view_module": "@jupyter-widgets/base",
       "_view_module_version": "1.2.0",
       "_view_name": "LayoutView",
       "align_content": null,
       "align_items": null,
       "align_self": null,
       "border": null,
       "bottom": null,
       "display": null,
       "flex": null,
       "flex_flow": null,
       "grid_area": null,
       "grid_auto_columns": null,
       "grid_auto_flow": null,
       "grid_auto_rows": null,
       "grid_column": null,
       "grid_gap": null,
       "grid_row": null,
       "grid_template_areas": null,
       "grid_template_columns": null,
       "grid_template_rows": null,
       "height": null,
       "justify_content": null,
       "justify_items": null,
       "left": null,
       "margin": null,
       "max_height": null,
       "max_width": null,
       "min_height": null,
       "min_width": null,
       "object_fit": null,
       "object_position": null,
       "order": null,
       "overflow": null,
       "overflow_x": null,
       "overflow_y": null,
       "padding": null,
       "right": null,
       "top": null,
       "visibility": null,
       "width": null
      }
     }
    },
    "version_major": 2,
    "version_minor": 0
   }
  }
 },
 "nbformat": 4,
 "nbformat_minor": 5
}
