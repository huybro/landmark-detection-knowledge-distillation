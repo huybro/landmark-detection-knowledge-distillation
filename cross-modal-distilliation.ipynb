{
 "cells": [
  {
   "cell_type": "code",
   "execution_count": 1,
   "id": "75b4a672",
   "metadata": {
    "_cell_guid": "b1076dfc-b9ad-4769-8c92-a6c4dae69d19",
    "_uuid": "8f2839f25d086af736a60e9eeb907d3b93b6e0e5",
    "execution": {
     "iopub.execute_input": "2024-11-22T20:23:53.761360Z",
     "iopub.status.busy": "2024-11-22T20:23:53.761104Z",
     "iopub.status.idle": "2024-11-22T20:24:07.244656Z",
     "shell.execute_reply": "2024-11-22T20:24:07.243798Z"
    },
    "papermill": {
     "duration": 13.492849,
     "end_time": "2024-11-22T20:24:07.246651",
     "exception": false,
     "start_time": "2024-11-22T20:23:53.753802",
     "status": "completed"
    },
    "tags": []
   },
   "outputs": [
    {
     "name": "stdout",
     "output_type": "stream",
     "text": [
      "Collecting git+https://github.com/openai/CLIP.git\r\n",
      "  Cloning https://github.com/openai/CLIP.git to /tmp/pip-req-build-odbn6c0u\r\n",
      "  Running command git clone --filter=blob:none --quiet https://github.com/openai/CLIP.git /tmp/pip-req-build-odbn6c0u\r\n",
      "  Resolved https://github.com/openai/CLIP.git to commit dcba3cb2e2827b402d2701e7e1c7d9fed8a20ef1\r\n",
      "  Preparing metadata (setup.py) ... \u001b[?25l-\b \bdone\r\n",
      "\u001b[?25hCollecting ftfy (from clip==1.0)\r\n",
      "  Downloading ftfy-6.3.1-py3-none-any.whl.metadata (7.3 kB)\r\n",
      "Requirement already satisfied: packaging in /opt/conda/lib/python3.10/site-packages (from clip==1.0) (21.3)\r\n",
      "Requirement already satisfied: regex in /opt/conda/lib/python3.10/site-packages (from clip==1.0) (2024.5.15)\r\n",
      "Requirement already satisfied: tqdm in /opt/conda/lib/python3.10/site-packages (from clip==1.0) (4.66.4)\r\n",
      "Requirement already satisfied: torch in /opt/conda/lib/python3.10/site-packages (from clip==1.0) (2.4.0)\r\n",
      "Requirement already satisfied: torchvision in /opt/conda/lib/python3.10/site-packages (from clip==1.0) (0.19.0)\r\n",
      "Requirement already satisfied: wcwidth in /opt/conda/lib/python3.10/site-packages (from ftfy->clip==1.0) (0.2.13)\r\n",
      "Requirement already satisfied: pyparsing!=3.0.5,>=2.0.2 in /opt/conda/lib/python3.10/site-packages (from packaging->clip==1.0) (3.1.2)\r\n",
      "Requirement already satisfied: filelock in /opt/conda/lib/python3.10/site-packages (from torch->clip==1.0) (3.15.1)\r\n",
      "Requirement already satisfied: typing-extensions>=4.8.0 in /opt/conda/lib/python3.10/site-packages (from torch->clip==1.0) (4.12.2)\r\n",
      "Requirement already satisfied: sympy in /opt/conda/lib/python3.10/site-packages (from torch->clip==1.0) (1.13.3)\r\n",
      "Requirement already satisfied: networkx in /opt/conda/lib/python3.10/site-packages (from torch->clip==1.0) (3.3)\r\n",
      "Requirement already satisfied: jinja2 in /opt/conda/lib/python3.10/site-packages (from torch->clip==1.0) (3.1.4)\r\n",
      "Requirement already satisfied: fsspec in /opt/conda/lib/python3.10/site-packages (from torch->clip==1.0) (2024.6.1)\r\n",
      "Requirement already satisfied: numpy in /opt/conda/lib/python3.10/site-packages (from torchvision->clip==1.0) (1.26.4)\r\n",
      "Requirement already satisfied: pillow!=8.3.*,>=5.3.0 in /opt/conda/lib/python3.10/site-packages (from torchvision->clip==1.0) (10.3.0)\r\n",
      "Requirement already satisfied: MarkupSafe>=2.0 in /opt/conda/lib/python3.10/site-packages (from jinja2->torch->clip==1.0) (2.1.5)\r\n",
      "Requirement already satisfied: mpmath<1.4,>=1.1.0 in /opt/conda/lib/python3.10/site-packages (from sympy->torch->clip==1.0) (1.3.0)\r\n",
      "Downloading ftfy-6.3.1-py3-none-any.whl (44 kB)\r\n",
      "\u001b[2K   \u001b[90m━━━━━━━━━━━━━━━━━━━━━━━━━━━━━━━━━━━━━━━━\u001b[0m \u001b[32m44.8/44.8 kB\u001b[0m \u001b[31m1.5 MB/s\u001b[0m eta \u001b[36m0:00:00\u001b[0m\r\n",
      "\u001b[?25hBuilding wheels for collected packages: clip\r\n",
      "  Building wheel for clip (setup.py) ... \u001b[?25l-\b \b\\\b \bdone\r\n",
      "\u001b[?25h  Created wheel for clip: filename=clip-1.0-py3-none-any.whl size=1369490 sha256=55319ba4ef01fcca32e9e30c2d72a854c761a8dcf4c389c2d1688c2a6895dd0b\r\n",
      "  Stored in directory: /tmp/pip-ephem-wheel-cache-e_uhmjcf/wheels/da/2b/4c/d6691fa9597aac8bb85d2ac13b112deb897d5b50f5ad9a37e4\r\n",
      "Successfully built clip\r\n",
      "Installing collected packages: ftfy, clip\r\n",
      "Successfully installed clip-1.0 ftfy-6.3.1\r\n"
     ]
    }
   ],
   "source": [
    "!pip install git+https://github.com/openai/CLIP.git"
   ]
  },
  {
   "cell_type": "code",
   "execution_count": 2,
   "id": "87846c46",
   "metadata": {
    "execution": {
     "iopub.execute_input": "2024-11-22T20:24:07.262943Z",
     "iopub.status.busy": "2024-11-22T20:24:07.262657Z",
     "iopub.status.idle": "2024-11-22T20:24:17.211858Z",
     "shell.execute_reply": "2024-11-22T20:24:17.210826Z"
    },
    "papermill": {
     "duration": 9.958963,
     "end_time": "2024-11-22T20:24:17.213818",
     "exception": false,
     "start_time": "2024-11-22T20:24:07.254855",
     "status": "completed"
    },
    "tags": []
   },
   "outputs": [
    {
     "name": "stdout",
     "output_type": "stream",
     "text": [
      "Requirement already satisfied: albumentations in /opt/conda/lib/python3.10/site-packages (1.4.17)\r\n",
      "Collecting albumentations\r\n",
      "  Downloading albumentations-1.4.21-py3-none-any.whl.metadata (31 kB)\r\n",
      "Requirement already satisfied: numpy>=1.24.4 in /opt/conda/lib/python3.10/site-packages (from albumentations) (1.26.4)\r\n",
      "Requirement already satisfied: scipy>=1.10.0 in /opt/conda/lib/python3.10/site-packages (from albumentations) (1.14.1)\r\n",
      "Requirement already satisfied: PyYAML in /opt/conda/lib/python3.10/site-packages (from albumentations) (6.0.2)\r\n",
      "Requirement already satisfied: pydantic>=2.7.0 in /opt/conda/lib/python3.10/site-packages (from albumentations) (2.9.2)\r\n",
      "Collecting albucore==0.0.20 (from albumentations)\r\n",
      "  Downloading albucore-0.0.20-py3-none-any.whl.metadata (5.3 kB)\r\n",
      "Requirement already satisfied: eval-type-backport in /opt/conda/lib/python3.10/site-packages (from albumentations) (0.2.0)\r\n",
      "Requirement already satisfied: opencv-python-headless>=4.9.0.80 in /opt/conda/lib/python3.10/site-packages (from albumentations) (4.10.0.84)\r\n",
      "Collecting stringzilla>=3.10.4 (from albucore==0.0.20->albumentations)\r\n",
      "  Downloading stringzilla-3.10.10-cp310-cp310-manylinux_2_5_x86_64.manylinux1_x86_64.manylinux_2_28_x86_64.whl.metadata (79 kB)\r\n",
      "\u001b[2K     \u001b[90m━━━━━━━━━━━━━━━━━━━━━━━━━━━━━━━━━━━━━━━━\u001b[0m \u001b[32m79.9/79.9 kB\u001b[0m \u001b[31m3.0 MB/s\u001b[0m eta \u001b[36m0:00:00\u001b[0m\r\n",
      "\u001b[?25hCollecting simsimd>=5.9.2 (from albucore==0.0.20->albumentations)\r\n",
      "  Downloading simsimd-6.1.1-cp310-cp310-manylinux_2_28_x86_64.whl.metadata (58 kB)\r\n",
      "\u001b[2K     \u001b[90m━━━━━━━━━━━━━━━━━━━━━━━━━━━━━━━━━━━━━━━━\u001b[0m \u001b[32m58.4/58.4 kB\u001b[0m \u001b[31m3.0 MB/s\u001b[0m eta \u001b[36m0:00:00\u001b[0m\r\n",
      "\u001b[?25hRequirement already satisfied: annotated-types>=0.6.0 in /opt/conda/lib/python3.10/site-packages (from pydantic>=2.7.0->albumentations) (0.7.0)\r\n",
      "Requirement already satisfied: pydantic-core==2.23.4 in /opt/conda/lib/python3.10/site-packages (from pydantic>=2.7.0->albumentations) (2.23.4)\r\n",
      "Requirement already satisfied: typing-extensions>=4.6.1 in /opt/conda/lib/python3.10/site-packages (from pydantic>=2.7.0->albumentations) (4.12.2)\r\n",
      "Downloading albumentations-1.4.21-py3-none-any.whl (227 kB)\r\n",
      "\u001b[2K   \u001b[90m━━━━━━━━━━━━━━━━━━━━━━━━━━━━━━━━━━━━━━━━\u001b[0m \u001b[32m227.9/227.9 kB\u001b[0m \u001b[31m8.9 MB/s\u001b[0m eta \u001b[36m0:00:00\u001b[0m\r\n",
      "\u001b[?25hDownloading albucore-0.0.20-py3-none-any.whl (12 kB)\r\n",
      "Downloading simsimd-6.1.1-cp310-cp310-manylinux_2_28_x86_64.whl (606 kB)\r\n",
      "\u001b[2K   \u001b[90m━━━━━━━━━━━━━━━━━━━━━━━━━━━━━━━━━━━━━━━━\u001b[0m \u001b[32m606.4/606.4 kB\u001b[0m \u001b[31m23.3 MB/s\u001b[0m eta \u001b[36m0:00:00\u001b[0m\r\n",
      "\u001b[?25hDownloading stringzilla-3.10.10-cp310-cp310-manylinux_2_5_x86_64.manylinux1_x86_64.manylinux_2_28_x86_64.whl (291 kB)\r\n",
      "\u001b[2K   \u001b[90m━━━━━━━━━━━━━━━━━━━━━━━━━━━━━━━━━━━━━━━━\u001b[0m \u001b[32m291.7/291.7 kB\u001b[0m \u001b[31m19.4 MB/s\u001b[0m eta \u001b[36m0:00:00\u001b[0m\r\n",
      "\u001b[?25hInstalling collected packages: stringzilla, simsimd, albucore, albumentations\r\n",
      "  Attempting uninstall: albucore\r\n",
      "    Found existing installation: albucore 0.0.17\r\n",
      "    Uninstalling albucore-0.0.17:\r\n",
      "      Successfully uninstalled albucore-0.0.17\r\n",
      "  Attempting uninstall: albumentations\r\n",
      "    Found existing installation: albumentations 1.4.17\r\n",
      "    Uninstalling albumentations-1.4.17:\r\n",
      "      Successfully uninstalled albumentations-1.4.17\r\n",
      "Successfully installed albucore-0.0.20 albumentations-1.4.21 simsimd-6.1.1 stringzilla-3.10.10\r\n",
      "Note: you may need to restart the kernel to use updated packages.\n"
     ]
    }
   ],
   "source": [
    "pip install -U albumentations"
   ]
  },
  {
   "cell_type": "markdown",
   "id": "aa6e1608",
   "metadata": {
    "papermill": {
     "duration": 0.007477,
     "end_time": "2024-11-22T20:24:17.229511",
     "exception": false,
     "start_time": "2024-11-22T20:24:17.222034",
     "status": "completed"
    },
    "tags": []
   },
   "source": [
    "# Import"
   ]
  },
  {
   "cell_type": "code",
   "execution_count": 3,
   "id": "24dd13f5",
   "metadata": {
    "execution": {
     "iopub.execute_input": "2024-11-22T20:24:17.247182Z",
     "iopub.status.busy": "2024-11-22T20:24:17.246908Z",
     "iopub.status.idle": "2024-11-22T20:24:27.696618Z",
     "shell.execute_reply": "2024-11-22T20:24:27.695667Z"
    },
    "papermill": {
     "duration": 10.460391,
     "end_time": "2024-11-22T20:24:27.698703",
     "exception": false,
     "start_time": "2024-11-22T20:24:17.238312",
     "status": "completed"
    },
    "tags": []
   },
   "outputs": [],
   "source": [
    "import os\n",
    "\n",
    "import gc\n",
    "\n",
    "import sys\n",
    "\n",
    "from PIL import Image\n",
    "\n",
    "import cv2\n",
    "\n",
    "import math, random\n",
    "\n",
    "import numpy as np\n",
    "\n",
    "import pandas as pd\n",
    "\n",
    "from glob import glob\n",
    "\n",
    "from tqdm import tqdm\n",
    "\n",
    "import matplotlib.pyplot as plt\n",
    "\n",
    "from sklearn.model_selection import KFold, GroupKFold, StratifiedKFold\n",
    "\n",
    "\n",
    "\n",
    "from collections import OrderedDict\n",
    "\n",
    "\n",
    "\n",
    "import torch\n",
    "\n",
    "import torch.nn.functional as F\n",
    "\n",
    "from torch import nn\n",
    "\n",
    "from torch.utils.data import DataLoader, Dataset\n",
    "\n",
    "from torch.optim import AdamW\n",
    "\n",
    "\n",
    "\n",
    "import timm\n",
    "\n",
    "from transformers import get_cosine_schedule_with_warmup\n",
    "\n",
    "\n",
    "\n",
    "import albumentations as A\n",
    "\n",
    "from sklearn.preprocessing import LabelEncoder\n",
    "\n",
    "import clip\n",
    "\n",
    "\n",
    "\n",
    "from torch.cuda.amp import autocast, GradScaler\n",
    "\n",
    "from torch.utils.data import DataLoader\n",
    "\n",
    "import wandb\n",
    "\n",
    "from tqdm import tqdm"
   ]
  },
  {
   "cell_type": "code",
   "execution_count": 4,
   "id": "d907c7eb",
   "metadata": {
    "execution": {
     "iopub.execute_input": "2024-11-22T20:24:27.715373Z",
     "iopub.status.busy": "2024-11-22T20:24:27.714933Z",
     "iopub.status.idle": "2024-11-22T20:24:27.722076Z",
     "shell.execute_reply": "2024-11-22T20:24:27.721409Z"
    },
    "papermill": {
     "duration": 0.017075,
     "end_time": "2024-11-22T20:24:27.723663",
     "exception": false,
     "start_time": "2024-11-22T20:24:27.706588",
     "status": "completed"
    },
    "tags": []
   },
   "outputs": [],
   "source": [
    "device = 'cuda:0' if torch.cuda.is_available() else 'cpu'\n",
    "\n",
    "DEBUG = False\n",
    "\n",
    "N_WORKERS = os.cpu_count() \n",
    "\n",
    "USE_AMP = False # can change True if using T4 or newer than Ampere\n",
    "\n",
    "SEED = 42\n",
    "\n",
    "CLIP_MODEL_NAME = \"RN101\"\n",
    "\n",
    "IMG_SIZE = [224, 224]\n",
    "\n",
    "AUG_PROB = 0.2\n",
    "\n",
    "BATCH_SIZE = 64\n",
    "\n",
    "EPOCHS = 5\n",
    "\n",
    "if DEBUG:\n",
    "\n",
    "    EPOCHS = 3\n",
    "\n",
    "GRAD_ACC = 1\n",
    "\n",
    "N_FOLDS = 5\n",
    "\n",
    "MAX_GRAD_NORM = None\n",
    "\n",
    "EARLY_STOPPING_EPOCH = 3\n",
    "\n",
    "OUTPUT_DIR = f'clip_landmark_results'"
   ]
  },
  {
   "cell_type": "code",
   "execution_count": 5,
   "id": "8ac0d5fe",
   "metadata": {
    "execution": {
     "iopub.execute_input": "2024-11-22T20:24:27.740092Z",
     "iopub.status.busy": "2024-11-22T20:24:27.739849Z",
     "iopub.status.idle": "2024-11-22T20:24:27.743443Z",
     "shell.execute_reply": "2024-11-22T20:24:27.742796Z"
    },
    "papermill": {
     "duration": 0.01343,
     "end_time": "2024-11-22T20:24:27.745001",
     "exception": false,
     "start_time": "2024-11-22T20:24:27.731571",
     "status": "completed"
    },
    "tags": []
   },
   "outputs": [],
   "source": [
    "os.makedirs(OUTPUT_DIR, exist_ok=True)"
   ]
  },
  {
   "cell_type": "code",
   "execution_count": 6,
   "id": "3af112e8",
   "metadata": {
    "execution": {
     "iopub.execute_input": "2024-11-22T20:24:27.760715Z",
     "iopub.status.busy": "2024-11-22T20:24:27.760445Z",
     "iopub.status.idle": "2024-11-22T20:24:28.770732Z",
     "shell.execute_reply": "2024-11-22T20:24:28.769863Z"
    },
    "papermill": {
     "duration": 1.01992,
     "end_time": "2024-11-22T20:24:28.772363",
     "exception": false,
     "start_time": "2024-11-22T20:24:27.752443",
     "status": "completed"
    },
    "tags": []
   },
   "outputs": [
    {
     "data": {
      "text/html": [
       "<div>\n",
       "<style scoped>\n",
       "    .dataframe tbody tr th:only-of-type {\n",
       "        vertical-align: middle;\n",
       "    }\n",
       "\n",
       "    .dataframe tbody tr th {\n",
       "        vertical-align: top;\n",
       "    }\n",
       "\n",
       "    .dataframe thead th {\n",
       "        text-align: right;\n",
       "    }\n",
       "</style>\n",
       "<table border=\"1\" class=\"dataframe\">\n",
       "  <thead>\n",
       "    <tr style=\"text-align: right;\">\n",
       "      <th></th>\n",
       "      <th>id</th>\n",
       "      <th>landmark_id</th>\n",
       "      <th>category</th>\n",
       "      <th>supercategory</th>\n",
       "      <th>hierarchical_label</th>\n",
       "      <th>natural_or_human_made</th>\n",
       "      <th>cleaned_supercategory</th>\n",
       "      <th>location</th>\n",
       "      <th>country</th>\n",
       "      <th>image_path</th>\n",
       "      <th>landmark_name</th>\n",
       "    </tr>\n",
       "  </thead>\n",
       "  <tbody>\n",
       "    <tr>\n",
       "      <th>0</th>\n",
       "      <td>87a5dfadcaeba144</td>\n",
       "      <td>93036</td>\n",
       "      <td>http://commons.wikimedia.org/wiki/Category:Nav...</td>\n",
       "      <td>naval base</td>\n",
       "      <td>harbor</td>\n",
       "      <td>human-made</td>\n",
       "      <td>naval base</td>\n",
       "      <td>Guantánamo Province , Cuba</td>\n",
       "      <td>Cuba</td>\n",
       "      <td>/kaggle/input/google-landmarks-v2-index-set-p3...</td>\n",
       "      <td>Naval Station Guantanamo Bay</td>\n",
       "    </tr>\n",
       "    <tr>\n",
       "      <th>1</th>\n",
       "      <td>53824bfa2b3e569c</td>\n",
       "      <td>93036</td>\n",
       "      <td>http://commons.wikimedia.org/wiki/Category:Nav...</td>\n",
       "      <td>naval base</td>\n",
       "      <td>harbor</td>\n",
       "      <td>human-made</td>\n",
       "      <td>naval base</td>\n",
       "      <td>Guantánamo Province , Cuba</td>\n",
       "      <td>Cuba</td>\n",
       "      <td>/kaggle/input/google-landmarks-v2-index-set-p2...</td>\n",
       "      <td>Naval Station Guantanamo Bay</td>\n",
       "    </tr>\n",
       "    <tr>\n",
       "      <th>2</th>\n",
       "      <td>080a99cff9666667</td>\n",
       "      <td>93036</td>\n",
       "      <td>http://commons.wikimedia.org/wiki/Category:Nav...</td>\n",
       "      <td>naval base</td>\n",
       "      <td>harbor</td>\n",
       "      <td>human-made</td>\n",
       "      <td>naval base</td>\n",
       "      <td>Guantánamo Province , Cuba</td>\n",
       "      <td>Cuba</td>\n",
       "      <td>/kaggle/input/google-landmarks-v2-index-set-p1...</td>\n",
       "      <td>Naval Station Guantanamo Bay</td>\n",
       "    </tr>\n",
       "    <tr>\n",
       "      <th>3</th>\n",
       "      <td>b86710311289fa90</td>\n",
       "      <td>93036</td>\n",
       "      <td>http://commons.wikimedia.org/wiki/Category:Nav...</td>\n",
       "      <td>naval base</td>\n",
       "      <td>harbor</td>\n",
       "      <td>human-made</td>\n",
       "      <td>naval base</td>\n",
       "      <td>Guantánamo Province , Cuba</td>\n",
       "      <td>Cuba</td>\n",
       "      <td>/kaggle/input/google-landmarks-v2-index-set-p4...</td>\n",
       "      <td>Naval Station Guantanamo Bay</td>\n",
       "    </tr>\n",
       "    <tr>\n",
       "      <th>4</th>\n",
       "      <td>5554c986662c2587</td>\n",
       "      <td>93036</td>\n",
       "      <td>http://commons.wikimedia.org/wiki/Category:Nav...</td>\n",
       "      <td>naval base</td>\n",
       "      <td>harbor</td>\n",
       "      <td>human-made</td>\n",
       "      <td>naval base</td>\n",
       "      <td>Guantánamo Province , Cuba</td>\n",
       "      <td>Cuba</td>\n",
       "      <td>/kaggle/input/google-landmarks-v2-index-set-p2...</td>\n",
       "      <td>Naval Station Guantanamo Bay</td>\n",
       "    </tr>\n",
       "  </tbody>\n",
       "</table>\n",
       "</div>"
      ],
      "text/plain": [
       "                 id  landmark_id  \\\n",
       "0  87a5dfadcaeba144        93036   \n",
       "1  53824bfa2b3e569c        93036   \n",
       "2  080a99cff9666667        93036   \n",
       "3  b86710311289fa90        93036   \n",
       "4  5554c986662c2587        93036   \n",
       "\n",
       "                                            category supercategory  \\\n",
       "0  http://commons.wikimedia.org/wiki/Category:Nav...    naval base   \n",
       "1  http://commons.wikimedia.org/wiki/Category:Nav...    naval base   \n",
       "2  http://commons.wikimedia.org/wiki/Category:Nav...    naval base   \n",
       "3  http://commons.wikimedia.org/wiki/Category:Nav...    naval base   \n",
       "4  http://commons.wikimedia.org/wiki/Category:Nav...    naval base   \n",
       "\n",
       "  hierarchical_label natural_or_human_made cleaned_supercategory  \\\n",
       "0             harbor            human-made            naval base   \n",
       "1             harbor            human-made            naval base   \n",
       "2             harbor            human-made            naval base   \n",
       "3             harbor            human-made            naval base   \n",
       "4             harbor            human-made            naval base   \n",
       "\n",
       "                     location country  \\\n",
       "0  Guantánamo Province , Cuba    Cuba   \n",
       "1  Guantánamo Province , Cuba    Cuba   \n",
       "2  Guantánamo Province , Cuba    Cuba   \n",
       "3  Guantánamo Province , Cuba    Cuba   \n",
       "4  Guantánamo Province , Cuba    Cuba   \n",
       "\n",
       "                                          image_path  \\\n",
       "0  /kaggle/input/google-landmarks-v2-index-set-p3...   \n",
       "1  /kaggle/input/google-landmarks-v2-index-set-p2...   \n",
       "2  /kaggle/input/google-landmarks-v2-index-set-p1...   \n",
       "3  /kaggle/input/google-landmarks-v2-index-set-p4...   \n",
       "4  /kaggle/input/google-landmarks-v2-index-set-p2...   \n",
       "\n",
       "                  landmark_name  \n",
       "0  Naval Station Guantanamo Bay  \n",
       "1  Naval Station Guantanamo Bay  \n",
       "2  Naval Station Guantanamo Bay  \n",
       "3  Naval Station Guantanamo Bay  \n",
       "4  Naval Station Guantanamo Bay  "
      ]
     },
     "execution_count": 6,
     "metadata": {},
     "output_type": "execute_result"
    }
   ],
   "source": [
    "train_df = pd.read_csv(\"/kaggle/input/google-landmarks-v2-index-subset-metadata/cleaned_landmark_index_subset_150k_with_locations_v4.csv\")\n",
    "\n",
    "if DEBUG:\n",
    "\n",
    "    # Reduce to 1000 samples for quick debugging\n",
    "\n",
    "    train_df = train_df.sample(1000, random_state=42).reset_index(drop=True)\n",
    "\n",
    "train_df.head()"
   ]
  },
  {
   "cell_type": "code",
   "execution_count": 7,
   "id": "c6e5c3df",
   "metadata": {
    "execution": {
     "iopub.execute_input": "2024-11-22T20:24:28.788787Z",
     "iopub.status.busy": "2024-11-22T20:24:28.788477Z",
     "iopub.status.idle": "2024-11-22T20:24:28.812501Z",
     "shell.execute_reply": "2024-11-22T20:24:28.811909Z"
    },
    "papermill": {
     "duration": 0.033993,
     "end_time": "2024-11-22T20:24:28.814210",
     "exception": false,
     "start_time": "2024-11-22T20:24:28.780217",
     "status": "completed"
    },
    "tags": []
   },
   "outputs": [],
   "source": [
    "N_CLASSES = train_df.landmark_name.nunique()\n",
    "\n",
    "class_names = train_df.landmark_name.unique()"
   ]
  },
  {
   "cell_type": "code",
   "execution_count": 8,
   "id": "3bfe7f38",
   "metadata": {
    "execution": {
     "iopub.execute_input": "2024-11-22T20:24:28.830810Z",
     "iopub.status.busy": "2024-11-22T20:24:28.830497Z",
     "iopub.status.idle": "2024-11-22T20:25:03.406987Z",
     "shell.execute_reply": "2024-11-22T20:25:03.406038Z"
    },
    "papermill": {
     "duration": 34.587117,
     "end_time": "2024-11-22T20:25:03.409105",
     "exception": false,
     "start_time": "2024-11-22T20:24:28.821988",
     "status": "completed"
    },
    "tags": []
   },
   "outputs": [
    {
     "name": "stderr",
     "output_type": "stream",
     "text": [
      "100%|███████████████████████████████████████| 278M/278M [00:27<00:00, 10.8MiB/s]\n"
     ]
    }
   ],
   "source": [
    "# Load CLIP model\n",
    "\n",
    "embedding_device = device\n",
    "\n",
    "model, _ = clip.load(CLIP_MODEL_NAME, device=embedding_device)\n",
    "\n",
    "\n",
    "\n",
    "# Define class names and tokenize\n",
    "\n",
    "text_prompts = [f\"A photo of {name} or its part\" for name in class_names]\n",
    "\n",
    "text_tokens = clip.tokenize(text_prompts).to(embedding_device)\n",
    "\n",
    "\n",
    "\n",
    "# Compute text embeddings\n",
    "\n",
    "with torch.no_grad():\n",
    "\n",
    "    text_embeddings = model.encode_text(text_tokens)\n",
    "\n",
    "text_embeddings = text_embeddings / text_embeddings.norm(dim=-1, keepdim=True)  # Normalize for cosine similarity\n",
    "\n",
    "text_embeddings = text_embeddings.float()\n",
    "torch.save(text_embeddings,'text_embeddings.pt')"
   ]
  },
  {
   "cell_type": "code",
   "execution_count": 9,
   "id": "4ef48c14",
   "metadata": {
    "execution": {
     "iopub.execute_input": "2024-11-22T20:25:03.453423Z",
     "iopub.status.busy": "2024-11-22T20:25:03.452899Z",
     "iopub.status.idle": "2024-11-22T20:25:03.458199Z",
     "shell.execute_reply": "2024-11-22T20:25:03.457289Z"
    },
    "papermill": {
     "duration": 0.023869,
     "end_time": "2024-11-22T20:25:03.459974",
     "exception": false,
     "start_time": "2024-11-22T20:25:03.436105",
     "status": "completed"
    },
    "tags": []
   },
   "outputs": [
    {
     "data": {
      "text/plain": [
       "'text_embeddings = torch.load(\"/kaggle/input/text_embeddings/pytorch/default/1/text_embeddings.pt\", weights_only=True)'"
      ]
     },
     "execution_count": 9,
     "metadata": {},
     "output_type": "execute_result"
    }
   ],
   "source": [
    "\"\"\"text_embeddings = torch.load(\"/kaggle/input/text_embeddings/pytorch/default/1/text_embeddings.pt\", weights_only=True)\"\"\""
   ]
  },
  {
   "cell_type": "code",
   "execution_count": 10,
   "id": "d7d8594d",
   "metadata": {
    "execution": {
     "iopub.execute_input": "2024-11-22T20:25:03.492352Z",
     "iopub.status.busy": "2024-11-22T20:25:03.492107Z",
     "iopub.status.idle": "2024-11-22T20:25:03.497274Z",
     "shell.execute_reply": "2024-11-22T20:25:03.496384Z"
    },
    "papermill": {
     "duration": 0.026402,
     "end_time": "2024-11-22T20:25:03.500093",
     "exception": false,
     "start_time": "2024-11-22T20:25:03.473691",
     "status": "completed"
    },
    "tags": []
   },
   "outputs": [],
   "source": [
    "class_name_to_idx = {name: idx for idx, name in enumerate(class_names)}\n",
    "\n",
    "idx_to_class_name = {idx: class_name for class_name, idx in class_name_to_idx.items()}"
   ]
  },
  {
   "cell_type": "code",
   "execution_count": 11,
   "id": "293b4f15",
   "metadata": {
    "execution": {
     "iopub.execute_input": "2024-11-22T20:25:03.544778Z",
     "iopub.status.busy": "2024-11-22T20:25:03.543936Z",
     "iopub.status.idle": "2024-11-22T20:25:03.571508Z",
     "shell.execute_reply": "2024-11-22T20:25:03.570540Z"
    },
    "papermill": {
     "duration": 0.044134,
     "end_time": "2024-11-22T20:25:03.573334",
     "exception": false,
     "start_time": "2024-11-22T20:25:03.529200",
     "status": "completed"
    },
    "tags": []
   },
   "outputs": [
    {
     "name": "stderr",
     "output_type": "stream",
     "text": [
      "/opt/conda/lib/python3.10/site-packages/pydantic/main.py:212: UserWarning: blur_limit and sigma_limit minimum value can not be both equal to 0. blur_limit minimum value changed to 3.\n",
      "  validated_self = self.__pydantic_validator__.validate_python(data, self_instance=self)\n"
     ]
    }
   ],
   "source": [
    "transforms_train = A.Compose([\n",
    "\n",
    "    A.RandomBrightnessContrast(brightness_limit=(-0.2, 0.2), contrast_limit=(-0.2, 0.2), p=AUG_PROB),\n",
    "\n",
    "    A.OneOf([\n",
    "\n",
    "        A.MotionBlur(blur_limit=5),\n",
    "\n",
    "        A.MedianBlur(blur_limit=5),\n",
    "\n",
    "        A.GaussianBlur(blur_limit=5),\n",
    "\n",
    "        A.GaussNoise(var_limit=(5.0, 30.0)),\n",
    "\n",
    "    ], p=AUG_PROB),\n",
    "\n",
    "\n",
    "\n",
    "    A.OneOf([\n",
    "\n",
    "        A.OpticalDistortion(distort_limit=1.0),\n",
    "\n",
    "        A.GridDistortion(num_steps=5, distort_limit=1.),\n",
    "\n",
    "        A.ElasticTransform(alpha=3),\n",
    "\n",
    "    ], p=AUG_PROB),\n",
    "\n",
    "\n",
    "\n",
    "    A.ShiftScaleRotate(shift_limit=0.1, scale_limit=0.1, rotate_limit=15, border_mode=0, p=AUG_PROB),\n",
    "\n",
    "    A.Resize(IMG_SIZE[0], IMG_SIZE[1]),\n",
    "\n",
    "    A.CoarseDropout(max_holes=8, max_height=32, max_width=32, min_holes=1, min_height=8, min_width=8, p=AUG_PROB),    \n",
    "\n",
    "    A.Normalize(mean=[0.48145466, 0.4578275, 0.40821073], \n",
    "\n",
    "                         std=[0.26862954, 0.26130258, 0.27577711])\n",
    "\n",
    "])\n",
    "\n",
    "\n",
    "\n",
    "transforms_val = A.Compose([\n",
    "\n",
    "    A.Resize(IMG_SIZE[0], IMG_SIZE[1]),\n",
    "\n",
    "    A.Normalize(mean=[0.48145466, 0.4578275, 0.40821073], \n",
    "\n",
    "                         std=[0.26862954, 0.26130258, 0.27577711])\n",
    "\n",
    "])"
   ]
  },
  {
   "cell_type": "code",
   "execution_count": 12,
   "id": "34b54c81",
   "metadata": {
    "execution": {
     "iopub.execute_input": "2024-11-22T20:25:03.619110Z",
     "iopub.status.busy": "2024-11-22T20:25:03.618851Z",
     "iopub.status.idle": "2024-11-22T20:25:03.625481Z",
     "shell.execute_reply": "2024-11-22T20:25:03.624594Z"
    },
    "papermill": {
     "duration": 0.029443,
     "end_time": "2024-11-22T20:25:03.627259",
     "exception": false,
     "start_time": "2024-11-22T20:25:03.597816",
     "status": "completed"
    },
    "tags": []
   },
   "outputs": [],
   "source": [
    "class GoogleLandmarksDataset(Dataset):\n",
    "\n",
    "    def __init__(self, df, class_name_to_idx, transform=None):\n",
    "\n",
    "        self.df = df\n",
    "\n",
    "        self.class_name_to_idx = class_name_to_idx  # Maps class name to index\n",
    "\n",
    "        self.transform = transform\n",
    "\n",
    "    \n",
    "\n",
    "    def __len__(self):\n",
    "\n",
    "        return len(self.df)\n",
    "\n",
    "\n",
    "\n",
    "    def __getitem__(self, idx):\n",
    "\n",
    "        t = self.df.iloc[idx]\n",
    "\n",
    "        class_name = t['landmark_name']\n",
    "\n",
    "        class_name_idx = self.class_name_to_idx[class_name]\n",
    "\n",
    "        \n",
    "\n",
    "        p = f'{t[\"image_path\"]}'\n",
    "\n",
    "        img = Image.open(p)\n",
    "\n",
    "        img = np.array(img)\n",
    "\n",
    "            \n",
    "\n",
    "        # Apply transformations if provided\n",
    "\n",
    "        if self.transform:\n",
    "\n",
    "            img = self.transform(image=np.array(img))['image']\n",
    "\n",
    "        \n",
    "\n",
    "        # Convert image to tensor if needed\n",
    "\n",
    "        if not isinstance(img, torch.Tensor):\n",
    "\n",
    "            img = torch.tensor(img.transpose(2, 0, 1), dtype=torch.float32)\n",
    "\n",
    "        \n",
    "\n",
    "        return img, class_name_idx\n"
   ]
  },
  {
   "cell_type": "code",
   "execution_count": 13,
   "id": "f7f43630",
   "metadata": {
    "execution": {
     "iopub.execute_input": "2024-11-22T20:25:03.661123Z",
     "iopub.status.busy": "2024-11-22T20:25:03.660743Z",
     "iopub.status.idle": "2024-11-22T20:25:03.672480Z",
     "shell.execute_reply": "2024-11-22T20:25:03.671668Z"
    },
    "papermill": {
     "duration": 0.032923,
     "end_time": "2024-11-22T20:25:03.674584",
     "exception": false,
     "start_time": "2024-11-22T20:25:03.641661",
     "status": "completed"
    },
    "tags": []
   },
   "outputs": [],
   "source": [
    "class CrossModalDistillationModel(nn.Module):\n",
    "    def __init__(self, teacher_model, student_model, text_embeddings, projection_dim=512):\n",
    "        super().__init__()\n",
    "        self.teacher = teacher_model\n",
    "        self.student = student_model\n",
    "        self.text_embeddings = text_embeddings  # Precomputed text embeddings from teacher\n",
    "\n",
    "        # Freeze teacher model parameters\n",
    "        for param in self.teacher.parameters():\n",
    "            param.requires_grad = False\n",
    "        \n",
    "        # Get the input features dimension for the student model\n",
    "        in_features = student_model.get_classifier().in_features\n",
    "\n",
    "        # Projection head for the student model\n",
    "        self.projection_head = nn.Sequential(\n",
    "            nn.Linear(in_features, 1024),\n",
    "            nn.ReLU(),\n",
    "            nn.Dropout(0.2),\n",
    "            nn.Linear(1024, projection_dim),\n",
    "            nn.BatchNorm1d(projection_dim)  # BatchNorm for stability\n",
    "        )\n",
    "        \n",
    "        # Classification head for the student model\n",
    "        self.classifier = nn.Linear(in_features, student_model.get_classifier().out_features)\n",
    "        \n",
    "        # Temperature parameter for distillation\n",
    "        self.temperature = nn.Parameter(torch.ones([]) * np.log(1 / 0.07))\n",
    "\n",
    "    def forward(self, images, return_features=True):\n",
    "        batch_size = images.size(0)\n",
    "        \n",
    "        # Forward pass through the teacher model\n",
    "        with torch.no_grad():\n",
    "            teacher_logits, teacher_features = self.teacher(images)  # Directly compute similarity scores\n",
    "            teacher_logits = teacher_logits * self.temperature.exp()\n",
    "\n",
    "        # Forward pass through the student model\n",
    "        student_features = self.student.forward_features(images)  # Extract features\n",
    "        student_features = F.adaptive_avg_pool2d(student_features, (1, 1))\n",
    "        student_features = student_features.view(batch_size, -1)\n",
    "\n",
    "        # Project student features to the teacher's feature space\n",
    "        student_projected = self.projection_head(student_features)\n",
    "        student_projected = F.normalize(student_projected, dim=-1)\n",
    "\n",
    "        # Compute classification logits for the student\n",
    "        student_logits = self.classifier(student_features)\n",
    "\n",
    "        # Return a dictionary of logits and features if required\n",
    "        if return_features:\n",
    "            return {\n",
    "                'teacher_logits': teacher_logits,\n",
    "                'student_logits': student_logits,\n",
    "                'teacher_features': teacher_features,  # Teacher features are not explicitly exposed here\n",
    "                'student_projected': student_projected,\n",
    "                'student_features': student_features\n",
    "            }\n",
    "\n",
    "        return student_logits"
   ]
  },
  {
   "cell_type": "code",
   "execution_count": 14,
   "id": "0fc02d3c",
   "metadata": {
    "execution": {
     "iopub.execute_input": "2024-11-22T20:25:03.714118Z",
     "iopub.status.busy": "2024-11-22T20:25:03.713359Z",
     "iopub.status.idle": "2024-11-22T20:25:03.720162Z",
     "shell.execute_reply": "2024-11-22T20:25:03.719288Z"
    },
    "papermill": {
     "duration": 0.02626,
     "end_time": "2024-11-22T20:25:03.721895",
     "exception": false,
     "start_time": "2024-11-22T20:25:03.695635",
     "status": "completed"
    },
    "tags": []
   },
   "outputs": [],
   "source": [
    "class GoogleLandmarksModel(nn.Module):\n",
    "    def __init__(self, text_embeddings, model_name=CLIP_MODEL_NAME, device=device):\n",
    "        super(GoogleLandmarksModel, self).__init__()\n",
    "        # Load the CLIP model\n",
    "        self.model, _ = clip.load(model_name, device=device)\n",
    "        \n",
    "        # Store the precomputed text embeddings\n",
    "        self.text_embeddings = text_embeddings\n",
    "        self.text_embeddings.requires_grad = False\n",
    "        \n",
    "        # Freeze the text encoder to save memory and computation\n",
    "        for param in self.model.transformer.parameters():\n",
    "            param.requires_grad = False\n",
    "\n",
    "    def forward(self, images):\n",
    "        # Compute image embeddings\n",
    "        image_embeddings = self.model.encode_image(images)\n",
    "        \n",
    "        # Normalize image embeddings without in-place operation\n",
    "        image_embeddings = image_embeddings / image_embeddings.norm(dim=-1, keepdim=True)\n",
    "        \n",
    "        # Check and match data types for mixed precision\n",
    "        if image_embeddings.dtype != self.text_embeddings.dtype:\n",
    "            text_embeddings = self.text_embeddings.to(image_embeddings.dtype)\n",
    "        else:\n",
    "            text_embeddings = self.text_embeddings\n",
    "        \n",
    "        # Compute cosine similarity with text embeddings\n",
    "        similarity = image_embeddings @ self.text_embeddings.T\n",
    "        return similarity, image_embeddings  # Similarity scores for each class"
   ]
  },
  {
   "cell_type": "code",
   "execution_count": 15,
   "id": "6a59e840",
   "metadata": {
    "execution": {
     "iopub.execute_input": "2024-11-22T20:25:03.749589Z",
     "iopub.status.busy": "2024-11-22T20:25:03.749319Z",
     "iopub.status.idle": "2024-11-22T20:25:03.753732Z",
     "shell.execute_reply": "2024-11-22T20:25:03.753021Z"
    },
    "papermill": {
     "duration": 0.019972,
     "end_time": "2024-11-22T20:25:03.755246",
     "exception": false,
     "start_time": "2024-11-22T20:25:03.735274",
     "status": "completed"
    },
    "tags": []
   },
   "outputs": [],
   "source": [
    "class Config:\n",
    "\n",
    "    def __init__(self):\n",
    "\n",
    "        self.alpha = 0.5\n",
    "\n",
    "        self.beta = 0.1\n",
    "\n",
    "        self.gamma = 0.3\n",
    "\n",
    "        self.temperature = 2.0\n",
    "\n",
    "        self.device = device\n",
    "\n",
    "        self.batch_size = BATCH_SIZE\n",
    "\n",
    "        self.n_workers = N_WORKERS\n",
    "\n",
    "        self.max_grad_norm = MAX_GRAD_NORM\n",
    "\n",
    "        self.log_interval = 100\n",
    "\n",
    "        self.use_amp = False\n",
    "\n",
    "        self.use_wandb = False  # Set to True if using wandb\n",
    "\n",
    "        self.warmup_steps = 100\n",
    "\n",
    "        self.gradient_accumulation_steps = 1"
   ]
  },
  {
   "cell_type": "code",
   "execution_count": 16,
   "id": "94934419",
   "metadata": {
    "execution": {
     "iopub.execute_input": "2024-11-22T20:25:03.782912Z",
     "iopub.status.busy": "2024-11-22T20:25:03.782676Z",
     "iopub.status.idle": "2024-11-22T20:25:03.791404Z",
     "shell.execute_reply": "2024-11-22T20:25:03.790731Z"
    },
    "papermill": {
     "duration": 0.024536,
     "end_time": "2024-11-22T20:25:03.792947",
     "exception": false,
     "start_time": "2024-11-22T20:25:03.768411",
     "status": "completed"
    },
    "tags": []
   },
   "outputs": [],
   "source": [
    "\n",
    "\n",
    "class EnhancedDistillationLoss(nn.Module):\n",
    "\n",
    "    def __init__(self, config):\n",
    "\n",
    "        super().__init__()\n",
    "\n",
    "        self.alpha = config.alpha  # KD loss weight\n",
    "\n",
    "        self.beta = config.beta    # Feature alignment weight\n",
    "\n",
    "        self.gamma = config.gamma  # CE loss weight\n",
    "\n",
    "        self.T = config.temperature\n",
    "\n",
    "        self.contrastive_weight = 0.1  # Weight for contrastive loss\n",
    "\n",
    "        \n",
    "\n",
    "    def contrastive_loss(self, features, labels):\n",
    "\n",
    "        # Implement contrastive loss between positive pairs\n",
    "\n",
    "        similarity = torch.matmul(features, features.t())\n",
    "\n",
    "        mask = (labels.unsqueeze(0) == labels.unsqueeze(1)).float()\n",
    "\n",
    "        \n",
    "\n",
    "        # Temperature-scaled similarities\n",
    "\n",
    "        similarity = similarity / self.T\n",
    "\n",
    "        \n",
    "\n",
    "        # Positive and negative pairs\n",
    "\n",
    "        exp_sim = torch.exp(similarity)\n",
    "\n",
    "        pos_sim = exp_sim * mask\n",
    "\n",
    "        neg_sim = exp_sim * (1 - mask)\n",
    "\n",
    "        \n",
    "\n",
    "        loss = -torch.log(\n",
    "\n",
    "            pos_sim.sum(1) / (pos_sim.sum(1) + neg_sim.sum(1))\n",
    "\n",
    "        ).mean()\n",
    "\n",
    "        \n",
    "\n",
    "        return loss\n",
    "\n",
    "\n",
    "\n",
    "    def forward(self, outputs, labels):\n",
    "\n",
    "        teacher_logits = outputs['teacher_logits'].float()\n",
    "\n",
    "        student_logits = outputs['student_logits'].float()\n",
    "\n",
    "        teacher_features = outputs['teacher_features'].float()\n",
    "\n",
    "        student_projected = outputs['student_projected'].float()\n",
    "\n",
    "        \n",
    "\n",
    "        # 1. Knowledge Distillation Loss\n",
    "\n",
    "        kd_loss = F.kl_div(\n",
    "\n",
    "            F.log_softmax(student_logits / self.T, dim=1),\n",
    "\n",
    "            F.softmax(teacher_logits / self.T, dim=1),\n",
    "\n",
    "            reduction=\"batchmean\"\n",
    "\n",
    "        ) * (self.T ** 2)\n",
    "\n",
    "        \n",
    "\n",
    "        # 2. Feature Alignment Loss\n",
    "\n",
    "        feature_loss = F.mse_loss(student_projected, teacher_features)\n",
    "\n",
    "        \n",
    "\n",
    "        # 3. Cross Entropy Loss\n",
    "\n",
    "        ce_loss = F.cross_entropy(student_logits, labels)\n",
    "\n",
    "        \n",
    "\n",
    "        # 4. Contrastive Loss\n",
    "\n",
    "        cont_loss = self.contrastive_loss(student_projected, labels)\n",
    "\n",
    "\n",
    "        #5 Teacher Loss\n",
    "        teacher_loss = F.cross_entropy(teacher_logits, labels)\n",
    "        \n",
    "\n",
    "        total_loss = (\n",
    "\n",
    "            self.alpha * kd_loss +\n",
    "\n",
    "            self.beta * feature_loss +\n",
    "\n",
    "            self.gamma * ce_loss +\n",
    "\n",
    "            self.contrastive_weight * cont_loss\n",
    "\n",
    "        )\n",
    "\n",
    "        \n",
    "\n",
    "        return total_loss, {\n",
    "\n",
    "            'kd_loss': kd_loss.item(),\n",
    "\n",
    "            'feature_loss': feature_loss.item(),\n",
    "\n",
    "            'ce_loss': ce_loss.item(),\n",
    "\n",
    "            'cont_loss': cont_loss.item(),\n",
    "            \n",
    "            'teacher_loss': teacher_loss.item()\n",
    "\n",
    "        }"
   ]
  },
  {
   "cell_type": "code",
   "execution_count": 17,
   "id": "6c54d489",
   "metadata": {
    "execution": {
     "iopub.execute_input": "2024-11-22T20:25:03.821083Z",
     "iopub.status.busy": "2024-11-22T20:25:03.820871Z",
     "iopub.status.idle": "2024-11-22T20:25:03.828657Z",
     "shell.execute_reply": "2024-11-22T20:25:03.827987Z"
    },
    "papermill": {
     "duration": 0.023651,
     "end_time": "2024-11-22T20:25:03.830150",
     "exception": false,
     "start_time": "2024-11-22T20:25:03.806499",
     "status": "completed"
    },
    "tags": []
   },
   "outputs": [],
   "source": [
    "def train_epoch(model, train_loader, criterion, optimizer, config, scheduler=None):\n",
    "\n",
    "    model.train()\n",
    "\n",
    "    total_loss = 0\n",
    "\n",
    "    metrics = defaultdict(float)  # Tracks additional metrics\n",
    "\n",
    "    scaler = GradScaler() if config.use_amp else None\n",
    "\n",
    "    \n",
    "\n",
    "    pbar = tqdm(train_loader, desc='Training', leave =True)\n",
    "\n",
    "    \n",
    "\n",
    "    for batch_idx, (images, labels) in enumerate(pbar):\n",
    "\n",
    "        images, labels = images.to(config.device), labels.to(config.device)\n",
    "\n",
    "        \n",
    "\n",
    "        # Mixed precision training\n",
    "\n",
    "        if config.use_amp:\n",
    "\n",
    "            with autocast():\n",
    "\n",
    "                outputs = model(images, return_features=True)\n",
    "\n",
    "                loss, batch_metrics = criterion(outputs, labels)\n",
    "                print(batch_metrics)\n",
    "\n",
    "            scaler.scale(loss).backward()\n",
    "\n",
    "            \n",
    "\n",
    "            if config.max_grad_norm:\n",
    "\n",
    "                scaler.unscale_(optimizer)\n",
    "\n",
    "                torch.nn.utils.clip_grad_norm_(model.parameters(), config.max_grad_norm)\n",
    "\n",
    "            \n",
    "\n",
    "            scaler.step(optimizer)\n",
    "\n",
    "            scaler.update()\n",
    "\n",
    "        else:\n",
    "\n",
    "            outputs = model(images, return_features=True)\n",
    "            loss, batch_metrics = criterion(outputs, labels)\n",
    "\n",
    "            loss.backward()\n",
    "\n",
    "            \n",
    "\n",
    "            if config.max_grad_norm:\n",
    "\n",
    "                torch.nn.utils.clip_grad_norm_(model.parameters(), config.max_grad_norm)\n",
    "\n",
    "            \n",
    "\n",
    "            optimizer.step()\n",
    "\n",
    "        \n",
    "\n",
    "        optimizer.zero_grad()\n",
    "\n",
    "        if scheduler:\n",
    "\n",
    "            scheduler.step()\n",
    "\n",
    "        \n",
    "\n",
    "        # Update loss and metrics\n",
    "\n",
    "        total_loss += loss.item()\n",
    "\n",
    "        for k, v in batch_metrics.items():\n",
    "\n",
    "            metrics[k] += v\n",
    "\n",
    "        \n",
    "\n",
    "        # Update progress bar with detailed information\n",
    "\n",
    "        pbar.set_postfix({\n",
    "\n",
    "            'loss': f'{loss.item():.4f}',\n",
    "\n",
    "            'avg_loss': f'{total_loss / (batch_idx + 1):.4f}',\n",
    "\n",
    "            'lr': scheduler.get_last_lr()[0] if scheduler else optimizer.param_groups[0]['lr']\n",
    "\n",
    "        })\n",
    "\n",
    "    \n",
    "\n",
    "    # Normalize metrics over all batches\n",
    "\n",
    "    metrics = {k: v / len(train_loader) for k, v in metrics.items()}\n",
    "\n",
    "    return total_loss / len(train_loader), metrics"
   ]
  },
  {
   "cell_type": "code",
   "execution_count": 18,
   "id": "45741965",
   "metadata": {
    "execution": {
     "iopub.execute_input": "2024-11-22T20:25:03.858043Z",
     "iopub.status.busy": "2024-11-22T20:25:03.857812Z",
     "iopub.status.idle": "2024-11-22T20:25:03.862015Z",
     "shell.execute_reply": "2024-11-22T20:25:03.861328Z"
    },
    "papermill": {
     "duration": 0.019558,
     "end_time": "2024-11-22T20:25:03.863478",
     "exception": false,
     "start_time": "2024-11-22T20:25:03.843920",
     "status": "completed"
    },
    "tags": []
   },
   "outputs": [],
   "source": [
    "def compute_topk_accuracy(outputs, labels, k):\n",
    "\n",
    "    \"\"\"\n",
    "\n",
    "    Computes the top-k accuracy for the given outputs and labels.\n",
    "\n",
    "    \n",
    "\n",
    "    Args:\n",
    "\n",
    "        outputs (torch.Tensor or dict): Model outputs, expected as a tensor.\n",
    "\n",
    "        labels (torch.Tensor): Ground truth labels.\n",
    "\n",
    "        k (int): The 'k' in top-k accuracy.\n",
    "\n",
    "    \n",
    "\n",
    "    Returns:\n",
    "\n",
    "        float: Top-k accuracy as a percentage.\n",
    "\n",
    "    \"\"\"\n",
    "\n",
    "\n",
    "    outputs = outputs['student_logits']  # Update the key to match your dictionary structure\n",
    "\n",
    "    \n",
    "\n",
    "    _, top_k_preds = outputs.topk(k, dim=1)\n",
    "\n",
    "    top_k_correct = top_k_preds.eq(labels.view(-1, 1).expand_as(top_k_preds))\n",
    "\n",
    "    return top_k_correct.any(dim=1).float().mean().item()"
   ]
  },
  {
   "cell_type": "code",
   "execution_count": 19,
   "id": "d7874110",
   "metadata": {
    "execution": {
     "iopub.execute_input": "2024-11-22T20:25:03.890959Z",
     "iopub.status.busy": "2024-11-22T20:25:03.890724Z",
     "iopub.status.idle": "2024-11-22T20:25:03.912805Z",
     "shell.execute_reply": "2024-11-22T20:25:03.911872Z"
    },
    "papermill": {
     "duration": 0.0377,
     "end_time": "2024-11-22T20:25:03.914468",
     "exception": false,
     "start_time": "2024-11-22T20:25:03.876768",
     "status": "completed"
    },
    "tags": []
   },
   "outputs": [
    {
     "name": "stdout",
     "output_type": "stream",
     "text": [
      "Top-1 Accuracy: 25.00%\n",
      "Top-3 Accuracy: 62.50%\n"
     ]
    }
   ],
   "source": [
    "def test_compute_topk_accuracy():\n",
    "    # Create synthetic outputs (logits)\n",
    "    batch_size = 8\n",
    "    num_classes = 5\n",
    "    outputs = {'student_logits': torch.randn(batch_size, num_classes)}\n",
    "\n",
    "    # Create synthetic labels\n",
    "    labels = torch.randint(0, num_classes, (batch_size,))\n",
    "\n",
    "    # Test the function for k = 1 and k = 3\n",
    "    for k in [1, 3]:\n",
    "        top_k_accuracy = compute_topk_accuracy(outputs, labels, k)\n",
    "        print(f\"Top-{k} Accuracy: {top_k_accuracy * 100:.2f}%\")\n",
    "\n",
    "# Run the test\n",
    "test_compute_topk_accuracy()"
   ]
  },
  {
   "cell_type": "code",
   "execution_count": 20,
   "id": "2026f9c6",
   "metadata": {
    "execution": {
     "iopub.execute_input": "2024-11-22T20:25:03.942999Z",
     "iopub.status.busy": "2024-11-22T20:25:03.942770Z",
     "iopub.status.idle": "2024-11-22T20:25:03.949018Z",
     "shell.execute_reply": "2024-11-22T20:25:03.948308Z"
    },
    "papermill": {
     "duration": 0.022236,
     "end_time": "2024-11-22T20:25:03.950504",
     "exception": false,
     "start_time": "2024-11-22T20:25:03.928268",
     "status": "completed"
    },
    "tags": []
   },
   "outputs": [],
   "source": [
    "def validate_epoch(model, val_loader, criterion, config):\n",
    "\n",
    "    model.eval()\n",
    "\n",
    "    total_loss = 0\n",
    "\n",
    "    metrics = defaultdict(float)\n",
    "\n",
    "    \n",
    "\n",
    "    pbar = tqdm(val_loader, desc='Validating')\n",
    "\n",
    "    \n",
    "\n",
    "    with torch.no_grad():  # Disable gradient computation\n",
    "\n",
    "        for batch_idx, (images, labels) in enumerate(pbar):\n",
    "\n",
    "            images, labels = images.to(config.device), labels.to(config.device)\n",
    "\n",
    "            \n",
    "\n",
    "            # Forward pass\n",
    "\n",
    "            outputs = model(images, return_features=True)\n",
    "\n",
    "            loss, batch_metrics = criterion(outputs, labels)\n",
    "\n",
    "            print(batch_metrics)\n",
    "\n",
    "            # Accumulate loss and metrics\n",
    "\n",
    "            total_loss += loss.item()\n",
    "\n",
    "            metrics['top1_acc'] += compute_topk_accuracy(outputs, labels, 1)\n",
    "\n",
    "            metrics['top5_acc'] += compute_topk_accuracy(outputs, labels, 5)\n",
    "\n",
    "            metrics['top10_acc'] += compute_topk_accuracy(outputs, labels, 10)\n",
    "\n",
    "            \n",
    "\n",
    "            # Update progress bar\n",
    "\n",
    "            pbar.set_postfix({\n",
    "\n",
    "                'loss': f'{loss.item():.4f}',\n",
    "\n",
    "                'avg_loss': f'{total_loss / (batch_idx + 1):.4f}'\n",
    "\n",
    "            })\n",
    "\n",
    "    \n",
    "\n",
    "    # Normalize metrics over all batches\n",
    "\n",
    "    metrics = {k: v / len(val_loader) for k, v in metrics.items()}\n",
    "\n",
    "    return total_loss / len(val_loader), metrics"
   ]
  },
  {
   "cell_type": "code",
   "execution_count": 21,
   "id": "0437b8f3",
   "metadata": {
    "execution": {
     "iopub.execute_input": "2024-11-22T20:25:03.978202Z",
     "iopub.status.busy": "2024-11-22T20:25:03.977978Z",
     "iopub.status.idle": "2024-11-22T20:25:03.981227Z",
     "shell.execute_reply": "2024-11-22T20:25:03.980568Z"
    },
    "papermill": {
     "duration": 0.018747,
     "end_time": "2024-11-22T20:25:03.982803",
     "exception": false,
     "start_time": "2024-11-22T20:25:03.964056",
     "status": "completed"
    },
    "tags": []
   },
   "outputs": [],
   "source": [
    "from collections import defaultdict"
   ]
  },
  {
   "cell_type": "code",
   "execution_count": 22,
   "id": "5348b51f",
   "metadata": {
    "execution": {
     "iopub.execute_input": "2024-11-22T20:25:04.011126Z",
     "iopub.status.busy": "2024-11-22T20:25:04.010916Z",
     "iopub.status.idle": "2024-11-22T20:25:04.014815Z",
     "shell.execute_reply": "2024-11-22T20:25:04.014211Z"
    },
    "papermill": {
     "duration": 0.019736,
     "end_time": "2024-11-22T20:25:04.016286",
     "exception": false,
     "start_time": "2024-11-22T20:25:03.996550",
     "status": "completed"
    },
    "tags": []
   },
   "outputs": [],
   "source": [
    "train_ds = GoogleLandmarksDataset(train_df, class_name_to_idx=class_name_to_idx, transform=transforms_train)\n",
    "train_dl = DataLoader(\n",
    "    train_ds,\n",
    "    batch_size=BATCH_SIZE,\n",
    "    shuffle=True,\n",
    "    pin_memory=True,\n",
    "    drop_last=True,\n",
    "    num_workers=N_WORKERS\n",
    ")"
   ]
  },
  {
   "cell_type": "code",
   "execution_count": 23,
   "id": "6536ec16",
   "metadata": {
    "execution": {
     "iopub.execute_input": "2024-11-22T20:25:04.044403Z",
     "iopub.status.busy": "2024-11-22T20:25:04.044170Z",
     "iopub.status.idle": "2024-11-22T22:06:38.585985Z",
     "shell.execute_reply": "2024-11-22T22:06:38.584806Z"
    },
    "papermill": {
     "duration": 6094.558436,
     "end_time": "2024-11-22T22:06:38.588171",
     "exception": false,
     "start_time": "2024-11-22T20:25:04.029735",
     "status": "completed"
    },
    "tags": []
   },
   "outputs": [
    {
     "data": {
      "application/vnd.jupyter.widget-view+json": {
       "model_id": "c5ddd36266a545b78f15b8d7bdfabd56",
       "version_major": 2,
       "version_minor": 0
      },
      "text/plain": [
       "model.safetensors:   0%|          | 0.00/46.8M [00:00<?, ?B/s]"
      ]
     },
     "metadata": {},
     "output_type": "display_data"
    },
    {
     "name": "stdout",
     "output_type": "stream",
     "text": [
      "##############################\n",
      "Starting Fold 0\n",
      "##############################\n"
     ]
    },
    {
     "name": "stderr",
     "output_type": "stream",
     "text": [
      "Training: 100%|██████████| 1875/1875 [17:08<00:00,  1.82it/s, loss=3.9548, avg_loss=3.8236, lr=9.67e-5]\n",
      "Validating:   0%|          | 1/235 [00:03<14:23,  3.69s/it, loss=3.2416, avg_loss=3.2416]"
     ]
    },
    {
     "name": "stdout",
     "output_type": "stream",
     "text": [
      "{'kd_loss': 1.4109857082366943, 'feature_loss': 0.003273746930062771, 'ce_loss': 7.968980312347412, 'cont_loss': 1.4509462118148804, 'teacher_loss': 4.981534481048584}\n"
     ]
    },
    {
     "name": "stderr",
     "output_type": "stream",
     "text": [
      "Validating:   1%|          | 2/235 [00:04<07:49,  2.02s/it, loss=3.4197, avg_loss=3.3306]"
     ]
    },
    {
     "name": "stdout",
     "output_type": "stream",
     "text": [
      "{'kd_loss': 1.642335295677185, 'feature_loss': 0.003296623006463051, 'ce_loss': 8.15693473815918, 'cont_loss': 1.510964274406433, 'teacher_loss': 4.675761699676514}\n"
     ]
    },
    {
     "name": "stderr",
     "output_type": "stream",
     "text": [
      "Validating:   1%|▏         | 3/235 [00:05<05:36,  1.45s/it, loss=3.5326, avg_loss=3.3979]"
     ]
    },
    {
     "name": "stdout",
     "output_type": "stream",
     "text": [
      "{'kd_loss': 1.8484899997711182, 'feature_loss': 0.0034182542003691196, 'ce_loss': 8.195290565490723, 'cont_loss': 1.4937947988510132, 'teacher_loss': 4.814549922943115}\n"
     ]
    },
    {
     "name": "stderr",
     "output_type": "stream",
     "text": [
      "Validating:   2%|▏         | 4/235 [00:06<04:33,  1.18s/it, loss=3.6366, avg_loss=3.4576]"
     ]
    },
    {
     "name": "stdout",
     "output_type": "stream",
     "text": [
      "{'kd_loss': 2.08366060256958, 'feature_loss': 0.0031908429227769375, 'ce_loss': 8.160795211791992, 'cont_loss': 1.4621694087982178, 'teacher_loss': 4.728471755981445}\n"
     ]
    },
    {
     "name": "stderr",
     "output_type": "stream",
     "text": [
      "Validating:   2%|▏         | 5/235 [00:06<03:58,  1.04s/it, loss=3.8579, avg_loss=3.5377]"
     ]
    },
    {
     "name": "stdout",
     "output_type": "stream",
     "text": [
      "{'kd_loss': 2.7544069290161133, 'feature_loss': 0.0030381367541849613, 'ce_loss': 7.789819717407227, 'cont_loss': 1.4348070621490479, 'teacher_loss': 6.33784294128418}\n"
     ]
    },
    {
     "name": "stderr",
     "output_type": "stream",
     "text": [
      "Validating:   3%|▎         | 6/235 [00:07<03:37,  1.05it/s, loss=3.0304, avg_loss=3.4531]"
     ]
    },
    {
     "name": "stdout",
     "output_type": "stream",
     "text": [
      "{'kd_loss': 0.9452742338180542, 'feature_loss': 0.0035039435606449842, 'ce_loss': 8.026951789855957, 'cont_loss': 1.4931302070617676, 'teacher_loss': 3.0937247276306152}\n"
     ]
    },
    {
     "name": "stderr",
     "output_type": "stream",
     "text": [
      "Validating:   3%|▎         | 7/235 [00:08<03:23,  1.12it/s, loss=3.4330, avg_loss=3.4503]"
     ]
    },
    {
     "name": "stdout",
     "output_type": "stream",
     "text": [
      "{'kd_loss': 1.8675850629806519, 'feature_loss': 0.0032121315598487854, 'ce_loss': 7.839624881744385, 'cont_loss': 1.4701011180877686, 'teacher_loss': 4.9929890632629395}\n"
     ]
    },
    {
     "name": "stderr",
     "output_type": "stream",
     "text": [
      "Validating:   3%|▎         | 8/235 [00:09<03:16,  1.15it/s, loss=3.9169, avg_loss=3.5086]"
     ]
    },
    {
     "name": "stdout",
     "output_type": "stream",
     "text": [
      "{'kd_loss': 2.747939348220825, 'feature_loss': 0.0031275644432753325, 'ce_loss': 7.98842191696167, 'cont_loss': 1.4613723754882812, 'teacher_loss': 4.609265327453613}\n"
     ]
    },
    {
     "name": "stderr",
     "output_type": "stream",
     "text": [
      "Validating:   4%|▍         | 9/235 [00:10<03:09,  1.19it/s, loss=4.5347, avg_loss=3.6226]"
     ]
    },
    {
     "name": "stdout",
     "output_type": "stream",
     "text": [
      "{'kd_loss': 3.980982542037964, 'feature_loss': 0.0029019201174378395, 'ce_loss': 7.985354423522949, 'cont_loss': 1.4829638004302979, 'teacher_loss': 5.6236348152160645}\n"
     ]
    },
    {
     "name": "stderr",
     "output_type": "stream",
     "text": [
      "Validating:   4%|▍         | 10/235 [00:10<03:04,  1.22it/s, loss=3.9890, avg_loss=3.6592]"
     ]
    },
    {
     "name": "stdout",
     "output_type": "stream",
     "text": [
      "{'kd_loss': 2.9996843338012695, 'feature_loss': 0.003107200376689434, 'ce_loss': 7.797895908355713, 'cont_loss': 1.4952154159545898, 'teacher_loss': 5.484236240386963}\n"
     ]
    },
    {
     "name": "stderr",
     "output_type": "stream",
     "text": [
      "Validating:   5%|▍         | 11/235 [00:11<03:01,  1.24it/s, loss=3.2152, avg_loss=3.6189]"
     ]
    },
    {
     "name": "stdout",
     "output_type": "stream",
     "text": [
      "{'kd_loss': 1.3047308921813965, 'feature_loss': 0.0032332250848412514, 'ce_loss': 8.051283836364746, 'cont_loss': 1.4710237979888916, 'teacher_loss': 3.827885389328003}\n"
     ]
    },
    {
     "name": "stderr",
     "output_type": "stream",
     "text": [
      "Validating:   5%|▌         | 12/235 [00:12<02:58,  1.25it/s, loss=4.0132, avg_loss=3.6517]"
     ]
    },
    {
     "name": "stdout",
     "output_type": "stream",
     "text": [
      "{'kd_loss': 2.7448599338531494, 'feature_loss': 0.0031628934666514397, 'ce_loss': 8.316192626953125, 'cont_loss': 1.4557960033416748, 'teacher_loss': 4.249957084655762}\n"
     ]
    },
    {
     "name": "stderr",
     "output_type": "stream",
     "text": [
      "Validating:   6%|▌         | 13/235 [00:13<02:56,  1.26it/s, loss=3.5039, avg_loss=3.6404]"
     ]
    },
    {
     "name": "stdout",
     "output_type": "stream",
     "text": [
      "{'kd_loss': 1.8502508401870728, 'feature_loss': 0.0032278550788760185, 'ce_loss': 8.109742164611816, 'cont_loss': 1.4551193714141846, 'teacher_loss': 4.092934608459473}\n"
     ]
    },
    {
     "name": "stderr",
     "output_type": "stream",
     "text": [
      "Validating:   6%|▌         | 14/235 [00:13<02:55,  1.26it/s, loss=3.2512, avg_loss=3.6126]"
     ]
    },
    {
     "name": "stdout",
     "output_type": "stream",
     "text": [
      "{'kd_loss': 1.3640834093093872, 'feature_loss': 0.003497839206829667, 'ce_loss': 8.056509017944336, 'cont_loss': 1.5181634426116943, 'teacher_loss': 3.8244376182556152}\n"
     ]
    },
    {
     "name": "stderr",
     "output_type": "stream",
     "text": [
      "Validating:   6%|▋         | 15/235 [00:14<02:54,  1.26it/s, loss=3.9405, avg_loss=3.6344]"
     ]
    },
    {
     "name": "stdout",
     "output_type": "stream",
     "text": [
      "{'kd_loss': 2.900378704071045, 'feature_loss': 0.0032341363839805126, 'ce_loss': 7.820228576660156, 'cont_loss': 1.4394015073776245, 'teacher_loss': 4.070000171661377}\n"
     ]
    },
    {
     "name": "stderr",
     "output_type": "stream",
     "text": [
      "Validating:   7%|▋         | 16/235 [00:15<02:53,  1.26it/s, loss=3.6017, avg_loss=3.6324]"
     ]
    },
    {
     "name": "stdout",
     "output_type": "stream",
     "text": [
      "{'kd_loss': 2.1914544105529785, 'feature_loss': 0.0033761959057301283, 'ce_loss': 7.861708164215088, 'cont_loss': 1.4707860946655273, 'teacher_loss': 5.299901008605957}\n"
     ]
    },
    {
     "name": "stderr",
     "output_type": "stream",
     "text": [
      "Validating:   7%|▋         | 17/235 [00:16<02:52,  1.26it/s, loss=3.4693, avg_loss=3.6228]"
     ]
    },
    {
     "name": "stdout",
     "output_type": "stream",
     "text": [
      "{'kd_loss': 1.7522008419036865, 'feature_loss': 0.0035150772891938686, 'ce_loss': 8.146950721740723, 'cont_loss': 1.488059639930725, 'teacher_loss': 4.557644844055176}\n"
     ]
    },
    {
     "name": "stderr",
     "output_type": "stream",
     "text": [
      "Validating:   8%|▊         | 18/235 [00:17<02:51,  1.27it/s, loss=3.8705, avg_loss=3.6366]"
     ]
    },
    {
     "name": "stdout",
     "output_type": "stream",
     "text": [
      "{'kd_loss': 2.625046491622925, 'feature_loss': 0.0032123681157827377, 'ce_loss': 8.028186798095703, 'cont_loss': 1.4923760890960693, 'teacher_loss': 3.5974316596984863}\n"
     ]
    },
    {
     "name": "stderr",
     "output_type": "stream",
     "text": [
      "Validating:   8%|▊         | 19/235 [00:17<02:50,  1.27it/s, loss=3.7065, avg_loss=3.6402]"
     ]
    },
    {
     "name": "stdout",
     "output_type": "stream",
     "text": [
      "{'kd_loss': 2.3768932819366455, 'feature_loss': 0.003123743925243616, 'ce_loss': 7.901808261871338, 'cont_loss': 1.4715311527252197, 'teacher_loss': 4.750061511993408}\n"
     ]
    },
    {
     "name": "stderr",
     "output_type": "stream",
     "text": [
      "Validating:   9%|▊         | 20/235 [00:18<02:49,  1.27it/s, loss=4.3668, avg_loss=3.6766]"
     ]
    },
    {
     "name": "stdout",
     "output_type": "stream",
     "text": [
      "{'kd_loss': 3.5158605575561523, 'feature_loss': 0.0030834409408271313, 'ce_loss': 8.202423095703125, 'cont_loss': 1.478147268295288, 'teacher_loss': 5.038679599761963}\n"
     ]
    },
    {
     "name": "stderr",
     "output_type": "stream",
     "text": [
      "Validating:   9%|▉         | 21/235 [00:19<02:48,  1.27it/s, loss=4.1644, avg_loss=3.6998]"
     ]
    },
    {
     "name": "stdout",
     "output_type": "stream",
     "text": [
      "{'kd_loss': 3.2104549407958984, 'feature_loss': 0.0030691956635564566, 'ce_loss': 8.026612281799316, 'cont_loss': 1.508675217628479, 'teacher_loss': 5.087056636810303}\n"
     ]
    },
    {
     "name": "stderr",
     "output_type": "stream",
     "text": [
      "Validating:   9%|▉         | 22/235 [00:20<02:48,  1.27it/s, loss=4.3424, avg_loss=3.7290]"
     ]
    },
    {
     "name": "stdout",
     "output_type": "stream",
     "text": [
      "{'kd_loss': 3.850353479385376, 'feature_loss': 0.003061426803469658, 'ce_loss': 7.554178714752197, 'cont_loss': 1.506706953048706, 'teacher_loss': 6.708573818206787}\n"
     ]
    },
    {
     "name": "stderr",
     "output_type": "stream",
     "text": [
      "Validating:  10%|▉         | 23/235 [00:21<02:47,  1.27it/s, loss=3.1815, avg_loss=3.7052]"
     ]
    },
    {
     "name": "stdout",
     "output_type": "stream",
     "text": [
      "{'kd_loss': 1.2423934936523438, 'feature_loss': 0.003333890112116933, 'ce_loss': 8.036118507385254, 'cont_loss': 1.4911563396453857, 'teacher_loss': 5.108189105987549}\n"
     ]
    },
    {
     "name": "stderr",
     "output_type": "stream",
     "text": [
      "Validating:  10%|█         | 24/235 [00:21<02:46,  1.27it/s, loss=3.5952, avg_loss=3.7006]"
     ]
    },
    {
     "name": "stdout",
     "output_type": "stream",
     "text": [
      "{'kd_loss': 2.133894920349121, 'feature_loss': 0.0032648593187332153, 'ce_loss': 7.940593719482422, 'cont_loss': 1.4579706192016602, 'teacher_loss': 4.0002217292785645}\n"
     ]
    },
    {
     "name": "stderr",
     "output_type": "stream",
     "text": [
      "Validating:  11%|█         | 25/235 [00:22<02:45,  1.27it/s, loss=3.5824, avg_loss=3.6959]"
     ]
    },
    {
     "name": "stdout",
     "output_type": "stream",
     "text": [
      "{'kd_loss': 2.0549798011779785, 'feature_loss': 0.0031889169476926327, 'ce_loss': 8.021307945251465, 'cont_loss': 1.4820606708526611, 'teacher_loss': 4.162752151489258}\n"
     ]
    },
    {
     "name": "stderr",
     "output_type": "stream",
     "text": [
      "Validating:  11%|█         | 26/235 [00:23<02:45,  1.27it/s, loss=3.0867, avg_loss=3.6725]"
     ]
    },
    {
     "name": "stdout",
     "output_type": "stream",
     "text": [
      "{'kd_loss': 1.0311791896820068, 'feature_loss': 0.0035108306910842657, 'ce_loss': 8.072798728942871, 'cont_loss': 1.4893852472305298, 'teacher_loss': 3.6510777473449707}\n"
     ]
    },
    {
     "name": "stderr",
     "output_type": "stream",
     "text": [
      "Validating:  11%|█▏        | 27/235 [00:24<02:44,  1.26it/s, loss=3.6131, avg_loss=3.6703]"
     ]
    },
    {
     "name": "stdout",
     "output_type": "stream",
     "text": [
      "{'kd_loss': 2.060871124267578, 'feature_loss': 0.0031616417691111565, 'ce_loss': 8.124039649963379, 'cont_loss': 1.4511234760284424, 'teacher_loss': 3.7094388008117676}\n"
     ]
    },
    {
     "name": "stderr",
     "output_type": "stream",
     "text": [
      "Validating:  12%|█▏        | 28/235 [00:24<02:44,  1.26it/s, loss=3.8048, avg_loss=3.6751]"
     ]
    },
    {
     "name": "stdout",
     "output_type": "stream",
     "text": [
      "{'kd_loss': 2.5018134117126465, 'feature_loss': 0.003290619933977723, 'ce_loss': 8.01535415649414, 'cont_loss': 1.4898381233215332, 'teacher_loss': 4.635777473449707}\n"
     ]
    },
    {
     "name": "stderr",
     "output_type": "stream",
     "text": [
      "Validating:  12%|█▏        | 29/235 [00:25<02:43,  1.26it/s, loss=3.7162, avg_loss=3.6765]"
     ]
    },
    {
     "name": "stdout",
     "output_type": "stream",
     "text": [
      "{'kd_loss': 2.4910473823547363, 'feature_loss': 0.0031314012594521046, 'ce_loss': 7.73724889755249, 'cont_loss': 1.4921658039093018, 'teacher_loss': 4.573619842529297}\n"
     ]
    },
    {
     "name": "stderr",
     "output_type": "stream",
     "text": [
      "Validating:  13%|█▎        | 30/235 [00:26<02:43,  1.26it/s, loss=3.9465, avg_loss=3.6855]"
     ]
    },
    {
     "name": "stdout",
     "output_type": "stream",
     "text": [
      "{'kd_loss': 2.903064489364624, 'feature_loss': 0.0033146259374916553, 'ce_loss': 7.845609664916992, 'cont_loss': 1.4098435640335083, 'teacher_loss': 2.492860794067383}\n"
     ]
    },
    {
     "name": "stderr",
     "output_type": "stream",
     "text": [
      "Validating:  13%|█▎        | 31/235 [00:27<02:42,  1.26it/s, loss=3.5588, avg_loss=3.6814]"
     ]
    },
    {
     "name": "stdout",
     "output_type": "stream",
     "text": [
      "{'kd_loss': 2.04784893989563, 'feature_loss': 0.003331233514472842, 'ce_loss': 7.966015338897705, 'cont_loss': 1.447234869003296, 'teacher_loss': 6.433771133422852}\n"
     ]
    },
    {
     "name": "stderr",
     "output_type": "stream",
     "text": [
      "Validating:  14%|█▎        | 32/235 [00:28<02:41,  1.25it/s, loss=3.9103, avg_loss=3.6885]"
     ]
    },
    {
     "name": "stdout",
     "output_type": "stream",
     "text": [
      "{'kd_loss': 2.7992465496063232, 'feature_loss': 0.003237334545701742, 'ce_loss': 7.871486663818359, 'cont_loss': 1.4889051914215088, 'teacher_loss': 5.875732898712158}\n"
     ]
    },
    {
     "name": "stderr",
     "output_type": "stream",
     "text": [
      "Validating:  14%|█▍        | 33/235 [00:28<02:40,  1.26it/s, loss=4.0697, avg_loss=3.7001]"
     ]
    },
    {
     "name": "stdout",
     "output_type": "stream",
     "text": [
      "{'kd_loss': 3.110313892364502, 'feature_loss': 0.0031937705352902412, 'ce_loss': 7.887953281402588, 'cont_loss': 1.4779455661773682, 'teacher_loss': 4.13813591003418}\n"
     ]
    },
    {
     "name": "stderr",
     "output_type": "stream",
     "text": [
      "Validating:  14%|█▍        | 34/235 [00:29<02:40,  1.25it/s, loss=3.2736, avg_loss=3.6876]"
     ]
    },
    {
     "name": "stdout",
     "output_type": "stream",
     "text": [
      "{'kd_loss': 1.4553077220916748, 'feature_loss': 0.0034211864694952965, 'ce_loss': 7.997272968292236, 'cont_loss': 1.4638060331344604, 'teacher_loss': 3.0222487449645996}\n"
     ]
    },
    {
     "name": "stderr",
     "output_type": "stream",
     "text": [
      "Validating:  15%|█▍        | 35/235 [00:30<02:39,  1.26it/s, loss=3.6525, avg_loss=3.6865]"
     ]
    },
    {
     "name": "stdout",
     "output_type": "stream",
     "text": [
      "{'kd_loss': 2.242924213409424, 'feature_loss': 0.0031650573946535587, 'ce_loss': 7.954338550567627, 'cont_loss': 1.444161295890808, 'teacher_loss': 3.589409351348877}\n"
     ]
    },
    {
     "name": "stderr",
     "output_type": "stream",
     "text": [
      "Validating:  15%|█▌        | 36/235 [00:31<02:38,  1.25it/s, loss=4.1369, avg_loss=3.6991]"
     ]
    },
    {
     "name": "stdout",
     "output_type": "stream",
     "text": [
      "{'kd_loss': 3.4609670639038086, 'feature_loss': 0.003019254421815276, 'ce_loss': 7.513494968414307, 'cont_loss': 1.5207602977752686, 'teacher_loss': 6.582167148590088}\n"
     ]
    },
    {
     "name": "stderr",
     "output_type": "stream",
     "text": [
      "Validating:  16%|█▌        | 37/235 [00:32<02:38,  1.25it/s, loss=4.4756, avg_loss=3.7200]"
     ]
    },
    {
     "name": "stdout",
     "output_type": "stream",
     "text": [
      "{'kd_loss': 3.8675832748413086, 'feature_loss': 0.0030615509022027254, 'ce_loss': 7.94771146774292, 'cont_loss': 1.5714770555496216, 'teacher_loss': 4.862951755523682}\n"
     ]
    },
    {
     "name": "stderr",
     "output_type": "stream",
     "text": [
      "Validating:  16%|█▌        | 38/235 [00:32<02:37,  1.25it/s, loss=3.4259, avg_loss=3.7123]"
     ]
    },
    {
     "name": "stdout",
     "output_type": "stream",
     "text": [
      "{'kd_loss': 1.720113754272461, 'feature_loss': 0.0033859251998364925, 'ce_loss': 8.038880348205566, 'cont_loss': 1.5387141704559326, 'teacher_loss': 3.2024993896484375}\n"
     ]
    },
    {
     "name": "stderr",
     "output_type": "stream",
     "text": [
      "Validating:  17%|█▋        | 39/235 [00:33<02:36,  1.26it/s, loss=4.2957, avg_loss=3.7273]"
     ]
    },
    {
     "name": "stdout",
     "output_type": "stream",
     "text": [
      "{'kd_loss': 3.5414035320281982, 'feature_loss': 0.003156662918627262, 'ce_loss': 7.910260200500488, 'cont_loss': 1.5162885189056396, 'teacher_loss': 5.43746280670166}\n"
     ]
    },
    {
     "name": "stderr",
     "output_type": "stream",
     "text": [
      "Validating:  17%|█▋        | 40/235 [00:34<02:35,  1.25it/s, loss=4.7914, avg_loss=3.7539]"
     ]
    },
    {
     "name": "stdout",
     "output_type": "stream",
     "text": [
      "{'kd_loss': 4.689410209655762, 'feature_loss': 0.002851155586540699, 'ce_loss': 7.597617149353027, 'cont_loss': 1.671506643295288, 'teacher_loss': 6.567722320556641}\n"
     ]
    },
    {
     "name": "stderr",
     "output_type": "stream",
     "text": [
      "Validating:  17%|█▋        | 41/235 [00:35<02:35,  1.25it/s, loss=3.4586, avg_loss=3.7467]"
     ]
    },
    {
     "name": "stdout",
     "output_type": "stream",
     "text": [
      "{'kd_loss': 1.8182909488677979, 'feature_loss': 0.0032440561335533857, 'ce_loss': 7.969208717346191, 'cont_loss': 1.5836963653564453, 'teacher_loss': 4.527296543121338}\n"
     ]
    },
    {
     "name": "stderr",
     "output_type": "stream",
     "text": [
      "Validating:  18%|█▊        | 42/235 [00:36<02:34,  1.25it/s, loss=3.7854, avg_loss=3.7476]"
     ]
    },
    {
     "name": "stdout",
     "output_type": "stream",
     "text": [
      "{'kd_loss': 2.5877573490142822, 'feature_loss': 0.003245315048843622, 'ce_loss': 7.784193515777588, 'cont_loss': 1.559579849243164, 'teacher_loss': 4.855796813964844}\n"
     ]
    },
    {
     "name": "stderr",
     "output_type": "stream",
     "text": [
      "Validating:  18%|█▊        | 43/235 [00:36<02:33,  1.25it/s, loss=3.1129, avg_loss=3.7328]"
     ]
    },
    {
     "name": "stdout",
     "output_type": "stream",
     "text": [
      "{'kd_loss': 1.1009225845336914, 'feature_loss': 0.0036375154741108418, 'ce_loss': 8.04364013671875, 'cont_loss': 1.489990234375, 'teacher_loss': 2.0670292377471924}\n"
     ]
    },
    {
     "name": "stderr",
     "output_type": "stream",
     "text": [
      "Validating:  19%|█▊        | 44/235 [00:37<02:32,  1.25it/s, loss=4.1667, avg_loss=3.7427]"
     ]
    },
    {
     "name": "stdout",
     "output_type": "stream",
     "text": [
      "{'kd_loss': 3.269188404083252, 'feature_loss': 0.003010754706338048, 'ce_loss': 7.924987316131592, 'cont_loss': 1.5426058769226074, 'teacher_loss': 4.917958736419678}\n"
     ]
    },
    {
     "name": "stderr",
     "output_type": "stream",
     "text": [
      "Validating:  19%|█▉        | 45/235 [00:38<02:31,  1.25it/s, loss=3.9614, avg_loss=3.7475]"
     ]
    },
    {
     "name": "stdout",
     "output_type": "stream",
     "text": [
      "{'kd_loss': 2.743304967880249, 'feature_loss': 0.0033183156047016382, 'ce_loss': 8.104340553283691, 'cont_loss': 1.5806753635406494, 'teacher_loss': 4.546882152557373}\n"
     ]
    },
    {
     "name": "stderr",
     "output_type": "stream",
     "text": [
      "Validating:  20%|█▉        | 46/235 [00:39<02:31,  1.25it/s, loss=3.3964, avg_loss=3.7399]"
     ]
    },
    {
     "name": "stdout",
     "output_type": "stream",
     "text": [
      "{'kd_loss': 1.658205509185791, 'feature_loss': 0.0033808189909905195, 'ce_loss': 8.025157928466797, 'cont_loss': 1.5937514305114746, 'teacher_loss': 3.7688450813293457}\n"
     ]
    },
    {
     "name": "stderr",
     "output_type": "stream",
     "text": [
      "Validating:  20%|██        | 47/235 [00:40<02:30,  1.25it/s, loss=4.1784, avg_loss=3.7492]"
     ]
    },
    {
     "name": "stdout",
     "output_type": "stream",
     "text": [
      "{'kd_loss': 3.2931597232818604, 'feature_loss': 0.003060968592762947, 'ce_loss': 7.912262916564941, 'cont_loss': 1.5781428813934326, 'teacher_loss': 4.3086113929748535}\n"
     ]
    },
    {
     "name": "stderr",
     "output_type": "stream",
     "text": [
      "Validating:  20%|██        | 48/235 [00:40<02:29,  1.25it/s, loss=3.4432, avg_loss=3.7429]"
     ]
    },
    {
     "name": "stdout",
     "output_type": "stream",
     "text": [
      "{'kd_loss': 1.7820866107940674, 'feature_loss': 0.0032924539409577847, 'ce_loss': 7.979156494140625, 'cont_loss': 1.5812546014785767, 'teacher_loss': 3.4078519344329834}\n"
     ]
    },
    {
     "name": "stderr",
     "output_type": "stream",
     "text": [
      "Validating:  21%|██        | 49/235 [00:41<02:28,  1.26it/s, loss=3.6210, avg_loss=3.7404]"
     ]
    },
    {
     "name": "stdout",
     "output_type": "stream",
     "text": [
      "{'kd_loss': 2.106778144836426, 'feature_loss': 0.0032235768157988787, 'ce_loss': 8.009303092956543, 'cont_loss': 1.6447402238845825, 'teacher_loss': 4.4835591316223145}\n"
     ]
    },
    {
     "name": "stderr",
     "output_type": "stream",
     "text": [
      "Validating:  21%|██▏       | 50/235 [00:42<02:27,  1.26it/s, loss=3.4930, avg_loss=3.7354]"
     ]
    },
    {
     "name": "stdout",
     "output_type": "stream",
     "text": [
      "{'kd_loss': 1.7874443531036377, 'feature_loss': 0.003344651311635971, 'ce_loss': 8.113080024719238, 'cont_loss': 1.650533676147461, 'teacher_loss': 2.842582941055298}\n"
     ]
    },
    {
     "name": "stderr",
     "output_type": "stream",
     "text": [
      "Validating:  22%|██▏       | 51/235 [00:43<02:26,  1.26it/s, loss=3.8428, avg_loss=3.7375]"
     ]
    },
    {
     "name": "stdout",
     "output_type": "stream",
     "text": [
      "{'kd_loss': 2.593935489654541, 'feature_loss': 0.0031855537090450525, 'ce_loss': 7.917985916137695, 'cont_loss': 1.7015104293823242, 'teacher_loss': 4.812738418579102}\n"
     ]
    },
    {
     "name": "stderr",
     "output_type": "stream",
     "text": [
      "Validating:  22%|██▏       | 52/235 [00:44<02:25,  1.26it/s, loss=4.1292, avg_loss=3.7451]"
     ]
    },
    {
     "name": "stdout",
     "output_type": "stream",
     "text": [
      "{'kd_loss': 3.1394405364990234, 'feature_loss': 0.0030938102863729, 'ce_loss': 7.968520164489746, 'cont_loss': 1.686579704284668, 'teacher_loss': 4.841994762420654}\n"
     ]
    },
    {
     "name": "stderr",
     "output_type": "stream",
     "text": [
      "Validating:  23%|██▎       | 53/235 [00:44<02:24,  1.26it/s, loss=3.4936, avg_loss=3.7403]"
     ]
    },
    {
     "name": "stdout",
     "output_type": "stream",
     "text": [
      "{'kd_loss': 1.8452122211456299, 'feature_loss': 0.0033601345494389534, 'ce_loss': 7.989616394042969, 'cont_loss': 1.7372498512268066, 'teacher_loss': 4.474599838256836}\n"
     ]
    },
    {
     "name": "stderr",
     "output_type": "stream",
     "text": [
      "Validating:  23%|██▎       | 54/235 [00:45<02:23,  1.26it/s, loss=3.4585, avg_loss=3.7351]"
     ]
    },
    {
     "name": "stdout",
     "output_type": "stream",
     "text": [
      "{'kd_loss': 1.7602510452270508, 'feature_loss': 0.003273861249908805, 'ce_loss': 8.034502029418945, 'cont_loss': 1.6765400171279907, 'teacher_loss': 2.620166540145874}\n"
     ]
    },
    {
     "name": "stderr",
     "output_type": "stream",
     "text": [
      "Validating:  23%|██▎       | 55/235 [00:46<02:22,  1.26it/s, loss=3.2624, avg_loss=3.7265]"
     ]
    },
    {
     "name": "stdout",
     "output_type": "stream",
     "text": [
      "{'kd_loss': 1.356277585029602, 'feature_loss': 0.003472388256341219, 'ce_loss': 8.051182746887207, 'cont_loss': 1.6851036548614502, 'teacher_loss': 4.051619529724121}\n"
     ]
    },
    {
     "name": "stderr",
     "output_type": "stream",
     "text": [
      "Validating:  24%|██▍       | 56/235 [00:47<02:21,  1.26it/s, loss=3.5196, avg_loss=3.7228]"
     ]
    },
    {
     "name": "stdout",
     "output_type": "stream",
     "text": [
      "{'kd_loss': 1.8642891645431519, 'feature_loss': 0.0033431504853069782, 'ce_loss': 8.032259941101074, 'cont_loss': 1.774454116821289, 'teacher_loss': 3.5868449211120605}\n"
     ]
    },
    {
     "name": "stderr",
     "output_type": "stream",
     "text": [
      "Validating:  24%|██▍       | 57/235 [00:48<02:20,  1.27it/s, loss=3.8422, avg_loss=3.7249]"
     ]
    },
    {
     "name": "stdout",
     "output_type": "stream",
     "text": [
      "{'kd_loss': 2.461301803588867, 'feature_loss': 0.003338177688419819, 'ce_loss': 8.112525939941406, 'cont_loss': 1.774454116821289, 'teacher_loss': 4.432220935821533}\n"
     ]
    },
    {
     "name": "stderr",
     "output_type": "stream",
     "text": [
      "Validating:  25%|██▍       | 58/235 [00:48<02:19,  1.27it/s, loss=3.9712, avg_loss=3.7292]"
     ]
    },
    {
     "name": "stdout",
     "output_type": "stream",
     "text": [
      "{'kd_loss': 2.8643460273742676, 'feature_loss': 0.0031332694925367832, 'ce_loss': 7.8631463050842285, 'cont_loss': 1.7973945140838623, 'teacher_loss': 6.400616645812988}\n"
     ]
    },
    {
     "name": "stderr",
     "output_type": "stream",
     "text": [
      "Validating:  25%|██▌       | 59/235 [00:49<02:18,  1.27it/s, loss=3.7949, avg_loss=3.7303]"
     ]
    },
    {
     "name": "stdout",
     "output_type": "stream",
     "text": [
      "{'kd_loss': 2.4195072650909424, 'feature_loss': 0.003246182342991233, 'ce_loss': 8.014947891235352, 'cont_loss': 1.8038039207458496, 'teacher_loss': 4.265394687652588}\n"
     ]
    },
    {
     "name": "stderr",
     "output_type": "stream",
     "text": [
      "Validating:  26%|██▌       | 60/235 [00:50<02:17,  1.27it/s, loss=3.3860, avg_loss=3.7245]"
     ]
    },
    {
     "name": "stdout",
     "output_type": "stream",
     "text": [
      "{'kd_loss': 1.5883748531341553, 'feature_loss': 0.0034602442756295204, 'ce_loss': 8.038880348205566, 'cont_loss': 1.7982617616653442, 'teacher_loss': 4.116338729858398}\n"
     ]
    },
    {
     "name": "stderr",
     "output_type": "stream",
     "text": [
      "Validating:  26%|██▌       | 61/235 [00:51<02:16,  1.27it/s, loss=3.7208, avg_loss=3.7245]"
     ]
    },
    {
     "name": "stdout",
     "output_type": "stream",
     "text": [
      "{'kd_loss': 2.2189865112304688, 'feature_loss': 0.0032946206629276276, 'ce_loss': 8.091503143310547, 'cont_loss': 1.8348066806793213, 'teacher_loss': 5.192270755767822}\n"
     ]
    },
    {
     "name": "stderr",
     "output_type": "stream",
     "text": [
      "Validating:  26%|██▋       | 62/235 [00:52<02:16,  1.27it/s, loss=4.4530, avg_loss=3.7362]"
     ]
    },
    {
     "name": "stdout",
     "output_type": "stream",
     "text": [
      "{'kd_loss': 3.7736117839813232, 'feature_loss': 0.0030361271928995848, 'ce_loss': 7.94451904296875, 'cont_loss': 1.824993371963501, 'teacher_loss': 5.321057319641113}\n"
     ]
    },
    {
     "name": "stderr",
     "output_type": "stream",
     "text": [
      "Validating:  27%|██▋       | 63/235 [00:52<02:15,  1.27it/s, loss=3.9771, avg_loss=3.7400]"
     ]
    },
    {
     "name": "stdout",
     "output_type": "stream",
     "text": [
      "{'kd_loss': 2.8430418968200684, 'feature_loss': 0.0032654525712132454, 'ce_loss': 7.912182807922363, 'cont_loss': 1.8159316778182983, 'teacher_loss': 4.649358749389648}\n"
     ]
    },
    {
     "name": "stderr",
     "output_type": "stream",
     "text": [
      "Validating:  27%|██▋       | 64/235 [00:53<02:14,  1.27it/s, loss=3.8319, avg_loss=3.7415]"
     ]
    },
    {
     "name": "stdout",
     "output_type": "stream",
     "text": [
      "{'kd_loss': 2.448873519897461, 'feature_loss': 0.0032825625967234373, 'ce_loss': 8.080842018127441, 'cont_loss': 1.8291897773742676, 'teacher_loss': 4.244673728942871}\n"
     ]
    },
    {
     "name": "stderr",
     "output_type": "stream",
     "text": [
      "Validating:  28%|██▊       | 65/235 [00:54<02:13,  1.27it/s, loss=4.0555, avg_loss=3.7463]"
     ]
    },
    {
     "name": "stdout",
     "output_type": "stream",
     "text": [
      "{'kd_loss': 2.941007614135742, 'feature_loss': 0.00320260738953948, 'ce_loss': 7.994089603424072, 'cont_loss': 1.8648371696472168, 'teacher_loss': 4.944528102874756}\n"
     ]
    },
    {
     "name": "stderr",
     "output_type": "stream",
     "text": [
      "Validating:  28%|██▊       | 66/235 [00:55<02:12,  1.27it/s, loss=3.9094, avg_loss=3.7488]"
     ]
    },
    {
     "name": "stdout",
     "output_type": "stream",
     "text": [
      "{'kd_loss': 2.644667148590088, 'feature_loss': 0.0030545226763933897, 'ce_loss': 8.014993667602539, 'cont_loss': 1.822777271270752, 'teacher_loss': 4.895451545715332}\n"
     ]
    },
    {
     "name": "stderr",
     "output_type": "stream",
     "text": [
      "Validating:  29%|██▊       | 67/235 [00:55<02:12,  1.27it/s, loss=3.3966, avg_loss=3.7435]"
     ]
    },
    {
     "name": "stdout",
     "output_type": "stream",
     "text": [
      "{'kd_loss': 1.5915944576263428, 'feature_loss': 0.0033193686977028847, 'ce_loss': 8.051013946533203, 'cont_loss': 1.8520374298095703, 'teacher_loss': 5.169941425323486}\n"
     ]
    },
    {
     "name": "stderr",
     "output_type": "stream",
     "text": [
      "Validating:  29%|██▉       | 68/235 [00:56<02:11,  1.27it/s, loss=3.7330, avg_loss=3.7434]"
     ]
    },
    {
     "name": "stdout",
     "output_type": "stream",
     "text": [
      "{'kd_loss': 2.2301039695739746, 'feature_loss': 0.003361043520271778, 'ce_loss': 8.09943675994873, 'cont_loss': 1.8782471418380737, 'teacher_loss': 5.077617168426514}\n"
     ]
    },
    {
     "name": "stderr",
     "output_type": "stream",
     "text": [
      "Validating:  29%|██▉       | 69/235 [00:57<02:10,  1.27it/s, loss=3.6589, avg_loss=3.7422]"
     ]
    },
    {
     "name": "stdout",
     "output_type": "stream",
     "text": [
      "{'kd_loss': 2.124998092651367, 'feature_loss': 0.003243624698370695, 'ce_loss': 8.042943000793457, 'cont_loss': 1.8324317932128906, 'teacher_loss': 6.328487873077393}\n"
     ]
    },
    {
     "name": "stderr",
     "output_type": "stream",
     "text": [
      "Validating:  30%|██▉       | 70/235 [00:58<02:09,  1.27it/s, loss=3.6809, avg_loss=3.7413]"
     ]
    },
    {
     "name": "stdout",
     "output_type": "stream",
     "text": [
      "{'kd_loss': 2.1741437911987305, 'feature_loss': 0.003282594494521618, 'ce_loss': 8.028470039367676, 'cont_loss': 1.850053310394287, 'teacher_loss': 4.565544128417969}\n"
     ]
    },
    {
     "name": "stderr",
     "output_type": "stream",
     "text": [
      "Validating:  30%|███       | 71/235 [00:59<02:09,  1.27it/s, loss=3.5369, avg_loss=3.7384]"
     ]
    },
    {
     "name": "stdout",
     "output_type": "stream",
     "text": [
      "{'kd_loss': 1.8683011531829834, 'feature_loss': 0.0034092897549271584, 'ce_loss': 8.037818908691406, 'cont_loss': 1.9104278087615967, 'teacher_loss': 4.768969535827637}\n"
     ]
    },
    {
     "name": "stderr",
     "output_type": "stream",
     "text": [
      "Validating:  31%|███       | 72/235 [00:59<02:08,  1.27it/s, loss=3.6154, avg_loss=3.7367]"
     ]
    },
    {
     "name": "stdout",
     "output_type": "stream",
     "text": [
      "{'kd_loss': 2.0292892456054688, 'feature_loss': 0.0033732764422893524, 'ce_loss': 8.022751808166504, 'cont_loss': 1.9359097480773926, 'teacher_loss': 4.268442630767822}\n"
     ]
    },
    {
     "name": "stderr",
     "output_type": "stream",
     "text": [
      "Validating:  31%|███       | 73/235 [01:00<02:07,  1.27it/s, loss=3.7755, avg_loss=3.7372]"
     ]
    },
    {
     "name": "stdout",
     "output_type": "stream",
     "text": [
      "{'kd_loss': 2.247620105743408, 'feature_loss': 0.0032431287690997124, 'ce_loss': 8.206097602844238, 'cont_loss': 1.8953090906143188, 'teacher_loss': 4.675811290740967}\n"
     ]
    },
    {
     "name": "stderr",
     "output_type": "stream",
     "text": [
      "Validating:  31%|███▏      | 74/235 [01:01<02:06,  1.27it/s, loss=3.9618, avg_loss=3.7403]"
     ]
    },
    {
     "name": "stdout",
     "output_type": "stream",
     "text": [
      "{'kd_loss': 2.692415237426758, 'feature_loss': 0.003230663947761059, 'ce_loss': 8.065330505371094, 'cont_loss': 1.956294298171997, 'teacher_loss': 5.565622329711914}\n"
     ]
    },
    {
     "name": "stderr",
     "output_type": "stream",
     "text": [
      "Validating:  32%|███▏      | 75/235 [01:02<02:06,  1.27it/s, loss=4.2469, avg_loss=3.7470]"
     ]
    },
    {
     "name": "stdout",
     "output_type": "stream",
     "text": [
      "{'kd_loss': 3.175222635269165, 'feature_loss': 0.0031724118161946535, 'ce_loss': 8.211076736450195, 'cont_loss': 1.9563512802124023, 'teacher_loss': 5.615790843963623}\n"
     ]
    },
    {
     "name": "stderr",
     "output_type": "stream",
     "text": [
      "Validating:  32%|███▏      | 76/235 [01:03<02:04,  1.27it/s, loss=3.3553, avg_loss=3.7419]"
     ]
    },
    {
     "name": "stdout",
     "output_type": "stream",
     "text": [
      "{'kd_loss': 1.5142052173614502, 'feature_loss': 0.0033875987865030766, 'ce_loss': 8.011161804199219, 'cont_loss': 1.9448511600494385, 'teacher_loss': 4.974876880645752}\n"
     ]
    },
    {
     "name": "stderr",
     "output_type": "stream",
     "text": [
      "Validating:  33%|███▎      | 77/235 [01:03<02:04,  1.27it/s, loss=3.4698, avg_loss=3.7383]"
     ]
    },
    {
     "name": "stdout",
     "output_type": "stream",
     "text": [
      "{'kd_loss': 1.7365314960479736, 'feature_loss': 0.003300779964774847, 'ce_loss': 8.005630493164062, 'cont_loss': 1.9954884052276611, 'teacher_loss': 4.666436672210693}\n"
     ]
    },
    {
     "name": "stderr",
     "output_type": "stream",
     "text": [
      "Validating:  33%|███▎      | 78/235 [01:04<02:03,  1.27it/s, loss=3.3346, avg_loss=3.7331]"
     ]
    },
    {
     "name": "stdout",
     "output_type": "stream",
     "text": [
      "{'kd_loss': 1.4890224933624268, 'feature_loss': 0.0034347758628427982, 'ce_loss': 7.980739116668701, 'cont_loss': 1.9551689624786377, 'teacher_loss': 4.2135009765625}\n"
     ]
    },
    {
     "name": "stderr",
     "output_type": "stream",
     "text": [
      "Validating:  34%|███▎      | 79/235 [01:05<02:02,  1.28it/s, loss=3.7969, avg_loss=3.7340]"
     ]
    },
    {
     "name": "stdout",
     "output_type": "stream",
     "text": [
      "{'kd_loss': 2.3664557933807373, 'feature_loss': 0.0032085352577269077, 'ce_loss': 8.053001403808594, 'cont_loss': 1.9744600057601929, 'teacher_loss': 4.608061790466309}\n"
     ]
    },
    {
     "name": "stderr",
     "output_type": "stream",
     "text": [
      "Validating:  34%|███▍      | 80/235 [01:06<02:01,  1.28it/s, loss=3.8475, avg_loss=3.7354]"
     ]
    },
    {
     "name": "stdout",
     "output_type": "stream",
     "text": [
      "{'kd_loss': 2.358214855194092, 'feature_loss': 0.00319861457683146, 'ce_loss': 8.221879005432129, 'cont_loss': 2.0153746604919434, 'teacher_loss': 5.153590679168701}\n"
     ]
    },
    {
     "name": "stderr",
     "output_type": "stream",
     "text": [
      "Validating:  34%|███▍      | 81/235 [01:06<02:00,  1.28it/s, loss=3.7830, avg_loss=3.7360]"
     ]
    },
    {
     "name": "stdout",
     "output_type": "stream",
     "text": [
      "{'kd_loss': 2.28255295753479, 'feature_loss': 0.0032783071510493755, 'ce_loss': 8.132810592651367, 'cont_loss': 2.0154166221618652, 'teacher_loss': 3.7688639163970947}\n"
     ]
    },
    {
     "name": "stderr",
     "output_type": "stream",
     "text": [
      "Validating:  35%|███▍      | 82/235 [01:07<01:59,  1.28it/s, loss=3.9589, avg_loss=3.7387]"
     ]
    },
    {
     "name": "stdout",
     "output_type": "stream",
     "text": [
      "{'kd_loss': 2.70658540725708, 'feature_loss': 0.0032381280325353146, 'ce_loss': 8.004656791687012, 'cont_loss': 2.038923501968384, 'teacher_loss': 4.571171283721924}\n"
     ]
    },
    {
     "name": "stderr",
     "output_type": "stream",
     "text": [
      "Validating:  35%|███▌      | 83/235 [01:08<01:58,  1.28it/s, loss=4.0472, avg_loss=3.7424]"
     ]
    },
    {
     "name": "stdout",
     "output_type": "stream",
     "text": [
      "{'kd_loss': 2.6371023654937744, 'feature_loss': 0.0031950382981449366, 'ce_loss': 8.41102123260498, 'cont_loss': 2.0503530502319336, 'teacher_loss': 4.9714179039001465}\n"
     ]
    },
    {
     "name": "stderr",
     "output_type": "stream",
     "text": [
      "Validating:  36%|███▌      | 84/235 [01:09<01:57,  1.28it/s, loss=3.8152, avg_loss=3.7433]"
     ]
    },
    {
     "name": "stdout",
     "output_type": "stream",
     "text": [
      "{'kd_loss': 2.538862705230713, 'feature_loss': 0.003164449008181691, 'ce_loss': 7.803192138671875, 'cont_loss': 2.045400619506836, 'teacher_loss': 3.6918892860412598}\n"
     ]
    },
    {
     "name": "stderr",
     "output_type": "stream",
     "text": [
      "Validating:  36%|███▌      | 85/235 [01:10<01:57,  1.28it/s, loss=3.4400, avg_loss=3.7397]"
     ]
    },
    {
     "name": "stdout",
     "output_type": "stream",
     "text": [
      "{'kd_loss': 1.6783671379089355, 'feature_loss': 0.0034031360410153866, 'ce_loss': 7.983892917633057, 'cont_loss': 2.0531883239746094, 'teacher_loss': 3.965818166732788}\n"
     ]
    },
    {
     "name": "stderr",
     "output_type": "stream",
     "text": [
      "Validating:  37%|███▋      | 86/235 [01:10<01:56,  1.28it/s, loss=3.4696, avg_loss=3.7366]"
     ]
    },
    {
     "name": "stdout",
     "output_type": "stream",
     "text": [
      "{'kd_loss': 1.6811410188674927, 'feature_loss': 0.003412003396078944, 'ce_loss': 8.070405960083008, 'cont_loss': 2.0761241912841797, 'teacher_loss': 4.224014759063721}\n"
     ]
    },
    {
     "name": "stderr",
     "output_type": "stream",
     "text": [
      "Validating:  37%|███▋      | 87/235 [01:11<01:55,  1.28it/s, loss=3.3497, avg_loss=3.7321]"
     ]
    },
    {
     "name": "stdout",
     "output_type": "stream",
     "text": [
      "{'kd_loss': 1.426772952079773, 'feature_loss': 0.003487891983240843, 'ce_loss': 8.099198341369629, 'cont_loss': 2.0624194145202637, 'teacher_loss': 2.690298557281494}\n"
     ]
    },
    {
     "name": "stderr",
     "output_type": "stream",
     "text": [
      "Validating:  37%|███▋      | 88/235 [01:12<01:54,  1.28it/s, loss=3.5542, avg_loss=3.7301]"
     ]
    },
    {
     "name": "stdout",
     "output_type": "stream",
     "text": [
      "{'kd_loss': 1.8603291511535645, 'feature_loss': 0.003432001918554306, 'ce_loss': 8.050972938537598, 'cont_loss': 2.083794593811035, 'teacher_loss': 4.068603038787842}\n"
     ]
    },
    {
     "name": "stderr",
     "output_type": "stream",
     "text": [
      "Validating:  38%|███▊      | 89/235 [01:13<01:53,  1.28it/s, loss=3.3889, avg_loss=3.7263]"
     ]
    },
    {
     "name": "stdout",
     "output_type": "stream",
     "text": [
      "{'kd_loss': 1.5314738750457764, 'feature_loss': 0.0033010542392730713, 'ce_loss': 8.035489082336426, 'cont_loss': 2.122194766998291, 'teacher_loss': 4.642467498779297}\n"
     ]
    },
    {
     "name": "stderr",
     "output_type": "stream",
     "text": [
      "Validating:  38%|███▊      | 90/235 [01:13<01:53,  1.28it/s, loss=3.6598, avg_loss=3.7255]"
     ]
    },
    {
     "name": "stdout",
     "output_type": "stream",
     "text": [
      "{'kd_loss': 2.0507006645202637, 'feature_loss': 0.003322068601846695, 'ce_loss': 8.085923194885254, 'cont_loss': 2.083829402923584, 'teacher_loss': 4.878257751464844}\n"
     ]
    },
    {
     "name": "stderr",
     "output_type": "stream",
     "text": [
      "Validating:  39%|███▊      | 91/235 [01:14<01:52,  1.28it/s, loss=3.8578, avg_loss=3.7270]"
     ]
    },
    {
     "name": "stdout",
     "output_type": "stream",
     "text": [
      "{'kd_loss': 2.336496353149414, 'feature_loss': 0.0033231833949685097, 'ce_loss': 8.258171081542969, 'cont_loss': 2.1174051761627197, 'teacher_loss': 4.576796054840088}\n"
     ]
    },
    {
     "name": "stderr",
     "output_type": "stream",
     "text": [
      "Validating:  39%|███▉      | 92/235 [01:15<01:51,  1.28it/s, loss=4.1047, avg_loss=3.7311]"
     ]
    },
    {
     "name": "stdout",
     "output_type": "stream",
     "text": [
      "{'kd_loss': 2.7718214988708496, 'feature_loss': 0.003100563772022724, 'ce_loss': 8.351881980895996, 'cont_loss': 2.1290273666381836, 'teacher_loss': 5.318802833557129}\n"
     ]
    },
    {
     "name": "stderr",
     "output_type": "stream",
     "text": [
      "Validating:  40%|███▉      | 93/235 [01:16<01:50,  1.29it/s, loss=3.4305, avg_loss=3.7278]"
     ]
    },
    {
     "name": "stdout",
     "output_type": "stream",
     "text": [
      "{'kd_loss': 1.620741605758667, 'feature_loss': 0.0032866322435438633, 'ce_loss': 8.034504890441895, 'cont_loss': 2.0948145389556885, 'teacher_loss': 4.5751471519470215}\n"
     ]
    },
    {
     "name": "stderr",
     "output_type": "stream",
     "text": [
      "Validating:  40%|████      | 94/235 [01:17<01:49,  1.29it/s, loss=3.8074, avg_loss=3.7287]"
     ]
    },
    {
     "name": "stdout",
     "output_type": "stream",
     "text": [
      "{'kd_loss': 2.415252208709717, 'feature_loss': 0.003201650222763419, 'ce_loss': 7.951906681060791, 'cont_loss': 2.1391215324401855, 'teacher_loss': 5.178706645965576}\n"
     ]
    },
    {
     "name": "stderr",
     "output_type": "stream",
     "text": [
      "Validating:  40%|████      | 95/235 [01:17<01:48,  1.29it/s, loss=3.4170, avg_loss=3.7254]"
     ]
    },
    {
     "name": "stdout",
     "output_type": "stream",
     "text": [
      "{'kd_loss': 1.529895544052124, 'feature_loss': 0.0033387932926416397, 'ce_loss': 8.11854076385498, 'cont_loss': 2.1619300842285156, 'teacher_loss': 4.014363765716553}\n"
     ]
    },
    {
     "name": "stderr",
     "output_type": "stream",
     "text": [
      "Validating:  41%|████      | 96/235 [01:18<01:47,  1.29it/s, loss=3.5411, avg_loss=3.7235]"
     ]
    },
    {
     "name": "stdout",
     "output_type": "stream",
     "text": [
      "{'kd_loss': 1.819800615310669, 'feature_loss': 0.00319429743103683, 'ce_loss': 8.042313575744629, 'cont_loss': 2.181459426879883, 'teacher_loss': 3.9937617778778076}\n"
     ]
    },
    {
     "name": "stderr",
     "output_type": "stream",
     "text": [
      "Validating:  41%|████▏     | 97/235 [01:19<01:47,  1.28it/s, loss=3.6486, avg_loss=3.7227]"
     ]
    },
    {
     "name": "stdout",
     "output_type": "stream",
     "text": [
      "{'kd_loss': 1.9873322248458862, 'feature_loss': 0.003339691087603569, 'ce_loss': 8.122953414916992, 'cont_loss': 2.177145481109619, 'teacher_loss': 5.172022819519043}\n"
     ]
    },
    {
     "name": "stderr",
     "output_type": "stream",
     "text": [
      "Validating:  42%|████▏     | 98/235 [01:20<01:46,  1.29it/s, loss=3.3958, avg_loss=3.7194]"
     ]
    },
    {
     "name": "stdout",
     "output_type": "stream",
     "text": [
      "{'kd_loss': 1.578298807144165, 'feature_loss': 0.0034598708152770996, 'ce_loss': 7.953782081604004, 'cont_loss': 2.202078342437744, 'teacher_loss': 4.594730377197266}\n"
     ]
    },
    {
     "name": "stderr",
     "output_type": "stream",
     "text": [
      "Validating:  42%|████▏     | 99/235 [01:20<01:45,  1.28it/s, loss=3.7659, avg_loss=3.7199]"
     ]
    },
    {
     "name": "stdout",
     "output_type": "stream",
     "text": [
      "{'kd_loss': 2.2527029514312744, 'feature_loss': 0.003250270616263151, 'ce_loss': 8.055944442749023, 'cont_loss': 2.2243330478668213, 'teacher_loss': 4.6205549240112305}\n"
     ]
    },
    {
     "name": "stderr",
     "output_type": "stream",
     "text": [
      "Validating:  43%|████▎     | 100/235 [01:21<01:45,  1.29it/s, loss=4.1690, avg_loss=3.7243]"
     ]
    },
    {
     "name": "stdout",
     "output_type": "stream",
     "text": [
      "{'kd_loss': 3.096116781234741, 'feature_loss': 0.003097855020314455, 'ce_loss': 7.988597869873047, 'cont_loss': 2.240950107574463, 'teacher_loss': 5.145381450653076}\n"
     ]
    },
    {
     "name": "stderr",
     "output_type": "stream",
     "text": [
      "Validating:  43%|████▎     | 101/235 [01:22<01:44,  1.28it/s, loss=3.8782, avg_loss=3.7259]"
     ]
    },
    {
     "name": "stdout",
     "output_type": "stream",
     "text": [
      "{'kd_loss': 2.52335262298584, 'feature_loss': 0.0031610324513167143, 'ce_loss': 7.97310733795166, 'cont_loss': 2.2431111335754395, 'teacher_loss': 4.598333358764648}\n"
     ]
    },
    {
     "name": "stderr",
     "output_type": "stream",
     "text": [
      "Validating:  43%|████▎     | 102/235 [01:23<01:43,  1.29it/s, loss=4.1519, avg_loss=3.7300]"
     ]
    },
    {
     "name": "stdout",
     "output_type": "stream",
     "text": [
      "{'kd_loss': 3.004549026489258, 'feature_loss': 0.0031105349771678448, 'ce_loss': 8.081966400146484, 'cont_loss': 2.246809482574463, 'teacher_loss': 5.803947925567627}\n"
     ]
    },
    {
     "name": "stderr",
     "output_type": "stream",
     "text": [
      "Validating:  44%|████▍     | 103/235 [01:24<01:42,  1.28it/s, loss=3.8766, avg_loss=3.7315]"
     ]
    },
    {
     "name": "stdout",
     "output_type": "stream",
     "text": [
      "{'kd_loss': 2.497462749481201, 'feature_loss': 0.0032105976715683937, 'ce_loss': 8.002860069274902, 'cont_loss': 2.266413688659668, 'teacher_loss': 5.693796634674072}\n"
     ]
    },
    {
     "name": "stderr",
     "output_type": "stream",
     "text": [
      "Validating:  44%|████▍     | 104/235 [01:24<01:41,  1.28it/s, loss=4.1583, avg_loss=3.7356]"
     ]
    },
    {
     "name": "stdout",
     "output_type": "stream",
     "text": [
      "{'kd_loss': 3.089851140975952, 'feature_loss': 0.0031698341481387615, 'ce_loss': 7.953284740447998, 'cont_loss': 2.270275115966797, 'teacher_loss': 5.609071254730225}\n"
     ]
    },
    {
     "name": "stderr",
     "output_type": "stream",
     "text": [
      "Validating:  45%|████▍     | 105/235 [01:25<01:41,  1.28it/s, loss=4.0213, avg_loss=3.7383]"
     ]
    },
    {
     "name": "stdout",
     "output_type": "stream",
     "text": [
      "{'kd_loss': 2.7145028114318848, 'feature_loss': 0.0031199748627841473, 'ce_loss': 8.116280555725098, 'cont_loss': 2.2889981269836426, 'teacher_loss': 4.628951072692871}\n"
     ]
    },
    {
     "name": "stderr",
     "output_type": "stream",
     "text": [
      "Validating:  45%|████▌     | 106/235 [01:26<01:40,  1.28it/s, loss=3.5577, avg_loss=3.7366]"
     ]
    },
    {
     "name": "stdout",
     "output_type": "stream",
     "text": [
      "{'kd_loss': 1.813286304473877, 'feature_loss': 0.0034090247936546803, 'ce_loss': 8.070841789245605, 'cont_loss': 2.2946393489837646, 'teacher_loss': 4.449684143066406}\n"
     ]
    },
    {
     "name": "stderr",
     "output_type": "stream",
     "text": [
      "Validating:  46%|████▌     | 107/235 [01:27<01:39,  1.28it/s, loss=3.3505, avg_loss=3.7330]"
     ]
    },
    {
     "name": "stdout",
     "output_type": "stream",
     "text": [
      "{'kd_loss': 1.394606351852417, 'feature_loss': 0.003469992894679308, 'ce_loss': 8.09070110321045, 'cont_loss': 2.256166934967041, 'teacher_loss': 4.07050895690918}\n"
     ]
    },
    {
     "name": "stderr",
     "output_type": "stream",
     "text": [
      "Validating:  46%|████▌     | 108/235 [01:27<01:38,  1.28it/s, loss=3.5333, avg_loss=3.7311]"
     ]
    },
    {
     "name": "stdout",
     "output_type": "stream",
     "text": [
      "{'kd_loss': 1.7713104486465454, 'feature_loss': 0.003378600114956498, 'ce_loss': 8.075660705566406, 'cont_loss': 2.245819568634033, 'teacher_loss': 4.252318382263184}\n"
     ]
    },
    {
     "name": "stderr",
     "output_type": "stream",
     "text": [
      "Validating:  46%|████▋     | 109/235 [01:28<01:38,  1.28it/s, loss=3.6471, avg_loss=3.7304]"
     ]
    },
    {
     "name": "stdout",
     "output_type": "stream",
     "text": [
      "{'kd_loss': 2.028258800506592, 'feature_loss': 0.003223852952942252, 'ce_loss': 8.017999649047852, 'cont_loss': 2.2725982666015625, 'teacher_loss': 4.998276710510254}\n"
     ]
    },
    {
     "name": "stderr",
     "output_type": "stream",
     "text": [
      "Validating:  47%|████▋     | 110/235 [01:29<01:37,  1.28it/s, loss=3.7145, avg_loss=3.7302]"
     ]
    },
    {
     "name": "stdout",
     "output_type": "stream",
     "text": [
      "{'kd_loss': 2.125847339630127, 'feature_loss': 0.0033913759980350733, 'ce_loss': 8.0639066696167, 'cont_loss': 2.3204803466796875, 'teacher_loss': 4.555186748504639}\n"
     ]
    },
    {
     "name": "stderr",
     "output_type": "stream",
     "text": [
      "Validating:  47%|████▋     | 111/235 [01:30<01:36,  1.28it/s, loss=3.7651, avg_loss=3.7305]"
     ]
    },
    {
     "name": "stdout",
     "output_type": "stream",
     "text": [
      "{'kd_loss': 2.279684066772461, 'feature_loss': 0.0033161910250782967, 'ce_loss': 7.968674182891846, 'cont_loss': 2.3436336517333984, 'teacher_loss': 5.265387058258057}\n"
     ]
    },
    {
     "name": "stderr",
     "output_type": "stream",
     "text": [
      "Validating:  48%|████▊     | 112/235 [01:31<01:35,  1.28it/s, loss=3.4229, avg_loss=3.7278]"
     ]
    },
    {
     "name": "stdout",
     "output_type": "stream",
     "text": [
      "{'kd_loss': 1.5607037544250488, 'feature_loss': 0.0034284351859241724, 'ce_loss': 8.035529136657715, 'cont_loss': 2.3157172203063965, 'teacher_loss': 4.333408355712891}\n"
     ]
    },
    {
     "name": "stderr",
     "output_type": "stream",
     "text": [
      "Validating:  48%|████▊     | 113/235 [01:31<01:35,  1.28it/s, loss=3.6284, avg_loss=3.7269]"
     ]
    },
    {
     "name": "stdout",
     "output_type": "stream",
     "text": [
      "{'kd_loss': 1.9668813943862915, 'feature_loss': 0.003212175564840436, 'ce_loss': 8.04149341583252, 'cont_loss': 2.3222644329071045, 'teacher_loss': 5.598691940307617}\n"
     ]
    },
    {
     "name": "stderr",
     "output_type": "stream",
     "text": [
      "Validating:  49%|████▊     | 114/235 [01:32<01:34,  1.28it/s, loss=3.3700, avg_loss=3.7238]"
     ]
    },
    {
     "name": "stdout",
     "output_type": "stream",
     "text": [
      "{'kd_loss': 1.411247730255127, 'feature_loss': 0.0033670745324343443, 'ce_loss': 8.097628593444824, 'cont_loss': 2.3479413986206055, 'teacher_loss': 4.217326641082764}\n"
     ]
    },
    {
     "name": "stderr",
     "output_type": "stream",
     "text": [
      "Validating:  49%|████▉     | 115/235 [01:33<01:34,  1.28it/s, loss=3.8836, avg_loss=3.7252]"
     ]
    },
    {
     "name": "stdout",
     "output_type": "stream",
     "text": [
      "{'kd_loss': 2.45029878616333, 'feature_loss': 0.003313247347250581, 'ce_loss': 8.078137397766113, 'cont_loss': 2.3466594219207764, 'teacher_loss': 4.705503463745117}\n"
     ]
    },
    {
     "name": "stderr",
     "output_type": "stream",
     "text": [
      "Validating:  49%|████▉     | 116/235 [01:34<01:33,  1.28it/s, loss=3.7003, avg_loss=3.7250]"
     ]
    },
    {
     "name": "stdout",
     "output_type": "stream",
     "text": [
      "{'kd_loss': 2.0889244079589844, 'feature_loss': 0.0032073664478957653, 'ce_loss': 8.062044143676758, 'cont_loss': 2.369368314743042, 'teacher_loss': 4.549274921417236}\n"
     ]
    },
    {
     "name": "stderr",
     "output_type": "stream",
     "text": [
      "Validating:  50%|████▉     | 117/235 [01:35<01:32,  1.28it/s, loss=3.3046, avg_loss=3.7214]"
     ]
    },
    {
     "name": "stdout",
     "output_type": "stream",
     "text": [
      "{'kd_loss': 1.2494616508483887, 'feature_loss': 0.0034367970656603575, 'ce_loss': 8.130342483520508, 'cont_loss': 2.4045581817626953, 'teacher_loss': 4.764720916748047}\n"
     ]
    },
    {
     "name": "stderr",
     "output_type": "stream",
     "text": [
      "Validating:  50%|█████     | 118/235 [01:35<01:31,  1.28it/s, loss=3.6202, avg_loss=3.7205]"
     ]
    },
    {
     "name": "stdout",
     "output_type": "stream",
     "text": [
      "{'kd_loss': 1.9529436826705933, 'feature_loss': 0.0032977501396089792, 'ce_loss': 8.018516540527344, 'cont_loss': 2.378678321838379, 'teacher_loss': 4.999666213989258}\n"
     ]
    },
    {
     "name": "stderr",
     "output_type": "stream",
     "text": [
      "Validating:  51%|█████     | 119/235 [01:36<01:31,  1.27it/s, loss=4.0017, avg_loss=3.7229]"
     ]
    },
    {
     "name": "stdout",
     "output_type": "stream",
     "text": [
      "{'kd_loss': 2.673013210296631, 'feature_loss': 0.003178768325597048, 'ce_loss': 8.08314037322998, 'cont_loss': 2.3998124599456787, 'teacher_loss': 4.681084156036377}\n"
     ]
    },
    {
     "name": "stderr",
     "output_type": "stream",
     "text": [
      "Validating:  51%|█████     | 120/235 [01:37<01:30,  1.27it/s, loss=3.3268, avg_loss=3.7196]"
     ]
    },
    {
     "name": "stdout",
     "output_type": "stream",
     "text": [
      "{'kd_loss': 1.3126258850097656, 'feature_loss': 0.003547368571162224, 'ce_loss': 8.094639778137207, 'cont_loss': 2.4174904823303223, 'teacher_loss': 3.9491934776306152}\n"
     ]
    },
    {
     "name": "stderr",
     "output_type": "stream",
     "text": [
      "Validating:  51%|█████▏    | 121/235 [01:38<01:29,  1.27it/s, loss=3.7641, avg_loss=3.7199]"
     ]
    },
    {
     "name": "stdout",
     "output_type": "stream",
     "text": [
      "{'kd_loss': 2.2145261764526367, 'feature_loss': 0.0032919261138886213, 'ce_loss': 8.042442321777344, 'cont_loss': 2.4380130767822266, 'teacher_loss': 5.317182540893555}\n"
     ]
    },
    {
     "name": "stderr",
     "output_type": "stream",
     "text": [
      "Validating:  52%|█████▏    | 122/235 [01:38<01:28,  1.27it/s, loss=4.0896, avg_loss=3.7230]"
     ]
    },
    {
     "name": "stdout",
     "output_type": "stream",
     "text": [
      "{'kd_loss': 2.8079795837402344, 'feature_loss': 0.003223623614758253, 'ce_loss': 8.139304161071777, 'cont_loss': 2.4350976943969727, 'teacher_loss': 5.117497444152832}\n"
     ]
    },
    {
     "name": "stderr",
     "output_type": "stream",
     "text": [
      "Validating:  52%|█████▏    | 123/235 [01:39<01:28,  1.27it/s, loss=3.7555, avg_loss=3.7232]"
     ]
    },
    {
     "name": "stdout",
     "output_type": "stream",
     "text": [
      "{'kd_loss': 2.1984596252441406, 'feature_loss': 0.0031910217367112637, 'ce_loss': 8.04447078704834, 'cont_loss': 2.426020383834839, 'teacher_loss': 5.277896881103516}\n"
     ]
    },
    {
     "name": "stderr",
     "output_type": "stream",
     "text": [
      "Validating:  53%|█████▎    | 124/235 [01:40<01:27,  1.27it/s, loss=3.4468, avg_loss=3.7210]"
     ]
    },
    {
     "name": "stdout",
     "output_type": "stream",
     "text": [
      "{'kd_loss': 1.6321899890899658, 'feature_loss': 0.0033088121563196182, 'ce_loss': 7.96807336807251, 'cont_loss': 2.399210214614868, 'teacher_loss': 4.335939884185791}\n"
     ]
    },
    {
     "name": "stderr",
     "output_type": "stream",
     "text": [
      "Validating:  53%|█████▎    | 125/235 [01:41<01:26,  1.27it/s, loss=3.5526, avg_loss=3.7197]"
     ]
    },
    {
     "name": "stdout",
     "output_type": "stream",
     "text": [
      "{'kd_loss': 1.7399095296859741, 'feature_loss': 0.003310699947178364, 'ce_loss': 8.129411697387695, 'cont_loss': 2.434929370880127, 'teacher_loss': 4.167312145233154}\n"
     ]
    },
    {
     "name": "stderr",
     "output_type": "stream",
     "text": [
      "Validating:  54%|█████▎    | 126/235 [01:42<01:25,  1.27it/s, loss=4.0381, avg_loss=3.7222]"
     ]
    },
    {
     "name": "stdout",
     "output_type": "stream",
     "text": [
      "{'kd_loss': 2.727102279663086, 'feature_loss': 0.0032885766122490168, 'ce_loss': 8.102166175842285, 'cont_loss': 2.4356021881103516, 'teacher_loss': 5.13755989074707}\n"
     ]
    },
    {
     "name": "stderr",
     "output_type": "stream",
     "text": [
      "Validating:  54%|█████▍    | 127/235 [01:42<01:25,  1.27it/s, loss=3.3889, avg_loss=3.7196]"
     ]
    },
    {
     "name": "stdout",
     "output_type": "stream",
     "text": [
      "{'kd_loss': 1.4079970121383667, 'feature_loss': 0.0034896705765277147, 'ce_loss': 8.123098373413086, 'cont_loss': 2.476508378982544, 'teacher_loss': 4.330691814422607}\n"
     ]
    },
    {
     "name": "stderr",
     "output_type": "stream",
     "text": [
      "Validating:  54%|█████▍    | 128/235 [01:43<01:24,  1.27it/s, loss=3.6148, avg_loss=3.7187]"
     ]
    },
    {
     "name": "stdout",
     "output_type": "stream",
     "text": [
      "{'kd_loss': 1.9344193935394287, 'feature_loss': 0.0032675396651029587, 'ce_loss': 8.004598617553711, 'cont_loss': 2.4585442543029785, 'teacher_loss': 4.798496723175049}\n"
     ]
    },
    {
     "name": "stderr",
     "output_type": "stream",
     "text": [
      "Validating:  55%|█████▍    | 129/235 [01:44<01:23,  1.27it/s, loss=3.7978, avg_loss=3.7193]"
     ]
    },
    {
     "name": "stdout",
     "output_type": "stream",
     "text": [
      "{'kd_loss': 2.30025577545166, 'feature_loss': 0.0033297766931355, 'ce_loss': 7.988198280334473, 'cont_loss': 2.5087757110595703, 'teacher_loss': 5.673783302307129}\n"
     ]
    },
    {
     "name": "stderr",
     "output_type": "stream",
     "text": [
      "Validating:  55%|█████▌    | 130/235 [01:45<01:22,  1.27it/s, loss=3.9276, avg_loss=3.7209]"
     ]
    },
    {
     "name": "stdout",
     "output_type": "stream",
     "text": [
      "{'kd_loss': 2.4592020511627197, 'feature_loss': 0.0032294332049787045, 'ce_loss': 8.157997131347656, 'cont_loss': 2.502607822418213, 'teacher_loss': 4.906196594238281}\n"
     ]
    },
    {
     "name": "stderr",
     "output_type": "stream",
     "text": [
      "Validating:  56%|█████▌    | 131/235 [01:46<01:21,  1.27it/s, loss=3.6632, avg_loss=3.7205]"
     ]
    },
    {
     "name": "stdout",
     "output_type": "stream",
     "text": [
      "{'kd_loss': 2.0077199935913086, 'feature_loss': 0.0034037986770272255, 'ce_loss': 8.020556449890137, 'cont_loss': 2.5282235145568848, 'teacher_loss': 5.036565780639648}\n"
     ]
    },
    {
     "name": "stderr",
     "output_type": "stream",
     "text": [
      "Validating:  56%|█████▌    | 132/235 [01:46<01:21,  1.27it/s, loss=3.9598, avg_loss=3.7223]"
     ]
    },
    {
     "name": "stdout",
     "output_type": "stream",
     "text": [
      "{'kd_loss': 2.643995761871338, 'feature_loss': 0.0031925891526043415, 'ce_loss': 7.9582438468933105, 'cont_loss': 2.5001397132873535, 'teacher_loss': 4.996706008911133}\n"
     ]
    },
    {
     "name": "stderr",
     "output_type": "stream",
     "text": [
      "Validating:  57%|█████▋    | 133/235 [01:47<01:20,  1.27it/s, loss=3.5625, avg_loss=3.7211]"
     ]
    },
    {
     "name": "stdout",
     "output_type": "stream",
     "text": [
      "{'kd_loss': 1.78633451461792, 'feature_loss': 0.0033630081452429295, 'ce_loss': 8.063040733337402, 'cont_loss': 2.5005483627319336, 'teacher_loss': 4.444097518920898}\n"
     ]
    },
    {
     "name": "stderr",
     "output_type": "stream",
     "text": [
      "Validating:  57%|█████▋    | 134/235 [01:48<01:19,  1.27it/s, loss=3.7843, avg_loss=3.7216]"
     ]
    },
    {
     "name": "stdout",
     "output_type": "stream",
     "text": [
      "{'kd_loss': 2.144106149673462, 'feature_loss': 0.0033219708129763603, 'ce_loss': 8.202628135681152, 'cont_loss': 2.511580228805542, 'teacher_loss': 5.043691635131836}\n"
     ]
    },
    {
     "name": "stderr",
     "output_type": "stream",
     "text": [
      "Validating:  57%|█████▋    | 135/235 [01:49<01:18,  1.27it/s, loss=3.3869, avg_loss=3.7191]"
     ]
    },
    {
     "name": "stdout",
     "output_type": "stream",
     "text": [
      "{'kd_loss': 1.4553914070129395, 'feature_loss': 0.0034550554119050503, 'ce_loss': 8.017144203186035, 'cont_loss': 2.5373587608337402, 'teacher_loss': 4.353829860687256}\n"
     ]
    },
    {
     "name": "stderr",
     "output_type": "stream",
     "text": [
      "Validating:  58%|█████▊    | 136/235 [01:49<01:17,  1.27it/s, loss=3.7434, avg_loss=3.7193]"
     ]
    },
    {
     "name": "stdout",
     "output_type": "stream",
     "text": [
      "{'kd_loss': 2.186145782470703, 'feature_loss': 0.0033036000095307827, 'ce_loss': 7.991644859313965, 'cont_loss': 2.524874687194824, 'teacher_loss': 5.403042316436768}\n"
     ]
    },
    {
     "name": "stderr",
     "output_type": "stream",
     "text": [
      "Validating:  58%|█████▊    | 137/235 [01:50<01:17,  1.27it/s, loss=3.4774, avg_loss=3.7175]"
     ]
    },
    {
     "name": "stdout",
     "output_type": "stream",
     "text": [
      "{'kd_loss': 1.5759719610214233, 'feature_loss': 0.0033686731476336718, 'ce_loss': 8.111510276794434, 'cont_loss': 2.556422710418701, 'teacher_loss': 5.348231315612793}\n"
     ]
    },
    {
     "name": "stderr",
     "output_type": "stream",
     "text": [
      "Validating:  59%|█████▊    | 138/235 [01:51<01:16,  1.27it/s, loss=3.7586, avg_loss=3.7178]"
     ]
    },
    {
     "name": "stdout",
     "output_type": "stream",
     "text": [
      "{'kd_loss': 2.2002487182617188, 'feature_loss': 0.003312844317406416, 'ce_loss': 8.00314998626709, 'cont_loss': 2.572274923324585, 'teacher_loss': 5.25170373916626}\n"
     ]
    },
    {
     "name": "stderr",
     "output_type": "stream",
     "text": [
      "Validating:  59%|█████▉    | 139/235 [01:52<01:15,  1.27it/s, loss=3.2718, avg_loss=3.7146]"
     ]
    },
    {
     "name": "stdout",
     "output_type": "stream",
     "text": [
      "{'kd_loss': 1.1702852249145508, 'feature_loss': 0.0034574244637042284, 'ce_loss': 8.092720985412598, 'cont_loss': 2.5850980281829834, 'teacher_loss': 5.495676517486572}\n"
     ]
    },
    {
     "name": "stderr",
     "output_type": "stream",
     "text": [
      "Validating:  60%|█████▉    | 140/235 [01:53<01:14,  1.27it/s, loss=3.6592, avg_loss=3.7142]"
     ]
    },
    {
     "name": "stdout",
     "output_type": "stream",
     "text": [
      "{'kd_loss': 1.964119791984558, 'feature_loss': 0.0033308803103864193, 'ce_loss': 8.071344375610352, 'cont_loss': 2.554309368133545, 'teacher_loss': 4.724061965942383}\n"
     ]
    },
    {
     "name": "stderr",
     "output_type": "stream",
     "text": [
      "Validating:  60%|██████    | 141/235 [01:53<01:14,  1.27it/s, loss=3.4225, avg_loss=3.7121]"
     ]
    },
    {
     "name": "stdout",
     "output_type": "stream",
     "text": [
      "{'kd_loss': 1.48386812210083, 'feature_loss': 0.0033959343563765287, 'ce_loss': 8.080042839050293, 'cont_loss': 2.561713218688965, 'teacher_loss': 5.570995807647705}\n"
     ]
    },
    {
     "name": "stderr",
     "output_type": "stream",
     "text": [
      "Validating:  60%|██████    | 142/235 [01:54<01:13,  1.27it/s, loss=3.6388, avg_loss=3.7116]"
     ]
    },
    {
     "name": "stdout",
     "output_type": "stream",
     "text": [
      "{'kd_loss': 1.8654401302337646, 'feature_loss': 0.0034260815009474754, 'ce_loss': 8.149179458618164, 'cont_loss': 2.610110282897949, 'teacher_loss': 5.624026775360107}\n"
     ]
    },
    {
     "name": "stderr",
     "output_type": "stream",
     "text": [
      "Validating:  61%|██████    | 143/235 [01:55<01:12,  1.27it/s, loss=3.4133, avg_loss=3.7095]"
     ]
    },
    {
     "name": "stdout",
     "output_type": "stream",
     "text": [
      "{'kd_loss': 1.4773781299591064, 'feature_loss': 0.0034118497278541327, 'ce_loss': 8.046218872070312, 'cont_loss': 2.6035852432250977, 'teacher_loss': 3.991417407989502}\n"
     ]
    },
    {
     "name": "stderr",
     "output_type": "stream",
     "text": [
      "Validating:  61%|██████▏   | 144/235 [01:56<01:11,  1.27it/s, loss=3.2944, avg_loss=3.7067]"
     ]
    },
    {
     "name": "stdout",
     "output_type": "stream",
     "text": [
      "{'kd_loss': 1.2340667247772217, 'feature_loss': 0.003337778616696596, 'ce_loss': 8.055619239807129, 'cont_loss': 2.6030516624450684, 'teacher_loss': 4.723657131195068}\n"
     ]
    },
    {
     "name": "stderr",
     "output_type": "stream",
     "text": [
      "Validating:  62%|██████▏   | 145/235 [01:57<01:10,  1.27it/s, loss=3.5654, avg_loss=3.7057]"
     ]
    },
    {
     "name": "stdout",
     "output_type": "stream",
     "text": [
      "{'kd_loss': 1.7575454711914062, 'feature_loss': 0.0033164694905281067, 'ce_loss': 8.081016540527344, 'cont_loss': 2.6204071044921875, 'teacher_loss': 5.016881465911865}\n"
     ]
    },
    {
     "name": "stderr",
     "output_type": "stream",
     "text": [
      "Validating:  62%|██████▏   | 146/235 [01:57<01:10,  1.27it/s, loss=3.9219, avg_loss=3.7072]"
     ]
    },
    {
     "name": "stdout",
     "output_type": "stream",
     "text": [
      "{'kd_loss': 2.431912422180176, 'feature_loss': 0.0032683901954442263, 'ce_loss': 8.143335342407227, 'cont_loss': 2.6262893676757812, 'teacher_loss': 5.176835060119629}\n"
     ]
    },
    {
     "name": "stderr",
     "output_type": "stream",
     "text": [
      "Validating:  63%|██████▎   | 147/235 [01:58<01:09,  1.27it/s, loss=3.6198, avg_loss=3.7066]"
     ]
    },
    {
     "name": "stdout",
     "output_type": "stream",
     "text": [
      "{'kd_loss': 1.8725318908691406, 'feature_loss': 0.0033786811400204897, 'ce_loss': 8.067362785339355, 'cont_loss': 2.629392147064209, 'teacher_loss': 6.01132869720459}\n"
     ]
    },
    {
     "name": "stderr",
     "output_type": "stream",
     "text": [
      "Validating:  63%|██████▎   | 148/235 [01:59<01:08,  1.27it/s, loss=3.4679, avg_loss=3.7050]"
     ]
    },
    {
     "name": "stdout",
     "output_type": "stream",
     "text": [
      "{'kd_loss': 1.5612401962280273, 'feature_loss': 0.0034441817551851273, 'ce_loss': 8.077295303344727, 'cont_loss': 2.6379687786102295, 'teacher_loss': 4.530688762664795}\n"
     ]
    },
    {
     "name": "stderr",
     "output_type": "stream",
     "text": [
      "Validating:  63%|██████▎   | 149/235 [02:00<01:07,  1.27it/s, loss=3.8271, avg_loss=3.7058]"
     ]
    },
    {
     "name": "stdout",
     "output_type": "stream",
     "text": [
      "{'kd_loss': 2.2484254837036133, 'feature_loss': 0.0033012009225785732, 'ce_loss': 8.115432739257812, 'cont_loss': 2.6793055534362793, 'teacher_loss': 5.796468734741211}\n"
     ]
    },
    {
     "name": "stderr",
     "output_type": "stream",
     "text": [
      "Validating:  64%|██████▍   | 150/235 [02:01<01:06,  1.27it/s, loss=3.8978, avg_loss=3.7071]"
     ]
    },
    {
     "name": "stdout",
     "output_type": "stream",
     "text": [
      "{'kd_loss': 2.405524492263794, 'feature_loss': 0.003319850889965892, 'ce_loss': 8.094447135925293, 'cont_loss': 2.6639151573181152, 'teacher_loss': 5.047920227050781}\n"
     ]
    },
    {
     "name": "stderr",
     "output_type": "stream",
     "text": [
      "Validating:  64%|██████▍   | 151/235 [02:01<01:06,  1.27it/s, loss=3.4951, avg_loss=3.7057]"
     ]
    },
    {
     "name": "stdout",
     "output_type": "stream",
     "text": [
      "{'kd_loss': 1.6456660032272339, 'feature_loss': 0.0033574309200048447, 'ce_loss': 8.007257461547852, 'cont_loss': 2.6978135108947754, 'teacher_loss': 5.187356472015381}\n"
     ]
    },
    {
     "name": "stderr",
     "output_type": "stream",
     "text": [
      "Validating:  65%|██████▍   | 152/235 [02:02<01:05,  1.27it/s, loss=3.4821, avg_loss=3.7042]"
     ]
    },
    {
     "name": "stdout",
     "output_type": "stream",
     "text": [
      "{'kd_loss': 1.5584726333618164, 'feature_loss': 0.00342367310076952, 'ce_loss': 8.1078462600708, 'cont_loss': 2.7018821239471436, 'teacher_loss': 5.719566345214844}\n"
     ]
    },
    {
     "name": "stderr",
     "output_type": "stream",
     "text": [
      "Validating:  65%|██████▌   | 153/235 [02:03<01:04,  1.27it/s, loss=3.4318, avg_loss=3.7024]"
     ]
    },
    {
     "name": "stdout",
     "output_type": "stream",
     "text": [
      "{'kd_loss': 1.4554084539413452, 'feature_loss': 0.003385758027434349, 'ce_loss': 8.116771697998047, 'cont_loss': 2.687725305557251, 'teacher_loss': 5.329570770263672}\n"
     ]
    },
    {
     "name": "stderr",
     "output_type": "stream",
     "text": [
      "Validating:  66%|██████▌   | 154/235 [02:04<01:03,  1.27it/s, loss=3.3966, avg_loss=3.7004]"
     ]
    },
    {
     "name": "stdout",
     "output_type": "stream",
     "text": [
      "{'kd_loss': 1.42234206199646, 'feature_loss': 0.0034156530164182186, 'ce_loss': 8.04487419128418, 'cont_loss': 2.7161307334899902, 'teacher_loss': 5.4918718338012695}\n"
     ]
    },
    {
     "name": "stderr",
     "output_type": "stream",
     "text": [
      "Validating:  66%|██████▌   | 155/235 [02:04<01:02,  1.27it/s, loss=3.2979, avg_loss=3.6978]"
     ]
    },
    {
     "name": "stdout",
     "output_type": "stream",
     "text": [
      "{'kd_loss': 1.190858244895935, 'feature_loss': 0.003449740819633007, 'ce_loss': 8.102657318115234, 'cont_loss': 2.7134029865264893, 'teacher_loss': 4.909746170043945}\n"
     ]
    },
    {
     "name": "stderr",
     "output_type": "stream",
     "text": [
      "Validating:  66%|██████▋   | 156/235 [02:05<01:02,  1.27it/s, loss=3.3146, avg_loss=3.6954]"
     ]
    },
    {
     "name": "stdout",
     "output_type": "stream",
     "text": [
      "{'kd_loss': 1.2351588010787964, 'feature_loss': 0.00347776897251606, 'ce_loss': 8.075292587280273, 'cont_loss': 2.7410786151885986, 'teacher_loss': 5.374938488006592}\n"
     ]
    },
    {
     "name": "stderr",
     "output_type": "stream",
     "text": [
      "Validating:  67%|██████▋   | 157/235 [02:06<01:01,  1.27it/s, loss=3.5636, avg_loss=3.6945]"
     ]
    },
    {
     "name": "stdout",
     "output_type": "stream",
     "text": [
      "{'kd_loss': 1.7041306495666504, 'feature_loss': 0.0034299541730433702, 'ce_loss': 8.119297981262207, 'cont_loss': 2.753974437713623, 'teacher_loss': 5.644392967224121}\n"
     ]
    },
    {
     "name": "stderr",
     "output_type": "stream",
     "text": [
      "Validating:  67%|██████▋   | 158/235 [02:07<01:00,  1.27it/s, loss=3.5868, avg_loss=3.6938]"
     ]
    },
    {
     "name": "stdout",
     "output_type": "stream",
     "text": [
      "{'kd_loss': 1.7404274940490723, 'feature_loss': 0.0034519650507718325, 'ce_loss': 8.139856338500977, 'cont_loss': 2.7428362369537354, 'teacher_loss': 5.496487617492676}\n"
     ]
    },
    {
     "name": "stderr",
     "output_type": "stream",
     "text": [
      "Validating:  68%|██████▊   | 159/235 [02:08<00:59,  1.27it/s, loss=3.6675, avg_loss=3.6937]"
     ]
    },
    {
     "name": "stdout",
     "output_type": "stream",
     "text": [
      "{'kd_loss': 1.9666457176208496, 'feature_loss': 0.003274917835369706, 'ce_loss': 8.036432266235352, 'cont_loss': 2.7294297218322754, 'teacher_loss': 4.1971964836120605}\n"
     ]
    },
    {
     "name": "stderr",
     "output_type": "stream",
     "text": [
      "Validating:  68%|██████▊   | 160/235 [02:08<00:58,  1.27it/s, loss=3.3533, avg_loss=3.6916]"
     ]
    },
    {
     "name": "stdout",
     "output_type": "stream",
     "text": [
      "{'kd_loss': 1.307654857635498, 'feature_loss': 0.0033393590711057186, 'ce_loss': 8.084102630615234, 'cont_loss': 2.738877773284912, 'teacher_loss': 4.6496429443359375}\n"
     ]
    },
    {
     "name": "stderr",
     "output_type": "stream",
     "text": [
      "Validating:  69%|██████▊   | 161/235 [02:09<00:58,  1.27it/s, loss=3.6276, avg_loss=3.6912]"
     ]
    },
    {
     "name": "stdout",
     "output_type": "stream",
     "text": [
      "{'kd_loss': 1.8680496215820312, 'feature_loss': 0.0033467980101704597, 'ce_loss': 8.05718994140625, 'cont_loss': 2.7603554725646973, 'teacher_loss': 5.558841228485107}\n"
     ]
    },
    {
     "name": "stderr",
     "output_type": "stream",
     "text": [
      "Validating:  69%|██████▉   | 162/235 [02:10<00:57,  1.27it/s, loss=3.6117, avg_loss=3.6907]"
     ]
    },
    {
     "name": "stdout",
     "output_type": "stream",
     "text": [
      "{'kd_loss': 1.8403793573379517, 'feature_loss': 0.0033815575297921896, 'ce_loss': 8.04648494720459, 'cont_loss': 2.772294521331787, 'teacher_loss': 5.435187816619873}\n"
     ]
    },
    {
     "name": "stderr",
     "output_type": "stream",
     "text": [
      "Validating:  69%|██████▉   | 163/235 [02:11<00:56,  1.27it/s, loss=3.3743, avg_loss=3.6887]"
     ]
    },
    {
     "name": "stdout",
     "output_type": "stream",
     "text": [
      "{'kd_loss': 1.3162181377410889, 'feature_loss': 0.003390612080693245, 'ce_loss': 8.127351760864258, 'cont_loss': 2.77663516998291, 'teacher_loss': 5.248791694641113}\n"
     ]
    },
    {
     "name": "stderr",
     "output_type": "stream",
     "text": [
      "Validating:  70%|██████▉   | 164/235 [02:12<00:55,  1.27it/s, loss=3.3384, avg_loss=3.6866]"
     ]
    },
    {
     "name": "stdout",
     "output_type": "stream",
     "text": [
      "{'kd_loss': 1.287369728088379, 'feature_loss': 0.0034776953980326653, 'ce_loss': 8.044623374938965, 'cont_loss': 2.8099517822265625, 'teacher_loss': 5.545783042907715}\n"
     ]
    },
    {
     "name": "stderr",
     "output_type": "stream",
     "text": [
      "Validating:  70%|███████   | 165/235 [02:12<00:55,  1.27it/s, loss=3.5272, avg_loss=3.6856]"
     ]
    },
    {
     "name": "stdout",
     "output_type": "stream",
     "text": [
      "{'kd_loss': 1.6422232389450073, 'feature_loss': 0.003430224023759365, 'ce_loss': 8.090633392333984, 'cont_loss': 2.7857213020324707, 'teacher_loss': 4.8619585037231445}\n"
     ]
    },
    {
     "name": "stderr",
     "output_type": "stream",
     "text": [
      "Validating:  71%|███████   | 166/235 [02:13<00:54,  1.27it/s, loss=3.4323, avg_loss=3.6841]"
     ]
    },
    {
     "name": "stdout",
     "output_type": "stream",
     "text": [
      "{'kd_loss': 1.4711189270019531, 'feature_loss': 0.0033285911194980145, 'ce_loss': 8.05008316040039, 'cont_loss': 2.8133561611175537, 'teacher_loss': 5.648599624633789}\n"
     ]
    },
    {
     "name": "stderr",
     "output_type": "stream",
     "text": [
      "Validating:  71%|███████   | 167/235 [02:14<00:53,  1.27it/s, loss=3.4706, avg_loss=3.6828]"
     ]
    },
    {
     "name": "stdout",
     "output_type": "stream",
     "text": [
      "{'kd_loss': 1.6044914722442627, 'feature_loss': 0.003331161569803953, 'ce_loss': 7.9633378982543945, 'cont_loss': 2.79050874710083, 'teacher_loss': 4.986838340759277}\n"
     ]
    },
    {
     "name": "stderr",
     "output_type": "stream",
     "text": [
      "Validating:  71%|███████▏  | 168/235 [02:15<00:52,  1.27it/s, loss=3.5319, avg_loss=3.6819]"
     ]
    },
    {
     "name": "stdout",
     "output_type": "stream",
     "text": [
      "{'kd_loss': 1.6681410074234009, 'feature_loss': 0.003209616057574749, 'ce_loss': 8.063867568969727, 'cont_loss': 2.7837047576904297, 'teacher_loss': 4.82204008102417}\n"
     ]
    },
    {
     "name": "stderr",
     "output_type": "stream",
     "text": [
      "Validating:  72%|███████▏  | 169/235 [02:15<00:51,  1.27it/s, loss=3.4637, avg_loss=3.6806]"
     ]
    },
    {
     "name": "stdout",
     "output_type": "stream",
     "text": [
      "{'kd_loss': 1.5188233852386475, 'feature_loss': 0.0033857887610793114, 'ce_loss': 8.070718765258789, 'cont_loss': 2.8277230262756348, 'teacher_loss': 5.127660274505615}\n"
     ]
    },
    {
     "name": "stderr",
     "output_type": "stream",
     "text": [
      "Validating:  72%|███████▏  | 170/235 [02:16<00:51,  1.27it/s, loss=3.5046, avg_loss=3.6796]"
     ]
    },
    {
     "name": "stdout",
     "output_type": "stream",
     "text": [
      "{'kd_loss': 1.6029229164123535, 'feature_loss': 0.003355816937983036, 'ce_loss': 8.065414428710938, 'cont_loss': 2.83211088180542, 'teacher_loss': 5.206639766693115}\n"
     ]
    },
    {
     "name": "stderr",
     "output_type": "stream",
     "text": [
      "Validating:  73%|███████▎  | 171/235 [02:17<00:50,  1.27it/s, loss=3.4592, avg_loss=3.6783]"
     ]
    },
    {
     "name": "stdout",
     "output_type": "stream",
     "text": [
      "{'kd_loss': 1.4975745677947998, 'feature_loss': 0.003342765150591731, 'ce_loss': 8.09243106842041, 'cont_loss': 2.82352876663208, 'teacher_loss': 5.462214946746826}\n"
     ]
    },
    {
     "name": "stderr",
     "output_type": "stream",
     "text": [
      "Validating:  73%|███████▎  | 172/235 [02:18<00:49,  1.27it/s, loss=3.5575, avg_loss=3.6776]"
     ]
    },
    {
     "name": "stdout",
     "output_type": "stream",
     "text": [
      "{'kd_loss': 1.7190282344818115, 'feature_loss': 0.0033725653775036335, 'ce_loss': 8.03628921508789, 'cont_loss': 2.868100643157959, 'teacher_loss': 5.3757219314575195}\n"
     ]
    },
    {
     "name": "stderr",
     "output_type": "stream",
     "text": [
      "Validating:  74%|███████▎  | 173/235 [02:19<00:48,  1.27it/s, loss=3.4463, avg_loss=3.6763]"
     ]
    },
    {
     "name": "stdout",
     "output_type": "stream",
     "text": [
      "{'kd_loss': 1.4748976230621338, 'feature_loss': 0.0034321139100939035, 'ce_loss': 8.076207160949707, 'cont_loss': 2.8561573028564453, 'teacher_loss': 5.539563179016113}\n"
     ]
    },
    {
     "name": "stderr",
     "output_type": "stream",
     "text": [
      "Validating:  74%|███████▍  | 174/235 [02:19<00:48,  1.27it/s, loss=3.8130, avg_loss=3.6771]"
     ]
    },
    {
     "name": "stdout",
     "output_type": "stream",
     "text": [
      "{'kd_loss': 2.235682725906372, 'feature_loss': 0.0033578083384782076, 'ce_loss': 8.036563873291016, 'cont_loss': 2.838538885116577, 'teacher_loss': 5.393017292022705}\n"
     ]
    },
    {
     "name": "stderr",
     "output_type": "stream",
     "text": [
      "Validating:  74%|███████▍  | 175/235 [02:20<00:47,  1.27it/s, loss=3.4217, avg_loss=3.6756]"
     ]
    },
    {
     "name": "stdout",
     "output_type": "stream",
     "text": [
      "{'kd_loss': 1.4524765014648438, 'feature_loss': 0.003359658643603325, 'ce_loss': 8.031203269958496, 'cont_loss': 2.857544422149658, 'teacher_loss': 5.392282962799072}\n"
     ]
    },
    {
     "name": "stderr",
     "output_type": "stream",
     "text": [
      "Validating:  75%|███████▍  | 176/235 [02:21<00:46,  1.27it/s, loss=3.3616, avg_loss=3.6738]"
     ]
    },
    {
     "name": "stdout",
     "output_type": "stream",
     "text": [
      "{'kd_loss': 1.2946714162826538, 'feature_loss': 0.0034486157819628716, 'ce_loss': 8.081384658813477, 'cont_loss': 2.894746780395508, 'teacher_loss': 5.197727203369141}\n"
     ]
    },
    {
     "name": "stderr",
     "output_type": "stream",
     "text": [
      "Validating:  75%|███████▌  | 177/235 [02:22<00:45,  1.27it/s, loss=3.2627, avg_loss=3.6715]"
     ]
    },
    {
     "name": "stdout",
     "output_type": "stream",
     "text": [
      "{'kd_loss': 1.0844042301177979, 'feature_loss': 0.0034331628121435642, 'ce_loss': 8.104599952697754, 'cont_loss': 2.8879923820495605, 'teacher_loss': 5.034265518188477}\n"
     ]
    },
    {
     "name": "stderr",
     "output_type": "stream",
     "text": [
      "Validating:  76%|███████▌  | 178/235 [02:23<00:44,  1.27it/s, loss=3.4833, avg_loss=3.6704]"
     ]
    },
    {
     "name": "stdout",
     "output_type": "stream",
     "text": [
      "{'kd_loss': 1.5880435705184937, 'feature_loss': 0.003351128427311778, 'ce_loss': 8.005424499511719, 'cont_loss': 2.8729758262634277, 'teacher_loss': 4.804252624511719}\n"
     ]
    },
    {
     "name": "stderr",
     "output_type": "stream",
     "text": [
      "Validating:  76%|███████▌  | 179/235 [02:23<00:43,  1.27it/s, loss=3.7103, avg_loss=3.6707]"
     ]
    },
    {
     "name": "stdout",
     "output_type": "stream",
     "text": [
      "{'kd_loss': 2.0714263916015625, 'feature_loss': 0.003323871176689863, 'ce_loss': 7.9519362449646, 'cont_loss': 2.887078285217285, 'teacher_loss': 6.038568019866943}\n"
     ]
    },
    {
     "name": "stderr",
     "output_type": "stream",
     "text": [
      "Validating:  77%|███████▋  | 180/235 [02:24<00:43,  1.28it/s, loss=3.4723, avg_loss=3.6696]"
     ]
    },
    {
     "name": "stdout",
     "output_type": "stream",
     "text": [
      "{'kd_loss': 1.4988210201263428, 'feature_loss': 0.0033988161012530327, 'ce_loss': 8.104411125183105, 'cont_loss': 2.911980628967285, 'teacher_loss': 4.867123126983643}\n"
     ]
    },
    {
     "name": "stderr",
     "output_type": "stream",
     "text": [
      "Validating:  77%|███████▋  | 181/235 [02:25<00:42,  1.28it/s, loss=3.7708, avg_loss=3.6701]"
     ]
    },
    {
     "name": "stdout",
     "output_type": "stream",
     "text": [
      "{'kd_loss': 2.066201686859131, 'feature_loss': 0.0032287370413541794, 'ce_loss': 8.157830238342285, 'cont_loss': 2.9007089138031006, 'teacher_loss': 5.614599227905273}\n"
     ]
    },
    {
     "name": "stderr",
     "output_type": "stream",
     "text": [
      "Validating:  77%|███████▋  | 182/235 [02:26<00:41,  1.27it/s, loss=3.5006, avg_loss=3.6692]"
     ]
    },
    {
     "name": "stdout",
     "output_type": "stream",
     "text": [
      "{'kd_loss': 1.564565896987915, 'feature_loss': 0.003381728660315275, 'ce_loss': 8.089020729064941, 'cont_loss': 2.9126343727111816, 'teacher_loss': 5.144270896911621}\n"
     ]
    },
    {
     "name": "stderr",
     "output_type": "stream",
     "text": [
      "Validating:  78%|███████▊  | 183/235 [02:26<00:40,  1.27it/s, loss=3.4047, avg_loss=3.6677]"
     ]
    },
    {
     "name": "stdout",
     "output_type": "stream",
     "text": [
      "{'kd_loss': 1.3526673316955566, 'feature_loss': 0.00343801430426538, 'ce_loss': 8.116304397583008, 'cont_loss': 2.930901288986206, 'teacher_loss': 5.593324661254883}\n"
     ]
    },
    {
     "name": "stderr",
     "output_type": "stream",
     "text": [
      "Validating:  78%|███████▊  | 184/235 [02:27<00:39,  1.28it/s, loss=3.5556, avg_loss=3.6671]"
     ]
    },
    {
     "name": "stdout",
     "output_type": "stream",
     "text": [
      "{'kd_loss': 1.6836087703704834, 'feature_loss': 0.0033815684728324413, 'ce_loss': 8.072139739990234, 'cont_loss': 2.9185290336608887, 'teacher_loss': 5.711702823638916}\n"
     ]
    },
    {
     "name": "stderr",
     "output_type": "stream",
     "text": [
      "Validating:  79%|███████▊  | 185/235 [02:28<00:39,  1.28it/s, loss=3.3936, avg_loss=3.6656]"
     ]
    },
    {
     "name": "stdout",
     "output_type": "stream",
     "text": [
      "{'kd_loss': 1.338949203491211, 'feature_loss': 0.003394413972273469, 'ce_loss': 8.096403121948242, 'cont_loss': 2.9486541748046875, 'teacher_loss': 5.468832969665527}\n"
     ]
    },
    {
     "name": "stderr",
     "output_type": "stream",
     "text": [
      "Validating:  79%|███████▉  | 186/235 [02:29<00:38,  1.28it/s, loss=3.5522, avg_loss=3.6650]"
     ]
    },
    {
     "name": "stdout",
     "output_type": "stream",
     "text": [
      "{'kd_loss': 1.6652021408081055, 'feature_loss': 0.0033258614130318165, 'ce_loss': 8.083046913146973, 'cont_loss': 2.9439332485198975, 'teacher_loss': 4.764962673187256}\n"
     ]
    },
    {
     "name": "stderr",
     "output_type": "stream",
     "text": [
      "Validating:  80%|███████▉  | 187/235 [02:30<00:37,  1.28it/s, loss=3.5841, avg_loss=3.6646]"
     ]
    },
    {
     "name": "stdout",
     "output_type": "stream",
     "text": [
      "{'kd_loss': 1.7204831838607788, 'feature_loss': 0.0033962377347052097, 'ce_loss': 8.098525047302246, 'cont_loss': 2.9396276473999023, 'teacher_loss': 5.421426773071289}\n"
     ]
    },
    {
     "name": "stderr",
     "output_type": "stream",
     "text": [
      "Validating:  80%|████████  | 188/235 [02:30<00:36,  1.28it/s, loss=3.3901, avg_loss=3.6631]"
     ]
    },
    {
     "name": "stdout",
     "output_type": "stream",
     "text": [
      "{'kd_loss': 1.3286352157592773, 'feature_loss': 0.0034738529939204454, 'ce_loss': 8.09904956817627, 'cont_loss': 2.9576659202575684, 'teacher_loss': 5.460629940032959}\n"
     ]
    },
    {
     "name": "stderr",
     "output_type": "stream",
     "text": [
      "Validating:  80%|████████  | 189/235 [02:31<00:35,  1.28it/s, loss=3.7728, avg_loss=3.6637]"
     ]
    },
    {
     "name": "stdout",
     "output_type": "stream",
     "text": [
      "{'kd_loss': 2.1119003295898438, 'feature_loss': 0.003293711459264159, 'ce_loss': 8.06805419921875, 'cont_loss': 2.9610862731933594, 'teacher_loss': 5.663576126098633}\n"
     ]
    },
    {
     "name": "stderr",
     "output_type": "stream",
     "text": [
      "Validating:  81%|████████  | 190/235 [02:32<00:35,  1.28it/s, loss=3.6091, avg_loss=3.6634]"
     ]
    },
    {
     "name": "stdout",
     "output_type": "stream",
     "text": [
      "{'kd_loss': 1.7850064039230347, 'feature_loss': 0.003367580473423004, 'ce_loss': 8.077314376831055, 'cont_loss': 2.9309403896331787, 'teacher_loss': 5.326088905334473}\n"
     ]
    },
    {
     "name": "stderr",
     "output_type": "stream",
     "text": [
      "Validating:  81%|████████▏ | 191/235 [02:33<00:34,  1.28it/s, loss=3.6075, avg_loss=3.6631]"
     ]
    },
    {
     "name": "stdout",
     "output_type": "stream",
     "text": [
      "{'kd_loss': 1.8023455142974854, 'feature_loss': 0.0033519479911774397, 'ce_loss': 8.034910202026367, 'cont_loss': 2.9548168182373047, 'teacher_loss': 6.058452606201172}\n"
     ]
    },
    {
     "name": "stderr",
     "output_type": "stream",
     "text": [
      "Validating:  82%|████████▏ | 192/235 [02:33<00:33,  1.28it/s, loss=3.5882, avg_loss=3.6628]"
     ]
    },
    {
     "name": "stdout",
     "output_type": "stream",
     "text": [
      "{'kd_loss': 1.7180202007293701, 'feature_loss': 0.003385253017768264, 'ce_loss': 8.102944374084473, 'cont_loss': 2.9794914722442627, 'teacher_loss': 5.298572540283203}\n"
     ]
    },
    {
     "name": "stderr",
     "output_type": "stream",
     "text": [
      "Validating:  82%|████████▏ | 193/235 [02:34<00:32,  1.28it/s, loss=3.5768, avg_loss=3.6623]"
     ]
    },
    {
     "name": "stdout",
     "output_type": "stream",
     "text": [
      "{'kd_loss': 1.7347981929779053, 'feature_loss': 0.0033678789623081684, 'ce_loss': 8.038248062133789, 'cont_loss': 2.9754438400268555, 'teacher_loss': 5.121581077575684}\n"
     ]
    },
    {
     "name": "stderr",
     "output_type": "stream",
     "text": [
      "Validating:  83%|████████▎ | 194/235 [02:35<00:32,  1.28it/s, loss=3.5361, avg_loss=3.6617]"
     ]
    },
    {
     "name": "stdout",
     "output_type": "stream",
     "text": [
      "{'kd_loss': 1.6373175382614136, 'feature_loss': 0.0034326042514294386, 'ce_loss': 8.060805320739746, 'cont_loss': 2.9882922172546387, 'teacher_loss': 4.704622745513916}\n"
     ]
    },
    {
     "name": "stderr",
     "output_type": "stream",
     "text": [
      "Validating:  83%|████████▎ | 195/235 [02:36<00:31,  1.28it/s, loss=3.5576, avg_loss=3.6611]"
     ]
    },
    {
     "name": "stdout",
     "output_type": "stream",
     "text": [
      "{'kd_loss': 1.6532316207885742, 'feature_loss': 0.003381673712283373, 'ce_loss': 8.104805946350098, 'cont_loss': 2.992056369781494, 'teacher_loss': 5.269620418548584}\n"
     ]
    },
    {
     "name": "stderr",
     "output_type": "stream",
     "text": [
      "Validating:  83%|████████▎ | 196/235 [02:37<00:30,  1.28it/s, loss=3.4284, avg_loss=3.6599]"
     ]
    },
    {
     "name": "stdout",
     "output_type": "stream",
     "text": [
      "{'kd_loss': 1.3916051387786865, 'feature_loss': 0.003476522397249937, 'ce_loss': 8.101951599121094, 'cont_loss': 3.0168631076812744, 'teacher_loss': 5.756518363952637}\n"
     ]
    },
    {
     "name": "stderr",
     "output_type": "stream",
     "text": [
      "Validating:  84%|████████▍ | 197/235 [02:37<00:29,  1.28it/s, loss=3.6171, avg_loss=3.6597]"
     ]
    },
    {
     "name": "stdout",
     "output_type": "stream",
     "text": [
      "{'kd_loss': 1.8100740909576416, 'feature_loss': 0.003346535377204418, 'ce_loss': 8.044496536254883, 'cont_loss': 2.984142303466797, 'teacher_loss': 5.10541296005249}\n"
     ]
    },
    {
     "name": "stderr",
     "output_type": "stream",
     "text": [
      "Validating:  84%|████████▍ | 198/235 [02:38<00:28,  1.28it/s, loss=3.4597, avg_loss=3.6587]"
     ]
    },
    {
     "name": "stdout",
     "output_type": "stream",
     "text": [
      "{'kd_loss': 1.452193260192871, 'feature_loss': 0.0033693050500005484, 'ce_loss': 8.111892700195312, 'cont_loss': 2.9971938133239746, 'teacher_loss': 5.62680721282959}\n"
     ]
    },
    {
     "name": "stderr",
     "output_type": "stream",
     "text": [
      "Validating:  85%|████████▍ | 199/235 [02:39<00:28,  1.28it/s, loss=3.4710, avg_loss=3.6578]"
     ]
    },
    {
     "name": "stdout",
     "output_type": "stream",
     "text": [
      "{'kd_loss': 1.4523851871490479, 'feature_loss': 0.0034491149708628654, 'ce_loss': 8.1386137008667, 'cont_loss': 3.0287046432495117, 'teacher_loss': 5.980956554412842}\n"
     ]
    },
    {
     "name": "stderr",
     "output_type": "stream",
     "text": [
      "Validating:  85%|████████▌ | 200/235 [02:40<00:27,  1.28it/s, loss=3.2972, avg_loss=3.6560]"
     ]
    },
    {
     "name": "stdout",
     "output_type": "stream",
     "text": [
      "{'kd_loss': 1.1257522106170654, 'feature_loss': 0.0033909522462636232, 'ce_loss': 8.09787368774414, 'cont_loss': 3.045990228652954, 'teacher_loss': 4.889878273010254}\n"
     ]
    },
    {
     "name": "stderr",
     "output_type": "stream",
     "text": [
      "Validating:  86%|████████▌ | 201/235 [02:41<00:26,  1.28it/s, loss=3.5466, avg_loss=3.6554]"
     ]
    },
    {
     "name": "stdout",
     "output_type": "stream",
     "text": [
      "{'kd_loss': 1.669917345046997, 'feature_loss': 0.0033732394222170115, 'ce_loss': 8.026877403259277, 'cont_loss': 3.032212257385254, 'teacher_loss': 5.532529354095459}\n"
     ]
    },
    {
     "name": "stderr",
     "output_type": "stream",
     "text": [
      "Validating:  86%|████████▌ | 202/235 [02:41<00:25,  1.28it/s, loss=3.6409, avg_loss=3.6553]"
     ]
    },
    {
     "name": "stdout",
     "output_type": "stream",
     "text": [
      "{'kd_loss': 1.8560912609100342, 'feature_loss': 0.0033252621069550514, 'ce_loss': 8.03174114227295, 'cont_loss': 3.0300216674804688, 'teacher_loss': 5.703901290893555}\n"
     ]
    },
    {
     "name": "stderr",
     "output_type": "stream",
     "text": [
      "Validating:  86%|████████▋ | 203/235 [02:42<00:25,  1.28it/s, loss=3.4518, avg_loss=3.6543]"
     ]
    },
    {
     "name": "stdout",
     "output_type": "stream",
     "text": [
      "{'kd_loss': 1.4520282745361328, 'feature_loss': 0.003421304514631629, 'ce_loss': 8.058943748474121, 'cont_loss': 3.078009605407715, 'teacher_loss': 5.9990339279174805}\n"
     ]
    },
    {
     "name": "stderr",
     "output_type": "stream",
     "text": [
      "Validating:  87%|████████▋ | 204/235 [02:43<00:24,  1.28it/s, loss=3.4780, avg_loss=3.6535]"
     ]
    },
    {
     "name": "stdout",
     "output_type": "stream",
     "text": [
      "{'kd_loss': 1.502748727798462, 'feature_loss': 0.003416376421228051, 'ce_loss': 8.067944526672363, 'cont_loss': 3.058769702911377, 'teacher_loss': 5.043741226196289}\n"
     ]
    },
    {
     "name": "stderr",
     "output_type": "stream",
     "text": [
      "Validating:  87%|████████▋ | 205/235 [02:44<00:23,  1.27it/s, loss=3.5130, avg_loss=3.6528]"
     ]
    },
    {
     "name": "stdout",
     "output_type": "stream",
     "text": [
      "{'kd_loss': 1.5593163967132568, 'feature_loss': 0.0034111705608665943, 'ce_loss': 8.085358619689941, 'cont_loss': 3.074171543121338, 'teacher_loss': 5.433167457580566}\n"
     ]
    },
    {
     "name": "stderr",
     "output_type": "stream",
     "text": [
      "Validating:  88%|████████▊ | 206/235 [02:44<00:22,  1.27it/s, loss=3.5119, avg_loss=3.6521]"
     ]
    },
    {
     "name": "stdout",
     "output_type": "stream",
     "text": [
      "{'kd_loss': 1.5380046367645264, 'feature_loss': 0.003417390398681164, 'ce_loss': 8.119318008422852, 'cont_loss': 3.067845344543457, 'teacher_loss': 5.553740978240967}\n"
     ]
    },
    {
     "name": "stderr",
     "output_type": "stream",
     "text": [
      "Validating:  88%|████████▊ | 207/235 [02:45<00:22,  1.27it/s, loss=3.3194, avg_loss=3.6505]"
     ]
    },
    {
     "name": "stdout",
     "output_type": "stream",
     "text": [
      "{'kd_loss': 1.1910345554351807, 'feature_loss': 0.003486660774797201, 'ce_loss': 8.04502010345459, 'cont_loss': 3.100625514984131, 'teacher_loss': 5.259390830993652}\n"
     ]
    },
    {
     "name": "stderr",
     "output_type": "stream",
     "text": [
      "Validating:  89%|████████▊ | 208/235 [02:46<00:21,  1.27it/s, loss=3.4189, avg_loss=3.6494]"
     ]
    },
    {
     "name": "stdout",
     "output_type": "stream",
     "text": [
      "{'kd_loss': 1.3576117753982544, 'feature_loss': 0.0033766592387109995, 'ce_loss': 8.093875885009766, 'cont_loss': 3.1154794692993164, 'teacher_loss': 6.217808723449707}\n"
     ]
    },
    {
     "name": "stderr",
     "output_type": "stream",
     "text": [
      "Validating:  89%|████████▉ | 209/235 [02:47<00:20,  1.27it/s, loss=3.4345, avg_loss=3.6484]"
     ]
    },
    {
     "name": "stdout",
     "output_type": "stream",
     "text": [
      "{'kd_loss': 1.4094820022583008, 'feature_loss': 0.003466872964054346, 'ce_loss': 8.065329551696777, 'cont_loss': 3.0982820987701416, 'teacher_loss': 5.220355987548828}\n"
     ]
    },
    {
     "name": "stderr",
     "output_type": "stream",
     "text": [
      "Validating:  89%|████████▉ | 210/235 [02:48<00:19,  1.27it/s, loss=3.4600, avg_loss=3.6475]"
     ]
    },
    {
     "name": "stdout",
     "output_type": "stream",
     "text": [
      "{'kd_loss': 1.4481756687164307, 'feature_loss': 0.003341216128319502, 'ce_loss': 8.088685989379883, 'cont_loss': 3.0902204513549805, 'teacher_loss': 5.878359317779541}\n"
     ]
    },
    {
     "name": "stderr",
     "output_type": "stream",
     "text": [
      "Validating:  90%|████████▉ | 211/235 [02:48<00:18,  1.27it/s, loss=3.4753, avg_loss=3.6466]"
     ]
    },
    {
     "name": "stdout",
     "output_type": "stream",
     "text": [
      "{'kd_loss': 1.5100486278533936, 'feature_loss': 0.003375755622982979, 'ce_loss': 8.024927139282227, 'cont_loss': 3.1243820190429688, 'teacher_loss': 4.917025089263916}\n"
     ]
    },
    {
     "name": "stderr",
     "output_type": "stream",
     "text": [
      "Validating:  90%|█████████ | 212/235 [02:49<00:18,  1.27it/s, loss=3.5017, avg_loss=3.6460]"
     ]
    },
    {
     "name": "stdout",
     "output_type": "stream",
     "text": [
      "{'kd_loss': 1.5467443466186523, 'feature_loss': 0.0033966735936701298, 'ce_loss': 8.051913261413574, 'cont_loss': 3.123721122741699, 'teacher_loss': 5.3952507972717285}\n"
     ]
    },
    {
     "name": "stderr",
     "output_type": "stream",
     "text": [
      "Validating:  91%|█████████ | 213/235 [02:50<00:17,  1.27it/s, loss=3.3224, avg_loss=3.6444]"
     ]
    },
    {
     "name": "stdout",
     "output_type": "stream",
     "text": [
      "{'kd_loss': 1.176570177078247, 'feature_loss': 0.0035505082923918962, 'ce_loss': 8.06580638885498, 'cont_loss': 3.1397457122802734, 'teacher_loss': 5.50150728225708}\n"
     ]
    },
    {
     "name": "stderr",
     "output_type": "stream",
     "text": [
      "Validating:  91%|█████████ | 214/235 [02:51<00:16,  1.27it/s, loss=3.4309, avg_loss=3.6434]"
     ]
    },
    {
     "name": "stdout",
     "output_type": "stream",
     "text": [
      "{'kd_loss': 1.3789525032043457, 'feature_loss': 0.0033985809423029423, 'ce_loss': 8.088438987731934, 'cont_loss': 3.145115375518799, 'teacher_loss': 5.728794574737549}\n"
     ]
    },
    {
     "name": "stderr",
     "output_type": "stream",
     "text": [
      "Validating:  91%|█████████▏| 215/235 [02:52<00:15,  1.27it/s, loss=3.4589, avg_loss=3.6426]"
     ]
    },
    {
     "name": "stdout",
     "output_type": "stream",
     "text": [
      "{'kd_loss': 1.4425292015075684, 'feature_loss': 0.003435519989579916, 'ce_loss': 8.076858520507812, 'cont_loss': 3.142091751098633, 'teacher_loss': 6.400411128997803}\n"
     ]
    },
    {
     "name": "stderr",
     "output_type": "stream",
     "text": [
      "Validating:  92%|█████████▏| 216/235 [02:52<00:14,  1.27it/s, loss=3.4025, avg_loss=3.6415]"
     ]
    },
    {
     "name": "stdout",
     "output_type": "stream",
     "text": [
      "{'kd_loss': 1.3255317211151123, 'feature_loss': 0.0034111530985683203, 'ce_loss': 8.085803031921387, 'cont_loss': 3.1361446380615234, 'teacher_loss': 5.8058037757873535}\n"
     ]
    },
    {
     "name": "stderr",
     "output_type": "stream",
     "text": [
      "Validating:  92%|█████████▏| 217/235 [02:53<00:14,  1.27it/s, loss=3.2824, avg_loss=3.6398]"
     ]
    },
    {
     "name": "stdout",
     "output_type": "stream",
     "text": [
      "{'kd_loss': 1.0815367698669434, 'feature_loss': 0.003493065480142832, 'ce_loss': 8.08288288116455, 'cont_loss': 3.1638646125793457, 'teacher_loss': 5.505784511566162}\n"
     ]
    },
    {
     "name": "stderr",
     "output_type": "stream",
     "text": [
      "Validating:  93%|█████████▎| 218/235 [02:54<00:13,  1.27it/s, loss=3.3997, avg_loss=3.6387]"
     ]
    },
    {
     "name": "stdout",
     "output_type": "stream",
     "text": [
      "{'kd_loss': 1.328596591949463, 'feature_loss': 0.0034056478179991245, 'ce_loss': 8.062972068786621, 'cont_loss': 3.162020206451416, 'teacher_loss': 5.586061000823975}\n"
     ]
    },
    {
     "name": "stderr",
     "output_type": "stream",
     "text": [
      "Validating:  93%|█████████▎| 219/235 [02:55<00:12,  1.27it/s, loss=3.4079, avg_loss=3.6377]"
     ]
    },
    {
     "name": "stdout",
     "output_type": "stream",
     "text": [
      "{'kd_loss': 1.3234775066375732, 'feature_loss': 0.003484381828457117, 'ce_loss': 8.10214614868164, 'cont_loss': 3.151731014251709, 'teacher_loss': 5.39265775680542}\n"
     ]
    },
    {
     "name": "stderr",
     "output_type": "stream",
     "text": [
      "Validating:  94%|█████████▎| 220/235 [02:55<00:11,  1.27it/s, loss=3.4999, avg_loss=3.6370]"
     ]
    },
    {
     "name": "stdout",
     "output_type": "stream",
     "text": [
      "{'kd_loss': 1.5184202194213867, 'feature_loss': 0.003378461115062237, 'ce_loss': 8.079654693603516, 'cont_loss': 3.164809226989746, 'teacher_loss': 5.879956245422363}\n"
     ]
    },
    {
     "name": "stderr",
     "output_type": "stream",
     "text": [
      "Validating:  94%|█████████▍| 221/235 [02:56<00:11,  1.27it/s, loss=3.3362, avg_loss=3.6357]"
     ]
    },
    {
     "name": "stdout",
     "output_type": "stream",
     "text": [
      "{'kd_loss': 1.1673500537872314, 'feature_loss': 0.0034313369542360306, 'ce_loss': 8.104002952575684, 'cont_loss': 3.209432601928711, 'teacher_loss': 5.783741474151611}\n"
     ]
    },
    {
     "name": "stderr",
     "output_type": "stream",
     "text": [
      "Validating:  94%|█████████▍| 222/235 [02:57<00:10,  1.27it/s, loss=3.3272, avg_loss=3.6343]"
     ]
    },
    {
     "name": "stdout",
     "output_type": "stream",
     "text": [
      "{'kd_loss': 1.1672675609588623, 'feature_loss': 0.003452891716733575, 'ce_loss': 8.079206466674805, 'cont_loss': 3.1944918632507324, 'teacher_loss': 5.868935585021973}\n"
     ]
    },
    {
     "name": "stderr",
     "output_type": "stream",
     "text": [
      "Validating:  95%|█████████▍| 223/235 [02:58<00:09,  1.27it/s, loss=3.5128, avg_loss=3.6337]"
     ]
    },
    {
     "name": "stdout",
     "output_type": "stream",
     "text": [
      "{'kd_loss': 1.546233057975769, 'feature_loss': 0.003404023591428995, 'ce_loss': 8.074885368347168, 'cont_loss': 3.1692299842834473, 'teacher_loss': 4.975568771362305}\n"
     ]
    },
    {
     "name": "stderr",
     "output_type": "stream",
     "text": [
      "Validating:  95%|█████████▌| 224/235 [02:59<00:08,  1.27it/s, loss=3.3049, avg_loss=3.6323]"
     ]
    },
    {
     "name": "stdout",
     "output_type": "stream",
     "text": [
      "{'kd_loss': 1.108549952507019, 'feature_loss': 0.0034237245563417673, 'ce_loss': 8.1008882522583, 'cont_loss': 3.1998302936553955, 'teacher_loss': 5.288612365722656}\n"
     ]
    },
    {
     "name": "stderr",
     "output_type": "stream",
     "text": [
      "Validating:  96%|█████████▌| 225/235 [02:59<00:07,  1.27it/s, loss=3.4343, avg_loss=3.6314]"
     ]
    },
    {
     "name": "stdout",
     "output_type": "stream",
     "text": [
      "{'kd_loss': 1.3716416358947754, 'feature_loss': 0.003467460162937641, 'ce_loss': 8.088125228881836, 'cont_loss': 3.2166478633880615, 'teacher_loss': 5.217742443084717}\n"
     ]
    },
    {
     "name": "stderr",
     "output_type": "stream",
     "text": [
      "Validating:  96%|█████████▌| 226/235 [03:00<00:07,  1.27it/s, loss=3.3719, avg_loss=3.6302]"
     ]
    },
    {
     "name": "stdout",
     "output_type": "stream",
     "text": [
      "{'kd_loss': 1.2553999423980713, 'feature_loss': 0.0033563273027539253, 'ce_loss': 8.073502540588379, 'cont_loss': 3.2178807258605957, 'teacher_loss': 5.341204643249512}\n"
     ]
    },
    {
     "name": "stderr",
     "output_type": "stream",
     "text": [
      "Validating:  97%|█████████▋| 227/235 [03:01<00:06,  1.27it/s, loss=3.5656, avg_loss=3.6300]"
     ]
    },
    {
     "name": "stdout",
     "output_type": "stream",
     "text": [
      "{'kd_loss': 1.6360054016113281, 'feature_loss': 0.00345241604372859, 'ce_loss': 8.078873634338379, 'cont_loss': 3.236356258392334, 'teacher_loss': 5.42726993560791}\n"
     ]
    },
    {
     "name": "stderr",
     "output_type": "stream",
     "text": [
      "Validating:  97%|█████████▋| 228/235 [03:02<00:05,  1.27it/s, loss=3.5048, avg_loss=3.6294]"
     ]
    },
    {
     "name": "stdout",
     "output_type": "stream",
     "text": [
      "{'kd_loss': 1.5050232410430908, 'feature_loss': 0.003434369806200266, 'ce_loss': 8.099166870117188, 'cont_loss': 3.2215497493743896, 'teacher_loss': 5.550925254821777}\n"
     ]
    },
    {
     "name": "stderr",
     "output_type": "stream",
     "text": [
      "Validating:  97%|█████████▋| 229/235 [03:03<00:04,  1.27it/s, loss=3.5462, avg_loss=3.6291]"
     ]
    },
    {
     "name": "stdout",
     "output_type": "stream",
     "text": [
      "{'kd_loss': 1.5951162576675415, 'feature_loss': 0.003326092381030321, 'ce_loss': 8.079154014587402, 'cont_loss': 3.2457146644592285, 'teacher_loss': 5.733875751495361}\n"
     ]
    },
    {
     "name": "stderr",
     "output_type": "stream",
     "text": [
      "Validating:  98%|█████████▊| 230/235 [03:03<00:03,  1.27it/s, loss=3.3818, avg_loss=3.6280]"
     ]
    },
    {
     "name": "stdout",
     "output_type": "stream",
     "text": [
      "{'kd_loss': 1.2466623783111572, 'feature_loss': 0.0035082604736089706, 'ce_loss': 8.097135543823242, 'cont_loss': 3.2898571491241455, 'teacher_loss': 5.395483493804932}\n"
     ]
    },
    {
     "name": "stderr",
     "output_type": "stream",
     "text": [
      "Validating:  98%|█████████▊| 231/235 [03:04<00:03,  1.27it/s, loss=3.5767, avg_loss=3.6278]"
     ]
    },
    {
     "name": "stdout",
     "output_type": "stream",
     "text": [
      "{'kd_loss': 1.6242656707763672, 'feature_loss': 0.0033950984943658113, 'ce_loss': 8.125285148620605, 'cont_loss': 3.265956401824951, 'teacher_loss': 5.882818698883057}\n"
     ]
    },
    {
     "name": "stderr",
     "output_type": "stream",
     "text": [
      "Validating:  99%|█████████▊| 232/235 [03:05<00:02,  1.27it/s, loss=3.3765, avg_loss=3.6267]"
     ]
    },
    {
     "name": "stdout",
     "output_type": "stream",
     "text": [
      "{'kd_loss': 1.2485828399658203, 'feature_loss': 0.003308877581730485, 'ce_loss': 8.085753440856934, 'cont_loss': 3.2619338035583496, 'teacher_loss': 5.1311750411987305}\n"
     ]
    },
    {
     "name": "stderr",
     "output_type": "stream",
     "text": [
      "Validating:  99%|█████████▉| 233/235 [03:06<00:01,  1.27it/s, loss=3.4138, avg_loss=3.6258]"
     ]
    },
    {
     "name": "stdout",
     "output_type": "stream",
     "text": [
      "{'kd_loss': 1.313687801361084, 'feature_loss': 0.0034633446484804153, 'ce_loss': 8.091219902038574, 'cont_loss': 3.2924633026123047, 'teacher_loss': 5.8602070808410645}\n"
     ]
    },
    {
     "name": "stderr",
     "output_type": "stream",
     "text": [
      "Validating: 100%|█████████▉| 234/235 [03:07<00:00,  1.27it/s, loss=3.3958, avg_loss=3.6248]"
     ]
    },
    {
     "name": "stdout",
     "output_type": "stream",
     "text": [
      "{'kd_loss': 1.2705941200256348, 'feature_loss': 0.0033848979510366917, 'ce_loss': 8.114215850830078, 'cont_loss': 3.258807897567749, 'teacher_loss': 5.168187141418457}\n"
     ]
    },
    {
     "name": "stderr",
     "output_type": "stream",
     "text": [
      "Validating: 100%|██████████| 235/235 [03:07<00:00,  1.25it/s, loss=3.3897, avg_loss=3.6238]"
     ]
    },
    {
     "name": "stdout",
     "output_type": "stream",
     "text": [
      "{'kd_loss': 1.469921588897705, 'feature_loss': 0.003413104685023427, 'ce_loss': 8.062135696411133, 'cont_loss': 2.357532024383545, 'teacher_loss': 5.941694736480713}\n",
      "Epoch 1 | Train Loss: 3.8236 | Val Loss: 3.6238 | Top1 Acc: 0.00 | Top5 Acc: 0.00\n"
     ]
    },
    {
     "name": "stderr",
     "output_type": "stream",
     "text": [
      "\n",
      "Training: 100%|██████████| 1875/1875 [17:07<00:00,  1.83it/s, loss=3.7056, avg_loss=3.7689, lr=8.13e-5]\n",
      "Validating:   0%|          | 1/235 [00:02<09:33,  2.45s/it, loss=3.0797, avg_loss=3.0797]"
     ]
    },
    {
     "name": "stdout",
     "output_type": "stream",
     "text": [
      "{'kd_loss': 1.3968040943145752, 'feature_loss': 0.0031310110352933407, 'ce_loss': 7.452356338500977, 'cont_loss': 1.4528422355651855, 'teacher_loss': 4.949713706970215}\n"
     ]
    },
    {
     "name": "stderr",
     "output_type": "stream",
     "text": [
      "Validating:   1%|          | 2/235 [00:03<05:42,  1.47s/it, loss=3.3209, avg_loss=3.2003]"
     ]
    },
    {
     "name": "stdout",
     "output_type": "stream",
     "text": [
      "{'kd_loss': 1.607889175415039, 'feature_loss': 0.0031019237358123064, 'ce_loss': 7.8849406242370605, 'cont_loss': 1.5121047496795654, 'teacher_loss': 4.616894245147705}\n"
     ]
    },
    {
     "name": "stderr",
     "output_type": "stream",
     "text": [
      "Validating:   1%|▏         | 3/235 [00:04<04:28,  1.16s/it, loss=3.4807, avg_loss=3.2938]"
     ]
    },
    {
     "name": "stdout",
     "output_type": "stream",
     "text": [
      "{'kd_loss': 1.8230485916137695, 'feature_loss': 0.0032354884315282106, 'ce_loss': 8.070478439331055, 'cont_loss': 1.4775270223617554, 'teacher_loss': 4.803637504577637}\n"
     ]
    },
    {
     "name": "stderr",
     "output_type": "stream",
     "text": [
      "Validating:   2%|▏         | 4/235 [00:04<03:53,  1.01s/it, loss=3.5451, avg_loss=3.3566]"
     ]
    },
    {
     "name": "stdout",
     "output_type": "stream",
     "text": [
      "{'kd_loss': 2.042024850845337, 'feature_loss': 0.002909652888774872, 'ce_loss': 7.931046962738037, 'cont_loss': 1.4443480968475342, 'teacher_loss': 4.69037389755249}\n"
     ]
    },
    {
     "name": "stderr",
     "output_type": "stream",
     "text": [
      "Validating:   2%|▏         | 5/235 [00:05<03:34,  1.07it/s, loss=3.6702, avg_loss=3.4193]"
     ]
    },
    {
     "name": "stdout",
     "output_type": "stream",
     "text": [
      "{'kd_loss': 2.6910207271575928, 'feature_loss': 0.002796642482280731, 'ce_loss': 7.270991325378418, 'cont_loss': 1.4307485818862915, 'teacher_loss': 6.3205671310424805}\n"
     ]
    },
    {
     "name": "stderr",
     "output_type": "stream",
     "text": [
      "Validating:   3%|▎         | 6/235 [00:06<03:21,  1.13it/s, loss=2.9465, avg_loss=3.3405]"
     ]
    },
    {
     "name": "stdout",
     "output_type": "stream",
     "text": [
      "{'kd_loss': 0.9441004395484924, 'feature_loss': 0.0033392547629773617, 'ce_loss': 7.751772403717041, 'cont_loss': 1.4854155778884888, 'teacher_loss': 3.0671918392181396}\n"
     ]
    },
    {
     "name": "stderr",
     "output_type": "stream",
     "text": [
      "Validating:   3%|▎         | 7/235 [00:07<03:14,  1.17it/s, loss=3.2922, avg_loss=3.3336]"
     ]
    },
    {
     "name": "stdout",
     "output_type": "stream",
     "text": [
      "{'kd_loss': 1.8642162084579468, 'feature_loss': 0.003002922050654888, 'ce_loss': 7.37843132019043, 'cont_loss': 1.4622101783752441, 'teacher_loss': 5.028382778167725}\n"
     ]
    },
    {
     "name": "stderr",
     "output_type": "stream",
     "text": [
      "Validating:   3%|▎         | 8/235 [00:07<03:08,  1.20it/s, loss=3.8192, avg_loss=3.3943]"
     ]
    },
    {
     "name": "stdout",
     "output_type": "stream",
     "text": [
      "{'kd_loss': 2.678039073944092, 'feature_loss': 0.0029851170256733894, 'ce_loss': 7.782970905303955, 'cont_loss': 1.4503357410430908, 'teacher_loss': 4.612043857574463}\n"
     ]
    },
    {
     "name": "stderr",
     "output_type": "stream",
     "text": [
      "Validating:   4%|▍         | 9/235 [00:08<03:04,  1.22it/s, loss=4.4159, avg_loss=3.5078]"
     ]
    },
    {
     "name": "stdout",
     "output_type": "stream",
     "text": [
      "{'kd_loss': 3.850992202758789, 'feature_loss': 0.002614834113046527, 'ce_loss': 7.814001083374023, 'cont_loss': 1.4595764875411987, 'teacher_loss': 5.6451945304870605}\n"
     ]
    },
    {
     "name": "stderr",
     "output_type": "stream",
     "text": [
      "Validating:   4%|▍         | 10/235 [00:09<03:02,  1.24it/s, loss=3.8103, avg_loss=3.5381]"
     ]
    },
    {
     "name": "stdout",
     "output_type": "stream",
     "text": [
      "{'kd_loss': 2.933384418487549, 'feature_loss': 0.0029114983044564724, 'ce_loss': 7.318336009979248, 'cont_loss': 1.4781124591827393, 'teacher_loss': 5.482861518859863}\n"
     ]
    },
    {
     "name": "stderr",
     "output_type": "stream",
     "text": [
      "Validating:   5%|▍         | 11/235 [00:10<02:59,  1.25it/s, loss=3.1489, avg_loss=3.5027]"
     ]
    },
    {
     "name": "stdout",
     "output_type": "stream",
     "text": [
      "{'kd_loss': 1.2915208339691162, 'feature_loss': 0.003139727283269167, 'ce_loss': 7.860591411590576, 'cont_loss': 1.4462740421295166, 'teacher_loss': 3.827641487121582}\n"
     ]
    },
    {
     "name": "stderr",
     "output_type": "stream",
     "text": [
      "Validating:   5%|▌         | 12/235 [00:11<02:57,  1.25it/s, loss=3.9464, avg_loss=3.5397]"
     ]
    },
    {
     "name": "stdout",
     "output_type": "stream",
     "text": [
      "{'kd_loss': 2.668717384338379, 'feature_loss': 0.0029219472780823708, 'ce_loss': 8.224041938781738, 'cont_loss': 1.444869041442871, 'teacher_loss': 4.227771282196045}\n"
     ]
    },
    {
     "name": "stderr",
     "output_type": "stream",
     "text": [
      "Validating:   6%|▌         | 13/235 [00:11<02:56,  1.26it/s, loss=3.4752, avg_loss=3.5347]"
     ]
    },
    {
     "name": "stdout",
     "output_type": "stream",
     "text": [
      "{'kd_loss': 1.8235242366790771, 'feature_loss': 0.0030794006306678057, 'ce_loss': 8.068791389465332, 'cont_loss': 1.4249628782272339, 'teacher_loss': 4.116682052612305}\n"
     ]
    },
    {
     "name": "stderr",
     "output_type": "stream",
     "text": [
      "Validating:   6%|▌         | 14/235 [00:12<02:55,  1.26it/s, loss=3.2156, avg_loss=3.5119]"
     ]
    },
    {
     "name": "stdout",
     "output_type": "stream",
     "text": [
      "{'kd_loss': 1.3698320388793945, 'feature_loss': 0.003375121857970953, 'ce_loss': 7.928513050079346, 'cont_loss': 1.5175120830535889, 'teacher_loss': 3.803713321685791}\n"
     ]
    },
    {
     "name": "stderr",
     "output_type": "stream",
     "text": [
      "Validating:   6%|▋         | 15/235 [00:13<02:54,  1.26it/s, loss=3.8056, avg_loss=3.5315]"
     ]
    },
    {
     "name": "stdout",
     "output_type": "stream",
     "text": [
      "{'kd_loss': 2.8219311237335205, 'feature_loss': 0.002949370304122567, 'ce_loss': 7.5101213455200195, 'cont_loss': 1.4134247303009033, 'teacher_loss': 4.095664978027344}\n"
     ]
    },
    {
     "name": "stderr",
     "output_type": "stream",
     "text": [
      "Validating:   7%|▋         | 16/235 [00:14<02:53,  1.26it/s, loss=3.5220, avg_loss=3.5309]"
     ]
    },
    {
     "name": "stdout",
     "output_type": "stream",
     "text": [
      "{'kd_loss': 2.146296262741089, 'feature_loss': 0.0031891351100057364, 'ce_loss': 7.6720781326293945, 'cont_loss': 1.4694740772247314, 'teacher_loss': 5.29746675491333}\n"
     ]
    },
    {
     "name": "stderr",
     "output_type": "stream",
     "text": [
      "Validating:   7%|▋         | 17/235 [00:15<02:52,  1.27it/s, loss=3.3301, avg_loss=3.5191]"
     ]
    },
    {
     "name": "stdout",
     "output_type": "stream",
     "text": [
      "{'kd_loss': 1.7110257148742676, 'feature_loss': 0.003311003092676401, 'ce_loss': 7.758073806762695, 'cont_loss': 1.468705415725708, 'teacher_loss': 4.551325798034668}\n"
     ]
    },
    {
     "name": "stderr",
     "output_type": "stream",
     "text": [
      "Validating:   8%|▊         | 18/235 [00:15<02:51,  1.27it/s, loss=3.7696, avg_loss=3.5330]"
     ]
    },
    {
     "name": "stdout",
     "output_type": "stream",
     "text": [
      "{'kd_loss': 2.573359489440918, 'feature_loss': 0.0029433532617986202, 'ce_loss': 7.791728973388672, 'cont_loss': 1.4508845806121826, 'teacher_loss': 3.583887815475464}\n"
     ]
    },
    {
     "name": "stderr",
     "output_type": "stream",
     "text": [
      "Validating:   8%|▊         | 19/235 [00:16<02:50,  1.27it/s, loss=3.6284, avg_loss=3.5380]"
     ]
    },
    {
     "name": "stdout",
     "output_type": "stream",
     "text": [
      "{'kd_loss': 2.337038516998291, 'feature_loss': 0.0029993136413395405, 'ce_loss': 7.7147979736328125, 'cont_loss': 1.4510656595230103, 'teacher_loss': 4.7533793449401855}\n"
     ]
    },
    {
     "name": "stderr",
     "output_type": "stream",
     "text": [
      "Validating:   9%|▊         | 20/235 [00:17<02:49,  1.27it/s, loss=4.2680, avg_loss=3.5745]"
     ]
    },
    {
     "name": "stdout",
     "output_type": "stream",
     "text": [
      "{'kd_loss': 3.390376567840576, 'feature_loss': 0.0027883993461728096, 'ce_loss': 8.087760925292969, 'cont_loss': 1.4623509645462036, 'teacher_loss': 5.0569071769714355}\n"
     ]
    },
    {
     "name": "stderr",
     "output_type": "stream",
     "text": [
      "Validating:   9%|▉         | 21/235 [00:18<02:48,  1.27it/s, loss=4.0438, avg_loss=3.5969]"
     ]
    },
    {
     "name": "stdout",
     "output_type": "stream",
     "text": [
      "{'kd_loss': 3.10969877243042, 'feature_loss': 0.0028416109271347523, 'ce_loss': 7.799766540527344, 'cont_loss': 1.4876781702041626, 'teacher_loss': 5.076264381408691}\n"
     ]
    },
    {
     "name": "stderr",
     "output_type": "stream",
     "text": [
      "Validating:   9%|▉         | 22/235 [00:18<02:47,  1.27it/s, loss=4.2053, avg_loss=3.6245]"
     ]
    },
    {
     "name": "stdout",
     "output_type": "stream",
     "text": [
      "{'kd_loss': 3.704820394515991, 'feature_loss': 0.0027362131513655186, 'ce_loss': 7.344681262969971, 'cont_loss': 1.4924198389053345, 'teacher_loss': 6.687927722930908}\n"
     ]
    },
    {
     "name": "stderr",
     "output_type": "stream",
     "text": [
      "Validating:  10%|▉         | 23/235 [00:19<02:47,  1.27it/s, loss=3.1318, avg_loss=3.6031]"
     ]
    },
    {
     "name": "stdout",
     "output_type": "stream",
     "text": [
      "{'kd_loss': 1.2360734939575195, 'feature_loss': 0.003267888445407152, 'ce_loss': 7.883829593658447, 'cont_loss': 1.4825444221496582, 'teacher_loss': 5.092906951904297}\n"
     ]
    },
    {
     "name": "stderr",
     "output_type": "stream",
     "text": [
      "Validating:  10%|█         | 24/235 [00:20<02:46,  1.27it/s, loss=3.4964, avg_loss=3.5987]"
     ]
    },
    {
     "name": "stdout",
     "output_type": "stream",
     "text": [
      "{'kd_loss': 2.084956645965576, 'feature_loss': 0.003148607909679413, 'ce_loss': 7.694628715515137, 'cont_loss': 1.4523446559906006, 'teacher_loss': 3.9956319332122803}\n"
     ]
    },
    {
     "name": "stderr",
     "output_type": "stream",
     "text": [
      "Validating:  11%|█         | 25/235 [00:21<02:45,  1.27it/s, loss=3.5243, avg_loss=3.5957]"
     ]
    },
    {
     "name": "stdout",
     "output_type": "stream",
     "text": [
      "{'kd_loss': 2.0156869888305664, 'feature_loss': 0.003023595316335559, 'ce_loss': 7.895975112915039, 'cont_loss': 1.4735374450683594, 'teacher_loss': 4.176738739013672}\n"
     ]
    },
    {
     "name": "stderr",
     "output_type": "stream",
     "text": [
      "Validating:  11%|█         | 26/235 [00:22<02:44,  1.27it/s, loss=3.0767, avg_loss=3.5757]"
     ]
    },
    {
     "name": "stdout",
     "output_type": "stream",
     "text": [
      "{'kd_loss': 1.0368437767028809, 'feature_loss': 0.003348440397530794, 'ce_loss': 8.034396171569824, 'cont_loss': 1.4759793281555176, 'teacher_loss': 3.6611037254333496}\n"
     ]
    },
    {
     "name": "stderr",
     "output_type": "stream",
     "text": [
      "Validating:  11%|█▏        | 27/235 [00:22<02:43,  1.27it/s, loss=3.5778, avg_loss=3.5758]"
     ]
    },
    {
     "name": "stdout",
     "output_type": "stream",
     "text": [
      "{'kd_loss': 2.026477336883545, 'feature_loss': 0.002982173580676317, 'ce_loss': 8.069116592407227, 'cont_loss': 1.4351950883865356, 'teacher_loss': 3.722806930541992}\n"
     ]
    },
    {
     "name": "stderr",
     "output_type": "stream",
     "text": [
      "Validating:  12%|█▏        | 28/235 [00:23<02:43,  1.27it/s, loss=3.7231, avg_loss=3.5811]"
     ]
    },
    {
     "name": "stdout",
     "output_type": "stream",
     "text": [
      "{'kd_loss': 2.424445152282715, 'feature_loss': 0.00305517902597785, 'ce_loss': 7.882420063018799, 'cont_loss': 1.4584879875183105, 'teacher_loss': 4.645783424377441}\n"
     ]
    },
    {
     "name": "stderr",
     "output_type": "stream",
     "text": [
      "Validating:  12%|█▏        | 29/235 [00:24<02:42,  1.27it/s, loss=3.5428, avg_loss=3.5797]"
     ]
    },
    {
     "name": "stdout",
     "output_type": "stream",
     "text": [
      "{'kd_loss': 2.445122480392456, 'feature_loss': 0.002992252353578806, 'ce_loss': 7.237583160400391, 'cont_loss': 1.4867303371429443, 'teacher_loss': 4.587335586547852}\n"
     ]
    },
    {
     "name": "stderr",
     "output_type": "stream",
     "text": [
      "Validating:  13%|█▎        | 30/235 [00:25<02:41,  1.27it/s, loss=3.7986, avg_loss=3.5870]"
     ]
    },
    {
     "name": "stdout",
     "output_type": "stream",
     "text": [
      "{'kd_loss': 2.821678638458252, 'feature_loss': 0.00300685060210526, 'ce_loss': 7.505522727966309, 'cont_loss': 1.3579497337341309, 'teacher_loss': 2.5114378929138184}\n"
     ]
    },
    {
     "name": "stderr",
     "output_type": "stream",
     "text": [
      "Validating:  13%|█▎        | 31/235 [00:26<02:40,  1.27it/s, loss=3.5210, avg_loss=3.5849]"
     ]
    },
    {
     "name": "stdout",
     "output_type": "stream",
     "text": [
      "{'kd_loss': 2.0115132331848145, 'feature_loss': 0.0031097750179469585, 'ce_loss': 7.904679298400879, 'cont_loss': 1.434799313545227, 'teacher_loss': 6.439280033111572}\n"
     ]
    },
    {
     "name": "stderr",
     "output_type": "stream",
     "text": [
      "Validating:  14%|█▎        | 32/235 [00:26<02:39,  1.27it/s, loss=3.8069, avg_loss=3.5918]"
     ]
    },
    {
     "name": "stdout",
     "output_type": "stream",
     "text": [
      "{'kd_loss': 2.7196097373962402, 'feature_loss': 0.0029931426979601383, 'ce_loss': 7.664363861083984, 'cont_loss': 1.4746437072753906, 'teacher_loss': 5.856093883514404}\n"
     ]
    },
    {
     "name": "stderr",
     "output_type": "stream",
     "text": [
      "Validating:  14%|█▍        | 33/235 [00:27<02:39,  1.27it/s, loss=3.9956, avg_loss=3.6041]"
     ]
    },
    {
     "name": "stdout",
     "output_type": "stream",
     "text": [
      "{'kd_loss': 3.034541606903076, 'feature_loss': 0.002962726168334484, 'ce_loss': 7.775532245635986, 'cont_loss': 1.4532864093780518, 'teacher_loss': 4.127253532409668}\n"
     ]
    },
    {
     "name": "stderr",
     "output_type": "stream",
     "text": [
      "Validating:  14%|█▍        | 34/235 [00:28<02:38,  1.27it/s, loss=3.1934, avg_loss=3.5920]"
     ]
    },
    {
     "name": "stdout",
     "output_type": "stream",
     "text": [
      "{'kd_loss': 1.4536882638931274, 'feature_loss': 0.003237012308090925, 'ce_loss': 7.737575054168701, 'cont_loss': 1.4498426914215088, 'teacher_loss': 3.038761615753174}\n"
     ]
    },
    {
     "name": "stderr",
     "output_type": "stream",
     "text": [
      "Validating:  15%|█▍        | 35/235 [00:29<02:37,  1.27it/s, loss=3.5483, avg_loss=3.5907]"
     ]
    },
    {
     "name": "stdout",
     "output_type": "stream",
     "text": [
      "{'kd_loss': 2.1876704692840576, 'feature_loss': 0.0030013825744390488, 'ce_loss': 7.709930896759033, 'cont_loss': 1.4116499423980713, 'teacher_loss': 3.5833208560943604}\n"
     ]
    },
    {
     "name": "stderr",
     "output_type": "stream",
     "text": [
      "Validating:  15%|█▌        | 36/235 [00:30<02:36,  1.27it/s, loss=3.9817, avg_loss=3.6016]"
     ]
    },
    {
     "name": "stdout",
     "output_type": "stream",
     "text": [
      "{'kd_loss': 3.366978168487549, 'feature_loss': 0.002730756998062134, 'ce_loss': 7.156558513641357, 'cont_loss': 1.5098869800567627, 'teacher_loss': 6.526320934295654}\n"
     ]
    },
    {
     "name": "stderr",
     "output_type": "stream",
     "text": [
      "Validating:  16%|█▌        | 37/235 [00:30<02:36,  1.27it/s, loss=4.3538, avg_loss=3.6219]"
     ]
    },
    {
     "name": "stdout",
     "output_type": "stream",
     "text": [
      "{'kd_loss': 3.7445802688598633, 'feature_loss': 0.002764555625617504, 'ce_loss': 7.753013610839844, 'cont_loss': 1.5529212951660156, 'teacher_loss': 4.855470180511475}\n"
     ]
    },
    {
     "name": "stderr",
     "output_type": "stream",
     "text": [
      "Validating:  16%|█▌        | 38/235 [00:31<02:35,  1.27it/s, loss=3.3571, avg_loss=3.6150]"
     ]
    },
    {
     "name": "stdout",
     "output_type": "stream",
     "text": [
      "{'kd_loss': 1.7058296203613281, 'feature_loss': 0.0032394398003816605, 'ce_loss': 7.842794418334961, 'cont_loss': 1.5104379653930664, 'teacher_loss': 3.158984422683716}\n"
     ]
    },
    {
     "name": "stderr",
     "output_type": "stream",
     "text": [
      "Validating:  17%|█▋        | 39/235 [00:32<02:34,  1.27it/s, loss=4.1741, avg_loss=3.6293]"
     ]
    },
    {
     "name": "stdout",
     "output_type": "stream",
     "text": [
      "{'kd_loss': 3.402857542037964, 'feature_loss': 0.002891821088269353, 'ce_loss': 7.744340896606445, 'cont_loss': 1.4903191328048706, 'teacher_loss': 5.419864177703857}\n"
     ]
    },
    {
     "name": "stderr",
     "output_type": "stream",
     "text": [
      "Validating:  17%|█▋        | 40/235 [00:33<02:33,  1.27it/s, loss=4.6144, avg_loss=3.6539]"
     ]
    },
    {
     "name": "stdout",
     "output_type": "stream",
     "text": [
      "{'kd_loss': 4.513051986694336, 'feature_loss': 0.002478501060977578, 'ce_loss': 7.3019609451293945, 'cont_loss': 1.6704983711242676, 'teacher_loss': 6.55231237411499}\n"
     ]
    },
    {
     "name": "stderr",
     "output_type": "stream",
     "text": [
      "Validating:  17%|█▋        | 41/235 [00:33<02:32,  1.27it/s, loss=3.3795, avg_loss=3.6472]"
     ]
    },
    {
     "name": "stdout",
     "output_type": "stream",
     "text": [
      "{'kd_loss': 1.7701783180236816, 'feature_loss': 0.0030736771877855062, 'ce_loss': 7.80009126663208, 'cont_loss': 1.5405583381652832, 'teacher_loss': 4.50814151763916}\n"
     ]
    },
    {
     "name": "stderr",
     "output_type": "stream",
     "text": [
      "Validating:  18%|█▊        | 42/235 [00:34<02:31,  1.27it/s, loss=3.6804, avg_loss=3.6480]"
     ]
    },
    {
     "name": "stdout",
     "output_type": "stream",
     "text": [
      "{'kd_loss': 2.5441203117370605, 'feature_loss': 0.003029736690223217, 'ce_loss': 7.517503261566162, 'cont_loss': 1.5277838706970215, 'teacher_loss': 4.85478401184082}\n"
     ]
    },
    {
     "name": "stderr",
     "output_type": "stream",
     "text": [
      "Validating:  18%|█▊        | 43/235 [00:35<02:31,  1.27it/s, loss=3.0997, avg_loss=3.6353]"
     ]
    },
    {
     "name": "stdout",
     "output_type": "stream",
     "text": [
      "{'kd_loss': 1.1033742427825928, 'feature_loss': 0.003486196044832468, 'ce_loss': 8.005653381347656, 'cont_loss': 1.459743618965149, 'teacher_loss': 2.0844650268554688}\n"
     ]
    },
    {
     "name": "stderr",
     "output_type": "stream",
     "text": [
      "Validating:  19%|█▊        | 44/235 [00:36<02:30,  1.27it/s, loss=4.0603, avg_loss=3.6449]"
     ]
    },
    {
     "name": "stdout",
     "output_type": "stream",
     "text": [
      "{'kd_loss': 3.1748383045196533, 'feature_loss': 0.002829515840858221, 'ce_loss': 7.7367119789123535, 'cont_loss': 1.5163415670394897, 'teacher_loss': 4.954151153564453}\n"
     ]
    },
    {
     "name": "stderr",
     "output_type": "stream",
     "text": [
      "Validating:  19%|█▉        | 45/235 [00:37<02:29,  1.27it/s, loss=3.8945, avg_loss=3.6505]"
     ]
    },
    {
     "name": "stdout",
     "output_type": "stream",
     "text": [
      "{'kd_loss': 2.6752889156341553, 'feature_loss': 0.0030717425979673862, 'ce_loss': 8.000123023986816, 'cont_loss': 1.5654021501541138, 'teacher_loss': 4.592431545257568}\n"
     ]
    },
    {
     "name": "stderr",
     "output_type": "stream",
     "text": [
      "Validating:  20%|█▉        | 46/235 [00:37<02:28,  1.27it/s, loss=3.3072, avg_loss=3.6430]"
     ]
    },
    {
     "name": "stdout",
     "output_type": "stream",
     "text": [
      "{'kd_loss': 1.6537768840789795, 'feature_loss': 0.003244455438107252, 'ce_loss': 7.741957187652588, 'cont_loss': 1.573742389678955, 'teacher_loss': 3.7530622482299805}\n"
     ]
    },
    {
     "name": "stderr",
     "output_type": "stream",
     "text": [
      "Validating:  20%|██        | 47/235 [00:38<02:28,  1.27it/s, loss=4.0982, avg_loss=3.6527]"
     ]
    },
    {
     "name": "stdout",
     "output_type": "stream",
     "text": [
      "{'kd_loss': 3.2086825370788574, 'feature_loss': 0.002783707808703184, 'ce_loss': 7.795907974243164, 'cont_loss': 1.548244595527649, 'teacher_loss': 4.322256088256836}\n"
     ]
    },
    {
     "name": "stderr",
     "output_type": "stream",
     "text": [
      "Validating:  20%|██        | 48/235 [00:39<02:27,  1.27it/s, loss=3.3332, avg_loss=3.6460]"
     ]
    },
    {
     "name": "stdout",
     "output_type": "stream",
     "text": [
      "{'kd_loss': 1.743579387664795, 'feature_loss': 0.0031824824400246143, 'ce_loss': 7.683322429656982, 'cont_loss': 1.5610939264297485, 'teacher_loss': 3.418325901031494}\n"
     ]
    },
    {
     "name": "stderr",
     "output_type": "stream",
     "text": [
      "Validating:  21%|██        | 49/235 [00:40<02:26,  1.27it/s, loss=3.5391, avg_loss=3.6439]"
     ]
    },
    {
     "name": "stdout",
     "output_type": "stream",
     "text": [
      "{'kd_loss': 2.067413330078125, 'feature_loss': 0.0030479817651212215, 'ce_loss': 7.806283473968506, 'cont_loss': 1.6322596073150635, 'teacher_loss': 4.475621700286865}\n"
     ]
    },
    {
     "name": "stderr",
     "output_type": "stream",
     "text": [
      "Validating:  21%|██▏       | 50/235 [00:41<02:25,  1.27it/s, loss=3.4579, avg_loss=3.6401]"
     ]
    },
    {
     "name": "stdout",
     "output_type": "stream",
     "text": [
      "{'kd_loss': 1.7777222394943237, 'feature_loss': 0.0031282342970371246, 'ce_loss': 8.022305488586426, 'cont_loss': 1.6202006340026855, 'teacher_loss': 2.8647398948669434}\n"
     ]
    },
    {
     "name": "stderr",
     "output_type": "stream",
     "text": [
      "Validating:  22%|██▏       | 51/235 [00:41<02:24,  1.27it/s, loss=3.7823, avg_loss=3.6429]"
     ]
    },
    {
     "name": "stdout",
     "output_type": "stream",
     "text": [
      "{'kd_loss': 2.5277881622314453, 'feature_loss': 0.0030224632937461138, 'ce_loss': 7.832919597625732, 'cont_loss': 1.6819298267364502, 'teacher_loss': 4.778013229370117}\n"
     ]
    },
    {
     "name": "stderr",
     "output_type": "stream",
     "text": [
      "Validating:  22%|██▏       | 52/235 [00:42<02:24,  1.27it/s, loss=4.0848, avg_loss=3.6514]"
     ]
    },
    {
     "name": "stdout",
     "output_type": "stream",
     "text": [
      "{'kd_loss': 3.040677309036255, 'feature_loss': 0.0028018176089972258, 'ce_loss': 7.9904985427856445, 'cont_loss': 1.6699638366699219, 'teacher_loss': 4.845087051391602}\n"
     ]
    },
    {
     "name": "stderr",
     "output_type": "stream",
     "text": [
      "Validating:  23%|██▎       | 53/235 [00:43<02:23,  1.27it/s, loss=3.4706, avg_loss=3.6480]"
     ]
    },
    {
     "name": "stdout",
     "output_type": "stream",
     "text": [
      "{'kd_loss': 1.8199986219406128, 'feature_loss': 0.0031830943189561367, 'ce_loss': 7.957440376281738, 'cont_loss': 1.7305383682250977, 'teacher_loss': 4.4481730461120605}\n"
     ]
    },
    {
     "name": "stderr",
     "output_type": "stream",
     "text": [
      "Validating:  23%|██▎       | 54/235 [00:44<02:22,  1.27it/s, loss=3.3824, avg_loss=3.6431]"
     ]
    },
    {
     "name": "stdout",
     "output_type": "stream",
     "text": [
      "{'kd_loss': 1.749513864517212, 'feature_loss': 0.003252536989748478, 'ce_loss': 7.80369758605957, 'cont_loss': 1.6616806983947754, 'teacher_loss': 2.5992629528045654}\n"
     ]
    },
    {
     "name": "stderr",
     "output_type": "stream",
     "text": [
      "Validating:  23%|██▎       | 55/235 [00:44<02:21,  1.27it/s, loss=3.2078, avg_loss=3.6352]"
     ]
    },
    {
     "name": "stdout",
     "output_type": "stream",
     "text": [
      "{'kd_loss': 1.359499216079712, 'feature_loss': 0.0033051930367946625, 'ce_loss': 7.870268821716309, 'cont_loss': 1.666203498840332, 'teacher_loss': 4.0901780128479}\n"
     ]
    },
    {
     "name": "stderr",
     "output_type": "stream",
     "text": [
      "Validating:  24%|██▍       | 56/235 [00:45<02:20,  1.27it/s, loss=3.4659, avg_loss=3.6322]"
     ]
    },
    {
     "name": "stdout",
     "output_type": "stream",
     "text": [
      "{'kd_loss': 1.8469749689102173, 'feature_loss': 0.003162105567753315, 'ce_loss': 7.88908052444458, 'cont_loss': 1.7532308101654053, 'teacher_loss': 3.576437473297119}\n"
     ]
    },
    {
     "name": "stderr",
     "output_type": "stream",
     "text": [
      "Validating:  24%|██▍       | 57/235 [00:46<02:20,  1.27it/s, loss=3.8265, avg_loss=3.6356]"
     ]
    },
    {
     "name": "stdout",
     "output_type": "stream",
     "text": [
      "{'kd_loss': 2.419558525085449, 'feature_loss': 0.003130814526230097, 'ce_loss': 8.134392738342285, 'cont_loss': 1.7607910633087158, 'teacher_loss': 4.45166540145874}\n"
     ]
    },
    {
     "name": "stderr",
     "output_type": "stream",
     "text": [
      "Validating:  25%|██▍       | 58/235 [00:47<02:19,  1.27it/s, loss=3.8709, avg_loss=3.6396]"
     ]
    },
    {
     "name": "stdout",
     "output_type": "stream",
     "text": [
      "{'kd_loss': 2.780245065689087, 'feature_loss': 0.0028781353030353785, 'ce_loss': 7.673202037811279, 'cont_loss': 1.7851566076278687, 'teacher_loss': 6.414278507232666}\n"
     ]
    },
    {
     "name": "stderr",
     "output_type": "stream",
     "text": [
      "Validating:  25%|██▌       | 59/235 [00:48<02:18,  1.27it/s, loss=3.7266, avg_loss=3.6411]"
     ]
    },
    {
     "name": "stdout",
     "output_type": "stream",
     "text": [
      "{'kd_loss': 2.3587918281555176, 'feature_loss': 0.002909072209149599, 'ce_loss': 7.897953987121582, 'cont_loss': 1.7753231525421143, 'teacher_loss': 4.272940158843994}\n"
     ]
    },
    {
     "name": "stderr",
     "output_type": "stream",
     "text": [
      "Validating:  26%|██▌       | 60/235 [00:48<02:17,  1.27it/s, loss=3.3492, avg_loss=3.6362]"
     ]
    },
    {
     "name": "stdout",
     "output_type": "stream",
     "text": [
      "{'kd_loss': 1.5611751079559326, 'feature_loss': 0.003237856552004814, 'ce_loss': 7.969221115112305, 'cont_loss': 1.774753212928772, 'teacher_loss': 4.16926383972168}\n"
     ]
    },
    {
     "name": "stderr",
     "output_type": "stream",
     "text": [
      "Validating:  26%|██▌       | 61/235 [00:49<02:16,  1.27it/s, loss=3.6831, avg_loss=3.6370]"
     ]
    },
    {
     "name": "stdout",
     "output_type": "stream",
     "text": [
      "{'kd_loss': 2.1621763706207275, 'feature_loss': 0.003009056905284524, 'ce_loss': 8.072983741760254, 'cont_loss': 1.7985589504241943, 'teacher_loss': 5.175770282745361}\n"
     ]
    },
    {
     "name": "stderr",
     "output_type": "stream",
     "text": [
      "Validating:  26%|██▋       | 62/235 [00:50<02:16,  1.27it/s, loss=4.3502, avg_loss=3.6485]"
     ]
    },
    {
     "name": "stdout",
     "output_type": "stream",
     "text": [
      "{'kd_loss': 3.657975912094116, 'feature_loss': 0.0027336631901562214, 'ce_loss': 7.801674842834473, 'cont_loss': 1.8043043613433838, 'teacher_loss': 5.321107864379883}\n"
     ]
    },
    {
     "name": "stderr",
     "output_type": "stream",
     "text": [
      "Validating:  27%|██▋       | 63/235 [00:51<02:15,  1.27it/s, loss=3.9333, avg_loss=3.6530]"
     ]
    },
    {
     "name": "stdout",
     "output_type": "stream",
     "text": [
      "{'kd_loss': 2.7962467670440674, 'feature_loss': 0.003016076050698757, 'ce_loss': 7.850818157196045, 'cont_loss': 1.796119213104248, 'teacher_loss': 4.66514253616333}\n"
     ]
    },
    {
     "name": "stderr",
     "output_type": "stream",
     "text": [
      "Validating:  27%|██▋       | 64/235 [00:52<02:14,  1.27it/s, loss=3.7887, avg_loss=3.6551]"
     ]
    },
    {
     "name": "stdout",
     "output_type": "stream",
     "text": [
      "{'kd_loss': 2.4206929206848145, 'feature_loss': 0.003103605704382062, 'ce_loss': 7.9941792488098145, 'cont_loss': 1.7976938486099243, 'teacher_loss': 4.2369866371154785}\n"
     ]
    },
    {
     "name": "stderr",
     "output_type": "stream",
     "text": [
      "Validating:  28%|██▊       | 65/235 [00:52<02:13,  1.27it/s, loss=3.9881, avg_loss=3.6603]"
     ]
    },
    {
     "name": "stdout",
     "output_type": "stream",
     "text": [
      "{'kd_loss': 2.8675169944763184, 'feature_loss': 0.002914236858487129, 'ce_loss': 7.904185771942139, 'cont_loss': 1.8280218839645386, 'teacher_loss': 4.959127902984619}\n"
     ]
    },
    {
     "name": "stderr",
     "output_type": "stream",
     "text": [
      "Validating:  28%|██▊       | 66/235 [00:53<02:13,  1.27it/s, loss=3.8381, avg_loss=3.6630]"
     ]
    },
    {
     "name": "stdout",
     "output_type": "stream",
     "text": [
      "{'kd_loss': 2.5873122215270996, 'feature_loss': 0.0027038471307605505, 'ce_loss': 7.886326789855957, 'cont_loss': 1.7828649282455444, 'teacher_loss': 4.885951995849609}\n"
     ]
    },
    {
     "name": "stderr",
     "output_type": "stream",
     "text": [
      "Validating:  29%|██▊       | 67/235 [00:54<02:12,  1.27it/s, loss=3.3100, avg_loss=3.6577]"
     ]
    },
    {
     "name": "stdout",
     "output_type": "stream",
     "text": [
      "{'kd_loss': 1.5660314559936523, 'feature_loss': 0.003063267096877098, 'ce_loss': 7.816783428192139, 'cont_loss': 1.8167433738708496, 'teacher_loss': 5.153731346130371}\n"
     ]
    },
    {
     "name": "stderr",
     "output_type": "stream",
     "text": [
      "Validating:  29%|██▉       | 68/235 [00:55<02:11,  1.27it/s, loss=3.7080, avg_loss=3.6584]"
     ]
    },
    {
     "name": "stdout",
     "output_type": "stream",
     "text": [
      "{'kd_loss': 2.188293695449829, 'feature_loss': 0.003183341585099697, 'ce_loss': 8.088077545166016, 'cont_loss': 1.871070146560669, 'teacher_loss': 5.083189964294434}\n"
     ]
    },
    {
     "name": "stderr",
     "output_type": "stream",
     "text": [
      "Validating:  29%|██▉       | 69/235 [00:56<02:10,  1.27it/s, loss=3.6119, avg_loss=3.6578]"
     ]
    },
    {
     "name": "stdout",
     "output_type": "stream",
     "text": [
      "{'kd_loss': 2.0832090377807617, 'feature_loss': 0.003115869127213955, 'ce_loss': 7.96503210067749, 'cont_loss': 1.8049688339233398, 'teacher_loss': 6.333437442779541}\n"
     ]
    },
    {
     "name": "stderr",
     "output_type": "stream",
     "text": [
      "Validating:  30%|██▉       | 70/235 [00:56<02:09,  1.27it/s, loss=3.6300, avg_loss=3.6574]"
     ]
    },
    {
     "name": "stdout",
     "output_type": "stream",
     "text": [
      "{'kd_loss': 2.130741596221924, 'feature_loss': 0.003032707143574953, 'ce_loss': 7.938953876495361, 'cont_loss': 1.8262441158294678, 'teacher_loss': 4.564422130584717}\n"
     ]
    },
    {
     "name": "stderr",
     "output_type": "stream",
     "text": [
      "Validating:  30%|███       | 71/235 [00:57<02:09,  1.27it/s, loss=3.4849, avg_loss=3.6549]"
     ]
    },
    {
     "name": "stdout",
     "output_type": "stream",
     "text": [
      "{'kd_loss': 1.854884386062622, 'feature_loss': 0.003223431995138526, 'ce_loss': 7.890655517578125, 'cont_loss': 1.8997269868850708, 'teacher_loss': 4.760102272033691}\n"
     ]
    },
    {
     "name": "stderr",
     "output_type": "stream",
     "text": [
      "Validating:  31%|███       | 72/235 [00:58<02:08,  1.27it/s, loss=3.5872, avg_loss=3.6540]"
     ]
    },
    {
     "name": "stdout",
     "output_type": "stream",
     "text": [
      "{'kd_loss': 1.9917488098144531, 'feature_loss': 0.003128225449472666, 'ce_loss': 7.999760627746582, 'cont_loss': 1.911180853843689, 'teacher_loss': 4.246038913726807}\n"
     ]
    },
    {
     "name": "stderr",
     "output_type": "stream",
     "text": [
      "Validating:  31%|███       | 73/235 [00:59<02:07,  1.27it/s, loss=3.7039, avg_loss=3.6547]"
     ]
    },
    {
     "name": "stdout",
     "output_type": "stream",
     "text": [
      "{'kd_loss': 2.206603527069092, 'feature_loss': 0.002980669029057026, 'ce_loss': 8.044999122619629, 'cont_loss': 1.8683326244354248, 'teacher_loss': 4.690817356109619}\n"
     ]
    },
    {
     "name": "stderr",
     "output_type": "stream",
     "text": [
      "Validating:  31%|███▏      | 74/235 [00:59<02:06,  1.27it/s, loss=3.9224, avg_loss=3.6583]"
     ]
    },
    {
     "name": "stdout",
     "output_type": "stream",
     "text": [
      "{'kd_loss': 2.6279029846191406, 'feature_loss': 0.0028408884536474943, 'ce_loss': 8.050188064575195, 'cont_loss': 1.9312816858291626, 'teacher_loss': 5.551185607910156}\n"
     ]
    },
    {
     "name": "stderr",
     "output_type": "stream",
     "text": [
      "Validating:  32%|███▏      | 75/235 [01:00<02:05,  1.27it/s, loss=4.2401, avg_loss=3.6661]"
     ]
    },
    {
     "name": "stdout",
     "output_type": "stream",
     "text": [
      "{'kd_loss': 3.095217227935791, 'feature_loss': 0.0029388240072876215, 'ce_loss': 8.325152397155762, 'cont_loss': 1.9466862678527832, 'teacher_loss': 5.617594242095947}\n"
     ]
    },
    {
     "name": "stderr",
     "output_type": "stream",
     "text": [
      "Validating:  32%|███▏      | 76/235 [01:01<02:05,  1.27it/s, loss=3.2913, avg_loss=3.6611]"
     ]
    },
    {
     "name": "stdout",
     "output_type": "stream",
     "text": [
      "{'kd_loss': 1.495336651802063, 'feature_loss': 0.003134374041110277, 'ce_loss': 7.840349197387695, 'cont_loss': 1.9125310182571411, 'teacher_loss': 4.9761176109313965}\n"
     ]
    },
    {
     "name": "stderr",
     "output_type": "stream",
     "text": [
      "Validating:  33%|███▎      | 77/235 [01:02<02:04,  1.27it/s, loss=3.4331, avg_loss=3.6582]"
     ]
    },
    {
     "name": "stdout",
     "output_type": "stream",
     "text": [
      "{'kd_loss': 1.719438076019287, 'feature_loss': 0.0030411183834075928, 'ce_loss': 7.920734405517578, 'cont_loss': 1.9686144590377808, 'teacher_loss': 4.665954113006592}\n"
     ]
    },
    {
     "name": "stderr",
     "output_type": "stream",
     "text": [
      "Validating:  33%|███▎      | 78/235 [01:03<02:03,  1.27it/s, loss=3.2940, avg_loss=3.6535]"
     ]
    },
    {
     "name": "stdout",
     "output_type": "stream",
     "text": [
      "{'kd_loss': 1.474226713180542, 'feature_loss': 0.0033292456064373255, 'ce_loss': 7.877234935760498, 'cont_loss': 1.934274673461914, 'teacher_loss': 4.208932876586914}\n"
     ]
    },
    {
     "name": "stderr",
     "output_type": "stream",
     "text": [
      "Validating:  34%|███▎      | 79/235 [01:03<02:02,  1.27it/s, loss=3.7041, avg_loss=3.6541]"
     ]
    },
    {
     "name": "stdout",
     "output_type": "stream",
     "text": [
      "{'kd_loss': 2.2971153259277344, 'feature_loss': 0.0029172906652092934, 'ce_loss': 7.868773937225342, 'cont_loss': 1.9458303451538086, 'teacher_loss': 4.597575664520264}\n"
     ]
    },
    {
     "name": "stderr",
     "output_type": "stream",
     "text": [
      "Validating:  34%|███▍      | 80/235 [01:04<02:02,  1.27it/s, loss=3.8314, avg_loss=3.6564]"
     ]
    },
    {
     "name": "stdout",
     "output_type": "stream",
     "text": [
      "{'kd_loss': 2.3142833709716797, 'feature_loss': 0.003073939122259617, 'ce_loss': 8.245152473449707, 'cont_loss': 2.004152774810791, 'teacher_loss': 5.13458776473999}\n"
     ]
    },
    {
     "name": "stderr",
     "output_type": "stream",
     "text": [
      "Validating:  34%|███▍      | 81/235 [01:05<02:01,  1.27it/s, loss=3.7512, avg_loss=3.6575]"
     ]
    },
    {
     "name": "stdout",
     "output_type": "stream",
     "text": [
      "{'kd_loss': 2.2367806434631348, 'feature_loss': 0.0030819890089333057, 'ce_loss': 8.109773635864258, 'cont_loss': 1.9957677125930786, 'teacher_loss': 3.782201051712036}\n"
     ]
    },
    {
     "name": "stderr",
     "output_type": "stream",
     "text": [
      "Validating:  35%|███▍      | 82/235 [01:06<02:00,  1.27it/s, loss=3.8919, avg_loss=3.6604]"
     ]
    },
    {
     "name": "stdout",
     "output_type": "stream",
     "text": [
      "{'kd_loss': 2.634129524230957, 'feature_loss': 0.0030488024931401014, 'ce_loss': 7.906661510467529, 'cont_loss': 2.0253119468688965, 'teacher_loss': 4.593759536743164}\n"
     ]
    },
    {
     "name": "stderr",
     "output_type": "stream",
     "text": [
      "Validating:  35%|███▌      | 83/235 [01:07<01:59,  1.27it/s, loss=4.0626, avg_loss=3.6652]"
     ]
    },
    {
     "name": "stdout",
     "output_type": "stream",
     "text": [
      "{'kd_loss': 2.5809788703918457, 'feature_loss': 0.0029270933009684086, 'ce_loss': 8.560275077819824, 'cont_loss': 2.03747820854187, 'teacher_loss': 4.976686477661133}\n"
     ]
    },
    {
     "name": "stderr",
     "output_type": "stream",
     "text": [
      "Validating:  36%|███▌      | 84/235 [01:07<01:58,  1.27it/s, loss=3.7732, avg_loss=3.6665]"
     ]
    },
    {
     "name": "stdout",
     "output_type": "stream",
     "text": [
      "{'kd_loss': 2.4885995388031006, 'feature_loss': 0.0029655704274773598, 'ce_loss': 7.758994102478027, 'cont_loss': 2.008909225463867, 'teacher_loss': 3.708942413330078}\n"
     ]
    },
    {
     "name": "stderr",
     "output_type": "stream",
     "text": [
      "Validating:  36%|███▌      | 85/235 [01:08<01:58,  1.27it/s, loss=3.3973, avg_loss=3.6633]"
     ]
    },
    {
     "name": "stdout",
     "output_type": "stream",
     "text": [
      "{'kd_loss': 1.6378692388534546, 'feature_loss': 0.003193819196894765, 'ce_loss': 7.920219898223877, 'cont_loss': 2.0202555656433105, 'teacher_loss': 3.9849469661712646}\n"
     ]
    },
    {
     "name": "stderr",
     "output_type": "stream",
     "text": [
      "Validating:  37%|███▋      | 86/235 [01:09<01:57,  1.27it/s, loss=3.4419, avg_loss=3.6608]"
     ]
    },
    {
     "name": "stdout",
     "output_type": "stream",
     "text": [
      "{'kd_loss': 1.6824655532836914, 'feature_loss': 0.0031879027374088764, 'ce_loss': 7.985881805419922, 'cont_loss': 2.04630446434021, 'teacher_loss': 4.235966682434082}\n"
     ]
    },
    {
     "name": "stderr",
     "output_type": "stream",
     "text": [
      "Validating:  37%|███▋      | 87/235 [01:10<01:56,  1.27it/s, loss=3.3215, avg_loss=3.6569]"
     ]
    },
    {
     "name": "stdout",
     "output_type": "stream",
     "text": [
      "{'kd_loss': 1.4207416772842407, 'feature_loss': 0.0033742105588316917, 'ce_loss': 8.022652626037598, 'cont_loss': 2.0400402545928955, 'teacher_loss': 2.671567916870117}\n"
     ]
    },
    {
     "name": "stderr",
     "output_type": "stream",
     "text": [
      "Validating:  37%|███▋      | 88/235 [01:10<01:55,  1.27it/s, loss=3.4963, avg_loss=3.6550]"
     ]
    },
    {
     "name": "stdout",
     "output_type": "stream",
     "text": [
      "{'kd_loss': 1.8315534591674805, 'feature_loss': 0.003331474494189024, 'ce_loss': 7.913405418395996, 'cont_loss': 2.0612781047821045, 'teacher_loss': 4.057283401489258}\n"
     ]
    },
    {
     "name": "stderr",
     "output_type": "stream",
     "text": [
      "Validating:  38%|███▊      | 89/235 [01:11<01:55,  1.27it/s, loss=3.3359, avg_loss=3.6515]"
     ]
    },
    {
     "name": "stdout",
     "output_type": "stream",
     "text": [
      "{'kd_loss': 1.5185985565185547, 'feature_loss': 0.0030669928528368473, 'ce_loss': 7.891961097717285, 'cont_loss': 2.0865721702575684, 'teacher_loss': 4.662046432495117}\n"
     ]
    },
    {
     "name": "stderr",
     "output_type": "stream",
     "text": [
      "Validating:  38%|███▊      | 90/235 [01:12<01:54,  1.27it/s, loss=3.6256, avg_loss=3.6512]"
     ]
    },
    {
     "name": "stdout",
     "output_type": "stream",
     "text": [
      "{'kd_loss': 2.030252456665039, 'feature_loss': 0.0032390428241342306, 'ce_loss': 8.009918212890625, 'cont_loss': 2.0722265243530273, 'teacher_loss': 4.896240234375}\n"
     ]
    },
    {
     "name": "stderr",
     "output_type": "stream",
     "text": [
      "Validating:  39%|███▊      | 91/235 [01:13<01:53,  1.27it/s, loss=3.8573, avg_loss=3.6534]"
     ]
    },
    {
     "name": "stdout",
     "output_type": "stream",
     "text": [
      "{'kd_loss': 2.2924506664276123, 'feature_loss': 0.0030850283801555634, 'ce_loss': 8.339187622070312, 'cont_loss': 2.0900280475616455, 'teacher_loss': 4.571661472320557}\n"
     ]
    },
    {
     "name": "stderr",
     "output_type": "stream",
     "text": [
      "Validating:  39%|███▉      | 92/235 [01:14<01:52,  1.27it/s, loss=4.1004, avg_loss=3.6583]"
     ]
    },
    {
     "name": "stdout",
     "output_type": "stream",
     "text": [
      "{'kd_loss': 2.6973538398742676, 'feature_loss': 0.002869000192731619, 'ce_loss': 8.468501091003418, 'cont_loss': 2.10853910446167, 'teacher_loss': 5.332780838012695}\n"
     ]
    },
    {
     "name": "stderr",
     "output_type": "stream",
     "text": [
      "Validating:  40%|███▉      | 93/235 [01:14<01:51,  1.27it/s, loss=3.3669, avg_loss=3.6552]"
     ]
    },
    {
     "name": "stdout",
     "output_type": "stream",
     "text": [
      "{'kd_loss': 1.5944544076919556, 'feature_loss': 0.0031073119025677443, 'ce_loss': 7.867771148681641, 'cont_loss': 2.0899391174316406, 'teacher_loss': 4.5449090003967285}\n"
     ]
    },
    {
     "name": "stderr",
     "output_type": "stream",
     "text": [
      "Validating:  40%|████      | 94/235 [01:15<01:51,  1.27it/s, loss=3.7627, avg_loss=3.6563]"
     ]
    },
    {
     "name": "stdout",
     "output_type": "stream",
     "text": [
      "{'kd_loss': 2.3602404594421387, 'feature_loss': 0.0029337648302316666, 'ce_loss': 7.902237415313721, 'cont_loss': 2.115652084350586, 'teacher_loss': 5.168148994445801}\n"
     ]
    },
    {
     "name": "stderr",
     "output_type": "stream",
     "text": [
      "Validating:  40%|████      | 95/235 [01:16<01:50,  1.27it/s, loss=3.4194, avg_loss=3.6538]"
     ]
    },
    {
     "name": "stdout",
     "output_type": "stream",
     "text": [
      "{'kd_loss': 1.5206583738327026, 'feature_loss': 0.0032022472005337477, 'ce_loss': 8.149589538574219, 'cont_loss': 2.1390137672424316, 'teacher_loss': 4.009932041168213}\n"
     ]
    },
    {
     "name": "stderr",
     "output_type": "stream",
     "text": [
      "Validating:  41%|████      | 96/235 [01:17<01:49,  1.27it/s, loss=3.5005, avg_loss=3.6522]"
     ]
    },
    {
     "name": "stdout",
     "output_type": "stream",
     "text": [
      "{'kd_loss': 1.8050189018249512, 'feature_loss': 0.00304941413924098, 'ce_loss': 7.948551177978516, 'cont_loss': 2.1312570571899414, 'teacher_loss': 3.9734647274017334}\n"
     ]
    },
    {
     "name": "stderr",
     "output_type": "stream",
     "text": [
      "Validating:  41%|████▏     | 97/235 [01:18<01:48,  1.27it/s, loss=3.6207, avg_loss=3.6519]"
     ]
    },
    {
     "name": "stdout",
     "output_type": "stream",
     "text": [
      "{'kd_loss': 1.9380066394805908, 'feature_loss': 0.003087430726736784, 'ce_loss': 8.123565673828125, 'cont_loss': 2.1429688930511475, 'teacher_loss': 5.171879291534424}\n"
     ]
    },
    {
     "name": "stderr",
     "output_type": "stream",
     "text": [
      "Validating:  42%|████▏     | 98/235 [01:18<01:48,  1.27it/s, loss=3.3768, avg_loss=3.6491]"
     ]
    },
    {
     "name": "stdout",
     "output_type": "stream",
     "text": [
      "{'kd_loss': 1.574552059173584, 'feature_loss': 0.0032908772118389606, 'ce_loss': 7.902980804443359, 'cont_loss': 2.183058738708496, 'teacher_loss': 4.6429643630981445}\n"
     ]
    },
    {
     "name": "stderr",
     "output_type": "stream",
     "text": [
      "Validating:  42%|████▏     | 99/235 [01:19<01:47,  1.27it/s, loss=3.7136, avg_loss=3.6497]"
     ]
    },
    {
     "name": "stdout",
     "output_type": "stream",
     "text": [
      "{'kd_loss': 2.226759672164917, 'feature_loss': 0.003077093977481127, 'ce_loss': 7.930870532989502, 'cont_loss': 2.2067012786865234, 'teacher_loss': 4.633563041687012}\n"
     ]
    },
    {
     "name": "stderr",
     "output_type": "stream",
     "text": [
      "Validating:  43%|████▎     | 100/235 [01:20<01:46,  1.27it/s, loss=4.0797, avg_loss=3.6540]"
     ]
    },
    {
     "name": "stdout",
     "output_type": "stream",
     "text": [
      "{'kd_loss': 3.004315137863159, 'feature_loss': 0.0028447015210986137, 'ce_loss': 7.850652694702148, 'cont_loss': 2.2209386825561523, 'teacher_loss': 5.156239986419678}\n"
     ]
    },
    {
     "name": "stderr",
     "output_type": "stream",
     "text": [
      "Validating:  43%|████▎     | 101/235 [01:21<01:45,  1.27it/s, loss=3.8108, avg_loss=3.6556]"
     ]
    },
    {
     "name": "stdout",
     "output_type": "stream",
     "text": [
      "{'kd_loss': 2.4447736740112305, 'feature_loss': 0.0028834319673478603, 'ce_loss': 7.889336109161377, 'cont_loss': 2.212815284729004, 'teacher_loss': 4.58893346786499}\n"
     ]
    },
    {
     "name": "stderr",
     "output_type": "stream",
     "text": [
      "Validating:  43%|████▎     | 102/235 [01:22<01:44,  1.27it/s, loss=4.1043, avg_loss=3.6600]"
     ]
    },
    {
     "name": "stdout",
     "output_type": "stream",
     "text": [
      "{'kd_loss': 2.9220314025878906, 'feature_loss': 0.002796279499307275, 'ce_loss': 8.067734718322754, 'cont_loss': 2.2266390323638916, 'teacher_loss': 5.792679309844971}\n"
     ]
    },
    {
     "name": "stderr",
     "output_type": "stream",
     "text": [
      "Validating:  44%|████▍     | 103/235 [01:22<01:44,  1.27it/s, loss=3.8284, avg_loss=3.6616]"
     ]
    },
    {
     "name": "stdout",
     "output_type": "stream",
     "text": [
      "{'kd_loss': 2.4293394088745117, 'feature_loss': 0.003029551822692156, 'ce_loss': 7.960700988769531, 'cont_loss': 2.251713275909424, 'teacher_loss': 5.69096565246582}\n"
     ]
    },
    {
     "name": "stderr",
     "output_type": "stream",
     "text": [
      "Validating:  44%|████▍     | 104/235 [01:23<01:43,  1.27it/s, loss=4.0730, avg_loss=3.6656]"
     ]
    },
    {
     "name": "stdout",
     "output_type": "stream",
     "text": [
      "{'kd_loss': 2.9970741271972656, 'feature_loss': 0.0028203632682561874, 'ce_loss': 7.832563877105713, 'cont_loss': 2.244405746459961, 'teacher_loss': 5.596181392669678}\n"
     ]
    },
    {
     "name": "stderr",
     "output_type": "stream",
     "text": [
      "Validating:  45%|████▍     | 105/235 [01:24<01:42,  1.27it/s, loss=3.9849, avg_loss=3.6686]"
     ]
    },
    {
     "name": "stdout",
     "output_type": "stream",
     "text": [
      "{'kd_loss': 2.6467466354370117, 'feature_loss': 0.002855635480955243, 'ce_loss': 8.118648529052734, 'cont_loss': 2.256469249725342, 'teacher_loss': 4.638279438018799}\n"
     ]
    },
    {
     "name": "stderr",
     "output_type": "stream",
     "text": [
      "Validating:  45%|████▌     | 106/235 [01:25<01:41,  1.27it/s, loss=3.5241, avg_loss=3.6673]"
     ]
    },
    {
     "name": "stdout",
     "output_type": "stream",
     "text": [
      "{'kd_loss': 1.8108512163162231, 'feature_loss': 0.0032196142710745335, 'ce_loss': 7.966931343078613, 'cont_loss': 2.283001184463501, 'teacher_loss': 4.466011047363281}\n"
     ]
    },
    {
     "name": "stderr",
     "output_type": "stream",
     "text": [
      "Validating:  46%|████▌     | 107/235 [01:25<01:40,  1.27it/s, loss=3.3404, avg_loss=3.6642]"
     ]
    },
    {
     "name": "stdout",
     "output_type": "stream",
     "text": [
      "{'kd_loss': 1.3756154775619507, 'feature_loss': 0.003365864045917988, 'ce_loss': 8.092806816101074, 'cont_loss': 2.2440438270568848, 'teacher_loss': 4.072029113769531}\n"
     ]
    },
    {
     "name": "stderr",
     "output_type": "stream",
     "text": [
      "Validating:  46%|████▌     | 108/235 [01:26<01:40,  1.27it/s, loss=3.5151, avg_loss=3.6628]"
     ]
    },
    {
     "name": "stdout",
     "output_type": "stream",
     "text": [
      "{'kd_loss': 1.752612590789795, 'feature_loss': 0.003318745642900467, 'ce_loss': 8.045511245727539, 'cont_loss': 2.248063802719116, 'teacher_loss': 4.210935592651367}\n"
     ]
    },
    {
     "name": "stderr",
     "output_type": "stream",
     "text": [
      "Validating:  46%|████▋     | 109/235 [01:27<01:39,  1.27it/s, loss=3.5819, avg_loss=3.6621]"
     ]
    },
    {
     "name": "stdout",
     "output_type": "stream",
     "text": [
      "{'kd_loss': 1.9900850057601929, 'feature_loss': 0.0029953145422041416, 'ce_loss': 7.87072229385376, 'cont_loss': 2.253596782684326, 'teacher_loss': 5.006520748138428}\n"
     ]
    },
    {
     "name": "stderr",
     "output_type": "stream",
     "text": [
      "Validating:  47%|████▋     | 110/235 [01:28<01:38,  1.27it/s, loss=3.6908, avg_loss=3.6623]"
     ]
    },
    {
     "name": "stdout",
     "output_type": "stream",
     "text": [
      "{'kd_loss': 2.108825445175171, 'feature_loss': 0.003222113009542227, 'ce_loss': 8.021445274353027, 'cont_loss': 2.29595685005188, 'teacher_loss': 4.530097961425781}\n"
     ]
    },
    {
     "name": "stderr",
     "output_type": "stream",
     "text": [
      "Validating:  47%|████▋     | 111/235 [01:29<01:37,  1.27it/s, loss=3.7251, avg_loss=3.6629]"
     ]
    },
    {
     "name": "stdout",
     "output_type": "stream",
     "text": [
      "{'kd_loss': 2.237338066101074, 'feature_loss': 0.0031606703996658325, 'ce_loss': 7.911457061767578, 'cont_loss': 2.3270511627197266, 'teacher_loss': 5.274914741516113}\n"
     ]
    },
    {
     "name": "stderr",
     "output_type": "stream",
     "text": [
      "Validating:  48%|████▊     | 112/235 [01:29<01:36,  1.27it/s, loss=3.3806, avg_loss=3.6604]"
     ]
    },
    {
     "name": "stdout",
     "output_type": "stream",
     "text": [
      "{'kd_loss': 1.5346951484680176, 'feature_loss': 0.0032885500695556402, 'ce_loss': 7.944532871246338, 'cont_loss': 2.2954063415527344, 'teacher_loss': 4.341176509857178}\n"
     ]
    },
    {
     "name": "stderr",
     "output_type": "stream",
     "text": [
      "Validating:  48%|████▊     | 113/235 [01:30<01:36,  1.27it/s, loss=3.6045, avg_loss=3.6599]"
     ]
    },
    {
     "name": "stdout",
     "output_type": "stream",
     "text": [
      "{'kd_loss': 1.9425561428070068, 'feature_loss': 0.003067292273044586, 'ce_loss': 8.008434295654297, 'cont_loss': 2.303654670715332, 'teacher_loss': 5.5952467918396}\n"
     ]
    },
    {
     "name": "stderr",
     "output_type": "stream",
     "text": [
      "Validating:  49%|████▊     | 114/235 [01:31<01:35,  1.27it/s, loss=3.3266, avg_loss=3.6570]"
     ]
    },
    {
     "name": "stdout",
     "output_type": "stream",
     "text": [
      "{'kd_loss': 1.4055030345916748, 'feature_loss': 0.003253500908613205, 'ce_loss': 7.970019340515137, 'cont_loss': 2.325423240661621, 'teacher_loss': 4.2325663566589355}\n"
     ]
    },
    {
     "name": "stderr",
     "output_type": "stream",
     "text": [
      "Validating:  49%|████▉     | 115/235 [01:32<01:34,  1.27it/s, loss=3.8495, avg_loss=3.6586]"
     ]
    },
    {
     "name": "stdout",
     "output_type": "stream",
     "text": [
      "{'kd_loss': 2.3951878547668457, 'feature_loss': 0.00317363440990448, 'ce_loss': 8.057868957519531, 'cont_loss': 2.3422818183898926, 'teacher_loss': 4.691357135772705}\n"
     ]
    },
    {
     "name": "stderr",
     "output_type": "stream",
     "text": [
      "Validating:  49%|████▉     | 116/235 [01:33<01:33,  1.27it/s, loss=3.6545, avg_loss=3.6586]"
     ]
    },
    {
     "name": "stdout",
     "output_type": "stream",
     "text": [
      "{'kd_loss': 2.0485081672668457, 'feature_loss': 0.0029355178121477365, 'ce_loss': 7.983855724334717, 'cont_loss': 2.348212718963623, 'teacher_loss': 4.547749042510986}\n"
     ]
    },
    {
     "name": "stderr",
     "output_type": "stream",
     "text": [
      "Validating:  50%|████▉     | 117/235 [01:33<01:32,  1.27it/s, loss=3.3225, avg_loss=3.6557]"
     ]
    },
    {
     "name": "stdout",
     "output_type": "stream",
     "text": [
      "{'kd_loss': 1.2589221000671387, 'feature_loss': 0.003337380476295948, 'ce_loss': 8.181172370910645, 'cont_loss': 2.3831186294555664, 'teacher_loss': 4.792324542999268}\n"
     ]
    },
    {
     "name": "stderr",
     "output_type": "stream",
     "text": [
      "Validating:  50%|█████     | 118/235 [01:34<01:32,  1.27it/s, loss=3.5912, avg_loss=3.6552]"
     ]
    },
    {
     "name": "stdout",
     "output_type": "stream",
     "text": [
      "{'kd_loss': 1.9338966608047485, 'feature_loss': 0.003085031174123287, 'ce_loss': 7.963711261749268, 'cont_loss': 2.348501205444336, 'teacher_loss': 5.04075288772583}\n"
     ]
    },
    {
     "name": "stderr",
     "output_type": "stream",
     "text": [
      "Validating:  51%|█████     | 119/235 [01:35<01:31,  1.27it/s, loss=3.9657, avg_loss=3.6578]"
     ]
    },
    {
     "name": "stdout",
     "output_type": "stream",
     "text": [
      "{'kd_loss': 2.609436511993408, 'feature_loss': 0.0029735430143773556, 'ce_loss': 8.073988914489746, 'cont_loss': 2.384587287902832, 'teacher_loss': 4.696078300476074}\n"
     ]
    },
    {
     "name": "stderr",
     "output_type": "stream",
     "text": [
      "Validating:  51%|█████     | 120/235 [01:36<01:30,  1.27it/s, loss=3.3136, avg_loss=3.6549]"
     ]
    },
    {
     "name": "stdout",
     "output_type": "stream",
     "text": [
      "{'kd_loss': 1.299105167388916, 'feature_loss': 0.00335882930085063, 'ce_loss': 8.079290390014648, 'cont_loss': 2.3992414474487305, 'teacher_loss': 3.9497811794281006}\n"
     ]
    },
    {
     "name": "stderr",
     "output_type": "stream",
     "text": [
      "Validating:  51%|█████▏    | 121/235 [01:36<01:29,  1.27it/s, loss=3.7479, avg_loss=3.6557]"
     ]
    },
    {
     "name": "stdout",
     "output_type": "stream",
     "text": [
      "{'kd_loss': 2.164947986602783, 'feature_loss': 0.0031493979040533304, 'ce_loss': 8.076988220214844, 'cont_loss': 2.4202868938446045, 'teacher_loss': 5.297037601470947}\n"
     ]
    },
    {
     "name": "stderr",
     "output_type": "stream",
     "text": [
      "Validating:  52%|█████▏    | 122/235 [01:37<01:28,  1.27it/s, loss=4.0686, avg_loss=3.6591]"
     ]
    },
    {
     "name": "stdout",
     "output_type": "stream",
     "text": [
      "{'kd_loss': 2.7543036937713623, 'feature_loss': 0.0030226348899304867, 'ce_loss': 8.161782264709473, 'cont_loss': 2.4256398677825928, 'teacher_loss': 5.085515975952148}\n"
     ]
    },
    {
     "name": "stderr",
     "output_type": "stream",
     "text": [
      "Validating:  52%|█████▏    | 123/235 [01:38<01:28,  1.27it/s, loss=3.7088, avg_loss=3.6595]"
     ]
    },
    {
     "name": "stdout",
     "output_type": "stream",
     "text": [
      "{'kd_loss': 2.147097110748291, 'feature_loss': 0.0029732673428952694, 'ce_loss': 7.980417251586914, 'cont_loss': 2.408217430114746, 'teacher_loss': 5.2655534744262695}\n"
     ]
    },
    {
     "name": "stderr",
     "output_type": "stream",
     "text": [
      "Validating:  53%|█████▎    | 124/235 [01:39<01:27,  1.27it/s, loss=3.4044, avg_loss=3.6574]"
     ]
    },
    {
     "name": "stdout",
     "output_type": "stream",
     "text": [
      "{'kd_loss': 1.6178526878356934, 'feature_loss': 0.0031237637158483267, 'ce_loss': 7.8643999099731445, 'cont_loss': 2.358757257461548, 'teacher_loss': 4.3487043380737305}\n"
     ]
    },
    {
     "name": "stderr",
     "output_type": "stream",
     "text": [
      "Validating:  53%|█████▎    | 125/235 [01:40<01:26,  1.27it/s, loss=3.5367, avg_loss=3.6565]"
     ]
    },
    {
     "name": "stdout",
     "output_type": "stream",
     "text": [
      "{'kd_loss': 1.7127172946929932, 'feature_loss': 0.003092086873948574, 'ce_loss': 8.133499145507812, 'cont_loss': 2.400045394897461, 'teacher_loss': 4.1830973625183105}\n"
     ]
    },
    {
     "name": "stderr",
     "output_type": "stream",
     "text": [
      "Validating:  54%|█████▎    | 126/235 [01:40<01:25,  1.27it/s, loss=3.9930, avg_loss=3.6591]"
     ]
    },
    {
     "name": "stdout",
     "output_type": "stream",
     "text": [
      "{'kd_loss': 2.6562671661376953, 'feature_loss': 0.003101543989032507, 'ce_loss': 8.075093269348145, 'cont_loss': 2.4203734397888184, 'teacher_loss': 5.139608383178711}\n"
     ]
    },
    {
     "name": "stderr",
     "output_type": "stream",
     "text": [
      "Validating:  54%|█████▍    | 127/235 [01:41<01:25,  1.27it/s, loss=3.3845, avg_loss=3.6570]"
     ]
    },
    {
     "name": "stdout",
     "output_type": "stream",
     "text": [
      "{'kd_loss': 1.401648759841919, 'feature_loss': 0.003373988438397646, 'ce_loss': 8.123699188232422, 'cont_loss': 2.4617838859558105, 'teacher_loss': 4.337961673736572}\n"
     ]
    },
    {
     "name": "stderr",
     "output_type": "stream",
     "text": [
      "Validating:  54%|█████▍    | 128/235 [01:42<01:24,  1.27it/s, loss=3.5720, avg_loss=3.6563]"
     ]
    },
    {
     "name": "stdout",
     "output_type": "stream",
     "text": [
      "{'kd_loss': 1.9038552045822144, 'feature_loss': 0.0030608950182795525, 'ce_loss': 7.919254302978516, 'cont_loss': 2.440258026123047, 'teacher_loss': 4.788217544555664}\n"
     ]
    },
    {
     "name": "stderr",
     "output_type": "stream",
     "text": [
      "Validating:  55%|█████▍    | 129/235 [01:43<01:23,  1.27it/s, loss=3.7685, avg_loss=3.6572]"
     ]
    },
    {
     "name": "stdout",
     "output_type": "stream",
     "text": [
      "{'kd_loss': 2.247307062149048, 'feature_loss': 0.0031403820030391216, 'ce_loss': 7.984129905700684, 'cont_loss': 2.4933176040649414, 'teacher_loss': 5.646735668182373}\n"
     ]
    },
    {
     "name": "stderr",
     "output_type": "stream",
     "text": [
      "Validating:  55%|█████▌    | 130/235 [01:44<01:22,  1.27it/s, loss=3.8813, avg_loss=3.6589]"
     ]
    },
    {
     "name": "stdout",
     "output_type": "stream",
     "text": [
      "{'kd_loss': 2.4075026512145996, 'feature_loss': 0.003019510768353939, 'ce_loss': 8.097724914550781, 'cont_loss': 2.47925066947937, 'teacher_loss': 4.915940761566162}\n"
     ]
    },
    {
     "name": "stderr",
     "output_type": "stream",
     "text": [
      "Validating:  56%|█████▌    | 131/235 [01:44<01:21,  1.27it/s, loss=3.6428, avg_loss=3.6588]"
     ]
    },
    {
     "name": "stdout",
     "output_type": "stream",
     "text": [
      "{'kd_loss': 1.9812636375427246, 'feature_loss': 0.0032206960022449493, 'ce_loss': 7.999197006225586, 'cont_loss': 2.5209879875183105, 'teacher_loss': 5.058951377868652}\n"
     ]
    },
    {
     "name": "stderr",
     "output_type": "stream",
     "text": [
      "Validating:  56%|█████▌    | 132/235 [01:45<01:21,  1.27it/s, loss=3.8922, avg_loss=3.6605]"
     ]
    },
    {
     "name": "stdout",
     "output_type": "stream",
     "text": [
      "{'kd_loss': 2.5707199573516846, 'feature_loss': 0.0029347087256610394, 'ce_loss': 7.864627361297607, 'cont_loss': 2.471583366394043, 'teacher_loss': 4.996274948120117}\n"
     ]
    },
    {
     "name": "stderr",
     "output_type": "stream",
     "text": [
      "Validating:  57%|█████▋    | 133/235 [01:46<01:20,  1.27it/s, loss=3.5570, avg_loss=3.6598]"
     ]
    },
    {
     "name": "stdout",
     "output_type": "stream",
     "text": [
      "{'kd_loss': 1.7669707536697388, 'feature_loss': 0.0031741084530949593, 'ce_loss': 8.083783149719238, 'cont_loss': 2.480868339538574, 'teacher_loss': 4.482510566711426}\n"
     ]
    },
    {
     "name": "stderr",
     "output_type": "stream",
     "text": [
      "Validating:  57%|█████▋    | 134/235 [01:47<01:19,  1.27it/s, loss=3.7687, avg_loss=3.6606]"
     ]
    },
    {
     "name": "stdout",
     "output_type": "stream",
     "text": [
      "{'kd_loss': 2.0972447395324707, 'feature_loss': 0.0031272917985916138, 'ce_loss': 8.238995552062988, 'cont_loss': 2.4804844856262207, 'teacher_loss': 5.0386457443237305}\n"
     ]
    },
    {
     "name": "stderr",
     "output_type": "stream",
     "text": [
      "Validating:  57%|█████▋    | 135/235 [01:47<01:18,  1.27it/s, loss=3.3797, avg_loss=3.6585]"
     ]
    },
    {
     "name": "stdout",
     "output_type": "stream",
     "text": [
      "{'kd_loss': 1.4611661434173584, 'feature_loss': 0.0032459422945976257, 'ce_loss': 7.992025852203369, 'cont_loss': 2.5119283199310303, 'teacher_loss': 4.346747875213623}\n"
     ]
    },
    {
     "name": "stderr",
     "output_type": "stream",
     "text": [
      "Validating:  58%|█████▊    | 136/235 [01:48<01:17,  1.27it/s, loss=3.7213, avg_loss=3.6590]"
     ]
    },
    {
     "name": "stdout",
     "output_type": "stream",
     "text": [
      "{'kd_loss': 2.1493306159973145, 'feature_loss': 0.00307364109903574, 'ce_loss': 7.985177040100098, 'cont_loss': 2.507838726043701, 'teacher_loss': 5.400500774383545}\n"
     ]
    },
    {
     "name": "stderr",
     "output_type": "stream",
     "text": [
      "Validating:  58%|█████▊    | 137/235 [01:49<01:17,  1.27it/s, loss=3.4447, avg_loss=3.6574]"
     ]
    },
    {
     "name": "stdout",
     "output_type": "stream",
     "text": [
      "{'kd_loss': 1.544175624847412, 'feature_loss': 0.003235842101275921, 'ce_loss': 8.060400009155273, 'cont_loss': 2.5421552658081055, 'teacher_loss': 5.3563032150268555}\n"
     ]
    },
    {
     "name": "stderr",
     "output_type": "stream",
     "text": [
      "Validating:  59%|█████▊    | 138/235 [01:50<01:16,  1.27it/s, loss=3.6794, avg_loss=3.6576]"
     ]
    },
    {
     "name": "stdout",
     "output_type": "stream",
     "text": [
      "{'kd_loss': 2.1422343254089355, 'feature_loss': 0.0030563026666641235, 'ce_loss': 7.842718124389648, 'cont_loss': 2.551359176635742, 'teacher_loss': 5.246189594268799}\n"
     ]
    },
    {
     "name": "stderr",
     "output_type": "stream",
     "text": [
      "Validating:  59%|█████▉    | 139/235 [01:51<01:15,  1.27it/s, loss=3.2708, avg_loss=3.6548]"
     ]
    },
    {
     "name": "stdout",
     "output_type": "stream",
     "text": [
      "{'kd_loss': 1.16880202293396, 'feature_loss': 0.0033280719071626663, 'ce_loss': 8.096298217773438, 'cont_loss': 2.5717926025390625, 'teacher_loss': 5.48279333114624}\n"
     ]
    },
    {
     "name": "stderr",
     "output_type": "stream",
     "text": [
      "Validating:  60%|█████▉    | 140/235 [01:51<01:14,  1.27it/s, loss=3.6130, avg_loss=3.6545]"
     ]
    },
    {
     "name": "stdout",
     "output_type": "stream",
     "text": [
      "{'kd_loss': 1.9295246601104736, 'feature_loss': 0.003190748393535614, 'ce_loss': 7.980123043060303, 'cont_loss': 2.538621425628662, 'teacher_loss': 4.734367370605469}\n"
     ]
    },
    {
     "name": "stderr",
     "output_type": "stream",
     "text": [
      "Validating:  60%|██████    | 141/235 [01:52<01:14,  1.27it/s, loss=3.4062, avg_loss=3.6527]"
     ]
    },
    {
     "name": "stdout",
     "output_type": "stream",
     "text": [
      "{'kd_loss': 1.4702036380767822, 'feature_loss': 0.0032545116264373064, 'ce_loss': 8.05606746673584, 'cont_loss': 2.5393104553222656, 'teacher_loss': 5.572204113006592}\n"
     ]
    },
    {
     "name": "stderr",
     "output_type": "stream",
     "text": [
      "Validating:  60%|██████    | 142/235 [01:53<01:13,  1.27it/s, loss=3.6256, avg_loss=3.6525]"
     ]
    },
    {
     "name": "stdout",
     "output_type": "stream",
     "text": [
      "{'kd_loss': 1.8457186222076416, 'feature_loss': 0.003284333273768425, 'ce_loss': 8.143746376037598, 'cont_loss': 2.5928738117218018, 'teacher_loss': 5.603487491607666}\n"
     ]
    },
    {
     "name": "stderr",
     "output_type": "stream",
     "text": [
      "Validating:  61%|██████    | 143/235 [01:54<01:12,  1.27it/s, loss=3.3698, avg_loss=3.6505]"
     ]
    },
    {
     "name": "stdout",
     "output_type": "stream",
     "text": [
      "{'kd_loss': 1.4678778648376465, 'feature_loss': 0.003283248282968998, 'ce_loss': 7.9243059158325195, 'cont_loss': 2.582257032394409, 'teacher_loss': 3.99322509765625}\n"
     ]
    },
    {
     "name": "stderr",
     "output_type": "stream",
     "text": [
      "Validating:  61%|██████▏   | 144/235 [01:55<01:11,  1.27it/s, loss=3.2734, avg_loss=3.6479]"
     ]
    },
    {
     "name": "stdout",
     "output_type": "stream",
     "text": [
      "{'kd_loss': 1.2383601665496826, 'feature_loss': 0.0031859586015343666, 'ce_loss': 7.983435153961182, 'cont_loss': 2.5891916751861572, 'teacher_loss': 4.716660022735596}\n"
     ]
    },
    {
     "name": "stderr",
     "output_type": "stream",
     "text": [
      "Validating:  62%|██████▏   | 145/235 [01:55<01:10,  1.27it/s, loss=3.5372, avg_loss=3.6472]"
     ]
    },
    {
     "name": "stdout",
     "output_type": "stream",
     "text": [
      "{'kd_loss': 1.7404333353042603, 'feature_loss': 0.0031582904048264027, 'ce_loss': 8.023895263671875, 'cont_loss': 2.595301628112793, 'teacher_loss': 5.0124192237854}\n"
     ]
    },
    {
     "name": "stderr",
     "output_type": "stream",
     "text": [
      "Validating:  62%|██████▏   | 146/235 [01:56<01:10,  1.27it/s, loss=3.8948, avg_loss=3.6489]"
     ]
    },
    {
     "name": "stdout",
     "output_type": "stream",
     "text": [
      "{'kd_loss': 2.387911081314087, 'feature_loss': 0.003068971447646618, 'ce_loss': 8.133367538452148, 'cont_loss': 2.605290651321411, 'teacher_loss': 5.148758888244629}\n"
     ]
    },
    {
     "name": "stderr",
     "output_type": "stream",
     "text": [
      "Validating:  63%|██████▎   | 147/235 [01:57<01:09,  1.27it/s, loss=3.5743, avg_loss=3.6484]"
     ]
    },
    {
     "name": "stdout",
     "output_type": "stream",
     "text": [
      "{'kd_loss': 1.8356746435165405, 'feature_loss': 0.0032423308584839106, 'ce_loss': 7.981422424316406, 'cont_loss': 2.6168603897094727, 'teacher_loss': 6.003993034362793}\n"
     ]
    },
    {
     "name": "stderr",
     "output_type": "stream",
     "text": [
      "Validating:  63%|██████▎   | 148/235 [01:58<01:08,  1.27it/s, loss=3.4551, avg_loss=3.6470]"
     ]
    },
    {
     "name": "stdout",
     "output_type": "stream",
     "text": [
      "{'kd_loss': 1.5509085655212402, 'feature_loss': 0.003248780034482479, 'ce_loss': 8.061933517456055, 'cont_loss': 2.607415199279785, 'teacher_loss': 4.513298988342285}\n"
     ]
    },
    {
     "name": "stderr",
     "output_type": "stream",
     "text": [
      "Validating:  63%|██████▎   | 149/235 [01:59<01:07,  1.27it/s, loss=3.7954, avg_loss=3.6480]"
     ]
    },
    {
     "name": "stdout",
     "output_type": "stream",
     "text": [
      "{'kd_loss': 2.200624942779541, 'feature_loss': 0.0031293947249650955, 'ce_loss': 8.09350872039795, 'cont_loss': 2.666811466217041, 'teacher_loss': 5.806684494018555}\n"
     ]
    },
    {
     "name": "stderr",
     "output_type": "stream",
     "text": [
      "Validating:  64%|██████▍   | 150/235 [01:59<01:06,  1.27it/s, loss=3.8610, avg_loss=3.6495]"
     ]
    },
    {
     "name": "stdout",
     "output_type": "stream",
     "text": [
      "{'kd_loss': 2.3464102745056152, 'feature_loss': 0.0031172647140920162, 'ce_loss': 8.079915046691895, 'cont_loss': 2.635087490081787, 'teacher_loss': 5.026198863983154}\n"
     ]
    },
    {
     "name": "stderr",
     "output_type": "stream",
     "text": [
      "Validating:  64%|██████▍   | 151/235 [02:00<01:06,  1.27it/s, loss=3.4753, avg_loss=3.6483]"
     ]
    },
    {
     "name": "stdout",
     "output_type": "stream",
     "text": [
      "{'kd_loss': 1.634028434753418, 'feature_loss': 0.003251508343964815, 'ce_loss': 7.966826915740967, 'cont_loss': 2.678936004638672, 'teacher_loss': 5.197349548339844}\n"
     ]
    },
    {
     "name": "stderr",
     "output_type": "stream",
     "text": [
      "Validating:  65%|██████▍   | 152/235 [02:01<01:05,  1.27it/s, loss=3.4542, avg_loss=3.6470]"
     ]
    },
    {
     "name": "stdout",
     "output_type": "stream",
     "text": [
      "{'kd_loss': 1.5440335273742676, 'feature_loss': 0.0032165911979973316, 'ce_loss': 8.044947624206543, 'cont_loss': 2.6837222576141357, 'teacher_loss': 5.734621047973633}\n"
     ]
    },
    {
     "name": "stderr",
     "output_type": "stream",
     "text": [
      "Validating:  65%|██████▌   | 153/235 [02:02<01:04,  1.27it/s, loss=3.4306, avg_loss=3.6456]"
     ]
    },
    {
     "name": "stdout",
     "output_type": "stream",
     "text": [
      "{'kd_loss': 1.4574224948883057, 'feature_loss': 0.003261454636231065, 'ce_loss': 8.112195014953613, 'cont_loss': 2.678879499435425, 'teacher_loss': 5.325725555419922}\n"
     ]
    },
    {
     "name": "stderr",
     "output_type": "stream",
     "text": [
      "Validating:  66%|██████▌   | 154/235 [02:02<01:03,  1.27it/s, loss=3.3783, avg_loss=3.6439]"
     ]
    },
    {
     "name": "stdout",
     "output_type": "stream",
     "text": [
      "{'kd_loss': 1.4198616743087769, 'feature_loss': 0.0032512135803699493, 'ce_loss': 7.995121479034424, 'cont_loss': 2.6952319145202637, 'teacher_loss': 5.478860378265381}\n"
     ]
    },
    {
     "name": "stderr",
     "output_type": "stream",
     "text": [
      "Validating:  66%|██████▌   | 155/235 [02:03<01:02,  1.27it/s, loss=3.2946, avg_loss=3.6416]"
     ]
    },
    {
     "name": "stdout",
     "output_type": "stream",
     "text": [
      "{'kd_loss': 1.1999869346618652, 'feature_loss': 0.003326955484226346, 'ce_loss': 8.080971717834473, 'cont_loss': 2.7002997398376465, 'teacher_loss': 4.907500267028809}\n"
     ]
    },
    {
     "name": "stderr",
     "output_type": "stream",
     "text": [
      "Validating:  66%|██████▋   | 156/235 [02:04<01:02,  1.27it/s, loss=3.3165, avg_loss=3.6395]"
     ]
    },
    {
     "name": "stdout",
     "output_type": "stream",
     "text": [
      "{'kd_loss': 1.238991379737854, 'feature_loss': 0.0033080349676311016, 'ce_loss': 8.080737113952637, 'cont_loss': 2.7241322994232178, 'teacher_loss': 5.375549793243408}\n"
     ]
    },
    {
     "name": "stderr",
     "output_type": "stream",
     "text": [
      "Validating:  67%|██████▋   | 157/235 [02:05<01:01,  1.27it/s, loss=3.5585, avg_loss=3.6390]"
     ]
    },
    {
     "name": "stdout",
     "output_type": "stream",
     "text": [
      "{'kd_loss': 1.6922945976257324, 'feature_loss': 0.0033120447769761086, 'ce_loss': 8.125792503356934, 'cont_loss': 2.742716073989868, 'teacher_loss': 5.658041477203369}\n"
     ]
    },
    {
     "name": "stderr",
     "output_type": "stream",
     "text": [
      "Validating:  67%|██████▋   | 158/235 [02:06<01:00,  1.27it/s, loss=3.5903, avg_loss=3.6387]"
     ]
    },
    {
     "name": "stdout",
     "output_type": "stream",
     "text": [
      "{'kd_loss': 1.7529520988464355, 'feature_loss': 0.0032884832471609116, 'ce_loss': 8.135043144226074, 'cont_loss': 2.7300238609313965, 'teacher_loss': 5.490835666656494}\n"
     ]
    },
    {
     "name": "stderr",
     "output_type": "stream",
     "text": [
      "Validating:  68%|██████▊   | 159/235 [02:06<00:59,  1.27it/s, loss=3.6218, avg_loss=3.6386]"
     ]
    },
    {
     "name": "stdout",
     "output_type": "stream",
     "text": [
      "{'kd_loss': 1.9330204725265503, 'feature_loss': 0.0030869680922478437, 'ce_loss': 7.946685791015625, 'cont_loss': 2.7093286514282227, 'teacher_loss': 4.219612121582031}\n"
     ]
    },
    {
     "name": "stderr",
     "output_type": "stream",
     "text": [
      "Validating:  68%|██████▊   | 160/235 [02:07<00:59,  1.27it/s, loss=3.3435, avg_loss=3.6368]"
     ]
    },
    {
     "name": "stdout",
     "output_type": "stream",
     "text": [
      "{'kd_loss': 1.300796389579773, 'feature_loss': 0.0031598478090018034, 'ce_loss': 8.0725679397583, 'cont_loss': 2.709747552871704, 'teacher_loss': 4.663125991821289}\n"
     ]
    },
    {
     "name": "stderr",
     "output_type": "stream",
     "text": [
      "Validating:  69%|██████▊   | 161/235 [02:08<00:58,  1.27it/s, loss=3.6090, avg_loss=3.6366]"
     ]
    },
    {
     "name": "stdout",
     "output_type": "stream",
     "text": [
      "{'kd_loss': 1.836700439453125, 'feature_loss': 0.0031634189654141665, 'ce_loss': 8.052255630493164, 'cont_loss': 2.7469067573547363, 'teacher_loss': 5.575319290161133}\n"
     ]
    },
    {
     "name": "stderr",
     "output_type": "stream",
     "text": [
      "Validating:  69%|██████▉   | 162/235 [02:09<00:57,  1.27it/s, loss=3.5728, avg_loss=3.6362]"
     ]
    },
    {
     "name": "stdout",
     "output_type": "stream",
     "text": [
      "{'kd_loss': 1.803131341934204, 'feature_loss': 0.0032709618099033833, 'ce_loss': 7.982176780700684, 'cont_loss': 2.7625386714935303, 'teacher_loss': 5.442543983459473}\n"
     ]
    },
    {
     "name": "stderr",
     "output_type": "stream",
     "text": [
      "Validating:  69%|██████▉   | 163/235 [02:10<00:56,  1.27it/s, loss=3.3686, avg_loss=3.6346]"
     ]
    },
    {
     "name": "stdout",
     "output_type": "stream",
     "text": [
      "{'kd_loss': 1.315061330795288, 'feature_loss': 0.0032842187210917473, 'ce_loss': 8.114937782287598, 'cont_loss': 2.7626893520355225, 'teacher_loss': 5.2453999519348145}\n"
     ]
    },
    {
     "name": "stderr",
     "output_type": "stream",
     "text": [
      "Validating:  70%|██████▉   | 164/235 [02:10<00:55,  1.27it/s, loss=3.3113, avg_loss=3.6326]"
     ]
    },
    {
     "name": "stdout",
     "output_type": "stream",
     "text": [
      "{'kd_loss': 1.2811540365219116, 'feature_loss': 0.0033044172450900078, 'ce_loss': 7.969366073608398, 'cont_loss': 2.796078681945801, 'teacher_loss': 5.555576324462891}\n"
     ]
    },
    {
     "name": "stderr",
     "output_type": "stream",
     "text": [
      "Validating:  70%|███████   | 165/235 [02:11<00:55,  1.27it/s, loss=3.5106, avg_loss=3.6318]"
     ]
    },
    {
     "name": "stdout",
     "output_type": "stream",
     "text": [
      "{'kd_loss': 1.6205334663391113, 'feature_loss': 0.0032462691888213158, 'ce_loss': 8.074481964111328, 'cont_loss': 2.776249408721924, 'teacher_loss': 4.855762004852295}\n"
     ]
    },
    {
     "name": "stderr",
     "output_type": "stream",
     "text": [
      "Validating:  71%|███████   | 166/235 [02:12<00:54,  1.27it/s, loss=3.4472, avg_loss=3.6307]"
     ]
    },
    {
     "name": "stdout",
     "output_type": "stream",
     "text": [
      "{'kd_loss': 1.4676681756973267, 'feature_loss': 0.003213106421753764, 'ce_loss': 8.113235473632812, 'cont_loss': 2.790688991546631, 'teacher_loss': 5.671115398406982}\n"
     ]
    },
    {
     "name": "stderr",
     "output_type": "stream",
     "text": [
      "Validating:  71%|███████   | 167/235 [02:13<00:53,  1.27it/s, loss=3.4467, avg_loss=3.6296]"
     ]
    },
    {
     "name": "stdout",
     "output_type": "stream",
     "text": [
      "{'kd_loss': 1.586268663406372, 'feature_loss': 0.0031330655328929424, 'ce_loss': 7.920464515686035, 'cont_loss': 2.770643711090088, 'teacher_loss': 4.975493431091309}\n"
     ]
    },
    {
     "name": "stderr",
     "output_type": "stream",
     "text": [
      "Validating:  71%|███████▏  | 168/235 [02:13<00:52,  1.27it/s, loss=3.4985, avg_loss=3.6289]"
     ]
    },
    {
     "name": "stdout",
     "output_type": "stream",
     "text": [
      "{'kd_loss': 1.6448087692260742, 'feature_loss': 0.0030471563804894686, 'ce_loss': 7.996716022491455, 'cont_loss': 2.767899990081787, 'teacher_loss': 4.840105056762695}\n"
     ]
    },
    {
     "name": "stderr",
     "output_type": "stream",
     "text": [
      "Validating:  72%|███████▏  | 169/235 [02:14<00:51,  1.27it/s, loss=3.4482, avg_loss=3.6278]"
     ]
    },
    {
     "name": "stdout",
     "output_type": "stream",
     "text": [
      "{'kd_loss': 1.4953503608703613, 'feature_loss': 0.0032322616316378117, 'ce_loss': 8.065608978271484, 'cont_loss': 2.805202007293701, 'teacher_loss': 5.1329345703125}\n"
     ]
    },
    {
     "name": "stderr",
     "output_type": "stream",
     "text": [
      "Validating:  72%|███████▏  | 170/235 [02:15<00:51,  1.27it/s, loss=3.4736, avg_loss=3.6269]"
     ]
    },
    {
     "name": "stdout",
     "output_type": "stream",
     "text": [
      "{'kd_loss': 1.5692470073699951, 'feature_loss': 0.003195247147232294, 'ce_loss': 8.025847434997559, 'cont_loss': 2.8091955184936523, 'teacher_loss': 5.216988563537598}\n"
     ]
    },
    {
     "name": "stderr",
     "output_type": "stream",
     "text": [
      "Validating:  73%|███████▎  | 171/235 [02:16<00:50,  1.27it/s, loss=3.4326, avg_loss=3.6257]"
     ]
    },
    {
     "name": "stdout",
     "output_type": "stream",
     "text": [
      "{'kd_loss': 1.4779677391052246, 'feature_loss': 0.0032248380593955517, 'ce_loss': 8.042098045349121, 'cont_loss': 2.807136297225952, 'teacher_loss': 5.442028522491455}\n"
     ]
    },
    {
     "name": "stderr",
     "output_type": "stream",
     "text": [
      "Validating:  73%|███████▎  | 172/235 [02:17<00:49,  1.27it/s, loss=3.5463, avg_loss=3.6253]"
     ]
    },
    {
     "name": "stdout",
     "output_type": "stream",
     "text": [
      "{'kd_loss': 1.7089425325393677, 'feature_loss': 0.0031961295753717422, 'ce_loss': 8.021941184997559, 'cont_loss': 2.848792791366577, 'teacher_loss': 5.393474102020264}\n"
     ]
    },
    {
     "name": "stderr",
     "output_type": "stream",
     "text": [
      "Validating:  74%|███████▎  | 173/235 [02:17<00:48,  1.27it/s, loss=3.4405, avg_loss=3.6242]"
     ]
    },
    {
     "name": "stdout",
     "output_type": "stream",
     "text": [
      "{'kd_loss': 1.4749577045440674, 'feature_loss': 0.0032483425457030535, 'ce_loss': 8.063947677612305, 'cont_loss': 2.8347928524017334, 'teacher_loss': 5.534519195556641}\n"
     ]
    },
    {
     "name": "stderr",
     "output_type": "stream",
     "text": [
      "Validating:  74%|███████▍  | 174/235 [02:18<00:47,  1.27it/s, loss=3.7494, avg_loss=3.6249]"
     ]
    },
    {
     "name": "stdout",
     "output_type": "stream",
     "text": [
      "{'kd_loss': 2.1672098636627197, 'feature_loss': 0.003171789227053523, 'ce_loss': 7.946128845214844, 'cont_loss': 2.816129684448242, 'teacher_loss': 5.371575355529785}\n"
     ]
    },
    {
     "name": "stderr",
     "output_type": "stream",
     "text": [
      "Validating:  74%|███████▍  | 175/235 [02:19<00:47,  1.28it/s, loss=3.3926, avg_loss=3.6236]"
     ]
    },
    {
     "name": "stdout",
     "output_type": "stream",
     "text": [
      "{'kd_loss': 1.4461054801940918, 'feature_loss': 0.003242450300604105, 'ce_loss': 7.954034328460693, 'cont_loss': 2.8304266929626465, 'teacher_loss': 5.378507614135742}\n"
     ]
    },
    {
     "name": "stderr",
     "output_type": "stream",
     "text": [
      "Validating:  75%|███████▍  | 176/235 [02:20<00:46,  1.28it/s, loss=3.3616, avg_loss=3.6221]"
     ]
    },
    {
     "name": "stdout",
     "output_type": "stream",
     "text": [
      "{'kd_loss': 1.2944996356964111, 'feature_loss': 0.003312514629215002, 'ce_loss': 8.086222648620605, 'cont_loss': 2.8818790912628174, 'teacher_loss': 5.213438034057617}\n"
     ]
    },
    {
     "name": "stderr",
     "output_type": "stream",
     "text": [
      "Validating:  75%|███████▌  | 177/235 [02:21<00:45,  1.27it/s, loss=3.2586, avg_loss=3.6201]"
     ]
    },
    {
     "name": "stdout",
     "output_type": "stream",
     "text": [
      "{'kd_loss': 1.0929632186889648, 'feature_loss': 0.003284991718828678, 'ce_loss': 8.082510948181152, 'cont_loss': 2.8707773685455322, 'teacher_loss': 5.050836086273193}\n"
     ]
    },
    {
     "name": "stderr",
     "output_type": "stream",
     "text": [
      "Validating:  76%|███████▌  | 178/235 [02:21<00:44,  1.27it/s, loss=3.4474, avg_loss=3.6191]"
     ]
    },
    {
     "name": "stdout",
     "output_type": "stream",
     "text": [
      "{'kd_loss': 1.5649334192276, 'feature_loss': 0.0031601903028786182, 'ce_loss': 7.932888984680176, 'cont_loss': 2.847043991088867, 'teacher_loss': 4.799665927886963}\n"
     ]
    },
    {
     "name": "stderr",
     "output_type": "stream",
     "text": [
      "Validating:  76%|███████▌  | 179/235 [02:22<00:43,  1.28it/s, loss=3.6772, avg_loss=3.6194]"
     ]
    },
    {
     "name": "stdout",
     "output_type": "stream",
     "text": [
      "{'kd_loss': 2.0324325561523438, 'feature_loss': 0.0030947893392294645, 'ce_loss': 7.913919925689697, 'cont_loss': 2.8650131225585938, 'teacher_loss': 6.049391746520996}\n"
     ]
    },
    {
     "name": "stderr",
     "output_type": "stream",
     "text": [
      "Validating:  77%|███████▋  | 180/235 [02:23<00:43,  1.28it/s, loss=3.4544, avg_loss=3.6185]"
     ]
    },
    {
     "name": "stdout",
     "output_type": "stream",
     "text": [
      "{'kd_loss': 1.4889870882034302, 'feature_loss': 0.0032086502760648727, 'ce_loss': 8.067416191101074, 'cont_loss': 2.8933730125427246, 'teacher_loss': 4.867313385009766}\n"
     ]
    },
    {
     "name": "stderr",
     "output_type": "stream",
     "text": [
      "Validating:  77%|███████▋  | 181/235 [02:24<00:42,  1.28it/s, loss=3.7513, avg_loss=3.6192]"
     ]
    },
    {
     "name": "stdout",
     "output_type": "stream",
     "text": [
      "{'kd_loss': 2.017850875854492, 'feature_loss': 0.0030076871626079082, 'ce_loss': 8.182426452636719, 'cont_loss': 2.873671054840088, 'teacher_loss': 5.59813117980957}\n"
     ]
    },
    {
     "name": "stderr",
     "output_type": "stream",
     "text": [
      "Validating:  77%|███████▋  | 182/235 [02:24<00:41,  1.27it/s, loss=3.4893, avg_loss=3.6185]"
     ]
    },
    {
     "name": "stdout",
     "output_type": "stream",
     "text": [
      "{'kd_loss': 1.5536723136901855, 'feature_loss': 0.003256469499319792, 'ce_loss': 8.073576927185059, 'cont_loss': 2.9011125564575195, 'teacher_loss': 5.1352314949035645}\n"
     ]
    },
    {
     "name": "stderr",
     "output_type": "stream",
     "text": [
      "Validating:  78%|███████▊  | 183/235 [02:25<00:40,  1.27it/s, loss=3.3963, avg_loss=3.6173]"
     ]
    },
    {
     "name": "stdout",
     "output_type": "stream",
     "text": [
      "{'kd_loss': 1.3529677391052246, 'feature_loss': 0.0033352598547935486, 'ce_loss': 8.093789100646973, 'cont_loss': 2.913674831390381, 'teacher_loss': 5.575007915496826}\n"
     ]
    },
    {
     "name": "stderr",
     "output_type": "stream",
     "text": [
      "Validating:  78%|███████▊  | 184/235 [02:26<00:40,  1.27it/s, loss=3.5466, avg_loss=3.6169]"
     ]
    },
    {
     "name": "stdout",
     "output_type": "stream",
     "text": [
      "{'kd_loss': 1.6631226539611816, 'feature_loss': 0.003209637012332678, 'ce_loss': 8.081687927246094, 'cont_loss': 2.902008533477783, 'teacher_loss': 5.74101448059082}\n"
     ]
    },
    {
     "name": "stderr",
     "output_type": "stream",
     "text": [
      "Validating:  79%|███████▊  | 185/235 [02:27<00:39,  1.27it/s, loss=3.3839, avg_loss=3.6157]"
     ]
    },
    {
     "name": "stdout",
     "output_type": "stream",
     "text": [
      "{'kd_loss': 1.3249611854553223, 'feature_loss': 0.003270745277404785, 'ce_loss': 8.090808868408203, 'cont_loss': 2.938835382461548, 'teacher_loss': 5.457831382751465}\n"
     ]
    },
    {
     "name": "stderr",
     "output_type": "stream",
     "text": [
      "Validating:  79%|███████▉  | 186/235 [02:28<00:38,  1.27it/s, loss=3.5451, avg_loss=3.6153]"
     ]
    },
    {
     "name": "stdout",
     "output_type": "stream",
     "text": [
      "{'kd_loss': 1.6539478302001953, 'feature_loss': 0.003190200310200453, 'ce_loss': 8.084554672241211, 'cont_loss': 2.9239988327026367, 'teacher_loss': 4.752142429351807}\n"
     ]
    },
    {
     "name": "stderr",
     "output_type": "stream",
     "text": [
      "Validating:  80%|███████▉  | 187/235 [02:28<00:37,  1.27it/s, loss=3.5791, avg_loss=3.6151]"
     ]
    },
    {
     "name": "stdout",
     "output_type": "stream",
     "text": [
      "{'kd_loss': 1.7100238800048828, 'feature_loss': 0.003212644951418042, 'ce_loss': 8.103944778442383, 'cont_loss': 2.9254932403564453, 'teacher_loss': 5.403262138366699}\n"
     ]
    },
    {
     "name": "stderr",
     "output_type": "stream",
     "text": [
      "Validating:  80%|████████  | 188/235 [02:29<00:36,  1.27it/s, loss=3.3699, avg_loss=3.6138]"
     ]
    },
    {
     "name": "stdout",
     "output_type": "stream",
     "text": [
      "{'kd_loss': 1.3263213634490967, 'feature_loss': 0.0033065006136894226, 'ce_loss': 8.040677070617676, 'cont_loss': 2.942422389984131, 'teacher_loss': 5.464439392089844}\n"
     ]
    },
    {
     "name": "stderr",
     "output_type": "stream",
     "text": [
      "Validating:  80%|████████  | 189/235 [02:30<00:36,  1.28it/s, loss=3.7467, avg_loss=3.6145]"
     ]
    },
    {
     "name": "stdout",
     "output_type": "stream",
     "text": [
      "{'kd_loss': 2.0625951290130615, 'feature_loss': 0.0031493669375777245, 'ce_loss': 8.06707763671875, 'cont_loss': 2.949680805206299, 'teacher_loss': 5.666418075561523}\n"
     ]
    },
    {
     "name": "stderr",
     "output_type": "stream",
     "text": [
      "Validating:  81%|████████  | 190/235 [02:31<00:35,  1.27it/s, loss=3.5813, avg_loss=3.6143]"
     ]
    },
    {
     "name": "stdout",
     "output_type": "stream",
     "text": [
      "{'kd_loss': 1.7577139139175415, 'feature_loss': 0.003180453088134527, 'ce_loss': 8.039889335632324, 'cont_loss': 2.9016551971435547, 'teacher_loss': 5.33112096786499}\n"
     ]
    },
    {
     "name": "stderr",
     "output_type": "stream",
     "text": [
      "Validating:  81%|████████▏ | 191/235 [02:32<00:34,  1.28it/s, loss=3.5846, avg_loss=3.6142]"
     ]
    },
    {
     "name": "stdout",
     "output_type": "stream",
     "text": [
      "{'kd_loss': 1.790449619293213, 'feature_loss': 0.0031978636980056763, 'ce_loss': 7.98192834854126, 'cont_loss': 2.944559097290039, 'teacher_loss': 6.037662029266357}\n"
     ]
    },
    {
     "name": "stderr",
     "output_type": "stream",
     "text": [
      "Validating:  82%|████████▏ | 192/235 [02:32<00:33,  1.28it/s, loss=3.5708, avg_loss=3.6139]"
     ]
    },
    {
     "name": "stdout",
     "output_type": "stream",
     "text": [
      "{'kd_loss': 1.6900979280471802, 'feature_loss': 0.00316886929795146, 'ce_loss': 8.096983909606934, 'cont_loss': 2.963062286376953, 'teacher_loss': 5.3089752197265625}\n"
     ]
    },
    {
     "name": "stderr",
     "output_type": "stream",
     "text": [
      "Validating:  82%|████████▏ | 193/235 [02:33<00:32,  1.28it/s, loss=3.5289, avg_loss=3.6135]"
     ]
    },
    {
     "name": "stdout",
     "output_type": "stream",
     "text": [
      "{'kd_loss': 1.6995420455932617, 'feature_loss': 0.0032044618856161833, 'ce_loss': 7.942174434661865, 'cont_loss': 2.961085796356201, 'teacher_loss': 5.108462810516357}\n"
     ]
    },
    {
     "name": "stderr",
     "output_type": "stream",
     "text": [
      "Validating:  83%|████████▎ | 194/235 [02:34<00:32,  1.27it/s, loss=3.5121, avg_loss=3.6130]"
     ]
    },
    {
     "name": "stdout",
     "output_type": "stream",
     "text": [
      "{'kd_loss': 1.615781545639038, 'feature_loss': 0.003286861116066575, 'ce_loss': 8.023338317871094, 'cont_loss': 2.9685111045837402, 'teacher_loss': 4.6949357986450195}\n"
     ]
    },
    {
     "name": "stderr",
     "output_type": "stream",
     "text": [
      "Validating:  83%|████████▎ | 195/235 [02:35<00:31,  1.27it/s, loss=3.5567, avg_loss=3.6127]"
     ]
    },
    {
     "name": "stdout",
     "output_type": "stream",
     "text": [
      "{'kd_loss': 1.6357967853546143, 'feature_loss': 0.003203700529411435, 'ce_loss': 8.13585376739502, 'cont_loss': 2.9772095680236816, 'teacher_loss': 5.242577075958252}\n"
     ]
    },
    {
     "name": "stderr",
     "output_type": "stream",
     "text": [
      "Validating:  83%|████████▎ | 196/235 [02:35<00:30,  1.27it/s, loss=3.4306, avg_loss=3.6117]"
     ]
    },
    {
     "name": "stdout",
     "output_type": "stream",
     "text": [
      "{'kd_loss': 1.3891980648040771, 'feature_loss': 0.003318136092275381, 'ce_loss': 8.115242004394531, 'cont_loss': 3.0106887817382812, 'teacher_loss': 5.794656276702881}\n"
     ]
    },
    {
     "name": "stderr",
     "output_type": "stream",
     "text": [
      "Validating:  84%|████████▍ | 197/235 [02:36<00:29,  1.27it/s, loss=3.6029, avg_loss=3.6117]"
     ]
    },
    {
     "name": "stdout",
     "output_type": "stream",
     "text": [
      "{'kd_loss': 1.7978918552398682, 'feature_loss': 0.0032019950449466705, 'ce_loss': 8.019876480102539, 'cont_loss': 2.976433753967285, 'teacher_loss': 5.112304210662842}\n"
     ]
    },
    {
     "name": "stderr",
     "output_type": "stream",
     "text": [
      "Validating:  84%|████████▍ | 198/235 [02:37<00:29,  1.27it/s, loss=3.4482, avg_loss=3.6109]"
     ]
    },
    {
     "name": "stdout",
     "output_type": "stream",
     "text": [
      "{'kd_loss': 1.4432172775268555, 'feature_loss': 0.003164305817335844, 'ce_loss': 8.095866203308105, 'cont_loss': 2.975001811981201, 'teacher_loss': 5.655777931213379}\n"
     ]
    },
    {
     "name": "stderr",
     "output_type": "stream",
     "text": [
      "Validating:  85%|████████▍ | 199/235 [02:38<00:28,  1.27it/s, loss=3.4566, avg_loss=3.6101]"
     ]
    },
    {
     "name": "stdout",
     "output_type": "stream",
     "text": [
      "{'kd_loss': 1.4417048692703247, 'feature_loss': 0.0032920469529926777, 'ce_loss': 8.11215877532959, 'cont_loss': 3.017603635787964, 'teacher_loss': 6.001827716827393}\n"
     ]
    },
    {
     "name": "stderr",
     "output_type": "stream",
     "text": [
      "Validating:  85%|████████▌ | 200/235 [02:39<00:27,  1.27it/s, loss=3.2856, avg_loss=3.6085]"
     ]
    },
    {
     "name": "stdout",
     "output_type": "stream",
     "text": [
      "{'kd_loss': 1.1251704692840576, 'feature_loss': 0.003224638756364584, 'ce_loss': 8.069241523742676, 'cont_loss': 3.0190131664276123, 'teacher_loss': 4.922880172729492}\n"
     ]
    },
    {
     "name": "stderr",
     "output_type": "stream",
     "text": [
      "Validating:  86%|████████▌ | 201/235 [02:39<00:26,  1.27it/s, loss=3.5409, avg_loss=3.6081]"
     ]
    },
    {
     "name": "stdout",
     "output_type": "stream",
     "text": [
      "{'kd_loss': 1.6558250188827515, 'feature_loss': 0.003210966009646654, 'ce_loss': 8.034491539001465, 'cont_loss': 3.02304744720459, 'teacher_loss': 5.562783718109131}\n"
     ]
    },
    {
     "name": "stderr",
     "output_type": "stream",
     "text": [
      "Validating:  86%|████████▌ | 202/235 [02:40<00:25,  1.27it/s, loss=3.6008, avg_loss=3.6081]"
     ]
    },
    {
     "name": "stdout",
     "output_type": "stream",
     "text": [
      "{'kd_loss': 1.82403564453125, 'feature_loss': 0.003149979282170534, 'ce_loss': 7.956674575805664, 'cont_loss': 3.014410972595215, 'teacher_loss': 5.721190452575684}\n"
     ]
    },
    {
     "name": "stderr",
     "output_type": "stream",
     "text": [
      "Validating:  86%|████████▋ | 203/235 [02:41<00:25,  1.27it/s, loss=3.4288, avg_loss=3.6072]"
     ]
    },
    {
     "name": "stdout",
     "output_type": "stream",
     "text": [
      "{'kd_loss': 1.441735029220581, 'feature_loss': 0.0032874448224902153, 'ce_loss': 8.005971908569336, 'cont_loss': 3.0585246086120605, 'teacher_loss': 6.011611461639404}\n"
     ]
    },
    {
     "name": "stderr",
     "output_type": "stream",
     "text": [
      "Validating:  87%|████████▋ | 204/235 [02:42<00:24,  1.27it/s, loss=3.4805, avg_loss=3.6066]"
     ]
    },
    {
     "name": "stdout",
     "output_type": "stream",
     "text": [
      "{'kd_loss': 1.5143630504608154, 'feature_loss': 0.0033072337973862886, 'ce_loss': 8.06237506866455, 'cont_loss': 3.042980432510376, 'teacher_loss': 5.074737071990967}\n"
     ]
    },
    {
     "name": "stderr",
     "output_type": "stream",
     "text": [
      "Validating:  87%|████████▋ | 205/235 [02:43<00:23,  1.27it/s, loss=3.5026, avg_loss=3.6061]"
     ]
    },
    {
     "name": "stdout",
     "output_type": "stream",
     "text": [
      "{'kd_loss': 1.5427892208099365, 'feature_loss': 0.003261714009568095, 'ce_loss': 8.081125259399414, 'cont_loss': 3.0657529830932617, 'teacher_loss': 5.439026832580566}\n"
     ]
    },
    {
     "name": "stderr",
     "output_type": "stream",
     "text": [
      "Validating:  88%|████████▊ | 206/235 [02:43<00:22,  1.27it/s, loss=3.5187, avg_loss=3.6057]"
     ]
    },
    {
     "name": "stdout",
     "output_type": "stream",
     "text": [
      "{'kd_loss': 1.5286309719085693, 'feature_loss': 0.0032709490042179823, 'ce_loss': 8.1619291305542, 'cont_loss': 3.0544676780700684, 'teacher_loss': 5.555018424987793}\n"
     ]
    },
    {
     "name": "stderr",
     "output_type": "stream",
     "text": [
      "Validating:  88%|████████▊ | 207/235 [02:44<00:22,  1.27it/s, loss=3.3094, avg_loss=3.6042]"
     ]
    },
    {
     "name": "stdout",
     "output_type": "stream",
     "text": [
      "{'kd_loss': 1.1968543529510498, 'feature_loss': 0.00337965227663517, 'ce_loss': 8.005226135253906, 'cont_loss': 3.0911571979522705, 'teacher_loss': 5.275781631469727}\n"
     ]
    },
    {
     "name": "stderr",
     "output_type": "stream",
     "text": [
      "Validating:  89%|████████▊ | 208/235 [02:45<00:21,  1.27it/s, loss=3.4118, avg_loss=3.6033]"
     ]
    },
    {
     "name": "stdout",
     "output_type": "stream",
     "text": [
      "{'kd_loss': 1.348248839378357, 'feature_loss': 0.003243636805564165, 'ce_loss': 8.090777397155762, 'cont_loss': 3.1008543968200684, 'teacher_loss': 6.251509189605713}\n"
     ]
    },
    {
     "name": "stderr",
     "output_type": "stream",
     "text": [
      "Validating:  89%|████████▉ | 209/235 [02:46<00:20,  1.28it/s, loss=3.4052, avg_loss=3.6024]"
     ]
    },
    {
     "name": "stdout",
     "output_type": "stream",
     "text": [
      "{'kd_loss': 1.3896660804748535, 'feature_loss': 0.0032945601269602776, 'ce_loss': 8.006009101867676, 'cont_loss': 3.0820205211639404, 'teacher_loss': 5.204346179962158}\n"
     ]
    },
    {
     "name": "stderr",
     "output_type": "stream",
     "text": [
      "Validating:  89%|████████▉ | 210/235 [02:46<00:19,  1.28it/s, loss=3.4282, avg_loss=3.6015]"
     ]
    },
    {
     "name": "stdout",
     "output_type": "stream",
     "text": [
      "{'kd_loss': 1.424924612045288, 'feature_loss': 0.003233557567000389, 'ce_loss': 8.026549339294434, 'cont_loss': 3.0742435455322266, 'teacher_loss': 5.877829074859619}\n"
     ]
    },
    {
     "name": "stderr",
     "output_type": "stream",
     "text": [
      "Validating:  90%|████████▉ | 211/235 [02:47<00:18,  1.27it/s, loss=3.4518, avg_loss=3.6008]"
     ]
    },
    {
     "name": "stdout",
     "output_type": "stream",
     "text": [
      "{'kd_loss': 1.5107250213623047, 'feature_loss': 0.003260580822825432, 'ce_loss': 7.953166961669922, 'cont_loss': 3.1016573905944824, 'teacher_loss': 4.9333600997924805}\n"
     ]
    },
    {
     "name": "stderr",
     "output_type": "stream",
     "text": [
      "Validating:  90%|█████████ | 212/235 [02:48<00:18,  1.27it/s, loss=3.4825, avg_loss=3.6003]"
     ]
    },
    {
     "name": "stdout",
     "output_type": "stream",
     "text": [
      "{'kd_loss': 1.5342974662780762, 'feature_loss': 0.003237490076571703, 'ce_loss': 8.016404151916504, 'cont_loss': 3.100924015045166, 'teacher_loss': 5.3877387046813965}\n"
     ]
    },
    {
     "name": "stderr",
     "output_type": "stream",
     "text": [
      "Validating:  91%|█████████ | 213/235 [02:49<00:17,  1.28it/s, loss=3.3240, avg_loss=3.5990]"
     ]
    },
    {
     "name": "stdout",
     "output_type": "stream",
     "text": [
      "{'kd_loss': 1.1951253414154053, 'feature_loss': 0.0034101204946637154, 'ce_loss': 8.047137260437012, 'cont_loss': 3.1196584701538086, 'teacher_loss': 5.520515441894531}\n"
     ]
    },
    {
     "name": "stderr",
     "output_type": "stream",
     "text": [
      "Validating:  91%|█████████ | 214/235 [02:50<00:16,  1.28it/s, loss=3.4242, avg_loss=3.5982]"
     ]
    },
    {
     "name": "stdout",
     "output_type": "stream",
     "text": [
      "{'kd_loss': 1.3624435663223267, 'feature_loss': 0.003255128860473633, 'ce_loss': 8.0979585647583, 'cont_loss': 3.1326332092285156, 'teacher_loss': 5.718432903289795}\n"
     ]
    },
    {
     "name": "stderr",
     "output_type": "stream",
     "text": [
      "Validating:  91%|█████████▏| 215/235 [02:50<00:15,  1.28it/s, loss=3.4515, avg_loss=3.5975]"
     ]
    },
    {
     "name": "stdout",
     "output_type": "stream",
     "text": [
      "{'kd_loss': 1.4392110109329224, 'feature_loss': 0.003299236763268709, 'ce_loss': 8.06220817565918, 'cont_loss': 3.1294829845428467, 'teacher_loss': 6.382935047149658}\n"
     ]
    },
    {
     "name": "stderr",
     "output_type": "stream",
     "text": [
      "Validating:  92%|█████████▏| 216/235 [02:51<00:14,  1.27it/s, loss=3.3841, avg_loss=3.5965]"
     ]
    },
    {
     "name": "stdout",
     "output_type": "stream",
     "text": [
      "{'kd_loss': 1.3141911029815674, 'feature_loss': 0.0032560545951128006, 'ce_loss': 8.050752639770508, 'cont_loss': 3.114938735961914, 'teacher_loss': 5.818178176879883}\n"
     ]
    },
    {
     "name": "stderr",
     "output_type": "stream",
     "text": [
      "Validating:  92%|█████████▏| 217/235 [02:52<00:14,  1.27it/s, loss=3.2941, avg_loss=3.5951]"
     ]
    },
    {
     "name": "stdout",
     "output_type": "stream",
     "text": [
      "{'kd_loss': 1.1005914211273193, 'feature_loss': 0.003341937903314829, 'ce_loss': 8.094687461853027, 'cont_loss': 3.1504387855529785, 'teacher_loss': 5.531757354736328}\n"
     ]
    },
    {
     "name": "stderr",
     "output_type": "stream",
     "text": [
      "Validating:  93%|█████████▎| 218/235 [02:53<00:13,  1.27it/s, loss=3.3984, avg_loss=3.5942]"
     ]
    },
    {
     "name": "stdout",
     "output_type": "stream",
     "text": [
      "{'kd_loss': 1.329976201057434, 'feature_loss': 0.0032697701826691628, 'ce_loss': 8.060128211975098, 'cont_loss': 3.1503615379333496, 'teacher_loss': 5.600063323974609}\n"
     ]
    },
    {
     "name": "stderr",
     "output_type": "stream",
     "text": [
      "Validating:  93%|█████████▎| 219/235 [02:54<00:12,  1.27it/s, loss=3.4133, avg_loss=3.5934]"
     ]
    },
    {
     "name": "stdout",
     "output_type": "stream",
     "text": [
      "{'kd_loss': 1.3275103569030762, 'feature_loss': 0.003334998618811369, 'ce_loss': 8.116650581359863, 'cont_loss': 3.1419472694396973, 'teacher_loss': 5.411357879638672}\n"
     ]
    },
    {
     "name": "stderr",
     "output_type": "stream",
     "text": [
      "Validating:  94%|█████████▎| 220/235 [02:54<00:11,  1.28it/s, loss=3.4899, avg_loss=3.5929]"
     ]
    },
    {
     "name": "stdout",
     "output_type": "stream",
     "text": [
      "{'kd_loss': 1.4995959997177124, 'feature_loss': 0.0032435390166938305, 'ce_loss': 8.082060813903809, 'cont_loss': 3.1516315937042236, 'teacher_loss': 5.903015613555908}\n"
     ]
    },
    {
     "name": "stderr",
     "output_type": "stream",
     "text": [
      "Validating:  94%|█████████▍| 221/235 [02:55<00:10,  1.28it/s, loss=3.3257, avg_loss=3.5917]"
     ]
    },
    {
     "name": "stdout",
     "output_type": "stream",
     "text": [
      "{'kd_loss': 1.1719833612442017, 'feature_loss': 0.003309760708361864, 'ce_loss': 8.06762981414795, 'cont_loss': 3.190927743911743, 'teacher_loss': 5.8021368980407715}\n"
     ]
    },
    {
     "name": "stderr",
     "output_type": "stream",
     "text": [
      "Validating:  94%|█████████▍| 222/235 [02:56<00:10,  1.27it/s, loss=3.3115, avg_loss=3.5904]"
     ]
    },
    {
     "name": "stdout",
     "output_type": "stream",
     "text": [
      "{'kd_loss': 1.1601346731185913, 'feature_loss': 0.003340004710480571, 'ce_loss': 8.043191909790039, 'cont_loss': 3.1815872192382812, 'teacher_loss': 5.883652687072754}\n"
     ]
    },
    {
     "name": "stderr",
     "output_type": "stream",
     "text": [
      "Validating:  95%|█████████▍| 223/235 [02:57<00:09,  1.27it/s, loss=3.5009, avg_loss=3.5900]"
     ]
    },
    {
     "name": "stdout",
     "output_type": "stream",
     "text": [
      "{'kd_loss': 1.5329515933990479, 'feature_loss': 0.0032555260695517063, 'ce_loss': 8.060748100280762, 'cont_loss': 3.1588478088378906, 'teacher_loss': 4.974507808685303}\n"
     ]
    },
    {
     "name": "stderr",
     "output_type": "stream",
     "text": [
      "Validating:  95%|█████████▌| 224/235 [02:57<00:08,  1.27it/s, loss=3.3062, avg_loss=3.5888]"
     ]
    },
    {
     "name": "stdout",
     "output_type": "stream",
     "text": [
      "{'kd_loss': 1.1165385246276855, 'feature_loss': 0.003264942206442356, 'ce_loss': 8.09959888458252, 'cont_loss': 3.17751145362854, 'teacher_loss': 5.33071231842041}\n"
     ]
    },
    {
     "name": "stderr",
     "output_type": "stream",
     "text": [
      "Validating:  96%|█████████▌| 225/235 [02:58<00:07,  1.27it/s, loss=3.4263, avg_loss=3.5880]"
     ]
    },
    {
     "name": "stdout",
     "output_type": "stream",
     "text": [
      "{'kd_loss': 1.3683578968048096, 'feature_loss': 0.0033552064560353756, 'ce_loss': 8.070780754089355, 'cont_loss': 3.205073833465576, 'teacher_loss': 5.245769500732422}\n"
     ]
    },
    {
     "name": "stderr",
     "output_type": "stream",
     "text": [
      "Validating:  96%|█████████▌| 226/235 [02:59<00:07,  1.27it/s, loss=3.3537, avg_loss=3.5870]"
     ]
    },
    {
     "name": "stdout",
     "output_type": "stream",
     "text": [
      "{'kd_loss': 1.2509948015213013, 'feature_loss': 0.0032304797787219286, 'ce_loss': 8.027430534362793, 'cont_loss': 3.1961097717285156, 'teacher_loss': 5.324771881103516}\n"
     ]
    },
    {
     "name": "stderr",
     "output_type": "stream",
     "text": [
      "Validating:  97%|█████████▋| 227/235 [03:00<00:06,  1.27it/s, loss=3.5599, avg_loss=3.5869]"
     ]
    },
    {
     "name": "stdout",
     "output_type": "stream",
     "text": [
      "{'kd_loss': 1.620294451713562, 'feature_loss': 0.003272565547376871, 'ce_loss': 8.09095573425293, 'cont_loss': 3.220970392227173, 'teacher_loss': 5.413939476013184}\n"
     ]
    },
    {
     "name": "stderr",
     "output_type": "stream",
     "text": [
      "Validating:  97%|█████████▋| 228/235 [03:01<00:05,  1.28it/s, loss=3.4997, avg_loss=3.5865]"
     ]
    },
    {
     "name": "stdout",
     "output_type": "stream",
     "text": [
      "{'kd_loss': 1.4953773021697998, 'feature_loss': 0.0032501944806426764, 'ce_loss': 8.106382369995117, 'cont_loss': 3.197765588760376, 'teacher_loss': 5.547287464141846}\n"
     ]
    },
    {
     "name": "stderr",
     "output_type": "stream",
     "text": [
      "Validating:  97%|█████████▋| 229/235 [03:01<00:04,  1.28it/s, loss=3.5403, avg_loss=3.5863]"
     ]
    },
    {
     "name": "stdout",
     "output_type": "stream",
     "text": [
      "{'kd_loss': 1.5846929550170898, 'feature_loss': 0.0031651598401367664, 'ce_loss': 8.082406044006348, 'cont_loss': 3.2294607162475586, 'teacher_loss': 5.745769023895264}\n"
     ]
    },
    {
     "name": "stderr",
     "output_type": "stream",
     "text": [
      "Validating:  98%|█████████▊| 230/235 [03:02<00:03,  1.28it/s, loss=3.3934, avg_loss=3.5855]"
     ]
    },
    {
     "name": "stdout",
     "output_type": "stream",
     "text": [
      "{'kd_loss': 1.2617690563201904, 'feature_loss': 0.0033408578019589186, 'ce_loss': 8.115992546081543, 'cont_loss': 3.273540496826172, 'teacher_loss': 5.401247024536133}\n"
     ]
    },
    {
     "name": "stderr",
     "output_type": "stream",
     "text": [
      "Validating:  98%|█████████▊| 231/235 [03:03<00:03,  1.28it/s, loss=3.5735, avg_loss=3.5854]"
     ]
    },
    {
     "name": "stdout",
     "output_type": "stream",
     "text": [
      "{'kd_loss': 1.6050636768341064, 'feature_loss': 0.003273573936894536, 'ce_loss': 8.150080680847168, 'cont_loss': 3.255871534347534, 'teacher_loss': 5.8747358322143555}\n"
     ]
    },
    {
     "name": "stderr",
     "output_type": "stream",
     "text": [
      "Validating:  99%|█████████▊| 232/235 [03:04<00:02,  1.28it/s, loss=3.3754, avg_loss=3.5845]"
     ]
    },
    {
     "name": "stdout",
     "output_type": "stream",
     "text": [
      "{'kd_loss': 1.2545690536499023, 'feature_loss': 0.0031977661419659853, 'ce_loss': 8.078153610229492, 'cont_loss': 3.2439017295837402, 'teacher_loss': 5.119613170623779}\n"
     ]
    },
    {
     "name": "stderr",
     "output_type": "stream",
     "text": [
      "Validating:  99%|█████████▉| 233/235 [03:04<00:01,  1.28it/s, loss=3.4142, avg_loss=3.5838]"
     ]
    },
    {
     "name": "stdout",
     "output_type": "stream",
     "text": [
      "{'kd_loss': 1.3199634552001953, 'feature_loss': 0.0033735791221261024, 'ce_loss': 8.0862455368042, 'cont_loss': 3.2798194885253906, 'teacher_loss': 5.876209259033203}\n"
     ]
    },
    {
     "name": "stderr",
     "output_type": "stream",
     "text": [
      "Validating: 100%|█████████▉| 234/235 [03:05<00:00,  1.28it/s, loss=3.3956, avg_loss=3.5830]"
     ]
    },
    {
     "name": "stdout",
     "output_type": "stream",
     "text": [
      "{'kd_loss': 1.268502950668335, 'feature_loss': 0.0032988605089485645, 'ce_loss': 8.122779846191406, 'cont_loss': 3.241513729095459, 'teacher_loss': 5.1807122230529785}\n"
     ]
    },
    {
     "name": "stderr",
     "output_type": "stream",
     "text": [
      "Validating: 100%|██████████| 235/235 [03:06<00:00,  1.26it/s, loss=3.3634, avg_loss=3.5820]"
     ]
    },
    {
     "name": "stdout",
     "output_type": "stream",
     "text": [
      "{'kd_loss': 1.4553834199905396, 'feature_loss': 0.003255594288930297, 'ce_loss': 8.003588676452637, 'cont_loss': 2.3429431915283203, 'teacher_loss': 5.966547012329102}\n",
      "Epoch 2 | Train Loss: 3.7689 | Val Loss: 3.5820 | Top1 Acc: 0.00 | Top5 Acc: 0.02\n"
     ]
    },
    {
     "name": "stderr",
     "output_type": "stream",
     "text": [
      "\n",
      "Training: 100%|██████████| 1875/1875 [17:07<00:00,  1.82it/s, loss=3.8005, avg_loss=3.7406, lr=5.74e-5]\n",
      "Validating:   0%|          | 1/235 [00:02<09:17,  2.38s/it, loss=3.0173, avg_loss=3.0173]"
     ]
    },
    {
     "name": "stdout",
     "output_type": "stream",
     "text": [
      "{'kd_loss': 1.4104297161102295, 'feature_loss': 0.0029344139620661736, 'ce_loss': 7.225569248199463, 'cont_loss': 1.4416583776474, 'teacher_loss': 4.958857536315918}\n"
     ]
    },
    {
     "name": "stderr",
     "output_type": "stream",
     "text": [
      "Validating:   1%|          | 2/235 [00:03<05:35,  1.44s/it, loss=3.2601, avg_loss=3.1387]"
     ]
    },
    {
     "name": "stdout",
     "output_type": "stream",
     "text": [
      "{'kd_loss': 1.6180250644683838, 'feature_loss': 0.0030103949829936028, 'ce_loss': 7.668248653411865, 'cont_loss': 1.5034914016723633, 'teacher_loss': 4.667590618133545}\n"
     ]
    },
    {
     "name": "stderr",
     "output_type": "stream",
     "text": [
      "Validating:   1%|▏         | 3/235 [00:03<04:25,  1.14s/it, loss=3.4485, avg_loss=3.2420]"
     ]
    },
    {
     "name": "stdout",
     "output_type": "stream",
     "text": [
      "{'kd_loss': 1.836287498474121, 'feature_loss': 0.003164110239595175, 'ce_loss': 7.943836688995361, 'cont_loss': 1.468543291091919, 'teacher_loss': 4.816708087921143}\n"
     ]
    },
    {
     "name": "stderr",
     "output_type": "stream",
     "text": [
      "Validating:   2%|▏         | 4/235 [00:04<03:51,  1.00s/it, loss=3.4206, avg_loss=3.2866]"
     ]
    },
    {
     "name": "stdout",
     "output_type": "stream",
     "text": [
      "{'kd_loss': 2.048771858215332, 'feature_loss': 0.0028849185910075903, 'ce_loss': 7.507983684539795, 'cont_loss': 1.4355831146240234, 'teacher_loss': 4.699128150939941}\n"
     ]
    },
    {
     "name": "stderr",
     "output_type": "stream",
     "text": [
      "Validating:   2%|▏         | 5/235 [00:05<03:32,  1.08it/s, loss=3.5885, avg_loss=3.3470]"
     ]
    },
    {
     "name": "stdout",
     "output_type": "stream",
     "text": [
      "{'kd_loss': 2.6938560009002686, 'feature_loss': 0.0027034953236579895, 'ce_loss': 6.998359203338623, 'cont_loss': 1.4179383516311646, 'teacher_loss': 6.335195541381836}\n"
     ]
    },
    {
     "name": "stderr",
     "output_type": "stream",
     "text": [
      "Validating:   3%|▎         | 6/235 [00:06<03:20,  1.14it/s, loss=2.8914, avg_loss=3.2711]"
     ]
    },
    {
     "name": "stdout",
     "output_type": "stream",
     "text": [
      "{'kd_loss': 0.9408397674560547, 'feature_loss': 0.0032898089848458767, 'ce_loss': 7.575963973999023, 'cont_loss': 1.4782953262329102, 'teacher_loss': 3.064359188079834}\n"
     ]
    },
    {
     "name": "stderr",
     "output_type": "stream",
     "text": [
      "Validating:   3%|▎         | 7/235 [00:07<03:12,  1.18it/s, loss=3.2391, avg_loss=3.2665]"
     ]
    },
    {
     "name": "stdout",
     "output_type": "stream",
     "text": [
      "{'kd_loss': 1.8656442165374756, 'feature_loss': 0.002884369343519211, 'ce_loss': 7.203314304351807, 'cont_loss': 1.4495220184326172, 'teacher_loss': 5.027176856994629}\n"
     ]
    },
    {
     "name": "stderr",
     "output_type": "stream",
     "text": [
      "Validating:   3%|▎         | 8/235 [00:07<03:08,  1.21it/s, loss=3.7805, avg_loss=3.3308]"
     ]
    },
    {
     "name": "stdout",
     "output_type": "stream",
     "text": [
      "{'kd_loss': 2.6714000701904297, 'feature_loss': 0.0029141143895685673, 'ce_loss': 7.6646294593811035, 'cont_loss': 1.451634168624878, 'teacher_loss': 4.604180335998535}\n"
     ]
    },
    {
     "name": "stderr",
     "output_type": "stream",
     "text": [
      "Validating:   4%|▍         | 9/235 [00:08<03:04,  1.23it/s, loss=4.3537, avg_loss=3.4444]"
     ]
    },
    {
     "name": "stdout",
     "output_type": "stream",
     "text": [
      "{'kd_loss': 3.8324637413024902, 'feature_loss': 0.0026517407968640327, 'ce_loss': 7.638969898223877, 'cont_loss': 1.4552886486053467, 'teacher_loss': 5.6378703117370605}\n"
     ]
    },
    {
     "name": "stderr",
     "output_type": "stream",
     "text": [
      "Validating:   4%|▍         | 10/235 [00:09<03:01,  1.24it/s, loss=3.7382, avg_loss=3.4738]"
     ]
    },
    {
     "name": "stdout",
     "output_type": "stream",
     "text": [
      "{'kd_loss': 2.928173780441284, 'feature_loss': 0.002821629401296377, 'ce_loss': 7.092455863952637, 'cont_loss': 1.4608097076416016, 'teacher_loss': 5.502439498901367}\n"
     ]
    },
    {
     "name": "stderr",
     "output_type": "stream",
     "text": [
      "Validating:   5%|▍         | 11/235 [00:10<02:59,  1.25it/s, loss=3.0973, avg_loss=3.4396]"
     ]
    },
    {
     "name": "stdout",
     "output_type": "stream",
     "text": [
      "{'kd_loss': 1.2961416244506836, 'feature_loss': 0.003028389299288392, 'ce_loss': 7.683089733123779, 'cont_loss': 1.4402391910552979, 'teacher_loss': 3.80963134765625}\n"
     ]
    },
    {
     "name": "stderr",
     "output_type": "stream",
     "text": [
      "Validating:   5%|▌         | 12/235 [00:11<02:57,  1.25it/s, loss=3.8981, avg_loss=3.4778]"
     ]
    },
    {
     "name": "stdout",
     "output_type": "stream",
     "text": [
      "{'kd_loss': 2.673570156097412, 'feature_loss': 0.002876380691304803, 'ce_loss': 8.05518913269043, 'cont_loss': 1.4448246955871582, 'teacher_loss': 4.228074073791504}\n"
     ]
    },
    {
     "name": "stderr",
     "output_type": "stream",
     "text": [
      "Validating:   6%|▌         | 13/235 [00:11<02:56,  1.26it/s, loss=3.4539, avg_loss=3.4759]"
     ]
    },
    {
     "name": "stdout",
     "output_type": "stream",
     "text": [
      "{'kd_loss': 1.821582317352295, 'feature_loss': 0.003042064607143402, 'ce_loss': 8.001255989074707, 'cont_loss': 1.4242513179779053, 'teacher_loss': 4.117871284484863}\n"
     ]
    },
    {
     "name": "stderr",
     "output_type": "stream",
     "text": [
      "Validating:   6%|▌         | 14/235 [00:12<02:55,  1.26it/s, loss=3.1792, avg_loss=3.4548]"
     ]
    },
    {
     "name": "stdout",
     "output_type": "stream",
     "text": [
      "{'kd_loss': 1.3669577836990356, 'feature_loss': 0.003288011532276869, 'ce_loss': 7.813538074493408, 'cont_loss': 1.5136902332305908, 'teacher_loss': 3.8325090408325195}\n"
     ]
    },
    {
     "name": "stderr",
     "output_type": "stream",
     "text": [
      "Validating:   6%|▋         | 15/235 [00:13<02:54,  1.26it/s, loss=3.7558, avg_loss=3.4748]"
     ]
    },
    {
     "name": "stdout",
     "output_type": "stream",
     "text": [
      "{'kd_loss': 2.8058085441589355, 'feature_loss': 0.0028982593212276697, 'ce_loss': 7.372768402099609, 'cont_loss': 1.4073221683502197, 'teacher_loss': 4.082327842712402}\n"
     ]
    },
    {
     "name": "stderr",
     "output_type": "stream",
     "text": [
      "Validating:   7%|▋         | 16/235 [00:14<02:53,  1.26it/s, loss=3.4790, avg_loss=3.4751]"
     ]
    },
    {
     "name": "stdout",
     "output_type": "stream",
     "text": [
      "{'kd_loss': 2.132335662841797, 'feature_loss': 0.0031254084315150976, 'ce_loss': 7.5548272132873535, 'cont_loss': 1.4608852863311768, 'teacher_loss': 5.31860876083374}\n"
     ]
    },
    {
     "name": "stderr",
     "output_type": "stream",
     "text": [
      "Validating:   7%|▋         | 17/235 [00:14<02:52,  1.27it/s, loss=3.1518, avg_loss=3.4561]"
     ]
    },
    {
     "name": "stdout",
     "output_type": "stream",
     "text": [
      "{'kd_loss': 1.6938633918762207, 'feature_loss': 0.0032493299804627895, 'ce_loss': 7.197551250457764, 'cont_loss': 1.452324628829956, 'teacher_loss': 4.551055431365967}\n"
     ]
    },
    {
     "name": "stderr",
     "output_type": "stream",
     "text": [
      "Validating:   8%|▊         | 18/235 [00:15<02:51,  1.27it/s, loss=3.7195, avg_loss=3.4707]"
     ]
    },
    {
     "name": "stdout",
     "output_type": "stream",
     "text": [
      "{'kd_loss': 2.5492663383483887, 'feature_loss': 0.0029321047477424145, 'ce_loss': 7.66664981842041, 'cont_loss': 1.4455127716064453, 'teacher_loss': 3.5866405963897705}\n"
     ]
    },
    {
     "name": "stderr",
     "output_type": "stream",
     "text": [
      "Validating:   8%|▊         | 19/235 [00:16<02:50,  1.27it/s, loss=3.6191, avg_loss=3.4785]"
     ]
    },
    {
     "name": "stdout",
     "output_type": "stream",
     "text": [
      "{'kd_loss': 2.3298752307891846, 'feature_loss': 0.0028791422955691814, 'ce_loss': 7.697059154510498, 'cont_loss': 1.4480217695236206, 'teacher_loss': 4.773202419281006}\n"
     ]
    },
    {
     "name": "stderr",
     "output_type": "stream",
     "text": [
      "Validating:   9%|▊         | 20/235 [00:17<02:49,  1.27it/s, loss=4.2188, avg_loss=3.5155]"
     ]
    },
    {
     "name": "stdout",
     "output_type": "stream",
     "text": [
      "{'kd_loss': 3.3894991874694824, 'feature_loss': 0.0027962680906057358, 'ce_loss': 7.926002502441406, 'cont_loss': 1.459986686706543, 'teacher_loss': 5.038429260253906}\n"
     ]
    },
    {
     "name": "stderr",
     "output_type": "stream",
     "text": [
      "Validating:   9%|▉         | 21/235 [00:18<02:53,  1.23it/s, loss=3.9883, avg_loss=3.5380]"
     ]
    },
    {
     "name": "stdout",
     "output_type": "stream",
     "text": [
      "{'kd_loss': 3.110792636871338, 'feature_loss': 0.0028192922472953796, 'ce_loss': 7.614353179931641, 'cont_loss': 1.4836108684539795, 'teacher_loss': 5.082146167755127}\n"
     ]
    },
    {
     "name": "stderr",
     "output_type": "stream",
     "text": [
      "Validating:   9%|▉         | 22/235 [00:18<02:51,  1.24it/s, loss=4.1821, avg_loss=3.5673]"
     ]
    },
    {
     "name": "stdout",
     "output_type": "stream",
     "text": [
      "{'kd_loss': 3.7140445709228516, 'feature_loss': 0.0028080777265131474, 'ce_loss': 7.255631446838379, 'cont_loss': 1.4813867807388306, 'teacher_loss': 6.687383651733398}\n"
     ]
    },
    {
     "name": "stderr",
     "output_type": "stream",
     "text": [
      "Validating:  10%|▉         | 23/235 [00:19<02:49,  1.25it/s, loss=3.0809, avg_loss=3.5462]"
     ]
    },
    {
     "name": "stdout",
     "output_type": "stream",
     "text": [
      "{'kd_loss': 1.2510285377502441, 'feature_loss': 0.0031575087923556566, 'ce_loss': 7.695269584655762, 'cont_loss': 1.4651820659637451, 'teacher_loss': 5.109199047088623}\n"
     ]
    },
    {
     "name": "stderr",
     "output_type": "stream",
     "text": [
      "Validating:  10%|█         | 24/235 [00:20<02:47,  1.26it/s, loss=3.4494, avg_loss=3.5421]"
     ]
    },
    {
     "name": "stdout",
     "output_type": "stream",
     "text": [
      "{'kd_loss': 2.0866050720214844, 'feature_loss': 0.003072439692914486, 'ce_loss': 7.535639762878418, 'cont_loss': 1.450748085975647, 'teacher_loss': 4.011325359344482}\n"
     ]
    },
    {
     "name": "stderr",
     "output_type": "stream",
     "text": [
      "Validating:  11%|█         | 25/235 [00:21<02:46,  1.26it/s, loss=3.4754, avg_loss=3.5395]"
     ]
    },
    {
     "name": "stdout",
     "output_type": "stream",
     "text": [
      "{'kd_loss': 2.0054397583007812, 'feature_loss': 0.0029805228114128113, 'ce_loss': 7.750115394592285, 'cont_loss': 1.4730610847473145, 'teacher_loss': 4.174469947814941}\n"
     ]
    },
    {
     "name": "stderr",
     "output_type": "stream",
     "text": [
      "Validating:  11%|█         | 26/235 [00:22<02:45,  1.26it/s, loss=3.0583, avg_loss=3.5210]"
     ]
    },
    {
     "name": "stdout",
     "output_type": "stream",
     "text": [
      "{'kd_loss': 1.0442136526107788, 'feature_loss': 0.0032904790714383125, 'ce_loss': 7.965222358703613, 'cont_loss': 1.4628210067749023, 'teacher_loss': 3.634864568710327}\n"
     ]
    },
    {
     "name": "stderr",
     "output_type": "stream",
     "text": [
      "Validating:  11%|█▏        | 27/235 [00:22<02:44,  1.26it/s, loss=3.5382, avg_loss=3.5216]"
     ]
    },
    {
     "name": "stdout",
     "output_type": "stream",
     "text": [
      "{'kd_loss': 2.023149013519287, 'feature_loss': 0.0029298211447894573, 'ce_loss': 7.945272922515869, 'cont_loss': 1.427342414855957, 'teacher_loss': 3.6970479488372803}\n"
     ]
    },
    {
     "name": "stderr",
     "output_type": "stream",
     "text": [
      "Validating:  12%|█▏        | 28/235 [00:23<02:43,  1.27it/s, loss=3.6993, avg_loss=3.5279]"
     ]
    },
    {
     "name": "stdout",
     "output_type": "stream",
     "text": [
      "{'kd_loss': 2.4176149368286133, 'feature_loss': 0.003019600175321102, 'ce_loss': 7.814418315887451, 'cont_loss': 1.4584206342697144, 'teacher_loss': 4.663769721984863}\n"
     ]
    },
    {
     "name": "stderr",
     "output_type": "stream",
     "text": [
      "Validating:  12%|█▏        | 29/235 [00:24<02:42,  1.27it/s, loss=3.4675, avg_loss=3.5259]"
     ]
    },
    {
     "name": "stdout",
     "output_type": "stream",
     "text": [
      "{'kd_loss': 2.449512481689453, 'feature_loss': 0.002891192212700844, 'ce_loss': 6.98142671585083, 'cont_loss': 1.4803218841552734, 'teacher_loss': 4.5674309730529785}\n"
     ]
    },
    {
     "name": "stderr",
     "output_type": "stream",
     "text": [
      "Validating:  13%|█▎        | 30/235 [00:25<02:41,  1.27it/s, loss=3.7434, avg_loss=3.5331]"
     ]
    },
    {
     "name": "stdout",
     "output_type": "stream",
     "text": [
      "{'kd_loss': 2.798764705657959, 'feature_loss': 0.0029837728943675756, 'ce_loss': 7.359057426452637, 'cont_loss': 1.3597211837768555, 'teacher_loss': 2.519606113433838}\n"
     ]
    },
    {
     "name": "stderr",
     "output_type": "stream",
     "text": [
      "Validating:  13%|█▎        | 31/235 [00:26<02:40,  1.27it/s, loss=3.5080, avg_loss=3.5323]"
     ]
    },
    {
     "name": "stdout",
     "output_type": "stream",
     "text": [
      "{'kd_loss': 2.013611316680908, 'feature_loss': 0.003031208412721753, 'ce_loss': 7.859364032745361, 'cont_loss': 1.4307022094726562, 'teacher_loss': 6.441092491149902}\n"
     ]
    },
    {
     "name": "stderr",
     "output_type": "stream",
     "text": [
      "Validating:  14%|█▎        | 32/235 [00:26<02:40,  1.27it/s, loss=3.7695, avg_loss=3.5397]"
     ]
    },
    {
     "name": "stdout",
     "output_type": "stream",
     "text": [
      "{'kd_loss': 2.715059280395508, 'feature_loss': 0.002923159394413233, 'ce_loss': 7.550057888031006, 'cont_loss': 1.466524600982666, 'teacher_loss': 5.879453659057617}\n"
     ]
    },
    {
     "name": "stderr",
     "output_type": "stream",
     "text": [
      "Validating:  14%|█▍        | 33/235 [00:27<02:39,  1.27it/s, loss=3.9418, avg_loss=3.5519]"
     ]
    },
    {
     "name": "stdout",
     "output_type": "stream",
     "text": [
      "{'kd_loss': 3.0283617973327637, 'feature_loss': 0.002922678366303444, 'ce_loss': 7.606568336486816, 'cont_loss': 1.4533710479736328, 'teacher_loss': 4.127219200134277}\n"
     ]
    },
    {
     "name": "stderr",
     "output_type": "stream",
     "text": [
      "Validating:  14%|█▍        | 34/235 [00:28<02:38,  1.27it/s, loss=3.1356, avg_loss=3.5396]"
     ]
    },
    {
     "name": "stdout",
     "output_type": "stream",
     "text": [
      "{'kd_loss': 1.4526225328445435, 'feature_loss': 0.003097925800830126, 'ce_loss': 7.5522308349609375, 'cont_loss': 1.432797908782959, 'teacher_loss': 3.0316109657287598}\n"
     ]
    },
    {
     "name": "stderr",
     "output_type": "stream",
     "text": [
      "Validating:  15%|█▍        | 35/235 [00:29<02:37,  1.27it/s, loss=3.4684, avg_loss=3.5376]"
     ]
    },
    {
     "name": "stdout",
     "output_type": "stream",
     "text": [
      "{'kd_loss': 2.1664278507232666, 'feature_loss': 0.0029155677184462547, 'ce_loss': 7.483194828033447, 'cont_loss': 1.3997081518173218, 'teacher_loss': 3.5652949810028076}\n"
     ]
    },
    {
     "name": "stderr",
     "output_type": "stream",
     "text": [
      "Validating:  15%|█▌        | 36/235 [00:30<02:36,  1.27it/s, loss=3.9567, avg_loss=3.5493]"
     ]
    },
    {
     "name": "stdout",
     "output_type": "stream",
     "text": [
      "{'kd_loss': 3.347517967224121, 'feature_loss': 0.002691752975806594, 'ce_loss': 7.108754634857178, 'cont_loss': 1.5004198551177979, 'teacher_loss': 6.534514904022217}\n"
     ]
    },
    {
     "name": "stderr",
     "output_type": "stream",
     "text": [
      "Validating:  16%|█▌        | 37/235 [00:30<02:35,  1.27it/s, loss=4.2394, avg_loss=3.5679]"
     ]
    },
    {
     "name": "stdout",
     "output_type": "stream",
     "text": [
      "{'kd_loss': 3.6943745613098145, 'feature_loss': 0.0027444406878203154, 'ce_loss': 7.463665962219238, 'cont_loss': 1.5284631252288818, 'teacher_loss': 4.860400676727295}\n"
     ]
    },
    {
     "name": "stderr",
     "output_type": "stream",
     "text": [
      "Validating:  16%|█▌        | 38/235 [00:31<02:35,  1.27it/s, loss=3.3182, avg_loss=3.5613]"
     ]
    },
    {
     "name": "stdout",
     "output_type": "stream",
     "text": [
      "{'kd_loss': 1.6902399063110352, 'feature_loss': 0.0031727012246847153, 'ce_loss': 7.7399749755859375, 'cont_loss': 1.5081446170806885, 'teacher_loss': 3.2021563053131104}\n"
     ]
    },
    {
     "name": "stderr",
     "output_type": "stream",
     "text": [
      "Validating:  17%|█▋        | 39/235 [00:32<02:34,  1.27it/s, loss=4.0742, avg_loss=3.5745]"
     ]
    },
    {
     "name": "stdout",
     "output_type": "stream",
     "text": [
      "{'kd_loss': 3.3825345039367676, 'feature_loss': 0.0028316283132880926, 'ce_loss': 7.45098352432251, 'cont_loss': 1.4736881256103516, 'teacher_loss': 5.43344783782959}\n"
     ]
    },
    {
     "name": "stderr",
     "output_type": "stream",
     "text": [
      "Validating:  17%|█▋        | 40/235 [00:33<02:33,  1.27it/s, loss=4.5844, avg_loss=3.5997]"
     ]
    },
    {
     "name": "stdout",
     "output_type": "stream",
     "text": [
      "{'kd_loss': 4.48464822769165, 'feature_loss': 0.002503190655261278, 'ce_loss': 7.252625465393066, 'cont_loss': 1.6605738401412964, 'teacher_loss': 6.55167293548584}\n"
     ]
    },
    {
     "name": "stderr",
     "output_type": "stream",
     "text": [
      "Validating:  17%|█▋        | 41/235 [00:33<02:32,  1.27it/s, loss=3.3374, avg_loss=3.5933]"
     ]
    },
    {
     "name": "stdout",
     "output_type": "stream",
     "text": [
      "{'kd_loss': 1.766953468322754, 'feature_loss': 0.0030585909262299538, 'ce_loss': 7.66530179977417, 'cont_loss': 1.539859414100647, 'teacher_loss': 4.554981231689453}\n"
     ]
    },
    {
     "name": "stderr",
     "output_type": "stream",
     "text": [
      "Validating:  18%|█▊        | 42/235 [00:34<02:31,  1.27it/s, loss=3.6284, avg_loss=3.5942]"
     ]
    },
    {
     "name": "stdout",
     "output_type": "stream",
     "text": [
      "{'kd_loss': 2.52843976020813, 'feature_loss': 0.0029832632280886173, 'ce_loss': 7.3707075119018555, 'cont_loss': 1.5262502431869507, 'teacher_loss': 4.855859756469727}\n"
     ]
    },
    {
     "name": "stderr",
     "output_type": "stream",
     "text": [
      "Validating:  18%|█▊        | 43/235 [00:35<02:31,  1.27it/s, loss=3.0808, avg_loss=3.5822]"
     ]
    },
    {
     "name": "stdout",
     "output_type": "stream",
     "text": [
      "{'kd_loss': 1.1024823188781738, 'feature_loss': 0.00346259749494493, 'ce_loss': 7.94517707824707, 'cont_loss': 1.457005500793457, 'teacher_loss': 2.089603900909424}\n"
     ]
    },
    {
     "name": "stderr",
     "output_type": "stream",
     "text": [
      "Validating:  19%|█▊        | 44/235 [00:36<02:30,  1.27it/s, loss=4.0321, avg_loss=3.5925]"
     ]
    },
    {
     "name": "stdout",
     "output_type": "stream",
     "text": [
      "{'kd_loss': 3.1736860275268555, 'feature_loss': 0.0028265141882002354, 'ce_loss': 7.6440582275390625, 'cont_loss': 1.5178148746490479, 'teacher_loss': 4.925946235656738}\n"
     ]
    },
    {
     "name": "stderr",
     "output_type": "stream",
     "text": [
      "Validating:  19%|█▉        | 45/235 [00:37<02:29,  1.27it/s, loss=3.8335, avg_loss=3.5978]"
     ]
    },
    {
     "name": "stdout",
     "output_type": "stream",
     "text": [
      "{'kd_loss': 2.663431167602539, 'feature_loss': 0.0030840386170893908, 'ce_loss': 7.818658828735352, 'cont_loss': 1.5583487749099731, 'teacher_loss': 4.557250022888184}\n"
     ]
    },
    {
     "name": "stderr",
     "output_type": "stream",
     "text": [
      "Validating:  20%|█▉        | 46/235 [00:37<02:28,  1.27it/s, loss=3.2113, avg_loss=3.5894]"
     ]
    },
    {
     "name": "stdout",
     "output_type": "stream",
     "text": [
      "{'kd_loss': 1.623950481414795, 'feature_loss': 0.003138310741633177, 'ce_loss': 7.477459907531738, 'cont_loss': 1.5582046508789062, 'teacher_loss': 3.730834484100342}\n"
     ]
    },
    {
     "name": "stderr",
     "output_type": "stream",
     "text": [
      "Validating:  20%|██        | 47/235 [00:38<02:28,  1.27it/s, loss=4.0607, avg_loss=3.5994]"
     ]
    },
    {
     "name": "stdout",
     "output_type": "stream",
     "text": [
      "{'kd_loss': 3.1922338008880615, 'feature_loss': 0.0027562142349779606, 'ce_loss': 7.698221206665039, 'cont_loss': 1.5480988025665283, 'teacher_loss': 4.325966835021973}\n"
     ]
    },
    {
     "name": "stderr",
     "output_type": "stream",
     "text": [
      "Validating:  20%|██        | 48/235 [00:39<02:27,  1.27it/s, loss=3.2242, avg_loss=3.5916]"
     ]
    },
    {
     "name": "stdout",
     "output_type": "stream",
     "text": [
      "{'kd_loss': 1.733755350112915, 'feature_loss': 0.00313024059869349, 'ce_loss': 7.337526798248291, 'cont_loss': 1.5578017234802246, 'teacher_loss': 3.4152045249938965}\n"
     ]
    },
    {
     "name": "stderr",
     "output_type": "stream",
     "text": [
      "Validating:  21%|██        | 49/235 [00:40<02:26,  1.27it/s, loss=3.4970, avg_loss=3.5897]"
     ]
    },
    {
     "name": "stdout",
     "output_type": "stream",
     "text": [
      "{'kd_loss': 2.062286615371704, 'feature_loss': 0.0028993389569222927, 'ce_loss': 7.678841590881348, 'cont_loss': 1.6190645694732666, 'teacher_loss': 4.479363918304443}\n"
     ]
    },
    {
     "name": "stderr",
     "output_type": "stream",
     "text": [
      "Validating:  21%|██▏       | 50/235 [00:41<02:25,  1.27it/s, loss=3.3873, avg_loss=3.5856]"
     ]
    },
    {
     "name": "stdout",
     "output_type": "stream",
     "text": [
      "{'kd_loss': 1.7635923624038696, 'feature_loss': 0.0030731256119906902, 'ce_loss': 7.811628341674805, 'cont_loss': 1.6169732809066772, 'teacher_loss': 2.836782217025757}\n"
     ]
    },
    {
     "name": "stderr",
     "output_type": "stream",
     "text": [
      "Validating:  22%|██▏       | 51/235 [00:41<02:24,  1.27it/s, loss=3.7557, avg_loss=3.5890]"
     ]
    },
    {
     "name": "stdout",
     "output_type": "stream",
     "text": [
      "{'kd_loss': 2.5210366249084473, 'feature_loss': 0.0030153391417115927, 'ce_loss': 7.759575366973877, 'cont_loss': 1.669609546661377, 'teacher_loss': 4.787408828735352}\n"
     ]
    },
    {
     "name": "stderr",
     "output_type": "stream",
     "text": [
      "Validating:  22%|██▏       | 52/235 [00:42<02:24,  1.27it/s, loss=4.0812, avg_loss=3.5984]"
     ]
    },
    {
     "name": "stdout",
     "output_type": "stream",
     "text": [
      "{'kd_loss': 3.044156312942505, 'feature_loss': 0.002785363234579563, 'ce_loss': 7.973433971405029, 'cont_loss': 1.667778491973877, 'teacher_loss': 4.838972091674805}\n"
     ]
    },
    {
     "name": "stderr",
     "output_type": "stream",
     "text": [
      "Validating:  23%|██▎       | 53/235 [00:43<02:23,  1.27it/s, loss=3.4535, avg_loss=3.5957]"
     ]
    },
    {
     "name": "stdout",
     "output_type": "stream",
     "text": [
      "{'kd_loss': 1.8143434524536133, 'feature_loss': 0.0031033423729240894, 'ce_loss': 7.910088539123535, 'cont_loss': 1.7301933765411377, 'teacher_loss': 4.461268424987793}\n"
     ]
    },
    {
     "name": "stderr",
     "output_type": "stream",
     "text": [
      "Validating:  23%|██▎       | 54/235 [00:44<02:22,  1.27it/s, loss=3.2748, avg_loss=3.5898]"
     ]
    },
    {
     "name": "stdout",
     "output_type": "stream",
     "text": [
      "{'kd_loss': 1.7531013488769531, 'feature_loss': 0.003155746962875128, 'ce_loss': 7.443093299865723, 'cont_loss': 1.6500372886657715, 'teacher_loss': 2.603274345397949}\n"
     ]
    },
    {
     "name": "stderr",
     "output_type": "stream",
     "text": [
      "Validating:  23%|██▎       | 55/235 [00:44<02:21,  1.27it/s, loss=3.1039, avg_loss=3.5809]"
     ]
    },
    {
     "name": "stdout",
     "output_type": "stream",
     "text": [
      "{'kd_loss': 1.3637624979019165, 'feature_loss': 0.003214712720364332, 'ce_loss': 7.522170543670654, 'cont_loss': 1.6501026153564453, 'teacher_loss': 4.07574987411499}\n"
     ]
    },
    {
     "name": "stderr",
     "output_type": "stream",
     "text": [
      "Validating:  24%|██▍       | 56/235 [00:45<02:20,  1.27it/s, loss=3.4244, avg_loss=3.5781]"
     ]
    },
    {
     "name": "stdout",
     "output_type": "stream",
     "text": [
      "{'kd_loss': 1.8328911066055298, 'feature_loss': 0.0030836439691483974, 'ce_loss': 7.776378154754639, 'cont_loss': 1.7477359771728516, 'teacher_loss': 3.5646116733551025}\n"
     ]
    },
    {
     "name": "stderr",
     "output_type": "stream",
     "text": [
      "Validating:  24%|██▍       | 57/235 [00:46<02:20,  1.27it/s, loss=3.7966, avg_loss=3.5820]"
     ]
    },
    {
     "name": "stdout",
     "output_type": "stream",
     "text": [
      "{'kd_loss': 2.4135935306549072, 'feature_loss': 0.00308741582557559, 'ce_loss': 8.04660415649414, 'cont_loss': 1.7551257610321045, 'teacher_loss': 4.449230670928955}\n"
     ]
    },
    {
     "name": "stderr",
     "output_type": "stream",
     "text": [
      "Validating:  25%|██▍       | 58/235 [00:47<02:19,  1.27it/s, loss=3.8458, avg_loss=3.5865]"
     ]
    },
    {
     "name": "stdout",
     "output_type": "stream",
     "text": [
      "{'kd_loss': 2.776719808578491, 'feature_loss': 0.002894788049161434, 'ce_loss': 7.595858097076416, 'cont_loss': 1.7843390703201294, 'teacher_loss': 6.405681133270264}\n"
     ]
    },
    {
     "name": "stderr",
     "output_type": "stream",
     "text": [
      "Validating:  25%|██▌       | 59/235 [00:48<02:18,  1.27it/s, loss=3.7043, avg_loss=3.5885]"
     ]
    },
    {
     "name": "stdout",
     "output_type": "stream",
     "text": [
      "{'kd_loss': 2.356867551803589, 'feature_loss': 0.002858498366549611, 'ce_loss': 7.827942848205566, 'cont_loss': 1.7716279029846191, 'teacher_loss': 4.286320209503174}\n"
     ]
    },
    {
     "name": "stderr",
     "output_type": "stream",
     "text": [
      "Validating:  26%|██▌       | 60/235 [00:48<02:17,  1.27it/s, loss=3.3016, avg_loss=3.5837]"
     ]
    },
    {
     "name": "stdout",
     "output_type": "stream",
     "text": [
      "{'kd_loss': 1.5641491413116455, 'feature_loss': 0.0032299396116286516, 'ce_loss': 7.807792663574219, 'cont_loss': 1.7686879634857178, 'teacher_loss': 4.118372440338135}\n"
     ]
    },
    {
     "name": "stderr",
     "output_type": "stream",
     "text": [
      "Validating:  26%|██▌       | 61/235 [00:49<02:16,  1.27it/s, loss=3.6476, avg_loss=3.5848]"
     ]
    },
    {
     "name": "stdout",
     "output_type": "stream",
     "text": [
      "{'kd_loss': 2.156520366668701, 'feature_loss': 0.002973436377942562, 'ce_loss': 7.965102672576904, 'cont_loss': 1.7948987483978271, 'teacher_loss': 5.183281898498535}\n"
     ]
    },
    {
     "name": "stderr",
     "output_type": "stream",
     "text": [
      "Validating:  26%|██▋       | 62/235 [00:50<02:16,  1.27it/s, loss=4.3217, avg_loss=3.5967]"
     ]
    },
    {
     "name": "stdout",
     "output_type": "stream",
     "text": [
      "{'kd_loss': 3.647974967956543, 'feature_loss': 0.0027644075453281403, 'ce_loss': 7.723625183105469, 'cont_loss': 1.8039520978927612, 'teacher_loss': 5.33145809173584}\n"
     ]
    },
    {
     "name": "stderr",
     "output_type": "stream",
     "text": [
      "Validating:  27%|██▋       | 63/235 [00:51<02:15,  1.27it/s, loss=3.9098, avg_loss=3.6016]"
     ]
    },
    {
     "name": "stdout",
     "output_type": "stream",
     "text": [
      "{'kd_loss': 2.7814888954162598, 'feature_loss': 0.0028763641603291035, 'ce_loss': 7.800645351409912, 'cont_loss': 1.7856498956680298, 'teacher_loss': 4.643797874450684}\n"
     ]
    },
    {
     "name": "stderr",
     "output_type": "stream",
     "text": [
      "Validating:  27%|██▋       | 64/235 [00:52<02:14,  1.27it/s, loss=3.7468, avg_loss=3.6039]"
     ]
    },
    {
     "name": "stdout",
     "output_type": "stream",
     "text": [
      "{'kd_loss': 2.4041171073913574, 'feature_loss': 0.0030508062336593866, 'ce_loss': 7.884847164154053, 'cont_loss': 1.7893351316452026, 'teacher_loss': 4.242664337158203}\n"
     ]
    },
    {
     "name": "stderr",
     "output_type": "stream",
     "text": [
      "Validating:  28%|██▊       | 65/235 [00:52<02:13,  1.27it/s, loss=3.9552, avg_loss=3.6093]"
     ]
    },
    {
     "name": "stdout",
     "output_type": "stream",
     "text": [
      "{'kd_loss': 2.85750150680542, 'feature_loss': 0.002906485926359892, 'ce_loss': 7.811252117156982, 'cont_loss': 1.8279558420181274, 'teacher_loss': 4.949121952056885}\n"
     ]
    },
    {
     "name": "stderr",
     "output_type": "stream",
     "text": [
      "Validating:  28%|██▊       | 66/235 [00:53<02:12,  1.27it/s, loss=3.8248, avg_loss=3.6126]"
     ]
    },
    {
     "name": "stdout",
     "output_type": "stream",
     "text": [
      "{'kd_loss': 2.5830297470092773, 'feature_loss': 0.002771817147731781, 'ce_loss': 7.848907947540283, 'cont_loss': 1.7834194898605347, 'teacher_loss': 4.884301662445068}\n"
     ]
    },
    {
     "name": "stderr",
     "output_type": "stream",
     "text": [
      "Validating:  29%|██▊       | 67/235 [00:54<02:12,  1.27it/s, loss=3.2583, avg_loss=3.6073]"
     ]
    },
    {
     "name": "stdout",
     "output_type": "stream",
     "text": [
      "{'kd_loss': 1.5608497858047485, 'feature_loss': 0.0029990992043167353, 'ce_loss': 7.657803535461426, 'cont_loss': 1.802706241607666, 'teacher_loss': 5.118377685546875}\n"
     ]
    },
    {
     "name": "stderr",
     "output_type": "stream",
     "text": [
      "Validating:  29%|██▉       | 68/235 [00:55<02:11,  1.27it/s, loss=3.6840, avg_loss=3.6084]"
     ]
    },
    {
     "name": "stdout",
     "output_type": "stream",
     "text": [
      "{'kd_loss': 2.1824705600738525, 'feature_loss': 0.0031300734262913465, 'ce_loss': 8.018786430358887, 'cont_loss': 1.8679816722869873, 'teacher_loss': 5.077702522277832}\n"
     ]
    },
    {
     "name": "stderr",
     "output_type": "stream",
     "text": [
      "Validating:  29%|██▉       | 69/235 [00:55<02:10,  1.27it/s, loss=3.5806, avg_loss=3.6080]"
     ]
    },
    {
     "name": "stdout",
     "output_type": "stream",
     "text": [
      "{'kd_loss': 2.077831983566284, 'feature_loss': 0.003051935462281108, 'ce_loss': 7.8717041015625, 'cont_loss': 1.7985552549362183, 'teacher_loss': 6.341886043548584}\n"
     ]
    },
    {
     "name": "stderr",
     "output_type": "stream",
     "text": [
      "Validating:  30%|██▉       | 70/235 [00:56<02:09,  1.27it/s, loss=3.5964, avg_loss=3.6078]"
     ]
    },
    {
     "name": "stdout",
     "output_type": "stream",
     "text": [
      "{'kd_loss': 2.1444647312164307, 'feature_loss': 0.002928015310317278, 'ce_loss': 7.804207801818848, 'cont_loss': 1.8261513710021973, 'teacher_loss': 4.588211536407471}\n"
     ]
    },
    {
     "name": "stderr",
     "output_type": "stream",
     "text": [
      "Validating:  30%|███       | 71/235 [00:57<02:09,  1.27it/s, loss=3.4475, avg_loss=3.6056]"
     ]
    },
    {
     "name": "stdout",
     "output_type": "stream",
     "text": [
      "{'kd_loss': 1.8407343626022339, 'feature_loss': 0.0031243402045220137, 'ce_loss': 7.794641017913818, 'cont_loss': 1.884746789932251, 'teacher_loss': 4.746737003326416}\n"
     ]
    },
    {
     "name": "stderr",
     "output_type": "stream",
     "text": [
      "Validating:  31%|███       | 72/235 [00:58<02:08,  1.27it/s, loss=3.5759, avg_loss=3.6052]"
     ]
    },
    {
     "name": "stdout",
     "output_type": "stream",
     "text": [
      "{'kd_loss': 1.9955270290374756, 'feature_loss': 0.003084338502958417, 'ce_loss': 7.957121849060059, 'cont_loss': 1.9067583084106445, 'teacher_loss': 4.250064373016357}\n"
     ]
    },
    {
     "name": "stderr",
     "output_type": "stream",
     "text": [
      "Validating:  31%|███       | 73/235 [00:59<02:07,  1.27it/s, loss=3.6903, avg_loss=3.6063]"
     ]
    },
    {
     "name": "stdout",
     "output_type": "stream",
     "text": [
      "{'kd_loss': 2.196174144744873, 'feature_loss': 0.0029675886034965515, 'ce_loss': 8.02159309387207, 'cont_loss': 1.8541662693023682, 'teacher_loss': 4.673940181732178}\n"
     ]
    },
    {
     "name": "stderr",
     "output_type": "stream",
     "text": [
      "Validating:  31%|███▏      | 74/235 [00:59<02:06,  1.27it/s, loss=3.9113, avg_loss=3.6105]"
     ]
    },
    {
     "name": "stdout",
     "output_type": "stream",
     "text": [
      "{'kd_loss': 2.6186721324920654, 'feature_loss': 0.0027955099940299988, 'ce_loss': 8.030180931091309, 'cont_loss': 1.9263408184051514, 'teacher_loss': 5.552391529083252}\n"
     ]
    },
    {
     "name": "stderr",
     "output_type": "stream",
     "text": [
      "Validating:  32%|███▏      | 75/235 [01:00<02:05,  1.27it/s, loss=4.2210, avg_loss=3.6186]"
     ]
    },
    {
     "name": "stdout",
     "output_type": "stream",
     "text": [
      "{'kd_loss': 3.0851974487304688, 'feature_loss': 0.0029227379709482193, 'ce_loss': 8.28006649017334, 'cont_loss': 1.9410849809646606, 'teacher_loss': 5.623235702514648}\n"
     ]
    },
    {
     "name": "stderr",
     "output_type": "stream",
     "text": [
      "Validating:  32%|███▏      | 76/235 [01:01<02:05,  1.27it/s, loss=3.2860, avg_loss=3.6142]"
     ]
    },
    {
     "name": "stdout",
     "output_type": "stream",
     "text": [
      "{'kd_loss': 1.5036429166793823, 'feature_loss': 0.0030318142380565405, 'ce_loss': 7.811731338500977, 'cont_loss': 1.9035899639129639, 'teacher_loss': 4.969168663024902}\n"
     ]
    },
    {
     "name": "stderr",
     "output_type": "stream",
     "text": [
      "Validating:  33%|███▎      | 77/235 [01:02<02:04,  1.27it/s, loss=3.4130, avg_loss=3.6116]"
     ]
    },
    {
     "name": "stdout",
     "output_type": "stream",
     "text": [
      "{'kd_loss': 1.7088531255722046, 'feature_loss': 0.003052249550819397, 'ce_loss': 7.871252059936523, 'cont_loss': 1.969264030456543, 'teacher_loss': 4.657177448272705}\n"
     ]
    },
    {
     "name": "stderr",
     "output_type": "stream",
     "text": [
      "Validating:  33%|███▎      | 78/235 [01:03<02:03,  1.27it/s, loss=3.2743, avg_loss=3.6073]"
     ]
    },
    {
     "name": "stdout",
     "output_type": "stream",
     "text": [
      "{'kd_loss': 1.476724624633789, 'feature_loss': 0.0032659422140568495, 'ce_loss': 7.810375213623047, 'cont_loss': 1.9247342348098755, 'teacher_loss': 4.183007717132568}\n"
     ]
    },
    {
     "name": "stderr",
     "output_type": "stream",
     "text": [
      "Validating:  34%|███▎      | 79/235 [01:03<02:02,  1.27it/s, loss=3.6863, avg_loss=3.6083]"
     ]
    },
    {
     "name": "stdout",
     "output_type": "stream",
     "text": [
      "{'kd_loss': 2.299448013305664, 'feature_loss': 0.0028666099533438683, 'ce_loss': 7.8077006340026855, 'cont_loss': 1.9402015209197998, 'teacher_loss': 4.5838623046875}\n"
     ]
    },
    {
     "name": "stderr",
     "output_type": "stream",
     "text": [
      "Validating:  34%|███▍      | 80/235 [01:04<02:02,  1.27it/s, loss=3.8256, avg_loss=3.6110]"
     ]
    },
    {
     "name": "stdout",
     "output_type": "stream",
     "text": [
      "{'kd_loss': 2.3111188411712646, 'feature_loss': 0.003035985864698887, 'ce_loss': 8.23227596282959, 'cont_loss': 2.000821590423584, 'teacher_loss': 5.148871898651123}\n"
     ]
    },
    {
     "name": "stderr",
     "output_type": "stream",
     "text": [
      "Validating:  34%|███▍      | 81/235 [01:05<02:01,  1.27it/s, loss=3.7183, avg_loss=3.6123]"
     ]
    },
    {
     "name": "stdout",
     "output_type": "stream",
     "text": [
      "{'kd_loss': 2.2276992797851562, 'feature_loss': 0.003087792079895735, 'ce_loss': 8.01816463470459, 'cont_loss': 1.9871466159820557, 'teacher_loss': 3.780714988708496}\n"
     ]
    },
    {
     "name": "stderr",
     "output_type": "stream",
     "text": [
      "Validating:  35%|███▍      | 82/235 [01:06<02:00,  1.27it/s, loss=3.8768, avg_loss=3.6156]"
     ]
    },
    {
     "name": "stdout",
     "output_type": "stream",
     "text": [
      "{'kd_loss': 2.6357390880584717, 'feature_loss': 0.0029821721836924553, 'ce_loss': 7.855746746063232, 'cont_loss': 2.0187530517578125, 'teacher_loss': 4.558379650115967}\n"
     ]
    },
    {
     "name": "stderr",
     "output_type": "stream",
     "text": [
      "Validating:  35%|███▌      | 83/235 [01:07<01:59,  1.27it/s, loss=4.0588, avg_loss=3.6209]"
     ]
    },
    {
     "name": "stdout",
     "output_type": "stream",
     "text": [
      "{'kd_loss': 2.567417621612549, 'feature_loss': 0.0028133986052125692, 'ce_loss': 8.572304725646973, 'cont_loss': 2.0313591957092285, 'teacher_loss': 4.985279083251953}\n"
     ]
    },
    {
     "name": "stderr",
     "output_type": "stream",
     "text": [
      "Validating:  36%|███▌      | 84/235 [01:07<01:58,  1.27it/s, loss=3.7407, avg_loss=3.6223]"
     ]
    },
    {
     "name": "stdout",
     "output_type": "stream",
     "text": [
      "{'kd_loss': 2.480609893798828, 'feature_loss': 0.002911137882620096, 'ce_loss': 7.664837837219238, 'cont_loss': 2.0067920684814453, 'teacher_loss': 3.704862356185913}\n"
     ]
    },
    {
     "name": "stderr",
     "output_type": "stream",
     "text": [
      "Validating:  36%|███▌      | 85/235 [01:08<01:58,  1.27it/s, loss=3.3776, avg_loss=3.6194]"
     ]
    },
    {
     "name": "stdout",
     "output_type": "stream",
     "text": [
      "{'kd_loss': 1.6417508125305176, 'feature_loss': 0.003217423101887107, 'ce_loss': 7.851809501647949, 'cont_loss': 2.008415699005127, 'teacher_loss': 3.9602200984954834}\n"
     ]
    },
    {
     "name": "stderr",
     "output_type": "stream",
     "text": [
      "Validating:  37%|███▋      | 86/235 [01:09<01:57,  1.27it/s, loss=3.4069, avg_loss=3.6170]"
     ]
    },
    {
     "name": "stdout",
     "output_type": "stream",
     "text": [
      "{'kd_loss': 1.676316738128662, 'feature_loss': 0.0030603264458477497, 'ce_loss': 7.8833909034729, 'cont_loss': 2.0343551635742188, 'teacher_loss': 4.2023606300354}\n"
     ]
    },
    {
     "name": "stderr",
     "output_type": "stream",
     "text": [
      "Validating:  37%|███▋      | 87/235 [01:10<01:56,  1.27it/s, loss=3.3022, avg_loss=3.6134]"
     ]
    },
    {
     "name": "stdout",
     "output_type": "stream",
     "text": [
      "{'kd_loss': 1.4222320318222046, 'feature_loss': 0.003297451650723815, 'ce_loss': 7.954975128173828, 'cont_loss': 2.0421862602233887, 'teacher_loss': 2.6837916374206543}\n"
     ]
    },
    {
     "name": "stderr",
     "output_type": "stream",
     "text": [
      "Validating:  37%|███▋      | 88/235 [01:10<01:55,  1.27it/s, loss=3.4699, avg_loss=3.6117]"
     ]
    },
    {
     "name": "stdout",
     "output_type": "stream",
     "text": [
      "{'kd_loss': 1.82935631275177, 'feature_loss': 0.0032893868628889322, 'ce_loss': 7.829438209533691, 'cont_loss': 2.060500144958496, 'teacher_loss': 4.0445733070373535}\n"
     ]
    },
    {
     "name": "stderr",
     "output_type": "stream",
     "text": [
      "Validating:  38%|███▊      | 89/235 [01:11<01:55,  1.27it/s, loss=3.2979, avg_loss=3.6082]"
     ]
    },
    {
     "name": "stdout",
     "output_type": "stream",
     "text": [
      "{'kd_loss': 1.5183610916137695, 'feature_loss': 0.0030287830159068108, 'ce_loss': 7.766704559326172, 'cont_loss': 2.084172248840332, 'teacher_loss': 4.650134563446045}\n"
     ]
    },
    {
     "name": "stderr",
     "output_type": "stream",
     "text": [
      "Validating:  38%|███▊      | 90/235 [01:12<01:54,  1.27it/s, loss=3.6089, avg_loss=3.6082]"
     ]
    },
    {
     "name": "stdout",
     "output_type": "stream",
     "text": [
      "{'kd_loss': 2.0233852863311768, 'feature_loss': 0.003174038603901863, 'ce_loss': 7.966394901275635, 'cont_loss': 2.069762945175171, 'teacher_loss': 4.888613224029541}\n"
     ]
    },
    {
     "name": "stderr",
     "output_type": "stream",
     "text": [
      "Validating:  39%|███▊      | 91/235 [01:13<01:53,  1.27it/s, loss=3.8426, avg_loss=3.6108]"
     ]
    },
    {
     "name": "stdout",
     "output_type": "stream",
     "text": [
      "{'kd_loss': 2.28877329826355, 'feature_loss': 0.003038649447262287, 'ce_loss': 8.299114227294922, 'cont_loss': 2.0819153785705566, 'teacher_loss': 4.5686516761779785}\n"
     ]
    },
    {
     "name": "stderr",
     "output_type": "stream",
     "text": [
      "Validating:  39%|███▉      | 92/235 [01:14<01:52,  1.27it/s, loss=4.0768, avg_loss=3.6158]"
     ]
    },
    {
     "name": "stdout",
     "output_type": "stream",
     "text": [
      "{'kd_loss': 2.6903042793273926, 'feature_loss': 0.002815414685755968, 'ce_loss': 8.403099060058594, 'cont_loss': 2.104217052459717, 'teacher_loss': 5.331207275390625}\n"
     ]
    },
    {
     "name": "stderr",
     "output_type": "stream",
     "text": [
      "Validating:  40%|███▉      | 93/235 [01:14<01:51,  1.27it/s, loss=3.3312, avg_loss=3.6128]"
     ]
    },
    {
     "name": "stdout",
     "output_type": "stream",
     "text": [
      "{'kd_loss': 1.5898330211639404, 'feature_loss': 0.003004534402862191, 'ce_loss': 7.759664535522461, 'cont_loss': 2.0804851055145264, 'teacher_loss': 4.566198348999023}\n"
     ]
    },
    {
     "name": "stderr",
     "output_type": "stream",
     "text": [
      "Validating:  40%|████      | 94/235 [01:15<01:51,  1.27it/s, loss=3.7340, avg_loss=3.6141]"
     ]
    },
    {
     "name": "stdout",
     "output_type": "stream",
     "text": [
      "{'kd_loss': 2.3431224822998047, 'feature_loss': 0.0029135234653949738, 'ce_loss': 7.8378801345825195, 'cont_loss': 2.108034133911133, 'teacher_loss': 5.163477897644043}\n"
     ]
    },
    {
     "name": "stderr",
     "output_type": "stream",
     "text": [
      "Validating:  40%|████      | 95/235 [01:16<01:50,  1.27it/s, loss=3.4183, avg_loss=3.6120]"
     ]
    },
    {
     "name": "stdout",
     "output_type": "stream",
     "text": [
      "{'kd_loss': 1.5201600790023804, 'feature_loss': 0.0031468593515455723, 'ce_loss': 8.149186134338379, 'cont_loss': 2.1315135955810547, 'teacher_loss': 4.019899368286133}\n"
     ]
    },
    {
     "name": "stderr",
     "output_type": "stream",
     "text": [
      "Validating:  41%|████      | 96/235 [01:17<01:49,  1.27it/s, loss=3.4429, avg_loss=3.6103]"
     ]
    },
    {
     "name": "stdout",
     "output_type": "stream",
     "text": [
      "{'kd_loss': 1.8025768995285034, 'feature_loss': 0.0030075772665441036, 'ce_loss': 7.763510227203369, 'cont_loss': 2.1228346824645996, 'teacher_loss': 3.997997760772705}\n"
     ]
    },
    {
     "name": "stderr",
     "output_type": "stream",
     "text": [
      "Validating:  41%|████▏     | 97/235 [01:18<01:48,  1.27it/s, loss=3.6044, avg_loss=3.6102]"
     ]
    },
    {
     "name": "stdout",
     "output_type": "stream",
     "text": [
      "{'kd_loss': 1.9293893575668335, 'feature_loss': 0.0030551233794540167, 'ce_loss': 8.086941719055176, 'cont_loss': 2.1328136920928955, 'teacher_loss': 5.171101093292236}\n"
     ]
    },
    {
     "name": "stderr",
     "output_type": "stream",
     "text": [
      "Validating:  42%|████▏     | 98/235 [01:18<01:48,  1.27it/s, loss=3.3621, avg_loss=3.6077]"
     ]
    },
    {
     "name": "stdout",
     "output_type": "stream",
     "text": [
      "{'kd_loss': 1.565850019454956, 'feature_loss': 0.0032097697257995605, 'ce_loss': 7.870733737945557, 'cont_loss': 2.176121711730957, 'teacher_loss': 4.629321575164795}\n"
     ]
    },
    {
     "name": "stderr",
     "output_type": "stream",
     "text": [
      "Validating:  42%|████▏     | 99/235 [01:19<01:47,  1.27it/s, loss=3.6902, avg_loss=3.6085]"
     ]
    },
    {
     "name": "stdout",
     "output_type": "stream",
     "text": [
      "{'kd_loss': 2.222168445587158, 'feature_loss': 0.0030431384220719337, 'ce_loss': 7.861531734466553, 'cont_loss': 2.2040023803710938, 'teacher_loss': 4.638495445251465}\n"
     ]
    },
    {
     "name": "stderr",
     "output_type": "stream",
     "text": [
      "Validating:  43%|████▎     | 100/235 [01:20<01:46,  1.27it/s, loss=4.0567, avg_loss=3.6130]"
     ]
    },
    {
     "name": "stdout",
     "output_type": "stream",
     "text": [
      "{'kd_loss': 3.001265525817871, 'feature_loss': 0.0028695175424218178, 'ce_loss': 7.7800445556640625, 'cont_loss': 2.217827796936035, 'teacher_loss': 5.16009521484375}\n"
     ]
    },
    {
     "name": "stderr",
     "output_type": "stream",
     "text": [
      "Validating:  43%|████▎     | 101/235 [01:21<01:45,  1.27it/s, loss=3.7964, avg_loss=3.6148]"
     ]
    },
    {
     "name": "stdout",
     "output_type": "stream",
     "text": [
      "{'kd_loss': 2.4525933265686035, 'feature_loss': 0.0029346863739192486, 'ce_loss': 7.828229904174805, 'cont_loss': 2.2129502296447754, 'teacher_loss': 4.590196132659912}\n"
     ]
    },
    {
     "name": "stderr",
     "output_type": "stream",
     "text": [
      "Validating:  43%|████▎     | 102/235 [01:21<01:44,  1.27it/s, loss=4.0850, avg_loss=3.6194]"
     ]
    },
    {
     "name": "stdout",
     "output_type": "stream",
     "text": [
      "{'kd_loss': 2.9207496643066406, 'feature_loss': 0.0028035282157361507, 'ce_loss': 8.007475852966309, 'cont_loss': 2.2206649780273438, 'teacher_loss': 5.7858052253723145}\n"
     ]
    },
    {
     "name": "stderr",
     "output_type": "stream",
     "text": [
      "Validating:  44%|████▍     | 103/235 [01:22<01:43,  1.27it/s, loss=3.8127, avg_loss=3.6213]"
     ]
    },
    {
     "name": "stdout",
     "output_type": "stream",
     "text": [
      "{'kd_loss': 2.432901382446289, 'feature_loss': 0.002975952811539173, 'ce_loss': 7.904231071472168, 'cont_loss': 2.2464280128479004, 'teacher_loss': 5.6839375495910645}\n"
     ]
    },
    {
     "name": "stderr",
     "output_type": "stream",
     "text": [
      "Validating:  44%|████▍     | 104/235 [01:23<01:43,  1.27it/s, loss=4.0592, avg_loss=3.6255]"
     ]
    },
    {
     "name": "stdout",
     "output_type": "stream",
     "text": [
      "{'kd_loss': 2.986299514770508, 'feature_loss': 0.0028165490366518497, 'ce_loss': 7.804505825042725, 'cont_loss': 2.243950843811035, 'teacher_loss': 5.589275360107422}\n"
     ]
    },
    {
     "name": "stderr",
     "output_type": "stream",
     "text": [
      "Validating:  45%|████▍     | 105/235 [01:24<01:42,  1.27it/s, loss=3.9649, avg_loss=3.6287]"
     ]
    },
    {
     "name": "stdout",
     "output_type": "stream",
     "text": [
      "{'kd_loss': 2.6363868713378906, 'feature_loss': 0.002820846624672413, 'ce_loss': 8.070215225219727, 'cont_loss': 2.253873586654663, 'teacher_loss': 4.616714954376221}\n"
     ]
    },
    {
     "name": "stderr",
     "output_type": "stream",
     "text": [
      "Validating:  45%|████▌     | 106/235 [01:25<01:41,  1.27it/s, loss=3.5022, avg_loss=3.6275]"
     ]
    },
    {
     "name": "stdout",
     "output_type": "stream",
     "text": [
      "{'kd_loss': 1.8075096607208252, 'feature_loss': 0.003140603192150593, 'ce_loss': 7.901475429534912, 'cont_loss': 2.2770519256591797, 'teacher_loss': 4.457368850708008}\n"
     ]
    },
    {
     "name": "stderr",
     "output_type": "stream",
     "text": [
      "Validating:  46%|████▌     | 107/235 [01:25<01:40,  1.27it/s, loss=3.3325, avg_loss=3.6248]"
     ]
    },
    {
     "name": "stdout",
     "output_type": "stream",
     "text": [
      "{'kd_loss': 1.384526014328003, 'feature_loss': 0.0032845567911863327, 'ce_loss': 8.055214881896973, 'cont_loss': 2.23374080657959, 'teacher_loss': 4.071290493011475}\n"
     ]
    },
    {
     "name": "stderr",
     "output_type": "stream",
     "text": [
      "Validating:  46%|████▌     | 108/235 [01:26<01:40,  1.27it/s, loss=3.5007, avg_loss=3.6236]"
     ]
    },
    {
     "name": "stdout",
     "output_type": "stream",
     "text": [
      "{'kd_loss': 1.763978362083435, 'feature_loss': 0.0032296208664774895, 'ce_loss': 7.980080604553223, 'cont_loss': 2.243971347808838, 'teacher_loss': 4.219797611236572}\n"
     ]
    },
    {
     "name": "stderr",
     "output_type": "stream",
     "text": [
      "Validating:  46%|████▋     | 109/235 [01:27<01:39,  1.27it/s, loss=3.5485, avg_loss=3.6229]"
     ]
    },
    {
     "name": "stdout",
     "output_type": "stream",
     "text": [
      "{'kd_loss': 1.997684359550476, 'feature_loss': 0.0029581887647509575, 'ce_loss': 7.751744270324707, 'cont_loss': 2.2380247116088867, 'teacher_loss': 4.994318008422852}\n"
     ]
    },
    {
     "name": "stderr",
     "output_type": "stream",
     "text": [
      "Validating:  47%|████▋     | 110/235 [01:28<01:38,  1.27it/s, loss=3.6719, avg_loss=3.6234]"
     ]
    },
    {
     "name": "stdout",
     "output_type": "stream",
     "text": [
      "{'kd_loss': 2.0982251167297363, 'feature_loss': 0.0031257360242307186, 'ce_loss': 7.9778313636779785, 'cont_loss': 2.2917261123657227, 'teacher_loss': 4.520260810852051}\n"
     ]
    },
    {
     "name": "stderr",
     "output_type": "stream",
     "text": [
      "Validating:  47%|████▋     | 111/235 [01:29<01:37,  1.27it/s, loss=3.7153, avg_loss=3.6242]"
     ]
    },
    {
     "name": "stdout",
     "output_type": "stream",
     "text": [
      "{'kd_loss': 2.234611988067627, 'feature_loss': 0.003118670079857111, 'ce_loss': 7.885826587677002, 'cont_loss': 2.3198132514953613, 'teacher_loss': 5.260522842407227}\n"
     ]
    },
    {
     "name": "stderr",
     "output_type": "stream",
     "text": [
      "Validating:  48%|████▊     | 112/235 [01:29<01:36,  1.27it/s, loss=3.3662, avg_loss=3.6219]"
     ]
    },
    {
     "name": "stdout",
     "output_type": "stream",
     "text": [
      "{'kd_loss': 1.536785364151001, 'feature_loss': 0.0032389922998845577, 'ce_loss': 7.896254062652588, 'cont_loss': 2.286322593688965, 'teacher_loss': 4.30692720413208}\n"
     ]
    },
    {
     "name": "stderr",
     "output_type": "stream",
     "text": [
      "Validating:  48%|████▊     | 113/235 [01:30<01:36,  1.27it/s, loss=3.5805, avg_loss=3.6215]"
     ]
    },
    {
     "name": "stdout",
     "output_type": "stream",
     "text": [
      "{'kd_loss': 1.93508780002594, 'feature_loss': 0.0029355078004300594, 'ce_loss': 7.942957401275635, 'cont_loss': 2.2975056171417236, 'teacher_loss': 5.588583469390869}\n"
     ]
    },
    {
     "name": "stderr",
     "output_type": "stream",
     "text": [
      "Validating:  49%|████▊     | 114/235 [01:31<01:35,  1.27it/s, loss=3.3006, avg_loss=3.6187]"
     ]
    },
    {
     "name": "stdout",
     "output_type": "stream",
     "text": [
      "{'kd_loss': 1.4085001945495605, 'feature_loss': 0.0031300669070333242, 'ce_loss': 7.882506370544434, 'cont_loss': 2.3126063346862793, 'teacher_loss': 4.230617523193359}\n"
     ]
    },
    {
     "name": "stderr",
     "output_type": "stream",
     "text": [
      "Validating:  49%|████▉     | 115/235 [01:32<01:34,  1.27it/s, loss=3.8378, avg_loss=3.6206]"
     ]
    },
    {
     "name": "stdout",
     "output_type": "stream",
     "text": [
      "{'kd_loss': 2.3998584747314453, 'feature_loss': 0.003164350986480713, 'ce_loss': 8.013404846191406, 'cont_loss': 2.3351335525512695, 'teacher_loss': 4.698939323425293}\n"
     ]
    },
    {
     "name": "stderr",
     "output_type": "stream",
     "text": [
      "Validating:  49%|████▉     | 116/235 [01:33<01:33,  1.27it/s, loss=3.6314, avg_loss=3.6207]"
     ]
    },
    {
     "name": "stdout",
     "output_type": "stream",
     "text": [
      "{'kd_loss': 2.035874366760254, 'feature_loss': 0.002846664283424616, 'ce_loss': 7.929892063140869, 'cont_loss': 2.3422229290008545, 'teacher_loss': 4.544926166534424}\n"
     ]
    },
    {
     "name": "stderr",
     "output_type": "stream",
     "text": [
      "Validating:  50%|████▉     | 117/235 [01:33<01:32,  1.27it/s, loss=3.3152, avg_loss=3.6181]"
     ]
    },
    {
     "name": "stdout",
     "output_type": "stream",
     "text": [
      "{'kd_loss': 1.2621569633483887, 'feature_loss': 0.003223900683224201, 'ce_loss': 8.153532981872559, 'cont_loss': 2.377206802368164, 'teacher_loss': 4.791699409484863}\n"
     ]
    },
    {
     "name": "stderr",
     "output_type": "stream",
     "text": [
      "Validating:  50%|█████     | 118/235 [01:34<01:32,  1.27it/s, loss=3.5799, avg_loss=3.6178]"
     ]
    },
    {
     "name": "stdout",
     "output_type": "stream",
     "text": [
      "{'kd_loss': 1.9297645092010498, 'feature_loss': 0.0030449102632701397, 'ce_loss': 7.9375481605529785, 'cont_loss': 2.3348231315612793, 'teacher_loss': 4.99500846862793}\n"
     ]
    },
    {
     "name": "stderr",
     "output_type": "stream",
     "text": [
      "Validating:  51%|█████     | 119/235 [01:35<01:31,  1.27it/s, loss=3.9468, avg_loss=3.6205]"
     ]
    },
    {
     "name": "stdout",
     "output_type": "stream",
     "text": [
      "{'kd_loss': 2.605949640274048, 'feature_loss': 0.0029123714193701744, 'ce_loss': 8.019489288330078, 'cont_loss': 2.376898765563965, 'teacher_loss': 4.685938835144043}\n"
     ]
    },
    {
     "name": "stderr",
     "output_type": "stream",
     "text": [
      "Validating:  51%|█████     | 120/235 [01:36<01:30,  1.27it/s, loss=3.2936, avg_loss=3.6178]"
     ]
    },
    {
     "name": "stdout",
     "output_type": "stream",
     "text": [
      "{'kd_loss': 1.2946741580963135, 'feature_loss': 0.0033127828501164913, 'ce_loss': 8.021832466125488, 'cont_loss': 2.3941521644592285, 'teacher_loss': 3.938303232192993}\n"
     ]
    },
    {
     "name": "stderr",
     "output_type": "stream",
     "text": [
      "Validating:  51%|█████▏    | 121/235 [01:36<01:29,  1.27it/s, loss=3.7377, avg_loss=3.6188]"
     ]
    },
    {
     "name": "stdout",
     "output_type": "stream",
     "text": [
      "{'kd_loss': 2.1685142517089844, 'feature_loss': 0.0030838879756629467, 'ce_loss': 8.037688255310059, 'cont_loss': 2.417910099029541, 'teacher_loss': 5.314591884613037}\n"
     ]
    },
    {
     "name": "stderr",
     "output_type": "stream",
     "text": [
      "Validating:  52%|█████▏    | 122/235 [01:37<01:28,  1.27it/s, loss=4.0295, avg_loss=3.6222]"
     ]
    },
    {
     "name": "stdout",
     "output_type": "stream",
     "text": [
      "{'kd_loss': 2.7333431243896484, 'feature_loss': 0.0030182087793946266, 'ce_loss': 8.066925048828125, 'cont_loss': 2.4241786003112793, 'teacher_loss': 5.105632305145264}\n"
     ]
    },
    {
     "name": "stderr",
     "output_type": "stream",
     "text": [
      "Validating:  52%|█████▏    | 123/235 [01:38<01:28,  1.27it/s, loss=3.6936, avg_loss=3.6228]"
     ]
    },
    {
     "name": "stdout",
     "output_type": "stream",
     "text": [
      "{'kd_loss': 2.1354050636291504, 'feature_loss': 0.0029038251377642155, 'ce_loss': 7.950875759124756, 'cont_loss': 2.403738260269165, 'teacher_loss': 5.262134075164795}\n"
     ]
    },
    {
     "name": "stderr",
     "output_type": "stream",
     "text": [
      "Validating:  53%|█████▎    | 124/235 [01:39<01:27,  1.27it/s, loss=3.3834, avg_loss=3.6208]"
     ]
    },
    {
     "name": "stdout",
     "output_type": "stream",
     "text": [
      "{'kd_loss': 1.6142539978027344, 'feature_loss': 0.0031013411935418844, 'ce_loss': 7.79859733581543, 'cont_loss': 2.364044666290283, 'teacher_loss': 4.33349084854126}\n"
     ]
    },
    {
     "name": "stderr",
     "output_type": "stream",
     "text": [
      "Validating:  53%|█████▎    | 125/235 [01:40<01:26,  1.27it/s, loss=3.5241, avg_loss=3.6201]"
     ]
    },
    {
     "name": "stdout",
     "output_type": "stream",
     "text": [
      "{'kd_loss': 1.7148383855819702, 'feature_loss': 0.002986425068229437, 'ce_loss': 8.091343879699707, 'cont_loss': 2.390256881713867, 'teacher_loss': 4.185214042663574}\n"
     ]
    },
    {
     "name": "stderr",
     "output_type": "stream",
     "text": [
      "Validating:  54%|█████▎    | 126/235 [01:40<01:25,  1.27it/s, loss=3.9792, avg_loss=3.6229]"
     ]
    },
    {
     "name": "stdout",
     "output_type": "stream",
     "text": [
      "{'kd_loss': 2.6468210220336914, 'feature_loss': 0.0029816969763487577, 'ce_loss': 8.048002243041992, 'cont_loss': 2.4109158515930176, 'teacher_loss': 5.150224208831787}\n"
     ]
    },
    {
     "name": "stderr",
     "output_type": "stream",
     "text": [
      "Validating:  54%|█████▍    | 127/235 [01:41<01:25,  1.27it/s, loss=3.3904, avg_loss=3.6211]"
     ]
    },
    {
     "name": "stdout",
     "output_type": "stream",
     "text": [
      "{'kd_loss': 1.4119312763214111, 'feature_loss': 0.0033204846549779177, 'ce_loss': 8.127776145935059, 'cont_loss': 2.4581592082977295, 'teacher_loss': 4.333993911743164}\n"
     ]
    },
    {
     "name": "stderr",
     "output_type": "stream",
     "text": [
      "Validating:  54%|█████▍    | 128/235 [01:42<01:24,  1.27it/s, loss=3.5609, avg_loss=3.6206]"
     ]
    },
    {
     "name": "stdout",
     "output_type": "stream",
     "text": [
      "{'kd_loss': 1.9025187492370605, 'feature_loss': 0.003022723365575075, 'ce_loss': 7.886960029602051, 'cont_loss': 2.4325010776519775, 'teacher_loss': 4.7856597900390625}\n"
     ]
    },
    {
     "name": "stderr",
     "output_type": "stream",
     "text": [
      "Validating:  55%|█████▍    | 129/235 [01:43<01:23,  1.27it/s, loss=3.7702, avg_loss=3.6218]"
     ]
    },
    {
     "name": "stdout",
     "output_type": "stream",
     "text": [
      "{'kd_loss': 2.243295669555664, 'feature_loss': 0.0030653965659439564, 'ce_loss': 7.998116493225098, 'cont_loss': 2.4876787662506104, 'teacher_loss': 5.662164211273193}\n"
     ]
    },
    {
     "name": "stderr",
     "output_type": "stream",
     "text": [
      "Validating:  55%|█████▌    | 130/235 [01:44<01:22,  1.27it/s, loss=3.8733, avg_loss=3.6237]"
     ]
    },
    {
     "name": "stdout",
     "output_type": "stream",
     "text": [
      "{'kd_loss': 2.4002368450164795, 'feature_loss': 0.0029132538475096226, 'ce_loss': 8.08459186553955, 'cont_loss': 2.4750096797943115, 'teacher_loss': 4.902350425720215}\n"
     ]
    },
    {
     "name": "stderr",
     "output_type": "stream",
     "text": [
      "Validating:  56%|█████▌    | 131/235 [01:44<01:21,  1.27it/s, loss=3.6337, avg_loss=3.6238]"
     ]
    },
    {
     "name": "stdout",
     "output_type": "stream",
     "text": [
      "{'kd_loss': 1.967742681503296, 'feature_loss': 0.0031550079584121704, 'ce_loss': 7.99105978012085, 'cont_loss': 2.5214834213256836, 'teacher_loss': 5.051079750061035}\n"
     ]
    },
    {
     "name": "stderr",
     "output_type": "stream",
     "text": [
      "Validating:  56%|█████▌    | 132/235 [01:45<01:21,  1.27it/s, loss=3.8889, avg_loss=3.6258]"
     ]
    },
    {
     "name": "stdout",
     "output_type": "stream",
     "text": [
      "{'kd_loss': 2.5671839714050293, 'feature_loss': 0.002888527698814869, 'ce_loss': 7.861855983734131, 'cont_loss': 2.4648356437683105, 'teacher_loss': 4.978671550750732}\n"
     ]
    },
    {
     "name": "stderr",
     "output_type": "stream",
     "text": [
      "Validating:  57%|█████▋    | 133/235 [01:46<01:20,  1.27it/s, loss=3.5567, avg_loss=3.6253]"
     ]
    },
    {
     "name": "stdout",
     "output_type": "stream",
     "text": [
      "{'kd_loss': 1.7721331119537354, 'feature_loss': 0.0030565455090254545, 'ce_loss': 8.077412605285645, 'cont_loss': 2.4712271690368652, 'teacher_loss': 4.451434135437012}\n"
     ]
    },
    {
     "name": "stderr",
     "output_type": "stream",
     "text": [
      "Validating:  57%|█████▋    | 134/235 [01:47<01:19,  1.27it/s, loss=3.7654, avg_loss=3.6263]"
     ]
    },
    {
     "name": "stdout",
     "output_type": "stream",
     "text": [
      "{'kd_loss': 2.1009769439697266, 'feature_loss': 0.0030290228314697742, 'ce_loss': 8.224767684936523, 'cont_loss': 2.47133731842041, 'teacher_loss': 5.031955242156982}\n"
     ]
    },
    {
     "name": "stderr",
     "output_type": "stream",
     "text": [
      "Validating:  57%|█████▋    | 135/235 [01:47<01:18,  1.27it/s, loss=3.3838, avg_loss=3.6245]"
     ]
    },
    {
     "name": "stdout",
     "output_type": "stream",
     "text": [
      "{'kd_loss': 1.4665688276290894, 'feature_loss': 0.0031779040582478046, 'ce_loss': 7.997857570648193, 'cont_loss': 2.508110523223877, 'teacher_loss': 4.341239929199219}\n"
     ]
    },
    {
     "name": "stderr",
     "output_type": "stream",
     "text": [
      "Validating:  58%|█████▊    | 136/235 [01:48<01:17,  1.27it/s, loss=3.7075, avg_loss=3.6251]"
     ]
    },
    {
     "name": "stdout",
     "output_type": "stream",
     "text": [
      "{'kd_loss': 2.145751476287842, 'feature_loss': 0.0030014868825674057, 'ce_loss': 7.947804927825928, 'cont_loss': 2.499406099319458, 'teacher_loss': 5.390615463256836}\n"
     ]
    },
    {
     "name": "stderr",
     "output_type": "stream",
     "text": [
      "Validating:  58%|█████▊    | 137/235 [01:49<01:17,  1.27it/s, loss=3.4419, avg_loss=3.6238]"
     ]
    },
    {
     "name": "stdout",
     "output_type": "stream",
     "text": [
      "{'kd_loss': 1.550132393836975, 'feature_loss': 0.0032131304033100605, 'ce_loss': 8.043305397033691, 'cont_loss': 2.535284996032715, 'teacher_loss': 5.348228931427002}\n"
     ]
    },
    {
     "name": "stderr",
     "output_type": "stream",
     "text": [
      "Validating:  59%|█████▊    | 138/235 [01:50<01:16,  1.27it/s, loss=3.6621, avg_loss=3.6241]"
     ]
    },
    {
     "name": "stdout",
     "output_type": "stream",
     "text": [
      "{'kd_loss': 2.138859748840332, 'feature_loss': 0.0029952875338494778, 'ce_loss': 7.794050216674805, 'cont_loss': 2.5412726402282715, 'teacher_loss': 5.2362871170043945}\n"
     ]
    },
    {
     "name": "stderr",
     "output_type": "stream",
     "text": [
      "Validating:  59%|█████▉    | 139/235 [01:51<01:15,  1.27it/s, loss=3.2645, avg_loss=3.6215]"
     ]
    },
    {
     "name": "stdout",
     "output_type": "stream",
     "text": [
      "{'kd_loss': 1.17092764377594, 'feature_loss': 0.0032478398643434048, 'ce_loss': 8.073305130004883, 'cont_loss': 2.567127227783203, 'teacher_loss': 5.4922776222229}\n"
     ]
    },
    {
     "name": "stderr",
     "output_type": "stream",
     "text": [
      "Validating:  60%|█████▉    | 140/235 [01:51<01:14,  1.27it/s, loss=3.6041, avg_loss=3.6214]"
     ]
    },
    {
     "name": "stdout",
     "output_type": "stream",
     "text": [
      "{'kd_loss': 1.9348474740982056, 'feature_loss': 0.0031336385291069746, 'ce_loss': 7.943379878997803, 'cont_loss': 2.533522129058838, 'teacher_loss': 4.728231430053711}\n"
     ]
    },
    {
     "name": "stderr",
     "output_type": "stream",
     "text": [
      "Validating:  60%|██████    | 141/235 [01:52<01:14,  1.27it/s, loss=3.3787, avg_loss=3.6196]"
     ]
    },
    {
     "name": "stdout",
     "output_type": "stream",
     "text": [
      "{'kd_loss': 1.4716622829437256, 'feature_loss': 0.003207324305549264, 'ce_loss': 7.963376045227051, 'cont_loss': 2.5352113246917725, 'teacher_loss': 5.569775581359863}\n"
     ]
    },
    {
     "name": "stderr",
     "output_type": "stream",
     "text": [
      "Validating:  60%|██████    | 142/235 [01:53<01:13,  1.27it/s, loss=3.6220, avg_loss=3.6197]"
     ]
    },
    {
     "name": "stdout",
     "output_type": "stream",
     "text": [
      "{'kd_loss': 1.8418171405792236, 'feature_loss': 0.0032333815470337868, 'ce_loss': 8.13809871673584, 'cont_loss': 2.5937485694885254, 'teacher_loss': 5.608939170837402}\n"
     ]
    },
    {
     "name": "stderr",
     "output_type": "stream",
     "text": [
      "Validating:  61%|██████    | 143/235 [01:54<01:12,  1.27it/s, loss=3.3454, avg_loss=3.6177]"
     ]
    },
    {
     "name": "stdout",
     "output_type": "stream",
     "text": [
      "{'kd_loss': 1.4634363651275635, 'feature_loss': 0.003142594825476408, 'ce_loss': 7.85155725479126, 'cont_loss': 2.5785810947418213, 'teacher_loss': 3.9589414596557617}\n"
     ]
    },
    {
     "name": "stderr",
     "output_type": "stream",
     "text": [
      "Validating:  61%|██████▏   | 144/235 [01:55<01:11,  1.27it/s, loss=3.2645, avg_loss=3.6153]"
     ]
    },
    {
     "name": "stdout",
     "output_type": "stream",
     "text": [
      "{'kd_loss': 1.248762607574463, 'feature_loss': 0.003115859115496278, 'ce_loss': 7.938098907470703, 'cont_loss': 2.584033727645874, 'teacher_loss': 4.714704990386963}\n"
     ]
    },
    {
     "name": "stderr",
     "output_type": "stream",
     "text": [
      "Validating:  62%|██████▏   | 145/235 [01:55<01:10,  1.27it/s, loss=3.5262, avg_loss=3.6147]"
     ]
    },
    {
     "name": "stdout",
     "output_type": "stream",
     "text": [
      "{'kd_loss': 1.7468498945236206, 'feature_loss': 0.0030546016059815884, 'ce_loss': 7.981243133544922, 'cont_loss': 2.581239700317383, 'teacher_loss': 5.012603282928467}\n"
     ]
    },
    {
     "name": "stderr",
     "output_type": "stream",
     "text": [
      "Validating:  62%|██████▏   | 146/235 [01:56<01:10,  1.27it/s, loss=3.8816, avg_loss=3.6165]"
     ]
    },
    {
     "name": "stdout",
     "output_type": "stream",
     "text": [
      "{'kd_loss': 2.3791496753692627, 'feature_loss': 0.003059158567339182, 'ce_loss': 8.103342056274414, 'cont_loss': 2.6076278686523438, 'teacher_loss': 5.176512718200684}\n"
     ]
    },
    {
     "name": "stderr",
     "output_type": "stream",
     "text": [
      "Validating:  63%|██████▎   | 147/235 [01:57<01:09,  1.27it/s, loss=3.5613, avg_loss=3.6161]"
     ]
    },
    {
     "name": "stdout",
     "output_type": "stream",
     "text": [
      "{'kd_loss': 1.8279753923416138, 'feature_loss': 0.003167742630466819, 'ce_loss': 7.952591896057129, 'cont_loss': 2.6117851734161377, 'teacher_loss': 5.987804412841797}\n"
     ]
    },
    {
     "name": "stderr",
     "output_type": "stream",
     "text": [
      "Validating:  63%|██████▎   | 148/235 [01:58<01:08,  1.27it/s, loss=3.4317, avg_loss=3.6149]"
     ]
    },
    {
     "name": "stdout",
     "output_type": "stream",
     "text": [
      "{'kd_loss': 1.5476341247558594, 'feature_loss': 0.0031325798481702805, 'ce_loss': 7.990632057189941, 'cont_loss': 2.603949785232544, 'teacher_loss': 4.533905029296875}\n"
     ]
    },
    {
     "name": "stderr",
     "output_type": "stream",
     "text": [
      "Validating:  63%|██████▎   | 149/235 [01:59<01:07,  1.27it/s, loss=3.7906, avg_loss=3.6161]"
     ]
    },
    {
     "name": "stdout",
     "output_type": "stream",
     "text": [
      "{'kd_loss': 2.198550224304199, 'feature_loss': 0.0030809524469077587, 'ce_loss': 8.082761764526367, 'cont_loss': 2.6619620323181152, 'teacher_loss': 5.811275482177734}\n"
     ]
    },
    {
     "name": "stderr",
     "output_type": "stream",
     "text": [
      "Validating:  64%|██████▍   | 150/235 [01:59<01:06,  1.27it/s, loss=3.8541, avg_loss=3.6176]"
     ]
    },
    {
     "name": "stdout",
     "output_type": "stream",
     "text": [
      "{'kd_loss': 2.3392040729522705, 'feature_loss': 0.0030471128411591053, 'ce_loss': 8.073270797729492, 'cont_loss': 2.621830940246582, 'teacher_loss': 5.037910461425781}\n"
     ]
    },
    {
     "name": "stderr",
     "output_type": "stream",
     "text": [
      "Validating:  64%|██████▍   | 151/235 [02:00<01:06,  1.27it/s, loss=3.4588, avg_loss=3.6166]"
     ]
    },
    {
     "name": "stdout",
     "output_type": "stream",
     "text": [
      "{'kd_loss': 1.6269259452819824, 'feature_loss': 0.003212577663362026, 'ce_loss': 7.925945281982422, 'cont_loss': 2.672597646713257, 'teacher_loss': 5.183571815490723}\n"
     ]
    },
    {
     "name": "stderr",
     "output_type": "stream",
     "text": [
      "Validating:  65%|██████▍   | 152/235 [02:01<01:05,  1.27it/s, loss=3.4455, avg_loss=3.6155]"
     ]
    },
    {
     "name": "stdout",
     "output_type": "stream",
     "text": [
      "{'kd_loss': 1.542748212814331, 'feature_loss': 0.003148948075249791, 'ce_loss': 8.018462181091309, 'cont_loss': 2.6830286979675293, 'teacher_loss': 5.707876682281494}\n"
     ]
    },
    {
     "name": "stderr",
     "output_type": "stream",
     "text": [
      "Validating:  65%|██████▌   | 153/235 [02:02<01:04,  1.27it/s, loss=3.4196, avg_loss=3.6142]"
     ]
    },
    {
     "name": "stdout",
     "output_type": "stream",
     "text": [
      "{'kd_loss': 1.4492602348327637, 'feature_loss': 0.0031880519818514585, 'ce_loss': 8.090396881103516, 'cont_loss': 2.6748881340026855, 'teacher_loss': 5.324188709259033}\n"
     ]
    },
    {
     "name": "stderr",
     "output_type": "stream",
     "text": [
      "Validating:  66%|██████▌   | 154/235 [02:02<01:03,  1.27it/s, loss=3.3695, avg_loss=3.6126]"
     ]
    },
    {
     "name": "stdout",
     "output_type": "stream",
     "text": [
      "{'kd_loss': 1.4200242757797241, 'feature_loss': 0.0031931595876812935, 'ce_loss': 7.964713096618652, 'cont_loss': 2.6975598335266113, 'teacher_loss': 5.473161697387695}\n"
     ]
    },
    {
     "name": "stderr",
     "output_type": "stream",
     "text": [
      "Validating:  66%|██████▌   | 155/235 [02:03<01:03,  1.27it/s, loss=3.2827, avg_loss=3.6105]"
     ]
    },
    {
     "name": "stdout",
     "output_type": "stream",
     "text": [
      "{'kd_loss': 1.1925960779190063, 'feature_loss': 0.003265528939664364, 'ce_loss': 8.055068969726562, 'cont_loss': 2.695786476135254, 'teacher_loss': 4.901646614074707}\n"
     ]
    },
    {
     "name": "stderr",
     "output_type": "stream",
     "text": [
      "Validating:  66%|██████▋   | 156/235 [02:04<01:02,  1.27it/s, loss=3.3144, avg_loss=3.6086]"
     ]
    },
    {
     "name": "stdout",
     "output_type": "stream",
     "text": [
      "{'kd_loss': 1.2479228973388672, 'feature_loss': 0.003231074195355177, 'ce_loss': 8.060944557189941, 'cont_loss': 2.718183994293213, 'teacher_loss': 5.368050575256348}\n"
     ]
    },
    {
     "name": "stderr",
     "output_type": "stream",
     "text": [
      "Validating:  67%|██████▋   | 157/235 [02:05<01:01,  1.27it/s, loss=3.5606, avg_loss=3.6083]"
     ]
    },
    {
     "name": "stdout",
     "output_type": "stream",
     "text": [
      "{'kd_loss': 1.6869546175003052, 'feature_loss': 0.0032382975332438946, 'ce_loss': 8.141359329223633, 'cont_loss': 2.743482828140259, 'teacher_loss': 5.646688461303711}\n"
     ]
    },
    {
     "name": "stderr",
     "output_type": "stream",
     "text": [
      "Validating:  67%|██████▋   | 158/235 [02:06<01:00,  1.27it/s, loss=3.5706, avg_loss=3.6080]"
     ]
    },
    {
     "name": "stdout",
     "output_type": "stream",
     "text": [
      "{'kd_loss': 1.7360353469848633, 'feature_loss': 0.0031918352469801903, 'ce_loss': 8.100361824035645, 'cont_loss': 2.7213385105133057, 'teacher_loss': 5.476269721984863}\n"
     ]
    },
    {
     "name": "stderr",
     "output_type": "stream",
     "text": [
      "Validating:  68%|██████▊   | 159/235 [02:06<00:59,  1.27it/s, loss=3.6058, avg_loss=3.6080]"
     ]
    },
    {
     "name": "stdout",
     "output_type": "stream",
     "text": [
      "{'kd_loss': 1.9291578531265259, 'feature_loss': 0.003031583037227392, 'ce_loss': 7.901317119598389, 'cont_loss': 2.704868793487549, 'teacher_loss': 4.197887420654297}\n"
     ]
    },
    {
     "name": "stderr",
     "output_type": "stream",
     "text": [
      "Validating:  68%|██████▊   | 160/235 [02:07<00:58,  1.27it/s, loss=3.3331, avg_loss=3.6063]"
     ]
    },
    {
     "name": "stdout",
     "output_type": "stream",
     "text": [
      "{'kd_loss': 1.3080689907073975, 'feature_loss': 0.0030720678623765707, 'ce_loss': 8.026165962219238, 'cont_loss': 2.708855628967285, 'teacher_loss': 4.649151802062988}\n"
     ]
    },
    {
     "name": "stderr",
     "output_type": "stream",
     "text": [
      "Validating:  69%|██████▊   | 161/235 [02:08<00:58,  1.27it/s, loss=3.5987, avg_loss=3.6062]"
     ]
    },
    {
     "name": "stdout",
     "output_type": "stream",
     "text": [
      "{'kd_loss': 1.8347716331481934, 'feature_loss': 0.0031022150069475174, 'ce_loss': 8.021831512451172, 'cont_loss': 2.74471378326416, 'teacher_loss': 5.558656215667725}\n"
     ]
    },
    {
     "name": "stderr",
     "output_type": "stream",
     "text": [
      "Validating:  69%|██████▉   | 162/235 [02:09<00:57,  1.27it/s, loss=3.5718, avg_loss=3.6060]"
     ]
    },
    {
     "name": "stdout",
     "output_type": "stream",
     "text": [
      "{'kd_loss': 1.808074951171875, 'feature_loss': 0.003229636000469327, 'ce_loss': 7.972076892852783, 'cont_loss': 2.757744550704956, 'teacher_loss': 5.432377815246582}\n"
     ]
    },
    {
     "name": "stderr",
     "output_type": "stream",
     "text": [
      "Validating:  69%|██████▉   | 163/235 [02:10<00:56,  1.27it/s, loss=3.3585, avg_loss=3.6045]"
     ]
    },
    {
     "name": "stdout",
     "output_type": "stream",
     "text": [
      "{'kd_loss': 1.3185560703277588, 'feature_loss': 0.0031403163447976112, 'ce_loss': 8.078644752502441, 'cont_loss': 2.753291130065918, 'teacher_loss': 5.255321979522705}\n"
     ]
    },
    {
     "name": "stderr",
     "output_type": "stream",
     "text": [
      "Validating:  70%|██████▉   | 164/235 [02:10<00:55,  1.27it/s, loss=3.2997, avg_loss=3.6027]"
     ]
    },
    {
     "name": "stdout",
     "output_type": "stream",
     "text": [
      "{'kd_loss': 1.2745652198791504, 'feature_loss': 0.003261435078456998, 'ce_loss': 7.943272590637207, 'cont_loss': 2.7909955978393555, 'teacher_loss': 5.538243293762207}\n"
     ]
    },
    {
     "name": "stderr",
     "output_type": "stream",
     "text": [
      "Validating:  70%|███████   | 165/235 [02:11<00:55,  1.27it/s, loss=3.5174, avg_loss=3.6021]"
     ]
    },
    {
     "name": "stdout",
     "output_type": "stream",
     "text": [
      "{'kd_loss': 1.6190729141235352, 'feature_loss': 0.00313026481308043, 'ce_loss': 8.10133171081543, 'cont_loss': 2.771780014038086, 'teacher_loss': 4.852057933807373}\n"
     ]
    },
    {
     "name": "stderr",
     "output_type": "stream",
     "text": [
      "Validating:  71%|███████   | 166/235 [02:12<00:54,  1.27it/s, loss=3.4392, avg_loss=3.6012]"
     ]
    },
    {
     "name": "stdout",
     "output_type": "stream",
     "text": [
      "{'kd_loss': 1.4641302824020386, 'feature_loss': 0.0031162817031145096, 'ce_loss': 8.094423294067383, 'cont_loss': 2.78542423248291, 'teacher_loss': 5.657851219177246}\n"
     ]
    },
    {
     "name": "stderr",
     "output_type": "stream",
     "text": [
      "Validating:  71%|███████   | 167/235 [02:13<00:53,  1.27it/s, loss=3.4263, avg_loss=3.6001]"
     ]
    },
    {
     "name": "stdout",
     "output_type": "stream",
     "text": [
      "{'kd_loss': 1.5875521898269653, 'feature_loss': 0.0030527489725500345, 'ce_loss': 7.85373592376709, 'cont_loss': 2.7613000869750977, 'teacher_loss': 4.97682523727417}\n"
     ]
    },
    {
     "name": "stderr",
     "output_type": "stream",
     "text": [
      "Validating:  71%|███████▏  | 168/235 [02:13<00:52,  1.27it/s, loss=3.4787, avg_loss=3.5994]"
     ]
    },
    {
     "name": "stdout",
     "output_type": "stream",
     "text": [
      "{'kd_loss': 1.64876127243042, 'feature_loss': 0.002969775116071105, 'ce_loss': 7.925836563110352, 'cont_loss': 2.7628936767578125, 'teacher_loss': 4.809487342834473}\n"
     ]
    },
    {
     "name": "stderr",
     "output_type": "stream",
     "text": [
      "Validating:  72%|███████▏  | 169/235 [02:14<00:52,  1.27it/s, loss=3.4336, avg_loss=3.5984]"
     ]
    },
    {
     "name": "stdout",
     "output_type": "stream",
     "text": [
      "{'kd_loss': 1.5001256465911865, 'feature_loss': 0.003143367124721408, 'ce_loss': 8.010661125183105, 'cont_loss': 2.8000500202178955, 'teacher_loss': 5.149960517883301}\n"
     ]
    },
    {
     "name": "stderr",
     "output_type": "stream",
     "text": [
      "Validating:  72%|███████▏  | 170/235 [02:15<00:51,  1.27it/s, loss=3.4678, avg_loss=3.5976]"
     ]
    },
    {
     "name": "stdout",
     "output_type": "stream",
     "text": [
      "{'kd_loss': 1.5751488208770752, 'feature_loss': 0.0031596473418176174, 'ce_loss': 7.996886730194092, 'cont_loss': 2.808596134185791, 'teacher_loss': 5.210474491119385}\n"
     ]
    },
    {
     "name": "stderr",
     "output_type": "stream",
     "text": [
      "Validating:  73%|███████▎  | 171/235 [02:16<00:50,  1.27it/s, loss=3.4168, avg_loss=3.5966]"
     ]
    },
    {
     "name": "stdout",
     "output_type": "stream",
     "text": [
      "{'kd_loss': 1.4889882802963257, 'feature_loss': 0.003130772151052952, 'ce_loss': 7.972274303436279, 'cont_loss': 2.8032169342041016, 'teacher_loss': 5.445257186889648}\n"
     ]
    },
    {
     "name": "stderr",
     "output_type": "stream",
     "text": [
      "Validating:  73%|███████▎  | 172/235 [02:17<00:49,  1.27it/s, loss=3.5483, avg_loss=3.5963]"
     ]
    },
    {
     "name": "stdout",
     "output_type": "stream",
     "text": [
      "{'kd_loss': 1.7106540203094482, 'feature_loss': 0.0031473052222281694, 'ce_loss': 8.02578353881836, 'cont_loss': 2.848785638809204, 'teacher_loss': 5.3808817863464355}\n"
     ]
    },
    {
     "name": "stderr",
     "output_type": "stream",
     "text": [
      "Validating:  74%|███████▎  | 173/235 [02:17<00:48,  1.27it/s, loss=3.4345, avg_loss=3.5954]"
     ]
    },
    {
     "name": "stdout",
     "output_type": "stream",
     "text": [
      "{'kd_loss': 1.4665987491607666, 'feature_loss': 0.0031453496776521206, 'ce_loss': 8.061542510986328, 'cont_loss': 2.824512481689453, 'teacher_loss': 5.516890525817871}\n"
     ]
    },
    {
     "name": "stderr",
     "output_type": "stream",
     "text": [
      "Validating:  74%|███████▍  | 174/235 [02:18<00:48,  1.27it/s, loss=3.7472, avg_loss=3.5962]"
     ]
    },
    {
     "name": "stdout",
     "output_type": "stream",
     "text": [
      "{'kd_loss': 2.173738956451416, 'feature_loss': 0.0031301183626055717, 'ce_loss': 7.930078029632568, 'cont_loss': 2.8095030784606934, 'teacher_loss': 5.391034126281738}\n"
     ]
    },
    {
     "name": "stderr",
     "output_type": "stream",
     "text": [
      "Validating:  74%|███████▍  | 175/235 [02:19<00:47,  1.27it/s, loss=3.3853, avg_loss=3.5950]"
     ]
    },
    {
     "name": "stdout",
     "output_type": "stream",
     "text": [
      "{'kd_loss': 1.4460915327072144, 'feature_loss': 0.003140633925795555, 'ce_loss': 7.931138038635254, 'cont_loss': 2.8258419036865234, 'teacher_loss': 5.3832597732543945}\n"
     ]
    },
    {
     "name": "stderr",
     "output_type": "stream",
     "text": [
      "Validating:  75%|███████▍  | 176/235 [02:20<00:46,  1.27it/s, loss=3.3711, avg_loss=3.5938]"
     ]
    },
    {
     "name": "stdout",
     "output_type": "stream",
     "text": [
      "{'kd_loss': 1.2929311990737915, 'feature_loss': 0.0032623829320073128, 'ce_loss': 8.123143196105957, 'cont_loss': 2.873706340789795, 'teacher_loss': 5.20442533493042}\n"
     ]
    },
    {
     "name": "stderr",
     "output_type": "stream",
     "text": [
      "Validating:  75%|███████▌  | 177/235 [02:21<00:45,  1.27it/s, loss=3.2483, avg_loss=3.5918]"
     ]
    },
    {
     "name": "stdout",
     "output_type": "stream",
     "text": [
      "{'kd_loss': 1.0931837558746338, 'feature_loss': 0.003154892474412918, 'ce_loss': 8.049534797668457, 'cont_loss': 2.8652994632720947, 'teacher_loss': 5.03920841217041}\n"
     ]
    },
    {
     "name": "stderr",
     "output_type": "stream",
     "text": [
      "Validating:  76%|███████▌  | 178/235 [02:21<00:44,  1.27it/s, loss=3.4487, avg_loss=3.5910]"
     ]
    },
    {
     "name": "stdout",
     "output_type": "stream",
     "text": [
      "{'kd_loss': 1.561202049255371, 'feature_loss': 0.0030834584031254053, 'ce_loss': 7.944232940673828, 'cont_loss': 2.845702648162842, 'teacher_loss': 4.802492618560791}\n"
     ]
    },
    {
     "name": "stderr",
     "output_type": "stream",
     "text": [
      "Validating:  76%|███████▌  | 179/235 [02:22<00:44,  1.27it/s, loss=3.6632, avg_loss=3.5914]"
     ]
    },
    {
     "name": "stdout",
     "output_type": "stream",
     "text": [
      "{'kd_loss': 2.0178894996643066, 'feature_loss': 0.003012250177562237, 'ce_loss': 7.892669677734375, 'cont_loss': 2.861041307449341, 'teacher_loss': 6.037540435791016}\n"
     ]
    },
    {
     "name": "stderr",
     "output_type": "stream",
     "text": [
      "Validating:  77%|███████▋  | 180/235 [02:23<00:43,  1.27it/s, loss=3.4469, avg_loss=3.5906]"
     ]
    },
    {
     "name": "stdout",
     "output_type": "stream",
     "text": [
      "{'kd_loss': 1.4841474294662476, 'feature_loss': 0.0030943453311920166, 'ce_loss': 8.052180290222168, 'cont_loss': 2.888916015625, 'teacher_loss': 4.859800815582275}\n"
     ]
    },
    {
     "name": "stderr",
     "output_type": "stream",
     "text": [
      "Validating:  77%|███████▋  | 181/235 [02:24<00:42,  1.27it/s, loss=3.7424, avg_loss=3.5914]"
     ]
    },
    {
     "name": "stdout",
     "output_type": "stream",
     "text": [
      "{'kd_loss': 2.0149502754211426, 'feature_loss': 0.002948735374957323, 'ce_loss': 8.158506393432617, 'cont_loss': 2.871199607849121, 'teacher_loss': 5.601811408996582}\n"
     ]
    },
    {
     "name": "stderr",
     "output_type": "stream",
     "text": [
      "Validating:  77%|███████▋  | 182/235 [02:25<00:41,  1.27it/s, loss=3.4759, avg_loss=3.5908]"
     ]
    },
    {
     "name": "stdout",
     "output_type": "stream",
     "text": [
      "{'kd_loss': 1.5551724433898926, 'feature_loss': 0.0031417561694979668, 'ce_loss': 8.027170181274414, 'cont_loss': 2.898223876953125, 'teacher_loss': 5.130978584289551}\n"
     ]
    },
    {
     "name": "stderr",
     "output_type": "stream",
     "text": [
      "Validating:  78%|███████▊  | 183/235 [02:25<00:40,  1.27it/s, loss=3.3844, avg_loss=3.5897]"
     ]
    },
    {
     "name": "stdout",
     "output_type": "stream",
     "text": [
      "{'kd_loss': 1.3483505249023438, 'feature_loss': 0.0032014413736760616, 'ce_loss': 8.064723014831543, 'cont_loss': 2.905263662338257, 'teacher_loss': 5.589204788208008}\n"
     ]
    },
    {
     "name": "stderr",
     "output_type": "stream",
     "text": [
      "Validating:  78%|███████▊  | 184/235 [02:26<00:40,  1.27it/s, loss=3.5523, avg_loss=3.5895]"
     ]
    },
    {
     "name": "stdout",
     "output_type": "stream",
     "text": [
      "{'kd_loss': 1.664738655090332, 'feature_loss': 0.0031406874768435955, 'ce_loss': 8.098851203918457, 'cont_loss': 2.8992624282836914, 'teacher_loss': 5.734683990478516}\n"
     ]
    },
    {
     "name": "stderr",
     "output_type": "stream",
     "text": [
      "Validating:  79%|███████▊  | 185/235 [02:27<00:39,  1.27it/s, loss=3.3734, avg_loss=3.5883]"
     ]
    },
    {
     "name": "stdout",
     "output_type": "stream",
     "text": [
      "{'kd_loss': 1.3247092962265015, 'feature_loss': 0.003168871160596609, 'ce_loss': 8.056285858154297, 'cont_loss': 2.93866229057312, 'teacher_loss': 5.465595245361328}\n"
     ]
    },
    {
     "name": "stderr",
     "output_type": "stream",
     "text": [
      "Validating:  79%|███████▉  | 186/235 [02:28<00:38,  1.27it/s, loss=3.5484, avg_loss=3.5881]"
     ]
    },
    {
     "name": "stdout",
     "output_type": "stream",
     "text": [
      "{'kd_loss': 1.6574349403381348, 'feature_loss': 0.003101243171840906, 'ce_loss': 8.091510772705078, 'cont_loss': 2.919593572616577, 'teacher_loss': 4.772294521331787}\n"
     ]
    },
    {
     "name": "stderr",
     "output_type": "stream",
     "text": [
      "Validating:  80%|███████▉  | 187/235 [02:28<00:37,  1.27it/s, loss=3.5780, avg_loss=3.5880]"
     ]
    },
    {
     "name": "stdout",
     "output_type": "stream",
     "text": [
      "{'kd_loss': 1.712807536125183, 'feature_loss': 0.0031588387209922075, 'ce_loss': 8.095669746398926, 'cont_loss': 2.925346612930298, 'teacher_loss': 5.411693572998047}\n"
     ]
    },
    {
     "name": "stderr",
     "output_type": "stream",
     "text": [
      "Validating:  80%|████████  | 188/235 [02:29<00:37,  1.27it/s, loss=3.3549, avg_loss=3.5868]"
     ]
    },
    {
     "name": "stdout",
     "output_type": "stream",
     "text": [
      "{'kd_loss': 1.3263587951660156, 'feature_loss': 0.003232201561331749, 'ce_loss': 7.9911017417907715, 'cont_loss': 2.9402122497558594, 'teacher_loss': 5.474159240722656}\n"
     ]
    },
    {
     "name": "stderr",
     "output_type": "stream",
     "text": [
      "Validating:  80%|████████  | 189/235 [02:30<00:36,  1.27it/s, loss=3.7356, avg_loss=3.5876]"
     ]
    },
    {
     "name": "stdout",
     "output_type": "stream",
     "text": [
      "{'kd_loss': 2.058701515197754, 'feature_loss': 0.0030674226582050323, 'ce_loss': 8.037643432617188, 'cont_loss': 2.9469330310821533, 'teacher_loss': 5.658881187438965}\n"
     ]
    },
    {
     "name": "stderr",
     "output_type": "stream",
     "text": [
      "Validating:  81%|████████  | 190/235 [02:31<00:35,  1.27it/s, loss=3.5665, avg_loss=3.5875]"
     ]
    },
    {
     "name": "stdout",
     "output_type": "stream",
     "text": [
      "{'kd_loss': 1.7589232921600342, 'feature_loss': 0.0030661877244710922, 'ce_loss': 7.991796016693115, 'cont_loss': 2.891873359680176, 'teacher_loss': 5.325150966644287}\n"
     ]
    },
    {
     "name": "stderr",
     "output_type": "stream",
     "text": [
      "Validating:  81%|████████▏ | 191/235 [02:32<00:34,  1.27it/s, loss=3.5773, avg_loss=3.5874]"
     ]
    },
    {
     "name": "stdout",
     "output_type": "stream",
     "text": [
      "{'kd_loss': 1.781402349472046, 'feature_loss': 0.003129500662907958, 'ce_loss': 7.973891735076904, 'cont_loss': 2.941455125808716, 'teacher_loss': 6.048364162445068}\n"
     ]
    },
    {
     "name": "stderr",
     "output_type": "stream",
     "text": [
      "Validating:  82%|████████▏ | 192/235 [02:32<00:33,  1.27it/s, loss=3.5558, avg_loss=3.5873]"
     ]
    },
    {
     "name": "stdout",
     "output_type": "stream",
     "text": [
      "{'kd_loss': 1.6908650398254395, 'feature_loss': 0.0030708673875778913, 'ce_loss': 8.047651290893555, 'cont_loss': 2.957388162612915, 'teacher_loss': 5.295731544494629}\n"
     ]
    },
    {
     "name": "stderr",
     "output_type": "stream",
     "text": [
      "Validating:  82%|████████▏ | 193/235 [02:33<00:33,  1.27it/s, loss=3.5215, avg_loss=3.5869]"
     ]
    },
    {
     "name": "stdout",
     "output_type": "stream",
     "text": [
      "{'kd_loss': 1.7068583965301514, 'feature_loss': 0.0031595700420439243, 'ce_loss': 7.907294750213623, 'cont_loss': 2.956130266189575, 'teacher_loss': 5.115553855895996}\n"
     ]
    },
    {
     "name": "stderr",
     "output_type": "stream",
     "text": [
      "Validating:  83%|████████▎ | 194/235 [02:34<00:32,  1.27it/s, loss=3.5048, avg_loss=3.5865]"
     ]
    },
    {
     "name": "stdout",
     "output_type": "stream",
     "text": [
      "{'kd_loss': 1.6161645650863647, 'feature_loss': 0.003224396612495184, 'ce_loss': 7.998749732971191, 'cont_loss': 2.9673047065734863, 'teacher_loss': 4.695139408111572}\n"
     ]
    },
    {
     "name": "stderr",
     "output_type": "stream",
     "text": [
      "Validating:  83%|████████▎ | 195/235 [02:35<00:31,  1.27it/s, loss=3.5599, avg_loss=3.5864]"
     ]
    },
    {
     "name": "stdout",
     "output_type": "stream",
     "text": [
      "{'kd_loss': 1.6453065872192383, 'feature_loss': 0.00311187538318336, 'ce_loss': 8.132911682128906, 'cont_loss': 2.970540761947632, 'teacher_loss': 5.258142471313477}\n"
     ]
    },
    {
     "name": "stderr",
     "output_type": "stream",
     "text": [
      "Validating:  83%|████████▎ | 196/235 [02:36<00:30,  1.27it/s, loss=3.4231, avg_loss=3.5855]"
     ]
    },
    {
     "name": "stdout",
     "output_type": "stream",
     "text": [
      "{'kd_loss': 1.3829013109207153, 'feature_loss': 0.0032296348363161087, 'ce_loss': 8.102200508117676, 'cont_loss': 3.0064945220947266, 'teacher_loss': 5.763285160064697}\n"
     ]
    },
    {
     "name": "stderr",
     "output_type": "stream",
     "text": [
      "Validating:  84%|████████▍ | 197/235 [02:36<00:29,  1.27it/s, loss=3.5884, avg_loss=3.5855]"
     ]
    },
    {
     "name": "stdout",
     "output_type": "stream",
     "text": [
      "{'kd_loss': 1.7894835472106934, 'feature_loss': 0.0031502828933298588, 'ce_loss': 7.989274501800537, 'cont_loss': 2.965505599975586, 'teacher_loss': 5.105972766876221}\n"
     ]
    },
    {
     "name": "stderr",
     "output_type": "stream",
     "text": [
      "Validating:  84%|████████▍ | 198/235 [02:37<00:29,  1.27it/s, loss=3.4422, avg_loss=3.5848]"
     ]
    },
    {
     "name": "stdout",
     "output_type": "stream",
     "text": [
      "{'kd_loss': 1.437175989151001, 'feature_loss': 0.003087821416556835, 'ce_loss': 8.086676597595215, 'cont_loss': 2.973419666290283, 'teacher_loss': 5.631483554840088}\n"
     ]
    },
    {
     "name": "stderr",
     "output_type": "stream",
     "text": [
      "Validating:  85%|████████▍ | 199/235 [02:38<00:28,  1.27it/s, loss=3.4559, avg_loss=3.5842]"
     ]
    },
    {
     "name": "stdout",
     "output_type": "stream",
     "text": [
      "{'kd_loss': 1.4394969940185547, 'feature_loss': 0.003221546532586217, 'ce_loss': 8.112783432006836, 'cont_loss': 3.019965648651123, 'teacher_loss': 5.968355655670166}\n"
     ]
    },
    {
     "name": "stderr",
     "output_type": "stream",
     "text": [
      "Validating:  85%|████████▌ | 200/235 [02:39<00:27,  1.27it/s, loss=3.2731, avg_loss=3.5826]"
     ]
    },
    {
     "name": "stdout",
     "output_type": "stream",
     "text": [
      "{'kd_loss': 1.1216355562210083, 'feature_loss': 0.0031403799075633287, 'ce_loss': 8.03368091583252, 'cont_loss': 3.018751621246338, 'teacher_loss': 4.891584873199463}\n"
     ]
    },
    {
     "name": "stderr",
     "output_type": "stream",
     "text": [
      "Validating:  86%|████████▌ | 201/235 [02:39<00:26,  1.27it/s, loss=3.5436, avg_loss=3.5824]"
     ]
    },
    {
     "name": "stdout",
     "output_type": "stream",
     "text": [
      "{'kd_loss': 1.6607838869094849, 'feature_loss': 0.0031287914607673883, 'ce_loss': 8.036884307861328, 'cont_loss': 3.018141269683838, 'teacher_loss': 5.56084680557251}\n"
     ]
    },
    {
     "name": "stderr",
     "output_type": "stream",
     "text": [
      "Validating:  86%|████████▌ | 202/235 [02:40<00:25,  1.27it/s, loss=3.5933, avg_loss=3.5825]"
     ]
    },
    {
     "name": "stdout",
     "output_type": "stream",
     "text": [
      "{'kd_loss': 1.8213436603546143, 'feature_loss': 0.0030599702149629593, 'ce_loss': 7.937634468078613, 'cont_loss': 3.01046085357666, 'teacher_loss': 5.71783447265625}\n"
     ]
    },
    {
     "name": "stderr",
     "output_type": "stream",
     "text": [
      "Validating:  86%|████████▋ | 203/235 [02:41<00:25,  1.27it/s, loss=3.4214, avg_loss=3.5817]"
     ]
    },
    {
     "name": "stdout",
     "output_type": "stream",
     "text": [
      "{'kd_loss': 1.429825782775879, 'feature_loss': 0.0032156077213585377, 'ce_loss': 8.003040313720703, 'cont_loss': 3.052276134490967, 'teacher_loss': 5.9924821853637695}\n"
     ]
    },
    {
     "name": "stderr",
     "output_type": "stream",
     "text": [
      "Validating:  87%|████████▋ | 204/235 [02:42<00:24,  1.27it/s, loss=3.4687, avg_loss=3.5811]"
     ]
    },
    {
     "name": "stdout",
     "output_type": "stream",
     "text": [
      "{'kd_loss': 1.5083379745483398, 'feature_loss': 0.0032110922038555145, 'ce_loss': 8.036057472229004, 'cont_loss': 3.0342535972595215, 'teacher_loss': 5.0584492683410645}\n"
     ]
    },
    {
     "name": "stderr",
     "output_type": "stream",
     "text": [
      "Validating:  87%|████████▋ | 205/235 [02:43<00:23,  1.27it/s, loss=3.4984, avg_loss=3.5807]"
     ]
    },
    {
     "name": "stdout",
     "output_type": "stream",
     "text": [
      "{'kd_loss': 1.537583827972412, 'feature_loss': 0.0031996110919862986, 'ce_loss': 8.07901668548584, 'cont_loss': 3.055732250213623, 'teacher_loss': 5.443021297454834}\n"
     ]
    },
    {
     "name": "stderr",
     "output_type": "stream",
     "text": [
      "Validating:  88%|████████▊ | 206/235 [02:43<00:22,  1.27it/s, loss=3.5104, avg_loss=3.5804]"
     ]
    },
    {
     "name": "stdout",
     "output_type": "stream",
     "text": [
      "{'kd_loss': 1.5254384279251099, 'feature_loss': 0.003190003102645278, 'ce_loss': 8.141739845275879, 'cont_loss': 3.048363208770752, 'teacher_loss': 5.5302815437316895}\n"
     ]
    },
    {
     "name": "stderr",
     "output_type": "stream",
     "text": [
      "Validating:  88%|████████▊ | 207/235 [02:44<00:22,  1.27it/s, loss=3.3072, avg_loss=3.5791]"
     ]
    },
    {
     "name": "stdout",
     "output_type": "stream",
     "text": [
      "{'kd_loss': 1.1971724033355713, 'feature_loss': 0.0033028970938175917, 'ce_loss': 7.998337745666504, 'cont_loss': 3.088083267211914, 'teacher_loss': 5.247677803039551}\n"
     ]
    },
    {
     "name": "stderr",
     "output_type": "stream",
     "text": [
      "Validating:  89%|████████▊ | 208/235 [02:45<00:21,  1.27it/s, loss=3.4100, avg_loss=3.5782]"
     ]
    },
    {
     "name": "stdout",
     "output_type": "stream",
     "text": [
      "{'kd_loss': 1.346699833869934, 'feature_loss': 0.003155320417135954, 'ce_loss': 8.089436531066895, 'cont_loss': 3.095322370529175, 'teacher_loss': 6.233453273773193}\n"
     ]
    },
    {
     "name": "stderr",
     "output_type": "stream",
     "text": [
      "Validating:  89%|████████▉ | 209/235 [02:46<00:20,  1.27it/s, loss=3.4033, avg_loss=3.5774]"
     ]
    },
    {
     "name": "stdout",
     "output_type": "stream",
     "text": [
      "{'kd_loss': 1.4021438360214233, 'feature_loss': 0.0032588690519332886, 'ce_loss': 7.981053352355957, 'cont_loss': 3.0754520893096924, 'teacher_loss': 5.223365783691406}\n"
     ]
    },
    {
     "name": "stderr",
     "output_type": "stream",
     "text": [
      "Validating:  89%|████████▉ | 210/235 [02:47<00:19,  1.27it/s, loss=3.4161, avg_loss=3.5766]"
     ]
    },
    {
     "name": "stdout",
     "output_type": "stream",
     "text": [
      "{'kd_loss': 1.4215669631958008, 'feature_loss': 0.0031497804448008537, 'ce_loss': 7.993826866149902, 'cont_loss': 3.06864595413208, 'teacher_loss': 5.875310897827148}\n"
     ]
    },
    {
     "name": "stderr",
     "output_type": "stream",
     "text": [
      "Validating:  90%|████████▉ | 211/235 [02:47<00:18,  1.27it/s, loss=3.4369, avg_loss=3.5760]"
     ]
    },
    {
     "name": "stdout",
     "output_type": "stream",
     "text": [
      "{'kd_loss': 1.5063652992248535, 'feature_loss': 0.0031636112835258245, 'ce_loss': 7.912108421325684, 'cont_loss': 3.0972650051116943, 'teacher_loss': 4.919402122497559}\n"
     ]
    },
    {
     "name": "stderr",
     "output_type": "stream",
     "text": [
      "Validating:  90%|█████████ | 212/235 [02:48<00:18,  1.27it/s, loss=3.4753, avg_loss=3.5755]"
     ]
    },
    {
     "name": "stdout",
     "output_type": "stream",
     "text": [
      "{'kd_loss': 1.5335004329681396, 'feature_loss': 0.0031798812560737133, 'ce_loss': 7.992892742156982, 'cont_loss': 3.1036155223846436, 'teacher_loss': 5.382241249084473}\n"
     ]
    },
    {
     "name": "stderr",
     "output_type": "stream",
     "text": [
      "Validating:  91%|█████████ | 213/235 [02:49<00:17,  1.27it/s, loss=3.3154, avg_loss=3.5743]"
     ]
    },
    {
     "name": "stdout",
     "output_type": "stream",
     "text": [
      "{'kd_loss': 1.1924681663513184, 'feature_loss': 0.0033276889007538557, 'ce_loss': 8.023026466369629, 'cont_loss': 3.1192686557769775, 'teacher_loss': 5.506835460662842}\n"
     ]
    },
    {
     "name": "stderr",
     "output_type": "stream",
     "text": [
      "Validating:  91%|█████████ | 214/235 [02:50<00:16,  1.27it/s, loss=3.4173, avg_loss=3.5735]"
     ]
    },
    {
     "name": "stdout",
     "output_type": "stream",
     "text": [
      "{'kd_loss': 1.362903356552124, 'feature_loss': 0.003194645745679736, 'ce_loss': 8.075753211975098, 'cont_loss': 3.1280930042266846, 'teacher_loss': 5.728796005249023}\n"
     ]
    },
    {
     "name": "stderr",
     "output_type": "stream",
     "text": [
      "Validating:  91%|█████████▏| 215/235 [02:50<00:15,  1.27it/s, loss=3.4490, avg_loss=3.5730]"
     ]
    },
    {
     "name": "stdout",
     "output_type": "stream",
     "text": [
      "{'kd_loss': 1.4415522813796997, 'feature_loss': 0.003207799978554249, 'ce_loss': 8.050826072692871, 'cont_loss': 3.126739978790283, 'teacher_loss': 6.401697158813477}\n"
     ]
    },
    {
     "name": "stderr",
     "output_type": "stream",
     "text": [
      "Validating:  92%|█████████▏| 216/235 [02:51<00:14,  1.27it/s, loss=3.3773, avg_loss=3.5721]"
     ]
    },
    {
     "name": "stdout",
     "output_type": "stream",
     "text": [
      "{'kd_loss': 1.3152356147766113, 'feature_loss': 0.003191797761246562, 'ce_loss': 8.02753734588623, 'cont_loss': 3.1112773418426514, 'teacher_loss': 5.816985130310059}\n"
     ]
    },
    {
     "name": "stderr",
     "output_type": "stream",
     "text": [
      "Validating:  92%|█████████▏| 217/235 [02:52<00:14,  1.27it/s, loss=3.2815, avg_loss=3.5707]"
     ]
    },
    {
     "name": "stdout",
     "output_type": "stream",
     "text": [
      "{'kd_loss': 1.091179370880127, 'feature_loss': 0.0032584203872829676, 'ce_loss': 8.06891918182373, 'cont_loss': 3.1489295959472656, 'teacher_loss': 5.495334625244141}\n"
     ]
    },
    {
     "name": "stderr",
     "output_type": "stream",
     "text": [
      "Validating:  93%|█████████▎| 218/235 [02:53<00:13,  1.27it/s, loss=3.3973, avg_loss=3.5699]"
     ]
    },
    {
     "name": "stdout",
     "output_type": "stream",
     "text": [
      "{'kd_loss': 1.3232324123382568, 'feature_loss': 0.003208888927474618, 'ce_loss': 8.069450378417969, 'cont_loss': 3.1448822021484375, 'teacher_loss': 5.603645324707031}\n"
     ]
    },
    {
     "name": "stderr",
     "output_type": "stream",
     "text": [
      "Validating:  93%|█████████▎| 219/235 [02:54<00:12,  1.27it/s, loss=3.4086, avg_loss=3.5692]"
     ]
    },
    {
     "name": "stdout",
     "output_type": "stream",
     "text": [
      "{'kd_loss': 1.3215954303741455, 'feature_loss': 0.003256323281675577, 'ce_loss': 8.110838890075684, 'cont_loss': 3.142672061920166, 'teacher_loss': 5.397741317749023}\n"
     ]
    },
    {
     "name": "stderr",
     "output_type": "stream",
     "text": [
      "Validating:  94%|█████████▎| 220/235 [02:54<00:11,  1.27it/s, loss=3.4903, avg_loss=3.5688]"
     ]
    },
    {
     "name": "stdout",
     "output_type": "stream",
     "text": [
      "{'kd_loss': 1.4946458339691162, 'feature_loss': 0.0031617735512554646, 'ce_loss': 8.09241771697998, 'cont_loss': 3.149029493331909, 'teacher_loss': 5.900835990905762}\n"
     ]
    },
    {
     "name": "stderr",
     "output_type": "stream",
     "text": [
      "Validating:  94%|█████████▍| 221/235 [02:55<00:11,  1.27it/s, loss=3.3211, avg_loss=3.5677]"
     ]
    },
    {
     "name": "stdout",
     "output_type": "stream",
     "text": [
      "{'kd_loss': 1.1724780797958374, 'feature_loss': 0.0032197078689932823, 'ce_loss': 8.051996231079102, 'cont_loss': 3.1892786026000977, 'teacher_loss': 5.795750617980957}\n"
     ]
    },
    {
     "name": "stderr",
     "output_type": "stream",
     "text": [
      "Validating:  94%|█████████▍| 222/235 [02:56<00:10,  1.27it/s, loss=3.3056, avg_loss=3.5665]"
     ]
    },
    {
     "name": "stdout",
     "output_type": "stream",
     "text": [
      "{'kd_loss': 1.1637071371078491, 'feature_loss': 0.003294441383332014, 'ce_loss': 8.015912055969238, 'cont_loss': 3.186038017272949, 'teacher_loss': 5.863242149353027}\n"
     ]
    },
    {
     "name": "stderr",
     "output_type": "stream",
     "text": [
      "Validating:  95%|█████████▍| 223/235 [02:57<00:09,  1.27it/s, loss=3.4910, avg_loss=3.5662]"
     ]
    },
    {
     "name": "stdout",
     "output_type": "stream",
     "text": [
      "{'kd_loss': 1.5311949253082275, 'feature_loss': 0.0031746323220431805, 'ce_loss': 8.02992057800293, 'cont_loss': 3.1607465744018555, 'teacher_loss': 4.975896835327148}\n"
     ]
    },
    {
     "name": "stderr",
     "output_type": "stream",
     "text": [
      "Validating:  95%|█████████▌| 224/235 [02:58<00:08,  1.27it/s, loss=3.2979, avg_loss=3.5650]"
     ]
    },
    {
     "name": "stdout",
     "output_type": "stream",
     "text": [
      "{'kd_loss': 1.117903470993042, 'feature_loss': 0.003196227364242077, 'ce_loss': 8.071105003356934, 'cont_loss': 3.17337703704834, 'teacher_loss': 5.3090500831604}\n"
     ]
    },
    {
     "name": "stderr",
     "output_type": "stream",
     "text": [
      "Validating:  96%|█████████▌| 225/235 [02:58<00:07,  1.27it/s, loss=3.4228, avg_loss=3.5644]"
     ]
    },
    {
     "name": "stdout",
     "output_type": "stream",
     "text": [
      "{'kd_loss': 1.3659247159957886, 'feature_loss': 0.0032774414867162704, 'ce_loss': 8.064099311828613, 'cont_loss': 3.2024149894714355, 'teacher_loss': 5.231884956359863}\n"
     ]
    },
    {
     "name": "stderr",
     "output_type": "stream",
     "text": [
      "Validating:  96%|█████████▌| 226/235 [02:59<00:07,  1.27it/s, loss=3.3442, avg_loss=3.5634]"
     ]
    },
    {
     "name": "stdout",
     "output_type": "stream",
     "text": [
      "{'kd_loss': 1.251786231994629, 'feature_loss': 0.003142732661217451, 'ce_loss': 7.996916770935059, 'cont_loss': 3.189201831817627, 'teacher_loss': 5.340346336364746}\n"
     ]
    },
    {
     "name": "stderr",
     "output_type": "stream",
     "text": [
      "Validating:  97%|█████████▋| 227/235 [03:00<00:06,  1.27it/s, loss=3.5532, avg_loss=3.5633]"
     ]
    },
    {
     "name": "stdout",
     "output_type": "stream",
     "text": [
      "{'kd_loss': 1.6134963035583496, 'feature_loss': 0.0031826558988541365, 'ce_loss': 8.081382751464844, 'cont_loss': 3.2166996002197266, 'teacher_loss': 5.422986030578613}\n"
     ]
    },
    {
     "name": "stderr",
     "output_type": "stream",
     "text": [
      "Validating:  97%|█████████▋| 228/235 [03:01<00:05,  1.27it/s, loss=3.4881, avg_loss=3.5630]"
     ]
    },
    {
     "name": "stdout",
     "output_type": "stream",
     "text": [
      "{'kd_loss': 1.4949960708618164, 'feature_loss': 0.0032219886779785156, 'ce_loss': 8.069732666015625, 'cont_loss': 3.1940622329711914, 'teacher_loss': 5.544132232666016}\n"
     ]
    },
    {
     "name": "stderr",
     "output_type": "stream",
     "text": [
      "Validating:  97%|█████████▋| 229/235 [03:02<00:04,  1.27it/s, loss=3.5355, avg_loss=3.5629]"
     ]
    },
    {
     "name": "stdout",
     "output_type": "stream",
     "text": [
      "{'kd_loss': 1.582524299621582, 'feature_loss': 0.0030585327185690403, 'ce_loss': 8.072242736816406, 'cont_loss': 3.222466468811035, 'teacher_loss': 5.74850606918335}\n"
     ]
    },
    {
     "name": "stderr",
     "output_type": "stream",
     "text": [
      "Validating:  98%|█████████▊| 230/235 [03:02<00:03,  1.27it/s, loss=3.3998, avg_loss=3.5622]"
     ]
    },
    {
     "name": "stdout",
     "output_type": "stream",
     "text": [
      "{'kd_loss': 1.2599351406097412, 'feature_loss': 0.003252871334552765, 'ce_loss': 8.141521453857422, 'cont_loss': 3.2707691192626953, 'teacher_loss': 5.413475036621094}\n"
     ]
    },
    {
     "name": "stderr",
     "output_type": "stream",
     "text": [
      "Validating:  98%|█████████▊| 231/235 [03:03<00:03,  1.27it/s, loss=3.5616, avg_loss=3.5622]"
     ]
    },
    {
     "name": "stdout",
     "output_type": "stream",
     "text": [
      "{'kd_loss': 1.5994906425476074, 'feature_loss': 0.0031847581267356873, 'ce_loss': 8.121468544006348, 'cont_loss': 3.2509565353393555, 'teacher_loss': 5.870904445648193}\n"
     ]
    },
    {
     "name": "stderr",
     "output_type": "stream",
     "text": [
      "Validating:  99%|█████████▊| 232/235 [03:04<00:02,  1.27it/s, loss=3.3595, avg_loss=3.5613]"
     ]
    },
    {
     "name": "stdout",
     "output_type": "stream",
     "text": [
      "{'kd_loss': 1.2473156452178955, 'feature_loss': 0.00307904789224267, 'ce_loss': 8.0397310256958, 'cont_loss': 3.236368179321289, 'teacher_loss': 5.1188249588012695}\n"
     ]
    },
    {
     "name": "stderr",
     "output_type": "stream",
     "text": [
      "Validating:  99%|█████████▉| 233/235 [03:05<00:01,  1.27it/s, loss=3.4045, avg_loss=3.5606]"
     ]
    },
    {
     "name": "stdout",
     "output_type": "stream",
     "text": [
      "{'kd_loss': 1.3205770254135132, 'feature_loss': 0.0032274285331368446, 'ce_loss': 8.054137229919434, 'cont_loss': 3.27653431892395, 'teacher_loss': 5.874127388000488}\n"
     ]
    },
    {
     "name": "stderr",
     "output_type": "stream",
     "text": [
      "Validating: 100%|█████████▉| 234/235 [03:05<00:00,  1.27it/s, loss=3.3862, avg_loss=3.5599]"
     ]
    },
    {
     "name": "stdout",
     "output_type": "stream",
     "text": [
      "{'kd_loss': 1.2636582851409912, 'feature_loss': 0.0031881947070360184, 'ce_loss': 8.10067081451416, 'cont_loss': 3.2385740280151367, 'teacher_loss': 5.161657333374023}\n"
     ]
    },
    {
     "name": "stderr",
     "output_type": "stream",
     "text": [
      "Validating: 100%|██████████| 235/235 [03:06<00:00,  1.26it/s, loss=3.3482, avg_loss=3.5590]"
     ]
    },
    {
     "name": "stdout",
     "output_type": "stream",
     "text": [
      "{'kd_loss': 1.454854965209961, 'feature_loss': 0.0032433264423161745, 'ce_loss': 7.956070423126221, 'cont_loss': 2.336458921432495, 'teacher_loss': 5.903496265411377}\n",
      "Epoch 3 | Train Loss: 3.7406 | Val Loss: 3.5590 | Top1 Acc: 0.01 | Top5 Acc: 0.03\n"
     ]
    },
    {
     "name": "stderr",
     "output_type": "stream",
     "text": [
      "\n",
      "Training: 100%|██████████| 1875/1875 [17:08<00:00,  1.82it/s, loss=3.8801, avg_loss=3.7221, lr=3.14e-5]\n",
      "Validating:   0%|          | 1/235 [00:02<09:29,  2.43s/it, loss=2.9966, avg_loss=2.9966]"
     ]
    },
    {
     "name": "stdout",
     "output_type": "stream",
     "text": [
      "{'kd_loss': 1.4055454730987549, 'feature_loss': 0.0028005673084408045, 'ce_loss': 7.169357776641846, 'cont_loss': 1.4278161525726318, 'teacher_loss': 4.966235637664795}\n"
     ]
    },
    {
     "name": "stderr",
     "output_type": "stream",
     "text": [
      "Validating:   1%|          | 2/235 [00:03<05:41,  1.46s/it, loss=3.2166, avg_loss=3.1066]"
     ]
    },
    {
     "name": "stdout",
     "output_type": "stream",
     "text": [
      "{'kd_loss': 1.6264574527740479, 'feature_loss': 0.0027931546792387962, 'ce_loss': 7.513603687286377, 'cont_loss': 1.490601658821106, 'teacher_loss': 4.657885551452637}\n"
     ]
    },
    {
     "name": "stderr",
     "output_type": "stream",
     "text": [
      "Validating:   1%|▏         | 3/235 [00:04<04:27,  1.15s/it, loss=3.4465, avg_loss=3.2199]"
     ]
    },
    {
     "name": "stdout",
     "output_type": "stream",
     "text": [
      "{'kd_loss': 1.8428291082382202, 'feature_loss': 0.0029731495305895805, 'ce_loss': 7.930724143981934, 'cont_loss': 1.4558258056640625, 'teacher_loss': 4.814909934997559}\n"
     ]
    },
    {
     "name": "stderr",
     "output_type": "stream",
     "text": [
      "Validating:   2%|▏         | 4/235 [00:04<03:52,  1.01s/it, loss=3.2985, avg_loss=3.2396]"
     ]
    },
    {
     "name": "stdout",
     "output_type": "stream",
     "text": [
      "{'kd_loss': 2.077296018600464, 'feature_loss': 0.0026833820156753063, 'ce_loss': 7.056501388549805, 'cont_loss': 1.4262070655822754, 'teacher_loss': 4.723506927490234}\n"
     ]
    },
    {
     "name": "stderr",
     "output_type": "stream",
     "text": [
      "Validating:   2%|▏         | 5/235 [00:05<03:32,  1.08it/s, loss=3.5748, avg_loss=3.3066]"
     ]
    },
    {
     "name": "stdout",
     "output_type": "stream",
     "text": [
      "{'kd_loss': 2.7024528980255127, 'feature_loss': 0.0024794908240437508, 'ce_loss': 6.944022178649902, 'cont_loss': 1.4014168977737427, 'teacher_loss': 6.340062618255615}\n"
     ]
    },
    {
     "name": "stderr",
     "output_type": "stream",
     "text": [
      "Validating:   3%|▎         | 6/235 [00:06<03:21,  1.14it/s, loss=2.8625, avg_loss=3.2326]"
     ]
    },
    {
     "name": "stdout",
     "output_type": "stream",
     "text": [
      "{'kd_loss': 0.9405814409255981, 'feature_loss': 0.003188741859048605, 'ce_loss': 7.481710910797119, 'cont_loss': 1.4736942052841187, 'teacher_loss': 3.08560848236084}\n"
     ]
    },
    {
     "name": "stderr",
     "output_type": "stream",
     "text": [
      "Validating:   3%|▎         | 7/235 [00:07<03:13,  1.18it/s, loss=3.2298, avg_loss=3.2322]"
     ]
    },
    {
     "name": "stdout",
     "output_type": "stream",
     "text": [
      "{'kd_loss': 1.8669558763504028, 'feature_loss': 0.0026533796917647123, 'ce_loss': 7.177006244659424, 'cont_loss': 1.429506540298462, 'teacher_loss': 5.011308670043945}\n"
     ]
    },
    {
     "name": "stderr",
     "output_type": "stream",
     "text": [
      "Validating:   3%|▎         | 8/235 [00:07<03:08,  1.21it/s, loss=3.7574, avg_loss=3.2979]"
     ]
    },
    {
     "name": "stdout",
     "output_type": "stream",
     "text": [
      "{'kd_loss': 2.6744384765625, 'feature_loss': 0.0026823875959962606, 'ce_loss': 7.5878520011901855, 'cont_loss': 1.4356164932250977, 'teacher_loss': 4.609827518463135}\n"
     ]
    },
    {
     "name": "stderr",
     "output_type": "stream",
     "text": [
      "Validating:   4%|▍         | 9/235 [00:08<03:04,  1.22it/s, loss=4.2831, avg_loss=3.4073]"
     ]
    },
    {
     "name": "stdout",
     "output_type": "stream",
     "text": [
      "{'kd_loss': 3.8470401763916016, 'feature_loss': 0.0024202170316129923, 'ce_loss': 7.3849196434021, 'cont_loss': 1.4389607906341553, 'teacher_loss': 5.630387783050537}\n"
     ]
    },
    {
     "name": "stderr",
     "output_type": "stream",
     "text": [
      "Validating:   4%|▍         | 10/235 [00:09<03:01,  1.24it/s, loss=3.6993, avg_loss=3.4365]"
     ]
    },
    {
     "name": "stdout",
     "output_type": "stream",
     "text": [
      "{'kd_loss': 2.9348697662353516, 'feature_loss': 0.0025976072065532207, 'ce_loss': 6.95651388168335, 'cont_loss': 1.446861743927002, 'teacher_loss': 5.505288600921631}\n"
     ]
    },
    {
     "name": "stderr",
     "output_type": "stream",
     "text": [
      "Validating:   5%|▍         | 11/235 [00:10<02:59,  1.25it/s, loss=3.0595, avg_loss=3.4022]"
     ]
    },
    {
     "name": "stdout",
     "output_type": "stream",
     "text": [
      "{'kd_loss': 1.290059208869934, 'feature_loss': 0.0028650211170315742, 'ce_loss': 7.5667643547058105, 'cont_loss': 1.4410865306854248, 'teacher_loss': 3.790924310684204}\n"
     ]
    },
    {
     "name": "stderr",
     "output_type": "stream",
     "text": [
      "Validating:   5%|▌         | 12/235 [00:11<02:58,  1.25it/s, loss=3.8880, avg_loss=3.4427]"
     ]
    },
    {
     "name": "stdout",
     "output_type": "stream",
     "text": [
      "{'kd_loss': 2.678607225418091, 'feature_loss': 0.002577932318672538, 'ce_loss': 8.020328521728516, 'cont_loss': 1.4237465858459473, 'teacher_loss': 4.247450351715088}\n"
     ]
    },
    {
     "name": "stderr",
     "output_type": "stream",
     "text": [
      "Validating:   6%|▌         | 13/235 [00:11<02:56,  1.26it/s, loss=3.4208, avg_loss=3.4410]"
     ]
    },
    {
     "name": "stdout",
     "output_type": "stream",
     "text": [
      "{'kd_loss': 1.8242173194885254, 'feature_loss': 0.0028505052905529737, 'ce_loss': 7.890529155731201, 'cont_loss': 1.4129517078399658, 'teacher_loss': 4.089354515075684}\n"
     ]
    },
    {
     "name": "stderr",
     "output_type": "stream",
     "text": [
      "Validating:   6%|▌         | 14/235 [00:12<02:55,  1.26it/s, loss=3.1581, avg_loss=3.4208]"
     ]
    },
    {
     "name": "stdout",
     "output_type": "stream",
     "text": [
      "{'kd_loss': 1.3590638637542725, 'feature_loss': 0.0031736406963318586, 'ce_loss': 7.75856876373291, 'cont_loss': 1.5064246654510498, 'teacher_loss': 3.7906758785247803}\n"
     ]
    },
    {
     "name": "stderr",
     "output_type": "stream",
     "text": [
      "Validating:   6%|▋         | 15/235 [00:13<02:53,  1.26it/s, loss=3.7311, avg_loss=3.4415]"
     ]
    },
    {
     "name": "stdout",
     "output_type": "stream",
     "text": [
      "{'kd_loss': 2.81217360496521, 'feature_loss': 0.002676470670849085, 'ce_loss': 7.284707546234131, 'cont_loss': 1.3930935859680176, 'teacher_loss': 4.087841987609863}\n"
     ]
    },
    {
     "name": "stderr",
     "output_type": "stream",
     "text": [
      "Validating:   7%|▋         | 16/235 [00:14<02:52,  1.27it/s, loss=3.4478, avg_loss=3.4419]"
     ]
    },
    {
     "name": "stdout",
     "output_type": "stream",
     "text": [
      "{'kd_loss': 2.1326961517333984, 'feature_loss': 0.002939579077064991, 'ce_loss': 7.455560684204102, 'cont_loss': 1.445389747619629, 'teacher_loss': 5.316176414489746}\n"
     ]
    },
    {
     "name": "stderr",
     "output_type": "stream",
     "text": [
      "Validating:   7%|▋         | 17/235 [00:15<02:51,  1.27it/s, loss=3.0646, avg_loss=3.4197]"
     ]
    },
    {
     "name": "stdout",
     "output_type": "stream",
     "text": [
      "{'kd_loss': 1.705082654953003, 'feature_loss': 0.0030146772041916847, 'ce_loss': 6.890035629272461, 'cont_loss': 1.4473743438720703, 'teacher_loss': 4.543539524078369}\n"
     ]
    },
    {
     "name": "stderr",
     "output_type": "stream",
     "text": [
      "Validating:   8%|▊         | 18/235 [00:15<02:50,  1.27it/s, loss=3.6969, avg_loss=3.4351]"
     ]
    },
    {
     "name": "stdout",
     "output_type": "stream",
     "text": [
      "{'kd_loss': 2.555194854736328, 'feature_loss': 0.00273372745141387, 'ce_loss': 7.584323406219482, 'cont_loss': 1.4373551607131958, 'teacher_loss': 3.585273504257202}\n"
     ]
    },
    {
     "name": "stderr",
     "output_type": "stream",
     "text": [
      "Validating:   8%|▊         | 19/235 [00:16<02:50,  1.27it/s, loss=3.5992, avg_loss=3.4438]"
     ]
    },
    {
     "name": "stdout",
     "output_type": "stream",
     "text": [
      "{'kd_loss': 2.329061508178711, 'feature_loss': 0.002738425973802805, 'ce_loss': 7.635234832763672, 'cont_loss': 1.4382604360580444, 'teacher_loss': 4.741626739501953}\n"
     ]
    },
    {
     "name": "stderr",
     "output_type": "stream",
     "text": [
      "Validating:   9%|▊         | 20/235 [00:17<02:49,  1.27it/s, loss=4.1873, avg_loss=3.4809]"
     ]
    },
    {
     "name": "stdout",
     "output_type": "stream",
     "text": [
      "{'kd_loss': 3.3859496116638184, 'feature_loss': 0.002576524391770363, 'ce_loss': 7.828448295593262, 'cont_loss': 1.4557888507843018, 'teacher_loss': 5.030045986175537}\n"
     ]
    },
    {
     "name": "stderr",
     "output_type": "stream",
     "text": [
      "Validating:   9%|▉         | 21/235 [00:18<02:48,  1.27it/s, loss=3.9424, avg_loss=3.5029]"
     ]
    },
    {
     "name": "stdout",
     "output_type": "stream",
     "text": [
      "{'kd_loss': 3.1139211654663086, 'feature_loss': 0.0025279216933995485, 'ce_loss': 7.4592084884643555, 'cont_loss': 1.4746348857879639, 'teacher_loss': 5.08076286315918}\n"
     ]
    },
    {
     "name": "stderr",
     "output_type": "stream",
     "text": [
      "Validating:   9%|▉         | 22/235 [00:18<02:47,  1.27it/s, loss=4.1700, avg_loss=3.5332]"
     ]
    },
    {
     "name": "stdout",
     "output_type": "stream",
     "text": [
      "{'kd_loss': 3.7185115814208984, 'feature_loss': 0.002398878335952759, 'ce_loss': 7.208752632141113, 'cont_loss': 1.4788973331451416, 'teacher_loss': 6.696371078491211}\n"
     ]
    },
    {
     "name": "stderr",
     "output_type": "stream",
     "text": [
      "Validating:  10%|▉         | 23/235 [00:19<02:47,  1.27it/s, loss=3.0535, avg_loss=3.5124]"
     ]
    },
    {
     "name": "stdout",
     "output_type": "stream",
     "text": [
      "{'kd_loss': 1.254421353340149, 'feature_loss': 0.003016664879396558, 'ce_loss': 7.60167121887207, 'cont_loss': 1.4546778202056885, 'teacher_loss': 5.096865177154541}\n"
     ]
    },
    {
     "name": "stderr",
     "output_type": "stream",
     "text": [
      "Validating:  10%|█         | 24/235 [00:20<02:46,  1.27it/s, loss=3.4105, avg_loss=3.5081]"
     ]
    },
    {
     "name": "stdout",
     "output_type": "stream",
     "text": [
      "{'kd_loss': 2.0925192832946777, 'feature_loss': 0.0028783935122191906, 'ce_loss': 7.398847579956055, 'cont_loss': 1.4428842067718506, 'teacher_loss': 4.002964019775391}\n"
     ]
    },
    {
     "name": "stderr",
     "output_type": "stream",
     "text": [
      "Validating:  11%|█         | 25/235 [00:21<02:45,  1.27it/s, loss=3.4491, avg_loss=3.5058]"
     ]
    },
    {
     "name": "stdout",
     "output_type": "stream",
     "text": [
      "{'kd_loss': 2.001272201538086, 'feature_loss': 0.002841163659468293, 'ce_loss': 7.673839569091797, 'cont_loss': 1.460326910018921, 'teacher_loss': 4.1917853355407715}\n"
     ]
    },
    {
     "name": "stderr",
     "output_type": "stream",
     "text": [
      "Validating:  11%|█         | 26/235 [00:22<02:44,  1.27it/s, loss=3.0324, avg_loss=3.4876]"
     ]
    },
    {
     "name": "stdout",
     "output_type": "stream",
     "text": [
      "{'kd_loss': 1.0416632890701294, 'feature_loss': 0.0031535180751234293, 'ce_loss': 7.883488655090332, 'cont_loss': 1.462040901184082, 'teacher_loss': 3.6332314014434814}\n"
     ]
    },
    {
     "name": "stderr",
     "output_type": "stream",
     "text": [
      "Validating:  11%|█▏        | 27/235 [00:22<02:43,  1.27it/s, loss=3.5196, avg_loss=3.4887]"
     ]
    },
    {
     "name": "stdout",
     "output_type": "stream",
     "text": [
      "{'kd_loss': 2.026066780090332, 'feature_loss': 0.002711209934204817, 'ce_loss': 7.880475997924805, 'cont_loss': 1.42196524143219, 'teacher_loss': 3.7020528316497803}\n"
     ]
    },
    {
     "name": "stderr",
     "output_type": "stream",
     "text": [
      "Validating:  12%|█▏        | 28/235 [00:23<02:42,  1.27it/s, loss=3.6876, avg_loss=3.4959]"
     ]
    },
    {
     "name": "stdout",
     "output_type": "stream",
     "text": [
      "{'kd_loss': 2.417807102203369, 'feature_loss': 0.0028301312122493982, 'ce_loss': 7.779670238494873, 'cont_loss': 1.4450323581695557, 'teacher_loss': 4.643075942993164}\n"
     ]
    },
    {
     "name": "stderr",
     "output_type": "stream",
     "text": [
      "Validating:  12%|█▏        | 29/235 [00:24<02:42,  1.27it/s, loss=3.4225, avg_loss=3.4933]"
     ]
    },
    {
     "name": "stdout",
     "output_type": "stream",
     "text": [
      "{'kd_loss': 2.457475185394287, 'feature_loss': 0.002711531240493059, 'ce_loss': 6.827053070068359, 'cont_loss': 1.453876256942749, 'teacher_loss': 4.58756685256958}\n"
     ]
    },
    {
     "name": "stderr",
     "output_type": "stream",
     "text": [
      "Validating:  13%|█▎        | 30/235 [00:25<02:41,  1.27it/s, loss=3.6832, avg_loss=3.4996]"
     ]
    },
    {
     "name": "stdout",
     "output_type": "stream",
     "text": [
      "{'kd_loss': 2.775515079498291, 'feature_loss': 0.0028118600603193045, 'ce_loss': 7.2030110359191895, 'cont_loss': 1.3423612117767334, 'teacher_loss': 2.522311210632324}\n"
     ]
    },
    {
     "name": "stderr",
     "output_type": "stream",
     "text": [
      "Validating:  13%|█▎        | 31/235 [00:26<02:40,  1.27it/s, loss=3.4991, avg_loss=3.4996]"
     ]
    },
    {
     "name": "stdout",
     "output_type": "stream",
     "text": [
      "{'kd_loss': 2.0174577236175537, 'feature_loss': 0.002879226580262184, 'ce_loss': 7.8270087242126465, 'cont_loss': 1.4198102951049805, 'teacher_loss': 6.4663004875183105}\n"
     ]
    },
    {
     "name": "stderr",
     "output_type": "stream",
     "text": [
      "Validating:  14%|█▎        | 32/235 [00:26<02:39,  1.27it/s, loss=3.7442, avg_loss=3.5073]"
     ]
    },
    {
     "name": "stdout",
     "output_type": "stream",
     "text": [
      "{'kd_loss': 2.716078042984009, 'feature_loss': 0.002744280733168125, 'ce_loss': 7.46724796295166, 'cont_loss': 1.4569555521011353, 'teacher_loss': 5.853275775909424}\n"
     ]
    },
    {
     "name": "stderr",
     "output_type": "stream",
     "text": [
      "Validating:  14%|█▍        | 33/235 [00:27<02:39,  1.27it/s, loss=3.9055, avg_loss=3.5193]"
     ]
    },
    {
     "name": "stdout",
     "output_type": "stream",
     "text": [
      "{'kd_loss': 3.0333967208862305, 'feature_loss': 0.002686037216335535, 'ce_loss': 7.483642578125, 'cont_loss': 1.434328556060791, 'teacher_loss': 4.135639667510986}\n"
     ]
    },
    {
     "name": "stderr",
     "output_type": "stream",
     "text": [
      "Validating:  14%|█▍        | 34/235 [00:28<02:38,  1.27it/s, loss=3.0770, avg_loss=3.5063]"
     ]
    },
    {
     "name": "stdout",
     "output_type": "stream",
     "text": [
      "{'kd_loss': 1.4440478086471558, 'feature_loss': 0.0029968624003231525, 'ce_loss': 7.374507427215576, 'cont_loss': 1.423370122909546, 'teacher_loss': 3.009982109069824}\n"
     ]
    },
    {
     "name": "stderr",
     "output_type": "stream",
     "text": [
      "Validating:  15%|█▍        | 35/235 [00:29<02:37,  1.27it/s, loss=3.3855, avg_loss=3.5029]"
     ]
    },
    {
     "name": "stdout",
     "output_type": "stream",
     "text": [
      "{'kd_loss': 2.1402392387390137, 'feature_loss': 0.0027391030453145504, 'ce_loss': 7.251737117767334, 'cont_loss': 1.3955209255218506, 'teacher_loss': 3.595963478088379}\n"
     ]
    },
    {
     "name": "stderr",
     "output_type": "stream",
     "text": [
      "Validating:  15%|█▌        | 36/235 [00:29<02:36,  1.27it/s, loss=3.9357, avg_loss=3.5149]"
     ]
    },
    {
     "name": "stdout",
     "output_type": "stream",
     "text": [
      "{'kd_loss': 3.3467206954956055, 'feature_loss': 0.002386205829679966, 'ce_loss': 7.0428466796875, 'cont_loss': 1.4927499294281006, 'teacher_loss': 6.541497230529785}\n"
     ]
    },
    {
     "name": "stderr",
     "output_type": "stream",
     "text": [
      "Validating:  16%|█▌        | 37/235 [00:30<02:36,  1.27it/s, loss=4.1540, avg_loss=3.5322]"
     ]
    },
    {
     "name": "stdout",
     "output_type": "stream",
     "text": [
      "{'kd_loss': 3.6784942150115967, 'feature_loss': 0.0023943737614899874, 'ce_loss': 7.208470821380615, 'cont_loss': 1.51951265335083, 'teacher_loss': 4.859466552734375}\n"
     ]
    },
    {
     "name": "stderr",
     "output_type": "stream",
     "text": [
      "Validating:  16%|█▌        | 38/235 [00:31<02:35,  1.27it/s, loss=3.2966, avg_loss=3.5260]"
     ]
    },
    {
     "name": "stdout",
     "output_type": "stream",
     "text": [
      "{'kd_loss': 1.6985976696014404, 'feature_loss': 0.0031529420521110296, 'ce_loss': 7.653449535369873, 'cont_loss': 1.509040117263794, 'teacher_loss': 3.189868450164795}\n"
     ]
    },
    {
     "name": "stderr",
     "output_type": "stream",
     "text": [
      "Validating:  17%|█▋        | 39/235 [00:32<02:34,  1.27it/s, loss=3.9971, avg_loss=3.5381]"
     ]
    },
    {
     "name": "stdout",
     "output_type": "stream",
     "text": [
      "{'kd_loss': 3.36641263961792, 'feature_loss': 0.0025257111992686987, 'ce_loss': 7.226262092590332, 'cont_loss': 1.457230806350708, 'teacher_loss': 5.420814514160156}\n"
     ]
    },
    {
     "name": "stderr",
     "output_type": "stream",
     "text": [
      "Validating:  17%|█▋        | 40/235 [00:33<02:33,  1.27it/s, loss=4.5594, avg_loss=3.5636]"
     ]
    },
    {
     "name": "stdout",
     "output_type": "stream",
     "text": [
      "{'kd_loss': 4.476607799530029, 'feature_loss': 0.002096732845529914, 'ce_loss': 7.184060096740723, 'cont_loss': 1.6565968990325928, 'teacher_loss': 6.551448345184326}\n"
     ]
    },
    {
     "name": "stderr",
     "output_type": "stream",
     "text": [
      "Validating:  17%|█▋        | 41/235 [00:33<02:32,  1.27it/s, loss=3.3272, avg_loss=3.5578]"
     ]
    },
    {
     "name": "stdout",
     "output_type": "stream",
     "text": [
      "{'kd_loss': 1.771986722946167, 'feature_loss': 0.0028265747241675854, 'ce_loss': 7.628152847290039, 'cont_loss': 1.5248534679412842, 'teacher_loss': 4.527106761932373}\n"
     ]
    },
    {
     "name": "stderr",
     "output_type": "stream",
     "text": [
      "Validating:  18%|█▊        | 42/235 [00:34<02:31,  1.27it/s, loss=3.6035, avg_loss=3.5589]"
     ]
    },
    {
     "name": "stdout",
     "output_type": "stream",
     "text": [
      "{'kd_loss': 2.5365734100341797, 'feature_loss': 0.002783209551125765, 'ce_loss': 7.276182651519775, 'cont_loss': 1.521285891532898, 'teacher_loss': 4.845343589782715}\n"
     ]
    },
    {
     "name": "stderr",
     "output_type": "stream",
     "text": [
      "Validating:  18%|█▊        | 43/235 [00:35<02:31,  1.27it/s, loss=3.0635, avg_loss=3.5474]"
     ]
    },
    {
     "name": "stdout",
     "output_type": "stream",
     "text": [
      "{'kd_loss': 1.1077882051467896, 'feature_loss': 0.0032790550030767918, 'ce_loss': 7.879489898681641, 'cont_loss': 1.4542336463928223, 'teacher_loss': 2.085045576095581}\n"
     ]
    },
    {
     "name": "stderr",
     "output_type": "stream",
     "text": [
      "Validating:  19%|█▊        | 44/235 [00:36<02:30,  1.27it/s, loss=4.0295, avg_loss=3.5583]"
     ]
    },
    {
     "name": "stdout",
     "output_type": "stream",
     "text": [
      "{'kd_loss': 3.1800527572631836, 'feature_loss': 0.0026191018987447023, 'ce_loss': 7.628949165344238, 'cont_loss': 1.5057660341262817, 'teacher_loss': 4.926685333251953}\n"
     ]
    },
    {
     "name": "stderr",
     "output_type": "stream",
     "text": [
      "Validating:  19%|█▉        | 45/235 [00:37<02:29,  1.27it/s, loss=3.8033, avg_loss=3.5638]"
     ]
    },
    {
     "name": "stdout",
     "output_type": "stream",
     "text": [
      "{'kd_loss': 2.6677114963531494, 'feature_loss': 0.002799729583784938, 'ce_loss': 7.714088439941406, 'cont_loss': 1.5497561693191528, 'teacher_loss': 4.583687782287598}\n"
     ]
    },
    {
     "name": "stderr",
     "output_type": "stream",
     "text": [
      "Validating:  20%|█▉        | 46/235 [00:37<02:28,  1.27it/s, loss=3.1526, avg_loss=3.5549]"
     ]
    },
    {
     "name": "stdout",
     "output_type": "stream",
     "text": [
      "{'kd_loss': 1.6134474277496338, 'feature_loss': 0.002983352867886424, 'ce_loss': 7.301928520202637, 'cont_loss': 1.5501718521118164, 'teacher_loss': 3.747220039367676}\n"
     ]
    },
    {
     "name": "stderr",
     "output_type": "stream",
     "text": [
      "Validating:  20%|██        | 47/235 [00:38<02:28,  1.27it/s, loss=4.0348, avg_loss=3.5651]"
     ]
    },
    {
     "name": "stdout",
     "output_type": "stream",
     "text": [
      "{'kd_loss': 3.1867516040802, 'feature_loss': 0.002467910759150982, 'ce_loss': 7.625633716583252, 'cont_loss': 1.534382700920105, 'teacher_loss': 4.306313514709473}\n"
     ]
    },
    {
     "name": "stderr",
     "output_type": "stream",
     "text": [
      "Validating:  20%|██        | 48/235 [00:39<02:27,  1.27it/s, loss=3.0904, avg_loss=3.5552]"
     ]
    },
    {
     "name": "stdout",
     "output_type": "stream",
     "text": [
      "{'kd_loss': 1.7235604524612427, 'feature_loss': 0.0029739667661488056, 'ce_loss': 6.915590763092041, 'cont_loss': 1.536942481994629, 'teacher_loss': 3.3974339962005615}\n"
     ]
    },
    {
     "name": "stderr",
     "output_type": "stream",
     "text": [
      "Validating:  21%|██        | 49/235 [00:40<02:26,  1.27it/s, loss=3.4785, avg_loss=3.5536]"
     ]
    },
    {
     "name": "stdout",
     "output_type": "stream",
     "text": [
      "{'kd_loss': 2.0613036155700684, 'feature_loss': 0.0027415170334279537, 'ce_loss': 7.622220516204834, 'cont_loss': 1.6095607280731201, 'teacher_loss': 4.466012001037598}\n"
     ]
    },
    {
     "name": "stderr",
     "output_type": "stream",
     "text": [
      "Validating:  21%|██▏       | 50/235 [00:41<02:25,  1.27it/s, loss=3.3303, avg_loss=3.5491]"
     ]
    },
    {
     "name": "stdout",
     "output_type": "stream",
     "text": [
      "{'kd_loss': 1.7522085905075073, 'feature_loss': 0.0029156720265746117, 'ce_loss': 7.644679069519043, 'cont_loss': 1.6048710346221924, 'teacher_loss': 2.84950590133667}\n"
     ]
    },
    {
     "name": "stderr",
     "output_type": "stream",
     "text": [
      "Validating:  22%|██▏       | 51/235 [00:41<02:24,  1.27it/s, loss=3.7293, avg_loss=3.5527]"
     ]
    },
    {
     "name": "stdout",
     "output_type": "stream",
     "text": [
      "{'kd_loss': 2.5182013511657715, 'feature_loss': 0.0028105753008276224, 'ce_loss': 7.678267002105713, 'cont_loss': 1.6639760732650757, 'teacher_loss': 4.793875217437744}\n"
     ]
    },
    {
     "name": "stderr",
     "output_type": "stream",
     "text": [
      "Validating:  22%|██▏       | 52/235 [00:42<02:24,  1.27it/s, loss=4.0645, avg_loss=3.5625]"
     ]
    },
    {
     "name": "stdout",
     "output_type": "stream",
     "text": [
      "{'kd_loss': 3.0467689037323, 'feature_loss': 0.0025286972522735596, 'ce_loss': 7.919583797454834, 'cont_loss': 1.6500663757324219, 'teacher_loss': 4.817988395690918}\n"
     ]
    },
    {
     "name": "stderr",
     "output_type": "stream",
     "text": [
      "Validating:  23%|██▎       | 53/235 [00:43<02:23,  1.27it/s, loss=3.4386, avg_loss=3.5602]"
     ]
    },
    {
     "name": "stdout",
     "output_type": "stream",
     "text": [
      "{'kd_loss': 1.8196310997009277, 'feature_loss': 0.0029151393100619316, 'ce_loss': 7.856241703033447, 'cont_loss': 1.716447114944458, 'teacher_loss': 4.466169357299805}\n"
     ]
    },
    {
     "name": "stderr",
     "output_type": "stream",
     "text": [
      "Validating:  23%|██▎       | 54/235 [00:44<02:22,  1.27it/s, loss=3.2349, avg_loss=3.5542]"
     ]
    },
    {
     "name": "stdout",
     "output_type": "stream",
     "text": [
      "{'kd_loss': 1.7750611305236816, 'feature_loss': 0.0030735977925360203, 'ce_loss': 7.274783611297607, 'cont_loss': 1.6464626789093018, 'teacher_loss': 2.606766700744629}\n"
     ]
    },
    {
     "name": "stderr",
     "output_type": "stream",
     "text": [
      "Validating:  23%|██▎       | 55/235 [00:44<02:21,  1.27it/s, loss=3.0099, avg_loss=3.5443]"
     ]
    },
    {
     "name": "stdout",
     "output_type": "stream",
     "text": [
      "{'kd_loss': 1.402036428451538, 'feature_loss': 0.0031108141411095858, 'ce_loss': 7.145986080169678, 'cont_loss': 1.6476143598556519, 'teacher_loss': 4.073764324188232}\n"
     ]
    },
    {
     "name": "stderr",
     "output_type": "stream",
     "text": [
      "Validating:  24%|██▍       | 56/235 [00:45<02:20,  1.27it/s, loss=3.4241, avg_loss=3.5421]"
     ]
    },
    {
     "name": "stdout",
     "output_type": "stream",
     "text": [
      "{'kd_loss': 1.841486930847168, 'feature_loss': 0.0029794059228152037, 'ce_loss': 7.761541366577148, 'cont_loss': 1.7459412813186646, 'teacher_loss': 3.5804340839385986}\n"
     ]
    },
    {
     "name": "stderr",
     "output_type": "stream",
     "text": [
      "Validating:  24%|██▍       | 57/235 [00:46<02:20,  1.27it/s, loss=3.7507, avg_loss=3.5458]"
     ]
    },
    {
     "name": "stdout",
     "output_type": "stream",
     "text": [
      "{'kd_loss': 2.4061169624328613, 'feature_loss': 0.002960307989269495, 'ce_loss': 7.908464431762695, 'cont_loss': 1.7478108406066895, 'teacher_loss': 4.430019855499268}\n"
     ]
    },
    {
     "name": "stderr",
     "output_type": "stream",
     "text": [
      "Validating:  25%|██▍       | 58/235 [00:47<02:19,  1.27it/s, loss=3.8226, avg_loss=3.5505]"
     ]
    },
    {
     "name": "stdout",
     "output_type": "stream",
     "text": [
      "{'kd_loss': 2.776902437210083, 'feature_loss': 0.0026212334632873535, 'ce_loss': 7.522347450256348, 'cont_loss': 1.7716081142425537, 'teacher_loss': 6.420873165130615}\n"
     ]
    },
    {
     "name": "stderr",
     "output_type": "stream",
     "text": [
      "Validating:  25%|██▌       | 59/235 [00:48<02:18,  1.27it/s, loss=3.6789, avg_loss=3.5527]"
     ]
    },
    {
     "name": "stdout",
     "output_type": "stream",
     "text": [
      "{'kd_loss': 2.357388973236084, 'feature_loss': 0.002686223015189171, 'ce_loss': 7.746049404144287, 'cont_loss': 1.7614812850952148, 'teacher_loss': 4.265238285064697}\n"
     ]
    },
    {
     "name": "stderr",
     "output_type": "stream",
     "text": [
      "Validating:  26%|██▌       | 60/235 [00:48<02:17,  1.27it/s, loss=3.2717, avg_loss=3.5480]"
     ]
    },
    {
     "name": "stdout",
     "output_type": "stream",
     "text": [
      "{'kd_loss': 1.5715961456298828, 'feature_loss': 0.003101692069321871, 'ce_loss': 7.698421001434326, 'cont_loss': 1.761136531829834, 'teacher_loss': 4.137247562408447}\n"
     ]
    },
    {
     "name": "stderr",
     "output_type": "stream",
     "text": [
      "Validating:  26%|██▌       | 61/235 [00:49<02:16,  1.27it/s, loss=3.6146, avg_loss=3.5491]"
     ]
    },
    {
     "name": "stdout",
     "output_type": "stream",
     "text": [
      "{'kd_loss': 2.162324905395508, 'feature_loss': 0.002806673292070627, 'ce_loss': 7.849775791168213, 'cont_loss': 1.782141923904419, 'teacher_loss': 5.1890716552734375}\n"
     ]
    },
    {
     "name": "stderr",
     "output_type": "stream",
     "text": [
      "Validating:  26%|██▋       | 62/235 [00:50<02:16,  1.27it/s, loss=4.3031, avg_loss=3.5613]"
     ]
    },
    {
     "name": "stdout",
     "output_type": "stream",
     "text": [
      "{'kd_loss': 3.6551337242126465, 'feature_loss': 0.002476051216945052, 'ce_loss': 7.652736186981201, 'cont_loss': 1.7949416637420654, 'teacher_loss': 5.319032669067383}\n"
     ]
    },
    {
     "name": "stderr",
     "output_type": "stream",
     "text": [
      "Validating:  27%|██▋       | 63/235 [00:51<02:15,  1.27it/s, loss=3.8968, avg_loss=3.5666]"
     ]
    },
    {
     "name": "stdout",
     "output_type": "stream",
     "text": [
      "{'kd_loss': 2.780247449874878, 'feature_loss': 0.002715612296015024, 'ce_loss': 7.7622199058532715, 'cont_loss': 1.7769927978515625, 'teacher_loss': 4.662942409515381}\n"
     ]
    },
    {
     "name": "stderr",
     "output_type": "stream",
     "text": [
      "Validating:  27%|██▋       | 64/235 [00:52<02:14,  1.27it/s, loss=3.7383, avg_loss=3.5693]"
     ]
    },
    {
     "name": "stdout",
     "output_type": "stream",
     "text": [
      "{'kd_loss': 2.4134538173675537, 'feature_loss': 0.002828330500051379, 'ce_loss': 7.843984603881836, 'cont_loss': 1.781329870223999, 'teacher_loss': 4.232717990875244}\n"
     ]
    },
    {
     "name": "stderr",
     "output_type": "stream",
     "text": [
      "Validating:  28%|██▊       | 65/235 [00:52<02:13,  1.27it/s, loss=3.9449, avg_loss=3.5751]"
     ]
    },
    {
     "name": "stdout",
     "output_type": "stream",
     "text": [
      "{'kd_loss': 2.8619742393493652, 'feature_loss': 0.0027226870879530907, 'ce_loss': 7.772366523742676, 'cont_loss': 1.8195936679840088, 'teacher_loss': 4.946846008300781}\n"
     ]
    },
    {
     "name": "stderr",
     "output_type": "stream",
     "text": [
      "Validating:  28%|██▊       | 66/235 [00:53<02:13,  1.27it/s, loss=3.8202, avg_loss=3.5788]"
     ]
    },
    {
     "name": "stdout",
     "output_type": "stream",
     "text": [
      "{'kd_loss': 2.5891196727752686, 'feature_loss': 0.0025456217117607594, 'ce_loss': 7.827300071716309, 'cont_loss': 1.7719799280166626, 'teacher_loss': 4.899359703063965}\n"
     ]
    },
    {
     "name": "stderr",
     "output_type": "stream",
     "text": [
      "Validating:  29%|██▊       | 67/235 [00:54<02:12,  1.27it/s, loss=3.2345, avg_loss=3.5737]"
     ]
    },
    {
     "name": "stdout",
     "output_type": "stream",
     "text": [
      "{'kd_loss': 1.5647053718566895, 'feature_loss': 0.00280420808121562, 'ce_loss': 7.575465202331543, 'cont_loss': 1.792272925376892, 'teacher_loss': 5.114441394805908}\n"
     ]
    },
    {
     "name": "stderr",
     "output_type": "stream",
     "text": [
      "Validating:  29%|██▉       | 68/235 [00:55<02:11,  1.27it/s, loss=3.6779, avg_loss=3.5752]"
     ]
    },
    {
     "name": "stdout",
     "output_type": "stream",
     "text": [
      "{'kd_loss': 2.18536114692688, 'feature_loss': 0.0029333792626857758, 'ce_loss': 7.998656749725342, 'cont_loss': 1.8533415794372559, 'teacher_loss': 5.091311454772949}\n"
     ]
    },
    {
     "name": "stderr",
     "output_type": "stream",
     "text": [
      "Validating:  29%|██▉       | 69/235 [00:55<02:10,  1.27it/s, loss=3.5785, avg_loss=3.5752]"
     ]
    },
    {
     "name": "stdout",
     "output_type": "stream",
     "text": [
      "{'kd_loss': 2.082376003265381, 'feature_loss': 0.0028724409639835358, 'ce_loss': 7.8583984375, 'cont_loss': 1.7951582670211792, 'teacher_loss': 6.340798377990723}\n"
     ]
    },
    {
     "name": "stderr",
     "output_type": "stream",
     "text": [
      "Validating:  30%|██▉       | 70/235 [00:56<02:09,  1.27it/s, loss=3.5681, avg_loss=3.5751]"
     ]
    },
    {
     "name": "stdout",
     "output_type": "stream",
     "text": [
      "{'kd_loss': 2.1474714279174805, 'feature_loss': 0.0027233045548200607, 'ce_loss': 7.7071075439453125, 'cont_loss': 1.8194615840911865, 'teacher_loss': 4.550319194793701}\n"
     ]
    },
    {
     "name": "stderr",
     "output_type": "stream",
     "text": [
      "Validating:  30%|███       | 71/235 [00:57<02:09,  1.27it/s, loss=3.4134, avg_loss=3.5729]"
     ]
    },
    {
     "name": "stdout",
     "output_type": "stream",
     "text": [
      "{'kd_loss': 1.8319194316864014, 'feature_loss': 0.002982204779982567, 'ce_loss': 7.698538780212402, 'cont_loss': 1.8757309913635254, 'teacher_loss': 4.742304801940918}\n"
     ]
    },
    {
     "name": "stderr",
     "output_type": "stream",
     "text": [
      "Validating:  31%|███       | 72/235 [00:58<02:08,  1.27it/s, loss=3.5646, avg_loss=3.5727]"
     ]
    },
    {
     "name": "stdout",
     "output_type": "stream",
     "text": [
      "{'kd_loss': 1.9991512298583984, 'feature_loss': 0.0029358468018472195, 'ce_loss': 7.916950702667236, 'cont_loss': 1.8965651988983154, 'teacher_loss': 4.245956897735596}\n"
     ]
    },
    {
     "name": "stderr",
     "output_type": "stream",
     "text": [
      "Validating:  31%|███       | 73/235 [00:59<02:07,  1.27it/s, loss=3.6646, avg_loss=3.5740]"
     ]
    },
    {
     "name": "stdout",
     "output_type": "stream",
     "text": [
      "{'kd_loss': 2.19844388961792, 'feature_loss': 0.002769196406006813, 'ce_loss': 7.935327529907227, 'cont_loss': 1.8449820280075073, 'teacher_loss': 4.663463115692139}\n"
     ]
    },
    {
     "name": "stderr",
     "output_type": "stream",
     "text": [
      "Validating:  31%|███▏      | 74/235 [00:59<02:06,  1.27it/s, loss=3.9020, avg_loss=3.5784]"
     ]
    },
    {
     "name": "stdout",
     "output_type": "stream",
     "text": [
      "{'kd_loss': 2.6203951835632324, 'feature_loss': 0.0025716170202940702, 'ce_loss': 8.00067138671875, 'cont_loss': 1.9129936695098877, 'teacher_loss': 5.558338642120361}\n"
     ]
    },
    {
     "name": "stderr",
     "output_type": "stream",
     "text": [
      "Validating:  32%|███▏      | 75/235 [01:00<02:06,  1.27it/s, loss=4.2163, avg_loss=3.5869]"
     ]
    },
    {
     "name": "stdout",
     "output_type": "stream",
     "text": [
      "{'kd_loss': 3.0914406776428223, 'feature_loss': 0.0026532437186688185, 'ce_loss': 8.257234573364258, 'cont_loss': 1.9310998916625977, 'teacher_loss': 5.628835678100586}\n"
     ]
    },
    {
     "name": "stderr",
     "output_type": "stream",
     "text": [
      "Validating:  32%|███▏      | 76/235 [01:01<02:05,  1.27it/s, loss=3.2725, avg_loss=3.5828]"
     ]
    },
    {
     "name": "stdout",
     "output_type": "stream",
     "text": [
      "{'kd_loss': 1.4904359579086304, 'feature_loss': 0.0028694700449705124, 'ce_loss': 7.790355205535889, 'cont_loss': 1.8988010883331299, 'teacher_loss': 4.965051174163818}\n"
     ]
    },
    {
     "name": "stderr",
     "output_type": "stream",
     "text": [
      "Validating:  33%|███▎      | 77/235 [01:02<02:04,  1.27it/s, loss=3.4019, avg_loss=3.5805]"
     ]
    },
    {
     "name": "stdout",
     "output_type": "stream",
     "text": [
      "{'kd_loss': 1.7132959365844727, 'feature_loss': 0.002882289234548807, 'ce_loss': 7.830078125, 'cont_loss': 1.9595050811767578, 'teacher_loss': 4.661952018737793}\n"
     ]
    },
    {
     "name": "stderr",
     "output_type": "stream",
     "text": [
      "Validating:  33%|███▎      | 78/235 [01:03<02:03,  1.27it/s, loss=3.2604, avg_loss=3.5763]"
     ]
    },
    {
     "name": "stdout",
     "output_type": "stream",
     "text": [
      "{'kd_loss': 1.4775391817092896, 'feature_loss': 0.0031274312641471624, 'ce_loss': 7.764011859893799, 'cont_loss': 1.9213933944702148, 'teacher_loss': 4.191649436950684}\n"
     ]
    },
    {
     "name": "stderr",
     "output_type": "stream",
     "text": [
      "Validating:  34%|███▎      | 79/235 [01:03<02:02,  1.27it/s, loss=3.6613, avg_loss=3.5774]"
     ]
    },
    {
     "name": "stdout",
     "output_type": "stream",
     "text": [
      "{'kd_loss': 2.2962517738342285, 'feature_loss': 0.002685874467715621, 'ce_loss': 7.731623649597168, 'cont_loss': 1.933946132659912, 'teacher_loss': 4.604546070098877}\n"
     ]
    },
    {
     "name": "stderr",
     "output_type": "stream",
     "text": [
      "Validating:  34%|███▍      | 80/235 [01:04<02:02,  1.27it/s, loss=3.8200, avg_loss=3.5805]"
     ]
    },
    {
     "name": "stdout",
     "output_type": "stream",
     "text": [
      "{'kd_loss': 2.315948009490967, 'feature_loss': 0.002889811061322689, 'ce_loss': 8.208837509155273, 'cont_loss': 1.9912443161010742, 'teacher_loss': 5.125978469848633}\n"
     ]
    },
    {
     "name": "stderr",
     "output_type": "stream",
     "text": [
      "Validating:  34%|███▍      | 81/235 [01:05<02:01,  1.27it/s, loss=3.7028, avg_loss=3.5820]"
     ]
    },
    {
     "name": "stdout",
     "output_type": "stream",
     "text": [
      "{'kd_loss': 2.220841646194458, 'feature_loss': 0.0029027285054326057, 'ce_loss': 7.981827735900879, 'cont_loss': 1.9750311374664307, 'teacher_loss': 3.784525156021118}\n"
     ]
    },
    {
     "name": "stderr",
     "output_type": "stream",
     "text": [
      "Validating:  35%|███▍      | 82/235 [01:06<02:00,  1.27it/s, loss=3.8548, avg_loss=3.5853]"
     ]
    },
    {
     "name": "stdout",
     "output_type": "stream",
     "text": [
      "{'kd_loss': 2.6359710693359375, 'feature_loss': 0.002700457349419594, 'ce_loss': 7.787933826446533, 'cont_loss': 2.0015711784362793, 'teacher_loss': 4.560909748077393}\n"
     ]
    },
    {
     "name": "stderr",
     "output_type": "stream",
     "text": [
      "Validating:  35%|███▌      | 83/235 [01:06<01:59,  1.27it/s, loss=4.0456, avg_loss=3.5908]"
     ]
    },
    {
     "name": "stdout",
     "output_type": "stream",
     "text": [
      "{'kd_loss': 2.5667948722839355, 'feature_loss': 0.0026577748358249664, 'ce_loss': 8.532693862915039, 'cont_loss': 2.0209155082702637, 'teacher_loss': 4.970784664154053}\n"
     ]
    },
    {
     "name": "stderr",
     "output_type": "stream",
     "text": [
      "Validating:  36%|███▌      | 84/235 [01:07<01:58,  1.27it/s, loss=3.7150, avg_loss=3.5923]"
     ]
    },
    {
     "name": "stdout",
     "output_type": "stream",
     "text": [
      "{'kd_loss': 2.480644702911377, 'feature_loss': 0.002765573328360915, 'ce_loss': 7.5832977294921875, 'cont_loss': 1.9936840534210205, 'teacher_loss': 3.7106544971466064}\n"
     ]
    },
    {
     "name": "stderr",
     "output_type": "stream",
     "text": [
      "Validating:  36%|███▌      | 85/235 [01:08<01:58,  1.27it/s, loss=3.3654, avg_loss=3.5896]"
     ]
    },
    {
     "name": "stdout",
     "output_type": "stream",
     "text": [
      "{'kd_loss': 1.6486217975616455, 'feature_loss': 0.0030727561097592115, 'ce_loss': 7.802330017089844, 'cont_loss': 2.0005784034729004, 'teacher_loss': 3.9709105491638184}\n"
     ]
    },
    {
     "name": "stderr",
     "output_type": "stream",
     "text": [
      "Validating:  37%|███▋      | 86/235 [01:09<01:57,  1.27it/s, loss=3.3931, avg_loss=3.5874]"
     ]
    },
    {
     "name": "stdout",
     "output_type": "stream",
     "text": [
      "{'kd_loss': 1.6808725595474243, 'feature_loss': 0.002980100456625223, 'ce_loss': 7.829168319702148, 'cont_loss': 2.036548614501953, 'teacher_loss': 4.223264694213867}\n"
     ]
    },
    {
     "name": "stderr",
     "output_type": "stream",
     "text": [
      "Validating:  37%|███▋      | 87/235 [01:10<01:56,  1.27it/s, loss=3.2863, avg_loss=3.5839]"
     ]
    },
    {
     "name": "stdout",
     "output_type": "stream",
     "text": [
      "{'kd_loss': 1.419010043144226, 'feature_loss': 0.0032238808926194906, 'ce_loss': 7.907895088195801, 'cont_loss': 2.0414962768554688, 'teacher_loss': 2.6742773056030273}\n"
     ]
    },
    {
     "name": "stderr",
     "output_type": "stream",
     "text": [
      "Validating:  37%|███▋      | 88/235 [01:10<01:55,  1.27it/s, loss=3.4492, avg_loss=3.5824]"
     ]
    },
    {
     "name": "stdout",
     "output_type": "stream",
     "text": [
      "{'kd_loss': 1.835440993309021, 'feature_loss': 0.003135420847684145, 'ce_loss': 7.752654552459717, 'cont_loss': 2.0541863441467285, 'teacher_loss': 4.046235084533691}\n"
     ]
    },
    {
     "name": "stderr",
     "output_type": "stream",
     "text": [
      "Validating:  38%|███▊      | 89/235 [01:11<01:55,  1.27it/s, loss=3.2901, avg_loss=3.5791]"
     ]
    },
    {
     "name": "stdout",
     "output_type": "stream",
     "text": [
      "{'kd_loss': 1.520469307899475, 'feature_loss': 0.002916832221671939, 'ce_loss': 7.738971710205078, 'cont_loss': 2.0787954330444336, 'teacher_loss': 4.646350860595703}\n"
     ]
    },
    {
     "name": "stderr",
     "output_type": "stream",
     "text": [
      "Validating:  38%|███▊      | 90/235 [01:12<01:54,  1.27it/s, loss=3.5983, avg_loss=3.5793]"
     ]
    },
    {
     "name": "stdout",
     "output_type": "stream",
     "text": [
      "{'kd_loss': 2.0146484375, 'feature_loss': 0.0030139368027448654, 'ce_loss': 7.948284149169922, 'cont_loss': 2.0616512298583984, 'teacher_loss': 4.908453464508057}\n"
     ]
    },
    {
     "name": "stderr",
     "output_type": "stream",
     "text": [
      "Validating:  39%|███▊      | 91/235 [01:13<01:53,  1.27it/s, loss=3.8367, avg_loss=3.5821]"
     ]
    },
    {
     "name": "stdout",
     "output_type": "stream",
     "text": [
      "{'kd_loss': 2.2963578701019287, 'feature_loss': 0.002855855505913496, 'ce_loss': 8.269708633422852, 'cont_loss': 2.0734074115753174, 'teacher_loss': 4.571231842041016}\n"
     ]
    },
    {
     "name": "stderr",
     "output_type": "stream",
     "text": [
      "Validating:  39%|███▉      | 92/235 [01:14<01:52,  1.27it/s, loss=4.0701, avg_loss=3.5874]"
     ]
    },
    {
     "name": "stdout",
     "output_type": "stream",
     "text": [
      "{'kd_loss': 2.702543258666992, 'feature_loss': 0.002608239185065031, 'ce_loss': 8.364887237548828, 'cont_loss': 2.090900182723999, 'teacher_loss': 5.342633247375488}\n"
     ]
    },
    {
     "name": "stderr",
     "output_type": "stream",
     "text": [
      "Validating:  40%|███▉      | 93/235 [01:14<01:51,  1.27it/s, loss=3.3180, avg_loss=3.5845]"
     ]
    },
    {
     "name": "stdout",
     "output_type": "stream",
     "text": [
      "{'kd_loss': 1.5893137454986572, 'feature_loss': 0.002850813791155815, 'ce_loss': 7.720198154449463, 'cont_loss': 2.06956148147583, 'teacher_loss': 4.553722858428955}\n"
     ]
    },
    {
     "name": "stderr",
     "output_type": "stream",
     "text": [
      "Validating:  40%|████      | 94/235 [01:15<01:51,  1.27it/s, loss=3.7270, avg_loss=3.5860]"
     ]
    },
    {
     "name": "stdout",
     "output_type": "stream",
     "text": [
      "{'kd_loss': 2.3472142219543457, 'feature_loss': 0.002701563760638237, 'ce_loss': 7.810185432434082, 'cont_loss': 2.1003518104553223, 'teacher_loss': 5.174091339111328}\n"
     ]
    },
    {
     "name": "stderr",
     "output_type": "stream",
     "text": [
      "Validating:  40%|████      | 95/235 [01:16<01:50,  1.27it/s, loss=3.3986, avg_loss=3.5841]"
     ]
    },
    {
     "name": "stdout",
     "output_type": "stream",
     "text": [
      "{'kd_loss': 1.5192216634750366, 'feature_loss': 0.003014178015291691, 'ce_loss': 8.085966110229492, 'cont_loss': 2.129154682159424, 'teacher_loss': 4.015500545501709}\n"
     ]
    },
    {
     "name": "stderr",
     "output_type": "stream",
     "text": [
      "Validating:  41%|████      | 96/235 [01:17<01:49,  1.27it/s, loss=3.4051, avg_loss=3.5822]"
     ]
    },
    {
     "name": "stdout",
     "output_type": "stream",
     "text": [
      "{'kd_loss': 1.8161954879760742, 'feature_loss': 0.002854805439710617, 'ce_loss': 7.613918781280518, 'cont_loss': 2.1250874996185303, 'teacher_loss': 3.9882853031158447}\n"
     ]
    },
    {
     "name": "stderr",
     "output_type": "stream",
     "text": [
      "Validating:  41%|████▏     | 97/235 [01:18<01:48,  1.27it/s, loss=3.5923, avg_loss=3.5823]"
     ]
    },
    {
     "name": "stdout",
     "output_type": "stream",
     "text": [
      "{'kd_loss': 1.930465579032898, 'feature_loss': 0.002874604193493724, 'ce_loss': 8.04688549041748, 'cont_loss': 2.126664161682129, 'teacher_loss': 5.176046848297119}\n"
     ]
    },
    {
     "name": "stderr",
     "output_type": "stream",
     "text": [
      "Validating:  42%|████▏     | 98/235 [01:18<01:47,  1.27it/s, loss=3.3523, avg_loss=3.5800]"
     ]
    },
    {
     "name": "stdout",
     "output_type": "stream",
     "text": [
      "{'kd_loss': 1.5675504207611084, 'feature_loss': 0.003073353786021471, 'ce_loss': 7.838511943817139, 'cont_loss': 2.166532039642334, 'teacher_loss': 4.623822212219238}\n"
     ]
    },
    {
     "name": "stderr",
     "output_type": "stream",
     "text": [
      "Validating:  42%|████▏     | 99/235 [01:19<01:47,  1.27it/s, loss=3.6814, avg_loss=3.5810]"
     ]
    },
    {
     "name": "stdout",
     "output_type": "stream",
     "text": [
      "{'kd_loss': 2.218722343444824, 'feature_loss': 0.0029158322140574455, 'ce_loss': 7.8393168449401855, 'cont_loss': 2.1992368698120117, 'teacher_loss': 4.634735107421875}\n"
     ]
    },
    {
     "name": "stderr",
     "output_type": "stream",
     "text": [
      "Validating:  43%|████▎     | 100/235 [01:20<01:46,  1.27it/s, loss=4.0425, avg_loss=3.5856]"
     ]
    },
    {
     "name": "stdout",
     "output_type": "stream",
     "text": [
      "{'kd_loss': 3.003063678741455, 'feature_loss': 0.0026377742178738117, 'ce_loss': 7.733264923095703, 'cont_loss': 2.2068796157836914, 'teacher_loss': 5.158545970916748}\n"
     ]
    },
    {
     "name": "stderr",
     "output_type": "stream",
     "text": [
      "Validating:  43%|████▎     | 101/235 [01:21<01:45,  1.27it/s, loss=3.7891, avg_loss=3.5876]"
     ]
    },
    {
     "name": "stdout",
     "output_type": "stream",
     "text": [
      "{'kd_loss': 2.4533653259277344, 'feature_loss': 0.0026968251913785934, 'ce_loss': 7.805849075317383, 'cont_loss': 2.204350233078003, 'teacher_loss': 4.580119609832764}\n"
     ]
    },
    {
     "name": "stderr",
     "output_type": "stream",
     "text": [
      "Validating:  43%|████▎     | 102/235 [01:21<01:44,  1.27it/s, loss=4.0754, avg_loss=3.5924]"
     ]
    },
    {
     "name": "stdout",
     "output_type": "stream",
     "text": [
      "{'kd_loss': 2.914994716644287, 'feature_loss': 0.0025565519463270903, 'ce_loss': 7.988094806671143, 'cont_loss': 2.2117888927459717, 'teacher_loss': 5.8075079917907715}\n"
     ]
    },
    {
     "name": "stderr",
     "output_type": "stream",
     "text": [
      "Validating:  44%|████▍     | 103/235 [01:22<01:44,  1.27it/s, loss=3.8000, avg_loss=3.5944]"
     ]
    },
    {
     "name": "stdout",
     "output_type": "stream",
     "text": [
      "{'kd_loss': 2.4246883392333984, 'feature_loss': 0.002769582439213991, 'ce_loss': 7.880139350891113, 'cont_loss': 2.2330126762390137, 'teacher_loss': 5.694183349609375}\n"
     ]
    },
    {
     "name": "stderr",
     "output_type": "stream",
     "text": [
      "Validating:  44%|████▍     | 104/235 [01:23<01:43,  1.27it/s, loss=4.0494, avg_loss=3.5988]"
     ]
    },
    {
     "name": "stdout",
     "output_type": "stream",
     "text": [
      "{'kd_loss': 2.987767219543457, 'feature_loss': 0.002537831198424101, 'ce_loss': 7.773522853851318, 'cont_loss': 2.232241153717041, 'teacher_loss': 5.599587917327881}\n"
     ]
    },
    {
     "name": "stderr",
     "output_type": "stream",
     "text": [
      "Validating:  45%|████▍     | 105/235 [01:24<01:42,  1.27it/s, loss=3.9520, avg_loss=3.6022]"
     ]
    },
    {
     "name": "stdout",
     "output_type": "stream",
     "text": [
      "{'kd_loss': 2.6383275985717773, 'feature_loss': 0.0026025783736258745, 'ce_loss': 8.02778148651123, 'cont_loss': 2.242572784423828, 'teacher_loss': 4.626960277557373}\n"
     ]
    },
    {
     "name": "stderr",
     "output_type": "stream",
     "text": [
      "Validating:  45%|████▌     | 106/235 [01:25<01:41,  1.27it/s, loss=3.4945, avg_loss=3.6011]"
     ]
    },
    {
     "name": "stdout",
     "output_type": "stream",
     "text": [
      "{'kd_loss': 1.810006856918335, 'feature_loss': 0.0029785556253045797, 'ce_loss': 7.874770641326904, 'cont_loss': 2.2673330307006836, 'teacher_loss': 4.45878791809082}\n"
     ]
    },
    {
     "name": "stderr",
     "output_type": "stream",
     "text": [
      "Validating:  46%|████▌     | 107/235 [01:25<01:40,  1.27it/s, loss=3.3144, avg_loss=3.5985]"
     ]
    },
    {
     "name": "stdout",
     "output_type": "stream",
     "text": [
      "{'kd_loss': 1.388073444366455, 'feature_loss': 0.0031845602206885815, 'ce_loss': 7.989721298217773, 'cont_loss': 2.2312538623809814, 'teacher_loss': 4.083365440368652}\n"
     ]
    },
    {
     "name": "stderr",
     "output_type": "stream",
     "text": [
      "Validating:  46%|████▌     | 108/235 [01:26<01:40,  1.27it/s, loss=3.4860, avg_loss=3.5974]"
     ]
    },
    {
     "name": "stdout",
     "output_type": "stream",
     "text": [
      "{'kd_loss': 1.7585835456848145, 'feature_loss': 0.003085669130086899, 'ce_loss': 7.943543910980225, 'cont_loss': 2.233333110809326, 'teacher_loss': 4.218729496002197}\n"
     ]
    },
    {
     "name": "stderr",
     "output_type": "stream",
     "text": [
      "Validating:  46%|████▋     | 109/235 [01:27<01:39,  1.27it/s, loss=3.5354, avg_loss=3.5969]"
     ]
    },
    {
     "name": "stdout",
     "output_type": "stream",
     "text": [
      "{'kd_loss': 2.002774715423584, 'feature_loss': 0.002736030612140894, 'ce_loss': 7.703726291656494, 'cont_loss': 2.2258381843566895, 'teacher_loss': 5.0143609046936035}\n"
     ]
    },
    {
     "name": "stderr",
     "output_type": "stream",
     "text": [
      "Validating:  47%|████▋     | 110/235 [01:28<01:38,  1.27it/s, loss=3.6555, avg_loss=3.5974]"
     ]
    },
    {
     "name": "stdout",
     "output_type": "stream",
     "text": [
      "{'kd_loss': 2.097095489501953, 'feature_loss': 0.0030256984755396843, 'ce_loss': 7.926890850067139, 'cont_loss': 2.2853646278381348, 'teacher_loss': 4.533738136291504}\n"
     ]
    },
    {
     "name": "stderr",
     "output_type": "stream",
     "text": [
      "Validating:  47%|████▋     | 111/235 [01:29<01:37,  1.27it/s, loss=3.7113, avg_loss=3.5984]"
     ]
    },
    {
     "name": "stdout",
     "output_type": "stream",
     "text": [
      "{'kd_loss': 2.241584062576294, 'feature_loss': 0.002995982300490141, 'ce_loss': 7.86201810836792, 'cont_loss': 2.3161888122558594, 'teacher_loss': 5.2545061111450195}\n"
     ]
    },
    {
     "name": "stderr",
     "output_type": "stream",
     "text": [
      "Validating:  48%|████▊     | 112/235 [01:29<01:36,  1.27it/s, loss=3.3578, avg_loss=3.5963]"
     ]
    },
    {
     "name": "stdout",
     "output_type": "stream",
     "text": [
      "{'kd_loss': 1.5362353324890137, 'feature_loss': 0.0030982554890215397, 'ce_loss': 7.870991230010986, 'cont_loss': 2.280487537384033, 'teacher_loss': 4.333891868591309}\n"
     ]
    },
    {
     "name": "stderr",
     "output_type": "stream",
     "text": [
      "Validating:  48%|████▊     | 113/235 [01:30<01:35,  1.27it/s, loss=3.5668, avg_loss=3.5960]"
     ]
    },
    {
     "name": "stdout",
     "output_type": "stream",
     "text": [
      "{'kd_loss': 1.9385673999786377, 'feature_loss': 0.0027696879114955664, 'ce_loss': 7.895229339599609, 'cont_loss': 2.2870540618896484, 'teacher_loss': 5.614210605621338}\n"
     ]
    },
    {
     "name": "stderr",
     "output_type": "stream",
     "text": [
      "Validating:  49%|████▊     | 114/235 [01:31<01:35,  1.27it/s, loss=3.2906, avg_loss=3.5933]"
     ]
    },
    {
     "name": "stdout",
     "output_type": "stream",
     "text": [
      "{'kd_loss': 1.4108192920684814, 'feature_loss': 0.0030106748454272747, 'ce_loss': 7.846484184265137, 'cont_loss': 2.308988571166992, 'teacher_loss': 4.250451564788818}\n"
     ]
    },
    {
     "name": "stderr",
     "output_type": "stream",
     "text": [
      "Validating:  49%|████▉     | 115/235 [01:32<01:34,  1.27it/s, loss=3.8330, avg_loss=3.5954]"
     ]
    },
    {
     "name": "stdout",
     "output_type": "stream",
     "text": [
      "{'kd_loss': 2.398768424987793, 'feature_loss': 0.0029512897599488497, 'ce_loss': 8.003202438354492, 'cont_loss': 2.323864221572876, 'teacher_loss': 4.706066608428955}\n"
     ]
    },
    {
     "name": "stderr",
     "output_type": "stream",
     "text": [
      "Validating:  49%|████▉     | 116/235 [01:32<01:33,  1.27it/s, loss=3.6191, avg_loss=3.5956]"
     ]
    },
    {
     "name": "stdout",
     "output_type": "stream",
     "text": [
      "{'kd_loss': 2.0402820110321045, 'feature_loss': 0.0026663197204470634, 'ce_loss': 7.884929180145264, 'cont_loss': 2.332174301147461, 'teacher_loss': 4.543838977813721}\n"
     ]
    },
    {
     "name": "stderr",
     "output_type": "stream",
     "text": [
      "Validating:  50%|████▉     | 117/235 [01:33<01:32,  1.27it/s, loss=3.3151, avg_loss=3.5932]"
     ]
    },
    {
     "name": "stdout",
     "output_type": "stream",
     "text": [
      "{'kd_loss': 1.2715282440185547, 'feature_loss': 0.0031229390297085047, 'ce_loss': 8.137260437011719, 'cont_loss': 2.3781638145446777, 'teacher_loss': 4.771827220916748}\n"
     ]
    },
    {
     "name": "stderr",
     "output_type": "stream",
     "text": [
      "Validating:  50%|█████     | 118/235 [01:34<01:32,  1.27it/s, loss=3.5712, avg_loss=3.5930]"
     ]
    },
    {
     "name": "stdout",
     "output_type": "stream",
     "text": [
      "{'kd_loss': 1.9369810819625854, 'feature_loss': 0.0028598830103874207, 'ce_loss': 7.8996052742004395, 'cont_loss': 2.325042963027954, 'teacher_loss': 5.010609149932861}\n"
     ]
    },
    {
     "name": "stderr",
     "output_type": "stream",
     "text": [
      "Validating:  51%|█████     | 119/235 [01:35<01:31,  1.27it/s, loss=3.9336, avg_loss=3.5959]"
     ]
    },
    {
     "name": "stdout",
     "output_type": "stream",
     "text": [
      "{'kd_loss': 2.606206178665161, 'feature_loss': 0.0027405801229178905, 'ce_loss': 7.978412628173828, 'cont_loss': 2.36660099029541, 'teacher_loss': 4.6855034828186035}\n"
     ]
    },
    {
     "name": "stderr",
     "output_type": "stream",
     "text": [
      "Validating:  51%|█████     | 120/235 [01:36<01:30,  1.27it/s, loss=3.2869, avg_loss=3.5933]"
     ]
    },
    {
     "name": "stdout",
     "output_type": "stream",
     "text": [
      "{'kd_loss': 1.29702627658844, 'feature_loss': 0.0032449360005557537, 'ce_loss': 7.9963531494140625, 'cont_loss': 2.3912696838378906, 'teacher_loss': 3.9399006366729736}\n"
     ]
    },
    {
     "name": "stderr",
     "output_type": "stream",
     "text": [
      "Validating:  51%|█████▏    | 121/235 [01:36<01:29,  1.27it/s, loss=3.7273, avg_loss=3.5944]"
     ]
    },
    {
     "name": "stdout",
     "output_type": "stream",
     "text": [
      "{'kd_loss': 2.16463303565979, 'feature_loss': 0.002910737181082368, 'ce_loss': 8.014154434204102, 'cont_loss': 2.4045910835266113, 'teacher_loss': 5.30211067199707}\n"
     ]
    },
    {
     "name": "stderr",
     "output_type": "stream",
     "text": [
      "Validating:  52%|█████▏    | 122/235 [01:37<01:28,  1.27it/s, loss=4.0315, avg_loss=3.5980]"
     ]
    },
    {
     "name": "stdout",
     "output_type": "stream",
     "text": [
      "{'kd_loss': 2.740433692932129, 'feature_loss': 0.0028561733197420835, 'ce_loss': 8.06535816192627, 'cont_loss': 2.414099931716919, 'teacher_loss': 5.117428302764893}\n"
     ]
    },
    {
     "name": "stderr",
     "output_type": "stream",
     "text": [
      "Validating:  52%|█████▏    | 123/235 [01:38<01:28,  1.27it/s, loss=3.6833, avg_loss=3.5987]"
     ]
    },
    {
     "name": "stdout",
     "output_type": "stream",
     "text": [
      "{'kd_loss': 2.1325345039367676, 'feature_loss': 0.0026760417968034744, 'ce_loss': 7.9265971183776855, 'cont_loss': 2.3875792026519775, 'teacher_loss': 5.273595333099365}\n"
     ]
    },
    {
     "name": "stderr",
     "output_type": "stream",
     "text": [
      "Validating:  53%|█████▎    | 124/235 [01:39<01:27,  1.27it/s, loss=3.3784, avg_loss=3.5969]"
     ]
    },
    {
     "name": "stdout",
     "output_type": "stream",
     "text": [
      "{'kd_loss': 1.6252838373184204, 'feature_loss': 0.0030129775404930115, 'ce_loss': 7.765284538269043, 'cont_loss': 2.35908842086792, 'teacher_loss': 4.345388412475586}\n"
     ]
    },
    {
     "name": "stderr",
     "output_type": "stream",
     "text": [
      "Validating:  53%|█████▎    | 125/235 [01:40<01:26,  1.27it/s, loss=3.5162, avg_loss=3.5963]"
     ]
    },
    {
     "name": "stdout",
     "output_type": "stream",
     "text": [
      "{'kd_loss': 1.715799331665039, 'feature_loss': 0.0028295854572206736, 'ce_loss': 8.065315246582031, 'cont_loss': 2.3845958709716797, 'teacher_loss': 4.173606872558594}\n"
     ]
    },
    {
     "name": "stderr",
     "output_type": "stream",
     "text": [
      "Validating:  54%|█████▎    | 126/235 [01:40<01:25,  1.27it/s, loss=3.9814, avg_loss=3.5993]"
     ]
    },
    {
     "name": "stdout",
     "output_type": "stream",
     "text": [
      "{'kd_loss': 2.64266037940979, 'feature_loss': 0.0027433070354163647, 'ce_loss': 8.066627502441406, 'cont_loss': 2.3975956439971924, 'teacher_loss': 5.148283958435059}\n"
     ]
    },
    {
     "name": "stderr",
     "output_type": "stream",
     "text": [
      "Validating:  54%|█████▍    | 127/235 [01:41<01:24,  1.27it/s, loss=3.3898, avg_loss=3.5977]"
     ]
    },
    {
     "name": "stdout",
     "output_type": "stream",
     "text": [
      "{'kd_loss': 1.4131969213485718, 'feature_loss': 0.003223320934921503, 'ce_loss': 8.126712799072266, 'cont_loss': 2.4489657878875732, 'teacher_loss': 4.3157734870910645}\n"
     ]
    },
    {
     "name": "stderr",
     "output_type": "stream",
     "text": [
      "Validating:  54%|█████▍    | 128/235 [01:42<01:24,  1.27it/s, loss=3.5477, avg_loss=3.5973]"
     ]
    },
    {
     "name": "stdout",
     "output_type": "stream",
     "text": [
      "{'kd_loss': 1.8961845636367798, 'feature_loss': 0.002838668879121542, 'ce_loss': 7.858022212982178, 'cont_loss': 2.4192450046539307, 'teacher_loss': 4.803800106048584}\n"
     ]
    },
    {
     "name": "stderr",
     "output_type": "stream",
     "text": [
      "Validating:  55%|█████▍    | 129/235 [01:43<01:23,  1.27it/s, loss=3.7700, avg_loss=3.5986]"
     ]
    },
    {
     "name": "stdout",
     "output_type": "stream",
     "text": [
      "{'kd_loss': 2.2411530017852783, 'feature_loss': 0.002861808054149151, 'ce_loss': 8.005053520202637, 'cont_loss': 2.4763174057006836, 'teacher_loss': 5.6594109535217285}\n"
     ]
    },
    {
     "name": "stderr",
     "output_type": "stream",
     "text": [
      "Validating:  55%|█████▌    | 130/235 [01:44<01:22,  1.27it/s, loss=3.8702, avg_loss=3.6007]"
     ]
    },
    {
     "name": "stdout",
     "output_type": "stream",
     "text": [
      "{'kd_loss': 2.4017083644866943, 'feature_loss': 0.0027360315434634686, 'ce_loss': 8.072123527526855, 'cont_loss': 2.474407434463501, 'teacher_loss': 4.923182487487793}\n"
     ]
    },
    {
     "name": "stderr",
     "output_type": "stream",
     "text": [
      "Validating:  56%|█████▌    | 131/235 [01:44<01:21,  1.27it/s, loss=3.6356, avg_loss=3.6010]"
     ]
    },
    {
     "name": "stdout",
     "output_type": "stream",
     "text": [
      "{'kd_loss': 1.9810220003128052, 'feature_loss': 0.003022526390850544, 'ce_loss': 7.97917366027832, 'cont_loss': 2.510826587677002, 'teacher_loss': 5.056528568267822}\n"
     ]
    },
    {
     "name": "stderr",
     "output_type": "stream",
     "text": [
      "Validating:  56%|█████▌    | 132/235 [01:45<01:21,  1.27it/s, loss=3.8866, avg_loss=3.6031]"
     ]
    },
    {
     "name": "stdout",
     "output_type": "stream",
     "text": [
      "{'kd_loss': 2.5676169395446777, 'feature_loss': 0.002684798324480653, 'ce_loss': 7.8561625480651855, 'cont_loss': 2.4571211338043213, 'teacher_loss': 5.000784873962402}\n"
     ]
    },
    {
     "name": "stderr",
     "output_type": "stream",
     "text": [
      "Validating:  57%|█████▋    | 133/235 [01:46<01:20,  1.27it/s, loss=3.5524, avg_loss=3.6028]"
     ]
    },
    {
     "name": "stdout",
     "output_type": "stream",
     "text": [
      "{'kd_loss': 1.7702312469482422, 'feature_loss': 0.002942016813904047, 'ce_loss': 8.067967414855957, 'cont_loss': 2.4664058685302734, 'teacher_loss': 4.45927619934082}\n"
     ]
    },
    {
     "name": "stderr",
     "output_type": "stream",
     "text": [
      "Validating:  57%|█████▋    | 134/235 [01:47<01:19,  1.27it/s, loss=3.7610, avg_loss=3.6039]"
     ]
    },
    {
     "name": "stdout",
     "output_type": "stream",
     "text": [
      "{'kd_loss': 2.0993804931640625, 'feature_loss': 0.0028571998700499535, 'ce_loss': 8.215790748596191, 'cont_loss': 2.462658405303955, 'teacher_loss': 5.022098064422607}\n"
     ]
    },
    {
     "name": "stderr",
     "output_type": "stream",
     "text": [
      "Validating:  57%|█████▋    | 135/235 [01:47<01:18,  1.27it/s, loss=3.3855, avg_loss=3.6023]"
     ]
    },
    {
     "name": "stdout",
     "output_type": "stream",
     "text": [
      "{'kd_loss': 1.4737588167190552, 'feature_loss': 0.0030750418081879616, 'ce_loss': 7.9941205978393555, 'cont_loss': 2.5004167556762695, 'teacher_loss': 4.34093713760376}\n"
     ]
    },
    {
     "name": "stderr",
     "output_type": "stream",
     "text": [
      "Validating:  58%|█████▊    | 136/235 [01:48<01:17,  1.27it/s, loss=3.6981, avg_loss=3.6030]"
     ]
    },
    {
     "name": "stdout",
     "output_type": "stream",
     "text": [
      "{'kd_loss': 2.143367290496826, 'feature_loss': 0.002863834612071514, 'ce_loss': 7.924474716186523, 'cont_loss': 2.4878287315368652, 'teacher_loss': 5.40927791595459}\n"
     ]
    },
    {
     "name": "stderr",
     "output_type": "stream",
     "text": [
      "Validating:  58%|█████▊    | 137/235 [01:49<01:16,  1.28it/s, loss=3.4379, avg_loss=3.6018]"
     ]
    },
    {
     "name": "stdout",
     "output_type": "stream",
     "text": [
      "{'kd_loss': 1.5559602975845337, 'feature_loss': 0.003033797722309828, 'ce_loss': 8.02248764038086, 'cont_loss': 2.528939723968506, 'teacher_loss': 5.344227313995361}\n"
     ]
    },
    {
     "name": "stderr",
     "output_type": "stream",
     "text": [
      "Validating:  59%|█████▊    | 138/235 [01:50<01:16,  1.28it/s, loss=3.6669, avg_loss=3.6023]"
     ]
    },
    {
     "name": "stdout",
     "output_type": "stream",
     "text": [
      "{'kd_loss': 2.1495361328125, 'feature_loss': 0.00279546738602221, 'ce_loss': 7.794231414794922, 'cont_loss': 2.535780191421509, 'teacher_loss': 5.238302707672119}\n"
     ]
    },
    {
     "name": "stderr",
     "output_type": "stream",
     "text": [
      "Validating:  59%|█████▉    | 139/235 [01:51<01:15,  1.27it/s, loss=3.2612, avg_loss=3.5998]"
     ]
    },
    {
     "name": "stdout",
     "output_type": "stream",
     "text": [
      "{'kd_loss': 1.1726813316345215, 'feature_loss': 0.003160802647471428, 'ce_loss': 8.060949325561523, 'cont_loss': 2.5629372596740723, 'teacher_loss': 5.475483417510986}\n"
     ]
    },
    {
     "name": "stderr",
     "output_type": "stream",
     "text": [
      "Validating:  60%|█████▉    | 140/235 [01:51<01:14,  1.27it/s, loss=3.5963, avg_loss=3.5998]"
     ]
    },
    {
     "name": "stdout",
     "output_type": "stream",
     "text": [
      "{'kd_loss': 1.9357341527938843, 'feature_loss': 0.0030015255324542522, 'ce_loss': 7.919066905975342, 'cont_loss': 2.5242815017700195, 'teacher_loss': 4.723583221435547}\n"
     ]
    },
    {
     "name": "stderr",
     "output_type": "stream",
     "text": [
      "Validating:  60%|██████    | 141/235 [01:52<01:13,  1.27it/s, loss=3.3661, avg_loss=3.5982]"
     ]
    },
    {
     "name": "stdout",
     "output_type": "stream",
     "text": [
      "{'kd_loss': 1.4818103313446045, 'feature_loss': 0.00312818493694067, 'ce_loss': 7.906001567840576, 'cont_loss': 2.5312023162841797, 'teacher_loss': 5.570700168609619}\n"
     ]
    },
    {
     "name": "stderr",
     "output_type": "stream",
     "text": [
      "Validating:  60%|██████    | 142/235 [01:53<01:13,  1.27it/s, loss=3.6195, avg_loss=3.5983]"
     ]
    },
    {
     "name": "stdout",
     "output_type": "stream",
     "text": [
      "{'kd_loss': 1.8446935415267944, 'feature_loss': 0.0031081009656190872, 'ce_loss': 8.126304626464844, 'cont_loss': 2.5896406173706055, 'teacher_loss': 5.611797332763672}\n"
     ]
    },
    {
     "name": "stderr",
     "output_type": "stream",
     "text": [
      "Validating:  61%|██████    | 143/235 [01:54<01:12,  1.28it/s, loss=3.3380, avg_loss=3.5965]"
     ]
    },
    {
     "name": "stdout",
     "output_type": "stream",
     "text": [
      "{'kd_loss': 1.4617574214935303, 'feature_loss': 0.003015234600752592, 'ce_loss': 7.829364776611328, 'cont_loss': 2.5799624919891357, 'teacher_loss': 3.959506034851074}\n"
     ]
    },
    {
     "name": "stderr",
     "output_type": "stream",
     "text": [
      "Validating:  61%|██████▏   | 144/235 [01:54<01:11,  1.28it/s, loss=3.2511, avg_loss=3.5941]"
     ]
    },
    {
     "name": "stdout",
     "output_type": "stream",
     "text": [
      "{'kd_loss': 1.2467267513275146, 'feature_loss': 0.0029971147887408733, 'ce_loss': 7.897124767303467, 'cont_loss': 2.5827603340148926, 'teacher_loss': 4.698537826538086}\n"
     ]
    },
    {
     "name": "stderr",
     "output_type": "stream",
     "text": [
      "Validating:  62%|██████▏   | 145/235 [01:55<01:10,  1.28it/s, loss=3.5198, avg_loss=3.5936]"
     ]
    },
    {
     "name": "stdout",
     "output_type": "stream",
     "text": [
      "{'kd_loss': 1.7513699531555176, 'feature_loss': 0.0029244141187518835, 'ce_loss': 7.953729629516602, 'cont_loss': 2.577514410018921, 'teacher_loss': 5.020286560058594}\n"
     ]
    },
    {
     "name": "stderr",
     "output_type": "stream",
     "text": [
      "Validating:  62%|██████▏   | 146/235 [01:56<01:09,  1.27it/s, loss=3.8774, avg_loss=3.5955]"
     ]
    },
    {
     "name": "stdout",
     "output_type": "stream",
     "text": [
      "{'kd_loss': 2.3823928833007812, 'feature_loss': 0.0028496268205344677, 'ce_loss': 8.087618827819824, 'cont_loss': 2.5961532592773438, 'teacher_loss': 5.167938232421875}\n"
     ]
    },
    {
     "name": "stderr",
     "output_type": "stream",
     "text": [
      "Validating:  63%|██████▎   | 147/235 [01:57<01:09,  1.27it/s, loss=3.5559, avg_loss=3.5953]"
     ]
    },
    {
     "name": "stdout",
     "output_type": "stream",
     "text": [
      "{'kd_loss': 1.8315322399139404, 'feature_loss': 0.0030045188032090664, 'ce_loss': 7.932007789611816, 'cont_loss': 2.602069854736328, 'teacher_loss': 6.010931968688965}\n"
     ]
    },
    {
     "name": "stderr",
     "output_type": "stream",
     "text": [
      "Validating:  63%|██████▎   | 148/235 [01:58<01:08,  1.27it/s, loss=3.4190, avg_loss=3.5941]"
     ]
    },
    {
     "name": "stdout",
     "output_type": "stream",
     "text": [
      "{'kd_loss': 1.5517728328704834, 'feature_loss': 0.003002000041306019, 'ce_loss': 7.944831371307373, 'cont_loss': 2.593191623687744, 'teacher_loss': 4.522863864898682}\n"
     ]
    },
    {
     "name": "stderr",
     "output_type": "stream",
     "text": [
      "Validating:  63%|██████▎   | 149/235 [01:58<01:07,  1.27it/s, loss=3.7845, avg_loss=3.5953]"
     ]
    },
    {
     "name": "stdout",
     "output_type": "stream",
     "text": [
      "{'kd_loss': 2.1948680877685547, 'feature_loss': 0.002929012756794691, 'ce_loss': 8.069786071777344, 'cont_loss': 2.658580780029297, 'teacher_loss': 5.794963359832764}\n"
     ]
    },
    {
     "name": "stderr",
     "output_type": "stream",
     "text": [
      "Validating:  64%|██████▍   | 150/235 [01:59<01:06,  1.27it/s, loss=3.8511, avg_loss=3.5970]"
     ]
    },
    {
     "name": "stdout",
     "output_type": "stream",
     "text": [
      "{'kd_loss': 2.3300650119781494, 'feature_loss': 0.0028689512982964516, 'ce_loss': 8.082618713378906, 'cont_loss': 2.6095728874206543, 'teacher_loss': 5.052902698516846}\n"
     ]
    },
    {
     "name": "stderr",
     "output_type": "stream",
     "text": [
      "Validating:  64%|██████▍   | 151/235 [02:00<01:06,  1.27it/s, loss=3.4580, avg_loss=3.5961]"
     ]
    },
    {
     "name": "stdout",
     "output_type": "stream",
     "text": [
      "{'kd_loss': 1.6366697549819946, 'feature_loss': 0.003083146410062909, 'ce_loss': 7.909702777862549, 'cont_loss': 2.6643452644348145, 'teacher_loss': 5.192691326141357}\n"
     ]
    },
    {
     "name": "stderr",
     "output_type": "stream",
     "text": [
      "Validating:  65%|██████▍   | 152/235 [02:01<01:05,  1.27it/s, loss=3.4404, avg_loss=3.5951]"
     ]
    },
    {
     "name": "stdout",
     "output_type": "stream",
     "text": [
      "{'kd_loss': 1.5445847511291504, 'feature_loss': 0.003010152606293559, 'ce_loss': 7.999258995056152, 'cont_loss': 2.679797887802124, 'teacher_loss': 5.723398685455322}\n"
     ]
    },
    {
     "name": "stderr",
     "output_type": "stream",
     "text": [
      "Validating:  65%|██████▌   | 153/235 [02:02<01:04,  1.27it/s, loss=3.4128, avg_loss=3.5939]"
     ]
    },
    {
     "name": "stdout",
     "output_type": "stream",
     "text": [
      "{'kd_loss': 1.4523706436157227, 'feature_loss': 0.003036793787032366, 'ce_loss': 8.065567016601562, 'cont_loss': 2.6662535667419434, 'teacher_loss': 5.332638263702393}\n"
     ]
    },
    {
     "name": "stderr",
     "output_type": "stream",
     "text": [
      "Validating:  66%|██████▌   | 154/235 [02:02<01:03,  1.27it/s, loss=3.3676, avg_loss=3.5924]"
     ]
    },
    {
     "name": "stdout",
     "output_type": "stream",
     "text": [
      "{'kd_loss': 1.4203503131866455, 'feature_loss': 0.0030760634690523148, 'ce_loss': 7.959189414978027, 'cont_loss': 2.694070339202881, 'teacher_loss': 5.490520000457764}\n"
     ]
    },
    {
     "name": "stderr",
     "output_type": "stream",
     "text": [
      "Validating:  66%|██████▌   | 155/235 [02:03<01:02,  1.28it/s, loss=3.2822, avg_loss=3.5904]"
     ]
    },
    {
     "name": "stdout",
     "output_type": "stream",
     "text": [
      "{'kd_loss': 1.1976712942123413, 'feature_loss': 0.003185451030731201, 'ce_loss': 8.045533180236816, 'cont_loss': 2.693601131439209, 'teacher_loss': 4.892469882965088}\n"
     ]
    },
    {
     "name": "stderr",
     "output_type": "stream",
     "text": [
      "Validating:  66%|██████▋   | 156/235 [02:04<01:01,  1.28it/s, loss=3.3085, avg_loss=3.5886]"
     ]
    },
    {
     "name": "stdout",
     "output_type": "stream",
     "text": [
      "{'kd_loss': 1.2517318725585938, 'feature_loss': 0.003140453714877367, 'ce_loss': 8.036118507385254, 'cont_loss': 2.715008020401001, 'teacher_loss': 5.378177642822266}\n"
     ]
    },
    {
     "name": "stderr",
     "output_type": "stream",
     "text": [
      "Validating:  67%|██████▋   | 157/235 [02:05<01:01,  1.28it/s, loss=3.5561, avg_loss=3.5884]"
     ]
    },
    {
     "name": "stdout",
     "output_type": "stream",
     "text": [
      "{'kd_loss': 1.6802160739898682, 'feature_loss': 0.003128576558083296, 'ce_loss': 8.139572143554688, 'cont_loss': 2.7379496097564697, 'teacher_loss': 5.641818046569824}\n"
     ]
    },
    {
     "name": "stderr",
     "output_type": "stream",
     "text": [
      "Validating:  67%|██████▋   | 158/235 [02:05<01:00,  1.28it/s, loss=3.5657, avg_loss=3.5883]"
     ]
    },
    {
     "name": "stdout",
     "output_type": "stream",
     "text": [
      "{'kd_loss': 1.7396987676620483, 'feature_loss': 0.0031264065764844418, 'ce_loss': 8.079365730285645, 'cont_loss': 2.7167892456054688, 'teacher_loss': 5.495540618896484}\n"
     ]
    },
    {
     "name": "stderr",
     "output_type": "stream",
     "text": [
      "Validating:  68%|██████▊   | 159/235 [02:06<00:59,  1.28it/s, loss=3.6058, avg_loss=3.5884]"
     ]
    },
    {
     "name": "stdout",
     "output_type": "stream",
     "text": [
      "{'kd_loss': 1.935998558998108, 'feature_loss': 0.002905226545408368, 'ce_loss': 7.891324043273926, 'cont_loss': 2.70082426071167, 'teacher_loss': 4.204864978790283}\n"
     ]
    },
    {
     "name": "stderr",
     "output_type": "stream",
     "text": [
      "Validating:  68%|██████▊   | 160/235 [02:07<00:58,  1.28it/s, loss=3.3215, avg_loss=3.5867]"
     ]
    },
    {
     "name": "stdout",
     "output_type": "stream",
     "text": [
      "{'kd_loss': 1.3072998523712158, 'feature_loss': 0.0029594721272587776, 'ce_loss': 7.9910969734191895, 'cont_loss': 2.7022337913513184, 'teacher_loss': 4.668704032897949}\n"
     ]
    },
    {
     "name": "stderr",
     "output_type": "stream",
     "text": [
      "Validating:  69%|██████▊   | 161/235 [02:08<00:58,  1.28it/s, loss=3.5983, avg_loss=3.5868]"
     ]
    },
    {
     "name": "stdout",
     "output_type": "stream",
     "text": [
      "{'kd_loss': 1.8375952243804932, 'feature_loss': 0.0029464727267622948, 'ce_loss': 8.019683837890625, 'cont_loss': 2.7330832481384277, 'teacher_loss': 5.547057151794434}\n"
     ]
    },
    {
     "name": "stderr",
     "output_type": "stream",
     "text": [
      "Validating:  69%|██████▉   | 162/235 [02:09<00:57,  1.28it/s, loss=3.5666, avg_loss=3.5867]"
     ]
    },
    {
     "name": "stdout",
     "output_type": "stream",
     "text": [
      "{'kd_loss': 1.8123986721038818, 'feature_loss': 0.0030983113683760166, 'ce_loss': 7.949524879455566, 'cont_loss': 2.752269983291626, 'teacher_loss': 5.440028667449951}\n"
     ]
    },
    {
     "name": "stderr",
     "output_type": "stream",
     "text": [
      "Validating:  69%|██████▉   | 163/235 [02:09<00:56,  1.28it/s, loss=3.3520, avg_loss=3.5852]"
     ]
    },
    {
     "name": "stdout",
     "output_type": "stream",
     "text": [
      "{'kd_loss': 1.3191438913345337, 'feature_loss': 0.0030520446598529816, 'ce_loss': 8.057122230529785, 'cont_loss': 2.7498464584350586, 'teacher_loss': 5.255913734436035}\n"
     ]
    },
    {
     "name": "stderr",
     "output_type": "stream",
     "text": [
      "Validating:  70%|██████▉   | 164/235 [02:10<00:55,  1.28it/s, loss=3.2940, avg_loss=3.5835]"
     ]
    },
    {
     "name": "stdout",
     "output_type": "stream",
     "text": [
      "{'kd_loss': 1.268794298171997, 'feature_loss': 0.0031420413870364428, 'ce_loss': 7.933890342712402, 'cont_loss': 2.791088104248047, 'teacher_loss': 5.538031101226807}\n"
     ]
    },
    {
     "name": "stderr",
     "output_type": "stream",
     "text": [
      "Validating:  70%|███████   | 165/235 [02:11<00:54,  1.27it/s, loss=3.5173, avg_loss=3.5831]"
     ]
    },
    {
     "name": "stdout",
     "output_type": "stream",
     "text": [
      "{'kd_loss': 1.6159950494766235, 'feature_loss': 0.003010939806699753, 'ce_loss': 8.108823776245117, 'cont_loss': 2.7632827758789062, 'teacher_loss': 4.837147235870361}\n"
     ]
    },
    {
     "name": "stderr",
     "output_type": "stream",
     "text": [
      "Validating:  71%|███████   | 166/235 [02:12<00:54,  1.27it/s, loss=3.4269, avg_loss=3.5821]"
     ]
    },
    {
     "name": "stdout",
     "output_type": "stream",
     "text": [
      "{'kd_loss': 1.4589347839355469, 'feature_loss': 0.0029991385526955128, 'ce_loss': 8.063143730163574, 'cont_loss': 2.7822113037109375, 'teacher_loss': 5.643096923828125}\n"
     ]
    },
    {
     "name": "stderr",
     "output_type": "stream",
     "text": [
      "Validating:  71%|███████   | 167/235 [02:13<00:53,  1.28it/s, loss=3.4149, avg_loss=3.5811]"
     ]
    },
    {
     "name": "stdout",
     "output_type": "stream",
     "text": [
      "{'kd_loss': 1.5808780193328857, 'feature_loss': 0.002910067792981863, 'ce_loss': 7.828227996826172, 'cont_loss': 2.7573351860046387, 'teacher_loss': 4.974899768829346}\n"
     ]
    },
    {
     "name": "stderr",
     "output_type": "stream",
     "text": [
      "Validating:  71%|███████▏  | 168/235 [02:13<00:52,  1.28it/s, loss=3.4670, avg_loss=3.5804]"
     ]
    },
    {
     "name": "stdout",
     "output_type": "stream",
     "text": [
      "{'kd_loss': 1.6493891477584839, 'feature_loss': 0.0028066514059901237, 'ce_loss': 7.890191555023193, 'cont_loss': 2.74971342086792, 'teacher_loss': 4.828703880310059}\n"
     ]
    },
    {
     "name": "stderr",
     "output_type": "stream",
     "text": [
      "Validating:  72%|███████▏  | 169/235 [02:14<00:51,  1.28it/s, loss=3.4272, avg_loss=3.5795]"
     ]
    },
    {
     "name": "stdout",
     "output_type": "stream",
     "text": [
      "{'kd_loss': 1.5015003681182861, 'feature_loss': 0.003030382562428713, 'ce_loss': 7.988786697387695, 'cont_loss': 2.795051097869873, 'teacher_loss': 5.130280494689941}\n"
     ]
    },
    {
     "name": "stderr",
     "output_type": "stream",
     "text": [
      "Validating:  72%|███████▏  | 170/235 [02:15<00:50,  1.28it/s, loss=3.4536, avg_loss=3.5788]"
     ]
    },
    {
     "name": "stdout",
     "output_type": "stream",
     "text": [
      "{'kd_loss': 1.560184359550476, 'feature_loss': 0.003029534127563238, 'ce_loss': 7.976116180419922, 'cont_loss': 2.8040060997009277, 'teacher_loss': 5.206846714019775}\n"
     ]
    },
    {
     "name": "stderr",
     "output_type": "stream",
     "text": [
      "Validating:  73%|███████▎  | 171/235 [02:16<00:50,  1.27it/s, loss=3.4123, avg_loss=3.5778]"
     ]
    },
    {
     "name": "stdout",
     "output_type": "stream",
     "text": [
      "{'kd_loss': 1.4886250495910645, 'feature_loss': 0.0029803880024701357, 'ce_loss': 7.958719253540039, 'cont_loss': 2.8004138469696045, 'teacher_loss': 5.445621490478516}\n"
     ]
    },
    {
     "name": "stderr",
     "output_type": "stream",
     "text": [
      "Validating:  73%|███████▎  | 172/235 [02:16<00:49,  1.27it/s, loss=3.5404, avg_loss=3.5776]"
     ]
    },
    {
     "name": "stdout",
     "output_type": "stream",
     "text": [
      "{'kd_loss': 1.6998203992843628, 'feature_loss': 0.003038067137822509, 'ce_loss': 8.0192232131958, 'cont_loss': 2.8440017700195312, 'teacher_loss': 5.4075469970703125}\n"
     ]
    },
    {
     "name": "stderr",
     "output_type": "stream",
     "text": [
      "Validating:  74%|███████▎  | 173/235 [02:17<00:48,  1.27it/s, loss=3.4353, avg_loss=3.5768]"
     ]
    },
    {
     "name": "stdout",
     "output_type": "stream",
     "text": [
      "{'kd_loss': 1.474348783493042, 'feature_loss': 0.003014428075402975, 'ce_loss': 8.05212688446045, 'cont_loss': 2.8217170238494873, 'teacher_loss': 5.533851623535156}\n"
     ]
    },
    {
     "name": "stderr",
     "output_type": "stream",
     "text": [
      "Validating:  74%|███████▍  | 174/235 [02:18<00:47,  1.28it/s, loss=3.7283, avg_loss=3.5776]"
     ]
    },
    {
     "name": "stdout",
     "output_type": "stream",
     "text": [
      "{'kd_loss': 2.1543383598327637, 'feature_loss': 0.0029344435315579176, 'ce_loss': 7.904105186462402, 'cont_loss': 2.796346426010132, 'teacher_loss': 5.400391578674316}\n"
     ]
    },
    {
     "name": "stderr",
     "output_type": "stream",
     "text": [
      "Validating:  74%|███████▍  | 175/235 [02:19<00:47,  1.28it/s, loss=3.3776, avg_loss=3.5765]"
     ]
    },
    {
     "name": "stdout",
     "output_type": "stream",
     "text": [
      "{'kd_loss': 1.4532581567764282, 'feature_loss': 0.0030134557746350765, 'ce_loss': 7.894474506378174, 'cont_loss': 2.823737621307373, 'teacher_loss': 5.38004732131958}\n"
     ]
    },
    {
     "name": "stderr",
     "output_type": "stream",
     "text": [
      "Validating:  75%|███████▍  | 176/235 [02:20<00:46,  1.27it/s, loss=3.3819, avg_loss=3.5754]"
     ]
    },
    {
     "name": "stdout",
     "output_type": "stream",
     "text": [
      "{'kd_loss': 1.3043861389160156, 'feature_loss': 0.0031569222919642925, 'ce_loss': 8.139932632446289, 'cont_loss': 2.874570846557617, 'teacher_loss': 5.20798397064209}\n"
     ]
    },
    {
     "name": "stderr",
     "output_type": "stream",
     "text": [
      "Validating:  75%|███████▌  | 177/235 [02:20<00:45,  1.27it/s, loss=3.2491, avg_loss=3.5736]"
     ]
    },
    {
     "name": "stdout",
     "output_type": "stream",
     "text": [
      "{'kd_loss': 1.0941864252090454, 'feature_loss': 0.0030603017657995224, 'ce_loss': 8.050387382507324, 'cont_loss': 2.8658599853515625, 'teacher_loss': 5.0309858322143555}\n"
     ]
    },
    {
     "name": "stderr",
     "output_type": "stream",
     "text": [
      "Validating:  76%|███████▌  | 178/235 [02:21<00:44,  1.27it/s, loss=3.4420, avg_loss=3.5728]"
     ]
    },
    {
     "name": "stdout",
     "output_type": "stream",
     "text": [
      "{'kd_loss': 1.5614607334136963, 'feature_loss': 0.0029440720099955797, 'ce_loss': 7.924370765686035, 'cont_loss': 2.836874008178711, 'teacher_loss': 4.809690475463867}\n"
     ]
    },
    {
     "name": "stderr",
     "output_type": "stream",
     "text": [
      "Validating:  76%|███████▌  | 179/235 [02:22<00:44,  1.27it/s, loss=3.6582, avg_loss=3.5733]"
     ]
    },
    {
     "name": "stdout",
     "output_type": "stream",
     "text": [
      "{'kd_loss': 2.007662773132324, 'feature_loss': 0.0028370837680995464, 'ce_loss': 7.895528793334961, 'cont_loss': 2.8539352416992188, 'teacher_loss': 6.0342817306518555}\n"
     ]
    },
    {
     "name": "stderr",
     "output_type": "stream",
     "text": [
      "Validating:  77%|███████▋  | 180/235 [02:23<00:43,  1.27it/s, loss=3.4410, avg_loss=3.5726]"
     ]
    },
    {
     "name": "stdout",
     "output_type": "stream",
     "text": [
      "{'kd_loss': 1.4859845638275146, 'feature_loss': 0.0029972493648529053, 'ce_loss': 8.03042984008789, 'cont_loss': 2.8854355812072754, 'teacher_loss': 4.848265171051025}\n"
     ]
    },
    {
     "name": "stderr",
     "output_type": "stream",
     "text": [
      "Validating:  77%|███████▋  | 181/235 [02:24<00:42,  1.28it/s, loss=3.7347, avg_loss=3.5735]"
     ]
    },
    {
     "name": "stdout",
     "output_type": "stream",
     "text": [
      "{'kd_loss': 2.0114946365356445, 'feature_loss': 0.0028051738627254963, 'ce_loss': 8.141766548156738, 'cont_loss': 2.8609633445739746, 'teacher_loss': 5.613170146942139}\n"
     ]
    },
    {
     "name": "stderr",
     "output_type": "stream",
     "text": [
      "Validating:  77%|███████▋  | 182/235 [02:24<00:41,  1.28it/s, loss=3.4656, avg_loss=3.5729]"
     ]
    },
    {
     "name": "stdout",
     "output_type": "stream",
     "text": [
      "{'kd_loss': 1.553424596786499, 'feature_loss': 0.0030497917905449867, 'ce_loss': 7.998506546020508, 'cont_loss': 2.890482187271118, 'teacher_loss': 5.129419326782227}\n"
     ]
    },
    {
     "name": "stderr",
     "output_type": "stream",
     "text": [
      "Validating:  78%|███████▊  | 183/235 [02:25<00:40,  1.27it/s, loss=3.3794, avg_loss=3.5718]"
     ]
    },
    {
     "name": "stdout",
     "output_type": "stream",
     "text": [
      "{'kd_loss': 1.3507012128829956, 'feature_loss': 0.003131852950900793, 'ce_loss': 8.044805526733398, 'cont_loss': 2.9030933380126953, 'teacher_loss': 5.591047763824463}\n"
     ]
    },
    {
     "name": "stderr",
     "output_type": "stream",
     "text": [
      "Validating:  78%|███████▊  | 184/235 [02:26<00:40,  1.27it/s, loss=3.5480, avg_loss=3.5717]"
     ]
    },
    {
     "name": "stdout",
     "output_type": "stream",
     "text": [
      "{'kd_loss': 1.6641165018081665, 'feature_loss': 0.0030354124028235674, 'ce_loss': 8.088058471679688, 'cont_loss': 2.8922696113586426, 'teacher_loss': 5.7269744873046875}\n"
     ]
    },
    {
     "name": "stderr",
     "output_type": "stream",
     "text": [
      "Validating:  79%|███████▊  | 185/235 [02:27<00:39,  1.27it/s, loss=3.3662, avg_loss=3.5706]"
     ]
    },
    {
     "name": "stdout",
     "output_type": "stream",
     "text": [
      "{'kd_loss': 1.31645929813385, 'feature_loss': 0.003060480346903205, 'ce_loss': 8.047087669372559, 'cont_loss': 2.934978485107422, 'teacher_loss': 5.455524921417236}\n"
     ]
    },
    {
     "name": "stderr",
     "output_type": "stream",
     "text": [
      "Validating:  79%|███████▉  | 186/235 [02:27<00:38,  1.27it/s, loss=3.5504, avg_loss=3.5705]"
     ]
    },
    {
     "name": "stdout",
     "output_type": "stream",
     "text": [
      "{'kd_loss': 1.6543148756027222, 'feature_loss': 0.002984109800308943, 'ce_loss': 8.10561752319336, 'cont_loss': 2.912951946258545, 'teacher_loss': 4.764402389526367}\n"
     ]
    },
    {
     "name": "stderr",
     "output_type": "stream",
     "text": [
      "Validating:  80%|███████▉  | 187/235 [02:28<00:37,  1.27it/s, loss=3.5731, avg_loss=3.5705]"
     ]
    },
    {
     "name": "stdout",
     "output_type": "stream",
     "text": [
      "{'kd_loss': 1.7088762521743774, 'feature_loss': 0.0030296477489173412, 'ce_loss': 8.088384628295898, 'cont_loss': 2.918887138366699, 'teacher_loss': 5.395435810089111}\n"
     ]
    },
    {
     "name": "stderr",
     "output_type": "stream",
     "text": [
      "Validating:  80%|████████  | 188/235 [02:29<00:37,  1.27it/s, loss=3.3452, avg_loss=3.5693]"
     ]
    },
    {
     "name": "stdout",
     "output_type": "stream",
     "text": [
      "{'kd_loss': 1.3222979307174683, 'feature_loss': 0.0031337779946625233, 'ce_loss': 7.9665656089782715, 'cont_loss': 2.9372828006744385, 'teacher_loss': 5.4686455726623535}\n"
     ]
    },
    {
     "name": "stderr",
     "output_type": "stream",
     "text": [
      "Validating:  80%|████████  | 189/235 [02:30<00:36,  1.27it/s, loss=3.7251, avg_loss=3.5701]"
     ]
    },
    {
     "name": "stdout",
     "output_type": "stream",
     "text": [
      "{'kd_loss': 2.055562973022461, 'feature_loss': 0.0028979131020605564, 'ce_loss': 8.010544776916504, 'cont_loss': 2.9389867782592773, 'teacher_loss': 5.66444730758667}\n"
     ]
    },
    {
     "name": "stderr",
     "output_type": "stream",
     "text": [
      "Validating:  81%|████████  | 190/235 [02:31<00:35,  1.27it/s, loss=3.5623, avg_loss=3.5701]"
     ]
    },
    {
     "name": "stdout",
     "output_type": "stream",
     "text": [
      "{'kd_loss': 1.7627525329589844, 'feature_loss': 0.0029229470528662205, 'ce_loss': 7.973734378814697, 'cont_loss': 2.885174512863159, 'teacher_loss': 5.350859642028809}\n"
     ]
    },
    {
     "name": "stderr",
     "output_type": "stream",
     "text": [
      "Validating:  81%|████████▏ | 191/235 [02:31<00:34,  1.27it/s, loss=3.5713, avg_loss=3.5701]"
     ]
    },
    {
     "name": "stdout",
     "output_type": "stream",
     "text": [
      "{'kd_loss': 1.7791860103607178, 'feature_loss': 0.0030214646831154823, 'ce_loss': 7.960079669952393, 'cont_loss': 2.934206962585449, 'teacher_loss': 6.057163238525391}\n"
     ]
    },
    {
     "name": "stderr",
     "output_type": "stream",
     "text": [
      "Validating:  82%|████████▏ | 192/235 [02:32<00:33,  1.27it/s, loss=3.5479, avg_loss=3.5699]"
     ]
    },
    {
     "name": "stdout",
     "output_type": "stream",
     "text": [
      "{'kd_loss': 1.6939252614974976, 'feature_loss': 0.002937831450253725, 'ce_loss': 8.019521713256836, 'cont_loss': 2.948235034942627, 'teacher_loss': 5.3045654296875}\n"
     ]
    },
    {
     "name": "stderr",
     "output_type": "stream",
     "text": [
      "Validating:  82%|████████▏ | 193/235 [02:33<00:33,  1.27it/s, loss=3.5208, avg_loss=3.5697]"
     ]
    },
    {
     "name": "stdout",
     "output_type": "stream",
     "text": [
      "{'kd_loss': 1.705930233001709, 'feature_loss': 0.003021068638190627, 'ce_loss': 7.907926082611084, 'cont_loss': 2.9511682987213135, 'teacher_loss': 5.106682300567627}\n"
     ]
    },
    {
     "name": "stderr",
     "output_type": "stream",
     "text": [
      "Validating:  83%|████████▎ | 194/235 [02:34<00:32,  1.27it/s, loss=3.5053, avg_loss=3.5694]"
     ]
    },
    {
     "name": "stdout",
     "output_type": "stream",
     "text": [
      "{'kd_loss': 1.6140855550765991, 'feature_loss': 0.0031109307892620564, 'ce_loss': 8.006455421447754, 'cont_loss': 2.9603004455566406, 'teacher_loss': 4.701765537261963}\n"
     ]
    },
    {
     "name": "stderr",
     "output_type": "stream",
     "text": [
      "Validating:  83%|████████▎ | 195/235 [02:35<00:31,  1.27it/s, loss=3.5593, avg_loss=3.5693]"
     ]
    },
    {
     "name": "stdout",
     "output_type": "stream",
     "text": [
      "{'kd_loss': 1.6463555097579956, 'feature_loss': 0.002986622042953968, 'ce_loss': 8.132003784179688, 'cont_loss': 2.962118148803711, 'teacher_loss': 5.274364471435547}\n"
     ]
    },
    {
     "name": "stderr",
     "output_type": "stream",
     "text": [
      "Validating:  83%|████████▎ | 196/235 [02:35<00:30,  1.27it/s, loss=3.4251, avg_loss=3.5686]"
     ]
    },
    {
     "name": "stdout",
     "output_type": "stream",
     "text": [
      "{'kd_loss': 1.390212893486023, 'feature_loss': 0.003159830579534173, 'ce_loss': 8.097382545471191, 'cont_loss': 3.0042061805725098, 'teacher_loss': 5.76942253112793}\n"
     ]
    },
    {
     "name": "stderr",
     "output_type": "stream",
     "text": [
      "Validating:  84%|████████▍ | 197/235 [02:36<00:29,  1.27it/s, loss=3.5799, avg_loss=3.5686]"
     ]
    },
    {
     "name": "stdout",
     "output_type": "stream",
     "text": [
      "{'kd_loss': 1.7901893854141235, 'feature_loss': 0.0030487747862935066, 'ce_loss': 7.962179660797119, 'cont_loss': 2.9584176540374756, 'teacher_loss': 5.1023759841918945}\n"
     ]
    },
    {
     "name": "stderr",
     "output_type": "stream",
     "text": [
      "Validating:  84%|████████▍ | 198/235 [02:37<00:29,  1.27it/s, loss=3.4431, avg_loss=3.5680]"
     ]
    },
    {
     "name": "stdout",
     "output_type": "stream",
     "text": [
      "{'kd_loss': 1.439000129699707, 'feature_loss': 0.0029799218755215406, 'ce_loss': 8.088067054748535, 'cont_loss': 2.968369483947754, 'teacher_loss': 5.644682884216309}\n"
     ]
    },
    {
     "name": "stderr",
     "output_type": "stream",
     "text": [
      "Validating:  85%|████████▍ | 199/235 [02:38<00:28,  1.27it/s, loss=3.4555, avg_loss=3.5674]"
     ]
    },
    {
     "name": "stdout",
     "output_type": "stream",
     "text": [
      "{'kd_loss': 1.4390687942504883, 'feature_loss': 0.0030863976571708918, 'ce_loss': 8.114447593688965, 'cont_loss': 3.0128612518310547, 'teacher_loss': 5.98534631729126}\n"
     ]
    },
    {
     "name": "stderr",
     "output_type": "stream",
     "text": [
      "Validating:  85%|████████▌ | 200/235 [02:38<00:27,  1.27it/s, loss=3.2696, avg_loss=3.5659]"
     ]
    },
    {
     "name": "stdout",
     "output_type": "stream",
     "text": [
      "{'kd_loss': 1.1251001358032227, 'feature_loss': 0.0030380829703062773, 'ce_loss': 8.016718864440918, 'cont_loss': 3.017763137817383, 'teacher_loss': 4.8956756591796875}\n"
     ]
    },
    {
     "name": "stderr",
     "output_type": "stream",
     "text": [
      "Validating:  86%|████████▌ | 201/235 [02:39<00:26,  1.27it/s, loss=3.5372, avg_loss=3.5658]"
     ]
    },
    {
     "name": "stdout",
     "output_type": "stream",
     "text": [
      "{'kd_loss': 1.6543500423431396, 'feature_loss': 0.0030122471507638693, 'ce_loss': 8.028149604797363, 'cont_loss': 3.012885570526123, 'teacher_loss': 5.55105447769165}\n"
     ]
    },
    {
     "name": "stderr",
     "output_type": "stream",
     "text": [
      "Validating:  86%|████████▌ | 202/235 [02:40<00:26,  1.27it/s, loss=3.5884, avg_loss=3.5659]"
     ]
    },
    {
     "name": "stdout",
     "output_type": "stream",
     "text": [
      "{'kd_loss': 1.820536732673645, 'feature_loss': 0.0029241987504065037, 'ce_loss': 7.925967216491699, 'cont_loss': 3.000722885131836, 'teacher_loss': 5.719697952270508}\n"
     ]
    },
    {
     "name": "stderr",
     "output_type": "stream",
     "text": [
      "Validating:  86%|████████▋ | 203/235 [02:41<00:25,  1.27it/s, loss=3.4266, avg_loss=3.5652]"
     ]
    },
    {
     "name": "stdout",
     "output_type": "stream",
     "text": [
      "{'kd_loss': 1.4422415494918823, 'feature_loss': 0.003117100801318884, 'ce_loss': 8.00224781036377, 'cont_loss': 3.0444891452789307, 'teacher_loss': 6.008572578430176}\n"
     ]
    },
    {
     "name": "stderr",
     "output_type": "stream",
     "text": [
      "Validating:  87%|████████▋ | 204/235 [02:42<00:24,  1.27it/s, loss=3.4673, avg_loss=3.5647]"
     ]
    },
    {
     "name": "stdout",
     "output_type": "stream",
     "text": [
      "{'kd_loss': 1.4995319843292236, 'feature_loss': 0.0031140060164034367, 'ce_loss': 8.046610832214355, 'cont_loss': 3.032313346862793, 'teacher_loss': 5.065674304962158}\n"
     ]
    },
    {
     "name": "stderr",
     "output_type": "stream",
     "text": [
      "Validating:  87%|████████▋ | 205/235 [02:42<00:23,  1.27it/s, loss=3.4982, avg_loss=3.5644]"
     ]
    },
    {
     "name": "stdout",
     "output_type": "stream",
     "text": [
      "{'kd_loss': 1.53433358669281, 'feature_loss': 0.003072593593969941, 'ce_loss': 8.084643363952637, 'cont_loss': 3.0529112815856934, 'teacher_loss': 5.424871921539307}\n"
     ]
    },
    {
     "name": "stderr",
     "output_type": "stream",
     "text": [
      "Validating:  88%|████████▊ | 206/235 [02:43<00:22,  1.27it/s, loss=3.5086, avg_loss=3.5641]"
     ]
    },
    {
     "name": "stdout",
     "output_type": "stream",
     "text": [
      "{'kd_loss': 1.5238028764724731, 'feature_loss': 0.003087084274739027, 'ce_loss': 8.139641761779785, 'cont_loss': 3.0452094078063965, 'teacher_loss': 5.538525581359863}\n"
     ]
    },
    {
     "name": "stderr",
     "output_type": "stream",
     "text": [
      "Validating:  88%|████████▊ | 207/235 [02:44<00:22,  1.27it/s, loss=3.3036, avg_loss=3.5629]"
     ]
    },
    {
     "name": "stdout",
     "output_type": "stream",
     "text": [
      "{'kd_loss': 1.1988362073898315, 'feature_loss': 0.0032138999085873365, 'ce_loss': 7.984438896179199, 'cont_loss': 3.085724353790283, 'teacher_loss': 5.267064571380615}\n"
     ]
    },
    {
     "name": "stderr",
     "output_type": "stream",
     "text": [
      "Validating:  89%|████████▊ | 208/235 [02:45<00:21,  1.27it/s, loss=3.4106, avg_loss=3.5622]"
     ]
    },
    {
     "name": "stdout",
     "output_type": "stream",
     "text": [
      "{'kd_loss': 1.3476061820983887, 'feature_loss': 0.003028171369805932, 'ce_loss': 8.09129810333252, 'cont_loss': 3.0908522605895996, 'teacher_loss': 6.230727195739746}\n"
     ]
    },
    {
     "name": "stderr",
     "output_type": "stream",
     "text": [
      "Validating:  89%|████████▉ | 209/235 [02:46<00:20,  1.27it/s, loss=3.3977, avg_loss=3.5614]"
     ]
    },
    {
     "name": "stdout",
     "output_type": "stream",
     "text": [
      "{'kd_loss': 1.3955765962600708, 'feature_loss': 0.003147452138364315, 'ce_loss': 7.97515869140625, 'cont_loss': 3.070408821105957, 'teacher_loss': 5.226528644561768}\n"
     ]
    },
    {
     "name": "stderr",
     "output_type": "stream",
     "text": [
      "Validating:  89%|████████▉ | 210/235 [02:46<00:19,  1.27it/s, loss=3.4070, avg_loss=3.5606]"
     ]
    },
    {
     "name": "stdout",
     "output_type": "stream",
     "text": [
      "{'kd_loss': 1.4143073558807373, 'feature_loss': 0.0030474234372377396, 'ce_loss': 7.97684383392334, 'cont_loss': 3.0652480125427246, 'teacher_loss': 5.868002414703369}\n"
     ]
    },
    {
     "name": "stderr",
     "output_type": "stream",
     "text": [
      "Validating:  90%|████████▉ | 211/235 [02:47<00:18,  1.27it/s, loss=3.4300, avg_loss=3.5600]"
     ]
    },
    {
     "name": "stdout",
     "output_type": "stream",
     "text": [
      "{'kd_loss': 1.5109164714813232, 'feature_loss': 0.0030603990890085697, 'ce_loss': 7.883267402648926, 'cont_loss': 3.0923986434936523, 'teacher_loss': 4.935476779937744}\n"
     ]
    },
    {
     "name": "stderr",
     "output_type": "stream",
     "text": [
      "Validating:  90%|█████████ | 212/235 [02:48<00:18,  1.27it/s, loss=3.4650, avg_loss=3.5596]"
     ]
    },
    {
     "name": "stdout",
     "output_type": "stream",
     "text": [
      "{'kd_loss': 1.5275157690048218, 'feature_loss': 0.00308347144164145, 'ce_loss': 7.971445083618164, 'cont_loss': 3.094528913497925, 'teacher_loss': 5.385853290557861}\n"
     ]
    },
    {
     "name": "stderr",
     "output_type": "stream",
     "text": [
      "Validating:  91%|█████████ | 213/235 [02:49<00:17,  1.27it/s, loss=3.3111, avg_loss=3.5584]"
     ]
    },
    {
     "name": "stdout",
     "output_type": "stream",
     "text": [
      "{'kd_loss': 1.1955347061157227, 'feature_loss': 0.0032385990489274263, 'ce_loss': 8.003789901733398, 'cont_loss': 3.1192169189453125, 'teacher_loss': 5.496418476104736}\n"
     ]
    },
    {
     "name": "stderr",
     "output_type": "stream",
     "text": [
      "Validating:  91%|█████████ | 214/235 [02:50<00:16,  1.27it/s, loss=3.4157, avg_loss=3.5577]"
     ]
    },
    {
     "name": "stdout",
     "output_type": "stream",
     "text": [
      "{'kd_loss': 1.3690893650054932, 'feature_loss': 0.003113349201157689, 'ce_loss': 8.061685562133789, 'cont_loss': 3.123349189758301, 'teacher_loss': 5.731026649475098}\n"
     ]
    },
    {
     "name": "stderr",
     "output_type": "stream",
     "text": [
      "Validating:  91%|█████████▏| 215/235 [02:50<00:15,  1.27it/s, loss=3.4446, avg_loss=3.5572]"
     ]
    },
    {
     "name": "stdout",
     "output_type": "stream",
     "text": [
      "{'kd_loss': 1.4410145282745361, 'feature_loss': 0.0030940542928874493, 'ce_loss': 8.038578033447266, 'cont_loss': 3.1221444606781006, 'teacher_loss': 6.394012928009033}\n"
     ]
    },
    {
     "name": "stderr",
     "output_type": "stream",
     "text": [
      "Validating:  92%|█████████▏| 216/235 [02:51<00:14,  1.27it/s, loss=3.3792, avg_loss=3.5564]"
     ]
    },
    {
     "name": "stdout",
     "output_type": "stream",
     "text": [
      "{'kd_loss': 1.3216885328292847, 'feature_loss': 0.0030764215625822544, 'ce_loss': 8.022489547729492, 'cont_loss': 3.1128838062286377, 'teacher_loss': 5.8142852783203125}\n"
     ]
    },
    {
     "name": "stderr",
     "output_type": "stream",
     "text": [
      "Validating:  92%|█████████▏| 217/235 [02:52<00:14,  1.27it/s, loss=3.2725, avg_loss=3.5551]"
     ]
    },
    {
     "name": "stdout",
     "output_type": "stream",
     "text": [
      "{'kd_loss': 1.0858627557754517, 'feature_loss': 0.0031603057868778706, 'ce_loss': 8.048178672790527, 'cont_loss': 3.1476502418518066, 'teacher_loss': 5.500565052032471}\n"
     ]
    },
    {
     "name": "stderr",
     "output_type": "stream",
     "text": [
      "Validating:  93%|█████████▎| 218/235 [02:53<00:13,  1.27it/s, loss=3.4023, avg_loss=3.5544]"
     ]
    },
    {
     "name": "stdout",
     "output_type": "stream",
     "text": [
      "{'kd_loss': 1.330186128616333, 'feature_loss': 0.0031113866716623306, 'ce_loss': 8.075204849243164, 'cont_loss': 3.143083095550537, 'teacher_loss': 5.6157546043396}\n"
     ]
    },
    {
     "name": "stderr",
     "output_type": "stream",
     "text": [
      "Validating:  93%|█████████▎| 219/235 [02:53<00:12,  1.27it/s, loss=3.3992, avg_loss=3.5537]"
     ]
    },
    {
     "name": "stdout",
     "output_type": "stream",
     "text": [
      "{'kd_loss': 1.3231918811798096, 'feature_loss': 0.0031890319660305977, 'ce_loss': 8.078553199768066, 'cont_loss': 3.1375396251678467, 'teacher_loss': 5.398521900177002}\n"
     ]
    },
    {
     "name": "stderr",
     "output_type": "stream",
     "text": [
      "Validating:  94%|█████████▎| 220/235 [02:54<00:11,  1.27it/s, loss=3.4926, avg_loss=3.5534]"
     ]
    },
    {
     "name": "stdout",
     "output_type": "stream",
     "text": [
      "{'kd_loss': 1.49101722240448, 'feature_loss': 0.0030369628220796585, 'ce_loss': 8.108098983764648, 'cont_loss': 3.1439590454101562, 'teacher_loss': 5.898423194885254}\n"
     ]
    },
    {
     "name": "stderr",
     "output_type": "stream",
     "text": [
      "Validating:  94%|█████████▍| 221/235 [02:55<00:11,  1.27it/s, loss=3.3183, avg_loss=3.5523]"
     ]
    },
    {
     "name": "stdout",
     "output_type": "stream",
     "text": [
      "{'kd_loss': 1.1764683723449707, 'feature_loss': 0.0031480472534894943, 'ce_loss': 8.036253929138184, 'cont_loss': 3.189028739929199, 'teacher_loss': 5.794498920440674}\n"
     ]
    },
    {
     "name": "stderr",
     "output_type": "stream",
     "text": [
      "Validating:  94%|█████████▍| 222/235 [02:56<00:10,  1.27it/s, loss=3.3011, avg_loss=3.5512]"
     ]
    },
    {
     "name": "stdout",
     "output_type": "stream",
     "text": [
      "{'kd_loss': 1.1642104387283325, 'feature_loss': 0.0032108300365507603, 'ce_loss': 7.999915599822998, 'cont_loss': 3.1866097450256348, 'teacher_loss': 5.868707656860352}\n"
     ]
    },
    {
     "name": "stderr",
     "output_type": "stream",
     "text": [
      "Validating:  95%|█████████▍| 223/235 [02:57<00:09,  1.27it/s, loss=3.4852, avg_loss=3.5509]"
     ]
    },
    {
     "name": "stdout",
     "output_type": "stream",
     "text": [
      "{'kd_loss': 1.5294835567474365, 'feature_loss': 0.0030832241754978895, 'ce_loss': 8.0159330368042, 'cont_loss': 3.153958320617676, 'teacher_loss': 4.968709945678711}\n"
     ]
    },
    {
     "name": "stderr",
     "output_type": "stream",
     "text": [
      "Validating:  95%|█████████▌| 224/235 [02:57<00:08,  1.27it/s, loss=3.2968, avg_loss=3.5498]"
     ]
    },
    {
     "name": "stdout",
     "output_type": "stream",
     "text": [
      "{'kd_loss': 1.1228147745132446, 'feature_loss': 0.003126716474071145, 'ce_loss': 8.058390617370605, 'cont_loss': 3.1753859519958496, 'teacher_loss': 5.320075511932373}\n"
     ]
    },
    {
     "name": "stderr",
     "output_type": "stream",
     "text": [
      "Validating:  96%|█████████▌| 225/235 [02:58<00:07,  1.27it/s, loss=3.4272, avg_loss=3.5492]"
     ]
    },
    {
     "name": "stdout",
     "output_type": "stream",
     "text": [
      "{'kd_loss': 1.3698118925094604, 'feature_loss': 0.0031998218037188053, 'ce_loss': 8.073784828186035, 'cont_loss': 3.1981637477874756, 'teacher_loss': 5.232594013214111}\n"
     ]
    },
    {
     "name": "stderr",
     "output_type": "stream",
     "text": [
      "Validating:  96%|█████████▌| 226/235 [02:59<00:07,  1.27it/s, loss=3.3410, avg_loss=3.5483]"
     ]
    },
    {
     "name": "stdout",
     "output_type": "stream",
     "text": [
      "{'kd_loss': 1.2531397342681885, 'feature_loss': 0.0030548376962542534, 'ce_loss': 7.98451042175293, 'cont_loss': 3.1873276233673096, 'teacher_loss': 5.318445682525635}\n"
     ]
    },
    {
     "name": "stderr",
     "output_type": "stream",
     "text": [
      "Validating:  97%|█████████▋| 227/235 [03:00<00:06,  1.27it/s, loss=3.5546, avg_loss=3.5483]"
     ]
    },
    {
     "name": "stdout",
     "output_type": "stream",
     "text": [
      "{'kd_loss': 1.6153331995010376, 'feature_loss': 0.0030788651201874018, 'ce_loss': 8.085599899291992, 'cont_loss': 3.2099359035491943, 'teacher_loss': 5.425244331359863}\n"
     ]
    },
    {
     "name": "stderr",
     "output_type": "stream",
     "text": [
      "Validating:  97%|█████████▋| 228/235 [03:01<00:05,  1.27it/s, loss=3.4884, avg_loss=3.5481]"
     ]
    },
    {
     "name": "stdout",
     "output_type": "stream",
     "text": [
      "{'kd_loss': 1.502977967262268, 'feature_loss': 0.003144858404994011, 'ce_loss': 8.059370040893555, 'cont_loss': 3.1874401569366455, 'teacher_loss': 5.550368309020996}\n"
     ]
    },
    {
     "name": "stderr",
     "output_type": "stream",
     "text": [
      "Validating:  97%|█████████▋| 229/235 [03:01<00:04,  1.27it/s, loss=3.5338, avg_loss=3.5480]"
     ]
    },
    {
     "name": "stdout",
     "output_type": "stream",
     "text": [
      "{'kd_loss': 1.5863463878631592, 'feature_loss': 0.0029630814678967, 'ce_loss': 8.061171531677246, 'cont_loss': 3.2194254398345947, 'teacher_loss': 5.754542827606201}\n"
     ]
    },
    {
     "name": "stderr",
     "output_type": "stream",
     "text": [
      "Validating:  98%|█████████▊| 230/235 [03:02<00:03,  1.27it/s, loss=3.4050, avg_loss=3.5474]"
     ]
    },
    {
     "name": "stdout",
     "output_type": "stream",
     "text": [
      "{'kd_loss': 1.271121859550476, 'feature_loss': 0.0031648059375584126, 'ce_loss': 8.140127182006836, 'cont_loss': 3.2705280780792236, 'teacher_loss': 5.415565013885498}\n"
     ]
    },
    {
     "name": "stderr",
     "output_type": "stream",
     "text": [
      "Validating:  98%|█████████▊| 231/235 [03:03<00:03,  1.27it/s, loss=3.5658, avg_loss=3.5475]"
     ]
    },
    {
     "name": "stdout",
     "output_type": "stream",
     "text": [
      "{'kd_loss': 1.6049399375915527, 'feature_loss': 0.0030742106027901173, 'ce_loss': 8.128933906555176, 'cont_loss': 3.243656635284424, 'teacher_loss': 5.868505954742432}\n"
     ]
    },
    {
     "name": "stderr",
     "output_type": "stream",
     "text": [
      "Validating:  99%|█████████▊| 232/235 [03:04<00:02,  1.27it/s, loss=3.3532, avg_loss=3.5466]"
     ]
    },
    {
     "name": "stdout",
     "output_type": "stream",
     "text": [
      "{'kd_loss': 1.247934103012085, 'feature_loss': 0.002997389528900385, 'ce_loss': 8.018099784851074, 'cont_loss': 3.2348408699035645, 'teacher_loss': 5.114221572875977}\n"
     ]
    },
    {
     "name": "stderr",
     "output_type": "stream",
     "text": [
      "Validating:  99%|█████████▉| 233/235 [03:04<00:01,  1.27it/s, loss=3.4030, avg_loss=3.5460]"
     ]
    },
    {
     "name": "stdout",
     "output_type": "stream",
     "text": [
      "{'kd_loss': 1.3213671445846558, 'feature_loss': 0.0031689926981925964, 'ce_loss': 8.047859191894531, 'cont_loss': 3.276726722717285, 'teacher_loss': 5.885430812835693}\n"
     ]
    },
    {
     "name": "stderr",
     "output_type": "stream",
     "text": [
      "Validating: 100%|█████████▉| 234/235 [03:05<00:00,  1.27it/s, loss=3.3881, avg_loss=3.5453]"
     ]
    },
    {
     "name": "stdout",
     "output_type": "stream",
     "text": [
      "{'kd_loss': 1.266353726387024, 'feature_loss': 0.003135435748845339, 'ce_loss': 8.103476524353027, 'cont_loss': 3.2358293533325195, 'teacher_loss': 5.156280517578125}\n"
     ]
    },
    {
     "name": "stderr",
     "output_type": "stream",
     "text": [
      "Validating: 100%|██████████| 235/235 [03:06<00:00,  1.26it/s, loss=3.3464, avg_loss=3.5445]"
     ]
    },
    {
     "name": "stdout",
     "output_type": "stream",
     "text": [
      "{'kd_loss': 1.4565505981445312, 'feature_loss': 0.0031633602920919657, 'ce_loss': 7.9485015869140625, 'cont_loss': 2.3324382305145264, 'teacher_loss': 5.9133381843566895}\n",
      "Epoch 4 | Train Loss: 3.7221 | Val Loss: 3.5445 | Top1 Acc: 0.01 | Top5 Acc: 0.04\n"
     ]
    },
    {
     "name": "stderr",
     "output_type": "stream",
     "text": [
      "\n",
      "Training: 100%|██████████| 1875/1875 [17:08<00:00,  1.82it/s, loss=3.7645, avg_loss=3.7115, lr=1.05e-5]\n",
      "Validating:   0%|          | 1/235 [00:02<09:46,  2.51s/it, loss=2.9767, avg_loss=2.9767]"
     ]
    },
    {
     "name": "stdout",
     "output_type": "stream",
     "text": [
      "{'kd_loss': 1.4152426719665527, 'feature_loss': 0.0027065849862992764, 'ce_loss': 7.086815357208252, 'cont_loss': 1.4271929264068604, 'teacher_loss': 4.964198112487793}\n"
     ]
    },
    {
     "name": "stderr",
     "output_type": "stream",
     "text": [
      "Validating:   1%|          | 2/235 [00:03<05:47,  1.49s/it, loss=3.1932, avg_loss=3.0849]"
     ]
    },
    {
     "name": "stdout",
     "output_type": "stream",
     "text": [
      "{'kd_loss': 1.6351202726364136, 'feature_loss': 0.002674135845154524, 'ce_loss': 7.421158790588379, 'cont_loss': 1.4900388717651367, 'teacher_loss': 4.659346580505371}\n"
     ]
    },
    {
     "name": "stderr",
     "output_type": "stream",
     "text": [
      "Validating:   1%|▏         | 3/235 [00:04<04:31,  1.17s/it, loss=3.4563, avg_loss=3.2087]"
     ]
    },
    {
     "name": "stdout",
     "output_type": "stream",
     "text": [
      "{'kd_loss': 1.852059245109558, 'feature_loss': 0.002942168153822422, 'ce_loss': 7.945425510406494, 'cont_loss': 1.463029146194458, 'teacher_loss': 4.786963939666748}\n"
     ]
    },
    {
     "name": "stderr",
     "output_type": "stream",
     "text": [
      "Validating:   2%|▏         | 4/235 [00:04<03:55,  1.02s/it, loss=3.2656, avg_loss=3.2229]"
     ]
    },
    {
     "name": "stdout",
     "output_type": "stream",
     "text": [
      "{'kd_loss': 2.090053081512451, 'feature_loss': 0.0025956789031624794, 'ce_loss': 6.923702716827393, 'cont_loss': 1.4321353435516357, 'teacher_loss': 4.727680206298828}\n"
     ]
    },
    {
     "name": "stderr",
     "output_type": "stream",
     "text": [
      "Validating:   2%|▏         | 5/235 [00:05<03:35,  1.07it/s, loss=3.5540, avg_loss=3.2891]"
     ]
    },
    {
     "name": "stdout",
     "output_type": "stream",
     "text": [
      "{'kd_loss': 2.71372652053833, 'feature_loss': 0.002405859064310789, 'ce_loss': 6.85331916809082, 'cont_loss': 1.4092373847961426, 'teacher_loss': 6.346809387207031}\n"
     ]
    },
    {
     "name": "stderr",
     "output_type": "stream",
     "text": [
      "Validating:   3%|▎         | 6/235 [00:06<03:22,  1.13it/s, loss=2.8449, avg_loss=3.2151]"
     ]
    },
    {
     "name": "stdout",
     "output_type": "stream",
     "text": [
      "{'kd_loss': 0.9480957984924316, 'feature_loss': 0.003117816522717476, 'ce_loss': 7.410829544067383, 'cont_loss': 1.4727628231048584, 'teacher_loss': 3.0749282836914062}\n"
     ]
    },
    {
     "name": "stderr",
     "output_type": "stream",
     "text": [
      "Validating:   3%|▎         | 7/235 [00:07<03:14,  1.17it/s, loss=3.2168, avg_loss=3.2153]"
     ]
    },
    {
     "name": "stdout",
     "output_type": "stream",
     "text": [
      "{'kd_loss': 1.8826645612716675, 'feature_loss': 0.0025743525475263596, 'ce_loss': 7.105050086975098, 'cont_loss': 1.4371562004089355, 'teacher_loss': 5.022616386413574}\n"
     ]
    },
    {
     "name": "stderr",
     "output_type": "stream",
     "text": [
      "Validating:   3%|▎         | 8/235 [00:08<03:08,  1.20it/s, loss=3.7398, avg_loss=3.2809]"
     ]
    },
    {
     "name": "stdout",
     "output_type": "stream",
     "text": [
      "{'kd_loss': 2.672086715698242, 'feature_loss': 0.0026210348587483168, 'ce_loss': 7.5301513671875, 'cont_loss': 1.4440865516662598, 'teacher_loss': 4.604374408721924}\n"
     ]
    },
    {
     "name": "stderr",
     "output_type": "stream",
     "text": [
      "Validating:   4%|▍         | 9/235 [00:08<03:04,  1.22it/s, loss=4.2585, avg_loss=3.3895]"
     ]
    },
    {
     "name": "stdout",
     "output_type": "stream",
     "text": [
      "{'kd_loss': 3.8358263969421387, 'feature_loss': 0.00228741392493248, 'ce_loss': 7.318393230438232, 'cont_loss': 1.448081374168396, 'teacher_loss': 5.622093200683594}\n"
     ]
    },
    {
     "name": "stderr",
     "output_type": "stream",
     "text": [
      "Validating:   4%|▍         | 10/235 [00:09<03:01,  1.24it/s, loss=3.6663, avg_loss=3.4172]"
     ]
    },
    {
     "name": "stdout",
     "output_type": "stream",
     "text": [
      "{'kd_loss': 2.9303033351898193, 'feature_loss': 0.002491986844688654, 'ce_loss': 6.853173732757568, 'cont_loss': 1.4494907855987549, 'teacher_loss': 5.505488872528076}\n"
     ]
    },
    {
     "name": "stderr",
     "output_type": "stream",
     "text": [
      "Validating:   5%|▍         | 11/235 [00:10<02:59,  1.25it/s, loss=3.0634, avg_loss=3.3850]"
     ]
    },
    {
     "name": "stdout",
     "output_type": "stream",
     "text": [
      "{'kd_loss': 1.304837703704834, 'feature_loss': 0.0027912803925573826, 'ce_loss': 7.556227684020996, 'cont_loss': 1.4384362697601318, 'teacher_loss': 3.8035836219787598}\n"
     ]
    },
    {
     "name": "stderr",
     "output_type": "stream",
     "text": [
      "Validating:   5%|▌         | 12/235 [00:11<02:57,  1.25it/s, loss=3.8830, avg_loss=3.4265]"
     ]
    },
    {
     "name": "stdout",
     "output_type": "stream",
     "text": [
      "{'kd_loss': 2.6681532859802246, 'feature_loss': 0.0024975750129669905, 'ce_loss': 8.020742416381836, 'cont_loss': 1.424749732017517, 'teacher_loss': 4.240283012390137}\n"
     ]
    },
    {
     "name": "stderr",
     "output_type": "stream",
     "text": [
      "Validating:   6%|▌         | 13/235 [00:11<02:56,  1.26it/s, loss=3.4226, avg_loss=3.4262]"
     ]
    },
    {
     "name": "stdout",
     "output_type": "stream",
     "text": [
      "{'kd_loss': 1.8248921632766724, 'feature_loss': 0.0028014332056045532, 'ce_loss': 7.891358852386475, 'cont_loss': 1.4248738288879395, 'teacher_loss': 4.105236530303955}\n"
     ]
    },
    {
     "name": "stderr",
     "output_type": "stream",
     "text": [
      "Validating:   6%|▌         | 14/235 [00:12<02:55,  1.26it/s, loss=3.1617, avg_loss=3.4073]"
     ]
    },
    {
     "name": "stdout",
     "output_type": "stream",
     "text": [
      "{'kd_loss': 1.3819446563720703, 'feature_loss': 0.0031098597683012486, 'ce_loss': 7.732145309448242, 'cont_loss': 1.507416009902954, 'teacher_loss': 3.8346219062805176}\n"
     ]
    },
    {
     "name": "stderr",
     "output_type": "stream",
     "text": [
      "Validating:   6%|▋         | 15/235 [00:13<02:53,  1.26it/s, loss=3.7246, avg_loss=3.4285]"
     ]
    },
    {
     "name": "stdout",
     "output_type": "stream",
     "text": [
      "{'kd_loss': 2.8086447715759277, 'feature_loss': 0.0026009599678218365, 'ce_loss': 7.269038677215576, 'cont_loss': 1.393547534942627, 'teacher_loss': 4.090698719024658}\n"
     ]
    },
    {
     "name": "stderr",
     "output_type": "stream",
     "text": [
      "Validating:   7%|▋         | 16/235 [00:14<02:52,  1.27it/s, loss=3.4435, avg_loss=3.4294]"
     ]
    },
    {
     "name": "stdout",
     "output_type": "stream",
     "text": [
      "{'kd_loss': 2.136932134628296, 'feature_loss': 0.0029004744719713926, 'ce_loss': 7.431911468505859, 'cont_loss': 1.4518613815307617, 'teacher_loss': 5.279562950134277}\n"
     ]
    },
    {
     "name": "stderr",
     "output_type": "stream",
     "text": [
      "Validating:   7%|▋         | 17/235 [00:15<02:51,  1.27it/s, loss=3.0467, avg_loss=3.4069]"
     ]
    },
    {
     "name": "stdout",
     "output_type": "stream",
     "text": [
      "{'kd_loss': 1.7040901184082031, 'feature_loss': 0.0029545952565968037, 'ce_loss': 6.8306474685668945, 'cont_loss': 1.451278567314148, 'teacher_loss': 4.549034595489502}\n"
     ]
    },
    {
     "name": "stderr",
     "output_type": "stream",
     "text": [
      "Validating:   8%|▊         | 18/235 [00:15<02:51,  1.27it/s, loss=3.6923, avg_loss=3.4228]"
     ]
    },
    {
     "name": "stdout",
     "output_type": "stream",
     "text": [
      "{'kd_loss': 2.547755718231201, 'feature_loss': 0.002698867814615369, 'ce_loss': 7.579868793487549, 'cont_loss': 1.4420616626739502, 'teacher_loss': 3.5694520473480225}\n"
     ]
    },
    {
     "name": "stderr",
     "output_type": "stream",
     "text": [
      "Validating:   8%|▊         | 19/235 [00:16<02:50,  1.27it/s, loss=3.5955, avg_loss=3.4319]"
     ]
    },
    {
     "name": "stdout",
     "output_type": "stream",
     "text": [
      "{'kd_loss': 2.3326632976531982, 'feature_loss': 0.002656202530488372, 'ce_loss': 7.615555286407471, 'cont_loss': 1.442152500152588, 'teacher_loss': 4.739170551300049}\n"
     ]
    },
    {
     "name": "stderr",
     "output_type": "stream",
     "text": [
      "Validating:   9%|▊         | 20/235 [00:17<02:49,  1.27it/s, loss=4.1712, avg_loss=3.4688]"
     ]
    },
    {
     "name": "stdout",
     "output_type": "stream",
     "text": [
      "{'kd_loss': 3.380277156829834, 'feature_loss': 0.0024455119855701923, 'ce_loss': 7.784423828125, 'cont_loss': 1.4550282955169678, 'teacher_loss': 5.042705535888672}\n"
     ]
    },
    {
     "name": "stderr",
     "output_type": "stream",
     "text": [
      "Validating:   9%|▉         | 21/235 [00:18<02:48,  1.27it/s, loss=3.9188, avg_loss=3.4903]"
     ]
    },
    {
     "name": "stdout",
     "output_type": "stream",
     "text": [
      "{'kd_loss': 3.1094470024108887, 'feature_loss': 0.002451258013024926, 'ce_loss': 7.387204647064209, 'cont_loss': 1.4765918254852295, 'teacher_loss': 5.071014404296875}\n"
     ]
    },
    {
     "name": "stderr",
     "output_type": "stream",
     "text": [
      "Validating:   9%|▉         | 22/235 [00:19<02:47,  1.27it/s, loss=4.1534, avg_loss=3.5204]"
     ]
    },
    {
     "name": "stdout",
     "output_type": "stream",
     "text": [
      "{'kd_loss': 3.7082901000976562, 'feature_loss': 0.0023246975615620613, 'ce_loss': 7.169857025146484, 'cont_loss': 1.4808701276779175, 'teacher_loss': 6.691926956176758}\n"
     ]
    },
    {
     "name": "stderr",
     "output_type": "stream",
     "text": [
      "Validating:  10%|▉         | 23/235 [00:19<02:46,  1.27it/s, loss=3.0514, avg_loss=3.5000]"
     ]
    },
    {
     "name": "stdout",
     "output_type": "stream",
     "text": [
      "{'kd_loss': 1.2561655044555664, 'feature_loss': 0.0029880732763558626, 'ce_loss': 7.590491771697998, 'cont_loss': 1.4589142799377441, 'teacher_loss': 5.083790302276611}\n"
     ]
    },
    {
     "name": "stderr",
     "output_type": "stream",
     "text": [
      "Validating:  10%|█         | 24/235 [00:20<02:46,  1.27it/s, loss=3.3874, avg_loss=3.4953]"
     ]
    },
    {
     "name": "stdout",
     "output_type": "stream",
     "text": [
      "{'kd_loss': 2.0893301963806152, 'feature_loss': 0.0028134030289947987, 'ce_loss': 7.325778961181641, 'cont_loss': 1.4472354650497437, 'teacher_loss': 3.9769914150238037}\n"
     ]
    },
    {
     "name": "stderr",
     "output_type": "stream",
     "text": [
      "Validating:  11%|█         | 25/235 [00:21<02:45,  1.27it/s, loss=3.4441, avg_loss=3.4933]"
     ]
    },
    {
     "name": "stdout",
     "output_type": "stream",
     "text": [
      "{'kd_loss': 2.0071916580200195, 'feature_loss': 0.002733230125159025, 'ce_loss': 7.647126197814941, 'cont_loss': 1.4612598419189453, 'teacher_loss': 4.168231010437012}\n"
     ]
    },
    {
     "name": "stderr",
     "output_type": "stream",
     "text": [
      "Validating:  11%|█         | 26/235 [00:22<02:44,  1.27it/s, loss=3.0285, avg_loss=3.4754]"
     ]
    },
    {
     "name": "stdout",
     "output_type": "stream",
     "text": [
      "{'kd_loss': 1.0521873235702515, 'feature_loss': 0.0030878856778144836, 'ce_loss': 7.852396488189697, 'cont_loss': 1.4633090496063232, 'teacher_loss': 3.626757860183716}\n"
     ]
    },
    {
     "name": "stderr",
     "output_type": "stream",
     "text": [
      "Validating:  11%|█▏        | 27/235 [00:22<02:43,  1.27it/s, loss=3.5127, avg_loss=3.4768]"
     ]
    },
    {
     "name": "stdout",
     "output_type": "stream",
     "text": [
      "{'kd_loss': 2.024554967880249, 'feature_loss': 0.002674601972103119, 'ce_loss': 7.858963966369629, 'cont_loss': 1.4245257377624512, 'teacher_loss': 3.6986119747161865}\n"
     ]
    },
    {
     "name": "stderr",
     "output_type": "stream",
     "text": [
      "Validating:  12%|█▏        | 28/235 [00:23<02:42,  1.27it/s, loss=3.6783, avg_loss=3.4840]"
     ]
    },
    {
     "name": "stdout",
     "output_type": "stream",
     "text": [
      "{'kd_loss': 2.4141921997070312, 'feature_loss': 0.0027815294452011585, 'ce_loss': 7.75368070602417, 'cont_loss': 1.4486310482025146, 'teacher_loss': 4.6706929206848145}\n"
     ]
    },
    {
     "name": "stderr",
     "output_type": "stream",
     "text": [
      "Validating:  12%|█▏        | 29/235 [00:24<02:42,  1.27it/s, loss=3.4109, avg_loss=3.4815]"
     ]
    },
    {
     "name": "stdout",
     "output_type": "stream",
     "text": [
      "{'kd_loss': 2.4600579738616943, 'feature_loss': 0.0025918222963809967, 'ce_loss': 6.7832560539245605, 'cont_loss': 1.4565482139587402, 'teacher_loss': 4.578244686126709}\n"
     ]
    },
    {
     "name": "stderr",
     "output_type": "stream",
     "text": [
      "Validating:  13%|█▎        | 30/235 [00:25<02:41,  1.27it/s, loss=3.6524, avg_loss=3.4872]"
     ]
    },
    {
     "name": "stdout",
     "output_type": "stream",
     "text": [
      "{'kd_loss': 2.7529678344726562, 'feature_loss': 0.002750521060079336, 'ce_loss': 7.1374406814575195, 'cont_loss': 1.344223976135254, 'teacher_loss': 2.52488112449646}\n"
     ]
    },
    {
     "name": "stderr",
     "output_type": "stream",
     "text": [
      "Validating:  13%|█▎        | 31/235 [00:26<02:40,  1.27it/s, loss=3.4916, avg_loss=3.4873]"
     ]
    },
    {
     "name": "stdout",
     "output_type": "stream",
     "text": [
      "{'kd_loss': 2.0153725147247314, 'feature_loss': 0.002803943119943142, 'ce_loss': 7.805675029754639, 'cont_loss': 1.4191524982452393, 'teacher_loss': 6.452296257019043}\n"
     ]
    },
    {
     "name": "stderr",
     "output_type": "stream",
     "text": [
      "Validating:  14%|█▎        | 32/235 [00:26<02:39,  1.27it/s, loss=3.7405, avg_loss=3.4952]"
     ]
    },
    {
     "name": "stdout",
     "output_type": "stream",
     "text": [
      "{'kd_loss': 2.7150139808654785, 'feature_loss': 0.002636334393173456, 'ce_loss': 7.454341888427734, 'cont_loss': 1.4641292095184326, 'teacher_loss': 5.889665126800537}\n"
     ]
    },
    {
     "name": "stderr",
     "output_type": "stream",
     "text": [
      "Validating:  14%|█▍        | 33/235 [00:27<02:39,  1.27it/s, loss=3.8957, avg_loss=3.5073]"
     ]
    },
    {
     "name": "stdout",
     "output_type": "stream",
     "text": [
      "{'kd_loss': 3.0272915363311768, 'feature_loss': 0.0026362943463027477, 'ce_loss': 7.457574844360352, 'cont_loss': 1.445051670074463, 'teacher_loss': 4.140488147735596}\n"
     ]
    },
    {
     "name": "stderr",
     "output_type": "stream",
     "text": [
      "Validating:  14%|█▍        | 34/235 [00:28<02:38,  1.27it/s, loss=3.0465, avg_loss=3.4938]"
     ]
    },
    {
     "name": "stdout",
     "output_type": "stream",
     "text": [
      "{'kd_loss': 1.4524447917938232, 'feature_loss': 0.0029368167743086815, 'ce_loss': 7.261719703674316, 'cont_loss': 1.4149526357650757, 'teacher_loss': 3.018296003341675}\n"
     ]
    },
    {
     "name": "stderr",
     "output_type": "stream",
     "text": [
      "Validating:  15%|█▍        | 35/235 [00:29<02:37,  1.27it/s, loss=3.3244, avg_loss=3.4889]"
     ]
    },
    {
     "name": "stdout",
     "output_type": "stream",
     "text": [
      "{'kd_loss': 2.1287126541137695, 'feature_loss': 0.0026293324772268534, 'ce_loss': 7.067887783050537, 'cont_loss': 1.3938689231872559, 'teacher_loss': 3.563000202178955}\n"
     ]
    },
    {
     "name": "stderr",
     "output_type": "stream",
     "text": [
      "Validating:  15%|█▌        | 36/235 [00:30<02:36,  1.27it/s, loss=3.9241, avg_loss=3.5010]"
     ]
    },
    {
     "name": "stdout",
     "output_type": "stream",
     "text": [
      "{'kd_loss': 3.3512420654296875, 'feature_loss': 0.002254245802760124, 'ce_loss': 6.997836589813232, 'cont_loss': 1.4888032674789429, 'teacher_loss': 6.533680438995361}\n"
     ]
    },
    {
     "name": "stderr",
     "output_type": "stream",
     "text": [
      "Validating:  16%|█▌        | 37/235 [00:30<02:35,  1.27it/s, loss=4.1252, avg_loss=3.5179]"
     ]
    },
    {
     "name": "stdout",
     "output_type": "stream",
     "text": [
      "{'kd_loss': 3.6756372451782227, 'feature_loss': 0.002311538439244032, 'ce_loss': 7.114288330078125, 'cont_loss': 1.528921365737915, 'teacher_loss': 4.850955009460449}\n"
     ]
    },
    {
     "name": "stderr",
     "output_type": "stream",
     "text": [
      "Validating:  16%|█▌        | 38/235 [00:31<02:35,  1.27it/s, loss=3.2967, avg_loss=3.5121]"
     ]
    },
    {
     "name": "stdout",
     "output_type": "stream",
     "text": [
      "{'kd_loss': 1.7004338502883911, 'feature_loss': 0.003100594040006399, 'ce_loss': 7.650780200958252, 'cont_loss': 1.5089914798736572, 'teacher_loss': 3.223093032836914}\n"
     ]
    },
    {
     "name": "stderr",
     "output_type": "stream",
     "text": [
      "Validating:  17%|█▋        | 39/235 [00:32<02:34,  1.27it/s, loss=3.9841, avg_loss=3.5242]"
     ]
    },
    {
     "name": "stdout",
     "output_type": "stream",
     "text": [
      "{'kd_loss': 3.3680777549743652, 'feature_loss': 0.0024164868518710136, 'ce_loss': 7.1779656410217285, 'cont_loss': 1.464400053024292, 'teacher_loss': 5.466691493988037}\n"
     ]
    },
    {
     "name": "stderr",
     "output_type": "stream",
     "text": [
      "Validating:  17%|█▋        | 40/235 [00:33<02:33,  1.27it/s, loss=4.5432, avg_loss=3.5497]"
     ]
    },
    {
     "name": "stdout",
     "output_type": "stream",
     "text": [
      "{'kd_loss': 4.461193084716797, 'feature_loss': 0.001998747233301401, 'ce_loss': 7.155339241027832, 'cont_loss': 1.6581625938415527, 'teacher_loss': 6.561800003051758}\n"
     ]
    },
    {
     "name": "stderr",
     "output_type": "stream",
     "text": [
      "Validating:  17%|█▋        | 41/235 [00:33<02:32,  1.27it/s, loss=3.3194, avg_loss=3.5440]"
     ]
    },
    {
     "name": "stdout",
     "output_type": "stream",
     "text": [
      "{'kd_loss': 1.765846848487854, 'feature_loss': 0.002783743664622307, 'ce_loss': 7.609295845031738, 'cont_loss': 1.534190058708191, 'teacher_loss': 4.535626411437988}\n"
     ]
    },
    {
     "name": "stderr",
     "output_type": "stream",
     "text": [
      "Validating:  18%|█▊        | 42/235 [00:34<02:32,  1.27it/s, loss=3.5859, avg_loss=3.5450]"
     ]
    },
    {
     "name": "stdout",
     "output_type": "stream",
     "text": [
      "{'kd_loss': 2.5307729244232178, 'feature_loss': 0.0027176383882761, 'ce_loss': 7.225516319274902, 'cont_loss': 1.5256253480911255, 'teacher_loss': 4.839267253875732}\n"
     ]
    },
    {
     "name": "stderr",
     "output_type": "stream",
     "text": [
      "Validating:  18%|█▊        | 43/235 [00:35<02:31,  1.27it/s, loss=3.0560, avg_loss=3.5337]"
     ]
    },
    {
     "name": "stdout",
     "output_type": "stream",
     "text": [
      "{'kd_loss': 1.111689567565918, 'feature_loss': 0.003217928111553192, 'ce_loss': 7.848775386810303, 'cont_loss': 1.4515388011932373, 'teacher_loss': 2.0859756469726562}\n"
     ]
    },
    {
     "name": "stderr",
     "output_type": "stream",
     "text": [
      "Validating:  19%|█▊        | 44/235 [00:36<02:30,  1.27it/s, loss=4.0177, avg_loss=3.5447]"
     ]
    },
    {
     "name": "stdout",
     "output_type": "stream",
     "text": [
      "{'kd_loss': 3.170574188232422, 'feature_loss': 0.002540649613365531, 'ce_loss': 7.6041717529296875, 'cont_loss': 1.5092443227767944, 'teacher_loss': 4.902939319610596}\n"
     ]
    },
    {
     "name": "stderr",
     "output_type": "stream",
     "text": [
      "Validating:  19%|█▉        | 45/235 [00:37<02:29,  1.27it/s, loss=3.8001, avg_loss=3.5503]"
     ]
    },
    {
     "name": "stdout",
     "output_type": "stream",
     "text": [
      "{'kd_loss': 2.6702489852905273, 'feature_loss': 0.002735644578933716, 'ce_loss': 7.699061393737793, 'cont_loss': 1.5493416786193848, 'teacher_loss': 4.580729007720947}\n"
     ]
    },
    {
     "name": "stderr",
     "output_type": "stream",
     "text": [
      "Validating:  20%|█▉        | 46/235 [00:37<02:28,  1.27it/s, loss=3.1357, avg_loss=3.5413]"
     ]
    },
    {
     "name": "stdout",
     "output_type": "stream",
     "text": [
      "{'kd_loss': 1.6184306144714355, 'feature_loss': 0.0029334528371691704, 'ce_loss': 7.2365946769714355, 'cont_loss': 1.5524725914001465, 'teacher_loss': 3.75226092338562}\n"
     ]
    },
    {
     "name": "stderr",
     "output_type": "stream",
     "text": [
      "Validating:  20%|██        | 47/235 [00:38<02:28,  1.27it/s, loss=4.0258, avg_loss=3.5516]"
     ]
    },
    {
     "name": "stdout",
     "output_type": "stream",
     "text": [
      "{'kd_loss': 3.188265323638916, 'feature_loss': 0.002408314496278763, 'ce_loss': 7.591114044189453, 'cont_loss': 1.5409486293792725, 'teacher_loss': 4.317399024963379}\n"
     ]
    },
    {
     "name": "stderr",
     "output_type": "stream",
     "text": [
      "Validating:  20%|██        | 48/235 [00:39<02:27,  1.27it/s, loss=3.0161, avg_loss=3.5405]"
     ]
    },
    {
     "name": "stdout",
     "output_type": "stream",
     "text": [
      "{'kd_loss': 1.725383996963501, 'feature_loss': 0.0029071257449686527, 'ce_loss': 6.664044380187988, 'cont_loss': 1.5392212867736816, 'teacher_loss': 3.432643413543701}\n"
     ]
    },
    {
     "name": "stderr",
     "output_type": "stream",
     "text": [
      "Validating:  21%|██        | 49/235 [00:40<02:26,  1.27it/s, loss=3.4696, avg_loss=3.5390]"
     ]
    },
    {
     "name": "stdout",
     "output_type": "stream",
     "text": [
      "{'kd_loss': 2.0716705322265625, 'feature_loss': 0.002665627282112837, 'ce_loss': 7.574278831481934, 'cont_loss': 1.6119096279144287, 'teacher_loss': 4.47101354598999}\n"
     ]
    },
    {
     "name": "stderr",
     "output_type": "stream",
     "text": [
      "Validating:  21%|██▏       | 50/235 [00:41<02:25,  1.27it/s, loss=3.3263, avg_loss=3.5348]"
     ]
    },
    {
     "name": "stdout",
     "output_type": "stream",
     "text": [
      "{'kd_loss': 1.7505238056182861, 'feature_loss': 0.0028578131459653378, 'ce_loss': 7.632209300994873, 'cont_loss': 1.6108564138412476, 'teacher_loss': 2.8012237548828125}\n"
     ]
    },
    {
     "name": "stderr",
     "output_type": "stream",
     "text": [
      "Validating:  22%|██▏       | 51/235 [00:41<02:24,  1.27it/s, loss=3.7234, avg_loss=3.5385]"
     ]
    },
    {
     "name": "stdout",
     "output_type": "stream",
     "text": [
      "{'kd_loss': 2.523831367492676, 'feature_loss': 0.0027478402480483055, 'ce_loss': 7.6491169929504395, 'cont_loss': 1.6650638580322266, 'teacher_loss': 4.800790309906006}\n"
     ]
    },
    {
     "name": "stderr",
     "output_type": "stream",
     "text": [
      "Validating:  22%|██▏       | 52/235 [00:42<02:24,  1.27it/s, loss=4.0542, avg_loss=3.5484]"
     ]
    },
    {
     "name": "stdout",
     "output_type": "stream",
     "text": [
      "{'kd_loss': 3.042236328125, 'feature_loss': 0.002464244607836008, 'ce_loss': 7.890230178833008, 'cont_loss': 1.6580512523651123, 'teacher_loss': 4.844067096710205}\n"
     ]
    },
    {
     "name": "stderr",
     "output_type": "stream",
     "text": [
      "Validating:  23%|██▎       | 53/235 [00:43<02:23,  1.27it/s, loss=3.4296, avg_loss=3.5462]"
     ]
    },
    {
     "name": "stdout",
     "output_type": "stream",
     "text": [
      "{'kd_loss': 1.813284158706665, 'feature_loss': 0.002845670562237501, 'ce_loss': 7.8364577293396, 'cont_loss': 1.7174198627471924, 'teacher_loss': 4.459372520446777}\n"
     ]
    },
    {
     "name": "stderr",
     "output_type": "stream",
     "text": [
      "Validating:  23%|██▎       | 54/235 [00:44<02:22,  1.27it/s, loss=3.2340, avg_loss=3.5404]"
     ]
    },
    {
     "name": "stdout",
     "output_type": "stream",
     "text": [
      "{'kd_loss': 1.7846848964691162, 'feature_loss': 0.003025233279913664, 'ce_loss': 7.254502773284912, 'cont_loss': 1.6498726606369019, 'teacher_loss': 2.599003314971924}\n"
     ]
    },
    {
     "name": "stderr",
     "output_type": "stream",
     "text": [
      "Validating:  23%|██▎       | 55/235 [00:45<02:21,  1.27it/s, loss=2.9821, avg_loss=3.5302]"
     ]
    },
    {
     "name": "stdout",
     "output_type": "stream",
     "text": [
      "{'kd_loss': 1.423503041267395, 'feature_loss': 0.003054787637665868, 'ce_loss': 7.018836975097656, 'cont_loss': 1.6439645290374756, 'teacher_loss': 4.07327127456665}\n"
     ]
    },
    {
     "name": "stderr",
     "output_type": "stream",
     "text": [
      "Validating:  24%|██▍       | 56/235 [00:45<02:20,  1.27it/s, loss=3.4140, avg_loss=3.5281]"
     ]
    },
    {
     "name": "stdout",
     "output_type": "stream",
     "text": [
      "{'kd_loss': 1.836570382118225, 'feature_loss': 0.002946075052022934, 'ce_loss': 7.734763145446777, 'cont_loss': 1.7496256828308105, 'teacher_loss': 3.565166711807251}\n"
     ]
    },
    {
     "name": "stderr",
     "output_type": "stream",
     "text": [
      "Validating:  24%|██▍       | 57/235 [00:46<02:20,  1.27it/s, loss=3.7422, avg_loss=3.5319]"
     ]
    },
    {
     "name": "stdout",
     "output_type": "stream",
     "text": [
      "{'kd_loss': 2.418003559112549, 'feature_loss': 0.0029037808999419212, 'ce_loss': 7.858777046203613, 'cont_loss': 1.7532176971435547, 'teacher_loss': 4.441769599914551}\n"
     ]
    },
    {
     "name": "stderr",
     "output_type": "stream",
     "text": [
      "Validating:  25%|██▍       | 58/235 [00:47<02:19,  1.27it/s, loss=3.8105, avg_loss=3.5367]"
     ]
    },
    {
     "name": "stdout",
     "output_type": "stream",
     "text": [
      "{'kd_loss': 2.7769784927368164, 'feature_loss': 0.00256061227992177, 'ce_loss': 7.481313705444336, 'cont_loss': 1.7738409042358398, 'teacher_loss': 6.411538124084473}\n"
     ]
    },
    {
     "name": "stderr",
     "output_type": "stream",
     "text": [
      "Validating:  25%|██▌       | 59/235 [00:48<02:18,  1.27it/s, loss=3.6737, avg_loss=3.5390]"
     ]
    },
    {
     "name": "stdout",
     "output_type": "stream",
     "text": [
      "{'kd_loss': 2.358707904815674, 'feature_loss': 0.002626982517540455, 'ce_loss': 7.723448753356934, 'cont_loss': 1.7701090574264526, 'teacher_loss': 4.269284725189209}\n"
     ]
    },
    {
     "name": "stderr",
     "output_type": "stream",
     "text": [
      "Validating:  26%|██▌       | 60/235 [00:48<02:17,  1.27it/s, loss=3.2638, avg_loss=3.5344]"
     ]
    },
    {
     "name": "stdout",
     "output_type": "stream",
     "text": [
      "{'kd_loss': 1.5772769451141357, 'feature_loss': 0.0030424806755036116, 'ce_loss': 7.661514759063721, 'cont_loss': 1.763546347618103, 'teacher_loss': 4.1354217529296875}\n"
     ]
    },
    {
     "name": "stderr",
     "output_type": "stream",
     "text": [
      "Validating:  26%|██▌       | 61/235 [00:49<02:16,  1.27it/s, loss=3.6105, avg_loss=3.5357]"
     ]
    },
    {
     "name": "stdout",
     "output_type": "stream",
     "text": [
      "{'kd_loss': 2.165719509124756, 'feature_loss': 0.0027412092313170433, 'ce_loss': 7.828570365905762, 'cont_loss': 1.7878756523132324, 'teacher_loss': 5.191725254058838}\n"
     ]
    },
    {
     "name": "stderr",
     "output_type": "stream",
     "text": [
      "Validating:  26%|██▋       | 62/235 [00:50<02:16,  1.27it/s, loss=4.2976, avg_loss=3.5480]"
     ]
    },
    {
     "name": "stdout",
     "output_type": "stream",
     "text": [
      "{'kd_loss': 3.639280080795288, 'feature_loss': 0.0023570293560624123, 'ce_loss': 7.661345958709717, 'cont_loss': 1.7929937839508057, 'teacher_loss': 5.325175762176514}\n"
     ]
    },
    {
     "name": "stderr",
     "output_type": "stream",
     "text": [
      "Validating:  27%|██▋       | 63/235 [00:51<02:15,  1.27it/s, loss=3.8838, avg_loss=3.5533]"
     ]
    },
    {
     "name": "stdout",
     "output_type": "stream",
     "text": [
      "{'kd_loss': 2.773604393005371, 'feature_loss': 0.0026388755068182945, 'ce_loss': 7.729338645935059, 'cont_loss': 1.7797415256500244, 'teacher_loss': 4.643126010894775}\n"
     ]
    },
    {
     "name": "stderr",
     "output_type": "stream",
     "text": [
      "Validating:  27%|██▋       | 64/235 [00:52<02:14,  1.27it/s, loss=3.7361, avg_loss=3.5562]"
     ]
    },
    {
     "name": "stdout",
     "output_type": "stream",
     "text": [
      "{'kd_loss': 2.4129738807678223, 'feature_loss': 0.0027707726694643497, 'ce_loss': 7.835224151611328, 'cont_loss': 1.787217617034912, 'teacher_loss': 4.265008926391602}\n"
     ]
    },
    {
     "name": "stderr",
     "output_type": "stream",
     "text": [
      "Validating:  28%|██▊       | 65/235 [00:52<02:14,  1.27it/s, loss=3.9446, avg_loss=3.5621]"
     ]
    },
    {
     "name": "stdout",
     "output_type": "stream",
     "text": [
      "{'kd_loss': 2.8553237915039062, 'feature_loss': 0.002631732262670994, 'ce_loss': 7.781313896179199, 'cont_loss': 1.8230844736099243, 'teacher_loss': 4.95059061050415}\n"
     ]
    },
    {
     "name": "stderr",
     "output_type": "stream",
     "text": [
      "Validating:  28%|██▊       | 66/235 [00:53<02:13,  1.27it/s, loss=3.8123, avg_loss=3.5659]"
     ]
    },
    {
     "name": "stdout",
     "output_type": "stream",
     "text": [
      "{'kd_loss': 2.580998659133911, 'feature_loss': 0.00243962649255991, 'ce_loss': 7.814358711242676, 'cont_loss': 1.77284836769104, 'teacher_loss': 4.892327308654785}\n"
     ]
    },
    {
     "name": "stderr",
     "output_type": "stream",
     "text": [
      "Validating:  29%|██▊       | 67/235 [00:54<02:12,  1.27it/s, loss=3.2297, avg_loss=3.5609]"
     ]
    },
    {
     "name": "stdout",
     "output_type": "stream",
     "text": [
      "{'kd_loss': 1.5743519067764282, 'feature_loss': 0.002714621601626277, 'ce_loss': 7.544791221618652, 'cont_loss': 1.7884986400604248, 'teacher_loss': 5.157951354980469}\n"
     ]
    },
    {
     "name": "stderr",
     "output_type": "stream",
     "text": [
      "Validating:  29%|██▉       | 68/235 [00:55<02:11,  1.27it/s, loss=3.6713, avg_loss=3.5625]"
     ]
    },
    {
     "name": "stdout",
     "output_type": "stream",
     "text": [
      "{'kd_loss': 2.180392265319824, 'feature_loss': 0.0028761953581124544, 'ce_loss': 7.983877182006836, 'cont_loss': 1.8569499254226685, 'teacher_loss': 5.071071147918701}\n"
     ]
    },
    {
     "name": "stderr",
     "output_type": "stream",
     "text": [
      "Validating:  29%|██▉       | 69/235 [00:56<02:10,  1.27it/s, loss=3.5762, avg_loss=3.5627]"
     ]
    },
    {
     "name": "stdout",
     "output_type": "stream",
     "text": [
      "{'kd_loss': 2.086181640625, 'feature_loss': 0.002802792005240917, 'ce_loss': 7.842947483062744, 'cont_loss': 1.7993804216384888, 'teacher_loss': 6.350621700286865}\n"
     ]
    },
    {
     "name": "stderr",
     "output_type": "stream",
     "text": [
      "Validating:  30%|██▉       | 70/235 [00:56<02:10,  1.27it/s, loss=3.5546, avg_loss=3.5626]"
     ]
    },
    {
     "name": "stdout",
     "output_type": "stream",
     "text": [
      "{'kd_loss': 2.14627742767334, 'feature_loss': 0.0026276963762938976, 'ce_loss': 7.6623921394348145, 'cont_loss': 1.824688196182251, 'teacher_loss': 4.555941104888916}\n"
     ]
    },
    {
     "name": "stderr",
     "output_type": "stream",
     "text": [
      "Validating:  30%|███       | 71/235 [00:57<02:09,  1.27it/s, loss=3.4079, avg_loss=3.5604]"
     ]
    },
    {
     "name": "stdout",
     "output_type": "stream",
     "text": [
      "{'kd_loss': 1.8585681915283203, 'feature_loss': 0.0029235295951366425, 'ce_loss': 7.634828090667725, 'cont_loss': 1.878818392753601, 'teacher_loss': 4.751231670379639}\n"
     ]
    },
    {
     "name": "stderr",
     "output_type": "stream",
     "text": [
      "Validating:  31%|███       | 72/235 [00:58<02:08,  1.27it/s, loss=3.5594, avg_loss=3.5604]"
     ]
    },
    {
     "name": "stdout",
     "output_type": "stream",
     "text": [
      "{'kd_loss': 1.9990546703338623, 'feature_loss': 0.0028907647356390953, 'ce_loss': 7.897862434387207, 'cont_loss': 1.9023118019104004, 'teacher_loss': 4.247348785400391}\n"
     ]
    },
    {
     "name": "stderr",
     "output_type": "stream",
     "text": [
      "Validating:  31%|███       | 73/235 [00:59<02:07,  1.27it/s, loss=3.6596, avg_loss=3.5618]"
     ]
    },
    {
     "name": "stdout",
     "output_type": "stream",
     "text": [
      "{'kd_loss': 2.1960830688476562, 'feature_loss': 0.0026889240834861994, 'ce_loss': 7.922066688537598, 'cont_loss': 1.8470816612243652, 'teacher_loss': 4.687420845031738}\n"
     ]
    },
    {
     "name": "stderr",
     "output_type": "stream",
     "text": [
      "Validating:  31%|███▏      | 74/235 [00:59<02:06,  1.27it/s, loss=3.9053, avg_loss=3.5664]"
     ]
    },
    {
     "name": "stdout",
     "output_type": "stream",
     "text": [
      "{'kd_loss': 2.6130423545837402, 'feature_loss': 0.0024623654317110777, 'ce_loss': 8.023117065429688, 'cont_loss': 1.9158505201339722, 'teacher_loss': 5.564411163330078}\n"
     ]
    },
    {
     "name": "stderr",
     "output_type": "stream",
     "text": [
      "Validating:  32%|███▏      | 75/235 [01:00<02:06,  1.27it/s, loss=4.2195, avg_loss=3.5751]"
     ]
    },
    {
     "name": "stdout",
     "output_type": "stream",
     "text": [
      "{'kd_loss': 3.0862815380096436, 'feature_loss': 0.002570517361164093, 'ce_loss': 8.275697708129883, 'cont_loss': 1.9338703155517578, 'teacher_loss': 5.612817764282227}\n"
     ]
    },
    {
     "name": "stderr",
     "output_type": "stream",
     "text": [
      "Validating:  32%|███▏      | 76/235 [01:01<02:05,  1.27it/s, loss=3.2786, avg_loss=3.5712]"
     ]
    },
    {
     "name": "stdout",
     "output_type": "stream",
     "text": [
      "{'kd_loss': 1.506260871887207, 'feature_loss': 0.002781451679766178, 'ce_loss': 7.784637451171875, 'cont_loss': 1.8975846767425537, 'teacher_loss': 4.9762091636657715}\n"
     ]
    },
    {
     "name": "stderr",
     "output_type": "stream",
     "text": [
      "Validating:  33%|███▎      | 77/235 [01:02<02:04,  1.27it/s, loss=3.4040, avg_loss=3.5691]"
     ]
    },
    {
     "name": "stdout",
     "output_type": "stream",
     "text": [
      "{'kd_loss': 1.7178926467895508, 'feature_loss': 0.0028496640734374523, 'ce_loss': 7.827232837677002, 'cont_loss': 1.9659173488616943, 'teacher_loss': 4.672510147094727}\n"
     ]
    },
    {
     "name": "stderr",
     "output_type": "stream",
     "text": [
      "Validating:  33%|███▎      | 78/235 [01:03<02:03,  1.27it/s, loss=3.2519, avg_loss=3.5650]"
     ]
    },
    {
     "name": "stdout",
     "output_type": "stream",
     "text": [
      "{'kd_loss': 1.4831347465515137, 'feature_loss': 0.0031019519083201885, 'ce_loss': 7.725322723388672, 'cont_loss': 1.9242446422576904, 'teacher_loss': 4.183327674865723}\n"
     ]
    },
    {
     "name": "stderr",
     "output_type": "stream",
     "text": [
      "Validating:  34%|███▎      | 79/235 [01:03<02:03,  1.27it/s, loss=3.6518, avg_loss=3.5661]"
     ]
    },
    {
     "name": "stdout",
     "output_type": "stream",
     "text": [
      "{'kd_loss': 2.2959771156311035, 'feature_loss': 0.002623744308948517, 'ce_loss': 7.6982526779174805, 'cont_loss': 1.9403278827667236, 'teacher_loss': 4.59001350402832}\n"
     ]
    },
    {
     "name": "stderr",
     "output_type": "stream",
     "text": [
      "Validating:  34%|███▍      | 80/235 [01:04<02:02,  1.27it/s, loss=3.8217, avg_loss=3.5693]"
     ]
    },
    {
     "name": "stdout",
     "output_type": "stream",
     "text": [
      "{'kd_loss': 2.316361427307129, 'feature_loss': 0.002829830627888441, 'ce_loss': 8.212010383605957, 'cont_loss': 1.9964078664779663, 'teacher_loss': 5.152032852172852}\n"
     ]
    },
    {
     "name": "stderr",
     "output_type": "stream",
     "text": [
      "Validating:  34%|███▍      | 81/235 [01:05<02:01,  1.27it/s, loss=3.6969, avg_loss=3.5709]"
     ]
    },
    {
     "name": "stdout",
     "output_type": "stream",
     "text": [
      "{'kd_loss': 2.2207961082458496, 'feature_loss': 0.0028544000815600157, 'ce_loss': 7.960533618927002, 'cont_loss': 1.9803401231765747, 'teacher_loss': 3.786078691482544}\n"
     ]
    },
    {
     "name": "stderr",
     "output_type": "stream",
     "text": [
      "Validating:  35%|███▍      | 82/235 [01:06<02:00,  1.27it/s, loss=3.8509, avg_loss=3.5743]"
     ]
    },
    {
     "name": "stdout",
     "output_type": "stream",
     "text": [
      "{'kd_loss': 2.6380674839019775, 'feature_loss': 0.0026648161001503468, 'ce_loss': 7.767737865447998, 'cont_loss': 2.012289524078369, 'teacher_loss': 4.5631914138793945}\n"
     ]
    },
    {
     "name": "stderr",
     "output_type": "stream",
     "text": [
      "Validating:  35%|███▌      | 83/235 [01:07<01:59,  1.27it/s, loss=4.0534, avg_loss=3.5800]"
     ]
    },
    {
     "name": "stdout",
     "output_type": "stream",
     "text": [
      "{'kd_loss': 2.5723042488098145, 'feature_loss': 0.0025946213863790035, 'ce_loss': 8.547245025634766, 'cont_loss': 2.028377056121826, 'teacher_loss': 4.990307807922363}\n"
     ]
    },
    {
     "name": "stderr",
     "output_type": "stream",
     "text": [
      "Validating:  36%|███▌      | 84/235 [01:07<01:59,  1.27it/s, loss=3.7074, avg_loss=3.5816]"
     ]
    },
    {
     "name": "stdout",
     "output_type": "stream",
     "text": [
      "{'kd_loss': 2.4819750785827637, 'feature_loss': 0.0026569487527012825, 'ce_loss': 7.555052757263184, 'cont_loss': 1.9967944622039795, 'teacher_loss': 3.7090542316436768}\n"
     ]
    },
    {
     "name": "stderr",
     "output_type": "stream",
     "text": [
      "Validating:  36%|███▌      | 85/235 [01:08<01:58,  1.27it/s, loss=3.3623, avg_loss=3.5790]"
     ]
    },
    {
     "name": "stdout",
     "output_type": "stream",
     "text": [
      "{'kd_loss': 1.6525917053222656, 'feature_loss': 0.0030355562921613455, 'ce_loss': 7.784290313720703, 'cont_loss': 2.00388503074646, 'teacher_loss': 3.9734835624694824}\n"
     ]
    },
    {
     "name": "stderr",
     "output_type": "stream",
     "text": [
      "Validating:  37%|███▋      | 86/235 [01:09<01:57,  1.27it/s, loss=3.3836, avg_loss=3.5767]"
     ]
    },
    {
     "name": "stdout",
     "output_type": "stream",
     "text": [
      "{'kd_loss': 1.6796714067459106, 'feature_loss': 0.0029421779327094555, 'ce_loss': 7.799190998077393, 'cont_loss': 2.036874294281006, 'teacher_loss': 4.2231950759887695}\n"
     ]
    },
    {
     "name": "stderr",
     "output_type": "stream",
     "text": [
      "Validating:  37%|███▋      | 87/235 [01:10<01:56,  1.27it/s, loss=3.2840, avg_loss=3.5733]"
     ]
    },
    {
     "name": "stdout",
     "output_type": "stream",
     "text": [
      "{'kd_loss': 1.4215986728668213, 'feature_loss': 0.003187087830156088, 'ce_loss': 7.896528720855713, 'cont_loss': 2.0388240814208984, 'teacher_loss': 2.671076536178589}\n"
     ]
    },
    {
     "name": "stderr",
     "output_type": "stream",
     "text": [
      "Validating:  37%|███▋      | 88/235 [01:11<01:55,  1.27it/s, loss=3.4438, avg_loss=3.5719]"
     ]
    },
    {
     "name": "stdout",
     "output_type": "stream",
     "text": [
      "{'kd_loss': 1.837743878364563, 'feature_loss': 0.0031016201246529818, 'ce_loss': 7.729706287384033, 'cont_loss': 2.0568759441375732, 'teacher_loss': 4.056623458862305}\n"
     ]
    },
    {
     "name": "stderr",
     "output_type": "stream",
     "text": [
      "Validating:  38%|███▊      | 89/235 [01:11<01:55,  1.27it/s, loss=3.2857, avg_loss=3.5687]"
     ]
    },
    {
     "name": "stdout",
     "output_type": "stream",
     "text": [
      "{'kd_loss': 1.5242908000946045, 'feature_loss': 0.0028573735617101192, 'ce_loss': 7.717307090759277, 'cont_loss': 2.080483913421631, 'teacher_loss': 4.654281139373779}\n"
     ]
    },
    {
     "name": "stderr",
     "output_type": "stream",
     "text": [
      "Validating:  38%|███▊      | 90/235 [01:12<01:54,  1.27it/s, loss=3.5995, avg_loss=3.5690]"
     ]
    },
    {
     "name": "stdout",
     "output_type": "stream",
     "text": [
      "{'kd_loss': 2.021165370941162, 'feature_loss': 0.0029623203445225954, 'ce_loss': 7.9402289390563965, 'cont_loss': 2.065399169921875, 'teacher_loss': 4.911196708679199}\n"
     ]
    },
    {
     "name": "stderr",
     "output_type": "stream",
     "text": [
      "Validating:  39%|███▊      | 91/235 [01:13<01:53,  1.27it/s, loss=3.8352, avg_loss=3.5719]"
     ]
    },
    {
     "name": "stdout",
     "output_type": "stream",
     "text": [
      "{'kd_loss': 2.295699119567871, 'feature_loss': 0.0028156000189483166, 'ce_loss': 8.264227867126465, 'cont_loss': 2.0777974128723145, 'teacher_loss': 4.575883388519287}\n"
     ]
    },
    {
     "name": "stderr",
     "output_type": "stream",
     "text": [
      "Validating:  39%|███▉      | 92/235 [01:14<01:52,  1.27it/s, loss=4.0751, avg_loss=3.5774]"
     ]
    },
    {
     "name": "stdout",
     "output_type": "stream",
     "text": [
      "{'kd_loss': 2.7007863521575928, 'feature_loss': 0.0025217984803020954, 'ce_loss': 8.382097244262695, 'cont_loss': 2.098267078399658, 'teacher_loss': 5.336326599121094}\n"
     ]
    },
    {
     "name": "stderr",
     "output_type": "stream",
     "text": [
      "Validating:  40%|███▉      | 93/235 [01:14<01:51,  1.27it/s, loss=3.3163, avg_loss=3.5746]"
     ]
    },
    {
     "name": "stdout",
     "output_type": "stream",
     "text": [
      "{'kd_loss': 1.6000638008117676, 'feature_loss': 0.002791035920381546, 'ce_loss': 7.695333003997803, 'cont_loss': 2.0733909606933594, 'teacher_loss': 4.563083648681641}\n"
     ]
    },
    {
     "name": "stderr",
     "output_type": "stream",
     "text": [
      "Validating:  40%|████      | 94/235 [01:15<01:51,  1.27it/s, loss=3.7220, avg_loss=3.5762]"
     ]
    },
    {
     "name": "stdout",
     "output_type": "stream",
     "text": [
      "{'kd_loss': 2.3482441902160645, 'feature_loss': 0.002624427666887641, 'ce_loss': 7.790467262268066, 'cont_loss': 2.1046829223632812, 'teacher_loss': 5.158870220184326}\n"
     ]
    },
    {
     "name": "stderr",
     "output_type": "stream",
     "text": [
      "Validating:  40%|████      | 95/235 [01:16<01:50,  1.27it/s, loss=3.3981, avg_loss=3.5743]"
     ]
    },
    {
     "name": "stdout",
     "output_type": "stream",
     "text": [
      "{'kd_loss': 1.5191644430160522, 'feature_loss': 0.0029544427525252104, 'ce_loss': 8.084517478942871, 'cont_loss': 2.1284165382385254, 'teacher_loss': 4.003946304321289}\n"
     ]
    },
    {
     "name": "stderr",
     "output_type": "stream",
     "text": [
      "Validating:  41%|████      | 96/235 [01:17<01:49,  1.27it/s, loss=3.3966, avg_loss=3.5724]"
     ]
    },
    {
     "name": "stdout",
     "output_type": "stream",
     "text": [
      "{'kd_loss': 1.8316237926483154, 'feature_loss': 0.002777896821498871, 'ce_loss': 7.558768272399902, 'cont_loss': 2.1290054321289062, 'teacher_loss': 3.981851577758789}\n"
     ]
    },
    {
     "name": "stderr",
     "output_type": "stream",
     "text": [
      "Validating:  41%|████▏     | 97/235 [01:18<01:48,  1.27it/s, loss=3.5959, avg_loss=3.5727]"
     ]
    },
    {
     "name": "stdout",
     "output_type": "stream",
     "text": [
      "{'kd_loss': 1.9345719814300537, 'feature_loss': 0.002811503829434514, 'ce_loss': 8.051958084106445, 'cont_loss': 2.1275687217712402, 'teacher_loss': 5.175850868225098}\n"
     ]
    },
    {
     "name": "stderr",
     "output_type": "stream",
     "text": [
      "Validating:  42%|████▏     | 98/235 [01:18<01:47,  1.27it/s, loss=3.3517, avg_loss=3.5704]"
     ]
    },
    {
     "name": "stdout",
     "output_type": "stream",
     "text": [
      "{'kd_loss': 1.574394941329956, 'feature_loss': 0.003042618976905942, 'ce_loss': 7.82506799697876, 'cont_loss': 2.167008876800537, 'teacher_loss': 4.632055759429932}\n"
     ]
    },
    {
     "name": "stderr",
     "output_type": "stream",
     "text": [
      "Validating:  42%|████▏     | 99/235 [01:19<01:47,  1.27it/s, loss=3.6766, avg_loss=3.5715]"
     ]
    },
    {
     "name": "stdout",
     "output_type": "stream",
     "text": [
      "{'kd_loss': 2.217189311981201, 'feature_loss': 0.002863548696041107, 'ce_loss': 7.824166774749756, 'cont_loss': 2.205120086669922, 'teacher_loss': 4.63690185546875}\n"
     ]
    },
    {
     "name": "stderr",
     "output_type": "stream",
     "text": [
      "Validating:  43%|████▎     | 100/235 [01:20<01:46,  1.27it/s, loss=4.0372, avg_loss=3.5762]"
     ]
    },
    {
     "name": "stdout",
     "output_type": "stream",
     "text": [
      "{'kd_loss': 3.0021026134490967, 'feature_loss': 0.002538100816309452, 'ce_loss': 7.715997219085693, 'cont_loss': 2.2110595703125, 'teacher_loss': 5.167719841003418}\n"
     ]
    },
    {
     "name": "stderr",
     "output_type": "stream",
     "text": [
      "Validating:  43%|████▎     | 101/235 [01:21<01:45,  1.27it/s, loss=3.7842, avg_loss=3.5782]"
     ]
    },
    {
     "name": "stdout",
     "output_type": "stream",
     "text": [
      "{'kd_loss': 2.450342893600464, 'feature_loss': 0.0026143938302993774, 'ce_loss': 7.79401969909668, 'cont_loss': 2.2058699131011963, 'teacher_loss': 4.582280158996582}\n"
     ]
    },
    {
     "name": "stderr",
     "output_type": "stream",
     "text": [
      "Validating:  43%|████▎     | 102/235 [01:22<01:44,  1.27it/s, loss=4.0777, avg_loss=3.5831]"
     ]
    },
    {
     "name": "stdout",
     "output_type": "stream",
     "text": [
      "{'kd_loss': 2.912435293197632, 'feature_loss': 0.0024713531602174044, 'ce_loss': 7.999436855316162, 'cont_loss': 2.214101791381836, 'teacher_loss': 5.797889709472656}\n"
     ]
    },
    {
     "name": "stderr",
     "output_type": "stream",
     "text": [
      "Validating:  44%|████▍     | 103/235 [01:22<01:43,  1.27it/s, loss=3.7977, avg_loss=3.5852]"
     ]
    },
    {
     "name": "stdout",
     "output_type": "stream",
     "text": [
      "{'kd_loss': 2.4286375045776367, 'feature_loss': 0.0026924642734229565, 'ce_loss': 7.865435600280762, 'cont_loss': 2.2349493503570557, 'teacher_loss': 5.701371669769287}\n"
     ]
    },
    {
     "name": "stderr",
     "output_type": "stream",
     "text": [
      "Validating:  44%|████▍     | 104/235 [01:23<01:43,  1.27it/s, loss=4.0446, avg_loss=3.5896]"
     ]
    },
    {
     "name": "stdout",
     "output_type": "stream",
     "text": [
      "{'kd_loss': 2.9754979610443115, 'feature_loss': 0.0024997973814606667, 'ce_loss': 7.776558876037598, 'cont_loss': 2.2368006706237793, 'teacher_loss': 5.589981555938721}\n"
     ]
    },
    {
     "name": "stderr",
     "output_type": "stream",
     "text": [
      "Validating:  45%|████▍     | 105/235 [01:24<01:42,  1.27it/s, loss=3.9428, avg_loss=3.5930]"
     ]
    },
    {
     "name": "stdout",
     "output_type": "stream",
     "text": [
      "{'kd_loss': 2.6294779777526855, 'feature_loss': 0.00252812379039824, 'ce_loss': 8.010834693908691, 'cont_loss': 2.245669364929199, 'teacher_loss': 4.621860504150391}\n"
     ]
    },
    {
     "name": "stderr",
     "output_type": "stream",
     "text": [
      "Validating:  45%|████▌     | 106/235 [01:25<01:41,  1.27it/s, loss=3.4954, avg_loss=3.5921]"
     ]
    },
    {
     "name": "stdout",
     "output_type": "stream",
     "text": [
      "{'kd_loss': 1.8168230056762695, 'feature_loss': 0.002937247510999441, 'ce_loss': 7.865433216094971, 'cont_loss': 2.2706947326660156, 'teacher_loss': 4.459244251251221}\n"
     ]
    },
    {
     "name": "stderr",
     "output_type": "stream",
     "text": [
      "Validating:  46%|████▌     | 107/235 [01:25<01:40,  1.27it/s, loss=3.3084, avg_loss=3.5894]"
     ]
    },
    {
     "name": "stdout",
     "output_type": "stream",
     "text": [
      "{'kd_loss': 1.394089698791504, 'feature_loss': 0.003176798578351736, 'ce_loss': 7.959221839904785, 'cont_loss': 2.2328386306762695, 'teacher_loss': 4.080090045928955}\n"
     ]
    },
    {
     "name": "stderr",
     "output_type": "stream",
     "text": [
      "Validating:  46%|████▌     | 108/235 [01:26<01:39,  1.27it/s, loss=3.4852, avg_loss=3.5884]"
     ]
    },
    {
     "name": "stdout",
     "output_type": "stream",
     "text": [
      "{'kd_loss': 1.7642338275909424, 'feature_loss': 0.003040509996935725, 'ce_loss': 7.929416179656982, 'cont_loss': 2.239121198654175, 'teacher_loss': 4.221014976501465}\n"
     ]
    },
    {
     "name": "stderr",
     "output_type": "stream",
     "text": [
      "Validating:  46%|████▋     | 109/235 [01:27<01:39,  1.27it/s, loss=3.5337, avg_loss=3.5879]"
     ]
    },
    {
     "name": "stdout",
     "output_type": "stream",
     "text": [
      "{'kd_loss': 2.0050888061523438, 'feature_loss': 0.0026905888225883245, 'ce_loss': 7.693132400512695, 'cont_loss': 2.2297699451446533, 'teacher_loss': 4.995438575744629}\n"
     ]
    },
    {
     "name": "stderr",
     "output_type": "stream",
     "text": [
      "Validating:  47%|████▋     | 110/235 [01:28<01:38,  1.27it/s, loss=3.6521, avg_loss=3.5885]"
     ]
    },
    {
     "name": "stdout",
     "output_type": "stream",
     "text": [
      "{'kd_loss': 2.103271484375, 'feature_loss': 0.0029816762544214725, 'ce_loss': 7.904629707336426, 'cont_loss': 2.28775691986084, 'teacher_loss': 4.534615993499756}\n"
     ]
    },
    {
     "name": "stderr",
     "output_type": "stream",
     "text": [
      "Validating:  47%|████▋     | 111/235 [01:29<01:37,  1.27it/s, loss=3.7095, avg_loss=3.5896]"
     ]
    },
    {
     "name": "stdout",
     "output_type": "stream",
     "text": [
      "{'kd_loss': 2.2445743083953857, 'feature_loss': 0.00292326626367867, 'ce_loss': 7.851219654083252, 'cont_loss': 2.315704822540283, 'teacher_loss': 5.259047508239746}\n"
     ]
    },
    {
     "name": "stderr",
     "output_type": "stream",
     "text": [
      "Validating:  48%|████▊     | 112/235 [01:29<01:36,  1.27it/s, loss=3.3555, avg_loss=3.5875]"
     ]
    },
    {
     "name": "stdout",
     "output_type": "stream",
     "text": [
      "{'kd_loss': 1.5398181676864624, 'feature_loss': 0.0030702673830091953, 'ce_loss': 7.856456756591797, 'cont_loss': 2.2830233573913574, 'teacher_loss': 4.3149847984313965}\n"
     ]
    },
    {
     "name": "stderr",
     "output_type": "stream",
     "text": [
      "Validating:  48%|████▊     | 113/235 [01:30<01:35,  1.27it/s, loss=3.5616, avg_loss=3.5873]"
     ]
    },
    {
     "name": "stdout",
     "output_type": "stream",
     "text": [
      "{'kd_loss': 1.945986270904541, 'feature_loss': 0.002685198560357094, 'ce_loss': 7.863779544830322, 'cont_loss': 2.2918739318847656, 'teacher_loss': 5.624183177947998}\n"
     ]
    },
    {
     "name": "stderr",
     "output_type": "stream",
     "text": [
      "Validating:  49%|████▊     | 114/235 [01:31<01:35,  1.27it/s, loss=3.2917, avg_loss=3.5847]"
     ]
    },
    {
     "name": "stdout",
     "output_type": "stream",
     "text": [
      "{'kd_loss': 1.414947509765625, 'feature_loss': 0.002999119693413377, 'ce_loss': 7.842059135437012, 'cont_loss': 2.3134024143218994, 'teacher_loss': 4.2379255294799805}\n"
     ]
    },
    {
     "name": "stderr",
     "output_type": "stream",
     "text": [
      "Validating:  49%|████▉     | 115/235 [01:32<01:34,  1.27it/s, loss=3.8323, avg_loss=3.5868]"
     ]
    },
    {
     "name": "stdout",
     "output_type": "stream",
     "text": [
      "{'kd_loss': 2.3985371589660645, 'feature_loss': 0.0028830082155764103, 'ce_loss': 8.00039005279541, 'cont_loss': 2.3259291648864746, 'teacher_loss': 4.684267997741699}\n"
     ]
    },
    {
     "name": "stderr",
     "output_type": "stream",
     "text": [
      "Validating:  49%|████▉     | 116/235 [01:33<01:33,  1.27it/s, loss=3.6185, avg_loss=3.5871]"
     ]
    },
    {
     "name": "stdout",
     "output_type": "stream",
     "text": [
      "{'kd_loss': 2.0406100749969482, 'feature_loss': 0.0025834389962255955, 'ce_loss': 7.881961822509766, 'cont_loss': 2.333737850189209, 'teacher_loss': 4.547816276550293}\n"
     ]
    },
    {
     "name": "stderr",
     "output_type": "stream",
     "text": [
      "Validating:  50%|████▉     | 117/235 [01:33<01:32,  1.27it/s, loss=3.3138, avg_loss=3.5848]"
     ]
    },
    {
     "name": "stdout",
     "output_type": "stream",
     "text": [
      "{'kd_loss': 1.277439832687378, 'feature_loss': 0.003068834077566862, 'ce_loss': 8.123564720153809, 'cont_loss': 2.376941204071045, 'teacher_loss': 4.786589622497559}\n"
     ]
    },
    {
     "name": "stderr",
     "output_type": "stream",
     "text": [
      "Validating:  50%|█████     | 118/235 [01:34<01:32,  1.27it/s, loss=3.5637, avg_loss=3.5846]"
     ]
    },
    {
     "name": "stdout",
     "output_type": "stream",
     "text": [
      "{'kd_loss': 1.9339171648025513, 'feature_loss': 0.0027981488965451717, 'ce_loss': 7.878998279571533, 'cont_loss': 2.328097343444824, 'teacher_loss': 5.004254341125488}\n"
     ]
    },
    {
     "name": "stderr",
     "output_type": "stream",
     "text": [
      "Validating:  51%|█████     | 119/235 [01:35<01:31,  1.27it/s, loss=3.9339, avg_loss=3.5875]"
     ]
    },
    {
     "name": "stdout",
     "output_type": "stream",
     "text": [
      "{'kd_loss': 2.6103577613830566, 'feature_loss': 0.002656965283676982, 'ce_loss': 7.9719696044921875, 'cont_loss': 2.368588924407959, 'teacher_loss': 4.669063568115234}\n"
     ]
    },
    {
     "name": "stderr",
     "output_type": "stream",
     "text": [
      "Validating:  51%|█████     | 120/235 [01:36<01:30,  1.27it/s, loss=3.2841, avg_loss=3.5850]"
     ]
    },
    {
     "name": "stdout",
     "output_type": "stream",
     "text": [
      "{'kd_loss': 1.2956161499023438, 'feature_loss': 0.0031953933648765087, 'ce_loss': 7.9896440505981445, 'cont_loss': 2.391077756881714, 'teacher_loss': 3.934931755065918}\n"
     ]
    },
    {
     "name": "stderr",
     "output_type": "stream",
     "text": [
      "Validating:  51%|█████▏    | 121/235 [01:36<01:29,  1.27it/s, loss=3.7320, avg_loss=3.5862]"
     ]
    },
    {
     "name": "stdout",
     "output_type": "stream",
     "text": [
      "{'kd_loss': 2.1707229614257812, 'feature_loss': 0.0028685012366622686, 'ce_loss': 8.018534660339355, 'cont_loss': 2.407670021057129, 'teacher_loss': 5.312017917633057}\n"
     ]
    },
    {
     "name": "stderr",
     "output_type": "stream",
     "text": [
      "Validating:  52%|█████▏    | 122/235 [01:37<01:28,  1.27it/s, loss=4.0188, avg_loss=3.5898]"
     ]
    },
    {
     "name": "stdout",
     "output_type": "stream",
     "text": [
      "{'kd_loss': 2.7197165489196777, 'feature_loss': 0.0027770150918513536, 'ce_loss': 8.056008338928223, 'cont_loss': 2.418173313140869, 'teacher_loss': 5.108695030212402}\n"
     ]
    },
    {
     "name": "stderr",
     "output_type": "stream",
     "text": [
      "Validating:  52%|█████▏    | 123/235 [01:38<01:28,  1.27it/s, loss=3.6869, avg_loss=3.5906]"
     ]
    },
    {
     "name": "stdout",
     "output_type": "stream",
     "text": [
      "{'kd_loss': 2.133540630340576, 'feature_loss': 0.002606639638543129, 'ce_loss': 7.936200141906738, 'cont_loss': 2.390549659729004, 'teacher_loss': 5.267578125}\n"
     ]
    },
    {
     "name": "stderr",
     "output_type": "stream",
     "text": [
      "Validating:  53%|█████▎    | 124/235 [01:39<01:27,  1.27it/s, loss=3.3712, avg_loss=3.5888]"
     ]
    },
    {
     "name": "stdout",
     "output_type": "stream",
     "text": [
      "{'kd_loss': 1.6267861127853394, 'feature_loss': 0.0029549412429332733, 'ce_loss': 7.737782001495361, 'cont_loss': 2.361715078353882, 'teacher_loss': 4.335058689117432}\n"
     ]
    },
    {
     "name": "stderr",
     "output_type": "stream",
     "text": [
      "Validating:  53%|█████▎    | 125/235 [01:40<01:26,  1.27it/s, loss=3.5185, avg_loss=3.5882]"
     ]
    },
    {
     "name": "stdout",
     "output_type": "stream",
     "text": [
      "{'kd_loss': 1.7150516510009766, 'feature_loss': 0.0027783603873103857, 'ce_loss': 8.072932243347168, 'cont_loss': 2.388064384460449, 'teacher_loss': 4.191422462463379}\n"
     ]
    },
    {
     "name": "stderr",
     "output_type": "stream",
     "text": [
      "Validating:  54%|█████▎    | 126/235 [01:40<01:25,  1.27it/s, loss=3.9799, avg_loss=3.5913]"
     ]
    },
    {
     "name": "stdout",
     "output_type": "stream",
     "text": [
      "{'kd_loss': 2.644819736480713, 'feature_loss': 0.002699345350265503, 'ce_loss': 8.0560884475708, 'cont_loss': 2.404123544692993, 'teacher_loss': 5.131126880645752}\n"
     ]
    },
    {
     "name": "stderr",
     "output_type": "stream",
     "text": [
      "Validating:  54%|█████▍    | 127/235 [01:41<01:25,  1.27it/s, loss=3.3956, avg_loss=3.5898]"
     ]
    },
    {
     "name": "stdout",
     "output_type": "stream",
     "text": [
      "{'kd_loss': 1.4191914796829224, 'feature_loss': 0.0032001810614019632, 'ce_loss': 8.134190559387207, 'cont_loss': 2.454293727874756, 'teacher_loss': 4.334925174713135}\n"
     ]
    },
    {
     "name": "stderr",
     "output_type": "stream",
     "text": [
      "Validating:  54%|█████▍    | 128/235 [01:42<01:24,  1.27it/s, loss=3.5406, avg_loss=3.5894]"
     ]
    },
    {
     "name": "stdout",
     "output_type": "stream",
     "text": [
      "{'kd_loss': 1.900366187095642, 'feature_loss': 0.002771922620013356, 'ce_loss': 7.8269195556640625, 'cont_loss': 2.4208688735961914, 'teacher_loss': 4.801137447357178}\n"
     ]
    },
    {
     "name": "stderr",
     "output_type": "stream",
     "text": [
      "Validating:  55%|█████▍    | 129/235 [01:43<01:23,  1.27it/s, loss=3.7758, avg_loss=3.5909]"
     ]
    },
    {
     "name": "stdout",
     "output_type": "stream",
     "text": [
      "{'kd_loss': 2.24630069732666, 'feature_loss': 0.002828576136380434, 'ce_loss': 8.014644622802734, 'cont_loss': 2.4798436164855957, 'teacher_loss': 5.654924392700195}\n"
     ]
    },
    {
     "name": "stderr",
     "output_type": "stream",
     "text": [
      "Validating:  55%|█████▌    | 130/235 [01:44<01:22,  1.27it/s, loss=3.8697, avg_loss=3.5930]"
     ]
    },
    {
     "name": "stdout",
     "output_type": "stream",
     "text": [
      "{'kd_loss': 2.4061789512634277, 'feature_loss': 0.002708202227950096, 'ce_loss': 8.060364723205566, 'cont_loss': 2.4818992614746094, 'teacher_loss': 4.916679859161377}\n"
     ]
    },
    {
     "name": "stderr",
     "output_type": "stream",
     "text": [
      "Validating:  56%|█████▌    | 131/235 [01:44<01:21,  1.27it/s, loss=3.6324, avg_loss=3.5933]"
     ]
    },
    {
     "name": "stdout",
     "output_type": "stream",
     "text": [
      "{'kd_loss': 1.9754879474639893, 'feature_loss': 0.0029722461476922035, 'ce_loss': 7.976487159729004, 'cont_loss': 2.514577865600586, 'teacher_loss': 5.052700042724609}\n"
     ]
    },
    {
     "name": "stderr",
     "output_type": "stream",
     "text": [
      "Validating:  56%|█████▌    | 132/235 [01:45<01:21,  1.27it/s, loss=3.8786, avg_loss=3.5955]"
     ]
    },
    {
     "name": "stdout",
     "output_type": "stream",
     "text": [
      "{'kd_loss': 2.5636730194091797, 'feature_loss': 0.0026206080801784992, 'ce_loss': 7.83526086807251, 'cont_loss': 2.4587700366973877, 'teacher_loss': 4.994668483734131}\n"
     ]
    },
    {
     "name": "stderr",
     "output_type": "stream",
     "text": [
      "Validating:  57%|█████▋    | 133/235 [01:46<01:20,  1.27it/s, loss=3.5560, avg_loss=3.5952]"
     ]
    },
    {
     "name": "stdout",
     "output_type": "stream",
     "text": [
      "{'kd_loss': 1.7756409645080566, 'feature_loss': 0.0028853644616901875, 'ce_loss': 8.069997787475586, 'cont_loss': 2.4689173698425293, 'teacher_loss': 4.437113285064697}\n"
     ]
    },
    {
     "name": "stderr",
     "output_type": "stream",
     "text": [
      "Validating:  57%|█████▋    | 134/235 [01:47<01:19,  1.27it/s, loss=3.7672, avg_loss=3.5965]"
     ]
    },
    {
     "name": "stdout",
     "output_type": "stream",
     "text": [
      "{'kd_loss': 2.1061577796936035, 'feature_loss': 0.0028261179104447365, 'ce_loss': 8.221844673156738, 'cont_loss': 2.4724254608154297, 'teacher_loss': 5.0261735916137695}\n"
     ]
    },
    {
     "name": "stderr",
     "output_type": "stream",
     "text": [
      "Validating:  57%|█████▋    | 135/235 [01:48<01:18,  1.27it/s, loss=3.3865, avg_loss=3.5949]"
     ]
    },
    {
     "name": "stdout",
     "output_type": "stream",
     "text": [
      "{'kd_loss': 1.4797487258911133, 'feature_loss': 0.003035081084817648, 'ce_loss': 7.987081527709961, 'cont_loss': 2.5017218589782715, 'teacher_loss': 4.339932918548584}\n"
     ]
    },
    {
     "name": "stderr",
     "output_type": "stream",
     "text": [
      "Validating:  58%|█████▊    | 136/235 [01:48<01:17,  1.27it/s, loss=3.7012, avg_loss=3.5957]"
     ]
    },
    {
     "name": "stdout",
     "output_type": "stream",
     "text": [
      "{'kd_loss': 2.1549477577209473, 'feature_loss': 0.0027971663512289524, 'ce_loss': 7.914548397064209, 'cont_loss': 2.490609645843506, 'teacher_loss': 5.422338008880615}\n"
     ]
    },
    {
     "name": "stderr",
     "output_type": "stream",
     "text": [
      "Validating:  58%|█████▊    | 137/235 [01:49<01:17,  1.27it/s, loss=3.4340, avg_loss=3.5945]"
     ]
    },
    {
     "name": "stdout",
     "output_type": "stream",
     "text": [
      "{'kd_loss': 1.554242491722107, 'feature_loss': 0.002997663104906678, 'ce_loss': 8.012049674987793, 'cont_loss': 2.529214382171631, 'teacher_loss': 5.339541912078857}\n"
     ]
    },
    {
     "name": "stderr",
     "output_type": "stream",
     "text": [
      "Validating:  59%|█████▊    | 138/235 [01:50<01:16,  1.27it/s, loss=3.6608, avg_loss=3.5950]"
     ]
    },
    {
     "name": "stdout",
     "output_type": "stream",
     "text": [
      "{'kd_loss': 2.141564130783081, 'feature_loss': 0.002722614910453558, 'ce_loss': 7.7874884605407715, 'cont_loss': 2.5350141525268555, 'teacher_loss': 5.238593101501465}\n"
     ]
    },
    {
     "name": "stderr",
     "output_type": "stream",
     "text": [
      "Validating:  59%|█████▉    | 139/235 [01:51<01:15,  1.27it/s, loss=3.2613, avg_loss=3.5926]"
     ]
    },
    {
     "name": "stdout",
     "output_type": "stream",
     "text": [
      "{'kd_loss': 1.1788368225097656, 'feature_loss': 0.0031026045326143503, 'ce_loss': 8.051128387451172, 'cont_loss': 2.561906099319458, 'teacher_loss': 5.492744445800781}\n"
     ]
    },
    {
     "name": "stderr",
     "output_type": "stream",
     "text": [
      "Validating:  60%|█████▉    | 140/235 [01:51<01:14,  1.27it/s, loss=3.5983, avg_loss=3.5926]"
     ]
    },
    {
     "name": "stdout",
     "output_type": "stream",
     "text": [
      "{'kd_loss': 1.9381706714630127, 'feature_loss': 0.002933899639174342, 'ce_loss': 7.921706199645996, 'cont_loss': 2.5244040489196777, 'teacher_loss': 4.717838287353516}\n"
     ]
    },
    {
     "name": "stderr",
     "output_type": "stream",
     "text": [
      "Validating:  60%|██████    | 141/235 [01:52<01:14,  1.27it/s, loss=3.3677, avg_loss=3.5910]"
     ]
    },
    {
     "name": "stdout",
     "output_type": "stream",
     "text": [
      "{'kd_loss': 1.4974629878997803, 'feature_loss': 0.0030846381559967995, 'ce_loss': 7.8840861320495605, 'cont_loss': 2.5346646308898926, 'teacher_loss': 5.578099727630615}\n"
     ]
    },
    {
     "name": "stderr",
     "output_type": "stream",
     "text": [
      "Validating:  60%|██████    | 142/235 [01:53<01:13,  1.27it/s, loss=3.6197, avg_loss=3.5912]"
     ]
    },
    {
     "name": "stdout",
     "output_type": "stream",
     "text": [
      "{'kd_loss': 1.8422117233276367, 'feature_loss': 0.0030481601133942604, 'ce_loss': 8.131412506103516, 'cont_loss': 2.5887393951416016, 'teacher_loss': 5.628376007080078}\n"
     ]
    },
    {
     "name": "stderr",
     "output_type": "stream",
     "text": [
      "Validating:  61%|██████    | 143/235 [01:54<01:12,  1.27it/s, loss=3.3386, avg_loss=3.5895]"
     ]
    },
    {
     "name": "stdout",
     "output_type": "stream",
     "text": [
      "{'kd_loss': 1.4681544303894043, 'feature_loss': 0.0029555668588727713, 'ce_loss': 7.820788860321045, 'cont_loss': 2.57987904548645, 'teacher_loss': 3.973825216293335}\n"
     ]
    },
    {
     "name": "stderr",
     "output_type": "stream",
     "text": [
      "Validating:  61%|██████▏   | 144/235 [01:55<01:11,  1.27it/s, loss=3.2526, avg_loss=3.5871]"
     ]
    },
    {
     "name": "stdout",
     "output_type": "stream",
     "text": [
      "{'kd_loss': 1.2558794021606445, 'feature_loss': 0.0029434363823384047, 'ce_loss': 7.886824131011963, 'cont_loss': 2.5835814476013184, 'teacher_loss': 4.721336364746094}\n"
     ]
    },
    {
     "name": "stderr",
     "output_type": "stream",
     "text": [
      "Validating:  62%|██████▏   | 145/235 [01:55<01:10,  1.27it/s, loss=3.5202, avg_loss=3.5867]"
     ]
    },
    {
     "name": "stdout",
     "output_type": "stream",
     "text": [
      "{'kd_loss': 1.7523267269134521, 'feature_loss': 0.002869255840778351, 'ce_loss': 7.952550411224365, 'cont_loss': 2.5793890953063965, 'teacher_loss': 5.016828536987305}\n"
     ]
    },
    {
     "name": "stderr",
     "output_type": "stream",
     "text": [
      "Validating:  62%|██████▏   | 146/235 [01:56<01:10,  1.27it/s, loss=3.8741, avg_loss=3.5886]"
     ]
    },
    {
     "name": "stdout",
     "output_type": "stream",
     "text": [
      "{'kd_loss': 2.37489652633667, 'feature_loss': 0.0028036856092512608, 'ce_loss': 8.088547706604004, 'cont_loss': 2.598012924194336, 'teacher_loss': 5.169422149658203}\n"
     ]
    },
    {
     "name": "stderr",
     "output_type": "stream",
     "text": [
      "Validating:  63%|██████▎   | 147/235 [01:57<01:09,  1.27it/s, loss=3.5570, avg_loss=3.5884]"
     ]
    },
    {
     "name": "stdout",
     "output_type": "stream",
     "text": [
      "{'kd_loss': 1.844834327697754, 'feature_loss': 0.0029494180344045162, 'ce_loss': 7.912235260009766, 'cont_loss': 2.6064045429229736, 'teacher_loss': 6.006736755371094}\n"
     ]
    },
    {
     "name": "stderr",
     "output_type": "stream",
     "text": [
      "Validating:  63%|██████▎   | 148/235 [01:58<01:08,  1.27it/s, loss=3.4199, avg_loss=3.5873]"
     ]
    },
    {
     "name": "stdout",
     "output_type": "stream",
     "text": [
      "{'kd_loss': 1.546331763267517, 'feature_loss': 0.00298435240983963, 'ce_loss': 7.9549174308776855, 'cont_loss': 2.5994322299957275, 'teacher_loss': 4.522309303283691}\n"
     ]
    },
    {
     "name": "stderr",
     "output_type": "stream",
     "text": [
      "Validating:  63%|██████▎   | 149/235 [01:59<01:07,  1.27it/s, loss=3.7889, avg_loss=3.5886]"
     ]
    },
    {
     "name": "stdout",
     "output_type": "stream",
     "text": [
      "{'kd_loss': 2.2018938064575195, 'feature_loss': 0.0028516026213765144, 'ce_loss': 8.072510719299316, 'cont_loss': 2.6586902141571045, 'teacher_loss': 5.818045139312744}\n"
     ]
    },
    {
     "name": "stderr",
     "output_type": "stream",
     "text": [
      "Validating:  64%|██████▍   | 150/235 [01:59<01:06,  1.27it/s, loss=3.8447, avg_loss=3.5903]"
     ]
    },
    {
     "name": "stdout",
     "output_type": "stream",
     "text": [
      "{'kd_loss': 2.3246383666992188, 'feature_loss': 0.002833937294781208, 'ce_loss': 8.06782341003418, 'cont_loss': 2.617161750793457, 'teacher_loss': 5.038044452667236}\n"
     ]
    },
    {
     "name": "stderr",
     "output_type": "stream",
     "text": [
      "Validating:  64%|██████▍   | 151/235 [02:00<01:06,  1.27it/s, loss=3.4565, avg_loss=3.5894]"
     ]
    },
    {
     "name": "stdout",
     "output_type": "stream",
     "text": [
      "{'kd_loss': 1.6382825374603271, 'feature_loss': 0.0030536919366568327, 'ce_loss': 7.900455951690674, 'cont_loss': 2.669478416442871, 'teacher_loss': 5.193102836608887}\n"
     ]
    },
    {
     "name": "stderr",
     "output_type": "stream",
     "text": [
      "Validating:  65%|██████▍   | 152/235 [02:01<01:05,  1.27it/s, loss=3.4417, avg_loss=3.5885]"
     ]
    },
    {
     "name": "stdout",
     "output_type": "stream",
     "text": [
      "{'kd_loss': 1.5476725101470947, 'feature_loss': 0.0029839221388101578, 'ce_loss': 7.997817516326904, 'cont_loss': 2.6824119091033936, 'teacher_loss': 5.706031799316406}\n"
     ]
    },
    {
     "name": "stderr",
     "output_type": "stream",
     "text": [
      "Validating:  65%|██████▌   | 153/235 [02:02<01:04,  1.27it/s, loss=3.4187, avg_loss=3.5874]"
     ]
    },
    {
     "name": "stdout",
     "output_type": "stream",
     "text": [
      "{'kd_loss': 1.4623706340789795, 'feature_loss': 0.0030095549300312996, 'ce_loss': 8.067729949951172, 'cont_loss': 2.669142246246338, 'teacher_loss': 5.33421516418457}\n"
     ]
    },
    {
     "name": "stderr",
     "output_type": "stream",
     "text": [
      "Validating:  66%|██████▌   | 154/235 [02:02<01:03,  1.27it/s, loss=3.3679, avg_loss=3.5859]"
     ]
    },
    {
     "name": "stdout",
     "output_type": "stream",
     "text": [
      "{'kd_loss': 1.4257402420043945, 'feature_loss': 0.0030329101718962193, 'ce_loss': 7.950843334197998, 'cont_loss': 2.6947758197784424, 'teacher_loss': 5.494035720825195}\n"
     ]
    },
    {
     "name": "stderr",
     "output_type": "stream",
     "text": [
      "Validating:  66%|██████▌   | 155/235 [02:03<01:03,  1.27it/s, loss=3.2846, avg_loss=3.5840]"
     ]
    },
    {
     "name": "stdout",
     "output_type": "stream",
     "text": [
      "{'kd_loss': 1.202445387840271, 'feature_loss': 0.0031456565484404564, 'ce_loss': 8.046454429626465, 'cont_loss': 2.6915104389190674, 'teacher_loss': 4.8956379890441895}\n"
     ]
    },
    {
     "name": "stderr",
     "output_type": "stream",
     "text": [
      "Validating:  66%|██████▋   | 156/235 [02:04<01:02,  1.27it/s, loss=3.3125, avg_loss=3.5823]"
     ]
    },
    {
     "name": "stdout",
     "output_type": "stream",
     "text": [
      "{'kd_loss': 1.2566945552825928, 'feature_loss': 0.003119613276794553, 'ce_loss': 8.040581703186035, 'cont_loss': 2.71665096282959, 'teacher_loss': 5.371684551239014}\n"
     ]
    },
    {
     "name": "stderr",
     "output_type": "stream",
     "text": [
      "Validating:  67%|██████▋   | 157/235 [02:05<01:01,  1.27it/s, loss=3.5568, avg_loss=3.5821]"
     ]
    },
    {
     "name": "stdout",
     "output_type": "stream",
     "text": [
      "{'kd_loss': 1.6844719648361206, 'feature_loss': 0.003092014230787754, 'ce_loss': 8.134993553161621, 'cont_loss': 2.73709774017334, 'teacher_loss': 5.657026767730713}\n"
     ]
    },
    {
     "name": "stderr",
     "output_type": "stream",
     "text": [
      "Validating:  67%|██████▋   | 158/235 [02:06<01:00,  1.27it/s, loss=3.5759, avg_loss=3.5821]"
     ]
    },
    {
     "name": "stdout",
     "output_type": "stream",
     "text": [
      "{'kd_loss': 1.756855845451355, 'feature_loss': 0.0030759586952626705, 'ce_loss': 8.08404541015625, 'cont_loss': 2.719325065612793, 'teacher_loss': 5.4982075691223145}\n"
     ]
    },
    {
     "name": "stderr",
     "output_type": "stream",
     "text": [
      "Validating:  68%|██████▊   | 159/235 [02:06<00:59,  1.27it/s, loss=3.5993, avg_loss=3.5822]"
     ]
    },
    {
     "name": "stdout",
     "output_type": "stream",
     "text": [
      "{'kd_loss': 1.9361259937286377, 'feature_loss': 0.0028376304544508457, 'ce_loss': 7.869390487670898, 'cont_loss': 2.7016329765319824, 'teacher_loss': 4.208141326904297}\n"
     ]
    },
    {
     "name": "stderr",
     "output_type": "stream",
     "text": [
      "Validating:  68%|██████▊   | 160/235 [02:07<00:59,  1.27it/s, loss=3.3187, avg_loss=3.5805]"
     ]
    },
    {
     "name": "stdout",
     "output_type": "stream",
     "text": [
      "{'kd_loss': 1.311828851699829, 'feature_loss': 0.002892119577154517, 'ce_loss': 7.974703311920166, 'cont_loss': 2.700587034225464, 'teacher_loss': 4.6710076332092285}\n"
     ]
    },
    {
     "name": "stderr",
     "output_type": "stream",
     "text": [
      "Validating:  69%|██████▊   | 161/235 [02:08<00:58,  1.27it/s, loss=3.6008, avg_loss=3.5806]"
     ]
    },
    {
     "name": "stdout",
     "output_type": "stream",
     "text": [
      "{'kd_loss': 1.8452339172363281, 'feature_loss': 0.002892700955271721, 'ce_loss': 8.013445854187012, 'cont_loss': 2.7389137744903564, 'teacher_loss': 5.568985462188721}\n"
     ]
    },
    {
     "name": "stderr",
     "output_type": "stream",
     "text": [
      "Validating:  69%|██████▉   | 162/235 [02:09<00:57,  1.27it/s, loss=3.5640, avg_loss=3.5805]"
     ]
    },
    {
     "name": "stdout",
     "output_type": "stream",
     "text": [
      "{'kd_loss': 1.809179663658142, 'feature_loss': 0.0030482758302241564, 'ce_loss': 7.945065975189209, 'cont_loss': 2.756293535232544, 'teacher_loss': 5.448006629943848}\n"
     ]
    },
    {
     "name": "stderr",
     "output_type": "stream",
     "text": [
      "Validating:  69%|██████▉   | 163/235 [02:10<00:56,  1.27it/s, loss=3.3535, avg_loss=3.5791]"
     ]
    },
    {
     "name": "stdout",
     "output_type": "stream",
     "text": [
      "{'kd_loss': 1.3234459161758423, 'feature_loss': 0.0029942444525659084, 'ce_loss': 8.055268287658691, 'cont_loss': 2.7492752075195312, 'teacher_loss': 5.253788948059082}\n"
     ]
    },
    {
     "name": "stderr",
     "output_type": "stream",
     "text": [
      "Validating:  70%|██████▉   | 164/235 [02:10<00:55,  1.27it/s, loss=3.2966, avg_loss=3.5774]"
     ]
    },
    {
     "name": "stdout",
     "output_type": "stream",
     "text": [
      "{'kd_loss': 1.2840594053268433, 'feature_loss': 0.0031249509193003178, 'ce_loss': 7.916788578033447, 'cont_loss': 2.792494297027588, 'teacher_loss': 5.548027038574219}\n"
     ]
    },
    {
     "name": "stderr",
     "output_type": "stream",
     "text": [
      "Validating:  70%|███████   | 165/235 [02:11<00:55,  1.27it/s, loss=3.5228, avg_loss=3.5771]"
     ]
    },
    {
     "name": "stdout",
     "output_type": "stream",
     "text": [
      "{'kd_loss': 1.6224186420440674, 'feature_loss': 0.0029681501910090446, 'ce_loss': 8.114998817443848, 'cont_loss': 2.768054485321045, 'teacher_loss': 4.843360900878906}\n"
     ]
    },
    {
     "name": "stderr",
     "output_type": "stream",
     "text": [
      "Validating:  71%|███████   | 166/235 [02:12<00:54,  1.27it/s, loss=3.4321, avg_loss=3.5762]"
     ]
    },
    {
     "name": "stdout",
     "output_type": "stream",
     "text": [
      "{'kd_loss': 1.4705989360809326, 'feature_loss': 0.0029431823641061783, 'ce_loss': 8.059612274169922, 'cont_loss': 2.7864956855773926, 'teacher_loss': 5.675409317016602}\n"
     ]
    },
    {
     "name": "stderr",
     "output_type": "stream",
     "text": [
      "Validating:  71%|███████   | 167/235 [02:13<00:53,  1.27it/s, loss=3.4193, avg_loss=3.5753]"
     ]
    },
    {
     "name": "stdout",
     "output_type": "stream",
     "text": [
      "{'kd_loss': 1.5962210893630981, 'feature_loss': 0.0028622190002352, 'ce_loss': 7.816702842712402, 'cont_loss': 2.759101390838623, 'teacher_loss': 4.988436698913574}\n"
     ]
    },
    {
     "name": "stderr",
     "output_type": "stream",
     "text": [
      "Validating:  71%|███████▏  | 168/235 [02:14<00:52,  1.27it/s, loss=3.4726, avg_loss=3.5747]"
     ]
    },
    {
     "name": "stdout",
     "output_type": "stream",
     "text": [
      "{'kd_loss': 1.6603150367736816, 'feature_loss': 0.0027514472603797913, 'ce_loss': 7.889246940612793, 'cont_loss': 2.753598690032959, 'teacher_loss': 4.841818809509277}\n"
     ]
    },
    {
     "name": "stderr",
     "output_type": "stream",
     "text": [
      "Validating:  72%|███████▏  | 169/235 [02:14<00:51,  1.27it/s, loss=3.4249, avg_loss=3.5738]"
     ]
    },
    {
     "name": "stdout",
     "output_type": "stream",
     "text": [
      "{'kd_loss': 1.5029114484786987, 'feature_loss': 0.0029722307808697224, 'ce_loss': 7.978189945220947, 'cont_loss': 2.7966322898864746, 'teacher_loss': 5.135383129119873}\n"
     ]
    },
    {
     "name": "stderr",
     "output_type": "stream",
     "text": [
      "Validating:  72%|███████▏  | 170/235 [02:15<00:51,  1.27it/s, loss=3.4584, avg_loss=3.5731]"
     ]
    },
    {
     "name": "stdout",
     "output_type": "stream",
     "text": [
      "{'kd_loss': 1.5795708894729614, 'feature_loss': 0.002978562843054533, 'ce_loss': 7.959730625152588, 'cont_loss': 2.8040831089019775, 'teacher_loss': 5.2129225730896}\n"
     ]
    },
    {
     "name": "stderr",
     "output_type": "stream",
     "text": [
      "Validating:  73%|███████▎  | 171/235 [02:16<00:50,  1.27it/s, loss=3.4125, avg_loss=3.5722]"
     ]
    },
    {
     "name": "stdout",
     "output_type": "stream",
     "text": [
      "{'kd_loss': 1.4946541786193848, 'feature_loss': 0.0029340689070522785, 'ce_loss': 7.9484663009643555, 'cont_loss': 2.8035216331481934, 'teacher_loss': 5.440451622009277}\n"
     ]
    },
    {
     "name": "stderr",
     "output_type": "stream",
     "text": [
      "Validating:  73%|███████▎  | 172/235 [02:17<00:49,  1.27it/s, loss=3.5457, avg_loss=3.5720]"
     ]
    },
    {
     "name": "stdout",
     "output_type": "stream",
     "text": [
      "{'kd_loss': 1.7178664207458496, 'feature_loss': 0.002990548964589834, 'ce_loss': 8.006529808044434, 'cont_loss': 2.8454360961914062, 'teacher_loss': 5.391537189483643}\n"
     ]
    },
    {
     "name": "stderr",
     "output_type": "stream",
     "text": [
      "Validating:  74%|███████▎  | 173/235 [02:17<00:48,  1.27it/s, loss=3.4400, avg_loss=3.5712]"
     ]
    },
    {
     "name": "stdout",
     "output_type": "stream",
     "text": [
      "{'kd_loss': 1.482313871383667, 'feature_loss': 0.0029648866038769484, 'ce_loss': 8.054919242858887, 'cont_loss': 2.8207452297210693, 'teacher_loss': 5.520918369293213}\n"
     ]
    },
    {
     "name": "stderr",
     "output_type": "stream",
     "text": [
      "Validating:  74%|███████▍  | 174/235 [02:18<00:48,  1.27it/s, loss=3.7339, avg_loss=3.5722]"
     ]
    },
    {
     "name": "stdout",
     "output_type": "stream",
     "text": [
      "{'kd_loss': 2.166515588760376, 'feature_loss': 0.002873200923204422, 'ce_loss': 7.900212287902832, 'cont_loss': 2.8025712966918945, 'teacher_loss': 5.390260219573975}\n"
     ]
    },
    {
     "name": "stderr",
     "output_type": "stream",
     "text": [
      "Validating:  74%|███████▍  | 175/235 [02:19<00:47,  1.27it/s, loss=3.3728, avg_loss=3.5710]"
     ]
    },
    {
     "name": "stdout",
     "output_type": "stream",
     "text": [
      "{'kd_loss': 1.453598141670227, 'feature_loss': 0.0029633408412337303, 'ce_loss': 7.877343654632568, 'cont_loss': 2.824650287628174, 'teacher_loss': 5.3777875900268555}\n"
     ]
    },
    {
     "name": "stderr",
     "output_type": "stream",
     "text": [
      "Validating:  75%|███████▍  | 176/235 [02:20<00:46,  1.27it/s, loss=3.3852, avg_loss=3.5700]"
     ]
    },
    {
     "name": "stdout",
     "output_type": "stream",
     "text": [
      "{'kd_loss': 1.3061244487762451, 'feature_loss': 0.003121352754533291, 'ce_loss': 8.1481351852417, 'cont_loss': 2.8738346099853516, 'teacher_loss': 5.19738245010376}\n"
     ]
    },
    {
     "name": "stderr",
     "output_type": "stream",
     "text": [
      "Validating:  75%|███████▌  | 177/235 [02:21<00:45,  1.27it/s, loss=3.2517, avg_loss=3.5682]"
     ]
    },
    {
     "name": "stdout",
     "output_type": "stream",
     "text": [
      "{'kd_loss': 1.102766513824463, 'feature_loss': 0.002994507784023881, 'ce_loss': 8.045742988586426, 'cont_loss': 2.863102436065674, 'teacher_loss': 5.033501148223877}\n"
     ]
    },
    {
     "name": "stderr",
     "output_type": "stream",
     "text": [
      "Validating:  76%|███████▌  | 178/235 [02:21<00:44,  1.27it/s, loss=3.4410, avg_loss=3.5675]"
     ]
    },
    {
     "name": "stdout",
     "output_type": "stream",
     "text": [
      "{'kd_loss': 1.5681148767471313, 'feature_loss': 0.0028858461882919073, 'ce_loss': 7.909323692321777, 'cont_loss': 2.8386025428771973, 'teacher_loss': 4.80481481552124}\n"
     ]
    },
    {
     "name": "stderr",
     "output_type": "stream",
     "text": [
      "Validating:  76%|███████▌  | 179/235 [02:22<00:44,  1.27it/s, loss=3.6658, avg_loss=3.5680]"
     ]
    },
    {
     "name": "stdout",
     "output_type": "stream",
     "text": [
      "{'kd_loss': 2.030696392059326, 'feature_loss': 0.0027853918727487326, 'ce_loss': 7.881993770599365, 'cont_loss': 2.8561336994171143, 'teacher_loss': 6.061315059661865}\n"
     ]
    },
    {
     "name": "stderr",
     "output_type": "stream",
     "text": [
      "Validating:  77%|███████▋  | 180/235 [02:23<00:43,  1.27it/s, loss=3.4409, avg_loss=3.5673]"
     ]
    },
    {
     "name": "stdout",
     "output_type": "stream",
     "text": [
      "{'kd_loss': 1.4880990982055664, 'feature_loss': 0.0029472103342413902, 'ce_loss': 8.025980949401855, 'cont_loss': 2.88777494430542, 'teacher_loss': 4.855086803436279}\n"
     ]
    },
    {
     "name": "stderr",
     "output_type": "stream",
     "text": [
      "Validating:  77%|███████▋  | 181/235 [02:24<00:42,  1.27it/s, loss=3.7342, avg_loss=3.5682]"
     ]
    },
    {
     "name": "stdout",
     "output_type": "stream",
     "text": [
      "{'kd_loss': 2.010225534439087, 'feature_loss': 0.0027452497743070126, 'ce_loss': 8.141229629516602, 'cont_loss': 2.8640060424804688, 'teacher_loss': 5.602250576019287}\n"
     ]
    },
    {
     "name": "stderr",
     "output_type": "stream",
     "text": [
      "Validating:  77%|███████▋  | 182/235 [02:25<00:41,  1.27it/s, loss=3.4690, avg_loss=3.5677]"
     ]
    },
    {
     "name": "stdout",
     "output_type": "stream",
     "text": [
      "{'kd_loss': 1.5602518320083618, 'feature_loss': 0.0029797705356031656, 'ce_loss': 7.998094081878662, 'cont_loss': 2.8910369873046875, 'teacher_loss': 5.135035514831543}\n"
     ]
    },
    {
     "name": "stderr",
     "output_type": "stream",
     "text": [
      "Validating:  78%|███████▊  | 183/235 [02:25<00:40,  1.27it/s, loss=3.3812, avg_loss=3.5667]"
     ]
    },
    {
     "name": "stdout",
     "output_type": "stream",
     "text": [
      "{'kd_loss': 1.354166030883789, 'feature_loss': 0.0030860542319715023, 'ce_loss': 8.044206619262695, 'cont_loss': 2.9055042266845703, 'teacher_loss': 5.609917640686035}\n"
     ]
    },
    {
     "name": "stderr",
     "output_type": "stream",
     "text": [
      "Validating:  78%|███████▊  | 184/235 [02:26<00:40,  1.27it/s, loss=3.5499, avg_loss=3.5666]"
     ]
    },
    {
     "name": "stdout",
     "output_type": "stream",
     "text": [
      "{'kd_loss': 1.6703624725341797, 'feature_loss': 0.002971937647089362, 'ce_loss': 8.082432746887207, 'cont_loss': 2.8965954780578613, 'teacher_loss': 5.7428436279296875}\n"
     ]
    },
    {
     "name": "stderr",
     "output_type": "stream",
     "text": [
      "Validating:  79%|███████▊  | 185/235 [02:27<00:39,  1.27it/s, loss=3.3698, avg_loss=3.5655]"
     ]
    },
    {
     "name": "stdout",
     "output_type": "stream",
     "text": [
      "{'kd_loss': 1.326066493988037, 'feature_loss': 0.0030246954411268234, 'ce_loss': 8.042561531066895, 'cont_loss': 2.936455488204956, 'teacher_loss': 5.468836784362793}\n"
     ]
    },
    {
     "name": "stderr",
     "output_type": "stream",
     "text": [
      "Validating:  79%|███████▉  | 186/235 [02:28<00:38,  1.27it/s, loss=3.5550, avg_loss=3.5655]"
     ]
    },
    {
     "name": "stdout",
     "output_type": "stream",
     "text": [
      "{'kd_loss': 1.6627202033996582, 'feature_loss': 0.002930860733613372, 'ce_loss': 8.105813980102539, 'cont_loss': 2.915591239929199, 'teacher_loss': 4.775565147399902}\n"
     ]
    },
    {
     "name": "stderr",
     "output_type": "stream",
     "text": [
      "Validating:  80%|███████▉  | 187/235 [02:28<00:37,  1.27it/s, loss=3.5749, avg_loss=3.5655]"
     ]
    },
    {
     "name": "stdout",
     "output_type": "stream",
     "text": [
      "{'kd_loss': 1.7162353992462158, 'feature_loss': 0.002986093983054161, 'ce_loss': 8.081368446350098, 'cont_loss': 2.920900821685791, 'teacher_loss': 5.430006504058838}\n"
     ]
    },
    {
     "name": "stderr",
     "output_type": "stream",
     "text": [
      "Validating:  80%|████████  | 188/235 [02:29<00:36,  1.27it/s, loss=3.3495, avg_loss=3.5644]"
     ]
    },
    {
     "name": "stdout",
     "output_type": "stream",
     "text": [
      "{'kd_loss': 1.3309175968170166, 'feature_loss': 0.0030881462153047323, 'ce_loss': 7.9663801193237305, 'cont_loss': 2.9383251667022705, 'teacher_loss': 5.476948261260986}\n"
     ]
    },
    {
     "name": "stderr",
     "output_type": "stream",
     "text": [
      "Validating:  80%|████████  | 189/235 [02:30<00:36,  1.27it/s, loss=3.7275, avg_loss=3.5652]"
     ]
    },
    {
     "name": "stdout",
     "output_type": "stream",
     "text": [
      "{'kd_loss': 2.0595805644989014, 'feature_loss': 0.002828016644343734, 'ce_loss': 8.011703491210938, 'cont_loss': 2.939561605453491, 'teacher_loss': 5.6620330810546875}\n"
     ]
    },
    {
     "name": "stderr",
     "output_type": "stream",
     "text": [
      "Validating:  81%|████████  | 190/235 [02:31<00:35,  1.27it/s, loss=3.5592, avg_loss=3.5652]"
     ]
    },
    {
     "name": "stdout",
     "output_type": "stream",
     "text": [
      "{'kd_loss': 1.7612468004226685, 'feature_loss': 0.0028747119940817356, 'ce_loss': 7.965193271636963, 'cont_loss': 2.886971950531006, 'teacher_loss': 5.344479084014893}\n"
     ]
    },
    {
     "name": "stderr",
     "output_type": "stream",
     "text": [
      "Validating:  81%|████████▏ | 191/235 [02:32<00:34,  1.27it/s, loss=3.5745, avg_loss=3.5652]"
     ]
    },
    {
     "name": "stdout",
     "output_type": "stream",
     "text": [
      "{'kd_loss': 1.7812221050262451, 'feature_loss': 0.0029612951911985874, 'ce_loss': 7.967000484466553, 'cont_loss': 2.9347481727600098, 'teacher_loss': 6.067610740661621}\n"
     ]
    },
    {
     "name": "stderr",
     "output_type": "stream",
     "text": [
      "Validating:  82%|████████▏ | 192/235 [02:32<00:33,  1.27it/s, loss=3.5496, avg_loss=3.5652]"
     ]
    },
    {
     "name": "stdout",
     "output_type": "stream",
     "text": [
      "{'kd_loss': 1.6947389841079712, 'feature_loss': 0.0028956979513168335, 'ce_loss': 8.022541046142578, 'cont_loss': 2.951953887939453, 'teacher_loss': 5.303287506103516}\n"
     ]
    },
    {
     "name": "stderr",
     "output_type": "stream",
     "text": [
      "Validating:  82%|████████▏ | 193/235 [02:33<00:33,  1.27it/s, loss=3.5213, avg_loss=3.5649]"
     ]
    },
    {
     "name": "stdout",
     "output_type": "stream",
     "text": [
      "{'kd_loss': 1.7124207019805908, 'feature_loss': 0.0029527011793106794, 'ce_loss': 7.898736953735352, 'cont_loss': 2.9519214630126953, 'teacher_loss': 5.123207092285156}\n"
     ]
    },
    {
     "name": "stderr",
     "output_type": "stream",
     "text": [
      "Validating:  83%|████████▎ | 194/235 [02:34<00:32,  1.27it/s, loss=3.5069, avg_loss=3.5646]"
     ]
    },
    {
     "name": "stdout",
     "output_type": "stream",
     "text": [
      "{'kd_loss': 1.6202688217163086, 'feature_loss': 0.0030744606629014015, 'ce_loss': 8.000846862792969, 'cont_loss': 2.962486743927002, 'teacher_loss': 4.708372116088867}\n"
     ]
    },
    {
     "name": "stderr",
     "output_type": "stream",
     "text": [
      "Validating:  83%|████████▎ | 195/235 [02:35<00:31,  1.27it/s, loss=3.5590, avg_loss=3.5646]"
     ]
    },
    {
     "name": "stdout",
     "output_type": "stream",
     "text": [
      "{'kd_loss': 1.643765926361084, 'feature_loss': 0.002940197242423892, 'ce_loss': 8.13463306427002, 'cont_loss': 2.964808702468872, 'teacher_loss': 5.261648654937744}\n"
     ]
    },
    {
     "name": "stderr",
     "output_type": "stream",
     "text": [
      "Validating:  83%|████████▎ | 196/235 [02:36<00:30,  1.27it/s, loss=3.4264, avg_loss=3.5639]"
     ]
    },
    {
     "name": "stdout",
     "output_type": "stream",
     "text": [
      "{'kd_loss': 1.3911378383636475, 'feature_loss': 0.0031319940462708473, 'ce_loss': 8.100117683410645, 'cont_loss': 3.0044238567352295, 'teacher_loss': 5.7495317459106445}\n"
     ]
    },
    {
     "name": "stderr",
     "output_type": "stream",
     "text": [
      "Validating:  84%|████████▍ | 197/235 [02:36<00:29,  1.27it/s, loss=3.5790, avg_loss=3.5640]"
     ]
    },
    {
     "name": "stdout",
     "output_type": "stream",
     "text": [
      "{'kd_loss': 1.7924461364746094, 'feature_loss': 0.0030039483681321144, 'ce_loss': 7.954030990600586, 'cont_loss': 2.962191343307495, 'teacher_loss': 5.100862979888916}\n"
     ]
    },
    {
     "name": "stderr",
     "output_type": "stream",
     "text": [
      "Validating:  84%|████████▍ | 198/235 [02:37<00:29,  1.27it/s, loss=3.4377, avg_loss=3.5633]"
     ]
    },
    {
     "name": "stdout",
     "output_type": "stream",
     "text": [
      "{'kd_loss': 1.4333860874176025, 'feature_loss': 0.002931579714640975, 'ce_loss': 8.078540802001953, 'cont_loss': 2.9715828895568848, 'teacher_loss': 5.637780666351318}\n"
     ]
    },
    {
     "name": "stderr",
     "output_type": "stream",
     "text": [
      "Validating:  85%|████████▍ | 199/235 [02:38<00:28,  1.27it/s, loss=3.4563, avg_loss=3.5628]"
     ]
    },
    {
     "name": "stdout",
     "output_type": "stream",
     "text": [
      "{'kd_loss': 1.4421451091766357, 'feature_loss': 0.003050890751183033, 'ce_loss': 8.111549377441406, 'cont_loss': 3.0145187377929688, 'teacher_loss': 5.98554801940918}\n"
     ]
    },
    {
     "name": "stderr",
     "output_type": "stream",
     "text": [
      "Validating:  85%|████████▌ | 200/235 [02:39<00:27,  1.27it/s, loss=3.2705, avg_loss=3.5613]"
     ]
    },
    {
     "name": "stdout",
     "output_type": "stream",
     "text": [
      "{'kd_loss': 1.1367052793502808, 'feature_loss': 0.0029814383015036583, 'ce_loss': 8.000702857971191, 'cont_loss': 3.0168092250823975, 'teacher_loss': 4.898183345794678}\n"
     ]
    },
    {
     "name": "stderr",
     "output_type": "stream",
     "text": [
      "Validating:  86%|████████▌ | 201/235 [02:40<00:26,  1.27it/s, loss=3.5393, avg_loss=3.5612]"
     ]
    },
    {
     "name": "stdout",
     "output_type": "stream",
     "text": [
      "{'kd_loss': 1.6629582643508911, 'feature_loss': 0.0029640663415193558, 'ce_loss': 8.020232200622559, 'cont_loss': 3.0142600536346436, 'teacher_loss': 5.56533670425415}\n"
     ]
    },
    {
     "name": "stderr",
     "output_type": "stream",
     "text": [
      "Validating:  86%|████████▌ | 202/235 [02:40<00:25,  1.27it/s, loss=3.5859, avg_loss=3.5614]"
     ]
    },
    {
     "name": "stdout",
     "output_type": "stream",
     "text": [
      "{'kd_loss': 1.8201613426208496, 'feature_loss': 0.0028533232398331165, 'ce_loss': 7.918131351470947, 'cont_loss': 3.0010178089141846, 'teacher_loss': 5.697296142578125}\n"
     ]
    },
    {
     "name": "stderr",
     "output_type": "stream",
     "text": [
      "Validating:  86%|████████▋ | 203/235 [02:41<00:25,  1.27it/s, loss=3.4217, avg_loss=3.5607]"
     ]
    },
    {
     "name": "stdout",
     "output_type": "stream",
     "text": [
      "{'kd_loss': 1.4345920085906982, 'feature_loss': 0.00308674736879766, 'ce_loss': 7.996338844299316, 'cont_loss': 3.052215099334717, 'teacher_loss': 6.018647193908691}\n"
     ]
    },
    {
     "name": "stderr",
     "output_type": "stream",
     "text": [
      "Validating:  87%|████████▋ | 204/235 [02:42<00:24,  1.27it/s, loss=3.4720, avg_loss=3.5602]"
     ]
    },
    {
     "name": "stdout",
     "output_type": "stream",
     "text": [
      "{'kd_loss': 1.5131710767745972, 'feature_loss': 0.003061388386413455, 'ce_loss': 8.038861274719238, 'cont_loss': 3.0349690914154053, 'teacher_loss': 5.076530933380127}\n"
     ]
    },
    {
     "name": "stderr",
     "output_type": "stream",
     "text": [
      "Validating:  87%|████████▋ | 205/235 [02:43<00:23,  1.27it/s, loss=3.5005, avg_loss=3.5599]"
     ]
    },
    {
     "name": "stdout",
     "output_type": "stream",
     "text": [
      "{'kd_loss': 1.5371479988098145, 'feature_loss': 0.0030323381070047617, 'ce_loss': 8.087047576904297, 'cont_loss': 3.0546584129333496, 'teacher_loss': 5.4439592361450195}\n"
     ]
    },
    {
     "name": "stderr",
     "output_type": "stream",
     "text": [
      "Validating:  88%|████████▊ | 206/235 [02:43<00:22,  1.27it/s, loss=3.5131, avg_loss=3.5597]"
     ]
    },
    {
     "name": "stdout",
     "output_type": "stream",
     "text": [
      "{'kd_loss': 1.5337234735488892, 'feature_loss': 0.003041488118469715, 'ce_loss': 8.137287139892578, 'cont_loss': 3.0474300384521484, 'teacher_loss': 5.536622047424316}\n"
     ]
    },
    {
     "name": "stderr",
     "output_type": "stream",
     "text": [
      "Validating:  88%|████████▊ | 207/235 [02:44<00:22,  1.27it/s, loss=3.3031, avg_loss=3.5585]"
     ]
    },
    {
     "name": "stdout",
     "output_type": "stream",
     "text": [
      "{'kd_loss': 1.2020283937454224, 'feature_loss': 0.003173995763063431, 'ce_loss': 7.976752758026123, 'cont_loss': 3.0872488021850586, 'teacher_loss': 5.268869400024414}\n"
     ]
    },
    {
     "name": "stderr",
     "output_type": "stream",
     "text": [
      "Validating:  89%|████████▊ | 208/235 [02:45<00:21,  1.27it/s, loss=3.4152, avg_loss=3.5578]"
     ]
    },
    {
     "name": "stdout",
     "output_type": "stream",
     "text": [
      "{'kd_loss': 1.3587381839752197, 'feature_loss': 0.0029727753717452288, 'ce_loss': 8.088156700134277, 'cont_loss': 3.0906527042388916, 'teacher_loss': 6.249115467071533}\n"
     ]
    },
    {
     "name": "stderr",
     "output_type": "stream",
     "text": [
      "Validating:  89%|████████▉ | 209/235 [02:46<00:20,  1.27it/s, loss=3.4012, avg_loss=3.5570]"
     ]
    },
    {
     "name": "stdout",
     "output_type": "stream",
     "text": [
      "{'kd_loss': 1.4020097255706787, 'feature_loss': 0.0031235574278980494, 'ce_loss': 7.974954605102539, 'cont_loss': 3.0736923217773438, 'teacher_loss': 5.215160369873047}\n"
     ]
    },
    {
     "name": "stderr",
     "output_type": "stream",
     "text": [
      "Validating:  89%|████████▉ | 210/235 [02:47<00:19,  1.27it/s, loss=3.4156, avg_loss=3.5564]"
     ]
    },
    {
     "name": "stdout",
     "output_type": "stream",
     "text": [
      "{'kd_loss': 1.4327750205993652, 'feature_loss': 0.0029961969703435898, 'ce_loss': 7.974564552307129, 'cont_loss': 3.0657711029052734, 'teacher_loss': 5.870748519897461}\n"
     ]
    },
    {
     "name": "stderr",
     "output_type": "stream",
     "text": [
      "Validating:  90%|████████▉ | 211/235 [02:47<00:18,  1.27it/s, loss=3.4298, avg_loss=3.5558]"
     ]
    },
    {
     "name": "stdout",
     "output_type": "stream",
     "text": [
      "{'kd_loss': 1.5172456502914429, 'feature_loss': 0.0030135430861264467, 'ce_loss': 7.871870517730713, 'cont_loss': 3.093252182006836, 'teacher_loss': 4.931763172149658}\n"
     ]
    },
    {
     "name": "stderr",
     "output_type": "stream",
     "text": [
      "Validating:  90%|█████████ | 212/235 [02:48<00:18,  1.27it/s, loss=3.4694, avg_loss=3.5554]"
     ]
    },
    {
     "name": "stdout",
     "output_type": "stream",
     "text": [
      "{'kd_loss': 1.5375155210494995, 'feature_loss': 0.0030261906795203686, 'ce_loss': 7.968987464904785, 'cont_loss': 3.096883535385132, 'teacher_loss': 5.397068023681641}\n"
     ]
    },
    {
     "name": "stderr",
     "output_type": "stream",
     "text": [
      "Validating:  91%|█████████ | 213/235 [02:49<00:17,  1.27it/s, loss=3.3112, avg_loss=3.5542]"
     ]
    },
    {
     "name": "stdout",
     "output_type": "stream",
     "text": [
      "{'kd_loss': 1.1974308490753174, 'feature_loss': 0.0031822039745748043, 'ce_loss': 8.001319885253906, 'cont_loss': 3.117400646209717, 'teacher_loss': 5.504021167755127}\n"
     ]
    },
    {
     "name": "stderr",
     "output_type": "stream",
     "text": [
      "Validating:  91%|█████████ | 214/235 [02:50<00:16,  1.27it/s, loss=3.4184, avg_loss=3.5536]"
     ]
    },
    {
     "name": "stdout",
     "output_type": "stream",
     "text": [
      "{'kd_loss': 1.3720924854278564, 'feature_loss': 0.003070688806474209, 'ce_loss': 8.065685272216797, 'cont_loss': 3.1236634254455566, 'teacher_loss': 5.70719051361084}\n"
     ]
    },
    {
     "name": "stderr",
     "output_type": "stream",
     "text": [
      "Validating:  91%|█████████▏| 215/235 [02:51<00:15,  1.27it/s, loss=3.4466, avg_loss=3.5531]"
     ]
    },
    {
     "name": "stdout",
     "output_type": "stream",
     "text": [
      "{'kd_loss': 1.4448697566986084, 'feature_loss': 0.0030446189921349287, 'ce_loss': 8.038724899291992, 'cont_loss': 3.1224899291992188, 'teacher_loss': 6.402491092681885}\n"
     ]
    },
    {
     "name": "stderr",
     "output_type": "stream",
     "text": [
      "Validating:  92%|█████████▏| 216/235 [02:51<00:14,  1.27it/s, loss=3.3815, avg_loss=3.5523]"
     ]
    },
    {
     "name": "stdout",
     "output_type": "stream",
     "text": [
      "{'kd_loss': 1.323636531829834, 'feature_loss': 0.003031387459486723, 'ce_loss': 8.025858879089355, 'cont_loss': 3.1158275604248047, 'teacher_loss': 5.81309700012207}\n"
     ]
    },
    {
     "name": "stderr",
     "output_type": "stream",
     "text": [
      "Validating:  92%|█████████▏| 217/235 [02:52<00:14,  1.27it/s, loss=3.2802, avg_loss=3.5510]"
     ]
    },
    {
     "name": "stdout",
     "output_type": "stream",
     "text": [
      "{'kd_loss': 1.1042301654815674, 'feature_loss': 0.003109544515609741, 'ce_loss': 8.0444917678833, 'cont_loss': 3.1443369388580322, 'teacher_loss': 5.508379936218262}\n"
     ]
    },
    {
     "name": "stderr",
     "output_type": "stream",
     "text": [
      "Validating:  93%|█████████▎| 218/235 [02:53<00:13,  1.27it/s, loss=3.4039, avg_loss=3.5504]"
     ]
    },
    {
     "name": "stdout",
     "output_type": "stream",
     "text": [
      "{'kd_loss': 1.3373277187347412, 'feature_loss': 0.0030738632194697857, 'ce_loss': 8.068731307983398, 'cont_loss': 3.143479585647583, 'teacher_loss': 5.607287883758545}\n"
     ]
    },
    {
     "name": "stderr",
     "output_type": "stream",
     "text": [
      "Validating:  93%|█████████▎| 219/235 [02:54<00:12,  1.27it/s, loss=3.4037, avg_loss=3.5497]"
     ]
    },
    {
     "name": "stdout",
     "output_type": "stream",
     "text": [
      "{'kd_loss': 1.3289463520050049, 'feature_loss': 0.0031624510884284973, 'ce_loss': 8.083207130432129, 'cont_loss': 3.1394033432006836, 'teacher_loss': 5.410859107971191}\n"
     ]
    },
    {
     "name": "stderr",
     "output_type": "stream",
     "text": [
      "Validating:  94%|█████████▎| 220/235 [02:54<00:11,  1.27it/s, loss=3.5010, avg_loss=3.5495]"
     ]
    },
    {
     "name": "stdout",
     "output_type": "stream",
     "text": [
      "{'kd_loss': 1.5041608810424805, 'feature_loss': 0.003009266220033169, 'ce_loss': 8.11310863494873, 'cont_loss': 3.1466050148010254, 'teacher_loss': 5.9014716148376465}\n"
     ]
    },
    {
     "name": "stderr",
     "output_type": "stream",
     "text": [
      "Validating:  94%|█████████▍| 221/235 [02:55<00:11,  1.27it/s, loss=3.3238, avg_loss=3.5484]"
     ]
    },
    {
     "name": "stdout",
     "output_type": "stream",
     "text": [
      "{'kd_loss': 1.1917442083358765, 'feature_loss': 0.0031182130333036184, 'ce_loss': 8.029158592224121, 'cont_loss': 3.1888608932495117, 'teacher_loss': 5.821731090545654}\n"
     ]
    },
    {
     "name": "stderr",
     "output_type": "stream",
     "text": [
      "Validating:  94%|█████████▍| 222/235 [02:56<00:10,  1.27it/s, loss=3.3024, avg_loss=3.5473]"
     ]
    },
    {
     "name": "stdout",
     "output_type": "stream",
     "text": [
      "{'kd_loss': 1.1709022521972656, 'feature_loss': 0.0031552817672491074, 'ce_loss': 7.993823051452637, 'cont_loss': 3.18533992767334, 'teacher_loss': 5.885767459869385}\n"
     ]
    },
    {
     "name": "stderr",
     "output_type": "stream",
     "text": [
      "Validating:  95%|█████████▍| 223/235 [02:57<00:09,  1.28it/s, loss=3.4907, avg_loss=3.5471]"
     ]
    },
    {
     "name": "stdout",
     "output_type": "stream",
     "text": [
      "{'kd_loss': 1.5411696434020996, 'feature_loss': 0.00303747714497149, 'ce_loss': 8.014388084411621, 'cont_loss': 3.155291795730591, 'teacher_loss': 4.973328113555908}\n"
     ]
    },
    {
     "name": "stderr",
     "output_type": "stream",
     "text": [
      "Validating:  95%|█████████▌| 224/235 [02:58<00:08,  1.28it/s, loss=3.2990, avg_loss=3.5460]"
     ]
    },
    {
     "name": "stdout",
     "output_type": "stream",
     "text": [
      "{'kd_loss': 1.1273151636123657, 'feature_loss': 0.0030763205140829086, 'ce_loss': 8.058159828186035, 'cont_loss': 3.176154136657715, 'teacher_loss': 5.316954135894775}\n"
     ]
    },
    {
     "name": "stderr",
     "output_type": "stream",
     "text": [
      "Validating:  96%|█████████▌| 225/235 [02:58<00:07,  1.27it/s, loss=3.4304, avg_loss=3.5455]"
     ]
    },
    {
     "name": "stdout",
     "output_type": "stream",
     "text": [
      "{'kd_loss': 1.3767274618148804, 'feature_loss': 0.003170229494571686, 'ce_loss': 8.072345733642578, 'cont_loss': 3.199680805206299, 'teacher_loss': 5.234054088592529}\n"
     ]
    },
    {
     "name": "stderr",
     "output_type": "stream",
     "text": [
      "Validating:  96%|█████████▌| 226/235 [02:59<00:07,  1.27it/s, loss=3.3414, avg_loss=3.5446]"
     ]
    },
    {
     "name": "stdout",
     "output_type": "stream",
     "text": [
      "{'kd_loss': 1.2582453489303589, 'feature_loss': 0.003004745114594698, 'ce_loss': 7.976682662963867, 'cont_loss': 3.189558744430542, 'teacher_loss': 5.337249279022217}\n"
     ]
    },
    {
     "name": "stderr",
     "output_type": "stream",
     "text": [
      "Validating:  97%|█████████▋| 227/235 [03:00<00:06,  1.27it/s, loss=3.5560, avg_loss=3.5446]"
     ]
    },
    {
     "name": "stdout",
     "output_type": "stream",
     "text": [
      "{'kd_loss': 1.618472933769226, 'feature_loss': 0.003026989521458745, 'ce_loss': 8.083937644958496, 'cont_loss': 3.2124249935150146, 'teacher_loss': 5.428494453430176}\n"
     ]
    },
    {
     "name": "stderr",
     "output_type": "stream",
     "text": [
      "Validating:  97%|█████████▋| 228/235 [03:01<00:05,  1.27it/s, loss=3.4888, avg_loss=3.5444]"
     ]
    },
    {
     "name": "stdout",
     "output_type": "stream",
     "text": [
      "{'kd_loss': 1.5066841840744019, 'feature_loss': 0.0030749570578336716, 'ce_loss': 8.053339958190918, 'cont_loss': 3.1916186809539795, 'teacher_loss': 5.554405689239502}\n"
     ]
    },
    {
     "name": "stderr",
     "output_type": "stream",
     "text": [
      "Validating:  97%|█████████▋| 229/235 [03:02<00:04,  1.27it/s, loss=3.5311, avg_loss=3.5443]"
     ]
    },
    {
     "name": "stdout",
     "output_type": "stream",
     "text": [
      "{'kd_loss': 1.5895836353302002, 'feature_loss': 0.002914408454671502, 'ce_loss': 8.047003746032715, 'cont_loss': 3.2191989421844482, 'teacher_loss': 5.742118835449219}\n"
     ]
    },
    {
     "name": "stderr",
     "output_type": "stream",
     "text": [
      "Validating:  98%|█████████▊| 230/235 [03:02<00:03,  1.27it/s, loss=3.4046, avg_loss=3.5437]"
     ]
    },
    {
     "name": "stdout",
     "output_type": "stream",
     "text": [
      "{'kd_loss': 1.2732360363006592, 'feature_loss': 0.0031319656409323215, 'ce_loss': 8.136167526245117, 'cont_loss': 3.2683520317077637, 'teacher_loss': 5.401804447174072}\n"
     ]
    },
    {
     "name": "stderr",
     "output_type": "stream",
     "text": [
      "Validating:  98%|█████████▊| 231/235 [03:03<00:03,  1.27it/s, loss=3.5677, avg_loss=3.5438]"
     ]
    },
    {
     "name": "stdout",
     "output_type": "stream",
     "text": [
      "{'kd_loss': 1.6092580556869507, 'feature_loss': 0.0030460325069725513, 'ce_loss': 8.126601219177246, 'cont_loss': 3.2478067874908447, 'teacher_loss': 5.882737636566162}\n"
     ]
    },
    {
     "name": "stderr",
     "output_type": "stream",
     "text": [
      "Validating:  99%|█████████▊| 232/235 [03:04<00:02,  1.27it/s, loss=3.3557, avg_loss=3.5430]"
     ]
    },
    {
     "name": "stdout",
     "output_type": "stream",
     "text": [
      "{'kd_loss': 1.2522094249725342, 'feature_loss': 0.002925753127783537, 'ce_loss': 8.019181251525879, 'cont_loss': 3.235236167907715, 'teacher_loss': 5.122237205505371}\n"
     ]
    },
    {
     "name": "stderr",
     "output_type": "stream",
     "text": [
      "Validating:  99%|█████████▉| 233/235 [03:05<00:01,  1.27it/s, loss=3.4075, avg_loss=3.5424]"
     ]
    },
    {
     "name": "stdout",
     "output_type": "stream",
     "text": [
      "{'kd_loss': 1.330118179321289, 'feature_loss': 0.0031278464011847973, 'ce_loss': 8.048413276672363, 'cont_loss': 3.276364326477051, 'teacher_loss': 5.874474048614502}\n"
     ]
    },
    {
     "name": "stderr",
     "output_type": "stream",
     "text": [
      "Validating: 100%|█████████▉| 234/235 [03:05<00:00,  1.27it/s, loss=3.3926, avg_loss=3.5418]"
     ]
    },
    {
     "name": "stdout",
     "output_type": "stream",
     "text": [
      "{'kd_loss': 1.2732800245285034, 'feature_loss': 0.0030899709090590477, 'ce_loss': 8.107032775878906, 'cont_loss': 3.2357096672058105, 'teacher_loss': 5.175596237182617}\n"
     ]
    },
    {
     "name": "stderr",
     "output_type": "stream",
     "text": [
      "Validating: 100%|██████████| 235/235 [03:06<00:00,  1.26it/s, loss=3.3450, avg_loss=3.5409]"
     ]
    },
    {
     "name": "stdout",
     "output_type": "stream",
     "text": [
      "{'kd_loss': 1.4614042043685913, 'feature_loss': 0.003136672079563141, 'ce_loss': 7.935961723327637, 'cont_loss': 2.3315277099609375, 'teacher_loss': 5.917215347290039}\n",
      "Epoch 5 | Train Loss: 3.7115 | Val Loss: 3.5409 | Top1 Acc: 0.02 | Top5 Acc: 0.04\n"
     ]
    },
    {
     "name": "stderr",
     "output_type": "stream",
     "text": [
      "\n"
     ]
    },
    {
     "name": "stdout",
     "output_type": "stream",
     "text": [
      "Summary of Fold Metrics:\n",
      "{'fold': 0, 'train_loss': 3.711543472925822, 'val_loss': 3.5409307439276514, 'top1_acc': 0.01605718085106383, 'top5_acc': 0.039029255319148935, 'top10_acc': 0.05412234042553191}\n"
     ]
    }
   ],
   "source": [
    "teacher_model = GoogleLandmarksModel(text_embeddings=text_embeddings, model_name=\"RN101\", device=device)\n",
    "teacher_model = teacher_model.float()\n",
    "\n",
    "checkpoint = torch.load('/kaggle/input/k/thangchu/training-clip-baseline-on-landmarks-index-set/clip_landmark_results/best_val_top1_accuracy_model_fold-0.pth', weights_only = False)\n",
    "teacher_model.load_state_dict(checkpoint['model_state_dict'])\n",
    "teacher_model.to(device)\n",
    "student_model = timm.create_model(\"resnet18\", pretrained=True, num_classes=N_CLASSES)\n",
    "student_model = student_model.float()\n",
    "\n",
    "\n",
    "# Initialize the improved distillation model\n",
    "\n",
    "distillation_model = CrossModalDistillationModel(\n",
    "\n",
    "    teacher_model=teacher_model,\n",
    "\n",
    "    student_model=student_model,\n",
    "\n",
    "    text_embeddings=text_embeddings.to(device),\n",
    "\n",
    "    projection_dim=512  # Same dimension as CLIP's feature space\n",
    "\n",
    ")\n",
    "\n",
    "distillation_model.to(device)\n",
    "\n",
    "\n",
    "\n",
    "# Optimizer with weight decay\n",
    "\n",
    "optimizer = AdamW([\n",
    "\n",
    "    {'params': distillation_model.student.parameters(), 'lr': 1e-4},\n",
    "\n",
    "    {'params': distillation_model.projection_head.parameters(), 'lr': 1e-4}\n",
    "\n",
    "], weight_decay=0.01)\n",
    "\n",
    "\n",
    "\n",
    "# Scheduler with warmup\n",
    "\n",
    "num_training_steps = len(train_dl) * EPOCHS\n",
    "\n",
    "num_warmup_steps = min(1000, num_training_steps // 20)  # 10% of training steps or 1000, whichever is smaller\n",
    "\n",
    "scheduler = get_cosine_schedule_with_warmup(\n",
    "\n",
    "    optimizer, \n",
    "\n",
    "    num_warmup_steps=num_warmup_steps,\n",
    "\n",
    "    num_training_steps=num_training_steps\n",
    "\n",
    ")\n",
    "\n",
    "\n",
    "\n",
    "# Training loop with validation\n",
    "\n",
    "patience = EARLY_STOPPING_EPOCH\n",
    "\n",
    "patience_counter = 0\n",
    "\n",
    "\n",
    "\n",
    "scaler = GradScaler() if USE_AMP else None\n",
    "\n",
    "\n",
    "\n",
    "sfk = StratifiedKFold(n_splits=5, shuffle=True, random_state=42)\n",
    "\n",
    "training_folds = [0] \n",
    "\n",
    "fold_metrics = []\n",
    "\n",
    "for fold, (trn_idx, val_idx) in enumerate(sfk.split(train_df, train_df.landmark_id.tolist())):\n",
    "    if fold not in training_folds:\n",
    "        continue\n",
    "\n",
    "    print(f\"{'#'*30}\\nStarting Fold {fold}\\n{'#'*30}\")\n",
    "\n",
    "    # Prepare datasets and dataloaders\n",
    "    df_train = train_df.iloc[trn_idx]\n",
    "    df_valid = train_df.iloc[val_idx]\n",
    "\n",
    "    train_ds = GoogleLandmarksDataset(df_train, class_name_to_idx=class_name_to_idx, transform=transforms_train)\n",
    "    valid_ds = GoogleLandmarksDataset(df_valid, class_name_to_idx=class_name_to_idx, transform=transforms_val)\n",
    "\n",
    "    train_dl = DataLoader(train_ds, batch_size=BATCH_SIZE, shuffle=True, num_workers=N_WORKERS, drop_last=True, pin_memory=True)\n",
    "    valid_dl = DataLoader(valid_ds, batch_size=BATCH_SIZE*2, shuffle=False, num_workers=N_WORKERS, drop_last=False, pin_memory=True)\n",
    "\n",
    "    best_val_loss = float('inf')\n",
    "    patience_counter = 0\n",
    "\n",
    "    for epoch in range(EPOCHS):\n",
    "        train_loss, train_metrics = train_epoch(\n",
    "            model=distillation_model,\n",
    "            train_loader=train_dl,\n",
    "            criterion=EnhancedDistillationLoss(Config()),\n",
    "            optimizer=optimizer,\n",
    "            config=Config(),\n",
    "            scheduler=scheduler\n",
    "        )\n",
    "\n",
    "        val_loss, val_metrics = validate_epoch(\n",
    "            model=distillation_model,\n",
    "            val_loader=valid_dl,\n",
    "            criterion=EnhancedDistillationLoss(Config()),\n",
    "            config=Config()\n",
    "        )\n",
    "\n",
    "        print(f\"Epoch {epoch+1} | Train Loss: {train_loss:.4f} | Val Loss: {val_loss:.4f} | \"\n",
    "              f\"Top1 Acc: {val_metrics['top1_acc']:.2f} | Top5 Acc: {val_metrics['top5_acc']:.2f}\")\n",
    "\n",
    "        if val_loss < best_val_loss:\n",
    "            best_val_loss = val_loss\n",
    "            patience_counter = 0\n",
    "            torch.save({\n",
    "                'fold': fold,\n",
    "                'epoch': epoch,\n",
    "                'model_state_dict': distillation_model.state_dict(),\n",
    "                'optimizer_state_dict': optimizer.state_dict(),\n",
    "                'val_loss': val_loss,\n",
    "            }, f'{OUTPUT_DIR}/best_model_fold{fold}.pth')\n",
    "        else:\n",
    "            patience_counter += 1\n",
    "            if patience_counter >= patience:\n",
    "                print(f\"Early stopping triggered at epoch {epoch+1}\")\n",
    "                break\n",
    "\n",
    "    fold_metrics.append({\n",
    "        'fold': fold,\n",
    "        'train_loss': train_loss,\n",
    "        'val_loss': val_loss,\n",
    "        'top1_acc': val_metrics['top1_acc'],\n",
    "        'top5_acc': val_metrics['top5_acc'],\n",
    "        'top10_acc': val_metrics['top10_acc'],\n",
    "    })\n",
    "\n",
    "# Print overall metrics\n",
    "print(\"Summary of Fold Metrics:\")\n",
    "for metric in fold_metrics:\n",
    "    print(metric)"
   ]
  }
 ],
 "metadata": {
  "kaggle": {
   "accelerator": "nvidiaTeslaT4",
   "dataSources": [
    {
     "datasetId": 5883095,
     "sourceId": 9635661,
     "sourceType": "datasetVersion"
    },
    {
     "datasetId": 5883097,
     "sourceId": 9635664,
     "sourceType": "datasetVersion"
    },
    {
     "datasetId": 5883577,
     "sourceId": 9636294,
     "sourceType": "datasetVersion"
    },
    {
     "datasetId": 5883578,
     "sourceId": 9636295,
     "sourceType": "datasetVersion"
    },
    {
     "datasetId": 5883713,
     "sourceId": 9636477,
     "sourceType": "datasetVersion"
    },
    {
     "datasetId": 5882766,
     "sourceId": 9720780,
     "sourceType": "datasetVersion"
    },
    {
     "datasetId": 5935937,
     "sourceId": 9828230,
     "sourceType": "datasetVersion"
    },
    {
     "datasetId": 6123513,
     "sourceId": 9956472,
     "sourceType": "datasetVersion"
    },
    {
     "sourceId": 204129443,
     "sourceType": "kernelVersion"
    },
    {
     "sourceId": 205653461,
     "sourceType": "kernelVersion"
    },
    {
     "sourceId": 207864204,
     "sourceType": "kernelVersion"
    }
   ],
   "dockerImageVersionId": 30787,
   "isGpuEnabled": true,
   "isInternetEnabled": true,
   "language": "python",
   "sourceType": "notebook"
  },
  "kernelspec": {
   "display_name": "Python 3",
   "language": "python",
   "name": "python3"
  },
  "language_info": {
   "codemirror_mode": {
    "name": "ipython",
    "version": 3
   },
   "file_extension": ".py",
   "mimetype": "text/x-python",
   "name": "python",
   "nbconvert_exporter": "python",
   "pygments_lexer": "ipython3",
   "version": "3.10.14"
  },
  "papermill": {
   "default_parameters": {},
   "duration": 6172.471954,
   "end_time": "2024-11-22T22:06:43.499543",
   "environment_variables": {},
   "exception": null,
   "input_path": "__notebook__.ipynb",
   "output_path": "__notebook__.ipynb",
   "parameters": {},
   "start_time": "2024-11-22T20:23:51.027589",
   "version": "2.6.0"
  },
  "widgets": {
   "application/vnd.jupyter.widget-state+json": {
    "state": {
     "07e9dcf53144471aa5314f3549b4d72e": {
      "model_module": "@jupyter-widgets/controls",
      "model_module_version": "1.5.0",
      "model_name": "DescriptionStyleModel",
      "state": {
       "_model_module": "@jupyter-widgets/controls",
       "_model_module_version": "1.5.0",
       "_model_name": "DescriptionStyleModel",
       "_view_count": null,
       "_view_module": "@jupyter-widgets/base",
       "_view_module_version": "1.2.0",
       "_view_name": "StyleView",
       "description_width": ""
      }
     },
     "2c8c97058cf6411ebaa0a8e5ff098c1a": {
      "model_module": "@jupyter-widgets/controls",
      "model_module_version": "1.5.0",
      "model_name": "DescriptionStyleModel",
      "state": {
       "_model_module": "@jupyter-widgets/controls",
       "_model_module_version": "1.5.0",
       "_model_name": "DescriptionStyleModel",
       "_view_count": null,
       "_view_module": "@jupyter-widgets/base",
       "_view_module_version": "1.2.0",
       "_view_name": "StyleView",
       "description_width": ""
      }
     },
     "4392762e3074403ea14597734b07bd3b": {
      "model_module": "@jupyter-widgets/controls",
      "model_module_version": "1.5.0",
      "model_name": "FloatProgressModel",
      "state": {
       "_dom_classes": [],
       "_model_module": "@jupyter-widgets/controls",
       "_model_module_version": "1.5.0",
       "_model_name": "FloatProgressModel",
       "_view_count": null,
       "_view_module": "@jupyter-widgets/controls",
       "_view_module_version": "1.5.0",
       "_view_name": "ProgressView",
       "bar_style": "success",
       "description": "",
       "description_tooltip": null,
       "layout": "IPY_MODEL_fd36eec0aed24642b979f20bf704f49d",
       "max": 46807446.0,
       "min": 0.0,
       "orientation": "horizontal",
       "style": "IPY_MODEL_601c614972cf47fc948b6bb5876be7d0",
       "value": 46807446.0
      }
     },
     "5c8c98dd09594e0caa9163d046e3ff5a": {
      "model_module": "@jupyter-widgets/controls",
      "model_module_version": "1.5.0",
      "model_name": "HTMLModel",
      "state": {
       "_dom_classes": [],
       "_model_module": "@jupyter-widgets/controls",
       "_model_module_version": "1.5.0",
       "_model_name": "HTMLModel",
       "_view_count": null,
       "_view_module": "@jupyter-widgets/controls",
       "_view_module_version": "1.5.0",
       "_view_name": "HTMLView",
       "description": "",
       "description_tooltip": null,
       "layout": "IPY_MODEL_5efe7609569e4c468b58c3b50f336e2f",
       "placeholder": "​",
       "style": "IPY_MODEL_07e9dcf53144471aa5314f3549b4d72e",
       "value": " 46.8M/46.8M [00:00&lt;00:00, 190MB/s]"
      }
     },
     "5efe7609569e4c468b58c3b50f336e2f": {
      "model_module": "@jupyter-widgets/base",
      "model_module_version": "1.2.0",
      "model_name": "LayoutModel",
      "state": {
       "_model_module": "@jupyter-widgets/base",
       "_model_module_version": "1.2.0",
       "_model_name": "LayoutModel",
       "_view_count": null,
       "_view_module": "@jupyter-widgets/base",
       "_view_module_version": "1.2.0",
       "_view_name": "LayoutView",
       "align_content": null,
       "align_items": null,
       "align_self": null,
       "border": null,
       "bottom": null,
       "display": null,
       "flex": null,
       "flex_flow": null,
       "grid_area": null,
       "grid_auto_columns": null,
       "grid_auto_flow": null,
       "grid_auto_rows": null,
       "grid_column": null,
       "grid_gap": null,
       "grid_row": null,
       "grid_template_areas": null,
       "grid_template_columns": null,
       "grid_template_rows": null,
       "height": null,
       "justify_content": null,
       "justify_items": null,
       "left": null,
       "margin": null,
       "max_height": null,
       "max_width": null,
       "min_height": null,
       "min_width": null,
       "object_fit": null,
       "object_position": null,
       "order": null,
       "overflow": null,
       "overflow_x": null,
       "overflow_y": null,
       "padding": null,
       "right": null,
       "top": null,
       "visibility": null,
       "width": null
      }
     },
     "601c614972cf47fc948b6bb5876be7d0": {
      "model_module": "@jupyter-widgets/controls",
      "model_module_version": "1.5.0",
      "model_name": "ProgressStyleModel",
      "state": {
       "_model_module": "@jupyter-widgets/controls",
       "_model_module_version": "1.5.0",
       "_model_name": "ProgressStyleModel",
       "_view_count": null,
       "_view_module": "@jupyter-widgets/base",
       "_view_module_version": "1.2.0",
       "_view_name": "StyleView",
       "bar_color": null,
       "description_width": ""
      }
     },
     "7b202669f9704540892af12e2b11c8d5": {
      "model_module": "@jupyter-widgets/controls",
      "model_module_version": "1.5.0",
      "model_name": "HTMLModel",
      "state": {
       "_dom_classes": [],
       "_model_module": "@jupyter-widgets/controls",
       "_model_module_version": "1.5.0",
       "_model_name": "HTMLModel",
       "_view_count": null,
       "_view_module": "@jupyter-widgets/controls",
       "_view_module_version": "1.5.0",
       "_view_name": "HTMLView",
       "description": "",
       "description_tooltip": null,
       "layout": "IPY_MODEL_ae38746689ff4558ae87327e13b9687f",
       "placeholder": "​",
       "style": "IPY_MODEL_2c8c97058cf6411ebaa0a8e5ff098c1a",
       "value": "model.safetensors: 100%"
      }
     },
     "8203ce92fc734c5e87234aceedc431fc": {
      "model_module": "@jupyter-widgets/base",
      "model_module_version": "1.2.0",
      "model_name": "LayoutModel",
      "state": {
       "_model_module": "@jupyter-widgets/base",
       "_model_module_version": "1.2.0",
       "_model_name": "LayoutModel",
       "_view_count": null,
       "_view_module": "@jupyter-widgets/base",
       "_view_module_version": "1.2.0",
       "_view_name": "LayoutView",
       "align_content": null,
       "align_items": null,
       "align_self": null,
       "border": null,
       "bottom": null,
       "display": null,
       "flex": null,
       "flex_flow": null,
       "grid_area": null,
       "grid_auto_columns": null,
       "grid_auto_flow": null,
       "grid_auto_rows": null,
       "grid_column": null,
       "grid_gap": null,
       "grid_row": null,
       "grid_template_areas": null,
       "grid_template_columns": null,
       "grid_template_rows": null,
       "height": null,
       "justify_content": null,
       "justify_items": null,
       "left": null,
       "margin": null,
       "max_height": null,
       "max_width": null,
       "min_height": null,
       "min_width": null,
       "object_fit": null,
       "object_position": null,
       "order": null,
       "overflow": null,
       "overflow_x": null,
       "overflow_y": null,
       "padding": null,
       "right": null,
       "top": null,
       "visibility": null,
       "width": null
      }
     },
     "ae38746689ff4558ae87327e13b9687f": {
      "model_module": "@jupyter-widgets/base",
      "model_module_version": "1.2.0",
      "model_name": "LayoutModel",
      "state": {
       "_model_module": "@jupyter-widgets/base",
       "_model_module_version": "1.2.0",
       "_model_name": "LayoutModel",
       "_view_count": null,
       "_view_module": "@jupyter-widgets/base",
       "_view_module_version": "1.2.0",
       "_view_name": "LayoutView",
       "align_content": null,
       "align_items": null,
       "align_self": null,
       "border": null,
       "bottom": null,
       "display": null,
       "flex": null,
       "flex_flow": null,
       "grid_area": null,
       "grid_auto_columns": null,
       "grid_auto_flow": null,
       "grid_auto_rows": null,
       "grid_column": null,
       "grid_gap": null,
       "grid_row": null,
       "grid_template_areas": null,
       "grid_template_columns": null,
       "grid_template_rows": null,
       "height": null,
       "justify_content": null,
       "justify_items": null,
       "left": null,
       "margin": null,
       "max_height": null,
       "max_width": null,
       "min_height": null,
       "min_width": null,
       "object_fit": null,
       "object_position": null,
       "order": null,
       "overflow": null,
       "overflow_x": null,
       "overflow_y": null,
       "padding": null,
       "right": null,
       "top": null,
       "visibility": null,
       "width": null
      }
     },
     "c5ddd36266a545b78f15b8d7bdfabd56": {
      "model_module": "@jupyter-widgets/controls",
      "model_module_version": "1.5.0",
      "model_name": "HBoxModel",
      "state": {
       "_dom_classes": [],
       "_model_module": "@jupyter-widgets/controls",
       "_model_module_version": "1.5.0",
       "_model_name": "HBoxModel",
       "_view_count": null,
       "_view_module": "@jupyter-widgets/controls",
       "_view_module_version": "1.5.0",
       "_view_name": "HBoxView",
       "box_style": "",
       "children": [
        "IPY_MODEL_7b202669f9704540892af12e2b11c8d5",
        "IPY_MODEL_4392762e3074403ea14597734b07bd3b",
        "IPY_MODEL_5c8c98dd09594e0caa9163d046e3ff5a"
       ],
       "layout": "IPY_MODEL_8203ce92fc734c5e87234aceedc431fc"
      }
     },
     "fd36eec0aed24642b979f20bf704f49d": {
      "model_module": "@jupyter-widgets/base",
      "model_module_version": "1.2.0",
      "model_name": "LayoutModel",
      "state": {
       "_model_module": "@jupyter-widgets/base",
       "_model_module_version": "1.2.0",
       "_model_name": "LayoutModel",
       "_view_count": null,
       "_view_module": "@jupyter-widgets/base",
       "_view_module_version": "1.2.0",
       "_view_name": "LayoutView",
       "align_content": null,
       "align_items": null,
       "align_self": null,
       "border": null,
       "bottom": null,
       "display": null,
       "flex": null,
       "flex_flow": null,
       "grid_area": null,
       "grid_auto_columns": null,
       "grid_auto_flow": null,
       "grid_auto_rows": null,
       "grid_column": null,
       "grid_gap": null,
       "grid_row": null,
       "grid_template_areas": null,
       "grid_template_columns": null,
       "grid_template_rows": null,
       "height": null,
       "justify_content": null,
       "justify_items": null,
       "left": null,
       "margin": null,
       "max_height": null,
       "max_width": null,
       "min_height": null,
       "min_width": null,
       "object_fit": null,
       "object_position": null,
       "order": null,
       "overflow": null,
       "overflow_x": null,
       "overflow_y": null,
       "padding": null,
       "right": null,
       "top": null,
       "visibility": null,
       "width": null
      }
     }
    },
    "version_major": 2,
    "version_minor": 0
   }
  }
 },
 "nbformat": 4,
 "nbformat_minor": 5
}
